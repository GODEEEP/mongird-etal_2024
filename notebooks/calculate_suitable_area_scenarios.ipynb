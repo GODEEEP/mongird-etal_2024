{
 "cells": [
  {
   "cell_type": "markdown",
   "id": "023c2ecb-e01f-4645-984c-b5ae76380fbd",
   "metadata": {},
   "source": [
    "# Wind and Solar Suitability Analysis\n",
    "\n",
    "### Scientific Question Addressed: \n",
    "If DAC areas, important farmland, and all areas within proximity to natural areas are excluded from siting, how much land is available for siting? Is there enough land available to reach clean grid goals given capacity expansion projections?\n",
    "\n",
    "### This notebook calculates the following items referenced in the paper:\n",
    "\n",
    "* Available Land by State for Wind and Solar under Baseline Exclusions\n",
    "* Available Land by State for Wind and Solar under Baseline Exclusions + Exclusion of DAC areas\n",
    "* Available Land by State for Wind and Solar under Baseline Exclusions + Exclusion of Important Farmland areas \n",
    "* Available Land by State for Wind and Solar under Baseline Exclusions + Exclusion of Areas Surrounding Natural Areas (1, 5, 10km distance)\n",
    "* Available Land by State for Wind and Solar under Baseline Exclusions + Exclusion of DAC areas, Important Farmland, and Areas within 5km of Natural Areas \n",
    "* Available Land by State for Wind and Solar under Baseline Exclusions + Exclusion of Important Farmland and Areas within 5km of Natural Areas \n",
    "* Available Land by State for Wind and Solar under Baseline Exclusions + Exclusion of Important Farmland and Areas within 10km of Natural Areas \n",
    "\n",
    "\n",
    "## Raster Data\n",
    "\n",
    "Most of the raster data used for this analysis is from the GRIDCERF geospatial database v1.0.0, accessible at https://zenodo.org/records/6601790. Additional raster data from GRICERF v2.0.0 was used to supplement the dataset, accessible at: https://doi.org/10.57931/2281697.To prepare data for analysis, all raster data is clipped to the western interconnection boundary extent.\n",
    "\n",
    "For information on the specific data layers included in the composite layers for DAC areas, Important Farmland, and Natural Area layers, see the `calculate_intersections.ipynb` notebook.\n",
    "\n",
    "Baseline wind and solar suitability used for this analysis corresponds with data in GRIDCERF v2.0. The GRIDCERF database provides composite technology suitability raster data for renewables based on an assumed capacity factor where areas that are not able to support the indicated capacity factor are unsuitable for siting. The capacity factor layer used for each individual state in the GODEEEP infrastructure experiment is used as the baseline layer in this analysis. \n",
    "\n",
    "The suitability layer chosen within the GODEEEP experiment was dynamically determined based on the amount of capacity to be sited in a given state and whether a given suitability layer could support the deployment given the assumed power density of the technology. For example, if 2000 MW of wind needs to be sited in a given state, corresponding to 2000/x square km of land, where x is equal to the power density per square km of wind assumed, and only half the square km of land is suitable at the given capacity factor level, then the next lower capacity factor level is assessed to open up more space. This process is repeated until a suitability layer is chosen such that there is enough land available for siting in a given run year. As a result, states will used different suitability layers for siting. We use the suitability layers used in the GODEEEP experiment for each state for the year 2030 in this analysis, corresponding to a 100m hub height and a power density of 12 MW/square km (3 turbines). The corresponding capacity factors by technology and state are provided in the `state_settings_dict` in this notebook.\n",
    "\n",
    "The composite rasters for wind include, among other exclusions:\n",
    "\n",
    "*  all commonly applied protected areas\n",
    "*  Airports and surrounding areas\n",
    "*  Areas with slope > 20%\n",
    "*  NOAA radar stations + a 5 mile buffer\n",
    "*  Densely populated areas\n",
    "\n",
    "The composite rasters for solar pv include, among other excluded areas:\n",
    "\n",
    "*  all commonly applied protected areas\n",
    "*  Airports\n",
    "*  Areas with slope > 10%\n",
    "*  Densely populated areas\n",
    "\n",
    "For the complete list of data included within the composite Solar PV and Wind layers, refer to the GRIDCERF metadata.\n",
    "\n",
    "<h2> Methodology</h2>\n",
    "\n",
    "To identify how much land is available for siting under various conditions, we go through the following steps:\n",
    "<ol>\n",
    "    <li> Load raster data for desired evaluation layer (e.g., DAC areas)</li>\n",
    "    <li> Load raster data corresponding to individual state areas </li>\n",
    "    <li> Load raster data corresponding to wind or solar suitability for appropriate capacity factor for given state </li>\n",
    "    <li> Create a composite layer combining evaluation layer(s) and the baseline suitability layer for the given technology</li>\n",
    "    <li> Using the state raster area, select grid cells only within the given state boundary and sum available area</li>\n",
    "</ol>\n",
    "\n",
    "**Note:** To be able to combine multiple rasters (e.g., baseline + DACs), all rasters must have the same shape. The rasters used in this notebook have all been clipped to the western interconnection area. Any additional rasters used with this notebook should be clipped to the same extent."
   ]
  },
  {
   "cell_type": "markdown",
   "id": "818d0948-3457-44d7-b910-a74a7784b971",
   "metadata": {},
   "source": [
    "## Imports"
   ]
  },
  {
   "cell_type": "code",
   "execution_count": 1,
   "id": "1aee8711-bb61-4e57-98ee-aa5046165be2",
   "metadata": {},
   "outputs": [],
   "source": [
    "import pandas as pd\n",
    "import geopandas as gpd\n",
    "import numpy as np\n",
    "import shapely\n",
    "from shapely import Point\n",
    "\n",
    "import rasterio\n",
    "from rasterio.plot import show\n",
    "\n",
    "import os\n",
    "from pathlib import Path"
   ]
  },
  {
   "cell_type": "markdown",
   "id": "c3367d0c-74c4-44e7-91b0-23a82ca888f5",
   "metadata": {},
   "source": [
    "## File Paths"
   ]
  },
  {
   "cell_type": "code",
   "execution_count": 2,
   "id": "66f25b4a-8358-445c-9c07-40c99e7d59df",
   "metadata": {},
   "outputs": [],
   "source": [
    "year = 2050\n",
    "\n",
    "# data dir\n",
    "data_dir = os.path.join(os.path.dirname(os.getcwd()), 'data', 'input_data')\n",
    "\n",
    "# output data dir\n",
    "output_dir = os.path.join(os.path.dirname(os.getcwd()), 'data', 'output_data')\n",
    "\n",
    "# raster dir\n",
    "raster_dir = os.path.join(data_dir, 'raster_data')\n",
    "\n",
    "# state raster path\n",
    "state_raster_path = os.path.join(raster_dir, 'state_raster', 'state_raster.tif')\n",
    "\n",
    "# suitability raster dir\n",
    "suit_dir = os.path.join(raster_dir, 'suitability')\n",
    "\n",
    "# dac raster path\n",
    "dac_raster_path = os.path.join(raster_dir, 'disadvantaged_communities', 'west_usceq_combined_vulnerable_communities.tif')\n",
    "\n",
    "# farmland raster path\n",
    "farm_raster_path = os.path.join(raster_dir, 'important_farmland', 'west_usda_combined_important_farmland.tif')\n",
    "\n",
    "# env raster path\n",
    "env_1km_raster_path = os.path.join(raster_dir, 'environmental', 'onshore_areas_only', 'west_analysis_combined_environment_1buff.tif')\n",
    "env_5km_raster_path = os.path.join(raster_dir, 'environmental',  'onshore_areas_only','west_analysis_combined_environment_5buff.tif')\n",
    "env_10km_raster_path = os.path.join(raster_dir, 'environmental',  'onshore_areas_only', 'west_analysis_combined_environment_10buff.tif')\n",
    "\n",
    "# infrastructure siting output csv\n",
    "infrastucture_path = os.path.join(data_dir,  'infrastructure_data_csv', f'infrastructure_data_{year}.csv')"
   ]
  },
  {
   "cell_type": "markdown",
   "id": "49ea8605-929c-4f76-91cf-78edce8b83be",
   "metadata": {},
   "source": [
    "## Functions"
   ]
  },
  {
   "cell_type": "code",
   "execution_count": 3,
   "id": "337f1695-f4d7-4b3c-a483-cb73c77d1076",
   "metadata": {},
   "outputs": [],
   "source": [
    "def calculate_wind_land_area(exclusion_list, output_dict, tech_type, analysis_name='dac', show_array=True):\n",
    "    \"\"\"\n",
    "    For a given list of raster data, this function combines each of the layers with the assumed baseline \n",
    "    suitability raster for the technology indicated (wind or solar). From the composite siting suitability\n",
    "    layer, a conus state raster is used to subselect areas within each individual state and summing the\n",
    "    total amount of composite land (km^2) that is available for siting that technology.\n",
    "\n",
    "    :param exclusion_list:           list of paths to raster data to include in the composite suitability\n",
    "    :type exclusion_list:            list\n",
    "\n",
    "    :param output_dict:              prepared dictionary where output should be stored for each state\n",
    "    :type output_dict:               dict\n",
    "\n",
    "    :param tech_type:                type of technology being evaluated, solar or wind\n",
    "    :type tech_type:                 str\n",
    "\n",
    "    :param analysis_name:            name of specific analysis corresponding to prepared output dictionary\n",
    "    :type analysis_name:             str\n",
    "\n",
    "    :param show_array:               if true, will plot the composite siting suitability for the given state\n",
    "    :type show_array:                bool\n",
    "    \n",
    "    \n",
    "    \"\"\"\n",
    "    # open state raster file\n",
    "    conus_array = rasterio.open(state_raster_path).read(1)\n",
    "    \n",
    "    for state in list(output_dict.keys()):\n",
    "        state_id = state_settings_dict[state]['id_no']\n",
    "        capacity_factor = state_settings_dict[state][tech_type]\n",
    "\n",
    "        if tech_type == 'Solar PV':\n",
    "            suit_file_path = os.path.join(suit_dir, f'gridcerf_solar_pv_centralized_no-cooling_{capacity_factor}cf.tif')\n",
    "        elif tech_type == 'Wind':\n",
    "            suit_file_path = os.path.join(suit_dir, f'gridcerf_wind_onshore_hubheight100_no-cooling_{capacity_factor}cf.tif')\n",
    "        else:\n",
    "            print('tech_type not supported')\n",
    "    \n",
    "        # open suitability file\n",
    "        suit_array = rasterio.open(suit_file_path).read(1)\n",
    "        suit_array = np.where(suit_array==1, 1, 0)\n",
    "\n",
    "        # iterate through raster data in exclusion list and apply to baseline suitability\n",
    "        for exc in exclusion_list:\n",
    "            exclusion_array = rasterio.open(exc).read(1)\n",
    "            exclusion_array = np.where(exclusion_array==1, 1, 0)\n",
    "    \n",
    "            suit_array += exclusion_array\n",
    "            suit_array = np.where(suit_array >= 1, 1, 0)\n",
    "    \n",
    "        # invert suitability\n",
    "        suit_array = np.where(suit_array==1, 0, 1)\n",
    "    \n",
    "        # select state area from conus raster\n",
    "        state_array = np.where(conus_array==state_id, 1, 0)\n",
    "        \n",
    "        # calculate state suitability\n",
    "        suit_array *= state_array\n",
    "    \n",
    "        # get sum of available area\n",
    "        total_area_km = suit_array.sum()\n",
    "    \n",
    "        # add available area to output dictionary\n",
    "        output_dict[state][tech_type][analysis_name] = total_area_km\n",
    "    \n",
    "        print(f'{tech_type} suitability under {analysis_name} exclusions within {state} is {total_area_km} square km')\n",
    "\n",
    "        if show_array:\n",
    "            show(suit_array)\n",
    "        else:\n",
    "            pass\n",
    "    return None"
   ]
  },
  {
   "cell_type": "markdown",
   "id": "511f365a-8007-4773-83ed-dbce02e058f8",
   "metadata": {},
   "source": [
    "## Settings"
   ]
  },
  {
   "cell_type": "code",
   "execution_count": 4,
   "id": "df0f4c37-f06e-4b05-a277-7dc7715d2a91",
   "metadata": {},
   "outputs": [],
   "source": [
    "# dictionary of wind capacity factor assumped, solar capacity factor assumed, and id number for each state\n",
    "\n",
    "state_settings_dict={\n",
    "    'arizona': {'Wind': 25,'Solar PV': 18, 'id_no': 4},\n",
    "    'california': {'Wind': 20,'Solar PV': 16, 'id_no': 6},\n",
    "    'colorado':{'Wind': 30,'Solar PV': 18, 'id_no': 8},\n",
    "    'idaho':{'Wind': 25,'Solar PV': 14, 'id_no': 16},\n",
    "    'montana':{'Wind': 30,'Solar PV': 14, 'id_no': 30},\n",
    "    'new_mexico':{'Wind': 30,'Solar PV': 18, 'id_no': 35},\n",
    "    'nevada':{'Wind': 25,'Solar PV': 18, 'id_no': 32},\n",
    "    'oregon':{'Wind': 25, 'Solar PV': 14, 'id_no':41},\n",
    "    'utah':{'Wind': 25,'Solar PV': 16, 'id_no': 49},\n",
    "    'washington':{'Wind': 25, 'Solar PV': 12, 'id_no': 53},\n",
    "    'wyoming':{'Wind': 30,'Solar PV': 14, 'id_no': 56}}\n"
   ]
  },
  {
   "cell_type": "code",
   "execution_count": 5,
   "id": "ff53ab2d-672b-4cfa-82df-ad7bb31a20bc",
   "metadata": {},
   "outputs": [],
   "source": [
    "# prepare output dictionary to store analysis values\n",
    "output_dict={\n",
    "    'arizona': {},\n",
    "    'california': {},\n",
    "    'colorado':{},\n",
    "    'idaho':{},\n",
    "    'montana':{},\n",
    "    'new_mexico':{},\n",
    "    'nevada':{},\n",
    "    'oregon':{},\n",
    "    'utah':{},\n",
    "    'washington':{},\n",
    "    'wyoming':{}\n",
    "}\n",
    "for state in output_dict:\n",
    "    output_dict[state].update({'Wind':{}, 'Solar PV': {}})\n",
    "    \n",
    "    for i in output_dict[state]:\n",
    "        output_dict[state][i].update({'baseline':[], 'dac': [], 'farmland':[], \n",
    "                                      'env_1km':[], 'env_5km':[], 'env_10km':[], \n",
    "                                      'dac_farm_env5km':[], 'farm_env5km':[], 'farm_env10km':[]})"
   ]
  },
  {
   "cell_type": "markdown",
   "id": "6c8715c7-c43d-4665-867f-1c182a6aae6d",
   "metadata": {},
   "source": [
    "# Wind"
   ]
  },
  {
   "cell_type": "markdown",
   "id": "8470afa3-5be8-405f-951b-9f7439554a6c",
   "metadata": {},
   "source": [
    "## Baseline Siting Availability\n",
    "\n",
    "How much land is available for siting with no additional restrictions in each state?"
   ]
  },
  {
   "cell_type": "code",
   "execution_count": 6,
   "id": "f05cb13c-15a5-4ecd-98f3-7417591ba375",
   "metadata": {},
   "outputs": [
    {
     "name": "stdout",
     "output_type": "stream",
     "text": [
      "Wind suitability under baseline exclusions within arizona is 5477 square km\n"
     ]
    },
    {
     "data": {
      "image/png": "[encoded data removed]",
      "text/plain": [
       "<Figure size 640x480 with 1 Axes>"
      ]
     },
     "metadata": {},
     "output_type": "display_data"
    },
    {
     "name": "stdout",
     "output_type": "stream",
     "text": [
      "Wind suitability under baseline exclusions within california is 9514 square km\n"
     ]
    },
    {
     "data": {
      "image/png": "[encoded data removed]",
      "text/plain": [
       "<Figure size 640x480 with 1 Axes>"
      ]
     },
     "metadata": {},
     "output_type": "display_data"
    },
    {
     "name": "stdout",
     "output_type": "stream",
     "text": [
      "Wind suitability under baseline exclusions within colorado is 34116 square km\n"
     ]
    },
    {
     "data": {
      "image/png": "[encoded data removed]",
      "text/plain": [
       "<Figure size 640x480 with 1 Axes>"
      ]
     },
     "metadata": {},
     "output_type": "display_data"
    },
    {
     "name": "stdout",
     "output_type": "stream",
     "text": [
      "Wind suitability under baseline exclusions within idaho is 3329 square km\n"
     ]
    },
    {
     "data": {
      "image/png": "[encoded data removed]",
      "text/plain": [
       "<Figure size 640x480 with 1 Axes>"
      ]
     },
     "metadata": {},
     "output_type": "display_data"
    },
    {
     "name": "stdout",
     "output_type": "stream",
     "text": [
      "Wind suitability under baseline exclusions within montana is 95935 square km\n"
     ]
    },
    {
     "data": {
      "image/png": "[encoded data removed]",
      "text/plain": [
       "<Figure size 640x480 with 1 Axes>"
      ]
     },
     "metadata": {},
     "output_type": "display_data"
    },
    {
     "name": "stdout",
     "output_type": "stream",
     "text": [
      "Wind suitability under baseline exclusions within new_mexico is 53510 square km\n"
     ]
    },
    {
     "data": {
      "image/png": "[encoded data removed]",
      "text/plain": [
       "<Figure size 640x480 with 1 Axes>"
      ]
     },
     "metadata": {},
     "output_type": "display_data"
    },
    {
     "name": "stdout",
     "output_type": "stream",
     "text": [
      "Wind suitability under baseline exclusions within nevada is 5545 square km\n"
     ]
    },
    {
     "data": {
      "image/png": "[encoded data removed]",
      "text/plain": [
       "<Figure size 640x480 with 1 Axes>"
      ]
     },
     "metadata": {},
     "output_type": "display_data"
    },
    {
     "name": "stdout",
     "output_type": "stream",
     "text": [
      "Wind suitability under baseline exclusions within oregon is 6434 square km\n"
     ]
    },
    {
     "data": {
      "image/png": "[encoded data removed]",
      "text/plain": [
       "<Figure size 640x480 with 1 Axes>"
      ]
     },
     "metadata": {},
     "output_type": "display_data"
    },
    {
     "name": "stdout",
     "output_type": "stream",
     "text": [
      "Wind suitability under baseline exclusions within utah is 2860 square km\n"
     ]
    },
    {
     "data": {
      "image/png": "[encoded data removed]",
      "text/plain": [
       "<Figure size 640x480 with 1 Axes>"
      ]
     },
     "metadata": {},
     "output_type": "display_data"
    },
    {
     "name": "stdout",
     "output_type": "stream",
     "text": [
      "Wind suitability under baseline exclusions within washington is 5392 square km\n"
     ]
    },
    {
     "data": {
      "image/png": "[encoded data removed]",
      "text/plain": [
       "<Figure size 640x480 with 1 Axes>"
      ]
     },
     "metadata": {},
     "output_type": "display_data"
    },
    {
     "name": "stdout",
     "output_type": "stream",
     "text": [
      "Wind suitability under baseline exclusions within wyoming is 74324 square km\n"
     ]
    },
    {
     "data": {
      "image/png": "[encoded data removed]",
      "text/plain": [
       "<Figure size 640x480 with 1 Axes>"
      ]
     },
     "metadata": {},
     "output_type": "display_data"
    }
   ],
   "source": [
    "exclusion_list = []\n",
    "tech_type = 'Wind'\n",
    "analysis_name = 'baseline'\n",
    "\n",
    "calculate_wind_land_area(exclusion_list=exclusion_list, output_dict=output_dict, \n",
    "                         tech_type=tech_type, analysis_name=analysis_name, show_array=True)"
   ]
  },
  {
   "cell_type": "markdown",
   "id": "3cca1cab-8dc5-4689-a24e-2b5411247c88",
   "metadata": {},
   "source": [
    "## DAC areas excluded"
   ]
  },
  {
   "cell_type": "code",
   "execution_count": 7,
   "id": "a5bd7496-cf93-49d2-a57d-e47475515f5f",
   "metadata": {},
   "outputs": [
    {
     "name": "stdout",
     "output_type": "stream",
     "text": [
      "Wind suitability under dac exclusions within arizona is 1371 square km\n",
      "Wind suitability under dac exclusions within california is 4789 square km\n",
      "Wind suitability under dac exclusions within colorado is 14401 square km\n",
      "Wind suitability under dac exclusions within idaho is 1075 square km\n",
      "Wind suitability under dac exclusions within montana is 46731 square km\n",
      "Wind suitability under dac exclusions within new_mexico is 4687 square km\n",
      "Wind suitability under dac exclusions within nevada is 4545 square km\n",
      "Wind suitability under dac exclusions within oregon is 2122 square km\n",
      "Wind suitability under dac exclusions within utah is 2048 square km\n",
      "Wind suitability under dac exclusions within washington is 3102 square km\n",
      "Wind suitability under dac exclusions within wyoming is 62770 square km\n"
     ]
    }
   ],
   "source": [
    "exclusion_list = [dac_raster_path]\n",
    "tech_type = 'Wind'\n",
    "analysis_name = 'dac'\n",
    "\n",
    "calculate_wind_land_area(exclusion_list=exclusion_list, output_dict=output_dict, \n",
    "                         tech_type=tech_type, analysis_name=analysis_name, show_array=False)"
   ]
  },
  {
   "cell_type": "markdown",
   "id": "b2fcb937-b947-452f-9d53-4c76d53104de",
   "metadata": {},
   "source": [
    "## Important farmland areas excluded"
   ]
  },
  {
   "cell_type": "code",
   "execution_count": 8,
   "id": "ee692332-f906-4b9f-867e-98b33e8facc6",
   "metadata": {},
   "outputs": [
    {
     "name": "stdout",
     "output_type": "stream",
     "text": [
      "Wind suitability under farmland exclusions within arizona is 5477 square km\n",
      "Wind suitability under farmland exclusions within california is 9129 square km\n",
      "Wind suitability under farmland exclusions within colorado is 30713 square km\n",
      "Wind suitability under farmland exclusions within idaho is 3309 square km\n",
      "Wind suitability under farmland exclusions within montana is 81764 square km\n",
      "Wind suitability under farmland exclusions within new_mexico is 44208 square km\n",
      "Wind suitability under farmland exclusions within nevada is 5545 square km\n",
      "Wind suitability under farmland exclusions within oregon is 3766 square km\n",
      "Wind suitability under farmland exclusions within utah is 2845 square km\n",
      "Wind suitability under farmland exclusions within washington is 3406 square km\n",
      "Wind suitability under farmland exclusions within wyoming is 73638 square km\n"
     ]
    }
   ],
   "source": [
    "exclusion_list = [farm_raster_path]\n",
    "tech_type = 'Wind'\n",
    "analysis_name = 'farmland'\n",
    "\n",
    "calculate_wind_land_area(exclusion_list=exclusion_list, output_dict=output_dict, \n",
    "                         tech_type=tech_type, analysis_name=analysis_name, show_array=False)"
   ]
  },
  {
   "cell_type": "markdown",
   "id": "ef68a2ba-dc41-44c8-a760-846304f8e5d0",
   "metadata": {},
   "source": [
    "## Areas surrounding natural areas excluded"
   ]
  },
  {
   "cell_type": "markdown",
   "id": "2dbeb0fb-3e45-4e8a-b384-bcf5b06e5233",
   "metadata": {},
   "source": [
    "### Areas within 1-km"
   ]
  },
  {
   "cell_type": "code",
   "execution_count": 9,
   "id": "ba39afcc-dc44-482b-b588-367b15e3d9fb",
   "metadata": {},
   "outputs": [
    {
     "name": "stdout",
     "output_type": "stream",
     "text": [
      "Wind suitability under env_1km exclusions within arizona is 4759 square km\n",
      "Wind suitability under env_1km exclusions within california is 7281 square km\n",
      "Wind suitability under env_1km exclusions within colorado is 33011 square km\n",
      "Wind suitability under env_1km exclusions within idaho is 2950 square km\n",
      "Wind suitability under env_1km exclusions within montana is 83647 square km\n",
      "Wind suitability under env_1km exclusions within new_mexico is 51671 square km\n",
      "Wind suitability under env_1km exclusions within nevada is 4910 square km\n",
      "Wind suitability under env_1km exclusions within oregon is 5148 square km\n",
      "Wind suitability under env_1km exclusions within utah is 2383 square km\n",
      "Wind suitability under env_1km exclusions within washington is 4851 square km\n",
      "Wind suitability under env_1km exclusions within wyoming is 67673 square km\n"
     ]
    }
   ],
   "source": [
    "exclusion_list = [env_1km_raster_path]\n",
    "tech_type = 'Wind'\n",
    "analysis_name = 'env_1km'\n",
    "\n",
    "calculate_wind_land_area(exclusion_list=exclusion_list, output_dict=output_dict, \n",
    "                         tech_type=tech_type, analysis_name=analysis_name, show_array=False)"
   ]
  },
  {
   "cell_type": "markdown",
   "id": "71d69291-8bff-43f1-99d8-93fddf138c35",
   "metadata": {},
   "source": [
    "### Areas within 5-km"
   ]
  },
  {
   "cell_type": "code",
   "execution_count": 10,
   "id": "85eabc18-8c84-4ee0-9421-20357ec9777b",
   "metadata": {},
   "outputs": [
    {
     "name": "stdout",
     "output_type": "stream",
     "text": [
      "Wind suitability under env_5km exclusions within arizona is 3183 square km\n",
      "Wind suitability under env_5km exclusions within california is 2861 square km\n",
      "Wind suitability under env_5km exclusions within colorado is 28073 square km\n",
      "Wind suitability under env_5km exclusions within idaho is 1680 square km\n",
      "Wind suitability under env_5km exclusions within montana is 41428 square km\n",
      "Wind suitability under env_5km exclusions within new_mexico is 44550 square km\n",
      "Wind suitability under env_5km exclusions within nevada is 3411 square km\n",
      "Wind suitability under env_5km exclusions within oregon is 2507 square km\n",
      "Wind suitability under env_5km exclusions within utah is 1413 square km\n",
      "Wind suitability under env_5km exclusions within washington is 2802 square km\n",
      "Wind suitability under env_5km exclusions within wyoming is 41867 square km\n"
     ]
    }
   ],
   "source": [
    "exclusion_list = [env_5km_raster_path]\n",
    "tech_type = 'Wind'\n",
    "analysis_name = 'env_5km'\n",
    "\n",
    "calculate_wind_land_area(exclusion_list=exclusion_list, output_dict=output_dict, \n",
    "                         tech_type=tech_type, analysis_name=analysis_name, show_array=False)"
   ]
  },
  {
   "cell_type": "markdown",
   "id": "0d447dbc-bc65-4d80-9440-45646b60586a",
   "metadata": {},
   "source": [
    "### Areas within 10-km"
   ]
  },
  {
   "cell_type": "code",
   "execution_count": 11,
   "id": "65e7a9f4-c62b-4768-a062-e431ff64caef",
   "metadata": {},
   "outputs": [
    {
     "name": "stdout",
     "output_type": "stream",
     "text": [
      "Wind suitability under env_10km exclusions within arizona is 1896 square km\n",
      "Wind suitability under env_10km exclusions within california is 1047 square km\n",
      "Wind suitability under env_10km exclusions within colorado is 20096 square km\n",
      "Wind suitability under env_10km exclusions within idaho is 565 square km\n",
      "Wind suitability under env_10km exclusions within montana is 14887 square km\n",
      "Wind suitability under env_10km exclusions within new_mexico is 35648 square km\n",
      "Wind suitability under env_10km exclusions within nevada is 2095 square km\n",
      "Wind suitability under env_10km exclusions within oregon is 1090 square km\n",
      "Wind suitability under env_10km exclusions within utah is 905 square km\n",
      "Wind suitability under env_10km exclusions within washington is 1530 square km\n",
      "Wind suitability under env_10km exclusions within wyoming is 20121 square km\n"
     ]
    }
   ],
   "source": [
    "exclusion_list = [env_10km_raster_path]\n",
    "tech_type = 'Wind'\n",
    "analysis_name = 'env_10km'\n",
    "\n",
    "calculate_wind_land_area(exclusion_list=exclusion_list, output_dict=output_dict, \n",
    "                         tech_type=tech_type, analysis_name=analysis_name, show_array=False)"
   ]
  },
  {
   "cell_type": "markdown",
   "id": "1fd8aff6-138c-4903-a696-7582bdb025ff",
   "metadata": {},
   "source": [
    "## Combinations"
   ]
  },
  {
   "cell_type": "markdown",
   "id": "cab5d4a0-7ac3-46c2-b128-8df7b87f5c56",
   "metadata": {},
   "source": [
    "#### DACs, Important Farmland, and Areas within 5km of Natural Areas Excluded"
   ]
  },
  {
   "cell_type": "code",
   "execution_count": 12,
   "id": "9a5147fd-81ac-474d-b27e-3e738f3514a2",
   "metadata": {},
   "outputs": [
    {
     "name": "stdout",
     "output_type": "stream",
     "text": [
      "Wind suitability under dac_farm_env5km exclusions within arizona is 673 square km\n",
      "Wind suitability under dac_farm_env5km exclusions within california is 1981 square km\n",
      "Wind suitability under dac_farm_env5km exclusions within colorado is 11617 square km\n",
      "Wind suitability under dac_farm_env5km exclusions within idaho is 786 square km\n",
      "Wind suitability under dac_farm_env5km exclusions within montana is 18614 square km\n",
      "Wind suitability under dac_farm_env5km exclusions within new_mexico is 3098 square km\n",
      "Wind suitability under dac_farm_env5km exclusions within nevada is 2818 square km\n",
      "Wind suitability under dac_farm_env5km exclusions within oregon is 363 square km\n",
      "Wind suitability under dac_farm_env5km exclusions within utah is 1096 square km\n",
      "Wind suitability under dac_farm_env5km exclusions within washington is 924 square km\n",
      "Wind suitability under dac_farm_env5km exclusions within wyoming is 35729 square km\n"
     ]
    }
   ],
   "source": [
    "exclusion_list = [dac_raster_path, farm_raster_path, env_5km_raster_path]\n",
    "tech_type = 'Wind'\n",
    "analysis_name = 'dac_farm_env5km'\n",
    "\n",
    "calculate_wind_land_area(exclusion_list=exclusion_list, output_dict=output_dict, \n",
    "                         tech_type=tech_type, analysis_name=analysis_name, show_array=False)"
   ]
  },
  {
   "cell_type": "markdown",
   "id": "701bcf91-4bc6-4747-964e-85b611f02059",
   "metadata": {},
   "source": [
    "#### Important Farmland, and Areas within 5km of Natural Areas Excluded"
   ]
  },
  {
   "cell_type": "code",
   "execution_count": 13,
   "id": "6455c237-15f1-44ea-8deb-effe01c1d5db",
   "metadata": {},
   "outputs": [
    {
     "name": "stdout",
     "output_type": "stream",
     "text": [
      "Wind suitability under farm_env5km exclusions within arizona is 3183 square km\n",
      "Wind suitability under farm_env5km exclusions within california is 2781 square km\n",
      "Wind suitability under farm_env5km exclusions within colorado is 25070 square km\n",
      "Wind suitability under farm_env5km exclusions within idaho is 1666 square km\n",
      "Wind suitability under farm_env5km exclusions within montana is 35522 square km\n",
      "Wind suitability under farm_env5km exclusions within new_mexico is 36562 square km\n",
      "Wind suitability under farm_env5km exclusions within nevada is 3411 square km\n",
      "Wind suitability under farm_env5km exclusions within oregon is 1379 square km\n",
      "Wind suitability under farm_env5km exclusions within utah is 1413 square km\n",
      "Wind suitability under farm_env5km exclusions within washington is 1884 square km\n",
      "Wind suitability under farm_env5km exclusions within wyoming is 41395 square km\n"
     ]
    }
   ],
   "source": [
    "exclusion_list = [farm_raster_path, env_5km_raster_path]\n",
    "tech_type = 'Wind'\n",
    "analysis_name = 'farm_env5km'\n",
    "\n",
    "calculate_wind_land_area(exclusion_list=exclusion_list, output_dict=output_dict, \n",
    "                         tech_type=tech_type, analysis_name=analysis_name, show_array=False)"
   ]
  },
  {
   "cell_type": "markdown",
   "id": "c342f954-6e42-47af-9da4-a011022615ca",
   "metadata": {},
   "source": [
    "#### Important Farmland, and Areas within 10km of Natural Areas Excluded"
   ]
  },
  {
   "cell_type": "code",
   "execution_count": 14,
   "id": "3b4095e4-23c6-46fb-a8a7-1e8f5854f90d",
   "metadata": {},
   "outputs": [
    {
     "name": "stdout",
     "output_type": "stream",
     "text": [
      "Wind suitability under farm_env10km exclusions within arizona is 1896 square km\n",
      "Wind suitability under farm_env10km exclusions within california is 1029 square km\n",
      "Wind suitability under farm_env10km exclusions within colorado is 17792 square km\n",
      "Wind suitability under farm_env10km exclusions within idaho is 556 square km\n",
      "Wind suitability under farm_env10km exclusions within montana is 12845 square km\n",
      "Wind suitability under farm_env10km exclusions within new_mexico is 28974 square km\n",
      "Wind suitability under farm_env10km exclusions within nevada is 2095 square km\n",
      "Wind suitability under farm_env10km exclusions within oregon is 548 square km\n",
      "Wind suitability under farm_env10km exclusions within utah is 905 square km\n",
      "Wind suitability under farm_env10km exclusions within washington is 1023 square km\n",
      "Wind suitability under farm_env10km exclusions within wyoming is 19900 square km\n"
     ]
    }
   ],
   "source": [
    "exclusion_list = [farm_raster_path, env_10km_raster_path]\n",
    "tech_type = 'Wind'\n",
    "analysis_name = 'farm_env10km'\n",
    "\n",
    "calculate_wind_land_area(exclusion_list=exclusion_list, output_dict=output_dict, \n",
    "                         tech_type=tech_type, analysis_name=analysis_name, show_array=False)"
   ]
  },
  {
   "cell_type": "markdown",
   "id": "edbfe261-85d6-40c3-aac8-2d5a5d88e0c5",
   "metadata": {},
   "source": [
    "________"
   ]
  },
  {
   "cell_type": "markdown",
   "id": "40cdb290-d2fc-4da9-aeb5-1d2443283eeb",
   "metadata": {},
   "source": [
    "# Solar PV"
   ]
  },
  {
   "cell_type": "markdown",
   "id": "7d08d034-05f9-4966-b089-54ad22a9f04b",
   "metadata": {},
   "source": [
    "## Baseline Siting Availability\n",
    "\n",
    "How much land is available for siting with no additional restrictions in each state?"
   ]
  },
  {
   "cell_type": "code",
   "execution_count": 15,
   "id": "76ddff1f-f8f4-43bf-b514-3008ab665fd0",
   "metadata": {},
   "outputs": [
    {
     "name": "stdout",
     "output_type": "stream",
     "text": [
      "Solar PV suitability under baseline exclusions within arizona is 149468 square km\n",
      "Solar PV suitability under baseline exclusions within california is 94422 square km\n",
      "Solar PV suitability under baseline exclusions within colorado is 118782 square km\n",
      "Solar PV suitability under baseline exclusions within idaho is 64018 square km\n",
      "Solar PV suitability under baseline exclusions within montana is 200614 square km\n",
      "Solar PV suitability under baseline exclusions within new_mexico is 201750 square km\n",
      "Solar PV suitability under baseline exclusions within nevada is 106346 square km\n",
      "Solar PV suitability under baseline exclusions within oregon is 60930 square km\n",
      "Solar PV suitability under baseline exclusions within utah is 61940 square km\n",
      "Solar PV suitability under baseline exclusions within washington is 60247 square km\n",
      "Solar PV suitability under baseline exclusions within wyoming is 150777 square km\n"
     ]
    }
   ],
   "source": [
    "exclusion_list = []\n",
    "tech_type = 'Solar PV'\n",
    "analysis_name = 'baseline'\n",
    "\n",
    "calculate_wind_land_area(exclusion_list=exclusion_list, output_dict=output_dict, \n",
    "                         tech_type=tech_type, analysis_name=analysis_name, show_array=False)"
   ]
  },
  {
   "cell_type": "markdown",
   "id": "bdec3620-c104-4ee2-8d50-90f2ce7ea78e",
   "metadata": {},
   "source": [
    "## DAC areas excluded"
   ]
  },
  {
   "cell_type": "code",
   "execution_count": 16,
   "id": "f96dc82f-b3df-435f-a161-2a88d141e694",
   "metadata": {},
   "outputs": [
    {
     "name": "stdout",
     "output_type": "stream",
     "text": [
      "Solar PV suitability under dac exclusions within arizona is 46395 square km\n",
      "Solar PV suitability under dac exclusions within california is 38251 square km\n",
      "Solar PV suitability under dac exclusions within colorado is 58883 square km\n",
      "Solar PV suitability under dac exclusions within idaho is 18522 square km\n",
      "Solar PV suitability under dac exclusions within montana is 104611 square km\n",
      "Solar PV suitability under dac exclusions within new_mexico is 23030 square km\n",
      "Solar PV suitability under dac exclusions within nevada is 81135 square km\n",
      "Solar PV suitability under dac exclusions within oregon is 11622 square km\n",
      "Solar PV suitability under dac exclusions within utah is 34126 square km\n",
      "Solar PV suitability under dac exclusions within washington is 32459 square km\n",
      "Solar PV suitability under dac exclusions within wyoming is 127750 square km\n"
     ]
    }
   ],
   "source": [
    "exclusion_list = [dac_raster_path]\n",
    "tech_type = 'Solar PV'\n",
    "analysis_name = 'dac'\n",
    "\n",
    "calculate_wind_land_area(exclusion_list=exclusion_list, output_dict=output_dict, \n",
    "                         tech_type=tech_type, analysis_name=analysis_name, show_array=False)"
   ]
  },
  {
   "cell_type": "markdown",
   "id": "ffe5fe74-b2fc-4beb-ba6d-da5b00b4226c",
   "metadata": {},
   "source": [
    "## Important farmland areas excluded"
   ]
  },
  {
   "cell_type": "code",
   "execution_count": 17,
   "id": "b94f963a-d63d-4e16-9237-26f4ce16dee2",
   "metadata": {},
   "outputs": [
    {
     "name": "stdout",
     "output_type": "stream",
     "text": [
      "Solar PV suitability under farmland exclusions within arizona is 146345 square km\n",
      "Solar PV suitability under farmland exclusions within california is 78597 square km\n",
      "Solar PV suitability under farmland exclusions within colorado is 108230 square km\n",
      "Solar PV suitability under farmland exclusions within idaho is 62934 square km\n",
      "Solar PV suitability under farmland exclusions within montana is 168821 square km\n",
      "Solar PV suitability under farmland exclusions within new_mexico is 179489 square km\n",
      "Solar PV suitability under farmland exclusions within nevada is 106295 square km\n",
      "Solar PV suitability under farmland exclusions within oregon is 28275 square km\n",
      "Solar PV suitability under farmland exclusions within utah is 57113 square km\n",
      "Solar PV suitability under farmland exclusions within washington is 32568 square km\n",
      "Solar PV suitability under farmland exclusions within wyoming is 149870 square km\n"
     ]
    }
   ],
   "source": [
    "exclusion_list = [farm_raster_path]\n",
    "tech_type = 'Solar PV'\n",
    "analysis_name = 'farmland'\n",
    "\n",
    "calculate_wind_land_area(exclusion_list=exclusion_list, output_dict=output_dict, \n",
    "                         tech_type=tech_type, analysis_name=analysis_name, show_array=False)"
   ]
  },
  {
   "cell_type": "markdown",
   "id": "ea25d8dc-d11d-405e-8866-c1b8fa93b48a",
   "metadata": {},
   "source": [
    "## Areas surrounding natural areas excluded"
   ]
  },
  {
   "cell_type": "markdown",
   "id": "6cc5b5b7-f5af-4d0b-be3d-b03a763e6a41",
   "metadata": {},
   "source": [
    "### Areas within 1-km"
   ]
  },
  {
   "cell_type": "code",
   "execution_count": 18,
   "id": "fc396b6e-7a8c-47d0-9196-62eda1329e51",
   "metadata": {},
   "outputs": [
    {
     "name": "stdout",
     "output_type": "stream",
     "text": [
      "Solar PV suitability under env_1km exclusions within arizona is 138003 square km\n",
      "Solar PV suitability under env_1km exclusions within california is 77444 square km\n",
      "Solar PV suitability under env_1km exclusions within colorado is 108317 square km\n",
      "Solar PV suitability under env_1km exclusions within idaho is 54342 square km\n",
      "Solar PV suitability under env_1km exclusions within montana is 169865 square km\n",
      "Solar PV suitability under env_1km exclusions within new_mexico is 188217 square km\n",
      "Solar PV suitability under env_1km exclusions within nevada is 95328 square km\n",
      "Solar PV suitability under env_1km exclusions within oregon is 50877 square km\n",
      "Solar PV suitability under env_1km exclusions within utah is 55520 square km\n",
      "Solar PV suitability under env_1km exclusions within washington is 52188 square km\n",
      "Solar PV suitability under env_1km exclusions within wyoming is 134216 square km\n"
     ]
    }
   ],
   "source": [
    "exclusion_list = [env_1km_raster_path]\n",
    "tech_type = 'Solar PV'\n",
    "analysis_name = 'env_1km'\n",
    "\n",
    "calculate_wind_land_area(exclusion_list=exclusion_list, output_dict=output_dict, \n",
    "                         tech_type=tech_type, analysis_name=analysis_name, show_array=False)"
   ]
  },
  {
   "cell_type": "markdown",
   "id": "2a221ed4-8f03-4a1a-a8a3-65a0e060b164",
   "metadata": {},
   "source": [
    "### Areas within 5-km"
   ]
  },
  {
   "cell_type": "code",
   "execution_count": 19,
   "id": "d55a9e10-73bd-489f-a07b-c930803c96bf",
   "metadata": {},
   "outputs": [
    {
     "name": "stdout",
     "output_type": "stream",
     "text": [
      "Solar PV suitability under env_5km exclusions within arizona is 96083 square km\n",
      "Solar PV suitability under env_5km exclusions within california is 35956 square km\n",
      "Solar PV suitability under env_5km exclusions within colorado is 74108 square km\n",
      "Solar PV suitability under env_5km exclusions within idaho is 24823 square km\n",
      "Solar PV suitability under env_5km exclusions within montana is 73973 square km\n",
      "Solar PV suitability under env_5km exclusions within new_mexico is 140879 square km\n",
      "Solar PV suitability under env_5km exclusions within nevada is 58064 square km\n",
      "Solar PV suitability under env_5km exclusions within oregon is 24900 square km\n",
      "Solar PV suitability under env_5km exclusions within utah is 35567 square km\n",
      "Solar PV suitability under env_5km exclusions within washington is 27573 square km\n",
      "Solar PV suitability under env_5km exclusions within wyoming is 77349 square km\n"
     ]
    }
   ],
   "source": [
    "exclusion_list = [env_5km_raster_path]\n",
    "tech_type = 'Solar PV'\n",
    "analysis_name = 'env_5km'\n",
    "\n",
    "calculate_wind_land_area(exclusion_list=exclusion_list, output_dict=output_dict, \n",
    "                         tech_type=tech_type, analysis_name=analysis_name, show_array=False)"
   ]
  },
  {
   "cell_type": "markdown",
   "id": "5734dabc-ef09-4457-8d33-982a95b46912",
   "metadata": {},
   "source": [
    "### Areas within 10-km"
   ]
  },
  {
   "cell_type": "code",
   "execution_count": 20,
   "id": "f02f09a8-3c4c-4b70-8c28-ed586d7707e4",
   "metadata": {},
   "outputs": [
    {
     "name": "stdout",
     "output_type": "stream",
     "text": [
      "Solar PV suitability under env_10km exclusions within arizona is 58685 square km\n",
      "Solar PV suitability under env_10km exclusions within california is 12363 square km\n",
      "Solar PV suitability under env_10km exclusions within colorado is 44812 square km\n",
      "Solar PV suitability under env_10km exclusions within idaho is 7220 square km\n",
      "Solar PV suitability under env_10km exclusions within montana is 22620 square km\n",
      "Solar PV suitability under env_10km exclusions within new_mexico is 95623 square km\n",
      "Solar PV suitability under env_10km exclusions within nevada is 31555 square km\n",
      "Solar PV suitability under env_10km exclusions within oregon is 9672 square km\n",
      "Solar PV suitability under env_10km exclusions within utah is 20191 square km\n",
      "Solar PV suitability under env_10km exclusions within washington is 11489 square km\n",
      "Solar PV suitability under env_10km exclusions within wyoming is 35279 square km\n"
     ]
    }
   ],
   "source": [
    "exclusion_list = [env_10km_raster_path]\n",
    "tech_type = 'Solar PV'\n",
    "analysis_name = 'env_10km'\n",
    "\n",
    "calculate_wind_land_area(exclusion_list=exclusion_list, output_dict=output_dict, \n",
    "                         tech_type=tech_type, analysis_name=analysis_name, show_array=False)"
   ]
  },
  {
   "cell_type": "markdown",
   "id": "6da42e6b-3edd-4a0c-89d8-fc7a4c4c647b",
   "metadata": {},
   "source": [
    "## Combinations"
   ]
  },
  {
   "cell_type": "markdown",
   "id": "415533b7-a019-4438-a901-cc2d1ed3e0b4",
   "metadata": {},
   "source": [
    "#### DACs, Important Farmland, and Areas within 5km of Natural Areas Excluded"
   ]
  },
  {
   "cell_type": "code",
   "execution_count": 21,
   "id": "9e8aca90-41a3-40ab-8cb8-14143c2bd2bb",
   "metadata": {},
   "outputs": [
    {
     "name": "stdout",
     "output_type": "stream",
     "text": [
      "Solar PV suitability under dac_farm_env5km exclusions within arizona is 29037 square km\n",
      "Solar PV suitability under dac_farm_env5km exclusions within california is 11447 square km\n",
      "Solar PV suitability under dac_farm_env5km exclusions within colorado is 33028 square km\n",
      "Solar PV suitability under dac_farm_env5km exclusions within idaho is 5924 square km\n",
      "Solar PV suitability under dac_farm_env5km exclusions within montana is 34122 square km\n",
      "Solar PV suitability under dac_farm_env5km exclusions within new_mexico is 13895 square km\n",
      "Solar PV suitability under dac_farm_env5km exclusions within nevada is 43722 square km\n",
      "Solar PV suitability under dac_farm_env5km exclusions within oregon is 1582 square km\n",
      "Solar PV suitability under dac_farm_env5km exclusions within utah is 19698 square km\n",
      "Solar PV suitability under dac_farm_env5km exclusions within washington is 5980 square km\n",
      "Solar PV suitability under dac_farm_env5km exclusions within wyoming is 66940 square km\n"
     ]
    }
   ],
   "source": [
    "exclusion_list = [dac_raster_path, farm_raster_path, env_5km_raster_path]\n",
    "tech_type = 'Solar PV'\n",
    "analysis_name = 'dac_farm_env5km'\n",
    "\n",
    "calculate_wind_land_area(exclusion_list=exclusion_list, output_dict=output_dict, \n",
    "                         tech_type=tech_type, analysis_name=analysis_name, show_array=False)"
   ]
  },
  {
   "cell_type": "markdown",
   "id": "130fae70-b540-417f-9395-210c354da159",
   "metadata": {},
   "source": [
    "#### Important Farmland, and Areas within 5km of Natural Areas Excluded"
   ]
  },
  {
   "cell_type": "code",
   "execution_count": 22,
   "id": "626dc741-9aea-4280-8b28-75023f0962f0",
   "metadata": {},
   "outputs": [
    {
     "name": "stdout",
     "output_type": "stream",
     "text": [
      "Solar PV suitability under farm_env5km exclusions within arizona is 94923 square km\n",
      "Solar PV suitability under farm_env5km exclusions within california is 28055 square km\n",
      "Solar PV suitability under farm_env5km exclusions within colorado is 67459 square km\n",
      "Solar PV suitability under farm_env5km exclusions within idaho is 24319 square km\n",
      "Solar PV suitability under farm_env5km exclusions within montana is 63629 square km\n",
      "Solar PV suitability under farm_env5km exclusions within new_mexico is 123471 square km\n",
      "Solar PV suitability under farm_env5km exclusions within nevada is 58022 square km\n",
      "Solar PV suitability under farm_env5km exclusions within oregon is 10776 square km\n",
      "Solar PV suitability under farm_env5km exclusions within utah is 33048 square km\n",
      "Solar PV suitability under farm_env5km exclusions within washington is 14369 square km\n",
      "Solar PV suitability under farm_env5km exclusions within wyoming is 76781 square km\n"
     ]
    }
   ],
   "source": [
    "exclusion_list = [farm_raster_path, env_5km_raster_path]\n",
    "tech_type = 'Solar PV'\n",
    "analysis_name = 'farm_env5km'\n",
    "\n",
    "calculate_wind_land_area(exclusion_list=exclusion_list, output_dict=output_dict, \n",
    "                         tech_type=tech_type, analysis_name=analysis_name, show_array=False)"
   ]
  },
  {
   "cell_type": "markdown",
   "id": "160009ae-0f80-47f3-8490-dc88168365e3",
   "metadata": {},
   "source": [
    "#### Important Farmland, and Areas within 10km of Natural Areas Excluded"
   ]
  },
  {
   "cell_type": "code",
   "execution_count": 23,
   "id": "3571ca9c-bf7a-41ba-9bf0-7e7aa7cb6fc8",
   "metadata": {},
   "outputs": [
    {
     "name": "stdout",
     "output_type": "stream",
     "text": [
      "Solar PV suitability under farm_env10km exclusions within arizona is 58270 square km\n",
      "Solar PV suitability under farm_env10km exclusions within california is 9345 square km\n",
      "Solar PV suitability under farm_env10km exclusions within colorado is 40765 square km\n",
      "Solar PV suitability under farm_env10km exclusions within idaho is 6999 square km\n",
      "Solar PV suitability under farm_env10km exclusions within montana is 19598 square km\n",
      "Solar PV suitability under farm_env10km exclusions within new_mexico is 82948 square km\n",
      "Solar PV suitability under farm_env10km exclusions within nevada is 31536 square km\n",
      "Solar PV suitability under farm_env10km exclusions within oregon is 4147 square km\n",
      "Solar PV suitability under farm_env10km exclusions within utah is 19213 square km\n",
      "Solar PV suitability under farm_env10km exclusions within washington is 6037 square km\n",
      "Solar PV suitability under farm_env10km exclusions within wyoming is 35039 square km\n"
     ]
    }
   ],
   "source": [
    "exclusion_list = [farm_raster_path, env_10km_raster_path]\n",
    "tech_type = 'Solar PV'\n",
    "analysis_name = 'farm_env10km'\n",
    "\n",
    "calculate_wind_land_area(exclusion_list=exclusion_list, output_dict=output_dict, \n",
    "                         tech_type=tech_type, analysis_name=analysis_name, show_array=False)"
   ]
  },
  {
   "cell_type": "markdown",
   "id": "600658c6-2ab1-4a32-8ca1-210c7795c34b",
   "metadata": {},
   "source": [
    "___________"
   ]
  },
  {
   "cell_type": "markdown",
   "id": "b063bc5f-7b33-483a-9d8c-e6bf074bf160",
   "metadata": {},
   "source": [
    "## Prepare Output"
   ]
  },
  {
   "cell_type": "code",
   "execution_count": 24,
   "id": "1ded25fa-0b2d-4910-b3e1-27b4ee461325",
   "metadata": {},
   "outputs": [
    {
     "data": {
      "text/html": [
       "<div>\n",
       "<style scoped>\n",
       "    .dataframe tbody tr th:only-of-type {\n",
       "        vertical-align: middle;\n",
       "    }\n",
       "\n",
       "    .dataframe tbody tr th {\n",
       "        vertical-align: top;\n",
       "    }\n",
       "\n",
       "    .dataframe thead th {\n",
       "        text-align: right;\n",
       "    }\n",
       "</style>\n",
       "<table border=\"1\" class=\"dataframe\">\n",
       "  <thead>\n",
       "    <tr style=\"text-align: right;\">\n",
       "      <th></th>\n",
       "      <th>region_name</th>\n",
       "      <th>tech_name_simple</th>\n",
       "      <th>baseline</th>\n",
       "      <th>dac</th>\n",
       "      <th>farmland</th>\n",
       "      <th>env_1km</th>\n",
       "      <th>env_5km</th>\n",
       "      <th>env_10km</th>\n",
       "      <th>dac_farm_env5km</th>\n",
       "      <th>farm_env5km</th>\n",
       "      <th>farm_env10km</th>\n",
       "    </tr>\n",
       "  </thead>\n",
       "  <tbody>\n",
       "    <tr>\n",
       "      <th>0</th>\n",
       "      <td>arizona</td>\n",
       "      <td>Wind</td>\n",
       "      <td>5477</td>\n",
       "      <td>1371</td>\n",
       "      <td>5477</td>\n",
       "      <td>4759</td>\n",
       "      <td>3183</td>\n",
       "      <td>1896</td>\n",
       "      <td>673</td>\n",
       "      <td>3183</td>\n",
       "      <td>1896</td>\n",
       "    </tr>\n",
       "    <tr>\n",
       "      <th>1</th>\n",
       "      <td>arizona</td>\n",
       "      <td>Solar PV</td>\n",
       "      <td>149468</td>\n",
       "      <td>46395</td>\n",
       "      <td>146345</td>\n",
       "      <td>138003</td>\n",
       "      <td>96083</td>\n",
       "      <td>58685</td>\n",
       "      <td>29037</td>\n",
       "      <td>94923</td>\n",
       "      <td>58270</td>\n",
       "    </tr>\n",
       "    <tr>\n",
       "      <th>2</th>\n",
       "      <td>california</td>\n",
       "      <td>Wind</td>\n",
       "      <td>9514</td>\n",
       "      <td>4789</td>\n",
       "      <td>9129</td>\n",
       "      <td>7281</td>\n",
       "      <td>2861</td>\n",
       "      <td>1047</td>\n",
       "      <td>1981</td>\n",
       "      <td>2781</td>\n",
       "      <td>1029</td>\n",
       "    </tr>\n",
       "    <tr>\n",
       "      <th>3</th>\n",
       "      <td>california</td>\n",
       "      <td>Solar PV</td>\n",
       "      <td>94422</td>\n",
       "      <td>38251</td>\n",
       "      <td>78597</td>\n",
       "      <td>77444</td>\n",
       "      <td>35956</td>\n",
       "      <td>12363</td>\n",
       "      <td>11447</td>\n",
       "      <td>28055</td>\n",
       "      <td>9345</td>\n",
       "    </tr>\n",
       "    <tr>\n",
       "      <th>4</th>\n",
       "      <td>colorado</td>\n",
       "      <td>Wind</td>\n",
       "      <td>34116</td>\n",
       "      <td>14401</td>\n",
       "      <td>30713</td>\n",
       "      <td>33011</td>\n",
       "      <td>28073</td>\n",
       "      <td>20096</td>\n",
       "      <td>11617</td>\n",
       "      <td>25070</td>\n",
       "      <td>17792</td>\n",
       "    </tr>\n",
       "    <tr>\n",
       "      <th>5</th>\n",
       "      <td>colorado</td>\n",
       "      <td>Solar PV</td>\n",
       "      <td>118782</td>\n",
       "      <td>58883</td>\n",
       "      <td>108230</td>\n",
       "      <td>108317</td>\n",
       "      <td>74108</td>\n",
       "      <td>44812</td>\n",
       "      <td>33028</td>\n",
       "      <td>67459</td>\n",
       "      <td>40765</td>\n",
       "    </tr>\n",
       "    <tr>\n",
       "      <th>6</th>\n",
       "      <td>idaho</td>\n",
       "      <td>Wind</td>\n",
       "      <td>3329</td>\n",
       "      <td>1075</td>\n",
       "      <td>3309</td>\n",
       "      <td>2950</td>\n",
       "      <td>1680</td>\n",
       "      <td>565</td>\n",
       "      <td>786</td>\n",
       "      <td>1666</td>\n",
       "      <td>556</td>\n",
       "    </tr>\n",
       "    <tr>\n",
       "      <th>7</th>\n",
       "      <td>idaho</td>\n",
       "      <td>Solar PV</td>\n",
       "      <td>64018</td>\n",
       "      <td>18522</td>\n",
       "      <td>62934</td>\n",
       "      <td>54342</td>\n",
       "      <td>24823</td>\n",
       "      <td>7220</td>\n",
       "      <td>5924</td>\n",
       "      <td>24319</td>\n",
       "      <td>6999</td>\n",
       "    </tr>\n",
       "    <tr>\n",
       "      <th>8</th>\n",
       "      <td>montana</td>\n",
       "      <td>Wind</td>\n",
       "      <td>95935</td>\n",
       "      <td>46731</td>\n",
       "      <td>81764</td>\n",
       "      <td>83647</td>\n",
       "      <td>41428</td>\n",
       "      <td>14887</td>\n",
       "      <td>18614</td>\n",
       "      <td>35522</td>\n",
       "      <td>12845</td>\n",
       "    </tr>\n",
       "    <tr>\n",
       "      <th>9</th>\n",
       "      <td>montana</td>\n",
       "      <td>Solar PV</td>\n",
       "      <td>200614</td>\n",
       "      <td>104611</td>\n",
       "      <td>168821</td>\n",
       "      <td>169865</td>\n",
       "      <td>73973</td>\n",
       "      <td>22620</td>\n",
       "      <td>34122</td>\n",
       "      <td>63629</td>\n",
       "      <td>19598</td>\n",
       "    </tr>\n",
       "    <tr>\n",
       "      <th>10</th>\n",
       "      <td>new_mexico</td>\n",
       "      <td>Wind</td>\n",
       "      <td>53510</td>\n",
       "      <td>4687</td>\n",
       "      <td>44208</td>\n",
       "      <td>51671</td>\n",
       "      <td>44550</td>\n",
       "      <td>35648</td>\n",
       "      <td>3098</td>\n",
       "      <td>36562</td>\n",
       "      <td>28974</td>\n",
       "    </tr>\n",
       "    <tr>\n",
       "      <th>11</th>\n",
       "      <td>new_mexico</td>\n",
       "      <td>Solar PV</td>\n",
       "      <td>201750</td>\n",
       "      <td>23030</td>\n",
       "      <td>179489</td>\n",
       "      <td>188217</td>\n",
       "      <td>140879</td>\n",
       "      <td>95623</td>\n",
       "      <td>13895</td>\n",
       "      <td>123471</td>\n",
       "      <td>82948</td>\n",
       "    </tr>\n",
       "    <tr>\n",
       "      <th>12</th>\n",
       "      <td>nevada</td>\n",
       "      <td>Wind</td>\n",
       "      <td>5545</td>\n",
       "      <td>4545</td>\n",
       "      <td>5545</td>\n",
       "      <td>4910</td>\n",
       "      <td>3411</td>\n",
       "      <td>2095</td>\n",
       "      <td>2818</td>\n",
       "      <td>3411</td>\n",
       "      <td>2095</td>\n",
       "    </tr>\n",
       "    <tr>\n",
       "      <th>13</th>\n",
       "      <td>nevada</td>\n",
       "      <td>Solar PV</td>\n",
       "      <td>106346</td>\n",
       "      <td>81135</td>\n",
       "      <td>106295</td>\n",
       "      <td>95328</td>\n",
       "      <td>58064</td>\n",
       "      <td>31555</td>\n",
       "      <td>43722</td>\n",
       "      <td>58022</td>\n",
       "      <td>31536</td>\n",
       "    </tr>\n",
       "    <tr>\n",
       "      <th>14</th>\n",
       "      <td>oregon</td>\n",
       "      <td>Wind</td>\n",
       "      <td>6434</td>\n",
       "      <td>2122</td>\n",
       "      <td>3766</td>\n",
       "      <td>5148</td>\n",
       "      <td>2507</td>\n",
       "      <td>1090</td>\n",
       "      <td>363</td>\n",
       "      <td>1379</td>\n",
       "      <td>548</td>\n",
       "    </tr>\n",
       "    <tr>\n",
       "      <th>15</th>\n",
       "      <td>oregon</td>\n",
       "      <td>Solar PV</td>\n",
       "      <td>60930</td>\n",
       "      <td>11622</td>\n",
       "      <td>28275</td>\n",
       "      <td>50877</td>\n",
       "      <td>24900</td>\n",
       "      <td>9672</td>\n",
       "      <td>1582</td>\n",
       "      <td>10776</td>\n",
       "      <td>4147</td>\n",
       "    </tr>\n",
       "    <tr>\n",
       "      <th>16</th>\n",
       "      <td>utah</td>\n",
       "      <td>Wind</td>\n",
       "      <td>2860</td>\n",
       "      <td>2048</td>\n",
       "      <td>2845</td>\n",
       "      <td>2383</td>\n",
       "      <td>1413</td>\n",
       "      <td>905</td>\n",
       "      <td>1096</td>\n",
       "      <td>1413</td>\n",
       "      <td>905</td>\n",
       "    </tr>\n",
       "    <tr>\n",
       "      <th>17</th>\n",
       "      <td>utah</td>\n",
       "      <td>Solar PV</td>\n",
       "      <td>61940</td>\n",
       "      <td>34126</td>\n",
       "      <td>57113</td>\n",
       "      <td>55520</td>\n",
       "      <td>35567</td>\n",
       "      <td>20191</td>\n",
       "      <td>19698</td>\n",
       "      <td>33048</td>\n",
       "      <td>19213</td>\n",
       "    </tr>\n",
       "    <tr>\n",
       "      <th>18</th>\n",
       "      <td>washington</td>\n",
       "      <td>Wind</td>\n",
       "      <td>5392</td>\n",
       "      <td>3102</td>\n",
       "      <td>3406</td>\n",
       "      <td>4851</td>\n",
       "      <td>2802</td>\n",
       "      <td>1530</td>\n",
       "      <td>924</td>\n",
       "      <td>1884</td>\n",
       "      <td>1023</td>\n",
       "    </tr>\n",
       "    <tr>\n",
       "      <th>19</th>\n",
       "      <td>washington</td>\n",
       "      <td>Solar PV</td>\n",
       "      <td>60247</td>\n",
       "      <td>32459</td>\n",
       "      <td>32568</td>\n",
       "      <td>52188</td>\n",
       "      <td>27573</td>\n",
       "      <td>11489</td>\n",
       "      <td>5980</td>\n",
       "      <td>14369</td>\n",
       "      <td>6037</td>\n",
       "    </tr>\n",
       "    <tr>\n",
       "      <th>20</th>\n",
       "      <td>wyoming</td>\n",
       "      <td>Wind</td>\n",
       "      <td>74324</td>\n",
       "      <td>62770</td>\n",
       "      <td>73638</td>\n",
       "      <td>67673</td>\n",
       "      <td>41867</td>\n",
       "      <td>20121</td>\n",
       "      <td>35729</td>\n",
       "      <td>41395</td>\n",
       "      <td>19900</td>\n",
       "    </tr>\n",
       "    <tr>\n",
       "      <th>21</th>\n",
       "      <td>wyoming</td>\n",
       "      <td>Solar PV</td>\n",
       "      <td>150777</td>\n",
       "      <td>127750</td>\n",
       "      <td>149870</td>\n",
       "      <td>134216</td>\n",
       "      <td>77349</td>\n",
       "      <td>35279</td>\n",
       "      <td>66940</td>\n",
       "      <td>76781</td>\n",
       "      <td>35039</td>\n",
       "    </tr>\n",
       "  </tbody>\n",
       "</table>\n",
       "</div>"
      ],
      "text/plain": [
       "   region_name tech_name_simple  baseline     dac  farmland  env_1km  env_5km  \\\n",
       "0      arizona             Wind      5477    1371      5477     4759     3183   \n",
       "1      arizona         Solar PV    149468   46395    146345   138003    96083   \n",
       "2   california             Wind      9514    4789      9129     7281     2861   \n",
       "3   california         Solar PV     94422   38251     78597    77444    35956   \n",
       "4     colorado             Wind     34116   14401     30713    33011    28073   \n",
       "5     colorado         Solar PV    118782   58883    108230   108317    74108   \n",
       "6        idaho             Wind      3329    1075      3309     2950     1680   \n",
       "7        idaho         Solar PV     64018   18522     62934    54342    24823   \n",
       "8      montana             Wind     95935   46731     81764    83647    41428   \n",
       "9      montana         Solar PV    200614  104611    168821   169865    73973   \n",
       "10  new_mexico             Wind     53510    4687     44208    51671    44550   \n",
       "11  new_mexico         Solar PV    201750   23030    179489   188217   140879   \n",
       "12      nevada             Wind      5545    4545      5545     4910     3411   \n",
       "13      nevada         Solar PV    106346   81135    106295    95328    58064   \n",
       "14      oregon             Wind      6434    2122      3766     5148     2507   \n",
       "15      oregon         Solar PV     60930   11622     28275    50877    24900   \n",
       "16        utah             Wind      2860    2048      2845     2383     1413   \n",
       "17        utah         Solar PV     61940   34126     57113    55520    35567   \n",
       "18  washington             Wind      5392    3102      3406     4851     2802   \n",
       "19  washington         Solar PV     60247   32459     32568    52188    27573   \n",
       "20     wyoming             Wind     74324   62770     73638    67673    41867   \n",
       "21     wyoming         Solar PV    150777  127750    149870   134216    77349   \n",
       "\n",
       "    env_10km  dac_farm_env5km  farm_env5km  farm_env10km  \n",
       "0       1896              673         3183          1896  \n",
       "1      58685            29037        94923         58270  \n",
       "2       1047             1981         2781          1029  \n",
       "3      12363            11447        28055          9345  \n",
       "4      20096            11617        25070         17792  \n",
       "5      44812            33028        67459         40765  \n",
       "6        565              786         1666           556  \n",
       "7       7220             5924        24319          6999  \n",
       "8      14887            18614        35522         12845  \n",
       "9      22620            34122        63629         19598  \n",
       "10     35648             3098        36562         28974  \n",
       "11     95623            13895       123471         82948  \n",
       "12      2095             2818         3411          2095  \n",
       "13     31555            43722        58022         31536  \n",
       "14      1090              363         1379           548  \n",
       "15      9672             1582        10776          4147  \n",
       "16       905             1096         1413           905  \n",
       "17     20191            19698        33048         19213  \n",
       "18      1530              924         1884          1023  \n",
       "19     11489             5980        14369          6037  \n",
       "20     20121            35729        41395         19900  \n",
       "21     35279            66940        76781         35039  "
      ]
     },
     "execution_count": 24,
     "metadata": {},
     "output_type": "execute_result"
    }
   ],
   "source": [
    "# convert output dictionary to dataframe\n",
    "df = pd.DataFrame.from_dict({(i,j): output_dict[i][j] \n",
    "                           for i in output_dict.keys() \n",
    "                           for j in output_dict[i].keys()},\n",
    "                       orient='index')\n",
    "\n",
    "df = df.reset_index().rename(columns={'level_0':'region_name', 'level_1':'tech_name_simple'})"
   ]
  },
  {
   "cell_type": "markdown",
   "id": "297d8134-12fe-43dc-8e7d-e08086c4f362",
   "metadata": {},
   "source": [
    "### Collect land actually used by wind and solar in each experiment scenario"
   ]
  },
  {
   "cell_type": "code",
   "execution_count": 25,
   "id": "a0d2ca68-c4ef-4e9f-b9d0-f0477d1220fe",
   "metadata": {},
   "outputs": [
    {
     "data": {
      "text/html": [
       "<div>\n",
       "<style scoped>\n",
       "    .dataframe tbody tr th:only-of-type {\n",
       "        vertical-align: middle;\n",
       "    }\n",
       "\n",
       "    .dataframe tbody tr th {\n",
       "        vertical-align: top;\n",
       "    }\n",
       "\n",
       "    .dataframe thead th {\n",
       "        text-align: right;\n",
       "    }\n",
       "</style>\n",
       "<table border=\"1\" class=\"dataframe\">\n",
       "  <thead>\n",
       "    <tr style=\"text-align: right;\">\n",
       "      <th></th>\n",
       "      <th>region_name</th>\n",
       "      <th>tech_name_simple</th>\n",
       "      <th>bau_km</th>\n",
       "      <th>clean_grid_km</th>\n",
       "    </tr>\n",
       "  </thead>\n",
       "  <tbody>\n",
       "    <tr>\n",
       "      <th>0</th>\n",
       "      <td>arizona</td>\n",
       "      <td>Solar PV</td>\n",
       "      <td>725</td>\n",
       "      <td>914</td>\n",
       "    </tr>\n",
       "    <tr>\n",
       "      <th>1</th>\n",
       "      <td>arizona</td>\n",
       "      <td>Wind</td>\n",
       "      <td>614</td>\n",
       "      <td>715</td>\n",
       "    </tr>\n",
       "    <tr>\n",
       "      <th>2</th>\n",
       "      <td>california</td>\n",
       "      <td>Solar PV</td>\n",
       "      <td>1398</td>\n",
       "      <td>2264</td>\n",
       "    </tr>\n",
       "    <tr>\n",
       "      <th>3</th>\n",
       "      <td>california</td>\n",
       "      <td>Wind</td>\n",
       "      <td>2025</td>\n",
       "      <td>3066</td>\n",
       "    </tr>\n",
       "    <tr>\n",
       "      <th>4</th>\n",
       "      <td>colorado</td>\n",
       "      <td>Solar PV</td>\n",
       "      <td>661</td>\n",
       "      <td>925</td>\n",
       "    </tr>\n",
       "    <tr>\n",
       "      <th>5</th>\n",
       "      <td>colorado</td>\n",
       "      <td>Wind</td>\n",
       "      <td>1095</td>\n",
       "      <td>1596</td>\n",
       "    </tr>\n",
       "    <tr>\n",
       "      <th>6</th>\n",
       "      <td>idaho</td>\n",
       "      <td>Solar PV</td>\n",
       "      <td>32</td>\n",
       "      <td>42</td>\n",
       "    </tr>\n",
       "    <tr>\n",
       "      <th>7</th>\n",
       "      <td>idaho</td>\n",
       "      <td>Wind</td>\n",
       "      <td>302</td>\n",
       "      <td>336</td>\n",
       "    </tr>\n",
       "    <tr>\n",
       "      <th>8</th>\n",
       "      <td>montana</td>\n",
       "      <td>Solar PV</td>\n",
       "      <td>221</td>\n",
       "      <td>388</td>\n",
       "    </tr>\n",
       "    <tr>\n",
       "      <th>9</th>\n",
       "      <td>montana</td>\n",
       "      <td>Wind</td>\n",
       "      <td>2141</td>\n",
       "      <td>2921</td>\n",
       "    </tr>\n",
       "    <tr>\n",
       "      <th>10</th>\n",
       "      <td>nevada</td>\n",
       "      <td>Solar PV</td>\n",
       "      <td>610</td>\n",
       "      <td>796</td>\n",
       "    </tr>\n",
       "    <tr>\n",
       "      <th>11</th>\n",
       "      <td>nevada</td>\n",
       "      <td>Wind</td>\n",
       "      <td>206</td>\n",
       "      <td>252</td>\n",
       "    </tr>\n",
       "    <tr>\n",
       "      <th>12</th>\n",
       "      <td>new_mexico</td>\n",
       "      <td>Solar PV</td>\n",
       "      <td>309</td>\n",
       "      <td>452</td>\n",
       "    </tr>\n",
       "    <tr>\n",
       "      <th>13</th>\n",
       "      <td>new_mexico</td>\n",
       "      <td>Wind</td>\n",
       "      <td>756</td>\n",
       "      <td>1081</td>\n",
       "    </tr>\n",
       "    <tr>\n",
       "      <th>14</th>\n",
       "      <td>oregon</td>\n",
       "      <td>Solar PV</td>\n",
       "      <td>123</td>\n",
       "      <td>187</td>\n",
       "    </tr>\n",
       "    <tr>\n",
       "      <th>15</th>\n",
       "      <td>oregon</td>\n",
       "      <td>Wind</td>\n",
       "      <td>514</td>\n",
       "      <td>695</td>\n",
       "    </tr>\n",
       "    <tr>\n",
       "      <th>16</th>\n",
       "      <td>utah</td>\n",
       "      <td>Solar PV</td>\n",
       "      <td>1739</td>\n",
       "      <td>2275</td>\n",
       "    </tr>\n",
       "    <tr>\n",
       "      <th>17</th>\n",
       "      <td>utah</td>\n",
       "      <td>Wind</td>\n",
       "      <td>722</td>\n",
       "      <td>878</td>\n",
       "    </tr>\n",
       "    <tr>\n",
       "      <th>18</th>\n",
       "      <td>washington</td>\n",
       "      <td>Solar PV</td>\n",
       "      <td>105</td>\n",
       "      <td>170</td>\n",
       "    </tr>\n",
       "    <tr>\n",
       "      <th>19</th>\n",
       "      <td>washington</td>\n",
       "      <td>Wind</td>\n",
       "      <td>471</td>\n",
       "      <td>641</td>\n",
       "    </tr>\n",
       "    <tr>\n",
       "      <th>20</th>\n",
       "      <td>wyoming</td>\n",
       "      <td>Solar PV</td>\n",
       "      <td>367</td>\n",
       "      <td>454</td>\n",
       "    </tr>\n",
       "    <tr>\n",
       "      <th>21</th>\n",
       "      <td>wyoming</td>\n",
       "      <td>Wind</td>\n",
       "      <td>1761</td>\n",
       "      <td>2186</td>\n",
       "    </tr>\n",
       "  </tbody>\n",
       "</table>\n",
       "</div>"
      ],
      "text/plain": [
       "   region_name tech_name_simple  bau_km  clean_grid_km\n",
       "0      arizona         Solar PV     725            914\n",
       "1      arizona             Wind     614            715\n",
       "2   california         Solar PV    1398           2264\n",
       "3   california             Wind    2025           3066\n",
       "4     colorado         Solar PV     661            925\n",
       "5     colorado             Wind    1095           1596\n",
       "6        idaho         Solar PV      32             42\n",
       "7        idaho             Wind     302            336\n",
       "8      montana         Solar PV     221            388\n",
       "9      montana             Wind    2141           2921\n",
       "10      nevada         Solar PV     610            796\n",
       "11      nevada             Wind     206            252\n",
       "12  new_mexico         Solar PV     309            452\n",
       "13  new_mexico             Wind     756           1081\n",
       "14      oregon         Solar PV     123            187\n",
       "15      oregon             Wind     514            695\n",
       "16        utah         Solar PV    1739           2275\n",
       "17        utah             Wind     722            878\n",
       "18  washington         Solar PV     105            170\n",
       "19  washington             Wind     471            641\n",
       "20     wyoming         Solar PV     367            454\n",
       "21     wyoming             Wind    1761           2186"
      ]
     },
     "execution_count": 25,
     "metadata": {},
     "output_type": "execute_result"
    }
   ],
   "source": [
    "# collect infrastructure data\n",
    "sitings_df = pd.read_csv(infrastucture_path)\n",
    "\n",
    "# select new infrastructure sitings only\n",
    "sitings_df = sitings_df[sitings_df.cerf_sited == 1]\n",
    "\n",
    "# reduce to year of interest\n",
    "sitings_df = sitings_df[sitings_df.sited_year <= year]\n",
    "\n",
    "# select wind and solar only\n",
    "sitings_df = sitings_df[sitings_df.tech_name_simple.isin(['Solar PV', 'Wind'])]\n",
    "\n",
    "# collect the total land usage used by solar and wind by state and scenario\n",
    "sitings_df = sitings_df[['scenario', 'region_name', 'tech_name_simple', 'xcoord']].groupby(['scenario', 'region_name', 'tech_name_simple'], \n",
    "                                                                                           as_index=False).count()\n",
    "# shorten scenario names\n",
    "sitings_df.scenario.replace('business_as_usual_ira_ccs_climate', 'bau_km', inplace=True)\n",
    "sitings_df.scenario.replace('net_zero_ira_ccs_climate', 'clean_grid_km', inplace=True)\n",
    "\n",
    "#Pivoting dataframe\n",
    "sitings_df = pd.pivot_table(sitings_df, values='xcoord', index=['region_name', 'tech_name_simple'], columns=['scenario'], aggfunc=np.sum)\n",
    "sitings_df = sitings_df.reset_index()\n",
    "sitings_df = sitings_df.rename_axis(None, axis=1)"
   ]
  },
  {
   "cell_type": "markdown",
   "id": "cbe093ac-4fc0-4926-ba92-93bd5c2bb52a",
   "metadata": {},
   "source": [
    "##### Combine dataframes and save to file"
   ]
  },
  {
   "cell_type": "code",
   "execution_count": 26,
   "id": "2305f589-80b7-4df4-b9cb-a7fe591221af",
   "metadata": {},
   "outputs": [],
   "source": [
    "output_df = pd.merge(df, sitings_df, how='left', on=['region_name', 'tech_name_simple'])"
   ]
  },
  {
   "cell_type": "code",
   "execution_count": 28,
   "id": "0fa48bc6-4111-4e54-8719-284cece22217",
   "metadata": {},
   "outputs": [],
   "source": [
    "# output file path\n",
    "output_path = os.path.join(output_dir, f'suitability_analysis_{year}.csv')\n",
    "\n",
    "output_df.to_csv(output_path, index=False)"
   ]
  }
 ],
 "metadata": {
  "kernelspec": {
   "display_name": "Python 3 (ipykernel)",
   "language": "python",
   "name": "python3"
  },
  "language_info": {
   "codemirror_mode": {
    "name": "ipython",
    "version": 3
   },
   "file_extension": ".py",
   "mimetype": "text/x-python",
   "name": "python",
   "nbconvert_exporter": "python",
   "pygments_lexer": "ipython3",
   "version": "3.11.0"
  }
 },
 "nbformat": 4,
 "nbformat_minor": 5
}
