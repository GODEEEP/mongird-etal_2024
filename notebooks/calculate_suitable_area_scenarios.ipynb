{
 "cells": [
  {
   "cell_type": "markdown",
   "id": "023c2ecb-e01f-4645-984c-b5ae76380fbd",
   "metadata": {},
   "source": [
    "# Wind and Solar Suitability Analysis\n",
    "\n",
    "### Scientific Question Addressed: \n",
    "If DAC areas, important farmland, and all areas within proximity to natural areas are excluded from siting, how much land is available for siting? Is there enough land available to reach clean grid goals given capacity expansion projections?\n",
    "\n",
    "### This notebook calculates the following items referenced in the paper:\n",
    "\n",
    "* Available Land by State for Wind and Solar under Baseline Exclusions\n",
    "* Available Land by State for Wind and Solar under Baseline Exclusions + Exclusion of DAC areas\n",
    "* Available Land by State for Wind and Solar under Baseline Exclusions + Exclusion of Important Farmland areas \n",
    "* Available Land by State for Wind and Solar under Baseline Exclusions + Exclusion of Areas Surrounding Natural Areas (1, 5, 10km distance)\n",
    "* Available Land by State for Wind and Solar under Baseline Exclusions + Exclusion of DAC areas, Important Farmland, and Areas within 5km of Natural Areas \n",
    "* Available Land by State for Wind and Solar under Baseline Exclusions + Exclusion of Important Farmland and Areas within 5km of Natural Areas \n",
    "* Available Land by State for Wind and Solar under Baseline Exclusions + Exclusion of Important Farmland and Areas within 10km of Natural Areas \n",
    "\n",
    "\n",
    "## Raster Data\n",
    "\n",
    "Most of the raster data used for this analysis is from the GRIDCERF geospatial database v1.0.0, accessible at https://zenodo.org/records/6601790. Additional raster data from GRICERF v2.0.0 was used to supplement the dataset, accessible at: https://doi.org/10.57931/2281697.To prepare data for analysis, all raster data is clipped to the western interconnection boundary extent.\n",
    "\n",
    "For information on the specific data layers included in the composite layers for DAC areas, Important Farmland, and Natural Area layers, see the `calculate_intersections.ipynb` notebook.\n",
    "\n",
    "Baseline wind and solar suitability used for this analysis corresponds with data in GRIDCERF v2.0. The GRIDCERF database provides composite technology suitability raster data for renewables based on an assumed capacity factor where areas that are not able to support the indicated capacity factor are unsuitable for siting. The capacity factor layer used for each individual state in the GODEEEP infrastructure experiment is used as the baseline layer in this analysis. \n",
    "\n",
    "The suitability layer chosen within the GODEEEP experiment was dynamically determined based on the amount of capacity to be sited in a given state and whether a given suitability layer could support the deployment given the assumed power density of the technology. For example, if 2000 MW of wind needs to be sited in a given state, corresponding to 2000/x square km of land, where x is equal to the power density per square km of wind assumed, and only half the square km of land is suitable at the given capacity factor level, then the next lower capacity factor level is assessed to open up more space. This process is repeated until a suitability layer is chosen such that there is enough land available for siting in a given run year. As a result, states will used different suitability layers for siting. We use the suitability layers used in the GODEEEP experiment for each state for the year 2030 in this analysis, corresponding to a 100m hub height and a power density of 12 MW/square km (3 turbines). The corresponding capacity factors by technology and state are provided in the `state_settings_dict` in this notebook.\n",
    "\n",
    "The composite rasters for wind include, among other exclusions:\n",
    "\n",
    "*  all commonly applied protected areas\n",
    "*  Airports and surrounding areas\n",
    "*  Areas with slope > 20%\n",
    "*  NOAA radar stations + a 5 mile buffer\n",
    "*  Densely populated areas\n",
    "\n",
    "The composite rasters for solar pv include, among other excluded areas:\n",
    "\n",
    "*  all commonly applied protected areas\n",
    "*  Airports\n",
    "*  Areas with slope > 10%\n",
    "*  Densely populated areas\n",
    "\n",
    "For the complete list of data included within the composite Solar PV and Wind layers, refer to the GRIDCERF metadata.\n",
    "\n",
    "<h2> Methodology</h2>\n",
    "\n",
    "To identify how much land is available for siting under various conditions, we go through the following steps:\n",
    "<ol>\n",
    "    <li> Load raster data for desired evaluation layer (e.g., DAC areas)</li>\n",
    "    <li> Load raster data corresponding to individual state areas </li>\n",
    "    <li> Load raster data corresponding to wind or solar suitability for appropriate capacity factor for given state </li>\n",
    "    <li> Create a composite layer combining evaluation layer(s) and the baseline suitability layer for the given technology</li>\n",
    "    <li> Using the state raster area, select grid cells only within the given state boundary and sum available area</li>\n",
    "</ol>\n",
    "\n",
    "**Note:** To be able to combine multiple rasters (e.g., baseline + DACs), all rasters must have the same shape. The rasters used in this notebook have all been clipped to the western interconnection area. Any additional rasters used with this notebook should be clipped to the same extent."
   ]
  },
  {
   "cell_type": "markdown",
   "id": "818d0948-3457-44d7-b910-a74a7784b971",
   "metadata": {},
   "source": [
    "## Imports"
   ]
  },
  {
   "cell_type": "code",
   "execution_count": 1,
   "id": "1aee8711-bb61-4e57-98ee-aa5046165be2",
   "metadata": {},
   "outputs": [],
   "source": [
    "import pandas as pd\n",
    "import geopandas as gpd\n",
    "import numpy as np\n",
    "import shapely\n",
    "from shapely import Point\n",
    "\n",
    "import rasterio\n",
    "from rasterio.plot import show\n",
    "\n",
    "import os\n",
    "from pathlib import Path"
   ]
  },
  {
   "cell_type": "markdown",
   "id": "c3367d0c-74c4-44e7-91b0-23a82ca888f5",
   "metadata": {},
   "source": [
    "## File Paths"
   ]
  },
  {
   "cell_type": "code",
   "execution_count": 2,
   "id": "66f25b4a-8358-445c-9c07-40c99e7d59df",
   "metadata": {},
   "outputs": [],
   "source": [
    "# data dir\n",
    "data_dir = os.path.join(os.path.dirname(os.getcwd()), 'data', 'input_data')\n",
    "\n",
    "# output data dir\n",
    "output_dir = os.path.join(os.path.dirname(os.getcwd()), 'data', 'output_data')\n",
    "\n",
    "# raster dir\n",
    "raster_dir = os.path.join(data_dir, 'raster_data')\n",
    "\n",
    "# state raster path\n",
    "state_raster_path = os.path.join(raster_dir, 'state_raster', 'state_raster.tif')\n",
    "\n",
    "# suitability raster dir\n",
    "suit_dir = os.path.join(raster_dir, 'suitability')\n",
    "\n",
    "# dac raster path\n",
    "dac_raster_path = os.path.join(raster_dir, 'disadvantaged_communities', 'west_usceq_combined_vulnerable_communities.tif')\n",
    "\n",
    "# farmland raster path\n",
    "farm_raster_path = os.path.join(raster_dir, 'important_farmland', 'west_usda_combined_important_farmland.tif')\n",
    "\n",
    "# env raster path\n",
    "env_1km_raster_path = os.path.join(raster_dir, 'environmental', 'onshore_areas_only', 'west_analysis_combined_environment_1buff.tif')\n",
    "env_5km_raster_path = os.path.join(raster_dir, 'environmental',  'onshore_areas_only','west_analysis_combined_environment_5buff.tif')\n",
    "env_10km_raster_path = os.path.join(raster_dir, 'environmental',  'onshore_areas_only', 'west_analysis_combined_environment_10buff.tif')"
   ]
  },
  {
   "cell_type": "markdown",
   "id": "49ea8605-929c-4f76-91cf-78edce8b83be",
   "metadata": {},
   "source": [
    "## Functions"
   ]
  },
  {
   "cell_type": "code",
   "execution_count": 3,
   "id": "337f1695-f4d7-4b3c-a483-cb73c77d1076",
   "metadata": {},
   "outputs": [],
   "source": [
    "def calculate_wind_land_area(exclusion_list, output_dict, tech_type, analysis_name='dac', show_array=True):\n",
    "    \"\"\"\n",
    "    For a given list of raster data, this function combines each of the layers with the assumed baseline \n",
    "    suitability raster for the technology indicated (wind or solar). From the composite siting suitability\n",
    "    layer, a conus state raster is used to subselect areas within each individual state and summing the\n",
    "    total amount of composite land (km^2) that is available for siting that technology.\n",
    "\n",
    "    :param exclusion_list:           list of paths to raster data to include in the composite suitability\n",
    "    :type exclusion_list:            list\n",
    "\n",
    "    :param output_dict:              prepared dictionary where output should be stored for each state\n",
    "    :type output_dict:               dict\n",
    "\n",
    "    :param tech_type:                type of technology being evaluated, solar or wind\n",
    "    :type tech_type:                 str\n",
    "\n",
    "    :param analysis_name:            name of specific analysis corresponding to prepared output dictionary\n",
    "    :type analysis_name:             str\n",
    "\n",
    "    :param show_array:               if true, will plot the composite siting suitability for the given state\n",
    "    :type show_array:                bool\n",
    "    \n",
    "    \n",
    "    \"\"\"\n",
    "    # open state raster file\n",
    "    conus_array = rasterio.open(state_raster_path).read(1)\n",
    "    \n",
    "    for state in list(output_dict.keys()):\n",
    "        state_id = state_settings_dict[state]['id_no']\n",
    "        capacity_factor = state_settings_dict[state][tech_type]\n",
    "\n",
    "        if tech_type == 'Solar PV':\n",
    "            suit_file_path = os.path.join(suit_dir, f'gridcerf_solar_pv_centralized_no-cooling_{capacity_factor}cf.tif')\n",
    "        elif tech_type == 'Wind':\n",
    "            suit_file_path = os.path.join(suit_dir, f'gridcerf_wind_onshore_hubheight100_no-cooling_{capacity_factor}cf.tif')\n",
    "        else:\n",
    "            print('tech_type not supported')\n",
    "    \n",
    "        # open suitability file\n",
    "        suit_array = rasterio.open(suit_file_path).read(1)\n",
    "        suit_array = np.where(suit_array==1, 1, 0)\n",
    "\n",
    "        # iterate through raster data in exclusion list and apply to baseline suitability\n",
    "        for exc in exclusion_list:\n",
    "            exclusion_array = rasterio.open(exc).read(1)\n",
    "            exclusion_array = np.where(exclusion_array==1, 1, 0)\n",
    "    \n",
    "            suit_array += exclusion_array\n",
    "            suit_array = np.where(suit_array >= 1, 1, 0)\n",
    "    \n",
    "        # invert suitability\n",
    "        suit_array = np.where(suit_array==1, 0, 1)\n",
    "    \n",
    "        # select state area from conus raster\n",
    "        state_array = np.where(conus_array==state_id, 1, 0)\n",
    "        \n",
    "        # calculate state suitability\n",
    "        suit_array *= state_array\n",
    "    \n",
    "        # get sum of available area\n",
    "        total_area_km = suit_array.sum()\n",
    "    \n",
    "        # add available area to output dictionary\n",
    "        output_dict[state][tech_type][analysis_name] = total_area_km\n",
    "    \n",
    "        print(f'{tech_type} suitability under {analysis_name} exclusions within {state} is {total_area_km} square km')\n",
    "\n",
    "        if show_array:\n",
    "            show(suit_array)\n",
    "        else:\n",
    "            pass\n",
    "    return None"
   ]
  },
  {
   "cell_type": "markdown",
   "id": "511f365a-8007-4773-83ed-dbce02e058f8",
   "metadata": {},
   "source": [
    "## Settings"
   ]
  },
  {
   "cell_type": "code",
   "execution_count": 4,
   "id": "df0f4c37-f06e-4b05-a277-7dc7715d2a91",
   "metadata": {},
   "outputs": [],
   "source": [
    "# dictionary of wind capacity factor assumped, solar capacity factor assumed, and id number for each state\n",
    "\n",
    "state_settings_dict={\n",
    "    'arizona': {'Wind': 25,'Solar PV': 18, 'id_no': 4},\n",
    "    'california': {'Wind': 20,'Solar PV': 16, 'id_no': 6},\n",
    "    'colorado':{'Wind': 30,'Solar PV': 18, 'id_no': 8},\n",
    "    'idaho':{'Wind': 25,'Solar PV': 14, 'id_no': 16},\n",
    "    'montana':{'Wind': 30,'Solar PV': 14, 'id_no': 30},\n",
    "    'new_mexico':{'Wind': 30,'Solar PV': 18, 'id_no': 35},\n",
    "    'nevada':{'Wind': 25,'Solar PV': 18, 'id_no': 32},\n",
    "    'oregon':{'Wind': 25, 'Solar PV': 14, 'id_no':41},\n",
    "    'utah':{'Wind': 25,'Solar PV': 16, 'id_no': 49},\n",
    "    'washington':{'Wind': 25, 'Solar PV': 12, 'id_no': 53},\n",
    "    'wyoming':{'Wind': 30,'Solar PV': 14, 'id_no': 56}}\n"
   ]
  },
  {
   "cell_type": "code",
   "execution_count": 5,
   "id": "ff53ab2d-672b-4cfa-82df-ad7bb31a20bc",
   "metadata": {},
   "outputs": [],
   "source": [
    "# prepare output dictionary to store analysis values\n",
    "output_dict={\n",
    "    'arizona': {},\n",
    "    'california': {},\n",
    "    'colorado':{},\n",
    "    'idaho':{},\n",
    "    'montana':{},\n",
    "    'new_mexico':{},\n",
    "    'nevada':{},\n",
    "    'oregon':{},\n",
    "    'utah':{},\n",
    "    'washington':{},\n",
    "    'wyoming':{}\n",
    "}\n",
    "for state in output_dict:\n",
    "    output_dict[state].update({'Wind':{}, 'Solar PV': {}})\n",
    "    \n",
    "    for i in output_dict[state]:\n",
    "        output_dict[state][i].update({'baseline':[], 'dac': [], 'farmland':[], \n",
    "                                      'env_1km':[], 'env_5km':[], 'env_10km':[], \n",
    "                                      'dac_farm_env5km':[], 'farm_env5km':[], 'farm_env10km':[]})"
   ]
  },
  {
   "cell_type": "markdown",
   "id": "6c8715c7-c43d-4665-867f-1c182a6aae6d",
   "metadata": {},
   "source": [
    "# Wind"
   ]
  },
  {
   "cell_type": "markdown",
   "id": "8470afa3-5be8-405f-951b-9f7439554a6c",
   "metadata": {},
   "source": [
    "## Baseline Siting Availability\n",
    "\n",
    "How much land is available for siting with no additional restrictions in each state?"
   ]
  },
  {
   "cell_type": "code",
   "execution_count": null,
   "id": "f05cb13c-15a5-4ecd-98f3-7417591ba375",
   "metadata": {},
   "outputs": [
    {
     "name": "stdout",
     "output_type": "stream",
     "text": [
      "Wind suitability under baseline exclusions within arizona is 5477 square km\n"
     ]
    },
    {
     "data": {
      "image/png": "[encoded data removed]",
      "text/plain": [
       "<Figure size 640x480 with 1 Axes>"
      ]
     },
     "metadata": {},
     "output_type": "display_data"
    },
    {
     "name": "stdout",
     "output_type": "stream",
     "text": [
      "Wind suitability under baseline exclusions within california is 9514 square km\n"
     ]
    },
    {
     "data": {
      "image/png": "[encoded data removed]",
      "text/plain": [
       "<Figure size 640x480 with 1 Axes>"
      ]
     },
     "metadata": {},
     "output_type": "display_data"
    },
    {
     "name": "stdout",
     "output_type": "stream",
     "text": [
      "Wind suitability under baseline exclusions within colorado is 34116 square km\n"
     ]
    },
    {
     "data": {
      "image/png": "[encoded data removed]",
      "text/plain": [
       "<Figure size 640x480 with 1 Axes>"
      ]
     },
     "metadata": {},
     "output_type": "display_data"
    },
    {
     "name": "stdout",
     "output_type": "stream",
     "text": [
      "Wind suitability under baseline exclusions within idaho is 3329 square km\n"
     ]
    },
    {
     "data": {
      "image/png": "[encoded data removed]",
      "text/plain": [
       "<Figure size 640x480 with 1 Axes>"
      ]
     },
     "metadata": {},
     "output_type": "display_data"
    },
    {
     "name": "stdout",
     "output_type": "stream",
     "text": [
      "Wind suitability under baseline exclusions within montana is 95935 square km\n"
     ]
    },
    {
     "data": {
      "image/png": "[encoded data removed]",
      "text/plain": [
       "<Figure size 640x480 with 1 Axes>"
      ]
     },
     "metadata": {},
     "output_type": "display_data"
    },
    {
     "name": "stdout",
     "output_type": "stream",
     "text": [
      "Wind suitability under baseline exclusions within new_mexico is 53510 square km\n"
     ]
    },
    {
     "data": {
      "image/png": "[encoded data removed]",
      "text/plain": [
       "<Figure size 640x480 with 1 Axes>"
      ]
     },
     "metadata": {},
     "output_type": "display_data"
    }
   ],
   "source": [
    "exclusion_list = []\n",
    "tech_type = 'Wind'\n",
    "analysis_name = 'baseline'\n",
    "\n",
    "calculate_wind_land_area(exclusion_list=exclusion_list, output_dict=output_dict, \n",
    "                         tech_type=tech_type, analysis_name=analysis_name, show_array=True)"
   ]
  },
  {
   "cell_type": "markdown",
   "id": "3cca1cab-8dc5-4689-a24e-2b5411247c88",
   "metadata": {},
   "source": [
    "## DAC areas excluded"
   ]
  },
  {
   "cell_type": "code",
   "execution_count": null,
   "id": "a5bd7496-cf93-49d2-a57d-e47475515f5f",
   "metadata": {},
   "outputs": [],
   "source": [
    "exclusion_list = [dac_raster_path]\n",
    "tech_type = 'Wind'\n",
    "analysis_name = 'dac'\n",
    "\n",
    "calculate_wind_land_area(exclusion_list=exclusion_list, output_dict=output_dict, \n",
    "                         tech_type=tech_type, analysis_name=analysis_name, show_array=False)"
   ]
  },
  {
   "cell_type": "markdown",
   "id": "b2fcb937-b947-452f-9d53-4c76d53104de",
   "metadata": {},
   "source": [
    "## Important farmland areas excluded"
   ]
  },
  {
   "cell_type": "code",
   "execution_count": null,
   "id": "ee692332-f906-4b9f-867e-98b33e8facc6",
   "metadata": {},
   "outputs": [],
   "source": [
    "exclusion_list = [farm_raster_path]\n",
    "tech_type = 'Wind'\n",
    "analysis_name = 'farmland'\n",
    "\n",
    "calculate_wind_land_area(exclusion_list=exclusion_list, output_dict=output_dict, \n",
    "                         tech_type=tech_type, analysis_name=analysis_name, show_array=False)"
   ]
  },
  {
   "cell_type": "markdown",
   "id": "ef68a2ba-dc41-44c8-a760-846304f8e5d0",
   "metadata": {},
   "source": [
    "## Areas surrounding natural areas excluded"
   ]
  },
  {
   "cell_type": "markdown",
   "id": "2dbeb0fb-3e45-4e8a-b384-bcf5b06e5233",
   "metadata": {},
   "source": [
    "### Areas within 1-km"
   ]
  },
  {
   "cell_type": "code",
   "execution_count": null,
   "id": "ba39afcc-dc44-482b-b588-367b15e3d9fb",
   "metadata": {},
   "outputs": [],
   "source": [
    "exclusion_list = [env_1km_raster_path]\n",
    "tech_type = 'Wind'\n",
    "analysis_name = 'env_1km'\n",
    "\n",
    "calculate_wind_land_area(exclusion_list=exclusion_list, output_dict=output_dict, \n",
    "                         tech_type=tech_type, analysis_name=analysis_name, show_array=False)"
   ]
  },
  {
   "cell_type": "markdown",
   "id": "71d69291-8bff-43f1-99d8-93fddf138c35",
   "metadata": {},
   "source": [
    "### Areas within 5-km"
   ]
  },
  {
   "cell_type": "code",
   "execution_count": null,
   "id": "85eabc18-8c84-4ee0-9421-20357ec9777b",
   "metadata": {},
   "outputs": [],
   "source": [
    "exclusion_list = [env_5km_raster_path]\n",
    "tech_type = 'Wind'\n",
    "analysis_name = 'env_5km'\n",
    "\n",
    "calculate_wind_land_area(exclusion_list=exclusion_list, output_dict=output_dict, \n",
    "                         tech_type=tech_type, analysis_name=analysis_name, show_array=False)"
   ]
  },
  {
   "cell_type": "markdown",
   "id": "0d447dbc-bc65-4d80-9440-45646b60586a",
   "metadata": {},
   "source": [
    "### Areas within 10-km"
   ]
  },
  {
   "cell_type": "code",
   "execution_count": null,
   "id": "65e7a9f4-c62b-4768-a062-e431ff64caef",
   "metadata": {},
   "outputs": [],
   "source": [
    "exclusion_list = [env_10km_raster_path]\n",
    "tech_type = 'Wind'\n",
    "analysis_name = 'env_10km'\n",
    "\n",
    "calculate_wind_land_area(exclusion_list=exclusion_list, output_dict=output_dict, \n",
    "                         tech_type=tech_type, analysis_name=analysis_name, show_array=False)"
   ]
  },
  {
   "cell_type": "markdown",
   "id": "1fd8aff6-138c-4903-a696-7582bdb025ff",
   "metadata": {},
   "source": [
    "## Combinations"
   ]
  },
  {
   "cell_type": "markdown",
   "id": "cab5d4a0-7ac3-46c2-b128-8df7b87f5c56",
   "metadata": {},
   "source": [
    "#### DACs, Important Farmland, and Areas within 5km of Natural Areas Excluded"
   ]
  },
  {
   "cell_type": "code",
   "execution_count": null,
   "id": "9a5147fd-81ac-474d-b27e-3e738f3514a2",
   "metadata": {},
   "outputs": [],
   "source": [
    "exclusion_list = [dac_raster_path, farm_raster_path, env_5km_raster_path]\n",
    "tech_type = 'Wind'\n",
    "analysis_name = 'dac_farm_env5km'\n",
    "\n",
    "calculate_wind_land_area(exclusion_list=exclusion_list, output_dict=output_dict, \n",
    "                         tech_type=tech_type, analysis_name=analysis_name, show_array=False)"
   ]
  },
  {
   "cell_type": "markdown",
   "id": "701bcf91-4bc6-4747-964e-85b611f02059",
   "metadata": {},
   "source": [
    "#### Important Farmland, and Areas within 5km of Natural Areas Excluded"
   ]
  },
  {
   "cell_type": "code",
   "execution_count": null,
   "id": "6455c237-15f1-44ea-8deb-effe01c1d5db",
   "metadata": {},
   "outputs": [],
   "source": [
    "exclusion_list = [farm_raster_path, env_5km_raster_path]\n",
    "tech_type = 'Wind'\n",
    "analysis_name = 'farm_env5km'\n",
    "\n",
    "calculate_wind_land_area(exclusion_list=exclusion_list, output_dict=output_dict, \n",
    "                         tech_type=tech_type, analysis_name=analysis_name, show_array=False)"
   ]
  },
  {
   "cell_type": "markdown",
   "id": "c342f954-6e42-47af-9da4-a011022615ca",
   "metadata": {},
   "source": [
    "#### Important Farmland, and Areas within 10km of Natural Areas Excluded"
   ]
  },
  {
   "cell_type": "code",
   "execution_count": null,
   "id": "3b4095e4-23c6-46fb-a8a7-1e8f5854f90d",
   "metadata": {},
   "outputs": [],
   "source": [
    "exclusion_list = [farm_raster_path, env_10km_raster_path]\n",
    "tech_type = 'Wind'\n",
    "analysis_name = 'farm_env10km'\n",
    "\n",
    "calculate_wind_land_area(exclusion_list=exclusion_list, output_dict=output_dict, \n",
    "                         tech_type=tech_type, analysis_name=analysis_name, show_array=False)"
   ]
  },
  {
   "cell_type": "markdown",
   "id": "edbfe261-85d6-40c3-aac8-2d5a5d88e0c5",
   "metadata": {},
   "source": [
    "________"
   ]
  },
  {
   "cell_type": "markdown",
   "id": "40cdb290-d2fc-4da9-aeb5-1d2443283eeb",
   "metadata": {},
   "source": [
    "# Solar PV"
   ]
  },
  {
   "cell_type": "markdown",
   "id": "7d08d034-05f9-4966-b089-54ad22a9f04b",
   "metadata": {},
   "source": [
    "## Baseline Siting Availability\n",
    "\n",
    "How much land is available for siting with no additional restrictions in each state?"
   ]
  },
  {
   "cell_type": "code",
   "execution_count": null,
   "id": "76ddff1f-f8f4-43bf-b514-3008ab665fd0",
   "metadata": {},
   "outputs": [],
   "source": [
    "exclusion_list = []\n",
    "tech_type = 'Solar PV'\n",
    "analysis_name = 'baseline'\n",
    "\n",
    "calculate_wind_land_area(exclusion_list=exclusion_list, output_dict=output_dict, \n",
    "                         tech_type=tech_type, analysis_name=analysis_name, show_array=False)"
   ]
  },
  {
   "cell_type": "markdown",
   "id": "bdec3620-c104-4ee2-8d50-90f2ce7ea78e",
   "metadata": {},
   "source": [
    "## DAC areas excluded"
   ]
  },
  {
   "cell_type": "code",
   "execution_count": null,
   "id": "f96dc82f-b3df-435f-a161-2a88d141e694",
   "metadata": {},
   "outputs": [],
   "source": [
    "exclusion_list = [dac_raster_path]\n",
    "tech_type = 'Solar PV'\n",
    "analysis_name = 'dac'\n",
    "\n",
    "calculate_wind_land_area(exclusion_list=exclusion_list, output_dict=output_dict, \n",
    "                         tech_type=tech_type, analysis_name=analysis_name, show_array=False)"
   ]
  },
  {
   "cell_type": "markdown",
   "id": "ffe5fe74-b2fc-4beb-ba6d-da5b00b4226c",
   "metadata": {},
   "source": [
    "## Important farmland areas excluded"
   ]
  },
  {
   "cell_type": "code",
   "execution_count": null,
   "id": "b94f963a-d63d-4e16-9237-26f4ce16dee2",
   "metadata": {},
   "outputs": [],
   "source": [
    "exclusion_list = [farm_raster_path]\n",
    "tech_type = 'Solar PV'\n",
    "analysis_name = 'farmland'\n",
    "\n",
    "calculate_wind_land_area(exclusion_list=exclusion_list, output_dict=output_dict, \n",
    "                         tech_type=tech_type, analysis_name=analysis_name, show_array=False)"
   ]
  },
  {
   "cell_type": "markdown",
   "id": "ea25d8dc-d11d-405e-8866-c1b8fa93b48a",
   "metadata": {},
   "source": [
    "## Areas surrounding natural areas excluded"
   ]
  },
  {
   "cell_type": "markdown",
   "id": "6cc5b5b7-f5af-4d0b-be3d-b03a763e6a41",
   "metadata": {},
   "source": [
    "### Areas within 1-km"
   ]
  },
  {
   "cell_type": "code",
   "execution_count": null,
   "id": "fc396b6e-7a8c-47d0-9196-62eda1329e51",
   "metadata": {},
   "outputs": [],
   "source": [
    "exclusion_list = [env_1km_raster_path]\n",
    "tech_type = 'Solar PV'\n",
    "analysis_name = 'env_1km'\n",
    "\n",
    "calculate_wind_land_area(exclusion_list=exclusion_list, output_dict=output_dict, \n",
    "                         tech_type=tech_type, analysis_name=analysis_name, show_array=False)"
   ]
  },
  {
   "cell_type": "markdown",
   "id": "2a221ed4-8f03-4a1a-a8a3-65a0e060b164",
   "metadata": {},
   "source": [
    "### Areas within 5-km"
   ]
  },
  {
   "cell_type": "code",
   "execution_count": null,
   "id": "d55a9e10-73bd-489f-a07b-c930803c96bf",
   "metadata": {},
   "outputs": [],
   "source": [
    "exclusion_list = [env_5km_raster_path]\n",
    "tech_type = 'Solar PV'\n",
    "analysis_name = 'env_5km'\n",
    "\n",
    "calculate_wind_land_area(exclusion_list=exclusion_list, output_dict=output_dict, \n",
    "                         tech_type=tech_type, analysis_name=analysis_name, show_array=False)"
   ]
  },
  {
   "cell_type": "markdown",
   "id": "5734dabc-ef09-4457-8d33-982a95b46912",
   "metadata": {},
   "source": [
    "### Areas within 10-km"
   ]
  },
  {
   "cell_type": "code",
   "execution_count": null,
   "id": "f02f09a8-3c4c-4b70-8c28-ed586d7707e4",
   "metadata": {},
   "outputs": [],
   "source": [
    "exclusion_list = [env_10km_raster_path]\n",
    "tech_type = 'Solar PV'\n",
    "analysis_name = 'env_10km'\n",
    "\n",
    "calculate_wind_land_area(exclusion_list=exclusion_list, output_dict=output_dict, \n",
    "                         tech_type=tech_type, analysis_name=analysis_name, show_array=False)"
   ]
  },
  {
   "cell_type": "markdown",
   "id": "6da42e6b-3edd-4a0c-89d8-fc7a4c4c647b",
   "metadata": {},
   "source": [
    "## Combinations"
   ]
  },
  {
   "cell_type": "markdown",
   "id": "415533b7-a019-4438-a901-cc2d1ed3e0b4",
   "metadata": {},
   "source": [
    "#### DACs, Important Farmland, and Areas within 5km of Natural Areas Excluded"
   ]
  },
  {
   "cell_type": "code",
   "execution_count": null,
   "id": "9e8aca90-41a3-40ab-8cb8-14143c2bd2bb",
   "metadata": {},
   "outputs": [],
   "source": [
    "exclusion_list = [dac_raster_path, farm_raster_path, env_5km_raster_path]\n",
    "tech_type = 'Solar PV'\n",
    "analysis_name = 'dac_farm_env5km'\n",
    "\n",
    "calculate_wind_land_area(exclusion_list=exclusion_list, output_dict=output_dict, \n",
    "                         tech_type=tech_type, analysis_name=analysis_name, show_array=False)"
   ]
  },
  {
   "cell_type": "markdown",
   "id": "130fae70-b540-417f-9395-210c354da159",
   "metadata": {},
   "source": [
    "#### Important Farmland, and Areas within 5km of Natural Areas Excluded"
   ]
  },
  {
   "cell_type": "code",
   "execution_count": null,
   "id": "626dc741-9aea-4280-8b28-75023f0962f0",
   "metadata": {},
   "outputs": [],
   "source": [
    "exclusion_list = [farm_raster_path, env_5km_raster_path]\n",
    "tech_type = 'Solar PV'\n",
    "analysis_name = 'farm_env5km'\n",
    "\n",
    "calculate_wind_land_area(exclusion_list=exclusion_list, output_dict=output_dict, \n",
    "                         tech_type=tech_type, analysis_name=analysis_name, show_array=False)"
   ]
  },
  {
   "cell_type": "markdown",
   "id": "160009ae-0f80-47f3-8490-dc88168365e3",
   "metadata": {},
   "source": [
    "#### Important Farmland, and Areas within 10km of Natural Areas Excluded"
   ]
  },
  {
   "cell_type": "code",
   "execution_count": null,
   "id": "3571ca9c-bf7a-41ba-9bf0-7e7aa7cb6fc8",
   "metadata": {},
   "outputs": [],
   "source": [
    "exclusion_list = [farm_raster_path, env_10km_raster_path]\n",
    "tech_type = 'Solar PV'\n",
    "analysis_name = 'farm_env10km'\n",
    "\n",
    "calculate_wind_land_area(exclusion_list=exclusion_list, output_dict=output_dict, \n",
    "                         tech_type=tech_type, analysis_name=analysis_name, show_array=False)"
   ]
  },
  {
   "cell_type": "markdown",
   "id": "600658c6-2ab1-4a32-8ca1-210c7795c34b",
   "metadata": {},
   "source": [
    "___________"
   ]
  },
  {
   "cell_type": "markdown",
   "id": "b063bc5f-7b33-483a-9d8c-e6bf074bf160",
   "metadata": {},
   "source": [
    "## Prepare Output"
   ]
  },
  {
   "cell_type": "code",
   "execution_count": null,
   "id": "1ded25fa-0b2d-4910-b3e1-27b4ee461325",
   "metadata": {},
   "outputs": [],
   "source": [
    "# convert output dictionary to dataframe\n",
    "df = pd.DataFrame.from_dict({(i,j): output_dict[i][j] \n",
    "                           for i in output_dict.keys() \n",
    "                           for j in output_dict[i].keys()},\n",
    "                       orient='index')\n",
    "\n",
    "df = df.reset_index().rename(columns={'level_0':'region_name', 'level_1':'tech_name_simple'})\n",
    "df"
   ]
  },
  {
   "cell_type": "markdown",
   "id": "297d8134-12fe-43dc-8e7d-e08086c4f362",
   "metadata": {},
   "source": [
    "### Collect land actually used by wind and solar in each experiment scenario"
   ]
  },
  {
   "cell_type": "code",
   "execution_count": null,
   "id": "a0d2ca68-c4ef-4e9f-b9d0-f0477d1220fe",
   "metadata": {},
   "outputs": [],
   "source": [
    "# infrastructure siting output csv\n",
    "infrastucture_path = os.path.join(data_dir,  'infrastructure_data_csv', 'infrastructure_data.csv')\n",
    "\n",
    "# collect infrastructure data\n",
    "sitings_df = pd.read_csv(infrastucture_path)\n",
    "\n",
    "# select new infrastructure sitings only\n",
    "sitings_df = sitings_df[sitings_df.cerf_sited == 1]\n",
    "\n",
    "# select wind and solar only\n",
    "sitings_df = sitings_df[sitings_df.tech_name_simple.isin(['Solar PV', 'Wind'])]\n",
    "\n",
    "# collect the total land usage used by solar and wind by state and scenario\n",
    "sitings_df = sitings_df[['scenario', 'region_name', 'tech_name_simple', 'xcoord']].groupby(['scenario', 'region_name', 'tech_name_simple'], \n",
    "                                                                                           as_index=False).count()\n",
    "# shorten scenario names\n",
    "sitings_df.scenario.replace('business_as_usual_ira_ccs_climate', 'bau_km', inplace=True)\n",
    "sitings_df.scenario.replace('net_zero_ira_ccs_climate', 'clean_grid_km', inplace=True)\n",
    "\n",
    "#Pivoting dataframe\n",
    "sitings_df = pd.pivot_table(sitings_df, values='xcoord', index=['region_name', 'tech_name_simple'], columns=['scenario'], aggfunc=np.sum)\n",
    "sitings_df = sitings_df.reset_index()\n",
    "sitings_df = sitings_df.rename_axis(None, axis=1)\n",
    "sitings_df"
   ]
  },
  {
   "cell_type": "markdown",
   "id": "cbe093ac-4fc0-4926-ba92-93bd5c2bb52a",
   "metadata": {},
   "source": [
    "##### Combine dataframes and save to file"
   ]
  },
  {
   "cell_type": "code",
   "execution_count": null,
   "id": "2305f589-80b7-4df4-b9cb-a7fe591221af",
   "metadata": {},
   "outputs": [],
   "source": [
    "output_df = pd.merge(df, sitings_df, how='left', on=['region_name', 'tech_name_simple'])"
   ]
  },
  {
   "cell_type": "code",
   "execution_count": null,
   "id": "0fa48bc6-4111-4e54-8719-284cece22217",
   "metadata": {},
   "outputs": [],
   "source": [
    "# output file path\n",
    "output_path = os.path.join(output_dir, 'suitability_analysis.csv')\n",
    "\n",
    "output_df.to_csv(output_path, index=False)"
   ]
  }
 ],
 "metadata": {
  "kernelspec": {
   "display_name": "Python 3 (ipykernel)",
   "language": "python",
   "name": "python3"
  },
  "language_info": {
   "codemirror_mode": {
    "name": "ipython",
    "version": 3
   },
   "file_extension": ".py",
   "mimetype": "text/x-python",
   "name": "python",
   "nbconvert_exporter": "python",
   "pygments_lexer": "ipython3",
   "version": "3.11.0"
  }
 },
 "nbformat": 4,
 "nbformat_minor": 5
}
