{
 "cells": [
  {
   "cell_type": "markdown",
   "id": "7c1dd24a-5186-4012-abe8-62ba8d67de82",
   "metadata": {},
   "source": [
    "# Prepare GCAM-USA Capacity Expansion Data\n",
    "\n",
    "This notebook collects and organizes the total generation (MWh) by technology in 2050 under the Net Zero and Business-as-usual Scenarios"
   ]
  },
  {
   "cell_type": "markdown",
   "id": "5567728c-4130-42f4-aecd-020e945c29b0",
   "metadata": {},
   "source": [
    "## Data Requirements"
   ]
  },
  {
   "cell_type": "markdown",
   "id": "75e70721-aff5-4927-8a2a-47b52c3602a4",
   "metadata": {},
   "source": [
    "This notebook relies on GCAM-USA capacity expansion plan modeling results under Net Zero and Business-as-Usual scenarios. Two files (specified below) need to be downloaded. Please extract each of the downloaded data files inside the `data/input_data/gcam_data` directory of this repository as the paths in this notebook are set to that expectation.\n",
    "\n",
    "**Dataset Title:** GCAM-USA Scenarios for GODEEEP\n",
    "\n",
    "**Files Required** \n",
    "* `bau_ira_ccs_climate.zip` \n",
    "* `nz_ira_ccs_climate.zip`\n",
    "\n",
    "**Description from source:** This dataset contains a set of twelve future (2020-2050) scenarios modeled by GCAM-USA for the GODEEEP project for the purpose of studying the effects of climate, socioeconomic change, technology change, current decarbonization incentives, and longer-term decarbonization policies on the U.S. energy-economy, the electricity grid, human well-being, and the environment.\n",
    "\n",
    "**Download Link**: https://doi.org/10.5281/zenodo.10642507\n",
    "\n",
    "**Reference:**\n",
    "> Ou, Y., Zhang, Y., Waldhoff, S., & Iyer, G. (2024). GCAM-USA Scenarios for GODEEEP (v3.0.2) [Data set]. Zenodo. https://doi.org/10.5281/zenodo.10642507\n",
    "______________\n",
    "\n",
    "Note: Extracting the data from the GCAM output file requires a data query file. This query file has been pre-built and provided in the `input_data/gcam_data/gcam_query_xml` folder of this repository."
   ]
  },
  {
   "cell_type": "markdown",
   "id": "59099560-f1fa-497b-aaa6-b72ccc1c9c94",
   "metadata": {},
   "source": [
    "### Imports"
   ]
  },
  {
   "cell_type": "code",
   "execution_count": null,
   "id": "6dc5d921-2297-45b0-a54a-d756d7792e79",
   "metadata": {},
   "outputs": [],
   "source": [
    "import gcamreader\n",
    "import numpy as np\n",
    "import pandas as pd\n",
    "import os"
   ]
  },
  {
   "cell_type": "markdown",
   "id": "44c2a832-40fd-432d-b1c3-82e30f3ef422",
   "metadata": {},
   "source": [
    "### Data Paths"
   ]
  },
  {
   "cell_type": "code",
   "execution_count": null,
   "id": "13f7bb99-f5e1-479b-97b5-f4bd4b743c7f",
   "metadata": {},
   "outputs": [],
   "source": [
    "# data dir\n",
    "data_dir = os.path.join(os.path.dirname(os.getcwd()), 'data', 'input_data')\n",
    "\n",
    "# gcam data dir\n",
    "gcam_data_dir = os.path.join(data_dir, 'gcam_data')\n",
    "\n",
    "# bau gcam database\n",
    "gcam_db_path = os.path.join(gcam_data_dir, 'GODEEEP_GCAM-USA_Pathways')\n",
    "\n",
    "# gcam query file path\n",
    "gcam_query_path = os.path.join(gcam_data_dir, 'gcam_query_xlm', 'subSetQueries.xml')\n",
    "\n",
    "# output data dir\n",
    "output_dir = os.path.join(os.path.dirname(os.getcwd()), 'data', 'input_data', 'processed_generation_data')\n",
    "\n",
    "# create output directory\n",
    "os.makedirs(output_dir, exist_ok=True)\n",
    "\n",
    "# output file path\n",
    "output_path = os.path.join(output_dir, f'gcam_generation_state_tech_2050.csv')"
   ]
  },
  {
   "cell_type": "markdown",
   "id": "6420f437-6827-4ac0-90b9-7266b70edbfa",
   "metadata": {},
   "source": [
    "### Settings"
   ]
  },
  {
   "cell_type": "code",
   "execution_count": null,
   "id": "024e3bd2-c6a7-42b2-8219-841a42b895e9",
   "metadata": {},
   "outputs": [],
   "source": [
    "# bau file\n",
    "bau_gcam_db_file = 'bau_ira_ccs_climate'\n",
    "\n",
    "# net zero file\n",
    "nz_gcam_db_file = 'nz_ira_ccs_climate'\n",
    "\n",
    "# query name for generation data\n",
    "generation_query_name = \"elec gen by gen tech USA\"\n",
    "\n",
    "# western interconnection states\n",
    "region_list = ['WA', 'OR', 'CA', 'ID', 'MT', 'WY', 'NV', 'UT', 'AZ', 'NM', 'CO']\n",
    "\n",
    "# dictionary of abbreviations to state names\n",
    "WECC = {'AZ': 'arizona', 'CA': 'california', 'CO': 'colorado', 'ID': 'idaho',  'MT': 'montana', \n",
    "        'NM': 'new_mexico', 'NV': 'nevada', 'UT':'utah', 'OR': 'oregon', 'WA': 'washington','WY': 'wyoming'}\n",
    "\n",
    "# dictionary of technology types to collect from database\n",
    "renewable_dict = {'wind': ['wind_base', 'wind_base_storage','wind_int', 'wind_subpeak'],\n",
    "                  'solar': ['PV_base_storage', 'PV_int','PV_peak','PV_subpeak']}"
   ]
  },
  {
   "cell_type": "markdown",
   "id": "68b1416c-ba56-48c3-a7cc-131a1e04fff4",
   "metadata": {},
   "source": [
    "### Functions"
   ]
  },
  {
   "cell_type": "code",
   "execution_count": null,
   "id": "f4238d73-f34a-407d-bb29-36eca834ced0",
   "metadata": {},
   "outputs": [],
   "source": [
    "def convert_ej_to_mwh(ej):\n",
    "    \"\"\"Convert native gcam Exajoule output to mw-hours\"\"\"\n",
    "    return ej*277777777.7777778\n",
    "\n",
    "\n",
    "def get_query_by_name(queries, name):\n",
    "    \"\"\"Return query for given name\"\"\"\n",
    "    return next((x for x in queries if x.title == name), None)"
   ]
  },
  {
   "cell_type": "markdown",
   "id": "cf9f790f-e8d4-46bb-b644-1bc942ff9a24",
   "metadata": {},
   "source": [
    "### Connect and Process GCAM Data"
   ]
  },
  {
   "cell_type": "code",
   "execution_count": null,
   "id": "1544f4c8-216c-4d0f-8eba-e583c615f341",
   "metadata": {},
   "outputs": [],
   "source": [
    "# net zero database connection\n",
    "nz_conn = gcamreader.LocalDBConn(gcam_data_dir, nz_gcam_db_file)\n",
    "\n",
    "# business-as-usual database connection\n",
    "bau_conn = gcamreader.LocalDBConn(gcam_data_dir, bau_gcam_db_file)\n",
    "\n",
    "# list of queries\n",
    "queries = gcamreader.parse_batch_query(gcam_query_path)"
   ]
  },
  {
   "cell_type": "markdown",
   "id": "b5b16bc9-bf7e-4c99-864d-04d5734311f6",
   "metadata": {},
   "source": [
    "##### Net Zero"
   ]
  },
  {
   "cell_type": "code",
   "execution_count": null,
   "id": "31d137e8-9342-4567-9b2f-ad090a660276",
   "metadata": {},
   "outputs": [],
   "source": [
    "# net zero generation data\n",
    "nz_generation = nz_conn.runQuery(get_query_by_name(queries, generation_query_name), regions=region_list)\n",
    "\n",
    "# reduce to western interconnection states\n",
    "nz_generation = nz_generation[nz_generation.region.isin(WECC.keys())]\n",
    "\n",
    "# collect technologies of interest\n",
    "nz_generation = nz_generation[nz_generation.subsector.isin(['solar', 'wind'])]\n",
    "nz_generation = nz_generation[(nz_generation.technology.isin(renewable_dict['wind'])) | (nz_generation.technology.isin(renewable_dict['solar']))]\n",
    "\n",
    "# simplify naming and columns to include\n",
    "nz_generation['tech_type'] = np.where((nz_generation.technology.isin(renewable_dict['wind'])), 'Wind', 'Solar PV') \n",
    "nz_generation = nz_generation[['region', 'Year', 'tech_type', 'value']]\n",
    "\n",
    "# select year of interest\n",
    "nz_generation = nz_generation[nz_generation.Year == 2050]\n",
    "\n",
    "# group data by technology type\n",
    "nz_generation = nz_generation.groupby(['region','tech_type'], as_index=False).sum()\n",
    "\n",
    "# convert generation to TWh\n",
    "nz_generation['value'] = round(convert_ej_to_mwh(nz_generation['value']), 2)\n",
    "\n",
    "# set scenario name\n",
    "nz_generation['scenario'] = 'net_zero_ira_ccs_climate'\n",
    "\n",
    "# assign units\n",
    "nz_generation['units'] = 'gen_mwh'\n",
    "\n",
    "# assign year\n",
    "nz_generation['Year'] = 2050"
   ]
  },
  {
   "cell_type": "markdown",
   "id": "1ace0b75-368e-428f-a3dc-f9d0c8174d28",
   "metadata": {},
   "source": [
    "##### Business-as-usual"
   ]
  },
  {
   "cell_type": "code",
   "execution_count": null,
   "id": "fd1abcff-af31-44f0-ace2-a05ecbf8df98",
   "metadata": {},
   "outputs": [],
   "source": [
    "# bau generation data\n",
    "bau_generation = bau_conn.runQuery(get_query_by_name(queries, generation_query_name), regions=region_list)\n",
    "\n",
    "# reduce to western interconnection states\n",
    "bau_generation = bau_generation[bau_generation.region.isin(WECC.keys())]\n",
    "\n",
    "# collect technologies of interest\n",
    "bau_generation = bau_generation[bau_generation.subsector.isin(['solar', 'wind'])]\n",
    "bau_generation = bau_generation[(bau_generation.technology.isin(renewable_dict['wind'])) | (bau_generation.technology.isin(renewable_dict['solar']))]\n",
    "\n",
    "# simplify naming and columns to include\n",
    "bau_generation['tech_type'] = np.where((bau_generation.technology.isin(renewable_dict['wind'])), 'Wind', 'Solar PV') \n",
    "bau_generation = bau_generation[['region', 'Year', 'tech_type', 'value']]\n",
    "\n",
    "# select year of interest\n",
    "bau_generation = bau_generation[bau_generation.Year == 2050]\n",
    "\n",
    "# group data by technology type\n",
    "bau_generation = bau_generation.groupby(['region','tech_type'], as_index=False).sum()\n",
    "\n",
    "# convert generation to TWh\n",
    "bau_generation['value'] = round(convert_ej_to_mwh(bau_generation['value']), 2)\n",
    "\n",
    "# set scenario name\n",
    "bau_generation['scenario'] = 'business_as_usual_ira_ccs_climate'\n",
    "\n",
    "# assign units\n",
    "bau_generation['units'] = 'gen_mwh'\n",
    "\n",
    "#assign year\n",
    "bau_generation['Year'] = 2050"
   ]
  },
  {
   "cell_type": "markdown",
   "id": "4c7c9530-b988-4248-81c6-b6b17d20407c",
   "metadata": {},
   "source": [
    "### Combine Scenarios"
   ]
  },
  {
   "cell_type": "code",
   "execution_count": null,
   "id": "61c7ece2-54c0-4774-8640-961da21bf88d",
   "metadata": {},
   "outputs": [],
   "source": [
    "# combine bau and net zero files\n",
    "gcam_data = pd.concat([bau_generation, nz_generation])\n",
    "\n",
    "# collect full state names\n",
    "gcam_data['region_name'] = gcam_data['region'].map(WECC)"
   ]
  },
  {
   "cell_type": "markdown",
   "id": "5b15f2a8-21a2-47e0-a77e-84cd4286b2fc",
   "metadata": {},
   "source": [
    "#### Save to file"
   ]
  },
  {
   "cell_type": "code",
   "execution_count": null,
   "id": "da7308b4-4027-48c6-ba38-551d3fbca748",
   "metadata": {},
   "outputs": [],
   "source": [
    "gcam_data.to_csv(output_path, index=False)"
   ]
  }
 ],
 "metadata": {
  "kernelspec": {
   "display_name": "Python 3 (ipykernel)",
   "language": "python",
   "name": "python3"
  },
  "language_info": {
   "codemirror_mode": {
    "name": "ipython",
    "version": 3
   },
   "file_extension": ".py",
   "mimetype": "text/x-python",
   "name": "python",
   "nbconvert_exporter": "python",
   "pygments_lexer": "ipython3",
   "version": "3.11.0"
  }
 },
 "nbformat": 4,
 "nbformat_minor": 5
}
