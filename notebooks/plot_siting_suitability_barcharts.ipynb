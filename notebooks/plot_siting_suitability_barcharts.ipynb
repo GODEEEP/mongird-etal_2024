{
 "cells": [
  {
   "cell_type": "markdown",
   "id": "83e41430-e493-4349-bc2f-a08418b847c2",
   "metadata": {},
   "source": [
    "## Imports"
   ]
  },
  {
   "cell_type": "code",
   "execution_count": 3,
   "id": "51bd9e41-973a-4d6d-a587-cba62ca14888",
   "metadata": {},
   "outputs": [],
   "source": [
    "import pandas as pd\n",
    "import plotly.express as px\n",
    "import kaleido\n",
    "\n",
    "import os"
   ]
  },
  {
   "cell_type": "markdown",
   "id": "d1dbfb72-8eb9-4677-a138-e001273884a7",
   "metadata": {},
   "source": [
    "## Data Paths"
   ]
  },
  {
   "cell_type": "code",
   "execution_count": 105,
   "id": "c7891c4a-2562-4846-82c7-c93973034439",
   "metadata": {},
   "outputs": [],
   "source": [
    "year = 2050\n",
    "\n",
    "# data dir\n",
    "data_dir = os.path.join(os.path.dirname(os.getcwd()), 'data', 'output_data')\n",
    "\n",
    "# output figure dir\n",
    "fig_dir = os.path.join(os.path.dirname(os.getcwd()), 'figures')\n",
    "\n",
    "# path to suitability analysis df\n",
    "suitability_data_path = os.path.join(data_dir, f'suitability_analysis_{year}.csv')"
   ]
  },
  {
   "cell_type": "markdown",
   "id": "89563167-be1d-4eaf-af5a-34c4d3d5310f",
   "metadata": {},
   "source": [
    "## Functions"
   ]
  },
  {
   "cell_type": "code",
   "execution_count": null,
   "id": "c4575aa2-f3b0-4fa7-b202-758a5afd0c29",
   "metadata": {},
   "outputs": [],
   "source": []
  },
  {
   "cell_type": "markdown",
   "id": "e54b3fbc-994c-4b44-ab1b-c40c26cfd326",
   "metadata": {},
   "source": [
    "## Collect Data"
   ]
  },
  {
   "cell_type": "code",
   "execution_count": 106,
   "id": "0da585f1-40ab-48f8-8cf2-eb82e05341f4",
   "metadata": {},
   "outputs": [],
   "source": [
    "df = pd.read_csv(suitability_data_path)\n",
    "\n",
    "solar = df[df.tech_name_simple == 'Solar PV']\n",
    "solar_df = solar.melt(id_vars=['region_name', 'tech_name_simple'])\n",
    "\n",
    "wind = df[df.tech_name_simple == 'Wind']\n",
    "\n",
    "wind_df = wind.melt(id_vars=['region_name', 'tech_name_simple'])\n",
    "\n",
    "bau_km_list = list(wind['bau_km'])\n",
    "\n",
    "cg_km_list = list(wind['clean_grid_km'])\n",
    "\n"
   ]
  },
  {
   "cell_type": "code",
   "execution_count": 107,
   "id": "681a6bbc-b007-40d4-b537-174f2bc2046e",
   "metadata": {},
   "outputs": [],
   "source": [
    "label_dict = {\n",
    "    'baseline': 'Baseline Restrictions (BR)',\n",
    "     'dac': 'BR + DACs',\n",
    "     'farmland': 'BR + Important Farmland',\n",
    "     'env_1km': 'BR + w/in 1km of Natural Areas',\n",
    "     'env_5km': 'BR + w/in 5km of Natural Areas',\n",
    "     'env_10km': 'BR + w/in 10km of Natural Areas',\n",
    "     'dac_farm_env5km': 'BR + DACS, w/in 5km of Natural Area, and Important Farmland',\n",
    "     'farm_env5km': 'BR + w/in 5km of Natural Area and Important Farmland',\n",
    "     'farm_env10km': 'BR + w/in 10km of Natural Area and Important Farmland'}\n",
    "\n",
    "wind_df = wind_df[~wind_df.variable.isin(['bau_km', 'clean_grid_km'])]\n",
    "wind_df.variable = wind_df.variable.map(label_dict)"
   ]
  },
  {
   "cell_type": "code",
   "execution_count": 109,
   "id": "190a4583-b63b-414b-962b-e10abf2feca0",
   "metadata": {},
   "outputs": [
    {
     "data": {
      "application/vnd.plotly.v1+json": {
       "config": {
        "plotlyServerURL": "https://plot.ly"
       },
       "data": [
        {
         "alignmentgroup": "True",
         "hovertemplate": "variable=%{x}<br>region_name=arizona<br>value=%{y}<extra></extra>",
         "legendgroup": "Baseline Restrictions (BR)",
         "marker": {
          "color": "rgb(102, 197, 204)",
          "pattern": {
           "shape": ""
          }
         },
         "name": "Baseline Restrictions (BR)",
         "offsetgroup": "Baseline Restrictions (BR)",
         "orientation": "v",
         "showlegend": true,
         "textposition": "auto",
         "type": "bar",
         "x": [
          "Baseline Restrictions (BR)"
         ],
         "xaxis": "x11",
         "y": [
          5477
         ],
         "yaxis": "y11"
        },
        {
         "alignmentgroup": "True",
         "hovertemplate": "variable=%{x}<br>region_name=california<br>value=%{y}<extra></extra>",
         "legendgroup": "Baseline Restrictions (BR)",
         "marker": {
          "color": "rgb(102, 197, 204)",
          "pattern": {
           "shape": ""
          }
         },
         "name": "Baseline Restrictions (BR)",
         "offsetgroup": "Baseline Restrictions (BR)",
         "orientation": "v",
         "showlegend": false,
         "textposition": "auto",
         "type": "bar",
         "x": [
          "Baseline Restrictions (BR)"
         ],
         "xaxis": "x10",
         "y": [
          9514
         ],
         "yaxis": "y10"
        },
        {
         "alignmentgroup": "True",
         "hovertemplate": "variable=%{x}<br>region_name=colorado<br>value=%{y}<extra></extra>",
         "legendgroup": "Baseline Restrictions (BR)",
         "marker": {
          "color": "rgb(102, 197, 204)",
          "pattern": {
           "shape": ""
          }
         },
         "name": "Baseline Restrictions (BR)",
         "offsetgroup": "Baseline Restrictions (BR)",
         "orientation": "v",
         "showlegend": false,
         "textposition": "auto",
         "type": "bar",
         "x": [
          "Baseline Restrictions (BR)"
         ],
         "xaxis": "x9",
         "y": [
          34116
         ],
         "yaxis": "y9"
        },
        {
         "alignmentgroup": "True",
         "hovertemplate": "variable=%{x}<br>region_name=idaho<br>value=%{y}<extra></extra>",
         "legendgroup": "Baseline Restrictions (BR)",
         "marker": {
          "color": "rgb(102, 197, 204)",
          "pattern": {
           "shape": ""
          }
         },
         "name": "Baseline Restrictions (BR)",
         "offsetgroup": "Baseline Restrictions (BR)",
         "orientation": "v",
         "showlegend": false,
         "textposition": "auto",
         "type": "bar",
         "x": [
          "Baseline Restrictions (BR)"
         ],
         "xaxis": "x8",
         "y": [
          3329
         ],
         "yaxis": "y8"
        },
        {
         "alignmentgroup": "True",
         "hovertemplate": "variable=%{x}<br>region_name=montana<br>value=%{y}<extra></extra>",
         "legendgroup": "Baseline Restrictions (BR)",
         "marker": {
          "color": "rgb(102, 197, 204)",
          "pattern": {
           "shape": ""
          }
         },
         "name": "Baseline Restrictions (BR)",
         "offsetgroup": "Baseline Restrictions (BR)",
         "orientation": "v",
         "showlegend": false,
         "textposition": "auto",
         "type": "bar",
         "x": [
          "Baseline Restrictions (BR)"
         ],
         "xaxis": "x7",
         "y": [
          95935
         ],
         "yaxis": "y7"
        },
        {
         "alignmentgroup": "True",
         "hovertemplate": "variable=%{x}<br>region_name=new_mexico<br>value=%{y}<extra></extra>",
         "legendgroup": "Baseline Restrictions (BR)",
         "marker": {
          "color": "rgb(102, 197, 204)",
          "pattern": {
           "shape": ""
          }
         },
         "name": "Baseline Restrictions (BR)",
         "offsetgroup": "Baseline Restrictions (BR)",
         "orientation": "v",
         "showlegend": false,
         "textposition": "auto",
         "type": "bar",
         "x": [
          "Baseline Restrictions (BR)"
         ],
         "xaxis": "x6",
         "y": [
          53510
         ],
         "yaxis": "y6"
        },
        {
         "alignmentgroup": "True",
         "hovertemplate": "variable=%{x}<br>region_name=nevada<br>value=%{y}<extra></extra>",
         "legendgroup": "Baseline Restrictions (BR)",
         "marker": {
          "color": "rgb(102, 197, 204)",
          "pattern": {
           "shape": ""
          }
         },
         "name": "Baseline Restrictions (BR)",
         "offsetgroup": "Baseline Restrictions (BR)",
         "orientation": "v",
         "showlegend": false,
         "textposition": "auto",
         "type": "bar",
         "x": [
          "Baseline Restrictions (BR)"
         ],
         "xaxis": "x5",
         "y": [
          5545
         ],
         "yaxis": "y5"
        },
        {
         "alignmentgroup": "True",
         "hovertemplate": "variable=%{x}<br>region_name=oregon<br>value=%{y}<extra></extra>",
         "legendgroup": "Baseline Restrictions (BR)",
         "marker": {
          "color": "rgb(102, 197, 204)",
          "pattern": {
           "shape": ""
          }
         },
         "name": "Baseline Restrictions (BR)",
         "offsetgroup": "Baseline Restrictions (BR)",
         "orientation": "v",
         "showlegend": false,
         "textposition": "auto",
         "type": "bar",
         "x": [
          "Baseline Restrictions (BR)"
         ],
         "xaxis": "x4",
         "y": [
          6434
         ],
         "yaxis": "y4"
        },
        {
         "alignmentgroup": "True",
         "hovertemplate": "variable=%{x}<br>region_name=utah<br>value=%{y}<extra></extra>",
         "legendgroup": "Baseline Restrictions (BR)",
         "marker": {
          "color": "rgb(102, 197, 204)",
          "pattern": {
           "shape": ""
          }
         },
         "name": "Baseline Restrictions (BR)",
         "offsetgroup": "Baseline Restrictions (BR)",
         "orientation": "v",
         "showlegend": false,
         "textposition": "auto",
         "type": "bar",
         "x": [
          "Baseline Restrictions (BR)"
         ],
         "xaxis": "x3",
         "y": [
          2860
         ],
         "yaxis": "y3"
        },
        {
         "alignmentgroup": "True",
         "hovertemplate": "variable=%{x}<br>region_name=washington<br>value=%{y}<extra></extra>",
         "legendgroup": "Baseline Restrictions (BR)",
         "marker": {
          "color": "rgb(102, 197, 204)",
          "pattern": {
           "shape": ""
          }
         },
         "name": "Baseline Restrictions (BR)",
         "offsetgroup": "Baseline Restrictions (BR)",
         "orientation": "v",
         "showlegend": false,
         "textposition": "auto",
         "type": "bar",
         "x": [
          "Baseline Restrictions (BR)"
         ],
         "xaxis": "x2",
         "y": [
          5392
         ],
         "yaxis": "y2"
        },
        {
         "alignmentgroup": "True",
         "hovertemplate": "variable=%{x}<br>region_name=wyoming<br>value=%{y}<extra></extra>",
         "legendgroup": "Baseline Restrictions (BR)",
         "marker": {
          "color": "rgb(102, 197, 204)",
          "pattern": {
           "shape": ""
          }
         },
         "name": "Baseline Restrictions (BR)",
         "offsetgroup": "Baseline Restrictions (BR)",
         "orientation": "v",
         "showlegend": false,
         "textposition": "auto",
         "type": "bar",
         "x": [
          "Baseline Restrictions (BR)"
         ],
         "xaxis": "x",
         "y": [
          74324
         ],
         "yaxis": "y"
        },
        {
         "alignmentgroup": "True",
         "hovertemplate": "variable=%{x}<br>region_name=arizona<br>value=%{y}<extra></extra>",
         "legendgroup": "BR + DACs",
         "marker": {
          "color": "rgb(246, 207, 113)",
          "pattern": {
           "shape": ""
          }
         },
         "name": "BR + DACs",
         "offsetgroup": "BR + DACs",
         "orientation": "v",
         "showlegend": true,
         "textposition": "auto",
         "type": "bar",
         "x": [
          "BR + DACs"
         ],
         "xaxis": "x11",
         "y": [
          1371
         ],
         "yaxis": "y11"
        },
        {
         "alignmentgroup": "True",
         "hovertemplate": "variable=%{x}<br>region_name=california<br>value=%{y}<extra></extra>",
         "legendgroup": "BR + DACs",
         "marker": {
          "color": "rgb(246, 207, 113)",
          "pattern": {
           "shape": ""
          }
         },
         "name": "BR + DACs",
         "offsetgroup": "BR + DACs",
         "orientation": "v",
         "showlegend": false,
         "textposition": "auto",
         "type": "bar",
         "x": [
          "BR + DACs"
         ],
         "xaxis": "x10",
         "y": [
          4789
         ],
         "yaxis": "y10"
        },
        {
         "alignmentgroup": "True",
         "hovertemplate": "variable=%{x}<br>region_name=colorado<br>value=%{y}<extra></extra>",
         "legendgroup": "BR + DACs",
         "marker": {
          "color": "rgb(246, 207, 113)",
          "pattern": {
           "shape": ""
          }
         },
         "name": "BR + DACs",
         "offsetgroup": "BR + DACs",
         "orientation": "v",
         "showlegend": false,
         "textposition": "auto",
         "type": "bar",
         "x": [
          "BR + DACs"
         ],
         "xaxis": "x9",
         "y": [
          14401
         ],
         "yaxis": "y9"
        },
        {
         "alignmentgroup": "True",
         "hovertemplate": "variable=%{x}<br>region_name=idaho<br>value=%{y}<extra></extra>",
         "legendgroup": "BR + DACs",
         "marker": {
          "color": "rgb(246, 207, 113)",
          "pattern": {
           "shape": ""
          }
         },
         "name": "BR + DACs",
         "offsetgroup": "BR + DACs",
         "orientation": "v",
         "showlegend": false,
         "textposition": "auto",
         "type": "bar",
         "x": [
          "BR + DACs"
         ],
         "xaxis": "x8",
         "y": [
          1075
         ],
         "yaxis": "y8"
        },
        {
         "alignmentgroup": "True",
         "hovertemplate": "variable=%{x}<br>region_name=montana<br>value=%{y}<extra></extra>",
         "legendgroup": "BR + DACs",
         "marker": {
          "color": "rgb(246, 207, 113)",
          "pattern": {
           "shape": ""
          }
         },
         "name": "BR + DACs",
         "offsetgroup": "BR + DACs",
         "orientation": "v",
         "showlegend": false,
         "textposition": "auto",
         "type": "bar",
         "x": [
          "BR + DACs"
         ],
         "xaxis": "x7",
         "y": [
          46731
         ],
         "yaxis": "y7"
        },
        {
         "alignmentgroup": "True",
         "hovertemplate": "variable=%{x}<br>region_name=new_mexico<br>value=%{y}<extra></extra>",
         "legendgroup": "BR + DACs",
         "marker": {
          "color": "rgb(246, 207, 113)",
          "pattern": {
           "shape": ""
          }
         },
         "name": "BR + DACs",
         "offsetgroup": "BR + DACs",
         "orientation": "v",
         "showlegend": false,
         "textposition": "auto",
         "type": "bar",
         "x": [
          "BR + DACs"
         ],
         "xaxis": "x6",
         "y": [
          4687
         ],
         "yaxis": "y6"
        },
        {
         "alignmentgroup": "True",
         "hovertemplate": "variable=%{x}<br>region_name=nevada<br>value=%{y}<extra></extra>",
         "legendgroup": "BR + DACs",
         "marker": {
          "color": "rgb(246, 207, 113)",
          "pattern": {
           "shape": ""
          }
         },
         "name": "BR + DACs",
         "offsetgroup": "BR + DACs",
         "orientation": "v",
         "showlegend": false,
         "textposition": "auto",
         "type": "bar",
         "x": [
          "BR + DACs"
         ],
         "xaxis": "x5",
         "y": [
          4545
         ],
         "yaxis": "y5"
        },
        {
         "alignmentgroup": "True",
         "hovertemplate": "variable=%{x}<br>region_name=oregon<br>value=%{y}<extra></extra>",
         "legendgroup": "BR + DACs",
         "marker": {
          "color": "rgb(246, 207, 113)",
          "pattern": {
           "shape": ""
          }
         },
         "name": "BR + DACs",
         "offsetgroup": "BR + DACs",
         "orientation": "v",
         "showlegend": false,
         "textposition": "auto",
         "type": "bar",
         "x": [
          "BR + DACs"
         ],
         "xaxis": "x4",
         "y": [
          2122
         ],
         "yaxis": "y4"
        },
        {
         "alignmentgroup": "True",
         "hovertemplate": "variable=%{x}<br>region_name=utah<br>value=%{y}<extra></extra>",
         "legendgroup": "BR + DACs",
         "marker": {
          "color": "rgb(246, 207, 113)",
          "pattern": {
           "shape": ""
          }
         },
         "name": "BR + DACs",
         "offsetgroup": "BR + DACs",
         "orientation": "v",
         "showlegend": false,
         "textposition": "auto",
         "type": "bar",
         "x": [
          "BR + DACs"
         ],
         "xaxis": "x3",
         "y": [
          2048
         ],
         "yaxis": "y3"
        },
        {
         "alignmentgroup": "True",
         "hovertemplate": "variable=%{x}<br>region_name=washington<br>value=%{y}<extra></extra>",
         "legendgroup": "BR + DACs",
         "marker": {
          "color": "rgb(246, 207, 113)",
          "pattern": {
           "shape": ""
          }
         },
         "name": "BR + DACs",
         "offsetgroup": "BR + DACs",
         "orientation": "v",
         "showlegend": false,
         "textposition": "auto",
         "type": "bar",
         "x": [
          "BR + DACs"
         ],
         "xaxis": "x2",
         "y": [
          3102
         ],
         "yaxis": "y2"
        },
        {
         "alignmentgroup": "True",
         "hovertemplate": "variable=%{x}<br>region_name=wyoming<br>value=%{y}<extra></extra>",
         "legendgroup": "BR + DACs",
         "marker": {
          "color": "rgb(246, 207, 113)",
          "pattern": {
           "shape": ""
          }
         },
         "name": "BR + DACs",
         "offsetgroup": "BR + DACs",
         "orientation": "v",
         "showlegend": false,
         "textposition": "auto",
         "type": "bar",
         "x": [
          "BR + DACs"
         ],
         "xaxis": "x",
         "y": [
          62770
         ],
         "yaxis": "y"
        },
        {
         "alignmentgroup": "True",
         "hovertemplate": "variable=%{x}<br>region_name=arizona<br>value=%{y}<extra></extra>",
         "legendgroup": "BR + Important Farmland",
         "marker": {
          "color": "rgb(248, 156, 116)",
          "pattern": {
           "shape": ""
          }
         },
         "name": "BR + Important Farmland",
         "offsetgroup": "BR + Important Farmland",
         "orientation": "v",
         "showlegend": true,
         "textposition": "auto",
         "type": "bar",
         "x": [
          "BR + Important Farmland"
         ],
         "xaxis": "x11",
         "y": [
          5477
         ],
         "yaxis": "y11"
        },
        {
         "alignmentgroup": "True",
         "hovertemplate": "variable=%{x}<br>region_name=california<br>value=%{y}<extra></extra>",
         "legendgroup": "BR + Important Farmland",
         "marker": {
          "color": "rgb(248, 156, 116)",
          "pattern": {
           "shape": ""
          }
         },
         "name": "BR + Important Farmland",
         "offsetgroup": "BR + Important Farmland",
         "orientation": "v",
         "showlegend": false,
         "textposition": "auto",
         "type": "bar",
         "x": [
          "BR + Important Farmland"
         ],
         "xaxis": "x10",
         "y": [
          9129
         ],
         "yaxis": "y10"
        },
        {
         "alignmentgroup": "True",
         "hovertemplate": "variable=%{x}<br>region_name=colorado<br>value=%{y}<extra></extra>",
         "legendgroup": "BR + Important Farmland",
         "marker": {
          "color": "rgb(248, 156, 116)",
          "pattern": {
           "shape": ""
          }
         },
         "name": "BR + Important Farmland",
         "offsetgroup": "BR + Important Farmland",
         "orientation": "v",
         "showlegend": false,
         "textposition": "auto",
         "type": "bar",
         "x": [
          "BR + Important Farmland"
         ],
         "xaxis": "x9",
         "y": [
          30713
         ],
         "yaxis": "y9"
        },
        {
         "alignmentgroup": "True",
         "hovertemplate": "variable=%{x}<br>region_name=idaho<br>value=%{y}<extra></extra>",
         "legendgroup": "BR + Important Farmland",
         "marker": {
          "color": "rgb(248, 156, 116)",
          "pattern": {
           "shape": ""
          }
         },
         "name": "BR + Important Farmland",
         "offsetgroup": "BR + Important Farmland",
         "orientation": "v",
         "showlegend": false,
         "textposition": "auto",
         "type": "bar",
         "x": [
          "BR + Important Farmland"
         ],
         "xaxis": "x8",
         "y": [
          3309
         ],
         "yaxis": "y8"
        },
        {
         "alignmentgroup": "True",
         "hovertemplate": "variable=%{x}<br>region_name=montana<br>value=%{y}<extra></extra>",
         "legendgroup": "BR + Important Farmland",
         "marker": {
          "color": "rgb(248, 156, 116)",
          "pattern": {
           "shape": ""
          }
         },
         "name": "BR + Important Farmland",
         "offsetgroup": "BR + Important Farmland",
         "orientation": "v",
         "showlegend": false,
         "textposition": "auto",
         "type": "bar",
         "x": [
          "BR + Important Farmland"
         ],
         "xaxis": "x7",
         "y": [
          81764
         ],
         "yaxis": "y7"
        },
        {
         "alignmentgroup": "True",
         "hovertemplate": "variable=%{x}<br>region_name=new_mexico<br>value=%{y}<extra></extra>",
         "legendgroup": "BR + Important Farmland",
         "marker": {
          "color": "rgb(248, 156, 116)",
          "pattern": {
           "shape": ""
          }
         },
         "name": "BR + Important Farmland",
         "offsetgroup": "BR + Important Farmland",
         "orientation": "v",
         "showlegend": false,
         "textposition": "auto",
         "type": "bar",
         "x": [
          "BR + Important Farmland"
         ],
         "xaxis": "x6",
         "y": [
          44208
         ],
         "yaxis": "y6"
        },
        {
         "alignmentgroup": "True",
         "hovertemplate": "variable=%{x}<br>region_name=nevada<br>value=%{y}<extra></extra>",
         "legendgroup": "BR + Important Farmland",
         "marker": {
          "color": "rgb(248, 156, 116)",
          "pattern": {
           "shape": ""
          }
         },
         "name": "BR + Important Farmland",
         "offsetgroup": "BR + Important Farmland",
         "orientation": "v",
         "showlegend": false,
         "textposition": "auto",
         "type": "bar",
         "x": [
          "BR + Important Farmland"
         ],
         "xaxis": "x5",
         "y": [
          5545
         ],
         "yaxis": "y5"
        },
        {
         "alignmentgroup": "True",
         "hovertemplate": "variable=%{x}<br>region_name=oregon<br>value=%{y}<extra></extra>",
         "legendgroup": "BR + Important Farmland",
         "marker": {
          "color": "rgb(248, 156, 116)",
          "pattern": {
           "shape": ""
          }
         },
         "name": "BR + Important Farmland",
         "offsetgroup": "BR + Important Farmland",
         "orientation": "v",
         "showlegend": false,
         "textposition": "auto",
         "type": "bar",
         "x": [
          "BR + Important Farmland"
         ],
         "xaxis": "x4",
         "y": [
          3766
         ],
         "yaxis": "y4"
        },
        {
         "alignmentgroup": "True",
         "hovertemplate": "variable=%{x}<br>region_name=utah<br>value=%{y}<extra></extra>",
         "legendgroup": "BR + Important Farmland",
         "marker": {
          "color": "rgb(248, 156, 116)",
          "pattern": {
           "shape": ""
          }
         },
         "name": "BR + Important Farmland",
         "offsetgroup": "BR + Important Farmland",
         "orientation": "v",
         "showlegend": false,
         "textposition": "auto",
         "type": "bar",
         "x": [
          "BR + Important Farmland"
         ],
         "xaxis": "x3",
         "y": [
          2845
         ],
         "yaxis": "y3"
        },
        {
         "alignmentgroup": "True",
         "hovertemplate": "variable=%{x}<br>region_name=washington<br>value=%{y}<extra></extra>",
         "legendgroup": "BR + Important Farmland",
         "marker": {
          "color": "rgb(248, 156, 116)",
          "pattern": {
           "shape": ""
          }
         },
         "name": "BR + Important Farmland",
         "offsetgroup": "BR + Important Farmland",
         "orientation": "v",
         "showlegend": false,
         "textposition": "auto",
         "type": "bar",
         "x": [
          "BR + Important Farmland"
         ],
         "xaxis": "x2",
         "y": [
          3406
         ],
         "yaxis": "y2"
        },
        {
         "alignmentgroup": "True",
         "hovertemplate": "variable=%{x}<br>region_name=wyoming<br>value=%{y}<extra></extra>",
         "legendgroup": "BR + Important Farmland",
         "marker": {
          "color": "rgb(248, 156, 116)",
          "pattern": {
           "shape": ""
          }
         },
         "name": "BR + Important Farmland",
         "offsetgroup": "BR + Important Farmland",
         "orientation": "v",
         "showlegend": false,
         "textposition": "auto",
         "type": "bar",
         "x": [
          "BR + Important Farmland"
         ],
         "xaxis": "x",
         "y": [
          73638
         ],
         "yaxis": "y"
        },
        {
         "alignmentgroup": "True",
         "hovertemplate": "variable=%{x}<br>region_name=arizona<br>value=%{y}<extra></extra>",
         "legendgroup": "BR + w/in 1km of Natural Areas",
         "marker": {
          "color": "rgb(220, 176, 242)",
          "pattern": {
           "shape": ""
          }
         },
         "name": "BR + w/in 1km of Natural Areas",
         "offsetgroup": "BR + w/in 1km of Natural Areas",
         "orientation": "v",
         "showlegend": true,
         "textposition": "auto",
         "type": "bar",
         "x": [
          "BR + w/in 1km of Natural Areas"
         ],
         "xaxis": "x11",
         "y": [
          4759
         ],
         "yaxis": "y11"
        },
        {
         "alignmentgroup": "True",
         "hovertemplate": "variable=%{x}<br>region_name=california<br>value=%{y}<extra></extra>",
         "legendgroup": "BR + w/in 1km of Natural Areas",
         "marker": {
          "color": "rgb(220, 176, 242)",
          "pattern": {
           "shape": ""
          }
         },
         "name": "BR + w/in 1km of Natural Areas",
         "offsetgroup": "BR + w/in 1km of Natural Areas",
         "orientation": "v",
         "showlegend": false,
         "textposition": "auto",
         "type": "bar",
         "x": [
          "BR + w/in 1km of Natural Areas"
         ],
         "xaxis": "x10",
         "y": [
          7281
         ],
         "yaxis": "y10"
        },
        {
         "alignmentgroup": "True",
         "hovertemplate": "variable=%{x}<br>region_name=colorado<br>value=%{y}<extra></extra>",
         "legendgroup": "BR + w/in 1km of Natural Areas",
         "marker": {
          "color": "rgb(220, 176, 242)",
          "pattern": {
           "shape": ""
          }
         },
         "name": "BR + w/in 1km of Natural Areas",
         "offsetgroup": "BR + w/in 1km of Natural Areas",
         "orientation": "v",
         "showlegend": false,
         "textposition": "auto",
         "type": "bar",
         "x": [
          "BR + w/in 1km of Natural Areas"
         ],
         "xaxis": "x9",
         "y": [
          33011
         ],
         "yaxis": "y9"
        },
        {
         "alignmentgroup": "True",
         "hovertemplate": "variable=%{x}<br>region_name=idaho<br>value=%{y}<extra></extra>",
         "legendgroup": "BR + w/in 1km of Natural Areas",
         "marker": {
          "color": "rgb(220, 176, 242)",
          "pattern": {
           "shape": ""
          }
         },
         "name": "BR + w/in 1km of Natural Areas",
         "offsetgroup": "BR + w/in 1km of Natural Areas",
         "orientation": "v",
         "showlegend": false,
         "textposition": "auto",
         "type": "bar",
         "x": [
          "BR + w/in 1km of Natural Areas"
         ],
         "xaxis": "x8",
         "y": [
          2950
         ],
         "yaxis": "y8"
        },
        {
         "alignmentgroup": "True",
         "hovertemplate": "variable=%{x}<br>region_name=montana<br>value=%{y}<extra></extra>",
         "legendgroup": "BR + w/in 1km of Natural Areas",
         "marker": {
          "color": "rgb(220, 176, 242)",
          "pattern": {
           "shape": ""
          }
         },
         "name": "BR + w/in 1km of Natural Areas",
         "offsetgroup": "BR + w/in 1km of Natural Areas",
         "orientation": "v",
         "showlegend": false,
         "textposition": "auto",
         "type": "bar",
         "x": [
          "BR + w/in 1km of Natural Areas"
         ],
         "xaxis": "x7",
         "y": [
          83647
         ],
         "yaxis": "y7"
        },
        {
         "alignmentgroup": "True",
         "hovertemplate": "variable=%{x}<br>region_name=new_mexico<br>value=%{y}<extra></extra>",
         "legendgroup": "BR + w/in 1km of Natural Areas",
         "marker": {
          "color": "rgb(220, 176, 242)",
          "pattern": {
           "shape": ""
          }
         },
         "name": "BR + w/in 1km of Natural Areas",
         "offsetgroup": "BR + w/in 1km of Natural Areas",
         "orientation": "v",
         "showlegend": false,
         "textposition": "auto",
         "type": "bar",
         "x": [
          "BR + w/in 1km of Natural Areas"
         ],
         "xaxis": "x6",
         "y": [
          51671
         ],
         "yaxis": "y6"
        },
        {
         "alignmentgroup": "True",
         "hovertemplate": "variable=%{x}<br>region_name=nevada<br>value=%{y}<extra></extra>",
         "legendgroup": "BR + w/in 1km of Natural Areas",
         "marker": {
          "color": "rgb(220, 176, 242)",
          "pattern": {
           "shape": ""
          }
         },
         "name": "BR + w/in 1km of Natural Areas",
         "offsetgroup": "BR + w/in 1km of Natural Areas",
         "orientation": "v",
         "showlegend": false,
         "textposition": "auto",
         "type": "bar",
         "x": [
          "BR + w/in 1km of Natural Areas"
         ],
         "xaxis": "x5",
         "y": [
          4910
         ],
         "yaxis": "y5"
        },
        {
         "alignmentgroup": "True",
         "hovertemplate": "variable=%{x}<br>region_name=oregon<br>value=%{y}<extra></extra>",
         "legendgroup": "BR + w/in 1km of Natural Areas",
         "marker": {
          "color": "rgb(220, 176, 242)",
          "pattern": {
           "shape": ""
          }
         },
         "name": "BR + w/in 1km of Natural Areas",
         "offsetgroup": "BR + w/in 1km of Natural Areas",
         "orientation": "v",
         "showlegend": false,
         "textposition": "auto",
         "type": "bar",
         "x": [
          "BR + w/in 1km of Natural Areas"
         ],
         "xaxis": "x4",
         "y": [
          5148
         ],
         "yaxis": "y4"
        },
        {
         "alignmentgroup": "True",
         "hovertemplate": "variable=%{x}<br>region_name=utah<br>value=%{y}<extra></extra>",
         "legendgroup": "BR + w/in 1km of Natural Areas",
         "marker": {
          "color": "rgb(220, 176, 242)",
          "pattern": {
           "shape": ""
          }
         },
         "name": "BR + w/in 1km of Natural Areas",
         "offsetgroup": "BR + w/in 1km of Natural Areas",
         "orientation": "v",
         "showlegend": false,
         "textposition": "auto",
         "type": "bar",
         "x": [
          "BR + w/in 1km of Natural Areas"
         ],
         "xaxis": "x3",
         "y": [
          2383
         ],
         "yaxis": "y3"
        },
        {
         "alignmentgroup": "True",
         "hovertemplate": "variable=%{x}<br>region_name=washington<br>value=%{y}<extra></extra>",
         "legendgroup": "BR + w/in 1km of Natural Areas",
         "marker": {
          "color": "rgb(220, 176, 242)",
          "pattern": {
           "shape": ""
          }
         },
         "name": "BR + w/in 1km of Natural Areas",
         "offsetgroup": "BR + w/in 1km of Natural Areas",
         "orientation": "v",
         "showlegend": false,
         "textposition": "auto",
         "type": "bar",
         "x": [
          "BR + w/in 1km of Natural Areas"
         ],
         "xaxis": "x2",
         "y": [
          4851
         ],
         "yaxis": "y2"
        },
        {
         "alignmentgroup": "True",
         "hovertemplate": "variable=%{x}<br>region_name=wyoming<br>value=%{y}<extra></extra>",
         "legendgroup": "BR + w/in 1km of Natural Areas",
         "marker": {
          "color": "rgb(220, 176, 242)",
          "pattern": {
           "shape": ""
          }
         },
         "name": "BR + w/in 1km of Natural Areas",
         "offsetgroup": "BR + w/in 1km of Natural Areas",
         "orientation": "v",
         "showlegend": false,
         "textposition": "auto",
         "type": "bar",
         "x": [
          "BR + w/in 1km of Natural Areas"
         ],
         "xaxis": "x",
         "y": [
          67673
         ],
         "yaxis": "y"
        },
        {
         "alignmentgroup": "True",
         "hovertemplate": "variable=%{x}<br>region_name=arizona<br>value=%{y}<extra></extra>",
         "legendgroup": "BR + w/in 5km of Natural Areas",
         "marker": {
          "color": "rgb(135, 197, 95)",
          "pattern": {
           "shape": ""
          }
         },
         "name": "BR + w/in 5km of Natural Areas",
         "offsetgroup": "BR + w/in 5km of Natural Areas",
         "orientation": "v",
         "showlegend": true,
         "textposition": "auto",
         "type": "bar",
         "x": [
          "BR + w/in 5km of Natural Areas"
         ],
         "xaxis": "x11",
         "y": [
          3183
         ],
         "yaxis": "y11"
        },
        {
         "alignmentgroup": "True",
         "hovertemplate": "variable=%{x}<br>region_name=california<br>value=%{y}<extra></extra>",
         "legendgroup": "BR + w/in 5km of Natural Areas",
         "marker": {
          "color": "rgb(135, 197, 95)",
          "pattern": {
           "shape": ""
          }
         },
         "name": "BR + w/in 5km of Natural Areas",
         "offsetgroup": "BR + w/in 5km of Natural Areas",
         "orientation": "v",
         "showlegend": false,
         "textposition": "auto",
         "type": "bar",
         "x": [
          "BR + w/in 5km of Natural Areas"
         ],
         "xaxis": "x10",
         "y": [
          2861
         ],
         "yaxis": "y10"
        },
        {
         "alignmentgroup": "True",
         "hovertemplate": "variable=%{x}<br>region_name=colorado<br>value=%{y}<extra></extra>",
         "legendgroup": "BR + w/in 5km of Natural Areas",
         "marker": {
          "color": "rgb(135, 197, 95)",
          "pattern": {
           "shape": ""
          }
         },
         "name": "BR + w/in 5km of Natural Areas",
         "offsetgroup": "BR + w/in 5km of Natural Areas",
         "orientation": "v",
         "showlegend": false,
         "textposition": "auto",
         "type": "bar",
         "x": [
          "BR + w/in 5km of Natural Areas"
         ],
         "xaxis": "x9",
         "y": [
          28073
         ],
         "yaxis": "y9"
        },
        {
         "alignmentgroup": "True",
         "hovertemplate": "variable=%{x}<br>region_name=idaho<br>value=%{y}<extra></extra>",
         "legendgroup": "BR + w/in 5km of Natural Areas",
         "marker": {
          "color": "rgb(135, 197, 95)",
          "pattern": {
           "shape": ""
          }
         },
         "name": "BR + w/in 5km of Natural Areas",
         "offsetgroup": "BR + w/in 5km of Natural Areas",
         "orientation": "v",
         "showlegend": false,
         "textposition": "auto",
         "type": "bar",
         "x": [
          "BR + w/in 5km of Natural Areas"
         ],
         "xaxis": "x8",
         "y": [
          1680
         ],
         "yaxis": "y8"
        },
        {
         "alignmentgroup": "True",
         "hovertemplate": "variable=%{x}<br>region_name=montana<br>value=%{y}<extra></extra>",
         "legendgroup": "BR + w/in 5km of Natural Areas",
         "marker": {
          "color": "rgb(135, 197, 95)",
          "pattern": {
           "shape": ""
          }
         },
         "name": "BR + w/in 5km of Natural Areas",
         "offsetgroup": "BR + w/in 5km of Natural Areas",
         "orientation": "v",
         "showlegend": false,
         "textposition": "auto",
         "type": "bar",
         "x": [
          "BR + w/in 5km of Natural Areas"
         ],
         "xaxis": "x7",
         "y": [
          41428
         ],
         "yaxis": "y7"
        },
        {
         "alignmentgroup": "True",
         "hovertemplate": "variable=%{x}<br>region_name=new_mexico<br>value=%{y}<extra></extra>",
         "legendgroup": "BR + w/in 5km of Natural Areas",
         "marker": {
          "color": "rgb(135, 197, 95)",
          "pattern": {
           "shape": ""
          }
         },
         "name": "BR + w/in 5km of Natural Areas",
         "offsetgroup": "BR + w/in 5km of Natural Areas",
         "orientation": "v",
         "showlegend": false,
         "textposition": "auto",
         "type": "bar",
         "x": [
          "BR + w/in 5km of Natural Areas"
         ],
         "xaxis": "x6",
         "y": [
          44550
         ],
         "yaxis": "y6"
        },
        {
         "alignmentgroup": "True",
         "hovertemplate": "variable=%{x}<br>region_name=nevada<br>value=%{y}<extra></extra>",
         "legendgroup": "BR + w/in 5km of Natural Areas",
         "marker": {
          "color": "rgb(135, 197, 95)",
          "pattern": {
           "shape": ""
          }
         },
         "name": "BR + w/in 5km of Natural Areas",
         "offsetgroup": "BR + w/in 5km of Natural Areas",
         "orientation": "v",
         "showlegend": false,
         "textposition": "auto",
         "type": "bar",
         "x": [
          "BR + w/in 5km of Natural Areas"
         ],
         "xaxis": "x5",
         "y": [
          3411
         ],
         "yaxis": "y5"
        },
        {
         "alignmentgroup": "True",
         "hovertemplate": "variable=%{x}<br>region_name=oregon<br>value=%{y}<extra></extra>",
         "legendgroup": "BR + w/in 5km of Natural Areas",
         "marker": {
          "color": "rgb(135, 197, 95)",
          "pattern": {
           "shape": ""
          }
         },
         "name": "BR + w/in 5km of Natural Areas",
         "offsetgroup": "BR + w/in 5km of Natural Areas",
         "orientation": "v",
         "showlegend": false,
         "textposition": "auto",
         "type": "bar",
         "x": [
          "BR + w/in 5km of Natural Areas"
         ],
         "xaxis": "x4",
         "y": [
          2507
         ],
         "yaxis": "y4"
        },
        {
         "alignmentgroup": "True",
         "hovertemplate": "variable=%{x}<br>region_name=utah<br>value=%{y}<extra></extra>",
         "legendgroup": "BR + w/in 5km of Natural Areas",
         "marker": {
          "color": "rgb(135, 197, 95)",
          "pattern": {
           "shape": ""
          }
         },
         "name": "BR + w/in 5km of Natural Areas",
         "offsetgroup": "BR + w/in 5km of Natural Areas",
         "orientation": "v",
         "showlegend": false,
         "textposition": "auto",
         "type": "bar",
         "x": [
          "BR + w/in 5km of Natural Areas"
         ],
         "xaxis": "x3",
         "y": [
          1413
         ],
         "yaxis": "y3"
        },
        {
         "alignmentgroup": "True",
         "hovertemplate": "variable=%{x}<br>region_name=washington<br>value=%{y}<extra></extra>",
         "legendgroup": "BR + w/in 5km of Natural Areas",
         "marker": {
          "color": "rgb(135, 197, 95)",
          "pattern": {
           "shape": ""
          }
         },
         "name": "BR + w/in 5km of Natural Areas",
         "offsetgroup": "BR + w/in 5km of Natural Areas",
         "orientation": "v",
         "showlegend": false,
         "textposition": "auto",
         "type": "bar",
         "x": [
          "BR + w/in 5km of Natural Areas"
         ],
         "xaxis": "x2",
         "y": [
          2802
         ],
         "yaxis": "y2"
        },
        {
         "alignmentgroup": "True",
         "hovertemplate": "variable=%{x}<br>region_name=wyoming<br>value=%{y}<extra></extra>",
         "legendgroup": "BR + w/in 5km of Natural Areas",
         "marker": {
          "color": "rgb(135, 197, 95)",
          "pattern": {
           "shape": ""
          }
         },
         "name": "BR + w/in 5km of Natural Areas",
         "offsetgroup": "BR + w/in 5km of Natural Areas",
         "orientation": "v",
         "showlegend": false,
         "textposition": "auto",
         "type": "bar",
         "x": [
          "BR + w/in 5km of Natural Areas"
         ],
         "xaxis": "x",
         "y": [
          41867
         ],
         "yaxis": "y"
        },
        {
         "alignmentgroup": "True",
         "hovertemplate": "variable=%{x}<br>region_name=arizona<br>value=%{y}<extra></extra>",
         "legendgroup": "BR + w/in 10km of Natural Areas",
         "marker": {
          "color": "rgb(158, 185, 243)",
          "pattern": {
           "shape": ""
          }
         },
         "name": "BR + w/in 10km of Natural Areas",
         "offsetgroup": "BR + w/in 10km of Natural Areas",
         "orientation": "v",
         "showlegend": true,
         "textposition": "auto",
         "type": "bar",
         "x": [
          "BR + w/in 10km of Natural Areas"
         ],
         "xaxis": "x11",
         "y": [
          1896
         ],
         "yaxis": "y11"
        },
        {
         "alignmentgroup": "True",
         "hovertemplate": "variable=%{x}<br>region_name=california<br>value=%{y}<extra></extra>",
         "legendgroup": "BR + w/in 10km of Natural Areas",
         "marker": {
          "color": "rgb(158, 185, 243)",
          "pattern": {
           "shape": ""
          }
         },
         "name": "BR + w/in 10km of Natural Areas",
         "offsetgroup": "BR + w/in 10km of Natural Areas",
         "orientation": "v",
         "showlegend": false,
         "textposition": "auto",
         "type": "bar",
         "x": [
          "BR + w/in 10km of Natural Areas"
         ],
         "xaxis": "x10",
         "y": [
          1047
         ],
         "yaxis": "y10"
        },
        {
         "alignmentgroup": "True",
         "hovertemplate": "variable=%{x}<br>region_name=colorado<br>value=%{y}<extra></extra>",
         "legendgroup": "BR + w/in 10km of Natural Areas",
         "marker": {
          "color": "rgb(158, 185, 243)",
          "pattern": {
           "shape": ""
          }
         },
         "name": "BR + w/in 10km of Natural Areas",
         "offsetgroup": "BR + w/in 10km of Natural Areas",
         "orientation": "v",
         "showlegend": false,
         "textposition": "auto",
         "type": "bar",
         "x": [
          "BR + w/in 10km of Natural Areas"
         ],
         "xaxis": "x9",
         "y": [
          20096
         ],
         "yaxis": "y9"
        },
        {
         "alignmentgroup": "True",
         "hovertemplate": "variable=%{x}<br>region_name=idaho<br>value=%{y}<extra></extra>",
         "legendgroup": "BR + w/in 10km of Natural Areas",
         "marker": {
          "color": "rgb(158, 185, 243)",
          "pattern": {
           "shape": ""
          }
         },
         "name": "BR + w/in 10km of Natural Areas",
         "offsetgroup": "BR + w/in 10km of Natural Areas",
         "orientation": "v",
         "showlegend": false,
         "textposition": "auto",
         "type": "bar",
         "x": [
          "BR + w/in 10km of Natural Areas"
         ],
         "xaxis": "x8",
         "y": [
          565
         ],
         "yaxis": "y8"
        },
        {
         "alignmentgroup": "True",
         "hovertemplate": "variable=%{x}<br>region_name=montana<br>value=%{y}<extra></extra>",
         "legendgroup": "BR + w/in 10km of Natural Areas",
         "marker": {
          "color": "rgb(158, 185, 243)",
          "pattern": {
           "shape": ""
          }
         },
         "name": "BR + w/in 10km of Natural Areas",
         "offsetgroup": "BR + w/in 10km of Natural Areas",
         "orientation": "v",
         "showlegend": false,
         "textposition": "auto",
         "type": "bar",
         "x": [
          "BR + w/in 10km of Natural Areas"
         ],
         "xaxis": "x7",
         "y": [
          14887
         ],
         "yaxis": "y7"
        },
        {
         "alignmentgroup": "True",
         "hovertemplate": "variable=%{x}<br>region_name=new_mexico<br>value=%{y}<extra></extra>",
         "legendgroup": "BR + w/in 10km of Natural Areas",
         "marker": {
          "color": "rgb(158, 185, 243)",
          "pattern": {
           "shape": ""
          }
         },
         "name": "BR + w/in 10km of Natural Areas",
         "offsetgroup": "BR + w/in 10km of Natural Areas",
         "orientation": "v",
         "showlegend": false,
         "textposition": "auto",
         "type": "bar",
         "x": [
          "BR + w/in 10km of Natural Areas"
         ],
         "xaxis": "x6",
         "y": [
          35648
         ],
         "yaxis": "y6"
        },
        {
         "alignmentgroup": "True",
         "hovertemplate": "variable=%{x}<br>region_name=nevada<br>value=%{y}<extra></extra>",
         "legendgroup": "BR + w/in 10km of Natural Areas",
         "marker": {
          "color": "rgb(158, 185, 243)",
          "pattern": {
           "shape": ""
          }
         },
         "name": "BR + w/in 10km of Natural Areas",
         "offsetgroup": "BR + w/in 10km of Natural Areas",
         "orientation": "v",
         "showlegend": false,
         "textposition": "auto",
         "type": "bar",
         "x": [
          "BR + w/in 10km of Natural Areas"
         ],
         "xaxis": "x5",
         "y": [
          2095
         ],
         "yaxis": "y5"
        },
        {
         "alignmentgroup": "True",
         "hovertemplate": "variable=%{x}<br>region_name=oregon<br>value=%{y}<extra></extra>",
         "legendgroup": "BR + w/in 10km of Natural Areas",
         "marker": {
          "color": "rgb(158, 185, 243)",
          "pattern": {
           "shape": ""
          }
         },
         "name": "BR + w/in 10km of Natural Areas",
         "offsetgroup": "BR + w/in 10km of Natural Areas",
         "orientation": "v",
         "showlegend": false,
         "textposition": "auto",
         "type": "bar",
         "x": [
          "BR + w/in 10km of Natural Areas"
         ],
         "xaxis": "x4",
         "y": [
          1090
         ],
         "yaxis": "y4"
        },
        {
         "alignmentgroup": "True",
         "hovertemplate": "variable=%{x}<br>region_name=utah<br>value=%{y}<extra></extra>",
         "legendgroup": "BR + w/in 10km of Natural Areas",
         "marker": {
          "color": "rgb(158, 185, 243)",
          "pattern": {
           "shape": ""
          }
         },
         "name": "BR + w/in 10km of Natural Areas",
         "offsetgroup": "BR + w/in 10km of Natural Areas",
         "orientation": "v",
         "showlegend": false,
         "textposition": "auto",
         "type": "bar",
         "x": [
          "BR + w/in 10km of Natural Areas"
         ],
         "xaxis": "x3",
         "y": [
          905
         ],
         "yaxis": "y3"
        },
        {
         "alignmentgroup": "True",
         "hovertemplate": "variable=%{x}<br>region_name=washington<br>value=%{y}<extra></extra>",
         "legendgroup": "BR + w/in 10km of Natural Areas",
         "marker": {
          "color": "rgb(158, 185, 243)",
          "pattern": {
           "shape": ""
          }
         },
         "name": "BR + w/in 10km of Natural Areas",
         "offsetgroup": "BR + w/in 10km of Natural Areas",
         "orientation": "v",
         "showlegend": false,
         "textposition": "auto",
         "type": "bar",
         "x": [
          "BR + w/in 10km of Natural Areas"
         ],
         "xaxis": "x2",
         "y": [
          1530
         ],
         "yaxis": "y2"
        },
        {
         "alignmentgroup": "True",
         "hovertemplate": "variable=%{x}<br>region_name=wyoming<br>value=%{y}<extra></extra>",
         "legendgroup": "BR + w/in 10km of Natural Areas",
         "marker": {
          "color": "rgb(158, 185, 243)",
          "pattern": {
           "shape": ""
          }
         },
         "name": "BR + w/in 10km of Natural Areas",
         "offsetgroup": "BR + w/in 10km of Natural Areas",
         "orientation": "v",
         "showlegend": false,
         "textposition": "auto",
         "type": "bar",
         "x": [
          "BR + w/in 10km of Natural Areas"
         ],
         "xaxis": "x",
         "y": [
          20121
         ],
         "yaxis": "y"
        },
        {
         "alignmentgroup": "True",
         "hovertemplate": "variable=%{x}<br>region_name=arizona<br>value=%{y}<extra></extra>",
         "legendgroup": "BR + DACS, w/in 5km of Natural Area, and Important Farmland",
         "marker": {
          "color": "rgb(254, 136, 177)",
          "pattern": {
           "shape": ""
          }
         },
         "name": "BR + DACS, w/in 5km of Natural Area, and Important Farmland",
         "offsetgroup": "BR + DACS, w/in 5km of Natural Area, and Important Farmland",
         "orientation": "v",
         "showlegend": true,
         "textposition": "auto",
         "type": "bar",
         "x": [
          "BR + DACS, w/in 5km of Natural Area, and Important Farmland"
         ],
         "xaxis": "x11",
         "y": [
          673
         ],
         "yaxis": "y11"
        },
        {
         "alignmentgroup": "True",
         "hovertemplate": "variable=%{x}<br>region_name=california<br>value=%{y}<extra></extra>",
         "legendgroup": "BR + DACS, w/in 5km of Natural Area, and Important Farmland",
         "marker": {
          "color": "rgb(254, 136, 177)",
          "pattern": {
           "shape": ""
          }
         },
         "name": "BR + DACS, w/in 5km of Natural Area, and Important Farmland",
         "offsetgroup": "BR + DACS, w/in 5km of Natural Area, and Important Farmland",
         "orientation": "v",
         "showlegend": false,
         "textposition": "auto",
         "type": "bar",
         "x": [
          "BR + DACS, w/in 5km of Natural Area, and Important Farmland"
         ],
         "xaxis": "x10",
         "y": [
          1981
         ],
         "yaxis": "y10"
        },
        {
         "alignmentgroup": "True",
         "hovertemplate": "variable=%{x}<br>region_name=colorado<br>value=%{y}<extra></extra>",
         "legendgroup": "BR + DACS, w/in 5km of Natural Area, and Important Farmland",
         "marker": {
          "color": "rgb(254, 136, 177)",
          "pattern": {
           "shape": ""
          }
         },
         "name": "BR + DACS, w/in 5km of Natural Area, and Important Farmland",
         "offsetgroup": "BR + DACS, w/in 5km of Natural Area, and Important Farmland",
         "orientation": "v",
         "showlegend": false,
         "textposition": "auto",
         "type": "bar",
         "x": [
          "BR + DACS, w/in 5km of Natural Area, and Important Farmland"
         ],
         "xaxis": "x9",
         "y": [
          11617
         ],
         "yaxis": "y9"
        },
        {
         "alignmentgroup": "True",
         "hovertemplate": "variable=%{x}<br>region_name=idaho<br>value=%{y}<extra></extra>",
         "legendgroup": "BR + DACS, w/in 5km of Natural Area, and Important Farmland",
         "marker": {
          "color": "rgb(254, 136, 177)",
          "pattern": {
           "shape": ""
          }
         },
         "name": "BR + DACS, w/in 5km of Natural Area, and Important Farmland",
         "offsetgroup": "BR + DACS, w/in 5km of Natural Area, and Important Farmland",
         "orientation": "v",
         "showlegend": false,
         "textposition": "auto",
         "type": "bar",
         "x": [
          "BR + DACS, w/in 5km of Natural Area, and Important Farmland"
         ],
         "xaxis": "x8",
         "y": [
          786
         ],
         "yaxis": "y8"
        },
        {
         "alignmentgroup": "True",
         "hovertemplate": "variable=%{x}<br>region_name=montana<br>value=%{y}<extra></extra>",
         "legendgroup": "BR + DACS, w/in 5km of Natural Area, and Important Farmland",
         "marker": {
          "color": "rgb(254, 136, 177)",
          "pattern": {
           "shape": ""
          }
         },
         "name": "BR + DACS, w/in 5km of Natural Area, and Important Farmland",
         "offsetgroup": "BR + DACS, w/in 5km of Natural Area, and Important Farmland",
         "orientation": "v",
         "showlegend": false,
         "textposition": "auto",
         "type": "bar",
         "x": [
          "BR + DACS, w/in 5km of Natural Area, and Important Farmland"
         ],
         "xaxis": "x7",
         "y": [
          18614
         ],
         "yaxis": "y7"
        },
        {
         "alignmentgroup": "True",
         "hovertemplate": "variable=%{x}<br>region_name=new_mexico<br>value=%{y}<extra></extra>",
         "legendgroup": "BR + DACS, w/in 5km of Natural Area, and Important Farmland",
         "marker": {
          "color": "rgb(254, 136, 177)",
          "pattern": {
           "shape": ""
          }
         },
         "name": "BR + DACS, w/in 5km of Natural Area, and Important Farmland",
         "offsetgroup": "BR + DACS, w/in 5km of Natural Area, and Important Farmland",
         "orientation": "v",
         "showlegend": false,
         "textposition": "auto",
         "type": "bar",
         "x": [
          "BR + DACS, w/in 5km of Natural Area, and Important Farmland"
         ],
         "xaxis": "x6",
         "y": [
          3098
         ],
         "yaxis": "y6"
        },
        {
         "alignmentgroup": "True",
         "hovertemplate": "variable=%{x}<br>region_name=nevada<br>value=%{y}<extra></extra>",
         "legendgroup": "BR + DACS, w/in 5km of Natural Area, and Important Farmland",
         "marker": {
          "color": "rgb(254, 136, 177)",
          "pattern": {
           "shape": ""
          }
         },
         "name": "BR + DACS, w/in 5km of Natural Area, and Important Farmland",
         "offsetgroup": "BR + DACS, w/in 5km of Natural Area, and Important Farmland",
         "orientation": "v",
         "showlegend": false,
         "textposition": "auto",
         "type": "bar",
         "x": [
          "BR + DACS, w/in 5km of Natural Area, and Important Farmland"
         ],
         "xaxis": "x5",
         "y": [
          2818
         ],
         "yaxis": "y5"
        },
        {
         "alignmentgroup": "True",
         "hovertemplate": "variable=%{x}<br>region_name=oregon<br>value=%{y}<extra></extra>",
         "legendgroup": "BR + DACS, w/in 5km of Natural Area, and Important Farmland",
         "marker": {
          "color": "rgb(254, 136, 177)",
          "pattern": {
           "shape": ""
          }
         },
         "name": "BR + DACS, w/in 5km of Natural Area, and Important Farmland",
         "offsetgroup": "BR + DACS, w/in 5km of Natural Area, and Important Farmland",
         "orientation": "v",
         "showlegend": false,
         "textposition": "auto",
         "type": "bar",
         "x": [
          "BR + DACS, w/in 5km of Natural Area, and Important Farmland"
         ],
         "xaxis": "x4",
         "y": [
          363
         ],
         "yaxis": "y4"
        },
        {
         "alignmentgroup": "True",
         "hovertemplate": "variable=%{x}<br>region_name=utah<br>value=%{y}<extra></extra>",
         "legendgroup": "BR + DACS, w/in 5km of Natural Area, and Important Farmland",
         "marker": {
          "color": "rgb(254, 136, 177)",
          "pattern": {
           "shape": ""
          }
         },
         "name": "BR + DACS, w/in 5km of Natural Area, and Important Farmland",
         "offsetgroup": "BR + DACS, w/in 5km of Natural Area, and Important Farmland",
         "orientation": "v",
         "showlegend": false,
         "textposition": "auto",
         "type": "bar",
         "x": [
          "BR + DACS, w/in 5km of Natural Area, and Important Farmland"
         ],
         "xaxis": "x3",
         "y": [
          1096
         ],
         "yaxis": "y3"
        },
        {
         "alignmentgroup": "True",
         "hovertemplate": "variable=%{x}<br>region_name=washington<br>value=%{y}<extra></extra>",
         "legendgroup": "BR + DACS, w/in 5km of Natural Area, and Important Farmland",
         "marker": {
          "color": "rgb(254, 136, 177)",
          "pattern": {
           "shape": ""
          }
         },
         "name": "BR + DACS, w/in 5km of Natural Area, and Important Farmland",
         "offsetgroup": "BR + DACS, w/in 5km of Natural Area, and Important Farmland",
         "orientation": "v",
         "showlegend": false,
         "textposition": "auto",
         "type": "bar",
         "x": [
          "BR + DACS, w/in 5km of Natural Area, and Important Farmland"
         ],
         "xaxis": "x2",
         "y": [
          924
         ],
         "yaxis": "y2"
        },
        {
         "alignmentgroup": "True",
         "hovertemplate": "variable=%{x}<br>region_name=wyoming<br>value=%{y}<extra></extra>",
         "legendgroup": "BR + DACS, w/in 5km of Natural Area, and Important Farmland",
         "marker": {
          "color": "rgb(254, 136, 177)",
          "pattern": {
           "shape": ""
          }
         },
         "name": "BR + DACS, w/in 5km of Natural Area, and Important Farmland",
         "offsetgroup": "BR + DACS, w/in 5km of Natural Area, and Important Farmland",
         "orientation": "v",
         "showlegend": false,
         "textposition": "auto",
         "type": "bar",
         "x": [
          "BR + DACS, w/in 5km of Natural Area, and Important Farmland"
         ],
         "xaxis": "x",
         "y": [
          35729
         ],
         "yaxis": "y"
        },
        {
         "alignmentgroup": "True",
         "hovertemplate": "variable=%{x}<br>region_name=arizona<br>value=%{y}<extra></extra>",
         "legendgroup": "BR + w/in 5km of Natural Area and Important Farmland",
         "marker": {
          "color": "rgb(201, 219, 116)",
          "pattern": {
           "shape": ""
          }
         },
         "name": "BR + w/in 5km of Natural Area and Important Farmland",
         "offsetgroup": "BR + w/in 5km of Natural Area and Important Farmland",
         "orientation": "v",
         "showlegend": true,
         "textposition": "auto",
         "type": "bar",
         "x": [
          "BR + w/in 5km of Natural Area and Important Farmland"
         ],
         "xaxis": "x11",
         "y": [
          3183
         ],
         "yaxis": "y11"
        },
        {
         "alignmentgroup": "True",
         "hovertemplate": "variable=%{x}<br>region_name=california<br>value=%{y}<extra></extra>",
         "legendgroup": "BR + w/in 5km of Natural Area and Important Farmland",
         "marker": {
          "color": "rgb(201, 219, 116)",
          "pattern": {
           "shape": ""
          }
         },
         "name": "BR + w/in 5km of Natural Area and Important Farmland",
         "offsetgroup": "BR + w/in 5km of Natural Area and Important Farmland",
         "orientation": "v",
         "showlegend": false,
         "textposition": "auto",
         "type": "bar",
         "x": [
          "BR + w/in 5km of Natural Area and Important Farmland"
         ],
         "xaxis": "x10",
         "y": [
          2781
         ],
         "yaxis": "y10"
        },
        {
         "alignmentgroup": "True",
         "hovertemplate": "variable=%{x}<br>region_name=colorado<br>value=%{y}<extra></extra>",
         "legendgroup": "BR + w/in 5km of Natural Area and Important Farmland",
         "marker": {
          "color": "rgb(201, 219, 116)",
          "pattern": {
           "shape": ""
          }
         },
         "name": "BR + w/in 5km of Natural Area and Important Farmland",
         "offsetgroup": "BR + w/in 5km of Natural Area and Important Farmland",
         "orientation": "v",
         "showlegend": false,
         "textposition": "auto",
         "type": "bar",
         "x": [
          "BR + w/in 5km of Natural Area and Important Farmland"
         ],
         "xaxis": "x9",
         "y": [
          25070
         ],
         "yaxis": "y9"
        },
        {
         "alignmentgroup": "True",
         "hovertemplate": "variable=%{x}<br>region_name=idaho<br>value=%{y}<extra></extra>",
         "legendgroup": "BR + w/in 5km of Natural Area and Important Farmland",
         "marker": {
          "color": "rgb(201, 219, 116)",
          "pattern": {
           "shape": ""
          }
         },
         "name": "BR + w/in 5km of Natural Area and Important Farmland",
         "offsetgroup": "BR + w/in 5km of Natural Area and Important Farmland",
         "orientation": "v",
         "showlegend": false,
         "textposition": "auto",
         "type": "bar",
         "x": [
          "BR + w/in 5km of Natural Area and Important Farmland"
         ],
         "xaxis": "x8",
         "y": [
          1666
         ],
         "yaxis": "y8"
        },
        {
         "alignmentgroup": "True",
         "hovertemplate": "variable=%{x}<br>region_name=montana<br>value=%{y}<extra></extra>",
         "legendgroup": "BR + w/in 5km of Natural Area and Important Farmland",
         "marker": {
          "color": "rgb(201, 219, 116)",
          "pattern": {
           "shape": ""
          }
         },
         "name": "BR + w/in 5km of Natural Area and Important Farmland",
         "offsetgroup": "BR + w/in 5km of Natural Area and Important Farmland",
         "orientation": "v",
         "showlegend": false,
         "textposition": "auto",
         "type": "bar",
         "x": [
          "BR + w/in 5km of Natural Area and Important Farmland"
         ],
         "xaxis": "x7",
         "y": [
          35522
         ],
         "yaxis": "y7"
        },
        {
         "alignmentgroup": "True",
         "hovertemplate": "variable=%{x}<br>region_name=new_mexico<br>value=%{y}<extra></extra>",
         "legendgroup": "BR + w/in 5km of Natural Area and Important Farmland",
         "marker": {
          "color": "rgb(201, 219, 116)",
          "pattern": {
           "shape": ""
          }
         },
         "name": "BR + w/in 5km of Natural Area and Important Farmland",
         "offsetgroup": "BR + w/in 5km of Natural Area and Important Farmland",
         "orientation": "v",
         "showlegend": false,
         "textposition": "auto",
         "type": "bar",
         "x": [
          "BR + w/in 5km of Natural Area and Important Farmland"
         ],
         "xaxis": "x6",
         "y": [
          36562
         ],
         "yaxis": "y6"
        },
        {
         "alignmentgroup": "True",
         "hovertemplate": "variable=%{x}<br>region_name=nevada<br>value=%{y}<extra></extra>",
         "legendgroup": "BR + w/in 5km of Natural Area and Important Farmland",
         "marker": {
          "color": "rgb(201, 219, 116)",
          "pattern": {
           "shape": ""
          }
         },
         "name": "BR + w/in 5km of Natural Area and Important Farmland",
         "offsetgroup": "BR + w/in 5km of Natural Area and Important Farmland",
         "orientation": "v",
         "showlegend": false,
         "textposition": "auto",
         "type": "bar",
         "x": [
          "BR + w/in 5km of Natural Area and Important Farmland"
         ],
         "xaxis": "x5",
         "y": [
          3411
         ],
         "yaxis": "y5"
        },
        {
         "alignmentgroup": "True",
         "hovertemplate": "variable=%{x}<br>region_name=oregon<br>value=%{y}<extra></extra>",
         "legendgroup": "BR + w/in 5km of Natural Area and Important Farmland",
         "marker": {
          "color": "rgb(201, 219, 116)",
          "pattern": {
           "shape": ""
          }
         },
         "name": "BR + w/in 5km of Natural Area and Important Farmland",
         "offsetgroup": "BR + w/in 5km of Natural Area and Important Farmland",
         "orientation": "v",
         "showlegend": false,
         "textposition": "auto",
         "type": "bar",
         "x": [
          "BR + w/in 5km of Natural Area and Important Farmland"
         ],
         "xaxis": "x4",
         "y": [
          1379
         ],
         "yaxis": "y4"
        },
        {
         "alignmentgroup": "True",
         "hovertemplate": "variable=%{x}<br>region_name=utah<br>value=%{y}<extra></extra>",
         "legendgroup": "BR + w/in 5km of Natural Area and Important Farmland",
         "marker": {
          "color": "rgb(201, 219, 116)",
          "pattern": {
           "shape": ""
          }
         },
         "name": "BR + w/in 5km of Natural Area and Important Farmland",
         "offsetgroup": "BR + w/in 5km of Natural Area and Important Farmland",
         "orientation": "v",
         "showlegend": false,
         "textposition": "auto",
         "type": "bar",
         "x": [
          "BR + w/in 5km of Natural Area and Important Farmland"
         ],
         "xaxis": "x3",
         "y": [
          1413
         ],
         "yaxis": "y3"
        },
        {
         "alignmentgroup": "True",
         "hovertemplate": "variable=%{x}<br>region_name=washington<br>value=%{y}<extra></extra>",
         "legendgroup": "BR + w/in 5km of Natural Area and Important Farmland",
         "marker": {
          "color": "rgb(201, 219, 116)",
          "pattern": {
           "shape": ""
          }
         },
         "name": "BR + w/in 5km of Natural Area and Important Farmland",
         "offsetgroup": "BR + w/in 5km of Natural Area and Important Farmland",
         "orientation": "v",
         "showlegend": false,
         "textposition": "auto",
         "type": "bar",
         "x": [
          "BR + w/in 5km of Natural Area and Important Farmland"
         ],
         "xaxis": "x2",
         "y": [
          1884
         ],
         "yaxis": "y2"
        },
        {
         "alignmentgroup": "True",
         "hovertemplate": "variable=%{x}<br>region_name=wyoming<br>value=%{y}<extra></extra>",
         "legendgroup": "BR + w/in 5km of Natural Area and Important Farmland",
         "marker": {
          "color": "rgb(201, 219, 116)",
          "pattern": {
           "shape": ""
          }
         },
         "name": "BR + w/in 5km of Natural Area and Important Farmland",
         "offsetgroup": "BR + w/in 5km of Natural Area and Important Farmland",
         "orientation": "v",
         "showlegend": false,
         "textposition": "auto",
         "type": "bar",
         "x": [
          "BR + w/in 5km of Natural Area and Important Farmland"
         ],
         "xaxis": "x",
         "y": [
          41395
         ],
         "yaxis": "y"
        },
        {
         "alignmentgroup": "True",
         "hovertemplate": "variable=%{x}<br>region_name=arizona<br>value=%{y}<extra></extra>",
         "legendgroup": "BR + w/in 10km of Natural Area and Important Farmland",
         "marker": {
          "color": "rgb(139, 224, 164)",
          "pattern": {
           "shape": ""
          }
         },
         "name": "BR + w/in 10km of Natural Area and Important Farmland",
         "offsetgroup": "BR + w/in 10km of Natural Area and Important Farmland",
         "orientation": "v",
         "showlegend": true,
         "textposition": "auto",
         "type": "bar",
         "x": [
          "BR + w/in 10km of Natural Area and Important Farmland"
         ],
         "xaxis": "x11",
         "y": [
          1896
         ],
         "yaxis": "y11"
        },
        {
         "alignmentgroup": "True",
         "hovertemplate": "variable=%{x}<br>region_name=california<br>value=%{y}<extra></extra>",
         "legendgroup": "BR + w/in 10km of Natural Area and Important Farmland",
         "marker": {
          "color": "rgb(139, 224, 164)",
          "pattern": {
           "shape": ""
          }
         },
         "name": "BR + w/in 10km of Natural Area and Important Farmland",
         "offsetgroup": "BR + w/in 10km of Natural Area and Important Farmland",
         "orientation": "v",
         "showlegend": false,
         "textposition": "auto",
         "type": "bar",
         "x": [
          "BR + w/in 10km of Natural Area and Important Farmland"
         ],
         "xaxis": "x10",
         "y": [
          1029
         ],
         "yaxis": "y10"
        },
        {
         "alignmentgroup": "True",
         "hovertemplate": "variable=%{x}<br>region_name=colorado<br>value=%{y}<extra></extra>",
         "legendgroup": "BR + w/in 10km of Natural Area and Important Farmland",
         "marker": {
          "color": "rgb(139, 224, 164)",
          "pattern": {
           "shape": ""
          }
         },
         "name": "BR + w/in 10km of Natural Area and Important Farmland",
         "offsetgroup": "BR + w/in 10km of Natural Area and Important Farmland",
         "orientation": "v",
         "showlegend": false,
         "textposition": "auto",
         "type": "bar",
         "x": [
          "BR + w/in 10km of Natural Area and Important Farmland"
         ],
         "xaxis": "x9",
         "y": [
          17792
         ],
         "yaxis": "y9"
        },
        {
         "alignmentgroup": "True",
         "hovertemplate": "variable=%{x}<br>region_name=idaho<br>value=%{y}<extra></extra>",
         "legendgroup": "BR + w/in 10km of Natural Area and Important Farmland",
         "marker": {
          "color": "rgb(139, 224, 164)",
          "pattern": {
           "shape": ""
          }
         },
         "name": "BR + w/in 10km of Natural Area and Important Farmland",
         "offsetgroup": "BR + w/in 10km of Natural Area and Important Farmland",
         "orientation": "v",
         "showlegend": false,
         "textposition": "auto",
         "type": "bar",
         "x": [
          "BR + w/in 10km of Natural Area and Important Farmland"
         ],
         "xaxis": "x8",
         "y": [
          556
         ],
         "yaxis": "y8"
        },
        {
         "alignmentgroup": "True",
         "hovertemplate": "variable=%{x}<br>region_name=montana<br>value=%{y}<extra></extra>",
         "legendgroup": "BR + w/in 10km of Natural Area and Important Farmland",
         "marker": {
          "color": "rgb(139, 224, 164)",
          "pattern": {
           "shape": ""
          }
         },
         "name": "BR + w/in 10km of Natural Area and Important Farmland",
         "offsetgroup": "BR + w/in 10km of Natural Area and Important Farmland",
         "orientation": "v",
         "showlegend": false,
         "textposition": "auto",
         "type": "bar",
         "x": [
          "BR + w/in 10km of Natural Area and Important Farmland"
         ],
         "xaxis": "x7",
         "y": [
          12845
         ],
         "yaxis": "y7"
        },
        {
         "alignmentgroup": "True",
         "hovertemplate": "variable=%{x}<br>region_name=new_mexico<br>value=%{y}<extra></extra>",
         "legendgroup": "BR + w/in 10km of Natural Area and Important Farmland",
         "marker": {
          "color": "rgb(139, 224, 164)",
          "pattern": {
           "shape": ""
          }
         },
         "name": "BR + w/in 10km of Natural Area and Important Farmland",
         "offsetgroup": "BR + w/in 10km of Natural Area and Important Farmland",
         "orientation": "v",
         "showlegend": false,
         "textposition": "auto",
         "type": "bar",
         "x": [
          "BR + w/in 10km of Natural Area and Important Farmland"
         ],
         "xaxis": "x6",
         "y": [
          28974
         ],
         "yaxis": "y6"
        },
        {
         "alignmentgroup": "True",
         "hovertemplate": "variable=%{x}<br>region_name=nevada<br>value=%{y}<extra></extra>",
         "legendgroup": "BR + w/in 10km of Natural Area and Important Farmland",
         "marker": {
          "color": "rgb(139, 224, 164)",
          "pattern": {
           "shape": ""
          }
         },
         "name": "BR + w/in 10km of Natural Area and Important Farmland",
         "offsetgroup": "BR + w/in 10km of Natural Area and Important Farmland",
         "orientation": "v",
         "showlegend": false,
         "textposition": "auto",
         "type": "bar",
         "x": [
          "BR + w/in 10km of Natural Area and Important Farmland"
         ],
         "xaxis": "x5",
         "y": [
          2095
         ],
         "yaxis": "y5"
        },
        {
         "alignmentgroup": "True",
         "hovertemplate": "variable=%{x}<br>region_name=oregon<br>value=%{y}<extra></extra>",
         "legendgroup": "BR + w/in 10km of Natural Area and Important Farmland",
         "marker": {
          "color": "rgb(139, 224, 164)",
          "pattern": {
           "shape": ""
          }
         },
         "name": "BR + w/in 10km of Natural Area and Important Farmland",
         "offsetgroup": "BR + w/in 10km of Natural Area and Important Farmland",
         "orientation": "v",
         "showlegend": false,
         "textposition": "auto",
         "type": "bar",
         "x": [
          "BR + w/in 10km of Natural Area and Important Farmland"
         ],
         "xaxis": "x4",
         "y": [
          548
         ],
         "yaxis": "y4"
        },
        {
         "alignmentgroup": "True",
         "hovertemplate": "variable=%{x}<br>region_name=utah<br>value=%{y}<extra></extra>",
         "legendgroup": "BR + w/in 10km of Natural Area and Important Farmland",
         "marker": {
          "color": "rgb(139, 224, 164)",
          "pattern": {
           "shape": ""
          }
         },
         "name": "BR + w/in 10km of Natural Area and Important Farmland",
         "offsetgroup": "BR + w/in 10km of Natural Area and Important Farmland",
         "orientation": "v",
         "showlegend": false,
         "textposition": "auto",
         "type": "bar",
         "x": [
          "BR + w/in 10km of Natural Area and Important Farmland"
         ],
         "xaxis": "x3",
         "y": [
          905
         ],
         "yaxis": "y3"
        },
        {
         "alignmentgroup": "True",
         "hovertemplate": "variable=%{x}<br>region_name=washington<br>value=%{y}<extra></extra>",
         "legendgroup": "BR + w/in 10km of Natural Area and Important Farmland",
         "marker": {
          "color": "rgb(139, 224, 164)",
          "pattern": {
           "shape": ""
          }
         },
         "name": "BR + w/in 10km of Natural Area and Important Farmland",
         "offsetgroup": "BR + w/in 10km of Natural Area and Important Farmland",
         "orientation": "v",
         "showlegend": false,
         "textposition": "auto",
         "type": "bar",
         "x": [
          "BR + w/in 10km of Natural Area and Important Farmland"
         ],
         "xaxis": "x2",
         "y": [
          1023
         ],
         "yaxis": "y2"
        },
        {
         "alignmentgroup": "True",
         "hovertemplate": "variable=%{x}<br>region_name=wyoming<br>value=%{y}<extra></extra>",
         "legendgroup": "BR + w/in 10km of Natural Area and Important Farmland",
         "marker": {
          "color": "rgb(139, 224, 164)",
          "pattern": {
           "shape": ""
          }
         },
         "name": "BR + w/in 10km of Natural Area and Important Farmland",
         "offsetgroup": "BR + w/in 10km of Natural Area and Important Farmland",
         "orientation": "v",
         "showlegend": false,
         "textposition": "auto",
         "type": "bar",
         "x": [
          "BR + w/in 10km of Natural Area and Important Farmland"
         ],
         "xaxis": "x",
         "y": [
          19900
         ],
         "yaxis": "y"
        }
       ],
       "layout": {
        "annotations": [
         {
          "showarrow": false,
          "text": "",
          "textangle": 90,
          "x": 0.98,
          "xanchor": "left",
          "xref": "paper",
          "y": 0.031818181818181815,
          "yanchor": "middle",
          "yref": "paper"
         },
         {
          "showarrow": false,
          "text": "",
          "textangle": 90,
          "x": 0.98,
          "xanchor": "left",
          "xref": "paper",
          "y": 0.12545454545454543,
          "yanchor": "middle",
          "yref": "paper"
         },
         {
          "showarrow": false,
          "text": "",
          "textangle": 90,
          "x": 0.98,
          "xanchor": "left",
          "xref": "paper",
          "y": 0.21909090909090906,
          "yanchor": "middle",
          "yref": "paper"
         },
         {
          "showarrow": false,
          "text": "",
          "textangle": 90,
          "x": 0.98,
          "xanchor": "left",
          "xref": "paper",
          "y": 0.3127272727272727,
          "yanchor": "middle",
          "yref": "paper"
         },
         {
          "showarrow": false,
          "text": "",
          "textangle": 90,
          "x": 0.98,
          "xanchor": "left",
          "xref": "paper",
          "y": 0.4063636363636363,
          "yanchor": "middle",
          "yref": "paper"
         },
         {
          "showarrow": false,
          "text": "",
          "textangle": 90,
          "x": 0.98,
          "xanchor": "left",
          "xref": "paper",
          "y": 0.49999999999999994,
          "yanchor": "middle",
          "yref": "paper"
         },
         {
          "showarrow": false,
          "text": "",
          "textangle": 90,
          "x": 0.98,
          "xanchor": "left",
          "xref": "paper",
          "y": 0.5936363636363635,
          "yanchor": "middle",
          "yref": "paper"
         },
         {
          "showarrow": false,
          "text": "",
          "textangle": 90,
          "x": 0.98,
          "xanchor": "left",
          "xref": "paper",
          "y": 0.687272727272727,
          "yanchor": "middle",
          "yref": "paper"
         },
         {
          "showarrow": false,
          "text": "",
          "textangle": 90,
          "x": 0.98,
          "xanchor": "left",
          "xref": "paper",
          "y": 0.7809090909090908,
          "yanchor": "middle",
          "yref": "paper"
         },
         {
          "showarrow": false,
          "text": "",
          "textangle": 90,
          "x": 0.98,
          "xanchor": "left",
          "xref": "paper",
          "y": 0.8745454545454543,
          "yanchor": "middle",
          "yref": "paper"
         },
         {
          "showarrow": false,
          "text": "",
          "textangle": 90,
          "x": 0.98,
          "xanchor": "left",
          "xref": "paper",
          "y": 0.9681818181818178,
          "yanchor": "middle",
          "yref": "paper"
         },
         {
          "font": {
           "size": 16
          },
          "showarrow": false,
          "text": "Arizona",
          "x": 0.5,
          "xref": "paper",
          "y": 1.01,
          "yref": "paper"
         },
         {
          "font": {
           "size": 16
          },
          "showarrow": false,
          "text": "California",
          "x": 0.5,
          "xref": "paper",
          "y": 0.915,
          "yref": "paper"
         },
         {
          "font": {
           "size": 16
          },
          "showarrow": false,
          "text": "Colorado",
          "x": 0.5,
          "xref": "paper",
          "y": 0.8200000000000001,
          "yref": "paper"
         },
         {
          "font": {
           "size": 16
          },
          "showarrow": false,
          "text": "Idaho",
          "x": 0.5,
          "xref": "paper",
          "y": 0.7250000000000001,
          "yref": "paper"
         },
         {
          "font": {
           "size": 16
          },
          "showarrow": false,
          "text": "Montana",
          "x": 0.5,
          "xref": "paper",
          "y": 0.6300000000000001,
          "yref": "paper"
         },
         {
          "font": {
           "size": 16
          },
          "showarrow": false,
          "text": "New_Mexico",
          "x": 0.5,
          "xref": "paper",
          "y": 0.5350000000000001,
          "yref": "paper"
         },
         {
          "font": {
           "size": 16
          },
          "showarrow": false,
          "text": "Nevada",
          "x": 0.5,
          "xref": "paper",
          "y": 0.44000000000000017,
          "yref": "paper"
         },
         {
          "font": {
           "size": 16
          },
          "showarrow": false,
          "text": "Oregon",
          "x": 0.5,
          "xref": "paper",
          "y": 0.3450000000000002,
          "yref": "paper"
         },
         {
          "font": {
           "size": 16
          },
          "showarrow": false,
          "text": "Utah",
          "x": 0.5,
          "xref": "paper",
          "y": 0.2500000000000002,
          "yref": "paper"
         },
         {
          "font": {
           "size": 16
          },
          "showarrow": false,
          "text": "Washington",
          "x": 0.5,
          "xref": "paper",
          "y": 0.15500000000000022,
          "yref": "paper"
         },
         {
          "font": {
           "size": 16
          },
          "showarrow": false,
          "text": "Wyoming",
          "x": 0.5,
          "xref": "paper",
          "y": 0.06000000000000022,
          "yref": "paper"
         },
         {
          "showarrow": false,
          "text": "Clean Grid Required Land by 2050",
          "x": 0,
          "xanchor": "left",
          "xref": "x11 domain",
          "y": 715,
          "yanchor": "bottom",
          "yref": "y11"
         },
         {
          "showarrow": false,
          "text": "Clean Grid Required Land by 2050",
          "x": 0,
          "xanchor": "left",
          "xref": "x10 domain",
          "y": 3066,
          "yanchor": "bottom",
          "yref": "y10"
         },
         {
          "showarrow": false,
          "text": "Clean Grid Required Land by 2050",
          "x": 0,
          "xanchor": "left",
          "xref": "x9 domain",
          "y": 1596,
          "yanchor": "bottom",
          "yref": "y9"
         },
         {
          "showarrow": false,
          "text": "Clean Grid Required Land by 2050",
          "x": 0,
          "xanchor": "left",
          "xref": "x8 domain",
          "y": 336,
          "yanchor": "bottom",
          "yref": "y8"
         },
         {
          "showarrow": false,
          "text": "Clean Grid Required Land by 2050",
          "x": 0,
          "xanchor": "left",
          "xref": "x7 domain",
          "y": 2921,
          "yanchor": "bottom",
          "yref": "y7"
         },
         {
          "showarrow": false,
          "text": "Clean Grid Required Land by 2050",
          "x": 0,
          "xanchor": "left",
          "xref": "x6 domain",
          "y": 1081,
          "yanchor": "bottom",
          "yref": "y6"
         },
         {
          "showarrow": false,
          "text": "Clean Grid Required Land by 2050",
          "x": 0,
          "xanchor": "left",
          "xref": "x5 domain",
          "y": 252,
          "yanchor": "bottom",
          "yref": "y5"
         },
         {
          "showarrow": false,
          "text": "Clean Grid Required Land by 2050",
          "x": 0,
          "xanchor": "left",
          "xref": "x4 domain",
          "y": 695,
          "yanchor": "bottom",
          "yref": "y4"
         },
         {
          "showarrow": false,
          "text": "Clean Grid Required Land by 2050",
          "x": 0,
          "xanchor": "left",
          "xref": "x3 domain",
          "y": 878,
          "yanchor": "bottom",
          "yref": "y3"
         },
         {
          "showarrow": false,
          "text": "Clean Grid Required Land by 2050",
          "x": 0,
          "xanchor": "left",
          "xref": "x2 domain",
          "y": 641,
          "yanchor": "bottom",
          "yref": "y2"
         },
         {
          "showarrow": false,
          "text": "Clean Grid Required Land by 2050",
          "x": 0,
          "xanchor": "left",
          "xref": "x domain",
          "y": 2186,
          "yanchor": "bottom",
          "yref": "y"
         }
        ],
        "barmode": "relative",
        "height": 2000,
        "legend": {
         "title": {
          "text": "variable"
         },
         "tracegroupgap": 0
        },
        "margin": {
         "t": 60
        },
        "paper_bgcolor": "white",
        "plot_bgcolor": "white",
        "shapes": [
         {
          "line": {
           "dash": "dot",
           "width": 2
          },
          "type": "line",
          "x0": 0,
          "x1": 1,
          "xref": "x11 domain",
          "y0": 715,
          "y1": 715,
          "yref": "y11"
         },
         {
          "line": {
           "dash": "dot",
           "width": 2
          },
          "type": "line",
          "x0": 0,
          "x1": 1,
          "xref": "x10 domain",
          "y0": 3066,
          "y1": 3066,
          "yref": "y10"
         },
         {
          "line": {
           "dash": "dot",
           "width": 2
          },
          "type": "line",
          "x0": 0,
          "x1": 1,
          "xref": "x9 domain",
          "y0": 1596,
          "y1": 1596,
          "yref": "y9"
         },
         {
          "line": {
           "dash": "dot",
           "width": 2
          },
          "type": "line",
          "x0": 0,
          "x1": 1,
          "xref": "x8 domain",
          "y0": 336,
          "y1": 336,
          "yref": "y8"
         },
         {
          "line": {
           "dash": "dot",
           "width": 2
          },
          "type": "line",
          "x0": 0,
          "x1": 1,
          "xref": "x7 domain",
          "y0": 2921,
          "y1": 2921,
          "yref": "y7"
         },
         {
          "line": {
           "dash": "dot",
           "width": 2
          },
          "type": "line",
          "x0": 0,
          "x1": 1,
          "xref": "x6 domain",
          "y0": 1081,
          "y1": 1081,
          "yref": "y6"
         },
         {
          "line": {
           "dash": "dot",
           "width": 2
          },
          "type": "line",
          "x0": 0,
          "x1": 1,
          "xref": "x5 domain",
          "y0": 252,
          "y1": 252,
          "yref": "y5"
         },
         {
          "line": {
           "dash": "dot",
           "width": 2
          },
          "type": "line",
          "x0": 0,
          "x1": 1,
          "xref": "x4 domain",
          "y0": 695,
          "y1": 695,
          "yref": "y4"
         },
         {
          "line": {
           "dash": "dot",
           "width": 2
          },
          "type": "line",
          "x0": 0,
          "x1": 1,
          "xref": "x3 domain",
          "y0": 878,
          "y1": 878,
          "yref": "y3"
         },
         {
          "line": {
           "dash": "dot",
           "width": 2
          },
          "type": "line",
          "x0": 0,
          "x1": 1,
          "xref": "x2 domain",
          "y0": 641,
          "y1": 641,
          "yref": "y2"
         },
         {
          "line": {
           "dash": "dot",
           "width": 2
          },
          "type": "line",
          "x0": 0,
          "x1": 1,
          "xref": "x domain",
          "y0": 2186,
          "y1": 2186,
          "yref": "y"
         }
        ],
        "showlegend": false,
        "template": {
         "data": {
          "bar": [
           {
            "error_x": {
             "color": "#2a3f5f"
            },
            "error_y": {
             "color": "#2a3f5f"
            },
            "marker": {
             "line": {
              "color": "#E5ECF6",
              "width": 0.5
             },
             "pattern": {
              "fillmode": "overlay",
              "size": 10,
              "solidity": 0.2
             }
            },
            "type": "bar"
           }
          ],
          "barpolar": [
           {
            "marker": {
             "line": {
              "color": "#E5ECF6",
              "width": 0.5
             },
             "pattern": {
              "fillmode": "overlay",
              "size": 10,
              "solidity": 0.2
             }
            },
            "type": "barpolar"
           }
          ],
          "carpet": [
           {
            "aaxis": {
             "endlinecolor": "#2a3f5f",
             "gridcolor": "white",
             "linecolor": "white",
             "minorgridcolor": "white",
             "startlinecolor": "#2a3f5f"
            },
            "baxis": {
             "endlinecolor": "#2a3f5f",
             "gridcolor": "white",
             "linecolor": "white",
             "minorgridcolor": "white",
             "startlinecolor": "#2a3f5f"
            },
            "type": "carpet"
           }
          ],
          "choropleth": [
           {
            "colorbar": {
             "outlinewidth": 0,
             "ticks": ""
            },
            "type": "choropleth"
           }
          ],
          "contour": [
           {
            "colorbar": {
             "outlinewidth": 0,
             "ticks": ""
            },
            "colorscale": [
             [
              0,
              "#0d0887"
             ],
             [
              0.1111111111111111,
              "#46039f"
             ],
             [
              0.2222222222222222,
              "#7201a8"
             ],
             [
              0.3333333333333333,
              "#9c179e"
             ],
             [
              0.4444444444444444,
              "#bd3786"
             ],
             [
              0.5555555555555556,
              "#d8576b"
             ],
             [
              0.6666666666666666,
              "#ed7953"
             ],
             [
              0.7777777777777778,
              "#fb9f3a"
             ],
             [
              0.8888888888888888,
              "#fdca26"
             ],
             [
              1,
              "#f0f921"
             ]
            ],
            "type": "contour"
           }
          ],
          "contourcarpet": [
           {
            "colorbar": {
             "outlinewidth": 0,
             "ticks": ""
            },
            "type": "contourcarpet"
           }
          ],
          "heatmap": [
           {
            "colorbar": {
             "outlinewidth": 0,
             "ticks": ""
            },
            "colorscale": [
             [
              0,
              "#0d0887"
             ],
             [
              0.1111111111111111,
              "#46039f"
             ],
             [
              0.2222222222222222,
              "#7201a8"
             ],
             [
              0.3333333333333333,
              "#9c179e"
             ],
             [
              0.4444444444444444,
              "#bd3786"
             ],
             [
              0.5555555555555556,
              "#d8576b"
             ],
             [
              0.6666666666666666,
              "#ed7953"
             ],
             [
              0.7777777777777778,
              "#fb9f3a"
             ],
             [
              0.8888888888888888,
              "#fdca26"
             ],
             [
              1,
              "#f0f921"
             ]
            ],
            "type": "heatmap"
           }
          ],
          "heatmapgl": [
           {
            "colorbar": {
             "outlinewidth": 0,
             "ticks": ""
            },
            "colorscale": [
             [
              0,
              "#0d0887"
             ],
             [
              0.1111111111111111,
              "#46039f"
             ],
             [
              0.2222222222222222,
              "#7201a8"
             ],
             [
              0.3333333333333333,
              "#9c179e"
             ],
             [
              0.4444444444444444,
              "#bd3786"
             ],
             [
              0.5555555555555556,
              "#d8576b"
             ],
             [
              0.6666666666666666,
              "#ed7953"
             ],
             [
              0.7777777777777778,
              "#fb9f3a"
             ],
             [
              0.8888888888888888,
              "#fdca26"
             ],
             [
              1,
              "#f0f921"
             ]
            ],
            "type": "heatmapgl"
           }
          ],
          "histogram": [
           {
            "marker": {
             "pattern": {
              "fillmode": "overlay",
              "size": 10,
              "solidity": 0.2
             }
            },
            "type": "histogram"
           }
          ],
          "histogram2d": [
           {
            "colorbar": {
             "outlinewidth": 0,
             "ticks": ""
            },
            "colorscale": [
             [
              0,
              "#0d0887"
             ],
             [
              0.1111111111111111,
              "#46039f"
             ],
             [
              0.2222222222222222,
              "#7201a8"
             ],
             [
              0.3333333333333333,
              "#9c179e"
             ],
             [
              0.4444444444444444,
              "#bd3786"
             ],
             [
              0.5555555555555556,
              "#d8576b"
             ],
             [
              0.6666666666666666,
              "#ed7953"
             ],
             [
              0.7777777777777778,
              "#fb9f3a"
             ],
             [
              0.8888888888888888,
              "#fdca26"
             ],
             [
              1,
              "#f0f921"
             ]
            ],
            "type": "histogram2d"
           }
          ],
          "histogram2dcontour": [
           {
            "colorbar": {
             "outlinewidth": 0,
             "ticks": ""
            },
            "colorscale": [
             [
              0,
              "#0d0887"
             ],
             [
              0.1111111111111111,
              "#46039f"
             ],
             [
              0.2222222222222222,
              "#7201a8"
             ],
             [
              0.3333333333333333,
              "#9c179e"
             ],
             [
              0.4444444444444444,
              "#bd3786"
             ],
             [
              0.5555555555555556,
              "#d8576b"
             ],
             [
              0.6666666666666666,
              "#ed7953"
             ],
             [
              0.7777777777777778,
              "#fb9f3a"
             ],
             [
              0.8888888888888888,
              "#fdca26"
             ],
             [
              1,
              "#f0f921"
             ]
            ],
            "type": "histogram2dcontour"
           }
          ],
          "mesh3d": [
           {
            "colorbar": {
             "outlinewidth": 0,
             "ticks": ""
            },
            "type": "mesh3d"
           }
          ],
          "parcoords": [
           {
            "line": {
             "colorbar": {
              "outlinewidth": 0,
              "ticks": ""
             }
            },
            "type": "parcoords"
           }
          ],
          "pie": [
           {
            "automargin": true,
            "type": "pie"
           }
          ],
          "scatter": [
           {
            "fillpattern": {
             "fillmode": "overlay",
             "size": 10,
             "solidity": 0.2
            },
            "type": "scatter"
           }
          ],
          "scatter3d": [
           {
            "line": {
             "colorbar": {
              "outlinewidth": 0,
              "ticks": ""
             }
            },
            "marker": {
             "colorbar": {
              "outlinewidth": 0,
              "ticks": ""
             }
            },
            "type": "scatter3d"
           }
          ],
          "scattercarpet": [
           {
            "marker": {
             "colorbar": {
              "outlinewidth": 0,
              "ticks": ""
             }
            },
            "type": "scattercarpet"
           }
          ],
          "scattergeo": [
           {
            "marker": {
             "colorbar": {
              "outlinewidth": 0,
              "ticks": ""
             }
            },
            "type": "scattergeo"
           }
          ],
          "scattergl": [
           {
            "marker": {
             "colorbar": {
              "outlinewidth": 0,
              "ticks": ""
             }
            },
            "type": "scattergl"
           }
          ],
          "scattermapbox": [
           {
            "marker": {
             "colorbar": {
              "outlinewidth": 0,
              "ticks": ""
             }
            },
            "type": "scattermapbox"
           }
          ],
          "scatterpolar": [
           {
            "marker": {
             "colorbar": {
              "outlinewidth": 0,
              "ticks": ""
             }
            },
            "type": "scatterpolar"
           }
          ],
          "scatterpolargl": [
           {
            "marker": {
             "colorbar": {
              "outlinewidth": 0,
              "ticks": ""
             }
            },
            "type": "scatterpolargl"
           }
          ],
          "scatterternary": [
           {
            "marker": {
             "colorbar": {
              "outlinewidth": 0,
              "ticks": ""
             }
            },
            "type": "scatterternary"
           }
          ],
          "surface": [
           {
            "colorbar": {
             "outlinewidth": 0,
             "ticks": ""
            },
            "colorscale": [
             [
              0,
              "#0d0887"
             ],
             [
              0.1111111111111111,
              "#46039f"
             ],
             [
              0.2222222222222222,
              "#7201a8"
             ],
             [
              0.3333333333333333,
              "#9c179e"
             ],
             [
              0.4444444444444444,
              "#bd3786"
             ],
             [
              0.5555555555555556,
              "#d8576b"
             ],
             [
              0.6666666666666666,
              "#ed7953"
             ],
             [
              0.7777777777777778,
              "#fb9f3a"
             ],
             [
              0.8888888888888888,
              "#fdca26"
             ],
             [
              1,
              "#f0f921"
             ]
            ],
            "type": "surface"
           }
          ],
          "table": [
           {
            "cells": {
             "fill": {
              "color": "#EBF0F8"
             },
             "line": {
              "color": "white"
             }
            },
            "header": {
             "fill": {
              "color": "#C8D4E3"
             },
             "line": {
              "color": "white"
             }
            },
            "type": "table"
           }
          ]
         },
         "layout": {
          "annotationdefaults": {
           "arrowcolor": "#2a3f5f",
           "arrowhead": 0,
           "arrowwidth": 1
          },
          "autotypenumbers": "strict",
          "coloraxis": {
           "colorbar": {
            "outlinewidth": 0,
            "ticks": ""
           }
          },
          "colorscale": {
           "diverging": [
            [
             0,
             "#8e0152"
            ],
            [
             0.1,
             "#c51b7d"
            ],
            [
             0.2,
             "#de77ae"
            ],
            [
             0.3,
             "#f1b6da"
            ],
            [
             0.4,
             "#fde0ef"
            ],
            [
             0.5,
             "#f7f7f7"
            ],
            [
             0.6,
             "#e6f5d0"
            ],
            [
             0.7,
             "#b8e186"
            ],
            [
             0.8,
             "#7fbc41"
            ],
            [
             0.9,
             "#4d9221"
            ],
            [
             1,
             "#276419"
            ]
           ],
           "sequential": [
            [
             0,
             "#0d0887"
            ],
            [
             0.1111111111111111,
             "#46039f"
            ],
            [
             0.2222222222222222,
             "#7201a8"
            ],
            [
             0.3333333333333333,
             "#9c179e"
            ],
            [
             0.4444444444444444,
             "#bd3786"
            ],
            [
             0.5555555555555556,
             "#d8576b"
            ],
            [
             0.6666666666666666,
             "#ed7953"
            ],
            [
             0.7777777777777778,
             "#fb9f3a"
            ],
            [
             0.8888888888888888,
             "#fdca26"
            ],
            [
             1,
             "#f0f921"
            ]
           ],
           "sequentialminus": [
            [
             0,
             "#0d0887"
            ],
            [
             0.1111111111111111,
             "#46039f"
            ],
            [
             0.2222222222222222,
             "#7201a8"
            ],
            [
             0.3333333333333333,
             "#9c179e"
            ],
            [
             0.4444444444444444,
             "#bd3786"
            ],
            [
             0.5555555555555556,
             "#d8576b"
            ],
            [
             0.6666666666666666,
             "#ed7953"
            ],
            [
             0.7777777777777778,
             "#fb9f3a"
            ],
            [
             0.8888888888888888,
             "#fdca26"
            ],
            [
             1,
             "#f0f921"
            ]
           ]
          },
          "colorway": [
           "#636efa",
           "#EF553B",
           "#00cc96",
           "#ab63fa",
           "#FFA15A",
           "#19d3f3",
           "#FF6692",
           "#B6E880",
           "#FF97FF",
           "#FECB52"
          ],
          "font": {
           "color": "#2a3f5f"
          },
          "geo": {
           "bgcolor": "white",
           "lakecolor": "white",
           "landcolor": "#E5ECF6",
           "showlakes": true,
           "showland": true,
           "subunitcolor": "white"
          },
          "hoverlabel": {
           "align": "left"
          },
          "hovermode": "closest",
          "mapbox": {
           "style": "light"
          },
          "paper_bgcolor": "white",
          "plot_bgcolor": "#E5ECF6",
          "polar": {
           "angularaxis": {
            "gridcolor": "white",
            "linecolor": "white",
            "ticks": ""
           },
           "bgcolor": "#E5ECF6",
           "radialaxis": {
            "gridcolor": "white",
            "linecolor": "white",
            "ticks": ""
           }
          },
          "scene": {
           "xaxis": {
            "backgroundcolor": "#E5ECF6",
            "gridcolor": "white",
            "gridwidth": 2,
            "linecolor": "white",
            "showbackground": true,
            "ticks": "",
            "zerolinecolor": "white"
           },
           "yaxis": {
            "backgroundcolor": "#E5ECF6",
            "gridcolor": "white",
            "gridwidth": 2,
            "linecolor": "white",
            "showbackground": true,
            "ticks": "",
            "zerolinecolor": "white"
           },
           "zaxis": {
            "backgroundcolor": "#E5ECF6",
            "gridcolor": "white",
            "gridwidth": 2,
            "linecolor": "white",
            "showbackground": true,
            "ticks": "",
            "zerolinecolor": "white"
           }
          },
          "shapedefaults": {
           "line": {
            "color": "#2a3f5f"
           }
          },
          "ternary": {
           "aaxis": {
            "gridcolor": "white",
            "linecolor": "white",
            "ticks": ""
           },
           "baxis": {
            "gridcolor": "white",
            "linecolor": "white",
            "ticks": ""
           },
           "bgcolor": "#E5ECF6",
           "caxis": {
            "gridcolor": "white",
            "linecolor": "white",
            "ticks": ""
           }
          },
          "title": {
           "x": 0.05
          },
          "xaxis": {
           "automargin": true,
           "gridcolor": "white",
           "linecolor": "white",
           "ticks": "",
           "title": {
            "standoff": 15
           },
           "zerolinecolor": "white",
           "zerolinewidth": 2
          },
          "yaxis": {
           "automargin": true,
           "gridcolor": "white",
           "linecolor": "white",
           "ticks": "",
           "title": {
            "standoff": 15
           },
           "zerolinecolor": "white",
           "zerolinewidth": 2
          }
         }
        },
        "title": {
         "text": "Wind Siting Availability under Various Exclusion Combinations"
        },
        "uniformtext": {
         "minsize": 18,
         "mode": "hide"
        },
        "width": 1200,
        "xaxis": {
         "anchor": "y",
         "autorange": true,
         "categoryarray": [
          "Baseline Restrictions (BR)",
          "BR + DACs",
          "BR + Important Farmland",
          "BR + w/in 1km of Natural Areas",
          "BR + w/in 5km of Natural Areas",
          "BR + w/in 10km of Natural Areas",
          "BR + DACS, w/in 5km of Natural Area, and Important Farmland",
          "BR + w/in 5km of Natural Area and Important Farmland",
          "BR + w/in 10km of Natural Area and Important Farmland"
         ],
         "categoryorder": "array",
         "domain": [
          0,
          0.98
         ],
         "range": [
          -0.5,
          8.5
         ],
         "title": {
          "text": "variable"
         },
         "type": "category"
        },
        "xaxis10": {
         "anchor": "y10",
         "autorange": true,
         "domain": [
          0,
          0.98
         ],
         "matches": "x",
         "range": [
          -0.5,
          8.5
         ],
         "showticklabels": false,
         "type": "category"
        },
        "xaxis11": {
         "anchor": "y11",
         "autorange": true,
         "domain": [
          0,
          0.98
         ],
         "matches": "x",
         "range": [
          -0.5,
          8.5
         ],
         "showticklabels": false,
         "type": "category"
        },
        "xaxis2": {
         "anchor": "y2",
         "autorange": true,
         "domain": [
          0,
          0.98
         ],
         "matches": "x",
         "range": [
          -0.5,
          8.5
         ],
         "showticklabels": false,
         "type": "category"
        },
        "xaxis3": {
         "anchor": "y3",
         "autorange": true,
         "domain": [
          0,
          0.98
         ],
         "matches": "x",
         "range": [
          -0.5,
          8.5
         ],
         "showticklabels": false,
         "type": "category"
        },
        "xaxis4": {
         "anchor": "y4",
         "autorange": true,
         "domain": [
          0,
          0.98
         ],
         "matches": "x",
         "range": [
          -0.5,
          8.5
         ],
         "showticklabels": false,
         "type": "category"
        },
        "xaxis5": {
         "anchor": "y5",
         "autorange": true,
         "domain": [
          0,
          0.98
         ],
         "matches": "x",
         "range": [
          -0.5,
          8.5
         ],
         "showticklabels": false,
         "type": "category"
        },
        "xaxis6": {
         "anchor": "y6",
         "autorange": true,
         "domain": [
          0,
          0.98
         ],
         "matches": "x",
         "range": [
          -0.5,
          8.5
         ],
         "showticklabels": false,
         "type": "category"
        },
        "xaxis7": {
         "anchor": "y7",
         "autorange": true,
         "domain": [
          0,
          0.98
         ],
         "matches": "x",
         "range": [
          -0.5,
          8.5
         ],
         "showticklabels": false,
         "type": "category"
        },
        "xaxis8": {
         "anchor": "y8",
         "autorange": true,
         "domain": [
          0,
          0.98
         ],
         "matches": "x",
         "range": [
          -0.5,
          8.5
         ],
         "showticklabels": false,
         "type": "category"
        },
        "xaxis9": {
         "anchor": "y9",
         "autorange": true,
         "domain": [
          0,
          0.98
         ],
         "matches": "x",
         "range": [
          -0.5,
          8.5
         ],
         "showticklabels": false,
         "type": "category"
        },
        "yaxis": {
         "anchor": "x",
         "autorange": true,
         "domain": [
          0,
          0.06363636363636363
         ],
         "gridcolor": "#bdbdbd",
         "range": [
          0,
          78235.78947368421
         ],
         "showgrid": true,
         "title": {
          "text": "square km"
         },
         "type": "linear"
        },
        "yaxis10": {
         "anchor": "x10",
         "autorange": true,
         "domain": [
          0.8427272727272725,
          0.9063636363636361
         ],
         "gridcolor": "#bdbdbd",
         "range": [
          0,
          10014.736842105263
         ],
         "showgrid": true,
         "title": {
          "text": "square km"
         },
         "type": "linear"
        },
        "yaxis11": {
         "anchor": "x11",
         "autorange": true,
         "domain": [
          0.9363636363636361,
          0.9999999999999997
         ],
         "gridcolor": "#bdbdbd",
         "range": [
          0,
          5765.263157894737
         ],
         "showgrid": true,
         "title": {
          "text": "square km"
         },
         "type": "linear"
        },
        "yaxis2": {
         "anchor": "x2",
         "autorange": true,
         "domain": [
          0.09363636363636363,
          0.15727272727272726
         ],
         "gridcolor": "#bdbdbd",
         "range": [
          0,
          5675.789473684211
         ],
         "showgrid": true,
         "title": {
          "text": "square km"
         },
         "type": "linear"
        },
        "yaxis3": {
         "anchor": "x3",
         "autorange": true,
         "domain": [
          0.18727272727272726,
          0.25090909090909086
         ],
         "gridcolor": "#bdbdbd",
         "range": [
          0,
          3010.5263157894738
         ],
         "showgrid": true,
         "title": {
          "text": "square km"
         },
         "type": "linear"
        },
        "yaxis4": {
         "anchor": "x4",
         "autorange": true,
         "domain": [
          0.2809090909090909,
          0.3445454545454545
         ],
         "gridcolor": "#bdbdbd",
         "range": [
          0,
          6772.631578947368
         ],
         "showgrid": true,
         "title": {
          "text": "square km"
         },
         "type": "linear"
        },
        "yaxis5": {
         "anchor": "x5",
         "autorange": true,
         "domain": [
          0.3745454545454545,
          0.4381818181818181
         ],
         "gridcolor": "#bdbdbd",
         "range": [
          0,
          5836.842105263158
         ],
         "showgrid": true,
         "title": {
          "text": "square km"
         },
         "type": "linear"
        },
        "yaxis6": {
         "anchor": "x6",
         "autorange": true,
         "domain": [
          0.46818181818181814,
          0.5318181818181817
         ],
         "gridcolor": "#bdbdbd",
         "range": [
          0,
          56326.31578947369
         ],
         "showgrid": true,
         "title": {
          "text": "square km"
         },
         "type": "linear"
        },
        "yaxis7": {
         "anchor": "x7",
         "autorange": true,
         "domain": [
          0.5618181818181818,
          0.6254545454545454
         ],
         "gridcolor": "#bdbdbd",
         "range": [
          0,
          100984.21052631579
         ],
         "showgrid": true,
         "title": {
          "text": "square km"
         },
         "type": "linear"
        },
        "yaxis8": {
         "anchor": "x8",
         "autorange": true,
         "domain": [
          0.6554545454545453,
          0.7190909090909089
         ],
         "gridcolor": "#bdbdbd",
         "range": [
          0,
          3504.2105263157896
         ],
         "showgrid": true,
         "title": {
          "text": "square km"
         },
         "type": "linear"
        },
        "yaxis9": {
         "anchor": "x9",
         "autorange": true,
         "domain": [
          0.7490909090909089,
          0.8127272727272725
         ],
         "gridcolor": "#bdbdbd",
         "range": [
          0,
          35911.57894736842
         ],
         "showgrid": true,
         "title": {
          "text": "square km"
         },
         "type": "linear"
        }
       }
      },
      "text/html": [
       "<div>                            <div id=\"cce11011-e161-45c6-b7fe-466bf0a1600c\" class=\"plotly-graph-div\" style=\"height:2000px; width:1200px;\"></div>            <script type=\"text/javascript\">                require([\"plotly\"], function(Plotly) {                    window.PLOTLYENV=window.PLOTLYENV || {};                                    if (document.getElementById(\"cce11011-e161-45c6-b7fe-466bf0a1600c\")) {                    Plotly.newPlot(                        \"cce11011-e161-45c6-b7fe-466bf0a1600c\",                        [{\"alignmentgroup\":\"True\",\"hovertemplate\":\"variable=%{x}\\u003cbr\\u003eregion_name=arizona\\u003cbr\\u003evalue=%{y}\\u003cextra\\u003e\\u003c\\u002fextra\\u003e\",\"legendgroup\":\"Baseline Restrictions (BR)\",\"marker\":{\"color\":\"rgb(102, 197, 204)\",\"pattern\":{\"shape\":\"\"}},\"name\":\"Baseline Restrictions (BR)\",\"offsetgroup\":\"Baseline Restrictions (BR)\",\"orientation\":\"v\",\"showlegend\":true,\"textposition\":\"auto\",\"x\":[\"Baseline Restrictions (BR)\"],\"xaxis\":\"x11\",\"y\":[5477],\"yaxis\":\"y11\",\"type\":\"bar\"},{\"alignmentgroup\":\"True\",\"hovertemplate\":\"variable=%{x}\\u003cbr\\u003eregion_name=california\\u003cbr\\u003evalue=%{y}\\u003cextra\\u003e\\u003c\\u002fextra\\u003e\",\"legendgroup\":\"Baseline Restrictions (BR)\",\"marker\":{\"color\":\"rgb(102, 197, 204)\",\"pattern\":{\"shape\":\"\"}},\"name\":\"Baseline Restrictions (BR)\",\"offsetgroup\":\"Baseline Restrictions (BR)\",\"orientation\":\"v\",\"showlegend\":false,\"textposition\":\"auto\",\"x\":[\"Baseline Restrictions (BR)\"],\"xaxis\":\"x10\",\"y\":[9514],\"yaxis\":\"y10\",\"type\":\"bar\"},{\"alignmentgroup\":\"True\",\"hovertemplate\":\"variable=%{x}\\u003cbr\\u003eregion_name=colorado\\u003cbr\\u003evalue=%{y}\\u003cextra\\u003e\\u003c\\u002fextra\\u003e\",\"legendgroup\":\"Baseline Restrictions (BR)\",\"marker\":{\"color\":\"rgb(102, 197, 204)\",\"pattern\":{\"shape\":\"\"}},\"name\":\"Baseline Restrictions (BR)\",\"offsetgroup\":\"Baseline Restrictions (BR)\",\"orientation\":\"v\",\"showlegend\":false,\"textposition\":\"auto\",\"x\":[\"Baseline Restrictions (BR)\"],\"xaxis\":\"x9\",\"y\":[34116],\"yaxis\":\"y9\",\"type\":\"bar\"},{\"alignmentgroup\":\"True\",\"hovertemplate\":\"variable=%{x}\\u003cbr\\u003eregion_name=idaho\\u003cbr\\u003evalue=%{y}\\u003cextra\\u003e\\u003c\\u002fextra\\u003e\",\"legendgroup\":\"Baseline Restrictions (BR)\",\"marker\":{\"color\":\"rgb(102, 197, 204)\",\"pattern\":{\"shape\":\"\"}},\"name\":\"Baseline Restrictions (BR)\",\"offsetgroup\":\"Baseline Restrictions (BR)\",\"orientation\":\"v\",\"showlegend\":false,\"textposition\":\"auto\",\"x\":[\"Baseline Restrictions (BR)\"],\"xaxis\":\"x8\",\"y\":[3329],\"yaxis\":\"y8\",\"type\":\"bar\"},{\"alignmentgroup\":\"True\",\"hovertemplate\":\"variable=%{x}\\u003cbr\\u003eregion_name=montana\\u003cbr\\u003evalue=%{y}\\u003cextra\\u003e\\u003c\\u002fextra\\u003e\",\"legendgroup\":\"Baseline Restrictions (BR)\",\"marker\":{\"color\":\"rgb(102, 197, 204)\",\"pattern\":{\"shape\":\"\"}},\"name\":\"Baseline Restrictions (BR)\",\"offsetgroup\":\"Baseline Restrictions (BR)\",\"orientation\":\"v\",\"showlegend\":false,\"textposition\":\"auto\",\"x\":[\"Baseline Restrictions (BR)\"],\"xaxis\":\"x7\",\"y\":[95935],\"yaxis\":\"y7\",\"type\":\"bar\"},{\"alignmentgroup\":\"True\",\"hovertemplate\":\"variable=%{x}\\u003cbr\\u003eregion_name=new_mexico\\u003cbr\\u003evalue=%{y}\\u003cextra\\u003e\\u003c\\u002fextra\\u003e\",\"legendgroup\":\"Baseline Restrictions (BR)\",\"marker\":{\"color\":\"rgb(102, 197, 204)\",\"pattern\":{\"shape\":\"\"}},\"name\":\"Baseline Restrictions (BR)\",\"offsetgroup\":\"Baseline Restrictions (BR)\",\"orientation\":\"v\",\"showlegend\":false,\"textposition\":\"auto\",\"x\":[\"Baseline Restrictions (BR)\"],\"xaxis\":\"x6\",\"y\":[53510],\"yaxis\":\"y6\",\"type\":\"bar\"},{\"alignmentgroup\":\"True\",\"hovertemplate\":\"variable=%{x}\\u003cbr\\u003eregion_name=nevada\\u003cbr\\u003evalue=%{y}\\u003cextra\\u003e\\u003c\\u002fextra\\u003e\",\"legendgroup\":\"Baseline Restrictions (BR)\",\"marker\":{\"color\":\"rgb(102, 197, 204)\",\"pattern\":{\"shape\":\"\"}},\"name\":\"Baseline Restrictions (BR)\",\"offsetgroup\":\"Baseline Restrictions (BR)\",\"orientation\":\"v\",\"showlegend\":false,\"textposition\":\"auto\",\"x\":[\"Baseline Restrictions (BR)\"],\"xaxis\":\"x5\",\"y\":[5545],\"yaxis\":\"y5\",\"type\":\"bar\"},{\"alignmentgroup\":\"True\",\"hovertemplate\":\"variable=%{x}\\u003cbr\\u003eregion_name=oregon\\u003cbr\\u003evalue=%{y}\\u003cextra\\u003e\\u003c\\u002fextra\\u003e\",\"legendgroup\":\"Baseline Restrictions (BR)\",\"marker\":{\"color\":\"rgb(102, 197, 204)\",\"pattern\":{\"shape\":\"\"}},\"name\":\"Baseline Restrictions (BR)\",\"offsetgroup\":\"Baseline Restrictions (BR)\",\"orientation\":\"v\",\"showlegend\":false,\"textposition\":\"auto\",\"x\":[\"Baseline Restrictions (BR)\"],\"xaxis\":\"x4\",\"y\":[6434],\"yaxis\":\"y4\",\"type\":\"bar\"},{\"alignmentgroup\":\"True\",\"hovertemplate\":\"variable=%{x}\\u003cbr\\u003eregion_name=utah\\u003cbr\\u003evalue=%{y}\\u003cextra\\u003e\\u003c\\u002fextra\\u003e\",\"legendgroup\":\"Baseline Restrictions (BR)\",\"marker\":{\"color\":\"rgb(102, 197, 204)\",\"pattern\":{\"shape\":\"\"}},\"name\":\"Baseline Restrictions (BR)\",\"offsetgroup\":\"Baseline Restrictions (BR)\",\"orientation\":\"v\",\"showlegend\":false,\"textposition\":\"auto\",\"x\":[\"Baseline Restrictions (BR)\"],\"xaxis\":\"x3\",\"y\":[2860],\"yaxis\":\"y3\",\"type\":\"bar\"},{\"alignmentgroup\":\"True\",\"hovertemplate\":\"variable=%{x}\\u003cbr\\u003eregion_name=washington\\u003cbr\\u003evalue=%{y}\\u003cextra\\u003e\\u003c\\u002fextra\\u003e\",\"legendgroup\":\"Baseline Restrictions (BR)\",\"marker\":{\"color\":\"rgb(102, 197, 204)\",\"pattern\":{\"shape\":\"\"}},\"name\":\"Baseline Restrictions (BR)\",\"offsetgroup\":\"Baseline Restrictions (BR)\",\"orientation\":\"v\",\"showlegend\":false,\"textposition\":\"auto\",\"x\":[\"Baseline Restrictions (BR)\"],\"xaxis\":\"x2\",\"y\":[5392],\"yaxis\":\"y2\",\"type\":\"bar\"},{\"alignmentgroup\":\"True\",\"hovertemplate\":\"variable=%{x}\\u003cbr\\u003eregion_name=wyoming\\u003cbr\\u003evalue=%{y}\\u003cextra\\u003e\\u003c\\u002fextra\\u003e\",\"legendgroup\":\"Baseline Restrictions (BR)\",\"marker\":{\"color\":\"rgb(102, 197, 204)\",\"pattern\":{\"shape\":\"\"}},\"name\":\"Baseline Restrictions (BR)\",\"offsetgroup\":\"Baseline Restrictions (BR)\",\"orientation\":\"v\",\"showlegend\":false,\"textposition\":\"auto\",\"x\":[\"Baseline Restrictions (BR)\"],\"xaxis\":\"x\",\"y\":[74324],\"yaxis\":\"y\",\"type\":\"bar\"},{\"alignmentgroup\":\"True\",\"hovertemplate\":\"variable=%{x}\\u003cbr\\u003eregion_name=arizona\\u003cbr\\u003evalue=%{y}\\u003cextra\\u003e\\u003c\\u002fextra\\u003e\",\"legendgroup\":\"BR + DACs\",\"marker\":{\"color\":\"rgb(246, 207, 113)\",\"pattern\":{\"shape\":\"\"}},\"name\":\"BR + DACs\",\"offsetgroup\":\"BR + DACs\",\"orientation\":\"v\",\"showlegend\":true,\"textposition\":\"auto\",\"x\":[\"BR + DACs\"],\"xaxis\":\"x11\",\"y\":[1371],\"yaxis\":\"y11\",\"type\":\"bar\"},{\"alignmentgroup\":\"True\",\"hovertemplate\":\"variable=%{x}\\u003cbr\\u003eregion_name=california\\u003cbr\\u003evalue=%{y}\\u003cextra\\u003e\\u003c\\u002fextra\\u003e\",\"legendgroup\":\"BR + DACs\",\"marker\":{\"color\":\"rgb(246, 207, 113)\",\"pattern\":{\"shape\":\"\"}},\"name\":\"BR + DACs\",\"offsetgroup\":\"BR + DACs\",\"orientation\":\"v\",\"showlegend\":false,\"textposition\":\"auto\",\"x\":[\"BR + DACs\"],\"xaxis\":\"x10\",\"y\":[4789],\"yaxis\":\"y10\",\"type\":\"bar\"},{\"alignmentgroup\":\"True\",\"hovertemplate\":\"variable=%{x}\\u003cbr\\u003eregion_name=colorado\\u003cbr\\u003evalue=%{y}\\u003cextra\\u003e\\u003c\\u002fextra\\u003e\",\"legendgroup\":\"BR + DACs\",\"marker\":{\"color\":\"rgb(246, 207, 113)\",\"pattern\":{\"shape\":\"\"}},\"name\":\"BR + DACs\",\"offsetgroup\":\"BR + DACs\",\"orientation\":\"v\",\"showlegend\":false,\"textposition\":\"auto\",\"x\":[\"BR + DACs\"],\"xaxis\":\"x9\",\"y\":[14401],\"yaxis\":\"y9\",\"type\":\"bar\"},{\"alignmentgroup\":\"True\",\"hovertemplate\":\"variable=%{x}\\u003cbr\\u003eregion_name=idaho\\u003cbr\\u003evalue=%{y}\\u003cextra\\u003e\\u003c\\u002fextra\\u003e\",\"legendgroup\":\"BR + DACs\",\"marker\":{\"color\":\"rgb(246, 207, 113)\",\"pattern\":{\"shape\":\"\"}},\"name\":\"BR + DACs\",\"offsetgroup\":\"BR + DACs\",\"orientation\":\"v\",\"showlegend\":false,\"textposition\":\"auto\",\"x\":[\"BR + DACs\"],\"xaxis\":\"x8\",\"y\":[1075],\"yaxis\":\"y8\",\"type\":\"bar\"},{\"alignmentgroup\":\"True\",\"hovertemplate\":\"variable=%{x}\\u003cbr\\u003eregion_name=montana\\u003cbr\\u003evalue=%{y}\\u003cextra\\u003e\\u003c\\u002fextra\\u003e\",\"legendgroup\":\"BR + DACs\",\"marker\":{\"color\":\"rgb(246, 207, 113)\",\"pattern\":{\"shape\":\"\"}},\"name\":\"BR + DACs\",\"offsetgroup\":\"BR + DACs\",\"orientation\":\"v\",\"showlegend\":false,\"textposition\":\"auto\",\"x\":[\"BR + DACs\"],\"xaxis\":\"x7\",\"y\":[46731],\"yaxis\":\"y7\",\"type\":\"bar\"},{\"alignmentgroup\":\"True\",\"hovertemplate\":\"variable=%{x}\\u003cbr\\u003eregion_name=new_mexico\\u003cbr\\u003evalue=%{y}\\u003cextra\\u003e\\u003c\\u002fextra\\u003e\",\"legendgroup\":\"BR + DACs\",\"marker\":{\"color\":\"rgb(246, 207, 113)\",\"pattern\":{\"shape\":\"\"}},\"name\":\"BR + DACs\",\"offsetgroup\":\"BR + DACs\",\"orientation\":\"v\",\"showlegend\":false,\"textposition\":\"auto\",\"x\":[\"BR + DACs\"],\"xaxis\":\"x6\",\"y\":[4687],\"yaxis\":\"y6\",\"type\":\"bar\"},{\"alignmentgroup\":\"True\",\"hovertemplate\":\"variable=%{x}\\u003cbr\\u003eregion_name=nevada\\u003cbr\\u003evalue=%{y}\\u003cextra\\u003e\\u003c\\u002fextra\\u003e\",\"legendgroup\":\"BR + DACs\",\"marker\":{\"color\":\"rgb(246, 207, 113)\",\"pattern\":{\"shape\":\"\"}},\"name\":\"BR + DACs\",\"offsetgroup\":\"BR + DACs\",\"orientation\":\"v\",\"showlegend\":false,\"textposition\":\"auto\",\"x\":[\"BR + DACs\"],\"xaxis\":\"x5\",\"y\":[4545],\"yaxis\":\"y5\",\"type\":\"bar\"},{\"alignmentgroup\":\"True\",\"hovertemplate\":\"variable=%{x}\\u003cbr\\u003eregion_name=oregon\\u003cbr\\u003evalue=%{y}\\u003cextra\\u003e\\u003c\\u002fextra\\u003e\",\"legendgroup\":\"BR + DACs\",\"marker\":{\"color\":\"rgb(246, 207, 113)\",\"pattern\":{\"shape\":\"\"}},\"name\":\"BR + DACs\",\"offsetgroup\":\"BR + DACs\",\"orientation\":\"v\",\"showlegend\":false,\"textposition\":\"auto\",\"x\":[\"BR + DACs\"],\"xaxis\":\"x4\",\"y\":[2122],\"yaxis\":\"y4\",\"type\":\"bar\"},{\"alignmentgroup\":\"True\",\"hovertemplate\":\"variable=%{x}\\u003cbr\\u003eregion_name=utah\\u003cbr\\u003evalue=%{y}\\u003cextra\\u003e\\u003c\\u002fextra\\u003e\",\"legendgroup\":\"BR + DACs\",\"marker\":{\"color\":\"rgb(246, 207, 113)\",\"pattern\":{\"shape\":\"\"}},\"name\":\"BR + DACs\",\"offsetgroup\":\"BR + DACs\",\"orientation\":\"v\",\"showlegend\":false,\"textposition\":\"auto\",\"x\":[\"BR + DACs\"],\"xaxis\":\"x3\",\"y\":[2048],\"yaxis\":\"y3\",\"type\":\"bar\"},{\"alignmentgroup\":\"True\",\"hovertemplate\":\"variable=%{x}\\u003cbr\\u003eregion_name=washington\\u003cbr\\u003evalue=%{y}\\u003cextra\\u003e\\u003c\\u002fextra\\u003e\",\"legendgroup\":\"BR + DACs\",\"marker\":{\"color\":\"rgb(246, 207, 113)\",\"pattern\":{\"shape\":\"\"}},\"name\":\"BR + DACs\",\"offsetgroup\":\"BR + DACs\",\"orientation\":\"v\",\"showlegend\":false,\"textposition\":\"auto\",\"x\":[\"BR + DACs\"],\"xaxis\":\"x2\",\"y\":[3102],\"yaxis\":\"y2\",\"type\":\"bar\"},{\"alignmentgroup\":\"True\",\"hovertemplate\":\"variable=%{x}\\u003cbr\\u003eregion_name=wyoming\\u003cbr\\u003evalue=%{y}\\u003cextra\\u003e\\u003c\\u002fextra\\u003e\",\"legendgroup\":\"BR + DACs\",\"marker\":{\"color\":\"rgb(246, 207, 113)\",\"pattern\":{\"shape\":\"\"}},\"name\":\"BR + DACs\",\"offsetgroup\":\"BR + DACs\",\"orientation\":\"v\",\"showlegend\":false,\"textposition\":\"auto\",\"x\":[\"BR + DACs\"],\"xaxis\":\"x\",\"y\":[62770],\"yaxis\":\"y\",\"type\":\"bar\"},{\"alignmentgroup\":\"True\",\"hovertemplate\":\"variable=%{x}\\u003cbr\\u003eregion_name=arizona\\u003cbr\\u003evalue=%{y}\\u003cextra\\u003e\\u003c\\u002fextra\\u003e\",\"legendgroup\":\"BR + Important Farmland\",\"marker\":{\"color\":\"rgb(248, 156, 116)\",\"pattern\":{\"shape\":\"\"}},\"name\":\"BR + Important Farmland\",\"offsetgroup\":\"BR + Important Farmland\",\"orientation\":\"v\",\"showlegend\":true,\"textposition\":\"auto\",\"x\":[\"BR + Important Farmland\"],\"xaxis\":\"x11\",\"y\":[5477],\"yaxis\":\"y11\",\"type\":\"bar\"},{\"alignmentgroup\":\"True\",\"hovertemplate\":\"variable=%{x}\\u003cbr\\u003eregion_name=california\\u003cbr\\u003evalue=%{y}\\u003cextra\\u003e\\u003c\\u002fextra\\u003e\",\"legendgroup\":\"BR + Important Farmland\",\"marker\":{\"color\":\"rgb(248, 156, 116)\",\"pattern\":{\"shape\":\"\"}},\"name\":\"BR + Important Farmland\",\"offsetgroup\":\"BR + Important Farmland\",\"orientation\":\"v\",\"showlegend\":false,\"textposition\":\"auto\",\"x\":[\"BR + Important Farmland\"],\"xaxis\":\"x10\",\"y\":[9129],\"yaxis\":\"y10\",\"type\":\"bar\"},{\"alignmentgroup\":\"True\",\"hovertemplate\":\"variable=%{x}\\u003cbr\\u003eregion_name=colorado\\u003cbr\\u003evalue=%{y}\\u003cextra\\u003e\\u003c\\u002fextra\\u003e\",\"legendgroup\":\"BR + Important Farmland\",\"marker\":{\"color\":\"rgb(248, 156, 116)\",\"pattern\":{\"shape\":\"\"}},\"name\":\"BR + Important Farmland\",\"offsetgroup\":\"BR + Important Farmland\",\"orientation\":\"v\",\"showlegend\":false,\"textposition\":\"auto\",\"x\":[\"BR + Important Farmland\"],\"xaxis\":\"x9\",\"y\":[30713],\"yaxis\":\"y9\",\"type\":\"bar\"},{\"alignmentgroup\":\"True\",\"hovertemplate\":\"variable=%{x}\\u003cbr\\u003eregion_name=idaho\\u003cbr\\u003evalue=%{y}\\u003cextra\\u003e\\u003c\\u002fextra\\u003e\",\"legendgroup\":\"BR + Important Farmland\",\"marker\":{\"color\":\"rgb(248, 156, 116)\",\"pattern\":{\"shape\":\"\"}},\"name\":\"BR + Important Farmland\",\"offsetgroup\":\"BR + Important Farmland\",\"orientation\":\"v\",\"showlegend\":false,\"textposition\":\"auto\",\"x\":[\"BR + Important Farmland\"],\"xaxis\":\"x8\",\"y\":[3309],\"yaxis\":\"y8\",\"type\":\"bar\"},{\"alignmentgroup\":\"True\",\"hovertemplate\":\"variable=%{x}\\u003cbr\\u003eregion_name=montana\\u003cbr\\u003evalue=%{y}\\u003cextra\\u003e\\u003c\\u002fextra\\u003e\",\"legendgroup\":\"BR + Important Farmland\",\"marker\":{\"color\":\"rgb(248, 156, 116)\",\"pattern\":{\"shape\":\"\"}},\"name\":\"BR + Important Farmland\",\"offsetgroup\":\"BR + Important Farmland\",\"orientation\":\"v\",\"showlegend\":false,\"textposition\":\"auto\",\"x\":[\"BR + Important Farmland\"],\"xaxis\":\"x7\",\"y\":[81764],\"yaxis\":\"y7\",\"type\":\"bar\"},{\"alignmentgroup\":\"True\",\"hovertemplate\":\"variable=%{x}\\u003cbr\\u003eregion_name=new_mexico\\u003cbr\\u003evalue=%{y}\\u003cextra\\u003e\\u003c\\u002fextra\\u003e\",\"legendgroup\":\"BR + Important Farmland\",\"marker\":{\"color\":\"rgb(248, 156, 116)\",\"pattern\":{\"shape\":\"\"}},\"name\":\"BR + Important Farmland\",\"offsetgroup\":\"BR + Important Farmland\",\"orientation\":\"v\",\"showlegend\":false,\"textposition\":\"auto\",\"x\":[\"BR + Important Farmland\"],\"xaxis\":\"x6\",\"y\":[44208],\"yaxis\":\"y6\",\"type\":\"bar\"},{\"alignmentgroup\":\"True\",\"hovertemplate\":\"variable=%{x}\\u003cbr\\u003eregion_name=nevada\\u003cbr\\u003evalue=%{y}\\u003cextra\\u003e\\u003c\\u002fextra\\u003e\",\"legendgroup\":\"BR + Important Farmland\",\"marker\":{\"color\":\"rgb(248, 156, 116)\",\"pattern\":{\"shape\":\"\"}},\"name\":\"BR + Important Farmland\",\"offsetgroup\":\"BR + Important Farmland\",\"orientation\":\"v\",\"showlegend\":false,\"textposition\":\"auto\",\"x\":[\"BR + Important Farmland\"],\"xaxis\":\"x5\",\"y\":[5545],\"yaxis\":\"y5\",\"type\":\"bar\"},{\"alignmentgroup\":\"True\",\"hovertemplate\":\"variable=%{x}\\u003cbr\\u003eregion_name=oregon\\u003cbr\\u003evalue=%{y}\\u003cextra\\u003e\\u003c\\u002fextra\\u003e\",\"legendgroup\":\"BR + Important Farmland\",\"marker\":{\"color\":\"rgb(248, 156, 116)\",\"pattern\":{\"shape\":\"\"}},\"name\":\"BR + Important Farmland\",\"offsetgroup\":\"BR + Important Farmland\",\"orientation\":\"v\",\"showlegend\":false,\"textposition\":\"auto\",\"x\":[\"BR + Important Farmland\"],\"xaxis\":\"x4\",\"y\":[3766],\"yaxis\":\"y4\",\"type\":\"bar\"},{\"alignmentgroup\":\"True\",\"hovertemplate\":\"variable=%{x}\\u003cbr\\u003eregion_name=utah\\u003cbr\\u003evalue=%{y}\\u003cextra\\u003e\\u003c\\u002fextra\\u003e\",\"legendgroup\":\"BR + Important Farmland\",\"marker\":{\"color\":\"rgb(248, 156, 116)\",\"pattern\":{\"shape\":\"\"}},\"name\":\"BR + Important Farmland\",\"offsetgroup\":\"BR + Important Farmland\",\"orientation\":\"v\",\"showlegend\":false,\"textposition\":\"auto\",\"x\":[\"BR + Important Farmland\"],\"xaxis\":\"x3\",\"y\":[2845],\"yaxis\":\"y3\",\"type\":\"bar\"},{\"alignmentgroup\":\"True\",\"hovertemplate\":\"variable=%{x}\\u003cbr\\u003eregion_name=washington\\u003cbr\\u003evalue=%{y}\\u003cextra\\u003e\\u003c\\u002fextra\\u003e\",\"legendgroup\":\"BR + Important Farmland\",\"marker\":{\"color\":\"rgb(248, 156, 116)\",\"pattern\":{\"shape\":\"\"}},\"name\":\"BR + Important Farmland\",\"offsetgroup\":\"BR + Important Farmland\",\"orientation\":\"v\",\"showlegend\":false,\"textposition\":\"auto\",\"x\":[\"BR + Important Farmland\"],\"xaxis\":\"x2\",\"y\":[3406],\"yaxis\":\"y2\",\"type\":\"bar\"},{\"alignmentgroup\":\"True\",\"hovertemplate\":\"variable=%{x}\\u003cbr\\u003eregion_name=wyoming\\u003cbr\\u003evalue=%{y}\\u003cextra\\u003e\\u003c\\u002fextra\\u003e\",\"legendgroup\":\"BR + Important Farmland\",\"marker\":{\"color\":\"rgb(248, 156, 116)\",\"pattern\":{\"shape\":\"\"}},\"name\":\"BR + Important Farmland\",\"offsetgroup\":\"BR + Important Farmland\",\"orientation\":\"v\",\"showlegend\":false,\"textposition\":\"auto\",\"x\":[\"BR + Important Farmland\"],\"xaxis\":\"x\",\"y\":[73638],\"yaxis\":\"y\",\"type\":\"bar\"},{\"alignmentgroup\":\"True\",\"hovertemplate\":\"variable=%{x}\\u003cbr\\u003eregion_name=arizona\\u003cbr\\u003evalue=%{y}\\u003cextra\\u003e\\u003c\\u002fextra\\u003e\",\"legendgroup\":\"BR + w\\u002fin 1km of Natural Areas\",\"marker\":{\"color\":\"rgb(220, 176, 242)\",\"pattern\":{\"shape\":\"\"}},\"name\":\"BR + w\\u002fin 1km of Natural Areas\",\"offsetgroup\":\"BR + w\\u002fin 1km of Natural Areas\",\"orientation\":\"v\",\"showlegend\":true,\"textposition\":\"auto\",\"x\":[\"BR + w\\u002fin 1km of Natural Areas\"],\"xaxis\":\"x11\",\"y\":[4759],\"yaxis\":\"y11\",\"type\":\"bar\"},{\"alignmentgroup\":\"True\",\"hovertemplate\":\"variable=%{x}\\u003cbr\\u003eregion_name=california\\u003cbr\\u003evalue=%{y}\\u003cextra\\u003e\\u003c\\u002fextra\\u003e\",\"legendgroup\":\"BR + w\\u002fin 1km of Natural Areas\",\"marker\":{\"color\":\"rgb(220, 176, 242)\",\"pattern\":{\"shape\":\"\"}},\"name\":\"BR + w\\u002fin 1km of Natural Areas\",\"offsetgroup\":\"BR + w\\u002fin 1km of Natural Areas\",\"orientation\":\"v\",\"showlegend\":false,\"textposition\":\"auto\",\"x\":[\"BR + w\\u002fin 1km of Natural Areas\"],\"xaxis\":\"x10\",\"y\":[7281],\"yaxis\":\"y10\",\"type\":\"bar\"},{\"alignmentgroup\":\"True\",\"hovertemplate\":\"variable=%{x}\\u003cbr\\u003eregion_name=colorado\\u003cbr\\u003evalue=%{y}\\u003cextra\\u003e\\u003c\\u002fextra\\u003e\",\"legendgroup\":\"BR + w\\u002fin 1km of Natural Areas\",\"marker\":{\"color\":\"rgb(220, 176, 242)\",\"pattern\":{\"shape\":\"\"}},\"name\":\"BR + w\\u002fin 1km of Natural Areas\",\"offsetgroup\":\"BR + w\\u002fin 1km of Natural Areas\",\"orientation\":\"v\",\"showlegend\":false,\"textposition\":\"auto\",\"x\":[\"BR + w\\u002fin 1km of Natural Areas\"],\"xaxis\":\"x9\",\"y\":[33011],\"yaxis\":\"y9\",\"type\":\"bar\"},{\"alignmentgroup\":\"True\",\"hovertemplate\":\"variable=%{x}\\u003cbr\\u003eregion_name=idaho\\u003cbr\\u003evalue=%{y}\\u003cextra\\u003e\\u003c\\u002fextra\\u003e\",\"legendgroup\":\"BR + w\\u002fin 1km of Natural Areas\",\"marker\":{\"color\":\"rgb(220, 176, 242)\",\"pattern\":{\"shape\":\"\"}},\"name\":\"BR + w\\u002fin 1km of Natural Areas\",\"offsetgroup\":\"BR + w\\u002fin 1km of Natural Areas\",\"orientation\":\"v\",\"showlegend\":false,\"textposition\":\"auto\",\"x\":[\"BR + w\\u002fin 1km of Natural Areas\"],\"xaxis\":\"x8\",\"y\":[2950],\"yaxis\":\"y8\",\"type\":\"bar\"},{\"alignmentgroup\":\"True\",\"hovertemplate\":\"variable=%{x}\\u003cbr\\u003eregion_name=montana\\u003cbr\\u003evalue=%{y}\\u003cextra\\u003e\\u003c\\u002fextra\\u003e\",\"legendgroup\":\"BR + w\\u002fin 1km of Natural Areas\",\"marker\":{\"color\":\"rgb(220, 176, 242)\",\"pattern\":{\"shape\":\"\"}},\"name\":\"BR + w\\u002fin 1km of Natural Areas\",\"offsetgroup\":\"BR + w\\u002fin 1km of Natural Areas\",\"orientation\":\"v\",\"showlegend\":false,\"textposition\":\"auto\",\"x\":[\"BR + w\\u002fin 1km of Natural Areas\"],\"xaxis\":\"x7\",\"y\":[83647],\"yaxis\":\"y7\",\"type\":\"bar\"},{\"alignmentgroup\":\"True\",\"hovertemplate\":\"variable=%{x}\\u003cbr\\u003eregion_name=new_mexico\\u003cbr\\u003evalue=%{y}\\u003cextra\\u003e\\u003c\\u002fextra\\u003e\",\"legendgroup\":\"BR + w\\u002fin 1km of Natural Areas\",\"marker\":{\"color\":\"rgb(220, 176, 242)\",\"pattern\":{\"shape\":\"\"}},\"name\":\"BR + w\\u002fin 1km of Natural Areas\",\"offsetgroup\":\"BR + w\\u002fin 1km of Natural Areas\",\"orientation\":\"v\",\"showlegend\":false,\"textposition\":\"auto\",\"x\":[\"BR + w\\u002fin 1km of Natural Areas\"],\"xaxis\":\"x6\",\"y\":[51671],\"yaxis\":\"y6\",\"type\":\"bar\"},{\"alignmentgroup\":\"True\",\"hovertemplate\":\"variable=%{x}\\u003cbr\\u003eregion_name=nevada\\u003cbr\\u003evalue=%{y}\\u003cextra\\u003e\\u003c\\u002fextra\\u003e\",\"legendgroup\":\"BR + w\\u002fin 1km of Natural Areas\",\"marker\":{\"color\":\"rgb(220, 176, 242)\",\"pattern\":{\"shape\":\"\"}},\"name\":\"BR + w\\u002fin 1km of Natural Areas\",\"offsetgroup\":\"BR + w\\u002fin 1km of Natural Areas\",\"orientation\":\"v\",\"showlegend\":false,\"textposition\":\"auto\",\"x\":[\"BR + w\\u002fin 1km of Natural Areas\"],\"xaxis\":\"x5\",\"y\":[4910],\"yaxis\":\"y5\",\"type\":\"bar\"},{\"alignmentgroup\":\"True\",\"hovertemplate\":\"variable=%{x}\\u003cbr\\u003eregion_name=oregon\\u003cbr\\u003evalue=%{y}\\u003cextra\\u003e\\u003c\\u002fextra\\u003e\",\"legendgroup\":\"BR + w\\u002fin 1km of Natural Areas\",\"marker\":{\"color\":\"rgb(220, 176, 242)\",\"pattern\":{\"shape\":\"\"}},\"name\":\"BR + w\\u002fin 1km of Natural Areas\",\"offsetgroup\":\"BR + w\\u002fin 1km of Natural Areas\",\"orientation\":\"v\",\"showlegend\":false,\"textposition\":\"auto\",\"x\":[\"BR + w\\u002fin 1km of Natural Areas\"],\"xaxis\":\"x4\",\"y\":[5148],\"yaxis\":\"y4\",\"type\":\"bar\"},{\"alignmentgroup\":\"True\",\"hovertemplate\":\"variable=%{x}\\u003cbr\\u003eregion_name=utah\\u003cbr\\u003evalue=%{y}\\u003cextra\\u003e\\u003c\\u002fextra\\u003e\",\"legendgroup\":\"BR + w\\u002fin 1km of Natural Areas\",\"marker\":{\"color\":\"rgb(220, 176, 242)\",\"pattern\":{\"shape\":\"\"}},\"name\":\"BR + w\\u002fin 1km of Natural Areas\",\"offsetgroup\":\"BR + w\\u002fin 1km of Natural Areas\",\"orientation\":\"v\",\"showlegend\":false,\"textposition\":\"auto\",\"x\":[\"BR + w\\u002fin 1km of Natural Areas\"],\"xaxis\":\"x3\",\"y\":[2383],\"yaxis\":\"y3\",\"type\":\"bar\"},{\"alignmentgroup\":\"True\",\"hovertemplate\":\"variable=%{x}\\u003cbr\\u003eregion_name=washington\\u003cbr\\u003evalue=%{y}\\u003cextra\\u003e\\u003c\\u002fextra\\u003e\",\"legendgroup\":\"BR + w\\u002fin 1km of Natural Areas\",\"marker\":{\"color\":\"rgb(220, 176, 242)\",\"pattern\":{\"shape\":\"\"}},\"name\":\"BR + w\\u002fin 1km of Natural Areas\",\"offsetgroup\":\"BR + w\\u002fin 1km of Natural Areas\",\"orientation\":\"v\",\"showlegend\":false,\"textposition\":\"auto\",\"x\":[\"BR + w\\u002fin 1km of Natural Areas\"],\"xaxis\":\"x2\",\"y\":[4851],\"yaxis\":\"y2\",\"type\":\"bar\"},{\"alignmentgroup\":\"True\",\"hovertemplate\":\"variable=%{x}\\u003cbr\\u003eregion_name=wyoming\\u003cbr\\u003evalue=%{y}\\u003cextra\\u003e\\u003c\\u002fextra\\u003e\",\"legendgroup\":\"BR + w\\u002fin 1km of Natural Areas\",\"marker\":{\"color\":\"rgb(220, 176, 242)\",\"pattern\":{\"shape\":\"\"}},\"name\":\"BR + w\\u002fin 1km of Natural Areas\",\"offsetgroup\":\"BR + w\\u002fin 1km of Natural Areas\",\"orientation\":\"v\",\"showlegend\":false,\"textposition\":\"auto\",\"x\":[\"BR + w\\u002fin 1km of Natural Areas\"],\"xaxis\":\"x\",\"y\":[67673],\"yaxis\":\"y\",\"type\":\"bar\"},{\"alignmentgroup\":\"True\",\"hovertemplate\":\"variable=%{x}\\u003cbr\\u003eregion_name=arizona\\u003cbr\\u003evalue=%{y}\\u003cextra\\u003e\\u003c\\u002fextra\\u003e\",\"legendgroup\":\"BR + w\\u002fin 5km of Natural Areas\",\"marker\":{\"color\":\"rgb(135, 197, 95)\",\"pattern\":{\"shape\":\"\"}},\"name\":\"BR + w\\u002fin 5km of Natural Areas\",\"offsetgroup\":\"BR + w\\u002fin 5km of Natural Areas\",\"orientation\":\"v\",\"showlegend\":true,\"textposition\":\"auto\",\"x\":[\"BR + w\\u002fin 5km of Natural Areas\"],\"xaxis\":\"x11\",\"y\":[3183],\"yaxis\":\"y11\",\"type\":\"bar\"},{\"alignmentgroup\":\"True\",\"hovertemplate\":\"variable=%{x}\\u003cbr\\u003eregion_name=california\\u003cbr\\u003evalue=%{y}\\u003cextra\\u003e\\u003c\\u002fextra\\u003e\",\"legendgroup\":\"BR + w\\u002fin 5km of Natural Areas\",\"marker\":{\"color\":\"rgb(135, 197, 95)\",\"pattern\":{\"shape\":\"\"}},\"name\":\"BR + w\\u002fin 5km of Natural Areas\",\"offsetgroup\":\"BR + w\\u002fin 5km of Natural Areas\",\"orientation\":\"v\",\"showlegend\":false,\"textposition\":\"auto\",\"x\":[\"BR + w\\u002fin 5km of Natural Areas\"],\"xaxis\":\"x10\",\"y\":[2861],\"yaxis\":\"y10\",\"type\":\"bar\"},{\"alignmentgroup\":\"True\",\"hovertemplate\":\"variable=%{x}\\u003cbr\\u003eregion_name=colorado\\u003cbr\\u003evalue=%{y}\\u003cextra\\u003e\\u003c\\u002fextra\\u003e\",\"legendgroup\":\"BR + w\\u002fin 5km of Natural Areas\",\"marker\":{\"color\":\"rgb(135, 197, 95)\",\"pattern\":{\"shape\":\"\"}},\"name\":\"BR + w\\u002fin 5km of Natural Areas\",\"offsetgroup\":\"BR + w\\u002fin 5km of Natural Areas\",\"orientation\":\"v\",\"showlegend\":false,\"textposition\":\"auto\",\"x\":[\"BR + w\\u002fin 5km of Natural Areas\"],\"xaxis\":\"x9\",\"y\":[28073],\"yaxis\":\"y9\",\"type\":\"bar\"},{\"alignmentgroup\":\"True\",\"hovertemplate\":\"variable=%{x}\\u003cbr\\u003eregion_name=idaho\\u003cbr\\u003evalue=%{y}\\u003cextra\\u003e\\u003c\\u002fextra\\u003e\",\"legendgroup\":\"BR + w\\u002fin 5km of Natural Areas\",\"marker\":{\"color\":\"rgb(135, 197, 95)\",\"pattern\":{\"shape\":\"\"}},\"name\":\"BR + w\\u002fin 5km of Natural Areas\",\"offsetgroup\":\"BR + w\\u002fin 5km of Natural Areas\",\"orientation\":\"v\",\"showlegend\":false,\"textposition\":\"auto\",\"x\":[\"BR + w\\u002fin 5km of Natural Areas\"],\"xaxis\":\"x8\",\"y\":[1680],\"yaxis\":\"y8\",\"type\":\"bar\"},{\"alignmentgroup\":\"True\",\"hovertemplate\":\"variable=%{x}\\u003cbr\\u003eregion_name=montana\\u003cbr\\u003evalue=%{y}\\u003cextra\\u003e\\u003c\\u002fextra\\u003e\",\"legendgroup\":\"BR + w\\u002fin 5km of Natural Areas\",\"marker\":{\"color\":\"rgb(135, 197, 95)\",\"pattern\":{\"shape\":\"\"}},\"name\":\"BR + w\\u002fin 5km of Natural Areas\",\"offsetgroup\":\"BR + w\\u002fin 5km of Natural Areas\",\"orientation\":\"v\",\"showlegend\":false,\"textposition\":\"auto\",\"x\":[\"BR + w\\u002fin 5km of Natural Areas\"],\"xaxis\":\"x7\",\"y\":[41428],\"yaxis\":\"y7\",\"type\":\"bar\"},{\"alignmentgroup\":\"True\",\"hovertemplate\":\"variable=%{x}\\u003cbr\\u003eregion_name=new_mexico\\u003cbr\\u003evalue=%{y}\\u003cextra\\u003e\\u003c\\u002fextra\\u003e\",\"legendgroup\":\"BR + w\\u002fin 5km of Natural Areas\",\"marker\":{\"color\":\"rgb(135, 197, 95)\",\"pattern\":{\"shape\":\"\"}},\"name\":\"BR + w\\u002fin 5km of Natural Areas\",\"offsetgroup\":\"BR + w\\u002fin 5km of Natural Areas\",\"orientation\":\"v\",\"showlegend\":false,\"textposition\":\"auto\",\"x\":[\"BR + w\\u002fin 5km of Natural Areas\"],\"xaxis\":\"x6\",\"y\":[44550],\"yaxis\":\"y6\",\"type\":\"bar\"},{\"alignmentgroup\":\"True\",\"hovertemplate\":\"variable=%{x}\\u003cbr\\u003eregion_name=nevada\\u003cbr\\u003evalue=%{y}\\u003cextra\\u003e\\u003c\\u002fextra\\u003e\",\"legendgroup\":\"BR + w\\u002fin 5km of Natural Areas\",\"marker\":{\"color\":\"rgb(135, 197, 95)\",\"pattern\":{\"shape\":\"\"}},\"name\":\"BR + w\\u002fin 5km of Natural Areas\",\"offsetgroup\":\"BR + w\\u002fin 5km of Natural Areas\",\"orientation\":\"v\",\"showlegend\":false,\"textposition\":\"auto\",\"x\":[\"BR + w\\u002fin 5km of Natural Areas\"],\"xaxis\":\"x5\",\"y\":[3411],\"yaxis\":\"y5\",\"type\":\"bar\"},{\"alignmentgroup\":\"True\",\"hovertemplate\":\"variable=%{x}\\u003cbr\\u003eregion_name=oregon\\u003cbr\\u003evalue=%{y}\\u003cextra\\u003e\\u003c\\u002fextra\\u003e\",\"legendgroup\":\"BR + w\\u002fin 5km of Natural Areas\",\"marker\":{\"color\":\"rgb(135, 197, 95)\",\"pattern\":{\"shape\":\"\"}},\"name\":\"BR + w\\u002fin 5km of Natural Areas\",\"offsetgroup\":\"BR + w\\u002fin 5km of Natural Areas\",\"orientation\":\"v\",\"showlegend\":false,\"textposition\":\"auto\",\"x\":[\"BR + w\\u002fin 5km of Natural Areas\"],\"xaxis\":\"x4\",\"y\":[2507],\"yaxis\":\"y4\",\"type\":\"bar\"},{\"alignmentgroup\":\"True\",\"hovertemplate\":\"variable=%{x}\\u003cbr\\u003eregion_name=utah\\u003cbr\\u003evalue=%{y}\\u003cextra\\u003e\\u003c\\u002fextra\\u003e\",\"legendgroup\":\"BR + w\\u002fin 5km of Natural Areas\",\"marker\":{\"color\":\"rgb(135, 197, 95)\",\"pattern\":{\"shape\":\"\"}},\"name\":\"BR + w\\u002fin 5km of Natural Areas\",\"offsetgroup\":\"BR + w\\u002fin 5km of Natural Areas\",\"orientation\":\"v\",\"showlegend\":false,\"textposition\":\"auto\",\"x\":[\"BR + w\\u002fin 5km of Natural Areas\"],\"xaxis\":\"x3\",\"y\":[1413],\"yaxis\":\"y3\",\"type\":\"bar\"},{\"alignmentgroup\":\"True\",\"hovertemplate\":\"variable=%{x}\\u003cbr\\u003eregion_name=washington\\u003cbr\\u003evalue=%{y}\\u003cextra\\u003e\\u003c\\u002fextra\\u003e\",\"legendgroup\":\"BR + w\\u002fin 5km of Natural Areas\",\"marker\":{\"color\":\"rgb(135, 197, 95)\",\"pattern\":{\"shape\":\"\"}},\"name\":\"BR + w\\u002fin 5km of Natural Areas\",\"offsetgroup\":\"BR + w\\u002fin 5km of Natural Areas\",\"orientation\":\"v\",\"showlegend\":false,\"textposition\":\"auto\",\"x\":[\"BR + w\\u002fin 5km of Natural Areas\"],\"xaxis\":\"x2\",\"y\":[2802],\"yaxis\":\"y2\",\"type\":\"bar\"},{\"alignmentgroup\":\"True\",\"hovertemplate\":\"variable=%{x}\\u003cbr\\u003eregion_name=wyoming\\u003cbr\\u003evalue=%{y}\\u003cextra\\u003e\\u003c\\u002fextra\\u003e\",\"legendgroup\":\"BR + w\\u002fin 5km of Natural Areas\",\"marker\":{\"color\":\"rgb(135, 197, 95)\",\"pattern\":{\"shape\":\"\"}},\"name\":\"BR + w\\u002fin 5km of Natural Areas\",\"offsetgroup\":\"BR + w\\u002fin 5km of Natural Areas\",\"orientation\":\"v\",\"showlegend\":false,\"textposition\":\"auto\",\"x\":[\"BR + w\\u002fin 5km of Natural Areas\"],\"xaxis\":\"x\",\"y\":[41867],\"yaxis\":\"y\",\"type\":\"bar\"},{\"alignmentgroup\":\"True\",\"hovertemplate\":\"variable=%{x}\\u003cbr\\u003eregion_name=arizona\\u003cbr\\u003evalue=%{y}\\u003cextra\\u003e\\u003c\\u002fextra\\u003e\",\"legendgroup\":\"BR + w\\u002fin 10km of Natural Areas\",\"marker\":{\"color\":\"rgb(158, 185, 243)\",\"pattern\":{\"shape\":\"\"}},\"name\":\"BR + w\\u002fin 10km of Natural Areas\",\"offsetgroup\":\"BR + w\\u002fin 10km of Natural Areas\",\"orientation\":\"v\",\"showlegend\":true,\"textposition\":\"auto\",\"x\":[\"BR + w\\u002fin 10km of Natural Areas\"],\"xaxis\":\"x11\",\"y\":[1896],\"yaxis\":\"y11\",\"type\":\"bar\"},{\"alignmentgroup\":\"True\",\"hovertemplate\":\"variable=%{x}\\u003cbr\\u003eregion_name=california\\u003cbr\\u003evalue=%{y}\\u003cextra\\u003e\\u003c\\u002fextra\\u003e\",\"legendgroup\":\"BR + w\\u002fin 10km of Natural Areas\",\"marker\":{\"color\":\"rgb(158, 185, 243)\",\"pattern\":{\"shape\":\"\"}},\"name\":\"BR + w\\u002fin 10km of Natural Areas\",\"offsetgroup\":\"BR + w\\u002fin 10km of Natural Areas\",\"orientation\":\"v\",\"showlegend\":false,\"textposition\":\"auto\",\"x\":[\"BR + w\\u002fin 10km of Natural Areas\"],\"xaxis\":\"x10\",\"y\":[1047],\"yaxis\":\"y10\",\"type\":\"bar\"},{\"alignmentgroup\":\"True\",\"hovertemplate\":\"variable=%{x}\\u003cbr\\u003eregion_name=colorado\\u003cbr\\u003evalue=%{y}\\u003cextra\\u003e\\u003c\\u002fextra\\u003e\",\"legendgroup\":\"BR + w\\u002fin 10km of Natural Areas\",\"marker\":{\"color\":\"rgb(158, 185, 243)\",\"pattern\":{\"shape\":\"\"}},\"name\":\"BR + w\\u002fin 10km of Natural Areas\",\"offsetgroup\":\"BR + w\\u002fin 10km of Natural Areas\",\"orientation\":\"v\",\"showlegend\":false,\"textposition\":\"auto\",\"x\":[\"BR + w\\u002fin 10km of Natural Areas\"],\"xaxis\":\"x9\",\"y\":[20096],\"yaxis\":\"y9\",\"type\":\"bar\"},{\"alignmentgroup\":\"True\",\"hovertemplate\":\"variable=%{x}\\u003cbr\\u003eregion_name=idaho\\u003cbr\\u003evalue=%{y}\\u003cextra\\u003e\\u003c\\u002fextra\\u003e\",\"legendgroup\":\"BR + w\\u002fin 10km of Natural Areas\",\"marker\":{\"color\":\"rgb(158, 185, 243)\",\"pattern\":{\"shape\":\"\"}},\"name\":\"BR + w\\u002fin 10km of Natural Areas\",\"offsetgroup\":\"BR + w\\u002fin 10km of Natural Areas\",\"orientation\":\"v\",\"showlegend\":false,\"textposition\":\"auto\",\"x\":[\"BR + w\\u002fin 10km of Natural Areas\"],\"xaxis\":\"x8\",\"y\":[565],\"yaxis\":\"y8\",\"type\":\"bar\"},{\"alignmentgroup\":\"True\",\"hovertemplate\":\"variable=%{x}\\u003cbr\\u003eregion_name=montana\\u003cbr\\u003evalue=%{y}\\u003cextra\\u003e\\u003c\\u002fextra\\u003e\",\"legendgroup\":\"BR + w\\u002fin 10km of Natural Areas\",\"marker\":{\"color\":\"rgb(158, 185, 243)\",\"pattern\":{\"shape\":\"\"}},\"name\":\"BR + w\\u002fin 10km of Natural Areas\",\"offsetgroup\":\"BR + w\\u002fin 10km of Natural Areas\",\"orientation\":\"v\",\"showlegend\":false,\"textposition\":\"auto\",\"x\":[\"BR + w\\u002fin 10km of Natural Areas\"],\"xaxis\":\"x7\",\"y\":[14887],\"yaxis\":\"y7\",\"type\":\"bar\"},{\"alignmentgroup\":\"True\",\"hovertemplate\":\"variable=%{x}\\u003cbr\\u003eregion_name=new_mexico\\u003cbr\\u003evalue=%{y}\\u003cextra\\u003e\\u003c\\u002fextra\\u003e\",\"legendgroup\":\"BR + w\\u002fin 10km of Natural Areas\",\"marker\":{\"color\":\"rgb(158, 185, 243)\",\"pattern\":{\"shape\":\"\"}},\"name\":\"BR + w\\u002fin 10km of Natural Areas\",\"offsetgroup\":\"BR + w\\u002fin 10km of Natural Areas\",\"orientation\":\"v\",\"showlegend\":false,\"textposition\":\"auto\",\"x\":[\"BR + w\\u002fin 10km of Natural Areas\"],\"xaxis\":\"x6\",\"y\":[35648],\"yaxis\":\"y6\",\"type\":\"bar\"},{\"alignmentgroup\":\"True\",\"hovertemplate\":\"variable=%{x}\\u003cbr\\u003eregion_name=nevada\\u003cbr\\u003evalue=%{y}\\u003cextra\\u003e\\u003c\\u002fextra\\u003e\",\"legendgroup\":\"BR + w\\u002fin 10km of Natural Areas\",\"marker\":{\"color\":\"rgb(158, 185, 243)\",\"pattern\":{\"shape\":\"\"}},\"name\":\"BR + w\\u002fin 10km of Natural Areas\",\"offsetgroup\":\"BR + w\\u002fin 10km of Natural Areas\",\"orientation\":\"v\",\"showlegend\":false,\"textposition\":\"auto\",\"x\":[\"BR + w\\u002fin 10km of Natural Areas\"],\"xaxis\":\"x5\",\"y\":[2095],\"yaxis\":\"y5\",\"type\":\"bar\"},{\"alignmentgroup\":\"True\",\"hovertemplate\":\"variable=%{x}\\u003cbr\\u003eregion_name=oregon\\u003cbr\\u003evalue=%{y}\\u003cextra\\u003e\\u003c\\u002fextra\\u003e\",\"legendgroup\":\"BR + w\\u002fin 10km of Natural Areas\",\"marker\":{\"color\":\"rgb(158, 185, 243)\",\"pattern\":{\"shape\":\"\"}},\"name\":\"BR + w\\u002fin 10km of Natural Areas\",\"offsetgroup\":\"BR + w\\u002fin 10km of Natural Areas\",\"orientation\":\"v\",\"showlegend\":false,\"textposition\":\"auto\",\"x\":[\"BR + w\\u002fin 10km of Natural Areas\"],\"xaxis\":\"x4\",\"y\":[1090],\"yaxis\":\"y4\",\"type\":\"bar\"},{\"alignmentgroup\":\"True\",\"hovertemplate\":\"variable=%{x}\\u003cbr\\u003eregion_name=utah\\u003cbr\\u003evalue=%{y}\\u003cextra\\u003e\\u003c\\u002fextra\\u003e\",\"legendgroup\":\"BR + w\\u002fin 10km of Natural Areas\",\"marker\":{\"color\":\"rgb(158, 185, 243)\",\"pattern\":{\"shape\":\"\"}},\"name\":\"BR + w\\u002fin 10km of Natural Areas\",\"offsetgroup\":\"BR + w\\u002fin 10km of Natural Areas\",\"orientation\":\"v\",\"showlegend\":false,\"textposition\":\"auto\",\"x\":[\"BR + w\\u002fin 10km of Natural Areas\"],\"xaxis\":\"x3\",\"y\":[905],\"yaxis\":\"y3\",\"type\":\"bar\"},{\"alignmentgroup\":\"True\",\"hovertemplate\":\"variable=%{x}\\u003cbr\\u003eregion_name=washington\\u003cbr\\u003evalue=%{y}\\u003cextra\\u003e\\u003c\\u002fextra\\u003e\",\"legendgroup\":\"BR + w\\u002fin 10km of Natural Areas\",\"marker\":{\"color\":\"rgb(158, 185, 243)\",\"pattern\":{\"shape\":\"\"}},\"name\":\"BR + w\\u002fin 10km of Natural Areas\",\"offsetgroup\":\"BR + w\\u002fin 10km of Natural Areas\",\"orientation\":\"v\",\"showlegend\":false,\"textposition\":\"auto\",\"x\":[\"BR + w\\u002fin 10km of Natural Areas\"],\"xaxis\":\"x2\",\"y\":[1530],\"yaxis\":\"y2\",\"type\":\"bar\"},{\"alignmentgroup\":\"True\",\"hovertemplate\":\"variable=%{x}\\u003cbr\\u003eregion_name=wyoming\\u003cbr\\u003evalue=%{y}\\u003cextra\\u003e\\u003c\\u002fextra\\u003e\",\"legendgroup\":\"BR + w\\u002fin 10km of Natural Areas\",\"marker\":{\"color\":\"rgb(158, 185, 243)\",\"pattern\":{\"shape\":\"\"}},\"name\":\"BR + w\\u002fin 10km of Natural Areas\",\"offsetgroup\":\"BR + w\\u002fin 10km of Natural Areas\",\"orientation\":\"v\",\"showlegend\":false,\"textposition\":\"auto\",\"x\":[\"BR + w\\u002fin 10km of Natural Areas\"],\"xaxis\":\"x\",\"y\":[20121],\"yaxis\":\"y\",\"type\":\"bar\"},{\"alignmentgroup\":\"True\",\"hovertemplate\":\"variable=%{x}\\u003cbr\\u003eregion_name=arizona\\u003cbr\\u003evalue=%{y}\\u003cextra\\u003e\\u003c\\u002fextra\\u003e\",\"legendgroup\":\"BR + DACS, w\\u002fin 5km of Natural Area, and Important Farmland\",\"marker\":{\"color\":\"rgb(254, 136, 177)\",\"pattern\":{\"shape\":\"\"}},\"name\":\"BR + DACS, w\\u002fin 5km of Natural Area, and Important Farmland\",\"offsetgroup\":\"BR + DACS, w\\u002fin 5km of Natural Area, and Important Farmland\",\"orientation\":\"v\",\"showlegend\":true,\"textposition\":\"auto\",\"x\":[\"BR + DACS, w\\u002fin 5km of Natural Area, and Important Farmland\"],\"xaxis\":\"x11\",\"y\":[673],\"yaxis\":\"y11\",\"type\":\"bar\"},{\"alignmentgroup\":\"True\",\"hovertemplate\":\"variable=%{x}\\u003cbr\\u003eregion_name=california\\u003cbr\\u003evalue=%{y}\\u003cextra\\u003e\\u003c\\u002fextra\\u003e\",\"legendgroup\":\"BR + DACS, w\\u002fin 5km of Natural Area, and Important Farmland\",\"marker\":{\"color\":\"rgb(254, 136, 177)\",\"pattern\":{\"shape\":\"\"}},\"name\":\"BR + DACS, w\\u002fin 5km of Natural Area, and Important Farmland\",\"offsetgroup\":\"BR + DACS, w\\u002fin 5km of Natural Area, and Important Farmland\",\"orientation\":\"v\",\"showlegend\":false,\"textposition\":\"auto\",\"x\":[\"BR + DACS, w\\u002fin 5km of Natural Area, and Important Farmland\"],\"xaxis\":\"x10\",\"y\":[1981],\"yaxis\":\"y10\",\"type\":\"bar\"},{\"alignmentgroup\":\"True\",\"hovertemplate\":\"variable=%{x}\\u003cbr\\u003eregion_name=colorado\\u003cbr\\u003evalue=%{y}\\u003cextra\\u003e\\u003c\\u002fextra\\u003e\",\"legendgroup\":\"BR + DACS, w\\u002fin 5km of Natural Area, and Important Farmland\",\"marker\":{\"color\":\"rgb(254, 136, 177)\",\"pattern\":{\"shape\":\"\"}},\"name\":\"BR + DACS, w\\u002fin 5km of Natural Area, and Important Farmland\",\"offsetgroup\":\"BR + DACS, w\\u002fin 5km of Natural Area, and Important Farmland\",\"orientation\":\"v\",\"showlegend\":false,\"textposition\":\"auto\",\"x\":[\"BR + DACS, w\\u002fin 5km of Natural Area, and Important Farmland\"],\"xaxis\":\"x9\",\"y\":[11617],\"yaxis\":\"y9\",\"type\":\"bar\"},{\"alignmentgroup\":\"True\",\"hovertemplate\":\"variable=%{x}\\u003cbr\\u003eregion_name=idaho\\u003cbr\\u003evalue=%{y}\\u003cextra\\u003e\\u003c\\u002fextra\\u003e\",\"legendgroup\":\"BR + DACS, w\\u002fin 5km of Natural Area, and Important Farmland\",\"marker\":{\"color\":\"rgb(254, 136, 177)\",\"pattern\":{\"shape\":\"\"}},\"name\":\"BR + DACS, w\\u002fin 5km of Natural Area, and Important Farmland\",\"offsetgroup\":\"BR + DACS, w\\u002fin 5km of Natural Area, and Important Farmland\",\"orientation\":\"v\",\"showlegend\":false,\"textposition\":\"auto\",\"x\":[\"BR + DACS, w\\u002fin 5km of Natural Area, and Important Farmland\"],\"xaxis\":\"x8\",\"y\":[786],\"yaxis\":\"y8\",\"type\":\"bar\"},{\"alignmentgroup\":\"True\",\"hovertemplate\":\"variable=%{x}\\u003cbr\\u003eregion_name=montana\\u003cbr\\u003evalue=%{y}\\u003cextra\\u003e\\u003c\\u002fextra\\u003e\",\"legendgroup\":\"BR + DACS, w\\u002fin 5km of Natural Area, and Important Farmland\",\"marker\":{\"color\":\"rgb(254, 136, 177)\",\"pattern\":{\"shape\":\"\"}},\"name\":\"BR + DACS, w\\u002fin 5km of Natural Area, and Important Farmland\",\"offsetgroup\":\"BR + DACS, w\\u002fin 5km of Natural Area, and Important Farmland\",\"orientation\":\"v\",\"showlegend\":false,\"textposition\":\"auto\",\"x\":[\"BR + DACS, w\\u002fin 5km of Natural Area, and Important Farmland\"],\"xaxis\":\"x7\",\"y\":[18614],\"yaxis\":\"y7\",\"type\":\"bar\"},{\"alignmentgroup\":\"True\",\"hovertemplate\":\"variable=%{x}\\u003cbr\\u003eregion_name=new_mexico\\u003cbr\\u003evalue=%{y}\\u003cextra\\u003e\\u003c\\u002fextra\\u003e\",\"legendgroup\":\"BR + DACS, w\\u002fin 5km of Natural Area, and Important Farmland\",\"marker\":{\"color\":\"rgb(254, 136, 177)\",\"pattern\":{\"shape\":\"\"}},\"name\":\"BR + DACS, w\\u002fin 5km of Natural Area, and Important Farmland\",\"offsetgroup\":\"BR + DACS, w\\u002fin 5km of Natural Area, and Important Farmland\",\"orientation\":\"v\",\"showlegend\":false,\"textposition\":\"auto\",\"x\":[\"BR + DACS, w\\u002fin 5km of Natural Area, and Important Farmland\"],\"xaxis\":\"x6\",\"y\":[3098],\"yaxis\":\"y6\",\"type\":\"bar\"},{\"alignmentgroup\":\"True\",\"hovertemplate\":\"variable=%{x}\\u003cbr\\u003eregion_name=nevada\\u003cbr\\u003evalue=%{y}\\u003cextra\\u003e\\u003c\\u002fextra\\u003e\",\"legendgroup\":\"BR + DACS, w\\u002fin 5km of Natural Area, and Important Farmland\",\"marker\":{\"color\":\"rgb(254, 136, 177)\",\"pattern\":{\"shape\":\"\"}},\"name\":\"BR + DACS, w\\u002fin 5km of Natural Area, and Important Farmland\",\"offsetgroup\":\"BR + DACS, w\\u002fin 5km of Natural Area, and Important Farmland\",\"orientation\":\"v\",\"showlegend\":false,\"textposition\":\"auto\",\"x\":[\"BR + DACS, w\\u002fin 5km of Natural Area, and Important Farmland\"],\"xaxis\":\"x5\",\"y\":[2818],\"yaxis\":\"y5\",\"type\":\"bar\"},{\"alignmentgroup\":\"True\",\"hovertemplate\":\"variable=%{x}\\u003cbr\\u003eregion_name=oregon\\u003cbr\\u003evalue=%{y}\\u003cextra\\u003e\\u003c\\u002fextra\\u003e\",\"legendgroup\":\"BR + DACS, w\\u002fin 5km of Natural Area, and Important Farmland\",\"marker\":{\"color\":\"rgb(254, 136, 177)\",\"pattern\":{\"shape\":\"\"}},\"name\":\"BR + DACS, w\\u002fin 5km of Natural Area, and Important Farmland\",\"offsetgroup\":\"BR + DACS, w\\u002fin 5km of Natural Area, and Important Farmland\",\"orientation\":\"v\",\"showlegend\":false,\"textposition\":\"auto\",\"x\":[\"BR + DACS, w\\u002fin 5km of Natural Area, and Important Farmland\"],\"xaxis\":\"x4\",\"y\":[363],\"yaxis\":\"y4\",\"type\":\"bar\"},{\"alignmentgroup\":\"True\",\"hovertemplate\":\"variable=%{x}\\u003cbr\\u003eregion_name=utah\\u003cbr\\u003evalue=%{y}\\u003cextra\\u003e\\u003c\\u002fextra\\u003e\",\"legendgroup\":\"BR + DACS, w\\u002fin 5km of Natural Area, and Important Farmland\",\"marker\":{\"color\":\"rgb(254, 136, 177)\",\"pattern\":{\"shape\":\"\"}},\"name\":\"BR + DACS, w\\u002fin 5km of Natural Area, and Important Farmland\",\"offsetgroup\":\"BR + DACS, w\\u002fin 5km of Natural Area, and Important Farmland\",\"orientation\":\"v\",\"showlegend\":false,\"textposition\":\"auto\",\"x\":[\"BR + DACS, w\\u002fin 5km of Natural Area, and Important Farmland\"],\"xaxis\":\"x3\",\"y\":[1096],\"yaxis\":\"y3\",\"type\":\"bar\"},{\"alignmentgroup\":\"True\",\"hovertemplate\":\"variable=%{x}\\u003cbr\\u003eregion_name=washington\\u003cbr\\u003evalue=%{y}\\u003cextra\\u003e\\u003c\\u002fextra\\u003e\",\"legendgroup\":\"BR + DACS, w\\u002fin 5km of Natural Area, and Important Farmland\",\"marker\":{\"color\":\"rgb(254, 136, 177)\",\"pattern\":{\"shape\":\"\"}},\"name\":\"BR + DACS, w\\u002fin 5km of Natural Area, and Important Farmland\",\"offsetgroup\":\"BR + DACS, w\\u002fin 5km of Natural Area, and Important Farmland\",\"orientation\":\"v\",\"showlegend\":false,\"textposition\":\"auto\",\"x\":[\"BR + DACS, w\\u002fin 5km of Natural Area, and Important Farmland\"],\"xaxis\":\"x2\",\"y\":[924],\"yaxis\":\"y2\",\"type\":\"bar\"},{\"alignmentgroup\":\"True\",\"hovertemplate\":\"variable=%{x}\\u003cbr\\u003eregion_name=wyoming\\u003cbr\\u003evalue=%{y}\\u003cextra\\u003e\\u003c\\u002fextra\\u003e\",\"legendgroup\":\"BR + DACS, w\\u002fin 5km of Natural Area, and Important Farmland\",\"marker\":{\"color\":\"rgb(254, 136, 177)\",\"pattern\":{\"shape\":\"\"}},\"name\":\"BR + DACS, w\\u002fin 5km of Natural Area, and Important Farmland\",\"offsetgroup\":\"BR + DACS, w\\u002fin 5km of Natural Area, and Important Farmland\",\"orientation\":\"v\",\"showlegend\":false,\"textposition\":\"auto\",\"x\":[\"BR + DACS, w\\u002fin 5km of Natural Area, and Important Farmland\"],\"xaxis\":\"x\",\"y\":[35729],\"yaxis\":\"y\",\"type\":\"bar\"},{\"alignmentgroup\":\"True\",\"hovertemplate\":\"variable=%{x}\\u003cbr\\u003eregion_name=arizona\\u003cbr\\u003evalue=%{y}\\u003cextra\\u003e\\u003c\\u002fextra\\u003e\",\"legendgroup\":\"BR + w\\u002fin 5km of Natural Area and Important Farmland\",\"marker\":{\"color\":\"rgb(201, 219, 116)\",\"pattern\":{\"shape\":\"\"}},\"name\":\"BR + w\\u002fin 5km of Natural Area and Important Farmland\",\"offsetgroup\":\"BR + w\\u002fin 5km of Natural Area and Important Farmland\",\"orientation\":\"v\",\"showlegend\":true,\"textposition\":\"auto\",\"x\":[\"BR + w\\u002fin 5km of Natural Area and Important Farmland\"],\"xaxis\":\"x11\",\"y\":[3183],\"yaxis\":\"y11\",\"type\":\"bar\"},{\"alignmentgroup\":\"True\",\"hovertemplate\":\"variable=%{x}\\u003cbr\\u003eregion_name=california\\u003cbr\\u003evalue=%{y}\\u003cextra\\u003e\\u003c\\u002fextra\\u003e\",\"legendgroup\":\"BR + w\\u002fin 5km of Natural Area and Important Farmland\",\"marker\":{\"color\":\"rgb(201, 219, 116)\",\"pattern\":{\"shape\":\"\"}},\"name\":\"BR + w\\u002fin 5km of Natural Area and Important Farmland\",\"offsetgroup\":\"BR + w\\u002fin 5km of Natural Area and Important Farmland\",\"orientation\":\"v\",\"showlegend\":false,\"textposition\":\"auto\",\"x\":[\"BR + w\\u002fin 5km of Natural Area and Important Farmland\"],\"xaxis\":\"x10\",\"y\":[2781],\"yaxis\":\"y10\",\"type\":\"bar\"},{\"alignmentgroup\":\"True\",\"hovertemplate\":\"variable=%{x}\\u003cbr\\u003eregion_name=colorado\\u003cbr\\u003evalue=%{y}\\u003cextra\\u003e\\u003c\\u002fextra\\u003e\",\"legendgroup\":\"BR + w\\u002fin 5km of Natural Area and Important Farmland\",\"marker\":{\"color\":\"rgb(201, 219, 116)\",\"pattern\":{\"shape\":\"\"}},\"name\":\"BR + w\\u002fin 5km of Natural Area and Important Farmland\",\"offsetgroup\":\"BR + w\\u002fin 5km of Natural Area and Important Farmland\",\"orientation\":\"v\",\"showlegend\":false,\"textposition\":\"auto\",\"x\":[\"BR + w\\u002fin 5km of Natural Area and Important Farmland\"],\"xaxis\":\"x9\",\"y\":[25070],\"yaxis\":\"y9\",\"type\":\"bar\"},{\"alignmentgroup\":\"True\",\"hovertemplate\":\"variable=%{x}\\u003cbr\\u003eregion_name=idaho\\u003cbr\\u003evalue=%{y}\\u003cextra\\u003e\\u003c\\u002fextra\\u003e\",\"legendgroup\":\"BR + w\\u002fin 5km of Natural Area and Important Farmland\",\"marker\":{\"color\":\"rgb(201, 219, 116)\",\"pattern\":{\"shape\":\"\"}},\"name\":\"BR + w\\u002fin 5km of Natural Area and Important Farmland\",\"offsetgroup\":\"BR + w\\u002fin 5km of Natural Area and Important Farmland\",\"orientation\":\"v\",\"showlegend\":false,\"textposition\":\"auto\",\"x\":[\"BR + w\\u002fin 5km of Natural Area and Important Farmland\"],\"xaxis\":\"x8\",\"y\":[1666],\"yaxis\":\"y8\",\"type\":\"bar\"},{\"alignmentgroup\":\"True\",\"hovertemplate\":\"variable=%{x}\\u003cbr\\u003eregion_name=montana\\u003cbr\\u003evalue=%{y}\\u003cextra\\u003e\\u003c\\u002fextra\\u003e\",\"legendgroup\":\"BR + w\\u002fin 5km of Natural Area and Important Farmland\",\"marker\":{\"color\":\"rgb(201, 219, 116)\",\"pattern\":{\"shape\":\"\"}},\"name\":\"BR + w\\u002fin 5km of Natural Area and Important Farmland\",\"offsetgroup\":\"BR + w\\u002fin 5km of Natural Area and Important Farmland\",\"orientation\":\"v\",\"showlegend\":false,\"textposition\":\"auto\",\"x\":[\"BR + w\\u002fin 5km of Natural Area and Important Farmland\"],\"xaxis\":\"x7\",\"y\":[35522],\"yaxis\":\"y7\",\"type\":\"bar\"},{\"alignmentgroup\":\"True\",\"hovertemplate\":\"variable=%{x}\\u003cbr\\u003eregion_name=new_mexico\\u003cbr\\u003evalue=%{y}\\u003cextra\\u003e\\u003c\\u002fextra\\u003e\",\"legendgroup\":\"BR + w\\u002fin 5km of Natural Area and Important Farmland\",\"marker\":{\"color\":\"rgb(201, 219, 116)\",\"pattern\":{\"shape\":\"\"}},\"name\":\"BR + w\\u002fin 5km of Natural Area and Important Farmland\",\"offsetgroup\":\"BR + w\\u002fin 5km of Natural Area and Important Farmland\",\"orientation\":\"v\",\"showlegend\":false,\"textposition\":\"auto\",\"x\":[\"BR + w\\u002fin 5km of Natural Area and Important Farmland\"],\"xaxis\":\"x6\",\"y\":[36562],\"yaxis\":\"y6\",\"type\":\"bar\"},{\"alignmentgroup\":\"True\",\"hovertemplate\":\"variable=%{x}\\u003cbr\\u003eregion_name=nevada\\u003cbr\\u003evalue=%{y}\\u003cextra\\u003e\\u003c\\u002fextra\\u003e\",\"legendgroup\":\"BR + w\\u002fin 5km of Natural Area and Important Farmland\",\"marker\":{\"color\":\"rgb(201, 219, 116)\",\"pattern\":{\"shape\":\"\"}},\"name\":\"BR + w\\u002fin 5km of Natural Area and Important Farmland\",\"offsetgroup\":\"BR + w\\u002fin 5km of Natural Area and Important Farmland\",\"orientation\":\"v\",\"showlegend\":false,\"textposition\":\"auto\",\"x\":[\"BR + w\\u002fin 5km of Natural Area and Important Farmland\"],\"xaxis\":\"x5\",\"y\":[3411],\"yaxis\":\"y5\",\"type\":\"bar\"},{\"alignmentgroup\":\"True\",\"hovertemplate\":\"variable=%{x}\\u003cbr\\u003eregion_name=oregon\\u003cbr\\u003evalue=%{y}\\u003cextra\\u003e\\u003c\\u002fextra\\u003e\",\"legendgroup\":\"BR + w\\u002fin 5km of Natural Area and Important Farmland\",\"marker\":{\"color\":\"rgb(201, 219, 116)\",\"pattern\":{\"shape\":\"\"}},\"name\":\"BR + w\\u002fin 5km of Natural Area and Important Farmland\",\"offsetgroup\":\"BR + w\\u002fin 5km of Natural Area and Important Farmland\",\"orientation\":\"v\",\"showlegend\":false,\"textposition\":\"auto\",\"x\":[\"BR + w\\u002fin 5km of Natural Area and Important Farmland\"],\"xaxis\":\"x4\",\"y\":[1379],\"yaxis\":\"y4\",\"type\":\"bar\"},{\"alignmentgroup\":\"True\",\"hovertemplate\":\"variable=%{x}\\u003cbr\\u003eregion_name=utah\\u003cbr\\u003evalue=%{y}\\u003cextra\\u003e\\u003c\\u002fextra\\u003e\",\"legendgroup\":\"BR + w\\u002fin 5km of Natural Area and Important Farmland\",\"marker\":{\"color\":\"rgb(201, 219, 116)\",\"pattern\":{\"shape\":\"\"}},\"name\":\"BR + w\\u002fin 5km of Natural Area and Important Farmland\",\"offsetgroup\":\"BR + w\\u002fin 5km of Natural Area and Important Farmland\",\"orientation\":\"v\",\"showlegend\":false,\"textposition\":\"auto\",\"x\":[\"BR + w\\u002fin 5km of Natural Area and Important Farmland\"],\"xaxis\":\"x3\",\"y\":[1413],\"yaxis\":\"y3\",\"type\":\"bar\"},{\"alignmentgroup\":\"True\",\"hovertemplate\":\"variable=%{x}\\u003cbr\\u003eregion_name=washington\\u003cbr\\u003evalue=%{y}\\u003cextra\\u003e\\u003c\\u002fextra\\u003e\",\"legendgroup\":\"BR + w\\u002fin 5km of Natural Area and Important Farmland\",\"marker\":{\"color\":\"rgb(201, 219, 116)\",\"pattern\":{\"shape\":\"\"}},\"name\":\"BR + w\\u002fin 5km of Natural Area and Important Farmland\",\"offsetgroup\":\"BR + w\\u002fin 5km of Natural Area and Important Farmland\",\"orientation\":\"v\",\"showlegend\":false,\"textposition\":\"auto\",\"x\":[\"BR + w\\u002fin 5km of Natural Area and Important Farmland\"],\"xaxis\":\"x2\",\"y\":[1884],\"yaxis\":\"y2\",\"type\":\"bar\"},{\"alignmentgroup\":\"True\",\"hovertemplate\":\"variable=%{x}\\u003cbr\\u003eregion_name=wyoming\\u003cbr\\u003evalue=%{y}\\u003cextra\\u003e\\u003c\\u002fextra\\u003e\",\"legendgroup\":\"BR + w\\u002fin 5km of Natural Area and Important Farmland\",\"marker\":{\"color\":\"rgb(201, 219, 116)\",\"pattern\":{\"shape\":\"\"}},\"name\":\"BR + w\\u002fin 5km of Natural Area and Important Farmland\",\"offsetgroup\":\"BR + w\\u002fin 5km of Natural Area and Important Farmland\",\"orientation\":\"v\",\"showlegend\":false,\"textposition\":\"auto\",\"x\":[\"BR + w\\u002fin 5km of Natural Area and Important Farmland\"],\"xaxis\":\"x\",\"y\":[41395],\"yaxis\":\"y\",\"type\":\"bar\"},{\"alignmentgroup\":\"True\",\"hovertemplate\":\"variable=%{x}\\u003cbr\\u003eregion_name=arizona\\u003cbr\\u003evalue=%{y}\\u003cextra\\u003e\\u003c\\u002fextra\\u003e\",\"legendgroup\":\"BR + w\\u002fin 10km of Natural Area and Important Farmland\",\"marker\":{\"color\":\"rgb(139, 224, 164)\",\"pattern\":{\"shape\":\"\"}},\"name\":\"BR + w\\u002fin 10km of Natural Area and Important Farmland\",\"offsetgroup\":\"BR + w\\u002fin 10km of Natural Area and Important Farmland\",\"orientation\":\"v\",\"showlegend\":true,\"textposition\":\"auto\",\"x\":[\"BR + w\\u002fin 10km of Natural Area and Important Farmland\"],\"xaxis\":\"x11\",\"y\":[1896],\"yaxis\":\"y11\",\"type\":\"bar\"},{\"alignmentgroup\":\"True\",\"hovertemplate\":\"variable=%{x}\\u003cbr\\u003eregion_name=california\\u003cbr\\u003evalue=%{y}\\u003cextra\\u003e\\u003c\\u002fextra\\u003e\",\"legendgroup\":\"BR + w\\u002fin 10km of Natural Area and Important Farmland\",\"marker\":{\"color\":\"rgb(139, 224, 164)\",\"pattern\":{\"shape\":\"\"}},\"name\":\"BR + w\\u002fin 10km of Natural Area and Important Farmland\",\"offsetgroup\":\"BR + w\\u002fin 10km of Natural Area and Important Farmland\",\"orientation\":\"v\",\"showlegend\":false,\"textposition\":\"auto\",\"x\":[\"BR + w\\u002fin 10km of Natural Area and Important Farmland\"],\"xaxis\":\"x10\",\"y\":[1029],\"yaxis\":\"y10\",\"type\":\"bar\"},{\"alignmentgroup\":\"True\",\"hovertemplate\":\"variable=%{x}\\u003cbr\\u003eregion_name=colorado\\u003cbr\\u003evalue=%{y}\\u003cextra\\u003e\\u003c\\u002fextra\\u003e\",\"legendgroup\":\"BR + w\\u002fin 10km of Natural Area and Important Farmland\",\"marker\":{\"color\":\"rgb(139, 224, 164)\",\"pattern\":{\"shape\":\"\"}},\"name\":\"BR + w\\u002fin 10km of Natural Area and Important Farmland\",\"offsetgroup\":\"BR + w\\u002fin 10km of Natural Area and Important Farmland\",\"orientation\":\"v\",\"showlegend\":false,\"textposition\":\"auto\",\"x\":[\"BR + w\\u002fin 10km of Natural Area and Important Farmland\"],\"xaxis\":\"x9\",\"y\":[17792],\"yaxis\":\"y9\",\"type\":\"bar\"},{\"alignmentgroup\":\"True\",\"hovertemplate\":\"variable=%{x}\\u003cbr\\u003eregion_name=idaho\\u003cbr\\u003evalue=%{y}\\u003cextra\\u003e\\u003c\\u002fextra\\u003e\",\"legendgroup\":\"BR + w\\u002fin 10km of Natural Area and Important Farmland\",\"marker\":{\"color\":\"rgb(139, 224, 164)\",\"pattern\":{\"shape\":\"\"}},\"name\":\"BR + w\\u002fin 10km of Natural Area and Important Farmland\",\"offsetgroup\":\"BR + w\\u002fin 10km of Natural Area and Important Farmland\",\"orientation\":\"v\",\"showlegend\":false,\"textposition\":\"auto\",\"x\":[\"BR + w\\u002fin 10km of Natural Area and Important Farmland\"],\"xaxis\":\"x8\",\"y\":[556],\"yaxis\":\"y8\",\"type\":\"bar\"},{\"alignmentgroup\":\"True\",\"hovertemplate\":\"variable=%{x}\\u003cbr\\u003eregion_name=montana\\u003cbr\\u003evalue=%{y}\\u003cextra\\u003e\\u003c\\u002fextra\\u003e\",\"legendgroup\":\"BR + w\\u002fin 10km of Natural Area and Important Farmland\",\"marker\":{\"color\":\"rgb(139, 224, 164)\",\"pattern\":{\"shape\":\"\"}},\"name\":\"BR + w\\u002fin 10km of Natural Area and Important Farmland\",\"offsetgroup\":\"BR + w\\u002fin 10km of Natural Area and Important Farmland\",\"orientation\":\"v\",\"showlegend\":false,\"textposition\":\"auto\",\"x\":[\"BR + w\\u002fin 10km of Natural Area and Important Farmland\"],\"xaxis\":\"x7\",\"y\":[12845],\"yaxis\":\"y7\",\"type\":\"bar\"},{\"alignmentgroup\":\"True\",\"hovertemplate\":\"variable=%{x}\\u003cbr\\u003eregion_name=new_mexico\\u003cbr\\u003evalue=%{y}\\u003cextra\\u003e\\u003c\\u002fextra\\u003e\",\"legendgroup\":\"BR + w\\u002fin 10km of Natural Area and Important Farmland\",\"marker\":{\"color\":\"rgb(139, 224, 164)\",\"pattern\":{\"shape\":\"\"}},\"name\":\"BR + w\\u002fin 10km of Natural Area and Important Farmland\",\"offsetgroup\":\"BR + w\\u002fin 10km of Natural Area and Important Farmland\",\"orientation\":\"v\",\"showlegend\":false,\"textposition\":\"auto\",\"x\":[\"BR + w\\u002fin 10km of Natural Area and Important Farmland\"],\"xaxis\":\"x6\",\"y\":[28974],\"yaxis\":\"y6\",\"type\":\"bar\"},{\"alignmentgroup\":\"True\",\"hovertemplate\":\"variable=%{x}\\u003cbr\\u003eregion_name=nevada\\u003cbr\\u003evalue=%{y}\\u003cextra\\u003e\\u003c\\u002fextra\\u003e\",\"legendgroup\":\"BR + w\\u002fin 10km of Natural Area and Important Farmland\",\"marker\":{\"color\":\"rgb(139, 224, 164)\",\"pattern\":{\"shape\":\"\"}},\"name\":\"BR + w\\u002fin 10km of Natural Area and Important Farmland\",\"offsetgroup\":\"BR + w\\u002fin 10km of Natural Area and Important Farmland\",\"orientation\":\"v\",\"showlegend\":false,\"textposition\":\"auto\",\"x\":[\"BR + w\\u002fin 10km of Natural Area and Important Farmland\"],\"xaxis\":\"x5\",\"y\":[2095],\"yaxis\":\"y5\",\"type\":\"bar\"},{\"alignmentgroup\":\"True\",\"hovertemplate\":\"variable=%{x}\\u003cbr\\u003eregion_name=oregon\\u003cbr\\u003evalue=%{y}\\u003cextra\\u003e\\u003c\\u002fextra\\u003e\",\"legendgroup\":\"BR + w\\u002fin 10km of Natural Area and Important Farmland\",\"marker\":{\"color\":\"rgb(139, 224, 164)\",\"pattern\":{\"shape\":\"\"}},\"name\":\"BR + w\\u002fin 10km of Natural Area and Important Farmland\",\"offsetgroup\":\"BR + w\\u002fin 10km of Natural Area and Important Farmland\",\"orientation\":\"v\",\"showlegend\":false,\"textposition\":\"auto\",\"x\":[\"BR + w\\u002fin 10km of Natural Area and Important Farmland\"],\"xaxis\":\"x4\",\"y\":[548],\"yaxis\":\"y4\",\"type\":\"bar\"},{\"alignmentgroup\":\"True\",\"hovertemplate\":\"variable=%{x}\\u003cbr\\u003eregion_name=utah\\u003cbr\\u003evalue=%{y}\\u003cextra\\u003e\\u003c\\u002fextra\\u003e\",\"legendgroup\":\"BR + w\\u002fin 10km of Natural Area and Important Farmland\",\"marker\":{\"color\":\"rgb(139, 224, 164)\",\"pattern\":{\"shape\":\"\"}},\"name\":\"BR + w\\u002fin 10km of Natural Area and Important Farmland\",\"offsetgroup\":\"BR + w\\u002fin 10km of Natural Area and Important Farmland\",\"orientation\":\"v\",\"showlegend\":false,\"textposition\":\"auto\",\"x\":[\"BR + w\\u002fin 10km of Natural Area and Important Farmland\"],\"xaxis\":\"x3\",\"y\":[905],\"yaxis\":\"y3\",\"type\":\"bar\"},{\"alignmentgroup\":\"True\",\"hovertemplate\":\"variable=%{x}\\u003cbr\\u003eregion_name=washington\\u003cbr\\u003evalue=%{y}\\u003cextra\\u003e\\u003c\\u002fextra\\u003e\",\"legendgroup\":\"BR + w\\u002fin 10km of Natural Area and Important Farmland\",\"marker\":{\"color\":\"rgb(139, 224, 164)\",\"pattern\":{\"shape\":\"\"}},\"name\":\"BR + w\\u002fin 10km of Natural Area and Important Farmland\",\"offsetgroup\":\"BR + w\\u002fin 10km of Natural Area and Important Farmland\",\"orientation\":\"v\",\"showlegend\":false,\"textposition\":\"auto\",\"x\":[\"BR + w\\u002fin 10km of Natural Area and Important Farmland\"],\"xaxis\":\"x2\",\"y\":[1023],\"yaxis\":\"y2\",\"type\":\"bar\"},{\"alignmentgroup\":\"True\",\"hovertemplate\":\"variable=%{x}\\u003cbr\\u003eregion_name=wyoming\\u003cbr\\u003evalue=%{y}\\u003cextra\\u003e\\u003c\\u002fextra\\u003e\",\"legendgroup\":\"BR + w\\u002fin 10km of Natural Area and Important Farmland\",\"marker\":{\"color\":\"rgb(139, 224, 164)\",\"pattern\":{\"shape\":\"\"}},\"name\":\"BR + w\\u002fin 10km of Natural Area and Important Farmland\",\"offsetgroup\":\"BR + w\\u002fin 10km of Natural Area and Important Farmland\",\"orientation\":\"v\",\"showlegend\":false,\"textposition\":\"auto\",\"x\":[\"BR + w\\u002fin 10km of Natural Area and Important Farmland\"],\"xaxis\":\"x\",\"y\":[19900],\"yaxis\":\"y\",\"type\":\"bar\"}],                        {\"template\":{\"data\":{\"histogram2dcontour\":[{\"type\":\"histogram2dcontour\",\"colorbar\":{\"outlinewidth\":0,\"ticks\":\"\"},\"colorscale\":[[0.0,\"#0d0887\"],[0.1111111111111111,\"#46039f\"],[0.2222222222222222,\"#7201a8\"],[0.3333333333333333,\"#9c179e\"],[0.4444444444444444,\"#bd3786\"],[0.5555555555555556,\"#d8576b\"],[0.6666666666666666,\"#ed7953\"],[0.7777777777777778,\"#fb9f3a\"],[0.8888888888888888,\"#fdca26\"],[1.0,\"#f0f921\"]]}],\"choropleth\":[{\"type\":\"choropleth\",\"colorbar\":{\"outlinewidth\":0,\"ticks\":\"\"}}],\"histogram2d\":[{\"type\":\"histogram2d\",\"colorbar\":{\"outlinewidth\":0,\"ticks\":\"\"},\"colorscale\":[[0.0,\"#0d0887\"],[0.1111111111111111,\"#46039f\"],[0.2222222222222222,\"#7201a8\"],[0.3333333333333333,\"#9c179e\"],[0.4444444444444444,\"#bd3786\"],[0.5555555555555556,\"#d8576b\"],[0.6666666666666666,\"#ed7953\"],[0.7777777777777778,\"#fb9f3a\"],[0.8888888888888888,\"#fdca26\"],[1.0,\"#f0f921\"]]}],\"heatmap\":[{\"type\":\"heatmap\",\"colorbar\":{\"outlinewidth\":0,\"ticks\":\"\"},\"colorscale\":[[0.0,\"#0d0887\"],[0.1111111111111111,\"#46039f\"],[0.2222222222222222,\"#7201a8\"],[0.3333333333333333,\"#9c179e\"],[0.4444444444444444,\"#bd3786\"],[0.5555555555555556,\"#d8576b\"],[0.6666666666666666,\"#ed7953\"],[0.7777777777777778,\"#fb9f3a\"],[0.8888888888888888,\"#fdca26\"],[1.0,\"#f0f921\"]]}],\"heatmapgl\":[{\"type\":\"heatmapgl\",\"colorbar\":{\"outlinewidth\":0,\"ticks\":\"\"},\"colorscale\":[[0.0,\"#0d0887\"],[0.1111111111111111,\"#46039f\"],[0.2222222222222222,\"#7201a8\"],[0.3333333333333333,\"#9c179e\"],[0.4444444444444444,\"#bd3786\"],[0.5555555555555556,\"#d8576b\"],[0.6666666666666666,\"#ed7953\"],[0.7777777777777778,\"#fb9f3a\"],[0.8888888888888888,\"#fdca26\"],[1.0,\"#f0f921\"]]}],\"contourcarpet\":[{\"type\":\"contourcarpet\",\"colorbar\":{\"outlinewidth\":0,\"ticks\":\"\"}}],\"contour\":[{\"type\":\"contour\",\"colorbar\":{\"outlinewidth\":0,\"ticks\":\"\"},\"colorscale\":[[0.0,\"#0d0887\"],[0.1111111111111111,\"#46039f\"],[0.2222222222222222,\"#7201a8\"],[0.3333333333333333,\"#9c179e\"],[0.4444444444444444,\"#bd3786\"],[0.5555555555555556,\"#d8576b\"],[0.6666666666666666,\"#ed7953\"],[0.7777777777777778,\"#fb9f3a\"],[0.8888888888888888,\"#fdca26\"],[1.0,\"#f0f921\"]]}],\"surface\":[{\"type\":\"surface\",\"colorbar\":{\"outlinewidth\":0,\"ticks\":\"\"},\"colorscale\":[[0.0,\"#0d0887\"],[0.1111111111111111,\"#46039f\"],[0.2222222222222222,\"#7201a8\"],[0.3333333333333333,\"#9c179e\"],[0.4444444444444444,\"#bd3786\"],[0.5555555555555556,\"#d8576b\"],[0.6666666666666666,\"#ed7953\"],[0.7777777777777778,\"#fb9f3a\"],[0.8888888888888888,\"#fdca26\"],[1.0,\"#f0f921\"]]}],\"mesh3d\":[{\"type\":\"mesh3d\",\"colorbar\":{\"outlinewidth\":0,\"ticks\":\"\"}}],\"scatter\":[{\"fillpattern\":{\"fillmode\":\"overlay\",\"size\":10,\"solidity\":0.2},\"type\":\"scatter\"}],\"parcoords\":[{\"type\":\"parcoords\",\"line\":{\"colorbar\":{\"outlinewidth\":0,\"ticks\":\"\"}}}],\"scatterpolargl\":[{\"type\":\"scatterpolargl\",\"marker\":{\"colorbar\":{\"outlinewidth\":0,\"ticks\":\"\"}}}],\"bar\":[{\"error_x\":{\"color\":\"#2a3f5f\"},\"error_y\":{\"color\":\"#2a3f5f\"},\"marker\":{\"line\":{\"color\":\"#E5ECF6\",\"width\":0.5},\"pattern\":{\"fillmode\":\"overlay\",\"size\":10,\"solidity\":0.2}},\"type\":\"bar\"}],\"scattergeo\":[{\"type\":\"scattergeo\",\"marker\":{\"colorbar\":{\"outlinewidth\":0,\"ticks\":\"\"}}}],\"scatterpolar\":[{\"type\":\"scatterpolar\",\"marker\":{\"colorbar\":{\"outlinewidth\":0,\"ticks\":\"\"}}}],\"histogram\":[{\"marker\":{\"pattern\":{\"fillmode\":\"overlay\",\"size\":10,\"solidity\":0.2}},\"type\":\"histogram\"}],\"scattergl\":[{\"type\":\"scattergl\",\"marker\":{\"colorbar\":{\"outlinewidth\":0,\"ticks\":\"\"}}}],\"scatter3d\":[{\"type\":\"scatter3d\",\"line\":{\"colorbar\":{\"outlinewidth\":0,\"ticks\":\"\"}},\"marker\":{\"colorbar\":{\"outlinewidth\":0,\"ticks\":\"\"}}}],\"scattermapbox\":[{\"type\":\"scattermapbox\",\"marker\":{\"colorbar\":{\"outlinewidth\":0,\"ticks\":\"\"}}}],\"scatterternary\":[{\"type\":\"scatterternary\",\"marker\":{\"colorbar\":{\"outlinewidth\":0,\"ticks\":\"\"}}}],\"scattercarpet\":[{\"type\":\"scattercarpet\",\"marker\":{\"colorbar\":{\"outlinewidth\":0,\"ticks\":\"\"}}}],\"carpet\":[{\"aaxis\":{\"endlinecolor\":\"#2a3f5f\",\"gridcolor\":\"white\",\"linecolor\":\"white\",\"minorgridcolor\":\"white\",\"startlinecolor\":\"#2a3f5f\"},\"baxis\":{\"endlinecolor\":\"#2a3f5f\",\"gridcolor\":\"white\",\"linecolor\":\"white\",\"minorgridcolor\":\"white\",\"startlinecolor\":\"#2a3f5f\"},\"type\":\"carpet\"}],\"table\":[{\"cells\":{\"fill\":{\"color\":\"#EBF0F8\"},\"line\":{\"color\":\"white\"}},\"header\":{\"fill\":{\"color\":\"#C8D4E3\"},\"line\":{\"color\":\"white\"}},\"type\":\"table\"}],\"barpolar\":[{\"marker\":{\"line\":{\"color\":\"#E5ECF6\",\"width\":0.5},\"pattern\":{\"fillmode\":\"overlay\",\"size\":10,\"solidity\":0.2}},\"type\":\"barpolar\"}],\"pie\":[{\"automargin\":true,\"type\":\"pie\"}]},\"layout\":{\"autotypenumbers\":\"strict\",\"colorway\":[\"#636efa\",\"#EF553B\",\"#00cc96\",\"#ab63fa\",\"#FFA15A\",\"#19d3f3\",\"#FF6692\",\"#B6E880\",\"#FF97FF\",\"#FECB52\"],\"font\":{\"color\":\"#2a3f5f\"},\"hovermode\":\"closest\",\"hoverlabel\":{\"align\":\"left\"},\"paper_bgcolor\":\"white\",\"plot_bgcolor\":\"#E5ECF6\",\"polar\":{\"bgcolor\":\"#E5ECF6\",\"angularaxis\":{\"gridcolor\":\"white\",\"linecolor\":\"white\",\"ticks\":\"\"},\"radialaxis\":{\"gridcolor\":\"white\",\"linecolor\":\"white\",\"ticks\":\"\"}},\"ternary\":{\"bgcolor\":\"#E5ECF6\",\"aaxis\":{\"gridcolor\":\"white\",\"linecolor\":\"white\",\"ticks\":\"\"},\"baxis\":{\"gridcolor\":\"white\",\"linecolor\":\"white\",\"ticks\":\"\"},\"caxis\":{\"gridcolor\":\"white\",\"linecolor\":\"white\",\"ticks\":\"\"}},\"coloraxis\":{\"colorbar\":{\"outlinewidth\":0,\"ticks\":\"\"}},\"colorscale\":{\"sequential\":[[0.0,\"#0d0887\"],[0.1111111111111111,\"#46039f\"],[0.2222222222222222,\"#7201a8\"],[0.3333333333333333,\"#9c179e\"],[0.4444444444444444,\"#bd3786\"],[0.5555555555555556,\"#d8576b\"],[0.6666666666666666,\"#ed7953\"],[0.7777777777777778,\"#fb9f3a\"],[0.8888888888888888,\"#fdca26\"],[1.0,\"#f0f921\"]],\"sequentialminus\":[[0.0,\"#0d0887\"],[0.1111111111111111,\"#46039f\"],[0.2222222222222222,\"#7201a8\"],[0.3333333333333333,\"#9c179e\"],[0.4444444444444444,\"#bd3786\"],[0.5555555555555556,\"#d8576b\"],[0.6666666666666666,\"#ed7953\"],[0.7777777777777778,\"#fb9f3a\"],[0.8888888888888888,\"#fdca26\"],[1.0,\"#f0f921\"]],\"diverging\":[[0,\"#8e0152\"],[0.1,\"#c51b7d\"],[0.2,\"#de77ae\"],[0.3,\"#f1b6da\"],[0.4,\"#fde0ef\"],[0.5,\"#f7f7f7\"],[0.6,\"#e6f5d0\"],[0.7,\"#b8e186\"],[0.8,\"#7fbc41\"],[0.9,\"#4d9221\"],[1,\"#276419\"]]},\"xaxis\":{\"gridcolor\":\"white\",\"linecolor\":\"white\",\"ticks\":\"\",\"title\":{\"standoff\":15},\"zerolinecolor\":\"white\",\"automargin\":true,\"zerolinewidth\":2},\"yaxis\":{\"gridcolor\":\"white\",\"linecolor\":\"white\",\"ticks\":\"\",\"title\":{\"standoff\":15},\"zerolinecolor\":\"white\",\"automargin\":true,\"zerolinewidth\":2},\"scene\":{\"xaxis\":{\"backgroundcolor\":\"#E5ECF6\",\"gridcolor\":\"white\",\"linecolor\":\"white\",\"showbackground\":true,\"ticks\":\"\",\"zerolinecolor\":\"white\",\"gridwidth\":2},\"yaxis\":{\"backgroundcolor\":\"#E5ECF6\",\"gridcolor\":\"white\",\"linecolor\":\"white\",\"showbackground\":true,\"ticks\":\"\",\"zerolinecolor\":\"white\",\"gridwidth\":2},\"zaxis\":{\"backgroundcolor\":\"#E5ECF6\",\"gridcolor\":\"white\",\"linecolor\":\"white\",\"showbackground\":true,\"ticks\":\"\",\"zerolinecolor\":\"white\",\"gridwidth\":2}},\"shapedefaults\":{\"line\":{\"color\":\"#2a3f5f\"}},\"annotationdefaults\":{\"arrowcolor\":\"#2a3f5f\",\"arrowhead\":0,\"arrowwidth\":1},\"geo\":{\"bgcolor\":\"white\",\"landcolor\":\"#E5ECF6\",\"subunitcolor\":\"white\",\"showland\":true,\"showlakes\":true,\"lakecolor\":\"white\"},\"title\":{\"x\":0.05},\"mapbox\":{\"style\":\"light\"}}},\"xaxis\":{\"anchor\":\"y\",\"domain\":[0.0,0.98],\"title\":{\"text\":\"variable\"},\"categoryorder\":\"array\",\"categoryarray\":[\"Baseline Restrictions (BR)\",\"BR + DACs\",\"BR + Important Farmland\",\"BR + w\\u002fin 1km of Natural Areas\",\"BR + w\\u002fin 5km of Natural Areas\",\"BR + w\\u002fin 10km of Natural Areas\",\"BR + DACS, w\\u002fin 5km of Natural Area, and Important Farmland\",\"BR + w\\u002fin 5km of Natural Area and Important Farmland\",\"BR + w\\u002fin 10km of Natural Area and Important Farmland\"]},\"yaxis\":{\"anchor\":\"x\",\"domain\":[0.0,0.06363636363636363],\"title\":{\"text\":\"square km\"},\"showgrid\":true,\"gridcolor\":\"#bdbdbd\"},\"xaxis2\":{\"anchor\":\"y2\",\"domain\":[0.0,0.98],\"matches\":\"x\",\"showticklabels\":false},\"yaxis2\":{\"anchor\":\"x2\",\"domain\":[0.09363636363636363,0.15727272727272726],\"title\":{\"text\":\"square km\"},\"showgrid\":true,\"gridcolor\":\"#bdbdbd\"},\"xaxis3\":{\"anchor\":\"y3\",\"domain\":[0.0,0.98],\"matches\":\"x\",\"showticklabels\":false},\"yaxis3\":{\"anchor\":\"x3\",\"domain\":[0.18727272727272726,0.25090909090909086],\"title\":{\"text\":\"square km\"},\"showgrid\":true,\"gridcolor\":\"#bdbdbd\"},\"xaxis4\":{\"anchor\":\"y4\",\"domain\":[0.0,0.98],\"matches\":\"x\",\"showticklabels\":false},\"yaxis4\":{\"anchor\":\"x4\",\"domain\":[0.2809090909090909,0.3445454545454545],\"title\":{\"text\":\"square km\"},\"showgrid\":true,\"gridcolor\":\"#bdbdbd\"},\"xaxis5\":{\"anchor\":\"y5\",\"domain\":[0.0,0.98],\"matches\":\"x\",\"showticklabels\":false},\"yaxis5\":{\"anchor\":\"x5\",\"domain\":[0.3745454545454545,0.4381818181818181],\"title\":{\"text\":\"square km\"},\"showgrid\":true,\"gridcolor\":\"#bdbdbd\"},\"xaxis6\":{\"anchor\":\"y6\",\"domain\":[0.0,0.98],\"matches\":\"x\",\"showticklabels\":false},\"yaxis6\":{\"anchor\":\"x6\",\"domain\":[0.46818181818181814,0.5318181818181817],\"title\":{\"text\":\"square km\"},\"showgrid\":true,\"gridcolor\":\"#bdbdbd\"},\"xaxis7\":{\"anchor\":\"y7\",\"domain\":[0.0,0.98],\"matches\":\"x\",\"showticklabels\":false},\"yaxis7\":{\"anchor\":\"x7\",\"domain\":[0.5618181818181818,0.6254545454545454],\"title\":{\"text\":\"square km\"},\"showgrid\":true,\"gridcolor\":\"#bdbdbd\"},\"xaxis8\":{\"anchor\":\"y8\",\"domain\":[0.0,0.98],\"matches\":\"x\",\"showticklabels\":false},\"yaxis8\":{\"anchor\":\"x8\",\"domain\":[0.6554545454545453,0.7190909090909089],\"title\":{\"text\":\"square km\"},\"showgrid\":true,\"gridcolor\":\"#bdbdbd\"},\"xaxis9\":{\"anchor\":\"y9\",\"domain\":[0.0,0.98],\"matches\":\"x\",\"showticklabels\":false},\"yaxis9\":{\"anchor\":\"x9\",\"domain\":[0.7490909090909089,0.8127272727272725],\"title\":{\"text\":\"square km\"},\"showgrid\":true,\"gridcolor\":\"#bdbdbd\"},\"xaxis10\":{\"anchor\":\"y10\",\"domain\":[0.0,0.98],\"matches\":\"x\",\"showticklabels\":false},\"yaxis10\":{\"anchor\":\"x10\",\"domain\":[0.8427272727272725,0.9063636363636361],\"title\":{\"text\":\"square km\"},\"showgrid\":true,\"gridcolor\":\"#bdbdbd\"},\"xaxis11\":{\"anchor\":\"y11\",\"domain\":[0.0,0.98],\"matches\":\"x\",\"showticklabels\":false},\"yaxis11\":{\"anchor\":\"x11\",\"domain\":[0.9363636363636361,0.9999999999999997],\"title\":{\"text\":\"square km\"},\"showgrid\":true,\"gridcolor\":\"#bdbdbd\"},\"annotations\":[{\"showarrow\":false,\"text\":\"\",\"textangle\":90,\"x\":0.98,\"xanchor\":\"left\",\"xref\":\"paper\",\"y\":0.031818181818181815,\"yanchor\":\"middle\",\"yref\":\"paper\"},{\"showarrow\":false,\"text\":\"\",\"textangle\":90,\"x\":0.98,\"xanchor\":\"left\",\"xref\":\"paper\",\"y\":0.12545454545454543,\"yanchor\":\"middle\",\"yref\":\"paper\"},{\"showarrow\":false,\"text\":\"\",\"textangle\":90,\"x\":0.98,\"xanchor\":\"left\",\"xref\":\"paper\",\"y\":0.21909090909090906,\"yanchor\":\"middle\",\"yref\":\"paper\"},{\"showarrow\":false,\"text\":\"\",\"textangle\":90,\"x\":0.98,\"xanchor\":\"left\",\"xref\":\"paper\",\"y\":0.3127272727272727,\"yanchor\":\"middle\",\"yref\":\"paper\"},{\"showarrow\":false,\"text\":\"\",\"textangle\":90,\"x\":0.98,\"xanchor\":\"left\",\"xref\":\"paper\",\"y\":0.4063636363636363,\"yanchor\":\"middle\",\"yref\":\"paper\"},{\"showarrow\":false,\"text\":\"\",\"textangle\":90,\"x\":0.98,\"xanchor\":\"left\",\"xref\":\"paper\",\"y\":0.49999999999999994,\"yanchor\":\"middle\",\"yref\":\"paper\"},{\"showarrow\":false,\"text\":\"\",\"textangle\":90,\"x\":0.98,\"xanchor\":\"left\",\"xref\":\"paper\",\"y\":0.5936363636363635,\"yanchor\":\"middle\",\"yref\":\"paper\"},{\"showarrow\":false,\"text\":\"\",\"textangle\":90,\"x\":0.98,\"xanchor\":\"left\",\"xref\":\"paper\",\"y\":0.687272727272727,\"yanchor\":\"middle\",\"yref\":\"paper\"},{\"showarrow\":false,\"text\":\"\",\"textangle\":90,\"x\":0.98,\"xanchor\":\"left\",\"xref\":\"paper\",\"y\":0.7809090909090908,\"yanchor\":\"middle\",\"yref\":\"paper\"},{\"showarrow\":false,\"text\":\"\",\"textangle\":90,\"x\":0.98,\"xanchor\":\"left\",\"xref\":\"paper\",\"y\":0.8745454545454543,\"yanchor\":\"middle\",\"yref\":\"paper\"},{\"showarrow\":false,\"text\":\"\",\"textangle\":90,\"x\":0.98,\"xanchor\":\"left\",\"xref\":\"paper\",\"y\":0.9681818181818178,\"yanchor\":\"middle\",\"yref\":\"paper\"},{\"font\":{\"size\":16},\"showarrow\":false,\"text\":\"Arizona\",\"x\":0.5,\"xref\":\"paper\",\"y\":1.01,\"yref\":\"paper\"},{\"font\":{\"size\":16},\"showarrow\":false,\"text\":\"California\",\"x\":0.5,\"xref\":\"paper\",\"y\":0.915,\"yref\":\"paper\"},{\"font\":{\"size\":16},\"showarrow\":false,\"text\":\"Colorado\",\"x\":0.5,\"xref\":\"paper\",\"y\":0.8200000000000001,\"yref\":\"paper\"},{\"font\":{\"size\":16},\"showarrow\":false,\"text\":\"Idaho\",\"x\":0.5,\"xref\":\"paper\",\"y\":0.7250000000000001,\"yref\":\"paper\"},{\"font\":{\"size\":16},\"showarrow\":false,\"text\":\"Montana\",\"x\":0.5,\"xref\":\"paper\",\"y\":0.6300000000000001,\"yref\":\"paper\"},{\"font\":{\"size\":16},\"showarrow\":false,\"text\":\"New_Mexico\",\"x\":0.5,\"xref\":\"paper\",\"y\":0.5350000000000001,\"yref\":\"paper\"},{\"font\":{\"size\":16},\"showarrow\":false,\"text\":\"Nevada\",\"x\":0.5,\"xref\":\"paper\",\"y\":0.44000000000000017,\"yref\":\"paper\"},{\"font\":{\"size\":16},\"showarrow\":false,\"text\":\"Oregon\",\"x\":0.5,\"xref\":\"paper\",\"y\":0.3450000000000002,\"yref\":\"paper\"},{\"font\":{\"size\":16},\"showarrow\":false,\"text\":\"Utah\",\"x\":0.5,\"xref\":\"paper\",\"y\":0.2500000000000002,\"yref\":\"paper\"},{\"font\":{\"size\":16},\"showarrow\":false,\"text\":\"Washington\",\"x\":0.5,\"xref\":\"paper\",\"y\":0.15500000000000022,\"yref\":\"paper\"},{\"font\":{\"size\":16},\"showarrow\":false,\"text\":\"Wyoming\",\"x\":0.5,\"xref\":\"paper\",\"y\":0.06000000000000022,\"yref\":\"paper\"},{\"showarrow\":false,\"text\":\"Clean Grid Required Land by 2050\",\"x\":0,\"xanchor\":\"left\",\"xref\":\"x11 domain\",\"y\":715,\"yanchor\":\"bottom\",\"yref\":\"y11\"},{\"showarrow\":false,\"text\":\"Clean Grid Required Land by 2050\",\"x\":0,\"xanchor\":\"left\",\"xref\":\"x10 domain\",\"y\":3066,\"yanchor\":\"bottom\",\"yref\":\"y10\"},{\"showarrow\":false,\"text\":\"Clean Grid Required Land by 2050\",\"x\":0,\"xanchor\":\"left\",\"xref\":\"x9 domain\",\"y\":1596,\"yanchor\":\"bottom\",\"yref\":\"y9\"},{\"showarrow\":false,\"text\":\"Clean Grid Required Land by 2050\",\"x\":0,\"xanchor\":\"left\",\"xref\":\"x8 domain\",\"y\":336,\"yanchor\":\"bottom\",\"yref\":\"y8\"},{\"showarrow\":false,\"text\":\"Clean Grid Required Land by 2050\",\"x\":0,\"xanchor\":\"left\",\"xref\":\"x7 domain\",\"y\":2921,\"yanchor\":\"bottom\",\"yref\":\"y7\"},{\"showarrow\":false,\"text\":\"Clean Grid Required Land by 2050\",\"x\":0,\"xanchor\":\"left\",\"xref\":\"x6 domain\",\"y\":1081,\"yanchor\":\"bottom\",\"yref\":\"y6\"},{\"showarrow\":false,\"text\":\"Clean Grid Required Land by 2050\",\"x\":0,\"xanchor\":\"left\",\"xref\":\"x5 domain\",\"y\":252,\"yanchor\":\"bottom\",\"yref\":\"y5\"},{\"showarrow\":false,\"text\":\"Clean Grid Required Land by 2050\",\"x\":0,\"xanchor\":\"left\",\"xref\":\"x4 domain\",\"y\":695,\"yanchor\":\"bottom\",\"yref\":\"y4\"},{\"showarrow\":false,\"text\":\"Clean Grid Required Land by 2050\",\"x\":0,\"xanchor\":\"left\",\"xref\":\"x3 domain\",\"y\":878,\"yanchor\":\"bottom\",\"yref\":\"y3\"},{\"showarrow\":false,\"text\":\"Clean Grid Required Land by 2050\",\"x\":0,\"xanchor\":\"left\",\"xref\":\"x2 domain\",\"y\":641,\"yanchor\":\"bottom\",\"yref\":\"y2\"},{\"showarrow\":false,\"text\":\"Clean Grid Required Land by 2050\",\"x\":0,\"xanchor\":\"left\",\"xref\":\"x domain\",\"y\":2186,\"yanchor\":\"bottom\",\"yref\":\"y\"}],\"legend\":{\"title\":{\"text\":\"variable\"},\"tracegroupgap\":0},\"margin\":{\"t\":60},\"barmode\":\"relative\",\"height\":2000,\"width\":1200,\"uniformtext\":{\"minsize\":18,\"mode\":\"hide\"},\"showlegend\":false,\"title\":{\"text\":\"Wind Siting Availability under Various Exclusion Combinations\"},\"plot_bgcolor\":\"white\",\"paper_bgcolor\":\"white\",\"shapes\":[{\"line\":{\"dash\":\"dot\",\"width\":2},\"type\":\"line\",\"x0\":0,\"x1\":1,\"xref\":\"x11 domain\",\"y0\":715,\"y1\":715,\"yref\":\"y11\"},{\"line\":{\"dash\":\"dot\",\"width\":2},\"type\":\"line\",\"x0\":0,\"x1\":1,\"xref\":\"x10 domain\",\"y0\":3066,\"y1\":3066,\"yref\":\"y10\"},{\"line\":{\"dash\":\"dot\",\"width\":2},\"type\":\"line\",\"x0\":0,\"x1\":1,\"xref\":\"x9 domain\",\"y0\":1596,\"y1\":1596,\"yref\":\"y9\"},{\"line\":{\"dash\":\"dot\",\"width\":2},\"type\":\"line\",\"x0\":0,\"x1\":1,\"xref\":\"x8 domain\",\"y0\":336,\"y1\":336,\"yref\":\"y8\"},{\"line\":{\"dash\":\"dot\",\"width\":2},\"type\":\"line\",\"x0\":0,\"x1\":1,\"xref\":\"x7 domain\",\"y0\":2921,\"y1\":2921,\"yref\":\"y7\"},{\"line\":{\"dash\":\"dot\",\"width\":2},\"type\":\"line\",\"x0\":0,\"x1\":1,\"xref\":\"x6 domain\",\"y0\":1081,\"y1\":1081,\"yref\":\"y6\"},{\"line\":{\"dash\":\"dot\",\"width\":2},\"type\":\"line\",\"x0\":0,\"x1\":1,\"xref\":\"x5 domain\",\"y0\":252,\"y1\":252,\"yref\":\"y5\"},{\"line\":{\"dash\":\"dot\",\"width\":2},\"type\":\"line\",\"x0\":0,\"x1\":1,\"xref\":\"x4 domain\",\"y0\":695,\"y1\":695,\"yref\":\"y4\"},{\"line\":{\"dash\":\"dot\",\"width\":2},\"type\":\"line\",\"x0\":0,\"x1\":1,\"xref\":\"x3 domain\",\"y0\":878,\"y1\":878,\"yref\":\"y3\"},{\"line\":{\"dash\":\"dot\",\"width\":2},\"type\":\"line\",\"x0\":0,\"x1\":1,\"xref\":\"x2 domain\",\"y0\":641,\"y1\":641,\"yref\":\"y2\"},{\"line\":{\"dash\":\"dot\",\"width\":2},\"type\":\"line\",\"x0\":0,\"x1\":1,\"xref\":\"x domain\",\"y0\":2186,\"y1\":2186,\"yref\":\"y\"}]},                        {\"responsive\": true}                    ).then(function(){\n",
       "                            \n",
       "var gd = document.getElementById('cce11011-e161-45c6-b7fe-466bf0a1600c');\n",
       "var x = new MutationObserver(function (mutations, observer) {{\n",
       "        var display = window.getComputedStyle(gd).display;\n",
       "        if (!display || display === 'none') {{\n",
       "            console.log([gd, 'removed!']);\n",
       "            Plotly.purge(gd);\n",
       "            observer.disconnect();\n",
       "        }}\n",
       "}});\n",
       "\n",
       "// Listen for the removal of the full notebook cells\n",
       "var notebookContainer = gd.closest('#notebook-container');\n",
       "if (notebookContainer) {{\n",
       "    x.observe(notebookContainer, {childList: true});\n",
       "}}\n",
       "\n",
       "// Listen for the clearing of the current output cell\n",
       "var outputEl = gd.closest('.output');\n",
       "if (outputEl) {{\n",
       "    x.observe(outputEl, {childList: true});\n",
       "}}\n",
       "\n",
       "                        })                };                });            </script>        </div>"
      ]
     },
     "metadata": {},
     "output_type": "display_data"
    }
   ],
   "source": [
    "\n",
    "\n",
    "fig = px.bar(wind_df, x=\"variable\", y=\"value\", color=\"variable\",\n",
    "             facet_row=\"region_name\", width=1200, height=2000,\n",
    "            facet_row_spacing=0.03,\n",
    "            color_discrete_sequence=px.colors.qualitative.Pastel)\n",
    "state_list = list(wind_df.region_name.unique())\n",
    "\n",
    "fig.update_yaxes(matches=None, title=\"square km\", showgrid = True,  gridcolor = '#bdbdbd')\n",
    "fig.for_each_annotation(lambda a: a.update(text=a.text.split(\"=\")[-1]))\n",
    "fig.update_layout(showlegend=False, title='Wind Siting Availability under Various Exclusion Combinations',\n",
    "                 uniformtext_minsize=18, uniformtext_mode='hide', plot_bgcolor = 'white', paper_bgcolor ='white')\n",
    "\n",
    "for anno in fig['layout']['annotations']:\n",
    "    anno['text']=''\n",
    "\n",
    "start_y = 1.01\n",
    "for state_label in state_label_list:\n",
    "    fig.add_annotation(text=state_label,\n",
    "                  xref=\"paper\", yref=\"paper\",\n",
    "                  x=.5, y=start_y, showarrow=False, font=dict(size=16))\n",
    "    start_y = start_y - .095 \n",
    "\n",
    "row_no = 0\n",
    "for i in cg_km_list:\n",
    "    fig.add_hline(y=i, line_dash=\"dot\", row=row_no,line_width=2,\n",
    "          annotation_text=f'Clean Grid Required Land by {year}', \n",
    "          annotation_position=\"top left\") \n",
    "    if row_no == 0:\n",
    "        row_no = 10\n",
    "    else:\n",
    "        row_no-=1\n",
    "\n",
    "fig.show()"
   ]
  },
  {
   "cell_type": "code",
   "execution_count": 111,
   "id": "72dc1a0c-6d2e-4472-8018-835e4ed1aa65",
   "metadata": {},
   "outputs": [],
   "source": [
    "solar_df = solar_df[~solar_df.variable.isin(['bau_km', 'clean_grid_km'])]\n",
    "solar_df.variable = solar_df.variable.map(label_dict)"
   ]
  },
  {
   "cell_type": "code",
   "execution_count": 112,
   "id": "d4b849dd-97e1-4b03-957d-2a1b3b387b98",
   "metadata": {},
   "outputs": [
    {
     "data": {
      "application/vnd.plotly.v1+json": {
       "config": {
        "plotlyServerURL": "https://plot.ly"
       },
       "data": [
        {
         "alignmentgroup": "True",
         "hovertemplate": "variable=%{x}<br>region_name=arizona<br>value=%{y}<extra></extra>",
         "legendgroup": "Baseline Restrictions (BR)",
         "marker": {
          "color": "rgb(102, 197, 204)",
          "pattern": {
           "shape": ""
          }
         },
         "name": "Baseline Restrictions (BR)",
         "offsetgroup": "Baseline Restrictions (BR)",
         "orientation": "v",
         "showlegend": true,
         "textposition": "auto",
         "type": "bar",
         "x": [
          "Baseline Restrictions (BR)"
         ],
         "xaxis": "x11",
         "y": [
          149468
         ],
         "yaxis": "y11"
        },
        {
         "alignmentgroup": "True",
         "hovertemplate": "variable=%{x}<br>region_name=california<br>value=%{y}<extra></extra>",
         "legendgroup": "Baseline Restrictions (BR)",
         "marker": {
          "color": "rgb(102, 197, 204)",
          "pattern": {
           "shape": ""
          }
         },
         "name": "Baseline Restrictions (BR)",
         "offsetgroup": "Baseline Restrictions (BR)",
         "orientation": "v",
         "showlegend": false,
         "textposition": "auto",
         "type": "bar",
         "x": [
          "Baseline Restrictions (BR)"
         ],
         "xaxis": "x10",
         "y": [
          94422
         ],
         "yaxis": "y10"
        },
        {
         "alignmentgroup": "True",
         "hovertemplate": "variable=%{x}<br>region_name=colorado<br>value=%{y}<extra></extra>",
         "legendgroup": "Baseline Restrictions (BR)",
         "marker": {
          "color": "rgb(102, 197, 204)",
          "pattern": {
           "shape": ""
          }
         },
         "name": "Baseline Restrictions (BR)",
         "offsetgroup": "Baseline Restrictions (BR)",
         "orientation": "v",
         "showlegend": false,
         "textposition": "auto",
         "type": "bar",
         "x": [
          "Baseline Restrictions (BR)"
         ],
         "xaxis": "x9",
         "y": [
          118782
         ],
         "yaxis": "y9"
        },
        {
         "alignmentgroup": "True",
         "hovertemplate": "variable=%{x}<br>region_name=idaho<br>value=%{y}<extra></extra>",
         "legendgroup": "Baseline Restrictions (BR)",
         "marker": {
          "color": "rgb(102, 197, 204)",
          "pattern": {
           "shape": ""
          }
         },
         "name": "Baseline Restrictions (BR)",
         "offsetgroup": "Baseline Restrictions (BR)",
         "orientation": "v",
         "showlegend": false,
         "textposition": "auto",
         "type": "bar",
         "x": [
          "Baseline Restrictions (BR)"
         ],
         "xaxis": "x8",
         "y": [
          64018
         ],
         "yaxis": "y8"
        },
        {
         "alignmentgroup": "True",
         "hovertemplate": "variable=%{x}<br>region_name=montana<br>value=%{y}<extra></extra>",
         "legendgroup": "Baseline Restrictions (BR)",
         "marker": {
          "color": "rgb(102, 197, 204)",
          "pattern": {
           "shape": ""
          }
         },
         "name": "Baseline Restrictions (BR)",
         "offsetgroup": "Baseline Restrictions (BR)",
         "orientation": "v",
         "showlegend": false,
         "textposition": "auto",
         "type": "bar",
         "x": [
          "Baseline Restrictions (BR)"
         ],
         "xaxis": "x7",
         "y": [
          200614
         ],
         "yaxis": "y7"
        },
        {
         "alignmentgroup": "True",
         "hovertemplate": "variable=%{x}<br>region_name=new_mexico<br>value=%{y}<extra></extra>",
         "legendgroup": "Baseline Restrictions (BR)",
         "marker": {
          "color": "rgb(102, 197, 204)",
          "pattern": {
           "shape": ""
          }
         },
         "name": "Baseline Restrictions (BR)",
         "offsetgroup": "Baseline Restrictions (BR)",
         "orientation": "v",
         "showlegend": false,
         "textposition": "auto",
         "type": "bar",
         "x": [
          "Baseline Restrictions (BR)"
         ],
         "xaxis": "x6",
         "y": [
          201750
         ],
         "yaxis": "y6"
        },
        {
         "alignmentgroup": "True",
         "hovertemplate": "variable=%{x}<br>region_name=nevada<br>value=%{y}<extra></extra>",
         "legendgroup": "Baseline Restrictions (BR)",
         "marker": {
          "color": "rgb(102, 197, 204)",
          "pattern": {
           "shape": ""
          }
         },
         "name": "Baseline Restrictions (BR)",
         "offsetgroup": "Baseline Restrictions (BR)",
         "orientation": "v",
         "showlegend": false,
         "textposition": "auto",
         "type": "bar",
         "x": [
          "Baseline Restrictions (BR)"
         ],
         "xaxis": "x5",
         "y": [
          106346
         ],
         "yaxis": "y5"
        },
        {
         "alignmentgroup": "True",
         "hovertemplate": "variable=%{x}<br>region_name=oregon<br>value=%{y}<extra></extra>",
         "legendgroup": "Baseline Restrictions (BR)",
         "marker": {
          "color": "rgb(102, 197, 204)",
          "pattern": {
           "shape": ""
          }
         },
         "name": "Baseline Restrictions (BR)",
         "offsetgroup": "Baseline Restrictions (BR)",
         "orientation": "v",
         "showlegend": false,
         "textposition": "auto",
         "type": "bar",
         "x": [
          "Baseline Restrictions (BR)"
         ],
         "xaxis": "x4",
         "y": [
          60930
         ],
         "yaxis": "y4"
        },
        {
         "alignmentgroup": "True",
         "hovertemplate": "variable=%{x}<br>region_name=utah<br>value=%{y}<extra></extra>",
         "legendgroup": "Baseline Restrictions (BR)",
         "marker": {
          "color": "rgb(102, 197, 204)",
          "pattern": {
           "shape": ""
          }
         },
         "name": "Baseline Restrictions (BR)",
         "offsetgroup": "Baseline Restrictions (BR)",
         "orientation": "v",
         "showlegend": false,
         "textposition": "auto",
         "type": "bar",
         "x": [
          "Baseline Restrictions (BR)"
         ],
         "xaxis": "x3",
         "y": [
          61940
         ],
         "yaxis": "y3"
        },
        {
         "alignmentgroup": "True",
         "hovertemplate": "variable=%{x}<br>region_name=washington<br>value=%{y}<extra></extra>",
         "legendgroup": "Baseline Restrictions (BR)",
         "marker": {
          "color": "rgb(102, 197, 204)",
          "pattern": {
           "shape": ""
          }
         },
         "name": "Baseline Restrictions (BR)",
         "offsetgroup": "Baseline Restrictions (BR)",
         "orientation": "v",
         "showlegend": false,
         "textposition": "auto",
         "type": "bar",
         "x": [
          "Baseline Restrictions (BR)"
         ],
         "xaxis": "x2",
         "y": [
          60247
         ],
         "yaxis": "y2"
        },
        {
         "alignmentgroup": "True",
         "hovertemplate": "variable=%{x}<br>region_name=wyoming<br>value=%{y}<extra></extra>",
         "legendgroup": "Baseline Restrictions (BR)",
         "marker": {
          "color": "rgb(102, 197, 204)",
          "pattern": {
           "shape": ""
          }
         },
         "name": "Baseline Restrictions (BR)",
         "offsetgroup": "Baseline Restrictions (BR)",
         "orientation": "v",
         "showlegend": false,
         "textposition": "auto",
         "type": "bar",
         "x": [
          "Baseline Restrictions (BR)"
         ],
         "xaxis": "x",
         "y": [
          150777
         ],
         "yaxis": "y"
        },
        {
         "alignmentgroup": "True",
         "hovertemplate": "variable=%{x}<br>region_name=arizona<br>value=%{y}<extra></extra>",
         "legendgroup": "BR + DACs",
         "marker": {
          "color": "rgb(246, 207, 113)",
          "pattern": {
           "shape": ""
          }
         },
         "name": "BR + DACs",
         "offsetgroup": "BR + DACs",
         "orientation": "v",
         "showlegend": true,
         "textposition": "auto",
         "type": "bar",
         "x": [
          "BR + DACs"
         ],
         "xaxis": "x11",
         "y": [
          46395
         ],
         "yaxis": "y11"
        },
        {
         "alignmentgroup": "True",
         "hovertemplate": "variable=%{x}<br>region_name=california<br>value=%{y}<extra></extra>",
         "legendgroup": "BR + DACs",
         "marker": {
          "color": "rgb(246, 207, 113)",
          "pattern": {
           "shape": ""
          }
         },
         "name": "BR + DACs",
         "offsetgroup": "BR + DACs",
         "orientation": "v",
         "showlegend": false,
         "textposition": "auto",
         "type": "bar",
         "x": [
          "BR + DACs"
         ],
         "xaxis": "x10",
         "y": [
          38251
         ],
         "yaxis": "y10"
        },
        {
         "alignmentgroup": "True",
         "hovertemplate": "variable=%{x}<br>region_name=colorado<br>value=%{y}<extra></extra>",
         "legendgroup": "BR + DACs",
         "marker": {
          "color": "rgb(246, 207, 113)",
          "pattern": {
           "shape": ""
          }
         },
         "name": "BR + DACs",
         "offsetgroup": "BR + DACs",
         "orientation": "v",
         "showlegend": false,
         "textposition": "auto",
         "type": "bar",
         "x": [
          "BR + DACs"
         ],
         "xaxis": "x9",
         "y": [
          58883
         ],
         "yaxis": "y9"
        },
        {
         "alignmentgroup": "True",
         "hovertemplate": "variable=%{x}<br>region_name=idaho<br>value=%{y}<extra></extra>",
         "legendgroup": "BR + DACs",
         "marker": {
          "color": "rgb(246, 207, 113)",
          "pattern": {
           "shape": ""
          }
         },
         "name": "BR + DACs",
         "offsetgroup": "BR + DACs",
         "orientation": "v",
         "showlegend": false,
         "textposition": "auto",
         "type": "bar",
         "x": [
          "BR + DACs"
         ],
         "xaxis": "x8",
         "y": [
          18522
         ],
         "yaxis": "y8"
        },
        {
         "alignmentgroup": "True",
         "hovertemplate": "variable=%{x}<br>region_name=montana<br>value=%{y}<extra></extra>",
         "legendgroup": "BR + DACs",
         "marker": {
          "color": "rgb(246, 207, 113)",
          "pattern": {
           "shape": ""
          }
         },
         "name": "BR + DACs",
         "offsetgroup": "BR + DACs",
         "orientation": "v",
         "showlegend": false,
         "textposition": "auto",
         "type": "bar",
         "x": [
          "BR + DACs"
         ],
         "xaxis": "x7",
         "y": [
          104611
         ],
         "yaxis": "y7"
        },
        {
         "alignmentgroup": "True",
         "hovertemplate": "variable=%{x}<br>region_name=new_mexico<br>value=%{y}<extra></extra>",
         "legendgroup": "BR + DACs",
         "marker": {
          "color": "rgb(246, 207, 113)",
          "pattern": {
           "shape": ""
          }
         },
         "name": "BR + DACs",
         "offsetgroup": "BR + DACs",
         "orientation": "v",
         "showlegend": false,
         "textposition": "auto",
         "type": "bar",
         "x": [
          "BR + DACs"
         ],
         "xaxis": "x6",
         "y": [
          23030
         ],
         "yaxis": "y6"
        },
        {
         "alignmentgroup": "True",
         "hovertemplate": "variable=%{x}<br>region_name=nevada<br>value=%{y}<extra></extra>",
         "legendgroup": "BR + DACs",
         "marker": {
          "color": "rgb(246, 207, 113)",
          "pattern": {
           "shape": ""
          }
         },
         "name": "BR + DACs",
         "offsetgroup": "BR + DACs",
         "orientation": "v",
         "showlegend": false,
         "textposition": "auto",
         "type": "bar",
         "x": [
          "BR + DACs"
         ],
         "xaxis": "x5",
         "y": [
          81135
         ],
         "yaxis": "y5"
        },
        {
         "alignmentgroup": "True",
         "hovertemplate": "variable=%{x}<br>region_name=oregon<br>value=%{y}<extra></extra>",
         "legendgroup": "BR + DACs",
         "marker": {
          "color": "rgb(246, 207, 113)",
          "pattern": {
           "shape": ""
          }
         },
         "name": "BR + DACs",
         "offsetgroup": "BR + DACs",
         "orientation": "v",
         "showlegend": false,
         "textposition": "auto",
         "type": "bar",
         "x": [
          "BR + DACs"
         ],
         "xaxis": "x4",
         "y": [
          11622
         ],
         "yaxis": "y4"
        },
        {
         "alignmentgroup": "True",
         "hovertemplate": "variable=%{x}<br>region_name=utah<br>value=%{y}<extra></extra>",
         "legendgroup": "BR + DACs",
         "marker": {
          "color": "rgb(246, 207, 113)",
          "pattern": {
           "shape": ""
          }
         },
         "name": "BR + DACs",
         "offsetgroup": "BR + DACs",
         "orientation": "v",
         "showlegend": false,
         "textposition": "auto",
         "type": "bar",
         "x": [
          "BR + DACs"
         ],
         "xaxis": "x3",
         "y": [
          34126
         ],
         "yaxis": "y3"
        },
        {
         "alignmentgroup": "True",
         "hovertemplate": "variable=%{x}<br>region_name=washington<br>value=%{y}<extra></extra>",
         "legendgroup": "BR + DACs",
         "marker": {
          "color": "rgb(246, 207, 113)",
          "pattern": {
           "shape": ""
          }
         },
         "name": "BR + DACs",
         "offsetgroup": "BR + DACs",
         "orientation": "v",
         "showlegend": false,
         "textposition": "auto",
         "type": "bar",
         "x": [
          "BR + DACs"
         ],
         "xaxis": "x2",
         "y": [
          32459
         ],
         "yaxis": "y2"
        },
        {
         "alignmentgroup": "True",
         "hovertemplate": "variable=%{x}<br>region_name=wyoming<br>value=%{y}<extra></extra>",
         "legendgroup": "BR + DACs",
         "marker": {
          "color": "rgb(246, 207, 113)",
          "pattern": {
           "shape": ""
          }
         },
         "name": "BR + DACs",
         "offsetgroup": "BR + DACs",
         "orientation": "v",
         "showlegend": false,
         "textposition": "auto",
         "type": "bar",
         "x": [
          "BR + DACs"
         ],
         "xaxis": "x",
         "y": [
          127750
         ],
         "yaxis": "y"
        },
        {
         "alignmentgroup": "True",
         "hovertemplate": "variable=%{x}<br>region_name=arizona<br>value=%{y}<extra></extra>",
         "legendgroup": "BR + Important Farmland",
         "marker": {
          "color": "rgb(248, 156, 116)",
          "pattern": {
           "shape": ""
          }
         },
         "name": "BR + Important Farmland",
         "offsetgroup": "BR + Important Farmland",
         "orientation": "v",
         "showlegend": true,
         "textposition": "auto",
         "type": "bar",
         "x": [
          "BR + Important Farmland"
         ],
         "xaxis": "x11",
         "y": [
          146345
         ],
         "yaxis": "y11"
        },
        {
         "alignmentgroup": "True",
         "hovertemplate": "variable=%{x}<br>region_name=california<br>value=%{y}<extra></extra>",
         "legendgroup": "BR + Important Farmland",
         "marker": {
          "color": "rgb(248, 156, 116)",
          "pattern": {
           "shape": ""
          }
         },
         "name": "BR + Important Farmland",
         "offsetgroup": "BR + Important Farmland",
         "orientation": "v",
         "showlegend": false,
         "textposition": "auto",
         "type": "bar",
         "x": [
          "BR + Important Farmland"
         ],
         "xaxis": "x10",
         "y": [
          78597
         ],
         "yaxis": "y10"
        },
        {
         "alignmentgroup": "True",
         "hovertemplate": "variable=%{x}<br>region_name=colorado<br>value=%{y}<extra></extra>",
         "legendgroup": "BR + Important Farmland",
         "marker": {
          "color": "rgb(248, 156, 116)",
          "pattern": {
           "shape": ""
          }
         },
         "name": "BR + Important Farmland",
         "offsetgroup": "BR + Important Farmland",
         "orientation": "v",
         "showlegend": false,
         "textposition": "auto",
         "type": "bar",
         "x": [
          "BR + Important Farmland"
         ],
         "xaxis": "x9",
         "y": [
          108230
         ],
         "yaxis": "y9"
        },
        {
         "alignmentgroup": "True",
         "hovertemplate": "variable=%{x}<br>region_name=idaho<br>value=%{y}<extra></extra>",
         "legendgroup": "BR + Important Farmland",
         "marker": {
          "color": "rgb(248, 156, 116)",
          "pattern": {
           "shape": ""
          }
         },
         "name": "BR + Important Farmland",
         "offsetgroup": "BR + Important Farmland",
         "orientation": "v",
         "showlegend": false,
         "textposition": "auto",
         "type": "bar",
         "x": [
          "BR + Important Farmland"
         ],
         "xaxis": "x8",
         "y": [
          62934
         ],
         "yaxis": "y8"
        },
        {
         "alignmentgroup": "True",
         "hovertemplate": "variable=%{x}<br>region_name=montana<br>value=%{y}<extra></extra>",
         "legendgroup": "BR + Important Farmland",
         "marker": {
          "color": "rgb(248, 156, 116)",
          "pattern": {
           "shape": ""
          }
         },
         "name": "BR + Important Farmland",
         "offsetgroup": "BR + Important Farmland",
         "orientation": "v",
         "showlegend": false,
         "textposition": "auto",
         "type": "bar",
         "x": [
          "BR + Important Farmland"
         ],
         "xaxis": "x7",
         "y": [
          168821
         ],
         "yaxis": "y7"
        },
        {
         "alignmentgroup": "True",
         "hovertemplate": "variable=%{x}<br>region_name=new_mexico<br>value=%{y}<extra></extra>",
         "legendgroup": "BR + Important Farmland",
         "marker": {
          "color": "rgb(248, 156, 116)",
          "pattern": {
           "shape": ""
          }
         },
         "name": "BR + Important Farmland",
         "offsetgroup": "BR + Important Farmland",
         "orientation": "v",
         "showlegend": false,
         "textposition": "auto",
         "type": "bar",
         "x": [
          "BR + Important Farmland"
         ],
         "xaxis": "x6",
         "y": [
          179489
         ],
         "yaxis": "y6"
        },
        {
         "alignmentgroup": "True",
         "hovertemplate": "variable=%{x}<br>region_name=nevada<br>value=%{y}<extra></extra>",
         "legendgroup": "BR + Important Farmland",
         "marker": {
          "color": "rgb(248, 156, 116)",
          "pattern": {
           "shape": ""
          }
         },
         "name": "BR + Important Farmland",
         "offsetgroup": "BR + Important Farmland",
         "orientation": "v",
         "showlegend": false,
         "textposition": "auto",
         "type": "bar",
         "x": [
          "BR + Important Farmland"
         ],
         "xaxis": "x5",
         "y": [
          106295
         ],
         "yaxis": "y5"
        },
        {
         "alignmentgroup": "True",
         "hovertemplate": "variable=%{x}<br>region_name=oregon<br>value=%{y}<extra></extra>",
         "legendgroup": "BR + Important Farmland",
         "marker": {
          "color": "rgb(248, 156, 116)",
          "pattern": {
           "shape": ""
          }
         },
         "name": "BR + Important Farmland",
         "offsetgroup": "BR + Important Farmland",
         "orientation": "v",
         "showlegend": false,
         "textposition": "auto",
         "type": "bar",
         "x": [
          "BR + Important Farmland"
         ],
         "xaxis": "x4",
         "y": [
          28275
         ],
         "yaxis": "y4"
        },
        {
         "alignmentgroup": "True",
         "hovertemplate": "variable=%{x}<br>region_name=utah<br>value=%{y}<extra></extra>",
         "legendgroup": "BR + Important Farmland",
         "marker": {
          "color": "rgb(248, 156, 116)",
          "pattern": {
           "shape": ""
          }
         },
         "name": "BR + Important Farmland",
         "offsetgroup": "BR + Important Farmland",
         "orientation": "v",
         "showlegend": false,
         "textposition": "auto",
         "type": "bar",
         "x": [
          "BR + Important Farmland"
         ],
         "xaxis": "x3",
         "y": [
          57113
         ],
         "yaxis": "y3"
        },
        {
         "alignmentgroup": "True",
         "hovertemplate": "variable=%{x}<br>region_name=washington<br>value=%{y}<extra></extra>",
         "legendgroup": "BR + Important Farmland",
         "marker": {
          "color": "rgb(248, 156, 116)",
          "pattern": {
           "shape": ""
          }
         },
         "name": "BR + Important Farmland",
         "offsetgroup": "BR + Important Farmland",
         "orientation": "v",
         "showlegend": false,
         "textposition": "auto",
         "type": "bar",
         "x": [
          "BR + Important Farmland"
         ],
         "xaxis": "x2",
         "y": [
          32568
         ],
         "yaxis": "y2"
        },
        {
         "alignmentgroup": "True",
         "hovertemplate": "variable=%{x}<br>region_name=wyoming<br>value=%{y}<extra></extra>",
         "legendgroup": "BR + Important Farmland",
         "marker": {
          "color": "rgb(248, 156, 116)",
          "pattern": {
           "shape": ""
          }
         },
         "name": "BR + Important Farmland",
         "offsetgroup": "BR + Important Farmland",
         "orientation": "v",
         "showlegend": false,
         "textposition": "auto",
         "type": "bar",
         "x": [
          "BR + Important Farmland"
         ],
         "xaxis": "x",
         "y": [
          149870
         ],
         "yaxis": "y"
        },
        {
         "alignmentgroup": "True",
         "hovertemplate": "variable=%{x}<br>region_name=arizona<br>value=%{y}<extra></extra>",
         "legendgroup": "BR + w/in 1km of Natural Areas",
         "marker": {
          "color": "rgb(220, 176, 242)",
          "pattern": {
           "shape": ""
          }
         },
         "name": "BR + w/in 1km of Natural Areas",
         "offsetgroup": "BR + w/in 1km of Natural Areas",
         "orientation": "v",
         "showlegend": true,
         "textposition": "auto",
         "type": "bar",
         "x": [
          "BR + w/in 1km of Natural Areas"
         ],
         "xaxis": "x11",
         "y": [
          138003
         ],
         "yaxis": "y11"
        },
        {
         "alignmentgroup": "True",
         "hovertemplate": "variable=%{x}<br>region_name=california<br>value=%{y}<extra></extra>",
         "legendgroup": "BR + w/in 1km of Natural Areas",
         "marker": {
          "color": "rgb(220, 176, 242)",
          "pattern": {
           "shape": ""
          }
         },
         "name": "BR + w/in 1km of Natural Areas",
         "offsetgroup": "BR + w/in 1km of Natural Areas",
         "orientation": "v",
         "showlegend": false,
         "textposition": "auto",
         "type": "bar",
         "x": [
          "BR + w/in 1km of Natural Areas"
         ],
         "xaxis": "x10",
         "y": [
          77444
         ],
         "yaxis": "y10"
        },
        {
         "alignmentgroup": "True",
         "hovertemplate": "variable=%{x}<br>region_name=colorado<br>value=%{y}<extra></extra>",
         "legendgroup": "BR + w/in 1km of Natural Areas",
         "marker": {
          "color": "rgb(220, 176, 242)",
          "pattern": {
           "shape": ""
          }
         },
         "name": "BR + w/in 1km of Natural Areas",
         "offsetgroup": "BR + w/in 1km of Natural Areas",
         "orientation": "v",
         "showlegend": false,
         "textposition": "auto",
         "type": "bar",
         "x": [
          "BR + w/in 1km of Natural Areas"
         ],
         "xaxis": "x9",
         "y": [
          108317
         ],
         "yaxis": "y9"
        },
        {
         "alignmentgroup": "True",
         "hovertemplate": "variable=%{x}<br>region_name=idaho<br>value=%{y}<extra></extra>",
         "legendgroup": "BR + w/in 1km of Natural Areas",
         "marker": {
          "color": "rgb(220, 176, 242)",
          "pattern": {
           "shape": ""
          }
         },
         "name": "BR + w/in 1km of Natural Areas",
         "offsetgroup": "BR + w/in 1km of Natural Areas",
         "orientation": "v",
         "showlegend": false,
         "textposition": "auto",
         "type": "bar",
         "x": [
          "BR + w/in 1km of Natural Areas"
         ],
         "xaxis": "x8",
         "y": [
          54342
         ],
         "yaxis": "y8"
        },
        {
         "alignmentgroup": "True",
         "hovertemplate": "variable=%{x}<br>region_name=montana<br>value=%{y}<extra></extra>",
         "legendgroup": "BR + w/in 1km of Natural Areas",
         "marker": {
          "color": "rgb(220, 176, 242)",
          "pattern": {
           "shape": ""
          }
         },
         "name": "BR + w/in 1km of Natural Areas",
         "offsetgroup": "BR + w/in 1km of Natural Areas",
         "orientation": "v",
         "showlegend": false,
         "textposition": "auto",
         "type": "bar",
         "x": [
          "BR + w/in 1km of Natural Areas"
         ],
         "xaxis": "x7",
         "y": [
          169865
         ],
         "yaxis": "y7"
        },
        {
         "alignmentgroup": "True",
         "hovertemplate": "variable=%{x}<br>region_name=new_mexico<br>value=%{y}<extra></extra>",
         "legendgroup": "BR + w/in 1km of Natural Areas",
         "marker": {
          "color": "rgb(220, 176, 242)",
          "pattern": {
           "shape": ""
          }
         },
         "name": "BR + w/in 1km of Natural Areas",
         "offsetgroup": "BR + w/in 1km of Natural Areas",
         "orientation": "v",
         "showlegend": false,
         "textposition": "auto",
         "type": "bar",
         "x": [
          "BR + w/in 1km of Natural Areas"
         ],
         "xaxis": "x6",
         "y": [
          188217
         ],
         "yaxis": "y6"
        },
        {
         "alignmentgroup": "True",
         "hovertemplate": "variable=%{x}<br>region_name=nevada<br>value=%{y}<extra></extra>",
         "legendgroup": "BR + w/in 1km of Natural Areas",
         "marker": {
          "color": "rgb(220, 176, 242)",
          "pattern": {
           "shape": ""
          }
         },
         "name": "BR + w/in 1km of Natural Areas",
         "offsetgroup": "BR + w/in 1km of Natural Areas",
         "orientation": "v",
         "showlegend": false,
         "textposition": "auto",
         "type": "bar",
         "x": [
          "BR + w/in 1km of Natural Areas"
         ],
         "xaxis": "x5",
         "y": [
          95328
         ],
         "yaxis": "y5"
        },
        {
         "alignmentgroup": "True",
         "hovertemplate": "variable=%{x}<br>region_name=oregon<br>value=%{y}<extra></extra>",
         "legendgroup": "BR + w/in 1km of Natural Areas",
         "marker": {
          "color": "rgb(220, 176, 242)",
          "pattern": {
           "shape": ""
          }
         },
         "name": "BR + w/in 1km of Natural Areas",
         "offsetgroup": "BR + w/in 1km of Natural Areas",
         "orientation": "v",
         "showlegend": false,
         "textposition": "auto",
         "type": "bar",
         "x": [
          "BR + w/in 1km of Natural Areas"
         ],
         "xaxis": "x4",
         "y": [
          50877
         ],
         "yaxis": "y4"
        },
        {
         "alignmentgroup": "True",
         "hovertemplate": "variable=%{x}<br>region_name=utah<br>value=%{y}<extra></extra>",
         "legendgroup": "BR + w/in 1km of Natural Areas",
         "marker": {
          "color": "rgb(220, 176, 242)",
          "pattern": {
           "shape": ""
          }
         },
         "name": "BR + w/in 1km of Natural Areas",
         "offsetgroup": "BR + w/in 1km of Natural Areas",
         "orientation": "v",
         "showlegend": false,
         "textposition": "auto",
         "type": "bar",
         "x": [
          "BR + w/in 1km of Natural Areas"
         ],
         "xaxis": "x3",
         "y": [
          55520
         ],
         "yaxis": "y3"
        },
        {
         "alignmentgroup": "True",
         "hovertemplate": "variable=%{x}<br>region_name=washington<br>value=%{y}<extra></extra>",
         "legendgroup": "BR + w/in 1km of Natural Areas",
         "marker": {
          "color": "rgb(220, 176, 242)",
          "pattern": {
           "shape": ""
          }
         },
         "name": "BR + w/in 1km of Natural Areas",
         "offsetgroup": "BR + w/in 1km of Natural Areas",
         "orientation": "v",
         "showlegend": false,
         "textposition": "auto",
         "type": "bar",
         "x": [
          "BR + w/in 1km of Natural Areas"
         ],
         "xaxis": "x2",
         "y": [
          52188
         ],
         "yaxis": "y2"
        },
        {
         "alignmentgroup": "True",
         "hovertemplate": "variable=%{x}<br>region_name=wyoming<br>value=%{y}<extra></extra>",
         "legendgroup": "BR + w/in 1km of Natural Areas",
         "marker": {
          "color": "rgb(220, 176, 242)",
          "pattern": {
           "shape": ""
          }
         },
         "name": "BR + w/in 1km of Natural Areas",
         "offsetgroup": "BR + w/in 1km of Natural Areas",
         "orientation": "v",
         "showlegend": false,
         "textposition": "auto",
         "type": "bar",
         "x": [
          "BR + w/in 1km of Natural Areas"
         ],
         "xaxis": "x",
         "y": [
          134216
         ],
         "yaxis": "y"
        },
        {
         "alignmentgroup": "True",
         "hovertemplate": "variable=%{x}<br>region_name=arizona<br>value=%{y}<extra></extra>",
         "legendgroup": "BR + w/in 5km of Natural Areas",
         "marker": {
          "color": "rgb(135, 197, 95)",
          "pattern": {
           "shape": ""
          }
         },
         "name": "BR + w/in 5km of Natural Areas",
         "offsetgroup": "BR + w/in 5km of Natural Areas",
         "orientation": "v",
         "showlegend": true,
         "textposition": "auto",
         "type": "bar",
         "x": [
          "BR + w/in 5km of Natural Areas"
         ],
         "xaxis": "x11",
         "y": [
          96083
         ],
         "yaxis": "y11"
        },
        {
         "alignmentgroup": "True",
         "hovertemplate": "variable=%{x}<br>region_name=california<br>value=%{y}<extra></extra>",
         "legendgroup": "BR + w/in 5km of Natural Areas",
         "marker": {
          "color": "rgb(135, 197, 95)",
          "pattern": {
           "shape": ""
          }
         },
         "name": "BR + w/in 5km of Natural Areas",
         "offsetgroup": "BR + w/in 5km of Natural Areas",
         "orientation": "v",
         "showlegend": false,
         "textposition": "auto",
         "type": "bar",
         "x": [
          "BR + w/in 5km of Natural Areas"
         ],
         "xaxis": "x10",
         "y": [
          35956
         ],
         "yaxis": "y10"
        },
        {
         "alignmentgroup": "True",
         "hovertemplate": "variable=%{x}<br>region_name=colorado<br>value=%{y}<extra></extra>",
         "legendgroup": "BR + w/in 5km of Natural Areas",
         "marker": {
          "color": "rgb(135, 197, 95)",
          "pattern": {
           "shape": ""
          }
         },
         "name": "BR + w/in 5km of Natural Areas",
         "offsetgroup": "BR + w/in 5km of Natural Areas",
         "orientation": "v",
         "showlegend": false,
         "textposition": "auto",
         "type": "bar",
         "x": [
          "BR + w/in 5km of Natural Areas"
         ],
         "xaxis": "x9",
         "y": [
          74108
         ],
         "yaxis": "y9"
        },
        {
         "alignmentgroup": "True",
         "hovertemplate": "variable=%{x}<br>region_name=idaho<br>value=%{y}<extra></extra>",
         "legendgroup": "BR + w/in 5km of Natural Areas",
         "marker": {
          "color": "rgb(135, 197, 95)",
          "pattern": {
           "shape": ""
          }
         },
         "name": "BR + w/in 5km of Natural Areas",
         "offsetgroup": "BR + w/in 5km of Natural Areas",
         "orientation": "v",
         "showlegend": false,
         "textposition": "auto",
         "type": "bar",
         "x": [
          "BR + w/in 5km of Natural Areas"
         ],
         "xaxis": "x8",
         "y": [
          24823
         ],
         "yaxis": "y8"
        },
        {
         "alignmentgroup": "True",
         "hovertemplate": "variable=%{x}<br>region_name=montana<br>value=%{y}<extra></extra>",
         "legendgroup": "BR + w/in 5km of Natural Areas",
         "marker": {
          "color": "rgb(135, 197, 95)",
          "pattern": {
           "shape": ""
          }
         },
         "name": "BR + w/in 5km of Natural Areas",
         "offsetgroup": "BR + w/in 5km of Natural Areas",
         "orientation": "v",
         "showlegend": false,
         "textposition": "auto",
         "type": "bar",
         "x": [
          "BR + w/in 5km of Natural Areas"
         ],
         "xaxis": "x7",
         "y": [
          73973
         ],
         "yaxis": "y7"
        },
        {
         "alignmentgroup": "True",
         "hovertemplate": "variable=%{x}<br>region_name=new_mexico<br>value=%{y}<extra></extra>",
         "legendgroup": "BR + w/in 5km of Natural Areas",
         "marker": {
          "color": "rgb(135, 197, 95)",
          "pattern": {
           "shape": ""
          }
         },
         "name": "BR + w/in 5km of Natural Areas",
         "offsetgroup": "BR + w/in 5km of Natural Areas",
         "orientation": "v",
         "showlegend": false,
         "textposition": "auto",
         "type": "bar",
         "x": [
          "BR + w/in 5km of Natural Areas"
         ],
         "xaxis": "x6",
         "y": [
          140879
         ],
         "yaxis": "y6"
        },
        {
         "alignmentgroup": "True",
         "hovertemplate": "variable=%{x}<br>region_name=nevada<br>value=%{y}<extra></extra>",
         "legendgroup": "BR + w/in 5km of Natural Areas",
         "marker": {
          "color": "rgb(135, 197, 95)",
          "pattern": {
           "shape": ""
          }
         },
         "name": "BR + w/in 5km of Natural Areas",
         "offsetgroup": "BR + w/in 5km of Natural Areas",
         "orientation": "v",
         "showlegend": false,
         "textposition": "auto",
         "type": "bar",
         "x": [
          "BR + w/in 5km of Natural Areas"
         ],
         "xaxis": "x5",
         "y": [
          58064
         ],
         "yaxis": "y5"
        },
        {
         "alignmentgroup": "True",
         "hovertemplate": "variable=%{x}<br>region_name=oregon<br>value=%{y}<extra></extra>",
         "legendgroup": "BR + w/in 5km of Natural Areas",
         "marker": {
          "color": "rgb(135, 197, 95)",
          "pattern": {
           "shape": ""
          }
         },
         "name": "BR + w/in 5km of Natural Areas",
         "offsetgroup": "BR + w/in 5km of Natural Areas",
         "orientation": "v",
         "showlegend": false,
         "textposition": "auto",
         "type": "bar",
         "x": [
          "BR + w/in 5km of Natural Areas"
         ],
         "xaxis": "x4",
         "y": [
          24900
         ],
         "yaxis": "y4"
        },
        {
         "alignmentgroup": "True",
         "hovertemplate": "variable=%{x}<br>region_name=utah<br>value=%{y}<extra></extra>",
         "legendgroup": "BR + w/in 5km of Natural Areas",
         "marker": {
          "color": "rgb(135, 197, 95)",
          "pattern": {
           "shape": ""
          }
         },
         "name": "BR + w/in 5km of Natural Areas",
         "offsetgroup": "BR + w/in 5km of Natural Areas",
         "orientation": "v",
         "showlegend": false,
         "textposition": "auto",
         "type": "bar",
         "x": [
          "BR + w/in 5km of Natural Areas"
         ],
         "xaxis": "x3",
         "y": [
          35567
         ],
         "yaxis": "y3"
        },
        {
         "alignmentgroup": "True",
         "hovertemplate": "variable=%{x}<br>region_name=washington<br>value=%{y}<extra></extra>",
         "legendgroup": "BR + w/in 5km of Natural Areas",
         "marker": {
          "color": "rgb(135, 197, 95)",
          "pattern": {
           "shape": ""
          }
         },
         "name": "BR + w/in 5km of Natural Areas",
         "offsetgroup": "BR + w/in 5km of Natural Areas",
         "orientation": "v",
         "showlegend": false,
         "textposition": "auto",
         "type": "bar",
         "x": [
          "BR + w/in 5km of Natural Areas"
         ],
         "xaxis": "x2",
         "y": [
          27573
         ],
         "yaxis": "y2"
        },
        {
         "alignmentgroup": "True",
         "hovertemplate": "variable=%{x}<br>region_name=wyoming<br>value=%{y}<extra></extra>",
         "legendgroup": "BR + w/in 5km of Natural Areas",
         "marker": {
          "color": "rgb(135, 197, 95)",
          "pattern": {
           "shape": ""
          }
         },
         "name": "BR + w/in 5km of Natural Areas",
         "offsetgroup": "BR + w/in 5km of Natural Areas",
         "orientation": "v",
         "showlegend": false,
         "textposition": "auto",
         "type": "bar",
         "x": [
          "BR + w/in 5km of Natural Areas"
         ],
         "xaxis": "x",
         "y": [
          77349
         ],
         "yaxis": "y"
        },
        {
         "alignmentgroup": "True",
         "hovertemplate": "variable=%{x}<br>region_name=arizona<br>value=%{y}<extra></extra>",
         "legendgroup": "BR + w/in 10km of Natural Areas",
         "marker": {
          "color": "rgb(158, 185, 243)",
          "pattern": {
           "shape": ""
          }
         },
         "name": "BR + w/in 10km of Natural Areas",
         "offsetgroup": "BR + w/in 10km of Natural Areas",
         "orientation": "v",
         "showlegend": true,
         "textposition": "auto",
         "type": "bar",
         "x": [
          "BR + w/in 10km of Natural Areas"
         ],
         "xaxis": "x11",
         "y": [
          58685
         ],
         "yaxis": "y11"
        },
        {
         "alignmentgroup": "True",
         "hovertemplate": "variable=%{x}<br>region_name=california<br>value=%{y}<extra></extra>",
         "legendgroup": "BR + w/in 10km of Natural Areas",
         "marker": {
          "color": "rgb(158, 185, 243)",
          "pattern": {
           "shape": ""
          }
         },
         "name": "BR + w/in 10km of Natural Areas",
         "offsetgroup": "BR + w/in 10km of Natural Areas",
         "orientation": "v",
         "showlegend": false,
         "textposition": "auto",
         "type": "bar",
         "x": [
          "BR + w/in 10km of Natural Areas"
         ],
         "xaxis": "x10",
         "y": [
          12363
         ],
         "yaxis": "y10"
        },
        {
         "alignmentgroup": "True",
         "hovertemplate": "variable=%{x}<br>region_name=colorado<br>value=%{y}<extra></extra>",
         "legendgroup": "BR + w/in 10km of Natural Areas",
         "marker": {
          "color": "rgb(158, 185, 243)",
          "pattern": {
           "shape": ""
          }
         },
         "name": "BR + w/in 10km of Natural Areas",
         "offsetgroup": "BR + w/in 10km of Natural Areas",
         "orientation": "v",
         "showlegend": false,
         "textposition": "auto",
         "type": "bar",
         "x": [
          "BR + w/in 10km of Natural Areas"
         ],
         "xaxis": "x9",
         "y": [
          44812
         ],
         "yaxis": "y9"
        },
        {
         "alignmentgroup": "True",
         "hovertemplate": "variable=%{x}<br>region_name=idaho<br>value=%{y}<extra></extra>",
         "legendgroup": "BR + w/in 10km of Natural Areas",
         "marker": {
          "color": "rgb(158, 185, 243)",
          "pattern": {
           "shape": ""
          }
         },
         "name": "BR + w/in 10km of Natural Areas",
         "offsetgroup": "BR + w/in 10km of Natural Areas",
         "orientation": "v",
         "showlegend": false,
         "textposition": "auto",
         "type": "bar",
         "x": [
          "BR + w/in 10km of Natural Areas"
         ],
         "xaxis": "x8",
         "y": [
          7220
         ],
         "yaxis": "y8"
        },
        {
         "alignmentgroup": "True",
         "hovertemplate": "variable=%{x}<br>region_name=montana<br>value=%{y}<extra></extra>",
         "legendgroup": "BR + w/in 10km of Natural Areas",
         "marker": {
          "color": "rgb(158, 185, 243)",
          "pattern": {
           "shape": ""
          }
         },
         "name": "BR + w/in 10km of Natural Areas",
         "offsetgroup": "BR + w/in 10km of Natural Areas",
         "orientation": "v",
         "showlegend": false,
         "textposition": "auto",
         "type": "bar",
         "x": [
          "BR + w/in 10km of Natural Areas"
         ],
         "xaxis": "x7",
         "y": [
          22620
         ],
         "yaxis": "y7"
        },
        {
         "alignmentgroup": "True",
         "hovertemplate": "variable=%{x}<br>region_name=new_mexico<br>value=%{y}<extra></extra>",
         "legendgroup": "BR + w/in 10km of Natural Areas",
         "marker": {
          "color": "rgb(158, 185, 243)",
          "pattern": {
           "shape": ""
          }
         },
         "name": "BR + w/in 10km of Natural Areas",
         "offsetgroup": "BR + w/in 10km of Natural Areas",
         "orientation": "v",
         "showlegend": false,
         "textposition": "auto",
         "type": "bar",
         "x": [
          "BR + w/in 10km of Natural Areas"
         ],
         "xaxis": "x6",
         "y": [
          95623
         ],
         "yaxis": "y6"
        },
        {
         "alignmentgroup": "True",
         "hovertemplate": "variable=%{x}<br>region_name=nevada<br>value=%{y}<extra></extra>",
         "legendgroup": "BR + w/in 10km of Natural Areas",
         "marker": {
          "color": "rgb(158, 185, 243)",
          "pattern": {
           "shape": ""
          }
         },
         "name": "BR + w/in 10km of Natural Areas",
         "offsetgroup": "BR + w/in 10km of Natural Areas",
         "orientation": "v",
         "showlegend": false,
         "textposition": "auto",
         "type": "bar",
         "x": [
          "BR + w/in 10km of Natural Areas"
         ],
         "xaxis": "x5",
         "y": [
          31555
         ],
         "yaxis": "y5"
        },
        {
         "alignmentgroup": "True",
         "hovertemplate": "variable=%{x}<br>region_name=oregon<br>value=%{y}<extra></extra>",
         "legendgroup": "BR + w/in 10km of Natural Areas",
         "marker": {
          "color": "rgb(158, 185, 243)",
          "pattern": {
           "shape": ""
          }
         },
         "name": "BR + w/in 10km of Natural Areas",
         "offsetgroup": "BR + w/in 10km of Natural Areas",
         "orientation": "v",
         "showlegend": false,
         "textposition": "auto",
         "type": "bar",
         "x": [
          "BR + w/in 10km of Natural Areas"
         ],
         "xaxis": "x4",
         "y": [
          9672
         ],
         "yaxis": "y4"
        },
        {
         "alignmentgroup": "True",
         "hovertemplate": "variable=%{x}<br>region_name=utah<br>value=%{y}<extra></extra>",
         "legendgroup": "BR + w/in 10km of Natural Areas",
         "marker": {
          "color": "rgb(158, 185, 243)",
          "pattern": {
           "shape": ""
          }
         },
         "name": "BR + w/in 10km of Natural Areas",
         "offsetgroup": "BR + w/in 10km of Natural Areas",
         "orientation": "v",
         "showlegend": false,
         "textposition": "auto",
         "type": "bar",
         "x": [
          "BR + w/in 10km of Natural Areas"
         ],
         "xaxis": "x3",
         "y": [
          20191
         ],
         "yaxis": "y3"
        },
        {
         "alignmentgroup": "True",
         "hovertemplate": "variable=%{x}<br>region_name=washington<br>value=%{y}<extra></extra>",
         "legendgroup": "BR + w/in 10km of Natural Areas",
         "marker": {
          "color": "rgb(158, 185, 243)",
          "pattern": {
           "shape": ""
          }
         },
         "name": "BR + w/in 10km of Natural Areas",
         "offsetgroup": "BR + w/in 10km of Natural Areas",
         "orientation": "v",
         "showlegend": false,
         "textposition": "auto",
         "type": "bar",
         "x": [
          "BR + w/in 10km of Natural Areas"
         ],
         "xaxis": "x2",
         "y": [
          11489
         ],
         "yaxis": "y2"
        },
        {
         "alignmentgroup": "True",
         "hovertemplate": "variable=%{x}<br>region_name=wyoming<br>value=%{y}<extra></extra>",
         "legendgroup": "BR + w/in 10km of Natural Areas",
         "marker": {
          "color": "rgb(158, 185, 243)",
          "pattern": {
           "shape": ""
          }
         },
         "name": "BR + w/in 10km of Natural Areas",
         "offsetgroup": "BR + w/in 10km of Natural Areas",
         "orientation": "v",
         "showlegend": false,
         "textposition": "auto",
         "type": "bar",
         "x": [
          "BR + w/in 10km of Natural Areas"
         ],
         "xaxis": "x",
         "y": [
          35279
         ],
         "yaxis": "y"
        },
        {
         "alignmentgroup": "True",
         "hovertemplate": "variable=%{x}<br>region_name=arizona<br>value=%{y}<extra></extra>",
         "legendgroup": "BR + DACS, w/in 5km of Natural Area, and Important Farmland",
         "marker": {
          "color": "rgb(254, 136, 177)",
          "pattern": {
           "shape": ""
          }
         },
         "name": "BR + DACS, w/in 5km of Natural Area, and Important Farmland",
         "offsetgroup": "BR + DACS, w/in 5km of Natural Area, and Important Farmland",
         "orientation": "v",
         "showlegend": true,
         "textposition": "auto",
         "type": "bar",
         "x": [
          "BR + DACS, w/in 5km of Natural Area, and Important Farmland"
         ],
         "xaxis": "x11",
         "y": [
          29037
         ],
         "yaxis": "y11"
        },
        {
         "alignmentgroup": "True",
         "hovertemplate": "variable=%{x}<br>region_name=california<br>value=%{y}<extra></extra>",
         "legendgroup": "BR + DACS, w/in 5km of Natural Area, and Important Farmland",
         "marker": {
          "color": "rgb(254, 136, 177)",
          "pattern": {
           "shape": ""
          }
         },
         "name": "BR + DACS, w/in 5km of Natural Area, and Important Farmland",
         "offsetgroup": "BR + DACS, w/in 5km of Natural Area, and Important Farmland",
         "orientation": "v",
         "showlegend": false,
         "textposition": "auto",
         "type": "bar",
         "x": [
          "BR + DACS, w/in 5km of Natural Area, and Important Farmland"
         ],
         "xaxis": "x10",
         "y": [
          11447
         ],
         "yaxis": "y10"
        },
        {
         "alignmentgroup": "True",
         "hovertemplate": "variable=%{x}<br>region_name=colorado<br>value=%{y}<extra></extra>",
         "legendgroup": "BR + DACS, w/in 5km of Natural Area, and Important Farmland",
         "marker": {
          "color": "rgb(254, 136, 177)",
          "pattern": {
           "shape": ""
          }
         },
         "name": "BR + DACS, w/in 5km of Natural Area, and Important Farmland",
         "offsetgroup": "BR + DACS, w/in 5km of Natural Area, and Important Farmland",
         "orientation": "v",
         "showlegend": false,
         "textposition": "auto",
         "type": "bar",
         "x": [
          "BR + DACS, w/in 5km of Natural Area, and Important Farmland"
         ],
         "xaxis": "x9",
         "y": [
          33028
         ],
         "yaxis": "y9"
        },
        {
         "alignmentgroup": "True",
         "hovertemplate": "variable=%{x}<br>region_name=idaho<br>value=%{y}<extra></extra>",
         "legendgroup": "BR + DACS, w/in 5km of Natural Area, and Important Farmland",
         "marker": {
          "color": "rgb(254, 136, 177)",
          "pattern": {
           "shape": ""
          }
         },
         "name": "BR + DACS, w/in 5km of Natural Area, and Important Farmland",
         "offsetgroup": "BR + DACS, w/in 5km of Natural Area, and Important Farmland",
         "orientation": "v",
         "showlegend": false,
         "textposition": "auto",
         "type": "bar",
         "x": [
          "BR + DACS, w/in 5km of Natural Area, and Important Farmland"
         ],
         "xaxis": "x8",
         "y": [
          5924
         ],
         "yaxis": "y8"
        },
        {
         "alignmentgroup": "True",
         "hovertemplate": "variable=%{x}<br>region_name=montana<br>value=%{y}<extra></extra>",
         "legendgroup": "BR + DACS, w/in 5km of Natural Area, and Important Farmland",
         "marker": {
          "color": "rgb(254, 136, 177)",
          "pattern": {
           "shape": ""
          }
         },
         "name": "BR + DACS, w/in 5km of Natural Area, and Important Farmland",
         "offsetgroup": "BR + DACS, w/in 5km of Natural Area, and Important Farmland",
         "orientation": "v",
         "showlegend": false,
         "textposition": "auto",
         "type": "bar",
         "x": [
          "BR + DACS, w/in 5km of Natural Area, and Important Farmland"
         ],
         "xaxis": "x7",
         "y": [
          34122
         ],
         "yaxis": "y7"
        },
        {
         "alignmentgroup": "True",
         "hovertemplate": "variable=%{x}<br>region_name=new_mexico<br>value=%{y}<extra></extra>",
         "legendgroup": "BR + DACS, w/in 5km of Natural Area, and Important Farmland",
         "marker": {
          "color": "rgb(254, 136, 177)",
          "pattern": {
           "shape": ""
          }
         },
         "name": "BR + DACS, w/in 5km of Natural Area, and Important Farmland",
         "offsetgroup": "BR + DACS, w/in 5km of Natural Area, and Important Farmland",
         "orientation": "v",
         "showlegend": false,
         "textposition": "auto",
         "type": "bar",
         "x": [
          "BR + DACS, w/in 5km of Natural Area, and Important Farmland"
         ],
         "xaxis": "x6",
         "y": [
          13895
         ],
         "yaxis": "y6"
        },
        {
         "alignmentgroup": "True",
         "hovertemplate": "variable=%{x}<br>region_name=nevada<br>value=%{y}<extra></extra>",
         "legendgroup": "BR + DACS, w/in 5km of Natural Area, and Important Farmland",
         "marker": {
          "color": "rgb(254, 136, 177)",
          "pattern": {
           "shape": ""
          }
         },
         "name": "BR + DACS, w/in 5km of Natural Area, and Important Farmland",
         "offsetgroup": "BR + DACS, w/in 5km of Natural Area, and Important Farmland",
         "orientation": "v",
         "showlegend": false,
         "textposition": "auto",
         "type": "bar",
         "x": [
          "BR + DACS, w/in 5km of Natural Area, and Important Farmland"
         ],
         "xaxis": "x5",
         "y": [
          43722
         ],
         "yaxis": "y5"
        },
        {
         "alignmentgroup": "True",
         "hovertemplate": "variable=%{x}<br>region_name=oregon<br>value=%{y}<extra></extra>",
         "legendgroup": "BR + DACS, w/in 5km of Natural Area, and Important Farmland",
         "marker": {
          "color": "rgb(254, 136, 177)",
          "pattern": {
           "shape": ""
          }
         },
         "name": "BR + DACS, w/in 5km of Natural Area, and Important Farmland",
         "offsetgroup": "BR + DACS, w/in 5km of Natural Area, and Important Farmland",
         "orientation": "v",
         "showlegend": false,
         "textposition": "auto",
         "type": "bar",
         "x": [
          "BR + DACS, w/in 5km of Natural Area, and Important Farmland"
         ],
         "xaxis": "x4",
         "y": [
          1582
         ],
         "yaxis": "y4"
        },
        {
         "alignmentgroup": "True",
         "hovertemplate": "variable=%{x}<br>region_name=utah<br>value=%{y}<extra></extra>",
         "legendgroup": "BR + DACS, w/in 5km of Natural Area, and Important Farmland",
         "marker": {
          "color": "rgb(254, 136, 177)",
          "pattern": {
           "shape": ""
          }
         },
         "name": "BR + DACS, w/in 5km of Natural Area, and Important Farmland",
         "offsetgroup": "BR + DACS, w/in 5km of Natural Area, and Important Farmland",
         "orientation": "v",
         "showlegend": false,
         "textposition": "auto",
         "type": "bar",
         "x": [
          "BR + DACS, w/in 5km of Natural Area, and Important Farmland"
         ],
         "xaxis": "x3",
         "y": [
          19698
         ],
         "yaxis": "y3"
        },
        {
         "alignmentgroup": "True",
         "hovertemplate": "variable=%{x}<br>region_name=washington<br>value=%{y}<extra></extra>",
         "legendgroup": "BR + DACS, w/in 5km of Natural Area, and Important Farmland",
         "marker": {
          "color": "rgb(254, 136, 177)",
          "pattern": {
           "shape": ""
          }
         },
         "name": "BR + DACS, w/in 5km of Natural Area, and Important Farmland",
         "offsetgroup": "BR + DACS, w/in 5km of Natural Area, and Important Farmland",
         "orientation": "v",
         "showlegend": false,
         "textposition": "auto",
         "type": "bar",
         "x": [
          "BR + DACS, w/in 5km of Natural Area, and Important Farmland"
         ],
         "xaxis": "x2",
         "y": [
          5980
         ],
         "yaxis": "y2"
        },
        {
         "alignmentgroup": "True",
         "hovertemplate": "variable=%{x}<br>region_name=wyoming<br>value=%{y}<extra></extra>",
         "legendgroup": "BR + DACS, w/in 5km of Natural Area, and Important Farmland",
         "marker": {
          "color": "rgb(254, 136, 177)",
          "pattern": {
           "shape": ""
          }
         },
         "name": "BR + DACS, w/in 5km of Natural Area, and Important Farmland",
         "offsetgroup": "BR + DACS, w/in 5km of Natural Area, and Important Farmland",
         "orientation": "v",
         "showlegend": false,
         "textposition": "auto",
         "type": "bar",
         "x": [
          "BR + DACS, w/in 5km of Natural Area, and Important Farmland"
         ],
         "xaxis": "x",
         "y": [
          66940
         ],
         "yaxis": "y"
        },
        {
         "alignmentgroup": "True",
         "hovertemplate": "variable=%{x}<br>region_name=arizona<br>value=%{y}<extra></extra>",
         "legendgroup": "BR + w/in 5km of Natural Area and Important Farmland",
         "marker": {
          "color": "rgb(201, 219, 116)",
          "pattern": {
           "shape": ""
          }
         },
         "name": "BR + w/in 5km of Natural Area and Important Farmland",
         "offsetgroup": "BR + w/in 5km of Natural Area and Important Farmland",
         "orientation": "v",
         "showlegend": true,
         "textposition": "auto",
         "type": "bar",
         "x": [
          "BR + w/in 5km of Natural Area and Important Farmland"
         ],
         "xaxis": "x11",
         "y": [
          94923
         ],
         "yaxis": "y11"
        },
        {
         "alignmentgroup": "True",
         "hovertemplate": "variable=%{x}<br>region_name=california<br>value=%{y}<extra></extra>",
         "legendgroup": "BR + w/in 5km of Natural Area and Important Farmland",
         "marker": {
          "color": "rgb(201, 219, 116)",
          "pattern": {
           "shape": ""
          }
         },
         "name": "BR + w/in 5km of Natural Area and Important Farmland",
         "offsetgroup": "BR + w/in 5km of Natural Area and Important Farmland",
         "orientation": "v",
         "showlegend": false,
         "textposition": "auto",
         "type": "bar",
         "x": [
          "BR + w/in 5km of Natural Area and Important Farmland"
         ],
         "xaxis": "x10",
         "y": [
          28055
         ],
         "yaxis": "y10"
        },
        {
         "alignmentgroup": "True",
         "hovertemplate": "variable=%{x}<br>region_name=colorado<br>value=%{y}<extra></extra>",
         "legendgroup": "BR + w/in 5km of Natural Area and Important Farmland",
         "marker": {
          "color": "rgb(201, 219, 116)",
          "pattern": {
           "shape": ""
          }
         },
         "name": "BR + w/in 5km of Natural Area and Important Farmland",
         "offsetgroup": "BR + w/in 5km of Natural Area and Important Farmland",
         "orientation": "v",
         "showlegend": false,
         "textposition": "auto",
         "type": "bar",
         "x": [
          "BR + w/in 5km of Natural Area and Important Farmland"
         ],
         "xaxis": "x9",
         "y": [
          67459
         ],
         "yaxis": "y9"
        },
        {
         "alignmentgroup": "True",
         "hovertemplate": "variable=%{x}<br>region_name=idaho<br>value=%{y}<extra></extra>",
         "legendgroup": "BR + w/in 5km of Natural Area and Important Farmland",
         "marker": {
          "color": "rgb(201, 219, 116)",
          "pattern": {
           "shape": ""
          }
         },
         "name": "BR + w/in 5km of Natural Area and Important Farmland",
         "offsetgroup": "BR + w/in 5km of Natural Area and Important Farmland",
         "orientation": "v",
         "showlegend": false,
         "textposition": "auto",
         "type": "bar",
         "x": [
          "BR + w/in 5km of Natural Area and Important Farmland"
         ],
         "xaxis": "x8",
         "y": [
          24319
         ],
         "yaxis": "y8"
        },
        {
         "alignmentgroup": "True",
         "hovertemplate": "variable=%{x}<br>region_name=montana<br>value=%{y}<extra></extra>",
         "legendgroup": "BR + w/in 5km of Natural Area and Important Farmland",
         "marker": {
          "color": "rgb(201, 219, 116)",
          "pattern": {
           "shape": ""
          }
         },
         "name": "BR + w/in 5km of Natural Area and Important Farmland",
         "offsetgroup": "BR + w/in 5km of Natural Area and Important Farmland",
         "orientation": "v",
         "showlegend": false,
         "textposition": "auto",
         "type": "bar",
         "x": [
          "BR + w/in 5km of Natural Area and Important Farmland"
         ],
         "xaxis": "x7",
         "y": [
          63629
         ],
         "yaxis": "y7"
        },
        {
         "alignmentgroup": "True",
         "hovertemplate": "variable=%{x}<br>region_name=new_mexico<br>value=%{y}<extra></extra>",
         "legendgroup": "BR + w/in 5km of Natural Area and Important Farmland",
         "marker": {
          "color": "rgb(201, 219, 116)",
          "pattern": {
           "shape": ""
          }
         },
         "name": "BR + w/in 5km of Natural Area and Important Farmland",
         "offsetgroup": "BR + w/in 5km of Natural Area and Important Farmland",
         "orientation": "v",
         "showlegend": false,
         "textposition": "auto",
         "type": "bar",
         "x": [
          "BR + w/in 5km of Natural Area and Important Farmland"
         ],
         "xaxis": "x6",
         "y": [
          123471
         ],
         "yaxis": "y6"
        },
        {
         "alignmentgroup": "True",
         "hovertemplate": "variable=%{x}<br>region_name=nevada<br>value=%{y}<extra></extra>",
         "legendgroup": "BR + w/in 5km of Natural Area and Important Farmland",
         "marker": {
          "color": "rgb(201, 219, 116)",
          "pattern": {
           "shape": ""
          }
         },
         "name": "BR + w/in 5km of Natural Area and Important Farmland",
         "offsetgroup": "BR + w/in 5km of Natural Area and Important Farmland",
         "orientation": "v",
         "showlegend": false,
         "textposition": "auto",
         "type": "bar",
         "x": [
          "BR + w/in 5km of Natural Area and Important Farmland"
         ],
         "xaxis": "x5",
         "y": [
          58022
         ],
         "yaxis": "y5"
        },
        {
         "alignmentgroup": "True",
         "hovertemplate": "variable=%{x}<br>region_name=oregon<br>value=%{y}<extra></extra>",
         "legendgroup": "BR + w/in 5km of Natural Area and Important Farmland",
         "marker": {
          "color": "rgb(201, 219, 116)",
          "pattern": {
           "shape": ""
          }
         },
         "name": "BR + w/in 5km of Natural Area and Important Farmland",
         "offsetgroup": "BR + w/in 5km of Natural Area and Important Farmland",
         "orientation": "v",
         "showlegend": false,
         "textposition": "auto",
         "type": "bar",
         "x": [
          "BR + w/in 5km of Natural Area and Important Farmland"
         ],
         "xaxis": "x4",
         "y": [
          10776
         ],
         "yaxis": "y4"
        },
        {
         "alignmentgroup": "True",
         "hovertemplate": "variable=%{x}<br>region_name=utah<br>value=%{y}<extra></extra>",
         "legendgroup": "BR + w/in 5km of Natural Area and Important Farmland",
         "marker": {
          "color": "rgb(201, 219, 116)",
          "pattern": {
           "shape": ""
          }
         },
         "name": "BR + w/in 5km of Natural Area and Important Farmland",
         "offsetgroup": "BR + w/in 5km of Natural Area and Important Farmland",
         "orientation": "v",
         "showlegend": false,
         "textposition": "auto",
         "type": "bar",
         "x": [
          "BR + w/in 5km of Natural Area and Important Farmland"
         ],
         "xaxis": "x3",
         "y": [
          33048
         ],
         "yaxis": "y3"
        },
        {
         "alignmentgroup": "True",
         "hovertemplate": "variable=%{x}<br>region_name=washington<br>value=%{y}<extra></extra>",
         "legendgroup": "BR + w/in 5km of Natural Area and Important Farmland",
         "marker": {
          "color": "rgb(201, 219, 116)",
          "pattern": {
           "shape": ""
          }
         },
         "name": "BR + w/in 5km of Natural Area and Important Farmland",
         "offsetgroup": "BR + w/in 5km of Natural Area and Important Farmland",
         "orientation": "v",
         "showlegend": false,
         "textposition": "auto",
         "type": "bar",
         "x": [
          "BR + w/in 5km of Natural Area and Important Farmland"
         ],
         "xaxis": "x2",
         "y": [
          14369
         ],
         "yaxis": "y2"
        },
        {
         "alignmentgroup": "True",
         "hovertemplate": "variable=%{x}<br>region_name=wyoming<br>value=%{y}<extra></extra>",
         "legendgroup": "BR + w/in 5km of Natural Area and Important Farmland",
         "marker": {
          "color": "rgb(201, 219, 116)",
          "pattern": {
           "shape": ""
          }
         },
         "name": "BR + w/in 5km of Natural Area and Important Farmland",
         "offsetgroup": "BR + w/in 5km of Natural Area and Important Farmland",
         "orientation": "v",
         "showlegend": false,
         "textposition": "auto",
         "type": "bar",
         "x": [
          "BR + w/in 5km of Natural Area and Important Farmland"
         ],
         "xaxis": "x",
         "y": [
          76781
         ],
         "yaxis": "y"
        },
        {
         "alignmentgroup": "True",
         "hovertemplate": "variable=%{x}<br>region_name=arizona<br>value=%{y}<extra></extra>",
         "legendgroup": "BR + w/in 10km of Natural Area and Important Farmland",
         "marker": {
          "color": "rgb(139, 224, 164)",
          "pattern": {
           "shape": ""
          }
         },
         "name": "BR + w/in 10km of Natural Area and Important Farmland",
         "offsetgroup": "BR + w/in 10km of Natural Area and Important Farmland",
         "orientation": "v",
         "showlegend": true,
         "textposition": "auto",
         "type": "bar",
         "x": [
          "BR + w/in 10km of Natural Area and Important Farmland"
         ],
         "xaxis": "x11",
         "y": [
          58270
         ],
         "yaxis": "y11"
        },
        {
         "alignmentgroup": "True",
         "hovertemplate": "variable=%{x}<br>region_name=california<br>value=%{y}<extra></extra>",
         "legendgroup": "BR + w/in 10km of Natural Area and Important Farmland",
         "marker": {
          "color": "rgb(139, 224, 164)",
          "pattern": {
           "shape": ""
          }
         },
         "name": "BR + w/in 10km of Natural Area and Important Farmland",
         "offsetgroup": "BR + w/in 10km of Natural Area and Important Farmland",
         "orientation": "v",
         "showlegend": false,
         "textposition": "auto",
         "type": "bar",
         "x": [
          "BR + w/in 10km of Natural Area and Important Farmland"
         ],
         "xaxis": "x10",
         "y": [
          9345
         ],
         "yaxis": "y10"
        },
        {
         "alignmentgroup": "True",
         "hovertemplate": "variable=%{x}<br>region_name=colorado<br>value=%{y}<extra></extra>",
         "legendgroup": "BR + w/in 10km of Natural Area and Important Farmland",
         "marker": {
          "color": "rgb(139, 224, 164)",
          "pattern": {
           "shape": ""
          }
         },
         "name": "BR + w/in 10km of Natural Area and Important Farmland",
         "offsetgroup": "BR + w/in 10km of Natural Area and Important Farmland",
         "orientation": "v",
         "showlegend": false,
         "textposition": "auto",
         "type": "bar",
         "x": [
          "BR + w/in 10km of Natural Area and Important Farmland"
         ],
         "xaxis": "x9",
         "y": [
          40765
         ],
         "yaxis": "y9"
        },
        {
         "alignmentgroup": "True",
         "hovertemplate": "variable=%{x}<br>region_name=idaho<br>value=%{y}<extra></extra>",
         "legendgroup": "BR + w/in 10km of Natural Area and Important Farmland",
         "marker": {
          "color": "rgb(139, 224, 164)",
          "pattern": {
           "shape": ""
          }
         },
         "name": "BR + w/in 10km of Natural Area and Important Farmland",
         "offsetgroup": "BR + w/in 10km of Natural Area and Important Farmland",
         "orientation": "v",
         "showlegend": false,
         "textposition": "auto",
         "type": "bar",
         "x": [
          "BR + w/in 10km of Natural Area and Important Farmland"
         ],
         "xaxis": "x8",
         "y": [
          6999
         ],
         "yaxis": "y8"
        },
        {
         "alignmentgroup": "True",
         "hovertemplate": "variable=%{x}<br>region_name=montana<br>value=%{y}<extra></extra>",
         "legendgroup": "BR + w/in 10km of Natural Area and Important Farmland",
         "marker": {
          "color": "rgb(139, 224, 164)",
          "pattern": {
           "shape": ""
          }
         },
         "name": "BR + w/in 10km of Natural Area and Important Farmland",
         "offsetgroup": "BR + w/in 10km of Natural Area and Important Farmland",
         "orientation": "v",
         "showlegend": false,
         "textposition": "auto",
         "type": "bar",
         "x": [
          "BR + w/in 10km of Natural Area and Important Farmland"
         ],
         "xaxis": "x7",
         "y": [
          19598
         ],
         "yaxis": "y7"
        },
        {
         "alignmentgroup": "True",
         "hovertemplate": "variable=%{x}<br>region_name=new_mexico<br>value=%{y}<extra></extra>",
         "legendgroup": "BR + w/in 10km of Natural Area and Important Farmland",
         "marker": {
          "color": "rgb(139, 224, 164)",
          "pattern": {
           "shape": ""
          }
         },
         "name": "BR + w/in 10km of Natural Area and Important Farmland",
         "offsetgroup": "BR + w/in 10km of Natural Area and Important Farmland",
         "orientation": "v",
         "showlegend": false,
         "textposition": "auto",
         "type": "bar",
         "x": [
          "BR + w/in 10km of Natural Area and Important Farmland"
         ],
         "xaxis": "x6",
         "y": [
          82948
         ],
         "yaxis": "y6"
        },
        {
         "alignmentgroup": "True",
         "hovertemplate": "variable=%{x}<br>region_name=nevada<br>value=%{y}<extra></extra>",
         "legendgroup": "BR + w/in 10km of Natural Area and Important Farmland",
         "marker": {
          "color": "rgb(139, 224, 164)",
          "pattern": {
           "shape": ""
          }
         },
         "name": "BR + w/in 10km of Natural Area and Important Farmland",
         "offsetgroup": "BR + w/in 10km of Natural Area and Important Farmland",
         "orientation": "v",
         "showlegend": false,
         "textposition": "auto",
         "type": "bar",
         "x": [
          "BR + w/in 10km of Natural Area and Important Farmland"
         ],
         "xaxis": "x5",
         "y": [
          31536
         ],
         "yaxis": "y5"
        },
        {
         "alignmentgroup": "True",
         "hovertemplate": "variable=%{x}<br>region_name=oregon<br>value=%{y}<extra></extra>",
         "legendgroup": "BR + w/in 10km of Natural Area and Important Farmland",
         "marker": {
          "color": "rgb(139, 224, 164)",
          "pattern": {
           "shape": ""
          }
         },
         "name": "BR + w/in 10km of Natural Area and Important Farmland",
         "offsetgroup": "BR + w/in 10km of Natural Area and Important Farmland",
         "orientation": "v",
         "showlegend": false,
         "textposition": "auto",
         "type": "bar",
         "x": [
          "BR + w/in 10km of Natural Area and Important Farmland"
         ],
         "xaxis": "x4",
         "y": [
          4147
         ],
         "yaxis": "y4"
        },
        {
         "alignmentgroup": "True",
         "hovertemplate": "variable=%{x}<br>region_name=utah<br>value=%{y}<extra></extra>",
         "legendgroup": "BR + w/in 10km of Natural Area and Important Farmland",
         "marker": {
          "color": "rgb(139, 224, 164)",
          "pattern": {
           "shape": ""
          }
         },
         "name": "BR + w/in 10km of Natural Area and Important Farmland",
         "offsetgroup": "BR + w/in 10km of Natural Area and Important Farmland",
         "orientation": "v",
         "showlegend": false,
         "textposition": "auto",
         "type": "bar",
         "x": [
          "BR + w/in 10km of Natural Area and Important Farmland"
         ],
         "xaxis": "x3",
         "y": [
          19213
         ],
         "yaxis": "y3"
        },
        {
         "alignmentgroup": "True",
         "hovertemplate": "variable=%{x}<br>region_name=washington<br>value=%{y}<extra></extra>",
         "legendgroup": "BR + w/in 10km of Natural Area and Important Farmland",
         "marker": {
          "color": "rgb(139, 224, 164)",
          "pattern": {
           "shape": ""
          }
         },
         "name": "BR + w/in 10km of Natural Area and Important Farmland",
         "offsetgroup": "BR + w/in 10km of Natural Area and Important Farmland",
         "orientation": "v",
         "showlegend": false,
         "textposition": "auto",
         "type": "bar",
         "x": [
          "BR + w/in 10km of Natural Area and Important Farmland"
         ],
         "xaxis": "x2",
         "y": [
          6037
         ],
         "yaxis": "y2"
        },
        {
         "alignmentgroup": "True",
         "hovertemplate": "variable=%{x}<br>region_name=wyoming<br>value=%{y}<extra></extra>",
         "legendgroup": "BR + w/in 10km of Natural Area and Important Farmland",
         "marker": {
          "color": "rgb(139, 224, 164)",
          "pattern": {
           "shape": ""
          }
         },
         "name": "BR + w/in 10km of Natural Area and Important Farmland",
         "offsetgroup": "BR + w/in 10km of Natural Area and Important Farmland",
         "orientation": "v",
         "showlegend": false,
         "textposition": "auto",
         "type": "bar",
         "x": [
          "BR + w/in 10km of Natural Area and Important Farmland"
         ],
         "xaxis": "x",
         "y": [
          35039
         ],
         "yaxis": "y"
        }
       ],
       "layout": {
        "annotations": [
         {
          "showarrow": false,
          "text": "",
          "textangle": 90,
          "x": 0.98,
          "xanchor": "left",
          "xref": "paper",
          "y": 0.031818181818181815,
          "yanchor": "middle",
          "yref": "paper"
         },
         {
          "showarrow": false,
          "text": "",
          "textangle": 90,
          "x": 0.98,
          "xanchor": "left",
          "xref": "paper",
          "y": 0.12545454545454543,
          "yanchor": "middle",
          "yref": "paper"
         },
         {
          "showarrow": false,
          "text": "",
          "textangle": 90,
          "x": 0.98,
          "xanchor": "left",
          "xref": "paper",
          "y": 0.21909090909090906,
          "yanchor": "middle",
          "yref": "paper"
         },
         {
          "showarrow": false,
          "text": "",
          "textangle": 90,
          "x": 0.98,
          "xanchor": "left",
          "xref": "paper",
          "y": 0.3127272727272727,
          "yanchor": "middle",
          "yref": "paper"
         },
         {
          "showarrow": false,
          "text": "",
          "textangle": 90,
          "x": 0.98,
          "xanchor": "left",
          "xref": "paper",
          "y": 0.4063636363636363,
          "yanchor": "middle",
          "yref": "paper"
         },
         {
          "showarrow": false,
          "text": "",
          "textangle": 90,
          "x": 0.98,
          "xanchor": "left",
          "xref": "paper",
          "y": 0.49999999999999994,
          "yanchor": "middle",
          "yref": "paper"
         },
         {
          "showarrow": false,
          "text": "",
          "textangle": 90,
          "x": 0.98,
          "xanchor": "left",
          "xref": "paper",
          "y": 0.5936363636363635,
          "yanchor": "middle",
          "yref": "paper"
         },
         {
          "showarrow": false,
          "text": "",
          "textangle": 90,
          "x": 0.98,
          "xanchor": "left",
          "xref": "paper",
          "y": 0.687272727272727,
          "yanchor": "middle",
          "yref": "paper"
         },
         {
          "showarrow": false,
          "text": "",
          "textangle": 90,
          "x": 0.98,
          "xanchor": "left",
          "xref": "paper",
          "y": 0.7809090909090908,
          "yanchor": "middle",
          "yref": "paper"
         },
         {
          "showarrow": false,
          "text": "",
          "textangle": 90,
          "x": 0.98,
          "xanchor": "left",
          "xref": "paper",
          "y": 0.8745454545454543,
          "yanchor": "middle",
          "yref": "paper"
         },
         {
          "showarrow": false,
          "text": "",
          "textangle": 90,
          "x": 0.98,
          "xanchor": "left",
          "xref": "paper",
          "y": 0.9681818181818178,
          "yanchor": "middle",
          "yref": "paper"
         },
         {
          "font": {
           "size": 16
          },
          "showarrow": false,
          "text": "Arizona",
          "x": 0.5,
          "xref": "paper",
          "y": 1.01,
          "yref": "paper"
         },
         {
          "font": {
           "size": 16
          },
          "showarrow": false,
          "text": "California",
          "x": 0.5,
          "xref": "paper",
          "y": 0.915,
          "yref": "paper"
         },
         {
          "font": {
           "size": 16
          },
          "showarrow": false,
          "text": "Colorado",
          "x": 0.5,
          "xref": "paper",
          "y": 0.8200000000000001,
          "yref": "paper"
         },
         {
          "font": {
           "size": 16
          },
          "showarrow": false,
          "text": "Idaho",
          "x": 0.5,
          "xref": "paper",
          "y": 0.7250000000000001,
          "yref": "paper"
         },
         {
          "font": {
           "size": 16
          },
          "showarrow": false,
          "text": "Montana",
          "x": 0.5,
          "xref": "paper",
          "y": 0.6300000000000001,
          "yref": "paper"
         },
         {
          "font": {
           "size": 16
          },
          "showarrow": false,
          "text": "New_Mexico",
          "x": 0.5,
          "xref": "paper",
          "y": 0.5350000000000001,
          "yref": "paper"
         },
         {
          "font": {
           "size": 16
          },
          "showarrow": false,
          "text": "Nevada",
          "x": 0.5,
          "xref": "paper",
          "y": 0.44000000000000017,
          "yref": "paper"
         },
         {
          "font": {
           "size": 16
          },
          "showarrow": false,
          "text": "Oregon",
          "x": 0.5,
          "xref": "paper",
          "y": 0.3450000000000002,
          "yref": "paper"
         },
         {
          "font": {
           "size": 16
          },
          "showarrow": false,
          "text": "Utah",
          "x": 0.5,
          "xref": "paper",
          "y": 0.2500000000000002,
          "yref": "paper"
         },
         {
          "font": {
           "size": 16
          },
          "showarrow": false,
          "text": "Washington",
          "x": 0.5,
          "xref": "paper",
          "y": 0.15500000000000022,
          "yref": "paper"
         },
         {
          "font": {
           "size": 16
          },
          "showarrow": false,
          "text": "Wyoming",
          "x": 0.5,
          "xref": "paper",
          "y": 0.06000000000000022,
          "yref": "paper"
         },
         {
          "showarrow": false,
          "text": "Clean Grid Required Land by 2050",
          "x": 0,
          "xanchor": "left",
          "xref": "x11 domain",
          "y": 715,
          "yanchor": "bottom",
          "yref": "y11"
         },
         {
          "showarrow": false,
          "text": "Clean Grid Required Land by 2050",
          "x": 0,
          "xanchor": "left",
          "xref": "x10 domain",
          "y": 3066,
          "yanchor": "bottom",
          "yref": "y10"
         },
         {
          "showarrow": false,
          "text": "Clean Grid Required Land by 2050",
          "x": 0,
          "xanchor": "left",
          "xref": "x9 domain",
          "y": 1596,
          "yanchor": "bottom",
          "yref": "y9"
         },
         {
          "showarrow": false,
          "text": "Clean Grid Required Land by 2050",
          "x": 0,
          "xanchor": "left",
          "xref": "x8 domain",
          "y": 336,
          "yanchor": "bottom",
          "yref": "y8"
         },
         {
          "showarrow": false,
          "text": "Clean Grid Required Land by 2050",
          "x": 0,
          "xanchor": "left",
          "xref": "x7 domain",
          "y": 2921,
          "yanchor": "bottom",
          "yref": "y7"
         },
         {
          "showarrow": false,
          "text": "Clean Grid Required Land by 2050",
          "x": 0,
          "xanchor": "left",
          "xref": "x6 domain",
          "y": 1081,
          "yanchor": "bottom",
          "yref": "y6"
         },
         {
          "showarrow": false,
          "text": "Clean Grid Required Land by 2050",
          "x": 0,
          "xanchor": "left",
          "xref": "x5 domain",
          "y": 252,
          "yanchor": "bottom",
          "yref": "y5"
         },
         {
          "showarrow": false,
          "text": "Clean Grid Required Land by 2050",
          "x": 0,
          "xanchor": "left",
          "xref": "x4 domain",
          "y": 695,
          "yanchor": "bottom",
          "yref": "y4"
         },
         {
          "showarrow": false,
          "text": "Clean Grid Required Land by 2050",
          "x": 0,
          "xanchor": "left",
          "xref": "x3 domain",
          "y": 878,
          "yanchor": "bottom",
          "yref": "y3"
         },
         {
          "showarrow": false,
          "text": "Clean Grid Required Land by 2050",
          "x": 0,
          "xanchor": "left",
          "xref": "x2 domain",
          "y": 641,
          "yanchor": "bottom",
          "yref": "y2"
         },
         {
          "showarrow": false,
          "text": "Clean Grid Required Land by 2050",
          "x": 0,
          "xanchor": "left",
          "xref": "x domain",
          "y": 2186,
          "yanchor": "bottom",
          "yref": "y"
         }
        ],
        "barmode": "relative",
        "height": 2000,
        "legend": {
         "title": {
          "text": "variable"
         },
         "tracegroupgap": 0
        },
        "margin": {
         "t": 60
        },
        "paper_bgcolor": "white",
        "plot_bgcolor": "white",
        "shapes": [
         {
          "line": {
           "dash": "dot",
           "width": 2
          },
          "type": "line",
          "x0": 0,
          "x1": 1,
          "xref": "x11 domain",
          "y0": 715,
          "y1": 715,
          "yref": "y11"
         },
         {
          "line": {
           "dash": "dot",
           "width": 2
          },
          "type": "line",
          "x0": 0,
          "x1": 1,
          "xref": "x10 domain",
          "y0": 3066,
          "y1": 3066,
          "yref": "y10"
         },
         {
          "line": {
           "dash": "dot",
           "width": 2
          },
          "type": "line",
          "x0": 0,
          "x1": 1,
          "xref": "x9 domain",
          "y0": 1596,
          "y1": 1596,
          "yref": "y9"
         },
         {
          "line": {
           "dash": "dot",
           "width": 2
          },
          "type": "line",
          "x0": 0,
          "x1": 1,
          "xref": "x8 domain",
          "y0": 336,
          "y1": 336,
          "yref": "y8"
         },
         {
          "line": {
           "dash": "dot",
           "width": 2
          },
          "type": "line",
          "x0": 0,
          "x1": 1,
          "xref": "x7 domain",
          "y0": 2921,
          "y1": 2921,
          "yref": "y7"
         },
         {
          "line": {
           "dash": "dot",
           "width": 2
          },
          "type": "line",
          "x0": 0,
          "x1": 1,
          "xref": "x6 domain",
          "y0": 1081,
          "y1": 1081,
          "yref": "y6"
         },
         {
          "line": {
           "dash": "dot",
           "width": 2
          },
          "type": "line",
          "x0": 0,
          "x1": 1,
          "xref": "x5 domain",
          "y0": 252,
          "y1": 252,
          "yref": "y5"
         },
         {
          "line": {
           "dash": "dot",
           "width": 2
          },
          "type": "line",
          "x0": 0,
          "x1": 1,
          "xref": "x4 domain",
          "y0": 695,
          "y1": 695,
          "yref": "y4"
         },
         {
          "line": {
           "dash": "dot",
           "width": 2
          },
          "type": "line",
          "x0": 0,
          "x1": 1,
          "xref": "x3 domain",
          "y0": 878,
          "y1": 878,
          "yref": "y3"
         },
         {
          "line": {
           "dash": "dot",
           "width": 2
          },
          "type": "line",
          "x0": 0,
          "x1": 1,
          "xref": "x2 domain",
          "y0": 641,
          "y1": 641,
          "yref": "y2"
         },
         {
          "line": {
           "dash": "dot",
           "width": 2
          },
          "type": "line",
          "x0": 0,
          "x1": 1,
          "xref": "x domain",
          "y0": 2186,
          "y1": 2186,
          "yref": "y"
         }
        ],
        "showlegend": false,
        "template": {
         "data": {
          "bar": [
           {
            "error_x": {
             "color": "#2a3f5f"
            },
            "error_y": {
             "color": "#2a3f5f"
            },
            "marker": {
             "line": {
              "color": "#E5ECF6",
              "width": 0.5
             },
             "pattern": {
              "fillmode": "overlay",
              "size": 10,
              "solidity": 0.2
             }
            },
            "type": "bar"
           }
          ],
          "barpolar": [
           {
            "marker": {
             "line": {
              "color": "#E5ECF6",
              "width": 0.5
             },
             "pattern": {
              "fillmode": "overlay",
              "size": 10,
              "solidity": 0.2
             }
            },
            "type": "barpolar"
           }
          ],
          "carpet": [
           {
            "aaxis": {
             "endlinecolor": "#2a3f5f",
             "gridcolor": "white",
             "linecolor": "white",
             "minorgridcolor": "white",
             "startlinecolor": "#2a3f5f"
            },
            "baxis": {
             "endlinecolor": "#2a3f5f",
             "gridcolor": "white",
             "linecolor": "white",
             "minorgridcolor": "white",
             "startlinecolor": "#2a3f5f"
            },
            "type": "carpet"
           }
          ],
          "choropleth": [
           {
            "colorbar": {
             "outlinewidth": 0,
             "ticks": ""
            },
            "type": "choropleth"
           }
          ],
          "contour": [
           {
            "colorbar": {
             "outlinewidth": 0,
             "ticks": ""
            },
            "colorscale": [
             [
              0,
              "#0d0887"
             ],
             [
              0.1111111111111111,
              "#46039f"
             ],
             [
              0.2222222222222222,
              "#7201a8"
             ],
             [
              0.3333333333333333,
              "#9c179e"
             ],
             [
              0.4444444444444444,
              "#bd3786"
             ],
             [
              0.5555555555555556,
              "#d8576b"
             ],
             [
              0.6666666666666666,
              "#ed7953"
             ],
             [
              0.7777777777777778,
              "#fb9f3a"
             ],
             [
              0.8888888888888888,
              "#fdca26"
             ],
             [
              1,
              "#f0f921"
             ]
            ],
            "type": "contour"
           }
          ],
          "contourcarpet": [
           {
            "colorbar": {
             "outlinewidth": 0,
             "ticks": ""
            },
            "type": "contourcarpet"
           }
          ],
          "heatmap": [
           {
            "colorbar": {
             "outlinewidth": 0,
             "ticks": ""
            },
            "colorscale": [
             [
              0,
              "#0d0887"
             ],
             [
              0.1111111111111111,
              "#46039f"
             ],
             [
              0.2222222222222222,
              "#7201a8"
             ],
             [
              0.3333333333333333,
              "#9c179e"
             ],
             [
              0.4444444444444444,
              "#bd3786"
             ],
             [
              0.5555555555555556,
              "#d8576b"
             ],
             [
              0.6666666666666666,
              "#ed7953"
             ],
             [
              0.7777777777777778,
              "#fb9f3a"
             ],
             [
              0.8888888888888888,
              "#fdca26"
             ],
             [
              1,
              "#f0f921"
             ]
            ],
            "type": "heatmap"
           }
          ],
          "heatmapgl": [
           {
            "colorbar": {
             "outlinewidth": 0,
             "ticks": ""
            },
            "colorscale": [
             [
              0,
              "#0d0887"
             ],
             [
              0.1111111111111111,
              "#46039f"
             ],
             [
              0.2222222222222222,
              "#7201a8"
             ],
             [
              0.3333333333333333,
              "#9c179e"
             ],
             [
              0.4444444444444444,
              "#bd3786"
             ],
             [
              0.5555555555555556,
              "#d8576b"
             ],
             [
              0.6666666666666666,
              "#ed7953"
             ],
             [
              0.7777777777777778,
              "#fb9f3a"
             ],
             [
              0.8888888888888888,
              "#fdca26"
             ],
             [
              1,
              "#f0f921"
             ]
            ],
            "type": "heatmapgl"
           }
          ],
          "histogram": [
           {
            "marker": {
             "pattern": {
              "fillmode": "overlay",
              "size": 10,
              "solidity": 0.2
             }
            },
            "type": "histogram"
           }
          ],
          "histogram2d": [
           {
            "colorbar": {
             "outlinewidth": 0,
             "ticks": ""
            },
            "colorscale": [
             [
              0,
              "#0d0887"
             ],
             [
              0.1111111111111111,
              "#46039f"
             ],
             [
              0.2222222222222222,
              "#7201a8"
             ],
             [
              0.3333333333333333,
              "#9c179e"
             ],
             [
              0.4444444444444444,
              "#bd3786"
             ],
             [
              0.5555555555555556,
              "#d8576b"
             ],
             [
              0.6666666666666666,
              "#ed7953"
             ],
             [
              0.7777777777777778,
              "#fb9f3a"
             ],
             [
              0.8888888888888888,
              "#fdca26"
             ],
             [
              1,
              "#f0f921"
             ]
            ],
            "type": "histogram2d"
           }
          ],
          "histogram2dcontour": [
           {
            "colorbar": {
             "outlinewidth": 0,
             "ticks": ""
            },
            "colorscale": [
             [
              0,
              "#0d0887"
             ],
             [
              0.1111111111111111,
              "#46039f"
             ],
             [
              0.2222222222222222,
              "#7201a8"
             ],
             [
              0.3333333333333333,
              "#9c179e"
             ],
             [
              0.4444444444444444,
              "#bd3786"
             ],
             [
              0.5555555555555556,
              "#d8576b"
             ],
             [
              0.6666666666666666,
              "#ed7953"
             ],
             [
              0.7777777777777778,
              "#fb9f3a"
             ],
             [
              0.8888888888888888,
              "#fdca26"
             ],
             [
              1,
              "#f0f921"
             ]
            ],
            "type": "histogram2dcontour"
           }
          ],
          "mesh3d": [
           {
            "colorbar": {
             "outlinewidth": 0,
             "ticks": ""
            },
            "type": "mesh3d"
           }
          ],
          "parcoords": [
           {
            "line": {
             "colorbar": {
              "outlinewidth": 0,
              "ticks": ""
             }
            },
            "type": "parcoords"
           }
          ],
          "pie": [
           {
            "automargin": true,
            "type": "pie"
           }
          ],
          "scatter": [
           {
            "fillpattern": {
             "fillmode": "overlay",
             "size": 10,
             "solidity": 0.2
            },
            "type": "scatter"
           }
          ],
          "scatter3d": [
           {
            "line": {
             "colorbar": {
              "outlinewidth": 0,
              "ticks": ""
             }
            },
            "marker": {
             "colorbar": {
              "outlinewidth": 0,
              "ticks": ""
             }
            },
            "type": "scatter3d"
           }
          ],
          "scattercarpet": [
           {
            "marker": {
             "colorbar": {
              "outlinewidth": 0,
              "ticks": ""
             }
            },
            "type": "scattercarpet"
           }
          ],
          "scattergeo": [
           {
            "marker": {
             "colorbar": {
              "outlinewidth": 0,
              "ticks": ""
             }
            },
            "type": "scattergeo"
           }
          ],
          "scattergl": [
           {
            "marker": {
             "colorbar": {
              "outlinewidth": 0,
              "ticks": ""
             }
            },
            "type": "scattergl"
           }
          ],
          "scattermapbox": [
           {
            "marker": {
             "colorbar": {
              "outlinewidth": 0,
              "ticks": ""
             }
            },
            "type": "scattermapbox"
           }
          ],
          "scatterpolar": [
           {
            "marker": {
             "colorbar": {
              "outlinewidth": 0,
              "ticks": ""
             }
            },
            "type": "scatterpolar"
           }
          ],
          "scatterpolargl": [
           {
            "marker": {
             "colorbar": {
              "outlinewidth": 0,
              "ticks": ""
             }
            },
            "type": "scatterpolargl"
           }
          ],
          "scatterternary": [
           {
            "marker": {
             "colorbar": {
              "outlinewidth": 0,
              "ticks": ""
             }
            },
            "type": "scatterternary"
           }
          ],
          "surface": [
           {
            "colorbar": {
             "outlinewidth": 0,
             "ticks": ""
            },
            "colorscale": [
             [
              0,
              "#0d0887"
             ],
             [
              0.1111111111111111,
              "#46039f"
             ],
             [
              0.2222222222222222,
              "#7201a8"
             ],
             [
              0.3333333333333333,
              "#9c179e"
             ],
             [
              0.4444444444444444,
              "#bd3786"
             ],
             [
              0.5555555555555556,
              "#d8576b"
             ],
             [
              0.6666666666666666,
              "#ed7953"
             ],
             [
              0.7777777777777778,
              "#fb9f3a"
             ],
             [
              0.8888888888888888,
              "#fdca26"
             ],
             [
              1,
              "#f0f921"
             ]
            ],
            "type": "surface"
           }
          ],
          "table": [
           {
            "cells": {
             "fill": {
              "color": "#EBF0F8"
             },
             "line": {
              "color": "white"
             }
            },
            "header": {
             "fill": {
              "color": "#C8D4E3"
             },
             "line": {
              "color": "white"
             }
            },
            "type": "table"
           }
          ]
         },
         "layout": {
          "annotationdefaults": {
           "arrowcolor": "#2a3f5f",
           "arrowhead": 0,
           "arrowwidth": 1
          },
          "autotypenumbers": "strict",
          "coloraxis": {
           "colorbar": {
            "outlinewidth": 0,
            "ticks": ""
           }
          },
          "colorscale": {
           "diverging": [
            [
             0,
             "#8e0152"
            ],
            [
             0.1,
             "#c51b7d"
            ],
            [
             0.2,
             "#de77ae"
            ],
            [
             0.3,
             "#f1b6da"
            ],
            [
             0.4,
             "#fde0ef"
            ],
            [
             0.5,
             "#f7f7f7"
            ],
            [
             0.6,
             "#e6f5d0"
            ],
            [
             0.7,
             "#b8e186"
            ],
            [
             0.8,
             "#7fbc41"
            ],
            [
             0.9,
             "#4d9221"
            ],
            [
             1,
             "#276419"
            ]
           ],
           "sequential": [
            [
             0,
             "#0d0887"
            ],
            [
             0.1111111111111111,
             "#46039f"
            ],
            [
             0.2222222222222222,
             "#7201a8"
            ],
            [
             0.3333333333333333,
             "#9c179e"
            ],
            [
             0.4444444444444444,
             "#bd3786"
            ],
            [
             0.5555555555555556,
             "#d8576b"
            ],
            [
             0.6666666666666666,
             "#ed7953"
            ],
            [
             0.7777777777777778,
             "#fb9f3a"
            ],
            [
             0.8888888888888888,
             "#fdca26"
            ],
            [
             1,
             "#f0f921"
            ]
           ],
           "sequentialminus": [
            [
             0,
             "#0d0887"
            ],
            [
             0.1111111111111111,
             "#46039f"
            ],
            [
             0.2222222222222222,
             "#7201a8"
            ],
            [
             0.3333333333333333,
             "#9c179e"
            ],
            [
             0.4444444444444444,
             "#bd3786"
            ],
            [
             0.5555555555555556,
             "#d8576b"
            ],
            [
             0.6666666666666666,
             "#ed7953"
            ],
            [
             0.7777777777777778,
             "#fb9f3a"
            ],
            [
             0.8888888888888888,
             "#fdca26"
            ],
            [
             1,
             "#f0f921"
            ]
           ]
          },
          "colorway": [
           "#636efa",
           "#EF553B",
           "#00cc96",
           "#ab63fa",
           "#FFA15A",
           "#19d3f3",
           "#FF6692",
           "#B6E880",
           "#FF97FF",
           "#FECB52"
          ],
          "font": {
           "color": "#2a3f5f"
          },
          "geo": {
           "bgcolor": "white",
           "lakecolor": "white",
           "landcolor": "#E5ECF6",
           "showlakes": true,
           "showland": true,
           "subunitcolor": "white"
          },
          "hoverlabel": {
           "align": "left"
          },
          "hovermode": "closest",
          "mapbox": {
           "style": "light"
          },
          "paper_bgcolor": "white",
          "plot_bgcolor": "#E5ECF6",
          "polar": {
           "angularaxis": {
            "gridcolor": "white",
            "linecolor": "white",
            "ticks": ""
           },
           "bgcolor": "#E5ECF6",
           "radialaxis": {
            "gridcolor": "white",
            "linecolor": "white",
            "ticks": ""
           }
          },
          "scene": {
           "xaxis": {
            "backgroundcolor": "#E5ECF6",
            "gridcolor": "white",
            "gridwidth": 2,
            "linecolor": "white",
            "showbackground": true,
            "ticks": "",
            "zerolinecolor": "white"
           },
           "yaxis": {
            "backgroundcolor": "#E5ECF6",
            "gridcolor": "white",
            "gridwidth": 2,
            "linecolor": "white",
            "showbackground": true,
            "ticks": "",
            "zerolinecolor": "white"
           },
           "zaxis": {
            "backgroundcolor": "#E5ECF6",
            "gridcolor": "white",
            "gridwidth": 2,
            "linecolor": "white",
            "showbackground": true,
            "ticks": "",
            "zerolinecolor": "white"
           }
          },
          "shapedefaults": {
           "line": {
            "color": "#2a3f5f"
           }
          },
          "ternary": {
           "aaxis": {
            "gridcolor": "white",
            "linecolor": "white",
            "ticks": ""
           },
           "baxis": {
            "gridcolor": "white",
            "linecolor": "white",
            "ticks": ""
           },
           "bgcolor": "#E5ECF6",
           "caxis": {
            "gridcolor": "white",
            "linecolor": "white",
            "ticks": ""
           }
          },
          "title": {
           "x": 0.05
          },
          "xaxis": {
           "automargin": true,
           "gridcolor": "white",
           "linecolor": "white",
           "ticks": "",
           "title": {
            "standoff": 15
           },
           "zerolinecolor": "white",
           "zerolinewidth": 2
          },
          "yaxis": {
           "automargin": true,
           "gridcolor": "white",
           "linecolor": "white",
           "ticks": "",
           "title": {
            "standoff": 15
           },
           "zerolinecolor": "white",
           "zerolinewidth": 2
          }
         }
        },
        "title": {
         "text": "Solar Siting Availability under Various Exclusion Combinations"
        },
        "uniformtext": {
         "minsize": 18,
         "mode": "hide"
        },
        "width": 1200,
        "xaxis": {
         "anchor": "y",
         "autorange": true,
         "categoryarray": [
          "Baseline Restrictions (BR)",
          "BR + DACs",
          "BR + Important Farmland",
          "BR + w/in 1km of Natural Areas",
          "BR + w/in 5km of Natural Areas",
          "BR + w/in 10km of Natural Areas",
          "BR + DACS, w/in 5km of Natural Area, and Important Farmland",
          "BR + w/in 5km of Natural Area and Important Farmland",
          "BR + w/in 10km of Natural Area and Important Farmland"
         ],
         "categoryorder": "array",
         "domain": [
          0,
          0.98
         ],
         "range": [
          -0.5,
          8.5
         ],
         "title": {
          "text": "variable"
         },
         "type": "category"
        },
        "xaxis10": {
         "anchor": "y10",
         "autorange": true,
         "domain": [
          0,
          0.98
         ],
         "matches": "x",
         "range": [
          -0.5,
          8.5
         ],
         "showticklabels": false,
         "type": "category"
        },
        "xaxis11": {
         "anchor": "y11",
         "autorange": true,
         "domain": [
          0,
          0.98
         ],
         "matches": "x",
         "range": [
          -0.5,
          8.5
         ],
         "showticklabels": false,
         "type": "category"
        },
        "xaxis2": {
         "anchor": "y2",
         "autorange": true,
         "domain": [
          0,
          0.98
         ],
         "matches": "x",
         "range": [
          -0.5,
          8.5
         ],
         "showticklabels": false,
         "type": "category"
        },
        "xaxis3": {
         "anchor": "y3",
         "autorange": true,
         "domain": [
          0,
          0.98
         ],
         "matches": "x",
         "range": [
          -0.5,
          8.5
         ],
         "showticklabels": false,
         "type": "category"
        },
        "xaxis4": {
         "anchor": "y4",
         "autorange": true,
         "domain": [
          0,
          0.98
         ],
         "matches": "x",
         "range": [
          -0.5,
          8.5
         ],
         "showticklabels": false,
         "type": "category"
        },
        "xaxis5": {
         "anchor": "y5",
         "autorange": true,
         "domain": [
          0,
          0.98
         ],
         "matches": "x",
         "range": [
          -0.5,
          8.5
         ],
         "showticklabels": false,
         "type": "category"
        },
        "xaxis6": {
         "anchor": "y6",
         "autorange": true,
         "domain": [
          0,
          0.98
         ],
         "matches": "x",
         "range": [
          -0.5,
          8.5
         ],
         "showticklabels": false,
         "type": "category"
        },
        "xaxis7": {
         "anchor": "y7",
         "autorange": true,
         "domain": [
          0,
          0.98
         ],
         "matches": "x",
         "range": [
          -0.5,
          8.5
         ],
         "showticklabels": false,
         "type": "category"
        },
        "xaxis8": {
         "anchor": "y8",
         "autorange": true,
         "domain": [
          0,
          0.98
         ],
         "matches": "x",
         "range": [
          -0.5,
          8.5
         ],
         "showticklabels": false,
         "type": "category"
        },
        "xaxis9": {
         "anchor": "y9",
         "autorange": true,
         "domain": [
          0,
          0.98
         ],
         "matches": "x",
         "range": [
          -0.5,
          8.5
         ],
         "showticklabels": false,
         "type": "category"
        },
        "yaxis": {
         "anchor": "x",
         "autorange": true,
         "domain": [
          0,
          0.06363636363636363
         ],
         "gridcolor": "#bdbdbd",
         "range": [
          0,
          158712.63157894736
         ],
         "showgrid": true,
         "title": {
          "text": "square km"
         },
         "type": "linear"
        },
        "yaxis10": {
         "anchor": "x10",
         "autorange": true,
         "domain": [
          0.8427272727272725,
          0.9063636363636361
         ],
         "gridcolor": "#bdbdbd",
         "range": [
          0,
          99391.57894736843
         ],
         "showgrid": true,
         "title": {
          "text": "square km"
         },
         "type": "linear"
        },
        "yaxis11": {
         "anchor": "x11",
         "autorange": true,
         "domain": [
          0.9363636363636361,
          0.9999999999999997
         ],
         "gridcolor": "#bdbdbd",
         "range": [
          -750.9735256568199,
          157374.26176450826
         ],
         "showgrid": true,
         "title": {
          "text": "square km"
         },
         "type": "linear"
        },
        "yaxis2": {
         "anchor": "x2",
         "autorange": true,
         "domain": [
          0.09363636363636363,
          0.15727272727272726
         ],
         "gridcolor": "#bdbdbd",
         "range": [
          0,
          63417.89473684211
         ],
         "showgrid": true,
         "title": {
          "text": "square km"
         },
         "type": "linear"
        },
        "yaxis3": {
         "anchor": "x3",
         "autorange": true,
         "domain": [
          0.18727272727272726,
          0.25090909090909086
         ],
         "gridcolor": "#bdbdbd",
         "range": [
          0,
          65200
         ],
         "showgrid": true,
         "title": {
          "text": "square km"
         },
         "type": "linear"
        },
        "yaxis4": {
         "anchor": "x4",
         "autorange": true,
         "domain": [
          0.2809090909090909,
          0.3445454545454545
         ],
         "gridcolor": "#bdbdbd",
         "range": [
          0,
          64136.84210526316
         ],
         "showgrid": true,
         "title": {
          "text": "square km"
         },
         "type": "linear"
        },
        "yaxis5": {
         "anchor": "x5",
         "autorange": true,
         "domain": [
          0.3745454545454545,
          0.4381818181818181
         ],
         "gridcolor": "#bdbdbd",
         "range": [
          -793.5654355275835,
          111984.92449660672
         ],
         "showgrid": true,
         "title": {
          "text": "square km"
         },
         "type": "linear"
        },
        "yaxis6": {
         "anchor": "x6",
         "autorange": true,
         "domain": [
          0.46818181818181814,
          0.5318181818181817
         ],
         "gridcolor": "#bdbdbd",
         "range": [
          -896.6101417788441,
          212415.61106009362
         ],
         "showgrid": true,
         "title": {
          "text": "square km"
         },
         "type": "linear"
        },
        "yaxis7": {
         "anchor": "x7",
         "autorange": true,
         "domain": [
          0.5618181818181818,
          0.6254545454545454
         ],
         "gridcolor": "#bdbdbd",
         "range": [
          0,
          211172.63157894736
         ],
         "showgrid": true,
         "title": {
          "text": "square km"
         },
         "type": "linear"
        },
        "yaxis8": {
         "anchor": "x8",
         "autorange": true,
         "domain": [
          0.6554545454545453,
          0.7190909090909089
         ],
         "gridcolor": "#bdbdbd",
         "range": [
          -291.5915515040208,
          67402.715344816
         ],
         "showgrid": true,
         "title": {
          "text": "square km"
         },
         "type": "linear"
        },
        "yaxis9": {
         "anchor": "x9",
         "autorange": true,
         "domain": [
          0.7490909090909089,
          0.8127272727272725
         ],
         "gridcolor": "#bdbdbd",
         "range": [
          0,
          125033.68421052632
         ],
         "showgrid": true,
         "title": {
          "text": "square km"
         },
         "type": "linear"
        }
       }
      },
      "text/html": [
       "<div>                            <div id=\"46b40e41-0769-4765-a355-b186664d8c35\" class=\"plotly-graph-div\" style=\"height:2000px; width:1200px;\"></div>            <script type=\"text/javascript\">                require([\"plotly\"], function(Plotly) {                    window.PLOTLYENV=window.PLOTLYENV || {};                                    if (document.getElementById(\"46b40e41-0769-4765-a355-b186664d8c35\")) {                    Plotly.newPlot(                        \"46b40e41-0769-4765-a355-b186664d8c35\",                        [{\"alignmentgroup\":\"True\",\"hovertemplate\":\"variable=%{x}\\u003cbr\\u003eregion_name=arizona\\u003cbr\\u003evalue=%{y}\\u003cextra\\u003e\\u003c\\u002fextra\\u003e\",\"legendgroup\":\"Baseline Restrictions (BR)\",\"marker\":{\"color\":\"rgb(102, 197, 204)\",\"pattern\":{\"shape\":\"\"}},\"name\":\"Baseline Restrictions (BR)\",\"offsetgroup\":\"Baseline Restrictions (BR)\",\"orientation\":\"v\",\"showlegend\":true,\"textposition\":\"auto\",\"x\":[\"Baseline Restrictions (BR)\"],\"xaxis\":\"x11\",\"y\":[149468],\"yaxis\":\"y11\",\"type\":\"bar\"},{\"alignmentgroup\":\"True\",\"hovertemplate\":\"variable=%{x}\\u003cbr\\u003eregion_name=california\\u003cbr\\u003evalue=%{y}\\u003cextra\\u003e\\u003c\\u002fextra\\u003e\",\"legendgroup\":\"Baseline Restrictions (BR)\",\"marker\":{\"color\":\"rgb(102, 197, 204)\",\"pattern\":{\"shape\":\"\"}},\"name\":\"Baseline Restrictions (BR)\",\"offsetgroup\":\"Baseline Restrictions (BR)\",\"orientation\":\"v\",\"showlegend\":false,\"textposition\":\"auto\",\"x\":[\"Baseline Restrictions (BR)\"],\"xaxis\":\"x10\",\"y\":[94422],\"yaxis\":\"y10\",\"type\":\"bar\"},{\"alignmentgroup\":\"True\",\"hovertemplate\":\"variable=%{x}\\u003cbr\\u003eregion_name=colorado\\u003cbr\\u003evalue=%{y}\\u003cextra\\u003e\\u003c\\u002fextra\\u003e\",\"legendgroup\":\"Baseline Restrictions (BR)\",\"marker\":{\"color\":\"rgb(102, 197, 204)\",\"pattern\":{\"shape\":\"\"}},\"name\":\"Baseline Restrictions (BR)\",\"offsetgroup\":\"Baseline Restrictions (BR)\",\"orientation\":\"v\",\"showlegend\":false,\"textposition\":\"auto\",\"x\":[\"Baseline Restrictions (BR)\"],\"xaxis\":\"x9\",\"y\":[118782],\"yaxis\":\"y9\",\"type\":\"bar\"},{\"alignmentgroup\":\"True\",\"hovertemplate\":\"variable=%{x}\\u003cbr\\u003eregion_name=idaho\\u003cbr\\u003evalue=%{y}\\u003cextra\\u003e\\u003c\\u002fextra\\u003e\",\"legendgroup\":\"Baseline Restrictions (BR)\",\"marker\":{\"color\":\"rgb(102, 197, 204)\",\"pattern\":{\"shape\":\"\"}},\"name\":\"Baseline Restrictions (BR)\",\"offsetgroup\":\"Baseline Restrictions (BR)\",\"orientation\":\"v\",\"showlegend\":false,\"textposition\":\"auto\",\"x\":[\"Baseline Restrictions (BR)\"],\"xaxis\":\"x8\",\"y\":[64018],\"yaxis\":\"y8\",\"type\":\"bar\"},{\"alignmentgroup\":\"True\",\"hovertemplate\":\"variable=%{x}\\u003cbr\\u003eregion_name=montana\\u003cbr\\u003evalue=%{y}\\u003cextra\\u003e\\u003c\\u002fextra\\u003e\",\"legendgroup\":\"Baseline Restrictions (BR)\",\"marker\":{\"color\":\"rgb(102, 197, 204)\",\"pattern\":{\"shape\":\"\"}},\"name\":\"Baseline Restrictions (BR)\",\"offsetgroup\":\"Baseline Restrictions (BR)\",\"orientation\":\"v\",\"showlegend\":false,\"textposition\":\"auto\",\"x\":[\"Baseline Restrictions (BR)\"],\"xaxis\":\"x7\",\"y\":[200614],\"yaxis\":\"y7\",\"type\":\"bar\"},{\"alignmentgroup\":\"True\",\"hovertemplate\":\"variable=%{x}\\u003cbr\\u003eregion_name=new_mexico\\u003cbr\\u003evalue=%{y}\\u003cextra\\u003e\\u003c\\u002fextra\\u003e\",\"legendgroup\":\"Baseline Restrictions (BR)\",\"marker\":{\"color\":\"rgb(102, 197, 204)\",\"pattern\":{\"shape\":\"\"}},\"name\":\"Baseline Restrictions (BR)\",\"offsetgroup\":\"Baseline Restrictions (BR)\",\"orientation\":\"v\",\"showlegend\":false,\"textposition\":\"auto\",\"x\":[\"Baseline Restrictions (BR)\"],\"xaxis\":\"x6\",\"y\":[201750],\"yaxis\":\"y6\",\"type\":\"bar\"},{\"alignmentgroup\":\"True\",\"hovertemplate\":\"variable=%{x}\\u003cbr\\u003eregion_name=nevada\\u003cbr\\u003evalue=%{y}\\u003cextra\\u003e\\u003c\\u002fextra\\u003e\",\"legendgroup\":\"Baseline Restrictions (BR)\",\"marker\":{\"color\":\"rgb(102, 197, 204)\",\"pattern\":{\"shape\":\"\"}},\"name\":\"Baseline Restrictions (BR)\",\"offsetgroup\":\"Baseline Restrictions (BR)\",\"orientation\":\"v\",\"showlegend\":false,\"textposition\":\"auto\",\"x\":[\"Baseline Restrictions (BR)\"],\"xaxis\":\"x5\",\"y\":[106346],\"yaxis\":\"y5\",\"type\":\"bar\"},{\"alignmentgroup\":\"True\",\"hovertemplate\":\"variable=%{x}\\u003cbr\\u003eregion_name=oregon\\u003cbr\\u003evalue=%{y}\\u003cextra\\u003e\\u003c\\u002fextra\\u003e\",\"legendgroup\":\"Baseline Restrictions (BR)\",\"marker\":{\"color\":\"rgb(102, 197, 204)\",\"pattern\":{\"shape\":\"\"}},\"name\":\"Baseline Restrictions (BR)\",\"offsetgroup\":\"Baseline Restrictions (BR)\",\"orientation\":\"v\",\"showlegend\":false,\"textposition\":\"auto\",\"x\":[\"Baseline Restrictions (BR)\"],\"xaxis\":\"x4\",\"y\":[60930],\"yaxis\":\"y4\",\"type\":\"bar\"},{\"alignmentgroup\":\"True\",\"hovertemplate\":\"variable=%{x}\\u003cbr\\u003eregion_name=utah\\u003cbr\\u003evalue=%{y}\\u003cextra\\u003e\\u003c\\u002fextra\\u003e\",\"legendgroup\":\"Baseline Restrictions (BR)\",\"marker\":{\"color\":\"rgb(102, 197, 204)\",\"pattern\":{\"shape\":\"\"}},\"name\":\"Baseline Restrictions (BR)\",\"offsetgroup\":\"Baseline Restrictions (BR)\",\"orientation\":\"v\",\"showlegend\":false,\"textposition\":\"auto\",\"x\":[\"Baseline Restrictions (BR)\"],\"xaxis\":\"x3\",\"y\":[61940],\"yaxis\":\"y3\",\"type\":\"bar\"},{\"alignmentgroup\":\"True\",\"hovertemplate\":\"variable=%{x}\\u003cbr\\u003eregion_name=washington\\u003cbr\\u003evalue=%{y}\\u003cextra\\u003e\\u003c\\u002fextra\\u003e\",\"legendgroup\":\"Baseline Restrictions (BR)\",\"marker\":{\"color\":\"rgb(102, 197, 204)\",\"pattern\":{\"shape\":\"\"}},\"name\":\"Baseline Restrictions (BR)\",\"offsetgroup\":\"Baseline Restrictions (BR)\",\"orientation\":\"v\",\"showlegend\":false,\"textposition\":\"auto\",\"x\":[\"Baseline Restrictions (BR)\"],\"xaxis\":\"x2\",\"y\":[60247],\"yaxis\":\"y2\",\"type\":\"bar\"},{\"alignmentgroup\":\"True\",\"hovertemplate\":\"variable=%{x}\\u003cbr\\u003eregion_name=wyoming\\u003cbr\\u003evalue=%{y}\\u003cextra\\u003e\\u003c\\u002fextra\\u003e\",\"legendgroup\":\"Baseline Restrictions (BR)\",\"marker\":{\"color\":\"rgb(102, 197, 204)\",\"pattern\":{\"shape\":\"\"}},\"name\":\"Baseline Restrictions (BR)\",\"offsetgroup\":\"Baseline Restrictions (BR)\",\"orientation\":\"v\",\"showlegend\":false,\"textposition\":\"auto\",\"x\":[\"Baseline Restrictions (BR)\"],\"xaxis\":\"x\",\"y\":[150777],\"yaxis\":\"y\",\"type\":\"bar\"},{\"alignmentgroup\":\"True\",\"hovertemplate\":\"variable=%{x}\\u003cbr\\u003eregion_name=arizona\\u003cbr\\u003evalue=%{y}\\u003cextra\\u003e\\u003c\\u002fextra\\u003e\",\"legendgroup\":\"BR + DACs\",\"marker\":{\"color\":\"rgb(246, 207, 113)\",\"pattern\":{\"shape\":\"\"}},\"name\":\"BR + DACs\",\"offsetgroup\":\"BR + DACs\",\"orientation\":\"v\",\"showlegend\":true,\"textposition\":\"auto\",\"x\":[\"BR + DACs\"],\"xaxis\":\"x11\",\"y\":[46395],\"yaxis\":\"y11\",\"type\":\"bar\"},{\"alignmentgroup\":\"True\",\"hovertemplate\":\"variable=%{x}\\u003cbr\\u003eregion_name=california\\u003cbr\\u003evalue=%{y}\\u003cextra\\u003e\\u003c\\u002fextra\\u003e\",\"legendgroup\":\"BR + DACs\",\"marker\":{\"color\":\"rgb(246, 207, 113)\",\"pattern\":{\"shape\":\"\"}},\"name\":\"BR + DACs\",\"offsetgroup\":\"BR + DACs\",\"orientation\":\"v\",\"showlegend\":false,\"textposition\":\"auto\",\"x\":[\"BR + DACs\"],\"xaxis\":\"x10\",\"y\":[38251],\"yaxis\":\"y10\",\"type\":\"bar\"},{\"alignmentgroup\":\"True\",\"hovertemplate\":\"variable=%{x}\\u003cbr\\u003eregion_name=colorado\\u003cbr\\u003evalue=%{y}\\u003cextra\\u003e\\u003c\\u002fextra\\u003e\",\"legendgroup\":\"BR + DACs\",\"marker\":{\"color\":\"rgb(246, 207, 113)\",\"pattern\":{\"shape\":\"\"}},\"name\":\"BR + DACs\",\"offsetgroup\":\"BR + DACs\",\"orientation\":\"v\",\"showlegend\":false,\"textposition\":\"auto\",\"x\":[\"BR + DACs\"],\"xaxis\":\"x9\",\"y\":[58883],\"yaxis\":\"y9\",\"type\":\"bar\"},{\"alignmentgroup\":\"True\",\"hovertemplate\":\"variable=%{x}\\u003cbr\\u003eregion_name=idaho\\u003cbr\\u003evalue=%{y}\\u003cextra\\u003e\\u003c\\u002fextra\\u003e\",\"legendgroup\":\"BR + DACs\",\"marker\":{\"color\":\"rgb(246, 207, 113)\",\"pattern\":{\"shape\":\"\"}},\"name\":\"BR + DACs\",\"offsetgroup\":\"BR + DACs\",\"orientation\":\"v\",\"showlegend\":false,\"textposition\":\"auto\",\"x\":[\"BR + DACs\"],\"xaxis\":\"x8\",\"y\":[18522],\"yaxis\":\"y8\",\"type\":\"bar\"},{\"alignmentgroup\":\"True\",\"hovertemplate\":\"variable=%{x}\\u003cbr\\u003eregion_name=montana\\u003cbr\\u003evalue=%{y}\\u003cextra\\u003e\\u003c\\u002fextra\\u003e\",\"legendgroup\":\"BR + DACs\",\"marker\":{\"color\":\"rgb(246, 207, 113)\",\"pattern\":{\"shape\":\"\"}},\"name\":\"BR + DACs\",\"offsetgroup\":\"BR + DACs\",\"orientation\":\"v\",\"showlegend\":false,\"textposition\":\"auto\",\"x\":[\"BR + DACs\"],\"xaxis\":\"x7\",\"y\":[104611],\"yaxis\":\"y7\",\"type\":\"bar\"},{\"alignmentgroup\":\"True\",\"hovertemplate\":\"variable=%{x}\\u003cbr\\u003eregion_name=new_mexico\\u003cbr\\u003evalue=%{y}\\u003cextra\\u003e\\u003c\\u002fextra\\u003e\",\"legendgroup\":\"BR + DACs\",\"marker\":{\"color\":\"rgb(246, 207, 113)\",\"pattern\":{\"shape\":\"\"}},\"name\":\"BR + DACs\",\"offsetgroup\":\"BR + DACs\",\"orientation\":\"v\",\"showlegend\":false,\"textposition\":\"auto\",\"x\":[\"BR + DACs\"],\"xaxis\":\"x6\",\"y\":[23030],\"yaxis\":\"y6\",\"type\":\"bar\"},{\"alignmentgroup\":\"True\",\"hovertemplate\":\"variable=%{x}\\u003cbr\\u003eregion_name=nevada\\u003cbr\\u003evalue=%{y}\\u003cextra\\u003e\\u003c\\u002fextra\\u003e\",\"legendgroup\":\"BR + DACs\",\"marker\":{\"color\":\"rgb(246, 207, 113)\",\"pattern\":{\"shape\":\"\"}},\"name\":\"BR + DACs\",\"offsetgroup\":\"BR + DACs\",\"orientation\":\"v\",\"showlegend\":false,\"textposition\":\"auto\",\"x\":[\"BR + DACs\"],\"xaxis\":\"x5\",\"y\":[81135],\"yaxis\":\"y5\",\"type\":\"bar\"},{\"alignmentgroup\":\"True\",\"hovertemplate\":\"variable=%{x}\\u003cbr\\u003eregion_name=oregon\\u003cbr\\u003evalue=%{y}\\u003cextra\\u003e\\u003c\\u002fextra\\u003e\",\"legendgroup\":\"BR + DACs\",\"marker\":{\"color\":\"rgb(246, 207, 113)\",\"pattern\":{\"shape\":\"\"}},\"name\":\"BR + DACs\",\"offsetgroup\":\"BR + DACs\",\"orientation\":\"v\",\"showlegend\":false,\"textposition\":\"auto\",\"x\":[\"BR + DACs\"],\"xaxis\":\"x4\",\"y\":[11622],\"yaxis\":\"y4\",\"type\":\"bar\"},{\"alignmentgroup\":\"True\",\"hovertemplate\":\"variable=%{x}\\u003cbr\\u003eregion_name=utah\\u003cbr\\u003evalue=%{y}\\u003cextra\\u003e\\u003c\\u002fextra\\u003e\",\"legendgroup\":\"BR + DACs\",\"marker\":{\"color\":\"rgb(246, 207, 113)\",\"pattern\":{\"shape\":\"\"}},\"name\":\"BR + DACs\",\"offsetgroup\":\"BR + DACs\",\"orientation\":\"v\",\"showlegend\":false,\"textposition\":\"auto\",\"x\":[\"BR + DACs\"],\"xaxis\":\"x3\",\"y\":[34126],\"yaxis\":\"y3\",\"type\":\"bar\"},{\"alignmentgroup\":\"True\",\"hovertemplate\":\"variable=%{x}\\u003cbr\\u003eregion_name=washington\\u003cbr\\u003evalue=%{y}\\u003cextra\\u003e\\u003c\\u002fextra\\u003e\",\"legendgroup\":\"BR + DACs\",\"marker\":{\"color\":\"rgb(246, 207, 113)\",\"pattern\":{\"shape\":\"\"}},\"name\":\"BR + DACs\",\"offsetgroup\":\"BR + DACs\",\"orientation\":\"v\",\"showlegend\":false,\"textposition\":\"auto\",\"x\":[\"BR + DACs\"],\"xaxis\":\"x2\",\"y\":[32459],\"yaxis\":\"y2\",\"type\":\"bar\"},{\"alignmentgroup\":\"True\",\"hovertemplate\":\"variable=%{x}\\u003cbr\\u003eregion_name=wyoming\\u003cbr\\u003evalue=%{y}\\u003cextra\\u003e\\u003c\\u002fextra\\u003e\",\"legendgroup\":\"BR + DACs\",\"marker\":{\"color\":\"rgb(246, 207, 113)\",\"pattern\":{\"shape\":\"\"}},\"name\":\"BR + DACs\",\"offsetgroup\":\"BR + DACs\",\"orientation\":\"v\",\"showlegend\":false,\"textposition\":\"auto\",\"x\":[\"BR + DACs\"],\"xaxis\":\"x\",\"y\":[127750],\"yaxis\":\"y\",\"type\":\"bar\"},{\"alignmentgroup\":\"True\",\"hovertemplate\":\"variable=%{x}\\u003cbr\\u003eregion_name=arizona\\u003cbr\\u003evalue=%{y}\\u003cextra\\u003e\\u003c\\u002fextra\\u003e\",\"legendgroup\":\"BR + Important Farmland\",\"marker\":{\"color\":\"rgb(248, 156, 116)\",\"pattern\":{\"shape\":\"\"}},\"name\":\"BR + Important Farmland\",\"offsetgroup\":\"BR + Important Farmland\",\"orientation\":\"v\",\"showlegend\":true,\"textposition\":\"auto\",\"x\":[\"BR + Important Farmland\"],\"xaxis\":\"x11\",\"y\":[146345],\"yaxis\":\"y11\",\"type\":\"bar\"},{\"alignmentgroup\":\"True\",\"hovertemplate\":\"variable=%{x}\\u003cbr\\u003eregion_name=california\\u003cbr\\u003evalue=%{y}\\u003cextra\\u003e\\u003c\\u002fextra\\u003e\",\"legendgroup\":\"BR + Important Farmland\",\"marker\":{\"color\":\"rgb(248, 156, 116)\",\"pattern\":{\"shape\":\"\"}},\"name\":\"BR + Important Farmland\",\"offsetgroup\":\"BR + Important Farmland\",\"orientation\":\"v\",\"showlegend\":false,\"textposition\":\"auto\",\"x\":[\"BR + Important Farmland\"],\"xaxis\":\"x10\",\"y\":[78597],\"yaxis\":\"y10\",\"type\":\"bar\"},{\"alignmentgroup\":\"True\",\"hovertemplate\":\"variable=%{x}\\u003cbr\\u003eregion_name=colorado\\u003cbr\\u003evalue=%{y}\\u003cextra\\u003e\\u003c\\u002fextra\\u003e\",\"legendgroup\":\"BR + Important Farmland\",\"marker\":{\"color\":\"rgb(248, 156, 116)\",\"pattern\":{\"shape\":\"\"}},\"name\":\"BR + Important Farmland\",\"offsetgroup\":\"BR + Important Farmland\",\"orientation\":\"v\",\"showlegend\":false,\"textposition\":\"auto\",\"x\":[\"BR + Important Farmland\"],\"xaxis\":\"x9\",\"y\":[108230],\"yaxis\":\"y9\",\"type\":\"bar\"},{\"alignmentgroup\":\"True\",\"hovertemplate\":\"variable=%{x}\\u003cbr\\u003eregion_name=idaho\\u003cbr\\u003evalue=%{y}\\u003cextra\\u003e\\u003c\\u002fextra\\u003e\",\"legendgroup\":\"BR + Important Farmland\",\"marker\":{\"color\":\"rgb(248, 156, 116)\",\"pattern\":{\"shape\":\"\"}},\"name\":\"BR + Important Farmland\",\"offsetgroup\":\"BR + Important Farmland\",\"orientation\":\"v\",\"showlegend\":false,\"textposition\":\"auto\",\"x\":[\"BR + Important Farmland\"],\"xaxis\":\"x8\",\"y\":[62934],\"yaxis\":\"y8\",\"type\":\"bar\"},{\"alignmentgroup\":\"True\",\"hovertemplate\":\"variable=%{x}\\u003cbr\\u003eregion_name=montana\\u003cbr\\u003evalue=%{y}\\u003cextra\\u003e\\u003c\\u002fextra\\u003e\",\"legendgroup\":\"BR + Important Farmland\",\"marker\":{\"color\":\"rgb(248, 156, 116)\",\"pattern\":{\"shape\":\"\"}},\"name\":\"BR + Important Farmland\",\"offsetgroup\":\"BR + Important Farmland\",\"orientation\":\"v\",\"showlegend\":false,\"textposition\":\"auto\",\"x\":[\"BR + Important Farmland\"],\"xaxis\":\"x7\",\"y\":[168821],\"yaxis\":\"y7\",\"type\":\"bar\"},{\"alignmentgroup\":\"True\",\"hovertemplate\":\"variable=%{x}\\u003cbr\\u003eregion_name=new_mexico\\u003cbr\\u003evalue=%{y}\\u003cextra\\u003e\\u003c\\u002fextra\\u003e\",\"legendgroup\":\"BR + Important Farmland\",\"marker\":{\"color\":\"rgb(248, 156, 116)\",\"pattern\":{\"shape\":\"\"}},\"name\":\"BR + Important Farmland\",\"offsetgroup\":\"BR + Important Farmland\",\"orientation\":\"v\",\"showlegend\":false,\"textposition\":\"auto\",\"x\":[\"BR + Important Farmland\"],\"xaxis\":\"x6\",\"y\":[179489],\"yaxis\":\"y6\",\"type\":\"bar\"},{\"alignmentgroup\":\"True\",\"hovertemplate\":\"variable=%{x}\\u003cbr\\u003eregion_name=nevada\\u003cbr\\u003evalue=%{y}\\u003cextra\\u003e\\u003c\\u002fextra\\u003e\",\"legendgroup\":\"BR + Important Farmland\",\"marker\":{\"color\":\"rgb(248, 156, 116)\",\"pattern\":{\"shape\":\"\"}},\"name\":\"BR + Important Farmland\",\"offsetgroup\":\"BR + Important Farmland\",\"orientation\":\"v\",\"showlegend\":false,\"textposition\":\"auto\",\"x\":[\"BR + Important Farmland\"],\"xaxis\":\"x5\",\"y\":[106295],\"yaxis\":\"y5\",\"type\":\"bar\"},{\"alignmentgroup\":\"True\",\"hovertemplate\":\"variable=%{x}\\u003cbr\\u003eregion_name=oregon\\u003cbr\\u003evalue=%{y}\\u003cextra\\u003e\\u003c\\u002fextra\\u003e\",\"legendgroup\":\"BR + Important Farmland\",\"marker\":{\"color\":\"rgb(248, 156, 116)\",\"pattern\":{\"shape\":\"\"}},\"name\":\"BR + Important Farmland\",\"offsetgroup\":\"BR + Important Farmland\",\"orientation\":\"v\",\"showlegend\":false,\"textposition\":\"auto\",\"x\":[\"BR + Important Farmland\"],\"xaxis\":\"x4\",\"y\":[28275],\"yaxis\":\"y4\",\"type\":\"bar\"},{\"alignmentgroup\":\"True\",\"hovertemplate\":\"variable=%{x}\\u003cbr\\u003eregion_name=utah\\u003cbr\\u003evalue=%{y}\\u003cextra\\u003e\\u003c\\u002fextra\\u003e\",\"legendgroup\":\"BR + Important Farmland\",\"marker\":{\"color\":\"rgb(248, 156, 116)\",\"pattern\":{\"shape\":\"\"}},\"name\":\"BR + Important Farmland\",\"offsetgroup\":\"BR + Important Farmland\",\"orientation\":\"v\",\"showlegend\":false,\"textposition\":\"auto\",\"x\":[\"BR + Important Farmland\"],\"xaxis\":\"x3\",\"y\":[57113],\"yaxis\":\"y3\",\"type\":\"bar\"},{\"alignmentgroup\":\"True\",\"hovertemplate\":\"variable=%{x}\\u003cbr\\u003eregion_name=washington\\u003cbr\\u003evalue=%{y}\\u003cextra\\u003e\\u003c\\u002fextra\\u003e\",\"legendgroup\":\"BR + Important Farmland\",\"marker\":{\"color\":\"rgb(248, 156, 116)\",\"pattern\":{\"shape\":\"\"}},\"name\":\"BR + Important Farmland\",\"offsetgroup\":\"BR + Important Farmland\",\"orientation\":\"v\",\"showlegend\":false,\"textposition\":\"auto\",\"x\":[\"BR + Important Farmland\"],\"xaxis\":\"x2\",\"y\":[32568],\"yaxis\":\"y2\",\"type\":\"bar\"},{\"alignmentgroup\":\"True\",\"hovertemplate\":\"variable=%{x}\\u003cbr\\u003eregion_name=wyoming\\u003cbr\\u003evalue=%{y}\\u003cextra\\u003e\\u003c\\u002fextra\\u003e\",\"legendgroup\":\"BR + Important Farmland\",\"marker\":{\"color\":\"rgb(248, 156, 116)\",\"pattern\":{\"shape\":\"\"}},\"name\":\"BR + Important Farmland\",\"offsetgroup\":\"BR + Important Farmland\",\"orientation\":\"v\",\"showlegend\":false,\"textposition\":\"auto\",\"x\":[\"BR + Important Farmland\"],\"xaxis\":\"x\",\"y\":[149870],\"yaxis\":\"y\",\"type\":\"bar\"},{\"alignmentgroup\":\"True\",\"hovertemplate\":\"variable=%{x}\\u003cbr\\u003eregion_name=arizona\\u003cbr\\u003evalue=%{y}\\u003cextra\\u003e\\u003c\\u002fextra\\u003e\",\"legendgroup\":\"BR + w\\u002fin 1km of Natural Areas\",\"marker\":{\"color\":\"rgb(220, 176, 242)\",\"pattern\":{\"shape\":\"\"}},\"name\":\"BR + w\\u002fin 1km of Natural Areas\",\"offsetgroup\":\"BR + w\\u002fin 1km of Natural Areas\",\"orientation\":\"v\",\"showlegend\":true,\"textposition\":\"auto\",\"x\":[\"BR + w\\u002fin 1km of Natural Areas\"],\"xaxis\":\"x11\",\"y\":[138003],\"yaxis\":\"y11\",\"type\":\"bar\"},{\"alignmentgroup\":\"True\",\"hovertemplate\":\"variable=%{x}\\u003cbr\\u003eregion_name=california\\u003cbr\\u003evalue=%{y}\\u003cextra\\u003e\\u003c\\u002fextra\\u003e\",\"legendgroup\":\"BR + w\\u002fin 1km of Natural Areas\",\"marker\":{\"color\":\"rgb(220, 176, 242)\",\"pattern\":{\"shape\":\"\"}},\"name\":\"BR + w\\u002fin 1km of Natural Areas\",\"offsetgroup\":\"BR + w\\u002fin 1km of Natural Areas\",\"orientation\":\"v\",\"showlegend\":false,\"textposition\":\"auto\",\"x\":[\"BR + w\\u002fin 1km of Natural Areas\"],\"xaxis\":\"x10\",\"y\":[77444],\"yaxis\":\"y10\",\"type\":\"bar\"},{\"alignmentgroup\":\"True\",\"hovertemplate\":\"variable=%{x}\\u003cbr\\u003eregion_name=colorado\\u003cbr\\u003evalue=%{y}\\u003cextra\\u003e\\u003c\\u002fextra\\u003e\",\"legendgroup\":\"BR + w\\u002fin 1km of Natural Areas\",\"marker\":{\"color\":\"rgb(220, 176, 242)\",\"pattern\":{\"shape\":\"\"}},\"name\":\"BR + w\\u002fin 1km of Natural Areas\",\"offsetgroup\":\"BR + w\\u002fin 1km of Natural Areas\",\"orientation\":\"v\",\"showlegend\":false,\"textposition\":\"auto\",\"x\":[\"BR + w\\u002fin 1km of Natural Areas\"],\"xaxis\":\"x9\",\"y\":[108317],\"yaxis\":\"y9\",\"type\":\"bar\"},{\"alignmentgroup\":\"True\",\"hovertemplate\":\"variable=%{x}\\u003cbr\\u003eregion_name=idaho\\u003cbr\\u003evalue=%{y}\\u003cextra\\u003e\\u003c\\u002fextra\\u003e\",\"legendgroup\":\"BR + w\\u002fin 1km of Natural Areas\",\"marker\":{\"color\":\"rgb(220, 176, 242)\",\"pattern\":{\"shape\":\"\"}},\"name\":\"BR + w\\u002fin 1km of Natural Areas\",\"offsetgroup\":\"BR + w\\u002fin 1km of Natural Areas\",\"orientation\":\"v\",\"showlegend\":false,\"textposition\":\"auto\",\"x\":[\"BR + w\\u002fin 1km of Natural Areas\"],\"xaxis\":\"x8\",\"y\":[54342],\"yaxis\":\"y8\",\"type\":\"bar\"},{\"alignmentgroup\":\"True\",\"hovertemplate\":\"variable=%{x}\\u003cbr\\u003eregion_name=montana\\u003cbr\\u003evalue=%{y}\\u003cextra\\u003e\\u003c\\u002fextra\\u003e\",\"legendgroup\":\"BR + w\\u002fin 1km of Natural Areas\",\"marker\":{\"color\":\"rgb(220, 176, 242)\",\"pattern\":{\"shape\":\"\"}},\"name\":\"BR + w\\u002fin 1km of Natural Areas\",\"offsetgroup\":\"BR + w\\u002fin 1km of Natural Areas\",\"orientation\":\"v\",\"showlegend\":false,\"textposition\":\"auto\",\"x\":[\"BR + w\\u002fin 1km of Natural Areas\"],\"xaxis\":\"x7\",\"y\":[169865],\"yaxis\":\"y7\",\"type\":\"bar\"},{\"alignmentgroup\":\"True\",\"hovertemplate\":\"variable=%{x}\\u003cbr\\u003eregion_name=new_mexico\\u003cbr\\u003evalue=%{y}\\u003cextra\\u003e\\u003c\\u002fextra\\u003e\",\"legendgroup\":\"BR + w\\u002fin 1km of Natural Areas\",\"marker\":{\"color\":\"rgb(220, 176, 242)\",\"pattern\":{\"shape\":\"\"}},\"name\":\"BR + w\\u002fin 1km of Natural Areas\",\"offsetgroup\":\"BR + w\\u002fin 1km of Natural Areas\",\"orientation\":\"v\",\"showlegend\":false,\"textposition\":\"auto\",\"x\":[\"BR + w\\u002fin 1km of Natural Areas\"],\"xaxis\":\"x6\",\"y\":[188217],\"yaxis\":\"y6\",\"type\":\"bar\"},{\"alignmentgroup\":\"True\",\"hovertemplate\":\"variable=%{x}\\u003cbr\\u003eregion_name=nevada\\u003cbr\\u003evalue=%{y}\\u003cextra\\u003e\\u003c\\u002fextra\\u003e\",\"legendgroup\":\"BR + w\\u002fin 1km of Natural Areas\",\"marker\":{\"color\":\"rgb(220, 176, 242)\",\"pattern\":{\"shape\":\"\"}},\"name\":\"BR + w\\u002fin 1km of Natural Areas\",\"offsetgroup\":\"BR + w\\u002fin 1km of Natural Areas\",\"orientation\":\"v\",\"showlegend\":false,\"textposition\":\"auto\",\"x\":[\"BR + w\\u002fin 1km of Natural Areas\"],\"xaxis\":\"x5\",\"y\":[95328],\"yaxis\":\"y5\",\"type\":\"bar\"},{\"alignmentgroup\":\"True\",\"hovertemplate\":\"variable=%{x}\\u003cbr\\u003eregion_name=oregon\\u003cbr\\u003evalue=%{y}\\u003cextra\\u003e\\u003c\\u002fextra\\u003e\",\"legendgroup\":\"BR + w\\u002fin 1km of Natural Areas\",\"marker\":{\"color\":\"rgb(220, 176, 242)\",\"pattern\":{\"shape\":\"\"}},\"name\":\"BR + w\\u002fin 1km of Natural Areas\",\"offsetgroup\":\"BR + w\\u002fin 1km of Natural Areas\",\"orientation\":\"v\",\"showlegend\":false,\"textposition\":\"auto\",\"x\":[\"BR + w\\u002fin 1km of Natural Areas\"],\"xaxis\":\"x4\",\"y\":[50877],\"yaxis\":\"y4\",\"type\":\"bar\"},{\"alignmentgroup\":\"True\",\"hovertemplate\":\"variable=%{x}\\u003cbr\\u003eregion_name=utah\\u003cbr\\u003evalue=%{y}\\u003cextra\\u003e\\u003c\\u002fextra\\u003e\",\"legendgroup\":\"BR + w\\u002fin 1km of Natural Areas\",\"marker\":{\"color\":\"rgb(220, 176, 242)\",\"pattern\":{\"shape\":\"\"}},\"name\":\"BR + w\\u002fin 1km of Natural Areas\",\"offsetgroup\":\"BR + w\\u002fin 1km of Natural Areas\",\"orientation\":\"v\",\"showlegend\":false,\"textposition\":\"auto\",\"x\":[\"BR + w\\u002fin 1km of Natural Areas\"],\"xaxis\":\"x3\",\"y\":[55520],\"yaxis\":\"y3\",\"type\":\"bar\"},{\"alignmentgroup\":\"True\",\"hovertemplate\":\"variable=%{x}\\u003cbr\\u003eregion_name=washington\\u003cbr\\u003evalue=%{y}\\u003cextra\\u003e\\u003c\\u002fextra\\u003e\",\"legendgroup\":\"BR + w\\u002fin 1km of Natural Areas\",\"marker\":{\"color\":\"rgb(220, 176, 242)\",\"pattern\":{\"shape\":\"\"}},\"name\":\"BR + w\\u002fin 1km of Natural Areas\",\"offsetgroup\":\"BR + w\\u002fin 1km of Natural Areas\",\"orientation\":\"v\",\"showlegend\":false,\"textposition\":\"auto\",\"x\":[\"BR + w\\u002fin 1km of Natural Areas\"],\"xaxis\":\"x2\",\"y\":[52188],\"yaxis\":\"y2\",\"type\":\"bar\"},{\"alignmentgroup\":\"True\",\"hovertemplate\":\"variable=%{x}\\u003cbr\\u003eregion_name=wyoming\\u003cbr\\u003evalue=%{y}\\u003cextra\\u003e\\u003c\\u002fextra\\u003e\",\"legendgroup\":\"BR + w\\u002fin 1km of Natural Areas\",\"marker\":{\"color\":\"rgb(220, 176, 242)\",\"pattern\":{\"shape\":\"\"}},\"name\":\"BR + w\\u002fin 1km of Natural Areas\",\"offsetgroup\":\"BR + w\\u002fin 1km of Natural Areas\",\"orientation\":\"v\",\"showlegend\":false,\"textposition\":\"auto\",\"x\":[\"BR + w\\u002fin 1km of Natural Areas\"],\"xaxis\":\"x\",\"y\":[134216],\"yaxis\":\"y\",\"type\":\"bar\"},{\"alignmentgroup\":\"True\",\"hovertemplate\":\"variable=%{x}\\u003cbr\\u003eregion_name=arizona\\u003cbr\\u003evalue=%{y}\\u003cextra\\u003e\\u003c\\u002fextra\\u003e\",\"legendgroup\":\"BR + w\\u002fin 5km of Natural Areas\",\"marker\":{\"color\":\"rgb(135, 197, 95)\",\"pattern\":{\"shape\":\"\"}},\"name\":\"BR + w\\u002fin 5km of Natural Areas\",\"offsetgroup\":\"BR + w\\u002fin 5km of Natural Areas\",\"orientation\":\"v\",\"showlegend\":true,\"textposition\":\"auto\",\"x\":[\"BR + w\\u002fin 5km of Natural Areas\"],\"xaxis\":\"x11\",\"y\":[96083],\"yaxis\":\"y11\",\"type\":\"bar\"},{\"alignmentgroup\":\"True\",\"hovertemplate\":\"variable=%{x}\\u003cbr\\u003eregion_name=california\\u003cbr\\u003evalue=%{y}\\u003cextra\\u003e\\u003c\\u002fextra\\u003e\",\"legendgroup\":\"BR + w\\u002fin 5km of Natural Areas\",\"marker\":{\"color\":\"rgb(135, 197, 95)\",\"pattern\":{\"shape\":\"\"}},\"name\":\"BR + w\\u002fin 5km of Natural Areas\",\"offsetgroup\":\"BR + w\\u002fin 5km of Natural Areas\",\"orientation\":\"v\",\"showlegend\":false,\"textposition\":\"auto\",\"x\":[\"BR + w\\u002fin 5km of Natural Areas\"],\"xaxis\":\"x10\",\"y\":[35956],\"yaxis\":\"y10\",\"type\":\"bar\"},{\"alignmentgroup\":\"True\",\"hovertemplate\":\"variable=%{x}\\u003cbr\\u003eregion_name=colorado\\u003cbr\\u003evalue=%{y}\\u003cextra\\u003e\\u003c\\u002fextra\\u003e\",\"legendgroup\":\"BR + w\\u002fin 5km of Natural Areas\",\"marker\":{\"color\":\"rgb(135, 197, 95)\",\"pattern\":{\"shape\":\"\"}},\"name\":\"BR + w\\u002fin 5km of Natural Areas\",\"offsetgroup\":\"BR + w\\u002fin 5km of Natural Areas\",\"orientation\":\"v\",\"showlegend\":false,\"textposition\":\"auto\",\"x\":[\"BR + w\\u002fin 5km of Natural Areas\"],\"xaxis\":\"x9\",\"y\":[74108],\"yaxis\":\"y9\",\"type\":\"bar\"},{\"alignmentgroup\":\"True\",\"hovertemplate\":\"variable=%{x}\\u003cbr\\u003eregion_name=idaho\\u003cbr\\u003evalue=%{y}\\u003cextra\\u003e\\u003c\\u002fextra\\u003e\",\"legendgroup\":\"BR + w\\u002fin 5km of Natural Areas\",\"marker\":{\"color\":\"rgb(135, 197, 95)\",\"pattern\":{\"shape\":\"\"}},\"name\":\"BR + w\\u002fin 5km of Natural Areas\",\"offsetgroup\":\"BR + w\\u002fin 5km of Natural Areas\",\"orientation\":\"v\",\"showlegend\":false,\"textposition\":\"auto\",\"x\":[\"BR + w\\u002fin 5km of Natural Areas\"],\"xaxis\":\"x8\",\"y\":[24823],\"yaxis\":\"y8\",\"type\":\"bar\"},{\"alignmentgroup\":\"True\",\"hovertemplate\":\"variable=%{x}\\u003cbr\\u003eregion_name=montana\\u003cbr\\u003evalue=%{y}\\u003cextra\\u003e\\u003c\\u002fextra\\u003e\",\"legendgroup\":\"BR + w\\u002fin 5km of Natural Areas\",\"marker\":{\"color\":\"rgb(135, 197, 95)\",\"pattern\":{\"shape\":\"\"}},\"name\":\"BR + w\\u002fin 5km of Natural Areas\",\"offsetgroup\":\"BR + w\\u002fin 5km of Natural Areas\",\"orientation\":\"v\",\"showlegend\":false,\"textposition\":\"auto\",\"x\":[\"BR + w\\u002fin 5km of Natural Areas\"],\"xaxis\":\"x7\",\"y\":[73973],\"yaxis\":\"y7\",\"type\":\"bar\"},{\"alignmentgroup\":\"True\",\"hovertemplate\":\"variable=%{x}\\u003cbr\\u003eregion_name=new_mexico\\u003cbr\\u003evalue=%{y}\\u003cextra\\u003e\\u003c\\u002fextra\\u003e\",\"legendgroup\":\"BR + w\\u002fin 5km of Natural Areas\",\"marker\":{\"color\":\"rgb(135, 197, 95)\",\"pattern\":{\"shape\":\"\"}},\"name\":\"BR + w\\u002fin 5km of Natural Areas\",\"offsetgroup\":\"BR + w\\u002fin 5km of Natural Areas\",\"orientation\":\"v\",\"showlegend\":false,\"textposition\":\"auto\",\"x\":[\"BR + w\\u002fin 5km of Natural Areas\"],\"xaxis\":\"x6\",\"y\":[140879],\"yaxis\":\"y6\",\"type\":\"bar\"},{\"alignmentgroup\":\"True\",\"hovertemplate\":\"variable=%{x}\\u003cbr\\u003eregion_name=nevada\\u003cbr\\u003evalue=%{y}\\u003cextra\\u003e\\u003c\\u002fextra\\u003e\",\"legendgroup\":\"BR + w\\u002fin 5km of Natural Areas\",\"marker\":{\"color\":\"rgb(135, 197, 95)\",\"pattern\":{\"shape\":\"\"}},\"name\":\"BR + w\\u002fin 5km of Natural Areas\",\"offsetgroup\":\"BR + w\\u002fin 5km of Natural Areas\",\"orientation\":\"v\",\"showlegend\":false,\"textposition\":\"auto\",\"x\":[\"BR + w\\u002fin 5km of Natural Areas\"],\"xaxis\":\"x5\",\"y\":[58064],\"yaxis\":\"y5\",\"type\":\"bar\"},{\"alignmentgroup\":\"True\",\"hovertemplate\":\"variable=%{x}\\u003cbr\\u003eregion_name=oregon\\u003cbr\\u003evalue=%{y}\\u003cextra\\u003e\\u003c\\u002fextra\\u003e\",\"legendgroup\":\"BR + w\\u002fin 5km of Natural Areas\",\"marker\":{\"color\":\"rgb(135, 197, 95)\",\"pattern\":{\"shape\":\"\"}},\"name\":\"BR + w\\u002fin 5km of Natural Areas\",\"offsetgroup\":\"BR + w\\u002fin 5km of Natural Areas\",\"orientation\":\"v\",\"showlegend\":false,\"textposition\":\"auto\",\"x\":[\"BR + w\\u002fin 5km of Natural Areas\"],\"xaxis\":\"x4\",\"y\":[24900],\"yaxis\":\"y4\",\"type\":\"bar\"},{\"alignmentgroup\":\"True\",\"hovertemplate\":\"variable=%{x}\\u003cbr\\u003eregion_name=utah\\u003cbr\\u003evalue=%{y}\\u003cextra\\u003e\\u003c\\u002fextra\\u003e\",\"legendgroup\":\"BR + w\\u002fin 5km of Natural Areas\",\"marker\":{\"color\":\"rgb(135, 197, 95)\",\"pattern\":{\"shape\":\"\"}},\"name\":\"BR + w\\u002fin 5km of Natural Areas\",\"offsetgroup\":\"BR + w\\u002fin 5km of Natural Areas\",\"orientation\":\"v\",\"showlegend\":false,\"textposition\":\"auto\",\"x\":[\"BR + w\\u002fin 5km of Natural Areas\"],\"xaxis\":\"x3\",\"y\":[35567],\"yaxis\":\"y3\",\"type\":\"bar\"},{\"alignmentgroup\":\"True\",\"hovertemplate\":\"variable=%{x}\\u003cbr\\u003eregion_name=washington\\u003cbr\\u003evalue=%{y}\\u003cextra\\u003e\\u003c\\u002fextra\\u003e\",\"legendgroup\":\"BR + w\\u002fin 5km of Natural Areas\",\"marker\":{\"color\":\"rgb(135, 197, 95)\",\"pattern\":{\"shape\":\"\"}},\"name\":\"BR + w\\u002fin 5km of Natural Areas\",\"offsetgroup\":\"BR + w\\u002fin 5km of Natural Areas\",\"orientation\":\"v\",\"showlegend\":false,\"textposition\":\"auto\",\"x\":[\"BR + w\\u002fin 5km of Natural Areas\"],\"xaxis\":\"x2\",\"y\":[27573],\"yaxis\":\"y2\",\"type\":\"bar\"},{\"alignmentgroup\":\"True\",\"hovertemplate\":\"variable=%{x}\\u003cbr\\u003eregion_name=wyoming\\u003cbr\\u003evalue=%{y}\\u003cextra\\u003e\\u003c\\u002fextra\\u003e\",\"legendgroup\":\"BR + w\\u002fin 5km of Natural Areas\",\"marker\":{\"color\":\"rgb(135, 197, 95)\",\"pattern\":{\"shape\":\"\"}},\"name\":\"BR + w\\u002fin 5km of Natural Areas\",\"offsetgroup\":\"BR + w\\u002fin 5km of Natural Areas\",\"orientation\":\"v\",\"showlegend\":false,\"textposition\":\"auto\",\"x\":[\"BR + w\\u002fin 5km of Natural Areas\"],\"xaxis\":\"x\",\"y\":[77349],\"yaxis\":\"y\",\"type\":\"bar\"},{\"alignmentgroup\":\"True\",\"hovertemplate\":\"variable=%{x}\\u003cbr\\u003eregion_name=arizona\\u003cbr\\u003evalue=%{y}\\u003cextra\\u003e\\u003c\\u002fextra\\u003e\",\"legendgroup\":\"BR + w\\u002fin 10km of Natural Areas\",\"marker\":{\"color\":\"rgb(158, 185, 243)\",\"pattern\":{\"shape\":\"\"}},\"name\":\"BR + w\\u002fin 10km of Natural Areas\",\"offsetgroup\":\"BR + w\\u002fin 10km of Natural Areas\",\"orientation\":\"v\",\"showlegend\":true,\"textposition\":\"auto\",\"x\":[\"BR + w\\u002fin 10km of Natural Areas\"],\"xaxis\":\"x11\",\"y\":[58685],\"yaxis\":\"y11\",\"type\":\"bar\"},{\"alignmentgroup\":\"True\",\"hovertemplate\":\"variable=%{x}\\u003cbr\\u003eregion_name=california\\u003cbr\\u003evalue=%{y}\\u003cextra\\u003e\\u003c\\u002fextra\\u003e\",\"legendgroup\":\"BR + w\\u002fin 10km of Natural Areas\",\"marker\":{\"color\":\"rgb(158, 185, 243)\",\"pattern\":{\"shape\":\"\"}},\"name\":\"BR + w\\u002fin 10km of Natural Areas\",\"offsetgroup\":\"BR + w\\u002fin 10km of Natural Areas\",\"orientation\":\"v\",\"showlegend\":false,\"textposition\":\"auto\",\"x\":[\"BR + w\\u002fin 10km of Natural Areas\"],\"xaxis\":\"x10\",\"y\":[12363],\"yaxis\":\"y10\",\"type\":\"bar\"},{\"alignmentgroup\":\"True\",\"hovertemplate\":\"variable=%{x}\\u003cbr\\u003eregion_name=colorado\\u003cbr\\u003evalue=%{y}\\u003cextra\\u003e\\u003c\\u002fextra\\u003e\",\"legendgroup\":\"BR + w\\u002fin 10km of Natural Areas\",\"marker\":{\"color\":\"rgb(158, 185, 243)\",\"pattern\":{\"shape\":\"\"}},\"name\":\"BR + w\\u002fin 10km of Natural Areas\",\"offsetgroup\":\"BR + w\\u002fin 10km of Natural Areas\",\"orientation\":\"v\",\"showlegend\":false,\"textposition\":\"auto\",\"x\":[\"BR + w\\u002fin 10km of Natural Areas\"],\"xaxis\":\"x9\",\"y\":[44812],\"yaxis\":\"y9\",\"type\":\"bar\"},{\"alignmentgroup\":\"True\",\"hovertemplate\":\"variable=%{x}\\u003cbr\\u003eregion_name=idaho\\u003cbr\\u003evalue=%{y}\\u003cextra\\u003e\\u003c\\u002fextra\\u003e\",\"legendgroup\":\"BR + w\\u002fin 10km of Natural Areas\",\"marker\":{\"color\":\"rgb(158, 185, 243)\",\"pattern\":{\"shape\":\"\"}},\"name\":\"BR + w\\u002fin 10km of Natural Areas\",\"offsetgroup\":\"BR + w\\u002fin 10km of Natural Areas\",\"orientation\":\"v\",\"showlegend\":false,\"textposition\":\"auto\",\"x\":[\"BR + w\\u002fin 10km of Natural Areas\"],\"xaxis\":\"x8\",\"y\":[7220],\"yaxis\":\"y8\",\"type\":\"bar\"},{\"alignmentgroup\":\"True\",\"hovertemplate\":\"variable=%{x}\\u003cbr\\u003eregion_name=montana\\u003cbr\\u003evalue=%{y}\\u003cextra\\u003e\\u003c\\u002fextra\\u003e\",\"legendgroup\":\"BR + w\\u002fin 10km of Natural Areas\",\"marker\":{\"color\":\"rgb(158, 185, 243)\",\"pattern\":{\"shape\":\"\"}},\"name\":\"BR + w\\u002fin 10km of Natural Areas\",\"offsetgroup\":\"BR + w\\u002fin 10km of Natural Areas\",\"orientation\":\"v\",\"showlegend\":false,\"textposition\":\"auto\",\"x\":[\"BR + w\\u002fin 10km of Natural Areas\"],\"xaxis\":\"x7\",\"y\":[22620],\"yaxis\":\"y7\",\"type\":\"bar\"},{\"alignmentgroup\":\"True\",\"hovertemplate\":\"variable=%{x}\\u003cbr\\u003eregion_name=new_mexico\\u003cbr\\u003evalue=%{y}\\u003cextra\\u003e\\u003c\\u002fextra\\u003e\",\"legendgroup\":\"BR + w\\u002fin 10km of Natural Areas\",\"marker\":{\"color\":\"rgb(158, 185, 243)\",\"pattern\":{\"shape\":\"\"}},\"name\":\"BR + w\\u002fin 10km of Natural Areas\",\"offsetgroup\":\"BR + w\\u002fin 10km of Natural Areas\",\"orientation\":\"v\",\"showlegend\":false,\"textposition\":\"auto\",\"x\":[\"BR + w\\u002fin 10km of Natural Areas\"],\"xaxis\":\"x6\",\"y\":[95623],\"yaxis\":\"y6\",\"type\":\"bar\"},{\"alignmentgroup\":\"True\",\"hovertemplate\":\"variable=%{x}\\u003cbr\\u003eregion_name=nevada\\u003cbr\\u003evalue=%{y}\\u003cextra\\u003e\\u003c\\u002fextra\\u003e\",\"legendgroup\":\"BR + w\\u002fin 10km of Natural Areas\",\"marker\":{\"color\":\"rgb(158, 185, 243)\",\"pattern\":{\"shape\":\"\"}},\"name\":\"BR + w\\u002fin 10km of Natural Areas\",\"offsetgroup\":\"BR + w\\u002fin 10km of Natural Areas\",\"orientation\":\"v\",\"showlegend\":false,\"textposition\":\"auto\",\"x\":[\"BR + w\\u002fin 10km of Natural Areas\"],\"xaxis\":\"x5\",\"y\":[31555],\"yaxis\":\"y5\",\"type\":\"bar\"},{\"alignmentgroup\":\"True\",\"hovertemplate\":\"variable=%{x}\\u003cbr\\u003eregion_name=oregon\\u003cbr\\u003evalue=%{y}\\u003cextra\\u003e\\u003c\\u002fextra\\u003e\",\"legendgroup\":\"BR + w\\u002fin 10km of Natural Areas\",\"marker\":{\"color\":\"rgb(158, 185, 243)\",\"pattern\":{\"shape\":\"\"}},\"name\":\"BR + w\\u002fin 10km of Natural Areas\",\"offsetgroup\":\"BR + w\\u002fin 10km of Natural Areas\",\"orientation\":\"v\",\"showlegend\":false,\"textposition\":\"auto\",\"x\":[\"BR + w\\u002fin 10km of Natural Areas\"],\"xaxis\":\"x4\",\"y\":[9672],\"yaxis\":\"y4\",\"type\":\"bar\"},{\"alignmentgroup\":\"True\",\"hovertemplate\":\"variable=%{x}\\u003cbr\\u003eregion_name=utah\\u003cbr\\u003evalue=%{y}\\u003cextra\\u003e\\u003c\\u002fextra\\u003e\",\"legendgroup\":\"BR + w\\u002fin 10km of Natural Areas\",\"marker\":{\"color\":\"rgb(158, 185, 243)\",\"pattern\":{\"shape\":\"\"}},\"name\":\"BR + w\\u002fin 10km of Natural Areas\",\"offsetgroup\":\"BR + w\\u002fin 10km of Natural Areas\",\"orientation\":\"v\",\"showlegend\":false,\"textposition\":\"auto\",\"x\":[\"BR + w\\u002fin 10km of Natural Areas\"],\"xaxis\":\"x3\",\"y\":[20191],\"yaxis\":\"y3\",\"type\":\"bar\"},{\"alignmentgroup\":\"True\",\"hovertemplate\":\"variable=%{x}\\u003cbr\\u003eregion_name=washington\\u003cbr\\u003evalue=%{y}\\u003cextra\\u003e\\u003c\\u002fextra\\u003e\",\"legendgroup\":\"BR + w\\u002fin 10km of Natural Areas\",\"marker\":{\"color\":\"rgb(158, 185, 243)\",\"pattern\":{\"shape\":\"\"}},\"name\":\"BR + w\\u002fin 10km of Natural Areas\",\"offsetgroup\":\"BR + w\\u002fin 10km of Natural Areas\",\"orientation\":\"v\",\"showlegend\":false,\"textposition\":\"auto\",\"x\":[\"BR + w\\u002fin 10km of Natural Areas\"],\"xaxis\":\"x2\",\"y\":[11489],\"yaxis\":\"y2\",\"type\":\"bar\"},{\"alignmentgroup\":\"True\",\"hovertemplate\":\"variable=%{x}\\u003cbr\\u003eregion_name=wyoming\\u003cbr\\u003evalue=%{y}\\u003cextra\\u003e\\u003c\\u002fextra\\u003e\",\"legendgroup\":\"BR + w\\u002fin 10km of Natural Areas\",\"marker\":{\"color\":\"rgb(158, 185, 243)\",\"pattern\":{\"shape\":\"\"}},\"name\":\"BR + w\\u002fin 10km of Natural Areas\",\"offsetgroup\":\"BR + w\\u002fin 10km of Natural Areas\",\"orientation\":\"v\",\"showlegend\":false,\"textposition\":\"auto\",\"x\":[\"BR + w\\u002fin 10km of Natural Areas\"],\"xaxis\":\"x\",\"y\":[35279],\"yaxis\":\"y\",\"type\":\"bar\"},{\"alignmentgroup\":\"True\",\"hovertemplate\":\"variable=%{x}\\u003cbr\\u003eregion_name=arizona\\u003cbr\\u003evalue=%{y}\\u003cextra\\u003e\\u003c\\u002fextra\\u003e\",\"legendgroup\":\"BR + DACS, w\\u002fin 5km of Natural Area, and Important Farmland\",\"marker\":{\"color\":\"rgb(254, 136, 177)\",\"pattern\":{\"shape\":\"\"}},\"name\":\"BR + DACS, w\\u002fin 5km of Natural Area, and Important Farmland\",\"offsetgroup\":\"BR + DACS, w\\u002fin 5km of Natural Area, and Important Farmland\",\"orientation\":\"v\",\"showlegend\":true,\"textposition\":\"auto\",\"x\":[\"BR + DACS, w\\u002fin 5km of Natural Area, and Important Farmland\"],\"xaxis\":\"x11\",\"y\":[29037],\"yaxis\":\"y11\",\"type\":\"bar\"},{\"alignmentgroup\":\"True\",\"hovertemplate\":\"variable=%{x}\\u003cbr\\u003eregion_name=california\\u003cbr\\u003evalue=%{y}\\u003cextra\\u003e\\u003c\\u002fextra\\u003e\",\"legendgroup\":\"BR + DACS, w\\u002fin 5km of Natural Area, and Important Farmland\",\"marker\":{\"color\":\"rgb(254, 136, 177)\",\"pattern\":{\"shape\":\"\"}},\"name\":\"BR + DACS, w\\u002fin 5km of Natural Area, and Important Farmland\",\"offsetgroup\":\"BR + DACS, w\\u002fin 5km of Natural Area, and Important Farmland\",\"orientation\":\"v\",\"showlegend\":false,\"textposition\":\"auto\",\"x\":[\"BR + DACS, w\\u002fin 5km of Natural Area, and Important Farmland\"],\"xaxis\":\"x10\",\"y\":[11447],\"yaxis\":\"y10\",\"type\":\"bar\"},{\"alignmentgroup\":\"True\",\"hovertemplate\":\"variable=%{x}\\u003cbr\\u003eregion_name=colorado\\u003cbr\\u003evalue=%{y}\\u003cextra\\u003e\\u003c\\u002fextra\\u003e\",\"legendgroup\":\"BR + DACS, w\\u002fin 5km of Natural Area, and Important Farmland\",\"marker\":{\"color\":\"rgb(254, 136, 177)\",\"pattern\":{\"shape\":\"\"}},\"name\":\"BR + DACS, w\\u002fin 5km of Natural Area, and Important Farmland\",\"offsetgroup\":\"BR + DACS, w\\u002fin 5km of Natural Area, and Important Farmland\",\"orientation\":\"v\",\"showlegend\":false,\"textposition\":\"auto\",\"x\":[\"BR + DACS, w\\u002fin 5km of Natural Area, and Important Farmland\"],\"xaxis\":\"x9\",\"y\":[33028],\"yaxis\":\"y9\",\"type\":\"bar\"},{\"alignmentgroup\":\"True\",\"hovertemplate\":\"variable=%{x}\\u003cbr\\u003eregion_name=idaho\\u003cbr\\u003evalue=%{y}\\u003cextra\\u003e\\u003c\\u002fextra\\u003e\",\"legendgroup\":\"BR + DACS, w\\u002fin 5km of Natural Area, and Important Farmland\",\"marker\":{\"color\":\"rgb(254, 136, 177)\",\"pattern\":{\"shape\":\"\"}},\"name\":\"BR + DACS, w\\u002fin 5km of Natural Area, and Important Farmland\",\"offsetgroup\":\"BR + DACS, w\\u002fin 5km of Natural Area, and Important Farmland\",\"orientation\":\"v\",\"showlegend\":false,\"textposition\":\"auto\",\"x\":[\"BR + DACS, w\\u002fin 5km of Natural Area, and Important Farmland\"],\"xaxis\":\"x8\",\"y\":[5924],\"yaxis\":\"y8\",\"type\":\"bar\"},{\"alignmentgroup\":\"True\",\"hovertemplate\":\"variable=%{x}\\u003cbr\\u003eregion_name=montana\\u003cbr\\u003evalue=%{y}\\u003cextra\\u003e\\u003c\\u002fextra\\u003e\",\"legendgroup\":\"BR + DACS, w\\u002fin 5km of Natural Area, and Important Farmland\",\"marker\":{\"color\":\"rgb(254, 136, 177)\",\"pattern\":{\"shape\":\"\"}},\"name\":\"BR + DACS, w\\u002fin 5km of Natural Area, and Important Farmland\",\"offsetgroup\":\"BR + DACS, w\\u002fin 5km of Natural Area, and Important Farmland\",\"orientation\":\"v\",\"showlegend\":false,\"textposition\":\"auto\",\"x\":[\"BR + DACS, w\\u002fin 5km of Natural Area, and Important Farmland\"],\"xaxis\":\"x7\",\"y\":[34122],\"yaxis\":\"y7\",\"type\":\"bar\"},{\"alignmentgroup\":\"True\",\"hovertemplate\":\"variable=%{x}\\u003cbr\\u003eregion_name=new_mexico\\u003cbr\\u003evalue=%{y}\\u003cextra\\u003e\\u003c\\u002fextra\\u003e\",\"legendgroup\":\"BR + DACS, w\\u002fin 5km of Natural Area, and Important Farmland\",\"marker\":{\"color\":\"rgb(254, 136, 177)\",\"pattern\":{\"shape\":\"\"}},\"name\":\"BR + DACS, w\\u002fin 5km of Natural Area, and Important Farmland\",\"offsetgroup\":\"BR + DACS, w\\u002fin 5km of Natural Area, and Important Farmland\",\"orientation\":\"v\",\"showlegend\":false,\"textposition\":\"auto\",\"x\":[\"BR + DACS, w\\u002fin 5km of Natural Area, and Important Farmland\"],\"xaxis\":\"x6\",\"y\":[13895],\"yaxis\":\"y6\",\"type\":\"bar\"},{\"alignmentgroup\":\"True\",\"hovertemplate\":\"variable=%{x}\\u003cbr\\u003eregion_name=nevada\\u003cbr\\u003evalue=%{y}\\u003cextra\\u003e\\u003c\\u002fextra\\u003e\",\"legendgroup\":\"BR + DACS, w\\u002fin 5km of Natural Area, and Important Farmland\",\"marker\":{\"color\":\"rgb(254, 136, 177)\",\"pattern\":{\"shape\":\"\"}},\"name\":\"BR + DACS, w\\u002fin 5km of Natural Area, and Important Farmland\",\"offsetgroup\":\"BR + DACS, w\\u002fin 5km of Natural Area, and Important Farmland\",\"orientation\":\"v\",\"showlegend\":false,\"textposition\":\"auto\",\"x\":[\"BR + DACS, w\\u002fin 5km of Natural Area, and Important Farmland\"],\"xaxis\":\"x5\",\"y\":[43722],\"yaxis\":\"y5\",\"type\":\"bar\"},{\"alignmentgroup\":\"True\",\"hovertemplate\":\"variable=%{x}\\u003cbr\\u003eregion_name=oregon\\u003cbr\\u003evalue=%{y}\\u003cextra\\u003e\\u003c\\u002fextra\\u003e\",\"legendgroup\":\"BR + DACS, w\\u002fin 5km of Natural Area, and Important Farmland\",\"marker\":{\"color\":\"rgb(254, 136, 177)\",\"pattern\":{\"shape\":\"\"}},\"name\":\"BR + DACS, w\\u002fin 5km of Natural Area, and Important Farmland\",\"offsetgroup\":\"BR + DACS, w\\u002fin 5km of Natural Area, and Important Farmland\",\"orientation\":\"v\",\"showlegend\":false,\"textposition\":\"auto\",\"x\":[\"BR + DACS, w\\u002fin 5km of Natural Area, and Important Farmland\"],\"xaxis\":\"x4\",\"y\":[1582],\"yaxis\":\"y4\",\"type\":\"bar\"},{\"alignmentgroup\":\"True\",\"hovertemplate\":\"variable=%{x}\\u003cbr\\u003eregion_name=utah\\u003cbr\\u003evalue=%{y}\\u003cextra\\u003e\\u003c\\u002fextra\\u003e\",\"legendgroup\":\"BR + DACS, w\\u002fin 5km of Natural Area, and Important Farmland\",\"marker\":{\"color\":\"rgb(254, 136, 177)\",\"pattern\":{\"shape\":\"\"}},\"name\":\"BR + DACS, w\\u002fin 5km of Natural Area, and Important Farmland\",\"offsetgroup\":\"BR + DACS, w\\u002fin 5km of Natural Area, and Important Farmland\",\"orientation\":\"v\",\"showlegend\":false,\"textposition\":\"auto\",\"x\":[\"BR + DACS, w\\u002fin 5km of Natural Area, and Important Farmland\"],\"xaxis\":\"x3\",\"y\":[19698],\"yaxis\":\"y3\",\"type\":\"bar\"},{\"alignmentgroup\":\"True\",\"hovertemplate\":\"variable=%{x}\\u003cbr\\u003eregion_name=washington\\u003cbr\\u003evalue=%{y}\\u003cextra\\u003e\\u003c\\u002fextra\\u003e\",\"legendgroup\":\"BR + DACS, w\\u002fin 5km of Natural Area, and Important Farmland\",\"marker\":{\"color\":\"rgb(254, 136, 177)\",\"pattern\":{\"shape\":\"\"}},\"name\":\"BR + DACS, w\\u002fin 5km of Natural Area, and Important Farmland\",\"offsetgroup\":\"BR + DACS, w\\u002fin 5km of Natural Area, and Important Farmland\",\"orientation\":\"v\",\"showlegend\":false,\"textposition\":\"auto\",\"x\":[\"BR + DACS, w\\u002fin 5km of Natural Area, and Important Farmland\"],\"xaxis\":\"x2\",\"y\":[5980],\"yaxis\":\"y2\",\"type\":\"bar\"},{\"alignmentgroup\":\"True\",\"hovertemplate\":\"variable=%{x}\\u003cbr\\u003eregion_name=wyoming\\u003cbr\\u003evalue=%{y}\\u003cextra\\u003e\\u003c\\u002fextra\\u003e\",\"legendgroup\":\"BR + DACS, w\\u002fin 5km of Natural Area, and Important Farmland\",\"marker\":{\"color\":\"rgb(254, 136, 177)\",\"pattern\":{\"shape\":\"\"}},\"name\":\"BR + DACS, w\\u002fin 5km of Natural Area, and Important Farmland\",\"offsetgroup\":\"BR + DACS, w\\u002fin 5km of Natural Area, and Important Farmland\",\"orientation\":\"v\",\"showlegend\":false,\"textposition\":\"auto\",\"x\":[\"BR + DACS, w\\u002fin 5km of Natural Area, and Important Farmland\"],\"xaxis\":\"x\",\"y\":[66940],\"yaxis\":\"y\",\"type\":\"bar\"},{\"alignmentgroup\":\"True\",\"hovertemplate\":\"variable=%{x}\\u003cbr\\u003eregion_name=arizona\\u003cbr\\u003evalue=%{y}\\u003cextra\\u003e\\u003c\\u002fextra\\u003e\",\"legendgroup\":\"BR + w\\u002fin 5km of Natural Area and Important Farmland\",\"marker\":{\"color\":\"rgb(201, 219, 116)\",\"pattern\":{\"shape\":\"\"}},\"name\":\"BR + w\\u002fin 5km of Natural Area and Important Farmland\",\"offsetgroup\":\"BR + w\\u002fin 5km of Natural Area and Important Farmland\",\"orientation\":\"v\",\"showlegend\":true,\"textposition\":\"auto\",\"x\":[\"BR + w\\u002fin 5km of Natural Area and Important Farmland\"],\"xaxis\":\"x11\",\"y\":[94923],\"yaxis\":\"y11\",\"type\":\"bar\"},{\"alignmentgroup\":\"True\",\"hovertemplate\":\"variable=%{x}\\u003cbr\\u003eregion_name=california\\u003cbr\\u003evalue=%{y}\\u003cextra\\u003e\\u003c\\u002fextra\\u003e\",\"legendgroup\":\"BR + w\\u002fin 5km of Natural Area and Important Farmland\",\"marker\":{\"color\":\"rgb(201, 219, 116)\",\"pattern\":{\"shape\":\"\"}},\"name\":\"BR + w\\u002fin 5km of Natural Area and Important Farmland\",\"offsetgroup\":\"BR + w\\u002fin 5km of Natural Area and Important Farmland\",\"orientation\":\"v\",\"showlegend\":false,\"textposition\":\"auto\",\"x\":[\"BR + w\\u002fin 5km of Natural Area and Important Farmland\"],\"xaxis\":\"x10\",\"y\":[28055],\"yaxis\":\"y10\",\"type\":\"bar\"},{\"alignmentgroup\":\"True\",\"hovertemplate\":\"variable=%{x}\\u003cbr\\u003eregion_name=colorado\\u003cbr\\u003evalue=%{y}\\u003cextra\\u003e\\u003c\\u002fextra\\u003e\",\"legendgroup\":\"BR + w\\u002fin 5km of Natural Area and Important Farmland\",\"marker\":{\"color\":\"rgb(201, 219, 116)\",\"pattern\":{\"shape\":\"\"}},\"name\":\"BR + w\\u002fin 5km of Natural Area and Important Farmland\",\"offsetgroup\":\"BR + w\\u002fin 5km of Natural Area and Important Farmland\",\"orientation\":\"v\",\"showlegend\":false,\"textposition\":\"auto\",\"x\":[\"BR + w\\u002fin 5km of Natural Area and Important Farmland\"],\"xaxis\":\"x9\",\"y\":[67459],\"yaxis\":\"y9\",\"type\":\"bar\"},{\"alignmentgroup\":\"True\",\"hovertemplate\":\"variable=%{x}\\u003cbr\\u003eregion_name=idaho\\u003cbr\\u003evalue=%{y}\\u003cextra\\u003e\\u003c\\u002fextra\\u003e\",\"legendgroup\":\"BR + w\\u002fin 5km of Natural Area and Important Farmland\",\"marker\":{\"color\":\"rgb(201, 219, 116)\",\"pattern\":{\"shape\":\"\"}},\"name\":\"BR + w\\u002fin 5km of Natural Area and Important Farmland\",\"offsetgroup\":\"BR + w\\u002fin 5km of Natural Area and Important Farmland\",\"orientation\":\"v\",\"showlegend\":false,\"textposition\":\"auto\",\"x\":[\"BR + w\\u002fin 5km of Natural Area and Important Farmland\"],\"xaxis\":\"x8\",\"y\":[24319],\"yaxis\":\"y8\",\"type\":\"bar\"},{\"alignmentgroup\":\"True\",\"hovertemplate\":\"variable=%{x}\\u003cbr\\u003eregion_name=montana\\u003cbr\\u003evalue=%{y}\\u003cextra\\u003e\\u003c\\u002fextra\\u003e\",\"legendgroup\":\"BR + w\\u002fin 5km of Natural Area and Important Farmland\",\"marker\":{\"color\":\"rgb(201, 219, 116)\",\"pattern\":{\"shape\":\"\"}},\"name\":\"BR + w\\u002fin 5km of Natural Area and Important Farmland\",\"offsetgroup\":\"BR + w\\u002fin 5km of Natural Area and Important Farmland\",\"orientation\":\"v\",\"showlegend\":false,\"textposition\":\"auto\",\"x\":[\"BR + w\\u002fin 5km of Natural Area and Important Farmland\"],\"xaxis\":\"x7\",\"y\":[63629],\"yaxis\":\"y7\",\"type\":\"bar\"},{\"alignmentgroup\":\"True\",\"hovertemplate\":\"variable=%{x}\\u003cbr\\u003eregion_name=new_mexico\\u003cbr\\u003evalue=%{y}\\u003cextra\\u003e\\u003c\\u002fextra\\u003e\",\"legendgroup\":\"BR + w\\u002fin 5km of Natural Area and Important Farmland\",\"marker\":{\"color\":\"rgb(201, 219, 116)\",\"pattern\":{\"shape\":\"\"}},\"name\":\"BR + w\\u002fin 5km of Natural Area and Important Farmland\",\"offsetgroup\":\"BR + w\\u002fin 5km of Natural Area and Important Farmland\",\"orientation\":\"v\",\"showlegend\":false,\"textposition\":\"auto\",\"x\":[\"BR + w\\u002fin 5km of Natural Area and Important Farmland\"],\"xaxis\":\"x6\",\"y\":[123471],\"yaxis\":\"y6\",\"type\":\"bar\"},{\"alignmentgroup\":\"True\",\"hovertemplate\":\"variable=%{x}\\u003cbr\\u003eregion_name=nevada\\u003cbr\\u003evalue=%{y}\\u003cextra\\u003e\\u003c\\u002fextra\\u003e\",\"legendgroup\":\"BR + w\\u002fin 5km of Natural Area and Important Farmland\",\"marker\":{\"color\":\"rgb(201, 219, 116)\",\"pattern\":{\"shape\":\"\"}},\"name\":\"BR + w\\u002fin 5km of Natural Area and Important Farmland\",\"offsetgroup\":\"BR + w\\u002fin 5km of Natural Area and Important Farmland\",\"orientation\":\"v\",\"showlegend\":false,\"textposition\":\"auto\",\"x\":[\"BR + w\\u002fin 5km of Natural Area and Important Farmland\"],\"xaxis\":\"x5\",\"y\":[58022],\"yaxis\":\"y5\",\"type\":\"bar\"},{\"alignmentgroup\":\"True\",\"hovertemplate\":\"variable=%{x}\\u003cbr\\u003eregion_name=oregon\\u003cbr\\u003evalue=%{y}\\u003cextra\\u003e\\u003c\\u002fextra\\u003e\",\"legendgroup\":\"BR + w\\u002fin 5km of Natural Area and Important Farmland\",\"marker\":{\"color\":\"rgb(201, 219, 116)\",\"pattern\":{\"shape\":\"\"}},\"name\":\"BR + w\\u002fin 5km of Natural Area and Important Farmland\",\"offsetgroup\":\"BR + w\\u002fin 5km of Natural Area and Important Farmland\",\"orientation\":\"v\",\"showlegend\":false,\"textposition\":\"auto\",\"x\":[\"BR + w\\u002fin 5km of Natural Area and Important Farmland\"],\"xaxis\":\"x4\",\"y\":[10776],\"yaxis\":\"y4\",\"type\":\"bar\"},{\"alignmentgroup\":\"True\",\"hovertemplate\":\"variable=%{x}\\u003cbr\\u003eregion_name=utah\\u003cbr\\u003evalue=%{y}\\u003cextra\\u003e\\u003c\\u002fextra\\u003e\",\"legendgroup\":\"BR + w\\u002fin 5km of Natural Area and Important Farmland\",\"marker\":{\"color\":\"rgb(201, 219, 116)\",\"pattern\":{\"shape\":\"\"}},\"name\":\"BR + w\\u002fin 5km of Natural Area and Important Farmland\",\"offsetgroup\":\"BR + w\\u002fin 5km of Natural Area and Important Farmland\",\"orientation\":\"v\",\"showlegend\":false,\"textposition\":\"auto\",\"x\":[\"BR + w\\u002fin 5km of Natural Area and Important Farmland\"],\"xaxis\":\"x3\",\"y\":[33048],\"yaxis\":\"y3\",\"type\":\"bar\"},{\"alignmentgroup\":\"True\",\"hovertemplate\":\"variable=%{x}\\u003cbr\\u003eregion_name=washington\\u003cbr\\u003evalue=%{y}\\u003cextra\\u003e\\u003c\\u002fextra\\u003e\",\"legendgroup\":\"BR + w\\u002fin 5km of Natural Area and Important Farmland\",\"marker\":{\"color\":\"rgb(201, 219, 116)\",\"pattern\":{\"shape\":\"\"}},\"name\":\"BR + w\\u002fin 5km of Natural Area and Important Farmland\",\"offsetgroup\":\"BR + w\\u002fin 5km of Natural Area and Important Farmland\",\"orientation\":\"v\",\"showlegend\":false,\"textposition\":\"auto\",\"x\":[\"BR + w\\u002fin 5km of Natural Area and Important Farmland\"],\"xaxis\":\"x2\",\"y\":[14369],\"yaxis\":\"y2\",\"type\":\"bar\"},{\"alignmentgroup\":\"True\",\"hovertemplate\":\"variable=%{x}\\u003cbr\\u003eregion_name=wyoming\\u003cbr\\u003evalue=%{y}\\u003cextra\\u003e\\u003c\\u002fextra\\u003e\",\"legendgroup\":\"BR + w\\u002fin 5km of Natural Area and Important Farmland\",\"marker\":{\"color\":\"rgb(201, 219, 116)\",\"pattern\":{\"shape\":\"\"}},\"name\":\"BR + w\\u002fin 5km of Natural Area and Important Farmland\",\"offsetgroup\":\"BR + w\\u002fin 5km of Natural Area and Important Farmland\",\"orientation\":\"v\",\"showlegend\":false,\"textposition\":\"auto\",\"x\":[\"BR + w\\u002fin 5km of Natural Area and Important Farmland\"],\"xaxis\":\"x\",\"y\":[76781],\"yaxis\":\"y\",\"type\":\"bar\"},{\"alignmentgroup\":\"True\",\"hovertemplate\":\"variable=%{x}\\u003cbr\\u003eregion_name=arizona\\u003cbr\\u003evalue=%{y}\\u003cextra\\u003e\\u003c\\u002fextra\\u003e\",\"legendgroup\":\"BR + w\\u002fin 10km of Natural Area and Important Farmland\",\"marker\":{\"color\":\"rgb(139, 224, 164)\",\"pattern\":{\"shape\":\"\"}},\"name\":\"BR + w\\u002fin 10km of Natural Area and Important Farmland\",\"offsetgroup\":\"BR + w\\u002fin 10km of Natural Area and Important Farmland\",\"orientation\":\"v\",\"showlegend\":true,\"textposition\":\"auto\",\"x\":[\"BR + w\\u002fin 10km of Natural Area and Important Farmland\"],\"xaxis\":\"x11\",\"y\":[58270],\"yaxis\":\"y11\",\"type\":\"bar\"},{\"alignmentgroup\":\"True\",\"hovertemplate\":\"variable=%{x}\\u003cbr\\u003eregion_name=california\\u003cbr\\u003evalue=%{y}\\u003cextra\\u003e\\u003c\\u002fextra\\u003e\",\"legendgroup\":\"BR + w\\u002fin 10km of Natural Area and Important Farmland\",\"marker\":{\"color\":\"rgb(139, 224, 164)\",\"pattern\":{\"shape\":\"\"}},\"name\":\"BR + w\\u002fin 10km of Natural Area and Important Farmland\",\"offsetgroup\":\"BR + w\\u002fin 10km of Natural Area and Important Farmland\",\"orientation\":\"v\",\"showlegend\":false,\"textposition\":\"auto\",\"x\":[\"BR + w\\u002fin 10km of Natural Area and Important Farmland\"],\"xaxis\":\"x10\",\"y\":[9345],\"yaxis\":\"y10\",\"type\":\"bar\"},{\"alignmentgroup\":\"True\",\"hovertemplate\":\"variable=%{x}\\u003cbr\\u003eregion_name=colorado\\u003cbr\\u003evalue=%{y}\\u003cextra\\u003e\\u003c\\u002fextra\\u003e\",\"legendgroup\":\"BR + w\\u002fin 10km of Natural Area and Important Farmland\",\"marker\":{\"color\":\"rgb(139, 224, 164)\",\"pattern\":{\"shape\":\"\"}},\"name\":\"BR + w\\u002fin 10km of Natural Area and Important Farmland\",\"offsetgroup\":\"BR + w\\u002fin 10km of Natural Area and Important Farmland\",\"orientation\":\"v\",\"showlegend\":false,\"textposition\":\"auto\",\"x\":[\"BR + w\\u002fin 10km of Natural Area and Important Farmland\"],\"xaxis\":\"x9\",\"y\":[40765],\"yaxis\":\"y9\",\"type\":\"bar\"},{\"alignmentgroup\":\"True\",\"hovertemplate\":\"variable=%{x}\\u003cbr\\u003eregion_name=idaho\\u003cbr\\u003evalue=%{y}\\u003cextra\\u003e\\u003c\\u002fextra\\u003e\",\"legendgroup\":\"BR + w\\u002fin 10km of Natural Area and Important Farmland\",\"marker\":{\"color\":\"rgb(139, 224, 164)\",\"pattern\":{\"shape\":\"\"}},\"name\":\"BR + w\\u002fin 10km of Natural Area and Important Farmland\",\"offsetgroup\":\"BR + w\\u002fin 10km of Natural Area and Important Farmland\",\"orientation\":\"v\",\"showlegend\":false,\"textposition\":\"auto\",\"x\":[\"BR + w\\u002fin 10km of Natural Area and Important Farmland\"],\"xaxis\":\"x8\",\"y\":[6999],\"yaxis\":\"y8\",\"type\":\"bar\"},{\"alignmentgroup\":\"True\",\"hovertemplate\":\"variable=%{x}\\u003cbr\\u003eregion_name=montana\\u003cbr\\u003evalue=%{y}\\u003cextra\\u003e\\u003c\\u002fextra\\u003e\",\"legendgroup\":\"BR + w\\u002fin 10km of Natural Area and Important Farmland\",\"marker\":{\"color\":\"rgb(139, 224, 164)\",\"pattern\":{\"shape\":\"\"}},\"name\":\"BR + w\\u002fin 10km of Natural Area and Important Farmland\",\"offsetgroup\":\"BR + w\\u002fin 10km of Natural Area and Important Farmland\",\"orientation\":\"v\",\"showlegend\":false,\"textposition\":\"auto\",\"x\":[\"BR + w\\u002fin 10km of Natural Area and Important Farmland\"],\"xaxis\":\"x7\",\"y\":[19598],\"yaxis\":\"y7\",\"type\":\"bar\"},{\"alignmentgroup\":\"True\",\"hovertemplate\":\"variable=%{x}\\u003cbr\\u003eregion_name=new_mexico\\u003cbr\\u003evalue=%{y}\\u003cextra\\u003e\\u003c\\u002fextra\\u003e\",\"legendgroup\":\"BR + w\\u002fin 10km of Natural Area and Important Farmland\",\"marker\":{\"color\":\"rgb(139, 224, 164)\",\"pattern\":{\"shape\":\"\"}},\"name\":\"BR + w\\u002fin 10km of Natural Area and Important Farmland\",\"offsetgroup\":\"BR + w\\u002fin 10km of Natural Area and Important Farmland\",\"orientation\":\"v\",\"showlegend\":false,\"textposition\":\"auto\",\"x\":[\"BR + w\\u002fin 10km of Natural Area and Important Farmland\"],\"xaxis\":\"x6\",\"y\":[82948],\"yaxis\":\"y6\",\"type\":\"bar\"},{\"alignmentgroup\":\"True\",\"hovertemplate\":\"variable=%{x}\\u003cbr\\u003eregion_name=nevada\\u003cbr\\u003evalue=%{y}\\u003cextra\\u003e\\u003c\\u002fextra\\u003e\",\"legendgroup\":\"BR + w\\u002fin 10km of Natural Area and Important Farmland\",\"marker\":{\"color\":\"rgb(139, 224, 164)\",\"pattern\":{\"shape\":\"\"}},\"name\":\"BR + w\\u002fin 10km of Natural Area and Important Farmland\",\"offsetgroup\":\"BR + w\\u002fin 10km of Natural Area and Important Farmland\",\"orientation\":\"v\",\"showlegend\":false,\"textposition\":\"auto\",\"x\":[\"BR + w\\u002fin 10km of Natural Area and Important Farmland\"],\"xaxis\":\"x5\",\"y\":[31536],\"yaxis\":\"y5\",\"type\":\"bar\"},{\"alignmentgroup\":\"True\",\"hovertemplate\":\"variable=%{x}\\u003cbr\\u003eregion_name=oregon\\u003cbr\\u003evalue=%{y}\\u003cextra\\u003e\\u003c\\u002fextra\\u003e\",\"legendgroup\":\"BR + w\\u002fin 10km of Natural Area and Important Farmland\",\"marker\":{\"color\":\"rgb(139, 224, 164)\",\"pattern\":{\"shape\":\"\"}},\"name\":\"BR + w\\u002fin 10km of Natural Area and Important Farmland\",\"offsetgroup\":\"BR + w\\u002fin 10km of Natural Area and Important Farmland\",\"orientation\":\"v\",\"showlegend\":false,\"textposition\":\"auto\",\"x\":[\"BR + w\\u002fin 10km of Natural Area and Important Farmland\"],\"xaxis\":\"x4\",\"y\":[4147],\"yaxis\":\"y4\",\"type\":\"bar\"},{\"alignmentgroup\":\"True\",\"hovertemplate\":\"variable=%{x}\\u003cbr\\u003eregion_name=utah\\u003cbr\\u003evalue=%{y}\\u003cextra\\u003e\\u003c\\u002fextra\\u003e\",\"legendgroup\":\"BR + w\\u002fin 10km of Natural Area and Important Farmland\",\"marker\":{\"color\":\"rgb(139, 224, 164)\",\"pattern\":{\"shape\":\"\"}},\"name\":\"BR + w\\u002fin 10km of Natural Area and Important Farmland\",\"offsetgroup\":\"BR + w\\u002fin 10km of Natural Area and Important Farmland\",\"orientation\":\"v\",\"showlegend\":false,\"textposition\":\"auto\",\"x\":[\"BR + w\\u002fin 10km of Natural Area and Important Farmland\"],\"xaxis\":\"x3\",\"y\":[19213],\"yaxis\":\"y3\",\"type\":\"bar\"},{\"alignmentgroup\":\"True\",\"hovertemplate\":\"variable=%{x}\\u003cbr\\u003eregion_name=washington\\u003cbr\\u003evalue=%{y}\\u003cextra\\u003e\\u003c\\u002fextra\\u003e\",\"legendgroup\":\"BR + w\\u002fin 10km of Natural Area and Important Farmland\",\"marker\":{\"color\":\"rgb(139, 224, 164)\",\"pattern\":{\"shape\":\"\"}},\"name\":\"BR + w\\u002fin 10km of Natural Area and Important Farmland\",\"offsetgroup\":\"BR + w\\u002fin 10km of Natural Area and Important Farmland\",\"orientation\":\"v\",\"showlegend\":false,\"textposition\":\"auto\",\"x\":[\"BR + w\\u002fin 10km of Natural Area and Important Farmland\"],\"xaxis\":\"x2\",\"y\":[6037],\"yaxis\":\"y2\",\"type\":\"bar\"},{\"alignmentgroup\":\"True\",\"hovertemplate\":\"variable=%{x}\\u003cbr\\u003eregion_name=wyoming\\u003cbr\\u003evalue=%{y}\\u003cextra\\u003e\\u003c\\u002fextra\\u003e\",\"legendgroup\":\"BR + w\\u002fin 10km of Natural Area and Important Farmland\",\"marker\":{\"color\":\"rgb(139, 224, 164)\",\"pattern\":{\"shape\":\"\"}},\"name\":\"BR + w\\u002fin 10km of Natural Area and Important Farmland\",\"offsetgroup\":\"BR + w\\u002fin 10km of Natural Area and Important Farmland\",\"orientation\":\"v\",\"showlegend\":false,\"textposition\":\"auto\",\"x\":[\"BR + w\\u002fin 10km of Natural Area and Important Farmland\"],\"xaxis\":\"x\",\"y\":[35039],\"yaxis\":\"y\",\"type\":\"bar\"}],                        {\"template\":{\"data\":{\"histogram2dcontour\":[{\"type\":\"histogram2dcontour\",\"colorbar\":{\"outlinewidth\":0,\"ticks\":\"\"},\"colorscale\":[[0.0,\"#0d0887\"],[0.1111111111111111,\"#46039f\"],[0.2222222222222222,\"#7201a8\"],[0.3333333333333333,\"#9c179e\"],[0.4444444444444444,\"#bd3786\"],[0.5555555555555556,\"#d8576b\"],[0.6666666666666666,\"#ed7953\"],[0.7777777777777778,\"#fb9f3a\"],[0.8888888888888888,\"#fdca26\"],[1.0,\"#f0f921\"]]}],\"choropleth\":[{\"type\":\"choropleth\",\"colorbar\":{\"outlinewidth\":0,\"ticks\":\"\"}}],\"histogram2d\":[{\"type\":\"histogram2d\",\"colorbar\":{\"outlinewidth\":0,\"ticks\":\"\"},\"colorscale\":[[0.0,\"#0d0887\"],[0.1111111111111111,\"#46039f\"],[0.2222222222222222,\"#7201a8\"],[0.3333333333333333,\"#9c179e\"],[0.4444444444444444,\"#bd3786\"],[0.5555555555555556,\"#d8576b\"],[0.6666666666666666,\"#ed7953\"],[0.7777777777777778,\"#fb9f3a\"],[0.8888888888888888,\"#fdca26\"],[1.0,\"#f0f921\"]]}],\"heatmap\":[{\"type\":\"heatmap\",\"colorbar\":{\"outlinewidth\":0,\"ticks\":\"\"},\"colorscale\":[[0.0,\"#0d0887\"],[0.1111111111111111,\"#46039f\"],[0.2222222222222222,\"#7201a8\"],[0.3333333333333333,\"#9c179e\"],[0.4444444444444444,\"#bd3786\"],[0.5555555555555556,\"#d8576b\"],[0.6666666666666666,\"#ed7953\"],[0.7777777777777778,\"#fb9f3a\"],[0.8888888888888888,\"#fdca26\"],[1.0,\"#f0f921\"]]}],\"heatmapgl\":[{\"type\":\"heatmapgl\",\"colorbar\":{\"outlinewidth\":0,\"ticks\":\"\"},\"colorscale\":[[0.0,\"#0d0887\"],[0.1111111111111111,\"#46039f\"],[0.2222222222222222,\"#7201a8\"],[0.3333333333333333,\"#9c179e\"],[0.4444444444444444,\"#bd3786\"],[0.5555555555555556,\"#d8576b\"],[0.6666666666666666,\"#ed7953\"],[0.7777777777777778,\"#fb9f3a\"],[0.8888888888888888,\"#fdca26\"],[1.0,\"#f0f921\"]]}],\"contourcarpet\":[{\"type\":\"contourcarpet\",\"colorbar\":{\"outlinewidth\":0,\"ticks\":\"\"}}],\"contour\":[{\"type\":\"contour\",\"colorbar\":{\"outlinewidth\":0,\"ticks\":\"\"},\"colorscale\":[[0.0,\"#0d0887\"],[0.1111111111111111,\"#46039f\"],[0.2222222222222222,\"#7201a8\"],[0.3333333333333333,\"#9c179e\"],[0.4444444444444444,\"#bd3786\"],[0.5555555555555556,\"#d8576b\"],[0.6666666666666666,\"#ed7953\"],[0.7777777777777778,\"#fb9f3a\"],[0.8888888888888888,\"#fdca26\"],[1.0,\"#f0f921\"]]}],\"surface\":[{\"type\":\"surface\",\"colorbar\":{\"outlinewidth\":0,\"ticks\":\"\"},\"colorscale\":[[0.0,\"#0d0887\"],[0.1111111111111111,\"#46039f\"],[0.2222222222222222,\"#7201a8\"],[0.3333333333333333,\"#9c179e\"],[0.4444444444444444,\"#bd3786\"],[0.5555555555555556,\"#d8576b\"],[0.6666666666666666,\"#ed7953\"],[0.7777777777777778,\"#fb9f3a\"],[0.8888888888888888,\"#fdca26\"],[1.0,\"#f0f921\"]]}],\"mesh3d\":[{\"type\":\"mesh3d\",\"colorbar\":{\"outlinewidth\":0,\"ticks\":\"\"}}],\"scatter\":[{\"fillpattern\":{\"fillmode\":\"overlay\",\"size\":10,\"solidity\":0.2},\"type\":\"scatter\"}],\"parcoords\":[{\"type\":\"parcoords\",\"line\":{\"colorbar\":{\"outlinewidth\":0,\"ticks\":\"\"}}}],\"scatterpolargl\":[{\"type\":\"scatterpolargl\",\"marker\":{\"colorbar\":{\"outlinewidth\":0,\"ticks\":\"\"}}}],\"bar\":[{\"error_x\":{\"color\":\"#2a3f5f\"},\"error_y\":{\"color\":\"#2a3f5f\"},\"marker\":{\"line\":{\"color\":\"#E5ECF6\",\"width\":0.5},\"pattern\":{\"fillmode\":\"overlay\",\"size\":10,\"solidity\":0.2}},\"type\":\"bar\"}],\"scattergeo\":[{\"type\":\"scattergeo\",\"marker\":{\"colorbar\":{\"outlinewidth\":0,\"ticks\":\"\"}}}],\"scatterpolar\":[{\"type\":\"scatterpolar\",\"marker\":{\"colorbar\":{\"outlinewidth\":0,\"ticks\":\"\"}}}],\"histogram\":[{\"marker\":{\"pattern\":{\"fillmode\":\"overlay\",\"size\":10,\"solidity\":0.2}},\"type\":\"histogram\"}],\"scattergl\":[{\"type\":\"scattergl\",\"marker\":{\"colorbar\":{\"outlinewidth\":0,\"ticks\":\"\"}}}],\"scatter3d\":[{\"type\":\"scatter3d\",\"line\":{\"colorbar\":{\"outlinewidth\":0,\"ticks\":\"\"}},\"marker\":{\"colorbar\":{\"outlinewidth\":0,\"ticks\":\"\"}}}],\"scattermapbox\":[{\"type\":\"scattermapbox\",\"marker\":{\"colorbar\":{\"outlinewidth\":0,\"ticks\":\"\"}}}],\"scatterternary\":[{\"type\":\"scatterternary\",\"marker\":{\"colorbar\":{\"outlinewidth\":0,\"ticks\":\"\"}}}],\"scattercarpet\":[{\"type\":\"scattercarpet\",\"marker\":{\"colorbar\":{\"outlinewidth\":0,\"ticks\":\"\"}}}],\"carpet\":[{\"aaxis\":{\"endlinecolor\":\"#2a3f5f\",\"gridcolor\":\"white\",\"linecolor\":\"white\",\"minorgridcolor\":\"white\",\"startlinecolor\":\"#2a3f5f\"},\"baxis\":{\"endlinecolor\":\"#2a3f5f\",\"gridcolor\":\"white\",\"linecolor\":\"white\",\"minorgridcolor\":\"white\",\"startlinecolor\":\"#2a3f5f\"},\"type\":\"carpet\"}],\"table\":[{\"cells\":{\"fill\":{\"color\":\"#EBF0F8\"},\"line\":{\"color\":\"white\"}},\"header\":{\"fill\":{\"color\":\"#C8D4E3\"},\"line\":{\"color\":\"white\"}},\"type\":\"table\"}],\"barpolar\":[{\"marker\":{\"line\":{\"color\":\"#E5ECF6\",\"width\":0.5},\"pattern\":{\"fillmode\":\"overlay\",\"size\":10,\"solidity\":0.2}},\"type\":\"barpolar\"}],\"pie\":[{\"automargin\":true,\"type\":\"pie\"}]},\"layout\":{\"autotypenumbers\":\"strict\",\"colorway\":[\"#636efa\",\"#EF553B\",\"#00cc96\",\"#ab63fa\",\"#FFA15A\",\"#19d3f3\",\"#FF6692\",\"#B6E880\",\"#FF97FF\",\"#FECB52\"],\"font\":{\"color\":\"#2a3f5f\"},\"hovermode\":\"closest\",\"hoverlabel\":{\"align\":\"left\"},\"paper_bgcolor\":\"white\",\"plot_bgcolor\":\"#E5ECF6\",\"polar\":{\"bgcolor\":\"#E5ECF6\",\"angularaxis\":{\"gridcolor\":\"white\",\"linecolor\":\"white\",\"ticks\":\"\"},\"radialaxis\":{\"gridcolor\":\"white\",\"linecolor\":\"white\",\"ticks\":\"\"}},\"ternary\":{\"bgcolor\":\"#E5ECF6\",\"aaxis\":{\"gridcolor\":\"white\",\"linecolor\":\"white\",\"ticks\":\"\"},\"baxis\":{\"gridcolor\":\"white\",\"linecolor\":\"white\",\"ticks\":\"\"},\"caxis\":{\"gridcolor\":\"white\",\"linecolor\":\"white\",\"ticks\":\"\"}},\"coloraxis\":{\"colorbar\":{\"outlinewidth\":0,\"ticks\":\"\"}},\"colorscale\":{\"sequential\":[[0.0,\"#0d0887\"],[0.1111111111111111,\"#46039f\"],[0.2222222222222222,\"#7201a8\"],[0.3333333333333333,\"#9c179e\"],[0.4444444444444444,\"#bd3786\"],[0.5555555555555556,\"#d8576b\"],[0.6666666666666666,\"#ed7953\"],[0.7777777777777778,\"#fb9f3a\"],[0.8888888888888888,\"#fdca26\"],[1.0,\"#f0f921\"]],\"sequentialminus\":[[0.0,\"#0d0887\"],[0.1111111111111111,\"#46039f\"],[0.2222222222222222,\"#7201a8\"],[0.3333333333333333,\"#9c179e\"],[0.4444444444444444,\"#bd3786\"],[0.5555555555555556,\"#d8576b\"],[0.6666666666666666,\"#ed7953\"],[0.7777777777777778,\"#fb9f3a\"],[0.8888888888888888,\"#fdca26\"],[1.0,\"#f0f921\"]],\"diverging\":[[0,\"#8e0152\"],[0.1,\"#c51b7d\"],[0.2,\"#de77ae\"],[0.3,\"#f1b6da\"],[0.4,\"#fde0ef\"],[0.5,\"#f7f7f7\"],[0.6,\"#e6f5d0\"],[0.7,\"#b8e186\"],[0.8,\"#7fbc41\"],[0.9,\"#4d9221\"],[1,\"#276419\"]]},\"xaxis\":{\"gridcolor\":\"white\",\"linecolor\":\"white\",\"ticks\":\"\",\"title\":{\"standoff\":15},\"zerolinecolor\":\"white\",\"automargin\":true,\"zerolinewidth\":2},\"yaxis\":{\"gridcolor\":\"white\",\"linecolor\":\"white\",\"ticks\":\"\",\"title\":{\"standoff\":15},\"zerolinecolor\":\"white\",\"automargin\":true,\"zerolinewidth\":2},\"scene\":{\"xaxis\":{\"backgroundcolor\":\"#E5ECF6\",\"gridcolor\":\"white\",\"linecolor\":\"white\",\"showbackground\":true,\"ticks\":\"\",\"zerolinecolor\":\"white\",\"gridwidth\":2},\"yaxis\":{\"backgroundcolor\":\"#E5ECF6\",\"gridcolor\":\"white\",\"linecolor\":\"white\",\"showbackground\":true,\"ticks\":\"\",\"zerolinecolor\":\"white\",\"gridwidth\":2},\"zaxis\":{\"backgroundcolor\":\"#E5ECF6\",\"gridcolor\":\"white\",\"linecolor\":\"white\",\"showbackground\":true,\"ticks\":\"\",\"zerolinecolor\":\"white\",\"gridwidth\":2}},\"shapedefaults\":{\"line\":{\"color\":\"#2a3f5f\"}},\"annotationdefaults\":{\"arrowcolor\":\"#2a3f5f\",\"arrowhead\":0,\"arrowwidth\":1},\"geo\":{\"bgcolor\":\"white\",\"landcolor\":\"#E5ECF6\",\"subunitcolor\":\"white\",\"showland\":true,\"showlakes\":true,\"lakecolor\":\"white\"},\"title\":{\"x\":0.05},\"mapbox\":{\"style\":\"light\"}}},\"xaxis\":{\"anchor\":\"y\",\"domain\":[0.0,0.98],\"title\":{\"text\":\"variable\"},\"categoryorder\":\"array\",\"categoryarray\":[\"Baseline Restrictions (BR)\",\"BR + DACs\",\"BR + Important Farmland\",\"BR + w\\u002fin 1km of Natural Areas\",\"BR + w\\u002fin 5km of Natural Areas\",\"BR + w\\u002fin 10km of Natural Areas\",\"BR + DACS, w\\u002fin 5km of Natural Area, and Important Farmland\",\"BR + w\\u002fin 5km of Natural Area and Important Farmland\",\"BR + w\\u002fin 10km of Natural Area and Important Farmland\"]},\"yaxis\":{\"anchor\":\"x\",\"domain\":[0.0,0.06363636363636363],\"title\":{\"text\":\"square km\"},\"showgrid\":true,\"gridcolor\":\"#bdbdbd\"},\"xaxis2\":{\"anchor\":\"y2\",\"domain\":[0.0,0.98],\"matches\":\"x\",\"showticklabels\":false},\"yaxis2\":{\"anchor\":\"x2\",\"domain\":[0.09363636363636363,0.15727272727272726],\"title\":{\"text\":\"square km\"},\"showgrid\":true,\"gridcolor\":\"#bdbdbd\"},\"xaxis3\":{\"anchor\":\"y3\",\"domain\":[0.0,0.98],\"matches\":\"x\",\"showticklabels\":false},\"yaxis3\":{\"anchor\":\"x3\",\"domain\":[0.18727272727272726,0.25090909090909086],\"title\":{\"text\":\"square km\"},\"showgrid\":true,\"gridcolor\":\"#bdbdbd\"},\"xaxis4\":{\"anchor\":\"y4\",\"domain\":[0.0,0.98],\"matches\":\"x\",\"showticklabels\":false},\"yaxis4\":{\"anchor\":\"x4\",\"domain\":[0.2809090909090909,0.3445454545454545],\"title\":{\"text\":\"square km\"},\"showgrid\":true,\"gridcolor\":\"#bdbdbd\"},\"xaxis5\":{\"anchor\":\"y5\",\"domain\":[0.0,0.98],\"matches\":\"x\",\"showticklabels\":false},\"yaxis5\":{\"anchor\":\"x5\",\"domain\":[0.3745454545454545,0.4381818181818181],\"title\":{\"text\":\"square km\"},\"showgrid\":true,\"gridcolor\":\"#bdbdbd\"},\"xaxis6\":{\"anchor\":\"y6\",\"domain\":[0.0,0.98],\"matches\":\"x\",\"showticklabels\":false},\"yaxis6\":{\"anchor\":\"x6\",\"domain\":[0.46818181818181814,0.5318181818181817],\"title\":{\"text\":\"square km\"},\"showgrid\":true,\"gridcolor\":\"#bdbdbd\"},\"xaxis7\":{\"anchor\":\"y7\",\"domain\":[0.0,0.98],\"matches\":\"x\",\"showticklabels\":false},\"yaxis7\":{\"anchor\":\"x7\",\"domain\":[0.5618181818181818,0.6254545454545454],\"title\":{\"text\":\"square km\"},\"showgrid\":true,\"gridcolor\":\"#bdbdbd\"},\"xaxis8\":{\"anchor\":\"y8\",\"domain\":[0.0,0.98],\"matches\":\"x\",\"showticklabels\":false},\"yaxis8\":{\"anchor\":\"x8\",\"domain\":[0.6554545454545453,0.7190909090909089],\"title\":{\"text\":\"square km\"},\"showgrid\":true,\"gridcolor\":\"#bdbdbd\"},\"xaxis9\":{\"anchor\":\"y9\",\"domain\":[0.0,0.98],\"matches\":\"x\",\"showticklabels\":false},\"yaxis9\":{\"anchor\":\"x9\",\"domain\":[0.7490909090909089,0.8127272727272725],\"title\":{\"text\":\"square km\"},\"showgrid\":true,\"gridcolor\":\"#bdbdbd\"},\"xaxis10\":{\"anchor\":\"y10\",\"domain\":[0.0,0.98],\"matches\":\"x\",\"showticklabels\":false},\"yaxis10\":{\"anchor\":\"x10\",\"domain\":[0.8427272727272725,0.9063636363636361],\"title\":{\"text\":\"square km\"},\"showgrid\":true,\"gridcolor\":\"#bdbdbd\"},\"xaxis11\":{\"anchor\":\"y11\",\"domain\":[0.0,0.98],\"matches\":\"x\",\"showticklabels\":false},\"yaxis11\":{\"anchor\":\"x11\",\"domain\":[0.9363636363636361,0.9999999999999997],\"title\":{\"text\":\"square km\"},\"showgrid\":true,\"gridcolor\":\"#bdbdbd\"},\"annotations\":[{\"showarrow\":false,\"text\":\"\",\"textangle\":90,\"x\":0.98,\"xanchor\":\"left\",\"xref\":\"paper\",\"y\":0.031818181818181815,\"yanchor\":\"middle\",\"yref\":\"paper\"},{\"showarrow\":false,\"text\":\"\",\"textangle\":90,\"x\":0.98,\"xanchor\":\"left\",\"xref\":\"paper\",\"y\":0.12545454545454543,\"yanchor\":\"middle\",\"yref\":\"paper\"},{\"showarrow\":false,\"text\":\"\",\"textangle\":90,\"x\":0.98,\"xanchor\":\"left\",\"xref\":\"paper\",\"y\":0.21909090909090906,\"yanchor\":\"middle\",\"yref\":\"paper\"},{\"showarrow\":false,\"text\":\"\",\"textangle\":90,\"x\":0.98,\"xanchor\":\"left\",\"xref\":\"paper\",\"y\":0.3127272727272727,\"yanchor\":\"middle\",\"yref\":\"paper\"},{\"showarrow\":false,\"text\":\"\",\"textangle\":90,\"x\":0.98,\"xanchor\":\"left\",\"xref\":\"paper\",\"y\":0.4063636363636363,\"yanchor\":\"middle\",\"yref\":\"paper\"},{\"showarrow\":false,\"text\":\"\",\"textangle\":90,\"x\":0.98,\"xanchor\":\"left\",\"xref\":\"paper\",\"y\":0.49999999999999994,\"yanchor\":\"middle\",\"yref\":\"paper\"},{\"showarrow\":false,\"text\":\"\",\"textangle\":90,\"x\":0.98,\"xanchor\":\"left\",\"xref\":\"paper\",\"y\":0.5936363636363635,\"yanchor\":\"middle\",\"yref\":\"paper\"},{\"showarrow\":false,\"text\":\"\",\"textangle\":90,\"x\":0.98,\"xanchor\":\"left\",\"xref\":\"paper\",\"y\":0.687272727272727,\"yanchor\":\"middle\",\"yref\":\"paper\"},{\"showarrow\":false,\"text\":\"\",\"textangle\":90,\"x\":0.98,\"xanchor\":\"left\",\"xref\":\"paper\",\"y\":0.7809090909090908,\"yanchor\":\"middle\",\"yref\":\"paper\"},{\"showarrow\":false,\"text\":\"\",\"textangle\":90,\"x\":0.98,\"xanchor\":\"left\",\"xref\":\"paper\",\"y\":0.8745454545454543,\"yanchor\":\"middle\",\"yref\":\"paper\"},{\"showarrow\":false,\"text\":\"\",\"textangle\":90,\"x\":0.98,\"xanchor\":\"left\",\"xref\":\"paper\",\"y\":0.9681818181818178,\"yanchor\":\"middle\",\"yref\":\"paper\"},{\"font\":{\"size\":16},\"showarrow\":false,\"text\":\"Arizona\",\"x\":0.5,\"xref\":\"paper\",\"y\":1.01,\"yref\":\"paper\"},{\"font\":{\"size\":16},\"showarrow\":false,\"text\":\"California\",\"x\":0.5,\"xref\":\"paper\",\"y\":0.915,\"yref\":\"paper\"},{\"font\":{\"size\":16},\"showarrow\":false,\"text\":\"Colorado\",\"x\":0.5,\"xref\":\"paper\",\"y\":0.8200000000000001,\"yref\":\"paper\"},{\"font\":{\"size\":16},\"showarrow\":false,\"text\":\"Idaho\",\"x\":0.5,\"xref\":\"paper\",\"y\":0.7250000000000001,\"yref\":\"paper\"},{\"font\":{\"size\":16},\"showarrow\":false,\"text\":\"Montana\",\"x\":0.5,\"xref\":\"paper\",\"y\":0.6300000000000001,\"yref\":\"paper\"},{\"font\":{\"size\":16},\"showarrow\":false,\"text\":\"New_Mexico\",\"x\":0.5,\"xref\":\"paper\",\"y\":0.5350000000000001,\"yref\":\"paper\"},{\"font\":{\"size\":16},\"showarrow\":false,\"text\":\"Nevada\",\"x\":0.5,\"xref\":\"paper\",\"y\":0.44000000000000017,\"yref\":\"paper\"},{\"font\":{\"size\":16},\"showarrow\":false,\"text\":\"Oregon\",\"x\":0.5,\"xref\":\"paper\",\"y\":0.3450000000000002,\"yref\":\"paper\"},{\"font\":{\"size\":16},\"showarrow\":false,\"text\":\"Utah\",\"x\":0.5,\"xref\":\"paper\",\"y\":0.2500000000000002,\"yref\":\"paper\"},{\"font\":{\"size\":16},\"showarrow\":false,\"text\":\"Washington\",\"x\":0.5,\"xref\":\"paper\",\"y\":0.15500000000000022,\"yref\":\"paper\"},{\"font\":{\"size\":16},\"showarrow\":false,\"text\":\"Wyoming\",\"x\":0.5,\"xref\":\"paper\",\"y\":0.06000000000000022,\"yref\":\"paper\"},{\"showarrow\":false,\"text\":\"Clean Grid Required Land by 2050\",\"x\":0,\"xanchor\":\"left\",\"xref\":\"x11 domain\",\"y\":715,\"yanchor\":\"bottom\",\"yref\":\"y11\"},{\"showarrow\":false,\"text\":\"Clean Grid Required Land by 2050\",\"x\":0,\"xanchor\":\"left\",\"xref\":\"x10 domain\",\"y\":3066,\"yanchor\":\"bottom\",\"yref\":\"y10\"},{\"showarrow\":false,\"text\":\"Clean Grid Required Land by 2050\",\"x\":0,\"xanchor\":\"left\",\"xref\":\"x9 domain\",\"y\":1596,\"yanchor\":\"bottom\",\"yref\":\"y9\"},{\"showarrow\":false,\"text\":\"Clean Grid Required Land by 2050\",\"x\":0,\"xanchor\":\"left\",\"xref\":\"x8 domain\",\"y\":336,\"yanchor\":\"bottom\",\"yref\":\"y8\"},{\"showarrow\":false,\"text\":\"Clean Grid Required Land by 2050\",\"x\":0,\"xanchor\":\"left\",\"xref\":\"x7 domain\",\"y\":2921,\"yanchor\":\"bottom\",\"yref\":\"y7\"},{\"showarrow\":false,\"text\":\"Clean Grid Required Land by 2050\",\"x\":0,\"xanchor\":\"left\",\"xref\":\"x6 domain\",\"y\":1081,\"yanchor\":\"bottom\",\"yref\":\"y6\"},{\"showarrow\":false,\"text\":\"Clean Grid Required Land by 2050\",\"x\":0,\"xanchor\":\"left\",\"xref\":\"x5 domain\",\"y\":252,\"yanchor\":\"bottom\",\"yref\":\"y5\"},{\"showarrow\":false,\"text\":\"Clean Grid Required Land by 2050\",\"x\":0,\"xanchor\":\"left\",\"xref\":\"x4 domain\",\"y\":695,\"yanchor\":\"bottom\",\"yref\":\"y4\"},{\"showarrow\":false,\"text\":\"Clean Grid Required Land by 2050\",\"x\":0,\"xanchor\":\"left\",\"xref\":\"x3 domain\",\"y\":878,\"yanchor\":\"bottom\",\"yref\":\"y3\"},{\"showarrow\":false,\"text\":\"Clean Grid Required Land by 2050\",\"x\":0,\"xanchor\":\"left\",\"xref\":\"x2 domain\",\"y\":641,\"yanchor\":\"bottom\",\"yref\":\"y2\"},{\"showarrow\":false,\"text\":\"Clean Grid Required Land by 2050\",\"x\":0,\"xanchor\":\"left\",\"xref\":\"x domain\",\"y\":2186,\"yanchor\":\"bottom\",\"yref\":\"y\"}],\"legend\":{\"title\":{\"text\":\"variable\"},\"tracegroupgap\":0},\"margin\":{\"t\":60},\"barmode\":\"relative\",\"height\":2000,\"width\":1200,\"uniformtext\":{\"minsize\":18,\"mode\":\"hide\"},\"showlegend\":false,\"title\":{\"text\":\"Solar Siting Availability under Various Exclusion Combinations\"},\"plot_bgcolor\":\"white\",\"paper_bgcolor\":\"white\",\"shapes\":[{\"line\":{\"dash\":\"dot\",\"width\":2},\"type\":\"line\",\"x0\":0,\"x1\":1,\"xref\":\"x11 domain\",\"y0\":715,\"y1\":715,\"yref\":\"y11\"},{\"line\":{\"dash\":\"dot\",\"width\":2},\"type\":\"line\",\"x0\":0,\"x1\":1,\"xref\":\"x10 domain\",\"y0\":3066,\"y1\":3066,\"yref\":\"y10\"},{\"line\":{\"dash\":\"dot\",\"width\":2},\"type\":\"line\",\"x0\":0,\"x1\":1,\"xref\":\"x9 domain\",\"y0\":1596,\"y1\":1596,\"yref\":\"y9\"},{\"line\":{\"dash\":\"dot\",\"width\":2},\"type\":\"line\",\"x0\":0,\"x1\":1,\"xref\":\"x8 domain\",\"y0\":336,\"y1\":336,\"yref\":\"y8\"},{\"line\":{\"dash\":\"dot\",\"width\":2},\"type\":\"line\",\"x0\":0,\"x1\":1,\"xref\":\"x7 domain\",\"y0\":2921,\"y1\":2921,\"yref\":\"y7\"},{\"line\":{\"dash\":\"dot\",\"width\":2},\"type\":\"line\",\"x0\":0,\"x1\":1,\"xref\":\"x6 domain\",\"y0\":1081,\"y1\":1081,\"yref\":\"y6\"},{\"line\":{\"dash\":\"dot\",\"width\":2},\"type\":\"line\",\"x0\":0,\"x1\":1,\"xref\":\"x5 domain\",\"y0\":252,\"y1\":252,\"yref\":\"y5\"},{\"line\":{\"dash\":\"dot\",\"width\":2},\"type\":\"line\",\"x0\":0,\"x1\":1,\"xref\":\"x4 domain\",\"y0\":695,\"y1\":695,\"yref\":\"y4\"},{\"line\":{\"dash\":\"dot\",\"width\":2},\"type\":\"line\",\"x0\":0,\"x1\":1,\"xref\":\"x3 domain\",\"y0\":878,\"y1\":878,\"yref\":\"y3\"},{\"line\":{\"dash\":\"dot\",\"width\":2},\"type\":\"line\",\"x0\":0,\"x1\":1,\"xref\":\"x2 domain\",\"y0\":641,\"y1\":641,\"yref\":\"y2\"},{\"line\":{\"dash\":\"dot\",\"width\":2},\"type\":\"line\",\"x0\":0,\"x1\":1,\"xref\":\"x domain\",\"y0\":2186,\"y1\":2186,\"yref\":\"y\"}]},                        {\"responsive\": true}                    ).then(function(){\n",
       "                            \n",
       "var gd = document.getElementById('46b40e41-0769-4765-a355-b186664d8c35');\n",
       "var x = new MutationObserver(function (mutations, observer) {{\n",
       "        var display = window.getComputedStyle(gd).display;\n",
       "        if (!display || display === 'none') {{\n",
       "            console.log([gd, 'removed!']);\n",
       "            Plotly.purge(gd);\n",
       "            observer.disconnect();\n",
       "        }}\n",
       "}});\n",
       "\n",
       "// Listen for the removal of the full notebook cells\n",
       "var notebookContainer = gd.closest('#notebook-container');\n",
       "if (notebookContainer) {{\n",
       "    x.observe(notebookContainer, {childList: true});\n",
       "}}\n",
       "\n",
       "// Listen for the clearing of the current output cell\n",
       "var outputEl = gd.closest('.output');\n",
       "if (outputEl) {{\n",
       "    x.observe(outputEl, {childList: true});\n",
       "}}\n",
       "\n",
       "                        })                };                });            </script>        </div>"
      ]
     },
     "metadata": {},
     "output_type": "display_data"
    }
   ],
   "source": [
    "\n",
    "\n",
    "fig = px.bar(solar_df, x=\"variable\", y=\"value\", color=\"variable\",\n",
    "             facet_row=\"region_name\", width=1200, height=2000,\n",
    "            facet_row_spacing=0.03,\n",
    "            color_discrete_sequence=px.colors.qualitative.Pastel)\n",
    "state_list = list(solar_df.region_name.unique())\n",
    "\n",
    "fig.update_yaxes(matches=None, title=\"square km\", showgrid = True,  gridcolor = '#bdbdbd')\n",
    "fig.for_each_annotation(lambda a: a.update(text=a.text.split(\"=\")[-1]))\n",
    "fig.update_layout(showlegend=False, title='Solar Siting Availability under Various Exclusion Combinations',\n",
    "                 uniformtext_minsize=18, uniformtext_mode='hide', plot_bgcolor = 'white', paper_bgcolor ='white')\n",
    "\n",
    "for anno in fig['layout']['annotations']:\n",
    "    anno['text']=''\n",
    "\n",
    "start_y = 1.01\n",
    "for state_label in state_label_list:\n",
    "    fig.add_annotation(text=state_label,\n",
    "                  xref=\"paper\", yref=\"paper\",\n",
    "                  x=.5, y=start_y, showarrow=False, font=dict(size=16))\n",
    "    start_y = start_y - .095 \n",
    "\n",
    "row_no = 0\n",
    "for i in cg_km_list:\n",
    "    fig.add_hline(y=i, line_dash=\"dot\", row=row_no,line_width=2,\n",
    "          annotation_text=f'Clean Grid Required Land by {year}', \n",
    "          annotation_position=\"top left\")\n",
    "    if row_no == 0:\n",
    "        row_no = 10\n",
    "    else:\n",
    "        row_no-=1\n",
    "\n",
    "fig.show()"
   ]
  },
  {
   "cell_type": "code",
   "execution_count": 65,
   "id": "8c6f305d-8d03-4278-bf22-500b8ab90481",
   "metadata": {},
   "outputs": [],
   "source": [
    "df = pd.read_csv(suitability_data_path)\n",
    "\n",
    "solar = df[df.tech_name_simple == 'Solar PV']\n",
    "solar_df = solar.melt(id_vars=['region_name', 'tech_name_simple'])\n",
    "\n",
    "wind = df[df.tech_name_simple == 'Wind']\n",
    "\n",
    "wind_df = wind.melt(id_vars=['region_name', 'tech_name_simple'])\n",
    "\n",
    "bau_km_list = list(wind['bau_km'])\n",
    "\n",
    "cg_km_list = list(wind['clean_grid_km'])\n",
    "\n"
   ]
  },
  {
   "cell_type": "code",
   "execution_count": 66,
   "id": "450382ab-0354-4d53-a682-210ace5cc3d9",
   "metadata": {},
   "outputs": [],
   "source": [
    "label_dict = {\n",
    "    'baseline': 'Baseline Restrictions (BR)',\n",
    "     'dac': 'BR + DACs',\n",
    "     'farmland': 'BR + Important Farmland',\n",
    "     'env_1km': 'BR + w/in 1km of Natural Areas',\n",
    "     'env_5km': 'BR + w/in 5km of Natural Areas',\n",
    "     'env_10km': 'BR + w/in 10km of Natural Areas',\n",
    "     'dac_farm_env5km': 'BR + DACS, w/in 5km of Natural Area, and Important Farmland',\n",
    "     'farm_env5km': 'BR + w/in 5km of Natural Area and Important Farmland',\n",
    "     'farm_env10km': 'BR + w/in 10km of Natural Area and Important Farmland'}\n",
    "\n",
    "wind_df = wind_df[~wind_df.variable.isin(['bau_km', 'clean_grid_km'])]\n",
    "wind_df.variable = wind_df.variable.map(label_dict)"
   ]
  },
  {
   "cell_type": "code",
   "execution_count": 116,
   "id": "928166a2-0840-4b10-bc3d-640c54cef780",
   "metadata": {},
   "outputs": [
    {
     "data": {
      "application/vnd.plotly.v1+json": {
       "config": {
        "plotlyServerURL": "https://plot.ly"
       },
       "data": [
        {
         "alignmentgroup": "True",
         "hovertemplate": "variable=%{x}<br>region_name=arizona<br>value=%{y}<extra></extra>",
         "legendgroup": "Baseline Restrictions (BR)",
         "marker": {
          "color": "rgb(102, 197, 204)",
          "pattern": {
           "shape": ""
          }
         },
         "name": "Baseline Restrictions (BR)",
         "offsetgroup": "Baseline Restrictions (BR)",
         "orientation": "v",
         "showlegend": true,
         "textposition": "auto",
         "type": "bar",
         "x": [
          "Baseline Restrictions (BR)"
         ],
         "xaxis": "x11",
         "y": [
          5477
         ],
         "yaxis": "y11"
        },
        {
         "alignmentgroup": "True",
         "hovertemplate": "variable=%{x}<br>region_name=california<br>value=%{y}<extra></extra>",
         "legendgroup": "Baseline Restrictions (BR)",
         "marker": {
          "color": "rgb(102, 197, 204)",
          "pattern": {
           "shape": ""
          }
         },
         "name": "Baseline Restrictions (BR)",
         "offsetgroup": "Baseline Restrictions (BR)",
         "orientation": "v",
         "showlegend": false,
         "textposition": "auto",
         "type": "bar",
         "x": [
          "Baseline Restrictions (BR)"
         ],
         "xaxis": "x10",
         "y": [
          9514
         ],
         "yaxis": "y10"
        },
        {
         "alignmentgroup": "True",
         "hovertemplate": "variable=%{x}<br>region_name=colorado<br>value=%{y}<extra></extra>",
         "legendgroup": "Baseline Restrictions (BR)",
         "marker": {
          "color": "rgb(102, 197, 204)",
          "pattern": {
           "shape": ""
          }
         },
         "name": "Baseline Restrictions (BR)",
         "offsetgroup": "Baseline Restrictions (BR)",
         "orientation": "v",
         "showlegend": false,
         "textposition": "auto",
         "type": "bar",
         "x": [
          "Baseline Restrictions (BR)"
         ],
         "xaxis": "x9",
         "y": [
          34116
         ],
         "yaxis": "y9"
        },
        {
         "alignmentgroup": "True",
         "hovertemplate": "variable=%{x}<br>region_name=idaho<br>value=%{y}<extra></extra>",
         "legendgroup": "Baseline Restrictions (BR)",
         "marker": {
          "color": "rgb(102, 197, 204)",
          "pattern": {
           "shape": ""
          }
         },
         "name": "Baseline Restrictions (BR)",
         "offsetgroup": "Baseline Restrictions (BR)",
         "orientation": "v",
         "showlegend": false,
         "textposition": "auto",
         "type": "bar",
         "x": [
          "Baseline Restrictions (BR)"
         ],
         "xaxis": "x8",
         "y": [
          3329
         ],
         "yaxis": "y8"
        },
        {
         "alignmentgroup": "True",
         "hovertemplate": "variable=%{x}<br>region_name=montana<br>value=%{y}<extra></extra>",
         "legendgroup": "Baseline Restrictions (BR)",
         "marker": {
          "color": "rgb(102, 197, 204)",
          "pattern": {
           "shape": ""
          }
         },
         "name": "Baseline Restrictions (BR)",
         "offsetgroup": "Baseline Restrictions (BR)",
         "orientation": "v",
         "showlegend": false,
         "textposition": "auto",
         "type": "bar",
         "x": [
          "Baseline Restrictions (BR)"
         ],
         "xaxis": "x7",
         "y": [
          95935
         ],
         "yaxis": "y7"
        },
        {
         "alignmentgroup": "True",
         "hovertemplate": "variable=%{x}<br>region_name=new_mexico<br>value=%{y}<extra></extra>",
         "legendgroup": "Baseline Restrictions (BR)",
         "marker": {
          "color": "rgb(102, 197, 204)",
          "pattern": {
           "shape": ""
          }
         },
         "name": "Baseline Restrictions (BR)",
         "offsetgroup": "Baseline Restrictions (BR)",
         "orientation": "v",
         "showlegend": false,
         "textposition": "auto",
         "type": "bar",
         "x": [
          "Baseline Restrictions (BR)"
         ],
         "xaxis": "x6",
         "y": [
          53510
         ],
         "yaxis": "y6"
        },
        {
         "alignmentgroup": "True",
         "hovertemplate": "variable=%{x}<br>region_name=nevada<br>value=%{y}<extra></extra>",
         "legendgroup": "Baseline Restrictions (BR)",
         "marker": {
          "color": "rgb(102, 197, 204)",
          "pattern": {
           "shape": ""
          }
         },
         "name": "Baseline Restrictions (BR)",
         "offsetgroup": "Baseline Restrictions (BR)",
         "orientation": "v",
         "showlegend": false,
         "textposition": "auto",
         "type": "bar",
         "x": [
          "Baseline Restrictions (BR)"
         ],
         "xaxis": "x5",
         "y": [
          5545
         ],
         "yaxis": "y5"
        },
        {
         "alignmentgroup": "True",
         "hovertemplate": "variable=%{x}<br>region_name=oregon<br>value=%{y}<extra></extra>",
         "legendgroup": "Baseline Restrictions (BR)",
         "marker": {
          "color": "rgb(102, 197, 204)",
          "pattern": {
           "shape": ""
          }
         },
         "name": "Baseline Restrictions (BR)",
         "offsetgroup": "Baseline Restrictions (BR)",
         "orientation": "v",
         "showlegend": false,
         "textposition": "auto",
         "type": "bar",
         "x": [
          "Baseline Restrictions (BR)"
         ],
         "xaxis": "x4",
         "y": [
          6434
         ],
         "yaxis": "y4"
        },
        {
         "alignmentgroup": "True",
         "hovertemplate": "variable=%{x}<br>region_name=utah<br>value=%{y}<extra></extra>",
         "legendgroup": "Baseline Restrictions (BR)",
         "marker": {
          "color": "rgb(102, 197, 204)",
          "pattern": {
           "shape": ""
          }
         },
         "name": "Baseline Restrictions (BR)",
         "offsetgroup": "Baseline Restrictions (BR)",
         "orientation": "v",
         "showlegend": false,
         "textposition": "auto",
         "type": "bar",
         "x": [
          "Baseline Restrictions (BR)"
         ],
         "xaxis": "x3",
         "y": [
          2860
         ],
         "yaxis": "y3"
        },
        {
         "alignmentgroup": "True",
         "hovertemplate": "variable=%{x}<br>region_name=washington<br>value=%{y}<extra></extra>",
         "legendgroup": "Baseline Restrictions (BR)",
         "marker": {
          "color": "rgb(102, 197, 204)",
          "pattern": {
           "shape": ""
          }
         },
         "name": "Baseline Restrictions (BR)",
         "offsetgroup": "Baseline Restrictions (BR)",
         "orientation": "v",
         "showlegend": false,
         "textposition": "auto",
         "type": "bar",
         "x": [
          "Baseline Restrictions (BR)"
         ],
         "xaxis": "x2",
         "y": [
          5392
         ],
         "yaxis": "y2"
        },
        {
         "alignmentgroup": "True",
         "hovertemplate": "variable=%{x}<br>region_name=wyoming<br>value=%{y}<extra></extra>",
         "legendgroup": "Baseline Restrictions (BR)",
         "marker": {
          "color": "rgb(102, 197, 204)",
          "pattern": {
           "shape": ""
          }
         },
         "name": "Baseline Restrictions (BR)",
         "offsetgroup": "Baseline Restrictions (BR)",
         "orientation": "v",
         "showlegend": false,
         "textposition": "auto",
         "type": "bar",
         "x": [
          "Baseline Restrictions (BR)"
         ],
         "xaxis": "x",
         "y": [
          74324
         ],
         "yaxis": "y"
        },
        {
         "alignmentgroup": "True",
         "hovertemplate": "variable=%{x}<br>region_name=arizona<br>value=%{y}<extra></extra>",
         "legendgroup": "BR + DACs",
         "marker": {
          "color": "rgb(246, 207, 113)",
          "pattern": {
           "shape": ""
          }
         },
         "name": "BR + DACs",
         "offsetgroup": "BR + DACs",
         "orientation": "v",
         "showlegend": true,
         "textposition": "auto",
         "type": "bar",
         "x": [
          "BR + DACs"
         ],
         "xaxis": "x11",
         "y": [
          1371
         ],
         "yaxis": "y11"
        },
        {
         "alignmentgroup": "True",
         "hovertemplate": "variable=%{x}<br>region_name=california<br>value=%{y}<extra></extra>",
         "legendgroup": "BR + DACs",
         "marker": {
          "color": "rgb(246, 207, 113)",
          "pattern": {
           "shape": ""
          }
         },
         "name": "BR + DACs",
         "offsetgroup": "BR + DACs",
         "orientation": "v",
         "showlegend": false,
         "textposition": "auto",
         "type": "bar",
         "x": [
          "BR + DACs"
         ],
         "xaxis": "x10",
         "y": [
          4789
         ],
         "yaxis": "y10"
        },
        {
         "alignmentgroup": "True",
         "hovertemplate": "variable=%{x}<br>region_name=colorado<br>value=%{y}<extra></extra>",
         "legendgroup": "BR + DACs",
         "marker": {
          "color": "rgb(246, 207, 113)",
          "pattern": {
           "shape": ""
          }
         },
         "name": "BR + DACs",
         "offsetgroup": "BR + DACs",
         "orientation": "v",
         "showlegend": false,
         "textposition": "auto",
         "type": "bar",
         "x": [
          "BR + DACs"
         ],
         "xaxis": "x9",
         "y": [
          14401
         ],
         "yaxis": "y9"
        },
        {
         "alignmentgroup": "True",
         "hovertemplate": "variable=%{x}<br>region_name=idaho<br>value=%{y}<extra></extra>",
         "legendgroup": "BR + DACs",
         "marker": {
          "color": "rgb(246, 207, 113)",
          "pattern": {
           "shape": ""
          }
         },
         "name": "BR + DACs",
         "offsetgroup": "BR + DACs",
         "orientation": "v",
         "showlegend": false,
         "textposition": "auto",
         "type": "bar",
         "x": [
          "BR + DACs"
         ],
         "xaxis": "x8",
         "y": [
          1075
         ],
         "yaxis": "y8"
        },
        {
         "alignmentgroup": "True",
         "hovertemplate": "variable=%{x}<br>region_name=montana<br>value=%{y}<extra></extra>",
         "legendgroup": "BR + DACs",
         "marker": {
          "color": "rgb(246, 207, 113)",
          "pattern": {
           "shape": ""
          }
         },
         "name": "BR + DACs",
         "offsetgroup": "BR + DACs",
         "orientation": "v",
         "showlegend": false,
         "textposition": "auto",
         "type": "bar",
         "x": [
          "BR + DACs"
         ],
         "xaxis": "x7",
         "y": [
          46731
         ],
         "yaxis": "y7"
        },
        {
         "alignmentgroup": "True",
         "hovertemplate": "variable=%{x}<br>region_name=new_mexico<br>value=%{y}<extra></extra>",
         "legendgroup": "BR + DACs",
         "marker": {
          "color": "rgb(246, 207, 113)",
          "pattern": {
           "shape": ""
          }
         },
         "name": "BR + DACs",
         "offsetgroup": "BR + DACs",
         "orientation": "v",
         "showlegend": false,
         "textposition": "auto",
         "type": "bar",
         "x": [
          "BR + DACs"
         ],
         "xaxis": "x6",
         "y": [
          4687
         ],
         "yaxis": "y6"
        },
        {
         "alignmentgroup": "True",
         "hovertemplate": "variable=%{x}<br>region_name=nevada<br>value=%{y}<extra></extra>",
         "legendgroup": "BR + DACs",
         "marker": {
          "color": "rgb(246, 207, 113)",
          "pattern": {
           "shape": ""
          }
         },
         "name": "BR + DACs",
         "offsetgroup": "BR + DACs",
         "orientation": "v",
         "showlegend": false,
         "textposition": "auto",
         "type": "bar",
         "x": [
          "BR + DACs"
         ],
         "xaxis": "x5",
         "y": [
          4545
         ],
         "yaxis": "y5"
        },
        {
         "alignmentgroup": "True",
         "hovertemplate": "variable=%{x}<br>region_name=oregon<br>value=%{y}<extra></extra>",
         "legendgroup": "BR + DACs",
         "marker": {
          "color": "rgb(246, 207, 113)",
          "pattern": {
           "shape": ""
          }
         },
         "name": "BR + DACs",
         "offsetgroup": "BR + DACs",
         "orientation": "v",
         "showlegend": false,
         "textposition": "auto",
         "type": "bar",
         "x": [
          "BR + DACs"
         ],
         "xaxis": "x4",
         "y": [
          2122
         ],
         "yaxis": "y4"
        },
        {
         "alignmentgroup": "True",
         "hovertemplate": "variable=%{x}<br>region_name=utah<br>value=%{y}<extra></extra>",
         "legendgroup": "BR + DACs",
         "marker": {
          "color": "rgb(246, 207, 113)",
          "pattern": {
           "shape": ""
          }
         },
         "name": "BR + DACs",
         "offsetgroup": "BR + DACs",
         "orientation": "v",
         "showlegend": false,
         "textposition": "auto",
         "type": "bar",
         "x": [
          "BR + DACs"
         ],
         "xaxis": "x3",
         "y": [
          2048
         ],
         "yaxis": "y3"
        },
        {
         "alignmentgroup": "True",
         "hovertemplate": "variable=%{x}<br>region_name=washington<br>value=%{y}<extra></extra>",
         "legendgroup": "BR + DACs",
         "marker": {
          "color": "rgb(246, 207, 113)",
          "pattern": {
           "shape": ""
          }
         },
         "name": "BR + DACs",
         "offsetgroup": "BR + DACs",
         "orientation": "v",
         "showlegend": false,
         "textposition": "auto",
         "type": "bar",
         "x": [
          "BR + DACs"
         ],
         "xaxis": "x2",
         "y": [
          3102
         ],
         "yaxis": "y2"
        },
        {
         "alignmentgroup": "True",
         "hovertemplate": "variable=%{x}<br>region_name=wyoming<br>value=%{y}<extra></extra>",
         "legendgroup": "BR + DACs",
         "marker": {
          "color": "rgb(246, 207, 113)",
          "pattern": {
           "shape": ""
          }
         },
         "name": "BR + DACs",
         "offsetgroup": "BR + DACs",
         "orientation": "v",
         "showlegend": false,
         "textposition": "auto",
         "type": "bar",
         "x": [
          "BR + DACs"
         ],
         "xaxis": "x",
         "y": [
          62770
         ],
         "yaxis": "y"
        },
        {
         "alignmentgroup": "True",
         "hovertemplate": "variable=%{x}<br>region_name=arizona<br>value=%{y}<extra></extra>",
         "legendgroup": "BR + Important Farmland",
         "marker": {
          "color": "rgb(248, 156, 116)",
          "pattern": {
           "shape": ""
          }
         },
         "name": "BR + Important Farmland",
         "offsetgroup": "BR + Important Farmland",
         "orientation": "v",
         "showlegend": true,
         "textposition": "auto",
         "type": "bar",
         "x": [
          "BR + Important Farmland"
         ],
         "xaxis": "x11",
         "y": [
          5477
         ],
         "yaxis": "y11"
        },
        {
         "alignmentgroup": "True",
         "hovertemplate": "variable=%{x}<br>region_name=california<br>value=%{y}<extra></extra>",
         "legendgroup": "BR + Important Farmland",
         "marker": {
          "color": "rgb(248, 156, 116)",
          "pattern": {
           "shape": ""
          }
         },
         "name": "BR + Important Farmland",
         "offsetgroup": "BR + Important Farmland",
         "orientation": "v",
         "showlegend": false,
         "textposition": "auto",
         "type": "bar",
         "x": [
          "BR + Important Farmland"
         ],
         "xaxis": "x10",
         "y": [
          9129
         ],
         "yaxis": "y10"
        },
        {
         "alignmentgroup": "True",
         "hovertemplate": "variable=%{x}<br>region_name=colorado<br>value=%{y}<extra></extra>",
         "legendgroup": "BR + Important Farmland",
         "marker": {
          "color": "rgb(248, 156, 116)",
          "pattern": {
           "shape": ""
          }
         },
         "name": "BR + Important Farmland",
         "offsetgroup": "BR + Important Farmland",
         "orientation": "v",
         "showlegend": false,
         "textposition": "auto",
         "type": "bar",
         "x": [
          "BR + Important Farmland"
         ],
         "xaxis": "x9",
         "y": [
          30713
         ],
         "yaxis": "y9"
        },
        {
         "alignmentgroup": "True",
         "hovertemplate": "variable=%{x}<br>region_name=idaho<br>value=%{y}<extra></extra>",
         "legendgroup": "BR + Important Farmland",
         "marker": {
          "color": "rgb(248, 156, 116)",
          "pattern": {
           "shape": ""
          }
         },
         "name": "BR + Important Farmland",
         "offsetgroup": "BR + Important Farmland",
         "orientation": "v",
         "showlegend": false,
         "textposition": "auto",
         "type": "bar",
         "x": [
          "BR + Important Farmland"
         ],
         "xaxis": "x8",
         "y": [
          3309
         ],
         "yaxis": "y8"
        },
        {
         "alignmentgroup": "True",
         "hovertemplate": "variable=%{x}<br>region_name=montana<br>value=%{y}<extra></extra>",
         "legendgroup": "BR + Important Farmland",
         "marker": {
          "color": "rgb(248, 156, 116)",
          "pattern": {
           "shape": ""
          }
         },
         "name": "BR + Important Farmland",
         "offsetgroup": "BR + Important Farmland",
         "orientation": "v",
         "showlegend": false,
         "textposition": "auto",
         "type": "bar",
         "x": [
          "BR + Important Farmland"
         ],
         "xaxis": "x7",
         "y": [
          81764
         ],
         "yaxis": "y7"
        },
        {
         "alignmentgroup": "True",
         "hovertemplate": "variable=%{x}<br>region_name=new_mexico<br>value=%{y}<extra></extra>",
         "legendgroup": "BR + Important Farmland",
         "marker": {
          "color": "rgb(248, 156, 116)",
          "pattern": {
           "shape": ""
          }
         },
         "name": "BR + Important Farmland",
         "offsetgroup": "BR + Important Farmland",
         "orientation": "v",
         "showlegend": false,
         "textposition": "auto",
         "type": "bar",
         "x": [
          "BR + Important Farmland"
         ],
         "xaxis": "x6",
         "y": [
          44208
         ],
         "yaxis": "y6"
        },
        {
         "alignmentgroup": "True",
         "hovertemplate": "variable=%{x}<br>region_name=nevada<br>value=%{y}<extra></extra>",
         "legendgroup": "BR + Important Farmland",
         "marker": {
          "color": "rgb(248, 156, 116)",
          "pattern": {
           "shape": ""
          }
         },
         "name": "BR + Important Farmland",
         "offsetgroup": "BR + Important Farmland",
         "orientation": "v",
         "showlegend": false,
         "textposition": "auto",
         "type": "bar",
         "x": [
          "BR + Important Farmland"
         ],
         "xaxis": "x5",
         "y": [
          5545
         ],
         "yaxis": "y5"
        },
        {
         "alignmentgroup": "True",
         "hovertemplate": "variable=%{x}<br>region_name=oregon<br>value=%{y}<extra></extra>",
         "legendgroup": "BR + Important Farmland",
         "marker": {
          "color": "rgb(248, 156, 116)",
          "pattern": {
           "shape": ""
          }
         },
         "name": "BR + Important Farmland",
         "offsetgroup": "BR + Important Farmland",
         "orientation": "v",
         "showlegend": false,
         "textposition": "auto",
         "type": "bar",
         "x": [
          "BR + Important Farmland"
         ],
         "xaxis": "x4",
         "y": [
          3766
         ],
         "yaxis": "y4"
        },
        {
         "alignmentgroup": "True",
         "hovertemplate": "variable=%{x}<br>region_name=utah<br>value=%{y}<extra></extra>",
         "legendgroup": "BR + Important Farmland",
         "marker": {
          "color": "rgb(248, 156, 116)",
          "pattern": {
           "shape": ""
          }
         },
         "name": "BR + Important Farmland",
         "offsetgroup": "BR + Important Farmland",
         "orientation": "v",
         "showlegend": false,
         "textposition": "auto",
         "type": "bar",
         "x": [
          "BR + Important Farmland"
         ],
         "xaxis": "x3",
         "y": [
          2845
         ],
         "yaxis": "y3"
        },
        {
         "alignmentgroup": "True",
         "hovertemplate": "variable=%{x}<br>region_name=washington<br>value=%{y}<extra></extra>",
         "legendgroup": "BR + Important Farmland",
         "marker": {
          "color": "rgb(248, 156, 116)",
          "pattern": {
           "shape": ""
          }
         },
         "name": "BR + Important Farmland",
         "offsetgroup": "BR + Important Farmland",
         "orientation": "v",
         "showlegend": false,
         "textposition": "auto",
         "type": "bar",
         "x": [
          "BR + Important Farmland"
         ],
         "xaxis": "x2",
         "y": [
          3406
         ],
         "yaxis": "y2"
        },
        {
         "alignmentgroup": "True",
         "hovertemplate": "variable=%{x}<br>region_name=wyoming<br>value=%{y}<extra></extra>",
         "legendgroup": "BR + Important Farmland",
         "marker": {
          "color": "rgb(248, 156, 116)",
          "pattern": {
           "shape": ""
          }
         },
         "name": "BR + Important Farmland",
         "offsetgroup": "BR + Important Farmland",
         "orientation": "v",
         "showlegend": false,
         "textposition": "auto",
         "type": "bar",
         "x": [
          "BR + Important Farmland"
         ],
         "xaxis": "x",
         "y": [
          73638
         ],
         "yaxis": "y"
        },
        {
         "alignmentgroup": "True",
         "hovertemplate": "variable=%{x}<br>region_name=arizona<br>value=%{y}<extra></extra>",
         "legendgroup": "BR + w/in 1km of Natural Areas",
         "marker": {
          "color": "rgb(220, 176, 242)",
          "pattern": {
           "shape": ""
          }
         },
         "name": "BR + w/in 1km of Natural Areas",
         "offsetgroup": "BR + w/in 1km of Natural Areas",
         "orientation": "v",
         "showlegend": true,
         "textposition": "auto",
         "type": "bar",
         "x": [
          "BR + w/in 1km of Natural Areas"
         ],
         "xaxis": "x11",
         "y": [
          4759
         ],
         "yaxis": "y11"
        },
        {
         "alignmentgroup": "True",
         "hovertemplate": "variable=%{x}<br>region_name=california<br>value=%{y}<extra></extra>",
         "legendgroup": "BR + w/in 1km of Natural Areas",
         "marker": {
          "color": "rgb(220, 176, 242)",
          "pattern": {
           "shape": ""
          }
         },
         "name": "BR + w/in 1km of Natural Areas",
         "offsetgroup": "BR + w/in 1km of Natural Areas",
         "orientation": "v",
         "showlegend": false,
         "textposition": "auto",
         "type": "bar",
         "x": [
          "BR + w/in 1km of Natural Areas"
         ],
         "xaxis": "x10",
         "y": [
          7281
         ],
         "yaxis": "y10"
        },
        {
         "alignmentgroup": "True",
         "hovertemplate": "variable=%{x}<br>region_name=colorado<br>value=%{y}<extra></extra>",
         "legendgroup": "BR + w/in 1km of Natural Areas",
         "marker": {
          "color": "rgb(220, 176, 242)",
          "pattern": {
           "shape": ""
          }
         },
         "name": "BR + w/in 1km of Natural Areas",
         "offsetgroup": "BR + w/in 1km of Natural Areas",
         "orientation": "v",
         "showlegend": false,
         "textposition": "auto",
         "type": "bar",
         "x": [
          "BR + w/in 1km of Natural Areas"
         ],
         "xaxis": "x9",
         "y": [
          33011
         ],
         "yaxis": "y9"
        },
        {
         "alignmentgroup": "True",
         "hovertemplate": "variable=%{x}<br>region_name=idaho<br>value=%{y}<extra></extra>",
         "legendgroup": "BR + w/in 1km of Natural Areas",
         "marker": {
          "color": "rgb(220, 176, 242)",
          "pattern": {
           "shape": ""
          }
         },
         "name": "BR + w/in 1km of Natural Areas",
         "offsetgroup": "BR + w/in 1km of Natural Areas",
         "orientation": "v",
         "showlegend": false,
         "textposition": "auto",
         "type": "bar",
         "x": [
          "BR + w/in 1km of Natural Areas"
         ],
         "xaxis": "x8",
         "y": [
          2950
         ],
         "yaxis": "y8"
        },
        {
         "alignmentgroup": "True",
         "hovertemplate": "variable=%{x}<br>region_name=montana<br>value=%{y}<extra></extra>",
         "legendgroup": "BR + w/in 1km of Natural Areas",
         "marker": {
          "color": "rgb(220, 176, 242)",
          "pattern": {
           "shape": ""
          }
         },
         "name": "BR + w/in 1km of Natural Areas",
         "offsetgroup": "BR + w/in 1km of Natural Areas",
         "orientation": "v",
         "showlegend": false,
         "textposition": "auto",
         "type": "bar",
         "x": [
          "BR + w/in 1km of Natural Areas"
         ],
         "xaxis": "x7",
         "y": [
          83647
         ],
         "yaxis": "y7"
        },
        {
         "alignmentgroup": "True",
         "hovertemplate": "variable=%{x}<br>region_name=new_mexico<br>value=%{y}<extra></extra>",
         "legendgroup": "BR + w/in 1km of Natural Areas",
         "marker": {
          "color": "rgb(220, 176, 242)",
          "pattern": {
           "shape": ""
          }
         },
         "name": "BR + w/in 1km of Natural Areas",
         "offsetgroup": "BR + w/in 1km of Natural Areas",
         "orientation": "v",
         "showlegend": false,
         "textposition": "auto",
         "type": "bar",
         "x": [
          "BR + w/in 1km of Natural Areas"
         ],
         "xaxis": "x6",
         "y": [
          51671
         ],
         "yaxis": "y6"
        },
        {
         "alignmentgroup": "True",
         "hovertemplate": "variable=%{x}<br>region_name=nevada<br>value=%{y}<extra></extra>",
         "legendgroup": "BR + w/in 1km of Natural Areas",
         "marker": {
          "color": "rgb(220, 176, 242)",
          "pattern": {
           "shape": ""
          }
         },
         "name": "BR + w/in 1km of Natural Areas",
         "offsetgroup": "BR + w/in 1km of Natural Areas",
         "orientation": "v",
         "showlegend": false,
         "textposition": "auto",
         "type": "bar",
         "x": [
          "BR + w/in 1km of Natural Areas"
         ],
         "xaxis": "x5",
         "y": [
          4910
         ],
         "yaxis": "y5"
        },
        {
         "alignmentgroup": "True",
         "hovertemplate": "variable=%{x}<br>region_name=oregon<br>value=%{y}<extra></extra>",
         "legendgroup": "BR + w/in 1km of Natural Areas",
         "marker": {
          "color": "rgb(220, 176, 242)",
          "pattern": {
           "shape": ""
          }
         },
         "name": "BR + w/in 1km of Natural Areas",
         "offsetgroup": "BR + w/in 1km of Natural Areas",
         "orientation": "v",
         "showlegend": false,
         "textposition": "auto",
         "type": "bar",
         "x": [
          "BR + w/in 1km of Natural Areas"
         ],
         "xaxis": "x4",
         "y": [
          5148
         ],
         "yaxis": "y4"
        },
        {
         "alignmentgroup": "True",
         "hovertemplate": "variable=%{x}<br>region_name=utah<br>value=%{y}<extra></extra>",
         "legendgroup": "BR + w/in 1km of Natural Areas",
         "marker": {
          "color": "rgb(220, 176, 242)",
          "pattern": {
           "shape": ""
          }
         },
         "name": "BR + w/in 1km of Natural Areas",
         "offsetgroup": "BR + w/in 1km of Natural Areas",
         "orientation": "v",
         "showlegend": false,
         "textposition": "auto",
         "type": "bar",
         "x": [
          "BR + w/in 1km of Natural Areas"
         ],
         "xaxis": "x3",
         "y": [
          2383
         ],
         "yaxis": "y3"
        },
        {
         "alignmentgroup": "True",
         "hovertemplate": "variable=%{x}<br>region_name=washington<br>value=%{y}<extra></extra>",
         "legendgroup": "BR + w/in 1km of Natural Areas",
         "marker": {
          "color": "rgb(220, 176, 242)",
          "pattern": {
           "shape": ""
          }
         },
         "name": "BR + w/in 1km of Natural Areas",
         "offsetgroup": "BR + w/in 1km of Natural Areas",
         "orientation": "v",
         "showlegend": false,
         "textposition": "auto",
         "type": "bar",
         "x": [
          "BR + w/in 1km of Natural Areas"
         ],
         "xaxis": "x2",
         "y": [
          4851
         ],
         "yaxis": "y2"
        },
        {
         "alignmentgroup": "True",
         "hovertemplate": "variable=%{x}<br>region_name=wyoming<br>value=%{y}<extra></extra>",
         "legendgroup": "BR + w/in 1km of Natural Areas",
         "marker": {
          "color": "rgb(220, 176, 242)",
          "pattern": {
           "shape": ""
          }
         },
         "name": "BR + w/in 1km of Natural Areas",
         "offsetgroup": "BR + w/in 1km of Natural Areas",
         "orientation": "v",
         "showlegend": false,
         "textposition": "auto",
         "type": "bar",
         "x": [
          "BR + w/in 1km of Natural Areas"
         ],
         "xaxis": "x",
         "y": [
          67673
         ],
         "yaxis": "y"
        },
        {
         "alignmentgroup": "True",
         "hovertemplate": "variable=%{x}<br>region_name=arizona<br>value=%{y}<extra></extra>",
         "legendgroup": "BR + w/in 5km of Natural Areas",
         "marker": {
          "color": "rgb(135, 197, 95)",
          "pattern": {
           "shape": ""
          }
         },
         "name": "BR + w/in 5km of Natural Areas",
         "offsetgroup": "BR + w/in 5km of Natural Areas",
         "orientation": "v",
         "showlegend": true,
         "textposition": "auto",
         "type": "bar",
         "x": [
          "BR + w/in 5km of Natural Areas"
         ],
         "xaxis": "x11",
         "y": [
          3183
         ],
         "yaxis": "y11"
        },
        {
         "alignmentgroup": "True",
         "hovertemplate": "variable=%{x}<br>region_name=california<br>value=%{y}<extra></extra>",
         "legendgroup": "BR + w/in 5km of Natural Areas",
         "marker": {
          "color": "rgb(135, 197, 95)",
          "pattern": {
           "shape": ""
          }
         },
         "name": "BR + w/in 5km of Natural Areas",
         "offsetgroup": "BR + w/in 5km of Natural Areas",
         "orientation": "v",
         "showlegend": false,
         "textposition": "auto",
         "type": "bar",
         "x": [
          "BR + w/in 5km of Natural Areas"
         ],
         "xaxis": "x10",
         "y": [
          2861
         ],
         "yaxis": "y10"
        },
        {
         "alignmentgroup": "True",
         "hovertemplate": "variable=%{x}<br>region_name=colorado<br>value=%{y}<extra></extra>",
         "legendgroup": "BR + w/in 5km of Natural Areas",
         "marker": {
          "color": "rgb(135, 197, 95)",
          "pattern": {
           "shape": ""
          }
         },
         "name": "BR + w/in 5km of Natural Areas",
         "offsetgroup": "BR + w/in 5km of Natural Areas",
         "orientation": "v",
         "showlegend": false,
         "textposition": "auto",
         "type": "bar",
         "x": [
          "BR + w/in 5km of Natural Areas"
         ],
         "xaxis": "x9",
         "y": [
          28073
         ],
         "yaxis": "y9"
        },
        {
         "alignmentgroup": "True",
         "hovertemplate": "variable=%{x}<br>region_name=idaho<br>value=%{y}<extra></extra>",
         "legendgroup": "BR + w/in 5km of Natural Areas",
         "marker": {
          "color": "rgb(135, 197, 95)",
          "pattern": {
           "shape": ""
          }
         },
         "name": "BR + w/in 5km of Natural Areas",
         "offsetgroup": "BR + w/in 5km of Natural Areas",
         "orientation": "v",
         "showlegend": false,
         "textposition": "auto",
         "type": "bar",
         "x": [
          "BR + w/in 5km of Natural Areas"
         ],
         "xaxis": "x8",
         "y": [
          1680
         ],
         "yaxis": "y8"
        },
        {
         "alignmentgroup": "True",
         "hovertemplate": "variable=%{x}<br>region_name=montana<br>value=%{y}<extra></extra>",
         "legendgroup": "BR + w/in 5km of Natural Areas",
         "marker": {
          "color": "rgb(135, 197, 95)",
          "pattern": {
           "shape": ""
          }
         },
         "name": "BR + w/in 5km of Natural Areas",
         "offsetgroup": "BR + w/in 5km of Natural Areas",
         "orientation": "v",
         "showlegend": false,
         "textposition": "auto",
         "type": "bar",
         "x": [
          "BR + w/in 5km of Natural Areas"
         ],
         "xaxis": "x7",
         "y": [
          41428
         ],
         "yaxis": "y7"
        },
        {
         "alignmentgroup": "True",
         "hovertemplate": "variable=%{x}<br>region_name=new_mexico<br>value=%{y}<extra></extra>",
         "legendgroup": "BR + w/in 5km of Natural Areas",
         "marker": {
          "color": "rgb(135, 197, 95)",
          "pattern": {
           "shape": ""
          }
         },
         "name": "BR + w/in 5km of Natural Areas",
         "offsetgroup": "BR + w/in 5km of Natural Areas",
         "orientation": "v",
         "showlegend": false,
         "textposition": "auto",
         "type": "bar",
         "x": [
          "BR + w/in 5km of Natural Areas"
         ],
         "xaxis": "x6",
         "y": [
          44550
         ],
         "yaxis": "y6"
        },
        {
         "alignmentgroup": "True",
         "hovertemplate": "variable=%{x}<br>region_name=nevada<br>value=%{y}<extra></extra>",
         "legendgroup": "BR + w/in 5km of Natural Areas",
         "marker": {
          "color": "rgb(135, 197, 95)",
          "pattern": {
           "shape": ""
          }
         },
         "name": "BR + w/in 5km of Natural Areas",
         "offsetgroup": "BR + w/in 5km of Natural Areas",
         "orientation": "v",
         "showlegend": false,
         "textposition": "auto",
         "type": "bar",
         "x": [
          "BR + w/in 5km of Natural Areas"
         ],
         "xaxis": "x5",
         "y": [
          3411
         ],
         "yaxis": "y5"
        },
        {
         "alignmentgroup": "True",
         "hovertemplate": "variable=%{x}<br>region_name=oregon<br>value=%{y}<extra></extra>",
         "legendgroup": "BR + w/in 5km of Natural Areas",
         "marker": {
          "color": "rgb(135, 197, 95)",
          "pattern": {
           "shape": ""
          }
         },
         "name": "BR + w/in 5km of Natural Areas",
         "offsetgroup": "BR + w/in 5km of Natural Areas",
         "orientation": "v",
         "showlegend": false,
         "textposition": "auto",
         "type": "bar",
         "x": [
          "BR + w/in 5km of Natural Areas"
         ],
         "xaxis": "x4",
         "y": [
          2507
         ],
         "yaxis": "y4"
        },
        {
         "alignmentgroup": "True",
         "hovertemplate": "variable=%{x}<br>region_name=utah<br>value=%{y}<extra></extra>",
         "legendgroup": "BR + w/in 5km of Natural Areas",
         "marker": {
          "color": "rgb(135, 197, 95)",
          "pattern": {
           "shape": ""
          }
         },
         "name": "BR + w/in 5km of Natural Areas",
         "offsetgroup": "BR + w/in 5km of Natural Areas",
         "orientation": "v",
         "showlegend": false,
         "textposition": "auto",
         "type": "bar",
         "x": [
          "BR + w/in 5km of Natural Areas"
         ],
         "xaxis": "x3",
         "y": [
          1413
         ],
         "yaxis": "y3"
        },
        {
         "alignmentgroup": "True",
         "hovertemplate": "variable=%{x}<br>region_name=washington<br>value=%{y}<extra></extra>",
         "legendgroup": "BR + w/in 5km of Natural Areas",
         "marker": {
          "color": "rgb(135, 197, 95)",
          "pattern": {
           "shape": ""
          }
         },
         "name": "BR + w/in 5km of Natural Areas",
         "offsetgroup": "BR + w/in 5km of Natural Areas",
         "orientation": "v",
         "showlegend": false,
         "textposition": "auto",
         "type": "bar",
         "x": [
          "BR + w/in 5km of Natural Areas"
         ],
         "xaxis": "x2",
         "y": [
          2802
         ],
         "yaxis": "y2"
        },
        {
         "alignmentgroup": "True",
         "hovertemplate": "variable=%{x}<br>region_name=wyoming<br>value=%{y}<extra></extra>",
         "legendgroup": "BR + w/in 5km of Natural Areas",
         "marker": {
          "color": "rgb(135, 197, 95)",
          "pattern": {
           "shape": ""
          }
         },
         "name": "BR + w/in 5km of Natural Areas",
         "offsetgroup": "BR + w/in 5km of Natural Areas",
         "orientation": "v",
         "showlegend": false,
         "textposition": "auto",
         "type": "bar",
         "x": [
          "BR + w/in 5km of Natural Areas"
         ],
         "xaxis": "x",
         "y": [
          41867
         ],
         "yaxis": "y"
        },
        {
         "alignmentgroup": "True",
         "hovertemplate": "variable=%{x}<br>region_name=arizona<br>value=%{y}<extra></extra>",
         "legendgroup": "BR + w/in 10km of Natural Areas",
         "marker": {
          "color": "rgb(158, 185, 243)",
          "pattern": {
           "shape": ""
          }
         },
         "name": "BR + w/in 10km of Natural Areas",
         "offsetgroup": "BR + w/in 10km of Natural Areas",
         "orientation": "v",
         "showlegend": true,
         "textposition": "auto",
         "type": "bar",
         "x": [
          "BR + w/in 10km of Natural Areas"
         ],
         "xaxis": "x11",
         "y": [
          1896
         ],
         "yaxis": "y11"
        },
        {
         "alignmentgroup": "True",
         "hovertemplate": "variable=%{x}<br>region_name=california<br>value=%{y}<extra></extra>",
         "legendgroup": "BR + w/in 10km of Natural Areas",
         "marker": {
          "color": "rgb(158, 185, 243)",
          "pattern": {
           "shape": ""
          }
         },
         "name": "BR + w/in 10km of Natural Areas",
         "offsetgroup": "BR + w/in 10km of Natural Areas",
         "orientation": "v",
         "showlegend": false,
         "textposition": "auto",
         "type": "bar",
         "x": [
          "BR + w/in 10km of Natural Areas"
         ],
         "xaxis": "x10",
         "y": [
          1047
         ],
         "yaxis": "y10"
        },
        {
         "alignmentgroup": "True",
         "hovertemplate": "variable=%{x}<br>region_name=colorado<br>value=%{y}<extra></extra>",
         "legendgroup": "BR + w/in 10km of Natural Areas",
         "marker": {
          "color": "rgb(158, 185, 243)",
          "pattern": {
           "shape": ""
          }
         },
         "name": "BR + w/in 10km of Natural Areas",
         "offsetgroup": "BR + w/in 10km of Natural Areas",
         "orientation": "v",
         "showlegend": false,
         "textposition": "auto",
         "type": "bar",
         "x": [
          "BR + w/in 10km of Natural Areas"
         ],
         "xaxis": "x9",
         "y": [
          20096
         ],
         "yaxis": "y9"
        },
        {
         "alignmentgroup": "True",
         "hovertemplate": "variable=%{x}<br>region_name=idaho<br>value=%{y}<extra></extra>",
         "legendgroup": "BR + w/in 10km of Natural Areas",
         "marker": {
          "color": "rgb(158, 185, 243)",
          "pattern": {
           "shape": ""
          }
         },
         "name": "BR + w/in 10km of Natural Areas",
         "offsetgroup": "BR + w/in 10km of Natural Areas",
         "orientation": "v",
         "showlegend": false,
         "textposition": "auto",
         "type": "bar",
         "x": [
          "BR + w/in 10km of Natural Areas"
         ],
         "xaxis": "x8",
         "y": [
          565
         ],
         "yaxis": "y8"
        },
        {
         "alignmentgroup": "True",
         "hovertemplate": "variable=%{x}<br>region_name=montana<br>value=%{y}<extra></extra>",
         "legendgroup": "BR + w/in 10km of Natural Areas",
         "marker": {
          "color": "rgb(158, 185, 243)",
          "pattern": {
           "shape": ""
          }
         },
         "name": "BR + w/in 10km of Natural Areas",
         "offsetgroup": "BR + w/in 10km of Natural Areas",
         "orientation": "v",
         "showlegend": false,
         "textposition": "auto",
         "type": "bar",
         "x": [
          "BR + w/in 10km of Natural Areas"
         ],
         "xaxis": "x7",
         "y": [
          14887
         ],
         "yaxis": "y7"
        },
        {
         "alignmentgroup": "True",
         "hovertemplate": "variable=%{x}<br>region_name=new_mexico<br>value=%{y}<extra></extra>",
         "legendgroup": "BR + w/in 10km of Natural Areas",
         "marker": {
          "color": "rgb(158, 185, 243)",
          "pattern": {
           "shape": ""
          }
         },
         "name": "BR + w/in 10km of Natural Areas",
         "offsetgroup": "BR + w/in 10km of Natural Areas",
         "orientation": "v",
         "showlegend": false,
         "textposition": "auto",
         "type": "bar",
         "x": [
          "BR + w/in 10km of Natural Areas"
         ],
         "xaxis": "x6",
         "y": [
          35648
         ],
         "yaxis": "y6"
        },
        {
         "alignmentgroup": "True",
         "hovertemplate": "variable=%{x}<br>region_name=nevada<br>value=%{y}<extra></extra>",
         "legendgroup": "BR + w/in 10km of Natural Areas",
         "marker": {
          "color": "rgb(158, 185, 243)",
          "pattern": {
           "shape": ""
          }
         },
         "name": "BR + w/in 10km of Natural Areas",
         "offsetgroup": "BR + w/in 10km of Natural Areas",
         "orientation": "v",
         "showlegend": false,
         "textposition": "auto",
         "type": "bar",
         "x": [
          "BR + w/in 10km of Natural Areas"
         ],
         "xaxis": "x5",
         "y": [
          2095
         ],
         "yaxis": "y5"
        },
        {
         "alignmentgroup": "True",
         "hovertemplate": "variable=%{x}<br>region_name=oregon<br>value=%{y}<extra></extra>",
         "legendgroup": "BR + w/in 10km of Natural Areas",
         "marker": {
          "color": "rgb(158, 185, 243)",
          "pattern": {
           "shape": ""
          }
         },
         "name": "BR + w/in 10km of Natural Areas",
         "offsetgroup": "BR + w/in 10km of Natural Areas",
         "orientation": "v",
         "showlegend": false,
         "textposition": "auto",
         "type": "bar",
         "x": [
          "BR + w/in 10km of Natural Areas"
         ],
         "xaxis": "x4",
         "y": [
          1090
         ],
         "yaxis": "y4"
        },
        {
         "alignmentgroup": "True",
         "hovertemplate": "variable=%{x}<br>region_name=utah<br>value=%{y}<extra></extra>",
         "legendgroup": "BR + w/in 10km of Natural Areas",
         "marker": {
          "color": "rgb(158, 185, 243)",
          "pattern": {
           "shape": ""
          }
         },
         "name": "BR + w/in 10km of Natural Areas",
         "offsetgroup": "BR + w/in 10km of Natural Areas",
         "orientation": "v",
         "showlegend": false,
         "textposition": "auto",
         "type": "bar",
         "x": [
          "BR + w/in 10km of Natural Areas"
         ],
         "xaxis": "x3",
         "y": [
          905
         ],
         "yaxis": "y3"
        },
        {
         "alignmentgroup": "True",
         "hovertemplate": "variable=%{x}<br>region_name=washington<br>value=%{y}<extra></extra>",
         "legendgroup": "BR + w/in 10km of Natural Areas",
         "marker": {
          "color": "rgb(158, 185, 243)",
          "pattern": {
           "shape": ""
          }
         },
         "name": "BR + w/in 10km of Natural Areas",
         "offsetgroup": "BR + w/in 10km of Natural Areas",
         "orientation": "v",
         "showlegend": false,
         "textposition": "auto",
         "type": "bar",
         "x": [
          "BR + w/in 10km of Natural Areas"
         ],
         "xaxis": "x2",
         "y": [
          1530
         ],
         "yaxis": "y2"
        },
        {
         "alignmentgroup": "True",
         "hovertemplate": "variable=%{x}<br>region_name=wyoming<br>value=%{y}<extra></extra>",
         "legendgroup": "BR + w/in 10km of Natural Areas",
         "marker": {
          "color": "rgb(158, 185, 243)",
          "pattern": {
           "shape": ""
          }
         },
         "name": "BR + w/in 10km of Natural Areas",
         "offsetgroup": "BR + w/in 10km of Natural Areas",
         "orientation": "v",
         "showlegend": false,
         "textposition": "auto",
         "type": "bar",
         "x": [
          "BR + w/in 10km of Natural Areas"
         ],
         "xaxis": "x",
         "y": [
          20121
         ],
         "yaxis": "y"
        },
        {
         "alignmentgroup": "True",
         "hovertemplate": "variable=%{x}<br>region_name=arizona<br>value=%{y}<extra></extra>",
         "legendgroup": "BR + DACS, w/in 5km of Natural Area, and Important Farmland",
         "marker": {
          "color": "rgb(254, 136, 177)",
          "pattern": {
           "shape": ""
          }
         },
         "name": "BR + DACS, w/in 5km of Natural Area, and Important Farmland",
         "offsetgroup": "BR + DACS, w/in 5km of Natural Area, and Important Farmland",
         "orientation": "v",
         "showlegend": true,
         "textposition": "auto",
         "type": "bar",
         "x": [
          "BR + DACS, w/in 5km of Natural Area, and Important Farmland"
         ],
         "xaxis": "x11",
         "y": [
          673
         ],
         "yaxis": "y11"
        },
        {
         "alignmentgroup": "True",
         "hovertemplate": "variable=%{x}<br>region_name=california<br>value=%{y}<extra></extra>",
         "legendgroup": "BR + DACS, w/in 5km of Natural Area, and Important Farmland",
         "marker": {
          "color": "rgb(254, 136, 177)",
          "pattern": {
           "shape": ""
          }
         },
         "name": "BR + DACS, w/in 5km of Natural Area, and Important Farmland",
         "offsetgroup": "BR + DACS, w/in 5km of Natural Area, and Important Farmland",
         "orientation": "v",
         "showlegend": false,
         "textposition": "auto",
         "type": "bar",
         "x": [
          "BR + DACS, w/in 5km of Natural Area, and Important Farmland"
         ],
         "xaxis": "x10",
         "y": [
          1981
         ],
         "yaxis": "y10"
        },
        {
         "alignmentgroup": "True",
         "hovertemplate": "variable=%{x}<br>region_name=colorado<br>value=%{y}<extra></extra>",
         "legendgroup": "BR + DACS, w/in 5km of Natural Area, and Important Farmland",
         "marker": {
          "color": "rgb(254, 136, 177)",
          "pattern": {
           "shape": ""
          }
         },
         "name": "BR + DACS, w/in 5km of Natural Area, and Important Farmland",
         "offsetgroup": "BR + DACS, w/in 5km of Natural Area, and Important Farmland",
         "orientation": "v",
         "showlegend": false,
         "textposition": "auto",
         "type": "bar",
         "x": [
          "BR + DACS, w/in 5km of Natural Area, and Important Farmland"
         ],
         "xaxis": "x9",
         "y": [
          11617
         ],
         "yaxis": "y9"
        },
        {
         "alignmentgroup": "True",
         "hovertemplate": "variable=%{x}<br>region_name=idaho<br>value=%{y}<extra></extra>",
         "legendgroup": "BR + DACS, w/in 5km of Natural Area, and Important Farmland",
         "marker": {
          "color": "rgb(254, 136, 177)",
          "pattern": {
           "shape": ""
          }
         },
         "name": "BR + DACS, w/in 5km of Natural Area, and Important Farmland",
         "offsetgroup": "BR + DACS, w/in 5km of Natural Area, and Important Farmland",
         "orientation": "v",
         "showlegend": false,
         "textposition": "auto",
         "type": "bar",
         "x": [
          "BR + DACS, w/in 5km of Natural Area, and Important Farmland"
         ],
         "xaxis": "x8",
         "y": [
          786
         ],
         "yaxis": "y8"
        },
        {
         "alignmentgroup": "True",
         "hovertemplate": "variable=%{x}<br>region_name=montana<br>value=%{y}<extra></extra>",
         "legendgroup": "BR + DACS, w/in 5km of Natural Area, and Important Farmland",
         "marker": {
          "color": "rgb(254, 136, 177)",
          "pattern": {
           "shape": ""
          }
         },
         "name": "BR + DACS, w/in 5km of Natural Area, and Important Farmland",
         "offsetgroup": "BR + DACS, w/in 5km of Natural Area, and Important Farmland",
         "orientation": "v",
         "showlegend": false,
         "textposition": "auto",
         "type": "bar",
         "x": [
          "BR + DACS, w/in 5km of Natural Area, and Important Farmland"
         ],
         "xaxis": "x7",
         "y": [
          18614
         ],
         "yaxis": "y7"
        },
        {
         "alignmentgroup": "True",
         "hovertemplate": "variable=%{x}<br>region_name=new_mexico<br>value=%{y}<extra></extra>",
         "legendgroup": "BR + DACS, w/in 5km of Natural Area, and Important Farmland",
         "marker": {
          "color": "rgb(254, 136, 177)",
          "pattern": {
           "shape": ""
          }
         },
         "name": "BR + DACS, w/in 5km of Natural Area, and Important Farmland",
         "offsetgroup": "BR + DACS, w/in 5km of Natural Area, and Important Farmland",
         "orientation": "v",
         "showlegend": false,
         "textposition": "auto",
         "type": "bar",
         "x": [
          "BR + DACS, w/in 5km of Natural Area, and Important Farmland"
         ],
         "xaxis": "x6",
         "y": [
          3098
         ],
         "yaxis": "y6"
        },
        {
         "alignmentgroup": "True",
         "hovertemplate": "variable=%{x}<br>region_name=nevada<br>value=%{y}<extra></extra>",
         "legendgroup": "BR + DACS, w/in 5km of Natural Area, and Important Farmland",
         "marker": {
          "color": "rgb(254, 136, 177)",
          "pattern": {
           "shape": ""
          }
         },
         "name": "BR + DACS, w/in 5km of Natural Area, and Important Farmland",
         "offsetgroup": "BR + DACS, w/in 5km of Natural Area, and Important Farmland",
         "orientation": "v",
         "showlegend": false,
         "textposition": "auto",
         "type": "bar",
         "x": [
          "BR + DACS, w/in 5km of Natural Area, and Important Farmland"
         ],
         "xaxis": "x5",
         "y": [
          2818
         ],
         "yaxis": "y5"
        },
        {
         "alignmentgroup": "True",
         "hovertemplate": "variable=%{x}<br>region_name=oregon<br>value=%{y}<extra></extra>",
         "legendgroup": "BR + DACS, w/in 5km of Natural Area, and Important Farmland",
         "marker": {
          "color": "rgb(254, 136, 177)",
          "pattern": {
           "shape": ""
          }
         },
         "name": "BR + DACS, w/in 5km of Natural Area, and Important Farmland",
         "offsetgroup": "BR + DACS, w/in 5km of Natural Area, and Important Farmland",
         "orientation": "v",
         "showlegend": false,
         "textposition": "auto",
         "type": "bar",
         "x": [
          "BR + DACS, w/in 5km of Natural Area, and Important Farmland"
         ],
         "xaxis": "x4",
         "y": [
          363
         ],
         "yaxis": "y4"
        },
        {
         "alignmentgroup": "True",
         "hovertemplate": "variable=%{x}<br>region_name=utah<br>value=%{y}<extra></extra>",
         "legendgroup": "BR + DACS, w/in 5km of Natural Area, and Important Farmland",
         "marker": {
          "color": "rgb(254, 136, 177)",
          "pattern": {
           "shape": ""
          }
         },
         "name": "BR + DACS, w/in 5km of Natural Area, and Important Farmland",
         "offsetgroup": "BR + DACS, w/in 5km of Natural Area, and Important Farmland",
         "orientation": "v",
         "showlegend": false,
         "textposition": "auto",
         "type": "bar",
         "x": [
          "BR + DACS, w/in 5km of Natural Area, and Important Farmland"
         ],
         "xaxis": "x3",
         "y": [
          1096
         ],
         "yaxis": "y3"
        },
        {
         "alignmentgroup": "True",
         "hovertemplate": "variable=%{x}<br>region_name=washington<br>value=%{y}<extra></extra>",
         "legendgroup": "BR + DACS, w/in 5km of Natural Area, and Important Farmland",
         "marker": {
          "color": "rgb(254, 136, 177)",
          "pattern": {
           "shape": ""
          }
         },
         "name": "BR + DACS, w/in 5km of Natural Area, and Important Farmland",
         "offsetgroup": "BR + DACS, w/in 5km of Natural Area, and Important Farmland",
         "orientation": "v",
         "showlegend": false,
         "textposition": "auto",
         "type": "bar",
         "x": [
          "BR + DACS, w/in 5km of Natural Area, and Important Farmland"
         ],
         "xaxis": "x2",
         "y": [
          924
         ],
         "yaxis": "y2"
        },
        {
         "alignmentgroup": "True",
         "hovertemplate": "variable=%{x}<br>region_name=wyoming<br>value=%{y}<extra></extra>",
         "legendgroup": "BR + DACS, w/in 5km of Natural Area, and Important Farmland",
         "marker": {
          "color": "rgb(254, 136, 177)",
          "pattern": {
           "shape": ""
          }
         },
         "name": "BR + DACS, w/in 5km of Natural Area, and Important Farmland",
         "offsetgroup": "BR + DACS, w/in 5km of Natural Area, and Important Farmland",
         "orientation": "v",
         "showlegend": false,
         "textposition": "auto",
         "type": "bar",
         "x": [
          "BR + DACS, w/in 5km of Natural Area, and Important Farmland"
         ],
         "xaxis": "x",
         "y": [
          35729
         ],
         "yaxis": "y"
        },
        {
         "alignmentgroup": "True",
         "hovertemplate": "variable=%{x}<br>region_name=arizona<br>value=%{y}<extra></extra>",
         "legendgroup": "BR + w/in 5km of Natural Area and Important Farmland",
         "marker": {
          "color": "rgb(201, 219, 116)",
          "pattern": {
           "shape": ""
          }
         },
         "name": "BR + w/in 5km of Natural Area and Important Farmland",
         "offsetgroup": "BR + w/in 5km of Natural Area and Important Farmland",
         "orientation": "v",
         "showlegend": true,
         "textposition": "auto",
         "type": "bar",
         "x": [
          "BR + w/in 5km of Natural Area and Important Farmland"
         ],
         "xaxis": "x11",
         "y": [
          3183
         ],
         "yaxis": "y11"
        },
        {
         "alignmentgroup": "True",
         "hovertemplate": "variable=%{x}<br>region_name=california<br>value=%{y}<extra></extra>",
         "legendgroup": "BR + w/in 5km of Natural Area and Important Farmland",
         "marker": {
          "color": "rgb(201, 219, 116)",
          "pattern": {
           "shape": ""
          }
         },
         "name": "BR + w/in 5km of Natural Area and Important Farmland",
         "offsetgroup": "BR + w/in 5km of Natural Area and Important Farmland",
         "orientation": "v",
         "showlegend": false,
         "textposition": "auto",
         "type": "bar",
         "x": [
          "BR + w/in 5km of Natural Area and Important Farmland"
         ],
         "xaxis": "x10",
         "y": [
          2781
         ],
         "yaxis": "y10"
        },
        {
         "alignmentgroup": "True",
         "hovertemplate": "variable=%{x}<br>region_name=colorado<br>value=%{y}<extra></extra>",
         "legendgroup": "BR + w/in 5km of Natural Area and Important Farmland",
         "marker": {
          "color": "rgb(201, 219, 116)",
          "pattern": {
           "shape": ""
          }
         },
         "name": "BR + w/in 5km of Natural Area and Important Farmland",
         "offsetgroup": "BR + w/in 5km of Natural Area and Important Farmland",
         "orientation": "v",
         "showlegend": false,
         "textposition": "auto",
         "type": "bar",
         "x": [
          "BR + w/in 5km of Natural Area and Important Farmland"
         ],
         "xaxis": "x9",
         "y": [
          25070
         ],
         "yaxis": "y9"
        },
        {
         "alignmentgroup": "True",
         "hovertemplate": "variable=%{x}<br>region_name=idaho<br>value=%{y}<extra></extra>",
         "legendgroup": "BR + w/in 5km of Natural Area and Important Farmland",
         "marker": {
          "color": "rgb(201, 219, 116)",
          "pattern": {
           "shape": ""
          }
         },
         "name": "BR + w/in 5km of Natural Area and Important Farmland",
         "offsetgroup": "BR + w/in 5km of Natural Area and Important Farmland",
         "orientation": "v",
         "showlegend": false,
         "textposition": "auto",
         "type": "bar",
         "x": [
          "BR + w/in 5km of Natural Area and Important Farmland"
         ],
         "xaxis": "x8",
         "y": [
          1666
         ],
         "yaxis": "y8"
        },
        {
         "alignmentgroup": "True",
         "hovertemplate": "variable=%{x}<br>region_name=montana<br>value=%{y}<extra></extra>",
         "legendgroup": "BR + w/in 5km of Natural Area and Important Farmland",
         "marker": {
          "color": "rgb(201, 219, 116)",
          "pattern": {
           "shape": ""
          }
         },
         "name": "BR + w/in 5km of Natural Area and Important Farmland",
         "offsetgroup": "BR + w/in 5km of Natural Area and Important Farmland",
         "orientation": "v",
         "showlegend": false,
         "textposition": "auto",
         "type": "bar",
         "x": [
          "BR + w/in 5km of Natural Area and Important Farmland"
         ],
         "xaxis": "x7",
         "y": [
          35522
         ],
         "yaxis": "y7"
        },
        {
         "alignmentgroup": "True",
         "hovertemplate": "variable=%{x}<br>region_name=new_mexico<br>value=%{y}<extra></extra>",
         "legendgroup": "BR + w/in 5km of Natural Area and Important Farmland",
         "marker": {
          "color": "rgb(201, 219, 116)",
          "pattern": {
           "shape": ""
          }
         },
         "name": "BR + w/in 5km of Natural Area and Important Farmland",
         "offsetgroup": "BR + w/in 5km of Natural Area and Important Farmland",
         "orientation": "v",
         "showlegend": false,
         "textposition": "auto",
         "type": "bar",
         "x": [
          "BR + w/in 5km of Natural Area and Important Farmland"
         ],
         "xaxis": "x6",
         "y": [
          36562
         ],
         "yaxis": "y6"
        },
        {
         "alignmentgroup": "True",
         "hovertemplate": "variable=%{x}<br>region_name=nevada<br>value=%{y}<extra></extra>",
         "legendgroup": "BR + w/in 5km of Natural Area and Important Farmland",
         "marker": {
          "color": "rgb(201, 219, 116)",
          "pattern": {
           "shape": ""
          }
         },
         "name": "BR + w/in 5km of Natural Area and Important Farmland",
         "offsetgroup": "BR + w/in 5km of Natural Area and Important Farmland",
         "orientation": "v",
         "showlegend": false,
         "textposition": "auto",
         "type": "bar",
         "x": [
          "BR + w/in 5km of Natural Area and Important Farmland"
         ],
         "xaxis": "x5",
         "y": [
          3411
         ],
         "yaxis": "y5"
        },
        {
         "alignmentgroup": "True",
         "hovertemplate": "variable=%{x}<br>region_name=oregon<br>value=%{y}<extra></extra>",
         "legendgroup": "BR + w/in 5km of Natural Area and Important Farmland",
         "marker": {
          "color": "rgb(201, 219, 116)",
          "pattern": {
           "shape": ""
          }
         },
         "name": "BR + w/in 5km of Natural Area and Important Farmland",
         "offsetgroup": "BR + w/in 5km of Natural Area and Important Farmland",
         "orientation": "v",
         "showlegend": false,
         "textposition": "auto",
         "type": "bar",
         "x": [
          "BR + w/in 5km of Natural Area and Important Farmland"
         ],
         "xaxis": "x4",
         "y": [
          1379
         ],
         "yaxis": "y4"
        },
        {
         "alignmentgroup": "True",
         "hovertemplate": "variable=%{x}<br>region_name=utah<br>value=%{y}<extra></extra>",
         "legendgroup": "BR + w/in 5km of Natural Area and Important Farmland",
         "marker": {
          "color": "rgb(201, 219, 116)",
          "pattern": {
           "shape": ""
          }
         },
         "name": "BR + w/in 5km of Natural Area and Important Farmland",
         "offsetgroup": "BR + w/in 5km of Natural Area and Important Farmland",
         "orientation": "v",
         "showlegend": false,
         "textposition": "auto",
         "type": "bar",
         "x": [
          "BR + w/in 5km of Natural Area and Important Farmland"
         ],
         "xaxis": "x3",
         "y": [
          1413
         ],
         "yaxis": "y3"
        },
        {
         "alignmentgroup": "True",
         "hovertemplate": "variable=%{x}<br>region_name=washington<br>value=%{y}<extra></extra>",
         "legendgroup": "BR + w/in 5km of Natural Area and Important Farmland",
         "marker": {
          "color": "rgb(201, 219, 116)",
          "pattern": {
           "shape": ""
          }
         },
         "name": "BR + w/in 5km of Natural Area and Important Farmland",
         "offsetgroup": "BR + w/in 5km of Natural Area and Important Farmland",
         "orientation": "v",
         "showlegend": false,
         "textposition": "auto",
         "type": "bar",
         "x": [
          "BR + w/in 5km of Natural Area and Important Farmland"
         ],
         "xaxis": "x2",
         "y": [
          1884
         ],
         "yaxis": "y2"
        },
        {
         "alignmentgroup": "True",
         "hovertemplate": "variable=%{x}<br>region_name=wyoming<br>value=%{y}<extra></extra>",
         "legendgroup": "BR + w/in 5km of Natural Area and Important Farmland",
         "marker": {
          "color": "rgb(201, 219, 116)",
          "pattern": {
           "shape": ""
          }
         },
         "name": "BR + w/in 5km of Natural Area and Important Farmland",
         "offsetgroup": "BR + w/in 5km of Natural Area and Important Farmland",
         "orientation": "v",
         "showlegend": false,
         "textposition": "auto",
         "type": "bar",
         "x": [
          "BR + w/in 5km of Natural Area and Important Farmland"
         ],
         "xaxis": "x",
         "y": [
          41395
         ],
         "yaxis": "y"
        },
        {
         "alignmentgroup": "True",
         "hovertemplate": "variable=%{x}<br>region_name=arizona<br>value=%{y}<extra></extra>",
         "legendgroup": "BR + w/in 10km of Natural Area and Important Farmland",
         "marker": {
          "color": "rgb(139, 224, 164)",
          "pattern": {
           "shape": ""
          }
         },
         "name": "BR + w/in 10km of Natural Area and Important Farmland",
         "offsetgroup": "BR + w/in 10km of Natural Area and Important Farmland",
         "orientation": "v",
         "showlegend": true,
         "textposition": "auto",
         "type": "bar",
         "x": [
          "BR + w/in 10km of Natural Area and Important Farmland"
         ],
         "xaxis": "x11",
         "y": [
          1896
         ],
         "yaxis": "y11"
        },
        {
         "alignmentgroup": "True",
         "hovertemplate": "variable=%{x}<br>region_name=california<br>value=%{y}<extra></extra>",
         "legendgroup": "BR + w/in 10km of Natural Area and Important Farmland",
         "marker": {
          "color": "rgb(139, 224, 164)",
          "pattern": {
           "shape": ""
          }
         },
         "name": "BR + w/in 10km of Natural Area and Important Farmland",
         "offsetgroup": "BR + w/in 10km of Natural Area and Important Farmland",
         "orientation": "v",
         "showlegend": false,
         "textposition": "auto",
         "type": "bar",
         "x": [
          "BR + w/in 10km of Natural Area and Important Farmland"
         ],
         "xaxis": "x10",
         "y": [
          1029
         ],
         "yaxis": "y10"
        },
        {
         "alignmentgroup": "True",
         "hovertemplate": "variable=%{x}<br>region_name=colorado<br>value=%{y}<extra></extra>",
         "legendgroup": "BR + w/in 10km of Natural Area and Important Farmland",
         "marker": {
          "color": "rgb(139, 224, 164)",
          "pattern": {
           "shape": ""
          }
         },
         "name": "BR + w/in 10km of Natural Area and Important Farmland",
         "offsetgroup": "BR + w/in 10km of Natural Area and Important Farmland",
         "orientation": "v",
         "showlegend": false,
         "textposition": "auto",
         "type": "bar",
         "x": [
          "BR + w/in 10km of Natural Area and Important Farmland"
         ],
         "xaxis": "x9",
         "y": [
          17792
         ],
         "yaxis": "y9"
        },
        {
         "alignmentgroup": "True",
         "hovertemplate": "variable=%{x}<br>region_name=idaho<br>value=%{y}<extra></extra>",
         "legendgroup": "BR + w/in 10km of Natural Area and Important Farmland",
         "marker": {
          "color": "rgb(139, 224, 164)",
          "pattern": {
           "shape": ""
          }
         },
         "name": "BR + w/in 10km of Natural Area and Important Farmland",
         "offsetgroup": "BR + w/in 10km of Natural Area and Important Farmland",
         "orientation": "v",
         "showlegend": false,
         "textposition": "auto",
         "type": "bar",
         "x": [
          "BR + w/in 10km of Natural Area and Important Farmland"
         ],
         "xaxis": "x8",
         "y": [
          556
         ],
         "yaxis": "y8"
        },
        {
         "alignmentgroup": "True",
         "hovertemplate": "variable=%{x}<br>region_name=montana<br>value=%{y}<extra></extra>",
         "legendgroup": "BR + w/in 10km of Natural Area and Important Farmland",
         "marker": {
          "color": "rgb(139, 224, 164)",
          "pattern": {
           "shape": ""
          }
         },
         "name": "BR + w/in 10km of Natural Area and Important Farmland",
         "offsetgroup": "BR + w/in 10km of Natural Area and Important Farmland",
         "orientation": "v",
         "showlegend": false,
         "textposition": "auto",
         "type": "bar",
         "x": [
          "BR + w/in 10km of Natural Area and Important Farmland"
         ],
         "xaxis": "x7",
         "y": [
          12845
         ],
         "yaxis": "y7"
        },
        {
         "alignmentgroup": "True",
         "hovertemplate": "variable=%{x}<br>region_name=new_mexico<br>value=%{y}<extra></extra>",
         "legendgroup": "BR + w/in 10km of Natural Area and Important Farmland",
         "marker": {
          "color": "rgb(139, 224, 164)",
          "pattern": {
           "shape": ""
          }
         },
         "name": "BR + w/in 10km of Natural Area and Important Farmland",
         "offsetgroup": "BR + w/in 10km of Natural Area and Important Farmland",
         "orientation": "v",
         "showlegend": false,
         "textposition": "auto",
         "type": "bar",
         "x": [
          "BR + w/in 10km of Natural Area and Important Farmland"
         ],
         "xaxis": "x6",
         "y": [
          28974
         ],
         "yaxis": "y6"
        },
        {
         "alignmentgroup": "True",
         "hovertemplate": "variable=%{x}<br>region_name=nevada<br>value=%{y}<extra></extra>",
         "legendgroup": "BR + w/in 10km of Natural Area and Important Farmland",
         "marker": {
          "color": "rgb(139, 224, 164)",
          "pattern": {
           "shape": ""
          }
         },
         "name": "BR + w/in 10km of Natural Area and Important Farmland",
         "offsetgroup": "BR + w/in 10km of Natural Area and Important Farmland",
         "orientation": "v",
         "showlegend": false,
         "textposition": "auto",
         "type": "bar",
         "x": [
          "BR + w/in 10km of Natural Area and Important Farmland"
         ],
         "xaxis": "x5",
         "y": [
          2095
         ],
         "yaxis": "y5"
        },
        {
         "alignmentgroup": "True",
         "hovertemplate": "variable=%{x}<br>region_name=oregon<br>value=%{y}<extra></extra>",
         "legendgroup": "BR + w/in 10km of Natural Area and Important Farmland",
         "marker": {
          "color": "rgb(139, 224, 164)",
          "pattern": {
           "shape": ""
          }
         },
         "name": "BR + w/in 10km of Natural Area and Important Farmland",
         "offsetgroup": "BR + w/in 10km of Natural Area and Important Farmland",
         "orientation": "v",
         "showlegend": false,
         "textposition": "auto",
         "type": "bar",
         "x": [
          "BR + w/in 10km of Natural Area and Important Farmland"
         ],
         "xaxis": "x4",
         "y": [
          548
         ],
         "yaxis": "y4"
        },
        {
         "alignmentgroup": "True",
         "hovertemplate": "variable=%{x}<br>region_name=utah<br>value=%{y}<extra></extra>",
         "legendgroup": "BR + w/in 10km of Natural Area and Important Farmland",
         "marker": {
          "color": "rgb(139, 224, 164)",
          "pattern": {
           "shape": ""
          }
         },
         "name": "BR + w/in 10km of Natural Area and Important Farmland",
         "offsetgroup": "BR + w/in 10km of Natural Area and Important Farmland",
         "orientation": "v",
         "showlegend": false,
         "textposition": "auto",
         "type": "bar",
         "x": [
          "BR + w/in 10km of Natural Area and Important Farmland"
         ],
         "xaxis": "x3",
         "y": [
          905
         ],
         "yaxis": "y3"
        },
        {
         "alignmentgroup": "True",
         "hovertemplate": "variable=%{x}<br>region_name=washington<br>value=%{y}<extra></extra>",
         "legendgroup": "BR + w/in 10km of Natural Area and Important Farmland",
         "marker": {
          "color": "rgb(139, 224, 164)",
          "pattern": {
           "shape": ""
          }
         },
         "name": "BR + w/in 10km of Natural Area and Important Farmland",
         "offsetgroup": "BR + w/in 10km of Natural Area and Important Farmland",
         "orientation": "v",
         "showlegend": false,
         "textposition": "auto",
         "type": "bar",
         "x": [
          "BR + w/in 10km of Natural Area and Important Farmland"
         ],
         "xaxis": "x2",
         "y": [
          1023
         ],
         "yaxis": "y2"
        },
        {
         "alignmentgroup": "True",
         "hovertemplate": "variable=%{x}<br>region_name=wyoming<br>value=%{y}<extra></extra>",
         "legendgroup": "BR + w/in 10km of Natural Area and Important Farmland",
         "marker": {
          "color": "rgb(139, 224, 164)",
          "pattern": {
           "shape": ""
          }
         },
         "name": "BR + w/in 10km of Natural Area and Important Farmland",
         "offsetgroup": "BR + w/in 10km of Natural Area and Important Farmland",
         "orientation": "v",
         "showlegend": false,
         "textposition": "auto",
         "type": "bar",
         "x": [
          "BR + w/in 10km of Natural Area and Important Farmland"
         ],
         "xaxis": "x",
         "y": [
          19900
         ],
         "yaxis": "y"
        }
       ],
       "layout": {
        "annotations": [
         {
          "showarrow": false,
          "text": "",
          "textangle": 90,
          "x": 0.98,
          "xanchor": "left",
          "xref": "paper",
          "y": 0.031818181818181815,
          "yanchor": "middle",
          "yref": "paper"
         },
         {
          "showarrow": false,
          "text": "",
          "textangle": 90,
          "x": 0.98,
          "xanchor": "left",
          "xref": "paper",
          "y": 0.12545454545454543,
          "yanchor": "middle",
          "yref": "paper"
         },
         {
          "showarrow": false,
          "text": "",
          "textangle": 90,
          "x": 0.98,
          "xanchor": "left",
          "xref": "paper",
          "y": 0.21909090909090906,
          "yanchor": "middle",
          "yref": "paper"
         },
         {
          "showarrow": false,
          "text": "",
          "textangle": 90,
          "x": 0.98,
          "xanchor": "left",
          "xref": "paper",
          "y": 0.3127272727272727,
          "yanchor": "middle",
          "yref": "paper"
         },
         {
          "showarrow": false,
          "text": "",
          "textangle": 90,
          "x": 0.98,
          "xanchor": "left",
          "xref": "paper",
          "y": 0.4063636363636363,
          "yanchor": "middle",
          "yref": "paper"
         },
         {
          "showarrow": false,
          "text": "",
          "textangle": 90,
          "x": 0.98,
          "xanchor": "left",
          "xref": "paper",
          "y": 0.49999999999999994,
          "yanchor": "middle",
          "yref": "paper"
         },
         {
          "showarrow": false,
          "text": "",
          "textangle": 90,
          "x": 0.98,
          "xanchor": "left",
          "xref": "paper",
          "y": 0.5936363636363635,
          "yanchor": "middle",
          "yref": "paper"
         },
         {
          "showarrow": false,
          "text": "",
          "textangle": 90,
          "x": 0.98,
          "xanchor": "left",
          "xref": "paper",
          "y": 0.687272727272727,
          "yanchor": "middle",
          "yref": "paper"
         },
         {
          "showarrow": false,
          "text": "",
          "textangle": 90,
          "x": 0.98,
          "xanchor": "left",
          "xref": "paper",
          "y": 0.7809090909090908,
          "yanchor": "middle",
          "yref": "paper"
         },
         {
          "showarrow": false,
          "text": "",
          "textangle": 90,
          "x": 0.98,
          "xanchor": "left",
          "xref": "paper",
          "y": 0.8745454545454543,
          "yanchor": "middle",
          "yref": "paper"
         },
         {
          "showarrow": false,
          "text": "",
          "textangle": 90,
          "x": 0.98,
          "xanchor": "left",
          "xref": "paper",
          "y": 0.9681818181818178,
          "yanchor": "middle",
          "yref": "paper"
         },
         {
          "font": {
           "size": 16
          },
          "showarrow": false,
          "text": "Arizona",
          "x": 0.5,
          "xref": "paper",
          "y": 1.01,
          "yref": "paper"
         },
         {
          "font": {
           "size": 16
          },
          "showarrow": false,
          "text": "California",
          "x": 0.5,
          "xref": "paper",
          "y": 0.915,
          "yref": "paper"
         },
         {
          "font": {
           "size": 16
          },
          "showarrow": false,
          "text": "Colorado",
          "x": 0.5,
          "xref": "paper",
          "y": 0.8200000000000001,
          "yref": "paper"
         },
         {
          "font": {
           "size": 16
          },
          "showarrow": false,
          "text": "Idaho",
          "x": 0.5,
          "xref": "paper",
          "y": 0.7250000000000001,
          "yref": "paper"
         },
         {
          "font": {
           "size": 16
          },
          "showarrow": false,
          "text": "Montana",
          "x": 0.5,
          "xref": "paper",
          "y": 0.6300000000000001,
          "yref": "paper"
         },
         {
          "font": {
           "size": 16
          },
          "showarrow": false,
          "text": "New_Mexico",
          "x": 0.5,
          "xref": "paper",
          "y": 0.5350000000000001,
          "yref": "paper"
         },
         {
          "font": {
           "size": 16
          },
          "showarrow": false,
          "text": "Nevada",
          "x": 0.5,
          "xref": "paper",
          "y": 0.44000000000000017,
          "yref": "paper"
         },
         {
          "font": {
           "size": 16
          },
          "showarrow": false,
          "text": "Oregon",
          "x": 0.5,
          "xref": "paper",
          "y": 0.3450000000000002,
          "yref": "paper"
         },
         {
          "font": {
           "size": 16
          },
          "showarrow": false,
          "text": "Utah",
          "x": 0.5,
          "xref": "paper",
          "y": 0.2500000000000002,
          "yref": "paper"
         },
         {
          "font": {
           "size": 16
          },
          "showarrow": false,
          "text": "Washington",
          "x": 0.5,
          "xref": "paper",
          "y": 0.15500000000000022,
          "yref": "paper"
         },
         {
          "font": {
           "size": 16
          },
          "showarrow": false,
          "text": "Wyoming",
          "x": 0.5,
          "xref": "paper",
          "y": 0.06000000000000022,
          "yref": "paper"
         },
         {
          "showarrow": false,
          "text": "Clean Grid Required Land by 2035",
          "x": 0,
          "xanchor": "left",
          "xref": "x11 domain",
          "y": 715,
          "yanchor": "bottom",
          "yref": "y11"
         },
         {
          "showarrow": false,
          "text": "Clean Grid Required Land by 2035",
          "x": 0,
          "xanchor": "left",
          "xref": "x10 domain",
          "y": 3066,
          "yanchor": "bottom",
          "yref": "y10"
         },
         {
          "showarrow": false,
          "text": "Clean Grid Required Land by 2035",
          "x": 0,
          "xanchor": "left",
          "xref": "x9 domain",
          "y": 1596,
          "yanchor": "bottom",
          "yref": "y9"
         },
         {
          "showarrow": false,
          "text": "Clean Grid Required Land by 2035",
          "x": 0,
          "xanchor": "left",
          "xref": "x8 domain",
          "y": 336,
          "yanchor": "bottom",
          "yref": "y8"
         },
         {
          "showarrow": false,
          "text": "Clean Grid Required Land by 2035",
          "x": 0,
          "xanchor": "left",
          "xref": "x7 domain",
          "y": 2921,
          "yanchor": "bottom",
          "yref": "y7"
         },
         {
          "showarrow": false,
          "text": "Clean Grid Required Land by 2035",
          "x": 0,
          "xanchor": "left",
          "xref": "x6 domain",
          "y": 1081,
          "yanchor": "bottom",
          "yref": "y6"
         },
         {
          "showarrow": false,
          "text": "Clean Grid Required Land by 2035",
          "x": 0,
          "xanchor": "left",
          "xref": "x5 domain",
          "y": 252,
          "yanchor": "bottom",
          "yref": "y5"
         },
         {
          "showarrow": false,
          "text": "Clean Grid Required Land by 2035",
          "x": 0,
          "xanchor": "left",
          "xref": "x4 domain",
          "y": 695,
          "yanchor": "bottom",
          "yref": "y4"
         },
         {
          "showarrow": false,
          "text": "Clean Grid Required Land by 2035",
          "x": 0,
          "xanchor": "left",
          "xref": "x3 domain",
          "y": 878,
          "yanchor": "bottom",
          "yref": "y3"
         },
         {
          "showarrow": false,
          "text": "Clean Grid Required Land by 2035",
          "x": 0,
          "xanchor": "left",
          "xref": "x2 domain",
          "y": 641,
          "yanchor": "bottom",
          "yref": "y2"
         },
         {
          "showarrow": false,
          "text": "Clean Grid Required Land by 2035",
          "x": 0,
          "xanchor": "left",
          "xref": "x domain",
          "y": 2186,
          "yanchor": "bottom",
          "yref": "y"
         }
        ],
        "barmode": "relative",
        "height": 2000,
        "legend": {
         "title": {
          "text": "variable"
         },
         "tracegroupgap": 0
        },
        "margin": {
         "t": 60
        },
        "paper_bgcolor": "white",
        "plot_bgcolor": "white",
        "shapes": [
         {
          "line": {
           "dash": "dot",
           "width": 2
          },
          "type": "line",
          "x0": 0,
          "x1": 1,
          "xref": "x11 domain",
          "y0": 715,
          "y1": 715,
          "yref": "y11"
         },
         {
          "line": {
           "dash": "dot",
           "width": 2
          },
          "type": "line",
          "x0": 0,
          "x1": 1,
          "xref": "x10 domain",
          "y0": 3066,
          "y1": 3066,
          "yref": "y10"
         },
         {
          "line": {
           "dash": "dot",
           "width": 2
          },
          "type": "line",
          "x0": 0,
          "x1": 1,
          "xref": "x9 domain",
          "y0": 1596,
          "y1": 1596,
          "yref": "y9"
         },
         {
          "line": {
           "dash": "dot",
           "width": 2
          },
          "type": "line",
          "x0": 0,
          "x1": 1,
          "xref": "x8 domain",
          "y0": 336,
          "y1": 336,
          "yref": "y8"
         },
         {
          "line": {
           "dash": "dot",
           "width": 2
          },
          "type": "line",
          "x0": 0,
          "x1": 1,
          "xref": "x7 domain",
          "y0": 2921,
          "y1": 2921,
          "yref": "y7"
         },
         {
          "line": {
           "dash": "dot",
           "width": 2
          },
          "type": "line",
          "x0": 0,
          "x1": 1,
          "xref": "x6 domain",
          "y0": 1081,
          "y1": 1081,
          "yref": "y6"
         },
         {
          "line": {
           "dash": "dot",
           "width": 2
          },
          "type": "line",
          "x0": 0,
          "x1": 1,
          "xref": "x5 domain",
          "y0": 252,
          "y1": 252,
          "yref": "y5"
         },
         {
          "line": {
           "dash": "dot",
           "width": 2
          },
          "type": "line",
          "x0": 0,
          "x1": 1,
          "xref": "x4 domain",
          "y0": 695,
          "y1": 695,
          "yref": "y4"
         },
         {
          "line": {
           "dash": "dot",
           "width": 2
          },
          "type": "line",
          "x0": 0,
          "x1": 1,
          "xref": "x3 domain",
          "y0": 878,
          "y1": 878,
          "yref": "y3"
         },
         {
          "line": {
           "dash": "dot",
           "width": 2
          },
          "type": "line",
          "x0": 0,
          "x1": 1,
          "xref": "x2 domain",
          "y0": 641,
          "y1": 641,
          "yref": "y2"
         },
         {
          "line": {
           "dash": "dot",
           "width": 2
          },
          "type": "line",
          "x0": 0,
          "x1": 1,
          "xref": "x domain",
          "y0": 2186,
          "y1": 2186,
          "yref": "y"
         }
        ],
        "showlegend": false,
        "template": {
         "data": {
          "bar": [
           {
            "error_x": {
             "color": "#2a3f5f"
            },
            "error_y": {
             "color": "#2a3f5f"
            },
            "marker": {
             "line": {
              "color": "#E5ECF6",
              "width": 0.5
             },
             "pattern": {
              "fillmode": "overlay",
              "size": 10,
              "solidity": 0.2
             }
            },
            "type": "bar"
           }
          ],
          "barpolar": [
           {
            "marker": {
             "line": {
              "color": "#E5ECF6",
              "width": 0.5
             },
             "pattern": {
              "fillmode": "overlay",
              "size": 10,
              "solidity": 0.2
             }
            },
            "type": "barpolar"
           }
          ],
          "carpet": [
           {
            "aaxis": {
             "endlinecolor": "#2a3f5f",
             "gridcolor": "white",
             "linecolor": "white",
             "minorgridcolor": "white",
             "startlinecolor": "#2a3f5f"
            },
            "baxis": {
             "endlinecolor": "#2a3f5f",
             "gridcolor": "white",
             "linecolor": "white",
             "minorgridcolor": "white",
             "startlinecolor": "#2a3f5f"
            },
            "type": "carpet"
           }
          ],
          "choropleth": [
           {
            "colorbar": {
             "outlinewidth": 0,
             "ticks": ""
            },
            "type": "choropleth"
           }
          ],
          "contour": [
           {
            "colorbar": {
             "outlinewidth": 0,
             "ticks": ""
            },
            "colorscale": [
             [
              0,
              "#0d0887"
             ],
             [
              0.1111111111111111,
              "#46039f"
             ],
             [
              0.2222222222222222,
              "#7201a8"
             ],
             [
              0.3333333333333333,
              "#9c179e"
             ],
             [
              0.4444444444444444,
              "#bd3786"
             ],
             [
              0.5555555555555556,
              "#d8576b"
             ],
             [
              0.6666666666666666,
              "#ed7953"
             ],
             [
              0.7777777777777778,
              "#fb9f3a"
             ],
             [
              0.8888888888888888,
              "#fdca26"
             ],
             [
              1,
              "#f0f921"
             ]
            ],
            "type": "contour"
           }
          ],
          "contourcarpet": [
           {
            "colorbar": {
             "outlinewidth": 0,
             "ticks": ""
            },
            "type": "contourcarpet"
           }
          ],
          "heatmap": [
           {
            "colorbar": {
             "outlinewidth": 0,
             "ticks": ""
            },
            "colorscale": [
             [
              0,
              "#0d0887"
             ],
             [
              0.1111111111111111,
              "#46039f"
             ],
             [
              0.2222222222222222,
              "#7201a8"
             ],
             [
              0.3333333333333333,
              "#9c179e"
             ],
             [
              0.4444444444444444,
              "#bd3786"
             ],
             [
              0.5555555555555556,
              "#d8576b"
             ],
             [
              0.6666666666666666,
              "#ed7953"
             ],
             [
              0.7777777777777778,
              "#fb9f3a"
             ],
             [
              0.8888888888888888,
              "#fdca26"
             ],
             [
              1,
              "#f0f921"
             ]
            ],
            "type": "heatmap"
           }
          ],
          "heatmapgl": [
           {
            "colorbar": {
             "outlinewidth": 0,
             "ticks": ""
            },
            "colorscale": [
             [
              0,
              "#0d0887"
             ],
             [
              0.1111111111111111,
              "#46039f"
             ],
             [
              0.2222222222222222,
              "#7201a8"
             ],
             [
              0.3333333333333333,
              "#9c179e"
             ],
             [
              0.4444444444444444,
              "#bd3786"
             ],
             [
              0.5555555555555556,
              "#d8576b"
             ],
             [
              0.6666666666666666,
              "#ed7953"
             ],
             [
              0.7777777777777778,
              "#fb9f3a"
             ],
             [
              0.8888888888888888,
              "#fdca26"
             ],
             [
              1,
              "#f0f921"
             ]
            ],
            "type": "heatmapgl"
           }
          ],
          "histogram": [
           {
            "marker": {
             "pattern": {
              "fillmode": "overlay",
              "size": 10,
              "solidity": 0.2
             }
            },
            "type": "histogram"
           }
          ],
          "histogram2d": [
           {
            "colorbar": {
             "outlinewidth": 0,
             "ticks": ""
            },
            "colorscale": [
             [
              0,
              "#0d0887"
             ],
             [
              0.1111111111111111,
              "#46039f"
             ],
             [
              0.2222222222222222,
              "#7201a8"
             ],
             [
              0.3333333333333333,
              "#9c179e"
             ],
             [
              0.4444444444444444,
              "#bd3786"
             ],
             [
              0.5555555555555556,
              "#d8576b"
             ],
             [
              0.6666666666666666,
              "#ed7953"
             ],
             [
              0.7777777777777778,
              "#fb9f3a"
             ],
             [
              0.8888888888888888,
              "#fdca26"
             ],
             [
              1,
              "#f0f921"
             ]
            ],
            "type": "histogram2d"
           }
          ],
          "histogram2dcontour": [
           {
            "colorbar": {
             "outlinewidth": 0,
             "ticks": ""
            },
            "colorscale": [
             [
              0,
              "#0d0887"
             ],
             [
              0.1111111111111111,
              "#46039f"
             ],
             [
              0.2222222222222222,
              "#7201a8"
             ],
             [
              0.3333333333333333,
              "#9c179e"
             ],
             [
              0.4444444444444444,
              "#bd3786"
             ],
             [
              0.5555555555555556,
              "#d8576b"
             ],
             [
              0.6666666666666666,
              "#ed7953"
             ],
             [
              0.7777777777777778,
              "#fb9f3a"
             ],
             [
              0.8888888888888888,
              "#fdca26"
             ],
             [
              1,
              "#f0f921"
             ]
            ],
            "type": "histogram2dcontour"
           }
          ],
          "mesh3d": [
           {
            "colorbar": {
             "outlinewidth": 0,
             "ticks": ""
            },
            "type": "mesh3d"
           }
          ],
          "parcoords": [
           {
            "line": {
             "colorbar": {
              "outlinewidth": 0,
              "ticks": ""
             }
            },
            "type": "parcoords"
           }
          ],
          "pie": [
           {
            "automargin": true,
            "type": "pie"
           }
          ],
          "scatter": [
           {
            "fillpattern": {
             "fillmode": "overlay",
             "size": 10,
             "solidity": 0.2
            },
            "type": "scatter"
           }
          ],
          "scatter3d": [
           {
            "line": {
             "colorbar": {
              "outlinewidth": 0,
              "ticks": ""
             }
            },
            "marker": {
             "colorbar": {
              "outlinewidth": 0,
              "ticks": ""
             }
            },
            "type": "scatter3d"
           }
          ],
          "scattercarpet": [
           {
            "marker": {
             "colorbar": {
              "outlinewidth": 0,
              "ticks": ""
             }
            },
            "type": "scattercarpet"
           }
          ],
          "scattergeo": [
           {
            "marker": {
             "colorbar": {
              "outlinewidth": 0,
              "ticks": ""
             }
            },
            "type": "scattergeo"
           }
          ],
          "scattergl": [
           {
            "marker": {
             "colorbar": {
              "outlinewidth": 0,
              "ticks": ""
             }
            },
            "type": "scattergl"
           }
          ],
          "scattermapbox": [
           {
            "marker": {
             "colorbar": {
              "outlinewidth": 0,
              "ticks": ""
             }
            },
            "type": "scattermapbox"
           }
          ],
          "scatterpolar": [
           {
            "marker": {
             "colorbar": {
              "outlinewidth": 0,
              "ticks": ""
             }
            },
            "type": "scatterpolar"
           }
          ],
          "scatterpolargl": [
           {
            "marker": {
             "colorbar": {
              "outlinewidth": 0,
              "ticks": ""
             }
            },
            "type": "scatterpolargl"
           }
          ],
          "scatterternary": [
           {
            "marker": {
             "colorbar": {
              "outlinewidth": 0,
              "ticks": ""
             }
            },
            "type": "scatterternary"
           }
          ],
          "surface": [
           {
            "colorbar": {
             "outlinewidth": 0,
             "ticks": ""
            },
            "colorscale": [
             [
              0,
              "#0d0887"
             ],
             [
              0.1111111111111111,
              "#46039f"
             ],
             [
              0.2222222222222222,
              "#7201a8"
             ],
             [
              0.3333333333333333,
              "#9c179e"
             ],
             [
              0.4444444444444444,
              "#bd3786"
             ],
             [
              0.5555555555555556,
              "#d8576b"
             ],
             [
              0.6666666666666666,
              "#ed7953"
             ],
             [
              0.7777777777777778,
              "#fb9f3a"
             ],
             [
              0.8888888888888888,
              "#fdca26"
             ],
             [
              1,
              "#f0f921"
             ]
            ],
            "type": "surface"
           }
          ],
          "table": [
           {
            "cells": {
             "fill": {
              "color": "#EBF0F8"
             },
             "line": {
              "color": "white"
             }
            },
            "header": {
             "fill": {
              "color": "#C8D4E3"
             },
             "line": {
              "color": "white"
             }
            },
            "type": "table"
           }
          ]
         },
         "layout": {
          "annotationdefaults": {
           "arrowcolor": "#2a3f5f",
           "arrowhead": 0,
           "arrowwidth": 1
          },
          "autotypenumbers": "strict",
          "coloraxis": {
           "colorbar": {
            "outlinewidth": 0,
            "ticks": ""
           }
          },
          "colorscale": {
           "diverging": [
            [
             0,
             "#8e0152"
            ],
            [
             0.1,
             "#c51b7d"
            ],
            [
             0.2,
             "#de77ae"
            ],
            [
             0.3,
             "#f1b6da"
            ],
            [
             0.4,
             "#fde0ef"
            ],
            [
             0.5,
             "#f7f7f7"
            ],
            [
             0.6,
             "#e6f5d0"
            ],
            [
             0.7,
             "#b8e186"
            ],
            [
             0.8,
             "#7fbc41"
            ],
            [
             0.9,
             "#4d9221"
            ],
            [
             1,
             "#276419"
            ]
           ],
           "sequential": [
            [
             0,
             "#0d0887"
            ],
            [
             0.1111111111111111,
             "#46039f"
            ],
            [
             0.2222222222222222,
             "#7201a8"
            ],
            [
             0.3333333333333333,
             "#9c179e"
            ],
            [
             0.4444444444444444,
             "#bd3786"
            ],
            [
             0.5555555555555556,
             "#d8576b"
            ],
            [
             0.6666666666666666,
             "#ed7953"
            ],
            [
             0.7777777777777778,
             "#fb9f3a"
            ],
            [
             0.8888888888888888,
             "#fdca26"
            ],
            [
             1,
             "#f0f921"
            ]
           ],
           "sequentialminus": [
            [
             0,
             "#0d0887"
            ],
            [
             0.1111111111111111,
             "#46039f"
            ],
            [
             0.2222222222222222,
             "#7201a8"
            ],
            [
             0.3333333333333333,
             "#9c179e"
            ],
            [
             0.4444444444444444,
             "#bd3786"
            ],
            [
             0.5555555555555556,
             "#d8576b"
            ],
            [
             0.6666666666666666,
             "#ed7953"
            ],
            [
             0.7777777777777778,
             "#fb9f3a"
            ],
            [
             0.8888888888888888,
             "#fdca26"
            ],
            [
             1,
             "#f0f921"
            ]
           ]
          },
          "colorway": [
           "#636efa",
           "#EF553B",
           "#00cc96",
           "#ab63fa",
           "#FFA15A",
           "#19d3f3",
           "#FF6692",
           "#B6E880",
           "#FF97FF",
           "#FECB52"
          ],
          "font": {
           "color": "#2a3f5f"
          },
          "geo": {
           "bgcolor": "white",
           "lakecolor": "white",
           "landcolor": "#E5ECF6",
           "showlakes": true,
           "showland": true,
           "subunitcolor": "white"
          },
          "hoverlabel": {
           "align": "left"
          },
          "hovermode": "closest",
          "mapbox": {
           "style": "light"
          },
          "paper_bgcolor": "white",
          "plot_bgcolor": "#E5ECF6",
          "polar": {
           "angularaxis": {
            "gridcolor": "white",
            "linecolor": "white",
            "ticks": ""
           },
           "bgcolor": "#E5ECF6",
           "radialaxis": {
            "gridcolor": "white",
            "linecolor": "white",
            "ticks": ""
           }
          },
          "scene": {
           "xaxis": {
            "backgroundcolor": "#E5ECF6",
            "gridcolor": "white",
            "gridwidth": 2,
            "linecolor": "white",
            "showbackground": true,
            "ticks": "",
            "zerolinecolor": "white"
           },
           "yaxis": {
            "backgroundcolor": "#E5ECF6",
            "gridcolor": "white",
            "gridwidth": 2,
            "linecolor": "white",
            "showbackground": true,
            "ticks": "",
            "zerolinecolor": "white"
           },
           "zaxis": {
            "backgroundcolor": "#E5ECF6",
            "gridcolor": "white",
            "gridwidth": 2,
            "linecolor": "white",
            "showbackground": true,
            "ticks": "",
            "zerolinecolor": "white"
           }
          },
          "shapedefaults": {
           "line": {
            "color": "#2a3f5f"
           }
          },
          "ternary": {
           "aaxis": {
            "gridcolor": "white",
            "linecolor": "white",
            "ticks": ""
           },
           "baxis": {
            "gridcolor": "white",
            "linecolor": "white",
            "ticks": ""
           },
           "bgcolor": "#E5ECF6",
           "caxis": {
            "gridcolor": "white",
            "linecolor": "white",
            "ticks": ""
           }
          },
          "title": {
           "x": 0.05
          },
          "xaxis": {
           "automargin": true,
           "gridcolor": "white",
           "linecolor": "white",
           "ticks": "",
           "title": {
            "standoff": 15
           },
           "zerolinecolor": "white",
           "zerolinewidth": 2
          },
          "yaxis": {
           "automargin": true,
           "gridcolor": "white",
           "linecolor": "white",
           "ticks": "",
           "title": {
            "standoff": 15
           },
           "zerolinecolor": "white",
           "zerolinewidth": 2
          }
         }
        },
        "title": {
         "text": "Wind Siting Availability under Various Exclusion Combinations"
        },
        "uniformtext": {
         "minsize": 18,
         "mode": "hide"
        },
        "width": 1200,
        "xaxis": {
         "anchor": "y",
         "autorange": true,
         "categoryarray": [
          "Baseline Restrictions (BR)",
          "BR + DACs",
          "BR + Important Farmland",
          "BR + w/in 1km of Natural Areas",
          "BR + w/in 5km of Natural Areas",
          "BR + w/in 10km of Natural Areas",
          "BR + DACS, w/in 5km of Natural Area, and Important Farmland",
          "BR + w/in 5km of Natural Area and Important Farmland",
          "BR + w/in 10km of Natural Area and Important Farmland"
         ],
         "categoryorder": "array",
         "domain": [
          0,
          0.98
         ],
         "range": [
          -0.5,
          8.5
         ],
         "title": {
          "text": "variable"
         },
         "type": "category"
        },
        "xaxis10": {
         "anchor": "y10",
         "autorange": true,
         "domain": [
          0,
          0.98
         ],
         "matches": "x",
         "range": [
          -0.5,
          8.5
         ],
         "showticklabels": false,
         "type": "category"
        },
        "xaxis11": {
         "anchor": "y11",
         "autorange": true,
         "domain": [
          0,
          0.98
         ],
         "matches": "x",
         "range": [
          -0.5,
          8.5
         ],
         "showticklabels": false,
         "type": "category"
        },
        "xaxis2": {
         "anchor": "y2",
         "autorange": true,
         "domain": [
          0,
          0.98
         ],
         "matches": "x",
         "range": [
          -0.5,
          8.5
         ],
         "showticklabels": false,
         "type": "category"
        },
        "xaxis3": {
         "anchor": "y3",
         "autorange": true,
         "domain": [
          0,
          0.98
         ],
         "matches": "x",
         "range": [
          -0.5,
          8.5
         ],
         "showticklabels": false,
         "type": "category"
        },
        "xaxis4": {
         "anchor": "y4",
         "autorange": true,
         "domain": [
          0,
          0.98
         ],
         "matches": "x",
         "range": [
          -0.5,
          8.5
         ],
         "showticklabels": false,
         "type": "category"
        },
        "xaxis5": {
         "anchor": "y5",
         "autorange": true,
         "domain": [
          0,
          0.98
         ],
         "matches": "x",
         "range": [
          -0.5,
          8.5
         ],
         "showticklabels": false,
         "type": "category"
        },
        "xaxis6": {
         "anchor": "y6",
         "autorange": true,
         "domain": [
          0,
          0.98
         ],
         "matches": "x",
         "range": [
          -0.5,
          8.5
         ],
         "showticklabels": false,
         "type": "category"
        },
        "xaxis7": {
         "anchor": "y7",
         "autorange": true,
         "domain": [
          0,
          0.98
         ],
         "matches": "x",
         "range": [
          -0.5,
          8.5
         ],
         "showticklabels": false,
         "type": "category"
        },
        "xaxis8": {
         "anchor": "y8",
         "autorange": true,
         "domain": [
          0,
          0.98
         ],
         "matches": "x",
         "range": [
          -0.5,
          8.5
         ],
         "showticklabels": false,
         "type": "category"
        },
        "xaxis9": {
         "anchor": "y9",
         "autorange": true,
         "domain": [
          0,
          0.98
         ],
         "matches": "x",
         "range": [
          -0.5,
          8.5
         ],
         "showticklabels": false,
         "type": "category"
        },
        "yaxis": {
         "anchor": "x",
         "autorange": true,
         "domain": [
          0,
          0.06363636363636363
         ],
         "gridcolor": "#bdbdbd",
         "range": [
          0,
          78235.78947368421
         ],
         "showgrid": true,
         "title": {
          "text": "square km"
         },
         "type": "linear"
        },
        "yaxis10": {
         "anchor": "x10",
         "autorange": true,
         "domain": [
          0.8427272727272725,
          0.9063636363636361
         ],
         "gridcolor": "#bdbdbd",
         "range": [
          0,
          10014.736842105263
         ],
         "showgrid": true,
         "title": {
          "text": "square km"
         },
         "type": "linear"
        },
        "yaxis11": {
         "anchor": "x11",
         "autorange": true,
         "domain": [
          0.9363636363636361,
          0.9999999999999997
         ],
         "gridcolor": "#bdbdbd",
         "range": [
          0,
          5765.263157894737
         ],
         "showgrid": true,
         "title": {
          "text": "square km"
         },
         "type": "linear"
        },
        "yaxis2": {
         "anchor": "x2",
         "autorange": true,
         "domain": [
          0.09363636363636363,
          0.15727272727272726
         ],
         "gridcolor": "#bdbdbd",
         "range": [
          0,
          5675.789473684211
         ],
         "showgrid": true,
         "title": {
          "text": "square km"
         },
         "type": "linear"
        },
        "yaxis3": {
         "anchor": "x3",
         "autorange": true,
         "domain": [
          0.18727272727272726,
          0.25090909090909086
         ],
         "gridcolor": "#bdbdbd",
         "range": [
          0,
          3010.5263157894738
         ],
         "showgrid": true,
         "title": {
          "text": "square km"
         },
         "type": "linear"
        },
        "yaxis4": {
         "anchor": "x4",
         "autorange": true,
         "domain": [
          0.2809090909090909,
          0.3445454545454545
         ],
         "gridcolor": "#bdbdbd",
         "range": [
          0,
          6772.631578947368
         ],
         "showgrid": true,
         "title": {
          "text": "square km"
         },
         "type": "linear"
        },
        "yaxis5": {
         "anchor": "x5",
         "autorange": true,
         "domain": [
          0.3745454545454545,
          0.4381818181818181
         ],
         "gridcolor": "#bdbdbd",
         "range": [
          0,
          5836.842105263158
         ],
         "showgrid": true,
         "title": {
          "text": "square km"
         },
         "type": "linear"
        },
        "yaxis6": {
         "anchor": "x6",
         "autorange": true,
         "domain": [
          0.46818181818181814,
          0.5318181818181817
         ],
         "gridcolor": "#bdbdbd",
         "range": [
          0,
          56326.31578947369
         ],
         "showgrid": true,
         "title": {
          "text": "square km"
         },
         "type": "linear"
        },
        "yaxis7": {
         "anchor": "x7",
         "autorange": true,
         "domain": [
          0.5618181818181818,
          0.6254545454545454
         ],
         "gridcolor": "#bdbdbd",
         "range": [
          0,
          100984.21052631579
         ],
         "showgrid": true,
         "title": {
          "text": "square km"
         },
         "type": "linear"
        },
        "yaxis8": {
         "anchor": "x8",
         "autorange": true,
         "domain": [
          0.6554545454545453,
          0.7190909090909089
         ],
         "gridcolor": "#bdbdbd",
         "range": [
          0,
          3504.2105263157896
         ],
         "showgrid": true,
         "title": {
          "text": "square km"
         },
         "type": "linear"
        },
        "yaxis9": {
         "anchor": "x9",
         "autorange": true,
         "domain": [
          0.7490909090909089,
          0.8127272727272725
         ],
         "gridcolor": "#bdbdbd",
         "range": [
          0,
          35911.57894736842
         ],
         "showgrid": true,
         "title": {
          "text": "square km"
         },
         "type": "linear"
        }
       }
      },
      "text/html": [
       "<div>                            <div id=\"152fae28-b5ae-4acd-86b2-1b36771306a1\" class=\"plotly-graph-div\" style=\"height:2000px; width:1200px;\"></div>            <script type=\"text/javascript\">                require([\"plotly\"], function(Plotly) {                    window.PLOTLYENV=window.PLOTLYENV || {};                                    if (document.getElementById(\"152fae28-b5ae-4acd-86b2-1b36771306a1\")) {                    Plotly.newPlot(                        \"152fae28-b5ae-4acd-86b2-1b36771306a1\",                        [{\"alignmentgroup\":\"True\",\"hovertemplate\":\"variable=%{x}\\u003cbr\\u003eregion_name=arizona\\u003cbr\\u003evalue=%{y}\\u003cextra\\u003e\\u003c\\u002fextra\\u003e\",\"legendgroup\":\"Baseline Restrictions (BR)\",\"marker\":{\"color\":\"rgb(102, 197, 204)\",\"pattern\":{\"shape\":\"\"}},\"name\":\"Baseline Restrictions (BR)\",\"offsetgroup\":\"Baseline Restrictions (BR)\",\"orientation\":\"v\",\"showlegend\":true,\"textposition\":\"auto\",\"x\":[\"Baseline Restrictions (BR)\"],\"xaxis\":\"x11\",\"y\":[5477],\"yaxis\":\"y11\",\"type\":\"bar\"},{\"alignmentgroup\":\"True\",\"hovertemplate\":\"variable=%{x}\\u003cbr\\u003eregion_name=california\\u003cbr\\u003evalue=%{y}\\u003cextra\\u003e\\u003c\\u002fextra\\u003e\",\"legendgroup\":\"Baseline Restrictions (BR)\",\"marker\":{\"color\":\"rgb(102, 197, 204)\",\"pattern\":{\"shape\":\"\"}},\"name\":\"Baseline Restrictions (BR)\",\"offsetgroup\":\"Baseline Restrictions (BR)\",\"orientation\":\"v\",\"showlegend\":false,\"textposition\":\"auto\",\"x\":[\"Baseline Restrictions (BR)\"],\"xaxis\":\"x10\",\"y\":[9514],\"yaxis\":\"y10\",\"type\":\"bar\"},{\"alignmentgroup\":\"True\",\"hovertemplate\":\"variable=%{x}\\u003cbr\\u003eregion_name=colorado\\u003cbr\\u003evalue=%{y}\\u003cextra\\u003e\\u003c\\u002fextra\\u003e\",\"legendgroup\":\"Baseline Restrictions (BR)\",\"marker\":{\"color\":\"rgb(102, 197, 204)\",\"pattern\":{\"shape\":\"\"}},\"name\":\"Baseline Restrictions (BR)\",\"offsetgroup\":\"Baseline Restrictions (BR)\",\"orientation\":\"v\",\"showlegend\":false,\"textposition\":\"auto\",\"x\":[\"Baseline Restrictions (BR)\"],\"xaxis\":\"x9\",\"y\":[34116],\"yaxis\":\"y9\",\"type\":\"bar\"},{\"alignmentgroup\":\"True\",\"hovertemplate\":\"variable=%{x}\\u003cbr\\u003eregion_name=idaho\\u003cbr\\u003evalue=%{y}\\u003cextra\\u003e\\u003c\\u002fextra\\u003e\",\"legendgroup\":\"Baseline Restrictions (BR)\",\"marker\":{\"color\":\"rgb(102, 197, 204)\",\"pattern\":{\"shape\":\"\"}},\"name\":\"Baseline Restrictions (BR)\",\"offsetgroup\":\"Baseline Restrictions (BR)\",\"orientation\":\"v\",\"showlegend\":false,\"textposition\":\"auto\",\"x\":[\"Baseline Restrictions (BR)\"],\"xaxis\":\"x8\",\"y\":[3329],\"yaxis\":\"y8\",\"type\":\"bar\"},{\"alignmentgroup\":\"True\",\"hovertemplate\":\"variable=%{x}\\u003cbr\\u003eregion_name=montana\\u003cbr\\u003evalue=%{y}\\u003cextra\\u003e\\u003c\\u002fextra\\u003e\",\"legendgroup\":\"Baseline Restrictions (BR)\",\"marker\":{\"color\":\"rgb(102, 197, 204)\",\"pattern\":{\"shape\":\"\"}},\"name\":\"Baseline Restrictions (BR)\",\"offsetgroup\":\"Baseline Restrictions (BR)\",\"orientation\":\"v\",\"showlegend\":false,\"textposition\":\"auto\",\"x\":[\"Baseline Restrictions (BR)\"],\"xaxis\":\"x7\",\"y\":[95935],\"yaxis\":\"y7\",\"type\":\"bar\"},{\"alignmentgroup\":\"True\",\"hovertemplate\":\"variable=%{x}\\u003cbr\\u003eregion_name=new_mexico\\u003cbr\\u003evalue=%{y}\\u003cextra\\u003e\\u003c\\u002fextra\\u003e\",\"legendgroup\":\"Baseline Restrictions (BR)\",\"marker\":{\"color\":\"rgb(102, 197, 204)\",\"pattern\":{\"shape\":\"\"}},\"name\":\"Baseline Restrictions (BR)\",\"offsetgroup\":\"Baseline Restrictions (BR)\",\"orientation\":\"v\",\"showlegend\":false,\"textposition\":\"auto\",\"x\":[\"Baseline Restrictions (BR)\"],\"xaxis\":\"x6\",\"y\":[53510],\"yaxis\":\"y6\",\"type\":\"bar\"},{\"alignmentgroup\":\"True\",\"hovertemplate\":\"variable=%{x}\\u003cbr\\u003eregion_name=nevada\\u003cbr\\u003evalue=%{y}\\u003cextra\\u003e\\u003c\\u002fextra\\u003e\",\"legendgroup\":\"Baseline Restrictions (BR)\",\"marker\":{\"color\":\"rgb(102, 197, 204)\",\"pattern\":{\"shape\":\"\"}},\"name\":\"Baseline Restrictions (BR)\",\"offsetgroup\":\"Baseline Restrictions (BR)\",\"orientation\":\"v\",\"showlegend\":false,\"textposition\":\"auto\",\"x\":[\"Baseline Restrictions (BR)\"],\"xaxis\":\"x5\",\"y\":[5545],\"yaxis\":\"y5\",\"type\":\"bar\"},{\"alignmentgroup\":\"True\",\"hovertemplate\":\"variable=%{x}\\u003cbr\\u003eregion_name=oregon\\u003cbr\\u003evalue=%{y}\\u003cextra\\u003e\\u003c\\u002fextra\\u003e\",\"legendgroup\":\"Baseline Restrictions (BR)\",\"marker\":{\"color\":\"rgb(102, 197, 204)\",\"pattern\":{\"shape\":\"\"}},\"name\":\"Baseline Restrictions (BR)\",\"offsetgroup\":\"Baseline Restrictions (BR)\",\"orientation\":\"v\",\"showlegend\":false,\"textposition\":\"auto\",\"x\":[\"Baseline Restrictions (BR)\"],\"xaxis\":\"x4\",\"y\":[6434],\"yaxis\":\"y4\",\"type\":\"bar\"},{\"alignmentgroup\":\"True\",\"hovertemplate\":\"variable=%{x}\\u003cbr\\u003eregion_name=utah\\u003cbr\\u003evalue=%{y}\\u003cextra\\u003e\\u003c\\u002fextra\\u003e\",\"legendgroup\":\"Baseline Restrictions (BR)\",\"marker\":{\"color\":\"rgb(102, 197, 204)\",\"pattern\":{\"shape\":\"\"}},\"name\":\"Baseline Restrictions (BR)\",\"offsetgroup\":\"Baseline Restrictions (BR)\",\"orientation\":\"v\",\"showlegend\":false,\"textposition\":\"auto\",\"x\":[\"Baseline Restrictions (BR)\"],\"xaxis\":\"x3\",\"y\":[2860],\"yaxis\":\"y3\",\"type\":\"bar\"},{\"alignmentgroup\":\"True\",\"hovertemplate\":\"variable=%{x}\\u003cbr\\u003eregion_name=washington\\u003cbr\\u003evalue=%{y}\\u003cextra\\u003e\\u003c\\u002fextra\\u003e\",\"legendgroup\":\"Baseline Restrictions (BR)\",\"marker\":{\"color\":\"rgb(102, 197, 204)\",\"pattern\":{\"shape\":\"\"}},\"name\":\"Baseline Restrictions (BR)\",\"offsetgroup\":\"Baseline Restrictions (BR)\",\"orientation\":\"v\",\"showlegend\":false,\"textposition\":\"auto\",\"x\":[\"Baseline Restrictions (BR)\"],\"xaxis\":\"x2\",\"y\":[5392],\"yaxis\":\"y2\",\"type\":\"bar\"},{\"alignmentgroup\":\"True\",\"hovertemplate\":\"variable=%{x}\\u003cbr\\u003eregion_name=wyoming\\u003cbr\\u003evalue=%{y}\\u003cextra\\u003e\\u003c\\u002fextra\\u003e\",\"legendgroup\":\"Baseline Restrictions (BR)\",\"marker\":{\"color\":\"rgb(102, 197, 204)\",\"pattern\":{\"shape\":\"\"}},\"name\":\"Baseline Restrictions (BR)\",\"offsetgroup\":\"Baseline Restrictions (BR)\",\"orientation\":\"v\",\"showlegend\":false,\"textposition\":\"auto\",\"x\":[\"Baseline Restrictions (BR)\"],\"xaxis\":\"x\",\"y\":[74324],\"yaxis\":\"y\",\"type\":\"bar\"},{\"alignmentgroup\":\"True\",\"hovertemplate\":\"variable=%{x}\\u003cbr\\u003eregion_name=arizona\\u003cbr\\u003evalue=%{y}\\u003cextra\\u003e\\u003c\\u002fextra\\u003e\",\"legendgroup\":\"BR + DACs\",\"marker\":{\"color\":\"rgb(246, 207, 113)\",\"pattern\":{\"shape\":\"\"}},\"name\":\"BR + DACs\",\"offsetgroup\":\"BR + DACs\",\"orientation\":\"v\",\"showlegend\":true,\"textposition\":\"auto\",\"x\":[\"BR + DACs\"],\"xaxis\":\"x11\",\"y\":[1371],\"yaxis\":\"y11\",\"type\":\"bar\"},{\"alignmentgroup\":\"True\",\"hovertemplate\":\"variable=%{x}\\u003cbr\\u003eregion_name=california\\u003cbr\\u003evalue=%{y}\\u003cextra\\u003e\\u003c\\u002fextra\\u003e\",\"legendgroup\":\"BR + DACs\",\"marker\":{\"color\":\"rgb(246, 207, 113)\",\"pattern\":{\"shape\":\"\"}},\"name\":\"BR + DACs\",\"offsetgroup\":\"BR + DACs\",\"orientation\":\"v\",\"showlegend\":false,\"textposition\":\"auto\",\"x\":[\"BR + DACs\"],\"xaxis\":\"x10\",\"y\":[4789],\"yaxis\":\"y10\",\"type\":\"bar\"},{\"alignmentgroup\":\"True\",\"hovertemplate\":\"variable=%{x}\\u003cbr\\u003eregion_name=colorado\\u003cbr\\u003evalue=%{y}\\u003cextra\\u003e\\u003c\\u002fextra\\u003e\",\"legendgroup\":\"BR + DACs\",\"marker\":{\"color\":\"rgb(246, 207, 113)\",\"pattern\":{\"shape\":\"\"}},\"name\":\"BR + DACs\",\"offsetgroup\":\"BR + DACs\",\"orientation\":\"v\",\"showlegend\":false,\"textposition\":\"auto\",\"x\":[\"BR + DACs\"],\"xaxis\":\"x9\",\"y\":[14401],\"yaxis\":\"y9\",\"type\":\"bar\"},{\"alignmentgroup\":\"True\",\"hovertemplate\":\"variable=%{x}\\u003cbr\\u003eregion_name=idaho\\u003cbr\\u003evalue=%{y}\\u003cextra\\u003e\\u003c\\u002fextra\\u003e\",\"legendgroup\":\"BR + DACs\",\"marker\":{\"color\":\"rgb(246, 207, 113)\",\"pattern\":{\"shape\":\"\"}},\"name\":\"BR + DACs\",\"offsetgroup\":\"BR + DACs\",\"orientation\":\"v\",\"showlegend\":false,\"textposition\":\"auto\",\"x\":[\"BR + DACs\"],\"xaxis\":\"x8\",\"y\":[1075],\"yaxis\":\"y8\",\"type\":\"bar\"},{\"alignmentgroup\":\"True\",\"hovertemplate\":\"variable=%{x}\\u003cbr\\u003eregion_name=montana\\u003cbr\\u003evalue=%{y}\\u003cextra\\u003e\\u003c\\u002fextra\\u003e\",\"legendgroup\":\"BR + DACs\",\"marker\":{\"color\":\"rgb(246, 207, 113)\",\"pattern\":{\"shape\":\"\"}},\"name\":\"BR + DACs\",\"offsetgroup\":\"BR + DACs\",\"orientation\":\"v\",\"showlegend\":false,\"textposition\":\"auto\",\"x\":[\"BR + DACs\"],\"xaxis\":\"x7\",\"y\":[46731],\"yaxis\":\"y7\",\"type\":\"bar\"},{\"alignmentgroup\":\"True\",\"hovertemplate\":\"variable=%{x}\\u003cbr\\u003eregion_name=new_mexico\\u003cbr\\u003evalue=%{y}\\u003cextra\\u003e\\u003c\\u002fextra\\u003e\",\"legendgroup\":\"BR + DACs\",\"marker\":{\"color\":\"rgb(246, 207, 113)\",\"pattern\":{\"shape\":\"\"}},\"name\":\"BR + DACs\",\"offsetgroup\":\"BR + DACs\",\"orientation\":\"v\",\"showlegend\":false,\"textposition\":\"auto\",\"x\":[\"BR + DACs\"],\"xaxis\":\"x6\",\"y\":[4687],\"yaxis\":\"y6\",\"type\":\"bar\"},{\"alignmentgroup\":\"True\",\"hovertemplate\":\"variable=%{x}\\u003cbr\\u003eregion_name=nevada\\u003cbr\\u003evalue=%{y}\\u003cextra\\u003e\\u003c\\u002fextra\\u003e\",\"legendgroup\":\"BR + DACs\",\"marker\":{\"color\":\"rgb(246, 207, 113)\",\"pattern\":{\"shape\":\"\"}},\"name\":\"BR + DACs\",\"offsetgroup\":\"BR + DACs\",\"orientation\":\"v\",\"showlegend\":false,\"textposition\":\"auto\",\"x\":[\"BR + DACs\"],\"xaxis\":\"x5\",\"y\":[4545],\"yaxis\":\"y5\",\"type\":\"bar\"},{\"alignmentgroup\":\"True\",\"hovertemplate\":\"variable=%{x}\\u003cbr\\u003eregion_name=oregon\\u003cbr\\u003evalue=%{y}\\u003cextra\\u003e\\u003c\\u002fextra\\u003e\",\"legendgroup\":\"BR + DACs\",\"marker\":{\"color\":\"rgb(246, 207, 113)\",\"pattern\":{\"shape\":\"\"}},\"name\":\"BR + DACs\",\"offsetgroup\":\"BR + DACs\",\"orientation\":\"v\",\"showlegend\":false,\"textposition\":\"auto\",\"x\":[\"BR + DACs\"],\"xaxis\":\"x4\",\"y\":[2122],\"yaxis\":\"y4\",\"type\":\"bar\"},{\"alignmentgroup\":\"True\",\"hovertemplate\":\"variable=%{x}\\u003cbr\\u003eregion_name=utah\\u003cbr\\u003evalue=%{y}\\u003cextra\\u003e\\u003c\\u002fextra\\u003e\",\"legendgroup\":\"BR + DACs\",\"marker\":{\"color\":\"rgb(246, 207, 113)\",\"pattern\":{\"shape\":\"\"}},\"name\":\"BR + DACs\",\"offsetgroup\":\"BR + DACs\",\"orientation\":\"v\",\"showlegend\":false,\"textposition\":\"auto\",\"x\":[\"BR + DACs\"],\"xaxis\":\"x3\",\"y\":[2048],\"yaxis\":\"y3\",\"type\":\"bar\"},{\"alignmentgroup\":\"True\",\"hovertemplate\":\"variable=%{x}\\u003cbr\\u003eregion_name=washington\\u003cbr\\u003evalue=%{y}\\u003cextra\\u003e\\u003c\\u002fextra\\u003e\",\"legendgroup\":\"BR + DACs\",\"marker\":{\"color\":\"rgb(246, 207, 113)\",\"pattern\":{\"shape\":\"\"}},\"name\":\"BR + DACs\",\"offsetgroup\":\"BR + DACs\",\"orientation\":\"v\",\"showlegend\":false,\"textposition\":\"auto\",\"x\":[\"BR + DACs\"],\"xaxis\":\"x2\",\"y\":[3102],\"yaxis\":\"y2\",\"type\":\"bar\"},{\"alignmentgroup\":\"True\",\"hovertemplate\":\"variable=%{x}\\u003cbr\\u003eregion_name=wyoming\\u003cbr\\u003evalue=%{y}\\u003cextra\\u003e\\u003c\\u002fextra\\u003e\",\"legendgroup\":\"BR + DACs\",\"marker\":{\"color\":\"rgb(246, 207, 113)\",\"pattern\":{\"shape\":\"\"}},\"name\":\"BR + DACs\",\"offsetgroup\":\"BR + DACs\",\"orientation\":\"v\",\"showlegend\":false,\"textposition\":\"auto\",\"x\":[\"BR + DACs\"],\"xaxis\":\"x\",\"y\":[62770],\"yaxis\":\"y\",\"type\":\"bar\"},{\"alignmentgroup\":\"True\",\"hovertemplate\":\"variable=%{x}\\u003cbr\\u003eregion_name=arizona\\u003cbr\\u003evalue=%{y}\\u003cextra\\u003e\\u003c\\u002fextra\\u003e\",\"legendgroup\":\"BR + Important Farmland\",\"marker\":{\"color\":\"rgb(248, 156, 116)\",\"pattern\":{\"shape\":\"\"}},\"name\":\"BR + Important Farmland\",\"offsetgroup\":\"BR + Important Farmland\",\"orientation\":\"v\",\"showlegend\":true,\"textposition\":\"auto\",\"x\":[\"BR + Important Farmland\"],\"xaxis\":\"x11\",\"y\":[5477],\"yaxis\":\"y11\",\"type\":\"bar\"},{\"alignmentgroup\":\"True\",\"hovertemplate\":\"variable=%{x}\\u003cbr\\u003eregion_name=california\\u003cbr\\u003evalue=%{y}\\u003cextra\\u003e\\u003c\\u002fextra\\u003e\",\"legendgroup\":\"BR + Important Farmland\",\"marker\":{\"color\":\"rgb(248, 156, 116)\",\"pattern\":{\"shape\":\"\"}},\"name\":\"BR + Important Farmland\",\"offsetgroup\":\"BR + Important Farmland\",\"orientation\":\"v\",\"showlegend\":false,\"textposition\":\"auto\",\"x\":[\"BR + Important Farmland\"],\"xaxis\":\"x10\",\"y\":[9129],\"yaxis\":\"y10\",\"type\":\"bar\"},{\"alignmentgroup\":\"True\",\"hovertemplate\":\"variable=%{x}\\u003cbr\\u003eregion_name=colorado\\u003cbr\\u003evalue=%{y}\\u003cextra\\u003e\\u003c\\u002fextra\\u003e\",\"legendgroup\":\"BR + Important Farmland\",\"marker\":{\"color\":\"rgb(248, 156, 116)\",\"pattern\":{\"shape\":\"\"}},\"name\":\"BR + Important Farmland\",\"offsetgroup\":\"BR + Important Farmland\",\"orientation\":\"v\",\"showlegend\":false,\"textposition\":\"auto\",\"x\":[\"BR + Important Farmland\"],\"xaxis\":\"x9\",\"y\":[30713],\"yaxis\":\"y9\",\"type\":\"bar\"},{\"alignmentgroup\":\"True\",\"hovertemplate\":\"variable=%{x}\\u003cbr\\u003eregion_name=idaho\\u003cbr\\u003evalue=%{y}\\u003cextra\\u003e\\u003c\\u002fextra\\u003e\",\"legendgroup\":\"BR + Important Farmland\",\"marker\":{\"color\":\"rgb(248, 156, 116)\",\"pattern\":{\"shape\":\"\"}},\"name\":\"BR + Important Farmland\",\"offsetgroup\":\"BR + Important Farmland\",\"orientation\":\"v\",\"showlegend\":false,\"textposition\":\"auto\",\"x\":[\"BR + Important Farmland\"],\"xaxis\":\"x8\",\"y\":[3309],\"yaxis\":\"y8\",\"type\":\"bar\"},{\"alignmentgroup\":\"True\",\"hovertemplate\":\"variable=%{x}\\u003cbr\\u003eregion_name=montana\\u003cbr\\u003evalue=%{y}\\u003cextra\\u003e\\u003c\\u002fextra\\u003e\",\"legendgroup\":\"BR + Important Farmland\",\"marker\":{\"color\":\"rgb(248, 156, 116)\",\"pattern\":{\"shape\":\"\"}},\"name\":\"BR + Important Farmland\",\"offsetgroup\":\"BR + Important Farmland\",\"orientation\":\"v\",\"showlegend\":false,\"textposition\":\"auto\",\"x\":[\"BR + Important Farmland\"],\"xaxis\":\"x7\",\"y\":[81764],\"yaxis\":\"y7\",\"type\":\"bar\"},{\"alignmentgroup\":\"True\",\"hovertemplate\":\"variable=%{x}\\u003cbr\\u003eregion_name=new_mexico\\u003cbr\\u003evalue=%{y}\\u003cextra\\u003e\\u003c\\u002fextra\\u003e\",\"legendgroup\":\"BR + Important Farmland\",\"marker\":{\"color\":\"rgb(248, 156, 116)\",\"pattern\":{\"shape\":\"\"}},\"name\":\"BR + Important Farmland\",\"offsetgroup\":\"BR + Important Farmland\",\"orientation\":\"v\",\"showlegend\":false,\"textposition\":\"auto\",\"x\":[\"BR + Important Farmland\"],\"xaxis\":\"x6\",\"y\":[44208],\"yaxis\":\"y6\",\"type\":\"bar\"},{\"alignmentgroup\":\"True\",\"hovertemplate\":\"variable=%{x}\\u003cbr\\u003eregion_name=nevada\\u003cbr\\u003evalue=%{y}\\u003cextra\\u003e\\u003c\\u002fextra\\u003e\",\"legendgroup\":\"BR + Important Farmland\",\"marker\":{\"color\":\"rgb(248, 156, 116)\",\"pattern\":{\"shape\":\"\"}},\"name\":\"BR + Important Farmland\",\"offsetgroup\":\"BR + Important Farmland\",\"orientation\":\"v\",\"showlegend\":false,\"textposition\":\"auto\",\"x\":[\"BR + Important Farmland\"],\"xaxis\":\"x5\",\"y\":[5545],\"yaxis\":\"y5\",\"type\":\"bar\"},{\"alignmentgroup\":\"True\",\"hovertemplate\":\"variable=%{x}\\u003cbr\\u003eregion_name=oregon\\u003cbr\\u003evalue=%{y}\\u003cextra\\u003e\\u003c\\u002fextra\\u003e\",\"legendgroup\":\"BR + Important Farmland\",\"marker\":{\"color\":\"rgb(248, 156, 116)\",\"pattern\":{\"shape\":\"\"}},\"name\":\"BR + Important Farmland\",\"offsetgroup\":\"BR + Important Farmland\",\"orientation\":\"v\",\"showlegend\":false,\"textposition\":\"auto\",\"x\":[\"BR + Important Farmland\"],\"xaxis\":\"x4\",\"y\":[3766],\"yaxis\":\"y4\",\"type\":\"bar\"},{\"alignmentgroup\":\"True\",\"hovertemplate\":\"variable=%{x}\\u003cbr\\u003eregion_name=utah\\u003cbr\\u003evalue=%{y}\\u003cextra\\u003e\\u003c\\u002fextra\\u003e\",\"legendgroup\":\"BR + Important Farmland\",\"marker\":{\"color\":\"rgb(248, 156, 116)\",\"pattern\":{\"shape\":\"\"}},\"name\":\"BR + Important Farmland\",\"offsetgroup\":\"BR + Important Farmland\",\"orientation\":\"v\",\"showlegend\":false,\"textposition\":\"auto\",\"x\":[\"BR + Important Farmland\"],\"xaxis\":\"x3\",\"y\":[2845],\"yaxis\":\"y3\",\"type\":\"bar\"},{\"alignmentgroup\":\"True\",\"hovertemplate\":\"variable=%{x}\\u003cbr\\u003eregion_name=washington\\u003cbr\\u003evalue=%{y}\\u003cextra\\u003e\\u003c\\u002fextra\\u003e\",\"legendgroup\":\"BR + Important Farmland\",\"marker\":{\"color\":\"rgb(248, 156, 116)\",\"pattern\":{\"shape\":\"\"}},\"name\":\"BR + Important Farmland\",\"offsetgroup\":\"BR + Important Farmland\",\"orientation\":\"v\",\"showlegend\":false,\"textposition\":\"auto\",\"x\":[\"BR + Important Farmland\"],\"xaxis\":\"x2\",\"y\":[3406],\"yaxis\":\"y2\",\"type\":\"bar\"},{\"alignmentgroup\":\"True\",\"hovertemplate\":\"variable=%{x}\\u003cbr\\u003eregion_name=wyoming\\u003cbr\\u003evalue=%{y}\\u003cextra\\u003e\\u003c\\u002fextra\\u003e\",\"legendgroup\":\"BR + Important Farmland\",\"marker\":{\"color\":\"rgb(248, 156, 116)\",\"pattern\":{\"shape\":\"\"}},\"name\":\"BR + Important Farmland\",\"offsetgroup\":\"BR + Important Farmland\",\"orientation\":\"v\",\"showlegend\":false,\"textposition\":\"auto\",\"x\":[\"BR + Important Farmland\"],\"xaxis\":\"x\",\"y\":[73638],\"yaxis\":\"y\",\"type\":\"bar\"},{\"alignmentgroup\":\"True\",\"hovertemplate\":\"variable=%{x}\\u003cbr\\u003eregion_name=arizona\\u003cbr\\u003evalue=%{y}\\u003cextra\\u003e\\u003c\\u002fextra\\u003e\",\"legendgroup\":\"BR + w\\u002fin 1km of Natural Areas\",\"marker\":{\"color\":\"rgb(220, 176, 242)\",\"pattern\":{\"shape\":\"\"}},\"name\":\"BR + w\\u002fin 1km of Natural Areas\",\"offsetgroup\":\"BR + w\\u002fin 1km of Natural Areas\",\"orientation\":\"v\",\"showlegend\":true,\"textposition\":\"auto\",\"x\":[\"BR + w\\u002fin 1km of Natural Areas\"],\"xaxis\":\"x11\",\"y\":[4759],\"yaxis\":\"y11\",\"type\":\"bar\"},{\"alignmentgroup\":\"True\",\"hovertemplate\":\"variable=%{x}\\u003cbr\\u003eregion_name=california\\u003cbr\\u003evalue=%{y}\\u003cextra\\u003e\\u003c\\u002fextra\\u003e\",\"legendgroup\":\"BR + w\\u002fin 1km of Natural Areas\",\"marker\":{\"color\":\"rgb(220, 176, 242)\",\"pattern\":{\"shape\":\"\"}},\"name\":\"BR + w\\u002fin 1km of Natural Areas\",\"offsetgroup\":\"BR + w\\u002fin 1km of Natural Areas\",\"orientation\":\"v\",\"showlegend\":false,\"textposition\":\"auto\",\"x\":[\"BR + w\\u002fin 1km of Natural Areas\"],\"xaxis\":\"x10\",\"y\":[7281],\"yaxis\":\"y10\",\"type\":\"bar\"},{\"alignmentgroup\":\"True\",\"hovertemplate\":\"variable=%{x}\\u003cbr\\u003eregion_name=colorado\\u003cbr\\u003evalue=%{y}\\u003cextra\\u003e\\u003c\\u002fextra\\u003e\",\"legendgroup\":\"BR + w\\u002fin 1km of Natural Areas\",\"marker\":{\"color\":\"rgb(220, 176, 242)\",\"pattern\":{\"shape\":\"\"}},\"name\":\"BR + w\\u002fin 1km of Natural Areas\",\"offsetgroup\":\"BR + w\\u002fin 1km of Natural Areas\",\"orientation\":\"v\",\"showlegend\":false,\"textposition\":\"auto\",\"x\":[\"BR + w\\u002fin 1km of Natural Areas\"],\"xaxis\":\"x9\",\"y\":[33011],\"yaxis\":\"y9\",\"type\":\"bar\"},{\"alignmentgroup\":\"True\",\"hovertemplate\":\"variable=%{x}\\u003cbr\\u003eregion_name=idaho\\u003cbr\\u003evalue=%{y}\\u003cextra\\u003e\\u003c\\u002fextra\\u003e\",\"legendgroup\":\"BR + w\\u002fin 1km of Natural Areas\",\"marker\":{\"color\":\"rgb(220, 176, 242)\",\"pattern\":{\"shape\":\"\"}},\"name\":\"BR + w\\u002fin 1km of Natural Areas\",\"offsetgroup\":\"BR + w\\u002fin 1km of Natural Areas\",\"orientation\":\"v\",\"showlegend\":false,\"textposition\":\"auto\",\"x\":[\"BR + w\\u002fin 1km of Natural Areas\"],\"xaxis\":\"x8\",\"y\":[2950],\"yaxis\":\"y8\",\"type\":\"bar\"},{\"alignmentgroup\":\"True\",\"hovertemplate\":\"variable=%{x}\\u003cbr\\u003eregion_name=montana\\u003cbr\\u003evalue=%{y}\\u003cextra\\u003e\\u003c\\u002fextra\\u003e\",\"legendgroup\":\"BR + w\\u002fin 1km of Natural Areas\",\"marker\":{\"color\":\"rgb(220, 176, 242)\",\"pattern\":{\"shape\":\"\"}},\"name\":\"BR + w\\u002fin 1km of Natural Areas\",\"offsetgroup\":\"BR + w\\u002fin 1km of Natural Areas\",\"orientation\":\"v\",\"showlegend\":false,\"textposition\":\"auto\",\"x\":[\"BR + w\\u002fin 1km of Natural Areas\"],\"xaxis\":\"x7\",\"y\":[83647],\"yaxis\":\"y7\",\"type\":\"bar\"},{\"alignmentgroup\":\"True\",\"hovertemplate\":\"variable=%{x}\\u003cbr\\u003eregion_name=new_mexico\\u003cbr\\u003evalue=%{y}\\u003cextra\\u003e\\u003c\\u002fextra\\u003e\",\"legendgroup\":\"BR + w\\u002fin 1km of Natural Areas\",\"marker\":{\"color\":\"rgb(220, 176, 242)\",\"pattern\":{\"shape\":\"\"}},\"name\":\"BR + w\\u002fin 1km of Natural Areas\",\"offsetgroup\":\"BR + w\\u002fin 1km of Natural Areas\",\"orientation\":\"v\",\"showlegend\":false,\"textposition\":\"auto\",\"x\":[\"BR + w\\u002fin 1km of Natural Areas\"],\"xaxis\":\"x6\",\"y\":[51671],\"yaxis\":\"y6\",\"type\":\"bar\"},{\"alignmentgroup\":\"True\",\"hovertemplate\":\"variable=%{x}\\u003cbr\\u003eregion_name=nevada\\u003cbr\\u003evalue=%{y}\\u003cextra\\u003e\\u003c\\u002fextra\\u003e\",\"legendgroup\":\"BR + w\\u002fin 1km of Natural Areas\",\"marker\":{\"color\":\"rgb(220, 176, 242)\",\"pattern\":{\"shape\":\"\"}},\"name\":\"BR + w\\u002fin 1km of Natural Areas\",\"offsetgroup\":\"BR + w\\u002fin 1km of Natural Areas\",\"orientation\":\"v\",\"showlegend\":false,\"textposition\":\"auto\",\"x\":[\"BR + w\\u002fin 1km of Natural Areas\"],\"xaxis\":\"x5\",\"y\":[4910],\"yaxis\":\"y5\",\"type\":\"bar\"},{\"alignmentgroup\":\"True\",\"hovertemplate\":\"variable=%{x}\\u003cbr\\u003eregion_name=oregon\\u003cbr\\u003evalue=%{y}\\u003cextra\\u003e\\u003c\\u002fextra\\u003e\",\"legendgroup\":\"BR + w\\u002fin 1km of Natural Areas\",\"marker\":{\"color\":\"rgb(220, 176, 242)\",\"pattern\":{\"shape\":\"\"}},\"name\":\"BR + w\\u002fin 1km of Natural Areas\",\"offsetgroup\":\"BR + w\\u002fin 1km of Natural Areas\",\"orientation\":\"v\",\"showlegend\":false,\"textposition\":\"auto\",\"x\":[\"BR + w\\u002fin 1km of Natural Areas\"],\"xaxis\":\"x4\",\"y\":[5148],\"yaxis\":\"y4\",\"type\":\"bar\"},{\"alignmentgroup\":\"True\",\"hovertemplate\":\"variable=%{x}\\u003cbr\\u003eregion_name=utah\\u003cbr\\u003evalue=%{y}\\u003cextra\\u003e\\u003c\\u002fextra\\u003e\",\"legendgroup\":\"BR + w\\u002fin 1km of Natural Areas\",\"marker\":{\"color\":\"rgb(220, 176, 242)\",\"pattern\":{\"shape\":\"\"}},\"name\":\"BR + w\\u002fin 1km of Natural Areas\",\"offsetgroup\":\"BR + w\\u002fin 1km of Natural Areas\",\"orientation\":\"v\",\"showlegend\":false,\"textposition\":\"auto\",\"x\":[\"BR + w\\u002fin 1km of Natural Areas\"],\"xaxis\":\"x3\",\"y\":[2383],\"yaxis\":\"y3\",\"type\":\"bar\"},{\"alignmentgroup\":\"True\",\"hovertemplate\":\"variable=%{x}\\u003cbr\\u003eregion_name=washington\\u003cbr\\u003evalue=%{y}\\u003cextra\\u003e\\u003c\\u002fextra\\u003e\",\"legendgroup\":\"BR + w\\u002fin 1km of Natural Areas\",\"marker\":{\"color\":\"rgb(220, 176, 242)\",\"pattern\":{\"shape\":\"\"}},\"name\":\"BR + w\\u002fin 1km of Natural Areas\",\"offsetgroup\":\"BR + w\\u002fin 1km of Natural Areas\",\"orientation\":\"v\",\"showlegend\":false,\"textposition\":\"auto\",\"x\":[\"BR + w\\u002fin 1km of Natural Areas\"],\"xaxis\":\"x2\",\"y\":[4851],\"yaxis\":\"y2\",\"type\":\"bar\"},{\"alignmentgroup\":\"True\",\"hovertemplate\":\"variable=%{x}\\u003cbr\\u003eregion_name=wyoming\\u003cbr\\u003evalue=%{y}\\u003cextra\\u003e\\u003c\\u002fextra\\u003e\",\"legendgroup\":\"BR + w\\u002fin 1km of Natural Areas\",\"marker\":{\"color\":\"rgb(220, 176, 242)\",\"pattern\":{\"shape\":\"\"}},\"name\":\"BR + w\\u002fin 1km of Natural Areas\",\"offsetgroup\":\"BR + w\\u002fin 1km of Natural Areas\",\"orientation\":\"v\",\"showlegend\":false,\"textposition\":\"auto\",\"x\":[\"BR + w\\u002fin 1km of Natural Areas\"],\"xaxis\":\"x\",\"y\":[67673],\"yaxis\":\"y\",\"type\":\"bar\"},{\"alignmentgroup\":\"True\",\"hovertemplate\":\"variable=%{x}\\u003cbr\\u003eregion_name=arizona\\u003cbr\\u003evalue=%{y}\\u003cextra\\u003e\\u003c\\u002fextra\\u003e\",\"legendgroup\":\"BR + w\\u002fin 5km of Natural Areas\",\"marker\":{\"color\":\"rgb(135, 197, 95)\",\"pattern\":{\"shape\":\"\"}},\"name\":\"BR + w\\u002fin 5km of Natural Areas\",\"offsetgroup\":\"BR + w\\u002fin 5km of Natural Areas\",\"orientation\":\"v\",\"showlegend\":true,\"textposition\":\"auto\",\"x\":[\"BR + w\\u002fin 5km of Natural Areas\"],\"xaxis\":\"x11\",\"y\":[3183],\"yaxis\":\"y11\",\"type\":\"bar\"},{\"alignmentgroup\":\"True\",\"hovertemplate\":\"variable=%{x}\\u003cbr\\u003eregion_name=california\\u003cbr\\u003evalue=%{y}\\u003cextra\\u003e\\u003c\\u002fextra\\u003e\",\"legendgroup\":\"BR + w\\u002fin 5km of Natural Areas\",\"marker\":{\"color\":\"rgb(135, 197, 95)\",\"pattern\":{\"shape\":\"\"}},\"name\":\"BR + w\\u002fin 5km of Natural Areas\",\"offsetgroup\":\"BR + w\\u002fin 5km of Natural Areas\",\"orientation\":\"v\",\"showlegend\":false,\"textposition\":\"auto\",\"x\":[\"BR + w\\u002fin 5km of Natural Areas\"],\"xaxis\":\"x10\",\"y\":[2861],\"yaxis\":\"y10\",\"type\":\"bar\"},{\"alignmentgroup\":\"True\",\"hovertemplate\":\"variable=%{x}\\u003cbr\\u003eregion_name=colorado\\u003cbr\\u003evalue=%{y}\\u003cextra\\u003e\\u003c\\u002fextra\\u003e\",\"legendgroup\":\"BR + w\\u002fin 5km of Natural Areas\",\"marker\":{\"color\":\"rgb(135, 197, 95)\",\"pattern\":{\"shape\":\"\"}},\"name\":\"BR + w\\u002fin 5km of Natural Areas\",\"offsetgroup\":\"BR + w\\u002fin 5km of Natural Areas\",\"orientation\":\"v\",\"showlegend\":false,\"textposition\":\"auto\",\"x\":[\"BR + w\\u002fin 5km of Natural Areas\"],\"xaxis\":\"x9\",\"y\":[28073],\"yaxis\":\"y9\",\"type\":\"bar\"},{\"alignmentgroup\":\"True\",\"hovertemplate\":\"variable=%{x}\\u003cbr\\u003eregion_name=idaho\\u003cbr\\u003evalue=%{y}\\u003cextra\\u003e\\u003c\\u002fextra\\u003e\",\"legendgroup\":\"BR + w\\u002fin 5km of Natural Areas\",\"marker\":{\"color\":\"rgb(135, 197, 95)\",\"pattern\":{\"shape\":\"\"}},\"name\":\"BR + w\\u002fin 5km of Natural Areas\",\"offsetgroup\":\"BR + w\\u002fin 5km of Natural Areas\",\"orientation\":\"v\",\"showlegend\":false,\"textposition\":\"auto\",\"x\":[\"BR + w\\u002fin 5km of Natural Areas\"],\"xaxis\":\"x8\",\"y\":[1680],\"yaxis\":\"y8\",\"type\":\"bar\"},{\"alignmentgroup\":\"True\",\"hovertemplate\":\"variable=%{x}\\u003cbr\\u003eregion_name=montana\\u003cbr\\u003evalue=%{y}\\u003cextra\\u003e\\u003c\\u002fextra\\u003e\",\"legendgroup\":\"BR + w\\u002fin 5km of Natural Areas\",\"marker\":{\"color\":\"rgb(135, 197, 95)\",\"pattern\":{\"shape\":\"\"}},\"name\":\"BR + w\\u002fin 5km of Natural Areas\",\"offsetgroup\":\"BR + w\\u002fin 5km of Natural Areas\",\"orientation\":\"v\",\"showlegend\":false,\"textposition\":\"auto\",\"x\":[\"BR + w\\u002fin 5km of Natural Areas\"],\"xaxis\":\"x7\",\"y\":[41428],\"yaxis\":\"y7\",\"type\":\"bar\"},{\"alignmentgroup\":\"True\",\"hovertemplate\":\"variable=%{x}\\u003cbr\\u003eregion_name=new_mexico\\u003cbr\\u003evalue=%{y}\\u003cextra\\u003e\\u003c\\u002fextra\\u003e\",\"legendgroup\":\"BR + w\\u002fin 5km of Natural Areas\",\"marker\":{\"color\":\"rgb(135, 197, 95)\",\"pattern\":{\"shape\":\"\"}},\"name\":\"BR + w\\u002fin 5km of Natural Areas\",\"offsetgroup\":\"BR + w\\u002fin 5km of Natural Areas\",\"orientation\":\"v\",\"showlegend\":false,\"textposition\":\"auto\",\"x\":[\"BR + w\\u002fin 5km of Natural Areas\"],\"xaxis\":\"x6\",\"y\":[44550],\"yaxis\":\"y6\",\"type\":\"bar\"},{\"alignmentgroup\":\"True\",\"hovertemplate\":\"variable=%{x}\\u003cbr\\u003eregion_name=nevada\\u003cbr\\u003evalue=%{y}\\u003cextra\\u003e\\u003c\\u002fextra\\u003e\",\"legendgroup\":\"BR + w\\u002fin 5km of Natural Areas\",\"marker\":{\"color\":\"rgb(135, 197, 95)\",\"pattern\":{\"shape\":\"\"}},\"name\":\"BR + w\\u002fin 5km of Natural Areas\",\"offsetgroup\":\"BR + w\\u002fin 5km of Natural Areas\",\"orientation\":\"v\",\"showlegend\":false,\"textposition\":\"auto\",\"x\":[\"BR + w\\u002fin 5km of Natural Areas\"],\"xaxis\":\"x5\",\"y\":[3411],\"yaxis\":\"y5\",\"type\":\"bar\"},{\"alignmentgroup\":\"True\",\"hovertemplate\":\"variable=%{x}\\u003cbr\\u003eregion_name=oregon\\u003cbr\\u003evalue=%{y}\\u003cextra\\u003e\\u003c\\u002fextra\\u003e\",\"legendgroup\":\"BR + w\\u002fin 5km of Natural Areas\",\"marker\":{\"color\":\"rgb(135, 197, 95)\",\"pattern\":{\"shape\":\"\"}},\"name\":\"BR + w\\u002fin 5km of Natural Areas\",\"offsetgroup\":\"BR + w\\u002fin 5km of Natural Areas\",\"orientation\":\"v\",\"showlegend\":false,\"textposition\":\"auto\",\"x\":[\"BR + w\\u002fin 5km of Natural Areas\"],\"xaxis\":\"x4\",\"y\":[2507],\"yaxis\":\"y4\",\"type\":\"bar\"},{\"alignmentgroup\":\"True\",\"hovertemplate\":\"variable=%{x}\\u003cbr\\u003eregion_name=utah\\u003cbr\\u003evalue=%{y}\\u003cextra\\u003e\\u003c\\u002fextra\\u003e\",\"legendgroup\":\"BR + w\\u002fin 5km of Natural Areas\",\"marker\":{\"color\":\"rgb(135, 197, 95)\",\"pattern\":{\"shape\":\"\"}},\"name\":\"BR + w\\u002fin 5km of Natural Areas\",\"offsetgroup\":\"BR + w\\u002fin 5km of Natural Areas\",\"orientation\":\"v\",\"showlegend\":false,\"textposition\":\"auto\",\"x\":[\"BR + w\\u002fin 5km of Natural Areas\"],\"xaxis\":\"x3\",\"y\":[1413],\"yaxis\":\"y3\",\"type\":\"bar\"},{\"alignmentgroup\":\"True\",\"hovertemplate\":\"variable=%{x}\\u003cbr\\u003eregion_name=washington\\u003cbr\\u003evalue=%{y}\\u003cextra\\u003e\\u003c\\u002fextra\\u003e\",\"legendgroup\":\"BR + w\\u002fin 5km of Natural Areas\",\"marker\":{\"color\":\"rgb(135, 197, 95)\",\"pattern\":{\"shape\":\"\"}},\"name\":\"BR + w\\u002fin 5km of Natural Areas\",\"offsetgroup\":\"BR + w\\u002fin 5km of Natural Areas\",\"orientation\":\"v\",\"showlegend\":false,\"textposition\":\"auto\",\"x\":[\"BR + w\\u002fin 5km of Natural Areas\"],\"xaxis\":\"x2\",\"y\":[2802],\"yaxis\":\"y2\",\"type\":\"bar\"},{\"alignmentgroup\":\"True\",\"hovertemplate\":\"variable=%{x}\\u003cbr\\u003eregion_name=wyoming\\u003cbr\\u003evalue=%{y}\\u003cextra\\u003e\\u003c\\u002fextra\\u003e\",\"legendgroup\":\"BR + w\\u002fin 5km of Natural Areas\",\"marker\":{\"color\":\"rgb(135, 197, 95)\",\"pattern\":{\"shape\":\"\"}},\"name\":\"BR + w\\u002fin 5km of Natural Areas\",\"offsetgroup\":\"BR + w\\u002fin 5km of Natural Areas\",\"orientation\":\"v\",\"showlegend\":false,\"textposition\":\"auto\",\"x\":[\"BR + w\\u002fin 5km of Natural Areas\"],\"xaxis\":\"x\",\"y\":[41867],\"yaxis\":\"y\",\"type\":\"bar\"},{\"alignmentgroup\":\"True\",\"hovertemplate\":\"variable=%{x}\\u003cbr\\u003eregion_name=arizona\\u003cbr\\u003evalue=%{y}\\u003cextra\\u003e\\u003c\\u002fextra\\u003e\",\"legendgroup\":\"BR + w\\u002fin 10km of Natural Areas\",\"marker\":{\"color\":\"rgb(158, 185, 243)\",\"pattern\":{\"shape\":\"\"}},\"name\":\"BR + w\\u002fin 10km of Natural Areas\",\"offsetgroup\":\"BR + w\\u002fin 10km of Natural Areas\",\"orientation\":\"v\",\"showlegend\":true,\"textposition\":\"auto\",\"x\":[\"BR + w\\u002fin 10km of Natural Areas\"],\"xaxis\":\"x11\",\"y\":[1896],\"yaxis\":\"y11\",\"type\":\"bar\"},{\"alignmentgroup\":\"True\",\"hovertemplate\":\"variable=%{x}\\u003cbr\\u003eregion_name=california\\u003cbr\\u003evalue=%{y}\\u003cextra\\u003e\\u003c\\u002fextra\\u003e\",\"legendgroup\":\"BR + w\\u002fin 10km of Natural Areas\",\"marker\":{\"color\":\"rgb(158, 185, 243)\",\"pattern\":{\"shape\":\"\"}},\"name\":\"BR + w\\u002fin 10km of Natural Areas\",\"offsetgroup\":\"BR + w\\u002fin 10km of Natural Areas\",\"orientation\":\"v\",\"showlegend\":false,\"textposition\":\"auto\",\"x\":[\"BR + w\\u002fin 10km of Natural Areas\"],\"xaxis\":\"x10\",\"y\":[1047],\"yaxis\":\"y10\",\"type\":\"bar\"},{\"alignmentgroup\":\"True\",\"hovertemplate\":\"variable=%{x}\\u003cbr\\u003eregion_name=colorado\\u003cbr\\u003evalue=%{y}\\u003cextra\\u003e\\u003c\\u002fextra\\u003e\",\"legendgroup\":\"BR + w\\u002fin 10km of Natural Areas\",\"marker\":{\"color\":\"rgb(158, 185, 243)\",\"pattern\":{\"shape\":\"\"}},\"name\":\"BR + w\\u002fin 10km of Natural Areas\",\"offsetgroup\":\"BR + w\\u002fin 10km of Natural Areas\",\"orientation\":\"v\",\"showlegend\":false,\"textposition\":\"auto\",\"x\":[\"BR + w\\u002fin 10km of Natural Areas\"],\"xaxis\":\"x9\",\"y\":[20096],\"yaxis\":\"y9\",\"type\":\"bar\"},{\"alignmentgroup\":\"True\",\"hovertemplate\":\"variable=%{x}\\u003cbr\\u003eregion_name=idaho\\u003cbr\\u003evalue=%{y}\\u003cextra\\u003e\\u003c\\u002fextra\\u003e\",\"legendgroup\":\"BR + w\\u002fin 10km of Natural Areas\",\"marker\":{\"color\":\"rgb(158, 185, 243)\",\"pattern\":{\"shape\":\"\"}},\"name\":\"BR + w\\u002fin 10km of Natural Areas\",\"offsetgroup\":\"BR + w\\u002fin 10km of Natural Areas\",\"orientation\":\"v\",\"showlegend\":false,\"textposition\":\"auto\",\"x\":[\"BR + w\\u002fin 10km of Natural Areas\"],\"xaxis\":\"x8\",\"y\":[565],\"yaxis\":\"y8\",\"type\":\"bar\"},{\"alignmentgroup\":\"True\",\"hovertemplate\":\"variable=%{x}\\u003cbr\\u003eregion_name=montana\\u003cbr\\u003evalue=%{y}\\u003cextra\\u003e\\u003c\\u002fextra\\u003e\",\"legendgroup\":\"BR + w\\u002fin 10km of Natural Areas\",\"marker\":{\"color\":\"rgb(158, 185, 243)\",\"pattern\":{\"shape\":\"\"}},\"name\":\"BR + w\\u002fin 10km of Natural Areas\",\"offsetgroup\":\"BR + w\\u002fin 10km of Natural Areas\",\"orientation\":\"v\",\"showlegend\":false,\"textposition\":\"auto\",\"x\":[\"BR + w\\u002fin 10km of Natural Areas\"],\"xaxis\":\"x7\",\"y\":[14887],\"yaxis\":\"y7\",\"type\":\"bar\"},{\"alignmentgroup\":\"True\",\"hovertemplate\":\"variable=%{x}\\u003cbr\\u003eregion_name=new_mexico\\u003cbr\\u003evalue=%{y}\\u003cextra\\u003e\\u003c\\u002fextra\\u003e\",\"legendgroup\":\"BR + w\\u002fin 10km of Natural Areas\",\"marker\":{\"color\":\"rgb(158, 185, 243)\",\"pattern\":{\"shape\":\"\"}},\"name\":\"BR + w\\u002fin 10km of Natural Areas\",\"offsetgroup\":\"BR + w\\u002fin 10km of Natural Areas\",\"orientation\":\"v\",\"showlegend\":false,\"textposition\":\"auto\",\"x\":[\"BR + w\\u002fin 10km of Natural Areas\"],\"xaxis\":\"x6\",\"y\":[35648],\"yaxis\":\"y6\",\"type\":\"bar\"},{\"alignmentgroup\":\"True\",\"hovertemplate\":\"variable=%{x}\\u003cbr\\u003eregion_name=nevada\\u003cbr\\u003evalue=%{y}\\u003cextra\\u003e\\u003c\\u002fextra\\u003e\",\"legendgroup\":\"BR + w\\u002fin 10km of Natural Areas\",\"marker\":{\"color\":\"rgb(158, 185, 243)\",\"pattern\":{\"shape\":\"\"}},\"name\":\"BR + w\\u002fin 10km of Natural Areas\",\"offsetgroup\":\"BR + w\\u002fin 10km of Natural Areas\",\"orientation\":\"v\",\"showlegend\":false,\"textposition\":\"auto\",\"x\":[\"BR + w\\u002fin 10km of Natural Areas\"],\"xaxis\":\"x5\",\"y\":[2095],\"yaxis\":\"y5\",\"type\":\"bar\"},{\"alignmentgroup\":\"True\",\"hovertemplate\":\"variable=%{x}\\u003cbr\\u003eregion_name=oregon\\u003cbr\\u003evalue=%{y}\\u003cextra\\u003e\\u003c\\u002fextra\\u003e\",\"legendgroup\":\"BR + w\\u002fin 10km of Natural Areas\",\"marker\":{\"color\":\"rgb(158, 185, 243)\",\"pattern\":{\"shape\":\"\"}},\"name\":\"BR + w\\u002fin 10km of Natural Areas\",\"offsetgroup\":\"BR + w\\u002fin 10km of Natural Areas\",\"orientation\":\"v\",\"showlegend\":false,\"textposition\":\"auto\",\"x\":[\"BR + w\\u002fin 10km of Natural Areas\"],\"xaxis\":\"x4\",\"y\":[1090],\"yaxis\":\"y4\",\"type\":\"bar\"},{\"alignmentgroup\":\"True\",\"hovertemplate\":\"variable=%{x}\\u003cbr\\u003eregion_name=utah\\u003cbr\\u003evalue=%{y}\\u003cextra\\u003e\\u003c\\u002fextra\\u003e\",\"legendgroup\":\"BR + w\\u002fin 10km of Natural Areas\",\"marker\":{\"color\":\"rgb(158, 185, 243)\",\"pattern\":{\"shape\":\"\"}},\"name\":\"BR + w\\u002fin 10km of Natural Areas\",\"offsetgroup\":\"BR + w\\u002fin 10km of Natural Areas\",\"orientation\":\"v\",\"showlegend\":false,\"textposition\":\"auto\",\"x\":[\"BR + w\\u002fin 10km of Natural Areas\"],\"xaxis\":\"x3\",\"y\":[905],\"yaxis\":\"y3\",\"type\":\"bar\"},{\"alignmentgroup\":\"True\",\"hovertemplate\":\"variable=%{x}\\u003cbr\\u003eregion_name=washington\\u003cbr\\u003evalue=%{y}\\u003cextra\\u003e\\u003c\\u002fextra\\u003e\",\"legendgroup\":\"BR + w\\u002fin 10km of Natural Areas\",\"marker\":{\"color\":\"rgb(158, 185, 243)\",\"pattern\":{\"shape\":\"\"}},\"name\":\"BR + w\\u002fin 10km of Natural Areas\",\"offsetgroup\":\"BR + w\\u002fin 10km of Natural Areas\",\"orientation\":\"v\",\"showlegend\":false,\"textposition\":\"auto\",\"x\":[\"BR + w\\u002fin 10km of Natural Areas\"],\"xaxis\":\"x2\",\"y\":[1530],\"yaxis\":\"y2\",\"type\":\"bar\"},{\"alignmentgroup\":\"True\",\"hovertemplate\":\"variable=%{x}\\u003cbr\\u003eregion_name=wyoming\\u003cbr\\u003evalue=%{y}\\u003cextra\\u003e\\u003c\\u002fextra\\u003e\",\"legendgroup\":\"BR + w\\u002fin 10km of Natural Areas\",\"marker\":{\"color\":\"rgb(158, 185, 243)\",\"pattern\":{\"shape\":\"\"}},\"name\":\"BR + w\\u002fin 10km of Natural Areas\",\"offsetgroup\":\"BR + w\\u002fin 10km of Natural Areas\",\"orientation\":\"v\",\"showlegend\":false,\"textposition\":\"auto\",\"x\":[\"BR + w\\u002fin 10km of Natural Areas\"],\"xaxis\":\"x\",\"y\":[20121],\"yaxis\":\"y\",\"type\":\"bar\"},{\"alignmentgroup\":\"True\",\"hovertemplate\":\"variable=%{x}\\u003cbr\\u003eregion_name=arizona\\u003cbr\\u003evalue=%{y}\\u003cextra\\u003e\\u003c\\u002fextra\\u003e\",\"legendgroup\":\"BR + DACS, w\\u002fin 5km of Natural Area, and Important Farmland\",\"marker\":{\"color\":\"rgb(254, 136, 177)\",\"pattern\":{\"shape\":\"\"}},\"name\":\"BR + DACS, w\\u002fin 5km of Natural Area, and Important Farmland\",\"offsetgroup\":\"BR + DACS, w\\u002fin 5km of Natural Area, and Important Farmland\",\"orientation\":\"v\",\"showlegend\":true,\"textposition\":\"auto\",\"x\":[\"BR + DACS, w\\u002fin 5km of Natural Area, and Important Farmland\"],\"xaxis\":\"x11\",\"y\":[673],\"yaxis\":\"y11\",\"type\":\"bar\"},{\"alignmentgroup\":\"True\",\"hovertemplate\":\"variable=%{x}\\u003cbr\\u003eregion_name=california\\u003cbr\\u003evalue=%{y}\\u003cextra\\u003e\\u003c\\u002fextra\\u003e\",\"legendgroup\":\"BR + DACS, w\\u002fin 5km of Natural Area, and Important Farmland\",\"marker\":{\"color\":\"rgb(254, 136, 177)\",\"pattern\":{\"shape\":\"\"}},\"name\":\"BR + DACS, w\\u002fin 5km of Natural Area, and Important Farmland\",\"offsetgroup\":\"BR + DACS, w\\u002fin 5km of Natural Area, and Important Farmland\",\"orientation\":\"v\",\"showlegend\":false,\"textposition\":\"auto\",\"x\":[\"BR + DACS, w\\u002fin 5km of Natural Area, and Important Farmland\"],\"xaxis\":\"x10\",\"y\":[1981],\"yaxis\":\"y10\",\"type\":\"bar\"},{\"alignmentgroup\":\"True\",\"hovertemplate\":\"variable=%{x}\\u003cbr\\u003eregion_name=colorado\\u003cbr\\u003evalue=%{y}\\u003cextra\\u003e\\u003c\\u002fextra\\u003e\",\"legendgroup\":\"BR + DACS, w\\u002fin 5km of Natural Area, and Important Farmland\",\"marker\":{\"color\":\"rgb(254, 136, 177)\",\"pattern\":{\"shape\":\"\"}},\"name\":\"BR + DACS, w\\u002fin 5km of Natural Area, and Important Farmland\",\"offsetgroup\":\"BR + DACS, w\\u002fin 5km of Natural Area, and Important Farmland\",\"orientation\":\"v\",\"showlegend\":false,\"textposition\":\"auto\",\"x\":[\"BR + DACS, w\\u002fin 5km of Natural Area, and Important Farmland\"],\"xaxis\":\"x9\",\"y\":[11617],\"yaxis\":\"y9\",\"type\":\"bar\"},{\"alignmentgroup\":\"True\",\"hovertemplate\":\"variable=%{x}\\u003cbr\\u003eregion_name=idaho\\u003cbr\\u003evalue=%{y}\\u003cextra\\u003e\\u003c\\u002fextra\\u003e\",\"legendgroup\":\"BR + DACS, w\\u002fin 5km of Natural Area, and Important Farmland\",\"marker\":{\"color\":\"rgb(254, 136, 177)\",\"pattern\":{\"shape\":\"\"}},\"name\":\"BR + DACS, w\\u002fin 5km of Natural Area, and Important Farmland\",\"offsetgroup\":\"BR + DACS, w\\u002fin 5km of Natural Area, and Important Farmland\",\"orientation\":\"v\",\"showlegend\":false,\"textposition\":\"auto\",\"x\":[\"BR + DACS, w\\u002fin 5km of Natural Area, and Important Farmland\"],\"xaxis\":\"x8\",\"y\":[786],\"yaxis\":\"y8\",\"type\":\"bar\"},{\"alignmentgroup\":\"True\",\"hovertemplate\":\"variable=%{x}\\u003cbr\\u003eregion_name=montana\\u003cbr\\u003evalue=%{y}\\u003cextra\\u003e\\u003c\\u002fextra\\u003e\",\"legendgroup\":\"BR + DACS, w\\u002fin 5km of Natural Area, and Important Farmland\",\"marker\":{\"color\":\"rgb(254, 136, 177)\",\"pattern\":{\"shape\":\"\"}},\"name\":\"BR + DACS, w\\u002fin 5km of Natural Area, and Important Farmland\",\"offsetgroup\":\"BR + DACS, w\\u002fin 5km of Natural Area, and Important Farmland\",\"orientation\":\"v\",\"showlegend\":false,\"textposition\":\"auto\",\"x\":[\"BR + DACS, w\\u002fin 5km of Natural Area, and Important Farmland\"],\"xaxis\":\"x7\",\"y\":[18614],\"yaxis\":\"y7\",\"type\":\"bar\"},{\"alignmentgroup\":\"True\",\"hovertemplate\":\"variable=%{x}\\u003cbr\\u003eregion_name=new_mexico\\u003cbr\\u003evalue=%{y}\\u003cextra\\u003e\\u003c\\u002fextra\\u003e\",\"legendgroup\":\"BR + DACS, w\\u002fin 5km of Natural Area, and Important Farmland\",\"marker\":{\"color\":\"rgb(254, 136, 177)\",\"pattern\":{\"shape\":\"\"}},\"name\":\"BR + DACS, w\\u002fin 5km of Natural Area, and Important Farmland\",\"offsetgroup\":\"BR + DACS, w\\u002fin 5km of Natural Area, and Important Farmland\",\"orientation\":\"v\",\"showlegend\":false,\"textposition\":\"auto\",\"x\":[\"BR + DACS, w\\u002fin 5km of Natural Area, and Important Farmland\"],\"xaxis\":\"x6\",\"y\":[3098],\"yaxis\":\"y6\",\"type\":\"bar\"},{\"alignmentgroup\":\"True\",\"hovertemplate\":\"variable=%{x}\\u003cbr\\u003eregion_name=nevada\\u003cbr\\u003evalue=%{y}\\u003cextra\\u003e\\u003c\\u002fextra\\u003e\",\"legendgroup\":\"BR + DACS, w\\u002fin 5km of Natural Area, and Important Farmland\",\"marker\":{\"color\":\"rgb(254, 136, 177)\",\"pattern\":{\"shape\":\"\"}},\"name\":\"BR + DACS, w\\u002fin 5km of Natural Area, and Important Farmland\",\"offsetgroup\":\"BR + DACS, w\\u002fin 5km of Natural Area, and Important Farmland\",\"orientation\":\"v\",\"showlegend\":false,\"textposition\":\"auto\",\"x\":[\"BR + DACS, w\\u002fin 5km of Natural Area, and Important Farmland\"],\"xaxis\":\"x5\",\"y\":[2818],\"yaxis\":\"y5\",\"type\":\"bar\"},{\"alignmentgroup\":\"True\",\"hovertemplate\":\"variable=%{x}\\u003cbr\\u003eregion_name=oregon\\u003cbr\\u003evalue=%{y}\\u003cextra\\u003e\\u003c\\u002fextra\\u003e\",\"legendgroup\":\"BR + DACS, w\\u002fin 5km of Natural Area, and Important Farmland\",\"marker\":{\"color\":\"rgb(254, 136, 177)\",\"pattern\":{\"shape\":\"\"}},\"name\":\"BR + DACS, w\\u002fin 5km of Natural Area, and Important Farmland\",\"offsetgroup\":\"BR + DACS, w\\u002fin 5km of Natural Area, and Important Farmland\",\"orientation\":\"v\",\"showlegend\":false,\"textposition\":\"auto\",\"x\":[\"BR + DACS, w\\u002fin 5km of Natural Area, and Important Farmland\"],\"xaxis\":\"x4\",\"y\":[363],\"yaxis\":\"y4\",\"type\":\"bar\"},{\"alignmentgroup\":\"True\",\"hovertemplate\":\"variable=%{x}\\u003cbr\\u003eregion_name=utah\\u003cbr\\u003evalue=%{y}\\u003cextra\\u003e\\u003c\\u002fextra\\u003e\",\"legendgroup\":\"BR + DACS, w\\u002fin 5km of Natural Area, and Important Farmland\",\"marker\":{\"color\":\"rgb(254, 136, 177)\",\"pattern\":{\"shape\":\"\"}},\"name\":\"BR + DACS, w\\u002fin 5km of Natural Area, and Important Farmland\",\"offsetgroup\":\"BR + DACS, w\\u002fin 5km of Natural Area, and Important Farmland\",\"orientation\":\"v\",\"showlegend\":false,\"textposition\":\"auto\",\"x\":[\"BR + DACS, w\\u002fin 5km of Natural Area, and Important Farmland\"],\"xaxis\":\"x3\",\"y\":[1096],\"yaxis\":\"y3\",\"type\":\"bar\"},{\"alignmentgroup\":\"True\",\"hovertemplate\":\"variable=%{x}\\u003cbr\\u003eregion_name=washington\\u003cbr\\u003evalue=%{y}\\u003cextra\\u003e\\u003c\\u002fextra\\u003e\",\"legendgroup\":\"BR + DACS, w\\u002fin 5km of Natural Area, and Important Farmland\",\"marker\":{\"color\":\"rgb(254, 136, 177)\",\"pattern\":{\"shape\":\"\"}},\"name\":\"BR + DACS, w\\u002fin 5km of Natural Area, and Important Farmland\",\"offsetgroup\":\"BR + DACS, w\\u002fin 5km of Natural Area, and Important Farmland\",\"orientation\":\"v\",\"showlegend\":false,\"textposition\":\"auto\",\"x\":[\"BR + DACS, w\\u002fin 5km of Natural Area, and Important Farmland\"],\"xaxis\":\"x2\",\"y\":[924],\"yaxis\":\"y2\",\"type\":\"bar\"},{\"alignmentgroup\":\"True\",\"hovertemplate\":\"variable=%{x}\\u003cbr\\u003eregion_name=wyoming\\u003cbr\\u003evalue=%{y}\\u003cextra\\u003e\\u003c\\u002fextra\\u003e\",\"legendgroup\":\"BR + DACS, w\\u002fin 5km of Natural Area, and Important Farmland\",\"marker\":{\"color\":\"rgb(254, 136, 177)\",\"pattern\":{\"shape\":\"\"}},\"name\":\"BR + DACS, w\\u002fin 5km of Natural Area, and Important Farmland\",\"offsetgroup\":\"BR + DACS, w\\u002fin 5km of Natural Area, and Important Farmland\",\"orientation\":\"v\",\"showlegend\":false,\"textposition\":\"auto\",\"x\":[\"BR + DACS, w\\u002fin 5km of Natural Area, and Important Farmland\"],\"xaxis\":\"x\",\"y\":[35729],\"yaxis\":\"y\",\"type\":\"bar\"},{\"alignmentgroup\":\"True\",\"hovertemplate\":\"variable=%{x}\\u003cbr\\u003eregion_name=arizona\\u003cbr\\u003evalue=%{y}\\u003cextra\\u003e\\u003c\\u002fextra\\u003e\",\"legendgroup\":\"BR + w\\u002fin 5km of Natural Area and Important Farmland\",\"marker\":{\"color\":\"rgb(201, 219, 116)\",\"pattern\":{\"shape\":\"\"}},\"name\":\"BR + w\\u002fin 5km of Natural Area and Important Farmland\",\"offsetgroup\":\"BR + w\\u002fin 5km of Natural Area and Important Farmland\",\"orientation\":\"v\",\"showlegend\":true,\"textposition\":\"auto\",\"x\":[\"BR + w\\u002fin 5km of Natural Area and Important Farmland\"],\"xaxis\":\"x11\",\"y\":[3183],\"yaxis\":\"y11\",\"type\":\"bar\"},{\"alignmentgroup\":\"True\",\"hovertemplate\":\"variable=%{x}\\u003cbr\\u003eregion_name=california\\u003cbr\\u003evalue=%{y}\\u003cextra\\u003e\\u003c\\u002fextra\\u003e\",\"legendgroup\":\"BR + w\\u002fin 5km of Natural Area and Important Farmland\",\"marker\":{\"color\":\"rgb(201, 219, 116)\",\"pattern\":{\"shape\":\"\"}},\"name\":\"BR + w\\u002fin 5km of Natural Area and Important Farmland\",\"offsetgroup\":\"BR + w\\u002fin 5km of Natural Area and Important Farmland\",\"orientation\":\"v\",\"showlegend\":false,\"textposition\":\"auto\",\"x\":[\"BR + w\\u002fin 5km of Natural Area and Important Farmland\"],\"xaxis\":\"x10\",\"y\":[2781],\"yaxis\":\"y10\",\"type\":\"bar\"},{\"alignmentgroup\":\"True\",\"hovertemplate\":\"variable=%{x}\\u003cbr\\u003eregion_name=colorado\\u003cbr\\u003evalue=%{y}\\u003cextra\\u003e\\u003c\\u002fextra\\u003e\",\"legendgroup\":\"BR + w\\u002fin 5km of Natural Area and Important Farmland\",\"marker\":{\"color\":\"rgb(201, 219, 116)\",\"pattern\":{\"shape\":\"\"}},\"name\":\"BR + w\\u002fin 5km of Natural Area and Important Farmland\",\"offsetgroup\":\"BR + w\\u002fin 5km of Natural Area and Important Farmland\",\"orientation\":\"v\",\"showlegend\":false,\"textposition\":\"auto\",\"x\":[\"BR + w\\u002fin 5km of Natural Area and Important Farmland\"],\"xaxis\":\"x9\",\"y\":[25070],\"yaxis\":\"y9\",\"type\":\"bar\"},{\"alignmentgroup\":\"True\",\"hovertemplate\":\"variable=%{x}\\u003cbr\\u003eregion_name=idaho\\u003cbr\\u003evalue=%{y}\\u003cextra\\u003e\\u003c\\u002fextra\\u003e\",\"legendgroup\":\"BR + w\\u002fin 5km of Natural Area and Important Farmland\",\"marker\":{\"color\":\"rgb(201, 219, 116)\",\"pattern\":{\"shape\":\"\"}},\"name\":\"BR + w\\u002fin 5km of Natural Area and Important Farmland\",\"offsetgroup\":\"BR + w\\u002fin 5km of Natural Area and Important Farmland\",\"orientation\":\"v\",\"showlegend\":false,\"textposition\":\"auto\",\"x\":[\"BR + w\\u002fin 5km of Natural Area and Important Farmland\"],\"xaxis\":\"x8\",\"y\":[1666],\"yaxis\":\"y8\",\"type\":\"bar\"},{\"alignmentgroup\":\"True\",\"hovertemplate\":\"variable=%{x}\\u003cbr\\u003eregion_name=montana\\u003cbr\\u003evalue=%{y}\\u003cextra\\u003e\\u003c\\u002fextra\\u003e\",\"legendgroup\":\"BR + w\\u002fin 5km of Natural Area and Important Farmland\",\"marker\":{\"color\":\"rgb(201, 219, 116)\",\"pattern\":{\"shape\":\"\"}},\"name\":\"BR + w\\u002fin 5km of Natural Area and Important Farmland\",\"offsetgroup\":\"BR + w\\u002fin 5km of Natural Area and Important Farmland\",\"orientation\":\"v\",\"showlegend\":false,\"textposition\":\"auto\",\"x\":[\"BR + w\\u002fin 5km of Natural Area and Important Farmland\"],\"xaxis\":\"x7\",\"y\":[35522],\"yaxis\":\"y7\",\"type\":\"bar\"},{\"alignmentgroup\":\"True\",\"hovertemplate\":\"variable=%{x}\\u003cbr\\u003eregion_name=new_mexico\\u003cbr\\u003evalue=%{y}\\u003cextra\\u003e\\u003c\\u002fextra\\u003e\",\"legendgroup\":\"BR + w\\u002fin 5km of Natural Area and Important Farmland\",\"marker\":{\"color\":\"rgb(201, 219, 116)\",\"pattern\":{\"shape\":\"\"}},\"name\":\"BR + w\\u002fin 5km of Natural Area and Important Farmland\",\"offsetgroup\":\"BR + w\\u002fin 5km of Natural Area and Important Farmland\",\"orientation\":\"v\",\"showlegend\":false,\"textposition\":\"auto\",\"x\":[\"BR + w\\u002fin 5km of Natural Area and Important Farmland\"],\"xaxis\":\"x6\",\"y\":[36562],\"yaxis\":\"y6\",\"type\":\"bar\"},{\"alignmentgroup\":\"True\",\"hovertemplate\":\"variable=%{x}\\u003cbr\\u003eregion_name=nevada\\u003cbr\\u003evalue=%{y}\\u003cextra\\u003e\\u003c\\u002fextra\\u003e\",\"legendgroup\":\"BR + w\\u002fin 5km of Natural Area and Important Farmland\",\"marker\":{\"color\":\"rgb(201, 219, 116)\",\"pattern\":{\"shape\":\"\"}},\"name\":\"BR + w\\u002fin 5km of Natural Area and Important Farmland\",\"offsetgroup\":\"BR + w\\u002fin 5km of Natural Area and Important Farmland\",\"orientation\":\"v\",\"showlegend\":false,\"textposition\":\"auto\",\"x\":[\"BR + w\\u002fin 5km of Natural Area and Important Farmland\"],\"xaxis\":\"x5\",\"y\":[3411],\"yaxis\":\"y5\",\"type\":\"bar\"},{\"alignmentgroup\":\"True\",\"hovertemplate\":\"variable=%{x}\\u003cbr\\u003eregion_name=oregon\\u003cbr\\u003evalue=%{y}\\u003cextra\\u003e\\u003c\\u002fextra\\u003e\",\"legendgroup\":\"BR + w\\u002fin 5km of Natural Area and Important Farmland\",\"marker\":{\"color\":\"rgb(201, 219, 116)\",\"pattern\":{\"shape\":\"\"}},\"name\":\"BR + w\\u002fin 5km of Natural Area and Important Farmland\",\"offsetgroup\":\"BR + w\\u002fin 5km of Natural Area and Important Farmland\",\"orientation\":\"v\",\"showlegend\":false,\"textposition\":\"auto\",\"x\":[\"BR + w\\u002fin 5km of Natural Area and Important Farmland\"],\"xaxis\":\"x4\",\"y\":[1379],\"yaxis\":\"y4\",\"type\":\"bar\"},{\"alignmentgroup\":\"True\",\"hovertemplate\":\"variable=%{x}\\u003cbr\\u003eregion_name=utah\\u003cbr\\u003evalue=%{y}\\u003cextra\\u003e\\u003c\\u002fextra\\u003e\",\"legendgroup\":\"BR + w\\u002fin 5km of Natural Area and Important Farmland\",\"marker\":{\"color\":\"rgb(201, 219, 116)\",\"pattern\":{\"shape\":\"\"}},\"name\":\"BR + w\\u002fin 5km of Natural Area and Important Farmland\",\"offsetgroup\":\"BR + w\\u002fin 5km of Natural Area and Important Farmland\",\"orientation\":\"v\",\"showlegend\":false,\"textposition\":\"auto\",\"x\":[\"BR + w\\u002fin 5km of Natural Area and Important Farmland\"],\"xaxis\":\"x3\",\"y\":[1413],\"yaxis\":\"y3\",\"type\":\"bar\"},{\"alignmentgroup\":\"True\",\"hovertemplate\":\"variable=%{x}\\u003cbr\\u003eregion_name=washington\\u003cbr\\u003evalue=%{y}\\u003cextra\\u003e\\u003c\\u002fextra\\u003e\",\"legendgroup\":\"BR + w\\u002fin 5km of Natural Area and Important Farmland\",\"marker\":{\"color\":\"rgb(201, 219, 116)\",\"pattern\":{\"shape\":\"\"}},\"name\":\"BR + w\\u002fin 5km of Natural Area and Important Farmland\",\"offsetgroup\":\"BR + w\\u002fin 5km of Natural Area and Important Farmland\",\"orientation\":\"v\",\"showlegend\":false,\"textposition\":\"auto\",\"x\":[\"BR + w\\u002fin 5km of Natural Area and Important Farmland\"],\"xaxis\":\"x2\",\"y\":[1884],\"yaxis\":\"y2\",\"type\":\"bar\"},{\"alignmentgroup\":\"True\",\"hovertemplate\":\"variable=%{x}\\u003cbr\\u003eregion_name=wyoming\\u003cbr\\u003evalue=%{y}\\u003cextra\\u003e\\u003c\\u002fextra\\u003e\",\"legendgroup\":\"BR + w\\u002fin 5km of Natural Area and Important Farmland\",\"marker\":{\"color\":\"rgb(201, 219, 116)\",\"pattern\":{\"shape\":\"\"}},\"name\":\"BR + w\\u002fin 5km of Natural Area and Important Farmland\",\"offsetgroup\":\"BR + w\\u002fin 5km of Natural Area and Important Farmland\",\"orientation\":\"v\",\"showlegend\":false,\"textposition\":\"auto\",\"x\":[\"BR + w\\u002fin 5km of Natural Area and Important Farmland\"],\"xaxis\":\"x\",\"y\":[41395],\"yaxis\":\"y\",\"type\":\"bar\"},{\"alignmentgroup\":\"True\",\"hovertemplate\":\"variable=%{x}\\u003cbr\\u003eregion_name=arizona\\u003cbr\\u003evalue=%{y}\\u003cextra\\u003e\\u003c\\u002fextra\\u003e\",\"legendgroup\":\"BR + w\\u002fin 10km of Natural Area and Important Farmland\",\"marker\":{\"color\":\"rgb(139, 224, 164)\",\"pattern\":{\"shape\":\"\"}},\"name\":\"BR + w\\u002fin 10km of Natural Area and Important Farmland\",\"offsetgroup\":\"BR + w\\u002fin 10km of Natural Area and Important Farmland\",\"orientation\":\"v\",\"showlegend\":true,\"textposition\":\"auto\",\"x\":[\"BR + w\\u002fin 10km of Natural Area and Important Farmland\"],\"xaxis\":\"x11\",\"y\":[1896],\"yaxis\":\"y11\",\"type\":\"bar\"},{\"alignmentgroup\":\"True\",\"hovertemplate\":\"variable=%{x}\\u003cbr\\u003eregion_name=california\\u003cbr\\u003evalue=%{y}\\u003cextra\\u003e\\u003c\\u002fextra\\u003e\",\"legendgroup\":\"BR + w\\u002fin 10km of Natural Area and Important Farmland\",\"marker\":{\"color\":\"rgb(139, 224, 164)\",\"pattern\":{\"shape\":\"\"}},\"name\":\"BR + w\\u002fin 10km of Natural Area and Important Farmland\",\"offsetgroup\":\"BR + w\\u002fin 10km of Natural Area and Important Farmland\",\"orientation\":\"v\",\"showlegend\":false,\"textposition\":\"auto\",\"x\":[\"BR + w\\u002fin 10km of Natural Area and Important Farmland\"],\"xaxis\":\"x10\",\"y\":[1029],\"yaxis\":\"y10\",\"type\":\"bar\"},{\"alignmentgroup\":\"True\",\"hovertemplate\":\"variable=%{x}\\u003cbr\\u003eregion_name=colorado\\u003cbr\\u003evalue=%{y}\\u003cextra\\u003e\\u003c\\u002fextra\\u003e\",\"legendgroup\":\"BR + w\\u002fin 10km of Natural Area and Important Farmland\",\"marker\":{\"color\":\"rgb(139, 224, 164)\",\"pattern\":{\"shape\":\"\"}},\"name\":\"BR + w\\u002fin 10km of Natural Area and Important Farmland\",\"offsetgroup\":\"BR + w\\u002fin 10km of Natural Area and Important Farmland\",\"orientation\":\"v\",\"showlegend\":false,\"textposition\":\"auto\",\"x\":[\"BR + w\\u002fin 10km of Natural Area and Important Farmland\"],\"xaxis\":\"x9\",\"y\":[17792],\"yaxis\":\"y9\",\"type\":\"bar\"},{\"alignmentgroup\":\"True\",\"hovertemplate\":\"variable=%{x}\\u003cbr\\u003eregion_name=idaho\\u003cbr\\u003evalue=%{y}\\u003cextra\\u003e\\u003c\\u002fextra\\u003e\",\"legendgroup\":\"BR + w\\u002fin 10km of Natural Area and Important Farmland\",\"marker\":{\"color\":\"rgb(139, 224, 164)\",\"pattern\":{\"shape\":\"\"}},\"name\":\"BR + w\\u002fin 10km of Natural Area and Important Farmland\",\"offsetgroup\":\"BR + w\\u002fin 10km of Natural Area and Important Farmland\",\"orientation\":\"v\",\"showlegend\":false,\"textposition\":\"auto\",\"x\":[\"BR + w\\u002fin 10km of Natural Area and Important Farmland\"],\"xaxis\":\"x8\",\"y\":[556],\"yaxis\":\"y8\",\"type\":\"bar\"},{\"alignmentgroup\":\"True\",\"hovertemplate\":\"variable=%{x}\\u003cbr\\u003eregion_name=montana\\u003cbr\\u003evalue=%{y}\\u003cextra\\u003e\\u003c\\u002fextra\\u003e\",\"legendgroup\":\"BR + w\\u002fin 10km of Natural Area and Important Farmland\",\"marker\":{\"color\":\"rgb(139, 224, 164)\",\"pattern\":{\"shape\":\"\"}},\"name\":\"BR + w\\u002fin 10km of Natural Area and Important Farmland\",\"offsetgroup\":\"BR + w\\u002fin 10km of Natural Area and Important Farmland\",\"orientation\":\"v\",\"showlegend\":false,\"textposition\":\"auto\",\"x\":[\"BR + w\\u002fin 10km of Natural Area and Important Farmland\"],\"xaxis\":\"x7\",\"y\":[12845],\"yaxis\":\"y7\",\"type\":\"bar\"},{\"alignmentgroup\":\"True\",\"hovertemplate\":\"variable=%{x}\\u003cbr\\u003eregion_name=new_mexico\\u003cbr\\u003evalue=%{y}\\u003cextra\\u003e\\u003c\\u002fextra\\u003e\",\"legendgroup\":\"BR + w\\u002fin 10km of Natural Area and Important Farmland\",\"marker\":{\"color\":\"rgb(139, 224, 164)\",\"pattern\":{\"shape\":\"\"}},\"name\":\"BR + w\\u002fin 10km of Natural Area and Important Farmland\",\"offsetgroup\":\"BR + w\\u002fin 10km of Natural Area and Important Farmland\",\"orientation\":\"v\",\"showlegend\":false,\"textposition\":\"auto\",\"x\":[\"BR + w\\u002fin 10km of Natural Area and Important Farmland\"],\"xaxis\":\"x6\",\"y\":[28974],\"yaxis\":\"y6\",\"type\":\"bar\"},{\"alignmentgroup\":\"True\",\"hovertemplate\":\"variable=%{x}\\u003cbr\\u003eregion_name=nevada\\u003cbr\\u003evalue=%{y}\\u003cextra\\u003e\\u003c\\u002fextra\\u003e\",\"legendgroup\":\"BR + w\\u002fin 10km of Natural Area and Important Farmland\",\"marker\":{\"color\":\"rgb(139, 224, 164)\",\"pattern\":{\"shape\":\"\"}},\"name\":\"BR + w\\u002fin 10km of Natural Area and Important Farmland\",\"offsetgroup\":\"BR + w\\u002fin 10km of Natural Area and Important Farmland\",\"orientation\":\"v\",\"showlegend\":false,\"textposition\":\"auto\",\"x\":[\"BR + w\\u002fin 10km of Natural Area and Important Farmland\"],\"xaxis\":\"x5\",\"y\":[2095],\"yaxis\":\"y5\",\"type\":\"bar\"},{\"alignmentgroup\":\"True\",\"hovertemplate\":\"variable=%{x}\\u003cbr\\u003eregion_name=oregon\\u003cbr\\u003evalue=%{y}\\u003cextra\\u003e\\u003c\\u002fextra\\u003e\",\"legendgroup\":\"BR + w\\u002fin 10km of Natural Area and Important Farmland\",\"marker\":{\"color\":\"rgb(139, 224, 164)\",\"pattern\":{\"shape\":\"\"}},\"name\":\"BR + w\\u002fin 10km of Natural Area and Important Farmland\",\"offsetgroup\":\"BR + w\\u002fin 10km of Natural Area and Important Farmland\",\"orientation\":\"v\",\"showlegend\":false,\"textposition\":\"auto\",\"x\":[\"BR + w\\u002fin 10km of Natural Area and Important Farmland\"],\"xaxis\":\"x4\",\"y\":[548],\"yaxis\":\"y4\",\"type\":\"bar\"},{\"alignmentgroup\":\"True\",\"hovertemplate\":\"variable=%{x}\\u003cbr\\u003eregion_name=utah\\u003cbr\\u003evalue=%{y}\\u003cextra\\u003e\\u003c\\u002fextra\\u003e\",\"legendgroup\":\"BR + w\\u002fin 10km of Natural Area and Important Farmland\",\"marker\":{\"color\":\"rgb(139, 224, 164)\",\"pattern\":{\"shape\":\"\"}},\"name\":\"BR + w\\u002fin 10km of Natural Area and Important Farmland\",\"offsetgroup\":\"BR + w\\u002fin 10km of Natural Area and Important Farmland\",\"orientation\":\"v\",\"showlegend\":false,\"textposition\":\"auto\",\"x\":[\"BR + w\\u002fin 10km of Natural Area and Important Farmland\"],\"xaxis\":\"x3\",\"y\":[905],\"yaxis\":\"y3\",\"type\":\"bar\"},{\"alignmentgroup\":\"True\",\"hovertemplate\":\"variable=%{x}\\u003cbr\\u003eregion_name=washington\\u003cbr\\u003evalue=%{y}\\u003cextra\\u003e\\u003c\\u002fextra\\u003e\",\"legendgroup\":\"BR + w\\u002fin 10km of Natural Area and Important Farmland\",\"marker\":{\"color\":\"rgb(139, 224, 164)\",\"pattern\":{\"shape\":\"\"}},\"name\":\"BR + w\\u002fin 10km of Natural Area and Important Farmland\",\"offsetgroup\":\"BR + w\\u002fin 10km of Natural Area and Important Farmland\",\"orientation\":\"v\",\"showlegend\":false,\"textposition\":\"auto\",\"x\":[\"BR + w\\u002fin 10km of Natural Area and Important Farmland\"],\"xaxis\":\"x2\",\"y\":[1023],\"yaxis\":\"y2\",\"type\":\"bar\"},{\"alignmentgroup\":\"True\",\"hovertemplate\":\"variable=%{x}\\u003cbr\\u003eregion_name=wyoming\\u003cbr\\u003evalue=%{y}\\u003cextra\\u003e\\u003c\\u002fextra\\u003e\",\"legendgroup\":\"BR + w\\u002fin 10km of Natural Area and Important Farmland\",\"marker\":{\"color\":\"rgb(139, 224, 164)\",\"pattern\":{\"shape\":\"\"}},\"name\":\"BR + w\\u002fin 10km of Natural Area and Important Farmland\",\"offsetgroup\":\"BR + w\\u002fin 10km of Natural Area and Important Farmland\",\"orientation\":\"v\",\"showlegend\":false,\"textposition\":\"auto\",\"x\":[\"BR + w\\u002fin 10km of Natural Area and Important Farmland\"],\"xaxis\":\"x\",\"y\":[19900],\"yaxis\":\"y\",\"type\":\"bar\"}],                        {\"template\":{\"data\":{\"histogram2dcontour\":[{\"type\":\"histogram2dcontour\",\"colorbar\":{\"outlinewidth\":0,\"ticks\":\"\"},\"colorscale\":[[0.0,\"#0d0887\"],[0.1111111111111111,\"#46039f\"],[0.2222222222222222,\"#7201a8\"],[0.3333333333333333,\"#9c179e\"],[0.4444444444444444,\"#bd3786\"],[0.5555555555555556,\"#d8576b\"],[0.6666666666666666,\"#ed7953\"],[0.7777777777777778,\"#fb9f3a\"],[0.8888888888888888,\"#fdca26\"],[1.0,\"#f0f921\"]]}],\"choropleth\":[{\"type\":\"choropleth\",\"colorbar\":{\"outlinewidth\":0,\"ticks\":\"\"}}],\"histogram2d\":[{\"type\":\"histogram2d\",\"colorbar\":{\"outlinewidth\":0,\"ticks\":\"\"},\"colorscale\":[[0.0,\"#0d0887\"],[0.1111111111111111,\"#46039f\"],[0.2222222222222222,\"#7201a8\"],[0.3333333333333333,\"#9c179e\"],[0.4444444444444444,\"#bd3786\"],[0.5555555555555556,\"#d8576b\"],[0.6666666666666666,\"#ed7953\"],[0.7777777777777778,\"#fb9f3a\"],[0.8888888888888888,\"#fdca26\"],[1.0,\"#f0f921\"]]}],\"heatmap\":[{\"type\":\"heatmap\",\"colorbar\":{\"outlinewidth\":0,\"ticks\":\"\"},\"colorscale\":[[0.0,\"#0d0887\"],[0.1111111111111111,\"#46039f\"],[0.2222222222222222,\"#7201a8\"],[0.3333333333333333,\"#9c179e\"],[0.4444444444444444,\"#bd3786\"],[0.5555555555555556,\"#d8576b\"],[0.6666666666666666,\"#ed7953\"],[0.7777777777777778,\"#fb9f3a\"],[0.8888888888888888,\"#fdca26\"],[1.0,\"#f0f921\"]]}],\"heatmapgl\":[{\"type\":\"heatmapgl\",\"colorbar\":{\"outlinewidth\":0,\"ticks\":\"\"},\"colorscale\":[[0.0,\"#0d0887\"],[0.1111111111111111,\"#46039f\"],[0.2222222222222222,\"#7201a8\"],[0.3333333333333333,\"#9c179e\"],[0.4444444444444444,\"#bd3786\"],[0.5555555555555556,\"#d8576b\"],[0.6666666666666666,\"#ed7953\"],[0.7777777777777778,\"#fb9f3a\"],[0.8888888888888888,\"#fdca26\"],[1.0,\"#f0f921\"]]}],\"contourcarpet\":[{\"type\":\"contourcarpet\",\"colorbar\":{\"outlinewidth\":0,\"ticks\":\"\"}}],\"contour\":[{\"type\":\"contour\",\"colorbar\":{\"outlinewidth\":0,\"ticks\":\"\"},\"colorscale\":[[0.0,\"#0d0887\"],[0.1111111111111111,\"#46039f\"],[0.2222222222222222,\"#7201a8\"],[0.3333333333333333,\"#9c179e\"],[0.4444444444444444,\"#bd3786\"],[0.5555555555555556,\"#d8576b\"],[0.6666666666666666,\"#ed7953\"],[0.7777777777777778,\"#fb9f3a\"],[0.8888888888888888,\"#fdca26\"],[1.0,\"#f0f921\"]]}],\"surface\":[{\"type\":\"surface\",\"colorbar\":{\"outlinewidth\":0,\"ticks\":\"\"},\"colorscale\":[[0.0,\"#0d0887\"],[0.1111111111111111,\"#46039f\"],[0.2222222222222222,\"#7201a8\"],[0.3333333333333333,\"#9c179e\"],[0.4444444444444444,\"#bd3786\"],[0.5555555555555556,\"#d8576b\"],[0.6666666666666666,\"#ed7953\"],[0.7777777777777778,\"#fb9f3a\"],[0.8888888888888888,\"#fdca26\"],[1.0,\"#f0f921\"]]}],\"mesh3d\":[{\"type\":\"mesh3d\",\"colorbar\":{\"outlinewidth\":0,\"ticks\":\"\"}}],\"scatter\":[{\"fillpattern\":{\"fillmode\":\"overlay\",\"size\":10,\"solidity\":0.2},\"type\":\"scatter\"}],\"parcoords\":[{\"type\":\"parcoords\",\"line\":{\"colorbar\":{\"outlinewidth\":0,\"ticks\":\"\"}}}],\"scatterpolargl\":[{\"type\":\"scatterpolargl\",\"marker\":{\"colorbar\":{\"outlinewidth\":0,\"ticks\":\"\"}}}],\"bar\":[{\"error_x\":{\"color\":\"#2a3f5f\"},\"error_y\":{\"color\":\"#2a3f5f\"},\"marker\":{\"line\":{\"color\":\"#E5ECF6\",\"width\":0.5},\"pattern\":{\"fillmode\":\"overlay\",\"size\":10,\"solidity\":0.2}},\"type\":\"bar\"}],\"scattergeo\":[{\"type\":\"scattergeo\",\"marker\":{\"colorbar\":{\"outlinewidth\":0,\"ticks\":\"\"}}}],\"scatterpolar\":[{\"type\":\"scatterpolar\",\"marker\":{\"colorbar\":{\"outlinewidth\":0,\"ticks\":\"\"}}}],\"histogram\":[{\"marker\":{\"pattern\":{\"fillmode\":\"overlay\",\"size\":10,\"solidity\":0.2}},\"type\":\"histogram\"}],\"scattergl\":[{\"type\":\"scattergl\",\"marker\":{\"colorbar\":{\"outlinewidth\":0,\"ticks\":\"\"}}}],\"scatter3d\":[{\"type\":\"scatter3d\",\"line\":{\"colorbar\":{\"outlinewidth\":0,\"ticks\":\"\"}},\"marker\":{\"colorbar\":{\"outlinewidth\":0,\"ticks\":\"\"}}}],\"scattermapbox\":[{\"type\":\"scattermapbox\",\"marker\":{\"colorbar\":{\"outlinewidth\":0,\"ticks\":\"\"}}}],\"scatterternary\":[{\"type\":\"scatterternary\",\"marker\":{\"colorbar\":{\"outlinewidth\":0,\"ticks\":\"\"}}}],\"scattercarpet\":[{\"type\":\"scattercarpet\",\"marker\":{\"colorbar\":{\"outlinewidth\":0,\"ticks\":\"\"}}}],\"carpet\":[{\"aaxis\":{\"endlinecolor\":\"#2a3f5f\",\"gridcolor\":\"white\",\"linecolor\":\"white\",\"minorgridcolor\":\"white\",\"startlinecolor\":\"#2a3f5f\"},\"baxis\":{\"endlinecolor\":\"#2a3f5f\",\"gridcolor\":\"white\",\"linecolor\":\"white\",\"minorgridcolor\":\"white\",\"startlinecolor\":\"#2a3f5f\"},\"type\":\"carpet\"}],\"table\":[{\"cells\":{\"fill\":{\"color\":\"#EBF0F8\"},\"line\":{\"color\":\"white\"}},\"header\":{\"fill\":{\"color\":\"#C8D4E3\"},\"line\":{\"color\":\"white\"}},\"type\":\"table\"}],\"barpolar\":[{\"marker\":{\"line\":{\"color\":\"#E5ECF6\",\"width\":0.5},\"pattern\":{\"fillmode\":\"overlay\",\"size\":10,\"solidity\":0.2}},\"type\":\"barpolar\"}],\"pie\":[{\"automargin\":true,\"type\":\"pie\"}]},\"layout\":{\"autotypenumbers\":\"strict\",\"colorway\":[\"#636efa\",\"#EF553B\",\"#00cc96\",\"#ab63fa\",\"#FFA15A\",\"#19d3f3\",\"#FF6692\",\"#B6E880\",\"#FF97FF\",\"#FECB52\"],\"font\":{\"color\":\"#2a3f5f\"},\"hovermode\":\"closest\",\"hoverlabel\":{\"align\":\"left\"},\"paper_bgcolor\":\"white\",\"plot_bgcolor\":\"#E5ECF6\",\"polar\":{\"bgcolor\":\"#E5ECF6\",\"angularaxis\":{\"gridcolor\":\"white\",\"linecolor\":\"white\",\"ticks\":\"\"},\"radialaxis\":{\"gridcolor\":\"white\",\"linecolor\":\"white\",\"ticks\":\"\"}},\"ternary\":{\"bgcolor\":\"#E5ECF6\",\"aaxis\":{\"gridcolor\":\"white\",\"linecolor\":\"white\",\"ticks\":\"\"},\"baxis\":{\"gridcolor\":\"white\",\"linecolor\":\"white\",\"ticks\":\"\"},\"caxis\":{\"gridcolor\":\"white\",\"linecolor\":\"white\",\"ticks\":\"\"}},\"coloraxis\":{\"colorbar\":{\"outlinewidth\":0,\"ticks\":\"\"}},\"colorscale\":{\"sequential\":[[0.0,\"#0d0887\"],[0.1111111111111111,\"#46039f\"],[0.2222222222222222,\"#7201a8\"],[0.3333333333333333,\"#9c179e\"],[0.4444444444444444,\"#bd3786\"],[0.5555555555555556,\"#d8576b\"],[0.6666666666666666,\"#ed7953\"],[0.7777777777777778,\"#fb9f3a\"],[0.8888888888888888,\"#fdca26\"],[1.0,\"#f0f921\"]],\"sequentialminus\":[[0.0,\"#0d0887\"],[0.1111111111111111,\"#46039f\"],[0.2222222222222222,\"#7201a8\"],[0.3333333333333333,\"#9c179e\"],[0.4444444444444444,\"#bd3786\"],[0.5555555555555556,\"#d8576b\"],[0.6666666666666666,\"#ed7953\"],[0.7777777777777778,\"#fb9f3a\"],[0.8888888888888888,\"#fdca26\"],[1.0,\"#f0f921\"]],\"diverging\":[[0,\"#8e0152\"],[0.1,\"#c51b7d\"],[0.2,\"#de77ae\"],[0.3,\"#f1b6da\"],[0.4,\"#fde0ef\"],[0.5,\"#f7f7f7\"],[0.6,\"#e6f5d0\"],[0.7,\"#b8e186\"],[0.8,\"#7fbc41\"],[0.9,\"#4d9221\"],[1,\"#276419\"]]},\"xaxis\":{\"gridcolor\":\"white\",\"linecolor\":\"white\",\"ticks\":\"\",\"title\":{\"standoff\":15},\"zerolinecolor\":\"white\",\"automargin\":true,\"zerolinewidth\":2},\"yaxis\":{\"gridcolor\":\"white\",\"linecolor\":\"white\",\"ticks\":\"\",\"title\":{\"standoff\":15},\"zerolinecolor\":\"white\",\"automargin\":true,\"zerolinewidth\":2},\"scene\":{\"xaxis\":{\"backgroundcolor\":\"#E5ECF6\",\"gridcolor\":\"white\",\"linecolor\":\"white\",\"showbackground\":true,\"ticks\":\"\",\"zerolinecolor\":\"white\",\"gridwidth\":2},\"yaxis\":{\"backgroundcolor\":\"#E5ECF6\",\"gridcolor\":\"white\",\"linecolor\":\"white\",\"showbackground\":true,\"ticks\":\"\",\"zerolinecolor\":\"white\",\"gridwidth\":2},\"zaxis\":{\"backgroundcolor\":\"#E5ECF6\",\"gridcolor\":\"white\",\"linecolor\":\"white\",\"showbackground\":true,\"ticks\":\"\",\"zerolinecolor\":\"white\",\"gridwidth\":2}},\"shapedefaults\":{\"line\":{\"color\":\"#2a3f5f\"}},\"annotationdefaults\":{\"arrowcolor\":\"#2a3f5f\",\"arrowhead\":0,\"arrowwidth\":1},\"geo\":{\"bgcolor\":\"white\",\"landcolor\":\"#E5ECF6\",\"subunitcolor\":\"white\",\"showland\":true,\"showlakes\":true,\"lakecolor\":\"white\"},\"title\":{\"x\":0.05},\"mapbox\":{\"style\":\"light\"}}},\"xaxis\":{\"anchor\":\"y\",\"domain\":[0.0,0.98],\"title\":{\"text\":\"variable\"},\"categoryorder\":\"array\",\"categoryarray\":[\"Baseline Restrictions (BR)\",\"BR + DACs\",\"BR + Important Farmland\",\"BR + w\\u002fin 1km of Natural Areas\",\"BR + w\\u002fin 5km of Natural Areas\",\"BR + w\\u002fin 10km of Natural Areas\",\"BR + DACS, w\\u002fin 5km of Natural Area, and Important Farmland\",\"BR + w\\u002fin 5km of Natural Area and Important Farmland\",\"BR + w\\u002fin 10km of Natural Area and Important Farmland\"]},\"yaxis\":{\"anchor\":\"x\",\"domain\":[0.0,0.06363636363636363],\"title\":{\"text\":\"square km\"},\"showgrid\":true,\"gridcolor\":\"#bdbdbd\"},\"xaxis2\":{\"anchor\":\"y2\",\"domain\":[0.0,0.98],\"matches\":\"x\",\"showticklabels\":false},\"yaxis2\":{\"anchor\":\"x2\",\"domain\":[0.09363636363636363,0.15727272727272726],\"title\":{\"text\":\"square km\"},\"showgrid\":true,\"gridcolor\":\"#bdbdbd\"},\"xaxis3\":{\"anchor\":\"y3\",\"domain\":[0.0,0.98],\"matches\":\"x\",\"showticklabels\":false},\"yaxis3\":{\"anchor\":\"x3\",\"domain\":[0.18727272727272726,0.25090909090909086],\"title\":{\"text\":\"square km\"},\"showgrid\":true,\"gridcolor\":\"#bdbdbd\"},\"xaxis4\":{\"anchor\":\"y4\",\"domain\":[0.0,0.98],\"matches\":\"x\",\"showticklabels\":false},\"yaxis4\":{\"anchor\":\"x4\",\"domain\":[0.2809090909090909,0.3445454545454545],\"title\":{\"text\":\"square km\"},\"showgrid\":true,\"gridcolor\":\"#bdbdbd\"},\"xaxis5\":{\"anchor\":\"y5\",\"domain\":[0.0,0.98],\"matches\":\"x\",\"showticklabels\":false},\"yaxis5\":{\"anchor\":\"x5\",\"domain\":[0.3745454545454545,0.4381818181818181],\"title\":{\"text\":\"square km\"},\"showgrid\":true,\"gridcolor\":\"#bdbdbd\"},\"xaxis6\":{\"anchor\":\"y6\",\"domain\":[0.0,0.98],\"matches\":\"x\",\"showticklabels\":false},\"yaxis6\":{\"anchor\":\"x6\",\"domain\":[0.46818181818181814,0.5318181818181817],\"title\":{\"text\":\"square km\"},\"showgrid\":true,\"gridcolor\":\"#bdbdbd\"},\"xaxis7\":{\"anchor\":\"y7\",\"domain\":[0.0,0.98],\"matches\":\"x\",\"showticklabels\":false},\"yaxis7\":{\"anchor\":\"x7\",\"domain\":[0.5618181818181818,0.6254545454545454],\"title\":{\"text\":\"square km\"},\"showgrid\":true,\"gridcolor\":\"#bdbdbd\"},\"xaxis8\":{\"anchor\":\"y8\",\"domain\":[0.0,0.98],\"matches\":\"x\",\"showticklabels\":false},\"yaxis8\":{\"anchor\":\"x8\",\"domain\":[0.6554545454545453,0.7190909090909089],\"title\":{\"text\":\"square km\"},\"showgrid\":true,\"gridcolor\":\"#bdbdbd\"},\"xaxis9\":{\"anchor\":\"y9\",\"domain\":[0.0,0.98],\"matches\":\"x\",\"showticklabels\":false},\"yaxis9\":{\"anchor\":\"x9\",\"domain\":[0.7490909090909089,0.8127272727272725],\"title\":{\"text\":\"square km\"},\"showgrid\":true,\"gridcolor\":\"#bdbdbd\"},\"xaxis10\":{\"anchor\":\"y10\",\"domain\":[0.0,0.98],\"matches\":\"x\",\"showticklabels\":false},\"yaxis10\":{\"anchor\":\"x10\",\"domain\":[0.8427272727272725,0.9063636363636361],\"title\":{\"text\":\"square km\"},\"showgrid\":true,\"gridcolor\":\"#bdbdbd\"},\"xaxis11\":{\"anchor\":\"y11\",\"domain\":[0.0,0.98],\"matches\":\"x\",\"showticklabels\":false},\"yaxis11\":{\"anchor\":\"x11\",\"domain\":[0.9363636363636361,0.9999999999999997],\"title\":{\"text\":\"square km\"},\"showgrid\":true,\"gridcolor\":\"#bdbdbd\"},\"annotations\":[{\"showarrow\":false,\"text\":\"\",\"textangle\":90,\"x\":0.98,\"xanchor\":\"left\",\"xref\":\"paper\",\"y\":0.031818181818181815,\"yanchor\":\"middle\",\"yref\":\"paper\"},{\"showarrow\":false,\"text\":\"\",\"textangle\":90,\"x\":0.98,\"xanchor\":\"left\",\"xref\":\"paper\",\"y\":0.12545454545454543,\"yanchor\":\"middle\",\"yref\":\"paper\"},{\"showarrow\":false,\"text\":\"\",\"textangle\":90,\"x\":0.98,\"xanchor\":\"left\",\"xref\":\"paper\",\"y\":0.21909090909090906,\"yanchor\":\"middle\",\"yref\":\"paper\"},{\"showarrow\":false,\"text\":\"\",\"textangle\":90,\"x\":0.98,\"xanchor\":\"left\",\"xref\":\"paper\",\"y\":0.3127272727272727,\"yanchor\":\"middle\",\"yref\":\"paper\"},{\"showarrow\":false,\"text\":\"\",\"textangle\":90,\"x\":0.98,\"xanchor\":\"left\",\"xref\":\"paper\",\"y\":0.4063636363636363,\"yanchor\":\"middle\",\"yref\":\"paper\"},{\"showarrow\":false,\"text\":\"\",\"textangle\":90,\"x\":0.98,\"xanchor\":\"left\",\"xref\":\"paper\",\"y\":0.49999999999999994,\"yanchor\":\"middle\",\"yref\":\"paper\"},{\"showarrow\":false,\"text\":\"\",\"textangle\":90,\"x\":0.98,\"xanchor\":\"left\",\"xref\":\"paper\",\"y\":0.5936363636363635,\"yanchor\":\"middle\",\"yref\":\"paper\"},{\"showarrow\":false,\"text\":\"\",\"textangle\":90,\"x\":0.98,\"xanchor\":\"left\",\"xref\":\"paper\",\"y\":0.687272727272727,\"yanchor\":\"middle\",\"yref\":\"paper\"},{\"showarrow\":false,\"text\":\"\",\"textangle\":90,\"x\":0.98,\"xanchor\":\"left\",\"xref\":\"paper\",\"y\":0.7809090909090908,\"yanchor\":\"middle\",\"yref\":\"paper\"},{\"showarrow\":false,\"text\":\"\",\"textangle\":90,\"x\":0.98,\"xanchor\":\"left\",\"xref\":\"paper\",\"y\":0.8745454545454543,\"yanchor\":\"middle\",\"yref\":\"paper\"},{\"showarrow\":false,\"text\":\"\",\"textangle\":90,\"x\":0.98,\"xanchor\":\"left\",\"xref\":\"paper\",\"y\":0.9681818181818178,\"yanchor\":\"middle\",\"yref\":\"paper\"},{\"font\":{\"size\":16},\"showarrow\":false,\"text\":\"Arizona\",\"x\":0.5,\"xref\":\"paper\",\"y\":1.01,\"yref\":\"paper\"},{\"font\":{\"size\":16},\"showarrow\":false,\"text\":\"California\",\"x\":0.5,\"xref\":\"paper\",\"y\":0.915,\"yref\":\"paper\"},{\"font\":{\"size\":16},\"showarrow\":false,\"text\":\"Colorado\",\"x\":0.5,\"xref\":\"paper\",\"y\":0.8200000000000001,\"yref\":\"paper\"},{\"font\":{\"size\":16},\"showarrow\":false,\"text\":\"Idaho\",\"x\":0.5,\"xref\":\"paper\",\"y\":0.7250000000000001,\"yref\":\"paper\"},{\"font\":{\"size\":16},\"showarrow\":false,\"text\":\"Montana\",\"x\":0.5,\"xref\":\"paper\",\"y\":0.6300000000000001,\"yref\":\"paper\"},{\"font\":{\"size\":16},\"showarrow\":false,\"text\":\"New_Mexico\",\"x\":0.5,\"xref\":\"paper\",\"y\":0.5350000000000001,\"yref\":\"paper\"},{\"font\":{\"size\":16},\"showarrow\":false,\"text\":\"Nevada\",\"x\":0.5,\"xref\":\"paper\",\"y\":0.44000000000000017,\"yref\":\"paper\"},{\"font\":{\"size\":16},\"showarrow\":false,\"text\":\"Oregon\",\"x\":0.5,\"xref\":\"paper\",\"y\":0.3450000000000002,\"yref\":\"paper\"},{\"font\":{\"size\":16},\"showarrow\":false,\"text\":\"Utah\",\"x\":0.5,\"xref\":\"paper\",\"y\":0.2500000000000002,\"yref\":\"paper\"},{\"font\":{\"size\":16},\"showarrow\":false,\"text\":\"Washington\",\"x\":0.5,\"xref\":\"paper\",\"y\":0.15500000000000022,\"yref\":\"paper\"},{\"font\":{\"size\":16},\"showarrow\":false,\"text\":\"Wyoming\",\"x\":0.5,\"xref\":\"paper\",\"y\":0.06000000000000022,\"yref\":\"paper\"},{\"showarrow\":false,\"text\":\"Clean Grid Required Land by 2035\",\"x\":0,\"xanchor\":\"left\",\"xref\":\"x11 domain\",\"y\":715,\"yanchor\":\"bottom\",\"yref\":\"y11\"},{\"showarrow\":false,\"text\":\"Clean Grid Required Land by 2035\",\"x\":0,\"xanchor\":\"left\",\"xref\":\"x10 domain\",\"y\":3066,\"yanchor\":\"bottom\",\"yref\":\"y10\"},{\"showarrow\":false,\"text\":\"Clean Grid Required Land by 2035\",\"x\":0,\"xanchor\":\"left\",\"xref\":\"x9 domain\",\"y\":1596,\"yanchor\":\"bottom\",\"yref\":\"y9\"},{\"showarrow\":false,\"text\":\"Clean Grid Required Land by 2035\",\"x\":0,\"xanchor\":\"left\",\"xref\":\"x8 domain\",\"y\":336,\"yanchor\":\"bottom\",\"yref\":\"y8\"},{\"showarrow\":false,\"text\":\"Clean Grid Required Land by 2035\",\"x\":0,\"xanchor\":\"left\",\"xref\":\"x7 domain\",\"y\":2921,\"yanchor\":\"bottom\",\"yref\":\"y7\"},{\"showarrow\":false,\"text\":\"Clean Grid Required Land by 2035\",\"x\":0,\"xanchor\":\"left\",\"xref\":\"x6 domain\",\"y\":1081,\"yanchor\":\"bottom\",\"yref\":\"y6\"},{\"showarrow\":false,\"text\":\"Clean Grid Required Land by 2035\",\"x\":0,\"xanchor\":\"left\",\"xref\":\"x5 domain\",\"y\":252,\"yanchor\":\"bottom\",\"yref\":\"y5\"},{\"showarrow\":false,\"text\":\"Clean Grid Required Land by 2035\",\"x\":0,\"xanchor\":\"left\",\"xref\":\"x4 domain\",\"y\":695,\"yanchor\":\"bottom\",\"yref\":\"y4\"},{\"showarrow\":false,\"text\":\"Clean Grid Required Land by 2035\",\"x\":0,\"xanchor\":\"left\",\"xref\":\"x3 domain\",\"y\":878,\"yanchor\":\"bottom\",\"yref\":\"y3\"},{\"showarrow\":false,\"text\":\"Clean Grid Required Land by 2035\",\"x\":0,\"xanchor\":\"left\",\"xref\":\"x2 domain\",\"y\":641,\"yanchor\":\"bottom\",\"yref\":\"y2\"},{\"showarrow\":false,\"text\":\"Clean Grid Required Land by 2035\",\"x\":0,\"xanchor\":\"left\",\"xref\":\"x domain\",\"y\":2186,\"yanchor\":\"bottom\",\"yref\":\"y\"}],\"legend\":{\"title\":{\"text\":\"variable\"},\"tracegroupgap\":0},\"margin\":{\"t\":60},\"barmode\":\"relative\",\"height\":2000,\"width\":1200,\"uniformtext\":{\"minsize\":18,\"mode\":\"hide\"},\"showlegend\":false,\"title\":{\"text\":\"Wind Siting Availability under Various Exclusion Combinations\"},\"plot_bgcolor\":\"white\",\"paper_bgcolor\":\"white\",\"shapes\":[{\"line\":{\"dash\":\"dot\",\"width\":2},\"type\":\"line\",\"x0\":0,\"x1\":1,\"xref\":\"x11 domain\",\"y0\":715,\"y1\":715,\"yref\":\"y11\"},{\"line\":{\"dash\":\"dot\",\"width\":2},\"type\":\"line\",\"x0\":0,\"x1\":1,\"xref\":\"x10 domain\",\"y0\":3066,\"y1\":3066,\"yref\":\"y10\"},{\"line\":{\"dash\":\"dot\",\"width\":2},\"type\":\"line\",\"x0\":0,\"x1\":1,\"xref\":\"x9 domain\",\"y0\":1596,\"y1\":1596,\"yref\":\"y9\"},{\"line\":{\"dash\":\"dot\",\"width\":2},\"type\":\"line\",\"x0\":0,\"x1\":1,\"xref\":\"x8 domain\",\"y0\":336,\"y1\":336,\"yref\":\"y8\"},{\"line\":{\"dash\":\"dot\",\"width\":2},\"type\":\"line\",\"x0\":0,\"x1\":1,\"xref\":\"x7 domain\",\"y0\":2921,\"y1\":2921,\"yref\":\"y7\"},{\"line\":{\"dash\":\"dot\",\"width\":2},\"type\":\"line\",\"x0\":0,\"x1\":1,\"xref\":\"x6 domain\",\"y0\":1081,\"y1\":1081,\"yref\":\"y6\"},{\"line\":{\"dash\":\"dot\",\"width\":2},\"type\":\"line\",\"x0\":0,\"x1\":1,\"xref\":\"x5 domain\",\"y0\":252,\"y1\":252,\"yref\":\"y5\"},{\"line\":{\"dash\":\"dot\",\"width\":2},\"type\":\"line\",\"x0\":0,\"x1\":1,\"xref\":\"x4 domain\",\"y0\":695,\"y1\":695,\"yref\":\"y4\"},{\"line\":{\"dash\":\"dot\",\"width\":2},\"type\":\"line\",\"x0\":0,\"x1\":1,\"xref\":\"x3 domain\",\"y0\":878,\"y1\":878,\"yref\":\"y3\"},{\"line\":{\"dash\":\"dot\",\"width\":2},\"type\":\"line\",\"x0\":0,\"x1\":1,\"xref\":\"x2 domain\",\"y0\":641,\"y1\":641,\"yref\":\"y2\"},{\"line\":{\"dash\":\"dot\",\"width\":2},\"type\":\"line\",\"x0\":0,\"x1\":1,\"xref\":\"x domain\",\"y0\":2186,\"y1\":2186,\"yref\":\"y\"}]},                        {\"responsive\": true}                    ).then(function(){\n",
       "                            \n",
       "var gd = document.getElementById('152fae28-b5ae-4acd-86b2-1b36771306a1');\n",
       "var x = new MutationObserver(function (mutations, observer) {{\n",
       "        var display = window.getComputedStyle(gd).display;\n",
       "        if (!display || display === 'none') {{\n",
       "            console.log([gd, 'removed!']);\n",
       "            Plotly.purge(gd);\n",
       "            observer.disconnect();\n",
       "        }}\n",
       "}});\n",
       "\n",
       "// Listen for the removal of the full notebook cells\n",
       "var notebookContainer = gd.closest('#notebook-container');\n",
       "if (notebookContainer) {{\n",
       "    x.observe(notebookContainer, {childList: true});\n",
       "}}\n",
       "\n",
       "// Listen for the clearing of the current output cell\n",
       "var outputEl = gd.closest('.output');\n",
       "if (outputEl) {{\n",
       "    x.observe(outputEl, {childList: true});\n",
       "}}\n",
       "\n",
       "                        })                };                });            </script>        </div>"
      ]
     },
     "metadata": {},
     "output_type": "display_data"
    }
   ],
   "source": [
    "\n",
    "\n",
    "fig = px.bar(wind_df, x=\"variable\", y=\"value\", color=\"variable\",\n",
    "             facet_row=\"region_name\", width=1200, height=2000,\n",
    "            facet_row_spacing=0.03,\n",
    "            color_discrete_sequence=px.colors.qualitative.Pastel)\n",
    "state_list = list(wind_df.region_name.unique())\n",
    "\n",
    "fig.update_yaxes(matches=None, title=\"square km\", showgrid = True,  gridcolor = '#bdbdbd')\n",
    "fig.for_each_annotation(lambda a: a.update(text=a.text.split(\"=\")[-1]))\n",
    "fig.update_layout(showlegend=False, title='Wind Siting Availability under Various Exclusion Combinations',\n",
    "                 uniformtext_minsize=18, uniformtext_mode='hide', plot_bgcolor = 'white', paper_bgcolor ='white')\n",
    "\n",
    "for anno in fig['layout']['annotations']:\n",
    "    anno['text']=''\n",
    "\n",
    "start_y = 1.01\n",
    "for state_label in state_label_list:\n",
    "    fig.add_annotation(text=state_label,\n",
    "                  xref=\"paper\", yref=\"paper\",\n",
    "                  x=.5, y=start_y, showarrow=False, font=dict(size=16))\n",
    "    start_y = start_y - .095 \n",
    "\n",
    "row_no = 0\n",
    "for i in cg_km_list:\n",
    "    fig.add_hline(y=i, line_dash=\"dot\", row=row_no,line_width=2,\n",
    "          annotation_text='Clean Grid Required Land by 2035', \n",
    "          annotation_position=\"top left\")\n",
    "    if row_no == 0:\n",
    "        row_no = 10\n",
    "    else:\n",
    "        row_no-=1\n",
    "\n",
    "fig.show()"
   ]
  },
  {
   "cell_type": "code",
   "execution_count": 103,
   "id": "75719d87-bc4c-404e-a270-f52674156c03",
   "metadata": {},
   "outputs": [],
   "source": [
    "solar_df = solar_df[~solar_df.variable.isin(['bau_km', 'clean_grid_km'])]\n",
    "solar_df.variable = solar_df.variable.map(label_dict)"
   ]
  },
  {
   "cell_type": "code",
   "execution_count": 104,
   "id": "9ab59f8b-b4d4-4b3a-907c-e04d805286be",
   "metadata": {},
   "outputs": [
    {
     "data": {
      "application/vnd.plotly.v1+json": {
       "config": {
        "plotlyServerURL": "https://plot.ly"
       },
       "data": [
        {
         "alignmentgroup": "True",
         "hovertemplate": "variable=%{x}<br>region_name=arizona<br>value=%{y}<extra></extra>",
         "legendgroup": "Baseline Restrictions (BR)",
         "marker": {
          "color": "rgb(102, 197, 204)",
          "pattern": {
           "shape": ""
          }
         },
         "name": "Baseline Restrictions (BR)",
         "offsetgroup": "Baseline Restrictions (BR)",
         "orientation": "v",
         "showlegend": true,
         "textposition": "auto",
         "type": "bar",
         "x": [
          "Baseline Restrictions (BR)"
         ],
         "xaxis": "x11",
         "y": [
          149468
         ],
         "yaxis": "y11"
        },
        {
         "alignmentgroup": "True",
         "hovertemplate": "variable=%{x}<br>region_name=california<br>value=%{y}<extra></extra>",
         "legendgroup": "Baseline Restrictions (BR)",
         "marker": {
          "color": "rgb(102, 197, 204)",
          "pattern": {
           "shape": ""
          }
         },
         "name": "Baseline Restrictions (BR)",
         "offsetgroup": "Baseline Restrictions (BR)",
         "orientation": "v",
         "showlegend": false,
         "textposition": "auto",
         "type": "bar",
         "x": [
          "Baseline Restrictions (BR)"
         ],
         "xaxis": "x10",
         "y": [
          94422
         ],
         "yaxis": "y10"
        },
        {
         "alignmentgroup": "True",
         "hovertemplate": "variable=%{x}<br>region_name=colorado<br>value=%{y}<extra></extra>",
         "legendgroup": "Baseline Restrictions (BR)",
         "marker": {
          "color": "rgb(102, 197, 204)",
          "pattern": {
           "shape": ""
          }
         },
         "name": "Baseline Restrictions (BR)",
         "offsetgroup": "Baseline Restrictions (BR)",
         "orientation": "v",
         "showlegend": false,
         "textposition": "auto",
         "type": "bar",
         "x": [
          "Baseline Restrictions (BR)"
         ],
         "xaxis": "x9",
         "y": [
          118782
         ],
         "yaxis": "y9"
        },
        {
         "alignmentgroup": "True",
         "hovertemplate": "variable=%{x}<br>region_name=idaho<br>value=%{y}<extra></extra>",
         "legendgroup": "Baseline Restrictions (BR)",
         "marker": {
          "color": "rgb(102, 197, 204)",
          "pattern": {
           "shape": ""
          }
         },
         "name": "Baseline Restrictions (BR)",
         "offsetgroup": "Baseline Restrictions (BR)",
         "orientation": "v",
         "showlegend": false,
         "textposition": "auto",
         "type": "bar",
         "x": [
          "Baseline Restrictions (BR)"
         ],
         "xaxis": "x8",
         "y": [
          64018
         ],
         "yaxis": "y8"
        },
        {
         "alignmentgroup": "True",
         "hovertemplate": "variable=%{x}<br>region_name=montana<br>value=%{y}<extra></extra>",
         "legendgroup": "Baseline Restrictions (BR)",
         "marker": {
          "color": "rgb(102, 197, 204)",
          "pattern": {
           "shape": ""
          }
         },
         "name": "Baseline Restrictions (BR)",
         "offsetgroup": "Baseline Restrictions (BR)",
         "orientation": "v",
         "showlegend": false,
         "textposition": "auto",
         "type": "bar",
         "x": [
          "Baseline Restrictions (BR)"
         ],
         "xaxis": "x7",
         "y": [
          200614
         ],
         "yaxis": "y7"
        },
        {
         "alignmentgroup": "True",
         "hovertemplate": "variable=%{x}<br>region_name=new_mexico<br>value=%{y}<extra></extra>",
         "legendgroup": "Baseline Restrictions (BR)",
         "marker": {
          "color": "rgb(102, 197, 204)",
          "pattern": {
           "shape": ""
          }
         },
         "name": "Baseline Restrictions (BR)",
         "offsetgroup": "Baseline Restrictions (BR)",
         "orientation": "v",
         "showlegend": false,
         "textposition": "auto",
         "type": "bar",
         "x": [
          "Baseline Restrictions (BR)"
         ],
         "xaxis": "x6",
         "y": [
          201750
         ],
         "yaxis": "y6"
        },
        {
         "alignmentgroup": "True",
         "hovertemplate": "variable=%{x}<br>region_name=nevada<br>value=%{y}<extra></extra>",
         "legendgroup": "Baseline Restrictions (BR)",
         "marker": {
          "color": "rgb(102, 197, 204)",
          "pattern": {
           "shape": ""
          }
         },
         "name": "Baseline Restrictions (BR)",
         "offsetgroup": "Baseline Restrictions (BR)",
         "orientation": "v",
         "showlegend": false,
         "textposition": "auto",
         "type": "bar",
         "x": [
          "Baseline Restrictions (BR)"
         ],
         "xaxis": "x5",
         "y": [
          106346
         ],
         "yaxis": "y5"
        },
        {
         "alignmentgroup": "True",
         "hovertemplate": "variable=%{x}<br>region_name=oregon<br>value=%{y}<extra></extra>",
         "legendgroup": "Baseline Restrictions (BR)",
         "marker": {
          "color": "rgb(102, 197, 204)",
          "pattern": {
           "shape": ""
          }
         },
         "name": "Baseline Restrictions (BR)",
         "offsetgroup": "Baseline Restrictions (BR)",
         "orientation": "v",
         "showlegend": false,
         "textposition": "auto",
         "type": "bar",
         "x": [
          "Baseline Restrictions (BR)"
         ],
         "xaxis": "x4",
         "y": [
          60930
         ],
         "yaxis": "y4"
        },
        {
         "alignmentgroup": "True",
         "hovertemplate": "variable=%{x}<br>region_name=utah<br>value=%{y}<extra></extra>",
         "legendgroup": "Baseline Restrictions (BR)",
         "marker": {
          "color": "rgb(102, 197, 204)",
          "pattern": {
           "shape": ""
          }
         },
         "name": "Baseline Restrictions (BR)",
         "offsetgroup": "Baseline Restrictions (BR)",
         "orientation": "v",
         "showlegend": false,
         "textposition": "auto",
         "type": "bar",
         "x": [
          "Baseline Restrictions (BR)"
         ],
         "xaxis": "x3",
         "y": [
          61940
         ],
         "yaxis": "y3"
        },
        {
         "alignmentgroup": "True",
         "hovertemplate": "variable=%{x}<br>region_name=washington<br>value=%{y}<extra></extra>",
         "legendgroup": "Baseline Restrictions (BR)",
         "marker": {
          "color": "rgb(102, 197, 204)",
          "pattern": {
           "shape": ""
          }
         },
         "name": "Baseline Restrictions (BR)",
         "offsetgroup": "Baseline Restrictions (BR)",
         "orientation": "v",
         "showlegend": false,
         "textposition": "auto",
         "type": "bar",
         "x": [
          "Baseline Restrictions (BR)"
         ],
         "xaxis": "x2",
         "y": [
          60247
         ],
         "yaxis": "y2"
        },
        {
         "alignmentgroup": "True",
         "hovertemplate": "variable=%{x}<br>region_name=wyoming<br>value=%{y}<extra></extra>",
         "legendgroup": "Baseline Restrictions (BR)",
         "marker": {
          "color": "rgb(102, 197, 204)",
          "pattern": {
           "shape": ""
          }
         },
         "name": "Baseline Restrictions (BR)",
         "offsetgroup": "Baseline Restrictions (BR)",
         "orientation": "v",
         "showlegend": false,
         "textposition": "auto",
         "type": "bar",
         "x": [
          "Baseline Restrictions (BR)"
         ],
         "xaxis": "x",
         "y": [
          150777
         ],
         "yaxis": "y"
        },
        {
         "alignmentgroup": "True",
         "hovertemplate": "variable=%{x}<br>region_name=arizona<br>value=%{y}<extra></extra>",
         "legendgroup": "BR + DACs",
         "marker": {
          "color": "rgb(246, 207, 113)",
          "pattern": {
           "shape": ""
          }
         },
         "name": "BR + DACs",
         "offsetgroup": "BR + DACs",
         "orientation": "v",
         "showlegend": true,
         "textposition": "auto",
         "type": "bar",
         "x": [
          "BR + DACs"
         ],
         "xaxis": "x11",
         "y": [
          46395
         ],
         "yaxis": "y11"
        },
        {
         "alignmentgroup": "True",
         "hovertemplate": "variable=%{x}<br>region_name=california<br>value=%{y}<extra></extra>",
         "legendgroup": "BR + DACs",
         "marker": {
          "color": "rgb(246, 207, 113)",
          "pattern": {
           "shape": ""
          }
         },
         "name": "BR + DACs",
         "offsetgroup": "BR + DACs",
         "orientation": "v",
         "showlegend": false,
         "textposition": "auto",
         "type": "bar",
         "x": [
          "BR + DACs"
         ],
         "xaxis": "x10",
         "y": [
          38251
         ],
         "yaxis": "y10"
        },
        {
         "alignmentgroup": "True",
         "hovertemplate": "variable=%{x}<br>region_name=colorado<br>value=%{y}<extra></extra>",
         "legendgroup": "BR + DACs",
         "marker": {
          "color": "rgb(246, 207, 113)",
          "pattern": {
           "shape": ""
          }
         },
         "name": "BR + DACs",
         "offsetgroup": "BR + DACs",
         "orientation": "v",
         "showlegend": false,
         "textposition": "auto",
         "type": "bar",
         "x": [
          "BR + DACs"
         ],
         "xaxis": "x9",
         "y": [
          58883
         ],
         "yaxis": "y9"
        },
        {
         "alignmentgroup": "True",
         "hovertemplate": "variable=%{x}<br>region_name=idaho<br>value=%{y}<extra></extra>",
         "legendgroup": "BR + DACs",
         "marker": {
          "color": "rgb(246, 207, 113)",
          "pattern": {
           "shape": ""
          }
         },
         "name": "BR + DACs",
         "offsetgroup": "BR + DACs",
         "orientation": "v",
         "showlegend": false,
         "textposition": "auto",
         "type": "bar",
         "x": [
          "BR + DACs"
         ],
         "xaxis": "x8",
         "y": [
          18522
         ],
         "yaxis": "y8"
        },
        {
         "alignmentgroup": "True",
         "hovertemplate": "variable=%{x}<br>region_name=montana<br>value=%{y}<extra></extra>",
         "legendgroup": "BR + DACs",
         "marker": {
          "color": "rgb(246, 207, 113)",
          "pattern": {
           "shape": ""
          }
         },
         "name": "BR + DACs",
         "offsetgroup": "BR + DACs",
         "orientation": "v",
         "showlegend": false,
         "textposition": "auto",
         "type": "bar",
         "x": [
          "BR + DACs"
         ],
         "xaxis": "x7",
         "y": [
          104611
         ],
         "yaxis": "y7"
        },
        {
         "alignmentgroup": "True",
         "hovertemplate": "variable=%{x}<br>region_name=new_mexico<br>value=%{y}<extra></extra>",
         "legendgroup": "BR + DACs",
         "marker": {
          "color": "rgb(246, 207, 113)",
          "pattern": {
           "shape": ""
          }
         },
         "name": "BR + DACs",
         "offsetgroup": "BR + DACs",
         "orientation": "v",
         "showlegend": false,
         "textposition": "auto",
         "type": "bar",
         "x": [
          "BR + DACs"
         ],
         "xaxis": "x6",
         "y": [
          23030
         ],
         "yaxis": "y6"
        },
        {
         "alignmentgroup": "True",
         "hovertemplate": "variable=%{x}<br>region_name=nevada<br>value=%{y}<extra></extra>",
         "legendgroup": "BR + DACs",
         "marker": {
          "color": "rgb(246, 207, 113)",
          "pattern": {
           "shape": ""
          }
         },
         "name": "BR + DACs",
         "offsetgroup": "BR + DACs",
         "orientation": "v",
         "showlegend": false,
         "textposition": "auto",
         "type": "bar",
         "x": [
          "BR + DACs"
         ],
         "xaxis": "x5",
         "y": [
          81135
         ],
         "yaxis": "y5"
        },
        {
         "alignmentgroup": "True",
         "hovertemplate": "variable=%{x}<br>region_name=oregon<br>value=%{y}<extra></extra>",
         "legendgroup": "BR + DACs",
         "marker": {
          "color": "rgb(246, 207, 113)",
          "pattern": {
           "shape": ""
          }
         },
         "name": "BR + DACs",
         "offsetgroup": "BR + DACs",
         "orientation": "v",
         "showlegend": false,
         "textposition": "auto",
         "type": "bar",
         "x": [
          "BR + DACs"
         ],
         "xaxis": "x4",
         "y": [
          11622
         ],
         "yaxis": "y4"
        },
        {
         "alignmentgroup": "True",
         "hovertemplate": "variable=%{x}<br>region_name=utah<br>value=%{y}<extra></extra>",
         "legendgroup": "BR + DACs",
         "marker": {
          "color": "rgb(246, 207, 113)",
          "pattern": {
           "shape": ""
          }
         },
         "name": "BR + DACs",
         "offsetgroup": "BR + DACs",
         "orientation": "v",
         "showlegend": false,
         "textposition": "auto",
         "type": "bar",
         "x": [
          "BR + DACs"
         ],
         "xaxis": "x3",
         "y": [
          34126
         ],
         "yaxis": "y3"
        },
        {
         "alignmentgroup": "True",
         "hovertemplate": "variable=%{x}<br>region_name=washington<br>value=%{y}<extra></extra>",
         "legendgroup": "BR + DACs",
         "marker": {
          "color": "rgb(246, 207, 113)",
          "pattern": {
           "shape": ""
          }
         },
         "name": "BR + DACs",
         "offsetgroup": "BR + DACs",
         "orientation": "v",
         "showlegend": false,
         "textposition": "auto",
         "type": "bar",
         "x": [
          "BR + DACs"
         ],
         "xaxis": "x2",
         "y": [
          32459
         ],
         "yaxis": "y2"
        },
        {
         "alignmentgroup": "True",
         "hovertemplate": "variable=%{x}<br>region_name=wyoming<br>value=%{y}<extra></extra>",
         "legendgroup": "BR + DACs",
         "marker": {
          "color": "rgb(246, 207, 113)",
          "pattern": {
           "shape": ""
          }
         },
         "name": "BR + DACs",
         "offsetgroup": "BR + DACs",
         "orientation": "v",
         "showlegend": false,
         "textposition": "auto",
         "type": "bar",
         "x": [
          "BR + DACs"
         ],
         "xaxis": "x",
         "y": [
          127750
         ],
         "yaxis": "y"
        },
        {
         "alignmentgroup": "True",
         "hovertemplate": "variable=%{x}<br>region_name=arizona<br>value=%{y}<extra></extra>",
         "legendgroup": "BR + Important Farmland",
         "marker": {
          "color": "rgb(248, 156, 116)",
          "pattern": {
           "shape": ""
          }
         },
         "name": "BR + Important Farmland",
         "offsetgroup": "BR + Important Farmland",
         "orientation": "v",
         "showlegend": true,
         "textposition": "auto",
         "type": "bar",
         "x": [
          "BR + Important Farmland"
         ],
         "xaxis": "x11",
         "y": [
          146345
         ],
         "yaxis": "y11"
        },
        {
         "alignmentgroup": "True",
         "hovertemplate": "variable=%{x}<br>region_name=california<br>value=%{y}<extra></extra>",
         "legendgroup": "BR + Important Farmland",
         "marker": {
          "color": "rgb(248, 156, 116)",
          "pattern": {
           "shape": ""
          }
         },
         "name": "BR + Important Farmland",
         "offsetgroup": "BR + Important Farmland",
         "orientation": "v",
         "showlegend": false,
         "textposition": "auto",
         "type": "bar",
         "x": [
          "BR + Important Farmland"
         ],
         "xaxis": "x10",
         "y": [
          78597
         ],
         "yaxis": "y10"
        },
        {
         "alignmentgroup": "True",
         "hovertemplate": "variable=%{x}<br>region_name=colorado<br>value=%{y}<extra></extra>",
         "legendgroup": "BR + Important Farmland",
         "marker": {
          "color": "rgb(248, 156, 116)",
          "pattern": {
           "shape": ""
          }
         },
         "name": "BR + Important Farmland",
         "offsetgroup": "BR + Important Farmland",
         "orientation": "v",
         "showlegend": false,
         "textposition": "auto",
         "type": "bar",
         "x": [
          "BR + Important Farmland"
         ],
         "xaxis": "x9",
         "y": [
          108230
         ],
         "yaxis": "y9"
        },
        {
         "alignmentgroup": "True",
         "hovertemplate": "variable=%{x}<br>region_name=idaho<br>value=%{y}<extra></extra>",
         "legendgroup": "BR + Important Farmland",
         "marker": {
          "color": "rgb(248, 156, 116)",
          "pattern": {
           "shape": ""
          }
         },
         "name": "BR + Important Farmland",
         "offsetgroup": "BR + Important Farmland",
         "orientation": "v",
         "showlegend": false,
         "textposition": "auto",
         "type": "bar",
         "x": [
          "BR + Important Farmland"
         ],
         "xaxis": "x8",
         "y": [
          62934
         ],
         "yaxis": "y8"
        },
        {
         "alignmentgroup": "True",
         "hovertemplate": "variable=%{x}<br>region_name=montana<br>value=%{y}<extra></extra>",
         "legendgroup": "BR + Important Farmland",
         "marker": {
          "color": "rgb(248, 156, 116)",
          "pattern": {
           "shape": ""
          }
         },
         "name": "BR + Important Farmland",
         "offsetgroup": "BR + Important Farmland",
         "orientation": "v",
         "showlegend": false,
         "textposition": "auto",
         "type": "bar",
         "x": [
          "BR + Important Farmland"
         ],
         "xaxis": "x7",
         "y": [
          168821
         ],
         "yaxis": "y7"
        },
        {
         "alignmentgroup": "True",
         "hovertemplate": "variable=%{x}<br>region_name=new_mexico<br>value=%{y}<extra></extra>",
         "legendgroup": "BR + Important Farmland",
         "marker": {
          "color": "rgb(248, 156, 116)",
          "pattern": {
           "shape": ""
          }
         },
         "name": "BR + Important Farmland",
         "offsetgroup": "BR + Important Farmland",
         "orientation": "v",
         "showlegend": false,
         "textposition": "auto",
         "type": "bar",
         "x": [
          "BR + Important Farmland"
         ],
         "xaxis": "x6",
         "y": [
          179489
         ],
         "yaxis": "y6"
        },
        {
         "alignmentgroup": "True",
         "hovertemplate": "variable=%{x}<br>region_name=nevada<br>value=%{y}<extra></extra>",
         "legendgroup": "BR + Important Farmland",
         "marker": {
          "color": "rgb(248, 156, 116)",
          "pattern": {
           "shape": ""
          }
         },
         "name": "BR + Important Farmland",
         "offsetgroup": "BR + Important Farmland",
         "orientation": "v",
         "showlegend": false,
         "textposition": "auto",
         "type": "bar",
         "x": [
          "BR + Important Farmland"
         ],
         "xaxis": "x5",
         "y": [
          106295
         ],
         "yaxis": "y5"
        },
        {
         "alignmentgroup": "True",
         "hovertemplate": "variable=%{x}<br>region_name=oregon<br>value=%{y}<extra></extra>",
         "legendgroup": "BR + Important Farmland",
         "marker": {
          "color": "rgb(248, 156, 116)",
          "pattern": {
           "shape": ""
          }
         },
         "name": "BR + Important Farmland",
         "offsetgroup": "BR + Important Farmland",
         "orientation": "v",
         "showlegend": false,
         "textposition": "auto",
         "type": "bar",
         "x": [
          "BR + Important Farmland"
         ],
         "xaxis": "x4",
         "y": [
          28275
         ],
         "yaxis": "y4"
        },
        {
         "alignmentgroup": "True",
         "hovertemplate": "variable=%{x}<br>region_name=utah<br>value=%{y}<extra></extra>",
         "legendgroup": "BR + Important Farmland",
         "marker": {
          "color": "rgb(248, 156, 116)",
          "pattern": {
           "shape": ""
          }
         },
         "name": "BR + Important Farmland",
         "offsetgroup": "BR + Important Farmland",
         "orientation": "v",
         "showlegend": false,
         "textposition": "auto",
         "type": "bar",
         "x": [
          "BR + Important Farmland"
         ],
         "xaxis": "x3",
         "y": [
          57113
         ],
         "yaxis": "y3"
        },
        {
         "alignmentgroup": "True",
         "hovertemplate": "variable=%{x}<br>region_name=washington<br>value=%{y}<extra></extra>",
         "legendgroup": "BR + Important Farmland",
         "marker": {
          "color": "rgb(248, 156, 116)",
          "pattern": {
           "shape": ""
          }
         },
         "name": "BR + Important Farmland",
         "offsetgroup": "BR + Important Farmland",
         "orientation": "v",
         "showlegend": false,
         "textposition": "auto",
         "type": "bar",
         "x": [
          "BR + Important Farmland"
         ],
         "xaxis": "x2",
         "y": [
          32568
         ],
         "yaxis": "y2"
        },
        {
         "alignmentgroup": "True",
         "hovertemplate": "variable=%{x}<br>region_name=wyoming<br>value=%{y}<extra></extra>",
         "legendgroup": "BR + Important Farmland",
         "marker": {
          "color": "rgb(248, 156, 116)",
          "pattern": {
           "shape": ""
          }
         },
         "name": "BR + Important Farmland",
         "offsetgroup": "BR + Important Farmland",
         "orientation": "v",
         "showlegend": false,
         "textposition": "auto",
         "type": "bar",
         "x": [
          "BR + Important Farmland"
         ],
         "xaxis": "x",
         "y": [
          149870
         ],
         "yaxis": "y"
        },
        {
         "alignmentgroup": "True",
         "hovertemplate": "variable=%{x}<br>region_name=arizona<br>value=%{y}<extra></extra>",
         "legendgroup": "BR + w/in 1km of Natural Areas",
         "marker": {
          "color": "rgb(220, 176, 242)",
          "pattern": {
           "shape": ""
          }
         },
         "name": "BR + w/in 1km of Natural Areas",
         "offsetgroup": "BR + w/in 1km of Natural Areas",
         "orientation": "v",
         "showlegend": true,
         "textposition": "auto",
         "type": "bar",
         "x": [
          "BR + w/in 1km of Natural Areas"
         ],
         "xaxis": "x11",
         "y": [
          138003
         ],
         "yaxis": "y11"
        },
        {
         "alignmentgroup": "True",
         "hovertemplate": "variable=%{x}<br>region_name=california<br>value=%{y}<extra></extra>",
         "legendgroup": "BR + w/in 1km of Natural Areas",
         "marker": {
          "color": "rgb(220, 176, 242)",
          "pattern": {
           "shape": ""
          }
         },
         "name": "BR + w/in 1km of Natural Areas",
         "offsetgroup": "BR + w/in 1km of Natural Areas",
         "orientation": "v",
         "showlegend": false,
         "textposition": "auto",
         "type": "bar",
         "x": [
          "BR + w/in 1km of Natural Areas"
         ],
         "xaxis": "x10",
         "y": [
          77444
         ],
         "yaxis": "y10"
        },
        {
         "alignmentgroup": "True",
         "hovertemplate": "variable=%{x}<br>region_name=colorado<br>value=%{y}<extra></extra>",
         "legendgroup": "BR + w/in 1km of Natural Areas",
         "marker": {
          "color": "rgb(220, 176, 242)",
          "pattern": {
           "shape": ""
          }
         },
         "name": "BR + w/in 1km of Natural Areas",
         "offsetgroup": "BR + w/in 1km of Natural Areas",
         "orientation": "v",
         "showlegend": false,
         "textposition": "auto",
         "type": "bar",
         "x": [
          "BR + w/in 1km of Natural Areas"
         ],
         "xaxis": "x9",
         "y": [
          108317
         ],
         "yaxis": "y9"
        },
        {
         "alignmentgroup": "True",
         "hovertemplate": "variable=%{x}<br>region_name=idaho<br>value=%{y}<extra></extra>",
         "legendgroup": "BR + w/in 1km of Natural Areas",
         "marker": {
          "color": "rgb(220, 176, 242)",
          "pattern": {
           "shape": ""
          }
         },
         "name": "BR + w/in 1km of Natural Areas",
         "offsetgroup": "BR + w/in 1km of Natural Areas",
         "orientation": "v",
         "showlegend": false,
         "textposition": "auto",
         "type": "bar",
         "x": [
          "BR + w/in 1km of Natural Areas"
         ],
         "xaxis": "x8",
         "y": [
          54342
         ],
         "yaxis": "y8"
        },
        {
         "alignmentgroup": "True",
         "hovertemplate": "variable=%{x}<br>region_name=montana<br>value=%{y}<extra></extra>",
         "legendgroup": "BR + w/in 1km of Natural Areas",
         "marker": {
          "color": "rgb(220, 176, 242)",
          "pattern": {
           "shape": ""
          }
         },
         "name": "BR + w/in 1km of Natural Areas",
         "offsetgroup": "BR + w/in 1km of Natural Areas",
         "orientation": "v",
         "showlegend": false,
         "textposition": "auto",
         "type": "bar",
         "x": [
          "BR + w/in 1km of Natural Areas"
         ],
         "xaxis": "x7",
         "y": [
          169865
         ],
         "yaxis": "y7"
        },
        {
         "alignmentgroup": "True",
         "hovertemplate": "variable=%{x}<br>region_name=new_mexico<br>value=%{y}<extra></extra>",
         "legendgroup": "BR + w/in 1km of Natural Areas",
         "marker": {
          "color": "rgb(220, 176, 242)",
          "pattern": {
           "shape": ""
          }
         },
         "name": "BR + w/in 1km of Natural Areas",
         "offsetgroup": "BR + w/in 1km of Natural Areas",
         "orientation": "v",
         "showlegend": false,
         "textposition": "auto",
         "type": "bar",
         "x": [
          "BR + w/in 1km of Natural Areas"
         ],
         "xaxis": "x6",
         "y": [
          188217
         ],
         "yaxis": "y6"
        },
        {
         "alignmentgroup": "True",
         "hovertemplate": "variable=%{x}<br>region_name=nevada<br>value=%{y}<extra></extra>",
         "legendgroup": "BR + w/in 1km of Natural Areas",
         "marker": {
          "color": "rgb(220, 176, 242)",
          "pattern": {
           "shape": ""
          }
         },
         "name": "BR + w/in 1km of Natural Areas",
         "offsetgroup": "BR + w/in 1km of Natural Areas",
         "orientation": "v",
         "showlegend": false,
         "textposition": "auto",
         "type": "bar",
         "x": [
          "BR + w/in 1km of Natural Areas"
         ],
         "xaxis": "x5",
         "y": [
          95328
         ],
         "yaxis": "y5"
        },
        {
         "alignmentgroup": "True",
         "hovertemplate": "variable=%{x}<br>region_name=oregon<br>value=%{y}<extra></extra>",
         "legendgroup": "BR + w/in 1km of Natural Areas",
         "marker": {
          "color": "rgb(220, 176, 242)",
          "pattern": {
           "shape": ""
          }
         },
         "name": "BR + w/in 1km of Natural Areas",
         "offsetgroup": "BR + w/in 1km of Natural Areas",
         "orientation": "v",
         "showlegend": false,
         "textposition": "auto",
         "type": "bar",
         "x": [
          "BR + w/in 1km of Natural Areas"
         ],
         "xaxis": "x4",
         "y": [
          50877
         ],
         "yaxis": "y4"
        },
        {
         "alignmentgroup": "True",
         "hovertemplate": "variable=%{x}<br>region_name=utah<br>value=%{y}<extra></extra>",
         "legendgroup": "BR + w/in 1km of Natural Areas",
         "marker": {
          "color": "rgb(220, 176, 242)",
          "pattern": {
           "shape": ""
          }
         },
         "name": "BR + w/in 1km of Natural Areas",
         "offsetgroup": "BR + w/in 1km of Natural Areas",
         "orientation": "v",
         "showlegend": false,
         "textposition": "auto",
         "type": "bar",
         "x": [
          "BR + w/in 1km of Natural Areas"
         ],
         "xaxis": "x3",
         "y": [
          55520
         ],
         "yaxis": "y3"
        },
        {
         "alignmentgroup": "True",
         "hovertemplate": "variable=%{x}<br>region_name=washington<br>value=%{y}<extra></extra>",
         "legendgroup": "BR + w/in 1km of Natural Areas",
         "marker": {
          "color": "rgb(220, 176, 242)",
          "pattern": {
           "shape": ""
          }
         },
         "name": "BR + w/in 1km of Natural Areas",
         "offsetgroup": "BR + w/in 1km of Natural Areas",
         "orientation": "v",
         "showlegend": false,
         "textposition": "auto",
         "type": "bar",
         "x": [
          "BR + w/in 1km of Natural Areas"
         ],
         "xaxis": "x2",
         "y": [
          52188
         ],
         "yaxis": "y2"
        },
        {
         "alignmentgroup": "True",
         "hovertemplate": "variable=%{x}<br>region_name=wyoming<br>value=%{y}<extra></extra>",
         "legendgroup": "BR + w/in 1km of Natural Areas",
         "marker": {
          "color": "rgb(220, 176, 242)",
          "pattern": {
           "shape": ""
          }
         },
         "name": "BR + w/in 1km of Natural Areas",
         "offsetgroup": "BR + w/in 1km of Natural Areas",
         "orientation": "v",
         "showlegend": false,
         "textposition": "auto",
         "type": "bar",
         "x": [
          "BR + w/in 1km of Natural Areas"
         ],
         "xaxis": "x",
         "y": [
          134216
         ],
         "yaxis": "y"
        },
        {
         "alignmentgroup": "True",
         "hovertemplate": "variable=%{x}<br>region_name=arizona<br>value=%{y}<extra></extra>",
         "legendgroup": "BR + w/in 5km of Natural Areas",
         "marker": {
          "color": "rgb(135, 197, 95)",
          "pattern": {
           "shape": ""
          }
         },
         "name": "BR + w/in 5km of Natural Areas",
         "offsetgroup": "BR + w/in 5km of Natural Areas",
         "orientation": "v",
         "showlegend": true,
         "textposition": "auto",
         "type": "bar",
         "x": [
          "BR + w/in 5km of Natural Areas"
         ],
         "xaxis": "x11",
         "y": [
          96083
         ],
         "yaxis": "y11"
        },
        {
         "alignmentgroup": "True",
         "hovertemplate": "variable=%{x}<br>region_name=california<br>value=%{y}<extra></extra>",
         "legendgroup": "BR + w/in 5km of Natural Areas",
         "marker": {
          "color": "rgb(135, 197, 95)",
          "pattern": {
           "shape": ""
          }
         },
         "name": "BR + w/in 5km of Natural Areas",
         "offsetgroup": "BR + w/in 5km of Natural Areas",
         "orientation": "v",
         "showlegend": false,
         "textposition": "auto",
         "type": "bar",
         "x": [
          "BR + w/in 5km of Natural Areas"
         ],
         "xaxis": "x10",
         "y": [
          35956
         ],
         "yaxis": "y10"
        },
        {
         "alignmentgroup": "True",
         "hovertemplate": "variable=%{x}<br>region_name=colorado<br>value=%{y}<extra></extra>",
         "legendgroup": "BR + w/in 5km of Natural Areas",
         "marker": {
          "color": "rgb(135, 197, 95)",
          "pattern": {
           "shape": ""
          }
         },
         "name": "BR + w/in 5km of Natural Areas",
         "offsetgroup": "BR + w/in 5km of Natural Areas",
         "orientation": "v",
         "showlegend": false,
         "textposition": "auto",
         "type": "bar",
         "x": [
          "BR + w/in 5km of Natural Areas"
         ],
         "xaxis": "x9",
         "y": [
          74108
         ],
         "yaxis": "y9"
        },
        {
         "alignmentgroup": "True",
         "hovertemplate": "variable=%{x}<br>region_name=idaho<br>value=%{y}<extra></extra>",
         "legendgroup": "BR + w/in 5km of Natural Areas",
         "marker": {
          "color": "rgb(135, 197, 95)",
          "pattern": {
           "shape": ""
          }
         },
         "name": "BR + w/in 5km of Natural Areas",
         "offsetgroup": "BR + w/in 5km of Natural Areas",
         "orientation": "v",
         "showlegend": false,
         "textposition": "auto",
         "type": "bar",
         "x": [
          "BR + w/in 5km of Natural Areas"
         ],
         "xaxis": "x8",
         "y": [
          24823
         ],
         "yaxis": "y8"
        },
        {
         "alignmentgroup": "True",
         "hovertemplate": "variable=%{x}<br>region_name=montana<br>value=%{y}<extra></extra>",
         "legendgroup": "BR + w/in 5km of Natural Areas",
         "marker": {
          "color": "rgb(135, 197, 95)",
          "pattern": {
           "shape": ""
          }
         },
         "name": "BR + w/in 5km of Natural Areas",
         "offsetgroup": "BR + w/in 5km of Natural Areas",
         "orientation": "v",
         "showlegend": false,
         "textposition": "auto",
         "type": "bar",
         "x": [
          "BR + w/in 5km of Natural Areas"
         ],
         "xaxis": "x7",
         "y": [
          73973
         ],
         "yaxis": "y7"
        },
        {
         "alignmentgroup": "True",
         "hovertemplate": "variable=%{x}<br>region_name=new_mexico<br>value=%{y}<extra></extra>",
         "legendgroup": "BR + w/in 5km of Natural Areas",
         "marker": {
          "color": "rgb(135, 197, 95)",
          "pattern": {
           "shape": ""
          }
         },
         "name": "BR + w/in 5km of Natural Areas",
         "offsetgroup": "BR + w/in 5km of Natural Areas",
         "orientation": "v",
         "showlegend": false,
         "textposition": "auto",
         "type": "bar",
         "x": [
          "BR + w/in 5km of Natural Areas"
         ],
         "xaxis": "x6",
         "y": [
          140879
         ],
         "yaxis": "y6"
        },
        {
         "alignmentgroup": "True",
         "hovertemplate": "variable=%{x}<br>region_name=nevada<br>value=%{y}<extra></extra>",
         "legendgroup": "BR + w/in 5km of Natural Areas",
         "marker": {
          "color": "rgb(135, 197, 95)",
          "pattern": {
           "shape": ""
          }
         },
         "name": "BR + w/in 5km of Natural Areas",
         "offsetgroup": "BR + w/in 5km of Natural Areas",
         "orientation": "v",
         "showlegend": false,
         "textposition": "auto",
         "type": "bar",
         "x": [
          "BR + w/in 5km of Natural Areas"
         ],
         "xaxis": "x5",
         "y": [
          58064
         ],
         "yaxis": "y5"
        },
        {
         "alignmentgroup": "True",
         "hovertemplate": "variable=%{x}<br>region_name=oregon<br>value=%{y}<extra></extra>",
         "legendgroup": "BR + w/in 5km of Natural Areas",
         "marker": {
          "color": "rgb(135, 197, 95)",
          "pattern": {
           "shape": ""
          }
         },
         "name": "BR + w/in 5km of Natural Areas",
         "offsetgroup": "BR + w/in 5km of Natural Areas",
         "orientation": "v",
         "showlegend": false,
         "textposition": "auto",
         "type": "bar",
         "x": [
          "BR + w/in 5km of Natural Areas"
         ],
         "xaxis": "x4",
         "y": [
          24900
         ],
         "yaxis": "y4"
        },
        {
         "alignmentgroup": "True",
         "hovertemplate": "variable=%{x}<br>region_name=utah<br>value=%{y}<extra></extra>",
         "legendgroup": "BR + w/in 5km of Natural Areas",
         "marker": {
          "color": "rgb(135, 197, 95)",
          "pattern": {
           "shape": ""
          }
         },
         "name": "BR + w/in 5km of Natural Areas",
         "offsetgroup": "BR + w/in 5km of Natural Areas",
         "orientation": "v",
         "showlegend": false,
         "textposition": "auto",
         "type": "bar",
         "x": [
          "BR + w/in 5km of Natural Areas"
         ],
         "xaxis": "x3",
         "y": [
          35567
         ],
         "yaxis": "y3"
        },
        {
         "alignmentgroup": "True",
         "hovertemplate": "variable=%{x}<br>region_name=washington<br>value=%{y}<extra></extra>",
         "legendgroup": "BR + w/in 5km of Natural Areas",
         "marker": {
          "color": "rgb(135, 197, 95)",
          "pattern": {
           "shape": ""
          }
         },
         "name": "BR + w/in 5km of Natural Areas",
         "offsetgroup": "BR + w/in 5km of Natural Areas",
         "orientation": "v",
         "showlegend": false,
         "textposition": "auto",
         "type": "bar",
         "x": [
          "BR + w/in 5km of Natural Areas"
         ],
         "xaxis": "x2",
         "y": [
          27573
         ],
         "yaxis": "y2"
        },
        {
         "alignmentgroup": "True",
         "hovertemplate": "variable=%{x}<br>region_name=wyoming<br>value=%{y}<extra></extra>",
         "legendgroup": "BR + w/in 5km of Natural Areas",
         "marker": {
          "color": "rgb(135, 197, 95)",
          "pattern": {
           "shape": ""
          }
         },
         "name": "BR + w/in 5km of Natural Areas",
         "offsetgroup": "BR + w/in 5km of Natural Areas",
         "orientation": "v",
         "showlegend": false,
         "textposition": "auto",
         "type": "bar",
         "x": [
          "BR + w/in 5km of Natural Areas"
         ],
         "xaxis": "x",
         "y": [
          77349
         ],
         "yaxis": "y"
        },
        {
         "alignmentgroup": "True",
         "hovertemplate": "variable=%{x}<br>region_name=arizona<br>value=%{y}<extra></extra>",
         "legendgroup": "BR + w/in 10km of Natural Areas",
         "marker": {
          "color": "rgb(158, 185, 243)",
          "pattern": {
           "shape": ""
          }
         },
         "name": "BR + w/in 10km of Natural Areas",
         "offsetgroup": "BR + w/in 10km of Natural Areas",
         "orientation": "v",
         "showlegend": true,
         "textposition": "auto",
         "type": "bar",
         "x": [
          "BR + w/in 10km of Natural Areas"
         ],
         "xaxis": "x11",
         "y": [
          58685
         ],
         "yaxis": "y11"
        },
        {
         "alignmentgroup": "True",
         "hovertemplate": "variable=%{x}<br>region_name=california<br>value=%{y}<extra></extra>",
         "legendgroup": "BR + w/in 10km of Natural Areas",
         "marker": {
          "color": "rgb(158, 185, 243)",
          "pattern": {
           "shape": ""
          }
         },
         "name": "BR + w/in 10km of Natural Areas",
         "offsetgroup": "BR + w/in 10km of Natural Areas",
         "orientation": "v",
         "showlegend": false,
         "textposition": "auto",
         "type": "bar",
         "x": [
          "BR + w/in 10km of Natural Areas"
         ],
         "xaxis": "x10",
         "y": [
          12363
         ],
         "yaxis": "y10"
        },
        {
         "alignmentgroup": "True",
         "hovertemplate": "variable=%{x}<br>region_name=colorado<br>value=%{y}<extra></extra>",
         "legendgroup": "BR + w/in 10km of Natural Areas",
         "marker": {
          "color": "rgb(158, 185, 243)",
          "pattern": {
           "shape": ""
          }
         },
         "name": "BR + w/in 10km of Natural Areas",
         "offsetgroup": "BR + w/in 10km of Natural Areas",
         "orientation": "v",
         "showlegend": false,
         "textposition": "auto",
         "type": "bar",
         "x": [
          "BR + w/in 10km of Natural Areas"
         ],
         "xaxis": "x9",
         "y": [
          44812
         ],
         "yaxis": "y9"
        },
        {
         "alignmentgroup": "True",
         "hovertemplate": "variable=%{x}<br>region_name=idaho<br>value=%{y}<extra></extra>",
         "legendgroup": "BR + w/in 10km of Natural Areas",
         "marker": {
          "color": "rgb(158, 185, 243)",
          "pattern": {
           "shape": ""
          }
         },
         "name": "BR + w/in 10km of Natural Areas",
         "offsetgroup": "BR + w/in 10km of Natural Areas",
         "orientation": "v",
         "showlegend": false,
         "textposition": "auto",
         "type": "bar",
         "x": [
          "BR + w/in 10km of Natural Areas"
         ],
         "xaxis": "x8",
         "y": [
          7220
         ],
         "yaxis": "y8"
        },
        {
         "alignmentgroup": "True",
         "hovertemplate": "variable=%{x}<br>region_name=montana<br>value=%{y}<extra></extra>",
         "legendgroup": "BR + w/in 10km of Natural Areas",
         "marker": {
          "color": "rgb(158, 185, 243)",
          "pattern": {
           "shape": ""
          }
         },
         "name": "BR + w/in 10km of Natural Areas",
         "offsetgroup": "BR + w/in 10km of Natural Areas",
         "orientation": "v",
         "showlegend": false,
         "textposition": "auto",
         "type": "bar",
         "x": [
          "BR + w/in 10km of Natural Areas"
         ],
         "xaxis": "x7",
         "y": [
          22620
         ],
         "yaxis": "y7"
        },
        {
         "alignmentgroup": "True",
         "hovertemplate": "variable=%{x}<br>region_name=new_mexico<br>value=%{y}<extra></extra>",
         "legendgroup": "BR + w/in 10km of Natural Areas",
         "marker": {
          "color": "rgb(158, 185, 243)",
          "pattern": {
           "shape": ""
          }
         },
         "name": "BR + w/in 10km of Natural Areas",
         "offsetgroup": "BR + w/in 10km of Natural Areas",
         "orientation": "v",
         "showlegend": false,
         "textposition": "auto",
         "type": "bar",
         "x": [
          "BR + w/in 10km of Natural Areas"
         ],
         "xaxis": "x6",
         "y": [
          95623
         ],
         "yaxis": "y6"
        },
        {
         "alignmentgroup": "True",
         "hovertemplate": "variable=%{x}<br>region_name=nevada<br>value=%{y}<extra></extra>",
         "legendgroup": "BR + w/in 10km of Natural Areas",
         "marker": {
          "color": "rgb(158, 185, 243)",
          "pattern": {
           "shape": ""
          }
         },
         "name": "BR + w/in 10km of Natural Areas",
         "offsetgroup": "BR + w/in 10km of Natural Areas",
         "orientation": "v",
         "showlegend": false,
         "textposition": "auto",
         "type": "bar",
         "x": [
          "BR + w/in 10km of Natural Areas"
         ],
         "xaxis": "x5",
         "y": [
          31555
         ],
         "yaxis": "y5"
        },
        {
         "alignmentgroup": "True",
         "hovertemplate": "variable=%{x}<br>region_name=oregon<br>value=%{y}<extra></extra>",
         "legendgroup": "BR + w/in 10km of Natural Areas",
         "marker": {
          "color": "rgb(158, 185, 243)",
          "pattern": {
           "shape": ""
          }
         },
         "name": "BR + w/in 10km of Natural Areas",
         "offsetgroup": "BR + w/in 10km of Natural Areas",
         "orientation": "v",
         "showlegend": false,
         "textposition": "auto",
         "type": "bar",
         "x": [
          "BR + w/in 10km of Natural Areas"
         ],
         "xaxis": "x4",
         "y": [
          9672
         ],
         "yaxis": "y4"
        },
        {
         "alignmentgroup": "True",
         "hovertemplate": "variable=%{x}<br>region_name=utah<br>value=%{y}<extra></extra>",
         "legendgroup": "BR + w/in 10km of Natural Areas",
         "marker": {
          "color": "rgb(158, 185, 243)",
          "pattern": {
           "shape": ""
          }
         },
         "name": "BR + w/in 10km of Natural Areas",
         "offsetgroup": "BR + w/in 10km of Natural Areas",
         "orientation": "v",
         "showlegend": false,
         "textposition": "auto",
         "type": "bar",
         "x": [
          "BR + w/in 10km of Natural Areas"
         ],
         "xaxis": "x3",
         "y": [
          20191
         ],
         "yaxis": "y3"
        },
        {
         "alignmentgroup": "True",
         "hovertemplate": "variable=%{x}<br>region_name=washington<br>value=%{y}<extra></extra>",
         "legendgroup": "BR + w/in 10km of Natural Areas",
         "marker": {
          "color": "rgb(158, 185, 243)",
          "pattern": {
           "shape": ""
          }
         },
         "name": "BR + w/in 10km of Natural Areas",
         "offsetgroup": "BR + w/in 10km of Natural Areas",
         "orientation": "v",
         "showlegend": false,
         "textposition": "auto",
         "type": "bar",
         "x": [
          "BR + w/in 10km of Natural Areas"
         ],
         "xaxis": "x2",
         "y": [
          11489
         ],
         "yaxis": "y2"
        },
        {
         "alignmentgroup": "True",
         "hovertemplate": "variable=%{x}<br>region_name=wyoming<br>value=%{y}<extra></extra>",
         "legendgroup": "BR + w/in 10km of Natural Areas",
         "marker": {
          "color": "rgb(158, 185, 243)",
          "pattern": {
           "shape": ""
          }
         },
         "name": "BR + w/in 10km of Natural Areas",
         "offsetgroup": "BR + w/in 10km of Natural Areas",
         "orientation": "v",
         "showlegend": false,
         "textposition": "auto",
         "type": "bar",
         "x": [
          "BR + w/in 10km of Natural Areas"
         ],
         "xaxis": "x",
         "y": [
          35279
         ],
         "yaxis": "y"
        },
        {
         "alignmentgroup": "True",
         "hovertemplate": "variable=%{x}<br>region_name=arizona<br>value=%{y}<extra></extra>",
         "legendgroup": "BR + DACS, w/in 5km of Natural Area, and Important Farmland",
         "marker": {
          "color": "rgb(254, 136, 177)",
          "pattern": {
           "shape": ""
          }
         },
         "name": "BR + DACS, w/in 5km of Natural Area, and Important Farmland",
         "offsetgroup": "BR + DACS, w/in 5km of Natural Area, and Important Farmland",
         "orientation": "v",
         "showlegend": true,
         "textposition": "auto",
         "type": "bar",
         "x": [
          "BR + DACS, w/in 5km of Natural Area, and Important Farmland"
         ],
         "xaxis": "x11",
         "y": [
          29037
         ],
         "yaxis": "y11"
        },
        {
         "alignmentgroup": "True",
         "hovertemplate": "variable=%{x}<br>region_name=california<br>value=%{y}<extra></extra>",
         "legendgroup": "BR + DACS, w/in 5km of Natural Area, and Important Farmland",
         "marker": {
          "color": "rgb(254, 136, 177)",
          "pattern": {
           "shape": ""
          }
         },
         "name": "BR + DACS, w/in 5km of Natural Area, and Important Farmland",
         "offsetgroup": "BR + DACS, w/in 5km of Natural Area, and Important Farmland",
         "orientation": "v",
         "showlegend": false,
         "textposition": "auto",
         "type": "bar",
         "x": [
          "BR + DACS, w/in 5km of Natural Area, and Important Farmland"
         ],
         "xaxis": "x10",
         "y": [
          11447
         ],
         "yaxis": "y10"
        },
        {
         "alignmentgroup": "True",
         "hovertemplate": "variable=%{x}<br>region_name=colorado<br>value=%{y}<extra></extra>",
         "legendgroup": "BR + DACS, w/in 5km of Natural Area, and Important Farmland",
         "marker": {
          "color": "rgb(254, 136, 177)",
          "pattern": {
           "shape": ""
          }
         },
         "name": "BR + DACS, w/in 5km of Natural Area, and Important Farmland",
         "offsetgroup": "BR + DACS, w/in 5km of Natural Area, and Important Farmland",
         "orientation": "v",
         "showlegend": false,
         "textposition": "auto",
         "type": "bar",
         "x": [
          "BR + DACS, w/in 5km of Natural Area, and Important Farmland"
         ],
         "xaxis": "x9",
         "y": [
          33028
         ],
         "yaxis": "y9"
        },
        {
         "alignmentgroup": "True",
         "hovertemplate": "variable=%{x}<br>region_name=idaho<br>value=%{y}<extra></extra>",
         "legendgroup": "BR + DACS, w/in 5km of Natural Area, and Important Farmland",
         "marker": {
          "color": "rgb(254, 136, 177)",
          "pattern": {
           "shape": ""
          }
         },
         "name": "BR + DACS, w/in 5km of Natural Area, and Important Farmland",
         "offsetgroup": "BR + DACS, w/in 5km of Natural Area, and Important Farmland",
         "orientation": "v",
         "showlegend": false,
         "textposition": "auto",
         "type": "bar",
         "x": [
          "BR + DACS, w/in 5km of Natural Area, and Important Farmland"
         ],
         "xaxis": "x8",
         "y": [
          5924
         ],
         "yaxis": "y8"
        },
        {
         "alignmentgroup": "True",
         "hovertemplate": "variable=%{x}<br>region_name=montana<br>value=%{y}<extra></extra>",
         "legendgroup": "BR + DACS, w/in 5km of Natural Area, and Important Farmland",
         "marker": {
          "color": "rgb(254, 136, 177)",
          "pattern": {
           "shape": ""
          }
         },
         "name": "BR + DACS, w/in 5km of Natural Area, and Important Farmland",
         "offsetgroup": "BR + DACS, w/in 5km of Natural Area, and Important Farmland",
         "orientation": "v",
         "showlegend": false,
         "textposition": "auto",
         "type": "bar",
         "x": [
          "BR + DACS, w/in 5km of Natural Area, and Important Farmland"
         ],
         "xaxis": "x7",
         "y": [
          34122
         ],
         "yaxis": "y7"
        },
        {
         "alignmentgroup": "True",
         "hovertemplate": "variable=%{x}<br>region_name=new_mexico<br>value=%{y}<extra></extra>",
         "legendgroup": "BR + DACS, w/in 5km of Natural Area, and Important Farmland",
         "marker": {
          "color": "rgb(254, 136, 177)",
          "pattern": {
           "shape": ""
          }
         },
         "name": "BR + DACS, w/in 5km of Natural Area, and Important Farmland",
         "offsetgroup": "BR + DACS, w/in 5km of Natural Area, and Important Farmland",
         "orientation": "v",
         "showlegend": false,
         "textposition": "auto",
         "type": "bar",
         "x": [
          "BR + DACS, w/in 5km of Natural Area, and Important Farmland"
         ],
         "xaxis": "x6",
         "y": [
          13895
         ],
         "yaxis": "y6"
        },
        {
         "alignmentgroup": "True",
         "hovertemplate": "variable=%{x}<br>region_name=nevada<br>value=%{y}<extra></extra>",
         "legendgroup": "BR + DACS, w/in 5km of Natural Area, and Important Farmland",
         "marker": {
          "color": "rgb(254, 136, 177)",
          "pattern": {
           "shape": ""
          }
         },
         "name": "BR + DACS, w/in 5km of Natural Area, and Important Farmland",
         "offsetgroup": "BR + DACS, w/in 5km of Natural Area, and Important Farmland",
         "orientation": "v",
         "showlegend": false,
         "textposition": "auto",
         "type": "bar",
         "x": [
          "BR + DACS, w/in 5km of Natural Area, and Important Farmland"
         ],
         "xaxis": "x5",
         "y": [
          43722
         ],
         "yaxis": "y5"
        },
        {
         "alignmentgroup": "True",
         "hovertemplate": "variable=%{x}<br>region_name=oregon<br>value=%{y}<extra></extra>",
         "legendgroup": "BR + DACS, w/in 5km of Natural Area, and Important Farmland",
         "marker": {
          "color": "rgb(254, 136, 177)",
          "pattern": {
           "shape": ""
          }
         },
         "name": "BR + DACS, w/in 5km of Natural Area, and Important Farmland",
         "offsetgroup": "BR + DACS, w/in 5km of Natural Area, and Important Farmland",
         "orientation": "v",
         "showlegend": false,
         "textposition": "auto",
         "type": "bar",
         "x": [
          "BR + DACS, w/in 5km of Natural Area, and Important Farmland"
         ],
         "xaxis": "x4",
         "y": [
          1582
         ],
         "yaxis": "y4"
        },
        {
         "alignmentgroup": "True",
         "hovertemplate": "variable=%{x}<br>region_name=utah<br>value=%{y}<extra></extra>",
         "legendgroup": "BR + DACS, w/in 5km of Natural Area, and Important Farmland",
         "marker": {
          "color": "rgb(254, 136, 177)",
          "pattern": {
           "shape": ""
          }
         },
         "name": "BR + DACS, w/in 5km of Natural Area, and Important Farmland",
         "offsetgroup": "BR + DACS, w/in 5km of Natural Area, and Important Farmland",
         "orientation": "v",
         "showlegend": false,
         "textposition": "auto",
         "type": "bar",
         "x": [
          "BR + DACS, w/in 5km of Natural Area, and Important Farmland"
         ],
         "xaxis": "x3",
         "y": [
          19698
         ],
         "yaxis": "y3"
        },
        {
         "alignmentgroup": "True",
         "hovertemplate": "variable=%{x}<br>region_name=washington<br>value=%{y}<extra></extra>",
         "legendgroup": "BR + DACS, w/in 5km of Natural Area, and Important Farmland",
         "marker": {
          "color": "rgb(254, 136, 177)",
          "pattern": {
           "shape": ""
          }
         },
         "name": "BR + DACS, w/in 5km of Natural Area, and Important Farmland",
         "offsetgroup": "BR + DACS, w/in 5km of Natural Area, and Important Farmland",
         "orientation": "v",
         "showlegend": false,
         "textposition": "auto",
         "type": "bar",
         "x": [
          "BR + DACS, w/in 5km of Natural Area, and Important Farmland"
         ],
         "xaxis": "x2",
         "y": [
          5980
         ],
         "yaxis": "y2"
        },
        {
         "alignmentgroup": "True",
         "hovertemplate": "variable=%{x}<br>region_name=wyoming<br>value=%{y}<extra></extra>",
         "legendgroup": "BR + DACS, w/in 5km of Natural Area, and Important Farmland",
         "marker": {
          "color": "rgb(254, 136, 177)",
          "pattern": {
           "shape": ""
          }
         },
         "name": "BR + DACS, w/in 5km of Natural Area, and Important Farmland",
         "offsetgroup": "BR + DACS, w/in 5km of Natural Area, and Important Farmland",
         "orientation": "v",
         "showlegend": false,
         "textposition": "auto",
         "type": "bar",
         "x": [
          "BR + DACS, w/in 5km of Natural Area, and Important Farmland"
         ],
         "xaxis": "x",
         "y": [
          66940
         ],
         "yaxis": "y"
        },
        {
         "alignmentgroup": "True",
         "hovertemplate": "variable=%{x}<br>region_name=arizona<br>value=%{y}<extra></extra>",
         "legendgroup": "BR + w/in 5km of Natural Area and Important Farmland",
         "marker": {
          "color": "rgb(201, 219, 116)",
          "pattern": {
           "shape": ""
          }
         },
         "name": "BR + w/in 5km of Natural Area and Important Farmland",
         "offsetgroup": "BR + w/in 5km of Natural Area and Important Farmland",
         "orientation": "v",
         "showlegend": true,
         "textposition": "auto",
         "type": "bar",
         "x": [
          "BR + w/in 5km of Natural Area and Important Farmland"
         ],
         "xaxis": "x11",
         "y": [
          94923
         ],
         "yaxis": "y11"
        },
        {
         "alignmentgroup": "True",
         "hovertemplate": "variable=%{x}<br>region_name=california<br>value=%{y}<extra></extra>",
         "legendgroup": "BR + w/in 5km of Natural Area and Important Farmland",
         "marker": {
          "color": "rgb(201, 219, 116)",
          "pattern": {
           "shape": ""
          }
         },
         "name": "BR + w/in 5km of Natural Area and Important Farmland",
         "offsetgroup": "BR + w/in 5km of Natural Area and Important Farmland",
         "orientation": "v",
         "showlegend": false,
         "textposition": "auto",
         "type": "bar",
         "x": [
          "BR + w/in 5km of Natural Area and Important Farmland"
         ],
         "xaxis": "x10",
         "y": [
          28055
         ],
         "yaxis": "y10"
        },
        {
         "alignmentgroup": "True",
         "hovertemplate": "variable=%{x}<br>region_name=colorado<br>value=%{y}<extra></extra>",
         "legendgroup": "BR + w/in 5km of Natural Area and Important Farmland",
         "marker": {
          "color": "rgb(201, 219, 116)",
          "pattern": {
           "shape": ""
          }
         },
         "name": "BR + w/in 5km of Natural Area and Important Farmland",
         "offsetgroup": "BR + w/in 5km of Natural Area and Important Farmland",
         "orientation": "v",
         "showlegend": false,
         "textposition": "auto",
         "type": "bar",
         "x": [
          "BR + w/in 5km of Natural Area and Important Farmland"
         ],
         "xaxis": "x9",
         "y": [
          67459
         ],
         "yaxis": "y9"
        },
        {
         "alignmentgroup": "True",
         "hovertemplate": "variable=%{x}<br>region_name=idaho<br>value=%{y}<extra></extra>",
         "legendgroup": "BR + w/in 5km of Natural Area and Important Farmland",
         "marker": {
          "color": "rgb(201, 219, 116)",
          "pattern": {
           "shape": ""
          }
         },
         "name": "BR + w/in 5km of Natural Area and Important Farmland",
         "offsetgroup": "BR + w/in 5km of Natural Area and Important Farmland",
         "orientation": "v",
         "showlegend": false,
         "textposition": "auto",
         "type": "bar",
         "x": [
          "BR + w/in 5km of Natural Area and Important Farmland"
         ],
         "xaxis": "x8",
         "y": [
          24319
         ],
         "yaxis": "y8"
        },
        {
         "alignmentgroup": "True",
         "hovertemplate": "variable=%{x}<br>region_name=montana<br>value=%{y}<extra></extra>",
         "legendgroup": "BR + w/in 5km of Natural Area and Important Farmland",
         "marker": {
          "color": "rgb(201, 219, 116)",
          "pattern": {
           "shape": ""
          }
         },
         "name": "BR + w/in 5km of Natural Area and Important Farmland",
         "offsetgroup": "BR + w/in 5km of Natural Area and Important Farmland",
         "orientation": "v",
         "showlegend": false,
         "textposition": "auto",
         "type": "bar",
         "x": [
          "BR + w/in 5km of Natural Area and Important Farmland"
         ],
         "xaxis": "x7",
         "y": [
          63629
         ],
         "yaxis": "y7"
        },
        {
         "alignmentgroup": "True",
         "hovertemplate": "variable=%{x}<br>region_name=new_mexico<br>value=%{y}<extra></extra>",
         "legendgroup": "BR + w/in 5km of Natural Area and Important Farmland",
         "marker": {
          "color": "rgb(201, 219, 116)",
          "pattern": {
           "shape": ""
          }
         },
         "name": "BR + w/in 5km of Natural Area and Important Farmland",
         "offsetgroup": "BR + w/in 5km of Natural Area and Important Farmland",
         "orientation": "v",
         "showlegend": false,
         "textposition": "auto",
         "type": "bar",
         "x": [
          "BR + w/in 5km of Natural Area and Important Farmland"
         ],
         "xaxis": "x6",
         "y": [
          123471
         ],
         "yaxis": "y6"
        },
        {
         "alignmentgroup": "True",
         "hovertemplate": "variable=%{x}<br>region_name=nevada<br>value=%{y}<extra></extra>",
         "legendgroup": "BR + w/in 5km of Natural Area and Important Farmland",
         "marker": {
          "color": "rgb(201, 219, 116)",
          "pattern": {
           "shape": ""
          }
         },
         "name": "BR + w/in 5km of Natural Area and Important Farmland",
         "offsetgroup": "BR + w/in 5km of Natural Area and Important Farmland",
         "orientation": "v",
         "showlegend": false,
         "textposition": "auto",
         "type": "bar",
         "x": [
          "BR + w/in 5km of Natural Area and Important Farmland"
         ],
         "xaxis": "x5",
         "y": [
          58022
         ],
         "yaxis": "y5"
        },
        {
         "alignmentgroup": "True",
         "hovertemplate": "variable=%{x}<br>region_name=oregon<br>value=%{y}<extra></extra>",
         "legendgroup": "BR + w/in 5km of Natural Area and Important Farmland",
         "marker": {
          "color": "rgb(201, 219, 116)",
          "pattern": {
           "shape": ""
          }
         },
         "name": "BR + w/in 5km of Natural Area and Important Farmland",
         "offsetgroup": "BR + w/in 5km of Natural Area and Important Farmland",
         "orientation": "v",
         "showlegend": false,
         "textposition": "auto",
         "type": "bar",
         "x": [
          "BR + w/in 5km of Natural Area and Important Farmland"
         ],
         "xaxis": "x4",
         "y": [
          10776
         ],
         "yaxis": "y4"
        },
        {
         "alignmentgroup": "True",
         "hovertemplate": "variable=%{x}<br>region_name=utah<br>value=%{y}<extra></extra>",
         "legendgroup": "BR + w/in 5km of Natural Area and Important Farmland",
         "marker": {
          "color": "rgb(201, 219, 116)",
          "pattern": {
           "shape": ""
          }
         },
         "name": "BR + w/in 5km of Natural Area and Important Farmland",
         "offsetgroup": "BR + w/in 5km of Natural Area and Important Farmland",
         "orientation": "v",
         "showlegend": false,
         "textposition": "auto",
         "type": "bar",
         "x": [
          "BR + w/in 5km of Natural Area and Important Farmland"
         ],
         "xaxis": "x3",
         "y": [
          33048
         ],
         "yaxis": "y3"
        },
        {
         "alignmentgroup": "True",
         "hovertemplate": "variable=%{x}<br>region_name=washington<br>value=%{y}<extra></extra>",
         "legendgroup": "BR + w/in 5km of Natural Area and Important Farmland",
         "marker": {
          "color": "rgb(201, 219, 116)",
          "pattern": {
           "shape": ""
          }
         },
         "name": "BR + w/in 5km of Natural Area and Important Farmland",
         "offsetgroup": "BR + w/in 5km of Natural Area and Important Farmland",
         "orientation": "v",
         "showlegend": false,
         "textposition": "auto",
         "type": "bar",
         "x": [
          "BR + w/in 5km of Natural Area and Important Farmland"
         ],
         "xaxis": "x2",
         "y": [
          14369
         ],
         "yaxis": "y2"
        },
        {
         "alignmentgroup": "True",
         "hovertemplate": "variable=%{x}<br>region_name=wyoming<br>value=%{y}<extra></extra>",
         "legendgroup": "BR + w/in 5km of Natural Area and Important Farmland",
         "marker": {
          "color": "rgb(201, 219, 116)",
          "pattern": {
           "shape": ""
          }
         },
         "name": "BR + w/in 5km of Natural Area and Important Farmland",
         "offsetgroup": "BR + w/in 5km of Natural Area and Important Farmland",
         "orientation": "v",
         "showlegend": false,
         "textposition": "auto",
         "type": "bar",
         "x": [
          "BR + w/in 5km of Natural Area and Important Farmland"
         ],
         "xaxis": "x",
         "y": [
          76781
         ],
         "yaxis": "y"
        },
        {
         "alignmentgroup": "True",
         "hovertemplate": "variable=%{x}<br>region_name=arizona<br>value=%{y}<extra></extra>",
         "legendgroup": "BR + w/in 10km of Natural Area and Important Farmland",
         "marker": {
          "color": "rgb(139, 224, 164)",
          "pattern": {
           "shape": ""
          }
         },
         "name": "BR + w/in 10km of Natural Area and Important Farmland",
         "offsetgroup": "BR + w/in 10km of Natural Area and Important Farmland",
         "orientation": "v",
         "showlegend": true,
         "textposition": "auto",
         "type": "bar",
         "x": [
          "BR + w/in 10km of Natural Area and Important Farmland"
         ],
         "xaxis": "x11",
         "y": [
          58270
         ],
         "yaxis": "y11"
        },
        {
         "alignmentgroup": "True",
         "hovertemplate": "variable=%{x}<br>region_name=california<br>value=%{y}<extra></extra>",
         "legendgroup": "BR + w/in 10km of Natural Area and Important Farmland",
         "marker": {
          "color": "rgb(139, 224, 164)",
          "pattern": {
           "shape": ""
          }
         },
         "name": "BR + w/in 10km of Natural Area and Important Farmland",
         "offsetgroup": "BR + w/in 10km of Natural Area and Important Farmland",
         "orientation": "v",
         "showlegend": false,
         "textposition": "auto",
         "type": "bar",
         "x": [
          "BR + w/in 10km of Natural Area and Important Farmland"
         ],
         "xaxis": "x10",
         "y": [
          9345
         ],
         "yaxis": "y10"
        },
        {
         "alignmentgroup": "True",
         "hovertemplate": "variable=%{x}<br>region_name=colorado<br>value=%{y}<extra></extra>",
         "legendgroup": "BR + w/in 10km of Natural Area and Important Farmland",
         "marker": {
          "color": "rgb(139, 224, 164)",
          "pattern": {
           "shape": ""
          }
         },
         "name": "BR + w/in 10km of Natural Area and Important Farmland",
         "offsetgroup": "BR + w/in 10km of Natural Area and Important Farmland",
         "orientation": "v",
         "showlegend": false,
         "textposition": "auto",
         "type": "bar",
         "x": [
          "BR + w/in 10km of Natural Area and Important Farmland"
         ],
         "xaxis": "x9",
         "y": [
          40765
         ],
         "yaxis": "y9"
        },
        {
         "alignmentgroup": "True",
         "hovertemplate": "variable=%{x}<br>region_name=idaho<br>value=%{y}<extra></extra>",
         "legendgroup": "BR + w/in 10km of Natural Area and Important Farmland",
         "marker": {
          "color": "rgb(139, 224, 164)",
          "pattern": {
           "shape": ""
          }
         },
         "name": "BR + w/in 10km of Natural Area and Important Farmland",
         "offsetgroup": "BR + w/in 10km of Natural Area and Important Farmland",
         "orientation": "v",
         "showlegend": false,
         "textposition": "auto",
         "type": "bar",
         "x": [
          "BR + w/in 10km of Natural Area and Important Farmland"
         ],
         "xaxis": "x8",
         "y": [
          6999
         ],
         "yaxis": "y8"
        },
        {
         "alignmentgroup": "True",
         "hovertemplate": "variable=%{x}<br>region_name=montana<br>value=%{y}<extra></extra>",
         "legendgroup": "BR + w/in 10km of Natural Area and Important Farmland",
         "marker": {
          "color": "rgb(139, 224, 164)",
          "pattern": {
           "shape": ""
          }
         },
         "name": "BR + w/in 10km of Natural Area and Important Farmland",
         "offsetgroup": "BR + w/in 10km of Natural Area and Important Farmland",
         "orientation": "v",
         "showlegend": false,
         "textposition": "auto",
         "type": "bar",
         "x": [
          "BR + w/in 10km of Natural Area and Important Farmland"
         ],
         "xaxis": "x7",
         "y": [
          19598
         ],
         "yaxis": "y7"
        },
        {
         "alignmentgroup": "True",
         "hovertemplate": "variable=%{x}<br>region_name=new_mexico<br>value=%{y}<extra></extra>",
         "legendgroup": "BR + w/in 10km of Natural Area and Important Farmland",
         "marker": {
          "color": "rgb(139, 224, 164)",
          "pattern": {
           "shape": ""
          }
         },
         "name": "BR + w/in 10km of Natural Area and Important Farmland",
         "offsetgroup": "BR + w/in 10km of Natural Area and Important Farmland",
         "orientation": "v",
         "showlegend": false,
         "textposition": "auto",
         "type": "bar",
         "x": [
          "BR + w/in 10km of Natural Area and Important Farmland"
         ],
         "xaxis": "x6",
         "y": [
          82948
         ],
         "yaxis": "y6"
        },
        {
         "alignmentgroup": "True",
         "hovertemplate": "variable=%{x}<br>region_name=nevada<br>value=%{y}<extra></extra>",
         "legendgroup": "BR + w/in 10km of Natural Area and Important Farmland",
         "marker": {
          "color": "rgb(139, 224, 164)",
          "pattern": {
           "shape": ""
          }
         },
         "name": "BR + w/in 10km of Natural Area and Important Farmland",
         "offsetgroup": "BR + w/in 10km of Natural Area and Important Farmland",
         "orientation": "v",
         "showlegend": false,
         "textposition": "auto",
         "type": "bar",
         "x": [
          "BR + w/in 10km of Natural Area and Important Farmland"
         ],
         "xaxis": "x5",
         "y": [
          31536
         ],
         "yaxis": "y5"
        },
        {
         "alignmentgroup": "True",
         "hovertemplate": "variable=%{x}<br>region_name=oregon<br>value=%{y}<extra></extra>",
         "legendgroup": "BR + w/in 10km of Natural Area and Important Farmland",
         "marker": {
          "color": "rgb(139, 224, 164)",
          "pattern": {
           "shape": ""
          }
         },
         "name": "BR + w/in 10km of Natural Area and Important Farmland",
         "offsetgroup": "BR + w/in 10km of Natural Area and Important Farmland",
         "orientation": "v",
         "showlegend": false,
         "textposition": "auto",
         "type": "bar",
         "x": [
          "BR + w/in 10km of Natural Area and Important Farmland"
         ],
         "xaxis": "x4",
         "y": [
          4147
         ],
         "yaxis": "y4"
        },
        {
         "alignmentgroup": "True",
         "hovertemplate": "variable=%{x}<br>region_name=utah<br>value=%{y}<extra></extra>",
         "legendgroup": "BR + w/in 10km of Natural Area and Important Farmland",
         "marker": {
          "color": "rgb(139, 224, 164)",
          "pattern": {
           "shape": ""
          }
         },
         "name": "BR + w/in 10km of Natural Area and Important Farmland",
         "offsetgroup": "BR + w/in 10km of Natural Area and Important Farmland",
         "orientation": "v",
         "showlegend": false,
         "textposition": "auto",
         "type": "bar",
         "x": [
          "BR + w/in 10km of Natural Area and Important Farmland"
         ],
         "xaxis": "x3",
         "y": [
          19213
         ],
         "yaxis": "y3"
        },
        {
         "alignmentgroup": "True",
         "hovertemplate": "variable=%{x}<br>region_name=washington<br>value=%{y}<extra></extra>",
         "legendgroup": "BR + w/in 10km of Natural Area and Important Farmland",
         "marker": {
          "color": "rgb(139, 224, 164)",
          "pattern": {
           "shape": ""
          }
         },
         "name": "BR + w/in 10km of Natural Area and Important Farmland",
         "offsetgroup": "BR + w/in 10km of Natural Area and Important Farmland",
         "orientation": "v",
         "showlegend": false,
         "textposition": "auto",
         "type": "bar",
         "x": [
          "BR + w/in 10km of Natural Area and Important Farmland"
         ],
         "xaxis": "x2",
         "y": [
          6037
         ],
         "yaxis": "y2"
        },
        {
         "alignmentgroup": "True",
         "hovertemplate": "variable=%{x}<br>region_name=wyoming<br>value=%{y}<extra></extra>",
         "legendgroup": "BR + w/in 10km of Natural Area and Important Farmland",
         "marker": {
          "color": "rgb(139, 224, 164)",
          "pattern": {
           "shape": ""
          }
         },
         "name": "BR + w/in 10km of Natural Area and Important Farmland",
         "offsetgroup": "BR + w/in 10km of Natural Area and Important Farmland",
         "orientation": "v",
         "showlegend": false,
         "textposition": "auto",
         "type": "bar",
         "x": [
          "BR + w/in 10km of Natural Area and Important Farmland"
         ],
         "xaxis": "x",
         "y": [
          35039
         ],
         "yaxis": "y"
        }
       ],
       "layout": {
        "annotations": [
         {
          "showarrow": false,
          "text": "",
          "textangle": 90,
          "x": 0.98,
          "xanchor": "left",
          "xref": "paper",
          "y": 0.031818181818181815,
          "yanchor": "middle",
          "yref": "paper"
         },
         {
          "showarrow": false,
          "text": "",
          "textangle": 90,
          "x": 0.98,
          "xanchor": "left",
          "xref": "paper",
          "y": 0.12545454545454543,
          "yanchor": "middle",
          "yref": "paper"
         },
         {
          "showarrow": false,
          "text": "",
          "textangle": 90,
          "x": 0.98,
          "xanchor": "left",
          "xref": "paper",
          "y": 0.21909090909090906,
          "yanchor": "middle",
          "yref": "paper"
         },
         {
          "showarrow": false,
          "text": "",
          "textangle": 90,
          "x": 0.98,
          "xanchor": "left",
          "xref": "paper",
          "y": 0.3127272727272727,
          "yanchor": "middle",
          "yref": "paper"
         },
         {
          "showarrow": false,
          "text": "",
          "textangle": 90,
          "x": 0.98,
          "xanchor": "left",
          "xref": "paper",
          "y": 0.4063636363636363,
          "yanchor": "middle",
          "yref": "paper"
         },
         {
          "showarrow": false,
          "text": "",
          "textangle": 90,
          "x": 0.98,
          "xanchor": "left",
          "xref": "paper",
          "y": 0.49999999999999994,
          "yanchor": "middle",
          "yref": "paper"
         },
         {
          "showarrow": false,
          "text": "",
          "textangle": 90,
          "x": 0.98,
          "xanchor": "left",
          "xref": "paper",
          "y": 0.5936363636363635,
          "yanchor": "middle",
          "yref": "paper"
         },
         {
          "showarrow": false,
          "text": "",
          "textangle": 90,
          "x": 0.98,
          "xanchor": "left",
          "xref": "paper",
          "y": 0.687272727272727,
          "yanchor": "middle",
          "yref": "paper"
         },
         {
          "showarrow": false,
          "text": "",
          "textangle": 90,
          "x": 0.98,
          "xanchor": "left",
          "xref": "paper",
          "y": 0.7809090909090908,
          "yanchor": "middle",
          "yref": "paper"
         },
         {
          "showarrow": false,
          "text": "",
          "textangle": 90,
          "x": 0.98,
          "xanchor": "left",
          "xref": "paper",
          "y": 0.8745454545454543,
          "yanchor": "middle",
          "yref": "paper"
         },
         {
          "showarrow": false,
          "text": "",
          "textangle": 90,
          "x": 0.98,
          "xanchor": "left",
          "xref": "paper",
          "y": 0.9681818181818178,
          "yanchor": "middle",
          "yref": "paper"
         },
         {
          "font": {
           "size": 16
          },
          "showarrow": false,
          "text": "Arizona",
          "x": 0.5,
          "xref": "paper",
          "y": 1.01,
          "yref": "paper"
         },
         {
          "font": {
           "size": 16
          },
          "showarrow": false,
          "text": "California",
          "x": 0.5,
          "xref": "paper",
          "y": 0.915,
          "yref": "paper"
         },
         {
          "font": {
           "size": 16
          },
          "showarrow": false,
          "text": "Colorado",
          "x": 0.5,
          "xref": "paper",
          "y": 0.8200000000000001,
          "yref": "paper"
         },
         {
          "font": {
           "size": 16
          },
          "showarrow": false,
          "text": "Idaho",
          "x": 0.5,
          "xref": "paper",
          "y": 0.7250000000000001,
          "yref": "paper"
         },
         {
          "font": {
           "size": 16
          },
          "showarrow": false,
          "text": "Montana",
          "x": 0.5,
          "xref": "paper",
          "y": 0.6300000000000001,
          "yref": "paper"
         },
         {
          "font": {
           "size": 16
          },
          "showarrow": false,
          "text": "New_Mexico",
          "x": 0.5,
          "xref": "paper",
          "y": 0.5350000000000001,
          "yref": "paper"
         },
         {
          "font": {
           "size": 16
          },
          "showarrow": false,
          "text": "Nevada",
          "x": 0.5,
          "xref": "paper",
          "y": 0.44000000000000017,
          "yref": "paper"
         },
         {
          "font": {
           "size": 16
          },
          "showarrow": false,
          "text": "Oregon",
          "x": 0.5,
          "xref": "paper",
          "y": 0.3450000000000002,
          "yref": "paper"
         },
         {
          "font": {
           "size": 16
          },
          "showarrow": false,
          "text": "Utah",
          "x": 0.5,
          "xref": "paper",
          "y": 0.2500000000000002,
          "yref": "paper"
         },
         {
          "font": {
           "size": 16
          },
          "showarrow": false,
          "text": "Washington",
          "x": 0.5,
          "xref": "paper",
          "y": 0.15500000000000022,
          "yref": "paper"
         },
         {
          "font": {
           "size": 16
          },
          "showarrow": false,
          "text": "Wyoming",
          "x": 0.5,
          "xref": "paper",
          "y": 0.06000000000000022,
          "yref": "paper"
         },
         {
          "showarrow": false,
          "text": "Clean Grid Required Land by 2035",
          "x": 0,
          "xanchor": "left",
          "xref": "x11 domain",
          "y": 448,
          "yanchor": "bottom",
          "yref": "y11"
         },
         {
          "showarrow": false,
          "text": "Clean Grid Required Land by 2035",
          "x": 0,
          "xanchor": "left",
          "xref": "x10 domain",
          "y": 2259,
          "yanchor": "bottom",
          "yref": "y10"
         },
         {
          "showarrow": false,
          "text": "Clean Grid Required Land by 2035",
          "x": 0,
          "xanchor": "left",
          "xref": "x9 domain",
          "y": 1103,
          "yanchor": "bottom",
          "yref": "y9"
         },
         {
          "showarrow": false,
          "text": "Clean Grid Required Land by 2035",
          "x": 0,
          "xanchor": "left",
          "xref": "x8 domain",
          "y": 248,
          "yanchor": "bottom",
          "yref": "y8"
         },
         {
          "showarrow": false,
          "text": "Clean Grid Required Land by 2035",
          "x": 0,
          "xanchor": "left",
          "xref": "x7 domain",
          "y": 2142,
          "yanchor": "bottom",
          "yref": "y7"
         },
         {
          "showarrow": false,
          "text": "Clean Grid Required Land by 2035",
          "x": 0,
          "xanchor": "left",
          "xref": "x6 domain",
          "y": 759,
          "yanchor": "bottom",
          "yref": "y6"
         },
         {
          "showarrow": false,
          "text": "Clean Grid Required Land by 2035",
          "x": 0,
          "xanchor": "left",
          "xref": "x5 domain",
          "y": 175,
          "yanchor": "bottom",
          "yref": "y5"
         },
         {
          "showarrow": false,
          "text": "Clean Grid Required Land by 2035",
          "x": 0,
          "xanchor": "left",
          "xref": "x4 domain",
          "y": 527,
          "yanchor": "bottom",
          "yref": "y4"
         },
         {
          "showarrow": false,
          "text": "Clean Grid Required Land by 2035",
          "x": 0,
          "xanchor": "left",
          "xref": "x3 domain",
          "y": 606,
          "yanchor": "bottom",
          "yref": "y3"
         },
         {
          "showarrow": false,
          "text": "Clean Grid Required Land by 2035",
          "x": 0,
          "xanchor": "left",
          "xref": "x2 domain",
          "y": 472,
          "yanchor": "bottom",
          "yref": "y2"
         },
         {
          "showarrow": false,
          "text": "Clean Grid Required Land by 2035",
          "x": 0,
          "xanchor": "left",
          "xref": "x domain",
          "y": 1528,
          "yanchor": "bottom",
          "yref": "y"
         }
        ],
        "barmode": "relative",
        "height": 2000,
        "legend": {
         "title": {
          "text": "variable"
         },
         "tracegroupgap": 0
        },
        "margin": {
         "t": 60
        },
        "paper_bgcolor": "white",
        "plot_bgcolor": "white",
        "shapes": [
         {
          "line": {
           "dash": "dot",
           "width": 2
          },
          "type": "line",
          "x0": 0,
          "x1": 1,
          "xref": "x11 domain",
          "y0": 448,
          "y1": 448,
          "yref": "y11"
         },
         {
          "line": {
           "dash": "dot",
           "width": 2
          },
          "type": "line",
          "x0": 0,
          "x1": 1,
          "xref": "x10 domain",
          "y0": 2259,
          "y1": 2259,
          "yref": "y10"
         },
         {
          "line": {
           "dash": "dot",
           "width": 2
          },
          "type": "line",
          "x0": 0,
          "x1": 1,
          "xref": "x9 domain",
          "y0": 1103,
          "y1": 1103,
          "yref": "y9"
         },
         {
          "line": {
           "dash": "dot",
           "width": 2
          },
          "type": "line",
          "x0": 0,
          "x1": 1,
          "xref": "x8 domain",
          "y0": 248,
          "y1": 248,
          "yref": "y8"
         },
         {
          "line": {
           "dash": "dot",
           "width": 2
          },
          "type": "line",
          "x0": 0,
          "x1": 1,
          "xref": "x7 domain",
          "y0": 2142,
          "y1": 2142,
          "yref": "y7"
         },
         {
          "line": {
           "dash": "dot",
           "width": 2
          },
          "type": "line",
          "x0": 0,
          "x1": 1,
          "xref": "x6 domain",
          "y0": 759,
          "y1": 759,
          "yref": "y6"
         },
         {
          "line": {
           "dash": "dot",
           "width": 2
          },
          "type": "line",
          "x0": 0,
          "x1": 1,
          "xref": "x5 domain",
          "y0": 175,
          "y1": 175,
          "yref": "y5"
         },
         {
          "line": {
           "dash": "dot",
           "width": 2
          },
          "type": "line",
          "x0": 0,
          "x1": 1,
          "xref": "x4 domain",
          "y0": 527,
          "y1": 527,
          "yref": "y4"
         },
         {
          "line": {
           "dash": "dot",
           "width": 2
          },
          "type": "line",
          "x0": 0,
          "x1": 1,
          "xref": "x3 domain",
          "y0": 606,
          "y1": 606,
          "yref": "y3"
         },
         {
          "line": {
           "dash": "dot",
           "width": 2
          },
          "type": "line",
          "x0": 0,
          "x1": 1,
          "xref": "x2 domain",
          "y0": 472,
          "y1": 472,
          "yref": "y2"
         },
         {
          "line": {
           "dash": "dot",
           "width": 2
          },
          "type": "line",
          "x0": 0,
          "x1": 1,
          "xref": "x domain",
          "y0": 1528,
          "y1": 1528,
          "yref": "y"
         }
        ],
        "showlegend": false,
        "template": {
         "data": {
          "bar": [
           {
            "error_x": {
             "color": "#2a3f5f"
            },
            "error_y": {
             "color": "#2a3f5f"
            },
            "marker": {
             "line": {
              "color": "#E5ECF6",
              "width": 0.5
             },
             "pattern": {
              "fillmode": "overlay",
              "size": 10,
              "solidity": 0.2
             }
            },
            "type": "bar"
           }
          ],
          "barpolar": [
           {
            "marker": {
             "line": {
              "color": "#E5ECF6",
              "width": 0.5
             },
             "pattern": {
              "fillmode": "overlay",
              "size": 10,
              "solidity": 0.2
             }
            },
            "type": "barpolar"
           }
          ],
          "carpet": [
           {
            "aaxis": {
             "endlinecolor": "#2a3f5f",
             "gridcolor": "white",
             "linecolor": "white",
             "minorgridcolor": "white",
             "startlinecolor": "#2a3f5f"
            },
            "baxis": {
             "endlinecolor": "#2a3f5f",
             "gridcolor": "white",
             "linecolor": "white",
             "minorgridcolor": "white",
             "startlinecolor": "#2a3f5f"
            },
            "type": "carpet"
           }
          ],
          "choropleth": [
           {
            "colorbar": {
             "outlinewidth": 0,
             "ticks": ""
            },
            "type": "choropleth"
           }
          ],
          "contour": [
           {
            "colorbar": {
             "outlinewidth": 0,
             "ticks": ""
            },
            "colorscale": [
             [
              0,
              "#0d0887"
             ],
             [
              0.1111111111111111,
              "#46039f"
             ],
             [
              0.2222222222222222,
              "#7201a8"
             ],
             [
              0.3333333333333333,
              "#9c179e"
             ],
             [
              0.4444444444444444,
              "#bd3786"
             ],
             [
              0.5555555555555556,
              "#d8576b"
             ],
             [
              0.6666666666666666,
              "#ed7953"
             ],
             [
              0.7777777777777778,
              "#fb9f3a"
             ],
             [
              0.8888888888888888,
              "#fdca26"
             ],
             [
              1,
              "#f0f921"
             ]
            ],
            "type": "contour"
           }
          ],
          "contourcarpet": [
           {
            "colorbar": {
             "outlinewidth": 0,
             "ticks": ""
            },
            "type": "contourcarpet"
           }
          ],
          "heatmap": [
           {
            "colorbar": {
             "outlinewidth": 0,
             "ticks": ""
            },
            "colorscale": [
             [
              0,
              "#0d0887"
             ],
             [
              0.1111111111111111,
              "#46039f"
             ],
             [
              0.2222222222222222,
              "#7201a8"
             ],
             [
              0.3333333333333333,
              "#9c179e"
             ],
             [
              0.4444444444444444,
              "#bd3786"
             ],
             [
              0.5555555555555556,
              "#d8576b"
             ],
             [
              0.6666666666666666,
              "#ed7953"
             ],
             [
              0.7777777777777778,
              "#fb9f3a"
             ],
             [
              0.8888888888888888,
              "#fdca26"
             ],
             [
              1,
              "#f0f921"
             ]
            ],
            "type": "heatmap"
           }
          ],
          "heatmapgl": [
           {
            "colorbar": {
             "outlinewidth": 0,
             "ticks": ""
            },
            "colorscale": [
             [
              0,
              "#0d0887"
             ],
             [
              0.1111111111111111,
              "#46039f"
             ],
             [
              0.2222222222222222,
              "#7201a8"
             ],
             [
              0.3333333333333333,
              "#9c179e"
             ],
             [
              0.4444444444444444,
              "#bd3786"
             ],
             [
              0.5555555555555556,
              "#d8576b"
             ],
             [
              0.6666666666666666,
              "#ed7953"
             ],
             [
              0.7777777777777778,
              "#fb9f3a"
             ],
             [
              0.8888888888888888,
              "#fdca26"
             ],
             [
              1,
              "#f0f921"
             ]
            ],
            "type": "heatmapgl"
           }
          ],
          "histogram": [
           {
            "marker": {
             "pattern": {
              "fillmode": "overlay",
              "size": 10,
              "solidity": 0.2
             }
            },
            "type": "histogram"
           }
          ],
          "histogram2d": [
           {
            "colorbar": {
             "outlinewidth": 0,
             "ticks": ""
            },
            "colorscale": [
             [
              0,
              "#0d0887"
             ],
             [
              0.1111111111111111,
              "#46039f"
             ],
             [
              0.2222222222222222,
              "#7201a8"
             ],
             [
              0.3333333333333333,
              "#9c179e"
             ],
             [
              0.4444444444444444,
              "#bd3786"
             ],
             [
              0.5555555555555556,
              "#d8576b"
             ],
             [
              0.6666666666666666,
              "#ed7953"
             ],
             [
              0.7777777777777778,
              "#fb9f3a"
             ],
             [
              0.8888888888888888,
              "#fdca26"
             ],
             [
              1,
              "#f0f921"
             ]
            ],
            "type": "histogram2d"
           }
          ],
          "histogram2dcontour": [
           {
            "colorbar": {
             "outlinewidth": 0,
             "ticks": ""
            },
            "colorscale": [
             [
              0,
              "#0d0887"
             ],
             [
              0.1111111111111111,
              "#46039f"
             ],
             [
              0.2222222222222222,
              "#7201a8"
             ],
             [
              0.3333333333333333,
              "#9c179e"
             ],
             [
              0.4444444444444444,
              "#bd3786"
             ],
             [
              0.5555555555555556,
              "#d8576b"
             ],
             [
              0.6666666666666666,
              "#ed7953"
             ],
             [
              0.7777777777777778,
              "#fb9f3a"
             ],
             [
              0.8888888888888888,
              "#fdca26"
             ],
             [
              1,
              "#f0f921"
             ]
            ],
            "type": "histogram2dcontour"
           }
          ],
          "mesh3d": [
           {
            "colorbar": {
             "outlinewidth": 0,
             "ticks": ""
            },
            "type": "mesh3d"
           }
          ],
          "parcoords": [
           {
            "line": {
             "colorbar": {
              "outlinewidth": 0,
              "ticks": ""
             }
            },
            "type": "parcoords"
           }
          ],
          "pie": [
           {
            "automargin": true,
            "type": "pie"
           }
          ],
          "scatter": [
           {
            "fillpattern": {
             "fillmode": "overlay",
             "size": 10,
             "solidity": 0.2
            },
            "type": "scatter"
           }
          ],
          "scatter3d": [
           {
            "line": {
             "colorbar": {
              "outlinewidth": 0,
              "ticks": ""
             }
            },
            "marker": {
             "colorbar": {
              "outlinewidth": 0,
              "ticks": ""
             }
            },
            "type": "scatter3d"
           }
          ],
          "scattercarpet": [
           {
            "marker": {
             "colorbar": {
              "outlinewidth": 0,
              "ticks": ""
             }
            },
            "type": "scattercarpet"
           }
          ],
          "scattergeo": [
           {
            "marker": {
             "colorbar": {
              "outlinewidth": 0,
              "ticks": ""
             }
            },
            "type": "scattergeo"
           }
          ],
          "scattergl": [
           {
            "marker": {
             "colorbar": {
              "outlinewidth": 0,
              "ticks": ""
             }
            },
            "type": "scattergl"
           }
          ],
          "scattermapbox": [
           {
            "marker": {
             "colorbar": {
              "outlinewidth": 0,
              "ticks": ""
             }
            },
            "type": "scattermapbox"
           }
          ],
          "scatterpolar": [
           {
            "marker": {
             "colorbar": {
              "outlinewidth": 0,
              "ticks": ""
             }
            },
            "type": "scatterpolar"
           }
          ],
          "scatterpolargl": [
           {
            "marker": {
             "colorbar": {
              "outlinewidth": 0,
              "ticks": ""
             }
            },
            "type": "scatterpolargl"
           }
          ],
          "scatterternary": [
           {
            "marker": {
             "colorbar": {
              "outlinewidth": 0,
              "ticks": ""
             }
            },
            "type": "scatterternary"
           }
          ],
          "surface": [
           {
            "colorbar": {
             "outlinewidth": 0,
             "ticks": ""
            },
            "colorscale": [
             [
              0,
              "#0d0887"
             ],
             [
              0.1111111111111111,
              "#46039f"
             ],
             [
              0.2222222222222222,
              "#7201a8"
             ],
             [
              0.3333333333333333,
              "#9c179e"
             ],
             [
              0.4444444444444444,
              "#bd3786"
             ],
             [
              0.5555555555555556,
              "#d8576b"
             ],
             [
              0.6666666666666666,
              "#ed7953"
             ],
             [
              0.7777777777777778,
              "#fb9f3a"
             ],
             [
              0.8888888888888888,
              "#fdca26"
             ],
             [
              1,
              "#f0f921"
             ]
            ],
            "type": "surface"
           }
          ],
          "table": [
           {
            "cells": {
             "fill": {
              "color": "#EBF0F8"
             },
             "line": {
              "color": "white"
             }
            },
            "header": {
             "fill": {
              "color": "#C8D4E3"
             },
             "line": {
              "color": "white"
             }
            },
            "type": "table"
           }
          ]
         },
         "layout": {
          "annotationdefaults": {
           "arrowcolor": "#2a3f5f",
           "arrowhead": 0,
           "arrowwidth": 1
          },
          "autotypenumbers": "strict",
          "coloraxis": {
           "colorbar": {
            "outlinewidth": 0,
            "ticks": ""
           }
          },
          "colorscale": {
           "diverging": [
            [
             0,
             "#8e0152"
            ],
            [
             0.1,
             "#c51b7d"
            ],
            [
             0.2,
             "#de77ae"
            ],
            [
             0.3,
             "#f1b6da"
            ],
            [
             0.4,
             "#fde0ef"
            ],
            [
             0.5,
             "#f7f7f7"
            ],
            [
             0.6,
             "#e6f5d0"
            ],
            [
             0.7,
             "#b8e186"
            ],
            [
             0.8,
             "#7fbc41"
            ],
            [
             0.9,
             "#4d9221"
            ],
            [
             1,
             "#276419"
            ]
           ],
           "sequential": [
            [
             0,
             "#0d0887"
            ],
            [
             0.1111111111111111,
             "#46039f"
            ],
            [
             0.2222222222222222,
             "#7201a8"
            ],
            [
             0.3333333333333333,
             "#9c179e"
            ],
            [
             0.4444444444444444,
             "#bd3786"
            ],
            [
             0.5555555555555556,
             "#d8576b"
            ],
            [
             0.6666666666666666,
             "#ed7953"
            ],
            [
             0.7777777777777778,
             "#fb9f3a"
            ],
            [
             0.8888888888888888,
             "#fdca26"
            ],
            [
             1,
             "#f0f921"
            ]
           ],
           "sequentialminus": [
            [
             0,
             "#0d0887"
            ],
            [
             0.1111111111111111,
             "#46039f"
            ],
            [
             0.2222222222222222,
             "#7201a8"
            ],
            [
             0.3333333333333333,
             "#9c179e"
            ],
            [
             0.4444444444444444,
             "#bd3786"
            ],
            [
             0.5555555555555556,
             "#d8576b"
            ],
            [
             0.6666666666666666,
             "#ed7953"
            ],
            [
             0.7777777777777778,
             "#fb9f3a"
            ],
            [
             0.8888888888888888,
             "#fdca26"
            ],
            [
             1,
             "#f0f921"
            ]
           ]
          },
          "colorway": [
           "#636efa",
           "#EF553B",
           "#00cc96",
           "#ab63fa",
           "#FFA15A",
           "#19d3f3",
           "#FF6692",
           "#B6E880",
           "#FF97FF",
           "#FECB52"
          ],
          "font": {
           "color": "#2a3f5f"
          },
          "geo": {
           "bgcolor": "white",
           "lakecolor": "white",
           "landcolor": "#E5ECF6",
           "showlakes": true,
           "showland": true,
           "subunitcolor": "white"
          },
          "hoverlabel": {
           "align": "left"
          },
          "hovermode": "closest",
          "mapbox": {
           "style": "light"
          },
          "paper_bgcolor": "white",
          "plot_bgcolor": "#E5ECF6",
          "polar": {
           "angularaxis": {
            "gridcolor": "white",
            "linecolor": "white",
            "ticks": ""
           },
           "bgcolor": "#E5ECF6",
           "radialaxis": {
            "gridcolor": "white",
            "linecolor": "white",
            "ticks": ""
           }
          },
          "scene": {
           "xaxis": {
            "backgroundcolor": "#E5ECF6",
            "gridcolor": "white",
            "gridwidth": 2,
            "linecolor": "white",
            "showbackground": true,
            "ticks": "",
            "zerolinecolor": "white"
           },
           "yaxis": {
            "backgroundcolor": "#E5ECF6",
            "gridcolor": "white",
            "gridwidth": 2,
            "linecolor": "white",
            "showbackground": true,
            "ticks": "",
            "zerolinecolor": "white"
           },
           "zaxis": {
            "backgroundcolor": "#E5ECF6",
            "gridcolor": "white",
            "gridwidth": 2,
            "linecolor": "white",
            "showbackground": true,
            "ticks": "",
            "zerolinecolor": "white"
           }
          },
          "shapedefaults": {
           "line": {
            "color": "#2a3f5f"
           }
          },
          "ternary": {
           "aaxis": {
            "gridcolor": "white",
            "linecolor": "white",
            "ticks": ""
           },
           "baxis": {
            "gridcolor": "white",
            "linecolor": "white",
            "ticks": ""
           },
           "bgcolor": "#E5ECF6",
           "caxis": {
            "gridcolor": "white",
            "linecolor": "white",
            "ticks": ""
           }
          },
          "title": {
           "x": 0.05
          },
          "xaxis": {
           "automargin": true,
           "gridcolor": "white",
           "linecolor": "white",
           "ticks": "",
           "title": {
            "standoff": 15
           },
           "zerolinecolor": "white",
           "zerolinewidth": 2
          },
          "yaxis": {
           "automargin": true,
           "gridcolor": "white",
           "linecolor": "white",
           "ticks": "",
           "title": {
            "standoff": 15
           },
           "zerolinecolor": "white",
           "zerolinewidth": 2
          }
         }
        },
        "title": {
         "text": "Solar Siting Availability under Various Exclusion Combinations"
        },
        "uniformtext": {
         "minsize": 18,
         "mode": "hide"
        },
        "width": 1200,
        "xaxis": {
         "anchor": "y",
         "autorange": true,
         "categoryarray": [
          "Baseline Restrictions (BR)",
          "BR + DACs",
          "BR + Important Farmland",
          "BR + w/in 1km of Natural Areas",
          "BR + w/in 5km of Natural Areas",
          "BR + w/in 10km of Natural Areas",
          "BR + DACS, w/in 5km of Natural Area, and Important Farmland",
          "BR + w/in 5km of Natural Area and Important Farmland",
          "BR + w/in 10km of Natural Area and Important Farmland"
         ],
         "categoryorder": "array",
         "domain": [
          0,
          0.98
         ],
         "range": [
          -0.5,
          8.5
         ],
         "title": {
          "text": "variable"
         },
         "type": "category"
        },
        "xaxis10": {
         "anchor": "y10",
         "autorange": true,
         "domain": [
          0,
          0.98
         ],
         "matches": "x",
         "range": [
          -0.5,
          8.5
         ],
         "showticklabels": false,
         "type": "category"
        },
        "xaxis11": {
         "anchor": "y11",
         "autorange": true,
         "domain": [
          0,
          0.98
         ],
         "matches": "x",
         "range": [
          -0.5,
          8.5
         ],
         "showticklabels": false,
         "type": "category"
        },
        "xaxis2": {
         "anchor": "y2",
         "autorange": true,
         "domain": [
          0,
          0.98
         ],
         "matches": "x",
         "range": [
          -0.5,
          8.5
         ],
         "showticklabels": false,
         "type": "category"
        },
        "xaxis3": {
         "anchor": "y3",
         "autorange": true,
         "domain": [
          0,
          0.98
         ],
         "matches": "x",
         "range": [
          -0.5,
          8.5
         ],
         "showticklabels": false,
         "type": "category"
        },
        "xaxis4": {
         "anchor": "y4",
         "autorange": true,
         "domain": [
          0,
          0.98
         ],
         "matches": "x",
         "range": [
          -0.5,
          8.5
         ],
         "showticklabels": false,
         "type": "category"
        },
        "xaxis5": {
         "anchor": "y5",
         "autorange": true,
         "domain": [
          0,
          0.98
         ],
         "matches": "x",
         "range": [
          -0.5,
          8.5
         ],
         "showticklabels": false,
         "type": "category"
        },
        "xaxis6": {
         "anchor": "y6",
         "autorange": true,
         "domain": [
          0,
          0.98
         ],
         "matches": "x",
         "range": [
          -0.5,
          8.5
         ],
         "showticklabels": false,
         "type": "category"
        },
        "xaxis7": {
         "anchor": "y7",
         "autorange": true,
         "domain": [
          0,
          0.98
         ],
         "matches": "x",
         "range": [
          -0.5,
          8.5
         ],
         "showticklabels": false,
         "type": "category"
        },
        "xaxis8": {
         "anchor": "y8",
         "autorange": true,
         "domain": [
          0,
          0.98
         ],
         "matches": "x",
         "range": [
          -0.5,
          8.5
         ],
         "showticklabels": false,
         "type": "category"
        },
        "xaxis9": {
         "anchor": "y9",
         "autorange": true,
         "domain": [
          0,
          0.98
         ],
         "matches": "x",
         "range": [
          -0.5,
          8.5
         ],
         "showticklabels": false,
         "type": "category"
        },
        "yaxis": {
         "anchor": "x",
         "autorange": true,
         "domain": [
          0,
          0.06363636363636363
         ],
         "gridcolor": "#bdbdbd",
         "range": [
          0,
          158712.63157894736
         ],
         "showgrid": true,
         "title": {
          "text": "square km"
         },
         "type": "linear"
        },
        "yaxis10": {
         "anchor": "x10",
         "autorange": true,
         "domain": [
          0.8427272727272725,
          0.9063636363636361
         ],
         "gridcolor": "#bdbdbd",
         "range": [
          0,
          99391.57894736843
         ],
         "showgrid": true,
         "title": {
          "text": "square km"
         },
         "type": "linear"
        },
        "yaxis11": {
         "anchor": "x11",
         "autorange": true,
         "domain": [
          0.9363636363636361,
          0.9999999999999997
         ],
         "gridcolor": "#bdbdbd",
         "range": [
          -1020.6048334714546,
          157388.4528859722
         ],
         "showgrid": true,
         "title": {
          "text": "square km"
         },
         "type": "linear"
        },
        "yaxis2": {
         "anchor": "x2",
         "autorange": true,
         "domain": [
          0.09363636363636363,
          0.15727272727272726
         ],
         "gridcolor": "#bdbdbd",
         "range": [
          -117.08773265840944,
          63424.05724908729
         ],
         "showgrid": true,
         "title": {
          "text": "square km"
         },
         "type": "linear"
        },
        "yaxis3": {
         "anchor": "x3",
         "autorange": true,
         "domain": [
          0.18727272727272726,
          0.25090909090909086
         ],
         "gridcolor": "#bdbdbd",
         "range": [
          0,
          65200
         ],
         "showgrid": true,
         "title": {
          "text": "square km"
         },
         "type": "linear"
        },
        "yaxis4": {
         "anchor": "x4",
         "autorange": true,
         "domain": [
          0.2809090909090909,
          0.3445454545454545
         ],
         "gridcolor": "#bdbdbd",
         "range": [
          -68.27672631979783,
          64140.43561717473
         ],
         "showgrid": true,
         "title": {
          "text": "square km"
         },
         "type": "linear"
        },
        "yaxis5": {
         "anchor": "x5",
         "autorange": true,
         "domain": [
          0.3745454545454545,
          0.4381818181818181
         ],
         "gridcolor": "#bdbdbd",
         "range": [
          -871.324277107085,
          111989.01706721616
         ],
         "showgrid": true,
         "title": {
          "text": "square km"
         },
         "type": "linear"
        },
        "yaxis6": {
         "anchor": "x6",
         "autorange": true,
         "domain": [
          0.46818181818181814,
          0.5318181818181817
         ],
         "gridcolor": "#bdbdbd",
         "range": [
          -1221.7834792931228,
          212432.72544627858
         ],
         "showgrid": true,
         "title": {
          "text": "square km"
         },
         "type": "linear"
        },
        "yaxis7": {
         "anchor": "x7",
         "autorange": true,
         "domain": [
          0.5618181818181818,
          0.6254545454545454
         ],
         "gridcolor": "#bdbdbd",
         "range": [
          0,
          211172.63157894736
         ],
         "showgrid": true,
         "title": {
          "text": "square km"
         },
         "type": "linear"
        },
        "yaxis8": {
         "anchor": "x8",
         "autorange": true,
         "domain": [
          0.6554545454545453,
          0.7190909090909089
         ],
         "gridcolor": "#bdbdbd",
         "range": [
          -380.458799023451,
          67407.39256836966
         ],
         "showgrid": true,
         "title": {
          "text": "square km"
         },
         "type": "linear"
        },
        "yaxis9": {
         "anchor": "x9",
         "autorange": true,
         "domain": [
          0.7490909090909089,
          0.8127272727272725
         ],
         "gridcolor": "#bdbdbd",
         "range": [
          -56.736600443479574,
          125036.67034739176
         ],
         "showgrid": true,
         "title": {
          "text": "square km"
         },
         "type": "linear"
        }
       }
      },
      "text/html": [
       "<div>                            <div id=\"6bdb9d48-1237-4b88-8b14-ccbb3af4f93a\" class=\"plotly-graph-div\" style=\"height:2000px; width:1200px;\"></div>            <script type=\"text/javascript\">                require([\"plotly\"], function(Plotly) {                    window.PLOTLYENV=window.PLOTLYENV || {};                                    if (document.getElementById(\"6bdb9d48-1237-4b88-8b14-ccbb3af4f93a\")) {                    Plotly.newPlot(                        \"6bdb9d48-1237-4b88-8b14-ccbb3af4f93a\",                        [{\"alignmentgroup\":\"True\",\"hovertemplate\":\"variable=%{x}\\u003cbr\\u003eregion_name=arizona\\u003cbr\\u003evalue=%{y}\\u003cextra\\u003e\\u003c\\u002fextra\\u003e\",\"legendgroup\":\"Baseline Restrictions (BR)\",\"marker\":{\"color\":\"rgb(102, 197, 204)\",\"pattern\":{\"shape\":\"\"}},\"name\":\"Baseline Restrictions (BR)\",\"offsetgroup\":\"Baseline Restrictions (BR)\",\"orientation\":\"v\",\"showlegend\":true,\"textposition\":\"auto\",\"x\":[\"Baseline Restrictions (BR)\"],\"xaxis\":\"x11\",\"y\":[149468],\"yaxis\":\"y11\",\"type\":\"bar\"},{\"alignmentgroup\":\"True\",\"hovertemplate\":\"variable=%{x}\\u003cbr\\u003eregion_name=california\\u003cbr\\u003evalue=%{y}\\u003cextra\\u003e\\u003c\\u002fextra\\u003e\",\"legendgroup\":\"Baseline Restrictions (BR)\",\"marker\":{\"color\":\"rgb(102, 197, 204)\",\"pattern\":{\"shape\":\"\"}},\"name\":\"Baseline Restrictions (BR)\",\"offsetgroup\":\"Baseline Restrictions (BR)\",\"orientation\":\"v\",\"showlegend\":false,\"textposition\":\"auto\",\"x\":[\"Baseline Restrictions (BR)\"],\"xaxis\":\"x10\",\"y\":[94422],\"yaxis\":\"y10\",\"type\":\"bar\"},{\"alignmentgroup\":\"True\",\"hovertemplate\":\"variable=%{x}\\u003cbr\\u003eregion_name=colorado\\u003cbr\\u003evalue=%{y}\\u003cextra\\u003e\\u003c\\u002fextra\\u003e\",\"legendgroup\":\"Baseline Restrictions (BR)\",\"marker\":{\"color\":\"rgb(102, 197, 204)\",\"pattern\":{\"shape\":\"\"}},\"name\":\"Baseline Restrictions (BR)\",\"offsetgroup\":\"Baseline Restrictions (BR)\",\"orientation\":\"v\",\"showlegend\":false,\"textposition\":\"auto\",\"x\":[\"Baseline Restrictions (BR)\"],\"xaxis\":\"x9\",\"y\":[118782],\"yaxis\":\"y9\",\"type\":\"bar\"},{\"alignmentgroup\":\"True\",\"hovertemplate\":\"variable=%{x}\\u003cbr\\u003eregion_name=idaho\\u003cbr\\u003evalue=%{y}\\u003cextra\\u003e\\u003c\\u002fextra\\u003e\",\"legendgroup\":\"Baseline Restrictions (BR)\",\"marker\":{\"color\":\"rgb(102, 197, 204)\",\"pattern\":{\"shape\":\"\"}},\"name\":\"Baseline Restrictions (BR)\",\"offsetgroup\":\"Baseline Restrictions (BR)\",\"orientation\":\"v\",\"showlegend\":false,\"textposition\":\"auto\",\"x\":[\"Baseline Restrictions (BR)\"],\"xaxis\":\"x8\",\"y\":[64018],\"yaxis\":\"y8\",\"type\":\"bar\"},{\"alignmentgroup\":\"True\",\"hovertemplate\":\"variable=%{x}\\u003cbr\\u003eregion_name=montana\\u003cbr\\u003evalue=%{y}\\u003cextra\\u003e\\u003c\\u002fextra\\u003e\",\"legendgroup\":\"Baseline Restrictions (BR)\",\"marker\":{\"color\":\"rgb(102, 197, 204)\",\"pattern\":{\"shape\":\"\"}},\"name\":\"Baseline Restrictions (BR)\",\"offsetgroup\":\"Baseline Restrictions (BR)\",\"orientation\":\"v\",\"showlegend\":false,\"textposition\":\"auto\",\"x\":[\"Baseline Restrictions (BR)\"],\"xaxis\":\"x7\",\"y\":[200614],\"yaxis\":\"y7\",\"type\":\"bar\"},{\"alignmentgroup\":\"True\",\"hovertemplate\":\"variable=%{x}\\u003cbr\\u003eregion_name=new_mexico\\u003cbr\\u003evalue=%{y}\\u003cextra\\u003e\\u003c\\u002fextra\\u003e\",\"legendgroup\":\"Baseline Restrictions (BR)\",\"marker\":{\"color\":\"rgb(102, 197, 204)\",\"pattern\":{\"shape\":\"\"}},\"name\":\"Baseline Restrictions (BR)\",\"offsetgroup\":\"Baseline Restrictions (BR)\",\"orientation\":\"v\",\"showlegend\":false,\"textposition\":\"auto\",\"x\":[\"Baseline Restrictions (BR)\"],\"xaxis\":\"x6\",\"y\":[201750],\"yaxis\":\"y6\",\"type\":\"bar\"},{\"alignmentgroup\":\"True\",\"hovertemplate\":\"variable=%{x}\\u003cbr\\u003eregion_name=nevada\\u003cbr\\u003evalue=%{y}\\u003cextra\\u003e\\u003c\\u002fextra\\u003e\",\"legendgroup\":\"Baseline Restrictions (BR)\",\"marker\":{\"color\":\"rgb(102, 197, 204)\",\"pattern\":{\"shape\":\"\"}},\"name\":\"Baseline Restrictions (BR)\",\"offsetgroup\":\"Baseline Restrictions (BR)\",\"orientation\":\"v\",\"showlegend\":false,\"textposition\":\"auto\",\"x\":[\"Baseline Restrictions (BR)\"],\"xaxis\":\"x5\",\"y\":[106346],\"yaxis\":\"y5\",\"type\":\"bar\"},{\"alignmentgroup\":\"True\",\"hovertemplate\":\"variable=%{x}\\u003cbr\\u003eregion_name=oregon\\u003cbr\\u003evalue=%{y}\\u003cextra\\u003e\\u003c\\u002fextra\\u003e\",\"legendgroup\":\"Baseline Restrictions (BR)\",\"marker\":{\"color\":\"rgb(102, 197, 204)\",\"pattern\":{\"shape\":\"\"}},\"name\":\"Baseline Restrictions (BR)\",\"offsetgroup\":\"Baseline Restrictions (BR)\",\"orientation\":\"v\",\"showlegend\":false,\"textposition\":\"auto\",\"x\":[\"Baseline Restrictions (BR)\"],\"xaxis\":\"x4\",\"y\":[60930],\"yaxis\":\"y4\",\"type\":\"bar\"},{\"alignmentgroup\":\"True\",\"hovertemplate\":\"variable=%{x}\\u003cbr\\u003eregion_name=utah\\u003cbr\\u003evalue=%{y}\\u003cextra\\u003e\\u003c\\u002fextra\\u003e\",\"legendgroup\":\"Baseline Restrictions (BR)\",\"marker\":{\"color\":\"rgb(102, 197, 204)\",\"pattern\":{\"shape\":\"\"}},\"name\":\"Baseline Restrictions (BR)\",\"offsetgroup\":\"Baseline Restrictions (BR)\",\"orientation\":\"v\",\"showlegend\":false,\"textposition\":\"auto\",\"x\":[\"Baseline Restrictions (BR)\"],\"xaxis\":\"x3\",\"y\":[61940],\"yaxis\":\"y3\",\"type\":\"bar\"},{\"alignmentgroup\":\"True\",\"hovertemplate\":\"variable=%{x}\\u003cbr\\u003eregion_name=washington\\u003cbr\\u003evalue=%{y}\\u003cextra\\u003e\\u003c\\u002fextra\\u003e\",\"legendgroup\":\"Baseline Restrictions (BR)\",\"marker\":{\"color\":\"rgb(102, 197, 204)\",\"pattern\":{\"shape\":\"\"}},\"name\":\"Baseline Restrictions (BR)\",\"offsetgroup\":\"Baseline Restrictions (BR)\",\"orientation\":\"v\",\"showlegend\":false,\"textposition\":\"auto\",\"x\":[\"Baseline Restrictions (BR)\"],\"xaxis\":\"x2\",\"y\":[60247],\"yaxis\":\"y2\",\"type\":\"bar\"},{\"alignmentgroup\":\"True\",\"hovertemplate\":\"variable=%{x}\\u003cbr\\u003eregion_name=wyoming\\u003cbr\\u003evalue=%{y}\\u003cextra\\u003e\\u003c\\u002fextra\\u003e\",\"legendgroup\":\"Baseline Restrictions (BR)\",\"marker\":{\"color\":\"rgb(102, 197, 204)\",\"pattern\":{\"shape\":\"\"}},\"name\":\"Baseline Restrictions (BR)\",\"offsetgroup\":\"Baseline Restrictions (BR)\",\"orientation\":\"v\",\"showlegend\":false,\"textposition\":\"auto\",\"x\":[\"Baseline Restrictions (BR)\"],\"xaxis\":\"x\",\"y\":[150777],\"yaxis\":\"y\",\"type\":\"bar\"},{\"alignmentgroup\":\"True\",\"hovertemplate\":\"variable=%{x}\\u003cbr\\u003eregion_name=arizona\\u003cbr\\u003evalue=%{y}\\u003cextra\\u003e\\u003c\\u002fextra\\u003e\",\"legendgroup\":\"BR + DACs\",\"marker\":{\"color\":\"rgb(246, 207, 113)\",\"pattern\":{\"shape\":\"\"}},\"name\":\"BR + DACs\",\"offsetgroup\":\"BR + DACs\",\"orientation\":\"v\",\"showlegend\":true,\"textposition\":\"auto\",\"x\":[\"BR + DACs\"],\"xaxis\":\"x11\",\"y\":[46395],\"yaxis\":\"y11\",\"type\":\"bar\"},{\"alignmentgroup\":\"True\",\"hovertemplate\":\"variable=%{x}\\u003cbr\\u003eregion_name=california\\u003cbr\\u003evalue=%{y}\\u003cextra\\u003e\\u003c\\u002fextra\\u003e\",\"legendgroup\":\"BR + DACs\",\"marker\":{\"color\":\"rgb(246, 207, 113)\",\"pattern\":{\"shape\":\"\"}},\"name\":\"BR + DACs\",\"offsetgroup\":\"BR + DACs\",\"orientation\":\"v\",\"showlegend\":false,\"textposition\":\"auto\",\"x\":[\"BR + DACs\"],\"xaxis\":\"x10\",\"y\":[38251],\"yaxis\":\"y10\",\"type\":\"bar\"},{\"alignmentgroup\":\"True\",\"hovertemplate\":\"variable=%{x}\\u003cbr\\u003eregion_name=colorado\\u003cbr\\u003evalue=%{y}\\u003cextra\\u003e\\u003c\\u002fextra\\u003e\",\"legendgroup\":\"BR + DACs\",\"marker\":{\"color\":\"rgb(246, 207, 113)\",\"pattern\":{\"shape\":\"\"}},\"name\":\"BR + DACs\",\"offsetgroup\":\"BR + DACs\",\"orientation\":\"v\",\"showlegend\":false,\"textposition\":\"auto\",\"x\":[\"BR + DACs\"],\"xaxis\":\"x9\",\"y\":[58883],\"yaxis\":\"y9\",\"type\":\"bar\"},{\"alignmentgroup\":\"True\",\"hovertemplate\":\"variable=%{x}\\u003cbr\\u003eregion_name=idaho\\u003cbr\\u003evalue=%{y}\\u003cextra\\u003e\\u003c\\u002fextra\\u003e\",\"legendgroup\":\"BR + DACs\",\"marker\":{\"color\":\"rgb(246, 207, 113)\",\"pattern\":{\"shape\":\"\"}},\"name\":\"BR + DACs\",\"offsetgroup\":\"BR + DACs\",\"orientation\":\"v\",\"showlegend\":false,\"textposition\":\"auto\",\"x\":[\"BR + DACs\"],\"xaxis\":\"x8\",\"y\":[18522],\"yaxis\":\"y8\",\"type\":\"bar\"},{\"alignmentgroup\":\"True\",\"hovertemplate\":\"variable=%{x}\\u003cbr\\u003eregion_name=montana\\u003cbr\\u003evalue=%{y}\\u003cextra\\u003e\\u003c\\u002fextra\\u003e\",\"legendgroup\":\"BR + DACs\",\"marker\":{\"color\":\"rgb(246, 207, 113)\",\"pattern\":{\"shape\":\"\"}},\"name\":\"BR + DACs\",\"offsetgroup\":\"BR + DACs\",\"orientation\":\"v\",\"showlegend\":false,\"textposition\":\"auto\",\"x\":[\"BR + DACs\"],\"xaxis\":\"x7\",\"y\":[104611],\"yaxis\":\"y7\",\"type\":\"bar\"},{\"alignmentgroup\":\"True\",\"hovertemplate\":\"variable=%{x}\\u003cbr\\u003eregion_name=new_mexico\\u003cbr\\u003evalue=%{y}\\u003cextra\\u003e\\u003c\\u002fextra\\u003e\",\"legendgroup\":\"BR + DACs\",\"marker\":{\"color\":\"rgb(246, 207, 113)\",\"pattern\":{\"shape\":\"\"}},\"name\":\"BR + DACs\",\"offsetgroup\":\"BR + DACs\",\"orientation\":\"v\",\"showlegend\":false,\"textposition\":\"auto\",\"x\":[\"BR + DACs\"],\"xaxis\":\"x6\",\"y\":[23030],\"yaxis\":\"y6\",\"type\":\"bar\"},{\"alignmentgroup\":\"True\",\"hovertemplate\":\"variable=%{x}\\u003cbr\\u003eregion_name=nevada\\u003cbr\\u003evalue=%{y}\\u003cextra\\u003e\\u003c\\u002fextra\\u003e\",\"legendgroup\":\"BR + DACs\",\"marker\":{\"color\":\"rgb(246, 207, 113)\",\"pattern\":{\"shape\":\"\"}},\"name\":\"BR + DACs\",\"offsetgroup\":\"BR + DACs\",\"orientation\":\"v\",\"showlegend\":false,\"textposition\":\"auto\",\"x\":[\"BR + DACs\"],\"xaxis\":\"x5\",\"y\":[81135],\"yaxis\":\"y5\",\"type\":\"bar\"},{\"alignmentgroup\":\"True\",\"hovertemplate\":\"variable=%{x}\\u003cbr\\u003eregion_name=oregon\\u003cbr\\u003evalue=%{y}\\u003cextra\\u003e\\u003c\\u002fextra\\u003e\",\"legendgroup\":\"BR + DACs\",\"marker\":{\"color\":\"rgb(246, 207, 113)\",\"pattern\":{\"shape\":\"\"}},\"name\":\"BR + DACs\",\"offsetgroup\":\"BR + DACs\",\"orientation\":\"v\",\"showlegend\":false,\"textposition\":\"auto\",\"x\":[\"BR + DACs\"],\"xaxis\":\"x4\",\"y\":[11622],\"yaxis\":\"y4\",\"type\":\"bar\"},{\"alignmentgroup\":\"True\",\"hovertemplate\":\"variable=%{x}\\u003cbr\\u003eregion_name=utah\\u003cbr\\u003evalue=%{y}\\u003cextra\\u003e\\u003c\\u002fextra\\u003e\",\"legendgroup\":\"BR + DACs\",\"marker\":{\"color\":\"rgb(246, 207, 113)\",\"pattern\":{\"shape\":\"\"}},\"name\":\"BR + DACs\",\"offsetgroup\":\"BR + DACs\",\"orientation\":\"v\",\"showlegend\":false,\"textposition\":\"auto\",\"x\":[\"BR + DACs\"],\"xaxis\":\"x3\",\"y\":[34126],\"yaxis\":\"y3\",\"type\":\"bar\"},{\"alignmentgroup\":\"True\",\"hovertemplate\":\"variable=%{x}\\u003cbr\\u003eregion_name=washington\\u003cbr\\u003evalue=%{y}\\u003cextra\\u003e\\u003c\\u002fextra\\u003e\",\"legendgroup\":\"BR + DACs\",\"marker\":{\"color\":\"rgb(246, 207, 113)\",\"pattern\":{\"shape\":\"\"}},\"name\":\"BR + DACs\",\"offsetgroup\":\"BR + DACs\",\"orientation\":\"v\",\"showlegend\":false,\"textposition\":\"auto\",\"x\":[\"BR + DACs\"],\"xaxis\":\"x2\",\"y\":[32459],\"yaxis\":\"y2\",\"type\":\"bar\"},{\"alignmentgroup\":\"True\",\"hovertemplate\":\"variable=%{x}\\u003cbr\\u003eregion_name=wyoming\\u003cbr\\u003evalue=%{y}\\u003cextra\\u003e\\u003c\\u002fextra\\u003e\",\"legendgroup\":\"BR + DACs\",\"marker\":{\"color\":\"rgb(246, 207, 113)\",\"pattern\":{\"shape\":\"\"}},\"name\":\"BR + DACs\",\"offsetgroup\":\"BR + DACs\",\"orientation\":\"v\",\"showlegend\":false,\"textposition\":\"auto\",\"x\":[\"BR + DACs\"],\"xaxis\":\"x\",\"y\":[127750],\"yaxis\":\"y\",\"type\":\"bar\"},{\"alignmentgroup\":\"True\",\"hovertemplate\":\"variable=%{x}\\u003cbr\\u003eregion_name=arizona\\u003cbr\\u003evalue=%{y}\\u003cextra\\u003e\\u003c\\u002fextra\\u003e\",\"legendgroup\":\"BR + Important Farmland\",\"marker\":{\"color\":\"rgb(248, 156, 116)\",\"pattern\":{\"shape\":\"\"}},\"name\":\"BR + Important Farmland\",\"offsetgroup\":\"BR + Important Farmland\",\"orientation\":\"v\",\"showlegend\":true,\"textposition\":\"auto\",\"x\":[\"BR + Important Farmland\"],\"xaxis\":\"x11\",\"y\":[146345],\"yaxis\":\"y11\",\"type\":\"bar\"},{\"alignmentgroup\":\"True\",\"hovertemplate\":\"variable=%{x}\\u003cbr\\u003eregion_name=california\\u003cbr\\u003evalue=%{y}\\u003cextra\\u003e\\u003c\\u002fextra\\u003e\",\"legendgroup\":\"BR + Important Farmland\",\"marker\":{\"color\":\"rgb(248, 156, 116)\",\"pattern\":{\"shape\":\"\"}},\"name\":\"BR + Important Farmland\",\"offsetgroup\":\"BR + Important Farmland\",\"orientation\":\"v\",\"showlegend\":false,\"textposition\":\"auto\",\"x\":[\"BR + Important Farmland\"],\"xaxis\":\"x10\",\"y\":[78597],\"yaxis\":\"y10\",\"type\":\"bar\"},{\"alignmentgroup\":\"True\",\"hovertemplate\":\"variable=%{x}\\u003cbr\\u003eregion_name=colorado\\u003cbr\\u003evalue=%{y}\\u003cextra\\u003e\\u003c\\u002fextra\\u003e\",\"legendgroup\":\"BR + Important Farmland\",\"marker\":{\"color\":\"rgb(248, 156, 116)\",\"pattern\":{\"shape\":\"\"}},\"name\":\"BR + Important Farmland\",\"offsetgroup\":\"BR + Important Farmland\",\"orientation\":\"v\",\"showlegend\":false,\"textposition\":\"auto\",\"x\":[\"BR + Important Farmland\"],\"xaxis\":\"x9\",\"y\":[108230],\"yaxis\":\"y9\",\"type\":\"bar\"},{\"alignmentgroup\":\"True\",\"hovertemplate\":\"variable=%{x}\\u003cbr\\u003eregion_name=idaho\\u003cbr\\u003evalue=%{y}\\u003cextra\\u003e\\u003c\\u002fextra\\u003e\",\"legendgroup\":\"BR + Important Farmland\",\"marker\":{\"color\":\"rgb(248, 156, 116)\",\"pattern\":{\"shape\":\"\"}},\"name\":\"BR + Important Farmland\",\"offsetgroup\":\"BR + Important Farmland\",\"orientation\":\"v\",\"showlegend\":false,\"textposition\":\"auto\",\"x\":[\"BR + Important Farmland\"],\"xaxis\":\"x8\",\"y\":[62934],\"yaxis\":\"y8\",\"type\":\"bar\"},{\"alignmentgroup\":\"True\",\"hovertemplate\":\"variable=%{x}\\u003cbr\\u003eregion_name=montana\\u003cbr\\u003evalue=%{y}\\u003cextra\\u003e\\u003c\\u002fextra\\u003e\",\"legendgroup\":\"BR + Important Farmland\",\"marker\":{\"color\":\"rgb(248, 156, 116)\",\"pattern\":{\"shape\":\"\"}},\"name\":\"BR + Important Farmland\",\"offsetgroup\":\"BR + Important Farmland\",\"orientation\":\"v\",\"showlegend\":false,\"textposition\":\"auto\",\"x\":[\"BR + Important Farmland\"],\"xaxis\":\"x7\",\"y\":[168821],\"yaxis\":\"y7\",\"type\":\"bar\"},{\"alignmentgroup\":\"True\",\"hovertemplate\":\"variable=%{x}\\u003cbr\\u003eregion_name=new_mexico\\u003cbr\\u003evalue=%{y}\\u003cextra\\u003e\\u003c\\u002fextra\\u003e\",\"legendgroup\":\"BR + Important Farmland\",\"marker\":{\"color\":\"rgb(248, 156, 116)\",\"pattern\":{\"shape\":\"\"}},\"name\":\"BR + Important Farmland\",\"offsetgroup\":\"BR + Important Farmland\",\"orientation\":\"v\",\"showlegend\":false,\"textposition\":\"auto\",\"x\":[\"BR + Important Farmland\"],\"xaxis\":\"x6\",\"y\":[179489],\"yaxis\":\"y6\",\"type\":\"bar\"},{\"alignmentgroup\":\"True\",\"hovertemplate\":\"variable=%{x}\\u003cbr\\u003eregion_name=nevada\\u003cbr\\u003evalue=%{y}\\u003cextra\\u003e\\u003c\\u002fextra\\u003e\",\"legendgroup\":\"BR + Important Farmland\",\"marker\":{\"color\":\"rgb(248, 156, 116)\",\"pattern\":{\"shape\":\"\"}},\"name\":\"BR + Important Farmland\",\"offsetgroup\":\"BR + Important Farmland\",\"orientation\":\"v\",\"showlegend\":false,\"textposition\":\"auto\",\"x\":[\"BR + Important Farmland\"],\"xaxis\":\"x5\",\"y\":[106295],\"yaxis\":\"y5\",\"type\":\"bar\"},{\"alignmentgroup\":\"True\",\"hovertemplate\":\"variable=%{x}\\u003cbr\\u003eregion_name=oregon\\u003cbr\\u003evalue=%{y}\\u003cextra\\u003e\\u003c\\u002fextra\\u003e\",\"legendgroup\":\"BR + Important Farmland\",\"marker\":{\"color\":\"rgb(248, 156, 116)\",\"pattern\":{\"shape\":\"\"}},\"name\":\"BR + Important Farmland\",\"offsetgroup\":\"BR + Important Farmland\",\"orientation\":\"v\",\"showlegend\":false,\"textposition\":\"auto\",\"x\":[\"BR + Important Farmland\"],\"xaxis\":\"x4\",\"y\":[28275],\"yaxis\":\"y4\",\"type\":\"bar\"},{\"alignmentgroup\":\"True\",\"hovertemplate\":\"variable=%{x}\\u003cbr\\u003eregion_name=utah\\u003cbr\\u003evalue=%{y}\\u003cextra\\u003e\\u003c\\u002fextra\\u003e\",\"legendgroup\":\"BR + Important Farmland\",\"marker\":{\"color\":\"rgb(248, 156, 116)\",\"pattern\":{\"shape\":\"\"}},\"name\":\"BR + Important Farmland\",\"offsetgroup\":\"BR + Important Farmland\",\"orientation\":\"v\",\"showlegend\":false,\"textposition\":\"auto\",\"x\":[\"BR + Important Farmland\"],\"xaxis\":\"x3\",\"y\":[57113],\"yaxis\":\"y3\",\"type\":\"bar\"},{\"alignmentgroup\":\"True\",\"hovertemplate\":\"variable=%{x}\\u003cbr\\u003eregion_name=washington\\u003cbr\\u003evalue=%{y}\\u003cextra\\u003e\\u003c\\u002fextra\\u003e\",\"legendgroup\":\"BR + Important Farmland\",\"marker\":{\"color\":\"rgb(248, 156, 116)\",\"pattern\":{\"shape\":\"\"}},\"name\":\"BR + Important Farmland\",\"offsetgroup\":\"BR + Important Farmland\",\"orientation\":\"v\",\"showlegend\":false,\"textposition\":\"auto\",\"x\":[\"BR + Important Farmland\"],\"xaxis\":\"x2\",\"y\":[32568],\"yaxis\":\"y2\",\"type\":\"bar\"},{\"alignmentgroup\":\"True\",\"hovertemplate\":\"variable=%{x}\\u003cbr\\u003eregion_name=wyoming\\u003cbr\\u003evalue=%{y}\\u003cextra\\u003e\\u003c\\u002fextra\\u003e\",\"legendgroup\":\"BR + Important Farmland\",\"marker\":{\"color\":\"rgb(248, 156, 116)\",\"pattern\":{\"shape\":\"\"}},\"name\":\"BR + Important Farmland\",\"offsetgroup\":\"BR + Important Farmland\",\"orientation\":\"v\",\"showlegend\":false,\"textposition\":\"auto\",\"x\":[\"BR + Important Farmland\"],\"xaxis\":\"x\",\"y\":[149870],\"yaxis\":\"y\",\"type\":\"bar\"},{\"alignmentgroup\":\"True\",\"hovertemplate\":\"variable=%{x}\\u003cbr\\u003eregion_name=arizona\\u003cbr\\u003evalue=%{y}\\u003cextra\\u003e\\u003c\\u002fextra\\u003e\",\"legendgroup\":\"BR + w\\u002fin 1km of Natural Areas\",\"marker\":{\"color\":\"rgb(220, 176, 242)\",\"pattern\":{\"shape\":\"\"}},\"name\":\"BR + w\\u002fin 1km of Natural Areas\",\"offsetgroup\":\"BR + w\\u002fin 1km of Natural Areas\",\"orientation\":\"v\",\"showlegend\":true,\"textposition\":\"auto\",\"x\":[\"BR + w\\u002fin 1km of Natural Areas\"],\"xaxis\":\"x11\",\"y\":[138003],\"yaxis\":\"y11\",\"type\":\"bar\"},{\"alignmentgroup\":\"True\",\"hovertemplate\":\"variable=%{x}\\u003cbr\\u003eregion_name=california\\u003cbr\\u003evalue=%{y}\\u003cextra\\u003e\\u003c\\u002fextra\\u003e\",\"legendgroup\":\"BR + w\\u002fin 1km of Natural Areas\",\"marker\":{\"color\":\"rgb(220, 176, 242)\",\"pattern\":{\"shape\":\"\"}},\"name\":\"BR + w\\u002fin 1km of Natural Areas\",\"offsetgroup\":\"BR + w\\u002fin 1km of Natural Areas\",\"orientation\":\"v\",\"showlegend\":false,\"textposition\":\"auto\",\"x\":[\"BR + w\\u002fin 1km of Natural Areas\"],\"xaxis\":\"x10\",\"y\":[77444],\"yaxis\":\"y10\",\"type\":\"bar\"},{\"alignmentgroup\":\"True\",\"hovertemplate\":\"variable=%{x}\\u003cbr\\u003eregion_name=colorado\\u003cbr\\u003evalue=%{y}\\u003cextra\\u003e\\u003c\\u002fextra\\u003e\",\"legendgroup\":\"BR + w\\u002fin 1km of Natural Areas\",\"marker\":{\"color\":\"rgb(220, 176, 242)\",\"pattern\":{\"shape\":\"\"}},\"name\":\"BR + w\\u002fin 1km of Natural Areas\",\"offsetgroup\":\"BR + w\\u002fin 1km of Natural Areas\",\"orientation\":\"v\",\"showlegend\":false,\"textposition\":\"auto\",\"x\":[\"BR + w\\u002fin 1km of Natural Areas\"],\"xaxis\":\"x9\",\"y\":[108317],\"yaxis\":\"y9\",\"type\":\"bar\"},{\"alignmentgroup\":\"True\",\"hovertemplate\":\"variable=%{x}\\u003cbr\\u003eregion_name=idaho\\u003cbr\\u003evalue=%{y}\\u003cextra\\u003e\\u003c\\u002fextra\\u003e\",\"legendgroup\":\"BR + w\\u002fin 1km of Natural Areas\",\"marker\":{\"color\":\"rgb(220, 176, 242)\",\"pattern\":{\"shape\":\"\"}},\"name\":\"BR + w\\u002fin 1km of Natural Areas\",\"offsetgroup\":\"BR + w\\u002fin 1km of Natural Areas\",\"orientation\":\"v\",\"showlegend\":false,\"textposition\":\"auto\",\"x\":[\"BR + w\\u002fin 1km of Natural Areas\"],\"xaxis\":\"x8\",\"y\":[54342],\"yaxis\":\"y8\",\"type\":\"bar\"},{\"alignmentgroup\":\"True\",\"hovertemplate\":\"variable=%{x}\\u003cbr\\u003eregion_name=montana\\u003cbr\\u003evalue=%{y}\\u003cextra\\u003e\\u003c\\u002fextra\\u003e\",\"legendgroup\":\"BR + w\\u002fin 1km of Natural Areas\",\"marker\":{\"color\":\"rgb(220, 176, 242)\",\"pattern\":{\"shape\":\"\"}},\"name\":\"BR + w\\u002fin 1km of Natural Areas\",\"offsetgroup\":\"BR + w\\u002fin 1km of Natural Areas\",\"orientation\":\"v\",\"showlegend\":false,\"textposition\":\"auto\",\"x\":[\"BR + w\\u002fin 1km of Natural Areas\"],\"xaxis\":\"x7\",\"y\":[169865],\"yaxis\":\"y7\",\"type\":\"bar\"},{\"alignmentgroup\":\"True\",\"hovertemplate\":\"variable=%{x}\\u003cbr\\u003eregion_name=new_mexico\\u003cbr\\u003evalue=%{y}\\u003cextra\\u003e\\u003c\\u002fextra\\u003e\",\"legendgroup\":\"BR + w\\u002fin 1km of Natural Areas\",\"marker\":{\"color\":\"rgb(220, 176, 242)\",\"pattern\":{\"shape\":\"\"}},\"name\":\"BR + w\\u002fin 1km of Natural Areas\",\"offsetgroup\":\"BR + w\\u002fin 1km of Natural Areas\",\"orientation\":\"v\",\"showlegend\":false,\"textposition\":\"auto\",\"x\":[\"BR + w\\u002fin 1km of Natural Areas\"],\"xaxis\":\"x6\",\"y\":[188217],\"yaxis\":\"y6\",\"type\":\"bar\"},{\"alignmentgroup\":\"True\",\"hovertemplate\":\"variable=%{x}\\u003cbr\\u003eregion_name=nevada\\u003cbr\\u003evalue=%{y}\\u003cextra\\u003e\\u003c\\u002fextra\\u003e\",\"legendgroup\":\"BR + w\\u002fin 1km of Natural Areas\",\"marker\":{\"color\":\"rgb(220, 176, 242)\",\"pattern\":{\"shape\":\"\"}},\"name\":\"BR + w\\u002fin 1km of Natural Areas\",\"offsetgroup\":\"BR + w\\u002fin 1km of Natural Areas\",\"orientation\":\"v\",\"showlegend\":false,\"textposition\":\"auto\",\"x\":[\"BR + w\\u002fin 1km of Natural Areas\"],\"xaxis\":\"x5\",\"y\":[95328],\"yaxis\":\"y5\",\"type\":\"bar\"},{\"alignmentgroup\":\"True\",\"hovertemplate\":\"variable=%{x}\\u003cbr\\u003eregion_name=oregon\\u003cbr\\u003evalue=%{y}\\u003cextra\\u003e\\u003c\\u002fextra\\u003e\",\"legendgroup\":\"BR + w\\u002fin 1km of Natural Areas\",\"marker\":{\"color\":\"rgb(220, 176, 242)\",\"pattern\":{\"shape\":\"\"}},\"name\":\"BR + w\\u002fin 1km of Natural Areas\",\"offsetgroup\":\"BR + w\\u002fin 1km of Natural Areas\",\"orientation\":\"v\",\"showlegend\":false,\"textposition\":\"auto\",\"x\":[\"BR + w\\u002fin 1km of Natural Areas\"],\"xaxis\":\"x4\",\"y\":[50877],\"yaxis\":\"y4\",\"type\":\"bar\"},{\"alignmentgroup\":\"True\",\"hovertemplate\":\"variable=%{x}\\u003cbr\\u003eregion_name=utah\\u003cbr\\u003evalue=%{y}\\u003cextra\\u003e\\u003c\\u002fextra\\u003e\",\"legendgroup\":\"BR + w\\u002fin 1km of Natural Areas\",\"marker\":{\"color\":\"rgb(220, 176, 242)\",\"pattern\":{\"shape\":\"\"}},\"name\":\"BR + w\\u002fin 1km of Natural Areas\",\"offsetgroup\":\"BR + w\\u002fin 1km of Natural Areas\",\"orientation\":\"v\",\"showlegend\":false,\"textposition\":\"auto\",\"x\":[\"BR + w\\u002fin 1km of Natural Areas\"],\"xaxis\":\"x3\",\"y\":[55520],\"yaxis\":\"y3\",\"type\":\"bar\"},{\"alignmentgroup\":\"True\",\"hovertemplate\":\"variable=%{x}\\u003cbr\\u003eregion_name=washington\\u003cbr\\u003evalue=%{y}\\u003cextra\\u003e\\u003c\\u002fextra\\u003e\",\"legendgroup\":\"BR + w\\u002fin 1km of Natural Areas\",\"marker\":{\"color\":\"rgb(220, 176, 242)\",\"pattern\":{\"shape\":\"\"}},\"name\":\"BR + w\\u002fin 1km of Natural Areas\",\"offsetgroup\":\"BR + w\\u002fin 1km of Natural Areas\",\"orientation\":\"v\",\"showlegend\":false,\"textposition\":\"auto\",\"x\":[\"BR + w\\u002fin 1km of Natural Areas\"],\"xaxis\":\"x2\",\"y\":[52188],\"yaxis\":\"y2\",\"type\":\"bar\"},{\"alignmentgroup\":\"True\",\"hovertemplate\":\"variable=%{x}\\u003cbr\\u003eregion_name=wyoming\\u003cbr\\u003evalue=%{y}\\u003cextra\\u003e\\u003c\\u002fextra\\u003e\",\"legendgroup\":\"BR + w\\u002fin 1km of Natural Areas\",\"marker\":{\"color\":\"rgb(220, 176, 242)\",\"pattern\":{\"shape\":\"\"}},\"name\":\"BR + w\\u002fin 1km of Natural Areas\",\"offsetgroup\":\"BR + w\\u002fin 1km of Natural Areas\",\"orientation\":\"v\",\"showlegend\":false,\"textposition\":\"auto\",\"x\":[\"BR + w\\u002fin 1km of Natural Areas\"],\"xaxis\":\"x\",\"y\":[134216],\"yaxis\":\"y\",\"type\":\"bar\"},{\"alignmentgroup\":\"True\",\"hovertemplate\":\"variable=%{x}\\u003cbr\\u003eregion_name=arizona\\u003cbr\\u003evalue=%{y}\\u003cextra\\u003e\\u003c\\u002fextra\\u003e\",\"legendgroup\":\"BR + w\\u002fin 5km of Natural Areas\",\"marker\":{\"color\":\"rgb(135, 197, 95)\",\"pattern\":{\"shape\":\"\"}},\"name\":\"BR + w\\u002fin 5km of Natural Areas\",\"offsetgroup\":\"BR + w\\u002fin 5km of Natural Areas\",\"orientation\":\"v\",\"showlegend\":true,\"textposition\":\"auto\",\"x\":[\"BR + w\\u002fin 5km of Natural Areas\"],\"xaxis\":\"x11\",\"y\":[96083],\"yaxis\":\"y11\",\"type\":\"bar\"},{\"alignmentgroup\":\"True\",\"hovertemplate\":\"variable=%{x}\\u003cbr\\u003eregion_name=california\\u003cbr\\u003evalue=%{y}\\u003cextra\\u003e\\u003c\\u002fextra\\u003e\",\"legendgroup\":\"BR + w\\u002fin 5km of Natural Areas\",\"marker\":{\"color\":\"rgb(135, 197, 95)\",\"pattern\":{\"shape\":\"\"}},\"name\":\"BR + w\\u002fin 5km of Natural Areas\",\"offsetgroup\":\"BR + w\\u002fin 5km of Natural Areas\",\"orientation\":\"v\",\"showlegend\":false,\"textposition\":\"auto\",\"x\":[\"BR + w\\u002fin 5km of Natural Areas\"],\"xaxis\":\"x10\",\"y\":[35956],\"yaxis\":\"y10\",\"type\":\"bar\"},{\"alignmentgroup\":\"True\",\"hovertemplate\":\"variable=%{x}\\u003cbr\\u003eregion_name=colorado\\u003cbr\\u003evalue=%{y}\\u003cextra\\u003e\\u003c\\u002fextra\\u003e\",\"legendgroup\":\"BR + w\\u002fin 5km of Natural Areas\",\"marker\":{\"color\":\"rgb(135, 197, 95)\",\"pattern\":{\"shape\":\"\"}},\"name\":\"BR + w\\u002fin 5km of Natural Areas\",\"offsetgroup\":\"BR + w\\u002fin 5km of Natural Areas\",\"orientation\":\"v\",\"showlegend\":false,\"textposition\":\"auto\",\"x\":[\"BR + w\\u002fin 5km of Natural Areas\"],\"xaxis\":\"x9\",\"y\":[74108],\"yaxis\":\"y9\",\"type\":\"bar\"},{\"alignmentgroup\":\"True\",\"hovertemplate\":\"variable=%{x}\\u003cbr\\u003eregion_name=idaho\\u003cbr\\u003evalue=%{y}\\u003cextra\\u003e\\u003c\\u002fextra\\u003e\",\"legendgroup\":\"BR + w\\u002fin 5km of Natural Areas\",\"marker\":{\"color\":\"rgb(135, 197, 95)\",\"pattern\":{\"shape\":\"\"}},\"name\":\"BR + w\\u002fin 5km of Natural Areas\",\"offsetgroup\":\"BR + w\\u002fin 5km of Natural Areas\",\"orientation\":\"v\",\"showlegend\":false,\"textposition\":\"auto\",\"x\":[\"BR + w\\u002fin 5km of Natural Areas\"],\"xaxis\":\"x8\",\"y\":[24823],\"yaxis\":\"y8\",\"type\":\"bar\"},{\"alignmentgroup\":\"True\",\"hovertemplate\":\"variable=%{x}\\u003cbr\\u003eregion_name=montana\\u003cbr\\u003evalue=%{y}\\u003cextra\\u003e\\u003c\\u002fextra\\u003e\",\"legendgroup\":\"BR + w\\u002fin 5km of Natural Areas\",\"marker\":{\"color\":\"rgb(135, 197, 95)\",\"pattern\":{\"shape\":\"\"}},\"name\":\"BR + w\\u002fin 5km of Natural Areas\",\"offsetgroup\":\"BR + w\\u002fin 5km of Natural Areas\",\"orientation\":\"v\",\"showlegend\":false,\"textposition\":\"auto\",\"x\":[\"BR + w\\u002fin 5km of Natural Areas\"],\"xaxis\":\"x7\",\"y\":[73973],\"yaxis\":\"y7\",\"type\":\"bar\"},{\"alignmentgroup\":\"True\",\"hovertemplate\":\"variable=%{x}\\u003cbr\\u003eregion_name=new_mexico\\u003cbr\\u003evalue=%{y}\\u003cextra\\u003e\\u003c\\u002fextra\\u003e\",\"legendgroup\":\"BR + w\\u002fin 5km of Natural Areas\",\"marker\":{\"color\":\"rgb(135, 197, 95)\",\"pattern\":{\"shape\":\"\"}},\"name\":\"BR + w\\u002fin 5km of Natural Areas\",\"offsetgroup\":\"BR + w\\u002fin 5km of Natural Areas\",\"orientation\":\"v\",\"showlegend\":false,\"textposition\":\"auto\",\"x\":[\"BR + w\\u002fin 5km of Natural Areas\"],\"xaxis\":\"x6\",\"y\":[140879],\"yaxis\":\"y6\",\"type\":\"bar\"},{\"alignmentgroup\":\"True\",\"hovertemplate\":\"variable=%{x}\\u003cbr\\u003eregion_name=nevada\\u003cbr\\u003evalue=%{y}\\u003cextra\\u003e\\u003c\\u002fextra\\u003e\",\"legendgroup\":\"BR + w\\u002fin 5km of Natural Areas\",\"marker\":{\"color\":\"rgb(135, 197, 95)\",\"pattern\":{\"shape\":\"\"}},\"name\":\"BR + w\\u002fin 5km of Natural Areas\",\"offsetgroup\":\"BR + w\\u002fin 5km of Natural Areas\",\"orientation\":\"v\",\"showlegend\":false,\"textposition\":\"auto\",\"x\":[\"BR + w\\u002fin 5km of Natural Areas\"],\"xaxis\":\"x5\",\"y\":[58064],\"yaxis\":\"y5\",\"type\":\"bar\"},{\"alignmentgroup\":\"True\",\"hovertemplate\":\"variable=%{x}\\u003cbr\\u003eregion_name=oregon\\u003cbr\\u003evalue=%{y}\\u003cextra\\u003e\\u003c\\u002fextra\\u003e\",\"legendgroup\":\"BR + w\\u002fin 5km of Natural Areas\",\"marker\":{\"color\":\"rgb(135, 197, 95)\",\"pattern\":{\"shape\":\"\"}},\"name\":\"BR + w\\u002fin 5km of Natural Areas\",\"offsetgroup\":\"BR + w\\u002fin 5km of Natural Areas\",\"orientation\":\"v\",\"showlegend\":false,\"textposition\":\"auto\",\"x\":[\"BR + w\\u002fin 5km of Natural Areas\"],\"xaxis\":\"x4\",\"y\":[24900],\"yaxis\":\"y4\",\"type\":\"bar\"},{\"alignmentgroup\":\"True\",\"hovertemplate\":\"variable=%{x}\\u003cbr\\u003eregion_name=utah\\u003cbr\\u003evalue=%{y}\\u003cextra\\u003e\\u003c\\u002fextra\\u003e\",\"legendgroup\":\"BR + w\\u002fin 5km of Natural Areas\",\"marker\":{\"color\":\"rgb(135, 197, 95)\",\"pattern\":{\"shape\":\"\"}},\"name\":\"BR + w\\u002fin 5km of Natural Areas\",\"offsetgroup\":\"BR + w\\u002fin 5km of Natural Areas\",\"orientation\":\"v\",\"showlegend\":false,\"textposition\":\"auto\",\"x\":[\"BR + w\\u002fin 5km of Natural Areas\"],\"xaxis\":\"x3\",\"y\":[35567],\"yaxis\":\"y3\",\"type\":\"bar\"},{\"alignmentgroup\":\"True\",\"hovertemplate\":\"variable=%{x}\\u003cbr\\u003eregion_name=washington\\u003cbr\\u003evalue=%{y}\\u003cextra\\u003e\\u003c\\u002fextra\\u003e\",\"legendgroup\":\"BR + w\\u002fin 5km of Natural Areas\",\"marker\":{\"color\":\"rgb(135, 197, 95)\",\"pattern\":{\"shape\":\"\"}},\"name\":\"BR + w\\u002fin 5km of Natural Areas\",\"offsetgroup\":\"BR + w\\u002fin 5km of Natural Areas\",\"orientation\":\"v\",\"showlegend\":false,\"textposition\":\"auto\",\"x\":[\"BR + w\\u002fin 5km of Natural Areas\"],\"xaxis\":\"x2\",\"y\":[27573],\"yaxis\":\"y2\",\"type\":\"bar\"},{\"alignmentgroup\":\"True\",\"hovertemplate\":\"variable=%{x}\\u003cbr\\u003eregion_name=wyoming\\u003cbr\\u003evalue=%{y}\\u003cextra\\u003e\\u003c\\u002fextra\\u003e\",\"legendgroup\":\"BR + w\\u002fin 5km of Natural Areas\",\"marker\":{\"color\":\"rgb(135, 197, 95)\",\"pattern\":{\"shape\":\"\"}},\"name\":\"BR + w\\u002fin 5km of Natural Areas\",\"offsetgroup\":\"BR + w\\u002fin 5km of Natural Areas\",\"orientation\":\"v\",\"showlegend\":false,\"textposition\":\"auto\",\"x\":[\"BR + w\\u002fin 5km of Natural Areas\"],\"xaxis\":\"x\",\"y\":[77349],\"yaxis\":\"y\",\"type\":\"bar\"},{\"alignmentgroup\":\"True\",\"hovertemplate\":\"variable=%{x}\\u003cbr\\u003eregion_name=arizona\\u003cbr\\u003evalue=%{y}\\u003cextra\\u003e\\u003c\\u002fextra\\u003e\",\"legendgroup\":\"BR + w\\u002fin 10km of Natural Areas\",\"marker\":{\"color\":\"rgb(158, 185, 243)\",\"pattern\":{\"shape\":\"\"}},\"name\":\"BR + w\\u002fin 10km of Natural Areas\",\"offsetgroup\":\"BR + w\\u002fin 10km of Natural Areas\",\"orientation\":\"v\",\"showlegend\":true,\"textposition\":\"auto\",\"x\":[\"BR + w\\u002fin 10km of Natural Areas\"],\"xaxis\":\"x11\",\"y\":[58685],\"yaxis\":\"y11\",\"type\":\"bar\"},{\"alignmentgroup\":\"True\",\"hovertemplate\":\"variable=%{x}\\u003cbr\\u003eregion_name=california\\u003cbr\\u003evalue=%{y}\\u003cextra\\u003e\\u003c\\u002fextra\\u003e\",\"legendgroup\":\"BR + w\\u002fin 10km of Natural Areas\",\"marker\":{\"color\":\"rgb(158, 185, 243)\",\"pattern\":{\"shape\":\"\"}},\"name\":\"BR + w\\u002fin 10km of Natural Areas\",\"offsetgroup\":\"BR + w\\u002fin 10km of Natural Areas\",\"orientation\":\"v\",\"showlegend\":false,\"textposition\":\"auto\",\"x\":[\"BR + w\\u002fin 10km of Natural Areas\"],\"xaxis\":\"x10\",\"y\":[12363],\"yaxis\":\"y10\",\"type\":\"bar\"},{\"alignmentgroup\":\"True\",\"hovertemplate\":\"variable=%{x}\\u003cbr\\u003eregion_name=colorado\\u003cbr\\u003evalue=%{y}\\u003cextra\\u003e\\u003c\\u002fextra\\u003e\",\"legendgroup\":\"BR + w\\u002fin 10km of Natural Areas\",\"marker\":{\"color\":\"rgb(158, 185, 243)\",\"pattern\":{\"shape\":\"\"}},\"name\":\"BR + w\\u002fin 10km of Natural Areas\",\"offsetgroup\":\"BR + w\\u002fin 10km of Natural Areas\",\"orientation\":\"v\",\"showlegend\":false,\"textposition\":\"auto\",\"x\":[\"BR + w\\u002fin 10km of Natural Areas\"],\"xaxis\":\"x9\",\"y\":[44812],\"yaxis\":\"y9\",\"type\":\"bar\"},{\"alignmentgroup\":\"True\",\"hovertemplate\":\"variable=%{x}\\u003cbr\\u003eregion_name=idaho\\u003cbr\\u003evalue=%{y}\\u003cextra\\u003e\\u003c\\u002fextra\\u003e\",\"legendgroup\":\"BR + w\\u002fin 10km of Natural Areas\",\"marker\":{\"color\":\"rgb(158, 185, 243)\",\"pattern\":{\"shape\":\"\"}},\"name\":\"BR + w\\u002fin 10km of Natural Areas\",\"offsetgroup\":\"BR + w\\u002fin 10km of Natural Areas\",\"orientation\":\"v\",\"showlegend\":false,\"textposition\":\"auto\",\"x\":[\"BR + w\\u002fin 10km of Natural Areas\"],\"xaxis\":\"x8\",\"y\":[7220],\"yaxis\":\"y8\",\"type\":\"bar\"},{\"alignmentgroup\":\"True\",\"hovertemplate\":\"variable=%{x}\\u003cbr\\u003eregion_name=montana\\u003cbr\\u003evalue=%{y}\\u003cextra\\u003e\\u003c\\u002fextra\\u003e\",\"legendgroup\":\"BR + w\\u002fin 10km of Natural Areas\",\"marker\":{\"color\":\"rgb(158, 185, 243)\",\"pattern\":{\"shape\":\"\"}},\"name\":\"BR + w\\u002fin 10km of Natural Areas\",\"offsetgroup\":\"BR + w\\u002fin 10km of Natural Areas\",\"orientation\":\"v\",\"showlegend\":false,\"textposition\":\"auto\",\"x\":[\"BR + w\\u002fin 10km of Natural Areas\"],\"xaxis\":\"x7\",\"y\":[22620],\"yaxis\":\"y7\",\"type\":\"bar\"},{\"alignmentgroup\":\"True\",\"hovertemplate\":\"variable=%{x}\\u003cbr\\u003eregion_name=new_mexico\\u003cbr\\u003evalue=%{y}\\u003cextra\\u003e\\u003c\\u002fextra\\u003e\",\"legendgroup\":\"BR + w\\u002fin 10km of Natural Areas\",\"marker\":{\"color\":\"rgb(158, 185, 243)\",\"pattern\":{\"shape\":\"\"}},\"name\":\"BR + w\\u002fin 10km of Natural Areas\",\"offsetgroup\":\"BR + w\\u002fin 10km of Natural Areas\",\"orientation\":\"v\",\"showlegend\":false,\"textposition\":\"auto\",\"x\":[\"BR + w\\u002fin 10km of Natural Areas\"],\"xaxis\":\"x6\",\"y\":[95623],\"yaxis\":\"y6\",\"type\":\"bar\"},{\"alignmentgroup\":\"True\",\"hovertemplate\":\"variable=%{x}\\u003cbr\\u003eregion_name=nevada\\u003cbr\\u003evalue=%{y}\\u003cextra\\u003e\\u003c\\u002fextra\\u003e\",\"legendgroup\":\"BR + w\\u002fin 10km of Natural Areas\",\"marker\":{\"color\":\"rgb(158, 185, 243)\",\"pattern\":{\"shape\":\"\"}},\"name\":\"BR + w\\u002fin 10km of Natural Areas\",\"offsetgroup\":\"BR + w\\u002fin 10km of Natural Areas\",\"orientation\":\"v\",\"showlegend\":false,\"textposition\":\"auto\",\"x\":[\"BR + w\\u002fin 10km of Natural Areas\"],\"xaxis\":\"x5\",\"y\":[31555],\"yaxis\":\"y5\",\"type\":\"bar\"},{\"alignmentgroup\":\"True\",\"hovertemplate\":\"variable=%{x}\\u003cbr\\u003eregion_name=oregon\\u003cbr\\u003evalue=%{y}\\u003cextra\\u003e\\u003c\\u002fextra\\u003e\",\"legendgroup\":\"BR + w\\u002fin 10km of Natural Areas\",\"marker\":{\"color\":\"rgb(158, 185, 243)\",\"pattern\":{\"shape\":\"\"}},\"name\":\"BR + w\\u002fin 10km of Natural Areas\",\"offsetgroup\":\"BR + w\\u002fin 10km of Natural Areas\",\"orientation\":\"v\",\"showlegend\":false,\"textposition\":\"auto\",\"x\":[\"BR + w\\u002fin 10km of Natural Areas\"],\"xaxis\":\"x4\",\"y\":[9672],\"yaxis\":\"y4\",\"type\":\"bar\"},{\"alignmentgroup\":\"True\",\"hovertemplate\":\"variable=%{x}\\u003cbr\\u003eregion_name=utah\\u003cbr\\u003evalue=%{y}\\u003cextra\\u003e\\u003c\\u002fextra\\u003e\",\"legendgroup\":\"BR + w\\u002fin 10km of Natural Areas\",\"marker\":{\"color\":\"rgb(158, 185, 243)\",\"pattern\":{\"shape\":\"\"}},\"name\":\"BR + w\\u002fin 10km of Natural Areas\",\"offsetgroup\":\"BR + w\\u002fin 10km of Natural Areas\",\"orientation\":\"v\",\"showlegend\":false,\"textposition\":\"auto\",\"x\":[\"BR + w\\u002fin 10km of Natural Areas\"],\"xaxis\":\"x3\",\"y\":[20191],\"yaxis\":\"y3\",\"type\":\"bar\"},{\"alignmentgroup\":\"True\",\"hovertemplate\":\"variable=%{x}\\u003cbr\\u003eregion_name=washington\\u003cbr\\u003evalue=%{y}\\u003cextra\\u003e\\u003c\\u002fextra\\u003e\",\"legendgroup\":\"BR + w\\u002fin 10km of Natural Areas\",\"marker\":{\"color\":\"rgb(158, 185, 243)\",\"pattern\":{\"shape\":\"\"}},\"name\":\"BR + w\\u002fin 10km of Natural Areas\",\"offsetgroup\":\"BR + w\\u002fin 10km of Natural Areas\",\"orientation\":\"v\",\"showlegend\":false,\"textposition\":\"auto\",\"x\":[\"BR + w\\u002fin 10km of Natural Areas\"],\"xaxis\":\"x2\",\"y\":[11489],\"yaxis\":\"y2\",\"type\":\"bar\"},{\"alignmentgroup\":\"True\",\"hovertemplate\":\"variable=%{x}\\u003cbr\\u003eregion_name=wyoming\\u003cbr\\u003evalue=%{y}\\u003cextra\\u003e\\u003c\\u002fextra\\u003e\",\"legendgroup\":\"BR + w\\u002fin 10km of Natural Areas\",\"marker\":{\"color\":\"rgb(158, 185, 243)\",\"pattern\":{\"shape\":\"\"}},\"name\":\"BR + w\\u002fin 10km of Natural Areas\",\"offsetgroup\":\"BR + w\\u002fin 10km of Natural Areas\",\"orientation\":\"v\",\"showlegend\":false,\"textposition\":\"auto\",\"x\":[\"BR + w\\u002fin 10km of Natural Areas\"],\"xaxis\":\"x\",\"y\":[35279],\"yaxis\":\"y\",\"type\":\"bar\"},{\"alignmentgroup\":\"True\",\"hovertemplate\":\"variable=%{x}\\u003cbr\\u003eregion_name=arizona\\u003cbr\\u003evalue=%{y}\\u003cextra\\u003e\\u003c\\u002fextra\\u003e\",\"legendgroup\":\"BR + DACS, w\\u002fin 5km of Natural Area, and Important Farmland\",\"marker\":{\"color\":\"rgb(254, 136, 177)\",\"pattern\":{\"shape\":\"\"}},\"name\":\"BR + DACS, w\\u002fin 5km of Natural Area, and Important Farmland\",\"offsetgroup\":\"BR + DACS, w\\u002fin 5km of Natural Area, and Important Farmland\",\"orientation\":\"v\",\"showlegend\":true,\"textposition\":\"auto\",\"x\":[\"BR + DACS, w\\u002fin 5km of Natural Area, and Important Farmland\"],\"xaxis\":\"x11\",\"y\":[29037],\"yaxis\":\"y11\",\"type\":\"bar\"},{\"alignmentgroup\":\"True\",\"hovertemplate\":\"variable=%{x}\\u003cbr\\u003eregion_name=california\\u003cbr\\u003evalue=%{y}\\u003cextra\\u003e\\u003c\\u002fextra\\u003e\",\"legendgroup\":\"BR + DACS, w\\u002fin 5km of Natural Area, and Important Farmland\",\"marker\":{\"color\":\"rgb(254, 136, 177)\",\"pattern\":{\"shape\":\"\"}},\"name\":\"BR + DACS, w\\u002fin 5km of Natural Area, and Important Farmland\",\"offsetgroup\":\"BR + DACS, w\\u002fin 5km of Natural Area, and Important Farmland\",\"orientation\":\"v\",\"showlegend\":false,\"textposition\":\"auto\",\"x\":[\"BR + DACS, w\\u002fin 5km of Natural Area, and Important Farmland\"],\"xaxis\":\"x10\",\"y\":[11447],\"yaxis\":\"y10\",\"type\":\"bar\"},{\"alignmentgroup\":\"True\",\"hovertemplate\":\"variable=%{x}\\u003cbr\\u003eregion_name=colorado\\u003cbr\\u003evalue=%{y}\\u003cextra\\u003e\\u003c\\u002fextra\\u003e\",\"legendgroup\":\"BR + DACS, w\\u002fin 5km of Natural Area, and Important Farmland\",\"marker\":{\"color\":\"rgb(254, 136, 177)\",\"pattern\":{\"shape\":\"\"}},\"name\":\"BR + DACS, w\\u002fin 5km of Natural Area, and Important Farmland\",\"offsetgroup\":\"BR + DACS, w\\u002fin 5km of Natural Area, and Important Farmland\",\"orientation\":\"v\",\"showlegend\":false,\"textposition\":\"auto\",\"x\":[\"BR + DACS, w\\u002fin 5km of Natural Area, and Important Farmland\"],\"xaxis\":\"x9\",\"y\":[33028],\"yaxis\":\"y9\",\"type\":\"bar\"},{\"alignmentgroup\":\"True\",\"hovertemplate\":\"variable=%{x}\\u003cbr\\u003eregion_name=idaho\\u003cbr\\u003evalue=%{y}\\u003cextra\\u003e\\u003c\\u002fextra\\u003e\",\"legendgroup\":\"BR + DACS, w\\u002fin 5km of Natural Area, and Important Farmland\",\"marker\":{\"color\":\"rgb(254, 136, 177)\",\"pattern\":{\"shape\":\"\"}},\"name\":\"BR + DACS, w\\u002fin 5km of Natural Area, and Important Farmland\",\"offsetgroup\":\"BR + DACS, w\\u002fin 5km of Natural Area, and Important Farmland\",\"orientation\":\"v\",\"showlegend\":false,\"textposition\":\"auto\",\"x\":[\"BR + DACS, w\\u002fin 5km of Natural Area, and Important Farmland\"],\"xaxis\":\"x8\",\"y\":[5924],\"yaxis\":\"y8\",\"type\":\"bar\"},{\"alignmentgroup\":\"True\",\"hovertemplate\":\"variable=%{x}\\u003cbr\\u003eregion_name=montana\\u003cbr\\u003evalue=%{y}\\u003cextra\\u003e\\u003c\\u002fextra\\u003e\",\"legendgroup\":\"BR + DACS, w\\u002fin 5km of Natural Area, and Important Farmland\",\"marker\":{\"color\":\"rgb(254, 136, 177)\",\"pattern\":{\"shape\":\"\"}},\"name\":\"BR + DACS, w\\u002fin 5km of Natural Area, and Important Farmland\",\"offsetgroup\":\"BR + DACS, w\\u002fin 5km of Natural Area, and Important Farmland\",\"orientation\":\"v\",\"showlegend\":false,\"textposition\":\"auto\",\"x\":[\"BR + DACS, w\\u002fin 5km of Natural Area, and Important Farmland\"],\"xaxis\":\"x7\",\"y\":[34122],\"yaxis\":\"y7\",\"type\":\"bar\"},{\"alignmentgroup\":\"True\",\"hovertemplate\":\"variable=%{x}\\u003cbr\\u003eregion_name=new_mexico\\u003cbr\\u003evalue=%{y}\\u003cextra\\u003e\\u003c\\u002fextra\\u003e\",\"legendgroup\":\"BR + DACS, w\\u002fin 5km of Natural Area, and Important Farmland\",\"marker\":{\"color\":\"rgb(254, 136, 177)\",\"pattern\":{\"shape\":\"\"}},\"name\":\"BR + DACS, w\\u002fin 5km of Natural Area, and Important Farmland\",\"offsetgroup\":\"BR + DACS, w\\u002fin 5km of Natural Area, and Important Farmland\",\"orientation\":\"v\",\"showlegend\":false,\"textposition\":\"auto\",\"x\":[\"BR + DACS, w\\u002fin 5km of Natural Area, and Important Farmland\"],\"xaxis\":\"x6\",\"y\":[13895],\"yaxis\":\"y6\",\"type\":\"bar\"},{\"alignmentgroup\":\"True\",\"hovertemplate\":\"variable=%{x}\\u003cbr\\u003eregion_name=nevada\\u003cbr\\u003evalue=%{y}\\u003cextra\\u003e\\u003c\\u002fextra\\u003e\",\"legendgroup\":\"BR + DACS, w\\u002fin 5km of Natural Area, and Important Farmland\",\"marker\":{\"color\":\"rgb(254, 136, 177)\",\"pattern\":{\"shape\":\"\"}},\"name\":\"BR + DACS, w\\u002fin 5km of Natural Area, and Important Farmland\",\"offsetgroup\":\"BR + DACS, w\\u002fin 5km of Natural Area, and Important Farmland\",\"orientation\":\"v\",\"showlegend\":false,\"textposition\":\"auto\",\"x\":[\"BR + DACS, w\\u002fin 5km of Natural Area, and Important Farmland\"],\"xaxis\":\"x5\",\"y\":[43722],\"yaxis\":\"y5\",\"type\":\"bar\"},{\"alignmentgroup\":\"True\",\"hovertemplate\":\"variable=%{x}\\u003cbr\\u003eregion_name=oregon\\u003cbr\\u003evalue=%{y}\\u003cextra\\u003e\\u003c\\u002fextra\\u003e\",\"legendgroup\":\"BR + DACS, w\\u002fin 5km of Natural Area, and Important Farmland\",\"marker\":{\"color\":\"rgb(254, 136, 177)\",\"pattern\":{\"shape\":\"\"}},\"name\":\"BR + DACS, w\\u002fin 5km of Natural Area, and Important Farmland\",\"offsetgroup\":\"BR + DACS, w\\u002fin 5km of Natural Area, and Important Farmland\",\"orientation\":\"v\",\"showlegend\":false,\"textposition\":\"auto\",\"x\":[\"BR + DACS, w\\u002fin 5km of Natural Area, and Important Farmland\"],\"xaxis\":\"x4\",\"y\":[1582],\"yaxis\":\"y4\",\"type\":\"bar\"},{\"alignmentgroup\":\"True\",\"hovertemplate\":\"variable=%{x}\\u003cbr\\u003eregion_name=utah\\u003cbr\\u003evalue=%{y}\\u003cextra\\u003e\\u003c\\u002fextra\\u003e\",\"legendgroup\":\"BR + DACS, w\\u002fin 5km of Natural Area, and Important Farmland\",\"marker\":{\"color\":\"rgb(254, 136, 177)\",\"pattern\":{\"shape\":\"\"}},\"name\":\"BR + DACS, w\\u002fin 5km of Natural Area, and Important Farmland\",\"offsetgroup\":\"BR + DACS, w\\u002fin 5km of Natural Area, and Important Farmland\",\"orientation\":\"v\",\"showlegend\":false,\"textposition\":\"auto\",\"x\":[\"BR + DACS, w\\u002fin 5km of Natural Area, and Important Farmland\"],\"xaxis\":\"x3\",\"y\":[19698],\"yaxis\":\"y3\",\"type\":\"bar\"},{\"alignmentgroup\":\"True\",\"hovertemplate\":\"variable=%{x}\\u003cbr\\u003eregion_name=washington\\u003cbr\\u003evalue=%{y}\\u003cextra\\u003e\\u003c\\u002fextra\\u003e\",\"legendgroup\":\"BR + DACS, w\\u002fin 5km of Natural Area, and Important Farmland\",\"marker\":{\"color\":\"rgb(254, 136, 177)\",\"pattern\":{\"shape\":\"\"}},\"name\":\"BR + DACS, w\\u002fin 5km of Natural Area, and Important Farmland\",\"offsetgroup\":\"BR + DACS, w\\u002fin 5km of Natural Area, and Important Farmland\",\"orientation\":\"v\",\"showlegend\":false,\"textposition\":\"auto\",\"x\":[\"BR + DACS, w\\u002fin 5km of Natural Area, and Important Farmland\"],\"xaxis\":\"x2\",\"y\":[5980],\"yaxis\":\"y2\",\"type\":\"bar\"},{\"alignmentgroup\":\"True\",\"hovertemplate\":\"variable=%{x}\\u003cbr\\u003eregion_name=wyoming\\u003cbr\\u003evalue=%{y}\\u003cextra\\u003e\\u003c\\u002fextra\\u003e\",\"legendgroup\":\"BR + DACS, w\\u002fin 5km of Natural Area, and Important Farmland\",\"marker\":{\"color\":\"rgb(254, 136, 177)\",\"pattern\":{\"shape\":\"\"}},\"name\":\"BR + DACS, w\\u002fin 5km of Natural Area, and Important Farmland\",\"offsetgroup\":\"BR + DACS, w\\u002fin 5km of Natural Area, and Important Farmland\",\"orientation\":\"v\",\"showlegend\":false,\"textposition\":\"auto\",\"x\":[\"BR + DACS, w\\u002fin 5km of Natural Area, and Important Farmland\"],\"xaxis\":\"x\",\"y\":[66940],\"yaxis\":\"y\",\"type\":\"bar\"},{\"alignmentgroup\":\"True\",\"hovertemplate\":\"variable=%{x}\\u003cbr\\u003eregion_name=arizona\\u003cbr\\u003evalue=%{y}\\u003cextra\\u003e\\u003c\\u002fextra\\u003e\",\"legendgroup\":\"BR + w\\u002fin 5km of Natural Area and Important Farmland\",\"marker\":{\"color\":\"rgb(201, 219, 116)\",\"pattern\":{\"shape\":\"\"}},\"name\":\"BR + w\\u002fin 5km of Natural Area and Important Farmland\",\"offsetgroup\":\"BR + w\\u002fin 5km of Natural Area and Important Farmland\",\"orientation\":\"v\",\"showlegend\":true,\"textposition\":\"auto\",\"x\":[\"BR + w\\u002fin 5km of Natural Area and Important Farmland\"],\"xaxis\":\"x11\",\"y\":[94923],\"yaxis\":\"y11\",\"type\":\"bar\"},{\"alignmentgroup\":\"True\",\"hovertemplate\":\"variable=%{x}\\u003cbr\\u003eregion_name=california\\u003cbr\\u003evalue=%{y}\\u003cextra\\u003e\\u003c\\u002fextra\\u003e\",\"legendgroup\":\"BR + w\\u002fin 5km of Natural Area and Important Farmland\",\"marker\":{\"color\":\"rgb(201, 219, 116)\",\"pattern\":{\"shape\":\"\"}},\"name\":\"BR + w\\u002fin 5km of Natural Area and Important Farmland\",\"offsetgroup\":\"BR + w\\u002fin 5km of Natural Area and Important Farmland\",\"orientation\":\"v\",\"showlegend\":false,\"textposition\":\"auto\",\"x\":[\"BR + w\\u002fin 5km of Natural Area and Important Farmland\"],\"xaxis\":\"x10\",\"y\":[28055],\"yaxis\":\"y10\",\"type\":\"bar\"},{\"alignmentgroup\":\"True\",\"hovertemplate\":\"variable=%{x}\\u003cbr\\u003eregion_name=colorado\\u003cbr\\u003evalue=%{y}\\u003cextra\\u003e\\u003c\\u002fextra\\u003e\",\"legendgroup\":\"BR + w\\u002fin 5km of Natural Area and Important Farmland\",\"marker\":{\"color\":\"rgb(201, 219, 116)\",\"pattern\":{\"shape\":\"\"}},\"name\":\"BR + w\\u002fin 5km of Natural Area and Important Farmland\",\"offsetgroup\":\"BR + w\\u002fin 5km of Natural Area and Important Farmland\",\"orientation\":\"v\",\"showlegend\":false,\"textposition\":\"auto\",\"x\":[\"BR + w\\u002fin 5km of Natural Area and Important Farmland\"],\"xaxis\":\"x9\",\"y\":[67459],\"yaxis\":\"y9\",\"type\":\"bar\"},{\"alignmentgroup\":\"True\",\"hovertemplate\":\"variable=%{x}\\u003cbr\\u003eregion_name=idaho\\u003cbr\\u003evalue=%{y}\\u003cextra\\u003e\\u003c\\u002fextra\\u003e\",\"legendgroup\":\"BR + w\\u002fin 5km of Natural Area and Important Farmland\",\"marker\":{\"color\":\"rgb(201, 219, 116)\",\"pattern\":{\"shape\":\"\"}},\"name\":\"BR + w\\u002fin 5km of Natural Area and Important Farmland\",\"offsetgroup\":\"BR + w\\u002fin 5km of Natural Area and Important Farmland\",\"orientation\":\"v\",\"showlegend\":false,\"textposition\":\"auto\",\"x\":[\"BR + w\\u002fin 5km of Natural Area and Important Farmland\"],\"xaxis\":\"x8\",\"y\":[24319],\"yaxis\":\"y8\",\"type\":\"bar\"},{\"alignmentgroup\":\"True\",\"hovertemplate\":\"variable=%{x}\\u003cbr\\u003eregion_name=montana\\u003cbr\\u003evalue=%{y}\\u003cextra\\u003e\\u003c\\u002fextra\\u003e\",\"legendgroup\":\"BR + w\\u002fin 5km of Natural Area and Important Farmland\",\"marker\":{\"color\":\"rgb(201, 219, 116)\",\"pattern\":{\"shape\":\"\"}},\"name\":\"BR + w\\u002fin 5km of Natural Area and Important Farmland\",\"offsetgroup\":\"BR + w\\u002fin 5km of Natural Area and Important Farmland\",\"orientation\":\"v\",\"showlegend\":false,\"textposition\":\"auto\",\"x\":[\"BR + w\\u002fin 5km of Natural Area and Important Farmland\"],\"xaxis\":\"x7\",\"y\":[63629],\"yaxis\":\"y7\",\"type\":\"bar\"},{\"alignmentgroup\":\"True\",\"hovertemplate\":\"variable=%{x}\\u003cbr\\u003eregion_name=new_mexico\\u003cbr\\u003evalue=%{y}\\u003cextra\\u003e\\u003c\\u002fextra\\u003e\",\"legendgroup\":\"BR + w\\u002fin 5km of Natural Area and Important Farmland\",\"marker\":{\"color\":\"rgb(201, 219, 116)\",\"pattern\":{\"shape\":\"\"}},\"name\":\"BR + w\\u002fin 5km of Natural Area and Important Farmland\",\"offsetgroup\":\"BR + w\\u002fin 5km of Natural Area and Important Farmland\",\"orientation\":\"v\",\"showlegend\":false,\"textposition\":\"auto\",\"x\":[\"BR + w\\u002fin 5km of Natural Area and Important Farmland\"],\"xaxis\":\"x6\",\"y\":[123471],\"yaxis\":\"y6\",\"type\":\"bar\"},{\"alignmentgroup\":\"True\",\"hovertemplate\":\"variable=%{x}\\u003cbr\\u003eregion_name=nevada\\u003cbr\\u003evalue=%{y}\\u003cextra\\u003e\\u003c\\u002fextra\\u003e\",\"legendgroup\":\"BR + w\\u002fin 5km of Natural Area and Important Farmland\",\"marker\":{\"color\":\"rgb(201, 219, 116)\",\"pattern\":{\"shape\":\"\"}},\"name\":\"BR + w\\u002fin 5km of Natural Area and Important Farmland\",\"offsetgroup\":\"BR + w\\u002fin 5km of Natural Area and Important Farmland\",\"orientation\":\"v\",\"showlegend\":false,\"textposition\":\"auto\",\"x\":[\"BR + w\\u002fin 5km of Natural Area and Important Farmland\"],\"xaxis\":\"x5\",\"y\":[58022],\"yaxis\":\"y5\",\"type\":\"bar\"},{\"alignmentgroup\":\"True\",\"hovertemplate\":\"variable=%{x}\\u003cbr\\u003eregion_name=oregon\\u003cbr\\u003evalue=%{y}\\u003cextra\\u003e\\u003c\\u002fextra\\u003e\",\"legendgroup\":\"BR + w\\u002fin 5km of Natural Area and Important Farmland\",\"marker\":{\"color\":\"rgb(201, 219, 116)\",\"pattern\":{\"shape\":\"\"}},\"name\":\"BR + w\\u002fin 5km of Natural Area and Important Farmland\",\"offsetgroup\":\"BR + w\\u002fin 5km of Natural Area and Important Farmland\",\"orientation\":\"v\",\"showlegend\":false,\"textposition\":\"auto\",\"x\":[\"BR + w\\u002fin 5km of Natural Area and Important Farmland\"],\"xaxis\":\"x4\",\"y\":[10776],\"yaxis\":\"y4\",\"type\":\"bar\"},{\"alignmentgroup\":\"True\",\"hovertemplate\":\"variable=%{x}\\u003cbr\\u003eregion_name=utah\\u003cbr\\u003evalue=%{y}\\u003cextra\\u003e\\u003c\\u002fextra\\u003e\",\"legendgroup\":\"BR + w\\u002fin 5km of Natural Area and Important Farmland\",\"marker\":{\"color\":\"rgb(201, 219, 116)\",\"pattern\":{\"shape\":\"\"}},\"name\":\"BR + w\\u002fin 5km of Natural Area and Important Farmland\",\"offsetgroup\":\"BR + w\\u002fin 5km of Natural Area and Important Farmland\",\"orientation\":\"v\",\"showlegend\":false,\"textposition\":\"auto\",\"x\":[\"BR + w\\u002fin 5km of Natural Area and Important Farmland\"],\"xaxis\":\"x3\",\"y\":[33048],\"yaxis\":\"y3\",\"type\":\"bar\"},{\"alignmentgroup\":\"True\",\"hovertemplate\":\"variable=%{x}\\u003cbr\\u003eregion_name=washington\\u003cbr\\u003evalue=%{y}\\u003cextra\\u003e\\u003c\\u002fextra\\u003e\",\"legendgroup\":\"BR + w\\u002fin 5km of Natural Area and Important Farmland\",\"marker\":{\"color\":\"rgb(201, 219, 116)\",\"pattern\":{\"shape\":\"\"}},\"name\":\"BR + w\\u002fin 5km of Natural Area and Important Farmland\",\"offsetgroup\":\"BR + w\\u002fin 5km of Natural Area and Important Farmland\",\"orientation\":\"v\",\"showlegend\":false,\"textposition\":\"auto\",\"x\":[\"BR + w\\u002fin 5km of Natural Area and Important Farmland\"],\"xaxis\":\"x2\",\"y\":[14369],\"yaxis\":\"y2\",\"type\":\"bar\"},{\"alignmentgroup\":\"True\",\"hovertemplate\":\"variable=%{x}\\u003cbr\\u003eregion_name=wyoming\\u003cbr\\u003evalue=%{y}\\u003cextra\\u003e\\u003c\\u002fextra\\u003e\",\"legendgroup\":\"BR + w\\u002fin 5km of Natural Area and Important Farmland\",\"marker\":{\"color\":\"rgb(201, 219, 116)\",\"pattern\":{\"shape\":\"\"}},\"name\":\"BR + w\\u002fin 5km of Natural Area and Important Farmland\",\"offsetgroup\":\"BR + w\\u002fin 5km of Natural Area and Important Farmland\",\"orientation\":\"v\",\"showlegend\":false,\"textposition\":\"auto\",\"x\":[\"BR + w\\u002fin 5km of Natural Area and Important Farmland\"],\"xaxis\":\"x\",\"y\":[76781],\"yaxis\":\"y\",\"type\":\"bar\"},{\"alignmentgroup\":\"True\",\"hovertemplate\":\"variable=%{x}\\u003cbr\\u003eregion_name=arizona\\u003cbr\\u003evalue=%{y}\\u003cextra\\u003e\\u003c\\u002fextra\\u003e\",\"legendgroup\":\"BR + w\\u002fin 10km of Natural Area and Important Farmland\",\"marker\":{\"color\":\"rgb(139, 224, 164)\",\"pattern\":{\"shape\":\"\"}},\"name\":\"BR + w\\u002fin 10km of Natural Area and Important Farmland\",\"offsetgroup\":\"BR + w\\u002fin 10km of Natural Area and Important Farmland\",\"orientation\":\"v\",\"showlegend\":true,\"textposition\":\"auto\",\"x\":[\"BR + w\\u002fin 10km of Natural Area and Important Farmland\"],\"xaxis\":\"x11\",\"y\":[58270],\"yaxis\":\"y11\",\"type\":\"bar\"},{\"alignmentgroup\":\"True\",\"hovertemplate\":\"variable=%{x}\\u003cbr\\u003eregion_name=california\\u003cbr\\u003evalue=%{y}\\u003cextra\\u003e\\u003c\\u002fextra\\u003e\",\"legendgroup\":\"BR + w\\u002fin 10km of Natural Area and Important Farmland\",\"marker\":{\"color\":\"rgb(139, 224, 164)\",\"pattern\":{\"shape\":\"\"}},\"name\":\"BR + w\\u002fin 10km of Natural Area and Important Farmland\",\"offsetgroup\":\"BR + w\\u002fin 10km of Natural Area and Important Farmland\",\"orientation\":\"v\",\"showlegend\":false,\"textposition\":\"auto\",\"x\":[\"BR + w\\u002fin 10km of Natural Area and Important Farmland\"],\"xaxis\":\"x10\",\"y\":[9345],\"yaxis\":\"y10\",\"type\":\"bar\"},{\"alignmentgroup\":\"True\",\"hovertemplate\":\"variable=%{x}\\u003cbr\\u003eregion_name=colorado\\u003cbr\\u003evalue=%{y}\\u003cextra\\u003e\\u003c\\u002fextra\\u003e\",\"legendgroup\":\"BR + w\\u002fin 10km of Natural Area and Important Farmland\",\"marker\":{\"color\":\"rgb(139, 224, 164)\",\"pattern\":{\"shape\":\"\"}},\"name\":\"BR + w\\u002fin 10km of Natural Area and Important Farmland\",\"offsetgroup\":\"BR + w\\u002fin 10km of Natural Area and Important Farmland\",\"orientation\":\"v\",\"showlegend\":false,\"textposition\":\"auto\",\"x\":[\"BR + w\\u002fin 10km of Natural Area and Important Farmland\"],\"xaxis\":\"x9\",\"y\":[40765],\"yaxis\":\"y9\",\"type\":\"bar\"},{\"alignmentgroup\":\"True\",\"hovertemplate\":\"variable=%{x}\\u003cbr\\u003eregion_name=idaho\\u003cbr\\u003evalue=%{y}\\u003cextra\\u003e\\u003c\\u002fextra\\u003e\",\"legendgroup\":\"BR + w\\u002fin 10km of Natural Area and Important Farmland\",\"marker\":{\"color\":\"rgb(139, 224, 164)\",\"pattern\":{\"shape\":\"\"}},\"name\":\"BR + w\\u002fin 10km of Natural Area and Important Farmland\",\"offsetgroup\":\"BR + w\\u002fin 10km of Natural Area and Important Farmland\",\"orientation\":\"v\",\"showlegend\":false,\"textposition\":\"auto\",\"x\":[\"BR + w\\u002fin 10km of Natural Area and Important Farmland\"],\"xaxis\":\"x8\",\"y\":[6999],\"yaxis\":\"y8\",\"type\":\"bar\"},{\"alignmentgroup\":\"True\",\"hovertemplate\":\"variable=%{x}\\u003cbr\\u003eregion_name=montana\\u003cbr\\u003evalue=%{y}\\u003cextra\\u003e\\u003c\\u002fextra\\u003e\",\"legendgroup\":\"BR + w\\u002fin 10km of Natural Area and Important Farmland\",\"marker\":{\"color\":\"rgb(139, 224, 164)\",\"pattern\":{\"shape\":\"\"}},\"name\":\"BR + w\\u002fin 10km of Natural Area and Important Farmland\",\"offsetgroup\":\"BR + w\\u002fin 10km of Natural Area and Important Farmland\",\"orientation\":\"v\",\"showlegend\":false,\"textposition\":\"auto\",\"x\":[\"BR + w\\u002fin 10km of Natural Area and Important Farmland\"],\"xaxis\":\"x7\",\"y\":[19598],\"yaxis\":\"y7\",\"type\":\"bar\"},{\"alignmentgroup\":\"True\",\"hovertemplate\":\"variable=%{x}\\u003cbr\\u003eregion_name=new_mexico\\u003cbr\\u003evalue=%{y}\\u003cextra\\u003e\\u003c\\u002fextra\\u003e\",\"legendgroup\":\"BR + w\\u002fin 10km of Natural Area and Important Farmland\",\"marker\":{\"color\":\"rgb(139, 224, 164)\",\"pattern\":{\"shape\":\"\"}},\"name\":\"BR + w\\u002fin 10km of Natural Area and Important Farmland\",\"offsetgroup\":\"BR + w\\u002fin 10km of Natural Area and Important Farmland\",\"orientation\":\"v\",\"showlegend\":false,\"textposition\":\"auto\",\"x\":[\"BR + w\\u002fin 10km of Natural Area and Important Farmland\"],\"xaxis\":\"x6\",\"y\":[82948],\"yaxis\":\"y6\",\"type\":\"bar\"},{\"alignmentgroup\":\"True\",\"hovertemplate\":\"variable=%{x}\\u003cbr\\u003eregion_name=nevada\\u003cbr\\u003evalue=%{y}\\u003cextra\\u003e\\u003c\\u002fextra\\u003e\",\"legendgroup\":\"BR + w\\u002fin 10km of Natural Area and Important Farmland\",\"marker\":{\"color\":\"rgb(139, 224, 164)\",\"pattern\":{\"shape\":\"\"}},\"name\":\"BR + w\\u002fin 10km of Natural Area and Important Farmland\",\"offsetgroup\":\"BR + w\\u002fin 10km of Natural Area and Important Farmland\",\"orientation\":\"v\",\"showlegend\":false,\"textposition\":\"auto\",\"x\":[\"BR + w\\u002fin 10km of Natural Area and Important Farmland\"],\"xaxis\":\"x5\",\"y\":[31536],\"yaxis\":\"y5\",\"type\":\"bar\"},{\"alignmentgroup\":\"True\",\"hovertemplate\":\"variable=%{x}\\u003cbr\\u003eregion_name=oregon\\u003cbr\\u003evalue=%{y}\\u003cextra\\u003e\\u003c\\u002fextra\\u003e\",\"legendgroup\":\"BR + w\\u002fin 10km of Natural Area and Important Farmland\",\"marker\":{\"color\":\"rgb(139, 224, 164)\",\"pattern\":{\"shape\":\"\"}},\"name\":\"BR + w\\u002fin 10km of Natural Area and Important Farmland\",\"offsetgroup\":\"BR + w\\u002fin 10km of Natural Area and Important Farmland\",\"orientation\":\"v\",\"showlegend\":false,\"textposition\":\"auto\",\"x\":[\"BR + w\\u002fin 10km of Natural Area and Important Farmland\"],\"xaxis\":\"x4\",\"y\":[4147],\"yaxis\":\"y4\",\"type\":\"bar\"},{\"alignmentgroup\":\"True\",\"hovertemplate\":\"variable=%{x}\\u003cbr\\u003eregion_name=utah\\u003cbr\\u003evalue=%{y}\\u003cextra\\u003e\\u003c\\u002fextra\\u003e\",\"legendgroup\":\"BR + w\\u002fin 10km of Natural Area and Important Farmland\",\"marker\":{\"color\":\"rgb(139, 224, 164)\",\"pattern\":{\"shape\":\"\"}},\"name\":\"BR + w\\u002fin 10km of Natural Area and Important Farmland\",\"offsetgroup\":\"BR + w\\u002fin 10km of Natural Area and Important Farmland\",\"orientation\":\"v\",\"showlegend\":false,\"textposition\":\"auto\",\"x\":[\"BR + w\\u002fin 10km of Natural Area and Important Farmland\"],\"xaxis\":\"x3\",\"y\":[19213],\"yaxis\":\"y3\",\"type\":\"bar\"},{\"alignmentgroup\":\"True\",\"hovertemplate\":\"variable=%{x}\\u003cbr\\u003eregion_name=washington\\u003cbr\\u003evalue=%{y}\\u003cextra\\u003e\\u003c\\u002fextra\\u003e\",\"legendgroup\":\"BR + w\\u002fin 10km of Natural Area and Important Farmland\",\"marker\":{\"color\":\"rgb(139, 224, 164)\",\"pattern\":{\"shape\":\"\"}},\"name\":\"BR + w\\u002fin 10km of Natural Area and Important Farmland\",\"offsetgroup\":\"BR + w\\u002fin 10km of Natural Area and Important Farmland\",\"orientation\":\"v\",\"showlegend\":false,\"textposition\":\"auto\",\"x\":[\"BR + w\\u002fin 10km of Natural Area and Important Farmland\"],\"xaxis\":\"x2\",\"y\":[6037],\"yaxis\":\"y2\",\"type\":\"bar\"},{\"alignmentgroup\":\"True\",\"hovertemplate\":\"variable=%{x}\\u003cbr\\u003eregion_name=wyoming\\u003cbr\\u003evalue=%{y}\\u003cextra\\u003e\\u003c\\u002fextra\\u003e\",\"legendgroup\":\"BR + w\\u002fin 10km of Natural Area and Important Farmland\",\"marker\":{\"color\":\"rgb(139, 224, 164)\",\"pattern\":{\"shape\":\"\"}},\"name\":\"BR + w\\u002fin 10km of Natural Area and Important Farmland\",\"offsetgroup\":\"BR + w\\u002fin 10km of Natural Area and Important Farmland\",\"orientation\":\"v\",\"showlegend\":false,\"textposition\":\"auto\",\"x\":[\"BR + w\\u002fin 10km of Natural Area and Important Farmland\"],\"xaxis\":\"x\",\"y\":[35039],\"yaxis\":\"y\",\"type\":\"bar\"}],                        {\"template\":{\"data\":{\"histogram2dcontour\":[{\"type\":\"histogram2dcontour\",\"colorbar\":{\"outlinewidth\":0,\"ticks\":\"\"},\"colorscale\":[[0.0,\"#0d0887\"],[0.1111111111111111,\"#46039f\"],[0.2222222222222222,\"#7201a8\"],[0.3333333333333333,\"#9c179e\"],[0.4444444444444444,\"#bd3786\"],[0.5555555555555556,\"#d8576b\"],[0.6666666666666666,\"#ed7953\"],[0.7777777777777778,\"#fb9f3a\"],[0.8888888888888888,\"#fdca26\"],[1.0,\"#f0f921\"]]}],\"choropleth\":[{\"type\":\"choropleth\",\"colorbar\":{\"outlinewidth\":0,\"ticks\":\"\"}}],\"histogram2d\":[{\"type\":\"histogram2d\",\"colorbar\":{\"outlinewidth\":0,\"ticks\":\"\"},\"colorscale\":[[0.0,\"#0d0887\"],[0.1111111111111111,\"#46039f\"],[0.2222222222222222,\"#7201a8\"],[0.3333333333333333,\"#9c179e\"],[0.4444444444444444,\"#bd3786\"],[0.5555555555555556,\"#d8576b\"],[0.6666666666666666,\"#ed7953\"],[0.7777777777777778,\"#fb9f3a\"],[0.8888888888888888,\"#fdca26\"],[1.0,\"#f0f921\"]]}],\"heatmap\":[{\"type\":\"heatmap\",\"colorbar\":{\"outlinewidth\":0,\"ticks\":\"\"},\"colorscale\":[[0.0,\"#0d0887\"],[0.1111111111111111,\"#46039f\"],[0.2222222222222222,\"#7201a8\"],[0.3333333333333333,\"#9c179e\"],[0.4444444444444444,\"#bd3786\"],[0.5555555555555556,\"#d8576b\"],[0.6666666666666666,\"#ed7953\"],[0.7777777777777778,\"#fb9f3a\"],[0.8888888888888888,\"#fdca26\"],[1.0,\"#f0f921\"]]}],\"heatmapgl\":[{\"type\":\"heatmapgl\",\"colorbar\":{\"outlinewidth\":0,\"ticks\":\"\"},\"colorscale\":[[0.0,\"#0d0887\"],[0.1111111111111111,\"#46039f\"],[0.2222222222222222,\"#7201a8\"],[0.3333333333333333,\"#9c179e\"],[0.4444444444444444,\"#bd3786\"],[0.5555555555555556,\"#d8576b\"],[0.6666666666666666,\"#ed7953\"],[0.7777777777777778,\"#fb9f3a\"],[0.8888888888888888,\"#fdca26\"],[1.0,\"#f0f921\"]]}],\"contourcarpet\":[{\"type\":\"contourcarpet\",\"colorbar\":{\"outlinewidth\":0,\"ticks\":\"\"}}],\"contour\":[{\"type\":\"contour\",\"colorbar\":{\"outlinewidth\":0,\"ticks\":\"\"},\"colorscale\":[[0.0,\"#0d0887\"],[0.1111111111111111,\"#46039f\"],[0.2222222222222222,\"#7201a8\"],[0.3333333333333333,\"#9c179e\"],[0.4444444444444444,\"#bd3786\"],[0.5555555555555556,\"#d8576b\"],[0.6666666666666666,\"#ed7953\"],[0.7777777777777778,\"#fb9f3a\"],[0.8888888888888888,\"#fdca26\"],[1.0,\"#f0f921\"]]}],\"surface\":[{\"type\":\"surface\",\"colorbar\":{\"outlinewidth\":0,\"ticks\":\"\"},\"colorscale\":[[0.0,\"#0d0887\"],[0.1111111111111111,\"#46039f\"],[0.2222222222222222,\"#7201a8\"],[0.3333333333333333,\"#9c179e\"],[0.4444444444444444,\"#bd3786\"],[0.5555555555555556,\"#d8576b\"],[0.6666666666666666,\"#ed7953\"],[0.7777777777777778,\"#fb9f3a\"],[0.8888888888888888,\"#fdca26\"],[1.0,\"#f0f921\"]]}],\"mesh3d\":[{\"type\":\"mesh3d\",\"colorbar\":{\"outlinewidth\":0,\"ticks\":\"\"}}],\"scatter\":[{\"fillpattern\":{\"fillmode\":\"overlay\",\"size\":10,\"solidity\":0.2},\"type\":\"scatter\"}],\"parcoords\":[{\"type\":\"parcoords\",\"line\":{\"colorbar\":{\"outlinewidth\":0,\"ticks\":\"\"}}}],\"scatterpolargl\":[{\"type\":\"scatterpolargl\",\"marker\":{\"colorbar\":{\"outlinewidth\":0,\"ticks\":\"\"}}}],\"bar\":[{\"error_x\":{\"color\":\"#2a3f5f\"},\"error_y\":{\"color\":\"#2a3f5f\"},\"marker\":{\"line\":{\"color\":\"#E5ECF6\",\"width\":0.5},\"pattern\":{\"fillmode\":\"overlay\",\"size\":10,\"solidity\":0.2}},\"type\":\"bar\"}],\"scattergeo\":[{\"type\":\"scattergeo\",\"marker\":{\"colorbar\":{\"outlinewidth\":0,\"ticks\":\"\"}}}],\"scatterpolar\":[{\"type\":\"scatterpolar\",\"marker\":{\"colorbar\":{\"outlinewidth\":0,\"ticks\":\"\"}}}],\"histogram\":[{\"marker\":{\"pattern\":{\"fillmode\":\"overlay\",\"size\":10,\"solidity\":0.2}},\"type\":\"histogram\"}],\"scattergl\":[{\"type\":\"scattergl\",\"marker\":{\"colorbar\":{\"outlinewidth\":0,\"ticks\":\"\"}}}],\"scatter3d\":[{\"type\":\"scatter3d\",\"line\":{\"colorbar\":{\"outlinewidth\":0,\"ticks\":\"\"}},\"marker\":{\"colorbar\":{\"outlinewidth\":0,\"ticks\":\"\"}}}],\"scattermapbox\":[{\"type\":\"scattermapbox\",\"marker\":{\"colorbar\":{\"outlinewidth\":0,\"ticks\":\"\"}}}],\"scatterternary\":[{\"type\":\"scatterternary\",\"marker\":{\"colorbar\":{\"outlinewidth\":0,\"ticks\":\"\"}}}],\"scattercarpet\":[{\"type\":\"scattercarpet\",\"marker\":{\"colorbar\":{\"outlinewidth\":0,\"ticks\":\"\"}}}],\"carpet\":[{\"aaxis\":{\"endlinecolor\":\"#2a3f5f\",\"gridcolor\":\"white\",\"linecolor\":\"white\",\"minorgridcolor\":\"white\",\"startlinecolor\":\"#2a3f5f\"},\"baxis\":{\"endlinecolor\":\"#2a3f5f\",\"gridcolor\":\"white\",\"linecolor\":\"white\",\"minorgridcolor\":\"white\",\"startlinecolor\":\"#2a3f5f\"},\"type\":\"carpet\"}],\"table\":[{\"cells\":{\"fill\":{\"color\":\"#EBF0F8\"},\"line\":{\"color\":\"white\"}},\"header\":{\"fill\":{\"color\":\"#C8D4E3\"},\"line\":{\"color\":\"white\"}},\"type\":\"table\"}],\"barpolar\":[{\"marker\":{\"line\":{\"color\":\"#E5ECF6\",\"width\":0.5},\"pattern\":{\"fillmode\":\"overlay\",\"size\":10,\"solidity\":0.2}},\"type\":\"barpolar\"}],\"pie\":[{\"automargin\":true,\"type\":\"pie\"}]},\"layout\":{\"autotypenumbers\":\"strict\",\"colorway\":[\"#636efa\",\"#EF553B\",\"#00cc96\",\"#ab63fa\",\"#FFA15A\",\"#19d3f3\",\"#FF6692\",\"#B6E880\",\"#FF97FF\",\"#FECB52\"],\"font\":{\"color\":\"#2a3f5f\"},\"hovermode\":\"closest\",\"hoverlabel\":{\"align\":\"left\"},\"paper_bgcolor\":\"white\",\"plot_bgcolor\":\"#E5ECF6\",\"polar\":{\"bgcolor\":\"#E5ECF6\",\"angularaxis\":{\"gridcolor\":\"white\",\"linecolor\":\"white\",\"ticks\":\"\"},\"radialaxis\":{\"gridcolor\":\"white\",\"linecolor\":\"white\",\"ticks\":\"\"}},\"ternary\":{\"bgcolor\":\"#E5ECF6\",\"aaxis\":{\"gridcolor\":\"white\",\"linecolor\":\"white\",\"ticks\":\"\"},\"baxis\":{\"gridcolor\":\"white\",\"linecolor\":\"white\",\"ticks\":\"\"},\"caxis\":{\"gridcolor\":\"white\",\"linecolor\":\"white\",\"ticks\":\"\"}},\"coloraxis\":{\"colorbar\":{\"outlinewidth\":0,\"ticks\":\"\"}},\"colorscale\":{\"sequential\":[[0.0,\"#0d0887\"],[0.1111111111111111,\"#46039f\"],[0.2222222222222222,\"#7201a8\"],[0.3333333333333333,\"#9c179e\"],[0.4444444444444444,\"#bd3786\"],[0.5555555555555556,\"#d8576b\"],[0.6666666666666666,\"#ed7953\"],[0.7777777777777778,\"#fb9f3a\"],[0.8888888888888888,\"#fdca26\"],[1.0,\"#f0f921\"]],\"sequentialminus\":[[0.0,\"#0d0887\"],[0.1111111111111111,\"#46039f\"],[0.2222222222222222,\"#7201a8\"],[0.3333333333333333,\"#9c179e\"],[0.4444444444444444,\"#bd3786\"],[0.5555555555555556,\"#d8576b\"],[0.6666666666666666,\"#ed7953\"],[0.7777777777777778,\"#fb9f3a\"],[0.8888888888888888,\"#fdca26\"],[1.0,\"#f0f921\"]],\"diverging\":[[0,\"#8e0152\"],[0.1,\"#c51b7d\"],[0.2,\"#de77ae\"],[0.3,\"#f1b6da\"],[0.4,\"#fde0ef\"],[0.5,\"#f7f7f7\"],[0.6,\"#e6f5d0\"],[0.7,\"#b8e186\"],[0.8,\"#7fbc41\"],[0.9,\"#4d9221\"],[1,\"#276419\"]]},\"xaxis\":{\"gridcolor\":\"white\",\"linecolor\":\"white\",\"ticks\":\"\",\"title\":{\"standoff\":15},\"zerolinecolor\":\"white\",\"automargin\":true,\"zerolinewidth\":2},\"yaxis\":{\"gridcolor\":\"white\",\"linecolor\":\"white\",\"ticks\":\"\",\"title\":{\"standoff\":15},\"zerolinecolor\":\"white\",\"automargin\":true,\"zerolinewidth\":2},\"scene\":{\"xaxis\":{\"backgroundcolor\":\"#E5ECF6\",\"gridcolor\":\"white\",\"linecolor\":\"white\",\"showbackground\":true,\"ticks\":\"\",\"zerolinecolor\":\"white\",\"gridwidth\":2},\"yaxis\":{\"backgroundcolor\":\"#E5ECF6\",\"gridcolor\":\"white\",\"linecolor\":\"white\",\"showbackground\":true,\"ticks\":\"\",\"zerolinecolor\":\"white\",\"gridwidth\":2},\"zaxis\":{\"backgroundcolor\":\"#E5ECF6\",\"gridcolor\":\"white\",\"linecolor\":\"white\",\"showbackground\":true,\"ticks\":\"\",\"zerolinecolor\":\"white\",\"gridwidth\":2}},\"shapedefaults\":{\"line\":{\"color\":\"#2a3f5f\"}},\"annotationdefaults\":{\"arrowcolor\":\"#2a3f5f\",\"arrowhead\":0,\"arrowwidth\":1},\"geo\":{\"bgcolor\":\"white\",\"landcolor\":\"#E5ECF6\",\"subunitcolor\":\"white\",\"showland\":true,\"showlakes\":true,\"lakecolor\":\"white\"},\"title\":{\"x\":0.05},\"mapbox\":{\"style\":\"light\"}}},\"xaxis\":{\"anchor\":\"y\",\"domain\":[0.0,0.98],\"title\":{\"text\":\"variable\"},\"categoryorder\":\"array\",\"categoryarray\":[\"Baseline Restrictions (BR)\",\"BR + DACs\",\"BR + Important Farmland\",\"BR + w\\u002fin 1km of Natural Areas\",\"BR + w\\u002fin 5km of Natural Areas\",\"BR + w\\u002fin 10km of Natural Areas\",\"BR + DACS, w\\u002fin 5km of Natural Area, and Important Farmland\",\"BR + w\\u002fin 5km of Natural Area and Important Farmland\",\"BR + w\\u002fin 10km of Natural Area and Important Farmland\"]},\"yaxis\":{\"anchor\":\"x\",\"domain\":[0.0,0.06363636363636363],\"title\":{\"text\":\"square km\"},\"showgrid\":true,\"gridcolor\":\"#bdbdbd\"},\"xaxis2\":{\"anchor\":\"y2\",\"domain\":[0.0,0.98],\"matches\":\"x\",\"showticklabels\":false},\"yaxis2\":{\"anchor\":\"x2\",\"domain\":[0.09363636363636363,0.15727272727272726],\"title\":{\"text\":\"square km\"},\"showgrid\":true,\"gridcolor\":\"#bdbdbd\"},\"xaxis3\":{\"anchor\":\"y3\",\"domain\":[0.0,0.98],\"matches\":\"x\",\"showticklabels\":false},\"yaxis3\":{\"anchor\":\"x3\",\"domain\":[0.18727272727272726,0.25090909090909086],\"title\":{\"text\":\"square km\"},\"showgrid\":true,\"gridcolor\":\"#bdbdbd\"},\"xaxis4\":{\"anchor\":\"y4\",\"domain\":[0.0,0.98],\"matches\":\"x\",\"showticklabels\":false},\"yaxis4\":{\"anchor\":\"x4\",\"domain\":[0.2809090909090909,0.3445454545454545],\"title\":{\"text\":\"square km\"},\"showgrid\":true,\"gridcolor\":\"#bdbdbd\"},\"xaxis5\":{\"anchor\":\"y5\",\"domain\":[0.0,0.98],\"matches\":\"x\",\"showticklabels\":false},\"yaxis5\":{\"anchor\":\"x5\",\"domain\":[0.3745454545454545,0.4381818181818181],\"title\":{\"text\":\"square km\"},\"showgrid\":true,\"gridcolor\":\"#bdbdbd\"},\"xaxis6\":{\"anchor\":\"y6\",\"domain\":[0.0,0.98],\"matches\":\"x\",\"showticklabels\":false},\"yaxis6\":{\"anchor\":\"x6\",\"domain\":[0.46818181818181814,0.5318181818181817],\"title\":{\"text\":\"square km\"},\"showgrid\":true,\"gridcolor\":\"#bdbdbd\"},\"xaxis7\":{\"anchor\":\"y7\",\"domain\":[0.0,0.98],\"matches\":\"x\",\"showticklabels\":false},\"yaxis7\":{\"anchor\":\"x7\",\"domain\":[0.5618181818181818,0.6254545454545454],\"title\":{\"text\":\"square km\"},\"showgrid\":true,\"gridcolor\":\"#bdbdbd\"},\"xaxis8\":{\"anchor\":\"y8\",\"domain\":[0.0,0.98],\"matches\":\"x\",\"showticklabels\":false},\"yaxis8\":{\"anchor\":\"x8\",\"domain\":[0.6554545454545453,0.7190909090909089],\"title\":{\"text\":\"square km\"},\"showgrid\":true,\"gridcolor\":\"#bdbdbd\"},\"xaxis9\":{\"anchor\":\"y9\",\"domain\":[0.0,0.98],\"matches\":\"x\",\"showticklabels\":false},\"yaxis9\":{\"anchor\":\"x9\",\"domain\":[0.7490909090909089,0.8127272727272725],\"title\":{\"text\":\"square km\"},\"showgrid\":true,\"gridcolor\":\"#bdbdbd\"},\"xaxis10\":{\"anchor\":\"y10\",\"domain\":[0.0,0.98],\"matches\":\"x\",\"showticklabels\":false},\"yaxis10\":{\"anchor\":\"x10\",\"domain\":[0.8427272727272725,0.9063636363636361],\"title\":{\"text\":\"square km\"},\"showgrid\":true,\"gridcolor\":\"#bdbdbd\"},\"xaxis11\":{\"anchor\":\"y11\",\"domain\":[0.0,0.98],\"matches\":\"x\",\"showticklabels\":false},\"yaxis11\":{\"anchor\":\"x11\",\"domain\":[0.9363636363636361,0.9999999999999997],\"title\":{\"text\":\"square km\"},\"showgrid\":true,\"gridcolor\":\"#bdbdbd\"},\"annotations\":[{\"showarrow\":false,\"text\":\"\",\"textangle\":90,\"x\":0.98,\"xanchor\":\"left\",\"xref\":\"paper\",\"y\":0.031818181818181815,\"yanchor\":\"middle\",\"yref\":\"paper\"},{\"showarrow\":false,\"text\":\"\",\"textangle\":90,\"x\":0.98,\"xanchor\":\"left\",\"xref\":\"paper\",\"y\":0.12545454545454543,\"yanchor\":\"middle\",\"yref\":\"paper\"},{\"showarrow\":false,\"text\":\"\",\"textangle\":90,\"x\":0.98,\"xanchor\":\"left\",\"xref\":\"paper\",\"y\":0.21909090909090906,\"yanchor\":\"middle\",\"yref\":\"paper\"},{\"showarrow\":false,\"text\":\"\",\"textangle\":90,\"x\":0.98,\"xanchor\":\"left\",\"xref\":\"paper\",\"y\":0.3127272727272727,\"yanchor\":\"middle\",\"yref\":\"paper\"},{\"showarrow\":false,\"text\":\"\",\"textangle\":90,\"x\":0.98,\"xanchor\":\"left\",\"xref\":\"paper\",\"y\":0.4063636363636363,\"yanchor\":\"middle\",\"yref\":\"paper\"},{\"showarrow\":false,\"text\":\"\",\"textangle\":90,\"x\":0.98,\"xanchor\":\"left\",\"xref\":\"paper\",\"y\":0.49999999999999994,\"yanchor\":\"middle\",\"yref\":\"paper\"},{\"showarrow\":false,\"text\":\"\",\"textangle\":90,\"x\":0.98,\"xanchor\":\"left\",\"xref\":\"paper\",\"y\":0.5936363636363635,\"yanchor\":\"middle\",\"yref\":\"paper\"},{\"showarrow\":false,\"text\":\"\",\"textangle\":90,\"x\":0.98,\"xanchor\":\"left\",\"xref\":\"paper\",\"y\":0.687272727272727,\"yanchor\":\"middle\",\"yref\":\"paper\"},{\"showarrow\":false,\"text\":\"\",\"textangle\":90,\"x\":0.98,\"xanchor\":\"left\",\"xref\":\"paper\",\"y\":0.7809090909090908,\"yanchor\":\"middle\",\"yref\":\"paper\"},{\"showarrow\":false,\"text\":\"\",\"textangle\":90,\"x\":0.98,\"xanchor\":\"left\",\"xref\":\"paper\",\"y\":0.8745454545454543,\"yanchor\":\"middle\",\"yref\":\"paper\"},{\"showarrow\":false,\"text\":\"\",\"textangle\":90,\"x\":0.98,\"xanchor\":\"left\",\"xref\":\"paper\",\"y\":0.9681818181818178,\"yanchor\":\"middle\",\"yref\":\"paper\"},{\"font\":{\"size\":16},\"showarrow\":false,\"text\":\"Arizona\",\"x\":0.5,\"xref\":\"paper\",\"y\":1.01,\"yref\":\"paper\"},{\"font\":{\"size\":16},\"showarrow\":false,\"text\":\"California\",\"x\":0.5,\"xref\":\"paper\",\"y\":0.915,\"yref\":\"paper\"},{\"font\":{\"size\":16},\"showarrow\":false,\"text\":\"Colorado\",\"x\":0.5,\"xref\":\"paper\",\"y\":0.8200000000000001,\"yref\":\"paper\"},{\"font\":{\"size\":16},\"showarrow\":false,\"text\":\"Idaho\",\"x\":0.5,\"xref\":\"paper\",\"y\":0.7250000000000001,\"yref\":\"paper\"},{\"font\":{\"size\":16},\"showarrow\":false,\"text\":\"Montana\",\"x\":0.5,\"xref\":\"paper\",\"y\":0.6300000000000001,\"yref\":\"paper\"},{\"font\":{\"size\":16},\"showarrow\":false,\"text\":\"New_Mexico\",\"x\":0.5,\"xref\":\"paper\",\"y\":0.5350000000000001,\"yref\":\"paper\"},{\"font\":{\"size\":16},\"showarrow\":false,\"text\":\"Nevada\",\"x\":0.5,\"xref\":\"paper\",\"y\":0.44000000000000017,\"yref\":\"paper\"},{\"font\":{\"size\":16},\"showarrow\":false,\"text\":\"Oregon\",\"x\":0.5,\"xref\":\"paper\",\"y\":0.3450000000000002,\"yref\":\"paper\"},{\"font\":{\"size\":16},\"showarrow\":false,\"text\":\"Utah\",\"x\":0.5,\"xref\":\"paper\",\"y\":0.2500000000000002,\"yref\":\"paper\"},{\"font\":{\"size\":16},\"showarrow\":false,\"text\":\"Washington\",\"x\":0.5,\"xref\":\"paper\",\"y\":0.15500000000000022,\"yref\":\"paper\"},{\"font\":{\"size\":16},\"showarrow\":false,\"text\":\"Wyoming\",\"x\":0.5,\"xref\":\"paper\",\"y\":0.06000000000000022,\"yref\":\"paper\"},{\"showarrow\":false,\"text\":\"Clean Grid Required Land by 2035\",\"x\":0,\"xanchor\":\"left\",\"xref\":\"x11 domain\",\"y\":448,\"yanchor\":\"bottom\",\"yref\":\"y11\"},{\"showarrow\":false,\"text\":\"Clean Grid Required Land by 2035\",\"x\":0,\"xanchor\":\"left\",\"xref\":\"x10 domain\",\"y\":2259,\"yanchor\":\"bottom\",\"yref\":\"y10\"},{\"showarrow\":false,\"text\":\"Clean Grid Required Land by 2035\",\"x\":0,\"xanchor\":\"left\",\"xref\":\"x9 domain\",\"y\":1103,\"yanchor\":\"bottom\",\"yref\":\"y9\"},{\"showarrow\":false,\"text\":\"Clean Grid Required Land by 2035\",\"x\":0,\"xanchor\":\"left\",\"xref\":\"x8 domain\",\"y\":248,\"yanchor\":\"bottom\",\"yref\":\"y8\"},{\"showarrow\":false,\"text\":\"Clean Grid Required Land by 2035\",\"x\":0,\"xanchor\":\"left\",\"xref\":\"x7 domain\",\"y\":2142,\"yanchor\":\"bottom\",\"yref\":\"y7\"},{\"showarrow\":false,\"text\":\"Clean Grid Required Land by 2035\",\"x\":0,\"xanchor\":\"left\",\"xref\":\"x6 domain\",\"y\":759,\"yanchor\":\"bottom\",\"yref\":\"y6\"},{\"showarrow\":false,\"text\":\"Clean Grid Required Land by 2035\",\"x\":0,\"xanchor\":\"left\",\"xref\":\"x5 domain\",\"y\":175,\"yanchor\":\"bottom\",\"yref\":\"y5\"},{\"showarrow\":false,\"text\":\"Clean Grid Required Land by 2035\",\"x\":0,\"xanchor\":\"left\",\"xref\":\"x4 domain\",\"y\":527,\"yanchor\":\"bottom\",\"yref\":\"y4\"},{\"showarrow\":false,\"text\":\"Clean Grid Required Land by 2035\",\"x\":0,\"xanchor\":\"left\",\"xref\":\"x3 domain\",\"y\":606,\"yanchor\":\"bottom\",\"yref\":\"y3\"},{\"showarrow\":false,\"text\":\"Clean Grid Required Land by 2035\",\"x\":0,\"xanchor\":\"left\",\"xref\":\"x2 domain\",\"y\":472,\"yanchor\":\"bottom\",\"yref\":\"y2\"},{\"showarrow\":false,\"text\":\"Clean Grid Required Land by 2035\",\"x\":0,\"xanchor\":\"left\",\"xref\":\"x domain\",\"y\":1528,\"yanchor\":\"bottom\",\"yref\":\"y\"}],\"legend\":{\"title\":{\"text\":\"variable\"},\"tracegroupgap\":0},\"margin\":{\"t\":60},\"barmode\":\"relative\",\"height\":2000,\"width\":1200,\"uniformtext\":{\"minsize\":18,\"mode\":\"hide\"},\"showlegend\":false,\"title\":{\"text\":\"Solar Siting Availability under Various Exclusion Combinations\"},\"plot_bgcolor\":\"white\",\"paper_bgcolor\":\"white\",\"shapes\":[{\"line\":{\"dash\":\"dot\",\"width\":2},\"type\":\"line\",\"x0\":0,\"x1\":1,\"xref\":\"x11 domain\",\"y0\":448,\"y1\":448,\"yref\":\"y11\"},{\"line\":{\"dash\":\"dot\",\"width\":2},\"type\":\"line\",\"x0\":0,\"x1\":1,\"xref\":\"x10 domain\",\"y0\":2259,\"y1\":2259,\"yref\":\"y10\"},{\"line\":{\"dash\":\"dot\",\"width\":2},\"type\":\"line\",\"x0\":0,\"x1\":1,\"xref\":\"x9 domain\",\"y0\":1103,\"y1\":1103,\"yref\":\"y9\"},{\"line\":{\"dash\":\"dot\",\"width\":2},\"type\":\"line\",\"x0\":0,\"x1\":1,\"xref\":\"x8 domain\",\"y0\":248,\"y1\":248,\"yref\":\"y8\"},{\"line\":{\"dash\":\"dot\",\"width\":2},\"type\":\"line\",\"x0\":0,\"x1\":1,\"xref\":\"x7 domain\",\"y0\":2142,\"y1\":2142,\"yref\":\"y7\"},{\"line\":{\"dash\":\"dot\",\"width\":2},\"type\":\"line\",\"x0\":0,\"x1\":1,\"xref\":\"x6 domain\",\"y0\":759,\"y1\":759,\"yref\":\"y6\"},{\"line\":{\"dash\":\"dot\",\"width\":2},\"type\":\"line\",\"x0\":0,\"x1\":1,\"xref\":\"x5 domain\",\"y0\":175,\"y1\":175,\"yref\":\"y5\"},{\"line\":{\"dash\":\"dot\",\"width\":2},\"type\":\"line\",\"x0\":0,\"x1\":1,\"xref\":\"x4 domain\",\"y0\":527,\"y1\":527,\"yref\":\"y4\"},{\"line\":{\"dash\":\"dot\",\"width\":2},\"type\":\"line\",\"x0\":0,\"x1\":1,\"xref\":\"x3 domain\",\"y0\":606,\"y1\":606,\"yref\":\"y3\"},{\"line\":{\"dash\":\"dot\",\"width\":2},\"type\":\"line\",\"x0\":0,\"x1\":1,\"xref\":\"x2 domain\",\"y0\":472,\"y1\":472,\"yref\":\"y2\"},{\"line\":{\"dash\":\"dot\",\"width\":2},\"type\":\"line\",\"x0\":0,\"x1\":1,\"xref\":\"x domain\",\"y0\":1528,\"y1\":1528,\"yref\":\"y\"}]},                        {\"responsive\": true}                    ).then(function(){\n",
       "                            \n",
       "var gd = document.getElementById('6bdb9d48-1237-4b88-8b14-ccbb3af4f93a');\n",
       "var x = new MutationObserver(function (mutations, observer) {{\n",
       "        var display = window.getComputedStyle(gd).display;\n",
       "        if (!display || display === 'none') {{\n",
       "            console.log([gd, 'removed!']);\n",
       "            Plotly.purge(gd);\n",
       "            observer.disconnect();\n",
       "        }}\n",
       "}});\n",
       "\n",
       "// Listen for the removal of the full notebook cells\n",
       "var notebookContainer = gd.closest('#notebook-container');\n",
       "if (notebookContainer) {{\n",
       "    x.observe(notebookContainer, {childList: true});\n",
       "}}\n",
       "\n",
       "// Listen for the clearing of the current output cell\n",
       "var outputEl = gd.closest('.output');\n",
       "if (outputEl) {{\n",
       "    x.observe(outputEl, {childList: true});\n",
       "}}\n",
       "\n",
       "                        })                };                });            </script>        </div>"
      ]
     },
     "metadata": {},
     "output_type": "display_data"
    }
   ],
   "source": [
    "\n",
    "\n",
    "fig = px.bar(solar_df, x=\"variable\", y=\"value\", color=\"variable\",\n",
    "             facet_row=\"region_name\", width=1200, height=2000,\n",
    "            facet_row_spacing=0.03,\n",
    "            color_discrete_sequence=px.colors.qualitative.Pastel)\n",
    "state_list = list(solar_df.region_name.unique())\n",
    "\n",
    "fig.update_yaxes(matches=None, title=\"square km\", showgrid = True,  gridcolor = '#bdbdbd')\n",
    "fig.for_each_annotation(lambda a: a.update(text=a.text.split(\"=\")[-1]))\n",
    "fig.update_layout(showlegend=False, title='Solar Siting Availability under Various Exclusion Combinations',\n",
    "                 uniformtext_minsize=18, uniformtext_mode='hide', plot_bgcolor = 'white', paper_bgcolor ='white')\n",
    "\n",
    "for anno in fig['layout']['annotations']:\n",
    "    anno['text']=''\n",
    "\n",
    "start_y = 1.01\n",
    "for state_label in state_label_list:\n",
    "    fig.add_annotation(text=state_label,\n",
    "                  xref=\"paper\", yref=\"paper\",\n",
    "                  x=.5, y=start_y, showarrow=False, font=dict(size=16))\n",
    "    start_y = start_y - .095 \n",
    "\n",
    "row_no = 0\n",
    "for i in cg_km_list:\n",
    "    fig.add_hline(y=i, line_dash=\"dot\", row=row_no,line_width=2,\n",
    "          annotation_text='Clean Grid Required Land by 2035', \n",
    "          annotation_position=\"top left\")\n",
    "    if row_no == 0:\n",
    "        row_no = 10\n",
    "    else:\n",
    "        row_no-=1\n",
    "\n",
    "fig.show()"
   ]
  },
  {
   "cell_type": "code",
   "execution_count": null,
   "id": "1d1d549b-dda7-411a-ab26-9458ae94c160",
   "metadata": {},
   "outputs": [],
   "source": []
  },
  {
   "cell_type": "code",
   "execution_count": 32,
   "id": "9f797910-199d-48e2-ab39-72500f5b83bd",
   "metadata": {},
   "outputs": [
    {
     "name": "stdout",
     "output_type": "stream",
     "text": [
      "solar\n"
     ]
    },
    {
     "data": {
      "application/vnd.plotly.v1+json": {
       "config": {
        "plotlyServerURL": "https://plot.ly"
       },
       "data": [
        {
         "alignmentgroup": "True",
         "hovertemplate": "variable=%{x}<br>region_name=arizona<br>value=%{y}<extra></extra>",
         "legendgroup": "baseline",
         "marker": {
          "color": "#636efa",
          "pattern": {
           "shape": ""
          }
         },
         "name": "baseline",
         "offsetgroup": "baseline",
         "orientation": "v",
         "showlegend": true,
         "textposition": "auto",
         "type": "bar",
         "x": [
          "baseline"
         ],
         "xaxis": "x11",
         "y": [
          149468
         ],
         "yaxis": "y11"
        },
        {
         "alignmentgroup": "True",
         "hovertemplate": "variable=%{x}<br>region_name=california<br>value=%{y}<extra></extra>",
         "legendgroup": "baseline",
         "marker": {
          "color": "#636efa",
          "pattern": {
           "shape": ""
          }
         },
         "name": "baseline",
         "offsetgroup": "baseline",
         "orientation": "v",
         "showlegend": false,
         "textposition": "auto",
         "type": "bar",
         "x": [
          "baseline"
         ],
         "xaxis": "x10",
         "y": [
          94422
         ],
         "yaxis": "y10"
        },
        {
         "alignmentgroup": "True",
         "hovertemplate": "variable=%{x}<br>region_name=colorado<br>value=%{y}<extra></extra>",
         "legendgroup": "baseline",
         "marker": {
          "color": "#636efa",
          "pattern": {
           "shape": ""
          }
         },
         "name": "baseline",
         "offsetgroup": "baseline",
         "orientation": "v",
         "showlegend": false,
         "textposition": "auto",
         "type": "bar",
         "x": [
          "baseline"
         ],
         "xaxis": "x9",
         "y": [
          118782
         ],
         "yaxis": "y9"
        },
        {
         "alignmentgroup": "True",
         "hovertemplate": "variable=%{x}<br>region_name=idaho<br>value=%{y}<extra></extra>",
         "legendgroup": "baseline",
         "marker": {
          "color": "#636efa",
          "pattern": {
           "shape": ""
          }
         },
         "name": "baseline",
         "offsetgroup": "baseline",
         "orientation": "v",
         "showlegend": false,
         "textposition": "auto",
         "type": "bar",
         "x": [
          "baseline"
         ],
         "xaxis": "x8",
         "y": [
          64018
         ],
         "yaxis": "y8"
        },
        {
         "alignmentgroup": "True",
         "hovertemplate": "variable=%{x}<br>region_name=montana<br>value=%{y}<extra></extra>",
         "legendgroup": "baseline",
         "marker": {
          "color": "#636efa",
          "pattern": {
           "shape": ""
          }
         },
         "name": "baseline",
         "offsetgroup": "baseline",
         "orientation": "v",
         "showlegend": false,
         "textposition": "auto",
         "type": "bar",
         "x": [
          "baseline"
         ],
         "xaxis": "x7",
         "y": [
          200614
         ],
         "yaxis": "y7"
        },
        {
         "alignmentgroup": "True",
         "hovertemplate": "variable=%{x}<br>region_name=new_mexico<br>value=%{y}<extra></extra>",
         "legendgroup": "baseline",
         "marker": {
          "color": "#636efa",
          "pattern": {
           "shape": ""
          }
         },
         "name": "baseline",
         "offsetgroup": "baseline",
         "orientation": "v",
         "showlegend": false,
         "textposition": "auto",
         "type": "bar",
         "x": [
          "baseline"
         ],
         "xaxis": "x6",
         "y": [
          201750
         ],
         "yaxis": "y6"
        },
        {
         "alignmentgroup": "True",
         "hovertemplate": "variable=%{x}<br>region_name=nevada<br>value=%{y}<extra></extra>",
         "legendgroup": "baseline",
         "marker": {
          "color": "#636efa",
          "pattern": {
           "shape": ""
          }
         },
         "name": "baseline",
         "offsetgroup": "baseline",
         "orientation": "v",
         "showlegend": false,
         "textposition": "auto",
         "type": "bar",
         "x": [
          "baseline"
         ],
         "xaxis": "x5",
         "y": [
          106346
         ],
         "yaxis": "y5"
        },
        {
         "alignmentgroup": "True",
         "hovertemplate": "variable=%{x}<br>region_name=oregon<br>value=%{y}<extra></extra>",
         "legendgroup": "baseline",
         "marker": {
          "color": "#636efa",
          "pattern": {
           "shape": ""
          }
         },
         "name": "baseline",
         "offsetgroup": "baseline",
         "orientation": "v",
         "showlegend": false,
         "textposition": "auto",
         "type": "bar",
         "x": [
          "baseline"
         ],
         "xaxis": "x4",
         "y": [
          60930
         ],
         "yaxis": "y4"
        },
        {
         "alignmentgroup": "True",
         "hovertemplate": "variable=%{x}<br>region_name=utah<br>value=%{y}<extra></extra>",
         "legendgroup": "baseline",
         "marker": {
          "color": "#636efa",
          "pattern": {
           "shape": ""
          }
         },
         "name": "baseline",
         "offsetgroup": "baseline",
         "orientation": "v",
         "showlegend": false,
         "textposition": "auto",
         "type": "bar",
         "x": [
          "baseline"
         ],
         "xaxis": "x3",
         "y": [
          61940
         ],
         "yaxis": "y3"
        },
        {
         "alignmentgroup": "True",
         "hovertemplate": "variable=%{x}<br>region_name=washington<br>value=%{y}<extra></extra>",
         "legendgroup": "baseline",
         "marker": {
          "color": "#636efa",
          "pattern": {
           "shape": ""
          }
         },
         "name": "baseline",
         "offsetgroup": "baseline",
         "orientation": "v",
         "showlegend": false,
         "textposition": "auto",
         "type": "bar",
         "x": [
          "baseline"
         ],
         "xaxis": "x2",
         "y": [
          60247
         ],
         "yaxis": "y2"
        },
        {
         "alignmentgroup": "True",
         "hovertemplate": "variable=%{x}<br>region_name=wyoming<br>value=%{y}<extra></extra>",
         "legendgroup": "baseline",
         "marker": {
          "color": "#636efa",
          "pattern": {
           "shape": ""
          }
         },
         "name": "baseline",
         "offsetgroup": "baseline",
         "orientation": "v",
         "showlegend": false,
         "textposition": "auto",
         "type": "bar",
         "x": [
          "baseline"
         ],
         "xaxis": "x",
         "y": [
          150777
         ],
         "yaxis": "y"
        },
        {
         "alignmentgroup": "True",
         "hovertemplate": "variable=%{x}<br>region_name=arizona<br>value=%{y}<extra></extra>",
         "legendgroup": "dac",
         "marker": {
          "color": "#EF553B",
          "pattern": {
           "shape": ""
          }
         },
         "name": "dac",
         "offsetgroup": "dac",
         "orientation": "v",
         "showlegend": true,
         "textposition": "auto",
         "type": "bar",
         "x": [
          "dac"
         ],
         "xaxis": "x11",
         "y": [
          46395
         ],
         "yaxis": "y11"
        },
        {
         "alignmentgroup": "True",
         "hovertemplate": "variable=%{x}<br>region_name=california<br>value=%{y}<extra></extra>",
         "legendgroup": "dac",
         "marker": {
          "color": "#EF553B",
          "pattern": {
           "shape": ""
          }
         },
         "name": "dac",
         "offsetgroup": "dac",
         "orientation": "v",
         "showlegend": false,
         "textposition": "auto",
         "type": "bar",
         "x": [
          "dac"
         ],
         "xaxis": "x10",
         "y": [
          38251
         ],
         "yaxis": "y10"
        },
        {
         "alignmentgroup": "True",
         "hovertemplate": "variable=%{x}<br>region_name=colorado<br>value=%{y}<extra></extra>",
         "legendgroup": "dac",
         "marker": {
          "color": "#EF553B",
          "pattern": {
           "shape": ""
          }
         },
         "name": "dac",
         "offsetgroup": "dac",
         "orientation": "v",
         "showlegend": false,
         "textposition": "auto",
         "type": "bar",
         "x": [
          "dac"
         ],
         "xaxis": "x9",
         "y": [
          58883
         ],
         "yaxis": "y9"
        },
        {
         "alignmentgroup": "True",
         "hovertemplate": "variable=%{x}<br>region_name=idaho<br>value=%{y}<extra></extra>",
         "legendgroup": "dac",
         "marker": {
          "color": "#EF553B",
          "pattern": {
           "shape": ""
          }
         },
         "name": "dac",
         "offsetgroup": "dac",
         "orientation": "v",
         "showlegend": false,
         "textposition": "auto",
         "type": "bar",
         "x": [
          "dac"
         ],
         "xaxis": "x8",
         "y": [
          18522
         ],
         "yaxis": "y8"
        },
        {
         "alignmentgroup": "True",
         "hovertemplate": "variable=%{x}<br>region_name=montana<br>value=%{y}<extra></extra>",
         "legendgroup": "dac",
         "marker": {
          "color": "#EF553B",
          "pattern": {
           "shape": ""
          }
         },
         "name": "dac",
         "offsetgroup": "dac",
         "orientation": "v",
         "showlegend": false,
         "textposition": "auto",
         "type": "bar",
         "x": [
          "dac"
         ],
         "xaxis": "x7",
         "y": [
          104611
         ],
         "yaxis": "y7"
        },
        {
         "alignmentgroup": "True",
         "hovertemplate": "variable=%{x}<br>region_name=new_mexico<br>value=%{y}<extra></extra>",
         "legendgroup": "dac",
         "marker": {
          "color": "#EF553B",
          "pattern": {
           "shape": ""
          }
         },
         "name": "dac",
         "offsetgroup": "dac",
         "orientation": "v",
         "showlegend": false,
         "textposition": "auto",
         "type": "bar",
         "x": [
          "dac"
         ],
         "xaxis": "x6",
         "y": [
          23030
         ],
         "yaxis": "y6"
        },
        {
         "alignmentgroup": "True",
         "hovertemplate": "variable=%{x}<br>region_name=nevada<br>value=%{y}<extra></extra>",
         "legendgroup": "dac",
         "marker": {
          "color": "#EF553B",
          "pattern": {
           "shape": ""
          }
         },
         "name": "dac",
         "offsetgroup": "dac",
         "orientation": "v",
         "showlegend": false,
         "textposition": "auto",
         "type": "bar",
         "x": [
          "dac"
         ],
         "xaxis": "x5",
         "y": [
          81135
         ],
         "yaxis": "y5"
        },
        {
         "alignmentgroup": "True",
         "hovertemplate": "variable=%{x}<br>region_name=oregon<br>value=%{y}<extra></extra>",
         "legendgroup": "dac",
         "marker": {
          "color": "#EF553B",
          "pattern": {
           "shape": ""
          }
         },
         "name": "dac",
         "offsetgroup": "dac",
         "orientation": "v",
         "showlegend": false,
         "textposition": "auto",
         "type": "bar",
         "x": [
          "dac"
         ],
         "xaxis": "x4",
         "y": [
          11622
         ],
         "yaxis": "y4"
        },
        {
         "alignmentgroup": "True",
         "hovertemplate": "variable=%{x}<br>region_name=utah<br>value=%{y}<extra></extra>",
         "legendgroup": "dac",
         "marker": {
          "color": "#EF553B",
          "pattern": {
           "shape": ""
          }
         },
         "name": "dac",
         "offsetgroup": "dac",
         "orientation": "v",
         "showlegend": false,
         "textposition": "auto",
         "type": "bar",
         "x": [
          "dac"
         ],
         "xaxis": "x3",
         "y": [
          34126
         ],
         "yaxis": "y3"
        },
        {
         "alignmentgroup": "True",
         "hovertemplate": "variable=%{x}<br>region_name=washington<br>value=%{y}<extra></extra>",
         "legendgroup": "dac",
         "marker": {
          "color": "#EF553B",
          "pattern": {
           "shape": ""
          }
         },
         "name": "dac",
         "offsetgroup": "dac",
         "orientation": "v",
         "showlegend": false,
         "textposition": "auto",
         "type": "bar",
         "x": [
          "dac"
         ],
         "xaxis": "x2",
         "y": [
          32459
         ],
         "yaxis": "y2"
        },
        {
         "alignmentgroup": "True",
         "hovertemplate": "variable=%{x}<br>region_name=wyoming<br>value=%{y}<extra></extra>",
         "legendgroup": "dac",
         "marker": {
          "color": "#EF553B",
          "pattern": {
           "shape": ""
          }
         },
         "name": "dac",
         "offsetgroup": "dac",
         "orientation": "v",
         "showlegend": false,
         "textposition": "auto",
         "type": "bar",
         "x": [
          "dac"
         ],
         "xaxis": "x",
         "y": [
          127750
         ],
         "yaxis": "y"
        },
        {
         "alignmentgroup": "True",
         "hovertemplate": "variable=%{x}<br>region_name=arizona<br>value=%{y}<extra></extra>",
         "legendgroup": "farmland",
         "marker": {
          "color": "#00cc96",
          "pattern": {
           "shape": ""
          }
         },
         "name": "farmland",
         "offsetgroup": "farmland",
         "orientation": "v",
         "showlegend": true,
         "textposition": "auto",
         "type": "bar",
         "x": [
          "farmland"
         ],
         "xaxis": "x11",
         "y": [
          146345
         ],
         "yaxis": "y11"
        },
        {
         "alignmentgroup": "True",
         "hovertemplate": "variable=%{x}<br>region_name=california<br>value=%{y}<extra></extra>",
         "legendgroup": "farmland",
         "marker": {
          "color": "#00cc96",
          "pattern": {
           "shape": ""
          }
         },
         "name": "farmland",
         "offsetgroup": "farmland",
         "orientation": "v",
         "showlegend": false,
         "textposition": "auto",
         "type": "bar",
         "x": [
          "farmland"
         ],
         "xaxis": "x10",
         "y": [
          78597
         ],
         "yaxis": "y10"
        },
        {
         "alignmentgroup": "True",
         "hovertemplate": "variable=%{x}<br>region_name=colorado<br>value=%{y}<extra></extra>",
         "legendgroup": "farmland",
         "marker": {
          "color": "#00cc96",
          "pattern": {
           "shape": ""
          }
         },
         "name": "farmland",
         "offsetgroup": "farmland",
         "orientation": "v",
         "showlegend": false,
         "textposition": "auto",
         "type": "bar",
         "x": [
          "farmland"
         ],
         "xaxis": "x9",
         "y": [
          108230
         ],
         "yaxis": "y9"
        },
        {
         "alignmentgroup": "True",
         "hovertemplate": "variable=%{x}<br>region_name=idaho<br>value=%{y}<extra></extra>",
         "legendgroup": "farmland",
         "marker": {
          "color": "#00cc96",
          "pattern": {
           "shape": ""
          }
         },
         "name": "farmland",
         "offsetgroup": "farmland",
         "orientation": "v",
         "showlegend": false,
         "textposition": "auto",
         "type": "bar",
         "x": [
          "farmland"
         ],
         "xaxis": "x8",
         "y": [
          62934
         ],
         "yaxis": "y8"
        },
        {
         "alignmentgroup": "True",
         "hovertemplate": "variable=%{x}<br>region_name=montana<br>value=%{y}<extra></extra>",
         "legendgroup": "farmland",
         "marker": {
          "color": "#00cc96",
          "pattern": {
           "shape": ""
          }
         },
         "name": "farmland",
         "offsetgroup": "farmland",
         "orientation": "v",
         "showlegend": false,
         "textposition": "auto",
         "type": "bar",
         "x": [
          "farmland"
         ],
         "xaxis": "x7",
         "y": [
          168821
         ],
         "yaxis": "y7"
        },
        {
         "alignmentgroup": "True",
         "hovertemplate": "variable=%{x}<br>region_name=new_mexico<br>value=%{y}<extra></extra>",
         "legendgroup": "farmland",
         "marker": {
          "color": "#00cc96",
          "pattern": {
           "shape": ""
          }
         },
         "name": "farmland",
         "offsetgroup": "farmland",
         "orientation": "v",
         "showlegend": false,
         "textposition": "auto",
         "type": "bar",
         "x": [
          "farmland"
         ],
         "xaxis": "x6",
         "y": [
          179489
         ],
         "yaxis": "y6"
        },
        {
         "alignmentgroup": "True",
         "hovertemplate": "variable=%{x}<br>region_name=nevada<br>value=%{y}<extra></extra>",
         "legendgroup": "farmland",
         "marker": {
          "color": "#00cc96",
          "pattern": {
           "shape": ""
          }
         },
         "name": "farmland",
         "offsetgroup": "farmland",
         "orientation": "v",
         "showlegend": false,
         "textposition": "auto",
         "type": "bar",
         "x": [
          "farmland"
         ],
         "xaxis": "x5",
         "y": [
          106295
         ],
         "yaxis": "y5"
        },
        {
         "alignmentgroup": "True",
         "hovertemplate": "variable=%{x}<br>region_name=oregon<br>value=%{y}<extra></extra>",
         "legendgroup": "farmland",
         "marker": {
          "color": "#00cc96",
          "pattern": {
           "shape": ""
          }
         },
         "name": "farmland",
         "offsetgroup": "farmland",
         "orientation": "v",
         "showlegend": false,
         "textposition": "auto",
         "type": "bar",
         "x": [
          "farmland"
         ],
         "xaxis": "x4",
         "y": [
          28275
         ],
         "yaxis": "y4"
        },
        {
         "alignmentgroup": "True",
         "hovertemplate": "variable=%{x}<br>region_name=utah<br>value=%{y}<extra></extra>",
         "legendgroup": "farmland",
         "marker": {
          "color": "#00cc96",
          "pattern": {
           "shape": ""
          }
         },
         "name": "farmland",
         "offsetgroup": "farmland",
         "orientation": "v",
         "showlegend": false,
         "textposition": "auto",
         "type": "bar",
         "x": [
          "farmland"
         ],
         "xaxis": "x3",
         "y": [
          57113
         ],
         "yaxis": "y3"
        },
        {
         "alignmentgroup": "True",
         "hovertemplate": "variable=%{x}<br>region_name=washington<br>value=%{y}<extra></extra>",
         "legendgroup": "farmland",
         "marker": {
          "color": "#00cc96",
          "pattern": {
           "shape": ""
          }
         },
         "name": "farmland",
         "offsetgroup": "farmland",
         "orientation": "v",
         "showlegend": false,
         "textposition": "auto",
         "type": "bar",
         "x": [
          "farmland"
         ],
         "xaxis": "x2",
         "y": [
          32568
         ],
         "yaxis": "y2"
        },
        {
         "alignmentgroup": "True",
         "hovertemplate": "variable=%{x}<br>region_name=wyoming<br>value=%{y}<extra></extra>",
         "legendgroup": "farmland",
         "marker": {
          "color": "#00cc96",
          "pattern": {
           "shape": ""
          }
         },
         "name": "farmland",
         "offsetgroup": "farmland",
         "orientation": "v",
         "showlegend": false,
         "textposition": "auto",
         "type": "bar",
         "x": [
          "farmland"
         ],
         "xaxis": "x",
         "y": [
          149870
         ],
         "yaxis": "y"
        },
        {
         "alignmentgroup": "True",
         "hovertemplate": "variable=%{x}<br>region_name=arizona<br>value=%{y}<extra></extra>",
         "legendgroup": "env_1km",
         "marker": {
          "color": "#ab63fa",
          "pattern": {
           "shape": ""
          }
         },
         "name": "env_1km",
         "offsetgroup": "env_1km",
         "orientation": "v",
         "showlegend": true,
         "textposition": "auto",
         "type": "bar",
         "x": [
          "env_1km"
         ],
         "xaxis": "x11",
         "y": [
          138003
         ],
         "yaxis": "y11"
        },
        {
         "alignmentgroup": "True",
         "hovertemplate": "variable=%{x}<br>region_name=california<br>value=%{y}<extra></extra>",
         "legendgroup": "env_1km",
         "marker": {
          "color": "#ab63fa",
          "pattern": {
           "shape": ""
          }
         },
         "name": "env_1km",
         "offsetgroup": "env_1km",
         "orientation": "v",
         "showlegend": false,
         "textposition": "auto",
         "type": "bar",
         "x": [
          "env_1km"
         ],
         "xaxis": "x10",
         "y": [
          77444
         ],
         "yaxis": "y10"
        },
        {
         "alignmentgroup": "True",
         "hovertemplate": "variable=%{x}<br>region_name=colorado<br>value=%{y}<extra></extra>",
         "legendgroup": "env_1km",
         "marker": {
          "color": "#ab63fa",
          "pattern": {
           "shape": ""
          }
         },
         "name": "env_1km",
         "offsetgroup": "env_1km",
         "orientation": "v",
         "showlegend": false,
         "textposition": "auto",
         "type": "bar",
         "x": [
          "env_1km"
         ],
         "xaxis": "x9",
         "y": [
          108317
         ],
         "yaxis": "y9"
        },
        {
         "alignmentgroup": "True",
         "hovertemplate": "variable=%{x}<br>region_name=idaho<br>value=%{y}<extra></extra>",
         "legendgroup": "env_1km",
         "marker": {
          "color": "#ab63fa",
          "pattern": {
           "shape": ""
          }
         },
         "name": "env_1km",
         "offsetgroup": "env_1km",
         "orientation": "v",
         "showlegend": false,
         "textposition": "auto",
         "type": "bar",
         "x": [
          "env_1km"
         ],
         "xaxis": "x8",
         "y": [
          54342
         ],
         "yaxis": "y8"
        },
        {
         "alignmentgroup": "True",
         "hovertemplate": "variable=%{x}<br>region_name=montana<br>value=%{y}<extra></extra>",
         "legendgroup": "env_1km",
         "marker": {
          "color": "#ab63fa",
          "pattern": {
           "shape": ""
          }
         },
         "name": "env_1km",
         "offsetgroup": "env_1km",
         "orientation": "v",
         "showlegend": false,
         "textposition": "auto",
         "type": "bar",
         "x": [
          "env_1km"
         ],
         "xaxis": "x7",
         "y": [
          169865
         ],
         "yaxis": "y7"
        },
        {
         "alignmentgroup": "True",
         "hovertemplate": "variable=%{x}<br>region_name=new_mexico<br>value=%{y}<extra></extra>",
         "legendgroup": "env_1km",
         "marker": {
          "color": "#ab63fa",
          "pattern": {
           "shape": ""
          }
         },
         "name": "env_1km",
         "offsetgroup": "env_1km",
         "orientation": "v",
         "showlegend": false,
         "textposition": "auto",
         "type": "bar",
         "x": [
          "env_1km"
         ],
         "xaxis": "x6",
         "y": [
          188217
         ],
         "yaxis": "y6"
        },
        {
         "alignmentgroup": "True",
         "hovertemplate": "variable=%{x}<br>region_name=nevada<br>value=%{y}<extra></extra>",
         "legendgroup": "env_1km",
         "marker": {
          "color": "#ab63fa",
          "pattern": {
           "shape": ""
          }
         },
         "name": "env_1km",
         "offsetgroup": "env_1km",
         "orientation": "v",
         "showlegend": false,
         "textposition": "auto",
         "type": "bar",
         "x": [
          "env_1km"
         ],
         "xaxis": "x5",
         "y": [
          95328
         ],
         "yaxis": "y5"
        },
        {
         "alignmentgroup": "True",
         "hovertemplate": "variable=%{x}<br>region_name=oregon<br>value=%{y}<extra></extra>",
         "legendgroup": "env_1km",
         "marker": {
          "color": "#ab63fa",
          "pattern": {
           "shape": ""
          }
         },
         "name": "env_1km",
         "offsetgroup": "env_1km",
         "orientation": "v",
         "showlegend": false,
         "textposition": "auto",
         "type": "bar",
         "x": [
          "env_1km"
         ],
         "xaxis": "x4",
         "y": [
          50877
         ],
         "yaxis": "y4"
        },
        {
         "alignmentgroup": "True",
         "hovertemplate": "variable=%{x}<br>region_name=utah<br>value=%{y}<extra></extra>",
         "legendgroup": "env_1km",
         "marker": {
          "color": "#ab63fa",
          "pattern": {
           "shape": ""
          }
         },
         "name": "env_1km",
         "offsetgroup": "env_1km",
         "orientation": "v",
         "showlegend": false,
         "textposition": "auto",
         "type": "bar",
         "x": [
          "env_1km"
         ],
         "xaxis": "x3",
         "y": [
          55520
         ],
         "yaxis": "y3"
        },
        {
         "alignmentgroup": "True",
         "hovertemplate": "variable=%{x}<br>region_name=washington<br>value=%{y}<extra></extra>",
         "legendgroup": "env_1km",
         "marker": {
          "color": "#ab63fa",
          "pattern": {
           "shape": ""
          }
         },
         "name": "env_1km",
         "offsetgroup": "env_1km",
         "orientation": "v",
         "showlegend": false,
         "textposition": "auto",
         "type": "bar",
         "x": [
          "env_1km"
         ],
         "xaxis": "x2",
         "y": [
          52188
         ],
         "yaxis": "y2"
        },
        {
         "alignmentgroup": "True",
         "hovertemplate": "variable=%{x}<br>region_name=wyoming<br>value=%{y}<extra></extra>",
         "legendgroup": "env_1km",
         "marker": {
          "color": "#ab63fa",
          "pattern": {
           "shape": ""
          }
         },
         "name": "env_1km",
         "offsetgroup": "env_1km",
         "orientation": "v",
         "showlegend": false,
         "textposition": "auto",
         "type": "bar",
         "x": [
          "env_1km"
         ],
         "xaxis": "x",
         "y": [
          134216
         ],
         "yaxis": "y"
        },
        {
         "alignmentgroup": "True",
         "hovertemplate": "variable=%{x}<br>region_name=arizona<br>value=%{y}<extra></extra>",
         "legendgroup": "env_5km",
         "marker": {
          "color": "#FFA15A",
          "pattern": {
           "shape": ""
          }
         },
         "name": "env_5km",
         "offsetgroup": "env_5km",
         "orientation": "v",
         "showlegend": true,
         "textposition": "auto",
         "type": "bar",
         "x": [
          "env_5km"
         ],
         "xaxis": "x11",
         "y": [
          96083
         ],
         "yaxis": "y11"
        },
        {
         "alignmentgroup": "True",
         "hovertemplate": "variable=%{x}<br>region_name=california<br>value=%{y}<extra></extra>",
         "legendgroup": "env_5km",
         "marker": {
          "color": "#FFA15A",
          "pattern": {
           "shape": ""
          }
         },
         "name": "env_5km",
         "offsetgroup": "env_5km",
         "orientation": "v",
         "showlegend": false,
         "textposition": "auto",
         "type": "bar",
         "x": [
          "env_5km"
         ],
         "xaxis": "x10",
         "y": [
          35956
         ],
         "yaxis": "y10"
        },
        {
         "alignmentgroup": "True",
         "hovertemplate": "variable=%{x}<br>region_name=colorado<br>value=%{y}<extra></extra>",
         "legendgroup": "env_5km",
         "marker": {
          "color": "#FFA15A",
          "pattern": {
           "shape": ""
          }
         },
         "name": "env_5km",
         "offsetgroup": "env_5km",
         "orientation": "v",
         "showlegend": false,
         "textposition": "auto",
         "type": "bar",
         "x": [
          "env_5km"
         ],
         "xaxis": "x9",
         "y": [
          74108
         ],
         "yaxis": "y9"
        },
        {
         "alignmentgroup": "True",
         "hovertemplate": "variable=%{x}<br>region_name=idaho<br>value=%{y}<extra></extra>",
         "legendgroup": "env_5km",
         "marker": {
          "color": "#FFA15A",
          "pattern": {
           "shape": ""
          }
         },
         "name": "env_5km",
         "offsetgroup": "env_5km",
         "orientation": "v",
         "showlegend": false,
         "textposition": "auto",
         "type": "bar",
         "x": [
          "env_5km"
         ],
         "xaxis": "x8",
         "y": [
          24823
         ],
         "yaxis": "y8"
        },
        {
         "alignmentgroup": "True",
         "hovertemplate": "variable=%{x}<br>region_name=montana<br>value=%{y}<extra></extra>",
         "legendgroup": "env_5km",
         "marker": {
          "color": "#FFA15A",
          "pattern": {
           "shape": ""
          }
         },
         "name": "env_5km",
         "offsetgroup": "env_5km",
         "orientation": "v",
         "showlegend": false,
         "textposition": "auto",
         "type": "bar",
         "x": [
          "env_5km"
         ],
         "xaxis": "x7",
         "y": [
          73973
         ],
         "yaxis": "y7"
        },
        {
         "alignmentgroup": "True",
         "hovertemplate": "variable=%{x}<br>region_name=new_mexico<br>value=%{y}<extra></extra>",
         "legendgroup": "env_5km",
         "marker": {
          "color": "#FFA15A",
          "pattern": {
           "shape": ""
          }
         },
         "name": "env_5km",
         "offsetgroup": "env_5km",
         "orientation": "v",
         "showlegend": false,
         "textposition": "auto",
         "type": "bar",
         "x": [
          "env_5km"
         ],
         "xaxis": "x6",
         "y": [
          140879
         ],
         "yaxis": "y6"
        },
        {
         "alignmentgroup": "True",
         "hovertemplate": "variable=%{x}<br>region_name=nevada<br>value=%{y}<extra></extra>",
         "legendgroup": "env_5km",
         "marker": {
          "color": "#FFA15A",
          "pattern": {
           "shape": ""
          }
         },
         "name": "env_5km",
         "offsetgroup": "env_5km",
         "orientation": "v",
         "showlegend": false,
         "textposition": "auto",
         "type": "bar",
         "x": [
          "env_5km"
         ],
         "xaxis": "x5",
         "y": [
          58064
         ],
         "yaxis": "y5"
        },
        {
         "alignmentgroup": "True",
         "hovertemplate": "variable=%{x}<br>region_name=oregon<br>value=%{y}<extra></extra>",
         "legendgroup": "env_5km",
         "marker": {
          "color": "#FFA15A",
          "pattern": {
           "shape": ""
          }
         },
         "name": "env_5km",
         "offsetgroup": "env_5km",
         "orientation": "v",
         "showlegend": false,
         "textposition": "auto",
         "type": "bar",
         "x": [
          "env_5km"
         ],
         "xaxis": "x4",
         "y": [
          24900
         ],
         "yaxis": "y4"
        },
        {
         "alignmentgroup": "True",
         "hovertemplate": "variable=%{x}<br>region_name=utah<br>value=%{y}<extra></extra>",
         "legendgroup": "env_5km",
         "marker": {
          "color": "#FFA15A",
          "pattern": {
           "shape": ""
          }
         },
         "name": "env_5km",
         "offsetgroup": "env_5km",
         "orientation": "v",
         "showlegend": false,
         "textposition": "auto",
         "type": "bar",
         "x": [
          "env_5km"
         ],
         "xaxis": "x3",
         "y": [
          35567
         ],
         "yaxis": "y3"
        },
        {
         "alignmentgroup": "True",
         "hovertemplate": "variable=%{x}<br>region_name=washington<br>value=%{y}<extra></extra>",
         "legendgroup": "env_5km",
         "marker": {
          "color": "#FFA15A",
          "pattern": {
           "shape": ""
          }
         },
         "name": "env_5km",
         "offsetgroup": "env_5km",
         "orientation": "v",
         "showlegend": false,
         "textposition": "auto",
         "type": "bar",
         "x": [
          "env_5km"
         ],
         "xaxis": "x2",
         "y": [
          27573
         ],
         "yaxis": "y2"
        },
        {
         "alignmentgroup": "True",
         "hovertemplate": "variable=%{x}<br>region_name=wyoming<br>value=%{y}<extra></extra>",
         "legendgroup": "env_5km",
         "marker": {
          "color": "#FFA15A",
          "pattern": {
           "shape": ""
          }
         },
         "name": "env_5km",
         "offsetgroup": "env_5km",
         "orientation": "v",
         "showlegend": false,
         "textposition": "auto",
         "type": "bar",
         "x": [
          "env_5km"
         ],
         "xaxis": "x",
         "y": [
          77349
         ],
         "yaxis": "y"
        },
        {
         "alignmentgroup": "True",
         "hovertemplate": "variable=%{x}<br>region_name=arizona<br>value=%{y}<extra></extra>",
         "legendgroup": "env_10km",
         "marker": {
          "color": "#19d3f3",
          "pattern": {
           "shape": ""
          }
         },
         "name": "env_10km",
         "offsetgroup": "env_10km",
         "orientation": "v",
         "showlegend": true,
         "textposition": "auto",
         "type": "bar",
         "x": [
          "env_10km"
         ],
         "xaxis": "x11",
         "y": [
          58685
         ],
         "yaxis": "y11"
        },
        {
         "alignmentgroup": "True",
         "hovertemplate": "variable=%{x}<br>region_name=california<br>value=%{y}<extra></extra>",
         "legendgroup": "env_10km",
         "marker": {
          "color": "#19d3f3",
          "pattern": {
           "shape": ""
          }
         },
         "name": "env_10km",
         "offsetgroup": "env_10km",
         "orientation": "v",
         "showlegend": false,
         "textposition": "auto",
         "type": "bar",
         "x": [
          "env_10km"
         ],
         "xaxis": "x10",
         "y": [
          12363
         ],
         "yaxis": "y10"
        },
        {
         "alignmentgroup": "True",
         "hovertemplate": "variable=%{x}<br>region_name=colorado<br>value=%{y}<extra></extra>",
         "legendgroup": "env_10km",
         "marker": {
          "color": "#19d3f3",
          "pattern": {
           "shape": ""
          }
         },
         "name": "env_10km",
         "offsetgroup": "env_10km",
         "orientation": "v",
         "showlegend": false,
         "textposition": "auto",
         "type": "bar",
         "x": [
          "env_10km"
         ],
         "xaxis": "x9",
         "y": [
          44812
         ],
         "yaxis": "y9"
        },
        {
         "alignmentgroup": "True",
         "hovertemplate": "variable=%{x}<br>region_name=idaho<br>value=%{y}<extra></extra>",
         "legendgroup": "env_10km",
         "marker": {
          "color": "#19d3f3",
          "pattern": {
           "shape": ""
          }
         },
         "name": "env_10km",
         "offsetgroup": "env_10km",
         "orientation": "v",
         "showlegend": false,
         "textposition": "auto",
         "type": "bar",
         "x": [
          "env_10km"
         ],
         "xaxis": "x8",
         "y": [
          7220
         ],
         "yaxis": "y8"
        },
        {
         "alignmentgroup": "True",
         "hovertemplate": "variable=%{x}<br>region_name=montana<br>value=%{y}<extra></extra>",
         "legendgroup": "env_10km",
         "marker": {
          "color": "#19d3f3",
          "pattern": {
           "shape": ""
          }
         },
         "name": "env_10km",
         "offsetgroup": "env_10km",
         "orientation": "v",
         "showlegend": false,
         "textposition": "auto",
         "type": "bar",
         "x": [
          "env_10km"
         ],
         "xaxis": "x7",
         "y": [
          22620
         ],
         "yaxis": "y7"
        },
        {
         "alignmentgroup": "True",
         "hovertemplate": "variable=%{x}<br>region_name=new_mexico<br>value=%{y}<extra></extra>",
         "legendgroup": "env_10km",
         "marker": {
          "color": "#19d3f3",
          "pattern": {
           "shape": ""
          }
         },
         "name": "env_10km",
         "offsetgroup": "env_10km",
         "orientation": "v",
         "showlegend": false,
         "textposition": "auto",
         "type": "bar",
         "x": [
          "env_10km"
         ],
         "xaxis": "x6",
         "y": [
          95623
         ],
         "yaxis": "y6"
        },
        {
         "alignmentgroup": "True",
         "hovertemplate": "variable=%{x}<br>region_name=nevada<br>value=%{y}<extra></extra>",
         "legendgroup": "env_10km",
         "marker": {
          "color": "#19d3f3",
          "pattern": {
           "shape": ""
          }
         },
         "name": "env_10km",
         "offsetgroup": "env_10km",
         "orientation": "v",
         "showlegend": false,
         "textposition": "auto",
         "type": "bar",
         "x": [
          "env_10km"
         ],
         "xaxis": "x5",
         "y": [
          31555
         ],
         "yaxis": "y5"
        },
        {
         "alignmentgroup": "True",
         "hovertemplate": "variable=%{x}<br>region_name=oregon<br>value=%{y}<extra></extra>",
         "legendgroup": "env_10km",
         "marker": {
          "color": "#19d3f3",
          "pattern": {
           "shape": ""
          }
         },
         "name": "env_10km",
         "offsetgroup": "env_10km",
         "orientation": "v",
         "showlegend": false,
         "textposition": "auto",
         "type": "bar",
         "x": [
          "env_10km"
         ],
         "xaxis": "x4",
         "y": [
          9672
         ],
         "yaxis": "y4"
        },
        {
         "alignmentgroup": "True",
         "hovertemplate": "variable=%{x}<br>region_name=utah<br>value=%{y}<extra></extra>",
         "legendgroup": "env_10km",
         "marker": {
          "color": "#19d3f3",
          "pattern": {
           "shape": ""
          }
         },
         "name": "env_10km",
         "offsetgroup": "env_10km",
         "orientation": "v",
         "showlegend": false,
         "textposition": "auto",
         "type": "bar",
         "x": [
          "env_10km"
         ],
         "xaxis": "x3",
         "y": [
          20191
         ],
         "yaxis": "y3"
        },
        {
         "alignmentgroup": "True",
         "hovertemplate": "variable=%{x}<br>region_name=washington<br>value=%{y}<extra></extra>",
         "legendgroup": "env_10km",
         "marker": {
          "color": "#19d3f3",
          "pattern": {
           "shape": ""
          }
         },
         "name": "env_10km",
         "offsetgroup": "env_10km",
         "orientation": "v",
         "showlegend": false,
         "textposition": "auto",
         "type": "bar",
         "x": [
          "env_10km"
         ],
         "xaxis": "x2",
         "y": [
          11489
         ],
         "yaxis": "y2"
        },
        {
         "alignmentgroup": "True",
         "hovertemplate": "variable=%{x}<br>region_name=wyoming<br>value=%{y}<extra></extra>",
         "legendgroup": "env_10km",
         "marker": {
          "color": "#19d3f3",
          "pattern": {
           "shape": ""
          }
         },
         "name": "env_10km",
         "offsetgroup": "env_10km",
         "orientation": "v",
         "showlegend": false,
         "textposition": "auto",
         "type": "bar",
         "x": [
          "env_10km"
         ],
         "xaxis": "x",
         "y": [
          35279
         ],
         "yaxis": "y"
        },
        {
         "alignmentgroup": "True",
         "hovertemplate": "variable=%{x}<br>region_name=arizona<br>value=%{y}<extra></extra>",
         "legendgroup": "dac_farm_env5km",
         "marker": {
          "color": "#FF6692",
          "pattern": {
           "shape": ""
          }
         },
         "name": "dac_farm_env5km",
         "offsetgroup": "dac_farm_env5km",
         "orientation": "v",
         "showlegend": true,
         "textposition": "auto",
         "type": "bar",
         "x": [
          "dac_farm_env5km"
         ],
         "xaxis": "x11",
         "y": [
          29037
         ],
         "yaxis": "y11"
        },
        {
         "alignmentgroup": "True",
         "hovertemplate": "variable=%{x}<br>region_name=california<br>value=%{y}<extra></extra>",
         "legendgroup": "dac_farm_env5km",
         "marker": {
          "color": "#FF6692",
          "pattern": {
           "shape": ""
          }
         },
         "name": "dac_farm_env5km",
         "offsetgroup": "dac_farm_env5km",
         "orientation": "v",
         "showlegend": false,
         "textposition": "auto",
         "type": "bar",
         "x": [
          "dac_farm_env5km"
         ],
         "xaxis": "x10",
         "y": [
          11447
         ],
         "yaxis": "y10"
        },
        {
         "alignmentgroup": "True",
         "hovertemplate": "variable=%{x}<br>region_name=colorado<br>value=%{y}<extra></extra>",
         "legendgroup": "dac_farm_env5km",
         "marker": {
          "color": "#FF6692",
          "pattern": {
           "shape": ""
          }
         },
         "name": "dac_farm_env5km",
         "offsetgroup": "dac_farm_env5km",
         "orientation": "v",
         "showlegend": false,
         "textposition": "auto",
         "type": "bar",
         "x": [
          "dac_farm_env5km"
         ],
         "xaxis": "x9",
         "y": [
          33028
         ],
         "yaxis": "y9"
        },
        {
         "alignmentgroup": "True",
         "hovertemplate": "variable=%{x}<br>region_name=idaho<br>value=%{y}<extra></extra>",
         "legendgroup": "dac_farm_env5km",
         "marker": {
          "color": "#FF6692",
          "pattern": {
           "shape": ""
          }
         },
         "name": "dac_farm_env5km",
         "offsetgroup": "dac_farm_env5km",
         "orientation": "v",
         "showlegend": false,
         "textposition": "auto",
         "type": "bar",
         "x": [
          "dac_farm_env5km"
         ],
         "xaxis": "x8",
         "y": [
          5924
         ],
         "yaxis": "y8"
        },
        {
         "alignmentgroup": "True",
         "hovertemplate": "variable=%{x}<br>region_name=montana<br>value=%{y}<extra></extra>",
         "legendgroup": "dac_farm_env5km",
         "marker": {
          "color": "#FF6692",
          "pattern": {
           "shape": ""
          }
         },
         "name": "dac_farm_env5km",
         "offsetgroup": "dac_farm_env5km",
         "orientation": "v",
         "showlegend": false,
         "textposition": "auto",
         "type": "bar",
         "x": [
          "dac_farm_env5km"
         ],
         "xaxis": "x7",
         "y": [
          34122
         ],
         "yaxis": "y7"
        },
        {
         "alignmentgroup": "True",
         "hovertemplate": "variable=%{x}<br>region_name=new_mexico<br>value=%{y}<extra></extra>",
         "legendgroup": "dac_farm_env5km",
         "marker": {
          "color": "#FF6692",
          "pattern": {
           "shape": ""
          }
         },
         "name": "dac_farm_env5km",
         "offsetgroup": "dac_farm_env5km",
         "orientation": "v",
         "showlegend": false,
         "textposition": "auto",
         "type": "bar",
         "x": [
          "dac_farm_env5km"
         ],
         "xaxis": "x6",
         "y": [
          13895
         ],
         "yaxis": "y6"
        },
        {
         "alignmentgroup": "True",
         "hovertemplate": "variable=%{x}<br>region_name=nevada<br>value=%{y}<extra></extra>",
         "legendgroup": "dac_farm_env5km",
         "marker": {
          "color": "#FF6692",
          "pattern": {
           "shape": ""
          }
         },
         "name": "dac_farm_env5km",
         "offsetgroup": "dac_farm_env5km",
         "orientation": "v",
         "showlegend": false,
         "textposition": "auto",
         "type": "bar",
         "x": [
          "dac_farm_env5km"
         ],
         "xaxis": "x5",
         "y": [
          43722
         ],
         "yaxis": "y5"
        },
        {
         "alignmentgroup": "True",
         "hovertemplate": "variable=%{x}<br>region_name=oregon<br>value=%{y}<extra></extra>",
         "legendgroup": "dac_farm_env5km",
         "marker": {
          "color": "#FF6692",
          "pattern": {
           "shape": ""
          }
         },
         "name": "dac_farm_env5km",
         "offsetgroup": "dac_farm_env5km",
         "orientation": "v",
         "showlegend": false,
         "textposition": "auto",
         "type": "bar",
         "x": [
          "dac_farm_env5km"
         ],
         "xaxis": "x4",
         "y": [
          1582
         ],
         "yaxis": "y4"
        },
        {
         "alignmentgroup": "True",
         "hovertemplate": "variable=%{x}<br>region_name=utah<br>value=%{y}<extra></extra>",
         "legendgroup": "dac_farm_env5km",
         "marker": {
          "color": "#FF6692",
          "pattern": {
           "shape": ""
          }
         },
         "name": "dac_farm_env5km",
         "offsetgroup": "dac_farm_env5km",
         "orientation": "v",
         "showlegend": false,
         "textposition": "auto",
         "type": "bar",
         "x": [
          "dac_farm_env5km"
         ],
         "xaxis": "x3",
         "y": [
          19698
         ],
         "yaxis": "y3"
        },
        {
         "alignmentgroup": "True",
         "hovertemplate": "variable=%{x}<br>region_name=washington<br>value=%{y}<extra></extra>",
         "legendgroup": "dac_farm_env5km",
         "marker": {
          "color": "#FF6692",
          "pattern": {
           "shape": ""
          }
         },
         "name": "dac_farm_env5km",
         "offsetgroup": "dac_farm_env5km",
         "orientation": "v",
         "showlegend": false,
         "textposition": "auto",
         "type": "bar",
         "x": [
          "dac_farm_env5km"
         ],
         "xaxis": "x2",
         "y": [
          5980
         ],
         "yaxis": "y2"
        },
        {
         "alignmentgroup": "True",
         "hovertemplate": "variable=%{x}<br>region_name=wyoming<br>value=%{y}<extra></extra>",
         "legendgroup": "dac_farm_env5km",
         "marker": {
          "color": "#FF6692",
          "pattern": {
           "shape": ""
          }
         },
         "name": "dac_farm_env5km",
         "offsetgroup": "dac_farm_env5km",
         "orientation": "v",
         "showlegend": false,
         "textposition": "auto",
         "type": "bar",
         "x": [
          "dac_farm_env5km"
         ],
         "xaxis": "x",
         "y": [
          66940
         ],
         "yaxis": "y"
        },
        {
         "alignmentgroup": "True",
         "hovertemplate": "variable=%{x}<br>region_name=arizona<br>value=%{y}<extra></extra>",
         "legendgroup": "farm_env5km",
         "marker": {
          "color": "#B6E880",
          "pattern": {
           "shape": ""
          }
         },
         "name": "farm_env5km",
         "offsetgroup": "farm_env5km",
         "orientation": "v",
         "showlegend": true,
         "textposition": "auto",
         "type": "bar",
         "x": [
          "farm_env5km"
         ],
         "xaxis": "x11",
         "y": [
          94923
         ],
         "yaxis": "y11"
        },
        {
         "alignmentgroup": "True",
         "hovertemplate": "variable=%{x}<br>region_name=california<br>value=%{y}<extra></extra>",
         "legendgroup": "farm_env5km",
         "marker": {
          "color": "#B6E880",
          "pattern": {
           "shape": ""
          }
         },
         "name": "farm_env5km",
         "offsetgroup": "farm_env5km",
         "orientation": "v",
         "showlegend": false,
         "textposition": "auto",
         "type": "bar",
         "x": [
          "farm_env5km"
         ],
         "xaxis": "x10",
         "y": [
          28055
         ],
         "yaxis": "y10"
        },
        {
         "alignmentgroup": "True",
         "hovertemplate": "variable=%{x}<br>region_name=colorado<br>value=%{y}<extra></extra>",
         "legendgroup": "farm_env5km",
         "marker": {
          "color": "#B6E880",
          "pattern": {
           "shape": ""
          }
         },
         "name": "farm_env5km",
         "offsetgroup": "farm_env5km",
         "orientation": "v",
         "showlegend": false,
         "textposition": "auto",
         "type": "bar",
         "x": [
          "farm_env5km"
         ],
         "xaxis": "x9",
         "y": [
          67459
         ],
         "yaxis": "y9"
        },
        {
         "alignmentgroup": "True",
         "hovertemplate": "variable=%{x}<br>region_name=idaho<br>value=%{y}<extra></extra>",
         "legendgroup": "farm_env5km",
         "marker": {
          "color": "#B6E880",
          "pattern": {
           "shape": ""
          }
         },
         "name": "farm_env5km",
         "offsetgroup": "farm_env5km",
         "orientation": "v",
         "showlegend": false,
         "textposition": "auto",
         "type": "bar",
         "x": [
          "farm_env5km"
         ],
         "xaxis": "x8",
         "y": [
          24319
         ],
         "yaxis": "y8"
        },
        {
         "alignmentgroup": "True",
         "hovertemplate": "variable=%{x}<br>region_name=montana<br>value=%{y}<extra></extra>",
         "legendgroup": "farm_env5km",
         "marker": {
          "color": "#B6E880",
          "pattern": {
           "shape": ""
          }
         },
         "name": "farm_env5km",
         "offsetgroup": "farm_env5km",
         "orientation": "v",
         "showlegend": false,
         "textposition": "auto",
         "type": "bar",
         "x": [
          "farm_env5km"
         ],
         "xaxis": "x7",
         "y": [
          63629
         ],
         "yaxis": "y7"
        },
        {
         "alignmentgroup": "True",
         "hovertemplate": "variable=%{x}<br>region_name=new_mexico<br>value=%{y}<extra></extra>",
         "legendgroup": "farm_env5km",
         "marker": {
          "color": "#B6E880",
          "pattern": {
           "shape": ""
          }
         },
         "name": "farm_env5km",
         "offsetgroup": "farm_env5km",
         "orientation": "v",
         "showlegend": false,
         "textposition": "auto",
         "type": "bar",
         "x": [
          "farm_env5km"
         ],
         "xaxis": "x6",
         "y": [
          123471
         ],
         "yaxis": "y6"
        },
        {
         "alignmentgroup": "True",
         "hovertemplate": "variable=%{x}<br>region_name=nevada<br>value=%{y}<extra></extra>",
         "legendgroup": "farm_env5km",
         "marker": {
          "color": "#B6E880",
          "pattern": {
           "shape": ""
          }
         },
         "name": "farm_env5km",
         "offsetgroup": "farm_env5km",
         "orientation": "v",
         "showlegend": false,
         "textposition": "auto",
         "type": "bar",
         "x": [
          "farm_env5km"
         ],
         "xaxis": "x5",
         "y": [
          58022
         ],
         "yaxis": "y5"
        },
        {
         "alignmentgroup": "True",
         "hovertemplate": "variable=%{x}<br>region_name=oregon<br>value=%{y}<extra></extra>",
         "legendgroup": "farm_env5km",
         "marker": {
          "color": "#B6E880",
          "pattern": {
           "shape": ""
          }
         },
         "name": "farm_env5km",
         "offsetgroup": "farm_env5km",
         "orientation": "v",
         "showlegend": false,
         "textposition": "auto",
         "type": "bar",
         "x": [
          "farm_env5km"
         ],
         "xaxis": "x4",
         "y": [
          10776
         ],
         "yaxis": "y4"
        },
        {
         "alignmentgroup": "True",
         "hovertemplate": "variable=%{x}<br>region_name=utah<br>value=%{y}<extra></extra>",
         "legendgroup": "farm_env5km",
         "marker": {
          "color": "#B6E880",
          "pattern": {
           "shape": ""
          }
         },
         "name": "farm_env5km",
         "offsetgroup": "farm_env5km",
         "orientation": "v",
         "showlegend": false,
         "textposition": "auto",
         "type": "bar",
         "x": [
          "farm_env5km"
         ],
         "xaxis": "x3",
         "y": [
          33048
         ],
         "yaxis": "y3"
        },
        {
         "alignmentgroup": "True",
         "hovertemplate": "variable=%{x}<br>region_name=washington<br>value=%{y}<extra></extra>",
         "legendgroup": "farm_env5km",
         "marker": {
          "color": "#B6E880",
          "pattern": {
           "shape": ""
          }
         },
         "name": "farm_env5km",
         "offsetgroup": "farm_env5km",
         "orientation": "v",
         "showlegend": false,
         "textposition": "auto",
         "type": "bar",
         "x": [
          "farm_env5km"
         ],
         "xaxis": "x2",
         "y": [
          14369
         ],
         "yaxis": "y2"
        },
        {
         "alignmentgroup": "True",
         "hovertemplate": "variable=%{x}<br>region_name=wyoming<br>value=%{y}<extra></extra>",
         "legendgroup": "farm_env5km",
         "marker": {
          "color": "#B6E880",
          "pattern": {
           "shape": ""
          }
         },
         "name": "farm_env5km",
         "offsetgroup": "farm_env5km",
         "orientation": "v",
         "showlegend": false,
         "textposition": "auto",
         "type": "bar",
         "x": [
          "farm_env5km"
         ],
         "xaxis": "x",
         "y": [
          76781
         ],
         "yaxis": "y"
        },
        {
         "alignmentgroup": "True",
         "hovertemplate": "variable=%{x}<br>region_name=arizona<br>value=%{y}<extra></extra>",
         "legendgroup": "farm_env10km",
         "marker": {
          "color": "#FF97FF",
          "pattern": {
           "shape": ""
          }
         },
         "name": "farm_env10km",
         "offsetgroup": "farm_env10km",
         "orientation": "v",
         "showlegend": true,
         "textposition": "auto",
         "type": "bar",
         "x": [
          "farm_env10km"
         ],
         "xaxis": "x11",
         "y": [
          58270
         ],
         "yaxis": "y11"
        },
        {
         "alignmentgroup": "True",
         "hovertemplate": "variable=%{x}<br>region_name=california<br>value=%{y}<extra></extra>",
         "legendgroup": "farm_env10km",
         "marker": {
          "color": "#FF97FF",
          "pattern": {
           "shape": ""
          }
         },
         "name": "farm_env10km",
         "offsetgroup": "farm_env10km",
         "orientation": "v",
         "showlegend": false,
         "textposition": "auto",
         "type": "bar",
         "x": [
          "farm_env10km"
         ],
         "xaxis": "x10",
         "y": [
          9345
         ],
         "yaxis": "y10"
        },
        {
         "alignmentgroup": "True",
         "hovertemplate": "variable=%{x}<br>region_name=colorado<br>value=%{y}<extra></extra>",
         "legendgroup": "farm_env10km",
         "marker": {
          "color": "#FF97FF",
          "pattern": {
           "shape": ""
          }
         },
         "name": "farm_env10km",
         "offsetgroup": "farm_env10km",
         "orientation": "v",
         "showlegend": false,
         "textposition": "auto",
         "type": "bar",
         "x": [
          "farm_env10km"
         ],
         "xaxis": "x9",
         "y": [
          40765
         ],
         "yaxis": "y9"
        },
        {
         "alignmentgroup": "True",
         "hovertemplate": "variable=%{x}<br>region_name=idaho<br>value=%{y}<extra></extra>",
         "legendgroup": "farm_env10km",
         "marker": {
          "color": "#FF97FF",
          "pattern": {
           "shape": ""
          }
         },
         "name": "farm_env10km",
         "offsetgroup": "farm_env10km",
         "orientation": "v",
         "showlegend": false,
         "textposition": "auto",
         "type": "bar",
         "x": [
          "farm_env10km"
         ],
         "xaxis": "x8",
         "y": [
          6999
         ],
         "yaxis": "y8"
        },
        {
         "alignmentgroup": "True",
         "hovertemplate": "variable=%{x}<br>region_name=montana<br>value=%{y}<extra></extra>",
         "legendgroup": "farm_env10km",
         "marker": {
          "color": "#FF97FF",
          "pattern": {
           "shape": ""
          }
         },
         "name": "farm_env10km",
         "offsetgroup": "farm_env10km",
         "orientation": "v",
         "showlegend": false,
         "textposition": "auto",
         "type": "bar",
         "x": [
          "farm_env10km"
         ],
         "xaxis": "x7",
         "y": [
          19598
         ],
         "yaxis": "y7"
        },
        {
         "alignmentgroup": "True",
         "hovertemplate": "variable=%{x}<br>region_name=new_mexico<br>value=%{y}<extra></extra>",
         "legendgroup": "farm_env10km",
         "marker": {
          "color": "#FF97FF",
          "pattern": {
           "shape": ""
          }
         },
         "name": "farm_env10km",
         "offsetgroup": "farm_env10km",
         "orientation": "v",
         "showlegend": false,
         "textposition": "auto",
         "type": "bar",
         "x": [
          "farm_env10km"
         ],
         "xaxis": "x6",
         "y": [
          82948
         ],
         "yaxis": "y6"
        },
        {
         "alignmentgroup": "True",
         "hovertemplate": "variable=%{x}<br>region_name=nevada<br>value=%{y}<extra></extra>",
         "legendgroup": "farm_env10km",
         "marker": {
          "color": "#FF97FF",
          "pattern": {
           "shape": ""
          }
         },
         "name": "farm_env10km",
         "offsetgroup": "farm_env10km",
         "orientation": "v",
         "showlegend": false,
         "textposition": "auto",
         "type": "bar",
         "x": [
          "farm_env10km"
         ],
         "xaxis": "x5",
         "y": [
          31536
         ],
         "yaxis": "y5"
        },
        {
         "alignmentgroup": "True",
         "hovertemplate": "variable=%{x}<br>region_name=oregon<br>value=%{y}<extra></extra>",
         "legendgroup": "farm_env10km",
         "marker": {
          "color": "#FF97FF",
          "pattern": {
           "shape": ""
          }
         },
         "name": "farm_env10km",
         "offsetgroup": "farm_env10km",
         "orientation": "v",
         "showlegend": false,
         "textposition": "auto",
         "type": "bar",
         "x": [
          "farm_env10km"
         ],
         "xaxis": "x4",
         "y": [
          4147
         ],
         "yaxis": "y4"
        },
        {
         "alignmentgroup": "True",
         "hovertemplate": "variable=%{x}<br>region_name=utah<br>value=%{y}<extra></extra>",
         "legendgroup": "farm_env10km",
         "marker": {
          "color": "#FF97FF",
          "pattern": {
           "shape": ""
          }
         },
         "name": "farm_env10km",
         "offsetgroup": "farm_env10km",
         "orientation": "v",
         "showlegend": false,
         "textposition": "auto",
         "type": "bar",
         "x": [
          "farm_env10km"
         ],
         "xaxis": "x3",
         "y": [
          19213
         ],
         "yaxis": "y3"
        },
        {
         "alignmentgroup": "True",
         "hovertemplate": "variable=%{x}<br>region_name=washington<br>value=%{y}<extra></extra>",
         "legendgroup": "farm_env10km",
         "marker": {
          "color": "#FF97FF",
          "pattern": {
           "shape": ""
          }
         },
         "name": "farm_env10km",
         "offsetgroup": "farm_env10km",
         "orientation": "v",
         "showlegend": false,
         "textposition": "auto",
         "type": "bar",
         "x": [
          "farm_env10km"
         ],
         "xaxis": "x2",
         "y": [
          6037
         ],
         "yaxis": "y2"
        },
        {
         "alignmentgroup": "True",
         "hovertemplate": "variable=%{x}<br>region_name=wyoming<br>value=%{y}<extra></extra>",
         "legendgroup": "farm_env10km",
         "marker": {
          "color": "#FF97FF",
          "pattern": {
           "shape": ""
          }
         },
         "name": "farm_env10km",
         "offsetgroup": "farm_env10km",
         "orientation": "v",
         "showlegend": false,
         "textposition": "auto",
         "type": "bar",
         "x": [
          "farm_env10km"
         ],
         "xaxis": "x",
         "y": [
          35039
         ],
         "yaxis": "y"
        },
        {
         "alignmentgroup": "True",
         "hovertemplate": "variable=%{x}<br>region_name=arizona<br>value=%{y}<extra></extra>",
         "legendgroup": "bau_km",
         "marker": {
          "color": "#FECB52",
          "pattern": {
           "shape": ""
          }
         },
         "name": "bau_km",
         "offsetgroup": "bau_km",
         "orientation": "v",
         "showlegend": true,
         "textposition": "auto",
         "type": "bar",
         "x": [
          "bau_km"
         ],
         "xaxis": "x11",
         "y": [
          418
         ],
         "yaxis": "y11"
        },
        {
         "alignmentgroup": "True",
         "hovertemplate": "variable=%{x}<br>region_name=california<br>value=%{y}<extra></extra>",
         "legendgroup": "bau_km",
         "marker": {
          "color": "#FECB52",
          "pattern": {
           "shape": ""
          }
         },
         "name": "bau_km",
         "offsetgroup": "bau_km",
         "orientation": "v",
         "showlegend": false,
         "textposition": "auto",
         "type": "bar",
         "x": [
          "bau_km"
         ],
         "xaxis": "x10",
         "y": [
          895
         ],
         "yaxis": "y10"
        },
        {
         "alignmentgroup": "True",
         "hovertemplate": "variable=%{x}<br>region_name=colorado<br>value=%{y}<extra></extra>",
         "legendgroup": "bau_km",
         "marker": {
          "color": "#FECB52",
          "pattern": {
           "shape": ""
          }
         },
         "name": "bau_km",
         "offsetgroup": "bau_km",
         "orientation": "v",
         "showlegend": false,
         "textposition": "auto",
         "type": "bar",
         "x": [
          "bau_km"
         ],
         "xaxis": "x9",
         "y": [
          438
         ],
         "yaxis": "y9"
        },
        {
         "alignmentgroup": "True",
         "hovertemplate": "variable=%{x}<br>region_name=idaho<br>value=%{y}<extra></extra>",
         "legendgroup": "bau_km",
         "marker": {
          "color": "#FECB52",
          "pattern": {
           "shape": ""
          }
         },
         "name": "bau_km",
         "offsetgroup": "bau_km",
         "orientation": "v",
         "showlegend": false,
         "textposition": "auto",
         "type": "bar",
         "x": [
          "bau_km"
         ],
         "xaxis": "x8",
         "y": [
          17
         ],
         "yaxis": "y8"
        },
        {
         "alignmentgroup": "True",
         "hovertemplate": "variable=%{x}<br>region_name=montana<br>value=%{y}<extra></extra>",
         "legendgroup": "bau_km",
         "marker": {
          "color": "#FECB52",
          "pattern": {
           "shape": ""
          }
         },
         "name": "bau_km",
         "offsetgroup": "bau_km",
         "orientation": "v",
         "showlegend": false,
         "textposition": "auto",
         "type": "bar",
         "x": [
          "bau_km"
         ],
         "xaxis": "x7",
         "y": [
          132
         ],
         "yaxis": "y7"
        },
        {
         "alignmentgroup": "True",
         "hovertemplate": "variable=%{x}<br>region_name=new_mexico<br>value=%{y}<extra></extra>",
         "legendgroup": "bau_km",
         "marker": {
          "color": "#FECB52",
          "pattern": {
           "shape": ""
          }
         },
         "name": "bau_km",
         "offsetgroup": "bau_km",
         "orientation": "v",
         "showlegend": false,
         "textposition": "auto",
         "type": "bar",
         "x": [
          "bau_km"
         ],
         "xaxis": "x6",
         "y": [
          187
         ],
         "yaxis": "y6"
        },
        {
         "alignmentgroup": "True",
         "hovertemplate": "variable=%{x}<br>region_name=nevada<br>value=%{y}<extra></extra>",
         "legendgroup": "bau_km",
         "marker": {
          "color": "#FECB52",
          "pattern": {
           "shape": ""
          }
         },
         "name": "bau_km",
         "offsetgroup": "bau_km",
         "orientation": "v",
         "showlegend": false,
         "textposition": "auto",
         "type": "bar",
         "x": [
          "bau_km"
         ],
         "xaxis": "x5",
         "y": [
          418
         ],
         "yaxis": "y5"
        },
        {
         "alignmentgroup": "True",
         "hovertemplate": "variable=%{x}<br>region_name=oregon<br>value=%{y}<extra></extra>",
         "legendgroup": "bau_km",
         "marker": {
          "color": "#FECB52",
          "pattern": {
           "shape": ""
          }
         },
         "name": "bau_km",
         "offsetgroup": "bau_km",
         "orientation": "v",
         "showlegend": false,
         "textposition": "auto",
         "type": "bar",
         "x": [
          "bau_km"
         ],
         "xaxis": "x4",
         "y": [
          72
         ],
         "yaxis": "y4"
        },
        {
         "alignmentgroup": "True",
         "hovertemplate": "variable=%{x}<br>region_name=utah<br>value=%{y}<extra></extra>",
         "legendgroup": "bau_km",
         "marker": {
          "color": "#FECB52",
          "pattern": {
           "shape": ""
          }
         },
         "name": "bau_km",
         "offsetgroup": "bau_km",
         "orientation": "v",
         "showlegend": false,
         "textposition": "auto",
         "type": "bar",
         "x": [
          "bau_km"
         ],
         "xaxis": "x3",
         "y": [
          1217
         ],
         "yaxis": "y3"
        },
        {
         "alignmentgroup": "True",
         "hovertemplate": "variable=%{x}<br>region_name=washington<br>value=%{y}<extra></extra>",
         "legendgroup": "bau_km",
         "marker": {
          "color": "#FECB52",
          "pattern": {
           "shape": ""
          }
         },
         "name": "bau_km",
         "offsetgroup": "bau_km",
         "orientation": "v",
         "showlegend": false,
         "textposition": "auto",
         "type": "bar",
         "x": [
          "bau_km"
         ],
         "xaxis": "x2",
         "y": [
          57
         ],
         "yaxis": "y2"
        },
        {
         "alignmentgroup": "True",
         "hovertemplate": "variable=%{x}<br>region_name=wyoming<br>value=%{y}<extra></extra>",
         "legendgroup": "bau_km",
         "marker": {
          "color": "#FECB52",
          "pattern": {
           "shape": ""
          }
         },
         "name": "bau_km",
         "offsetgroup": "bau_km",
         "orientation": "v",
         "showlegend": false,
         "textposition": "auto",
         "type": "bar",
         "x": [
          "bau_km"
         ],
         "xaxis": "x",
         "y": [
          183
         ],
         "yaxis": "y"
        },
        {
         "alignmentgroup": "True",
         "hovertemplate": "variable=%{x}<br>region_name=arizona<br>value=%{y}<extra></extra>",
         "legendgroup": "clean_grid_km",
         "marker": {
          "color": "#636efa",
          "pattern": {
           "shape": ""
          }
         },
         "name": "clean_grid_km",
         "offsetgroup": "clean_grid_km",
         "orientation": "v",
         "showlegend": true,
         "textposition": "auto",
         "type": "bar",
         "x": [
          "clean_grid_km"
         ],
         "xaxis": "x11",
         "y": [
          599
         ],
         "yaxis": "y11"
        },
        {
         "alignmentgroup": "True",
         "hovertemplate": "variable=%{x}<br>region_name=california<br>value=%{y}<extra></extra>",
         "legendgroup": "clean_grid_km",
         "marker": {
          "color": "#636efa",
          "pattern": {
           "shape": ""
          }
         },
         "name": "clean_grid_km",
         "offsetgroup": "clean_grid_km",
         "orientation": "v",
         "showlegend": false,
         "textposition": "auto",
         "type": "bar",
         "x": [
          "clean_grid_km"
         ],
         "xaxis": "x10",
         "y": [
          1317
         ],
         "yaxis": "y10"
        },
        {
         "alignmentgroup": "True",
         "hovertemplate": "variable=%{x}<br>region_name=colorado<br>value=%{y}<extra></extra>",
         "legendgroup": "clean_grid_km",
         "marker": {
          "color": "#636efa",
          "pattern": {
           "shape": ""
          }
         },
         "name": "clean_grid_km",
         "offsetgroup": "clean_grid_km",
         "orientation": "v",
         "showlegend": false,
         "textposition": "auto",
         "type": "bar",
         "x": [
          "clean_grid_km"
         ],
         "xaxis": "x9",
         "y": [
          651
         ],
         "yaxis": "y9"
        },
        {
         "alignmentgroup": "True",
         "hovertemplate": "variable=%{x}<br>region_name=idaho<br>value=%{y}<extra></extra>",
         "legendgroup": "clean_grid_km",
         "marker": {
          "color": "#636efa",
          "pattern": {
           "shape": ""
          }
         },
         "name": "clean_grid_km",
         "offsetgroup": "clean_grid_km",
         "orientation": "v",
         "showlegend": false,
         "textposition": "auto",
         "type": "bar",
         "x": [
          "clean_grid_km"
         ],
         "xaxis": "x8",
         "y": [
          27
         ],
         "yaxis": "y8"
        },
        {
         "alignmentgroup": "True",
         "hovertemplate": "variable=%{x}<br>region_name=montana<br>value=%{y}<extra></extra>",
         "legendgroup": "clean_grid_km",
         "marker": {
          "color": "#636efa",
          "pattern": {
           "shape": ""
          }
         },
         "name": "clean_grid_km",
         "offsetgroup": "clean_grid_km",
         "orientation": "v",
         "showlegend": false,
         "textposition": "auto",
         "type": "bar",
         "x": [
          "clean_grid_km"
         ],
         "xaxis": "x7",
         "y": [
          263
         ],
         "yaxis": "y7"
        },
        {
         "alignmentgroup": "True",
         "hovertemplate": "variable=%{x}<br>region_name=new_mexico<br>value=%{y}<extra></extra>",
         "legendgroup": "clean_grid_km",
         "marker": {
          "color": "#636efa",
          "pattern": {
           "shape": ""
          }
         },
         "name": "clean_grid_km",
         "offsetgroup": "clean_grid_km",
         "orientation": "v",
         "showlegend": false,
         "textposition": "auto",
         "type": "bar",
         "x": [
          "clean_grid_km"
         ],
         "xaxis": "x6",
         "y": [
          297
         ],
         "yaxis": "y6"
        },
        {
         "alignmentgroup": "True",
         "hovertemplate": "variable=%{x}<br>region_name=nevada<br>value=%{y}<extra></extra>",
         "legendgroup": "clean_grid_km",
         "marker": {
          "color": "#636efa",
          "pattern": {
           "shape": ""
          }
         },
         "name": "clean_grid_km",
         "offsetgroup": "clean_grid_km",
         "orientation": "v",
         "showlegend": false,
         "textposition": "auto",
         "type": "bar",
         "x": [
          "clean_grid_km"
         ],
         "xaxis": "x5",
         "y": [
          584
         ],
         "yaxis": "y5"
        },
        {
         "alignmentgroup": "True",
         "hovertemplate": "variable=%{x}<br>region_name=oregon<br>value=%{y}<extra></extra>",
         "legendgroup": "clean_grid_km",
         "marker": {
          "color": "#636efa",
          "pattern": {
           "shape": ""
          }
         },
         "name": "clean_grid_km",
         "offsetgroup": "clean_grid_km",
         "orientation": "v",
         "showlegend": false,
         "textposition": "auto",
         "type": "bar",
         "x": [
          "clean_grid_km"
         ],
         "xaxis": "x4",
         "y": [
          125
         ],
         "yaxis": "y4"
        },
        {
         "alignmentgroup": "True",
         "hovertemplate": "variable=%{x}<br>region_name=utah<br>value=%{y}<extra></extra>",
         "legendgroup": "clean_grid_km",
         "marker": {
          "color": "#636efa",
          "pattern": {
           "shape": ""
          }
         },
         "name": "clean_grid_km",
         "offsetgroup": "clean_grid_km",
         "orientation": "v",
         "showlegend": false,
         "textposition": "auto",
         "type": "bar",
         "x": [
          "clean_grid_km"
         ],
         "xaxis": "x3",
         "y": [
          1712
         ],
         "yaxis": "y3"
        },
        {
         "alignmentgroup": "True",
         "hovertemplate": "variable=%{x}<br>region_name=washington<br>value=%{y}<extra></extra>",
         "legendgroup": "clean_grid_km",
         "marker": {
          "color": "#636efa",
          "pattern": {
           "shape": ""
          }
         },
         "name": "clean_grid_km",
         "offsetgroup": "clean_grid_km",
         "orientation": "v",
         "showlegend": false,
         "textposition": "auto",
         "type": "bar",
         "x": [
          "clean_grid_km"
         ],
         "xaxis": "x2",
         "y": [
          109
         ],
         "yaxis": "y2"
        },
        {
         "alignmentgroup": "True",
         "hovertemplate": "variable=%{x}<br>region_name=wyoming<br>value=%{y}<extra></extra>",
         "legendgroup": "clean_grid_km",
         "marker": {
          "color": "#636efa",
          "pattern": {
           "shape": ""
          }
         },
         "name": "clean_grid_km",
         "offsetgroup": "clean_grid_km",
         "orientation": "v",
         "showlegend": false,
         "textposition": "auto",
         "type": "bar",
         "x": [
          "clean_grid_km"
         ],
         "xaxis": "x",
         "y": [
          290
         ],
         "yaxis": "y"
        }
       ],
       "layout": {
        "annotations": [
         {
          "font": {},
          "showarrow": false,
          "text": "region_name=wyoming",
          "textangle": 90,
          "x": 0.98,
          "xanchor": "left",
          "xref": "paper",
          "y": 0.031818181818181815,
          "yanchor": "middle",
          "yref": "paper"
         },
         {
          "font": {},
          "showarrow": false,
          "text": "region_name=washington",
          "textangle": 90,
          "x": 0.98,
          "xanchor": "left",
          "xref": "paper",
          "y": 0.12545454545454543,
          "yanchor": "middle",
          "yref": "paper"
         },
         {
          "font": {},
          "showarrow": false,
          "text": "region_name=utah",
          "textangle": 90,
          "x": 0.98,
          "xanchor": "left",
          "xref": "paper",
          "y": 0.21909090909090906,
          "yanchor": "middle",
          "yref": "paper"
         },
         {
          "font": {},
          "showarrow": false,
          "text": "region_name=oregon",
          "textangle": 90,
          "x": 0.98,
          "xanchor": "left",
          "xref": "paper",
          "y": 0.3127272727272727,
          "yanchor": "middle",
          "yref": "paper"
         },
         {
          "font": {},
          "showarrow": false,
          "text": "region_name=nevada",
          "textangle": 90,
          "x": 0.98,
          "xanchor": "left",
          "xref": "paper",
          "y": 0.4063636363636363,
          "yanchor": "middle",
          "yref": "paper"
         },
         {
          "font": {},
          "showarrow": false,
          "text": "region_name=new_mexico",
          "textangle": 90,
          "x": 0.98,
          "xanchor": "left",
          "xref": "paper",
          "y": 0.49999999999999994,
          "yanchor": "middle",
          "yref": "paper"
         },
         {
          "font": {},
          "showarrow": false,
          "text": "region_name=montana",
          "textangle": 90,
          "x": 0.98,
          "xanchor": "left",
          "xref": "paper",
          "y": 0.5936363636363635,
          "yanchor": "middle",
          "yref": "paper"
         },
         {
          "font": {},
          "showarrow": false,
          "text": "region_name=idaho",
          "textangle": 90,
          "x": 0.98,
          "xanchor": "left",
          "xref": "paper",
          "y": 0.687272727272727,
          "yanchor": "middle",
          "yref": "paper"
         },
         {
          "font": {},
          "showarrow": false,
          "text": "region_name=colorado",
          "textangle": 90,
          "x": 0.98,
          "xanchor": "left",
          "xref": "paper",
          "y": 0.7809090909090908,
          "yanchor": "middle",
          "yref": "paper"
         },
         {
          "font": {},
          "showarrow": false,
          "text": "region_name=california",
          "textangle": 90,
          "x": 0.98,
          "xanchor": "left",
          "xref": "paper",
          "y": 0.8745454545454543,
          "yanchor": "middle",
          "yref": "paper"
         },
         {
          "font": {},
          "showarrow": false,
          "text": "region_name=arizona",
          "textangle": 90,
          "x": 0.98,
          "xanchor": "left",
          "xref": "paper",
          "y": 0.9681818181818178,
          "yanchor": "middle",
          "yref": "paper"
         }
        ],
        "barmode": "relative",
        "height": 2000,
        "legend": {
         "title": {
          "text": "variable"
         },
         "tracegroupgap": 0
        },
        "margin": {
         "t": 60
        },
        "template": {
         "data": {
          "bar": [
           {
            "error_x": {
             "color": "#2a3f5f"
            },
            "error_y": {
             "color": "#2a3f5f"
            },
            "marker": {
             "line": {
              "color": "#E5ECF6",
              "width": 0.5
             },
             "pattern": {
              "fillmode": "overlay",
              "size": 10,
              "solidity": 0.2
             }
            },
            "type": "bar"
           }
          ],
          "barpolar": [
           {
            "marker": {
             "line": {
              "color": "#E5ECF6",
              "width": 0.5
             },
             "pattern": {
              "fillmode": "overlay",
              "size": 10,
              "solidity": 0.2
             }
            },
            "type": "barpolar"
           }
          ],
          "carpet": [
           {
            "aaxis": {
             "endlinecolor": "#2a3f5f",
             "gridcolor": "white",
             "linecolor": "white",
             "minorgridcolor": "white",
             "startlinecolor": "#2a3f5f"
            },
            "baxis": {
             "endlinecolor": "#2a3f5f",
             "gridcolor": "white",
             "linecolor": "white",
             "minorgridcolor": "white",
             "startlinecolor": "#2a3f5f"
            },
            "type": "carpet"
           }
          ],
          "choropleth": [
           {
            "colorbar": {
             "outlinewidth": 0,
             "ticks": ""
            },
            "type": "choropleth"
           }
          ],
          "contour": [
           {
            "colorbar": {
             "outlinewidth": 0,
             "ticks": ""
            },
            "colorscale": [
             [
              0,
              "#0d0887"
             ],
             [
              0.1111111111111111,
              "#46039f"
             ],
             [
              0.2222222222222222,
              "#7201a8"
             ],
             [
              0.3333333333333333,
              "#9c179e"
             ],
             [
              0.4444444444444444,
              "#bd3786"
             ],
             [
              0.5555555555555556,
              "#d8576b"
             ],
             [
              0.6666666666666666,
              "#ed7953"
             ],
             [
              0.7777777777777778,
              "#fb9f3a"
             ],
             [
              0.8888888888888888,
              "#fdca26"
             ],
             [
              1,
              "#f0f921"
             ]
            ],
            "type": "contour"
           }
          ],
          "contourcarpet": [
           {
            "colorbar": {
             "outlinewidth": 0,
             "ticks": ""
            },
            "type": "contourcarpet"
           }
          ],
          "heatmap": [
           {
            "colorbar": {
             "outlinewidth": 0,
             "ticks": ""
            },
            "colorscale": [
             [
              0,
              "#0d0887"
             ],
             [
              0.1111111111111111,
              "#46039f"
             ],
             [
              0.2222222222222222,
              "#7201a8"
             ],
             [
              0.3333333333333333,
              "#9c179e"
             ],
             [
              0.4444444444444444,
              "#bd3786"
             ],
             [
              0.5555555555555556,
              "#d8576b"
             ],
             [
              0.6666666666666666,
              "#ed7953"
             ],
             [
              0.7777777777777778,
              "#fb9f3a"
             ],
             [
              0.8888888888888888,
              "#fdca26"
             ],
             [
              1,
              "#f0f921"
             ]
            ],
            "type": "heatmap"
           }
          ],
          "heatmapgl": [
           {
            "colorbar": {
             "outlinewidth": 0,
             "ticks": ""
            },
            "colorscale": [
             [
              0,
              "#0d0887"
             ],
             [
              0.1111111111111111,
              "#46039f"
             ],
             [
              0.2222222222222222,
              "#7201a8"
             ],
             [
              0.3333333333333333,
              "#9c179e"
             ],
             [
              0.4444444444444444,
              "#bd3786"
             ],
             [
              0.5555555555555556,
              "#d8576b"
             ],
             [
              0.6666666666666666,
              "#ed7953"
             ],
             [
              0.7777777777777778,
              "#fb9f3a"
             ],
             [
              0.8888888888888888,
              "#fdca26"
             ],
             [
              1,
              "#f0f921"
             ]
            ],
            "type": "heatmapgl"
           }
          ],
          "histogram": [
           {
            "marker": {
             "pattern": {
              "fillmode": "overlay",
              "size": 10,
              "solidity": 0.2
             }
            },
            "type": "histogram"
           }
          ],
          "histogram2d": [
           {
            "colorbar": {
             "outlinewidth": 0,
             "ticks": ""
            },
            "colorscale": [
             [
              0,
              "#0d0887"
             ],
             [
              0.1111111111111111,
              "#46039f"
             ],
             [
              0.2222222222222222,
              "#7201a8"
             ],
             [
              0.3333333333333333,
              "#9c179e"
             ],
             [
              0.4444444444444444,
              "#bd3786"
             ],
             [
              0.5555555555555556,
              "#d8576b"
             ],
             [
              0.6666666666666666,
              "#ed7953"
             ],
             [
              0.7777777777777778,
              "#fb9f3a"
             ],
             [
              0.8888888888888888,
              "#fdca26"
             ],
             [
              1,
              "#f0f921"
             ]
            ],
            "type": "histogram2d"
           }
          ],
          "histogram2dcontour": [
           {
            "colorbar": {
             "outlinewidth": 0,
             "ticks": ""
            },
            "colorscale": [
             [
              0,
              "#0d0887"
             ],
             [
              0.1111111111111111,
              "#46039f"
             ],
             [
              0.2222222222222222,
              "#7201a8"
             ],
             [
              0.3333333333333333,
              "#9c179e"
             ],
             [
              0.4444444444444444,
              "#bd3786"
             ],
             [
              0.5555555555555556,
              "#d8576b"
             ],
             [
              0.6666666666666666,
              "#ed7953"
             ],
             [
              0.7777777777777778,
              "#fb9f3a"
             ],
             [
              0.8888888888888888,
              "#fdca26"
             ],
             [
              1,
              "#f0f921"
             ]
            ],
            "type": "histogram2dcontour"
           }
          ],
          "mesh3d": [
           {
            "colorbar": {
             "outlinewidth": 0,
             "ticks": ""
            },
            "type": "mesh3d"
           }
          ],
          "parcoords": [
           {
            "line": {
             "colorbar": {
              "outlinewidth": 0,
              "ticks": ""
             }
            },
            "type": "parcoords"
           }
          ],
          "pie": [
           {
            "automargin": true,
            "type": "pie"
           }
          ],
          "scatter": [
           {
            "fillpattern": {
             "fillmode": "overlay",
             "size": 10,
             "solidity": 0.2
            },
            "type": "scatter"
           }
          ],
          "scatter3d": [
           {
            "line": {
             "colorbar": {
              "outlinewidth": 0,
              "ticks": ""
             }
            },
            "marker": {
             "colorbar": {
              "outlinewidth": 0,
              "ticks": ""
             }
            },
            "type": "scatter3d"
           }
          ],
          "scattercarpet": [
           {
            "marker": {
             "colorbar": {
              "outlinewidth": 0,
              "ticks": ""
             }
            },
            "type": "scattercarpet"
           }
          ],
          "scattergeo": [
           {
            "marker": {
             "colorbar": {
              "outlinewidth": 0,
              "ticks": ""
             }
            },
            "type": "scattergeo"
           }
          ],
          "scattergl": [
           {
            "marker": {
             "colorbar": {
              "outlinewidth": 0,
              "ticks": ""
             }
            },
            "type": "scattergl"
           }
          ],
          "scattermapbox": [
           {
            "marker": {
             "colorbar": {
              "outlinewidth": 0,
              "ticks": ""
             }
            },
            "type": "scattermapbox"
           }
          ],
          "scatterpolar": [
           {
            "marker": {
             "colorbar": {
              "outlinewidth": 0,
              "ticks": ""
             }
            },
            "type": "scatterpolar"
           }
          ],
          "scatterpolargl": [
           {
            "marker": {
             "colorbar": {
              "outlinewidth": 0,
              "ticks": ""
             }
            },
            "type": "scatterpolargl"
           }
          ],
          "scatterternary": [
           {
            "marker": {
             "colorbar": {
              "outlinewidth": 0,
              "ticks": ""
             }
            },
            "type": "scatterternary"
           }
          ],
          "surface": [
           {
            "colorbar": {
             "outlinewidth": 0,
             "ticks": ""
            },
            "colorscale": [
             [
              0,
              "#0d0887"
             ],
             [
              0.1111111111111111,
              "#46039f"
             ],
             [
              0.2222222222222222,
              "#7201a8"
             ],
             [
              0.3333333333333333,
              "#9c179e"
             ],
             [
              0.4444444444444444,
              "#bd3786"
             ],
             [
              0.5555555555555556,
              "#d8576b"
             ],
             [
              0.6666666666666666,
              "#ed7953"
             ],
             [
              0.7777777777777778,
              "#fb9f3a"
             ],
             [
              0.8888888888888888,
              "#fdca26"
             ],
             [
              1,
              "#f0f921"
             ]
            ],
            "type": "surface"
           }
          ],
          "table": [
           {
            "cells": {
             "fill": {
              "color": "#EBF0F8"
             },
             "line": {
              "color": "white"
             }
            },
            "header": {
             "fill": {
              "color": "#C8D4E3"
             },
             "line": {
              "color": "white"
             }
            },
            "type": "table"
           }
          ]
         },
         "layout": {
          "annotationdefaults": {
           "arrowcolor": "#2a3f5f",
           "arrowhead": 0,
           "arrowwidth": 1
          },
          "autotypenumbers": "strict",
          "coloraxis": {
           "colorbar": {
            "outlinewidth": 0,
            "ticks": ""
           }
          },
          "colorscale": {
           "diverging": [
            [
             0,
             "#8e0152"
            ],
            [
             0.1,
             "#c51b7d"
            ],
            [
             0.2,
             "#de77ae"
            ],
            [
             0.3,
             "#f1b6da"
            ],
            [
             0.4,
             "#fde0ef"
            ],
            [
             0.5,
             "#f7f7f7"
            ],
            [
             0.6,
             "#e6f5d0"
            ],
            [
             0.7,
             "#b8e186"
            ],
            [
             0.8,
             "#7fbc41"
            ],
            [
             0.9,
             "#4d9221"
            ],
            [
             1,
             "#276419"
            ]
           ],
           "sequential": [
            [
             0,
             "#0d0887"
            ],
            [
             0.1111111111111111,
             "#46039f"
            ],
            [
             0.2222222222222222,
             "#7201a8"
            ],
            [
             0.3333333333333333,
             "#9c179e"
            ],
            [
             0.4444444444444444,
             "#bd3786"
            ],
            [
             0.5555555555555556,
             "#d8576b"
            ],
            [
             0.6666666666666666,
             "#ed7953"
            ],
            [
             0.7777777777777778,
             "#fb9f3a"
            ],
            [
             0.8888888888888888,
             "#fdca26"
            ],
            [
             1,
             "#f0f921"
            ]
           ],
           "sequentialminus": [
            [
             0,
             "#0d0887"
            ],
            [
             0.1111111111111111,
             "#46039f"
            ],
            [
             0.2222222222222222,
             "#7201a8"
            ],
            [
             0.3333333333333333,
             "#9c179e"
            ],
            [
             0.4444444444444444,
             "#bd3786"
            ],
            [
             0.5555555555555556,
             "#d8576b"
            ],
            [
             0.6666666666666666,
             "#ed7953"
            ],
            [
             0.7777777777777778,
             "#fb9f3a"
            ],
            [
             0.8888888888888888,
             "#fdca26"
            ],
            [
             1,
             "#f0f921"
            ]
           ]
          },
          "colorway": [
           "#636efa",
           "#EF553B",
           "#00cc96",
           "#ab63fa",
           "#FFA15A",
           "#19d3f3",
           "#FF6692",
           "#B6E880",
           "#FF97FF",
           "#FECB52"
          ],
          "font": {
           "color": "#2a3f5f"
          },
          "geo": {
           "bgcolor": "white",
           "lakecolor": "white",
           "landcolor": "#E5ECF6",
           "showlakes": true,
           "showland": true,
           "subunitcolor": "white"
          },
          "hoverlabel": {
           "align": "left"
          },
          "hovermode": "closest",
          "mapbox": {
           "style": "light"
          },
          "paper_bgcolor": "white",
          "plot_bgcolor": "#E5ECF6",
          "polar": {
           "angularaxis": {
            "gridcolor": "white",
            "linecolor": "white",
            "ticks": ""
           },
           "bgcolor": "#E5ECF6",
           "radialaxis": {
            "gridcolor": "white",
            "linecolor": "white",
            "ticks": ""
           }
          },
          "scene": {
           "xaxis": {
            "backgroundcolor": "#E5ECF6",
            "gridcolor": "white",
            "gridwidth": 2,
            "linecolor": "white",
            "showbackground": true,
            "ticks": "",
            "zerolinecolor": "white"
           },
           "yaxis": {
            "backgroundcolor": "#E5ECF6",
            "gridcolor": "white",
            "gridwidth": 2,
            "linecolor": "white",
            "showbackground": true,
            "ticks": "",
            "zerolinecolor": "white"
           },
           "zaxis": {
            "backgroundcolor": "#E5ECF6",
            "gridcolor": "white",
            "gridwidth": 2,
            "linecolor": "white",
            "showbackground": true,
            "ticks": "",
            "zerolinecolor": "white"
           }
          },
          "shapedefaults": {
           "line": {
            "color": "#2a3f5f"
           }
          },
          "ternary": {
           "aaxis": {
            "gridcolor": "white",
            "linecolor": "white",
            "ticks": ""
           },
           "baxis": {
            "gridcolor": "white",
            "linecolor": "white",
            "ticks": ""
           },
           "bgcolor": "#E5ECF6",
           "caxis": {
            "gridcolor": "white",
            "linecolor": "white",
            "ticks": ""
           }
          },
          "title": {
           "x": 0.05
          },
          "xaxis": {
           "automargin": true,
           "gridcolor": "white",
           "linecolor": "white",
           "ticks": "",
           "title": {
            "standoff": 15
           },
           "zerolinecolor": "white",
           "zerolinewidth": 2
          },
          "yaxis": {
           "automargin": true,
           "gridcolor": "white",
           "linecolor": "white",
           "ticks": "",
           "title": {
            "standoff": 15
           },
           "zerolinecolor": "white",
           "zerolinewidth": 2
          }
         }
        },
        "width": 1200,
        "xaxis": {
         "anchor": "y",
         "autorange": true,
         "categoryarray": [
          "baseline",
          "dac",
          "farmland",
          "env_1km",
          "env_5km",
          "env_10km",
          "dac_farm_env5km",
          "farm_env5km",
          "farm_env10km",
          "bau_km",
          "clean_grid_km"
         ],
         "categoryorder": "array",
         "domain": [
          0,
          0.98
         ],
         "range": [
          -0.5,
          10.5
         ],
         "title": {
          "text": "variable"
         },
         "type": "category"
        },
        "xaxis10": {
         "anchor": "y10",
         "autorange": true,
         "domain": [
          0,
          0.98
         ],
         "matches": "x",
         "range": [
          -0.5,
          10.5
         ],
         "showticklabels": false,
         "type": "category"
        },
        "xaxis11": {
         "anchor": "y11",
         "autorange": true,
         "domain": [
          0,
          0.98
         ],
         "matches": "x",
         "range": [
          -0.5,
          10.5
         ],
         "showticklabels": false,
         "type": "category"
        },
        "xaxis2": {
         "anchor": "y2",
         "autorange": true,
         "domain": [
          0,
          0.98
         ],
         "matches": "x",
         "range": [
          -0.5,
          10.5
         ],
         "showticklabels": false,
         "type": "category"
        },
        "xaxis3": {
         "anchor": "y3",
         "autorange": true,
         "domain": [
          0,
          0.98
         ],
         "matches": "x",
         "range": [
          -0.5,
          10.5
         ],
         "showticklabels": false,
         "type": "category"
        },
        "xaxis4": {
         "anchor": "y4",
         "autorange": true,
         "domain": [
          0,
          0.98
         ],
         "matches": "x",
         "range": [
          -0.5,
          10.5
         ],
         "showticklabels": false,
         "type": "category"
        },
        "xaxis5": {
         "anchor": "y5",
         "autorange": true,
         "domain": [
          0,
          0.98
         ],
         "matches": "x",
         "range": [
          -0.5,
          10.5
         ],
         "showticklabels": false,
         "type": "category"
        },
        "xaxis6": {
         "anchor": "y6",
         "autorange": true,
         "domain": [
          0,
          0.98
         ],
         "matches": "x",
         "range": [
          -0.5,
          10.5
         ],
         "showticklabels": false,
         "type": "category"
        },
        "xaxis7": {
         "anchor": "y7",
         "autorange": true,
         "domain": [
          0,
          0.98
         ],
         "matches": "x",
         "range": [
          -0.5,
          10.5
         ],
         "showticklabels": false,
         "type": "category"
        },
        "xaxis8": {
         "anchor": "y8",
         "autorange": true,
         "domain": [
          0,
          0.98
         ],
         "matches": "x",
         "range": [
          -0.5,
          10.5
         ],
         "showticklabels": false,
         "type": "category"
        },
        "xaxis9": {
         "anchor": "y9",
         "autorange": true,
         "domain": [
          0,
          0.98
         ],
         "matches": "x",
         "range": [
          -0.5,
          10.5
         ],
         "showticklabels": false,
         "type": "category"
        },
        "yaxis": {
         "anchor": "x",
         "autorange": true,
         "domain": [
          0,
          0.06363636363636363
         ],
         "range": [
          0,
          158712.63157894736
         ],
         "title": {
          "text": "value"
         },
         "type": "linear"
        },
        "yaxis10": {
         "anchor": "x10",
         "autorange": true,
         "domain": [
          0.8427272727272725,
          0.9063636363636361
         ],
         "range": [
          0,
          99391.57894736843
         ],
         "title": {
          "text": "value"
         },
         "type": "linear"
        },
        "yaxis11": {
         "anchor": "x11",
         "autorange": true,
         "domain": [
          0.9363636363636361,
          0.9999999999999997
         ],
         "range": [
          0,
          157334.73684210525
         ],
         "title": {
          "text": "value"
         },
         "type": "linear"
        },
        "yaxis2": {
         "anchor": "x2",
         "autorange": true,
         "domain": [
          0.09363636363636363,
          0.15727272727272726
         ],
         "range": [
          0,
          63417.89473684211
         ],
         "title": {
          "text": "value"
         },
         "type": "linear"
        },
        "yaxis3": {
         "anchor": "x3",
         "autorange": true,
         "domain": [
          0.18727272727272726,
          0.25090909090909086
         ],
         "range": [
          0,
          65200
         ],
         "title": {
          "text": "value"
         },
         "type": "linear"
        },
        "yaxis4": {
         "anchor": "x4",
         "autorange": true,
         "domain": [
          0.2809090909090909,
          0.3445454545454545
         ],
         "range": [
          0,
          64136.84210526316
         ],
         "title": {
          "text": "value"
         },
         "type": "linear"
        },
        "yaxis5": {
         "anchor": "x5",
         "autorange": true,
         "domain": [
          0.3745454545454545,
          0.4381818181818181
         ],
         "range": [
          0,
          111943.15789473684
         ],
         "title": {
          "text": "value"
         },
         "type": "linear"
        },
        "yaxis6": {
         "anchor": "x6",
         "autorange": true,
         "domain": [
          0.46818181818181814,
          0.5318181818181817
         ],
         "range": [
          0,
          212368.42105263157
         ],
         "title": {
          "text": "value"
         },
         "type": "linear"
        },
        "yaxis7": {
         "anchor": "x7",
         "autorange": true,
         "domain": [
          0.5618181818181818,
          0.6254545454545454
         ],
         "range": [
          0,
          211172.63157894736
         ],
         "title": {
          "text": "value"
         },
         "type": "linear"
        },
        "yaxis8": {
         "anchor": "x8",
         "autorange": true,
         "domain": [
          0.6554545454545453,
          0.7190909090909089
         ],
         "range": [
          0,
          67387.36842105263
         ],
         "title": {
          "text": "value"
         },
         "type": "linear"
        },
        "yaxis9": {
         "anchor": "x9",
         "autorange": true,
         "domain": [
          0.7490909090909089,
          0.8127272727272725
         ],
         "range": [
          0,
          125033.68421052632
         ],
         "title": {
          "text": "value"
         },
         "type": "linear"
        }
       }
      },
      "text/html": [
       "<div>                            <div id=\"da9a8a73-14ea-4b01-be7a-eb7c910e5932\" class=\"plotly-graph-div\" style=\"height:2000px; width:1200px;\"></div>            <script type=\"text/javascript\">                require([\"plotly\"], function(Plotly) {                    window.PLOTLYENV=window.PLOTLYENV || {};                                    if (document.getElementById(\"da9a8a73-14ea-4b01-be7a-eb7c910e5932\")) {                    Plotly.newPlot(                        \"da9a8a73-14ea-4b01-be7a-eb7c910e5932\",                        [{\"alignmentgroup\":\"True\",\"hovertemplate\":\"variable=%{x}\\u003cbr\\u003eregion_name=arizona\\u003cbr\\u003evalue=%{y}\\u003cextra\\u003e\\u003c\\u002fextra\\u003e\",\"legendgroup\":\"baseline\",\"marker\":{\"color\":\"#636efa\",\"pattern\":{\"shape\":\"\"}},\"name\":\"baseline\",\"offsetgroup\":\"baseline\",\"orientation\":\"v\",\"showlegend\":true,\"textposition\":\"auto\",\"x\":[\"baseline\"],\"xaxis\":\"x11\",\"y\":[149468],\"yaxis\":\"y11\",\"type\":\"bar\"},{\"alignmentgroup\":\"True\",\"hovertemplate\":\"variable=%{x}\\u003cbr\\u003eregion_name=california\\u003cbr\\u003evalue=%{y}\\u003cextra\\u003e\\u003c\\u002fextra\\u003e\",\"legendgroup\":\"baseline\",\"marker\":{\"color\":\"#636efa\",\"pattern\":{\"shape\":\"\"}},\"name\":\"baseline\",\"offsetgroup\":\"baseline\",\"orientation\":\"v\",\"showlegend\":false,\"textposition\":\"auto\",\"x\":[\"baseline\"],\"xaxis\":\"x10\",\"y\":[94422],\"yaxis\":\"y10\",\"type\":\"bar\"},{\"alignmentgroup\":\"True\",\"hovertemplate\":\"variable=%{x}\\u003cbr\\u003eregion_name=colorado\\u003cbr\\u003evalue=%{y}\\u003cextra\\u003e\\u003c\\u002fextra\\u003e\",\"legendgroup\":\"baseline\",\"marker\":{\"color\":\"#636efa\",\"pattern\":{\"shape\":\"\"}},\"name\":\"baseline\",\"offsetgroup\":\"baseline\",\"orientation\":\"v\",\"showlegend\":false,\"textposition\":\"auto\",\"x\":[\"baseline\"],\"xaxis\":\"x9\",\"y\":[118782],\"yaxis\":\"y9\",\"type\":\"bar\"},{\"alignmentgroup\":\"True\",\"hovertemplate\":\"variable=%{x}\\u003cbr\\u003eregion_name=idaho\\u003cbr\\u003evalue=%{y}\\u003cextra\\u003e\\u003c\\u002fextra\\u003e\",\"legendgroup\":\"baseline\",\"marker\":{\"color\":\"#636efa\",\"pattern\":{\"shape\":\"\"}},\"name\":\"baseline\",\"offsetgroup\":\"baseline\",\"orientation\":\"v\",\"showlegend\":false,\"textposition\":\"auto\",\"x\":[\"baseline\"],\"xaxis\":\"x8\",\"y\":[64018],\"yaxis\":\"y8\",\"type\":\"bar\"},{\"alignmentgroup\":\"True\",\"hovertemplate\":\"variable=%{x}\\u003cbr\\u003eregion_name=montana\\u003cbr\\u003evalue=%{y}\\u003cextra\\u003e\\u003c\\u002fextra\\u003e\",\"legendgroup\":\"baseline\",\"marker\":{\"color\":\"#636efa\",\"pattern\":{\"shape\":\"\"}},\"name\":\"baseline\",\"offsetgroup\":\"baseline\",\"orientation\":\"v\",\"showlegend\":false,\"textposition\":\"auto\",\"x\":[\"baseline\"],\"xaxis\":\"x7\",\"y\":[200614],\"yaxis\":\"y7\",\"type\":\"bar\"},{\"alignmentgroup\":\"True\",\"hovertemplate\":\"variable=%{x}\\u003cbr\\u003eregion_name=new_mexico\\u003cbr\\u003evalue=%{y}\\u003cextra\\u003e\\u003c\\u002fextra\\u003e\",\"legendgroup\":\"baseline\",\"marker\":{\"color\":\"#636efa\",\"pattern\":{\"shape\":\"\"}},\"name\":\"baseline\",\"offsetgroup\":\"baseline\",\"orientation\":\"v\",\"showlegend\":false,\"textposition\":\"auto\",\"x\":[\"baseline\"],\"xaxis\":\"x6\",\"y\":[201750],\"yaxis\":\"y6\",\"type\":\"bar\"},{\"alignmentgroup\":\"True\",\"hovertemplate\":\"variable=%{x}\\u003cbr\\u003eregion_name=nevada\\u003cbr\\u003evalue=%{y}\\u003cextra\\u003e\\u003c\\u002fextra\\u003e\",\"legendgroup\":\"baseline\",\"marker\":{\"color\":\"#636efa\",\"pattern\":{\"shape\":\"\"}},\"name\":\"baseline\",\"offsetgroup\":\"baseline\",\"orientation\":\"v\",\"showlegend\":false,\"textposition\":\"auto\",\"x\":[\"baseline\"],\"xaxis\":\"x5\",\"y\":[106346],\"yaxis\":\"y5\",\"type\":\"bar\"},{\"alignmentgroup\":\"True\",\"hovertemplate\":\"variable=%{x}\\u003cbr\\u003eregion_name=oregon\\u003cbr\\u003evalue=%{y}\\u003cextra\\u003e\\u003c\\u002fextra\\u003e\",\"legendgroup\":\"baseline\",\"marker\":{\"color\":\"#636efa\",\"pattern\":{\"shape\":\"\"}},\"name\":\"baseline\",\"offsetgroup\":\"baseline\",\"orientation\":\"v\",\"showlegend\":false,\"textposition\":\"auto\",\"x\":[\"baseline\"],\"xaxis\":\"x4\",\"y\":[60930],\"yaxis\":\"y4\",\"type\":\"bar\"},{\"alignmentgroup\":\"True\",\"hovertemplate\":\"variable=%{x}\\u003cbr\\u003eregion_name=utah\\u003cbr\\u003evalue=%{y}\\u003cextra\\u003e\\u003c\\u002fextra\\u003e\",\"legendgroup\":\"baseline\",\"marker\":{\"color\":\"#636efa\",\"pattern\":{\"shape\":\"\"}},\"name\":\"baseline\",\"offsetgroup\":\"baseline\",\"orientation\":\"v\",\"showlegend\":false,\"textposition\":\"auto\",\"x\":[\"baseline\"],\"xaxis\":\"x3\",\"y\":[61940],\"yaxis\":\"y3\",\"type\":\"bar\"},{\"alignmentgroup\":\"True\",\"hovertemplate\":\"variable=%{x}\\u003cbr\\u003eregion_name=washington\\u003cbr\\u003evalue=%{y}\\u003cextra\\u003e\\u003c\\u002fextra\\u003e\",\"legendgroup\":\"baseline\",\"marker\":{\"color\":\"#636efa\",\"pattern\":{\"shape\":\"\"}},\"name\":\"baseline\",\"offsetgroup\":\"baseline\",\"orientation\":\"v\",\"showlegend\":false,\"textposition\":\"auto\",\"x\":[\"baseline\"],\"xaxis\":\"x2\",\"y\":[60247],\"yaxis\":\"y2\",\"type\":\"bar\"},{\"alignmentgroup\":\"True\",\"hovertemplate\":\"variable=%{x}\\u003cbr\\u003eregion_name=wyoming\\u003cbr\\u003evalue=%{y}\\u003cextra\\u003e\\u003c\\u002fextra\\u003e\",\"legendgroup\":\"baseline\",\"marker\":{\"color\":\"#636efa\",\"pattern\":{\"shape\":\"\"}},\"name\":\"baseline\",\"offsetgroup\":\"baseline\",\"orientation\":\"v\",\"showlegend\":false,\"textposition\":\"auto\",\"x\":[\"baseline\"],\"xaxis\":\"x\",\"y\":[150777],\"yaxis\":\"y\",\"type\":\"bar\"},{\"alignmentgroup\":\"True\",\"hovertemplate\":\"variable=%{x}\\u003cbr\\u003eregion_name=arizona\\u003cbr\\u003evalue=%{y}\\u003cextra\\u003e\\u003c\\u002fextra\\u003e\",\"legendgroup\":\"dac\",\"marker\":{\"color\":\"#EF553B\",\"pattern\":{\"shape\":\"\"}},\"name\":\"dac\",\"offsetgroup\":\"dac\",\"orientation\":\"v\",\"showlegend\":true,\"textposition\":\"auto\",\"x\":[\"dac\"],\"xaxis\":\"x11\",\"y\":[46395],\"yaxis\":\"y11\",\"type\":\"bar\"},{\"alignmentgroup\":\"True\",\"hovertemplate\":\"variable=%{x}\\u003cbr\\u003eregion_name=california\\u003cbr\\u003evalue=%{y}\\u003cextra\\u003e\\u003c\\u002fextra\\u003e\",\"legendgroup\":\"dac\",\"marker\":{\"color\":\"#EF553B\",\"pattern\":{\"shape\":\"\"}},\"name\":\"dac\",\"offsetgroup\":\"dac\",\"orientation\":\"v\",\"showlegend\":false,\"textposition\":\"auto\",\"x\":[\"dac\"],\"xaxis\":\"x10\",\"y\":[38251],\"yaxis\":\"y10\",\"type\":\"bar\"},{\"alignmentgroup\":\"True\",\"hovertemplate\":\"variable=%{x}\\u003cbr\\u003eregion_name=colorado\\u003cbr\\u003evalue=%{y}\\u003cextra\\u003e\\u003c\\u002fextra\\u003e\",\"legendgroup\":\"dac\",\"marker\":{\"color\":\"#EF553B\",\"pattern\":{\"shape\":\"\"}},\"name\":\"dac\",\"offsetgroup\":\"dac\",\"orientation\":\"v\",\"showlegend\":false,\"textposition\":\"auto\",\"x\":[\"dac\"],\"xaxis\":\"x9\",\"y\":[58883],\"yaxis\":\"y9\",\"type\":\"bar\"},{\"alignmentgroup\":\"True\",\"hovertemplate\":\"variable=%{x}\\u003cbr\\u003eregion_name=idaho\\u003cbr\\u003evalue=%{y}\\u003cextra\\u003e\\u003c\\u002fextra\\u003e\",\"legendgroup\":\"dac\",\"marker\":{\"color\":\"#EF553B\",\"pattern\":{\"shape\":\"\"}},\"name\":\"dac\",\"offsetgroup\":\"dac\",\"orientation\":\"v\",\"showlegend\":false,\"textposition\":\"auto\",\"x\":[\"dac\"],\"xaxis\":\"x8\",\"y\":[18522],\"yaxis\":\"y8\",\"type\":\"bar\"},{\"alignmentgroup\":\"True\",\"hovertemplate\":\"variable=%{x}\\u003cbr\\u003eregion_name=montana\\u003cbr\\u003evalue=%{y}\\u003cextra\\u003e\\u003c\\u002fextra\\u003e\",\"legendgroup\":\"dac\",\"marker\":{\"color\":\"#EF553B\",\"pattern\":{\"shape\":\"\"}},\"name\":\"dac\",\"offsetgroup\":\"dac\",\"orientation\":\"v\",\"showlegend\":false,\"textposition\":\"auto\",\"x\":[\"dac\"],\"xaxis\":\"x7\",\"y\":[104611],\"yaxis\":\"y7\",\"type\":\"bar\"},{\"alignmentgroup\":\"True\",\"hovertemplate\":\"variable=%{x}\\u003cbr\\u003eregion_name=new_mexico\\u003cbr\\u003evalue=%{y}\\u003cextra\\u003e\\u003c\\u002fextra\\u003e\",\"legendgroup\":\"dac\",\"marker\":{\"color\":\"#EF553B\",\"pattern\":{\"shape\":\"\"}},\"name\":\"dac\",\"offsetgroup\":\"dac\",\"orientation\":\"v\",\"showlegend\":false,\"textposition\":\"auto\",\"x\":[\"dac\"],\"xaxis\":\"x6\",\"y\":[23030],\"yaxis\":\"y6\",\"type\":\"bar\"},{\"alignmentgroup\":\"True\",\"hovertemplate\":\"variable=%{x}\\u003cbr\\u003eregion_name=nevada\\u003cbr\\u003evalue=%{y}\\u003cextra\\u003e\\u003c\\u002fextra\\u003e\",\"legendgroup\":\"dac\",\"marker\":{\"color\":\"#EF553B\",\"pattern\":{\"shape\":\"\"}},\"name\":\"dac\",\"offsetgroup\":\"dac\",\"orientation\":\"v\",\"showlegend\":false,\"textposition\":\"auto\",\"x\":[\"dac\"],\"xaxis\":\"x5\",\"y\":[81135],\"yaxis\":\"y5\",\"type\":\"bar\"},{\"alignmentgroup\":\"True\",\"hovertemplate\":\"variable=%{x}\\u003cbr\\u003eregion_name=oregon\\u003cbr\\u003evalue=%{y}\\u003cextra\\u003e\\u003c\\u002fextra\\u003e\",\"legendgroup\":\"dac\",\"marker\":{\"color\":\"#EF553B\",\"pattern\":{\"shape\":\"\"}},\"name\":\"dac\",\"offsetgroup\":\"dac\",\"orientation\":\"v\",\"showlegend\":false,\"textposition\":\"auto\",\"x\":[\"dac\"],\"xaxis\":\"x4\",\"y\":[11622],\"yaxis\":\"y4\",\"type\":\"bar\"},{\"alignmentgroup\":\"True\",\"hovertemplate\":\"variable=%{x}\\u003cbr\\u003eregion_name=utah\\u003cbr\\u003evalue=%{y}\\u003cextra\\u003e\\u003c\\u002fextra\\u003e\",\"legendgroup\":\"dac\",\"marker\":{\"color\":\"#EF553B\",\"pattern\":{\"shape\":\"\"}},\"name\":\"dac\",\"offsetgroup\":\"dac\",\"orientation\":\"v\",\"showlegend\":false,\"textposition\":\"auto\",\"x\":[\"dac\"],\"xaxis\":\"x3\",\"y\":[34126],\"yaxis\":\"y3\",\"type\":\"bar\"},{\"alignmentgroup\":\"True\",\"hovertemplate\":\"variable=%{x}\\u003cbr\\u003eregion_name=washington\\u003cbr\\u003evalue=%{y}\\u003cextra\\u003e\\u003c\\u002fextra\\u003e\",\"legendgroup\":\"dac\",\"marker\":{\"color\":\"#EF553B\",\"pattern\":{\"shape\":\"\"}},\"name\":\"dac\",\"offsetgroup\":\"dac\",\"orientation\":\"v\",\"showlegend\":false,\"textposition\":\"auto\",\"x\":[\"dac\"],\"xaxis\":\"x2\",\"y\":[32459],\"yaxis\":\"y2\",\"type\":\"bar\"},{\"alignmentgroup\":\"True\",\"hovertemplate\":\"variable=%{x}\\u003cbr\\u003eregion_name=wyoming\\u003cbr\\u003evalue=%{y}\\u003cextra\\u003e\\u003c\\u002fextra\\u003e\",\"legendgroup\":\"dac\",\"marker\":{\"color\":\"#EF553B\",\"pattern\":{\"shape\":\"\"}},\"name\":\"dac\",\"offsetgroup\":\"dac\",\"orientation\":\"v\",\"showlegend\":false,\"textposition\":\"auto\",\"x\":[\"dac\"],\"xaxis\":\"x\",\"y\":[127750],\"yaxis\":\"y\",\"type\":\"bar\"},{\"alignmentgroup\":\"True\",\"hovertemplate\":\"variable=%{x}\\u003cbr\\u003eregion_name=arizona\\u003cbr\\u003evalue=%{y}\\u003cextra\\u003e\\u003c\\u002fextra\\u003e\",\"legendgroup\":\"farmland\",\"marker\":{\"color\":\"#00cc96\",\"pattern\":{\"shape\":\"\"}},\"name\":\"farmland\",\"offsetgroup\":\"farmland\",\"orientation\":\"v\",\"showlegend\":true,\"textposition\":\"auto\",\"x\":[\"farmland\"],\"xaxis\":\"x11\",\"y\":[146345],\"yaxis\":\"y11\",\"type\":\"bar\"},{\"alignmentgroup\":\"True\",\"hovertemplate\":\"variable=%{x}\\u003cbr\\u003eregion_name=california\\u003cbr\\u003evalue=%{y}\\u003cextra\\u003e\\u003c\\u002fextra\\u003e\",\"legendgroup\":\"farmland\",\"marker\":{\"color\":\"#00cc96\",\"pattern\":{\"shape\":\"\"}},\"name\":\"farmland\",\"offsetgroup\":\"farmland\",\"orientation\":\"v\",\"showlegend\":false,\"textposition\":\"auto\",\"x\":[\"farmland\"],\"xaxis\":\"x10\",\"y\":[78597],\"yaxis\":\"y10\",\"type\":\"bar\"},{\"alignmentgroup\":\"True\",\"hovertemplate\":\"variable=%{x}\\u003cbr\\u003eregion_name=colorado\\u003cbr\\u003evalue=%{y}\\u003cextra\\u003e\\u003c\\u002fextra\\u003e\",\"legendgroup\":\"farmland\",\"marker\":{\"color\":\"#00cc96\",\"pattern\":{\"shape\":\"\"}},\"name\":\"farmland\",\"offsetgroup\":\"farmland\",\"orientation\":\"v\",\"showlegend\":false,\"textposition\":\"auto\",\"x\":[\"farmland\"],\"xaxis\":\"x9\",\"y\":[108230],\"yaxis\":\"y9\",\"type\":\"bar\"},{\"alignmentgroup\":\"True\",\"hovertemplate\":\"variable=%{x}\\u003cbr\\u003eregion_name=idaho\\u003cbr\\u003evalue=%{y}\\u003cextra\\u003e\\u003c\\u002fextra\\u003e\",\"legendgroup\":\"farmland\",\"marker\":{\"color\":\"#00cc96\",\"pattern\":{\"shape\":\"\"}},\"name\":\"farmland\",\"offsetgroup\":\"farmland\",\"orientation\":\"v\",\"showlegend\":false,\"textposition\":\"auto\",\"x\":[\"farmland\"],\"xaxis\":\"x8\",\"y\":[62934],\"yaxis\":\"y8\",\"type\":\"bar\"},{\"alignmentgroup\":\"True\",\"hovertemplate\":\"variable=%{x}\\u003cbr\\u003eregion_name=montana\\u003cbr\\u003evalue=%{y}\\u003cextra\\u003e\\u003c\\u002fextra\\u003e\",\"legendgroup\":\"farmland\",\"marker\":{\"color\":\"#00cc96\",\"pattern\":{\"shape\":\"\"}},\"name\":\"farmland\",\"offsetgroup\":\"farmland\",\"orientation\":\"v\",\"showlegend\":false,\"textposition\":\"auto\",\"x\":[\"farmland\"],\"xaxis\":\"x7\",\"y\":[168821],\"yaxis\":\"y7\",\"type\":\"bar\"},{\"alignmentgroup\":\"True\",\"hovertemplate\":\"variable=%{x}\\u003cbr\\u003eregion_name=new_mexico\\u003cbr\\u003evalue=%{y}\\u003cextra\\u003e\\u003c\\u002fextra\\u003e\",\"legendgroup\":\"farmland\",\"marker\":{\"color\":\"#00cc96\",\"pattern\":{\"shape\":\"\"}},\"name\":\"farmland\",\"offsetgroup\":\"farmland\",\"orientation\":\"v\",\"showlegend\":false,\"textposition\":\"auto\",\"x\":[\"farmland\"],\"xaxis\":\"x6\",\"y\":[179489],\"yaxis\":\"y6\",\"type\":\"bar\"},{\"alignmentgroup\":\"True\",\"hovertemplate\":\"variable=%{x}\\u003cbr\\u003eregion_name=nevada\\u003cbr\\u003evalue=%{y}\\u003cextra\\u003e\\u003c\\u002fextra\\u003e\",\"legendgroup\":\"farmland\",\"marker\":{\"color\":\"#00cc96\",\"pattern\":{\"shape\":\"\"}},\"name\":\"farmland\",\"offsetgroup\":\"farmland\",\"orientation\":\"v\",\"showlegend\":false,\"textposition\":\"auto\",\"x\":[\"farmland\"],\"xaxis\":\"x5\",\"y\":[106295],\"yaxis\":\"y5\",\"type\":\"bar\"},{\"alignmentgroup\":\"True\",\"hovertemplate\":\"variable=%{x}\\u003cbr\\u003eregion_name=oregon\\u003cbr\\u003evalue=%{y}\\u003cextra\\u003e\\u003c\\u002fextra\\u003e\",\"legendgroup\":\"farmland\",\"marker\":{\"color\":\"#00cc96\",\"pattern\":{\"shape\":\"\"}},\"name\":\"farmland\",\"offsetgroup\":\"farmland\",\"orientation\":\"v\",\"showlegend\":false,\"textposition\":\"auto\",\"x\":[\"farmland\"],\"xaxis\":\"x4\",\"y\":[28275],\"yaxis\":\"y4\",\"type\":\"bar\"},{\"alignmentgroup\":\"True\",\"hovertemplate\":\"variable=%{x}\\u003cbr\\u003eregion_name=utah\\u003cbr\\u003evalue=%{y}\\u003cextra\\u003e\\u003c\\u002fextra\\u003e\",\"legendgroup\":\"farmland\",\"marker\":{\"color\":\"#00cc96\",\"pattern\":{\"shape\":\"\"}},\"name\":\"farmland\",\"offsetgroup\":\"farmland\",\"orientation\":\"v\",\"showlegend\":false,\"textposition\":\"auto\",\"x\":[\"farmland\"],\"xaxis\":\"x3\",\"y\":[57113],\"yaxis\":\"y3\",\"type\":\"bar\"},{\"alignmentgroup\":\"True\",\"hovertemplate\":\"variable=%{x}\\u003cbr\\u003eregion_name=washington\\u003cbr\\u003evalue=%{y}\\u003cextra\\u003e\\u003c\\u002fextra\\u003e\",\"legendgroup\":\"farmland\",\"marker\":{\"color\":\"#00cc96\",\"pattern\":{\"shape\":\"\"}},\"name\":\"farmland\",\"offsetgroup\":\"farmland\",\"orientation\":\"v\",\"showlegend\":false,\"textposition\":\"auto\",\"x\":[\"farmland\"],\"xaxis\":\"x2\",\"y\":[32568],\"yaxis\":\"y2\",\"type\":\"bar\"},{\"alignmentgroup\":\"True\",\"hovertemplate\":\"variable=%{x}\\u003cbr\\u003eregion_name=wyoming\\u003cbr\\u003evalue=%{y}\\u003cextra\\u003e\\u003c\\u002fextra\\u003e\",\"legendgroup\":\"farmland\",\"marker\":{\"color\":\"#00cc96\",\"pattern\":{\"shape\":\"\"}},\"name\":\"farmland\",\"offsetgroup\":\"farmland\",\"orientation\":\"v\",\"showlegend\":false,\"textposition\":\"auto\",\"x\":[\"farmland\"],\"xaxis\":\"x\",\"y\":[149870],\"yaxis\":\"y\",\"type\":\"bar\"},{\"alignmentgroup\":\"True\",\"hovertemplate\":\"variable=%{x}\\u003cbr\\u003eregion_name=arizona\\u003cbr\\u003evalue=%{y}\\u003cextra\\u003e\\u003c\\u002fextra\\u003e\",\"legendgroup\":\"env_1km\",\"marker\":{\"color\":\"#ab63fa\",\"pattern\":{\"shape\":\"\"}},\"name\":\"env_1km\",\"offsetgroup\":\"env_1km\",\"orientation\":\"v\",\"showlegend\":true,\"textposition\":\"auto\",\"x\":[\"env_1km\"],\"xaxis\":\"x11\",\"y\":[138003],\"yaxis\":\"y11\",\"type\":\"bar\"},{\"alignmentgroup\":\"True\",\"hovertemplate\":\"variable=%{x}\\u003cbr\\u003eregion_name=california\\u003cbr\\u003evalue=%{y}\\u003cextra\\u003e\\u003c\\u002fextra\\u003e\",\"legendgroup\":\"env_1km\",\"marker\":{\"color\":\"#ab63fa\",\"pattern\":{\"shape\":\"\"}},\"name\":\"env_1km\",\"offsetgroup\":\"env_1km\",\"orientation\":\"v\",\"showlegend\":false,\"textposition\":\"auto\",\"x\":[\"env_1km\"],\"xaxis\":\"x10\",\"y\":[77444],\"yaxis\":\"y10\",\"type\":\"bar\"},{\"alignmentgroup\":\"True\",\"hovertemplate\":\"variable=%{x}\\u003cbr\\u003eregion_name=colorado\\u003cbr\\u003evalue=%{y}\\u003cextra\\u003e\\u003c\\u002fextra\\u003e\",\"legendgroup\":\"env_1km\",\"marker\":{\"color\":\"#ab63fa\",\"pattern\":{\"shape\":\"\"}},\"name\":\"env_1km\",\"offsetgroup\":\"env_1km\",\"orientation\":\"v\",\"showlegend\":false,\"textposition\":\"auto\",\"x\":[\"env_1km\"],\"xaxis\":\"x9\",\"y\":[108317],\"yaxis\":\"y9\",\"type\":\"bar\"},{\"alignmentgroup\":\"True\",\"hovertemplate\":\"variable=%{x}\\u003cbr\\u003eregion_name=idaho\\u003cbr\\u003evalue=%{y}\\u003cextra\\u003e\\u003c\\u002fextra\\u003e\",\"legendgroup\":\"env_1km\",\"marker\":{\"color\":\"#ab63fa\",\"pattern\":{\"shape\":\"\"}},\"name\":\"env_1km\",\"offsetgroup\":\"env_1km\",\"orientation\":\"v\",\"showlegend\":false,\"textposition\":\"auto\",\"x\":[\"env_1km\"],\"xaxis\":\"x8\",\"y\":[54342],\"yaxis\":\"y8\",\"type\":\"bar\"},{\"alignmentgroup\":\"True\",\"hovertemplate\":\"variable=%{x}\\u003cbr\\u003eregion_name=montana\\u003cbr\\u003evalue=%{y}\\u003cextra\\u003e\\u003c\\u002fextra\\u003e\",\"legendgroup\":\"env_1km\",\"marker\":{\"color\":\"#ab63fa\",\"pattern\":{\"shape\":\"\"}},\"name\":\"env_1km\",\"offsetgroup\":\"env_1km\",\"orientation\":\"v\",\"showlegend\":false,\"textposition\":\"auto\",\"x\":[\"env_1km\"],\"xaxis\":\"x7\",\"y\":[169865],\"yaxis\":\"y7\",\"type\":\"bar\"},{\"alignmentgroup\":\"True\",\"hovertemplate\":\"variable=%{x}\\u003cbr\\u003eregion_name=new_mexico\\u003cbr\\u003evalue=%{y}\\u003cextra\\u003e\\u003c\\u002fextra\\u003e\",\"legendgroup\":\"env_1km\",\"marker\":{\"color\":\"#ab63fa\",\"pattern\":{\"shape\":\"\"}},\"name\":\"env_1km\",\"offsetgroup\":\"env_1km\",\"orientation\":\"v\",\"showlegend\":false,\"textposition\":\"auto\",\"x\":[\"env_1km\"],\"xaxis\":\"x6\",\"y\":[188217],\"yaxis\":\"y6\",\"type\":\"bar\"},{\"alignmentgroup\":\"True\",\"hovertemplate\":\"variable=%{x}\\u003cbr\\u003eregion_name=nevada\\u003cbr\\u003evalue=%{y}\\u003cextra\\u003e\\u003c\\u002fextra\\u003e\",\"legendgroup\":\"env_1km\",\"marker\":{\"color\":\"#ab63fa\",\"pattern\":{\"shape\":\"\"}},\"name\":\"env_1km\",\"offsetgroup\":\"env_1km\",\"orientation\":\"v\",\"showlegend\":false,\"textposition\":\"auto\",\"x\":[\"env_1km\"],\"xaxis\":\"x5\",\"y\":[95328],\"yaxis\":\"y5\",\"type\":\"bar\"},{\"alignmentgroup\":\"True\",\"hovertemplate\":\"variable=%{x}\\u003cbr\\u003eregion_name=oregon\\u003cbr\\u003evalue=%{y}\\u003cextra\\u003e\\u003c\\u002fextra\\u003e\",\"legendgroup\":\"env_1km\",\"marker\":{\"color\":\"#ab63fa\",\"pattern\":{\"shape\":\"\"}},\"name\":\"env_1km\",\"offsetgroup\":\"env_1km\",\"orientation\":\"v\",\"showlegend\":false,\"textposition\":\"auto\",\"x\":[\"env_1km\"],\"xaxis\":\"x4\",\"y\":[50877],\"yaxis\":\"y4\",\"type\":\"bar\"},{\"alignmentgroup\":\"True\",\"hovertemplate\":\"variable=%{x}\\u003cbr\\u003eregion_name=utah\\u003cbr\\u003evalue=%{y}\\u003cextra\\u003e\\u003c\\u002fextra\\u003e\",\"legendgroup\":\"env_1km\",\"marker\":{\"color\":\"#ab63fa\",\"pattern\":{\"shape\":\"\"}},\"name\":\"env_1km\",\"offsetgroup\":\"env_1km\",\"orientation\":\"v\",\"showlegend\":false,\"textposition\":\"auto\",\"x\":[\"env_1km\"],\"xaxis\":\"x3\",\"y\":[55520],\"yaxis\":\"y3\",\"type\":\"bar\"},{\"alignmentgroup\":\"True\",\"hovertemplate\":\"variable=%{x}\\u003cbr\\u003eregion_name=washington\\u003cbr\\u003evalue=%{y}\\u003cextra\\u003e\\u003c\\u002fextra\\u003e\",\"legendgroup\":\"env_1km\",\"marker\":{\"color\":\"#ab63fa\",\"pattern\":{\"shape\":\"\"}},\"name\":\"env_1km\",\"offsetgroup\":\"env_1km\",\"orientation\":\"v\",\"showlegend\":false,\"textposition\":\"auto\",\"x\":[\"env_1km\"],\"xaxis\":\"x2\",\"y\":[52188],\"yaxis\":\"y2\",\"type\":\"bar\"},{\"alignmentgroup\":\"True\",\"hovertemplate\":\"variable=%{x}\\u003cbr\\u003eregion_name=wyoming\\u003cbr\\u003evalue=%{y}\\u003cextra\\u003e\\u003c\\u002fextra\\u003e\",\"legendgroup\":\"env_1km\",\"marker\":{\"color\":\"#ab63fa\",\"pattern\":{\"shape\":\"\"}},\"name\":\"env_1km\",\"offsetgroup\":\"env_1km\",\"orientation\":\"v\",\"showlegend\":false,\"textposition\":\"auto\",\"x\":[\"env_1km\"],\"xaxis\":\"x\",\"y\":[134216],\"yaxis\":\"y\",\"type\":\"bar\"},{\"alignmentgroup\":\"True\",\"hovertemplate\":\"variable=%{x}\\u003cbr\\u003eregion_name=arizona\\u003cbr\\u003evalue=%{y}\\u003cextra\\u003e\\u003c\\u002fextra\\u003e\",\"legendgroup\":\"env_5km\",\"marker\":{\"color\":\"#FFA15A\",\"pattern\":{\"shape\":\"\"}},\"name\":\"env_5km\",\"offsetgroup\":\"env_5km\",\"orientation\":\"v\",\"showlegend\":true,\"textposition\":\"auto\",\"x\":[\"env_5km\"],\"xaxis\":\"x11\",\"y\":[96083],\"yaxis\":\"y11\",\"type\":\"bar\"},{\"alignmentgroup\":\"True\",\"hovertemplate\":\"variable=%{x}\\u003cbr\\u003eregion_name=california\\u003cbr\\u003evalue=%{y}\\u003cextra\\u003e\\u003c\\u002fextra\\u003e\",\"legendgroup\":\"env_5km\",\"marker\":{\"color\":\"#FFA15A\",\"pattern\":{\"shape\":\"\"}},\"name\":\"env_5km\",\"offsetgroup\":\"env_5km\",\"orientation\":\"v\",\"showlegend\":false,\"textposition\":\"auto\",\"x\":[\"env_5km\"],\"xaxis\":\"x10\",\"y\":[35956],\"yaxis\":\"y10\",\"type\":\"bar\"},{\"alignmentgroup\":\"True\",\"hovertemplate\":\"variable=%{x}\\u003cbr\\u003eregion_name=colorado\\u003cbr\\u003evalue=%{y}\\u003cextra\\u003e\\u003c\\u002fextra\\u003e\",\"legendgroup\":\"env_5km\",\"marker\":{\"color\":\"#FFA15A\",\"pattern\":{\"shape\":\"\"}},\"name\":\"env_5km\",\"offsetgroup\":\"env_5km\",\"orientation\":\"v\",\"showlegend\":false,\"textposition\":\"auto\",\"x\":[\"env_5km\"],\"xaxis\":\"x9\",\"y\":[74108],\"yaxis\":\"y9\",\"type\":\"bar\"},{\"alignmentgroup\":\"True\",\"hovertemplate\":\"variable=%{x}\\u003cbr\\u003eregion_name=idaho\\u003cbr\\u003evalue=%{y}\\u003cextra\\u003e\\u003c\\u002fextra\\u003e\",\"legendgroup\":\"env_5km\",\"marker\":{\"color\":\"#FFA15A\",\"pattern\":{\"shape\":\"\"}},\"name\":\"env_5km\",\"offsetgroup\":\"env_5km\",\"orientation\":\"v\",\"showlegend\":false,\"textposition\":\"auto\",\"x\":[\"env_5km\"],\"xaxis\":\"x8\",\"y\":[24823],\"yaxis\":\"y8\",\"type\":\"bar\"},{\"alignmentgroup\":\"True\",\"hovertemplate\":\"variable=%{x}\\u003cbr\\u003eregion_name=montana\\u003cbr\\u003evalue=%{y}\\u003cextra\\u003e\\u003c\\u002fextra\\u003e\",\"legendgroup\":\"env_5km\",\"marker\":{\"color\":\"#FFA15A\",\"pattern\":{\"shape\":\"\"}},\"name\":\"env_5km\",\"offsetgroup\":\"env_5km\",\"orientation\":\"v\",\"showlegend\":false,\"textposition\":\"auto\",\"x\":[\"env_5km\"],\"xaxis\":\"x7\",\"y\":[73973],\"yaxis\":\"y7\",\"type\":\"bar\"},{\"alignmentgroup\":\"True\",\"hovertemplate\":\"variable=%{x}\\u003cbr\\u003eregion_name=new_mexico\\u003cbr\\u003evalue=%{y}\\u003cextra\\u003e\\u003c\\u002fextra\\u003e\",\"legendgroup\":\"env_5km\",\"marker\":{\"color\":\"#FFA15A\",\"pattern\":{\"shape\":\"\"}},\"name\":\"env_5km\",\"offsetgroup\":\"env_5km\",\"orientation\":\"v\",\"showlegend\":false,\"textposition\":\"auto\",\"x\":[\"env_5km\"],\"xaxis\":\"x6\",\"y\":[140879],\"yaxis\":\"y6\",\"type\":\"bar\"},{\"alignmentgroup\":\"True\",\"hovertemplate\":\"variable=%{x}\\u003cbr\\u003eregion_name=nevada\\u003cbr\\u003evalue=%{y}\\u003cextra\\u003e\\u003c\\u002fextra\\u003e\",\"legendgroup\":\"env_5km\",\"marker\":{\"color\":\"#FFA15A\",\"pattern\":{\"shape\":\"\"}},\"name\":\"env_5km\",\"offsetgroup\":\"env_5km\",\"orientation\":\"v\",\"showlegend\":false,\"textposition\":\"auto\",\"x\":[\"env_5km\"],\"xaxis\":\"x5\",\"y\":[58064],\"yaxis\":\"y5\",\"type\":\"bar\"},{\"alignmentgroup\":\"True\",\"hovertemplate\":\"variable=%{x}\\u003cbr\\u003eregion_name=oregon\\u003cbr\\u003evalue=%{y}\\u003cextra\\u003e\\u003c\\u002fextra\\u003e\",\"legendgroup\":\"env_5km\",\"marker\":{\"color\":\"#FFA15A\",\"pattern\":{\"shape\":\"\"}},\"name\":\"env_5km\",\"offsetgroup\":\"env_5km\",\"orientation\":\"v\",\"showlegend\":false,\"textposition\":\"auto\",\"x\":[\"env_5km\"],\"xaxis\":\"x4\",\"y\":[24900],\"yaxis\":\"y4\",\"type\":\"bar\"},{\"alignmentgroup\":\"True\",\"hovertemplate\":\"variable=%{x}\\u003cbr\\u003eregion_name=utah\\u003cbr\\u003evalue=%{y}\\u003cextra\\u003e\\u003c\\u002fextra\\u003e\",\"legendgroup\":\"env_5km\",\"marker\":{\"color\":\"#FFA15A\",\"pattern\":{\"shape\":\"\"}},\"name\":\"env_5km\",\"offsetgroup\":\"env_5km\",\"orientation\":\"v\",\"showlegend\":false,\"textposition\":\"auto\",\"x\":[\"env_5km\"],\"xaxis\":\"x3\",\"y\":[35567],\"yaxis\":\"y3\",\"type\":\"bar\"},{\"alignmentgroup\":\"True\",\"hovertemplate\":\"variable=%{x}\\u003cbr\\u003eregion_name=washington\\u003cbr\\u003evalue=%{y}\\u003cextra\\u003e\\u003c\\u002fextra\\u003e\",\"legendgroup\":\"env_5km\",\"marker\":{\"color\":\"#FFA15A\",\"pattern\":{\"shape\":\"\"}},\"name\":\"env_5km\",\"offsetgroup\":\"env_5km\",\"orientation\":\"v\",\"showlegend\":false,\"textposition\":\"auto\",\"x\":[\"env_5km\"],\"xaxis\":\"x2\",\"y\":[27573],\"yaxis\":\"y2\",\"type\":\"bar\"},{\"alignmentgroup\":\"True\",\"hovertemplate\":\"variable=%{x}\\u003cbr\\u003eregion_name=wyoming\\u003cbr\\u003evalue=%{y}\\u003cextra\\u003e\\u003c\\u002fextra\\u003e\",\"legendgroup\":\"env_5km\",\"marker\":{\"color\":\"#FFA15A\",\"pattern\":{\"shape\":\"\"}},\"name\":\"env_5km\",\"offsetgroup\":\"env_5km\",\"orientation\":\"v\",\"showlegend\":false,\"textposition\":\"auto\",\"x\":[\"env_5km\"],\"xaxis\":\"x\",\"y\":[77349],\"yaxis\":\"y\",\"type\":\"bar\"},{\"alignmentgroup\":\"True\",\"hovertemplate\":\"variable=%{x}\\u003cbr\\u003eregion_name=arizona\\u003cbr\\u003evalue=%{y}\\u003cextra\\u003e\\u003c\\u002fextra\\u003e\",\"legendgroup\":\"env_10km\",\"marker\":{\"color\":\"#19d3f3\",\"pattern\":{\"shape\":\"\"}},\"name\":\"env_10km\",\"offsetgroup\":\"env_10km\",\"orientation\":\"v\",\"showlegend\":true,\"textposition\":\"auto\",\"x\":[\"env_10km\"],\"xaxis\":\"x11\",\"y\":[58685],\"yaxis\":\"y11\",\"type\":\"bar\"},{\"alignmentgroup\":\"True\",\"hovertemplate\":\"variable=%{x}\\u003cbr\\u003eregion_name=california\\u003cbr\\u003evalue=%{y}\\u003cextra\\u003e\\u003c\\u002fextra\\u003e\",\"legendgroup\":\"env_10km\",\"marker\":{\"color\":\"#19d3f3\",\"pattern\":{\"shape\":\"\"}},\"name\":\"env_10km\",\"offsetgroup\":\"env_10km\",\"orientation\":\"v\",\"showlegend\":false,\"textposition\":\"auto\",\"x\":[\"env_10km\"],\"xaxis\":\"x10\",\"y\":[12363],\"yaxis\":\"y10\",\"type\":\"bar\"},{\"alignmentgroup\":\"True\",\"hovertemplate\":\"variable=%{x}\\u003cbr\\u003eregion_name=colorado\\u003cbr\\u003evalue=%{y}\\u003cextra\\u003e\\u003c\\u002fextra\\u003e\",\"legendgroup\":\"env_10km\",\"marker\":{\"color\":\"#19d3f3\",\"pattern\":{\"shape\":\"\"}},\"name\":\"env_10km\",\"offsetgroup\":\"env_10km\",\"orientation\":\"v\",\"showlegend\":false,\"textposition\":\"auto\",\"x\":[\"env_10km\"],\"xaxis\":\"x9\",\"y\":[44812],\"yaxis\":\"y9\",\"type\":\"bar\"},{\"alignmentgroup\":\"True\",\"hovertemplate\":\"variable=%{x}\\u003cbr\\u003eregion_name=idaho\\u003cbr\\u003evalue=%{y}\\u003cextra\\u003e\\u003c\\u002fextra\\u003e\",\"legendgroup\":\"env_10km\",\"marker\":{\"color\":\"#19d3f3\",\"pattern\":{\"shape\":\"\"}},\"name\":\"env_10km\",\"offsetgroup\":\"env_10km\",\"orientation\":\"v\",\"showlegend\":false,\"textposition\":\"auto\",\"x\":[\"env_10km\"],\"xaxis\":\"x8\",\"y\":[7220],\"yaxis\":\"y8\",\"type\":\"bar\"},{\"alignmentgroup\":\"True\",\"hovertemplate\":\"variable=%{x}\\u003cbr\\u003eregion_name=montana\\u003cbr\\u003evalue=%{y}\\u003cextra\\u003e\\u003c\\u002fextra\\u003e\",\"legendgroup\":\"env_10km\",\"marker\":{\"color\":\"#19d3f3\",\"pattern\":{\"shape\":\"\"}},\"name\":\"env_10km\",\"offsetgroup\":\"env_10km\",\"orientation\":\"v\",\"showlegend\":false,\"textposition\":\"auto\",\"x\":[\"env_10km\"],\"xaxis\":\"x7\",\"y\":[22620],\"yaxis\":\"y7\",\"type\":\"bar\"},{\"alignmentgroup\":\"True\",\"hovertemplate\":\"variable=%{x}\\u003cbr\\u003eregion_name=new_mexico\\u003cbr\\u003evalue=%{y}\\u003cextra\\u003e\\u003c\\u002fextra\\u003e\",\"legendgroup\":\"env_10km\",\"marker\":{\"color\":\"#19d3f3\",\"pattern\":{\"shape\":\"\"}},\"name\":\"env_10km\",\"offsetgroup\":\"env_10km\",\"orientation\":\"v\",\"showlegend\":false,\"textposition\":\"auto\",\"x\":[\"env_10km\"],\"xaxis\":\"x6\",\"y\":[95623],\"yaxis\":\"y6\",\"type\":\"bar\"},{\"alignmentgroup\":\"True\",\"hovertemplate\":\"variable=%{x}\\u003cbr\\u003eregion_name=nevada\\u003cbr\\u003evalue=%{y}\\u003cextra\\u003e\\u003c\\u002fextra\\u003e\",\"legendgroup\":\"env_10km\",\"marker\":{\"color\":\"#19d3f3\",\"pattern\":{\"shape\":\"\"}},\"name\":\"env_10km\",\"offsetgroup\":\"env_10km\",\"orientation\":\"v\",\"showlegend\":false,\"textposition\":\"auto\",\"x\":[\"env_10km\"],\"xaxis\":\"x5\",\"y\":[31555],\"yaxis\":\"y5\",\"type\":\"bar\"},{\"alignmentgroup\":\"True\",\"hovertemplate\":\"variable=%{x}\\u003cbr\\u003eregion_name=oregon\\u003cbr\\u003evalue=%{y}\\u003cextra\\u003e\\u003c\\u002fextra\\u003e\",\"legendgroup\":\"env_10km\",\"marker\":{\"color\":\"#19d3f3\",\"pattern\":{\"shape\":\"\"}},\"name\":\"env_10km\",\"offsetgroup\":\"env_10km\",\"orientation\":\"v\",\"showlegend\":false,\"textposition\":\"auto\",\"x\":[\"env_10km\"],\"xaxis\":\"x4\",\"y\":[9672],\"yaxis\":\"y4\",\"type\":\"bar\"},{\"alignmentgroup\":\"True\",\"hovertemplate\":\"variable=%{x}\\u003cbr\\u003eregion_name=utah\\u003cbr\\u003evalue=%{y}\\u003cextra\\u003e\\u003c\\u002fextra\\u003e\",\"legendgroup\":\"env_10km\",\"marker\":{\"color\":\"#19d3f3\",\"pattern\":{\"shape\":\"\"}},\"name\":\"env_10km\",\"offsetgroup\":\"env_10km\",\"orientation\":\"v\",\"showlegend\":false,\"textposition\":\"auto\",\"x\":[\"env_10km\"],\"xaxis\":\"x3\",\"y\":[20191],\"yaxis\":\"y3\",\"type\":\"bar\"},{\"alignmentgroup\":\"True\",\"hovertemplate\":\"variable=%{x}\\u003cbr\\u003eregion_name=washington\\u003cbr\\u003evalue=%{y}\\u003cextra\\u003e\\u003c\\u002fextra\\u003e\",\"legendgroup\":\"env_10km\",\"marker\":{\"color\":\"#19d3f3\",\"pattern\":{\"shape\":\"\"}},\"name\":\"env_10km\",\"offsetgroup\":\"env_10km\",\"orientation\":\"v\",\"showlegend\":false,\"textposition\":\"auto\",\"x\":[\"env_10km\"],\"xaxis\":\"x2\",\"y\":[11489],\"yaxis\":\"y2\",\"type\":\"bar\"},{\"alignmentgroup\":\"True\",\"hovertemplate\":\"variable=%{x}\\u003cbr\\u003eregion_name=wyoming\\u003cbr\\u003evalue=%{y}\\u003cextra\\u003e\\u003c\\u002fextra\\u003e\",\"legendgroup\":\"env_10km\",\"marker\":{\"color\":\"#19d3f3\",\"pattern\":{\"shape\":\"\"}},\"name\":\"env_10km\",\"offsetgroup\":\"env_10km\",\"orientation\":\"v\",\"showlegend\":false,\"textposition\":\"auto\",\"x\":[\"env_10km\"],\"xaxis\":\"x\",\"y\":[35279],\"yaxis\":\"y\",\"type\":\"bar\"},{\"alignmentgroup\":\"True\",\"hovertemplate\":\"variable=%{x}\\u003cbr\\u003eregion_name=arizona\\u003cbr\\u003evalue=%{y}\\u003cextra\\u003e\\u003c\\u002fextra\\u003e\",\"legendgroup\":\"dac_farm_env5km\",\"marker\":{\"color\":\"#FF6692\",\"pattern\":{\"shape\":\"\"}},\"name\":\"dac_farm_env5km\",\"offsetgroup\":\"dac_farm_env5km\",\"orientation\":\"v\",\"showlegend\":true,\"textposition\":\"auto\",\"x\":[\"dac_farm_env5km\"],\"xaxis\":\"x11\",\"y\":[29037],\"yaxis\":\"y11\",\"type\":\"bar\"},{\"alignmentgroup\":\"True\",\"hovertemplate\":\"variable=%{x}\\u003cbr\\u003eregion_name=california\\u003cbr\\u003evalue=%{y}\\u003cextra\\u003e\\u003c\\u002fextra\\u003e\",\"legendgroup\":\"dac_farm_env5km\",\"marker\":{\"color\":\"#FF6692\",\"pattern\":{\"shape\":\"\"}},\"name\":\"dac_farm_env5km\",\"offsetgroup\":\"dac_farm_env5km\",\"orientation\":\"v\",\"showlegend\":false,\"textposition\":\"auto\",\"x\":[\"dac_farm_env5km\"],\"xaxis\":\"x10\",\"y\":[11447],\"yaxis\":\"y10\",\"type\":\"bar\"},{\"alignmentgroup\":\"True\",\"hovertemplate\":\"variable=%{x}\\u003cbr\\u003eregion_name=colorado\\u003cbr\\u003evalue=%{y}\\u003cextra\\u003e\\u003c\\u002fextra\\u003e\",\"legendgroup\":\"dac_farm_env5km\",\"marker\":{\"color\":\"#FF6692\",\"pattern\":{\"shape\":\"\"}},\"name\":\"dac_farm_env5km\",\"offsetgroup\":\"dac_farm_env5km\",\"orientation\":\"v\",\"showlegend\":false,\"textposition\":\"auto\",\"x\":[\"dac_farm_env5km\"],\"xaxis\":\"x9\",\"y\":[33028],\"yaxis\":\"y9\",\"type\":\"bar\"},{\"alignmentgroup\":\"True\",\"hovertemplate\":\"variable=%{x}\\u003cbr\\u003eregion_name=idaho\\u003cbr\\u003evalue=%{y}\\u003cextra\\u003e\\u003c\\u002fextra\\u003e\",\"legendgroup\":\"dac_farm_env5km\",\"marker\":{\"color\":\"#FF6692\",\"pattern\":{\"shape\":\"\"}},\"name\":\"dac_farm_env5km\",\"offsetgroup\":\"dac_farm_env5km\",\"orientation\":\"v\",\"showlegend\":false,\"textposition\":\"auto\",\"x\":[\"dac_farm_env5km\"],\"xaxis\":\"x8\",\"y\":[5924],\"yaxis\":\"y8\",\"type\":\"bar\"},{\"alignmentgroup\":\"True\",\"hovertemplate\":\"variable=%{x}\\u003cbr\\u003eregion_name=montana\\u003cbr\\u003evalue=%{y}\\u003cextra\\u003e\\u003c\\u002fextra\\u003e\",\"legendgroup\":\"dac_farm_env5km\",\"marker\":{\"color\":\"#FF6692\",\"pattern\":{\"shape\":\"\"}},\"name\":\"dac_farm_env5km\",\"offsetgroup\":\"dac_farm_env5km\",\"orientation\":\"v\",\"showlegend\":false,\"textposition\":\"auto\",\"x\":[\"dac_farm_env5km\"],\"xaxis\":\"x7\",\"y\":[34122],\"yaxis\":\"y7\",\"type\":\"bar\"},{\"alignmentgroup\":\"True\",\"hovertemplate\":\"variable=%{x}\\u003cbr\\u003eregion_name=new_mexico\\u003cbr\\u003evalue=%{y}\\u003cextra\\u003e\\u003c\\u002fextra\\u003e\",\"legendgroup\":\"dac_farm_env5km\",\"marker\":{\"color\":\"#FF6692\",\"pattern\":{\"shape\":\"\"}},\"name\":\"dac_farm_env5km\",\"offsetgroup\":\"dac_farm_env5km\",\"orientation\":\"v\",\"showlegend\":false,\"textposition\":\"auto\",\"x\":[\"dac_farm_env5km\"],\"xaxis\":\"x6\",\"y\":[13895],\"yaxis\":\"y6\",\"type\":\"bar\"},{\"alignmentgroup\":\"True\",\"hovertemplate\":\"variable=%{x}\\u003cbr\\u003eregion_name=nevada\\u003cbr\\u003evalue=%{y}\\u003cextra\\u003e\\u003c\\u002fextra\\u003e\",\"legendgroup\":\"dac_farm_env5km\",\"marker\":{\"color\":\"#FF6692\",\"pattern\":{\"shape\":\"\"}},\"name\":\"dac_farm_env5km\",\"offsetgroup\":\"dac_farm_env5km\",\"orientation\":\"v\",\"showlegend\":false,\"textposition\":\"auto\",\"x\":[\"dac_farm_env5km\"],\"xaxis\":\"x5\",\"y\":[43722],\"yaxis\":\"y5\",\"type\":\"bar\"},{\"alignmentgroup\":\"True\",\"hovertemplate\":\"variable=%{x}\\u003cbr\\u003eregion_name=oregon\\u003cbr\\u003evalue=%{y}\\u003cextra\\u003e\\u003c\\u002fextra\\u003e\",\"legendgroup\":\"dac_farm_env5km\",\"marker\":{\"color\":\"#FF6692\",\"pattern\":{\"shape\":\"\"}},\"name\":\"dac_farm_env5km\",\"offsetgroup\":\"dac_farm_env5km\",\"orientation\":\"v\",\"showlegend\":false,\"textposition\":\"auto\",\"x\":[\"dac_farm_env5km\"],\"xaxis\":\"x4\",\"y\":[1582],\"yaxis\":\"y4\",\"type\":\"bar\"},{\"alignmentgroup\":\"True\",\"hovertemplate\":\"variable=%{x}\\u003cbr\\u003eregion_name=utah\\u003cbr\\u003evalue=%{y}\\u003cextra\\u003e\\u003c\\u002fextra\\u003e\",\"legendgroup\":\"dac_farm_env5km\",\"marker\":{\"color\":\"#FF6692\",\"pattern\":{\"shape\":\"\"}},\"name\":\"dac_farm_env5km\",\"offsetgroup\":\"dac_farm_env5km\",\"orientation\":\"v\",\"showlegend\":false,\"textposition\":\"auto\",\"x\":[\"dac_farm_env5km\"],\"xaxis\":\"x3\",\"y\":[19698],\"yaxis\":\"y3\",\"type\":\"bar\"},{\"alignmentgroup\":\"True\",\"hovertemplate\":\"variable=%{x}\\u003cbr\\u003eregion_name=washington\\u003cbr\\u003evalue=%{y}\\u003cextra\\u003e\\u003c\\u002fextra\\u003e\",\"legendgroup\":\"dac_farm_env5km\",\"marker\":{\"color\":\"#FF6692\",\"pattern\":{\"shape\":\"\"}},\"name\":\"dac_farm_env5km\",\"offsetgroup\":\"dac_farm_env5km\",\"orientation\":\"v\",\"showlegend\":false,\"textposition\":\"auto\",\"x\":[\"dac_farm_env5km\"],\"xaxis\":\"x2\",\"y\":[5980],\"yaxis\":\"y2\",\"type\":\"bar\"},{\"alignmentgroup\":\"True\",\"hovertemplate\":\"variable=%{x}\\u003cbr\\u003eregion_name=wyoming\\u003cbr\\u003evalue=%{y}\\u003cextra\\u003e\\u003c\\u002fextra\\u003e\",\"legendgroup\":\"dac_farm_env5km\",\"marker\":{\"color\":\"#FF6692\",\"pattern\":{\"shape\":\"\"}},\"name\":\"dac_farm_env5km\",\"offsetgroup\":\"dac_farm_env5km\",\"orientation\":\"v\",\"showlegend\":false,\"textposition\":\"auto\",\"x\":[\"dac_farm_env5km\"],\"xaxis\":\"x\",\"y\":[66940],\"yaxis\":\"y\",\"type\":\"bar\"},{\"alignmentgroup\":\"True\",\"hovertemplate\":\"variable=%{x}\\u003cbr\\u003eregion_name=arizona\\u003cbr\\u003evalue=%{y}\\u003cextra\\u003e\\u003c\\u002fextra\\u003e\",\"legendgroup\":\"farm_env5km\",\"marker\":{\"color\":\"#B6E880\",\"pattern\":{\"shape\":\"\"}},\"name\":\"farm_env5km\",\"offsetgroup\":\"farm_env5km\",\"orientation\":\"v\",\"showlegend\":true,\"textposition\":\"auto\",\"x\":[\"farm_env5km\"],\"xaxis\":\"x11\",\"y\":[94923],\"yaxis\":\"y11\",\"type\":\"bar\"},{\"alignmentgroup\":\"True\",\"hovertemplate\":\"variable=%{x}\\u003cbr\\u003eregion_name=california\\u003cbr\\u003evalue=%{y}\\u003cextra\\u003e\\u003c\\u002fextra\\u003e\",\"legendgroup\":\"farm_env5km\",\"marker\":{\"color\":\"#B6E880\",\"pattern\":{\"shape\":\"\"}},\"name\":\"farm_env5km\",\"offsetgroup\":\"farm_env5km\",\"orientation\":\"v\",\"showlegend\":false,\"textposition\":\"auto\",\"x\":[\"farm_env5km\"],\"xaxis\":\"x10\",\"y\":[28055],\"yaxis\":\"y10\",\"type\":\"bar\"},{\"alignmentgroup\":\"True\",\"hovertemplate\":\"variable=%{x}\\u003cbr\\u003eregion_name=colorado\\u003cbr\\u003evalue=%{y}\\u003cextra\\u003e\\u003c\\u002fextra\\u003e\",\"legendgroup\":\"farm_env5km\",\"marker\":{\"color\":\"#B6E880\",\"pattern\":{\"shape\":\"\"}},\"name\":\"farm_env5km\",\"offsetgroup\":\"farm_env5km\",\"orientation\":\"v\",\"showlegend\":false,\"textposition\":\"auto\",\"x\":[\"farm_env5km\"],\"xaxis\":\"x9\",\"y\":[67459],\"yaxis\":\"y9\",\"type\":\"bar\"},{\"alignmentgroup\":\"True\",\"hovertemplate\":\"variable=%{x}\\u003cbr\\u003eregion_name=idaho\\u003cbr\\u003evalue=%{y}\\u003cextra\\u003e\\u003c\\u002fextra\\u003e\",\"legendgroup\":\"farm_env5km\",\"marker\":{\"color\":\"#B6E880\",\"pattern\":{\"shape\":\"\"}},\"name\":\"farm_env5km\",\"offsetgroup\":\"farm_env5km\",\"orientation\":\"v\",\"showlegend\":false,\"textposition\":\"auto\",\"x\":[\"farm_env5km\"],\"xaxis\":\"x8\",\"y\":[24319],\"yaxis\":\"y8\",\"type\":\"bar\"},{\"alignmentgroup\":\"True\",\"hovertemplate\":\"variable=%{x}\\u003cbr\\u003eregion_name=montana\\u003cbr\\u003evalue=%{y}\\u003cextra\\u003e\\u003c\\u002fextra\\u003e\",\"legendgroup\":\"farm_env5km\",\"marker\":{\"color\":\"#B6E880\",\"pattern\":{\"shape\":\"\"}},\"name\":\"farm_env5km\",\"offsetgroup\":\"farm_env5km\",\"orientation\":\"v\",\"showlegend\":false,\"textposition\":\"auto\",\"x\":[\"farm_env5km\"],\"xaxis\":\"x7\",\"y\":[63629],\"yaxis\":\"y7\",\"type\":\"bar\"},{\"alignmentgroup\":\"True\",\"hovertemplate\":\"variable=%{x}\\u003cbr\\u003eregion_name=new_mexico\\u003cbr\\u003evalue=%{y}\\u003cextra\\u003e\\u003c\\u002fextra\\u003e\",\"legendgroup\":\"farm_env5km\",\"marker\":{\"color\":\"#B6E880\",\"pattern\":{\"shape\":\"\"}},\"name\":\"farm_env5km\",\"offsetgroup\":\"farm_env5km\",\"orientation\":\"v\",\"showlegend\":false,\"textposition\":\"auto\",\"x\":[\"farm_env5km\"],\"xaxis\":\"x6\",\"y\":[123471],\"yaxis\":\"y6\",\"type\":\"bar\"},{\"alignmentgroup\":\"True\",\"hovertemplate\":\"variable=%{x}\\u003cbr\\u003eregion_name=nevada\\u003cbr\\u003evalue=%{y}\\u003cextra\\u003e\\u003c\\u002fextra\\u003e\",\"legendgroup\":\"farm_env5km\",\"marker\":{\"color\":\"#B6E880\",\"pattern\":{\"shape\":\"\"}},\"name\":\"farm_env5km\",\"offsetgroup\":\"farm_env5km\",\"orientation\":\"v\",\"showlegend\":false,\"textposition\":\"auto\",\"x\":[\"farm_env5km\"],\"xaxis\":\"x5\",\"y\":[58022],\"yaxis\":\"y5\",\"type\":\"bar\"},{\"alignmentgroup\":\"True\",\"hovertemplate\":\"variable=%{x}\\u003cbr\\u003eregion_name=oregon\\u003cbr\\u003evalue=%{y}\\u003cextra\\u003e\\u003c\\u002fextra\\u003e\",\"legendgroup\":\"farm_env5km\",\"marker\":{\"color\":\"#B6E880\",\"pattern\":{\"shape\":\"\"}},\"name\":\"farm_env5km\",\"offsetgroup\":\"farm_env5km\",\"orientation\":\"v\",\"showlegend\":false,\"textposition\":\"auto\",\"x\":[\"farm_env5km\"],\"xaxis\":\"x4\",\"y\":[10776],\"yaxis\":\"y4\",\"type\":\"bar\"},{\"alignmentgroup\":\"True\",\"hovertemplate\":\"variable=%{x}\\u003cbr\\u003eregion_name=utah\\u003cbr\\u003evalue=%{y}\\u003cextra\\u003e\\u003c\\u002fextra\\u003e\",\"legendgroup\":\"farm_env5km\",\"marker\":{\"color\":\"#B6E880\",\"pattern\":{\"shape\":\"\"}},\"name\":\"farm_env5km\",\"offsetgroup\":\"farm_env5km\",\"orientation\":\"v\",\"showlegend\":false,\"textposition\":\"auto\",\"x\":[\"farm_env5km\"],\"xaxis\":\"x3\",\"y\":[33048],\"yaxis\":\"y3\",\"type\":\"bar\"},{\"alignmentgroup\":\"True\",\"hovertemplate\":\"variable=%{x}\\u003cbr\\u003eregion_name=washington\\u003cbr\\u003evalue=%{y}\\u003cextra\\u003e\\u003c\\u002fextra\\u003e\",\"legendgroup\":\"farm_env5km\",\"marker\":{\"color\":\"#B6E880\",\"pattern\":{\"shape\":\"\"}},\"name\":\"farm_env5km\",\"offsetgroup\":\"farm_env5km\",\"orientation\":\"v\",\"showlegend\":false,\"textposition\":\"auto\",\"x\":[\"farm_env5km\"],\"xaxis\":\"x2\",\"y\":[14369],\"yaxis\":\"y2\",\"type\":\"bar\"},{\"alignmentgroup\":\"True\",\"hovertemplate\":\"variable=%{x}\\u003cbr\\u003eregion_name=wyoming\\u003cbr\\u003evalue=%{y}\\u003cextra\\u003e\\u003c\\u002fextra\\u003e\",\"legendgroup\":\"farm_env5km\",\"marker\":{\"color\":\"#B6E880\",\"pattern\":{\"shape\":\"\"}},\"name\":\"farm_env5km\",\"offsetgroup\":\"farm_env5km\",\"orientation\":\"v\",\"showlegend\":false,\"textposition\":\"auto\",\"x\":[\"farm_env5km\"],\"xaxis\":\"x\",\"y\":[76781],\"yaxis\":\"y\",\"type\":\"bar\"},{\"alignmentgroup\":\"True\",\"hovertemplate\":\"variable=%{x}\\u003cbr\\u003eregion_name=arizona\\u003cbr\\u003evalue=%{y}\\u003cextra\\u003e\\u003c\\u002fextra\\u003e\",\"legendgroup\":\"farm_env10km\",\"marker\":{\"color\":\"#FF97FF\",\"pattern\":{\"shape\":\"\"}},\"name\":\"farm_env10km\",\"offsetgroup\":\"farm_env10km\",\"orientation\":\"v\",\"showlegend\":true,\"textposition\":\"auto\",\"x\":[\"farm_env10km\"],\"xaxis\":\"x11\",\"y\":[58270],\"yaxis\":\"y11\",\"type\":\"bar\"},{\"alignmentgroup\":\"True\",\"hovertemplate\":\"variable=%{x}\\u003cbr\\u003eregion_name=california\\u003cbr\\u003evalue=%{y}\\u003cextra\\u003e\\u003c\\u002fextra\\u003e\",\"legendgroup\":\"farm_env10km\",\"marker\":{\"color\":\"#FF97FF\",\"pattern\":{\"shape\":\"\"}},\"name\":\"farm_env10km\",\"offsetgroup\":\"farm_env10km\",\"orientation\":\"v\",\"showlegend\":false,\"textposition\":\"auto\",\"x\":[\"farm_env10km\"],\"xaxis\":\"x10\",\"y\":[9345],\"yaxis\":\"y10\",\"type\":\"bar\"},{\"alignmentgroup\":\"True\",\"hovertemplate\":\"variable=%{x}\\u003cbr\\u003eregion_name=colorado\\u003cbr\\u003evalue=%{y}\\u003cextra\\u003e\\u003c\\u002fextra\\u003e\",\"legendgroup\":\"farm_env10km\",\"marker\":{\"color\":\"#FF97FF\",\"pattern\":{\"shape\":\"\"}},\"name\":\"farm_env10km\",\"offsetgroup\":\"farm_env10km\",\"orientation\":\"v\",\"showlegend\":false,\"textposition\":\"auto\",\"x\":[\"farm_env10km\"],\"xaxis\":\"x9\",\"y\":[40765],\"yaxis\":\"y9\",\"type\":\"bar\"},{\"alignmentgroup\":\"True\",\"hovertemplate\":\"variable=%{x}\\u003cbr\\u003eregion_name=idaho\\u003cbr\\u003evalue=%{y}\\u003cextra\\u003e\\u003c\\u002fextra\\u003e\",\"legendgroup\":\"farm_env10km\",\"marker\":{\"color\":\"#FF97FF\",\"pattern\":{\"shape\":\"\"}},\"name\":\"farm_env10km\",\"offsetgroup\":\"farm_env10km\",\"orientation\":\"v\",\"showlegend\":false,\"textposition\":\"auto\",\"x\":[\"farm_env10km\"],\"xaxis\":\"x8\",\"y\":[6999],\"yaxis\":\"y8\",\"type\":\"bar\"},{\"alignmentgroup\":\"True\",\"hovertemplate\":\"variable=%{x}\\u003cbr\\u003eregion_name=montana\\u003cbr\\u003evalue=%{y}\\u003cextra\\u003e\\u003c\\u002fextra\\u003e\",\"legendgroup\":\"farm_env10km\",\"marker\":{\"color\":\"#FF97FF\",\"pattern\":{\"shape\":\"\"}},\"name\":\"farm_env10km\",\"offsetgroup\":\"farm_env10km\",\"orientation\":\"v\",\"showlegend\":false,\"textposition\":\"auto\",\"x\":[\"farm_env10km\"],\"xaxis\":\"x7\",\"y\":[19598],\"yaxis\":\"y7\",\"type\":\"bar\"},{\"alignmentgroup\":\"True\",\"hovertemplate\":\"variable=%{x}\\u003cbr\\u003eregion_name=new_mexico\\u003cbr\\u003evalue=%{y}\\u003cextra\\u003e\\u003c\\u002fextra\\u003e\",\"legendgroup\":\"farm_env10km\",\"marker\":{\"color\":\"#FF97FF\",\"pattern\":{\"shape\":\"\"}},\"name\":\"farm_env10km\",\"offsetgroup\":\"farm_env10km\",\"orientation\":\"v\",\"showlegend\":false,\"textposition\":\"auto\",\"x\":[\"farm_env10km\"],\"xaxis\":\"x6\",\"y\":[82948],\"yaxis\":\"y6\",\"type\":\"bar\"},{\"alignmentgroup\":\"True\",\"hovertemplate\":\"variable=%{x}\\u003cbr\\u003eregion_name=nevada\\u003cbr\\u003evalue=%{y}\\u003cextra\\u003e\\u003c\\u002fextra\\u003e\",\"legendgroup\":\"farm_env10km\",\"marker\":{\"color\":\"#FF97FF\",\"pattern\":{\"shape\":\"\"}},\"name\":\"farm_env10km\",\"offsetgroup\":\"farm_env10km\",\"orientation\":\"v\",\"showlegend\":false,\"textposition\":\"auto\",\"x\":[\"farm_env10km\"],\"xaxis\":\"x5\",\"y\":[31536],\"yaxis\":\"y5\",\"type\":\"bar\"},{\"alignmentgroup\":\"True\",\"hovertemplate\":\"variable=%{x}\\u003cbr\\u003eregion_name=oregon\\u003cbr\\u003evalue=%{y}\\u003cextra\\u003e\\u003c\\u002fextra\\u003e\",\"legendgroup\":\"farm_env10km\",\"marker\":{\"color\":\"#FF97FF\",\"pattern\":{\"shape\":\"\"}},\"name\":\"farm_env10km\",\"offsetgroup\":\"farm_env10km\",\"orientation\":\"v\",\"showlegend\":false,\"textposition\":\"auto\",\"x\":[\"farm_env10km\"],\"xaxis\":\"x4\",\"y\":[4147],\"yaxis\":\"y4\",\"type\":\"bar\"},{\"alignmentgroup\":\"True\",\"hovertemplate\":\"variable=%{x}\\u003cbr\\u003eregion_name=utah\\u003cbr\\u003evalue=%{y}\\u003cextra\\u003e\\u003c\\u002fextra\\u003e\",\"legendgroup\":\"farm_env10km\",\"marker\":{\"color\":\"#FF97FF\",\"pattern\":{\"shape\":\"\"}},\"name\":\"farm_env10km\",\"offsetgroup\":\"farm_env10km\",\"orientation\":\"v\",\"showlegend\":false,\"textposition\":\"auto\",\"x\":[\"farm_env10km\"],\"xaxis\":\"x3\",\"y\":[19213],\"yaxis\":\"y3\",\"type\":\"bar\"},{\"alignmentgroup\":\"True\",\"hovertemplate\":\"variable=%{x}\\u003cbr\\u003eregion_name=washington\\u003cbr\\u003evalue=%{y}\\u003cextra\\u003e\\u003c\\u002fextra\\u003e\",\"legendgroup\":\"farm_env10km\",\"marker\":{\"color\":\"#FF97FF\",\"pattern\":{\"shape\":\"\"}},\"name\":\"farm_env10km\",\"offsetgroup\":\"farm_env10km\",\"orientation\":\"v\",\"showlegend\":false,\"textposition\":\"auto\",\"x\":[\"farm_env10km\"],\"xaxis\":\"x2\",\"y\":[6037],\"yaxis\":\"y2\",\"type\":\"bar\"},{\"alignmentgroup\":\"True\",\"hovertemplate\":\"variable=%{x}\\u003cbr\\u003eregion_name=wyoming\\u003cbr\\u003evalue=%{y}\\u003cextra\\u003e\\u003c\\u002fextra\\u003e\",\"legendgroup\":\"farm_env10km\",\"marker\":{\"color\":\"#FF97FF\",\"pattern\":{\"shape\":\"\"}},\"name\":\"farm_env10km\",\"offsetgroup\":\"farm_env10km\",\"orientation\":\"v\",\"showlegend\":false,\"textposition\":\"auto\",\"x\":[\"farm_env10km\"],\"xaxis\":\"x\",\"y\":[35039],\"yaxis\":\"y\",\"type\":\"bar\"},{\"alignmentgroup\":\"True\",\"hovertemplate\":\"variable=%{x}\\u003cbr\\u003eregion_name=arizona\\u003cbr\\u003evalue=%{y}\\u003cextra\\u003e\\u003c\\u002fextra\\u003e\",\"legendgroup\":\"bau_km\",\"marker\":{\"color\":\"#FECB52\",\"pattern\":{\"shape\":\"\"}},\"name\":\"bau_km\",\"offsetgroup\":\"bau_km\",\"orientation\":\"v\",\"showlegend\":true,\"textposition\":\"auto\",\"x\":[\"bau_km\"],\"xaxis\":\"x11\",\"y\":[418],\"yaxis\":\"y11\",\"type\":\"bar\"},{\"alignmentgroup\":\"True\",\"hovertemplate\":\"variable=%{x}\\u003cbr\\u003eregion_name=california\\u003cbr\\u003evalue=%{y}\\u003cextra\\u003e\\u003c\\u002fextra\\u003e\",\"legendgroup\":\"bau_km\",\"marker\":{\"color\":\"#FECB52\",\"pattern\":{\"shape\":\"\"}},\"name\":\"bau_km\",\"offsetgroup\":\"bau_km\",\"orientation\":\"v\",\"showlegend\":false,\"textposition\":\"auto\",\"x\":[\"bau_km\"],\"xaxis\":\"x10\",\"y\":[895],\"yaxis\":\"y10\",\"type\":\"bar\"},{\"alignmentgroup\":\"True\",\"hovertemplate\":\"variable=%{x}\\u003cbr\\u003eregion_name=colorado\\u003cbr\\u003evalue=%{y}\\u003cextra\\u003e\\u003c\\u002fextra\\u003e\",\"legendgroup\":\"bau_km\",\"marker\":{\"color\":\"#FECB52\",\"pattern\":{\"shape\":\"\"}},\"name\":\"bau_km\",\"offsetgroup\":\"bau_km\",\"orientation\":\"v\",\"showlegend\":false,\"textposition\":\"auto\",\"x\":[\"bau_km\"],\"xaxis\":\"x9\",\"y\":[438],\"yaxis\":\"y9\",\"type\":\"bar\"},{\"alignmentgroup\":\"True\",\"hovertemplate\":\"variable=%{x}\\u003cbr\\u003eregion_name=idaho\\u003cbr\\u003evalue=%{y}\\u003cextra\\u003e\\u003c\\u002fextra\\u003e\",\"legendgroup\":\"bau_km\",\"marker\":{\"color\":\"#FECB52\",\"pattern\":{\"shape\":\"\"}},\"name\":\"bau_km\",\"offsetgroup\":\"bau_km\",\"orientation\":\"v\",\"showlegend\":false,\"textposition\":\"auto\",\"x\":[\"bau_km\"],\"xaxis\":\"x8\",\"y\":[17],\"yaxis\":\"y8\",\"type\":\"bar\"},{\"alignmentgroup\":\"True\",\"hovertemplate\":\"variable=%{x}\\u003cbr\\u003eregion_name=montana\\u003cbr\\u003evalue=%{y}\\u003cextra\\u003e\\u003c\\u002fextra\\u003e\",\"legendgroup\":\"bau_km\",\"marker\":{\"color\":\"#FECB52\",\"pattern\":{\"shape\":\"\"}},\"name\":\"bau_km\",\"offsetgroup\":\"bau_km\",\"orientation\":\"v\",\"showlegend\":false,\"textposition\":\"auto\",\"x\":[\"bau_km\"],\"xaxis\":\"x7\",\"y\":[132],\"yaxis\":\"y7\",\"type\":\"bar\"},{\"alignmentgroup\":\"True\",\"hovertemplate\":\"variable=%{x}\\u003cbr\\u003eregion_name=new_mexico\\u003cbr\\u003evalue=%{y}\\u003cextra\\u003e\\u003c\\u002fextra\\u003e\",\"legendgroup\":\"bau_km\",\"marker\":{\"color\":\"#FECB52\",\"pattern\":{\"shape\":\"\"}},\"name\":\"bau_km\",\"offsetgroup\":\"bau_km\",\"orientation\":\"v\",\"showlegend\":false,\"textposition\":\"auto\",\"x\":[\"bau_km\"],\"xaxis\":\"x6\",\"y\":[187],\"yaxis\":\"y6\",\"type\":\"bar\"},{\"alignmentgroup\":\"True\",\"hovertemplate\":\"variable=%{x}\\u003cbr\\u003eregion_name=nevada\\u003cbr\\u003evalue=%{y}\\u003cextra\\u003e\\u003c\\u002fextra\\u003e\",\"legendgroup\":\"bau_km\",\"marker\":{\"color\":\"#FECB52\",\"pattern\":{\"shape\":\"\"}},\"name\":\"bau_km\",\"offsetgroup\":\"bau_km\",\"orientation\":\"v\",\"showlegend\":false,\"textposition\":\"auto\",\"x\":[\"bau_km\"],\"xaxis\":\"x5\",\"y\":[418],\"yaxis\":\"y5\",\"type\":\"bar\"},{\"alignmentgroup\":\"True\",\"hovertemplate\":\"variable=%{x}\\u003cbr\\u003eregion_name=oregon\\u003cbr\\u003evalue=%{y}\\u003cextra\\u003e\\u003c\\u002fextra\\u003e\",\"legendgroup\":\"bau_km\",\"marker\":{\"color\":\"#FECB52\",\"pattern\":{\"shape\":\"\"}},\"name\":\"bau_km\",\"offsetgroup\":\"bau_km\",\"orientation\":\"v\",\"showlegend\":false,\"textposition\":\"auto\",\"x\":[\"bau_km\"],\"xaxis\":\"x4\",\"y\":[72],\"yaxis\":\"y4\",\"type\":\"bar\"},{\"alignmentgroup\":\"True\",\"hovertemplate\":\"variable=%{x}\\u003cbr\\u003eregion_name=utah\\u003cbr\\u003evalue=%{y}\\u003cextra\\u003e\\u003c\\u002fextra\\u003e\",\"legendgroup\":\"bau_km\",\"marker\":{\"color\":\"#FECB52\",\"pattern\":{\"shape\":\"\"}},\"name\":\"bau_km\",\"offsetgroup\":\"bau_km\",\"orientation\":\"v\",\"showlegend\":false,\"textposition\":\"auto\",\"x\":[\"bau_km\"],\"xaxis\":\"x3\",\"y\":[1217],\"yaxis\":\"y3\",\"type\":\"bar\"},{\"alignmentgroup\":\"True\",\"hovertemplate\":\"variable=%{x}\\u003cbr\\u003eregion_name=washington\\u003cbr\\u003evalue=%{y}\\u003cextra\\u003e\\u003c\\u002fextra\\u003e\",\"legendgroup\":\"bau_km\",\"marker\":{\"color\":\"#FECB52\",\"pattern\":{\"shape\":\"\"}},\"name\":\"bau_km\",\"offsetgroup\":\"bau_km\",\"orientation\":\"v\",\"showlegend\":false,\"textposition\":\"auto\",\"x\":[\"bau_km\"],\"xaxis\":\"x2\",\"y\":[57],\"yaxis\":\"y2\",\"type\":\"bar\"},{\"alignmentgroup\":\"True\",\"hovertemplate\":\"variable=%{x}\\u003cbr\\u003eregion_name=wyoming\\u003cbr\\u003evalue=%{y}\\u003cextra\\u003e\\u003c\\u002fextra\\u003e\",\"legendgroup\":\"bau_km\",\"marker\":{\"color\":\"#FECB52\",\"pattern\":{\"shape\":\"\"}},\"name\":\"bau_km\",\"offsetgroup\":\"bau_km\",\"orientation\":\"v\",\"showlegend\":false,\"textposition\":\"auto\",\"x\":[\"bau_km\"],\"xaxis\":\"x\",\"y\":[183],\"yaxis\":\"y\",\"type\":\"bar\"},{\"alignmentgroup\":\"True\",\"hovertemplate\":\"variable=%{x}\\u003cbr\\u003eregion_name=arizona\\u003cbr\\u003evalue=%{y}\\u003cextra\\u003e\\u003c\\u002fextra\\u003e\",\"legendgroup\":\"clean_grid_km\",\"marker\":{\"color\":\"#636efa\",\"pattern\":{\"shape\":\"\"}},\"name\":\"clean_grid_km\",\"offsetgroup\":\"clean_grid_km\",\"orientation\":\"v\",\"showlegend\":true,\"textposition\":\"auto\",\"x\":[\"clean_grid_km\"],\"xaxis\":\"x11\",\"y\":[599],\"yaxis\":\"y11\",\"type\":\"bar\"},{\"alignmentgroup\":\"True\",\"hovertemplate\":\"variable=%{x}\\u003cbr\\u003eregion_name=california\\u003cbr\\u003evalue=%{y}\\u003cextra\\u003e\\u003c\\u002fextra\\u003e\",\"legendgroup\":\"clean_grid_km\",\"marker\":{\"color\":\"#636efa\",\"pattern\":{\"shape\":\"\"}},\"name\":\"clean_grid_km\",\"offsetgroup\":\"clean_grid_km\",\"orientation\":\"v\",\"showlegend\":false,\"textposition\":\"auto\",\"x\":[\"clean_grid_km\"],\"xaxis\":\"x10\",\"y\":[1317],\"yaxis\":\"y10\",\"type\":\"bar\"},{\"alignmentgroup\":\"True\",\"hovertemplate\":\"variable=%{x}\\u003cbr\\u003eregion_name=colorado\\u003cbr\\u003evalue=%{y}\\u003cextra\\u003e\\u003c\\u002fextra\\u003e\",\"legendgroup\":\"clean_grid_km\",\"marker\":{\"color\":\"#636efa\",\"pattern\":{\"shape\":\"\"}},\"name\":\"clean_grid_km\",\"offsetgroup\":\"clean_grid_km\",\"orientation\":\"v\",\"showlegend\":false,\"textposition\":\"auto\",\"x\":[\"clean_grid_km\"],\"xaxis\":\"x9\",\"y\":[651],\"yaxis\":\"y9\",\"type\":\"bar\"},{\"alignmentgroup\":\"True\",\"hovertemplate\":\"variable=%{x}\\u003cbr\\u003eregion_name=idaho\\u003cbr\\u003evalue=%{y}\\u003cextra\\u003e\\u003c\\u002fextra\\u003e\",\"legendgroup\":\"clean_grid_km\",\"marker\":{\"color\":\"#636efa\",\"pattern\":{\"shape\":\"\"}},\"name\":\"clean_grid_km\",\"offsetgroup\":\"clean_grid_km\",\"orientation\":\"v\",\"showlegend\":false,\"textposition\":\"auto\",\"x\":[\"clean_grid_km\"],\"xaxis\":\"x8\",\"y\":[27],\"yaxis\":\"y8\",\"type\":\"bar\"},{\"alignmentgroup\":\"True\",\"hovertemplate\":\"variable=%{x}\\u003cbr\\u003eregion_name=montana\\u003cbr\\u003evalue=%{y}\\u003cextra\\u003e\\u003c\\u002fextra\\u003e\",\"legendgroup\":\"clean_grid_km\",\"marker\":{\"color\":\"#636efa\",\"pattern\":{\"shape\":\"\"}},\"name\":\"clean_grid_km\",\"offsetgroup\":\"clean_grid_km\",\"orientation\":\"v\",\"showlegend\":false,\"textposition\":\"auto\",\"x\":[\"clean_grid_km\"],\"xaxis\":\"x7\",\"y\":[263],\"yaxis\":\"y7\",\"type\":\"bar\"},{\"alignmentgroup\":\"True\",\"hovertemplate\":\"variable=%{x}\\u003cbr\\u003eregion_name=new_mexico\\u003cbr\\u003evalue=%{y}\\u003cextra\\u003e\\u003c\\u002fextra\\u003e\",\"legendgroup\":\"clean_grid_km\",\"marker\":{\"color\":\"#636efa\",\"pattern\":{\"shape\":\"\"}},\"name\":\"clean_grid_km\",\"offsetgroup\":\"clean_grid_km\",\"orientation\":\"v\",\"showlegend\":false,\"textposition\":\"auto\",\"x\":[\"clean_grid_km\"],\"xaxis\":\"x6\",\"y\":[297],\"yaxis\":\"y6\",\"type\":\"bar\"},{\"alignmentgroup\":\"True\",\"hovertemplate\":\"variable=%{x}\\u003cbr\\u003eregion_name=nevada\\u003cbr\\u003evalue=%{y}\\u003cextra\\u003e\\u003c\\u002fextra\\u003e\",\"legendgroup\":\"clean_grid_km\",\"marker\":{\"color\":\"#636efa\",\"pattern\":{\"shape\":\"\"}},\"name\":\"clean_grid_km\",\"offsetgroup\":\"clean_grid_km\",\"orientation\":\"v\",\"showlegend\":false,\"textposition\":\"auto\",\"x\":[\"clean_grid_km\"],\"xaxis\":\"x5\",\"y\":[584],\"yaxis\":\"y5\",\"type\":\"bar\"},{\"alignmentgroup\":\"True\",\"hovertemplate\":\"variable=%{x}\\u003cbr\\u003eregion_name=oregon\\u003cbr\\u003evalue=%{y}\\u003cextra\\u003e\\u003c\\u002fextra\\u003e\",\"legendgroup\":\"clean_grid_km\",\"marker\":{\"color\":\"#636efa\",\"pattern\":{\"shape\":\"\"}},\"name\":\"clean_grid_km\",\"offsetgroup\":\"clean_grid_km\",\"orientation\":\"v\",\"showlegend\":false,\"textposition\":\"auto\",\"x\":[\"clean_grid_km\"],\"xaxis\":\"x4\",\"y\":[125],\"yaxis\":\"y4\",\"type\":\"bar\"},{\"alignmentgroup\":\"True\",\"hovertemplate\":\"variable=%{x}\\u003cbr\\u003eregion_name=utah\\u003cbr\\u003evalue=%{y}\\u003cextra\\u003e\\u003c\\u002fextra\\u003e\",\"legendgroup\":\"clean_grid_km\",\"marker\":{\"color\":\"#636efa\",\"pattern\":{\"shape\":\"\"}},\"name\":\"clean_grid_km\",\"offsetgroup\":\"clean_grid_km\",\"orientation\":\"v\",\"showlegend\":false,\"textposition\":\"auto\",\"x\":[\"clean_grid_km\"],\"xaxis\":\"x3\",\"y\":[1712],\"yaxis\":\"y3\",\"type\":\"bar\"},{\"alignmentgroup\":\"True\",\"hovertemplate\":\"variable=%{x}\\u003cbr\\u003eregion_name=washington\\u003cbr\\u003evalue=%{y}\\u003cextra\\u003e\\u003c\\u002fextra\\u003e\",\"legendgroup\":\"clean_grid_km\",\"marker\":{\"color\":\"#636efa\",\"pattern\":{\"shape\":\"\"}},\"name\":\"clean_grid_km\",\"offsetgroup\":\"clean_grid_km\",\"orientation\":\"v\",\"showlegend\":false,\"textposition\":\"auto\",\"x\":[\"clean_grid_km\"],\"xaxis\":\"x2\",\"y\":[109],\"yaxis\":\"y2\",\"type\":\"bar\"},{\"alignmentgroup\":\"True\",\"hovertemplate\":\"variable=%{x}\\u003cbr\\u003eregion_name=wyoming\\u003cbr\\u003evalue=%{y}\\u003cextra\\u003e\\u003c\\u002fextra\\u003e\",\"legendgroup\":\"clean_grid_km\",\"marker\":{\"color\":\"#636efa\",\"pattern\":{\"shape\":\"\"}},\"name\":\"clean_grid_km\",\"offsetgroup\":\"clean_grid_km\",\"orientation\":\"v\",\"showlegend\":false,\"textposition\":\"auto\",\"x\":[\"clean_grid_km\"],\"xaxis\":\"x\",\"y\":[290],\"yaxis\":\"y\",\"type\":\"bar\"}],                        {\"template\":{\"data\":{\"histogram2dcontour\":[{\"type\":\"histogram2dcontour\",\"colorbar\":{\"outlinewidth\":0,\"ticks\":\"\"},\"colorscale\":[[0.0,\"#0d0887\"],[0.1111111111111111,\"#46039f\"],[0.2222222222222222,\"#7201a8\"],[0.3333333333333333,\"#9c179e\"],[0.4444444444444444,\"#bd3786\"],[0.5555555555555556,\"#d8576b\"],[0.6666666666666666,\"#ed7953\"],[0.7777777777777778,\"#fb9f3a\"],[0.8888888888888888,\"#fdca26\"],[1.0,\"#f0f921\"]]}],\"choropleth\":[{\"type\":\"choropleth\",\"colorbar\":{\"outlinewidth\":0,\"ticks\":\"\"}}],\"histogram2d\":[{\"type\":\"histogram2d\",\"colorbar\":{\"outlinewidth\":0,\"ticks\":\"\"},\"colorscale\":[[0.0,\"#0d0887\"],[0.1111111111111111,\"#46039f\"],[0.2222222222222222,\"#7201a8\"],[0.3333333333333333,\"#9c179e\"],[0.4444444444444444,\"#bd3786\"],[0.5555555555555556,\"#d8576b\"],[0.6666666666666666,\"#ed7953\"],[0.7777777777777778,\"#fb9f3a\"],[0.8888888888888888,\"#fdca26\"],[1.0,\"#f0f921\"]]}],\"heatmap\":[{\"type\":\"heatmap\",\"colorbar\":{\"outlinewidth\":0,\"ticks\":\"\"},\"colorscale\":[[0.0,\"#0d0887\"],[0.1111111111111111,\"#46039f\"],[0.2222222222222222,\"#7201a8\"],[0.3333333333333333,\"#9c179e\"],[0.4444444444444444,\"#bd3786\"],[0.5555555555555556,\"#d8576b\"],[0.6666666666666666,\"#ed7953\"],[0.7777777777777778,\"#fb9f3a\"],[0.8888888888888888,\"#fdca26\"],[1.0,\"#f0f921\"]]}],\"heatmapgl\":[{\"type\":\"heatmapgl\",\"colorbar\":{\"outlinewidth\":0,\"ticks\":\"\"},\"colorscale\":[[0.0,\"#0d0887\"],[0.1111111111111111,\"#46039f\"],[0.2222222222222222,\"#7201a8\"],[0.3333333333333333,\"#9c179e\"],[0.4444444444444444,\"#bd3786\"],[0.5555555555555556,\"#d8576b\"],[0.6666666666666666,\"#ed7953\"],[0.7777777777777778,\"#fb9f3a\"],[0.8888888888888888,\"#fdca26\"],[1.0,\"#f0f921\"]]}],\"contourcarpet\":[{\"type\":\"contourcarpet\",\"colorbar\":{\"outlinewidth\":0,\"ticks\":\"\"}}],\"contour\":[{\"type\":\"contour\",\"colorbar\":{\"outlinewidth\":0,\"ticks\":\"\"},\"colorscale\":[[0.0,\"#0d0887\"],[0.1111111111111111,\"#46039f\"],[0.2222222222222222,\"#7201a8\"],[0.3333333333333333,\"#9c179e\"],[0.4444444444444444,\"#bd3786\"],[0.5555555555555556,\"#d8576b\"],[0.6666666666666666,\"#ed7953\"],[0.7777777777777778,\"#fb9f3a\"],[0.8888888888888888,\"#fdca26\"],[1.0,\"#f0f921\"]]}],\"surface\":[{\"type\":\"surface\",\"colorbar\":{\"outlinewidth\":0,\"ticks\":\"\"},\"colorscale\":[[0.0,\"#0d0887\"],[0.1111111111111111,\"#46039f\"],[0.2222222222222222,\"#7201a8\"],[0.3333333333333333,\"#9c179e\"],[0.4444444444444444,\"#bd3786\"],[0.5555555555555556,\"#d8576b\"],[0.6666666666666666,\"#ed7953\"],[0.7777777777777778,\"#fb9f3a\"],[0.8888888888888888,\"#fdca26\"],[1.0,\"#f0f921\"]]}],\"mesh3d\":[{\"type\":\"mesh3d\",\"colorbar\":{\"outlinewidth\":0,\"ticks\":\"\"}}],\"scatter\":[{\"fillpattern\":{\"fillmode\":\"overlay\",\"size\":10,\"solidity\":0.2},\"type\":\"scatter\"}],\"parcoords\":[{\"type\":\"parcoords\",\"line\":{\"colorbar\":{\"outlinewidth\":0,\"ticks\":\"\"}}}],\"scatterpolargl\":[{\"type\":\"scatterpolargl\",\"marker\":{\"colorbar\":{\"outlinewidth\":0,\"ticks\":\"\"}}}],\"bar\":[{\"error_x\":{\"color\":\"#2a3f5f\"},\"error_y\":{\"color\":\"#2a3f5f\"},\"marker\":{\"line\":{\"color\":\"#E5ECF6\",\"width\":0.5},\"pattern\":{\"fillmode\":\"overlay\",\"size\":10,\"solidity\":0.2}},\"type\":\"bar\"}],\"scattergeo\":[{\"type\":\"scattergeo\",\"marker\":{\"colorbar\":{\"outlinewidth\":0,\"ticks\":\"\"}}}],\"scatterpolar\":[{\"type\":\"scatterpolar\",\"marker\":{\"colorbar\":{\"outlinewidth\":0,\"ticks\":\"\"}}}],\"histogram\":[{\"marker\":{\"pattern\":{\"fillmode\":\"overlay\",\"size\":10,\"solidity\":0.2}},\"type\":\"histogram\"}],\"scattergl\":[{\"type\":\"scattergl\",\"marker\":{\"colorbar\":{\"outlinewidth\":0,\"ticks\":\"\"}}}],\"scatter3d\":[{\"type\":\"scatter3d\",\"line\":{\"colorbar\":{\"outlinewidth\":0,\"ticks\":\"\"}},\"marker\":{\"colorbar\":{\"outlinewidth\":0,\"ticks\":\"\"}}}],\"scattermapbox\":[{\"type\":\"scattermapbox\",\"marker\":{\"colorbar\":{\"outlinewidth\":0,\"ticks\":\"\"}}}],\"scatterternary\":[{\"type\":\"scatterternary\",\"marker\":{\"colorbar\":{\"outlinewidth\":0,\"ticks\":\"\"}}}],\"scattercarpet\":[{\"type\":\"scattercarpet\",\"marker\":{\"colorbar\":{\"outlinewidth\":0,\"ticks\":\"\"}}}],\"carpet\":[{\"aaxis\":{\"endlinecolor\":\"#2a3f5f\",\"gridcolor\":\"white\",\"linecolor\":\"white\",\"minorgridcolor\":\"white\",\"startlinecolor\":\"#2a3f5f\"},\"baxis\":{\"endlinecolor\":\"#2a3f5f\",\"gridcolor\":\"white\",\"linecolor\":\"white\",\"minorgridcolor\":\"white\",\"startlinecolor\":\"#2a3f5f\"},\"type\":\"carpet\"}],\"table\":[{\"cells\":{\"fill\":{\"color\":\"#EBF0F8\"},\"line\":{\"color\":\"white\"}},\"header\":{\"fill\":{\"color\":\"#C8D4E3\"},\"line\":{\"color\":\"white\"}},\"type\":\"table\"}],\"barpolar\":[{\"marker\":{\"line\":{\"color\":\"#E5ECF6\",\"width\":0.5},\"pattern\":{\"fillmode\":\"overlay\",\"size\":10,\"solidity\":0.2}},\"type\":\"barpolar\"}],\"pie\":[{\"automargin\":true,\"type\":\"pie\"}]},\"layout\":{\"autotypenumbers\":\"strict\",\"colorway\":[\"#636efa\",\"#EF553B\",\"#00cc96\",\"#ab63fa\",\"#FFA15A\",\"#19d3f3\",\"#FF6692\",\"#B6E880\",\"#FF97FF\",\"#FECB52\"],\"font\":{\"color\":\"#2a3f5f\"},\"hovermode\":\"closest\",\"hoverlabel\":{\"align\":\"left\"},\"paper_bgcolor\":\"white\",\"plot_bgcolor\":\"#E5ECF6\",\"polar\":{\"bgcolor\":\"#E5ECF6\",\"angularaxis\":{\"gridcolor\":\"white\",\"linecolor\":\"white\",\"ticks\":\"\"},\"radialaxis\":{\"gridcolor\":\"white\",\"linecolor\":\"white\",\"ticks\":\"\"}},\"ternary\":{\"bgcolor\":\"#E5ECF6\",\"aaxis\":{\"gridcolor\":\"white\",\"linecolor\":\"white\",\"ticks\":\"\"},\"baxis\":{\"gridcolor\":\"white\",\"linecolor\":\"white\",\"ticks\":\"\"},\"caxis\":{\"gridcolor\":\"white\",\"linecolor\":\"white\",\"ticks\":\"\"}},\"coloraxis\":{\"colorbar\":{\"outlinewidth\":0,\"ticks\":\"\"}},\"colorscale\":{\"sequential\":[[0.0,\"#0d0887\"],[0.1111111111111111,\"#46039f\"],[0.2222222222222222,\"#7201a8\"],[0.3333333333333333,\"#9c179e\"],[0.4444444444444444,\"#bd3786\"],[0.5555555555555556,\"#d8576b\"],[0.6666666666666666,\"#ed7953\"],[0.7777777777777778,\"#fb9f3a\"],[0.8888888888888888,\"#fdca26\"],[1.0,\"#f0f921\"]],\"sequentialminus\":[[0.0,\"#0d0887\"],[0.1111111111111111,\"#46039f\"],[0.2222222222222222,\"#7201a8\"],[0.3333333333333333,\"#9c179e\"],[0.4444444444444444,\"#bd3786\"],[0.5555555555555556,\"#d8576b\"],[0.6666666666666666,\"#ed7953\"],[0.7777777777777778,\"#fb9f3a\"],[0.8888888888888888,\"#fdca26\"],[1.0,\"#f0f921\"]],\"diverging\":[[0,\"#8e0152\"],[0.1,\"#c51b7d\"],[0.2,\"#de77ae\"],[0.3,\"#f1b6da\"],[0.4,\"#fde0ef\"],[0.5,\"#f7f7f7\"],[0.6,\"#e6f5d0\"],[0.7,\"#b8e186\"],[0.8,\"#7fbc41\"],[0.9,\"#4d9221\"],[1,\"#276419\"]]},\"xaxis\":{\"gridcolor\":\"white\",\"linecolor\":\"white\",\"ticks\":\"\",\"title\":{\"standoff\":15},\"zerolinecolor\":\"white\",\"automargin\":true,\"zerolinewidth\":2},\"yaxis\":{\"gridcolor\":\"white\",\"linecolor\":\"white\",\"ticks\":\"\",\"title\":{\"standoff\":15},\"zerolinecolor\":\"white\",\"automargin\":true,\"zerolinewidth\":2},\"scene\":{\"xaxis\":{\"backgroundcolor\":\"#E5ECF6\",\"gridcolor\":\"white\",\"linecolor\":\"white\",\"showbackground\":true,\"ticks\":\"\",\"zerolinecolor\":\"white\",\"gridwidth\":2},\"yaxis\":{\"backgroundcolor\":\"#E5ECF6\",\"gridcolor\":\"white\",\"linecolor\":\"white\",\"showbackground\":true,\"ticks\":\"\",\"zerolinecolor\":\"white\",\"gridwidth\":2},\"zaxis\":{\"backgroundcolor\":\"#E5ECF6\",\"gridcolor\":\"white\",\"linecolor\":\"white\",\"showbackground\":true,\"ticks\":\"\",\"zerolinecolor\":\"white\",\"gridwidth\":2}},\"shapedefaults\":{\"line\":{\"color\":\"#2a3f5f\"}},\"annotationdefaults\":{\"arrowcolor\":\"#2a3f5f\",\"arrowhead\":0,\"arrowwidth\":1},\"geo\":{\"bgcolor\":\"white\",\"landcolor\":\"#E5ECF6\",\"subunitcolor\":\"white\",\"showland\":true,\"showlakes\":true,\"lakecolor\":\"white\"},\"title\":{\"x\":0.05},\"mapbox\":{\"style\":\"light\"}}},\"xaxis\":{\"anchor\":\"y\",\"domain\":[0.0,0.98],\"title\":{\"text\":\"variable\"},\"categoryorder\":\"array\",\"categoryarray\":[\"baseline\",\"dac\",\"farmland\",\"env_1km\",\"env_5km\",\"env_10km\",\"dac_farm_env5km\",\"farm_env5km\",\"farm_env10km\",\"bau_km\",\"clean_grid_km\"]},\"yaxis\":{\"anchor\":\"x\",\"domain\":[0.0,0.06363636363636363],\"title\":{\"text\":\"value\"}},\"xaxis2\":{\"anchor\":\"y2\",\"domain\":[0.0,0.98],\"matches\":\"x\",\"showticklabels\":false},\"yaxis2\":{\"anchor\":\"x2\",\"domain\":[0.09363636363636363,0.15727272727272726],\"title\":{\"text\":\"value\"}},\"xaxis3\":{\"anchor\":\"y3\",\"domain\":[0.0,0.98],\"matches\":\"x\",\"showticklabels\":false},\"yaxis3\":{\"anchor\":\"x3\",\"domain\":[0.18727272727272726,0.25090909090909086],\"title\":{\"text\":\"value\"}},\"xaxis4\":{\"anchor\":\"y4\",\"domain\":[0.0,0.98],\"matches\":\"x\",\"showticklabels\":false},\"yaxis4\":{\"anchor\":\"x4\",\"domain\":[0.2809090909090909,0.3445454545454545],\"title\":{\"text\":\"value\"}},\"xaxis5\":{\"anchor\":\"y5\",\"domain\":[0.0,0.98],\"matches\":\"x\",\"showticklabels\":false},\"yaxis5\":{\"anchor\":\"x5\",\"domain\":[0.3745454545454545,0.4381818181818181],\"title\":{\"text\":\"value\"}},\"xaxis6\":{\"anchor\":\"y6\",\"domain\":[0.0,0.98],\"matches\":\"x\",\"showticklabels\":false},\"yaxis6\":{\"anchor\":\"x6\",\"domain\":[0.46818181818181814,0.5318181818181817],\"title\":{\"text\":\"value\"}},\"xaxis7\":{\"anchor\":\"y7\",\"domain\":[0.0,0.98],\"matches\":\"x\",\"showticklabels\":false},\"yaxis7\":{\"anchor\":\"x7\",\"domain\":[0.5618181818181818,0.6254545454545454],\"title\":{\"text\":\"value\"}},\"xaxis8\":{\"anchor\":\"y8\",\"domain\":[0.0,0.98],\"matches\":\"x\",\"showticklabels\":false},\"yaxis8\":{\"anchor\":\"x8\",\"domain\":[0.6554545454545453,0.7190909090909089],\"title\":{\"text\":\"value\"}},\"xaxis9\":{\"anchor\":\"y9\",\"domain\":[0.0,0.98],\"matches\":\"x\",\"showticklabels\":false},\"yaxis9\":{\"anchor\":\"x9\",\"domain\":[0.7490909090909089,0.8127272727272725],\"title\":{\"text\":\"value\"}},\"xaxis10\":{\"anchor\":\"y10\",\"domain\":[0.0,0.98],\"matches\":\"x\",\"showticklabels\":false},\"yaxis10\":{\"anchor\":\"x10\",\"domain\":[0.8427272727272725,0.9063636363636361],\"title\":{\"text\":\"value\"}},\"xaxis11\":{\"anchor\":\"y11\",\"domain\":[0.0,0.98],\"matches\":\"x\",\"showticklabels\":false},\"yaxis11\":{\"anchor\":\"x11\",\"domain\":[0.9363636363636361,0.9999999999999997],\"title\":{\"text\":\"value\"}},\"annotations\":[{\"font\":{},\"showarrow\":false,\"text\":\"region_name=wyoming\",\"textangle\":90,\"x\":0.98,\"xanchor\":\"left\",\"xref\":\"paper\",\"y\":0.031818181818181815,\"yanchor\":\"middle\",\"yref\":\"paper\"},{\"font\":{},\"showarrow\":false,\"text\":\"region_name=washington\",\"textangle\":90,\"x\":0.98,\"xanchor\":\"left\",\"xref\":\"paper\",\"y\":0.12545454545454543,\"yanchor\":\"middle\",\"yref\":\"paper\"},{\"font\":{},\"showarrow\":false,\"text\":\"region_name=utah\",\"textangle\":90,\"x\":0.98,\"xanchor\":\"left\",\"xref\":\"paper\",\"y\":0.21909090909090906,\"yanchor\":\"middle\",\"yref\":\"paper\"},{\"font\":{},\"showarrow\":false,\"text\":\"region_name=oregon\",\"textangle\":90,\"x\":0.98,\"xanchor\":\"left\",\"xref\":\"paper\",\"y\":0.3127272727272727,\"yanchor\":\"middle\",\"yref\":\"paper\"},{\"font\":{},\"showarrow\":false,\"text\":\"region_name=nevada\",\"textangle\":90,\"x\":0.98,\"xanchor\":\"left\",\"xref\":\"paper\",\"y\":0.4063636363636363,\"yanchor\":\"middle\",\"yref\":\"paper\"},{\"font\":{},\"showarrow\":false,\"text\":\"region_name=new_mexico\",\"textangle\":90,\"x\":0.98,\"xanchor\":\"left\",\"xref\":\"paper\",\"y\":0.49999999999999994,\"yanchor\":\"middle\",\"yref\":\"paper\"},{\"font\":{},\"showarrow\":false,\"text\":\"region_name=montana\",\"textangle\":90,\"x\":0.98,\"xanchor\":\"left\",\"xref\":\"paper\",\"y\":0.5936363636363635,\"yanchor\":\"middle\",\"yref\":\"paper\"},{\"font\":{},\"showarrow\":false,\"text\":\"region_name=idaho\",\"textangle\":90,\"x\":0.98,\"xanchor\":\"left\",\"xref\":\"paper\",\"y\":0.687272727272727,\"yanchor\":\"middle\",\"yref\":\"paper\"},{\"font\":{},\"showarrow\":false,\"text\":\"region_name=colorado\",\"textangle\":90,\"x\":0.98,\"xanchor\":\"left\",\"xref\":\"paper\",\"y\":0.7809090909090908,\"yanchor\":\"middle\",\"yref\":\"paper\"},{\"font\":{},\"showarrow\":false,\"text\":\"region_name=california\",\"textangle\":90,\"x\":0.98,\"xanchor\":\"left\",\"xref\":\"paper\",\"y\":0.8745454545454543,\"yanchor\":\"middle\",\"yref\":\"paper\"},{\"font\":{},\"showarrow\":false,\"text\":\"region_name=arizona\",\"textangle\":90,\"x\":0.98,\"xanchor\":\"left\",\"xref\":\"paper\",\"y\":0.9681818181818178,\"yanchor\":\"middle\",\"yref\":\"paper\"}],\"legend\":{\"title\":{\"text\":\"variable\"},\"tracegroupgap\":0},\"margin\":{\"t\":60},\"barmode\":\"relative\",\"height\":2000,\"width\":1200},                        {\"responsive\": true}                    ).then(function(){\n",
       "                            \n",
       "var gd = document.getElementById('da9a8a73-14ea-4b01-be7a-eb7c910e5932');\n",
       "var x = new MutationObserver(function (mutations, observer) {{\n",
       "        var display = window.getComputedStyle(gd).display;\n",
       "        if (!display || display === 'none') {{\n",
       "            console.log([gd, 'removed!']);\n",
       "            Plotly.purge(gd);\n",
       "            observer.disconnect();\n",
       "        }}\n",
       "}});\n",
       "\n",
       "// Listen for the removal of the full notebook cells\n",
       "var notebookContainer = gd.closest('#notebook-container');\n",
       "if (notebookContainer) {{\n",
       "    x.observe(notebookContainer, {childList: true});\n",
       "}}\n",
       "\n",
       "// Listen for the clearing of the current output cell\n",
       "var outputEl = gd.closest('.output');\n",
       "if (outputEl) {{\n",
       "    x.observe(outputEl, {childList: true});\n",
       "}}\n",
       "\n",
       "                        })                };                });            </script>        </div>"
      ]
     },
     "metadata": {},
     "output_type": "display_data"
    }
   ],
   "source": [
    "print('solar')\n",
    "fig = px.bar(solar_df, x=\"variable\", y=\"value\", color=\"variable\",\n",
    "             facet_row=\"region_name\", width=1200, height=2000)\n",
    "fig.update_yaxes(matches=None)\n",
    "fig.show()"
   ]
  }
 ],
 "metadata": {
  "kernelspec": {
   "display_name": "Python 3 (ipykernel)",
   "language": "python",
   "name": "python3"
  },
  "language_info": {
   "codemirror_mode": {
    "name": "ipython",
    "version": 3
   },
   "file_extension": ".py",
   "mimetype": "text/x-python",
   "name": "python",
   "nbconvert_exporter": "python",
   "pygments_lexer": "ipython3",
   "version": "3.11.0"
  }
 },
 "nbformat": 4,
 "nbformat_minor": 5
}
