{
 "cells": [
  {
   "cell_type": "markdown",
   "id": "451aad66-208d-4d91-a046-4d93f70f7887",
   "metadata": {},
   "source": [
    "# Prepare CERF Power Plant Siting Output"
   ]
  },
  {
   "cell_type": "markdown",
   "id": "b0a61890-597e-4a22-bf46-4dac96726464",
   "metadata": {},
   "source": [
    "**Description:** This notebook reads in CERF power plant siting output results for both the business-as-usual and net zero scenarios from the GODEEEP project experiment. Power plant technologies are assigned simplified technology category names for plotting readibility and scenario results are combined into a single results file.\n",
    "\n",
    "**How to use this notebook:** Download the data linked below and unzip it into the `data/input_data` directory of this repository. Running all cells in this notebook will process the siting data and create the necessary output file."
   ]
  },
  {
   "cell_type": "markdown",
   "id": "d4a12ac7-ba32-45d3-abf4-a22c66172056",
   "metadata": {},
   "source": [
    "## Download Required Data"
   ]
  },
  {
   "cell_type": "markdown",
   "id": "5ae81a02-2957-4519-91bb-9e774ff98f5c",
   "metadata": {},
   "source": [
    "### CERF Power Plant Siting Location Results"
   ]
  },
  {
   "cell_type": "markdown",
   "id": "8399bb44-de72-4442-804b-e9dde1a1bf34",
   "metadata": {},
   "source": [
    "The data required to run this notebook can be downloaded from: _______\n",
    "\n",
    "**Notebook output:** A csv file of CERF power plant siting results under both GODEEEP scenarios by 2050\n",
    "\n",
    "`data/input_data/infrastructure_data_csv/infrastructure_data_2050.csv`"
   ]
  },
  {
   "cell_type": "markdown",
   "id": "39084a20-952f-4578-96d9-0b7c4892d7f1",
   "metadata": {},
   "source": [
    "### Imports"
   ]
  },
  {
   "cell_type": "code",
   "execution_count": null,
   "id": "8b0bca82-19bb-4972-a869-939efb36d6b9",
   "metadata": {},
   "outputs": [],
   "source": [
    "import pandas as pd\n",
    "import os"
   ]
  },
  {
   "cell_type": "markdown",
   "id": "b6a081e9-a6ad-4391-9f90-90c5367c853e",
   "metadata": {},
   "source": [
    "### Settings"
   ]
  },
  {
   "cell_type": "code",
   "execution_count": null,
   "id": "72f94a08-a823-49d6-8ad4-bde37d70953c",
   "metadata": {},
   "outputs": [],
   "source": [
    "# dictionary to bin long-form CERF technology names into technology categories\n",
    "tech_rename_dict = {\n",
    "    'gridcerf_biomass_conventional_no-ccs_recirculating': 'Biomass (recirculating cooling)',\n",
    "    'gridcerf_biomass_conventional_no-ccs_dry' : 'Biomass (dry cooling)',\n",
    "    'gridcerf_biomass_conventional_ccs_dry':'Biomass CCS (dry cooling)',\n",
    "    'gridcerf_biomass_conventional_ccs_recirculating': 'Biomass CCS (recirculating cooling)',\n",
    "\n",
    "    'gridcerf_biomass_igcc_ccs_dry':'Biomass IGCC CCS (dry cooling)',\n",
    "    'gridcerf_biomass_igcc_ccs_recirculating':'Biomass IGCC CCS (recirculating cooling)',\n",
    "    'gridcerf_biomass_igcc_ccs_recirculating-seawater':'Biomass IGCC CCS (seawater cooling)',\n",
    "    'gridcerf_coal_conventional_ccs_dry':'Coal CCS (dry cooling)',\n",
    "    'gridcerf_coal_conventional_ccs_recirculating':'Coal CCS (recirculating cooling)',\n",
    "    \n",
    "    'gridcerf_gas_cc_no-ccs_recirculating': 'Natural Gas CC (recirculating cooling)',\n",
    "    'gridcerf_gas_cc_no-ccs_dry': 'Natural Gas CC (dry cooling)',\n",
    "    'gridcerf_gas_cc_no-ccs_pond':'Natural Gas CC (pond cooling)',\n",
    "    \n",
    "    'gridcerf_gas_cc_ccs_dry':'Natural Gas CC CCS (dry cooling)',\n",
    "    'gridcerf_gas_cc_ccs_recirculating': 'Natural Gas CC CCS (recirculating cooling)',\n",
    "    'gridcerf_gas_cc_ccs_recirculating-seawater': 'Natural Gas CC CCS (seawater cooling)',\n",
    "\n",
    "    'gridcerf_solar_csp_centralized_dry-hybrid': 'Solar CSP (dry-hybrid cooling)',\n",
    "    'gridcerf_solar_csp_centralized_recirculating': 'Solar CSP (recirculating cooling)',\n",
    "    \n",
    "    'gridcerf_solar_pv_centralized_no-cooling': 'Solar PV',\n",
    "    'gridcerf_wind_onshore_hubheight100_no-cooling': 'Wind',\n",
    "    'gridcerf_wind_onshore_hubheight120_no-cooling': 'Wind',\n",
    "    'gridcerf_wind_onshore_hubheight140_no-cooling':'Wind',\n",
    "    'gridcerf_wind_offshore_hubheight140_no-cooling': 'Offshore Wind',\n",
    "    'gridcerf_wind_offshore_hubheight160_no-cooling':'Offshore Wind',\n",
    "    \n",
    "    'gridcerf_gas_cc_no-ccs_recirculating-seawater': 'Natural Gas CC (seawater cooling)',\n",
    "    'gridcerf_geothermal_centralized_enhanced_recirculating' : 'Geothermal (recirculating cooling)',\n",
    "    'gridcerf_nuclear_gen3_smr_recirculating': 'Nuclear SMR (recirculating cooling)'}\n",
    "\n",
    "# secondary binning for technology naming\n",
    "simple_map={\n",
    "    'Natural Gas CC (recirculating cooling)':'Natural Gas', \n",
    "    'Natural Gas CC (seawater cooling)':'Natural Gas', \n",
    "    'Natural Gas CC (dry cooling)':'Natural Gas', \n",
    "    'Natural Gas CC (pond cooling)':'Natural Gas', \n",
    "    'Natural Gas CC CCS (dry cooling)':'Natural Gas', \n",
    "    'Natural Gas CC CCS (seawater cooling)':'Natural Gas', \n",
    "    'Natural Gas CC CCS (recirculating cooling)':'Natural Gas', \n",
    "\n",
    "    'Coal CCS (recirculating cooling)': 'Coal',\n",
    "    'Coal CCS (dry cooling)': 'Coal',\n",
    "    \n",
    "    'Solar PV': 'Solar PV',\n",
    "    'Solar CSP (dry-hybrid cooling)': 'Solar CSP',\n",
    "    'Solar CSP (recirculating cooling)': 'Solar CSP',\n",
    "    'Wind': 'Wind', \n",
    "    'Offshore Wind':'Offshore Wind', \n",
    "    'Nuclear SMR (recirculating cooling)': 'Nuclear', \n",
    "    \n",
    "    'Biomass (recirculating cooling)': 'Biomass',\n",
    "    'Biomass (dry cooling)': 'Biomass',\n",
    "    'Biomass CCS (dry cooling)': 'Biomass',\n",
    "    'Biomass CCS (recirculating cooling)': 'Biomass',\n",
    "    'Biomass IGCC CCS (dry cooling)': 'Biomass',\n",
    "    'Biomass IGCC CCS (recirculating cooling)': 'Biomass',\n",
    "    'Biomass IGCC CCS (seawater cooling)': 'Biomass',\n",
    "    \n",
    "    'Geothermal (recirculating cooling)': 'Geothermal'}\n",
    "\n",
    "# list of column names to keep in output file\n",
    "col_list = ['scenario',\n",
    "             'region_name',\n",
    "             'tech_name',\n",
    "             'tech_name_simple',\n",
    "             'cerf_sited',\n",
    "             'sited_year',\n",
    "             'retirement_year',\n",
    "             'unit_size_mw',\n",
    "             'xcoord',\n",
    "             'ycoord'] \n",
    "\n",
    "# list of scenario names\n",
    "scenario_list = ['business_as_usual_ira_ccs_climate', 'net_zero_ira_ccs_climate']"
   ]
  },
  {
   "cell_type": "markdown",
   "id": "b9d56b3a-0df2-466a-a5fb-28770d2aa854",
   "metadata": {},
   "source": [
    "### Data Paths"
   ]
  },
  {
   "cell_type": "code",
   "execution_count": null,
   "id": "ad01529b-5003-4534-882a-3d6ffc394be5",
   "metadata": {},
   "outputs": [],
   "source": [
    "# data dir\n",
    "data_dir = os.path.join(os.path.dirname(os.getcwd()), 'data', 'input_data')\n",
    "\n",
    "# output figure dir\n",
    "fig_dir = os.path.join(os.path.dirname(os.getcwd()), 'figures')\n",
    "\n",
    "# infrastructure siting output csv\n",
    "infrastucture_path = os.path.join(data_dir, 'infrastructure_data_csv', 'infrastructure_data_2050.csv')\n",
    "\n",
    "godeeep_dir = '/Volumes/godeeep/CERF/runs/'\n",
    "\n",
    "# net zero 2050 scenario 1km results\n",
    "nz_native_1km = os.path.join(godeeep_dir, 'net_zero_ira_ccs_climate/output/native_cerf_output/2050/WECC_TOTAL/cerf_output_2050_wecc.csv')\n",
    "\n",
    "# net zero 2050 power plant results\n",
    "nz_plant = os.path.join(godeeep_dir,'net_zero_ira_ccs_climate/output/cerf_for_gridview/2050/power_plant_sitings/cerf_for_gv_net_zero_ira_ccs_climate_2050.csv')\n",
    "\n",
    "# bau 2050\n",
    "bau_native_1km = os.path.join(godeeep_dir, 'business_as_usual_ira_ccs_climate/output/native_cerf_output/2050/WECC_TOTAL/cerf_output_2050_wecc.csv')\n",
    "bau_plant = os.path.join(godeeep_dir,'business_as_usual_ira_ccs_climate/output/cerf_for_gridview/2050/power_plant_sitings/cerf_for_gv_business_as_usual_ira_ccs_climate_2050.csv')\n"
   ]
  },
  {
   "cell_type": "markdown",
   "id": "02fa50c4-2ea5-4bda-8dfd-4060e94540b3",
   "metadata": {},
   "source": [
    "## Process Data"
   ]
  },
  {
   "cell_type": "markdown",
   "id": "a1197b62-7692-4102-9f53-b67bfab35e50",
   "metadata": {},
   "source": [
    "### Collect and process Net Zero Data"
   ]
  },
  {
   "cell_type": "code",
   "execution_count": null,
   "id": "883c3007-3716-4029-80ae-508d21e93f1b",
   "metadata": {},
   "outputs": [],
   "source": [
    "# read in 1km file\n",
    "df = pd.read_csv(nz_native_1km)\n",
    "\n",
    "# remove non-CERF sited items\n",
    "df = df[~df.tech_id.isna()]\n",
    "\n",
    "# assign whether the plant is CERF sited, the scenario name, and map to simple naming convention\n",
    "df['cerf_sited'] = 1\n",
    "df['scenario'] = 'net_zero_ira_ccs_climate'\n",
    "df['tech_name_simple'] = df['tech_name']\n",
    "df['tech_name_simple'] = df['tech_name_simple'].map(tech_rename_dict).map(simple_map)\n",
    "\n",
    "# read in plant level file\n",
    "gv_df = pd.read_csv(nz_plant)\n",
    "\n",
    "# remove CERF sited items\n",
    "gv_df = gv_df[gv_df.tech_id.isna()]\n",
    "\n",
    "# remove facilities without coordinates\n",
    "gv_df = gv_df[~gv_df.xcoord.isna()]\n",
    "\n",
    "# assign whether the plant is CERF sited, the scenario name, and map to simple naming convention\n",
    "gv_df['cerf_sited'] = 0\n",
    "gv_df['scenario'] = 'net_zero_ira_ccs_climate'\n",
    "gv_df['tech_name_simple'] = gv_df['tech_name']\n",
    "\n",
    "# combine the files back together\n",
    "net_zero_df = pd.concat([df, gv_df])\n",
    "\n",
    "# reduce to columns of interest\n",
    "net_zero_df = net_zero_df[col_list]"
   ]
  },
  {
   "cell_type": "markdown",
   "id": "451b93fa-fb09-4b4e-bd12-f5a505bbf0cd",
   "metadata": {},
   "source": [
    "### Collect and process Business-as-Usual Data"
   ]
  },
  {
   "cell_type": "code",
   "execution_count": null,
   "id": "d0224dfd-4369-4932-8e94-561c0a169542",
   "metadata": {},
   "outputs": [],
   "source": [
    "# read in 1km file\n",
    "df = pd.read_csv(bau_native_1km)\n",
    "\n",
    "# remove non-CERF sited items\n",
    "df = df[~df.tech_id.isna()]\n",
    "\n",
    "# assign whether the plant is CERF sited, the scenario name, and map to simple naming convention\n",
    "df['cerf_sited'] = 1\n",
    "df['scenario'] = 'business_as_usual_ira_ccs_climate'\n",
    "df['tech_name_simple'] = df['tech_name']\n",
    "df['tech_name_simple'] = df['tech_name_simple'].map(tech_rename_dict).map(simple_map)\n",
    "\n",
    "# read in plant level file\n",
    "gv_df = pd.read_csv(bau_plant)\n",
    "\n",
    "# remove CERF sited items\n",
    "gv_df = gv_df[gv_df.tech_id.isna()]\n",
    "\n",
    "# remove facilities without coordinates\n",
    "gv_df = gv_df[~gv_df.xcoord.isna()]\n",
    "\n",
    "# assign whether the plant is CERF sited, the scenario name, and map to simple naming convention\n",
    "gv_df['cerf_sited'] = 0\n",
    "gv_df['scenario'] = 'business_as_usual_ira_ccs_climate'\n",
    "gv_df['tech_name_simple'] = gv_df['tech_name']\n",
    "\n",
    "# combine the files back together\n",
    "bau_df = pd.concat([df, gv_df])\n",
    "\n",
    "# reduce to columns of interest\n",
    "bau_df = bau_df[col_list]"
   ]
  },
  {
   "cell_type": "markdown",
   "id": "2e55b48c-2477-4a22-9ca9-3d0b2437c871",
   "metadata": {},
   "source": [
    "### Combine Net Zero and Business-as-usual data"
   ]
  },
  {
   "cell_type": "code",
   "execution_count": null,
   "id": "9c6996fe-861e-45cb-ae50-e2fb3e243ec4",
   "metadata": {},
   "outputs": [],
   "source": [
    "output_df = pd.concat([net_zero_df, bau_df])\n",
    "\n",
    "# convert sited_year to an integer\n",
    "output_df['sited_year'] = output_df['sited_year'].astype(int)\n",
    "\n",
    "# consolidate solar naming convention\n",
    "output_df['tech_name_simple'].replace('Solar_CSP', 'Solar CSP', inplace=True)\n",
    "output_df['tech_name_simple'].replace('Solar', 'Solar PV', inplace=True)\n",
    "\n",
    "# save to file\n",
    "output_df.to_csv(infrastucture_path, index=False)"
   ]
  }
 ],
 "metadata": {
  "kernelspec": {
   "display_name": "Python 3 (ipykernel)",
   "language": "python",
   "name": "python3"
  },
  "language_info": {
   "codemirror_mode": {
    "name": "ipython",
    "version": 3
   },
   "file_extension": ".py",
   "mimetype": "text/x-python",
   "name": "python",
   "nbconvert_exporter": "python",
   "pygments_lexer": "ipython3",
   "version": "3.11.0"
  }
 },
 "nbformat": 4,
 "nbformat_minor": 5
}
