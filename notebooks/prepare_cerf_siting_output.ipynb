{
 "cells": [
  {
   "cell_type": "markdown",
   "id": "451aad66-208d-4d91-a046-4d93f70f7887",
   "metadata": {},
   "source": [
    "# Prepare CERF Power Plant Siting Output"
   ]
  },
  {
   "cell_type": "markdown",
   "id": "b0a61890-597e-4a22-bf46-4dac96726464",
   "metadata": {},
   "source": [
    "This notebook reads in CERF power plant siting output results for both the business-as-usual and net zero scenarios from the GODEEEP project experiment. Power plant technologies are combined into a single results file and simplified for processing in subsequent notebooks."
   ]
  },
  {
   "cell_type": "markdown",
   "id": "d4a12ac7-ba32-45d3-abf4-a22c66172056",
   "metadata": {},
   "source": [
    "## Data Requirements\n",
    "\n",
    "This notebook relies on power plant siting data outputs from the GODEEEP experiment. Please extract the downloaded data inside a folder called `power_plant_siting_data` in the `data/input_data` directory of this repository as the paths in this notebook are set to that expectation.\n",
    "\n",
    "**Dataset Title:** Power Plant Siting Results for GODEEEP\n",
    "\n",
    "**Description from source:** This dataset contains power plant infrastructure siting information modeled by the Capacity Expansion Regional Feasibility (CERF) model for the GODEEEP project for the purpose of studying power plant landscape evolution under alternative capacity expansion scenarios. \n",
    "\n",
    "**Download Link**: https://doi.org/10.5281/zenodo.13695663 \n",
    "\n",
    "**Reference:**\n",
    "> Mongird, K., & Thurber, T. (2024). Power Plant Siting Results for GODEEEP (1.0) [Data set]. Zenodo. https://doi.org/10.5281/zenodo.13695663 \n"
   ]
  },
  {
   "cell_type": "markdown",
   "id": "39084a20-952f-4578-96d9-0b7c4892d7f1",
   "metadata": {},
   "source": [
    "### Imports"
   ]
  },
  {
   "cell_type": "code",
   "execution_count": null,
   "id": "8b0bca82-19bb-4972-a869-939efb36d6b9",
   "metadata": {},
   "outputs": [],
   "source": [
    "import pandas as pd\n",
    "import os"
   ]
  },
  {
   "cell_type": "markdown",
   "id": "b9d56b3a-0df2-466a-a5fb-28770d2aa854",
   "metadata": {},
   "source": [
    "### Data Paths"
   ]
  },
  {
   "cell_type": "code",
   "execution_count": null,
   "id": "1813e5f8-0c85-4dcf-8cb5-efca5f7db4f0",
   "metadata": {},
   "outputs": [],
   "source": [
    "# data dir\n",
    "data_dir = os.path.join(os.path.dirname(os.getcwd()), 'data', 'input_data')\n",
    "\n",
    "# net zero cerf siting results\n",
    "net_zero_1km_path = os.path.join(data_dir,'power_plant_siting_data', 'power_plant_additions_1km_net_zero.csv')\n",
    "\n",
    "# business-as-usual cerf siting results\n",
    "bau_1km_path = os.path.join(data_dir, 'power_plant_siting_data',  'power_plant_additions_1km_bau.csv')\n",
    "\n",
    "# net zero power plants\n",
    "net_zero_plants_path = os.path.join(data_dir, 'power_plant_siting_data',  'power_plants_net_zero.csv')\n",
    "\n",
    "# business-as-usual power plants\n",
    "bau_plants_path = os.path.join(data_dir, 'power_plant_siting_data',  'power_plants_bau.csv')\n",
    "\n",
    "# infrastructure siting output csv\n",
    "infrastucture_output_path = os.path.join(data_dir, 'infrastructure_data_csv', 'infrastructure_data.csv')"
   ]
  },
  {
   "cell_type": "markdown",
   "id": "02fa50c4-2ea5-4bda-8dfd-4060e94540b3",
   "metadata": {},
   "source": [
    "## Process Data"
   ]
  },
  {
   "cell_type": "code",
   "execution_count": null,
   "id": "5355f47f-aa5b-459a-9868-4d10ec37334a",
   "metadata": {},
   "outputs": [],
   "source": [
    "# list of columns to keep in output\n",
    "col_list = ['scenario', 'region_name', 'technology', 'technology_simple', \n",
    "            'cerf_sited', 'sited_year', 'retirement_year', 'unit_size_mw', \n",
    "            'xcoord', 'ycoord']"
   ]
  },
  {
   "cell_type": "markdown",
   "id": "a1197b62-7692-4102-9f53-b67bfab35e50",
   "metadata": {},
   "source": [
    "### Collect and process Net Zero Data"
   ]
  },
  {
   "cell_type": "code",
   "execution_count": null,
   "id": "02713469-8fa1-49df-ae1a-7c0b13c14dc3",
   "metadata": {},
   "outputs": [],
   "source": [
    "# read in 1km file\n",
    "net_zero_1km_df = pd.read_csv(net_zero_1km_path)\n",
    "\n",
    "# assign that plant is CERF sited\n",
    "net_zero_1km_df['cerf_sited'] = 1\n",
    "\n",
    "# read in plant level file\n",
    "net_zero_plants_df = pd.read_csv(net_zero_plants_path)\n",
    "\n",
    "# remove CERF sited items\n",
    "net_zero_plants_df = net_zero_plants_df[net_zero_plants_df.cerf_sited == 0]\n",
    "\n",
    "# combine the files together\n",
    "net_zero_df = pd.concat([net_zero_1km_df, net_zero_plants_df])\n",
    "\n",
    "# reduce to columns of interest\n",
    "net_zero_df = net_zero_df[col_list]"
   ]
  },
  {
   "cell_type": "markdown",
   "id": "451b93fa-fb09-4b4e-bd12-f5a505bbf0cd",
   "metadata": {},
   "source": [
    "### Collect and process Business-as-Usual Data"
   ]
  },
  {
   "cell_type": "code",
   "execution_count": null,
   "id": "d0224dfd-4369-4932-8e94-561c0a169542",
   "metadata": {},
   "outputs": [],
   "source": [
    "# read in 1km file\n",
    "bau_1km_df = pd.read_csv(bau_1km_path)\n",
    "\n",
    "# assign that plant is CERF sited\n",
    "bau_1km_df['cerf_sited'] = 1\n",
    "\n",
    "# read in plant level file\n",
    "bau_plants_df = pd.read_csv(bau_plants_path)\n",
    "\n",
    "# remove CERF sited items\n",
    "bau_plants_df = bau_plants_df[bau_plants_df.cerf_sited == 0]\n",
    "\n",
    "# combine the files together\n",
    "bau_df = pd.concat([bau_1km_df, bau_plants_df])\n",
    "\n",
    "# reduce to columns of interest\n",
    "bau_df = bau_df[col_list]"
   ]
  },
  {
   "cell_type": "markdown",
   "id": "2e55b48c-2477-4a22-9ca9-3d0b2437c871",
   "metadata": {},
   "source": [
    "### Combine Net Zero and Business-as-usual data"
   ]
  },
  {
   "cell_type": "code",
   "execution_count": null,
   "id": "9c6996fe-861e-45cb-ae50-e2fb3e243ec4",
   "metadata": {},
   "outputs": [],
   "source": [
    "# combine scenario data\n",
    "output_df = pd.concat([net_zero_df, bau_df])\n",
    "\n",
    "# save to file\n",
    "output_df.to_csv(infrastucture_output_path, index=False)"
   ]
  }
 ],
 "metadata": {
  "kernelspec": {
   "display_name": "Python 3 (ipykernel)",
   "language": "python",
   "name": "python3"
  },
  "language_info": {
   "codemirror_mode": {
    "name": "ipython",
    "version": 3
   },
   "file_extension": ".py",
   "mimetype": "text/x-python",
   "name": "python",
   "nbconvert_exporter": "python",
   "pygments_lexer": "ipython3",
   "version": "3.11.0"
  }
 },
 "nbformat": 4,
 "nbformat_minor": 5
}
