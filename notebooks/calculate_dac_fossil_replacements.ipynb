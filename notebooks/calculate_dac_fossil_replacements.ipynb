{
 "cells": [
  {
   "cell_type": "markdown",
   "id": "5eb97914-d7c0-4fdb-a035-433332b596e9",
   "metadata": {},
   "source": [
    "# Calculate how many federally-identified DACs see both new renewable investment and retirement of fossil fuel resources\n",
    "\n",
    "### Overview\n",
    "\n",
    "This notebook determines how many disadvantaged communities (DACs) in the western US see both fossil fuel generation retirement by 2050 and new renewable infrastruture based on projected power plant siting and retirement results.\n",
    "\n",
    "### Data Requirements\n",
    "\n",
    "This notebook relies on the data outputs from the `prepare_cerf_siting_output.ipynb` notebooks. That notebook has been pre-run for convenience and the data files referenced in this notebook are found in the `data/input_data` folder.\n",
    "\n",
    "The US Center for Environmental Quality (CEQ) Disadvantaged Community shapefile must also be downloaded prior to running this notebook as we do not provide the source data directly. The geospatial shapefile of DAC areas can be downloaded here: https://static-data-screeningtool.geoplatform.gov/data-versions/1.0/data/score/downloadable/1.0-shapefile-codebook.zip. Please extract the downloaded data inside the `data/input_data` directory of this repository as the paths in this notebook are set to that expectation.\n",
    "\n",
    "* **Source Data Title:** Climate and Economic Justice Screening Tool (CEJST)\n",
    "* **Description from Source:** The tool highlights disadvantaged census tracts across all 50 states, the District of Columbia, and the U.S. territories. Communities are considered disadvantaged: If they are in census tracts that meet the thresholds for at least one of the tool’s categories of burden, or If they are on land within the boundaries of Federally Recognized Tribes\n",
    "* **Source URL:** https://static-data-screeningtool.geoplatform.gov/data-versions/1.0/data/score/downloadable/1.0-shapefile-codebook.zip\n",
    "* **Date Accessed:** 07/25/24\n",
    "* **Citation:** White House Council on Environmental Quality, 2022. Climate and Economic Justice Screening Tool (CEJST). https://static-data-screeningtool.geoplatform.gov/data-versions/1.0/data/score/downloadable/1.0-shapefile-codebook.zip."
   ]
  },
  {
   "cell_type": "markdown",
   "id": "32ddd2c1-3a0b-4e17-9064-7c67ffd19485",
   "metadata": {},
   "source": [
    "## Imports"
   ]
  },
  {
   "cell_type": "code",
   "execution_count": 11,
   "id": "b94d7756-e24e-49cc-b4dc-a8fb0dcc7b6b",
   "metadata": {},
   "outputs": [],
   "source": [
    "import pandas as pd\n",
    "import geopandas as gpd\n",
    "import numpy as np\n",
    "import shapely\n",
    "from shapely import Point\n",
    "\n",
    "import matplotlib.pyplot as plt\n",
    "\n",
    "import os\n",
    "from pathlib import Path"
   ]
  },
  {
   "cell_type": "markdown",
   "id": "4d241a8c-2ca2-4407-95c5-df30322783e7",
   "metadata": {},
   "source": [
    "### Collect Data Paths"
   ]
  },
  {
   "cell_type": "code",
   "execution_count": 12,
   "id": "1e250a21-311b-4bec-ac12-6bc7df042fef",
   "metadata": {},
   "outputs": [],
   "source": [
    "# data dir\n",
    "data_dir = os.path.join(os.path.dirname(os.getcwd()), 'data', 'input_data')\n",
    "\n",
    "# output data dir\n",
    "output_dir = os.path.join(os.path.dirname(os.getcwd()), 'data', 'output_data')\n",
    "\n",
    "# infrastructure siting output csv\n",
    "infrastucture_path = os.path.join(data_dir, 'infrastructure_data_csv', f'infrastructure_data.csv')\n",
    "\n",
    "# US CEQ DAC shapefile\n",
    "dac_shp_path = os.path.join(data_dir, \"1.0-shapefile-codebook\", 'usa', 'usa.shp')\n",
    "\n",
    "# dac analysis file output path\n",
    "output_file_path = os.path.join(output_dir,  f'dac_fossil_retire_analysis_2050.csv')"
   ]
  },
  {
   "cell_type": "markdown",
   "id": "8651eefe-9f00-441e-b6a0-6ec998c3caa0",
   "metadata": {},
   "source": [
    "### Functions"
   ]
  },
  {
   "cell_type": "code",
   "execution_count": 13,
   "id": "5f4b171b-9161-4b29-8f91-3c8a91cd7062",
   "metadata": {},
   "outputs": [],
   "source": [
    "def results_to_geodataframe(df, crs = \"ESRI:102003\"):\n",
    "    \"\"\" \n",
    "    Takes a pandas DataFrame with x and y coordinates as input and \n",
    "    converts to a GeoPandas GeodataFrame. Coordinates in DataFrame are expected to\n",
    "    follow the ESRI:102003 albers equal area conic coordinate referece system.\n",
    "    x-coordinate column should be called 'xcoord', y-coordinate column should be\n",
    "    called 'ycoord'\n",
    "\n",
    "    :param df:        input Pandas DataFrame with x/y coordinates\n",
    "    :type df:         Pandas DataFrame\n",
    "    \n",
    "    :param crs:       Coordinate reference system to use for GeoDataFrame\n",
    "    :type crs:        str\n",
    "    \n",
    "    \"\"\"\n",
    "    \n",
    "    # create geometry column from coordinate fields\n",
    "    geometry = [Point(xy) for xy in zip(df['xcoord'], df['ycoord'])]\n",
    "    \n",
    "    gdf = gpd.GeoDataFrame(df, crs=crs, geometry=geometry)\n",
    "    \n",
    "    return gdf\n",
    "\n",
    "def calculate_fossil_replacements(dac_shp, renewable_shp, fossil_retire_shp):\n",
    "    \"\"\"\n",
    "    Calculates which DACs see both new renewable investment and fossil fuel retirements. Returns\n",
    "    a geopandas geodataframe of DAC communities that meet criteria and the fraction of DACs that\n",
    "    saw renewable investment that also saw fossil retirements. Requires all geodataframes to be \n",
    "    under the same projections.\n",
    "    \n",
    "    :param dac_shp:        input GeoPandas GeoDataFrame of DAC community polygons\n",
    "    :type dac_shp:         Geopandas GeoDataFrame\n",
    "    \n",
    "    :param renewable_shp:        input GeoPandas GeoDataFrame of point locations of new renewable power plants\n",
    "    :type renewable_shp:         Geopandas GeoDataFrame\n",
    "\n",
    "    :param fossil_retire_shp:        input GeoPandas GeoDataFrame of point locations of retired fossil power plants\n",
    "    :type fossil_retire_shp:         Geopandas GeoDataFrame\n",
    "    \"\"\"\n",
    "    \n",
    "    \n",
    "    dac_fossil_retire = gpd.sjoin(left_df=dac_shp , right_df=fossil_retire_shp, how=\"left\", predicate=\"intersects\") \n",
    "\n",
    "    # drop rows that don't intersect\n",
    "    dac_fossil_retire = dac_fossil_retire[~dac_fossil_retire.xcoord.isna()].copy()\n",
    "\n",
    "    # columns to keep\n",
    "    column_keep = ['GEOID10','SF', 'CF', 'geometry']\n",
    "\n",
    "    # remove unnecessary columns\n",
    "    dac_fossil_retire = dac_fossil_retire[column_keep]\n",
    "\n",
    "    # remove duplicate rows when more than one plant intersected with a DAC\n",
    "    dac_fossil_retire = dac_fossil_retire.drop_duplicates()\n",
    "\n",
    "    # join renewable sitings with dac fossil retire polygons\n",
    "    dac_renewables = gpd.sjoin(left_df=dac_fossil_retire , right_df=renewable_shp, how=\"left\", predicate=\"intersects\") \n",
    "\n",
    "    # drop rows that don't intersect\n",
    "    dac_renewables = dac_renewables[~dac_renewables.xcoord.isna()].copy()\n",
    "    \n",
    "    # remove unnecessary columns\n",
    "    dac_renewables = dac_renewables[column_keep]\n",
    "    \n",
    "    # remove duplicate rows when more than one plant intersected with a DAC\n",
    "    dac_renewables = dac_renewables.drop_duplicates()\n",
    "\n",
    "    # calculate percentage of DACs that see renewable sitings that also see retirements\n",
    "    fraction = len(dac_renewables) / len(dac_fossil_retire)\n",
    "\n",
    "    return dac_renewables, fraction"
   ]
  },
  {
   "cell_type": "markdown",
   "id": "4439edff-70f9-4cd8-a3f3-ac8687e68b5b",
   "metadata": {},
   "source": [
    "# Analysis"
   ]
  },
  {
   "cell_type": "markdown",
   "id": "8837630b-41b7-4ea4-a07c-3ba28f91b8d3",
   "metadata": {},
   "source": [
    "### Collect Infrastructure Data"
   ]
  },
  {
   "cell_type": "code",
   "execution_count": 14,
   "id": "5f8a6246-15d4-460e-8a55-9a0994b869ba",
   "metadata": {},
   "outputs": [],
   "source": [
    "# collect prepared CERF infrastructure siting data\n",
    "df = pd.read_csv(infrastucture_path)"
   ]
  },
  {
   "cell_type": "markdown",
   "id": "99b17453-1e51-4394-9c8b-fd9a2d78c15b",
   "metadata": {},
   "source": [
    "#### Prepare Power Plant Sitings & Retirements Under Each Scenario"
   ]
  },
  {
   "cell_type": "code",
   "execution_count": 6,
   "id": "4e08b8c1-132d-4081-8f18-398d8c679f56",
   "metadata": {},
   "outputs": [],
   "source": [
    "# year of analysis\n",
    "year = 2050\n",
    "\n",
    "# fossil generation resources\n",
    "fossil_plants = ['Coal', 'Natural Gas', 'Oil']\n",
    "\n",
    "# renewable_plants\n",
    "renewable_plants = ['Solar CSP', 'Solar PV', 'Wind']\n",
    "\n",
    "# reduce to only include sitings up to year of interest\n",
    "df = df[df.sited_year <= year]\n",
    "\n",
    "# create a dataframe of retired fossil plants for the net zero scenario\n",
    "df_nz_retire = df[(df.scenario == 'net_zero_ira_ccs_climate') & (df.cerf_sited == 0) & (df.retirement_year <= year) & (df.technology_simple.isin(fossil_plants))].copy()\n",
    "\n",
    "# create a dataframe of renewable cerf power plant sitings for the net zero scenario\n",
    "df_nz_new = df[(df.scenario == 'net_zero_ira_ccs_climate') & (df.cerf_sited == 1) & (df.technology_simple.isin(renewable_plants))].copy()\n",
    "\n",
    "# create a dataframe of retired fossil plants for the business-as-usual scenario\n",
    "df_bau_retire = df[(df.scenario == 'business_as_usual_ira_ccs_climate') & (df.cerf_sited == 0) & (df.retirement_year <= year) & (df.technology_simple.isin(fossil_plants))].copy()\n",
    "\n",
    "# create a dataframe of renewable cerf power plant sitings for the business-as-usual scenario\n",
    "df_bau_new = df[(df.scenario == 'business_as_usual_ira_ccs_climate') & (df.cerf_sited == 1) & (df.technology_simple.isin(renewable_plants))].copy()"
   ]
  },
  {
   "cell_type": "markdown",
   "id": "29b484e0-9bed-4fbb-9175-35b6fb34c44a",
   "metadata": {},
   "source": [
    "#### Convert to geodataframe"
   ]
  },
  {
   "cell_type": "code",
   "execution_count": 7,
   "id": "ed17d774-336f-49e5-8b43-5c8af62a5dd4",
   "metadata": {},
   "outputs": [],
   "source": [
    "# net zero\n",
    "gdf_nz_retire = results_to_geodataframe(df_nz_retire, crs = \"ESRI:102003\")\n",
    "gdf_nz_renewable = results_to_geodataframe(df_nz_new, crs = \"ESRI:102003\")\n",
    "\n",
    "# business-as-usual\n",
    "gdf_bau_retire = results_to_geodataframe(df_bau_retire, crs = \"ESRI:102003\")\n",
    "gdf_bau_renewable = results_to_geodataframe(df_bau_new, crs = \"ESRI:102003\")"
   ]
  },
  {
   "cell_type": "markdown",
   "id": "9ab9b797-f026-422b-b473-6346243009e0",
   "metadata": {},
   "source": [
    "### Prepare DAC Geodata"
   ]
  },
  {
   "cell_type": "code",
   "execution_count": 8,
   "id": "35b66121-7e94-4fa1-9b2a-36d40c0502b4",
   "metadata": {},
   "outputs": [],
   "source": [
    "# read in DAC shapefile\n",
    "dac_shp = gpd.read_file(dac_shp_path)\n",
    "\n",
    "# select communities that are identified as disadvantaged\n",
    "dac_shp = dac_shp[dac_shp['SN_C'] == 1]\n",
    "\n",
    "# select Western US states only\n",
    "dac_shp = dac_shp[dac_shp.SF.isin(['California', 'Oregon', 'Washington', 'Idaho', 'Montana', \n",
    "                                   'Nevada', 'Utah', 'Arizona', 'New Mexico', 'Colorado', 'Wyoming'])].copy()\n",
    "\n",
    "# convert to the appropriate crs\n",
    "dac_shp.to_crs(\"ESRI:102003\", inplace=True)"
   ]
  },
  {
   "cell_type": "markdown",
   "id": "e6ef3d6a-ebe1-4f2c-8aaf-5324de91f019",
   "metadata": {},
   "source": [
    "### Identify DACs that meet criteria"
   ]
  },
  {
   "cell_type": "code",
   "execution_count": 9,
   "id": "26acb499-4564-470a-832c-534de287c6c9",
   "metadata": {},
   "outputs": [
    {
     "name": "stdout",
     "output_type": "stream",
     "text": [
      "In the net zero scenario there are 49 DACs that meet the criteria. 45.0% of DACs that see fossil retirements also see renewables\n",
      "In the bau scenario there are 42 DACs that meet the criteria. 39.0% of DACs that see fossil retirements also see renewables\n"
     ]
    }
   ],
   "source": [
    "# net zero scenario\n",
    "nz_output, nz_fraction = calculate_fossil_replacements(dac_shp, gdf_nz_renewable, gdf_nz_retire)\n",
    "print(f'In the net zero scenario there are {len(nz_output)} DACs that meet the criteria. {round(nz_fraction, 2)*100}% of DACs that see fossil retirements also see renewables')\n",
    "\n",
    "# business-as-usual scenario\n",
    "bau_output, bau_fraction = calculate_fossil_replacements(dac_shp, gdf_bau_renewable, gdf_bau_retire)\n",
    "print(f'In the bau scenario there are {len(bau_output)} DACs that meet the criteria. {round(bau_fraction, 2)*100}% of DACs that see fossil retirements also see renewables')"
   ]
  },
  {
   "cell_type": "markdown",
   "id": "47b6875b-81b8-4f54-bd57-69596302ad98",
   "metadata": {},
   "source": [
    "### Combine DataFrames and Save Output"
   ]
  },
  {
   "cell_type": "code",
   "execution_count": 10,
   "id": "5c8e4391-2602-4c8e-b124-9cacdacc0bb1",
   "metadata": {},
   "outputs": [],
   "source": [
    "column_rename = {'GEOID10': 'census_tract_id', 'SF':'state_name', 'CF':'county_name'}\n",
    "\n",
    "nz_output['scenario'] = 'net_zero_ira_ccs_climate'\n",
    "bau_output['scenario'] = 'business_as_usual_ira_ccs_climate'\n",
    "\n",
    "output_df = pd.concat([nz_output, bau_output]).rename(columns=column_rename).drop(['geometry'], axis=1)\n",
    "\n",
    "output_df.to_csv(output_file_path, index=False)"
   ]
  }
 ],
 "metadata": {
  "kernelspec": {
   "display_name": "Python 3 (ipykernel)",
   "language": "python",
   "name": "python3"
  },
  "language_info": {
   "codemirror_mode": {
    "name": "ipython",
    "version": 3
   },
   "file_extension": ".py",
   "mimetype": "text/x-python",
   "name": "python",
   "nbconvert_exporter": "python",
   "pygments_lexer": "ipython3",
   "version": "3.11.0"
  }
 },
 "nbformat": 4,
 "nbformat_minor": 5
}
