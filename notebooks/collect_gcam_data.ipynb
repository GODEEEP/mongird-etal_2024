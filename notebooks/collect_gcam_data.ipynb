{
 "cells": [
  {
   "cell_type": "markdown",
   "id": "7c1dd24a-5186-4012-abe8-62ba8d67de82",
   "metadata": {},
   "source": [
    "# Collect GCAM Data\n",
    "\n",
    "This notebook collects and organizes the total generation (MWh) by technology in 2050 under the Clean Grid and Business-as-usual Scenarios"
   ]
  },
  {
   "cell_type": "markdown",
   "id": "75e70721-aff5-4927-8a2a-47b52c3602a4",
   "metadata": {},
   "source": [
    "### Download the GCAM database here: https://zenodo.org/records/8377779"
   ]
  },
  {
   "cell_type": "markdown",
   "id": "1d6ecf47-9031-4e07-9468-868616ee248e",
   "metadata": {},
   "source": [
    "## Steps:\n",
    "\n",
    "1. Download the database linked above to the  `/data/input_data/gcam_data` folder of this repository\n",
    "2. Run the scripts below\n",
    "3. Output file will be saved to `/data/output_data/generation_data`"
   ]
  },
  {
   "cell_type": "markdown",
   "id": "59099560-f1fa-497b-aaa6-b72ccc1c9c94",
   "metadata": {},
   "source": [
    "### Imports"
   ]
  },
  {
   "cell_type": "code",
   "execution_count": 1,
   "id": "6dc5d921-2297-45b0-a54a-d756d7792e79",
   "metadata": {},
   "outputs": [],
   "source": [
    "import gcamreader\n",
    "import numpy as np\n",
    "import pandas as pd\n",
    "import os"
   ]
  },
  {
   "cell_type": "markdown",
   "id": "44c2a832-40fd-432d-b1c3-82e30f3ef422",
   "metadata": {},
   "source": [
    "### Data Paths"
   ]
  },
  {
   "cell_type": "code",
   "execution_count": 2,
   "id": "13f7bb99-f5e1-479b-97b5-f4bd4b743c7f",
   "metadata": {},
   "outputs": [],
   "source": [
    "# set year of analysis\n",
    "year = 2050\n",
    "\n",
    "# data dir\n",
    "data_dir = os.path.join(os.path.dirname(os.getcwd()), 'data', 'input_data')\n",
    "\n",
    "# gcam data dir\n",
    "gcam_data_dir = os.path.join(data_dir, 'gcam_data')\n",
    "\n",
    "# bau gcam database\n",
    "gcam_db_path = os.path.join(gcam_data_dir, 'GODEEEP_GCAM-USA_Pathways')\n",
    "\n",
    "# bau file\n",
    "bau_gcam_db_file = 'Main_database_basexdb_BAU_Climate'\n",
    "\n",
    "# net zero file\n",
    "nz_gcam_db_file = 'Main_database_basexdb_NetZeroNoCCS_Climate'\n",
    "\n",
    "# gcam query path\n",
    "gcam_query_path = os.path.join(data_dir, 'gcam_query_xlm', 'subSetQueries.xml')\n",
    "\n",
    "# output data dir\n",
    "output_dir = os.path.join(os.path.dirname(os.getcwd()), 'data', 'output_data', 'generation_data')\n",
    "\n",
    "# output file path\n",
    "output_path = os.path.join(output_dir, f'gcam_generation_state_tech_{year}.csv')\n",
    "\n",
    "# query name for the generation data\n",
    "generation_query_name = 'elec gen by gen tech and cooling tech (incl cogen)'"
   ]
  },
  {
   "cell_type": "markdown",
   "id": "6420f437-6827-4ac0-90b9-7266b70edbfa",
   "metadata": {},
   "source": [
    "### Settings"
   ]
  },
  {
   "cell_type": "code",
   "execution_count": null,
   "id": "024e3bd2-c6a7-42b2-8219-841a42b895e9",
   "metadata": {},
   "outputs": [],
   "source": [
    "STATE_ABBREVIATIONS_TO_NAMES = {\n",
    "    'AB': 'alberta', 'AK': 'alaska', 'AL': 'alabama', 'AR': 'arkansas', 'AZ': 'arizona',\n",
    "    'CA': 'california', 'BC': 'british_columbia', 'MX': 'mexico',\n",
    "    'CO': 'colorado', 'CT': 'connecticut', 'DC': 'district_of_columbia', 'DE': 'delaware',\n",
    "    'FL': 'florida', 'GA': 'georgia', 'HI': 'hawaii', 'IA': 'iowa', 'ID': 'idaho', 'IL': 'illinois',\n",
    "    'IN': 'indiana', 'KS': 'kansas', 'KY': 'kentucky', 'LA': 'louisiana', 'MA': 'massachusetts',\n",
    "    'MD': 'maryland', 'ME': 'maine', 'MI': 'michigan', 'MN': 'minnesota', 'MO': 'missouri',\n",
    "    'MS': 'mississippi', 'MT': 'montana', 'NC': 'north_carolina', 'ND': 'north_dakota',\n",
    "    'NE': 'nebraska', 'NH': 'new_hampshire', 'NJ': 'new_jersey', 'NM': 'new_mexico', 'NV': 'nevada',\n",
    "    'NY': 'new_york', 'OH': 'ohio', 'OK': 'oklahoma', 'OR': 'oregon', 'PA': 'pennsylvania',\n",
    "    'RI': 'rhode_island', 'SC': 'south_carolina', 'SD': 'south_dakota', 'TN': 'tennessee',\n",
    "    'TX': 'texas', 'UT': 'utah', 'VA': 'virginia', 'VT': 'vermont', 'WA': 'washington',\n",
    "    'WI': 'wisconsin', 'WV': 'west_virginia', 'WY': 'wyoming'\n",
    "}"
   ]
  },
  {
   "cell_type": "markdown",
   "id": "3ecc3d41-381a-4e93-8cc6-6fbe65f88bfb",
   "metadata": {},
   "source": [
    "### Functions"
   ]
  },
  {
   "cell_type": "code",
   "execution_count": 3,
   "id": "f4238d73-f34a-407d-bb29-36eca834ced0",
   "metadata": {},
   "outputs": [],
   "source": [
    "def get_query_by_name(queries, name):\n",
    "    return next((x for x in queries if x.title == name), None)"
   ]
  },
  {
   "cell_type": "markdown",
   "id": "effdbc90-206f-46dd-9a9e-f313cda6dfb0",
   "metadata": {},
   "source": [
    "### Connect and Process GCAM DATA"
   ]
  },
  {
   "cell_type": "markdown",
   "id": "67516df4-4f5f-4918-9cb2-1541dc2a9fb1",
   "metadata": {},
   "source": [
    "##### Step 1. Connect to the GCAM database"
   ]
  },
  {
   "cell_type": "code",
   "execution_count": 4,
   "id": "1544f4c8-216c-4d0f-8eba-e583c615f341",
   "metadata": {},
   "outputs": [
    {
     "name": "stdout",
     "output_type": "stream",
     "text": [
      "Database scenarios: T_03b_NZnoCCS_climate\n",
      "Database scenarios: T_01b_BAU_climate\n"
     ]
    }
   ],
   "source": [
    "# net zero\n",
    "nz_conn = gcamreader.LocalDBConn(gcam_db_path, nz_gcam_db_file)\n",
    "\n",
    "# business-as-usual\n",
    "bau_conn = gcamreader.LocalDBConn(gcam_db_path, bau_gcam_db_file)"
   ]
  },
  {
   "cell_type": "markdown",
   "id": "f11b1156-c41c-44a4-a4e6-9e8dfbafa9bf",
   "metadata": {},
   "source": [
    "##### Step 2. Create a list of queries"
   ]
  },
  {
   "cell_type": "code",
   "execution_count": 7,
   "id": "d6d9caa0-af71-47da-888d-8c8875e7ddc3",
   "metadata": {},
   "outputs": [
    {
     "data": {
      "text/plain": [
       "[<gcamreader.querymi.Query at 0x1054ae450>,\n",
       " <gcamreader.querymi.Query at 0x106683010>,\n",
       " <gcamreader.querymi.Query at 0x137ed8610>,\n",
       " <gcamreader.querymi.Query at 0x137eda690>,\n",
       " <gcamreader.querymi.Query at 0x137ed9b10>,\n",
       " <gcamreader.querymi.Query at 0x137f9b850>,\n",
       " <gcamreader.querymi.Query at 0x137f9bc90>,\n",
       " <gcamreader.querymi.Query at 0x137f9b810>,\n",
       " <gcamreader.querymi.Query at 0x137f9b750>,\n",
       " <gcamreader.querymi.Query at 0x137f9b710>,\n",
       " <gcamreader.querymi.Query at 0x137f9bbd0>,\n",
       " <gcamreader.querymi.Query at 0x137f9b890>,\n",
       " <gcamreader.querymi.Query at 0x137f9b990>,\n",
       " <gcamreader.querymi.Query at 0x137f9b910>,\n",
       " <gcamreader.querymi.Query at 0x137f9bcd0>,\n",
       " <gcamreader.querymi.Query at 0x137f9b690>,\n",
       " <gcamreader.querymi.Query at 0x137f9ba10>,\n",
       " <gcamreader.querymi.Query at 0x137f9bb10>,\n",
       " <gcamreader.querymi.Query at 0x137f9ba50>,\n",
       " <gcamreader.querymi.Query at 0x137f9bad0>,\n",
       " <gcamreader.querymi.Query at 0x137f9bb50>,\n",
       " <gcamreader.querymi.Query at 0x137f9bc10>,\n",
       " <gcamreader.querymi.Query at 0x137f9bd90>,\n",
       " <gcamreader.querymi.Query at 0x137f9bc50>,\n",
       " <gcamreader.querymi.Query at 0x137f9b7d0>,\n",
       " <gcamreader.querymi.Query at 0x137f9b5d0>,\n",
       " <gcamreader.querymi.Query at 0x137f9b590>,\n",
       " <gcamreader.querymi.Query at 0x137f9b610>,\n",
       " <gcamreader.querymi.Query at 0x137f9b790>,\n",
       " <gcamreader.querymi.Query at 0x137f9b9d0>,\n",
       " <gcamreader.querymi.Query at 0x137f9bed0>,\n",
       " <gcamreader.querymi.Query at 0x137f9bd10>,\n",
       " <gcamreader.querymi.Query at 0x137f9bdd0>]"
      ]
     },
     "execution_count": 7,
     "metadata": {},
     "output_type": "execute_result"
    }
   ],
   "source": [
    "# list of queries\\\n",
    "queries = gcamreader.parse_batch_query(gcam_query_path)\n",
    "queries"
   ]
  },
  {
   "cell_type": "markdown",
   "id": "bcb58501-224e-4071-a05b-5e21007be81b",
   "metadata": {},
   "source": [
    "##### Step 3. Collect the generation data"
   ]
  },
  {
   "cell_type": "code",
   "execution_count": 6,
   "id": "1ed4b772-88c1-43ea-9bbc-3292dbad23d1",
   "metadata": {},
   "outputs": [
    {
     "name": "stderr",
     "output_type": "stream",
     "text": [
      "Model interface run failed.\n",
      "Command line: \n",
      "\tjava -cp /Users/mong275/.pyenv/versions/3.11.0/envs/visualization_3.11/lib/python3.11/site-packages/gcamreader/ModelInterface/jars/*:/Users/mong275/.pyenv/versions/3.11.0/envs/visualization_3.11/lib/python3.11/site-packages/gcamreader/ModelInterface/ModelInterface.jar -Xmx4g -Dorg.basex.DBPATH=/Users/mong275/repos/mongird-etal_2024_tbd/data/input_data/gcam_data/GODEEEP_GCAM-USA_Pathways -DModelInterface.SUPPRESS_OUTPUT=True org.basex.BaseX -smethod=csv -scsv=header=yes,format=xquery -i Main_database_basexdb_NetZeroNoCCS_Climate RUN /var/folders/zp/6_04pmq97nq_cq_837pfbx200000gn/T/tmpyylguvot\n",
      "Query string: \n",
      "\t<supplyDemandQuery title=\"elec gen by gen tech and cooling tech (incl cogen)\">\n",
      "        <axis1 name=\"technology\">technology</axis1>\n",
      "        <axis2 name=\"Year\">physical-output[@vintage]</axis2>\n",
      "        <xPath buildList=\"true\" dataName=\"output\" group=\"false\" sumAll=\"false\">*[@type='sector' and (@name='electricity' or \n",
      "            @name='base load generation' or @name='intermediate generation' or @name='subpeak generation' or @name='peak generation' or \n",
      "            @name='industrial energy use')]//\n",
      "            *[@type='subsector']//*[@type='technology' and not (@name='electricity' or @name='elect_td_bld')]/\n",
      "            *[@type='output' (:collapse:) and (@name='electricity' or @name='base load generation' or @name='intermediate generation' or \n",
      "            @name='subpeak generation' or @name='peak generation' or @name='elect_td_bld')]/\n",
      "            physical-output/node()</xPath>\n",
      "        <comments/>\n",
      "        <showAttribute attribute-name=\"year\" level=\"technology\"/>\n",
      "    </supplyDemandQuery>\n",
      "  \n",
      "Model interface stderr output:\n",
      "Stopped at /var/folders/zp/6_04pmq97nq_cq_837pfbx200000gn/T/tmpyylguvot, 1/87:\n",
      "[basex:error] java.lang.ArrayIndexOutOfBoundsException: Index 8 out of bounds for length 8\n"
     ]
    },
    {
     "ename": "CalledProcessError",
     "evalue": "Command '['java', '-cp', '/Users/mong275/.pyenv/versions/3.11.0/envs/visualization_3.11/lib/python3.11/site-packages/gcamreader/ModelInterface/jars/*:/Users/mong275/.pyenv/versions/3.11.0/envs/visualization_3.11/lib/python3.11/site-packages/gcamreader/ModelInterface/ModelInterface.jar', '-Xmx4g', '-Dorg.basex.DBPATH=/Users/mong275/repos/mongird-etal_2024_tbd/data/input_data/gcam_data/GODEEEP_GCAM-USA_Pathways', '-DModelInterface.SUPPRESS_OUTPUT=True', 'org.basex.BaseX', '-smethod=csv', '-scsv=header=yes,format=xquery', '-i', 'Main_database_basexdb_NetZeroNoCCS_Climate', 'RUN', '/var/folders/zp/6_04pmq97nq_cq_837pfbx200000gn/T/tmpyylguvot']' returned non-zero exit status 1.",
     "output_type": "error",
     "traceback": [
      "\u001b[0;31m---------------------------------------------------------------------------\u001b[0m",
      "\u001b[0;31mCalledProcessError\u001b[0m                        Traceback (most recent call last)",
      "Cell \u001b[0;32mIn[6], line 2\u001b[0m\n\u001b[1;32m      1\u001b[0m \u001b[38;5;66;03m# net zero generation data\u001b[39;00m\n\u001b[0;32m----> 2\u001b[0m nz_generation \u001b[38;5;241m=\u001b[39m \u001b[43mnz_conn\u001b[49m\u001b[38;5;241;43m.\u001b[39;49m\u001b[43mrunQuery\u001b[49m\u001b[43m(\u001b[49m\u001b[43mget_query_by_name\u001b[49m\u001b[43m(\u001b[49m\u001b[43mqueries\u001b[49m\u001b[43m,\u001b[49m\u001b[43m \u001b[49m\u001b[43mgeneration_query_name\u001b[49m\u001b[43m)\u001b[49m\u001b[43m)\u001b[49m\n\u001b[1;32m      4\u001b[0m \u001b[38;5;66;03m# bau generation data\u001b[39;00m\n\u001b[1;32m      5\u001b[0m \u001b[38;5;66;03m#bau_generation = bau_conn.runQuery(get_query_by_name(queries, generation_query_name))\u001b[39;00m\n",
      "File \u001b[0;32m~/.pyenv/versions/3.11.0/envs/visualization_3.11/lib/python3.11/site-packages/gcamreader/querymi.py:271\u001b[0m, in \u001b[0;36mLocalDBConn.runQuery\u001b[0;34m(self, query, scenarios, regions, warn_empty)\u001b[0m\n\u001b[1;32m    268\u001b[0m     queryTempFile\u001b[38;5;241m.\u001b[39mwrite(\u001b[38;5;124m\"\u001b[39m\u001b[38;5;124mimport module namespace mi = \u001b[39m\u001b[38;5;124m'\u001b[39m\u001b[38;5;124mModelInterface.ModelGUI2.xmldb.RunMIQuery\u001b[39m\u001b[38;5;124m'\u001b[39m\u001b[38;5;124m;\u001b[39m\u001b[38;5;124m\"\u001b[39m \u001b[38;5;241m+\u001b[39m \u001b[38;5;124m\"\u001b[39m\u001b[38;5;124mmi:runMIQuery(\u001b[39m\u001b[38;5;124m\"\u001b[39m \u001b[38;5;241m+\u001b[39m querystr \u001b[38;5;241m+\u001b[39m \u001b[38;5;124m\"\u001b[39m\u001b[38;5;124m,\u001b[39m\u001b[38;5;124m\"\u001b[39m \u001b[38;5;241m+\u001b[39m xqscen \u001b[38;5;241m+\u001b[39m \u001b[38;5;124m\"\u001b[39m\u001b[38;5;124m,\u001b[39m\u001b[38;5;124m\"\u001b[39m \u001b[38;5;241m+\u001b[39m xqrgn \u001b[38;5;241m+\u001b[39m \u001b[38;5;124m\"\u001b[39m\u001b[38;5;124m)\u001b[39m\u001b[38;5;124m\"\u001b[39m)\n\u001b[1;32m    269\u001b[0m     queryTempFile\u001b[38;5;241m.\u001b[39mclose()\n\u001b[0;32m--> 271\u001b[0m     miout, mierr \u001b[38;5;241m=\u001b[39m \u001b[43m_runmi\u001b[49m\u001b[43m(\u001b[49m\u001b[43mcmd\u001b[49m\u001b[43m,\u001b[49m\u001b[43m \u001b[49m\u001b[43mquery\u001b[49m\u001b[38;5;241;43m.\u001b[39;49m\u001b[43mquerystr\u001b[49m\u001b[43m)\u001b[49m\n\u001b[1;32m    273\u001b[0m     \u001b[38;5;28;01mreturn\u001b[39;00m _parserslt(miout, warn_empty, query\u001b[38;5;241m.\u001b[39mtitle, mierr)\n\u001b[1;32m    275\u001b[0m \u001b[38;5;28;01mfinally\u001b[39;00m:\n\u001b[1;32m    276\u001b[0m     \u001b[38;5;66;03m## clean up the query temp file now that the query has finished running\u001b[39;00m\n",
      "File \u001b[0;32m~/.pyenv/versions/3.11.0/envs/visualization_3.11/lib/python3.11/site-packages/gcamreader/querymi.py:130\u001b[0m, in \u001b[0;36m_runmi\u001b[0;34m(cmd, querystr)\u001b[0m\n\u001b[1;32m    127\u001b[0m \u001b[38;5;28;01mtry\u001b[39;00m:\n\u001b[1;32m    128\u001b[0m     \u001b[38;5;28;01mif\u001b[39;00m sys\u001b[38;5;241m.\u001b[39mhexversion \u001b[38;5;241m>\u001b[39m\u001b[38;5;241m=\u001b[39m v3_5:\n\u001b[1;32m    129\u001b[0m         \u001b[38;5;66;03m# python 3.5 or greater has the new interface\u001b[39;00m\n\u001b[0;32m--> 130\u001b[0m         mireturn \u001b[38;5;241m=\u001b[39m \u001b[43msp\u001b[49m\u001b[38;5;241;43m.\u001b[39;49m\u001b[43mrun\u001b[49m\u001b[43m(\u001b[49m\u001b[43mcmd\u001b[49m\u001b[43m,\u001b[49m\u001b[43m \u001b[49m\u001b[43mstdout\u001b[49m\u001b[38;5;241;43m=\u001b[39;49m\u001b[43msp\u001b[49m\u001b[38;5;241;43m.\u001b[39;49m\u001b[43mPIPE\u001b[49m\u001b[43m,\u001b[49m\u001b[43m \u001b[49m\u001b[43mstderr\u001b[49m\u001b[38;5;241;43m=\u001b[39;49m\u001b[43msp\u001b[49m\u001b[38;5;241;43m.\u001b[39;49m\u001b[43mPIPE\u001b[49m\u001b[43m,\u001b[49m\u001b[43m \u001b[49m\u001b[43mcheck\u001b[49m\u001b[38;5;241;43m=\u001b[39;49m\u001b[38;5;28;43;01mTrue\u001b[39;49;00m\u001b[43m,\u001b[49m\u001b[43m \u001b[49m\u001b[43mencoding\u001b[49m\u001b[38;5;241;43m=\u001b[39;49m\u001b[38;5;124;43m\"\u001b[39;49m\u001b[38;5;124;43mUTF-8\u001b[39;49m\u001b[38;5;124;43m\"\u001b[39;49m\u001b[43m)\u001b[49m\n\u001b[1;32m    131\u001b[0m         miout \u001b[38;5;241m=\u001b[39m mireturn\u001b[38;5;241m.\u001b[39mstdout\n\u001b[1;32m    132\u001b[0m         mierr \u001b[38;5;241m=\u001b[39m mireturn\u001b[38;5;241m.\u001b[39mstderr\n",
      "File \u001b[0;32m~/.pyenv/versions/3.11.0/lib/python3.11/subprocess.py:569\u001b[0m, in \u001b[0;36mrun\u001b[0;34m(input, capture_output, timeout, check, *popenargs, **kwargs)\u001b[0m\n\u001b[1;32m    567\u001b[0m     retcode \u001b[38;5;241m=\u001b[39m process\u001b[38;5;241m.\u001b[39mpoll()\n\u001b[1;32m    568\u001b[0m     \u001b[38;5;28;01mif\u001b[39;00m check \u001b[38;5;129;01mand\u001b[39;00m retcode:\n\u001b[0;32m--> 569\u001b[0m         \u001b[38;5;28;01mraise\u001b[39;00m CalledProcessError(retcode, process\u001b[38;5;241m.\u001b[39margs,\n\u001b[1;32m    570\u001b[0m                                  output\u001b[38;5;241m=\u001b[39mstdout, stderr\u001b[38;5;241m=\u001b[39mstderr)\n\u001b[1;32m    571\u001b[0m \u001b[38;5;28;01mreturn\u001b[39;00m CompletedProcess(process\u001b[38;5;241m.\u001b[39margs, retcode, stdout, stderr)\n",
      "\u001b[0;31mCalledProcessError\u001b[0m: Command '['java', '-cp', '/Users/mong275/.pyenv/versions/3.11.0/envs/visualization_3.11/lib/python3.11/site-packages/gcamreader/ModelInterface/jars/*:/Users/mong275/.pyenv/versions/3.11.0/envs/visualization_3.11/lib/python3.11/site-packages/gcamreader/ModelInterface/ModelInterface.jar', '-Xmx4g', '-Dorg.basex.DBPATH=/Users/mong275/repos/mongird-etal_2024_tbd/data/input_data/gcam_data/GODEEEP_GCAM-USA_Pathways', '-DModelInterface.SUPPRESS_OUTPUT=True', 'org.basex.BaseX', '-smethod=csv', '-scsv=header=yes,format=xquery', '-i', 'Main_database_basexdb_NetZeroNoCCS_Climate', 'RUN', '/var/folders/zp/6_04pmq97nq_cq_837pfbx200000gn/T/tmpyylguvot']' returned non-zero exit status 1."
     ]
    }
   ],
   "source": [
    "# net zero generation data\n",
    "nz_generation = nz_conn.runQuery(get_query_by_name(queries, generation_query_name))\n",
    "\n",
    "# bau generation data\n",
    "#bau_generation = bau_conn.runQuery(get_query_by_name(queries, generation_query_name))"
   ]
  },
  {
   "cell_type": "markdown",
   "id": "a9fb306b-8cfb-4888-85ae-a18ef880118c",
   "metadata": {},
   "source": [
    "##### Step 4. Process Data"
   ]
  },
  {
   "cell_type": "code",
   "execution_count": null,
   "id": "3b56a8e3-ae32-420b-8f99-277e0be20299",
   "metadata": {},
   "outputs": [],
   "source": [
    "EXAJOULES_TO_GIGAWATTS = 277.77777777778 * 1000 / 8760"
   ]
  },
  {
   "cell_type": "markdown",
   "id": "ea0263e7-97d1-4ecb-a67d-37c3ad6536aa",
   "metadata": {},
   "source": [
    "###### Net Zero"
   ]
  },
  {
   "cell_type": "code",
   "execution_count": null,
   "id": "91dab0fb-cca6-460c-9ed4-730d0063f861",
   "metadata": {},
   "outputs": [],
   "source": [
    "generation = nz_gneration\n",
    "\n",
    "generation['vintage'] = generation['technology'].str.slice(-4).astype(int)\n",
    "generation['technology'] = generation['technology'].str.slice(0, -10)\n",
    "generation['subsector.1'] = generation['subsector.1'].str.slice(0, -8)\n",
    "\n",
    "# convert EJ to GW\n",
    "generation['value'] = generation['value'] * EXAJOULES_TO_GIGAWATTS\n",
    "generation = generation.drop(columns=['subsector']).rename(columns={\n",
    "                        'Year': 'year',\n",
    "                        'Units': 'units',\n",
    "                        'value': 'generation_GW',\n",
    "                        'subsector.1': 'subsector',\n",
    "                    })\n",
    "generation = generation[['year', 'vintage', 'region', 'sector', 'subsector', 'technology', 'generation_GW']].reset_index(drop=True)"
   ]
  },
  {
   "cell_type": "code",
   "execution_count": null,
   "id": "bd967edf-aea4-48ec-8102-4596ec568cf6",
   "metadata": {},
   "outputs": [],
   "source": []
  }
 ],
 "metadata": {
  "kernelspec": {
   "display_name": "Python 3 (ipykernel)",
   "language": "python",
   "name": "python3"
  },
  "language_info": {
   "codemirror_mode": {
    "name": "ipython",
    "version": 3
   },
   "file_extension": ".py",
   "mimetype": "text/x-python",
   "name": "python",
   "nbconvert_exporter": "python",
   "pygments_lexer": "ipython3",
   "version": "3.11.0"
  }
 },
 "nbformat": 4,
 "nbformat_minor": 5
}
