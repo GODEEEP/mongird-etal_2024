{
 "cells": [
  {
   "cell_type": "markdown",
   "id": "5eb97914-d7c0-4fdb-a035-433332b596e9",
   "metadata": {},
   "source": [
    "# Calculate Raster Analysis\n",
    "\n",
    "### This notebook calculates the following items referenced in the paper:\n",
    "\n",
    "<b>Disadvantaged Community (DAC) intersections </b>\n",
    "* Amount of land (km-squared) used by new infrastructure under each scenario that intersects with federally-ideantified DACs\n",
    "* Amount of land (km-squared) in each state used by new infrastructure under each scenario that intersects with federally-ideantified DACs\n",
    "* Amount of land (km-squared) used by new infrastructure under each scenario that intersects with federally-ideantified DACs by technology\n",
    "* Amount of land (km-squared) in each state used by new infrastructure under each scenario that intersects with federally-ideantified DACs by technology type\n",
    "\n",
    "<b>Important Farmland</b>\n",
    "* Amount of land (km-squared) used by new infrastructure under each scenario that intersects with USDA-defined Important Farmland\n",
    "* Amount of land (km-squared) in each state used by new infrastructure under each scenario that intersects with USDA-defined Important Farmland\n",
    "* Amount of land (km-squared) used by new infrastructure under each scenario that intersects with USDA-defined Important Farmland by technology\n",
    "* Amount of land (km-squared) in each state used by new infrastructure under each scenario that intersects with USDA-defined Important Farmland by technology type\n",
    "\n",
    "<b>Proximity to Environmental Areas</b>\n",
    "* Fraction of new infrastructure by technology type under each scenario that is within 1, 5, and 10-km of environmental/protected areas\n",
    "* Fraction of new infrastructure by technology type under each scenario that is within 1, 5, and 10-km of environmental/protected areas by state\n"
   ]
  },
  {
   "attachments": {},
   "cell_type": "markdown",
   "id": "38c8c583-7ed4-43bd-a806-4b68267fd6c0",
   "metadata": {},
   "source": [
    "## Raster Data\n",
    "\n",
    "Most of the raster data used for this analysis is from the GRIDCERF geospatial database v1.0.0, accessible at https://zenodo.org/records/6601790. Additional raster data from GRICERF v2.0.0 was used to supplement the dataset, accessible at: https://doi.org/10.57931/2281697.To prepare data for analysis, all raster data is clipped to the western interconnection boundary extent.\n",
    "\n",
    "### Environmental Proximity Raster Data\n",
    "The `west_analysis_combined_environment.tif` raster used for the environmental proximity analysis is a combination of the following raster files from the GRIDCERF database v1.0.0 and supplemented with data files from GRIDCERF v2.0.0:\n",
    "\n",
    "| Suitability Layer | GRIDCERF Raster Name | GRIDCERF version |\n",
    "|-------------------|----------------------|----------------------|\n",
    "|Agricultural Research Service Lands |gridcerf_ars_lands_2020_conus.tif| v1.0.0 |\n",
    "|Bureau of Land Management (BLM) National Landscape Conservation System (NLCS) - National Monuments |gridcerf_blm_nlcs_national_monument_2021_conus.tif | v1.0.0 |\n",
    "|BLM NLCS - Outstanding Natural Areas|gridcerf_blm_nlcs_outstanding_natural_areas_2017_conus.tif|v1.0.0 |\n",
    "|BLM NLCS - Trails Historic West|gridcerf_blm_nlcs_trails_historic_west_buff_1km_2019_conus.tif|v1.0.0 |\n",
    "|BLM NLCS System - Trails Scenic East|gridcerf_blm_nlcs_trails_scenic_east_buff_1km_2019_conus.tif|v1.0.0 |\n",
    "|BLM NLCS System – Wilderness|gridcerf_blm_nlcs_wilderness_2021_conus.tif|v1.0.0 |\n",
    "|BLM NLCS - Wilderness Study Areas|gridcerf_blm_nlcs_wilderness_study_areas_2021_conus.tif|v1.0.0 |\n",
    "|BLM NLCS - Scenic Rivers|gridcerf_blm_scenic_rivers_1km_2009_conus.tif|v1.0.0 |\n",
    "|National Park Service (NPS) Class 1 airsheds|gridcerf_class1_airsheds_2015_conus.tif|v1.0.0 |\n",
    "|BLM NLCS National Conservation Areas|gridcerf_cons_monu_desig_2021_conus.tif|v1.0.0 |\n",
    "|U.S. Fish and Wildlife Service (USFWS) - Critical Habitat|gridcerf_fws_critical_habitat_2019_conus.tif|v1.0.0 |\n",
    "|USFWS - Land Interests|gridcerf_fws_land_interests_2019_conus.tif|v1.0.0 |\n",
    "|USFWS - Lands|gridcerf_fws_lands_2021_conus.tif|v1.0.0 |\n",
    "|USFWS - National Wildlife Refuges|gridcerf_fws_national_wildlife_refuges_2019_conus.tif|v1.0.0 |\n",
    "|USFWS - Special Designation|gridcerf_fws_special_designation_2019_conus.tif|v1.0.0 |\n",
    "|National Land Cover Dataset (NLCD) Wetlands|gridcerf_nlcd_wetlands_1km_2019_conus.tif|v1.0.0 |\n",
    "|NPS Administrative Boundaries|gridcerf_nps_administrative_boundaries_2020_conus.tif|v1.0.0 |\n",
    "|NPS Lands|gridcerf_nps_lands_2019_conus.tif|v1.0.0 |\n",
    "|BLM NLCS - Wild & Scenic Rivers|gridcerf_nwrs_buff_1km_2021_conus.tif|v1.0.0 |\n",
    "|U.S. Forest Service (USFS) Administrative Boundaries|gridcerf_usfs_administrative_boundaries_2021_conus.tif|v1.0.0 |\n",
    "|USFS lands|gridcerf_usfs_lands_2021_conus.tif|v1.0.0 |\n",
    "|U.S. Geological Survey (USGS) National Wilderness Lands|gridcerf_wilderness_lands_2021_conus.tif|v1.0.0 |\n",
    "|USGS Protected Areas of the U.S - Class 1&2|gridcerf_usgs_padus_class_1_to_2_2018_conus.tif|v1.0.0 |\n",
    "|U.S. State Protected Lands|gridcerf_wdpa_state_protected_lands_2021_conus.tif|v1.0.0 |\n",
    "|Nature Conservancy lands|gridcerf_wdpa_tnc_managed_lands_2016_conus.tif|v1.0.0 |\n",
    "|Bureau of ocean energy management offshore areas withdrawn from leasing |gridcerf_offshore_areas_withdrawn_from_leasing.tif|v2.0.0 |\n",
    "|National Oceanic Atmospheric Administration, Marine Sanctuaries|gridcerf_noaa_marine_sanctuaries.tif|v2.0.0 |\n",
    "|NOAA Habitats of Particular Concern|gridcerf_noaa_habitats_of_particular_concern.tif|v2.0.0 |\n",
    "\n",
    "The `west_analysis_combined_environment_1buff.tif`, `west_analysis_combined_environment_5buff.tif`, `west_analysis_combined_environment_10buff.tif` rasters are the `west_analysis_combined_environment.tif` layer with 1, 5, and 10km buffer added, respectively.\n",
    "\n",
    "### Disadvantaged Communities Raster Data\n",
    "\n",
    "The disadvantaged community raster data used in the analysis is from GRIDCERF v2.0.0. the `west_usceq_combined_vulnerable_communities.tif` file is a combination of each of the individual DAC classifications shown below:\n",
    "\n",
    "| Suitability Layer | GRIDCERF Raster Name | GRIDCERF version |\n",
    "|-------------------|----------------------|----------------------|\n",
    "|US CEQ CEJST Climate Disadvantaged Communities |gridcerf_usceq_cejst_exclude_climate_dacs.tif|v2.0.0 |\n",
    "|US CEQ CEJST Energy Disadvantaged Communities |gridcerf_usceq_cejst_exclude_climate_dacs.tif|v2.0.0 |\n",
    "|US CEQ CEJST Health Disadvantaged Communities |gridcerf_usceq_cejst_exclude_climate_dacs.tif|v2.0.0 |\n",
    "|US CEQ CEJST Housing Disadvantaged Communities |gridcerf_usceq_cejst_exclude_climate_dacs.tif|v2.0.0 |\n",
    "|US CEQ CEJST Pollution Disadvantaged Communities |gridcerf_usceq_cejst_exclude_climate_dacs.tif|v2.0.0 |\n",
    "|US CEQ CEJST Transportation Disadvantaged Communities |gridcerf_usceq_cejst_exclude_climate_dacs.tif|v2.0.0 |\n",
    "|US CEQ CEJST Water Disadvantaged Communities |gridcerf_usceq_cejst_exclude_climate_dacs.tif|v2.0.0 |\n",
    "\n",
    "### Important Farmland Raster Data\n",
    "\n",
    "The important farmland raster data used in the analysis is from GRIDCERF v2.0.0. the `west_usda_combined_important_farmland.tif` file is a combination of each of the individual farmland classifications shown below:\n",
    "\n",
    "| Suitability Layer | GRIDCERF Raster Name | GRIDCERF version |\n",
    "|-------------------|----------------------|----------------------|\n",
    "|US Department of Agriculture, Farmland of Local Importance |gridcerf_usda_nrsc_farmland_of_local_importance.tif|v2.0.0 |\n",
    "|US Department of Agriculture, Farmland of State Importance |gridcerf_usda_nrsc_farmland_of_state_importance.tif|v2.0.0 |\n",
    "|US Department of Agriculture, Farmland of Unique Importance  |gridcerf_usda_nrsc_farmland_of_unique_importance.tif|v2.0.0 |\n",
    "|US Department of Agriculture, Prime Farmland |gridcerf_usda_nrsc_prime_farmland_classification.tif|v2.0.0 |\n",
    "\n",
    "\n",
    "<h2> Methodology</h2>\n",
    "\n",
    "To identify how much land used by new power plant infrastructure intersects with areas of interest, we go through the following steps:\n",
    "<ol>\n",
    "    <li> Select power plant sitings for the given scenario that correspond to new infrastructure only. </li>\n",
    "    <li> Extract x and y coordinates for each of the power plants. </li>\n",
    "    <li> For each set of coordinates, determine if the value for the associated 1km grid cell in the raster file of interest is equal to 1 (indicates that that grid cell is positive for the given indicator (e.g., is important farmland), or 0. </li>\n",
    "    <li> Sum the number of power plants that intersect with raster values equal to 1</li>\n",
    "    \n",
    "</ol>"
   ]
  },
  {
   "cell_type": "markdown",
   "id": "32ddd2c1-3a0b-4e17-9064-7c67ffd19485",
   "metadata": {},
   "source": [
    "## imports"
   ]
  },
  {
   "cell_type": "code",
   "execution_count": 1,
   "id": "b94d7756-e24e-49cc-b4dc-a8fb0dcc7b6b",
   "metadata": {},
   "outputs": [],
   "source": [
    "import pandas as pd\n",
    "import geopandas as gpd\n",
    "import numpy as np\n",
    "import shapely\n",
    "from shapely import Point\n",
    "\n",
    "import matplotlib.pyplot as plt\n",
    "from matplotlib.lines import Line2D\n",
    "import matplotlib.patches as mpatches\n",
    "from matplotlib.colors import ListedColormap\n",
    "from matplotlib.colors import LinearSegmentedColormap\n",
    "\n",
    "import rasterio\n",
    "from rasterio.plot import show\n",
    "\n",
    "import seaborn as sns\n",
    "\n",
    "import os\n",
    "from pathlib import Path"
   ]
  },
  {
   "cell_type": "markdown",
   "id": "8e7c785a-43b2-49b6-840d-c2b2da1f4afc",
   "metadata": {},
   "source": [
    "### Settings"
   ]
  },
  {
   "cell_type": "code",
   "execution_count": 2,
   "id": "f90f30e6-e9a2-48cd-8f98-1a4443b26844",
   "metadata": {},
   "outputs": [],
   "source": [
    "# list of scenarios for analysis\n",
    "scenario_list = ['net_zero_ira_ccs_climate', 'business_as_usual_ira_ccs_climate']\n",
    "\n",
    "# list of years for analysis\n",
    "year_list = list(range(2025, 2035+1, 5))\n",
    "\n",
    "# coordinates and labels for specified cities\n",
    "city_label_data = {\n",
    "    'city': ['Albuquerque', 'San Francisco', 'Los Angeles', 'Portland', 'Seattle', 'Phoenix', 'Salt Lake City', 'Denver', 'Boise', 'Boulder', \n",
    "             \"Grand Junction\", \"Billings\", \"Cheyenne\", \"Las Vegas\"], \n",
    "    'Latitude': [35.0853336,  37.7749295, 34.0522342, 45.5230622, 47.6062095, 33.4483771, 40.7607793, 39.7392358, 43.6187102, 40.0149856, \n",
    "                 39.0638705, 45.7832856, 41.1399814,  36.1699412],  \n",
    "    'Longitude': [-106.6055534, -122.4194155,  -118.2436849, -122.6764816, -122.3320708,-112.0740373,-111.8910474, -104.990251, -116.2146068, \n",
    "                  -105.2705456, -108.5506486, -108.5006904,-104.8202462, -115.1398296]}\n",
    "\n",
    "retired_color = '#631200'\n",
    "unsuitable_color = \"#f3f2f2\"\n",
    "suitable_color = \"#d9dede\"\n",
    "\n",
    "layer_cmap = ListedColormap([suitable_color, unsuitable_color])\n",
    "\n",
    "color_map_dict={\n",
    "    'Natural Gas':'#bdb59d',\n",
    "    'Coal': '#75736d',\n",
    "    'Solar PV': '#F7B615',\n",
    "    'Solar CSP': '#f1781b',\n",
    "    'Wind': '#95C060', \n",
    "    'Nuclear': '#6D547C', \n",
    "    'Offshore Wind':'#2B7F9E', \n",
    "    'Biomass': '#713275',\n",
    "    'Geothermal': '#BB3B1C', \n",
    "    'Oil': '#BB3B1C',\n",
    "    'Hydro': '#14345e'}\n",
    "\n",
    "markersize = 8\n",
    "\n",
    "# create map legend elements\n",
    "natgas = Line2D([0], [0], lw=0, markersize=markersize, label='Natural Gas',marker='o', markerfacecolor=color_map_dict['Natural Gas'], markeredgecolor=color_map_dict['Natural Gas'])\n",
    "solar_pv = Line2D([0], [0], lw=0, markersize=markersize, label='Solar PV',marker='o', markerfacecolor=color_map_dict['Solar PV'], markeredgecolor=color_map_dict['Solar PV'])\n",
    "solar_csp = Line2D([0], [0], lw=0, markersize=markersize, label='Solar CSP',marker='o', markerfacecolor=color_map_dict['Solar CSP'], markeredgecolor=color_map_dict['Solar CSP'])\n",
    "wind = Line2D([0], [0], lw=0, markersize=markersize,label='Wind',marker='o', markerfacecolor=color_map_dict['Wind'], markeredgecolor=color_map_dict['Wind'])\n",
    "wind_off = Line2D([0], [0], lw=0, markersize=markersize, label='Offshore Wind',marker='o', markerfacecolor=color_map_dict['Offshore Wind'], markeredgecolor=color_map_dict['Offshore Wind'])\n",
    "coal= Line2D([0], [0], lw=0, markersize=markersize, label='Coal',marker='o', markerfacecolor=color_map_dict['Coal'], markeredgecolor=color_map_dict['Coal'])\n",
    "biomass = Line2D([0], [0], lw=0, markersize=markersize, label='Biomass',marker='o', markerfacecolor=color_map_dict['Biomass'], markeredgecolor=color_map_dict['Biomass'])\n",
    "geothermal = Line2D([0], [0], lw=0, markersize=markersize, label='Geothermal',marker='o', markerfacecolor=color_map_dict['Geothermal'], markeredgecolor=color_map_dict['Geothermal'])\n",
    "hydro = Line2D([0], [0], lw=0, markersize=markersize, label='Hydro',marker='o', markerfacecolor=color_map_dict['Hydro'], markeredgecolor=color_map_dict['Hydro'])\n",
    "\n",
    "retired = Line2D([0], [0], lw=0, markersize=markersize, label='Retired Power Plants',marker='x', color=retired_color)\n",
    "volt = Line2D([0], [0], color='black', lw=1, label='Transmission >250kV')\n",
    "\n",
    "\n",
    "legend_elements = [coal, natgas, biomass, geothermal,solar_csp, solar_pv, wind, wind_off, hydro, retired, volt]\n",
    "\n",
    "tech_rename_dict = {\n",
    "    'gridcerf_biomass_conventional_no-ccs_recirculating': 'Biomass (recirculating cooling)',\n",
    "    'gridcerf_biomass_conventional_no-ccs_dry' : 'Biomass (dry cooling)',\n",
    "    'gridcerf_biomass_conventional_ccs_dry':'Biomass CCS (dry cooling)',\n",
    "    'gridcerf_biomass_conventional_ccs_recirculating': 'Biomass CCS (recirculating cooling)',\n",
    "\n",
    "    'gridcerf_biomass_igcc_ccs_dry':'Biomass IGCC CCS (dry cooling)',\n",
    "    'gridcerf_biomass_igcc_ccs_recirculating':'Biomass IGCC CCS (recirculating cooling)',\n",
    "    'gridcerf_biomass_igcc_ccs_recirculating-seawater':'Biomass IGCC CCS (seawater cooling)',\n",
    "    'gridcerf_coal_conventional_ccs_dry':'Coal CCS (dry cooling)',\n",
    "    'gridcerf_coal_conventional_ccs_recirculating':'Coal CCS (recirculating cooling)',\n",
    "    \n",
    "    'gridcerf_gas_cc_no-ccs_recirculating': 'Natural Gas CC (recirculating cooling)',\n",
    "    'gridcerf_gas_cc_no-ccs_dry': 'Natural Gas CC (dry cooling)',\n",
    "    'gridcerf_gas_cc_no-ccs_pond':'Natural Gas CC (pond cooling)',\n",
    "    \n",
    "    'gridcerf_gas_cc_ccs_dry':'Natural Gas CC CCS (dry cooling)',\n",
    "    'gridcerf_gas_cc_ccs_recirculating': 'Natural Gas CC CCS (recirculating cooling)',\n",
    "    'gridcerf_gas_cc_ccs_recirculating-seawater': 'Natural Gas CC CCS (seawater cooling)',\n",
    "\n",
    "    'gridcerf_solar_csp_centralized_dry-hybrid': 'Solar CSP (dry-hybrid cooling)',\n",
    "    'gridcerf_solar_csp_centralized_recirculating': 'Solar CSP (recirculating cooling)',\n",
    "    \n",
    "    'gridcerf_solar_pv_centralized_no-cooling': 'Solar PV',\n",
    "    'gridcerf_wind_onshore_hubheight100_no-cooling': 'Wind',\n",
    "    'gridcerf_wind_onshore_hubheight120_no-cooling': 'Wind',\n",
    "    'gridcerf_wind_onshore_hubheight140_no-cooling':'Wind',\n",
    "    'gridcerf_wind_offshore_hubheight140_no-cooling': 'Offshore Wind',\n",
    "    'gridcerf_wind_offshore_hubheight160_no-cooling':'Offshore Wind',\n",
    "    \n",
    "    'gridcerf_gas_cc_no-ccs_recirculating-seawater': 'Natural Gas CC (seawater cooling)',\n",
    "    'gridcerf_geothermal_centralized_enhanced_recirculating' : 'Geothermal (recirculating cooling)',\n",
    "    'gridcerf_nuclear_gen3_smr_recirculating': 'Nuclear SMR (recirculating cooling)'}\n"
   ]
  },
  {
   "cell_type": "markdown",
   "id": "4d241a8c-2ca2-4407-95c5-df30322783e7",
   "metadata": {},
   "source": [
    "### Collect Data Paths"
   ]
  },
  {
   "cell_type": "code",
   "execution_count": 3,
   "id": "1e250a21-311b-4bec-ac12-6bc7df042fef",
   "metadata": {},
   "outputs": [],
   "source": [
    "# data dir\n",
    "data_dir = os.path.join(os.path.dirname(os.getcwd()), 'data', 'input_data')\n",
    "\n",
    "# output data dir\n",
    "output_dir = os.path.join(os.path.dirname(os.getcwd()), 'data', 'output_data')\n",
    "\n",
    "# output figure dir\n",
    "fig_dir = os.path.join(os.path.dirname(os.getcwd()), 'figures')\n",
    "\n",
    "# western interconnection shapefile\n",
    "wecc_shp_path =  os.path.join(data_dir, \"wecc_boundary_shp\", \"wecc_boundary.shp\")\n",
    "\n",
    "# western interconnection transmission shapefile\n",
    "transmission_path = os.path.join(data_dir, 'transmission_shp', 'wecc_transmission_250kv.shp')\n",
    "\n",
    "# infrastructure siting output csv\n",
    "infrastucture_path = os.path.join(data_dir, 'infrastructure_data_csv', 'infrastructure_data.csv')\n",
    "\n",
    "# raster data directory\n",
    "raster_dir = os.path.join(data_dir, 'raster_data')\n",
    "\n",
    "# environmental raster dir\n",
    "env_dir = os.path.join(raster_dir, 'environmental')\n",
    "\n",
    "# disadvantaged community raster dir\n",
    "dac_dir = os.path.join(raster_dir, 'disadvantaged_communities')\n",
    "\n",
    "# environmental raster dir\n",
    "farm_dir = os.path.join(raster_dir, 'important_farmland')\n",
    "\n",
    "# data output paths\n",
    "# dac analysis files\n",
    "cg_dac_path = os.path.join(output_dir,  'clean_grid_dac_analysis.csv')\n",
    "bau_dac_path = os.path.join(output_dir, 'bau_dac_analysis.csv')\n",
    "diff_dac_path = os.path.join(output_dir, 'difference_dac_analysis.csv')\n",
    "\n",
    "# farmland dir\n",
    "cg_farm_path = os.path.join(output_dir, 'clean_grid_farm_analysis.csv')\n",
    "bau_farm_path = os.path.join(output_dir, 'bau_farm_analysis.csv')\n",
    "diff_farm_path = os.path.join(output_dir, 'difference_farm_analysis.csv')\n",
    "\n",
    "# environmental dir\n",
    "cg_env_path = os.path.join(output_dir, 'clean_grid_env_analysis.csv')\n",
    "bau_env_path = os.path.join(output_dir, 'bau_env_analysis.csv')\n",
    "diff_env_path = os.path.join(output_dir, 'difference_env_analysis.csv')\n"
   ]
  },
  {
   "cell_type": "markdown",
   "id": "8651eefe-9f00-441e-b6a0-6ec998c3caa0",
   "metadata": {},
   "source": [
    "### Functions"
   ]
  },
  {
   "cell_type": "code",
   "execution_count": 4,
   "id": "5f4b171b-9161-4b29-8f91-3c8a91cd7062",
   "metadata": {},
   "outputs": [],
   "source": [
    "def results_to_geodataframe(df, crs = \"ESRI:102003\"):\n",
    "    \"\"\" \n",
    "    Takes a pandas DataFrame with x and y coordinates as input and \n",
    "    converts to a GeoPandas GeodataFrame. Coordinates in DataFrame are expected to\n",
    "    follow the ESRI:102003 albers equal area conic coordinate referece system.\n",
    "    x-coordinate column should be called 'xcoord', y-coordinate column should be\n",
    "    called 'ycoord'\n",
    "\n",
    "    :param df:        input Pandas DataFrame with x/y coordinates\n",
    "    :type df:         Pandas DataFrame\n",
    "    \n",
    "    :param crs:       Coordinate reference system to use for GeoDataFrame\n",
    "    :type crs:        str\n",
    "    \n",
    "    \"\"\"\n",
    "    \n",
    "    # create geometry column from coordinate fields\n",
    "    geometry = [Point(xy) for xy in zip(df['xcoord'], df['ycoord'])]\n",
    "    \n",
    "    gdf = gpd.GeoDataFrame(df, crs=crs, geometry=geometry)\n",
    "    \n",
    "    return gdf\n",
    "\n",
    "def extract_coords(df):\n",
    "    \"\"\"\n",
    "    Collects a list of x/y coordinates from a dataframe as a list of tuples.\n",
    "    \"\"\"\n",
    "\n",
    "    # extract x,y coords to list of tuples\n",
    "    coords = [(x,y) for x, y in zip(df['xcoord'], df['ycoord'])]\n",
    "    \n",
    "    return coords\n",
    "\n",
    "\n",
    "def analyze_intersections(df, raster_list, layer_name_dict):\n",
    "    \"\"\"\n",
    "    Reads in a pandas DataFrame of power plant sitings and calculates the number of sitings that intersect\n",
    "    with the provided rasters given in the raster_list praameter.\n",
    "    \"\"\"\n",
    "\n",
    "    # rename technologies to simplified form\n",
    "    df['tech_name'] = df['tech_name'].map(tech_rename_dict)\n",
    "    \n",
    "    # dictionary to store outputs in\n",
    "    d = {'state': [], 'tech_name': [], 'layer': [], 'total_plants':[], 'intersection': [], 'valid': []}\n",
    "\n",
    "    for state in list(df.region_name.unique()):\n",
    "        \n",
    "        state_df = df[df.region_name == state]\n",
    "    \n",
    "        for tech in list(state_df.tech_name.unique()):\n",
    "            \n",
    "            total_plants = 0\n",
    "    \n",
    "            n_conflict_plants = 0\n",
    "            \n",
    "            # reduce dataframe to technology type\n",
    "            df_tech = state_df[state_df.tech_name == tech]\n",
    "\n",
    "            # extract the coordinates from the dataframe\n",
    "            coords = extract_coords(df_tech)\n",
    "\n",
    "            # total number of power plants for the CONUS\n",
    "            total_plants = len(coords)\n",
    "\n",
    "            # update suitability for each power plant once it is within a grid cell that is unsuitable\n",
    "            for raster in raster_list:\n",
    "\n",
    "                with rasterio.open(raster) as src:\n",
    "\n",
    "                    # extract the suitability value (0 == suitable; 1 == unsuitable) for each power plant\n",
    "                    extract_suitability_at_points = [int(i[0]) for i in src.sample(coords)]\n",
    "    \n",
    "                    # get the count of unsuitable designations\n",
    "                    n_conflict_plants = len([i for i in extract_suitability_at_points if i == 1])\n",
    "    \n",
    "                    # append the results to the output dictionary\n",
    "                    d['state'].append(state)\n",
    "                    d['tech_name'].append(tech)\n",
    "                    d['layer'].append(os.path.basename(raster.lower()))\n",
    "                    d['total_plants'].append(total_plants)\n",
    "                    d['intersection'].append(n_conflict_plants)\n",
    "                    d['valid'].append(total_plants - n_conflict_plants)\n",
    "\n",
    "    # convert the output to a pandas data frame\n",
    "    layer_specific_diagnostics = pd.DataFrame(d)\n",
    "\n",
    "    layer_specific_diagnostics['fraction'] = round(layer_specific_diagnostics['intersection'] / layer_specific_diagnostics['total_plants'], 2)\n",
    "\n",
    "    layer_sort_list=[]\n",
    "    for layer in layer_name_dict:\n",
    "        layer_sort_list.append(layer)\n",
    "\n",
    "    layer_specific_diagnostics.layer = pd.Categorical(layer_specific_diagnostics.layer, categories=layer_sort_list)\n",
    "    layer_specific_diagnostics=layer_specific_diagnostics.sort_values('layer')\n",
    "    \n",
    "    return layer_specific_diagnostics.sort_values(by='tech_name')\n",
    "\n",
    "\n",
    "def calculate_intersection_difference(clean_grid_analysis_df, bau_analysis_df):\n",
    "\n",
    "    # rename intersection columns to scenario name\n",
    "    clean_grid_analysis_df = clean_grid_analysis_df.rename(columns={'intersection':'clean_grid'})[['state', 'tech_name', \n",
    "                                                                                                   'layer', 'total_plants', 'clean_grid']]                                                                                           \n",
    "    bau_analysis_df = bau_analysis_df.rename(columns={'intersection':'bau'})[['state', 'tech_name', \n",
    "                                                                              'layer','total_plants', 'bau']]\n",
    "    \n",
    "    # combine dataframes\n",
    "    combined_analysis_df = pd.merge(clean_grid_analysis_df, bau_analysis_df, how='left', on=['state', 'tech_name', 'layer'])\n",
    "\n",
    "    # fill nan values with 0\n",
    "    combined_analysis_df['bau'].fillna(0, inplace=True)\n",
    "    combined_analysis_df['clean_grid'].fillna(0, inplace=True)\n",
    "\n",
    "    # calculate the difference in land\n",
    "    combined_analysis_df['intersection'] = combined_analysis_df['clean_grid'] - combined_analysis_df['bau']\n",
    "\n",
    "    combined_analysis_df['intersection'] = combined_analysis_df['intersection'].astype(int)\n",
    "\n",
    "    return combined_analysis_df\n"
   ]
  },
  {
   "cell_type": "markdown",
   "id": "8837630b-41b7-4ea4-a07c-3ba28f91b8d3",
   "metadata": {},
   "source": [
    "### Collect Infrastructure Data"
   ]
  },
  {
   "cell_type": "code",
   "execution_count": 5,
   "id": "5f8a6246-15d4-460e-8a55-9a0994b869ba",
   "metadata": {},
   "outputs": [],
   "source": [
    "# collect infrastructure data\n",
    "df = pd.read_csv(infrastucture_path)"
   ]
  },
  {
   "cell_type": "markdown",
   "id": "4439edff-70f9-4cd8-a3f3-ac8687e68b5b",
   "metadata": {},
   "source": [
    "# Scenario Analysis"
   ]
  },
  {
   "cell_type": "markdown",
   "id": "99b17453-1e51-4394-9c8b-fd9a2d78c15b",
   "metadata": {},
   "source": [
    "#### Prepare Power Plant Sitings"
   ]
  },
  {
   "cell_type": "code",
   "execution_count": 6,
   "id": "4e08b8c1-132d-4081-8f18-398d8c679f56",
   "metadata": {},
   "outputs": [],
   "source": [
    "# create a dataframe of cerf power plant sitings for the clean grid scenario\n",
    "df_clean_grid = df[(df.scenario == 'net_zero_ira_ccs_climate') & (df.cerf_sited == 1)].copy()\n",
    "\n",
    "# create a dataframe of cerf power plant sitings for the business-as-usual scenario\n",
    "df_bau = df[(df.scenario == 'business_as_usual_ira_ccs_climate') & (df.cerf_sited == 1)].copy()"
   ]
  },
  {
   "cell_type": "code",
   "execution_count": 7,
   "id": "1a5af189-bf32-4843-876f-58e7c0d87d26",
   "metadata": {},
   "outputs": [],
   "source": [
    "# dictionary of DAC layers with their simple names\n",
    "dac_dict = {'west_usceq_combined_vulnerable_communities.tif': 'DACs',\n",
    "            'west_usceq_energy_vulnerable_communities.tif': 'Energy DACs',\n",
    "            'west_usceq_transportation_vulnerable_communities.tif': 'Transportation DACs',\n",
    "            'west_usceq_housing_vulnerable_communities.tif':'Housing DACs',\n",
    "            'west_usceq_pollution_vulnerable_communities.tif':'Pollution DACs',\n",
    "            'west_usceq_health_vulnerable_communities.tif':'Health DACs',\n",
    "            'west_usceq_climate_vulnerable_communities.tif':'Climate DACs',\n",
    "            'west_usceq_workforce_vulnerable_communities.tif':'Workforce DACs',\n",
    "            'west_usceq_water_vulnerable_communities.tif':'Water DACs'}\n",
    "\n",
    "# dictionary of important farmland layers with their simple names\n",
    "farm_dict = {'west_usda_combined_important_farmland.tif': 'Important Farmland',\n",
    "            'west_usda_prime_farmland_classification.tif': 'Prime Farmland',\n",
    "            'west_usda_farmland_of_state_importance.tif': 'Farmland of State Importance',\n",
    "            'west_usda_farmland_of_local_importance.tif':'Farmland of Local Importance',\n",
    "            'west_usda_farmland_of_unique_importance.tif':'Farmland of Unique Importance'}\n",
    "\n",
    "# dictionary of environmental layers with their simple names\n",
    "env_dict = {'west_analysis_combined_environment.tif': 'Natural Areas',\n",
    "           'west_analysis_combined_environment_1buff.tif': 'Within 1 km of Natural Area',\n",
    "           'west_analysis_combined_environment_5buff.tif': 'Within 5 km of Natural Area',\n",
    "           'west_analysis_combined_environment_10buff.tif': 'Within 10 km of Natural Area',\n",
    "           }"
   ]
  },
  {
   "cell_type": "markdown",
   "id": "05528312-fd49-4fa3-8582-ac9fc8932402",
   "metadata": {},
   "source": [
    "## Disadvantaged Communities\n",
    "\n",
    "<b> Scientific Question Addressed </b>: Under decarbonization and business-as-usual scenarios, how much land required for new power plant infrastructure intersects with federally-identified disadvantaged communities?"
   ]
  },
  {
   "cell_type": "code",
   "execution_count": 8,
   "id": "583659b3-f62f-410c-aa20-5b46e1430cc4",
   "metadata": {},
   "outputs": [],
   "source": [
    "# create a list of paths to the DAC layers\n",
    "dac_raster_list = []\n",
    "for layer in dac_dict:\n",
    "    layer_name = dac_dict[layer]\n",
    "    layer_path = os.path.join(dac_dir, layer)\n",
    "    dac_raster_list.append(layer_path)"
   ]
  },
  {
   "cell_type": "markdown",
   "id": "9ab9b797-f026-422b-b473-6346243009e0",
   "metadata": {},
   "source": [
    "#### Clean Grid by 2035 - New Power Plant Sitings"
   ]
  },
  {
   "cell_type": "code",
   "execution_count": 9,
   "id": "541b5c28-8260-4033-8363-3311fc6b4153",
   "metadata": {},
   "outputs": [
    {
     "name": "stdout",
     "output_type": "stream",
     "text": [
      "Calculating power plant intersections for DAC Layers & Clean Grid by 2035...\n",
      "Saving output to /Users/mong275/repos/mongird-etal_2024_tbd/data/output_data/clean_grid_dac_analysis.csv\n",
      "Done\n"
     ]
    }
   ],
   "source": [
    "# settings\n",
    "input_df = df_clean_grid.copy()\n",
    "raster_list = dac_raster_list\n",
    "layer_dict = dac_dict\n",
    "analysis_type = 'DAC Layers'\n",
    "scenario = 'Clean Grid by 2035'\n",
    "output_file = cg_dac_path\n",
    "\n",
    "print(f'Calculating power plant intersections for {analysis_type} & {scenario}...')\n",
    "# conduct an analysis of intersections with each of the DAC layers\n",
    "analysis_df = analyze_intersections(df=input_df, raster_list=raster_list, layer_name_dict=layer_dict)\n",
    "\n",
    "print(f'Saving output to {output_file}')\n",
    "analysis_df.to_csv(output_file, index=False)\n",
    "print('Done')"
   ]
  },
  {
   "cell_type": "markdown",
   "id": "f75d33d0-61b7-416b-bf7c-452f2eb3be3b",
   "metadata": {},
   "source": [
    "#### Business-as-usual by 2035 - New Power Plant Sitings"
   ]
  },
  {
   "cell_type": "code",
   "execution_count": 10,
   "id": "64daa8d0-6671-4abc-85e4-ead0fee76c9f",
   "metadata": {},
   "outputs": [
    {
     "name": "stdout",
     "output_type": "stream",
     "text": [
      "Calculating power plant intersections for DAC Layers & Business-as-usual by 2035...\n",
      "Saving output to /Users/mong275/repos/mongird-etal_2024_tbd/data/output_data/bau_dac_analysis.csv\n",
      "Done\n"
     ]
    }
   ],
   "source": [
    "# settings\n",
    "input_df = df_bau.copy()\n",
    "raster_list = dac_raster_list\n",
    "layer_dict = dac_dict\n",
    "analysis_type = 'DAC Layers'\n",
    "scenario = 'Business-as-usual by 2035'\n",
    "output_file = bau_dac_path\n",
    "\n",
    "print(f'Calculating power plant intersections for {analysis_type} & {scenario}...')\n",
    "# conduct an analysis of intersections with each of the DAC layers\n",
    "analysis_df = analyze_intersections(df=input_df, raster_list=raster_list, layer_name_dict=layer_dict)\n",
    "\n",
    "print(f'Saving output to {output_file}')\n",
    "analysis_df.to_csv(output_file, index=False)\n",
    "print('Done')"
   ]
  },
  {
   "cell_type": "markdown",
   "id": "aa975435-7129-4fcf-86fe-02f371df05ae",
   "metadata": {},
   "source": [
    "______________"
   ]
  },
  {
   "cell_type": "markdown",
   "id": "7b006fa9-bd08-46d6-8613-d7fb9c453b08",
   "metadata": {},
   "source": [
    "## Important Farmland\n",
    "\n",
    "<b> Scientific Question Addressed </b>: Under decarbonization and business-as-usual scenarios, how much land required for new power plant infrastructure intersects with important farmland?"
   ]
  },
  {
   "cell_type": "code",
   "execution_count": 11,
   "id": "fe1e1b08-0692-4581-8532-a1520fd84fae",
   "metadata": {},
   "outputs": [],
   "source": [
    "# create a list of paths to the farmland layers\n",
    "farm_raster_list = []\n",
    "for layer in farm_dict:\n",
    "    layer_name = farm_dict[layer]\n",
    "    layer_path = os.path.join(farm_dir, layer)\n",
    "    farm_raster_list.append(layer_path)"
   ]
  },
  {
   "cell_type": "markdown",
   "id": "a6b65c9b-b2af-4835-8605-9a40942ce05f",
   "metadata": {},
   "source": [
    "#### **Clean Grid by 2035 - New Power Plant Sitings**"
   ]
  },
  {
   "cell_type": "code",
   "execution_count": 12,
   "id": "fc0921f5-41ad-4ed9-9821-38e0e684e28b",
   "metadata": {},
   "outputs": [
    {
     "name": "stdout",
     "output_type": "stream",
     "text": [
      "Calculating power plant intersections for Important Farmland Layers & Clean Grid by 2035...\n",
      "Saving output to /Users/mong275/repos/mongird-etal_2024_tbd/data/output_data/clean_grid_farm_analysis.csv\n",
      "Done\n"
     ]
    }
   ],
   "source": [
    "# settings\n",
    "input_df = df_clean_grid.copy()\n",
    "raster_list = farm_raster_list\n",
    "layer_dict = farm_dict\n",
    "analysis_type = 'Important Farmland Layers'\n",
    "scenario = 'Clean Grid by 2035'\n",
    "output_file = cg_farm_path\n",
    "\n",
    "print(f'Calculating power plant intersections for {analysis_type} & {scenario}...')\n",
    "# conduct an analysis of intersections with each of the farmland layers\n",
    "analysis_df = analyze_intersections(df=input_df, raster_list=raster_list, layer_name_dict=layer_dict)\n",
    "\n",
    "print(f'Saving output to {output_file}')\n",
    "analysis_df.to_csv(output_file, index=False)\n",
    "print('Done')"
   ]
  },
  {
   "cell_type": "markdown",
   "id": "584604fc-1586-45cb-a9d7-46f133a531f8",
   "metadata": {},
   "source": [
    "#### **Business-as-usual by 2035 - New Power Plant Sitings**"
   ]
  },
  {
   "cell_type": "code",
   "execution_count": 13,
   "id": "b3fcbb13-6ac5-4420-b274-ba3ab15fef28",
   "metadata": {},
   "outputs": [
    {
     "name": "stdout",
     "output_type": "stream",
     "text": [
      "Calculating power plant intersections for Important Farmland Layers & Business-as-usual by 2035...\n",
      "Saving output to /Users/mong275/repos/mongird-etal_2024_tbd/data/output_data/bau_farm_analysis.csv\n",
      "Done\n"
     ]
    }
   ],
   "source": [
    "# settings\n",
    "input_df = df_bau.copy()\n",
    "raster_list = farm_raster_list\n",
    "layer_dict = farm_dict\n",
    "analysis_type = 'Important Farmland Layers'\n",
    "scenario = 'Business-as-usual by 2035'\n",
    "output_file = bau_farm_path\n",
    "\n",
    "print(f'Calculating power plant intersections for {analysis_type} & {scenario}...')\n",
    "# conduct an analysis of intersections with each of the DAC layers\n",
    "analysis_df = analyze_intersections(df=input_df, raster_list=raster_list, layer_name_dict=layer_dict)\n",
    "\n",
    "print(f'Saving output to {output_file}')\n",
    "analysis_df.to_csv(output_file, index=False)\n",
    "print('Done')"
   ]
  },
  {
   "cell_type": "markdown",
   "id": "9f9bb329-904a-4db0-b3b8-cf789813e683",
   "metadata": {},
   "source": [
    "_________"
   ]
  },
  {
   "cell_type": "markdown",
   "id": "6b848a91-3d76-4534-bb2c-3b7a48b33d1f",
   "metadata": {},
   "source": [
    "## Natural Area Proximity\n",
    "\n",
    "<b> Scientific Question Addressed </b>: Under decarbonization and business-as-usual scenarios, how much land required for new power plant infrastructure intersects with areas in close proximity to natural areas?"
   ]
  },
  {
   "cell_type": "code",
   "execution_count": 14,
   "id": "6e9c365e-5761-4a72-9a80-c376cf5b8c12",
   "metadata": {},
   "outputs": [],
   "source": [
    "# create a list of paths to the DAC layers\n",
    "env_raster_list = []\n",
    "for layer in env_dict:\n",
    "    layer_name = env_dict[layer]\n",
    "    layer_path = os.path.join(env_dir, layer)\n",
    "    env_raster_list.append(layer_path)"
   ]
  },
  {
   "cell_type": "markdown",
   "id": "98918e9d-39ed-44d7-822c-4fd1a386d159",
   "metadata": {},
   "source": [
    "#### Clean Grid by 2035 - New Power Plant Sitings"
   ]
  },
  {
   "cell_type": "code",
   "execution_count": 15,
   "id": "19c98957-2614-4df3-9895-8295be5296b1",
   "metadata": {},
   "outputs": [
    {
     "name": "stdout",
     "output_type": "stream",
     "text": [
      "Calculating power plant intersections for Natural Area Proximity & Clean Grid by 2035...\n",
      "Saving output to /Users/mong275/repos/mongird-etal_2024_tbd/data/output_data/clean_grid_env_analysis.csv\n",
      "Done\n"
     ]
    }
   ],
   "source": [
    "# settings\n",
    "input_df = df_clean_grid.copy()\n",
    "raster_list = env_raster_list\n",
    "layer_dict = env_dict\n",
    "analysis_type = 'Natural Area Proximity'\n",
    "scenario = 'Clean Grid by 2035'\n",
    "output_file = cg_env_path\n",
    "\n",
    "print(f'Calculating power plant intersections for {analysis_type} & {scenario}...')\n",
    "# conduct an analysis of intersections with each of the DAC layers\n",
    "analysis_df = analyze_intersections(df=input_df, raster_list=raster_list, layer_name_dict=layer_dict)\n",
    "\n",
    "print(f'Saving output to {output_file}')\n",
    "analysis_df.to_csv(output_file, index=False)\n",
    "print('Done')"
   ]
  },
  {
   "cell_type": "markdown",
   "id": "56e283c7-ffe5-4be6-b50c-d91e807bdbff",
   "metadata": {},
   "source": [
    "#### **Business-as-usual by 2035 - New Power Plant Sitings**"
   ]
  },
  {
   "cell_type": "code",
   "execution_count": 16,
   "id": "5ad521b8-68be-40df-8988-59e3eb43813e",
   "metadata": {},
   "outputs": [
    {
     "name": "stdout",
     "output_type": "stream",
     "text": [
      "Calculating power plant intersections for Natural Area Proximity & Business-as-usual by 2035...\n",
      "Saving output to /Users/mong275/repos/mongird-etal_2024_tbd/data/output_data/bau_env_analysis.csv\n",
      "Done\n"
     ]
    }
   ],
   "source": [
    "# settings\n",
    "input_df = df_bau.copy()\n",
    "raster_list = env_raster_list\n",
    "layer_dict = env_dict\n",
    "analysis_type = 'Natural Area Proximity'\n",
    "scenario = 'Business-as-usual by 2035'\n",
    "output_file = bau_env_path\n",
    "\n",
    "print(f'Calculating power plant intersections for {analysis_type} & {scenario}...')\n",
    "# conduct an analysis of intersections with each of the DAC layers\n",
    "analysis_df = analyze_intersections(df=input_df, raster_list=raster_list, layer_name_dict=layer_dict)\n",
    "\n",
    "print(f'Saving output to {output_file}')\n",
    "analysis_df.to_csv(output_file, index=False)\n",
    "print('Done')"
   ]
  },
  {
   "cell_type": "markdown",
   "id": "65da0720-1632-420c-a264-42fb4a56e1f6",
   "metadata": {},
   "source": [
    "___________ "
   ]
  },
  {
   "cell_type": "markdown",
   "id": "ddf6f3ae-5941-4fe2-a61e-29dc107ace02",
   "metadata": {},
   "source": [
    "# Difference Between Scenarios Analysis\n",
    "This section calculates the additional land intersections between the Clean Grid and Business-as-usual scenario.\n",
    "\n",
    "<b>Scientific Question:</b> How much <i>additional</i> land in areas of interest will achieving a decarbonized grid take? "
   ]
  },
  {
   "cell_type": "markdown",
   "id": "3688e143-ff5f-4905-b425-d33da6f76bc6",
   "metadata": {},
   "source": [
    "## Disadvantaged Communities\n",
    "\n",
    "<b> Scientific Question Addressed </b>: How much more land required for new power plant infrastructure intersects with federall-identified disadvantaged communities in a decarbonized grid compared to a business-as-usual scenario?"
   ]
  },
  {
   "cell_type": "code",
   "execution_count": 17,
   "id": "940d2bff-eb58-4d35-aa30-7d4b927a651f",
   "metadata": {},
   "outputs": [
    {
     "name": "stdout",
     "output_type": "stream",
     "text": [
      "Calculating power plant intersections for Disadvantaged Communities & Clean Grid by 2035...\n",
      "Calculating power plant intersections for Disadvantaged Communities & Business-as-usual by 2035...\n",
      "Calculating difference in power plant intersections for Disadvantaged Communities...\n",
      "Saving output to /Users/mong275/repos/mongird-etal_2024_tbd/data/output_data/difference_dac_analysis.csv\n",
      "Done\n"
     ]
    }
   ],
   "source": [
    "# clean grid settings\n",
    "input_df = df_clean_grid.copy()\n",
    "raster_list = dac_raster_list\n",
    "layer_dict = dac_dict\n",
    "analysis_type = 'Disadvantaged Communities'\n",
    "scenario = 'Clean Grid by 2035'\n",
    "\n",
    "print(f'Calculating power plant intersections for {analysis_type} & {scenario}...')\n",
    "# conduct an analysis of intersections with each of the layers\n",
    "clean_grid_analysis_df = analyze_intersections(df=input_df, raster_list=raster_list, layer_name_dict=layer_dict)\n",
    "\n",
    "# bau settings\n",
    "input_df = df_bau.copy()\n",
    "raster_list = dac_raster_list\n",
    "layer_dict = dac_dict\n",
    "analysis_type = 'Disadvantaged Communities'\n",
    "scenario = 'Business-as-usual by 2035'\n",
    "\n",
    "output_file = diff_dac_path\n",
    "\n",
    "print(f'Calculating power plant intersections for {analysis_type} & {scenario}...')\n",
    "# conduct an analysis of intersections with each of the layers\n",
    "bau_analysis_df = analyze_intersections(df=input_df, raster_list=raster_list, layer_name_dict=layer_dict)\n",
    "\n",
    "print(f'Calculating difference in power plant intersections for {analysis_type}...')\n",
    "# calculate the intersection difference between scenarios\n",
    "analysis_df = calculate_intersection_difference(clean_grid_analysis_df=clean_grid_analysis_df, bau_analysis_df=bau_analysis_df)\n",
    "\n",
    "print(f'Saving output to {output_file}')\n",
    "analysis_df.to_csv(output_file, index=False)\n",
    "print('Done')"
   ]
  },
  {
   "cell_type": "markdown",
   "id": "eb14eda9-47e0-405e-8a1b-44c4a443b4b5",
   "metadata": {},
   "source": [
    "_______"
   ]
  },
  {
   "cell_type": "markdown",
   "id": "e13402af-e5b8-4c30-84be-de60feb677d6",
   "metadata": {},
   "source": [
    "## Important Farmland\n",
    "\n",
    "<b> Scientific Question Addressed </b>: How much more land required for new power plant infrastructure intersects with important farmland in a decarbonized grid compared to a business-as-usual scenario?"
   ]
  },
  {
   "cell_type": "code",
   "execution_count": 18,
   "id": "183bd7fb-50c7-42b2-9226-fd6f836bd96f",
   "metadata": {},
   "outputs": [
    {
     "name": "stdout",
     "output_type": "stream",
     "text": [
      "Calculating power plant intersections for Important Farmland & Clean Grid by 2035...\n",
      "Calculating power plant intersections for Important Farmland & Business-as-usual by 2035...\n",
      "Calculating difference in power plant intersections for Important Farmland...\n",
      "Saving output to /Users/mong275/repos/mongird-etal_2024_tbd/data/output_data/difference_farm_analysis.csv\n",
      "Done\n"
     ]
    }
   ],
   "source": [
    "# clean grid settings\n",
    "input_df = df_clean_grid.copy()\n",
    "raster_list = farm_raster_list\n",
    "layer_dict = farm_dict\n",
    "analysis_type = 'Important Farmland'\n",
    "scenario = 'Clean Grid by 2035'\n",
    "\n",
    "print(f'Calculating power plant intersections for {analysis_type} & {scenario}...')\n",
    "# conduct an analysis of intersections with each of the layers\n",
    "clean_grid_analysis_df = analyze_intersections(df=input_df, raster_list=raster_list, layer_name_dict=layer_dict)\n",
    "\n",
    "# bau settings\n",
    "input_df = df_bau.copy()\n",
    "raster_list = farm_raster_list\n",
    "layer_dict = farm_dict\n",
    "analysis_type = 'Important Farmland'\n",
    "scenario = 'Business-as-usual by 2035'\n",
    "\n",
    "output_file = diff_farm_path\n",
    "\n",
    "print(f'Calculating power plant intersections for {analysis_type} & {scenario}...')\n",
    "# conduct an analysis of intersections with each of the layers\n",
    "bau_analysis_df = analyze_intersections(df=input_df, raster_list=raster_list, layer_name_dict=layer_dict)\n",
    "\n",
    "print(f'Calculating difference in power plant intersections for {analysis_type}...')\n",
    "# calculate the intersection difference between scenarios\n",
    "analysis_df = calculate_intersection_difference(clean_grid_analysis_df=clean_grid_analysis_df, bau_analysis_df=bau_analysis_df)\n",
    "\n",
    "print(f'Saving output to {output_file}')\n",
    "analysis_df.to_csv(output_file, index=False)\n",
    "print('Done')"
   ]
  },
  {
   "cell_type": "markdown",
   "id": "a7d28173-2c75-4223-a8ab-0d1f5f8f5c3f",
   "metadata": {},
   "source": [
    "__________"
   ]
  },
  {
   "cell_type": "markdown",
   "id": "3d258319-eec4-4d91-b072-2b7e4e2fb048",
   "metadata": {},
   "source": [
    "## Natural Area Proximity\n",
    "\n",
    "<b> Scientific Question Addressed </b>: How much more land required for new power plant infrastructure intersects with areas in close proximity to natural areas in a decarbonized grid compared to a business-as-usual scenario?"
   ]
  },
  {
   "cell_type": "code",
   "execution_count": 19,
   "id": "55c44cfa-fcd8-4a5e-8d87-78b683d2b48c",
   "metadata": {},
   "outputs": [
    {
     "name": "stdout",
     "output_type": "stream",
     "text": [
      "Calculating power plant intersections for Natural Area Proximity & Clean Grid by 2035...\n",
      "Calculating power plant intersections for Natural Area Proximity & Business-as-usual by 2035...\n",
      "Calculating difference in power plant intersections for Natural Area Proximity...\n",
      "Saving output to /Users/mong275/repos/mongird-etal_2024_tbd/data/output_data/difference_env_analysis.csv\n",
      "Done\n"
     ]
    }
   ],
   "source": [
    "# clean grid settings\n",
    "input_df = df_clean_grid.copy()\n",
    "raster_list = env_raster_list\n",
    "layer_dict = env_dict\n",
    "analysis_type = 'Natural Area Proximity'\n",
    "scenario = 'Clean Grid by 2035'\n",
    "\n",
    "print(f'Calculating power plant intersections for {analysis_type} & {scenario}...')\n",
    "# conduct an analysis of intersections with each of the layers\n",
    "clean_grid_analysis_df = analyze_intersections(df=input_df, raster_list=raster_list, layer_name_dict=layer_dict)\n",
    "\n",
    "# bau settings\n",
    "input_df = df_bau.copy()\n",
    "raster_list = env_raster_list\n",
    "layer_dict = env_dict\n",
    "analysis_type = 'Natural Area Proximity'\n",
    "scenario = 'Business-as-usual by 2035'\n",
    "\n",
    "output_file = diff_env_path\n",
    "\n",
    "print(f'Calculating power plant intersections for {analysis_type} & {scenario}...')\n",
    "# conduct an analysis of intersections with each of the layers\n",
    "bau_analysis_df = analyze_intersections(df=input_df, raster_list=raster_list, layer_name_dict=layer_dict)\n",
    "\n",
    "print(f'Calculating difference in power plant intersections for {analysis_type}...')\n",
    "# calculate the intersection difference between scenarios\n",
    "analysis_df = calculate_intersection_difference(clean_grid_analysis_df=clean_grid_analysis_df, bau_analysis_df=bau_analysis_df)\n",
    "\n",
    "\n",
    "print(f'Saving output to {output_file}')\n",
    "analysis_df.to_csv(output_file, index=False)\n",
    "print('Done')"
   ]
  }
 ],
 "metadata": {
  "kernelspec": {
   "display_name": "Python 3 (ipykernel)",
   "language": "python",
   "name": "python3"
  },
  "language_info": {
   "codemirror_mode": {
    "name": "ipython",
    "version": 3
   },
   "file_extension": ".py",
   "mimetype": "text/x-python",
   "name": "python",
   "nbconvert_exporter": "python",
   "pygments_lexer": "ipython3",
   "version": "3.11.0"
  }
 },
 "nbformat": 4,
 "nbformat_minor": 5
}
