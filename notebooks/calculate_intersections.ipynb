{
 "cells": [
  {
   "cell_type": "markdown",
   "id": "5eb97914-d7c0-4fdb-a035-433332b596e9",
   "metadata": {},
   "source": [
    "# Calculate Intersections\n",
    "\n",
    "## Overview\n",
    "\n",
    "This notebook calculates the number of interesections between new power plant sitings from the GODEEEP multi-model coupling experiment and various areas of interest. The areas of interest explored include: Disadvantaged communities, important farmland, and areas within and within close proximity to composite natural areas in the western US. The number of interesections indicate how many square km of new energy infrastructure reside in each of these areas. We conduct this calculation for new infrastructure under both the net zero (NZ) and business-as-usual (BAU) scenarios through 2050. Intersections are determined at the state, technology, and state + technology level. Lastly, the difference in intersections between the two scenarios is also determined.\n",
    "\n",
    "## Data Requirements\n",
    "\n",
    "This notebook relies on the data prepared in the `prepare_raster_data.ipynb` and `prepare_cerf_siting_output.ipynb` notebooks in this repository. Those notebooks have been pre-run for convenience and the data files referenced in this notebook are found in the `data/input_data` folder."
   ]
  },
  {
   "cell_type": "markdown",
   "id": "32ddd2c1-3a0b-4e17-9064-7c67ffd19485",
   "metadata": {},
   "source": [
    "## Imports"
   ]
  },
  {
   "cell_type": "code",
   "execution_count": null,
   "id": "b94d7756-e24e-49cc-b4dc-a8fb0dcc7b6b",
   "metadata": {},
   "outputs": [],
   "source": [
    "import pandas as pd\n",
    "import geopandas as gpd\n",
    "import numpy as np\n",
    "import shapely\n",
    "from shapely import Point\n",
    "\n",
    "import rasterio\n",
    "from rasterio.plot import show\n",
    "\n",
    "import os\n",
    "from pathlib import Path"
   ]
  },
  {
   "cell_type": "markdown",
   "id": "4d241a8c-2ca2-4407-95c5-df30322783e7",
   "metadata": {},
   "source": [
    "### Collect Data Paths"
   ]
  },
  {
   "cell_type": "code",
   "execution_count": null,
   "id": "1e250a21-311b-4bec-ac12-6bc7df042fef",
   "metadata": {},
   "outputs": [],
   "source": [
    "year = 2050\n",
    "\n",
    "# data dir\n",
    "data_dir = os.path.join(os.path.dirname(os.getcwd()), 'data', 'input_data')\n",
    "\n",
    "# output data dir\n",
    "output_dir = os.path.join(os.path.dirname(os.getcwd()), 'data', 'output_data')\n",
    "os.makedirs(output_dir, exist_ok=True)\n",
    "\n",
    "# infrastructure siting output csv\n",
    "infrastucture_path = os.path.join(data_dir, 'infrastructure_data_csv', f'infrastructure_data.csv')\n",
    "\n",
    "# land area files\n",
    "land_area_raster_dir = os.path.join(data_dir, \"west_raster_data\", 'land_area')\n",
    "\n",
    "# all area files\n",
    "all_area_raster_dir = os.path.join(data_dir, \"west_raster_data\", 'all_area')\n",
    "\n",
    "# dac analysis files\n",
    "cg_dac_path = os.path.join(output_dir,  f'net_zero_dac_analysis_{year}.csv')\n",
    "bau_dac_path = os.path.join(output_dir, f'bau_dac_analysis_{year}.csv')\n",
    "diff_dac_path = os.path.join(output_dir, f'difference_dac_analysis_{year}.csv')\n",
    "\n",
    "# farmland dir\n",
    "cg_farm_path = os.path.join(output_dir, f'net_zero_farm_analysis_{year}.csv')\n",
    "bau_farm_path = os.path.join(output_dir, f'bau_farm_analysis_{year}.csv')\n",
    "diff_farm_path = os.path.join(output_dir, f'difference_farm_analysis_{year}.csv')\n",
    "\n",
    "# environmental dir\n",
    "cg_env_path = os.path.join(output_dir, f'net_zero_env_analysis_{year}.csv')\n",
    "bau_env_path = os.path.join(output_dir, f'bau_env_analysis_{year}.csv')\n",
    "diff_env_path = os.path.join(output_dir, f'difference_env_analysis_{year}.csv')\n"
   ]
  },
  {
   "cell_type": "markdown",
   "id": "8651eefe-9f00-441e-b6a0-6ec998c3caa0",
   "metadata": {},
   "source": [
    "### Functions"
   ]
  },
  {
   "cell_type": "code",
   "execution_count": null,
   "id": "5f4b171b-9161-4b29-8f91-3c8a91cd7062",
   "metadata": {},
   "outputs": [],
   "source": [
    "def results_to_geodataframe(df, crs = \"ESRI:102003\"):\n",
    "    \"\"\" \n",
    "    Takes a pandas DataFrame with x and y coordinates as input and \n",
    "    converts to a GeoPandas GeodataFrame. Coordinates in DataFrame are expected to\n",
    "    follow the ESRI:102003 albers equal area conic coordinate referece system.\n",
    "    x-coordinate column should be called 'xcoord', y-coordinate column should be\n",
    "    called 'ycoord'\n",
    "\n",
    "    :param df:        input Pandas DataFrame with x/y coordinates\n",
    "    :type df:         Pandas DataFrame\n",
    "    \n",
    "    :param crs:       Coordinate reference system to use for GeoDataFrame\n",
    "    :type crs:        str\n",
    "    \n",
    "    \"\"\"\n",
    "    \n",
    "    # create geometry column from coordinate fields\n",
    "    geometry = [Point(xy) for xy in zip(df['xcoord'], df['ycoord'])]\n",
    "    \n",
    "    gdf = gpd.GeoDataFrame(df, crs=crs, geometry=geometry)\n",
    "    \n",
    "    return gdf\n",
    "\n",
    "def extract_coords(df):\n",
    "    \"\"\"\n",
    "    Collects a list of x/y coordinates from a dataframe as a list of tuples.\n",
    "    \n",
    "    :param df:        input Pandas DataFrame with x/y coordinates\n",
    "    :type df:         Pandas DataFrame\n",
    "    \n",
    "    \"\"\"\n",
    "\n",
    "    # extract x,y coords to list of tuples\n",
    "    coords = [(x,y) for x, y in zip(df['xcoord'], df['ycoord'])]\n",
    "    \n",
    "    return coords\n",
    "\n",
    "\n",
    "def analyze_intersections(df, raster_list, layer_name_dict):\n",
    "    \"\"\"\n",
    "    Reads in a pandas DataFrame of power plant sitings and calculates the number of sitings that intersect\n",
    "    with the provided rasters given in the raster_list praameter. Output is a dictionary of interaction counts by\n",
    "    technology, area, and state.\n",
    "\n",
    "    :param df:                    input Pandas DataFrame with x/y coordinates of power plant sitings\n",
    "    :type df:                     Pandas DataFrame\n",
    "    \n",
    "    :param raster_list:           list of paths to raster files to assess\n",
    "    :type raster_list:            list\n",
    "\n",
    "    :param layer_name_dict:       dictionary of file name and plain language name pairs\n",
    "    :type layer_name_dict:        dict    \n",
    "    \n",
    "    \"\"\"\n",
    "    \n",
    "    # dictionary to store outputs in\n",
    "    d = {'state': [], 'technology': [], 'technology_simple': [], 'layer_name': [], 'layer': [], 'total_plants':[], 'intersection': []}\n",
    "\n",
    "    for state in list(df.region_name.unique()):\n",
    "        \n",
    "        state_df = df[df.region_name == state]\n",
    "    \n",
    "        for tech in list(state_df.technology.unique()):\n",
    "            \n",
    "            total_plants = 0\n",
    "    \n",
    "            n_conflict_plants = 0\n",
    "            \n",
    "            # reduce dataframe to technology type\n",
    "            df_tech = state_df[state_df.technology == tech]\n",
    "\n",
    "            # simple tech name\n",
    "            simple_tech = list(df_tech.technology_simple.unique())[0]\n",
    "\n",
    "            # extract the coordinates from the dataframe\n",
    "            coords = extract_coords(df_tech)\n",
    "\n",
    "            # total number of power plants for the CONUS\n",
    "            total_plants = len(coords)\n",
    "\n",
    "            # update suitability for each power plant once it is within a grid cell that is unsuitable\n",
    "            for raster in raster_list:\n",
    "\n",
    "                with rasterio.open(raster) as src:\n",
    "\n",
    "                    # extract the suitability value (0 == suitable; 1 == unsuitable) for each power plant\n",
    "                    extract_suitability_at_points = [int(i[0]) for i in src.sample(coords)]\n",
    "    \n",
    "                    # get the count of unsuitable designations\n",
    "                    n_conflict_plants = len([i for i in extract_suitability_at_points if i == 1])\n",
    "    \n",
    "                    # append the results to the output dictionary\n",
    "                    d['state'].append(state)\n",
    "                    d['technology'].append(tech)\n",
    "                    d['technology_simple'].append(simple_tech)\n",
    "                    d['layer_name'].append(layer_name_dict[os.path.basename(raster)])\n",
    "                    d['layer'].append(os.path.basename(raster.lower()))\n",
    "                    d['total_plants'].append(total_plants)\n",
    "                    d['intersection'].append(n_conflict_plants)\n",
    "\n",
    "    # convert the output to a pandas dataframe\n",
    "    layer_specific_diagnostics = pd.DataFrame(d)\n",
    "\n",
    "    layer_specific_diagnostics['fraction'] = round(layer_specific_diagnostics['intersection'] / layer_specific_diagnostics['total_plants'], 2)\n",
    "\n",
    "    layer_sort_list=[]\n",
    "    for layer in layer_name_dict:\n",
    "        layer_sort_list.append(layer)\n",
    "\n",
    "    layer_specific_diagnostics.layer = pd.Categorical(layer_specific_diagnostics.layer, categories=layer_sort_list)\n",
    "    layer_specific_diagnostics=layer_specific_diagnostics.sort_values('layer')\n",
    "    \n",
    "    return layer_specific_diagnostics.sort_values(by='technology')\n",
    "\n",
    "\n",
    "def calculate_intersection_difference(nz_analysis_df, bau_analysis_df):\n",
    "    \"\"\"\n",
    "    Reads in results dataframe for each scenario and calculates the difference in intersections by technology, state, and area of\n",
    "    interest. Returns a pandas DataFrame of the differences by technology, state, and area of interest.\n",
    "\n",
    "    :param nz_analysis_df:            Dataframe of net zero intersection results\n",
    "    :type nz_analysis_df:             Pandas DataFrame\n",
    "    \n",
    "    :param bau_analysis_df:           Dataframe of business-as-usual intersection results\n",
    "    :type bau_analysis_df:            Pandas DataFrame\n",
    "    \n",
    "    \"\"\"\n",
    "    \n",
    "\n",
    "    # rename intersection columns to scenario name\n",
    "    nz_analysis_df = nz_analysis_df.rename(columns={'intersection':'net_zero'})[['state', 'technology','layer', 'total_plants', 'net_zero']]                                                                                           \n",
    "    bau_analysis_df = bau_analysis_df.rename(columns={'intersection':'bau'})[['state', 'technology', 'layer','total_plants', 'bau']]\n",
    "    \n",
    "    # combine dataframes\n",
    "    combined_analysis_df = pd.merge(nz_analysis_df, bau_analysis_df, how='left', on=['state', 'technology', 'layer'])\n",
    "\n",
    "    # fill nan values with 0\n",
    "    combined_analysis_df['bau'].fillna(0, inplace=True)\n",
    "    combined_analysis_df['net_zero'].fillna(0, inplace=True)\n",
    "\n",
    "    # calculate the difference in land\n",
    "    combined_analysis_df['intersection'] = combined_analysis_df['net_zero'] - combined_analysis_df['bau']\n",
    "\n",
    "    # convert to integer\n",
    "    combined_analysis_df['intersection'] = combined_analysis_df['intersection'].astype(int)\n",
    "\n",
    "    # simplify output dataframe\n",
    "    combined_analysis_df = combined_analysis_df[['state', 'technology', 'layer', 'net_zero', 'bau', 'intersection']]\n",
    "\n",
    "    return combined_analysis_df\n"
   ]
  },
  {
   "cell_type": "markdown",
   "id": "4439edff-70f9-4cd8-a3f3-ac8687e68b5b",
   "metadata": {},
   "source": [
    "# Analysis"
   ]
  },
  {
   "cell_type": "markdown",
   "id": "8837630b-41b7-4ea4-a07c-3ba28f91b8d3",
   "metadata": {},
   "source": [
    "#### Collect Infrastructure Data"
   ]
  },
  {
   "cell_type": "code",
   "execution_count": null,
   "id": "5f8a6246-15d4-460e-8a55-9a0994b869ba",
   "metadata": {},
   "outputs": [],
   "source": [
    "# collect prepared CERF infrastructure siting data\n",
    "df = pd.read_csv(infrastucture_path)"
   ]
  },
  {
   "cell_type": "markdown",
   "id": "99b17453-1e51-4394-9c8b-fd9a2d78c15b",
   "metadata": {},
   "source": [
    "#### Prepare Power Plant Sitings"
   ]
  },
  {
   "cell_type": "code",
   "execution_count": null,
   "id": "4e08b8c1-132d-4081-8f18-398d8c679f56",
   "metadata": {},
   "outputs": [],
   "source": [
    "# reduce to only include sitings up to year of interest\n",
    "df = df[df.sited_year <= year]\n",
    "\n",
    "# create a dataframe of cerf power plant sitings for the clean grid scenario\n",
    "df_clean_grid = df[(df.scenario == 'net_zero_ira_ccs_climate') & (df.cerf_sited == 1)].copy()\n",
    "\n",
    "# create a dataframe of cerf power plant sitings for the business-as-usual scenario\n",
    "df_bau = df[(df.scenario == 'business_as_usual_ira_ccs_climate') & (df.cerf_sited == 1)].copy()"
   ]
  },
  {
   "cell_type": "code",
   "execution_count": null,
   "id": "1a5af189-bf32-4843-876f-58e7c0d87d26",
   "metadata": {},
   "outputs": [],
   "source": [
    "# dictionary of DAC layers with their simple names\n",
    "dac_dict = {'gridcerf_usceq_cejst_exclude_all_dacs.tif': 'DACs',\n",
    "            'gridcerf_usceq_cejst_exclude_energy_dacs.tif': 'Energy DACs',\n",
    "            'gridcerf_usceq_cejst_exclude_transportation_dacs.tif': 'Transportation DACs',\n",
    "            'gridcerf_usceq_cejst_exclude_housing_dacs.tif':'Housing DACs',\n",
    "            'gridcerf_usceq_cejst_exclude_pollution_dacs.tif':'Pollution DACs',\n",
    "            'gridcerf_usceq_cejst_exclude_health_dacs.tif':'Health DACs',\n",
    "            'gridcerf_usceq_cejst_exclude_climate_dacs.tif':'Climate DACs',\n",
    "            'gridcerf_usceq_cejst_exclude_workforce_dacs.tif':'Workforce DACs',\n",
    "            'gridcerf_usceq_cejst_exclude_water_dacs.tif':'Water DACs'}\n",
    "\n",
    "# dictionary of important farmland layers with their simple names\n",
    "farm_dict = {'gridcerf_usda_combined_important_farmland.tif': 'Important Farmland',\n",
    "            'gridcerf_usda_nrsc_prime_farmland_classification.tif': 'Prime Farmland',\n",
    "            'gridcerf_usda_nrsc_farmland_of_state_importance.tif': 'Farmland of State Importance',\n",
    "            'gridcerf_usda_nrsc_farmland_of_local_importance.tif':'Farmland of Local Importance',\n",
    "            'gridcerf_usda_nrsc_farmland_of_unique_importance.tif':'Farmland of Unique Importance'}\n",
    "\n",
    "# dictionary of environmental layers with their simple names\n",
    "env_dict = {'gridcerf_combined_environment_level_1_1buff.tif': 'Within 1 km of Natural Area',\n",
    "           'gridcerf_combined_environment_level_1_5buff.tif': 'Within 5 km of Natural Area',\n",
    "           'gridcerf_combined_environment_level_1_10buff.tif': 'Within 10 km of Natural Area',\n",
    "           }"
   ]
  },
  {
   "cell_type": "markdown",
   "id": "05528312-fd49-4fa3-8582-ac9fc8932402",
   "metadata": {},
   "source": [
    "## Disadvantaged Communities\n",
    "\n",
    "<b> Scientific Question Addressed </b>: Under decarbonization and business-as-usual scenarios, how much land required for new power plant infrastructure intersects with federally-identified disadvantaged communities?"
   ]
  },
  {
   "cell_type": "code",
   "execution_count": null,
   "id": "583659b3-f62f-410c-aa20-5b46e1430cc4",
   "metadata": {},
   "outputs": [],
   "source": [
    "# create a list of paths to the DAC layers\n",
    "dac_raster_list = []\n",
    "for layer in dac_dict:\n",
    "    layer_name = dac_dict[layer]\n",
    "    layer_path = os.path.join(all_area_raster_dir, layer)\n",
    "    dac_raster_list.append(layer_path)"
   ]
  },
  {
   "cell_type": "markdown",
   "id": "9ab9b797-f026-422b-b473-6346243009e0",
   "metadata": {},
   "source": [
    "#### Clean Grid - New Power Plant Sitings"
   ]
  },
  {
   "cell_type": "code",
   "execution_count": null,
   "id": "541b5c28-8260-4033-8363-3311fc6b4153",
   "metadata": {},
   "outputs": [],
   "source": [
    "# settings\n",
    "input_df = df_clean_grid.copy()\n",
    "raster_list = dac_raster_list\n",
    "layer_dict = dac_dict\n",
    "analysis_type = 'DAC Layers'\n",
    "scenario = f'Net Zero by {year}'\n",
    "output_file = cg_dac_path\n",
    "\n",
    "print(f'Calculating power plant intersections for {analysis_type} & {scenario}...')\n",
    "# conduct an analysis of intersections with each of the DAC layers\n",
    "analysis_df = analyze_intersections(df=input_df, raster_list=raster_list, layer_name_dict=layer_dict)\n",
    "\n",
    "print(f'Saving output to {output_file}')\n",
    "analysis_df.to_csv(output_file, index=False)\n",
    "print('Done')"
   ]
  },
  {
   "cell_type": "markdown",
   "id": "f75d33d0-61b7-416b-bf7c-452f2eb3be3b",
   "metadata": {},
   "source": [
    "#### Business-as-usual - New Power Plant Sitings"
   ]
  },
  {
   "cell_type": "code",
   "execution_count": null,
   "id": "64daa8d0-6671-4abc-85e4-ead0fee76c9f",
   "metadata": {},
   "outputs": [],
   "source": [
    "# settings\n",
    "input_df = df_bau.copy()\n",
    "raster_list = dac_raster_list\n",
    "layer_dict = dac_dict\n",
    "analysis_type = 'DAC Layers'\n",
    "scenario = f'Business-as-usual by {year}'\n",
    "output_file = bau_dac_path\n",
    "\n",
    "print(f'Calculating power plant intersections for {analysis_type} & {scenario}...')\n",
    "# conduct an analysis of intersections with each of the DAC layers\n",
    "analysis_df = analyze_intersections(df=input_df, raster_list=raster_list, layer_name_dict=layer_dict)\n",
    "\n",
    "print(f'Saving output to {output_file}')\n",
    "analysis_df.to_csv(output_file, index=False)\n",
    "print('Done')"
   ]
  },
  {
   "cell_type": "markdown",
   "id": "aa975435-7129-4fcf-86fe-02f371df05ae",
   "metadata": {},
   "source": [
    "______________"
   ]
  },
  {
   "cell_type": "markdown",
   "id": "7b006fa9-bd08-46d6-8613-d7fb9c453b08",
   "metadata": {},
   "source": [
    "## Important Farmland"
   ]
  },
  {
   "cell_type": "code",
   "execution_count": null,
   "id": "fe1e1b08-0692-4581-8532-a1520fd84fae",
   "metadata": {},
   "outputs": [],
   "source": [
    "# create a list of paths to the farmland layers\n",
    "farm_raster_list = []\n",
    "for layer in farm_dict:\n",
    "    layer_name = farm_dict[layer]\n",
    "    layer_path = os.path.join(all_area_raster_dir, layer)\n",
    "    farm_raster_list.append(layer_path)"
   ]
  },
  {
   "cell_type": "markdown",
   "id": "a6b65c9b-b2af-4835-8605-9a40942ce05f",
   "metadata": {},
   "source": [
    "#### **Net Zero - New Power Plant Sitings**"
   ]
  },
  {
   "cell_type": "code",
   "execution_count": null,
   "id": "fc0921f5-41ad-4ed9-9821-38e0e684e28b",
   "metadata": {},
   "outputs": [],
   "source": [
    "# settings\n",
    "input_df = df_clean_grid.copy()\n",
    "raster_list = farm_raster_list\n",
    "layer_dict = farm_dict\n",
    "analysis_type = 'Important Farmland Layers'\n",
    "scenario = f'Net Zero by {year}'\n",
    "output_file = cg_farm_path\n",
    "\n",
    "print(f'Calculating power plant intersections for {analysis_type} & {scenario}...')\n",
    "# conduct an analysis of intersections with each of the farmland layers\n",
    "analysis_df = analyze_intersections(df=input_df, raster_list=raster_list, layer_name_dict=layer_dict)\n",
    "\n",
    "print(f'Saving output to {output_file}')\n",
    "analysis_df.to_csv(output_file, index=False)\n",
    "print('Done')"
   ]
  },
  {
   "cell_type": "markdown",
   "id": "584604fc-1586-45cb-a9d7-46f133a531f8",
   "metadata": {},
   "source": [
    "#### **Business-as-usual - New Power Plant Sitings**"
   ]
  },
  {
   "cell_type": "code",
   "execution_count": null,
   "id": "b3fcbb13-6ac5-4420-b274-ba3ab15fef28",
   "metadata": {},
   "outputs": [],
   "source": [
    "# settings\n",
    "input_df = df_bau.copy()\n",
    "raster_list = farm_raster_list\n",
    "layer_dict = farm_dict\n",
    "analysis_type = 'Important Farmland Layers'\n",
    "scenario = f'Business-as-usual by {year}'\n",
    "output_file = bau_farm_path\n",
    "\n",
    "print(f'Calculating power plant intersections for {analysis_type} & {scenario}...')\n",
    "# conduct an analysis of intersections with each of the DAC layers\n",
    "analysis_df = analyze_intersections(df=input_df, raster_list=raster_list, layer_name_dict=layer_dict)\n",
    "\n",
    "print(f'Saving output to {output_file}')\n",
    "analysis_df.to_csv(output_file, index=False)\n",
    "print('Done')"
   ]
  },
  {
   "cell_type": "markdown",
   "id": "9f9bb329-904a-4db0-b3b8-cf789813e683",
   "metadata": {},
   "source": [
    "_________"
   ]
  },
  {
   "cell_type": "markdown",
   "id": "6b848a91-3d76-4534-bb2c-3b7a48b33d1f",
   "metadata": {},
   "source": [
    "## Natural Area Proximity\n",
    "\n",
    "<b> Scientific Question Addressed </b>: Under decarbonization and business-as-usual scenarios, how much land required for new power plant infrastructure intersects with areas in close proximity to natural areas?"
   ]
  },
  {
   "cell_type": "code",
   "execution_count": null,
   "id": "6e9c365e-5761-4a72-9a80-c376cf5b8c12",
   "metadata": {},
   "outputs": [],
   "source": [
    "# create a list of paths to the DAC layers\n",
    "env_raster_list = []\n",
    "for layer in env_dict:\n",
    "    layer_name = env_dict[layer]\n",
    "    layer_path = os.path.join(all_area_raster_dir, layer)\n",
    "    env_raster_list.append(layer_path)"
   ]
  },
  {
   "cell_type": "markdown",
   "id": "98918e9d-39ed-44d7-822c-4fd1a386d159",
   "metadata": {},
   "source": [
    "#### Clean Grid - New Power Plant Sitings"
   ]
  },
  {
   "cell_type": "code",
   "execution_count": null,
   "id": "19c98957-2614-4df3-9895-8295be5296b1",
   "metadata": {},
   "outputs": [],
   "source": [
    "# settings\n",
    "input_df = df_clean_grid.copy()\n",
    "raster_list = env_raster_list\n",
    "layer_dict = env_dict\n",
    "analysis_type = 'Natural Area Proximity'\n",
    "scenario = f'Net Zero by {year}'\n",
    "output_file = cg_env_path\n",
    "\n",
    "print(f'Calculating power plant intersections for {analysis_type} & {scenario}...')\n",
    "# conduct an analysis of intersections with each of the DAC layers\n",
    "analysis_df = analyze_intersections(df=input_df, raster_list=raster_list, layer_name_dict=layer_dict)\n",
    "\n",
    "print(f'Saving output to {output_file}')\n",
    "analysis_df.to_csv(output_file, index=False)\n",
    "print('Done')"
   ]
  },
  {
   "cell_type": "markdown",
   "id": "56e283c7-ffe5-4be6-b50c-d91e807bdbff",
   "metadata": {},
   "source": [
    "#### **Business-as-usual - New Power Plant Sitings**"
   ]
  },
  {
   "cell_type": "code",
   "execution_count": null,
   "id": "5ad521b8-68be-40df-8988-59e3eb43813e",
   "metadata": {},
   "outputs": [],
   "source": [
    "# settings\n",
    "input_df = df_bau.copy()\n",
    "raster_list = env_raster_list\n",
    "layer_dict = env_dict\n",
    "analysis_type = 'Natural Area Proximity'\n",
    "scenario = f'Business-as-usual by {year}'\n",
    "output_file = bau_env_path\n",
    "\n",
    "print(f'Calculating power plant intersections for {analysis_type} & {scenario}...')\n",
    "# conduct an analysis of intersections with each of the DAC layers\n",
    "analysis_df = analyze_intersections(df=input_df, raster_list=raster_list, layer_name_dict=layer_dict)\n",
    "\n",
    "print(f'Saving output to {output_file}')\n",
    "analysis_df.to_csv(output_file, index=False)\n",
    "print('Done')"
   ]
  },
  {
   "cell_type": "markdown",
   "id": "65da0720-1632-420c-a264-42fb4a56e1f6",
   "metadata": {},
   "source": [
    "___________ "
   ]
  },
  {
   "cell_type": "markdown",
   "id": "ddf6f3ae-5941-4fe2-a61e-29dc107ace02",
   "metadata": {},
   "source": [
    "# Difference Between Scenarios Analysis\n",
    "This section calculates the additional land intersections between the Net Zero and Business-as-usual scenario."
   ]
  },
  {
   "cell_type": "markdown",
   "id": "3688e143-ff5f-4905-b425-d33da6f76bc6",
   "metadata": {},
   "source": [
    "## Disadvantaged Communities"
   ]
  },
  {
   "cell_type": "code",
   "execution_count": null,
   "id": "3097c6ad-fc10-45f7-ae71-0384138ee09c",
   "metadata": {},
   "outputs": [],
   "source": [
    "# clean grid settings\n",
    "input_df = df_clean_grid.copy()\n",
    "raster_list = dac_raster_list\n",
    "layer_dict = dac_dict\n",
    "analysis_type = 'Disadvantaged Communities'\n",
    "scenario = f'Net Zero by {year}'\n",
    "\n",
    "print(f'Calculating power plant intersections for {analysis_type} & {scenario}...')\n",
    "# conduct an analysis of intersections with each of the layers\n",
    "clean_grid_analysis_df = analyze_intersections(df=input_df, raster_list=raster_list, layer_name_dict=layer_dict)\n",
    "\n",
    "# bau settings\n",
    "input_df = df_bau.copy()\n",
    "raster_list = dac_raster_list\n",
    "layer_dict = dac_dict\n",
    "analysis_type = 'Disadvantaged Communities'\n",
    "scenario = f'Business-as-usual by {year}'\n",
    "\n",
    "output_file = diff_dac_path\n",
    "\n",
    "print(f'Calculating power plant intersections for {analysis_type} & {scenario}...')\n",
    "# conduct an analysis of intersections with each of the layers\n",
    "bau_analysis_df = analyze_intersections(df=input_df, raster_list=raster_list, layer_name_dict=layer_dict)\n",
    "\n",
    "print(f'Calculating difference in power plant intersections for {analysis_type}...')\n",
    "# calculate the intersection difference between scenarios\n",
    "analysis_df = calculate_intersection_difference(clean_grid_analysis_df, bau_analysis_df)\n",
    "\n",
    "print(f'Saving output to {output_file}')\n",
    "analysis_df.to_csv(output_file, index=False)\n",
    "print('Done')"
   ]
  },
  {
   "cell_type": "markdown",
   "id": "eb14eda9-47e0-405e-8a1b-44c4a443b4b5",
   "metadata": {},
   "source": [
    "_______"
   ]
  },
  {
   "cell_type": "markdown",
   "id": "e13402af-e5b8-4c30-84be-de60feb677d6",
   "metadata": {},
   "source": [
    "## Important Farmland"
   ]
  },
  {
   "cell_type": "code",
   "execution_count": null,
   "id": "183bd7fb-50c7-42b2-9226-fd6f836bd96f",
   "metadata": {},
   "outputs": [],
   "source": [
    "# clean grid settings\n",
    "input_df = df_clean_grid.copy()\n",
    "raster_list = farm_raster_list\n",
    "layer_dict = farm_dict\n",
    "analysis_type = 'Important Farmland'\n",
    "scenario = f'Net Zero by {year}'\n",
    "\n",
    "print(f'Calculating power plant intersections for {analysis_type} & {scenario}...')\n",
    "# conduct an analysis of intersections with each of the layers\n",
    "clean_grid_analysis_df = analyze_intersections(df=input_df, raster_list=raster_list, layer_name_dict=layer_dict)\n",
    "\n",
    "# bau settings\n",
    "input_df = df_bau.copy()\n",
    "raster_list = farm_raster_list\n",
    "layer_dict = farm_dict\n",
    "analysis_type = 'Important Farmland'\n",
    "scenario = f'Business-as-usual by {year}'\n",
    "\n",
    "output_file = diff_farm_path\n",
    "\n",
    "print(f'Calculating power plant intersections for {analysis_type} & {scenario}...')\n",
    "# conduct an analysis of intersections with each of the layers\n",
    "bau_analysis_df = analyze_intersections(df=input_df, raster_list=raster_list, layer_name_dict=layer_dict)\n",
    "\n",
    "print(f'Calculating difference in power plant intersections for {analysis_type}...')\n",
    "# calculate the intersection difference between scenarios\n",
    "analysis_df = calculate_intersection_difference(clean_grid_analysis_df, bau_analysis_df)\n",
    "\n",
    "print(f'Saving output to {output_file}')\n",
    "analysis_df.to_csv(output_file, index=False)\n",
    "print('Done')"
   ]
  },
  {
   "cell_type": "markdown",
   "id": "a7d28173-2c75-4223-a8ab-0d1f5f8f5c3f",
   "metadata": {},
   "source": [
    "__________"
   ]
  },
  {
   "cell_type": "markdown",
   "id": "3d258319-eec4-4d91-b072-2b7e4e2fb048",
   "metadata": {},
   "source": [
    "## Natural Area Proximity\n"
   ]
  },
  {
   "cell_type": "code",
   "execution_count": null,
   "id": "55c44cfa-fcd8-4a5e-8d87-78b683d2b48c",
   "metadata": {},
   "outputs": [],
   "source": [
    "# clean grid settings\n",
    "input_df = df_clean_grid.copy()\n",
    "raster_list = env_raster_list\n",
    "layer_dict = env_dict\n",
    "analysis_type = 'Natural Area Proximity'\n",
    "scenario = f'Net Zero by {year}'\n",
    "\n",
    "print(f'Calculating power plant intersections for {analysis_type} & {scenario}...')\n",
    "# conduct an analysis of intersections with each of the layers\n",
    "clean_grid_analysis_df = analyze_intersections(df=input_df, raster_list=raster_list, layer_name_dict=layer_dict)\n",
    "\n",
    "# bau settings\n",
    "input_df = df_bau.copy()\n",
    "raster_list = env_raster_list\n",
    "layer_dict = env_dict\n",
    "analysis_type = 'Natural Area Proximity'\n",
    "scenario = f'Business-as-usual by {year}'\n",
    "\n",
    "output_file = diff_env_path\n",
    "\n",
    "print(f'Calculating power plant intersections for {analysis_type} & {scenario}...')\n",
    "# conduct an analysis of intersections with each of the layers\n",
    "bau_analysis_df = analyze_intersections(df=input_df, raster_list=raster_list, layer_name_dict=layer_dict)\n",
    "\n",
    "print(f'Calculating difference in power plant intersections for {analysis_type}...')\n",
    "# calculate the intersection difference between scenarios\n",
    "analysis_df = calculate_intersection_difference(clean_grid_analysis_df, bau_analysis_df)\n",
    "\n",
    "print(f'Saving output to {output_file}')\n",
    "analysis_df.to_csv(output_file, index=False)\n",
    "print('Done')"
   ]
  },
  {
   "cell_type": "markdown",
   "id": "87b55d38-d3fb-449b-9f70-c6b4be595a46",
   "metadata": {},
   "source": [
    "### How Many 2020 Power Plants Intersect with DACs?"
   ]
  },
  {
   "cell_type": "code",
   "execution_count": null,
   "id": "35b66121-7e94-4fa1-9b2a-36d40c0502b4",
   "metadata": {},
   "outputs": [],
   "source": [
    "# collect 2020 power plant locations\n",
    "prev_df = df[df.scenario =='net_zero_ira_ccs_climate'].copy()\n",
    "prev_df = prev_df[prev_df.cerf_sited == 0]\n",
    "prev_df = prev_df[prev_df.sited_year<2021]\n",
    "\n",
    "# extract their coordinates\n",
    "coords = extract_coords(prev_df)\n",
    "\n",
    "\n",
    "raster = os.path.join(all_area_raster_dir, 'gridcerf_usceq_cejst_exclude_all_dacs.tif')\n",
    "with rasterio.open(raster) as src:\n",
    "\n",
    "    # extract the suitability value (0 == suitable; 1 == unsuitable) for each power plant\n",
    "    extract_suitability_at_points = [int(i[0]) for i in src.sample(coords)]\n",
    "\n",
    "    # get the count of unsuitable designations\n",
    "    n_conflict_plants = len([i for i in extract_suitability_at_points if i == 1])\n",
    "\n",
    "print(f'{n_conflict_plants} square km of power plant infrastructure intersects with DACs in 2020.')"
   ]
  }
 ],
 "metadata": {
  "kernelspec": {
   "display_name": "Python 3 (ipykernel)",
   "language": "python",
   "name": "python3"
  },
  "language_info": {
   "codemirror_mode": {
    "name": "ipython",
    "version": 3
   },
   "file_extension": ".py",
   "mimetype": "text/x-python",
   "name": "python",
   "nbconvert_exporter": "python",
   "pygments_lexer": "ipython3",
   "version": "3.11.0"
  }
 },
 "nbformat": 4,
 "nbformat_minor": 5
}
