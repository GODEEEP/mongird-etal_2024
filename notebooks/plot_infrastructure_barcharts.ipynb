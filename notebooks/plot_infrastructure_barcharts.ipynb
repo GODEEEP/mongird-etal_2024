{
 "cells": [
  {
   "cell_type": "markdown",
   "id": "baf35841-7419-4c90-809f-f73c22523683",
   "metadata": {},
   "source": [
    "# Create Infrastructure Barcharts\n",
    "\n",
    "This notebook provides the code to create barcharts of (1) new power plant capacity through 2050 by state and techonlogy and (2) land usage (km-squared) of new power plants through 2050 by state and technology"
   ]
  },
  {
   "cell_type": "markdown",
   "id": "3e231121-853f-4621-92cd-17511e784f20",
   "metadata": {},
   "source": [
    "### Imports"
   ]
  },
  {
   "cell_type": "code",
   "execution_count": 1,
   "id": "73940584-a658-4ece-84d8-a299625e18a8",
   "metadata": {},
   "outputs": [],
   "source": [
    "import pandas as pd\n",
    "import plotly.express as px\n",
    "import numpy as np\n",
    "import geopandas as gpd\n",
    "import matplotlib.pyplot as plt\n",
    "from PIL import Image\n",
    "import os"
   ]
  },
  {
   "cell_type": "markdown",
   "id": "28653cd0-6579-4248-b5ab-bc5a4c787ebf",
   "metadata": {},
   "source": [
    "### Settings"
   ]
  },
  {
   "cell_type": "code",
   "execution_count": 2,
   "id": "c7cc5f95-9ca5-4e43-9618-3316fa0c533e",
   "metadata": {},
   "outputs": [],
   "source": [
    "color_map_dict={\n",
    "    'Natural Gas':'#bdb59d',\n",
    "    'Coal': '#75736d',\n",
    "    'Solar PV': '#F7B615',\n",
    "    'Solar CSP': '#f1781b',\n",
    "    'Wind': '#95C060', \n",
    "    'Nuclear': '#6D547C', \n",
    "    'Offshore Wind':'#2B7F9E', \n",
    "    'Biomass': '#713275',\n",
    "    'Geothermal': '#BB3B1C', \n",
    "    'Oil': '#BB3B1C',\n",
    "    'Hydro': '#14345e'}"
   ]
  },
  {
   "cell_type": "markdown",
   "id": "af117648-e4d0-4d02-8816-18e0fc000d36",
   "metadata": {},
   "source": [
    "### Data Paths"
   ]
  },
  {
   "cell_type": "code",
   "execution_count": 3,
   "id": "2ca02819-d08e-4eee-846b-3ff5a0dfae3b",
   "metadata": {},
   "outputs": [],
   "source": [
    "# data dir\n",
    "data_dir = os.path.join(os.path.dirname(os.getcwd()), 'data', 'input_data')\n",
    "\n",
    "# output figure dir\n",
    "fig_dir = os.path.join(os.path.dirname(os.getcwd()), 'figures', 'infrastructure_barcharts')\n",
    "\n",
    "# infrastructure siting output csv\n",
    "infrastucture_path = os.path.join(data_dir, 'infrastructure_data_csv', 'infrastructure_data_2050.csv')\n",
    "\n",
    "# CONUS shapefile\n",
    "conus_shp_path = os.path.join(data_dir, 'conus_shp', 'cb_2018_us_state_5m', 'cb_2018_us_state_5m.shp')"
   ]
  },
  {
   "cell_type": "markdown",
   "id": "bbd2dae8-497a-4cde-9c78-303dc1911cc1",
   "metadata": {},
   "source": [
    "### Functions"
   ]
  },
  {
   "cell_type": "code",
   "execution_count": 4,
   "id": "1b3d2518-1a7e-4cb7-8515-0fb49c7357af",
   "metadata": {},
   "outputs": [],
   "source": [
    "def plot_infrastructure_bar(df, scenario, title, year, output_file_name):\n",
    "\n",
    "    df_plot = df[df.scenario==scenario].copy()\n",
    "    df_plot['unit_size_mw'] = df_plot['unit_size_mw'] / 1000\n",
    "    df_plot = df_plot.rename(columns={'unit_size_mw': 'GW', 'tech_name_simple':'Technology'})\n",
    "\n",
    "    # collect new infrastructure\n",
    "    new_df = df_plot[df_plot.cerf_sited == 1].copy()\n",
    "    new_df['Year'] = new_df.sited_year\n",
    "    new_df = new_df.groupby(['Technology', 'Year'], as_index=False).sum()\n",
    "\n",
    "    # collect new infrastructure\n",
    "    ret_df = df_plot[df_plot.cerf_sited == 0].copy()\n",
    "    ret_df['GW'] = ret_df['GW'] * -1\n",
    "    ret_df = ret_df[ret_df.retirement_year <= year]\n",
    "    ret_df['Year'] = ret_df.retirement_year\n",
    "    ret_df = ret_df.groupby(['Technology', 'Year'], as_index=False).sum()\n",
    "\n",
    "    fig_df = pd.concat([new_df, ret_df])\n",
    "\n",
    "    fig = px.bar(fig_df, x=\"Year\", y='GW', color=\"Technology\", title=title, color_discrete_map=color_map_dict, width=900, height=500)\n",
    "    fig.update_yaxes(range=[-75, 150])    \n",
    "    fig.update_layout(uniformtext_minsize=18, uniformtext_mode='hide',  plot_bgcolor = 'white', paper_bgcolor ='white')\n",
    "    fig.update_yaxes(title=\"GW\", showgrid = True,  gridcolor = '#bdbdbd')\n",
    "    fig.add_hline(y=0,line_width=3, line_dash=\"dash\", line_color=\"black\")\n",
    "\n",
    "    fig.update_xaxes(tickmode = 'array',\n",
    "                     tickvals = list(range(2025, year+1, 5)),\n",
    "                     ticktext= ['2025', '2030', '2035', '2040', '2045', '2050'])\n",
    "    fig.update_traces(width=3)\n",
    "\n",
    "    fig.write_image(os.path.join(fig_dir , output_file_name))\n",
    "    \n",
    "    return fig.show()\n",
    "\n",
    "\n",
    "def plot_state_bar_capacity(df, scenario, year, output_file_name, title):\n",
    "\n",
    "    df_bar = df[df.scenario==scenario].copy()\n",
    "    \n",
    "    df_bar = df_bar[df_bar.cerf_sited==1]\n",
    "    \n",
    "    df_bar = df_bar[['region_name', 'tech_name_simple', 'unit_size_mw']].groupby(['region_name', 'tech_name_simple'], as_index=False).sum()\n",
    "    \n",
    "    df_bar = df_bar.rename(columns={'tech_name_simple':'Technology', 'region_name': 'State'})\n",
    "    \n",
    "    df_bar['unit_size_mw'] = df_bar['unit_size_mw']/1000\n",
    "    \n",
    "    fig = px.bar(df_bar, x=\"State\", y='unit_size_mw', color=\"Technology\", title=title,\n",
    "                color_discrete_map=color_map_dict,\n",
    "                width=1000, height=500)\n",
    "    fig.update_layout(uniformtext_minsize=18, uniformtext_mode='hide', yaxis_range=[0,160], plot_bgcolor = 'white', paper_bgcolor ='white')\n",
    "    fig.update_yaxes(title=\"GW\", showgrid = True,  gridcolor = '#bdbdbd')\n",
    "\n",
    "    fig.update_xaxes(categoryorder='category ascending')\n",
    "\n",
    "    fig.write_image(os.path.join(fig_dir , output_file_name))\n",
    "    \n",
    "    return fig.show()\n",
    "\n",
    "\n",
    "def plot_state_bar_land(df, scenario, year, output_file_name, title):\n",
    "\n",
    "    df_bar = df[df.scenario==scenario].copy()\n",
    "    \n",
    "    df_bar = df_bar[df_bar.cerf_sited==1]\n",
    "    \n",
    "    df_bar = df_bar.groupby(['region_name', 'tech_name_simple'], as_index=False).count()\n",
    "    \n",
    "    df_bar = df_bar.rename(columns={'tech_name_simple':'Technology', 'region_name': 'State'})\n",
    "    \n",
    "    fig = px.bar(df_bar, x=\"State\", y='xcoord', color=\"Technology\", title=title,\n",
    "                color_discrete_map=color_map_dict,\n",
    "                width=1000, height=500)\n",
    "    fig.update_layout(uniformtext_minsize=18, uniformtext_mode='hide', yaxis_range=[0,4500], plot_bgcolor = 'white', paper_bgcolor ='white')\n",
    "    fig.update_yaxes(title=\"square km\", showgrid = True,  gridcolor = '#bdbdbd')\n",
    "    \n",
    "    fig.update_xaxes(categoryorder='category ascending')\n",
    "\n",
    "    fig.write_image(os.path.join(fig_dir , output_file_name))\n",
    "    \n",
    "    return fig.show()"
   ]
  },
  {
   "cell_type": "markdown",
   "id": "a87240bd-e02e-4ad9-8a91-1ea5b3ccabaf",
   "metadata": {},
   "source": [
    "### Collect Data"
   ]
  },
  {
   "cell_type": "code",
   "execution_count": 26,
   "id": "b6399ba9-6b1c-4f23-b15d-40a1f1cb39da",
   "metadata": {},
   "outputs": [],
   "source": [
    "# read in infrastructure data\n",
    "df = pd.read_csv(infrastucture_path)"
   ]
  },
  {
   "cell_type": "code",
   "execution_count": 27,
   "id": "b9947059-ad0d-4a11-9902-067b8ab510b0",
   "metadata": {},
   "outputs": [],
   "source": [
    "year = 2050\n",
    "\n",
    "# reduce to year of interest\n",
    "df = df[df.sited_year <=year]"
   ]
  },
  {
   "cell_type": "markdown",
   "id": "c6e6ab6f-b385-4dfe-b7cf-3aa8a638ce72",
   "metadata": {},
   "source": [
    "## Create Figures"
   ]
  },
  {
   "cell_type": "markdown",
   "id": "0826f192-ca00-45a7-a1a8-07a37f398753",
   "metadata": {},
   "source": [
    "#### Reference map"
   ]
  },
  {
   "cell_type": "code",
   "execution_count": 83,
   "id": "9f59a69d-64cd-4474-b719-1447fcf91a9f",
   "metadata": {},
   "outputs": [
    {
     "data": {
      "image/png": "[encoded data removed]",
      "text/plain": [
       "<Figure size 250x200 with 1 Axes>"
      ]
     },
     "metadata": {},
     "output_type": "display_data"
    }
   ],
   "source": [
    "conus = gpd.read_file(conus_shp_path).to_crs('ESRI:102003')\n",
    "conus#.plot()\n",
    "\n",
    "conus = conus[~conus.STUSPS.isin(['AS', 'VI', 'HI', 'AK', 'PR', 'MP', 'GU'])]\n",
    "wecc_states = ['CA', 'OR', 'WA', 'MT', 'ID', 'WY', 'UT', 'NV', 'AZ', 'NM', 'CO']\n",
    "conus_boundary = conus.dissolve()\n",
    "\n",
    "figsize = (2.5, 2)\n",
    "fig, ax = plt.subplots(figsize=figsize)\n",
    "ax.set_axis_off();\n",
    "conus.plot(ax=ax, color='white')\n",
    "conus[conus.STUSPS.isin(wecc_states)].plot(ax=ax, color='#878c94')\n",
    "conus.boundary.plot(ax=ax, color='white', lw=.2)\n",
    "conus_boundary.boundary.plot(ax=ax, color='black', lw=.4)\n",
    "plt.tight_layout()\n",
    "output_file_name = 'reference_map.png'\n",
    "plt.savefig(os.path.join(fig_dir , output_file_name), dpi=300)\n",
    "plt.show()"
   ]
  },
  {
   "cell_type": "markdown",
   "id": "45af64ff-fc5a-42e6-9588-37761ae3846b",
   "metadata": {},
   "source": [
    "### Figure 1 - Comparison of Land Usage and Capacity Additions by State and Scenario"
   ]
  },
  {
   "cell_type": "code",
   "execution_count": 91,
   "id": "e790e8ef-3e75-4f49-900a-6cf38c9336ae",
   "metadata": {},
   "outputs": [],
   "source": [
    "df_bar = df.copy()\n",
    "df_bar = df_bar[df_bar.cerf_sited==1]\n",
    "\n",
    "df_cap = df_bar.copy()\n",
    "df_cap = df_cap[['scenario', 'region_name', 'tech_name_simple', 'unit_size_mw']].groupby(['scenario','region_name', \n",
    "                                                                                          'tech_name_simple'], as_index=False).sum()\n",
    "df_cap = df_cap.rename(columns={'tech_name_simple':'Technology', 'region_name': 'State'})\n",
    "df_cap['GW'] = df_cap['unit_size_mw']/1000\n",
    "\n",
    "df_cap = pd.melt(df_cap, id_vars=['Technology', 'State', 'scenario'], value_vars=['GW'],\n",
    "        var_name='var', value_name='value')\n",
    "\n",
    "df_km = df_bar.copy()\n",
    "df_km = df_km[['scenario', 'region_name', 'tech_name_simple', 'unit_size_mw']].groupby(['scenario','region_name', \n",
    "                                                                                        'tech_name_simple'], as_index=False).count()\n",
    "df_km = df_km.rename(columns={'tech_name_simple':'Technology', 'region_name': 'State', 'unit_size_mw':'km-squared'})\n",
    "df_km = pd.melt(df_km, id_vars=['Technology', 'State', 'scenario'], value_vars=['km-squared'],\n",
    "        var_name='var', value_name='value')\n",
    "\n",
    "\n",
    "df_plot = pd.concat([df_cap, df_km])\n",
    "\n",
    "df_plot['scenario'].replace('business_as_usual_ira_ccs_climate', 'Business-as-usual', inplace=True)\n",
    "df_plot['scenario'].replace('net_zero_ira_ccs_climate', 'Clean Grid', inplace=True)\n",
    "df_plot['State'] = df_plot['State'].str.title()\n",
    "df_plot['State'] = df_plot['State'].replace(\"New_Mexico\", \"New Mexico\")"
   ]
  },
  {
   "cell_type": "code",
   "execution_count": 121,
   "id": "d1a8bf66-cf29-4011-9eb3-79d38622ea4e",
   "metadata": {},
   "outputs": [
    {
     "data": {
      "application/vnd.plotly.v1+json": {
       "config": {
        "plotlyServerURL": "https://plot.ly"
       },
       "data": [
        {
         "alignmentgroup": "True",
         "hovertemplate": "Technology=Biomass<br>var=GW<br>scenario=Business-as-usual<br>State=%{x}<br>value=%{y}<extra></extra>",
         "legendgroup": "Biomass",
         "marker": {
          "color": "#713275",
          "pattern": {
           "shape": ""
          }
         },
         "name": "Biomass",
         "offsetgroup": "Biomass",
         "orientation": "v",
         "showlegend": true,
         "textposition": "auto",
         "type": "bar",
         "x": [
          "Arizona",
          "California",
          "Colorado",
          "Idaho",
          "New Mexico",
          "Utah",
          "Washington"
         ],
         "xaxis": "x3",
         "y": [
          0.1,
          1.1,
          0.05,
          0.05,
          0.05,
          0.1,
          0.05
         ],
         "yaxis": "y3"
        },
        {
         "alignmentgroup": "True",
         "hovertemplate": "Technology=Biomass<br>var=GW<br>scenario=Clean Grid<br>State=%{x}<br>value=%{y}<extra></extra>",
         "legendgroup": "Biomass",
         "marker": {
          "color": "#713275",
          "pattern": {
           "shape": ""
          }
         },
         "name": "Biomass",
         "offsetgroup": "Biomass",
         "orientation": "v",
         "showlegend": false,
         "textposition": "auto",
         "type": "bar",
         "x": [
          "Arizona",
          "California",
          "Colorado",
          "Idaho",
          "Montana",
          "Nevada",
          "New Mexico",
          "Oregon",
          "Utah",
          "Washington",
          "Wyoming"
         ],
         "xaxis": "x4",
         "y": [
          0.75,
          8.55,
          0.8,
          0.3,
          0.45,
          0.1,
          0.45,
          0.4,
          0.45,
          0.55,
          0.9
         ],
         "yaxis": "y4"
        },
        {
         "alignmentgroup": "True",
         "hovertemplate": "Technology=Biomass<br>var=km-squared<br>scenario=Business-as-usual<br>State=%{x}<br>value=%{y}<extra></extra>",
         "legendgroup": "Biomass",
         "marker": {
          "color": "#713275",
          "pattern": {
           "shape": ""
          }
         },
         "name": "Biomass",
         "offsetgroup": "Biomass",
         "orientation": "v",
         "showlegend": false,
         "textposition": "auto",
         "type": "bar",
         "x": [
          "Arizona",
          "California",
          "Colorado",
          "Idaho",
          "New Mexico",
          "Utah",
          "Washington"
         ],
         "xaxis": "x",
         "y": [
          2,
          22,
          1,
          1,
          1,
          2,
          1
         ],
         "yaxis": "y"
        },
        {
         "alignmentgroup": "True",
         "hovertemplate": "Technology=Biomass<br>var=km-squared<br>scenario=Clean Grid<br>State=%{x}<br>value=%{y}<extra></extra>",
         "legendgroup": "Biomass",
         "marker": {
          "color": "#713275",
          "pattern": {
           "shape": ""
          }
         },
         "name": "Biomass",
         "offsetgroup": "Biomass",
         "orientation": "v",
         "showlegend": false,
         "textposition": "auto",
         "type": "bar",
         "x": [
          "Arizona",
          "California",
          "Colorado",
          "Idaho",
          "Montana",
          "Nevada",
          "New Mexico",
          "Oregon",
          "Utah",
          "Washington",
          "Wyoming"
         ],
         "xaxis": "x2",
         "y": [
          15,
          144,
          16,
          6,
          9,
          2,
          9,
          8,
          9,
          11,
          18
         ],
         "yaxis": "y2"
        },
        {
         "alignmentgroup": "True",
         "hovertemplate": "Technology=Coal<br>var=GW<br>scenario=Business-as-usual<br>State=%{x}<br>value=%{y}<extra></extra>",
         "legendgroup": "Coal",
         "marker": {
          "color": "#75736d",
          "pattern": {
           "shape": ""
          }
         },
         "name": "Coal",
         "offsetgroup": "Coal",
         "orientation": "v",
         "showlegend": true,
         "textposition": "auto",
         "type": "bar",
         "x": [
          "Arizona",
          "Colorado",
          "Montana",
          "Nevada",
          "Utah",
          "Washington",
          "Wyoming"
         ],
         "xaxis": "x3",
         "y": [
          0.65,
          0.65,
          0.65,
          0.65,
          0.65,
          0.65,
          0.65
         ],
         "yaxis": "y3"
        },
        {
         "alignmentgroup": "True",
         "hovertemplate": "Technology=Coal<br>var=GW<br>scenario=Clean Grid<br>State=%{x}<br>value=%{y}<extra></extra>",
         "legendgroup": "Coal",
         "marker": {
          "color": "#75736d",
          "pattern": {
           "shape": ""
          }
         },
         "name": "Coal",
         "offsetgroup": "Coal",
         "orientation": "v",
         "showlegend": false,
         "textposition": "auto",
         "type": "bar",
         "x": [
          "Arizona",
          "Colorado",
          "Montana",
          "Nevada",
          "Utah",
          "Washington",
          "Wyoming"
         ],
         "xaxis": "x4",
         "y": [
          1.3,
          0.65,
          0.65,
          0.65,
          1.95,
          0.65,
          0.65
         ],
         "yaxis": "y4"
        },
        {
         "alignmentgroup": "True",
         "hovertemplate": "Technology=Coal<br>var=km-squared<br>scenario=Business-as-usual<br>State=%{x}<br>value=%{y}<extra></extra>",
         "legendgroup": "Coal",
         "marker": {
          "color": "#75736d",
          "pattern": {
           "shape": ""
          }
         },
         "name": "Coal",
         "offsetgroup": "Coal",
         "orientation": "v",
         "showlegend": false,
         "textposition": "auto",
         "type": "bar",
         "x": [
          "Arizona",
          "Colorado",
          "Montana",
          "Nevada",
          "Utah",
          "Washington",
          "Wyoming"
         ],
         "xaxis": "x",
         "y": [
          1,
          1,
          1,
          1,
          1,
          1,
          1
         ],
         "yaxis": "y"
        },
        {
         "alignmentgroup": "True",
         "hovertemplate": "Technology=Coal<br>var=km-squared<br>scenario=Clean Grid<br>State=%{x}<br>value=%{y}<extra></extra>",
         "legendgroup": "Coal",
         "marker": {
          "color": "#75736d",
          "pattern": {
           "shape": ""
          }
         },
         "name": "Coal",
         "offsetgroup": "Coal",
         "orientation": "v",
         "showlegend": false,
         "textposition": "auto",
         "type": "bar",
         "x": [
          "Arizona",
          "Colorado",
          "Montana",
          "Nevada",
          "Utah",
          "Washington",
          "Wyoming"
         ],
         "xaxis": "x2",
         "y": [
          2,
          1,
          1,
          1,
          3,
          1,
          1
         ],
         "yaxis": "y2"
        },
        {
         "alignmentgroup": "True",
         "hovertemplate": "Technology=Natural Gas<br>var=GW<br>scenario=Business-as-usual<br>State=%{x}<br>value=%{y}<extra></extra>",
         "legendgroup": "Natural Gas",
         "marker": {
          "color": "#bdb59d",
          "pattern": {
           "shape": ""
          }
         },
         "name": "Natural Gas",
         "offsetgroup": "Natural Gas",
         "orientation": "v",
         "showlegend": true,
         "textposition": "auto",
         "type": "bar",
         "x": [
          "Arizona",
          "California",
          "Colorado",
          "Montana",
          "Nevada",
          "Oregon",
          "Utah",
          "Washington",
          "Wyoming"
         ],
         "xaxis": "x3",
         "y": [
          3.473,
          1.938,
          0.646,
          0.646,
          0.646,
          0.646,
          4.927,
          0.646,
          4.281
         ],
         "yaxis": "y3"
        },
        {
         "alignmentgroup": "True",
         "hovertemplate": "Technology=Natural Gas<br>var=GW<br>scenario=Clean Grid<br>State=%{x}<br>value=%{y}<extra></extra>",
         "legendgroup": "Natural Gas",
         "marker": {
          "color": "#bdb59d",
          "pattern": {
           "shape": ""
          }
         },
         "name": "Natural Gas",
         "offsetgroup": "Natural Gas",
         "orientation": "v",
         "showlegend": false,
         "textposition": "auto",
         "type": "bar",
         "x": [
          "Arizona",
          "California",
          "Colorado",
          "Montana",
          "Nevada",
          "New Mexico",
          "Oregon",
          "Utah",
          "Washington",
          "Wyoming"
         ],
         "xaxis": "x4",
         "y": [
          2.584,
          1.938,
          0.646,
          0.646,
          0.646,
          0.646,
          0.646,
          1.938,
          0.646,
          0.646
         ],
         "yaxis": "y4"
        },
        {
         "alignmentgroup": "True",
         "hovertemplate": "Technology=Natural Gas<br>var=km-squared<br>scenario=Business-as-usual<br>State=%{x}<br>value=%{y}<extra></extra>",
         "legendgroup": "Natural Gas",
         "marker": {
          "color": "#bdb59d",
          "pattern": {
           "shape": ""
          }
         },
         "name": "Natural Gas",
         "offsetgroup": "Natural Gas",
         "orientation": "v",
         "showlegend": false,
         "textposition": "auto",
         "type": "bar",
         "x": [
          "Arizona",
          "California",
          "Colorado",
          "Montana",
          "Nevada",
          "Oregon",
          "Utah",
          "Washington",
          "Wyoming"
         ],
         "xaxis": "x",
         "y": [
          5,
          3,
          1,
          1,
          1,
          1,
          7,
          1,
          6
         ],
         "yaxis": "y"
        },
        {
         "alignmentgroup": "True",
         "hovertemplate": "Technology=Natural Gas<br>var=km-squared<br>scenario=Clean Grid<br>State=%{x}<br>value=%{y}<extra></extra>",
         "legendgroup": "Natural Gas",
         "marker": {
          "color": "#bdb59d",
          "pattern": {
           "shape": ""
          }
         },
         "name": "Natural Gas",
         "offsetgroup": "Natural Gas",
         "orientation": "v",
         "showlegend": false,
         "textposition": "auto",
         "type": "bar",
         "x": [
          "Arizona",
          "California",
          "Colorado",
          "Montana",
          "Nevada",
          "New Mexico",
          "Oregon",
          "Utah",
          "Washington",
          "Wyoming"
         ],
         "xaxis": "x2",
         "y": [
          4,
          3,
          1,
          1,
          1,
          1,
          1,
          3,
          1,
          1
         ],
         "yaxis": "y2"
        },
        {
         "alignmentgroup": "True",
         "hovertemplate": "Technology=Solar CSP<br>var=GW<br>scenario=Business-as-usual<br>State=%{x}<br>value=%{y}<extra></extra>",
         "legendgroup": "Solar CSP",
         "marker": {
          "color": "#f1781b",
          "pattern": {
           "shape": ""
          }
         },
         "name": "Solar CSP",
         "offsetgroup": "Solar CSP",
         "orientation": "v",
         "showlegend": true,
         "textposition": "auto",
         "type": "bar",
         "x": [
          "Arizona",
          "California",
          "Colorado",
          "Idaho",
          "Montana",
          "Nevada",
          "New Mexico",
          "Oregon",
          "Utah",
          "Washington",
          "Wyoming"
         ],
         "xaxis": "x3",
         "y": [
          3.35,
          5.25,
          2.1,
          0.05,
          0.8,
          2.7,
          1.3,
          0.3,
          6.3,
          0.35,
          2.1
         ],
         "yaxis": "y3"
        },
        {
         "alignmentgroup": "True",
         "hovertemplate": "Technology=Solar CSP<br>var=GW<br>scenario=Clean Grid<br>State=%{x}<br>value=%{y}<extra></extra>",
         "legendgroup": "Solar CSP",
         "marker": {
          "color": "#f1781b",
          "pattern": {
           "shape": ""
          }
         },
         "name": "Solar CSP",
         "offsetgroup": "Solar CSP",
         "orientation": "v",
         "showlegend": false,
         "textposition": "auto",
         "type": "bar",
         "x": [
          "Arizona",
          "California",
          "Colorado",
          "Idaho",
          "Montana",
          "Nevada",
          "New Mexico",
          "Oregon",
          "Utah",
          "Washington",
          "Wyoming"
         ],
         "xaxis": "x4",
         "y": [
          5.3,
          11.45,
          4.1,
          0.1,
          1.85,
          4.5,
          2.55,
          0.65,
          10.8,
          0.75,
          3.3
         ],
         "yaxis": "y4"
        },
        {
         "alignmentgroup": "True",
         "hovertemplate": "Technology=Solar CSP<br>var=km-squared<br>scenario=Business-as-usual<br>State=%{x}<br>value=%{y}<extra></extra>",
         "legendgroup": "Solar CSP",
         "marker": {
          "color": "#f1781b",
          "pattern": {
           "shape": ""
          }
         },
         "name": "Solar CSP",
         "offsetgroup": "Solar CSP",
         "orientation": "v",
         "showlegend": false,
         "textposition": "auto",
         "type": "bar",
         "x": [
          "Arizona",
          "California",
          "Colorado",
          "Idaho",
          "Montana",
          "Nevada",
          "New Mexico",
          "Oregon",
          "Utah",
          "Washington",
          "Wyoming"
         ],
         "xaxis": "x",
         "y": [
          67,
          105,
          42,
          1,
          16,
          54,
          26,
          6,
          126,
          7,
          42
         ],
         "yaxis": "y"
        },
        {
         "alignmentgroup": "True",
         "hovertemplate": "Technology=Solar CSP<br>var=km-squared<br>scenario=Clean Grid<br>State=%{x}<br>value=%{y}<extra></extra>",
         "legendgroup": "Solar CSP",
         "marker": {
          "color": "#f1781b",
          "pattern": {
           "shape": ""
          }
         },
         "name": "Solar CSP",
         "offsetgroup": "Solar CSP",
         "orientation": "v",
         "showlegend": false,
         "textposition": "auto",
         "type": "bar",
         "x": [
          "Arizona",
          "California",
          "Colorado",
          "Idaho",
          "Montana",
          "Nevada",
          "New Mexico",
          "Oregon",
          "Utah",
          "Washington",
          "Wyoming"
         ],
         "xaxis": "x2",
         "y": [
          106,
          229,
          82,
          2,
          37,
          90,
          51,
          13,
          216,
          15,
          66
         ],
         "yaxis": "y2"
        },
        {
         "alignmentgroup": "True",
         "hovertemplate": "Technology=Solar PV<br>var=GW<br>scenario=Business-as-usual<br>State=%{x}<br>value=%{y}<extra></extra>",
         "legendgroup": "Solar PV",
         "marker": {
          "color": "#F7B615",
          "pattern": {
           "shape": ""
          }
         },
         "name": "Solar PV",
         "offsetgroup": "Solar PV",
         "orientation": "v",
         "showlegend": true,
         "textposition": "auto",
         "type": "bar",
         "x": [
          "Arizona",
          "California",
          "Colorado",
          "Idaho",
          "Montana",
          "Nevada",
          "New Mexico",
          "Oregon",
          "Utah",
          "Washington",
          "Wyoming"
         ],
         "xaxis": "x3",
         "y": [
          21.75,
          41.94,
          19.83,
          0.96,
          6.63,
          18.3,
          9.27,
          3.69,
          52.17,
          3.15,
          11.01
         ],
         "yaxis": "y3"
        },
        {
         "alignmentgroup": "True",
         "hovertemplate": "Technology=Solar PV<br>var=GW<br>scenario=Clean Grid<br>State=%{x}<br>value=%{y}<extra></extra>",
         "legendgroup": "Solar PV",
         "marker": {
          "color": "#F7B615",
          "pattern": {
           "shape": ""
          }
         },
         "name": "Solar PV",
         "offsetgroup": "Solar PV",
         "orientation": "v",
         "showlegend": false,
         "textposition": "auto",
         "type": "bar",
         "x": [
          "Arizona",
          "California",
          "Colorado",
          "Idaho",
          "Montana",
          "Nevada",
          "New Mexico",
          "Oregon",
          "Utah",
          "Washington",
          "Wyoming"
         ],
         "xaxis": "x4",
         "y": [
          27.42,
          67.92,
          27.75,
          1.26,
          11.64,
          23.88,
          13.56,
          5.61,
          68.25,
          5.1,
          13.62
         ],
         "yaxis": "y4"
        },
        {
         "alignmentgroup": "True",
         "hovertemplate": "Technology=Solar PV<br>var=km-squared<br>scenario=Business-as-usual<br>State=%{x}<br>value=%{y}<extra></extra>",
         "legendgroup": "Solar PV",
         "marker": {
          "color": "#F7B615",
          "pattern": {
           "shape": ""
          }
         },
         "name": "Solar PV",
         "offsetgroup": "Solar PV",
         "orientation": "v",
         "showlegend": false,
         "textposition": "auto",
         "type": "bar",
         "x": [
          "Arizona",
          "California",
          "Colorado",
          "Idaho",
          "Montana",
          "Nevada",
          "New Mexico",
          "Oregon",
          "Utah",
          "Washington",
          "Wyoming"
         ],
         "xaxis": "x",
         "y": [
          725,
          1398,
          661,
          32,
          221,
          610,
          309,
          123,
          1739,
          105,
          367
         ],
         "yaxis": "y"
        },
        {
         "alignmentgroup": "True",
         "hovertemplate": "Technology=Solar PV<br>var=km-squared<br>scenario=Clean Grid<br>State=%{x}<br>value=%{y}<extra></extra>",
         "legendgroup": "Solar PV",
         "marker": {
          "color": "#F7B615",
          "pattern": {
           "shape": ""
          }
         },
         "name": "Solar PV",
         "offsetgroup": "Solar PV",
         "orientation": "v",
         "showlegend": false,
         "textposition": "auto",
         "type": "bar",
         "x": [
          "Arizona",
          "California",
          "Colorado",
          "Idaho",
          "Montana",
          "Nevada",
          "New Mexico",
          "Oregon",
          "Utah",
          "Washington",
          "Wyoming"
         ],
         "xaxis": "x2",
         "y": [
          914,
          2264,
          925,
          42,
          388,
          796,
          452,
          187,
          2275,
          170,
          454
         ],
         "yaxis": "y2"
        },
        {
         "alignmentgroup": "True",
         "hovertemplate": "Technology=Wind<br>var=GW<br>scenario=Business-as-usual<br>State=%{x}<br>value=%{y}<extra></extra>",
         "legendgroup": "Wind",
         "marker": {
          "color": "#95C060",
          "pattern": {
           "shape": ""
          }
         },
         "name": "Wind",
         "offsetgroup": "Wind",
         "orientation": "v",
         "showlegend": true,
         "textposition": "auto",
         "type": "bar",
         "x": [
          "Arizona",
          "California",
          "Colorado",
          "Idaho",
          "Montana",
          "Nevada",
          "New Mexico",
          "Oregon",
          "Utah",
          "Washington",
          "Wyoming"
         ],
         "xaxis": "x3",
         "y": [
          9.798,
          28.8675,
          16.263,
          4.461,
          30.6375,
          3.0435,
          11.1645,
          7.257,
          10.7025,
          6.7095,
          26.6535
         ],
         "yaxis": "y3"
        },
        {
         "alignmentgroup": "True",
         "hovertemplate": "Technology=Wind<br>var=GW<br>scenario=Clean Grid<br>State=%{x}<br>value=%{y}<extra></extra>",
         "legendgroup": "Wind",
         "marker": {
          "color": "#95C060",
          "pattern": {
           "shape": ""
          }
         },
         "name": "Wind",
         "offsetgroup": "Wind",
         "orientation": "v",
         "showlegend": false,
         "textposition": "auto",
         "type": "bar",
         "x": [
          "Arizona",
          "California",
          "Colorado",
          "Idaho",
          "Montana",
          "Nevada",
          "New Mexico",
          "Oregon",
          "Utah",
          "Washington",
          "Wyoming"
         ],
         "xaxis": "x4",
         "y": [
          11.514,
          45.684,
          24.795,
          5.0355,
          44.385,
          3.897,
          16.6935,
          10.32,
          13.6185,
          9.6225,
          33.81
         ],
         "yaxis": "y4"
        },
        {
         "alignmentgroup": "True",
         "hovertemplate": "Technology=Wind<br>var=km-squared<br>scenario=Business-as-usual<br>State=%{x}<br>value=%{y}<extra></extra>",
         "legendgroup": "Wind",
         "marker": {
          "color": "#95C060",
          "pattern": {
           "shape": ""
          }
         },
         "name": "Wind",
         "offsetgroup": "Wind",
         "orientation": "v",
         "showlegend": false,
         "textposition": "auto",
         "type": "bar",
         "x": [
          "Arizona",
          "California",
          "Colorado",
          "Idaho",
          "Montana",
          "Nevada",
          "New Mexico",
          "Oregon",
          "Utah",
          "Washington",
          "Wyoming"
         ],
         "xaxis": "x",
         "y": [
          614,
          2025,
          1095,
          302,
          2141,
          206,
          756,
          514,
          722,
          471,
          1761
         ],
         "yaxis": "y"
        },
        {
         "alignmentgroup": "True",
         "hovertemplate": "Technology=Wind<br>var=km-squared<br>scenario=Clean Grid<br>State=%{x}<br>value=%{y}<extra></extra>",
         "legendgroup": "Wind",
         "marker": {
          "color": "#95C060",
          "pattern": {
           "shape": ""
          }
         },
         "name": "Wind",
         "offsetgroup": "Wind",
         "orientation": "v",
         "showlegend": false,
         "textposition": "auto",
         "type": "bar",
         "x": [
          "Arizona",
          "California",
          "Colorado",
          "Idaho",
          "Montana",
          "Nevada",
          "New Mexico",
          "Oregon",
          "Utah",
          "Washington",
          "Wyoming"
         ],
         "xaxis": "x2",
         "y": [
          715,
          3066,
          1596,
          336,
          2921,
          252,
          1081,
          695,
          878,
          641,
          2186
         ],
         "yaxis": "y2"
        },
        {
         "alignmentgroup": "True",
         "hovertemplate": "Technology=Offshore Wind<br>var=GW<br>scenario=Business-as-usual<br>State=%{x}<br>value=%{y}<extra></extra>",
         "legendgroup": "Offshore Wind",
         "marker": {
          "color": "#2B7F9E",
          "pattern": {
           "shape": ""
          }
         },
         "name": "Offshore Wind",
         "offsetgroup": "Offshore Wind",
         "orientation": "v",
         "showlegend": true,
         "textposition": "auto",
         "type": "bar",
         "x": [
          "California",
          "Oregon",
          "Washington"
         ],
         "xaxis": "x3",
         "y": [
          3.525,
          0.606,
          0.624
         ],
         "yaxis": "y3"
        },
        {
         "alignmentgroup": "True",
         "hovertemplate": "Technology=Offshore Wind<br>var=GW<br>scenario=Clean Grid<br>State=%{x}<br>value=%{y}<extra></extra>",
         "legendgroup": "Offshore Wind",
         "marker": {
          "color": "#2B7F9E",
          "pattern": {
           "shape": ""
          }
         },
         "name": "Offshore Wind",
         "offsetgroup": "Offshore Wind",
         "orientation": "v",
         "showlegend": false,
         "textposition": "auto",
         "type": "bar",
         "x": [
          "California",
          "Oregon",
          "Washington"
         ],
         "xaxis": "x4",
         "y": [
          7.446,
          1.152,
          1.188
         ],
         "yaxis": "y4"
        },
        {
         "alignmentgroup": "True",
         "hovertemplate": "Technology=Offshore Wind<br>var=km-squared<br>scenario=Business-as-usual<br>State=%{x}<br>value=%{y}<extra></extra>",
         "legendgroup": "Offshore Wind",
         "marker": {
          "color": "#2B7F9E",
          "pattern": {
           "shape": ""
          }
         },
         "name": "Offshore Wind",
         "offsetgroup": "Offshore Wind",
         "orientation": "v",
         "showlegend": false,
         "textposition": "auto",
         "type": "bar",
         "x": [
          "California",
          "Oregon",
          "Washington"
         ],
         "xaxis": "x",
         "y": [
          211,
          36,
          37
         ],
         "yaxis": "y"
        },
        {
         "alignmentgroup": "True",
         "hovertemplate": "Technology=Offshore Wind<br>var=km-squared<br>scenario=Clean Grid<br>State=%{x}<br>value=%{y}<extra></extra>",
         "legendgroup": "Offshore Wind",
         "marker": {
          "color": "#2B7F9E",
          "pattern": {
           "shape": ""
          }
         },
         "name": "Offshore Wind",
         "offsetgroup": "Offshore Wind",
         "orientation": "v",
         "showlegend": false,
         "textposition": "auto",
         "type": "bar",
         "x": [
          "California",
          "Oregon",
          "Washington"
         ],
         "xaxis": "x2",
         "y": [
          451,
          67,
          69
         ],
         "yaxis": "y2"
        }
       ],
       "layout": {
        "annotations": [
         {
          "showarrow": false,
          "text": "",
          "x": 0.22,
          "xanchor": "center",
          "xref": "paper",
          "y": 1,
          "yanchor": "bottom",
          "yref": "paper"
         },
         {
          "showarrow": false,
          "text": "",
          "x": 0.76,
          "xanchor": "center",
          "xref": "paper",
          "y": 1,
          "yanchor": "bottom",
          "yref": "paper"
         },
         {
          "showarrow": false,
          "text": "",
          "textangle": 90,
          "x": 0.98,
          "xanchor": "left",
          "xref": "paper",
          "y": 0.225,
          "yanchor": "middle",
          "yref": "paper"
         },
         {
          "showarrow": false,
          "text": "",
          "textangle": 90,
          "x": 0.98,
          "xanchor": "left",
          "xref": "paper",
          "y": 0.775,
          "yanchor": "middle",
          "yref": "paper"
         },
         {
          "font": {
           "size": 15
          },
          "showarrow": false,
          "text": "Business-as-usual",
          "x": 0.14,
          "xref": "paper",
          "y": 1.1,
          "yref": "paper"
         },
         {
          "font": {
           "size": 15
          },
          "showarrow": false,
          "text": "Net Zero",
          "x": 0.8,
          "xref": "paper",
          "y": 1.1,
          "yref": "paper"
         },
         {
          "font": {
           "size": 18
          },
          "showarrow": false,
          "text": "(a)",
          "x": -0.05,
          "xref": "paper",
          "y": 1.1,
          "yref": "paper"
         },
         {
          "font": {
           "size": 18
          },
          "showarrow": false,
          "text": "(b)",
          "x": 0.5,
          "xref": "paper",
          "y": 1.1,
          "yref": "paper"
         },
         {
          "font": {
           "size": 18
          },
          "showarrow": false,
          "text": "(c)",
          "x": -0.05,
          "xref": "paper",
          "y": 0.5,
          "yref": "paper"
         },
         {
          "font": {
           "size": 18
          },
          "showarrow": false,
          "text": "(d)",
          "x": 0.5,
          "xref": "paper",
          "y": 0.5,
          "yref": "paper"
         }
        ],
        "barmode": "relative",
        "font": {
         "color": "black",
         "family": "Arial",
         "size": 12
        },
        "height": 700,
        "images": [
         {
          "sizex": 0.26,
          "sizey": 0.24,
          "source": "data:image/png;base64,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",
          "x": 1.24,
          "xanchor": "right",
          "xref": "paper",
          "y": 0.9,
          "yanchor": "bottom",
          "yref": "paper"
         }
        ],
        "legend": {
         "title": {
          "text": "Technology"
         },
         "tracegroupgap": 0,
         "x": 1.03,
         "xanchor": "left",
         "y": 0.9,
         "yanchor": "top"
        },
        "margin": {
         "t": 60
        },
        "paper_bgcolor": "white",
        "plot_bgcolor": "white",
        "template": {
         "data": {
          "bar": [
           {
            "error_x": {
             "color": "#2a3f5f"
            },
            "error_y": {
             "color": "#2a3f5f"
            },
            "marker": {
             "line": {
              "color": "#E5ECF6",
              "width": 0.5
             },
             "pattern": {
              "fillmode": "overlay",
              "size": 10,
              "solidity": 0.2
             }
            },
            "type": "bar"
           }
          ],
          "barpolar": [
           {
            "marker": {
             "line": {
              "color": "#E5ECF6",
              "width": 0.5
             },
             "pattern": {
              "fillmode": "overlay",
              "size": 10,
              "solidity": 0.2
             }
            },
            "type": "barpolar"
           }
          ],
          "carpet": [
           {
            "aaxis": {
             "endlinecolor": "#2a3f5f",
             "gridcolor": "white",
             "linecolor": "white",
             "minorgridcolor": "white",
             "startlinecolor": "#2a3f5f"
            },
            "baxis": {
             "endlinecolor": "#2a3f5f",
             "gridcolor": "white",
             "linecolor": "white",
             "minorgridcolor": "white",
             "startlinecolor": "#2a3f5f"
            },
            "type": "carpet"
           }
          ],
          "choropleth": [
           {
            "colorbar": {
             "outlinewidth": 0,
             "ticks": ""
            },
            "type": "choropleth"
           }
          ],
          "contour": [
           {
            "colorbar": {
             "outlinewidth": 0,
             "ticks": ""
            },
            "colorscale": [
             [
              0,
              "#0d0887"
             ],
             [
              0.1111111111111111,
              "#46039f"
             ],
             [
              0.2222222222222222,
              "#7201a8"
             ],
             [
              0.3333333333333333,
              "#9c179e"
             ],
             [
              0.4444444444444444,
              "#bd3786"
             ],
             [
              0.5555555555555556,
              "#d8576b"
             ],
             [
              0.6666666666666666,
              "#ed7953"
             ],
             [
              0.7777777777777778,
              "#fb9f3a"
             ],
             [
              0.8888888888888888,
              "#fdca26"
             ],
             [
              1,
              "#f0f921"
             ]
            ],
            "type": "contour"
           }
          ],
          "contourcarpet": [
           {
            "colorbar": {
             "outlinewidth": 0,
             "ticks": ""
            },
            "type": "contourcarpet"
           }
          ],
          "heatmap": [
           {
            "colorbar": {
             "outlinewidth": 0,
             "ticks": ""
            },
            "colorscale": [
             [
              0,
              "#0d0887"
             ],
             [
              0.1111111111111111,
              "#46039f"
             ],
             [
              0.2222222222222222,
              "#7201a8"
             ],
             [
              0.3333333333333333,
              "#9c179e"
             ],
             [
              0.4444444444444444,
              "#bd3786"
             ],
             [
              0.5555555555555556,
              "#d8576b"
             ],
             [
              0.6666666666666666,
              "#ed7953"
             ],
             [
              0.7777777777777778,
              "#fb9f3a"
             ],
             [
              0.8888888888888888,
              "#fdca26"
             ],
             [
              1,
              "#f0f921"
             ]
            ],
            "type": "heatmap"
           }
          ],
          "heatmapgl": [
           {
            "colorbar": {
             "outlinewidth": 0,
             "ticks": ""
            },
            "colorscale": [
             [
              0,
              "#0d0887"
             ],
             [
              0.1111111111111111,
              "#46039f"
             ],
             [
              0.2222222222222222,
              "#7201a8"
             ],
             [
              0.3333333333333333,
              "#9c179e"
             ],
             [
              0.4444444444444444,
              "#bd3786"
             ],
             [
              0.5555555555555556,
              "#d8576b"
             ],
             [
              0.6666666666666666,
              "#ed7953"
             ],
             [
              0.7777777777777778,
              "#fb9f3a"
             ],
             [
              0.8888888888888888,
              "#fdca26"
             ],
             [
              1,
              "#f0f921"
             ]
            ],
            "type": "heatmapgl"
           }
          ],
          "histogram": [
           {
            "marker": {
             "pattern": {
              "fillmode": "overlay",
              "size": 10,
              "solidity": 0.2
             }
            },
            "type": "histogram"
           }
          ],
          "histogram2d": [
           {
            "colorbar": {
             "outlinewidth": 0,
             "ticks": ""
            },
            "colorscale": [
             [
              0,
              "#0d0887"
             ],
             [
              0.1111111111111111,
              "#46039f"
             ],
             [
              0.2222222222222222,
              "#7201a8"
             ],
             [
              0.3333333333333333,
              "#9c179e"
             ],
             [
              0.4444444444444444,
              "#bd3786"
             ],
             [
              0.5555555555555556,
              "#d8576b"
             ],
             [
              0.6666666666666666,
              "#ed7953"
             ],
             [
              0.7777777777777778,
              "#fb9f3a"
             ],
             [
              0.8888888888888888,
              "#fdca26"
             ],
             [
              1,
              "#f0f921"
             ]
            ],
            "type": "histogram2d"
           }
          ],
          "histogram2dcontour": [
           {
            "colorbar": {
             "outlinewidth": 0,
             "ticks": ""
            },
            "colorscale": [
             [
              0,
              "#0d0887"
             ],
             [
              0.1111111111111111,
              "#46039f"
             ],
             [
              0.2222222222222222,
              "#7201a8"
             ],
             [
              0.3333333333333333,
              "#9c179e"
             ],
             [
              0.4444444444444444,
              "#bd3786"
             ],
             [
              0.5555555555555556,
              "#d8576b"
             ],
             [
              0.6666666666666666,
              "#ed7953"
             ],
             [
              0.7777777777777778,
              "#fb9f3a"
             ],
             [
              0.8888888888888888,
              "#fdca26"
             ],
             [
              1,
              "#f0f921"
             ]
            ],
            "type": "histogram2dcontour"
           }
          ],
          "mesh3d": [
           {
            "colorbar": {
             "outlinewidth": 0,
             "ticks": ""
            },
            "type": "mesh3d"
           }
          ],
          "parcoords": [
           {
            "line": {
             "colorbar": {
              "outlinewidth": 0,
              "ticks": ""
             }
            },
            "type": "parcoords"
           }
          ],
          "pie": [
           {
            "automargin": true,
            "type": "pie"
           }
          ],
          "scatter": [
           {
            "fillpattern": {
             "fillmode": "overlay",
             "size": 10,
             "solidity": 0.2
            },
            "type": "scatter"
           }
          ],
          "scatter3d": [
           {
            "line": {
             "colorbar": {
              "outlinewidth": 0,
              "ticks": ""
             }
            },
            "marker": {
             "colorbar": {
              "outlinewidth": 0,
              "ticks": ""
             }
            },
            "type": "scatter3d"
           }
          ],
          "scattercarpet": [
           {
            "marker": {
             "colorbar": {
              "outlinewidth": 0,
              "ticks": ""
             }
            },
            "type": "scattercarpet"
           }
          ],
          "scattergeo": [
           {
            "marker": {
             "colorbar": {
              "outlinewidth": 0,
              "ticks": ""
             }
            },
            "type": "scattergeo"
           }
          ],
          "scattergl": [
           {
            "marker": {
             "colorbar": {
              "outlinewidth": 0,
              "ticks": ""
             }
            },
            "type": "scattergl"
           }
          ],
          "scattermapbox": [
           {
            "marker": {
             "colorbar": {
              "outlinewidth": 0,
              "ticks": ""
             }
            },
            "type": "scattermapbox"
           }
          ],
          "scatterpolar": [
           {
            "marker": {
             "colorbar": {
              "outlinewidth": 0,
              "ticks": ""
             }
            },
            "type": "scatterpolar"
           }
          ],
          "scatterpolargl": [
           {
            "marker": {
             "colorbar": {
              "outlinewidth": 0,
              "ticks": ""
             }
            },
            "type": "scatterpolargl"
           }
          ],
          "scatterternary": [
           {
            "marker": {
             "colorbar": {
              "outlinewidth": 0,
              "ticks": ""
             }
            },
            "type": "scatterternary"
           }
          ],
          "surface": [
           {
            "colorbar": {
             "outlinewidth": 0,
             "ticks": ""
            },
            "colorscale": [
             [
              0,
              "#0d0887"
             ],
             [
              0.1111111111111111,
              "#46039f"
             ],
             [
              0.2222222222222222,
              "#7201a8"
             ],
             [
              0.3333333333333333,
              "#9c179e"
             ],
             [
              0.4444444444444444,
              "#bd3786"
             ],
             [
              0.5555555555555556,
              "#d8576b"
             ],
             [
              0.6666666666666666,
              "#ed7953"
             ],
             [
              0.7777777777777778,
              "#fb9f3a"
             ],
             [
              0.8888888888888888,
              "#fdca26"
             ],
             [
              1,
              "#f0f921"
             ]
            ],
            "type": "surface"
           }
          ],
          "table": [
           {
            "cells": {
             "fill": {
              "color": "#EBF0F8"
             },
             "line": {
              "color": "white"
             }
            },
            "header": {
             "fill": {
              "color": "#C8D4E3"
             },
             "line": {
              "color": "white"
             }
            },
            "type": "table"
           }
          ]
         },
         "layout": {
          "annotationdefaults": {
           "arrowcolor": "#2a3f5f",
           "arrowhead": 0,
           "arrowwidth": 1
          },
          "autotypenumbers": "strict",
          "coloraxis": {
           "colorbar": {
            "outlinewidth": 0,
            "ticks": ""
           }
          },
          "colorscale": {
           "diverging": [
            [
             0,
             "#8e0152"
            ],
            [
             0.1,
             "#c51b7d"
            ],
            [
             0.2,
             "#de77ae"
            ],
            [
             0.3,
             "#f1b6da"
            ],
            [
             0.4,
             "#fde0ef"
            ],
            [
             0.5,
             "#f7f7f7"
            ],
            [
             0.6,
             "#e6f5d0"
            ],
            [
             0.7,
             "#b8e186"
            ],
            [
             0.8,
             "#7fbc41"
            ],
            [
             0.9,
             "#4d9221"
            ],
            [
             1,
             "#276419"
            ]
           ],
           "sequential": [
            [
             0,
             "#0d0887"
            ],
            [
             0.1111111111111111,
             "#46039f"
            ],
            [
             0.2222222222222222,
             "#7201a8"
            ],
            [
             0.3333333333333333,
             "#9c179e"
            ],
            [
             0.4444444444444444,
             "#bd3786"
            ],
            [
             0.5555555555555556,
             "#d8576b"
            ],
            [
             0.6666666666666666,
             "#ed7953"
            ],
            [
             0.7777777777777778,
             "#fb9f3a"
            ],
            [
             0.8888888888888888,
             "#fdca26"
            ],
            [
             1,
             "#f0f921"
            ]
           ],
           "sequentialminus": [
            [
             0,
             "#0d0887"
            ],
            [
             0.1111111111111111,
             "#46039f"
            ],
            [
             0.2222222222222222,
             "#7201a8"
            ],
            [
             0.3333333333333333,
             "#9c179e"
            ],
            [
             0.4444444444444444,
             "#bd3786"
            ],
            [
             0.5555555555555556,
             "#d8576b"
            ],
            [
             0.6666666666666666,
             "#ed7953"
            ],
            [
             0.7777777777777778,
             "#fb9f3a"
            ],
            [
             0.8888888888888888,
             "#fdca26"
            ],
            [
             1,
             "#f0f921"
            ]
           ]
          },
          "colorway": [
           "#636efa",
           "#EF553B",
           "#00cc96",
           "#ab63fa",
           "#FFA15A",
           "#19d3f3",
           "#FF6692",
           "#B6E880",
           "#FF97FF",
           "#FECB52"
          ],
          "font": {
           "color": "#2a3f5f"
          },
          "geo": {
           "bgcolor": "white",
           "lakecolor": "white",
           "landcolor": "#E5ECF6",
           "showlakes": true,
           "showland": true,
           "subunitcolor": "white"
          },
          "hoverlabel": {
           "align": "left"
          },
          "hovermode": "closest",
          "mapbox": {
           "style": "light"
          },
          "paper_bgcolor": "white",
          "plot_bgcolor": "#E5ECF6",
          "polar": {
           "angularaxis": {
            "gridcolor": "white",
            "linecolor": "white",
            "ticks": ""
           },
           "bgcolor": "#E5ECF6",
           "radialaxis": {
            "gridcolor": "white",
            "linecolor": "white",
            "ticks": ""
           }
          },
          "scene": {
           "xaxis": {
            "backgroundcolor": "#E5ECF6",
            "gridcolor": "white",
            "gridwidth": 2,
            "linecolor": "white",
            "showbackground": true,
            "ticks": "",
            "zerolinecolor": "white"
           },
           "yaxis": {
            "backgroundcolor": "#E5ECF6",
            "gridcolor": "white",
            "gridwidth": 2,
            "linecolor": "white",
            "showbackground": true,
            "ticks": "",
            "zerolinecolor": "white"
           },
           "zaxis": {
            "backgroundcolor": "#E5ECF6",
            "gridcolor": "white",
            "gridwidth": 2,
            "linecolor": "white",
            "showbackground": true,
            "ticks": "",
            "zerolinecolor": "white"
           }
          },
          "shapedefaults": {
           "line": {
            "color": "#2a3f5f"
           }
          },
          "ternary": {
           "aaxis": {
            "gridcolor": "white",
            "linecolor": "white",
            "ticks": ""
           },
           "baxis": {
            "gridcolor": "white",
            "linecolor": "white",
            "ticks": ""
           },
           "bgcolor": "#E5ECF6",
           "caxis": {
            "gridcolor": "white",
            "linecolor": "white",
            "ticks": ""
           }
          },
          "title": {
           "x": 0.05
          },
          "xaxis": {
           "automargin": true,
           "gridcolor": "white",
           "linecolor": "white",
           "ticks": "",
           "title": {
            "standoff": 15
           },
           "zerolinecolor": "white",
           "zerolinewidth": 2
          },
          "yaxis": {
           "automargin": true,
           "gridcolor": "white",
           "linecolor": "white",
           "ticks": "",
           "title": {
            "standoff": 15
           },
           "zerolinecolor": "white",
           "zerolinewidth": 2
          }
         }
        },
        "uniformtext": {
         "minsize": 18,
         "mode": "hide"
        },
        "width": 900,
        "xaxis": {
         "anchor": "y",
         "autorange": true,
         "domain": [
          0,
          0.44
         ],
         "range": [
          -0.5,
          10.5
         ],
         "title": {
          "text": ""
         },
         "type": "category"
        },
        "xaxis2": {
         "anchor": "y2",
         "autorange": true,
         "domain": [
          0.54,
          0.98
         ],
         "matches": "x",
         "range": [
          -0.5,
          10.5
         ],
         "title": {
          "text": ""
         },
         "type": "category"
        },
        "xaxis3": {
         "anchor": "y3",
         "autorange": true,
         "domain": [
          0,
          0.44
         ],
         "matches": "x",
         "range": [
          -0.5,
          10.5
         ],
         "showticklabels": false,
         "type": "category"
        },
        "xaxis4": {
         "anchor": "y4",
         "autorange": true,
         "domain": [
          0.54,
          0.98
         ],
         "matches": "x",
         "range": [
          -0.5,
          10.5
         ],
         "showticklabels": false,
         "type": "category"
        },
        "yaxis": {
         "anchor": "x",
         "autorange": true,
         "domain": [
          0,
          0.45
         ],
         "gridcolor": "#bdbdbd",
         "matches": "y",
         "range": [
          0,
          6481.0526315789475
         ],
         "showgrid": true,
         "showticklabels": true,
         "title": {
          "text": "Land Usage (km<sup>2</sup>)"
         },
         "type": "linear",
         "visible": true
        },
        "yaxis2": {
         "anchor": "x2",
         "autorange": true,
         "domain": [
          0,
          0.45
         ],
         "gridcolor": "#bdbdbd",
         "matches": "y",
         "range": [
          0,
          6481.0526315789475
         ],
         "showgrid": true,
         "showticklabels": true,
         "type": "linear",
         "visible": true
        },
        "yaxis3": {
         "anchor": "x3",
         "autorange": true,
         "domain": [
          0.55,
          1
         ],
         "gridcolor": "#bdbdbd",
         "matches": "y4",
         "range": [
          0,
          150.51368421052632
         ],
         "showgrid": true,
         "showticklabels": true,
         "title": {
          "text": "Capacity Additions (GW)"
         },
         "type": "linear",
         "visible": true
        },
        "yaxis4": {
         "anchor": "x4",
         "autorange": true,
         "domain": [
          0.55,
          1
         ],
         "gridcolor": "#bdbdbd",
         "matches": "y4",
         "range": [
          0,
          150.51368421052632
         ],
         "showgrid": true,
         "showticklabels": true,
         "type": "linear",
         "visible": true
        }
       }
      },
      "text/html": [
       "<div>                            <div id=\"b8579fdc-c2dd-4c5a-8389-12d3a5dd4bd5\" class=\"plotly-graph-div\" style=\"height:700px; width:900px;\"></div>            <script type=\"text/javascript\">                require([\"plotly\"], function(Plotly) {                    window.PLOTLYENV=window.PLOTLYENV || {};                                    if (document.getElementById(\"b8579fdc-c2dd-4c5a-8389-12d3a5dd4bd5\")) {                    Plotly.newPlot(                        \"b8579fdc-c2dd-4c5a-8389-12d3a5dd4bd5\",                        [{\"alignmentgroup\":\"True\",\"hovertemplate\":\"Technology=Biomass\\u003cbr\\u003evar=GW\\u003cbr\\u003escenario=Business-as-usual\\u003cbr\\u003eState=%{x}\\u003cbr\\u003evalue=%{y}\\u003cextra\\u003e\\u003c\\u002fextra\\u003e\",\"legendgroup\":\"Biomass\",\"marker\":{\"color\":\"#713275\",\"pattern\":{\"shape\":\"\"}},\"name\":\"Biomass\",\"offsetgroup\":\"Biomass\",\"orientation\":\"v\",\"showlegend\":true,\"textposition\":\"auto\",\"x\":[\"Arizona\",\"California\",\"Colorado\",\"Idaho\",\"New Mexico\",\"Utah\",\"Washington\"],\"xaxis\":\"x3\",\"y\":[0.1,1.1,0.05,0.05,0.05,0.1,0.05],\"yaxis\":\"y3\",\"type\":\"bar\"},{\"alignmentgroup\":\"True\",\"hovertemplate\":\"Technology=Biomass\\u003cbr\\u003evar=GW\\u003cbr\\u003escenario=Clean Grid\\u003cbr\\u003eState=%{x}\\u003cbr\\u003evalue=%{y}\\u003cextra\\u003e\\u003c\\u002fextra\\u003e\",\"legendgroup\":\"Biomass\",\"marker\":{\"color\":\"#713275\",\"pattern\":{\"shape\":\"\"}},\"name\":\"Biomass\",\"offsetgroup\":\"Biomass\",\"orientation\":\"v\",\"showlegend\":false,\"textposition\":\"auto\",\"x\":[\"Arizona\",\"California\",\"Colorado\",\"Idaho\",\"Montana\",\"Nevada\",\"New Mexico\",\"Oregon\",\"Utah\",\"Washington\",\"Wyoming\"],\"xaxis\":\"x4\",\"y\":[0.75,8.55,0.8,0.3,0.45,0.1,0.45,0.4,0.45,0.55,0.9],\"yaxis\":\"y4\",\"type\":\"bar\"},{\"alignmentgroup\":\"True\",\"hovertemplate\":\"Technology=Biomass\\u003cbr\\u003evar=km-squared\\u003cbr\\u003escenario=Business-as-usual\\u003cbr\\u003eState=%{x}\\u003cbr\\u003evalue=%{y}\\u003cextra\\u003e\\u003c\\u002fextra\\u003e\",\"legendgroup\":\"Biomass\",\"marker\":{\"color\":\"#713275\",\"pattern\":{\"shape\":\"\"}},\"name\":\"Biomass\",\"offsetgroup\":\"Biomass\",\"orientation\":\"v\",\"showlegend\":false,\"textposition\":\"auto\",\"x\":[\"Arizona\",\"California\",\"Colorado\",\"Idaho\",\"New Mexico\",\"Utah\",\"Washington\"],\"xaxis\":\"x\",\"y\":[2.0,22.0,1.0,1.0,1.0,2.0,1.0],\"yaxis\":\"y\",\"type\":\"bar\"},{\"alignmentgroup\":\"True\",\"hovertemplate\":\"Technology=Biomass\\u003cbr\\u003evar=km-squared\\u003cbr\\u003escenario=Clean Grid\\u003cbr\\u003eState=%{x}\\u003cbr\\u003evalue=%{y}\\u003cextra\\u003e\\u003c\\u002fextra\\u003e\",\"legendgroup\":\"Biomass\",\"marker\":{\"color\":\"#713275\",\"pattern\":{\"shape\":\"\"}},\"name\":\"Biomass\",\"offsetgroup\":\"Biomass\",\"orientation\":\"v\",\"showlegend\":false,\"textposition\":\"auto\",\"x\":[\"Arizona\",\"California\",\"Colorado\",\"Idaho\",\"Montana\",\"Nevada\",\"New Mexico\",\"Oregon\",\"Utah\",\"Washington\",\"Wyoming\"],\"xaxis\":\"x2\",\"y\":[15.0,144.0,16.0,6.0,9.0,2.0,9.0,8.0,9.0,11.0,18.0],\"yaxis\":\"y2\",\"type\":\"bar\"},{\"alignmentgroup\":\"True\",\"hovertemplate\":\"Technology=Coal\\u003cbr\\u003evar=GW\\u003cbr\\u003escenario=Business-as-usual\\u003cbr\\u003eState=%{x}\\u003cbr\\u003evalue=%{y}\\u003cextra\\u003e\\u003c\\u002fextra\\u003e\",\"legendgroup\":\"Coal\",\"marker\":{\"color\":\"#75736d\",\"pattern\":{\"shape\":\"\"}},\"name\":\"Coal\",\"offsetgroup\":\"Coal\",\"orientation\":\"v\",\"showlegend\":true,\"textposition\":\"auto\",\"x\":[\"Arizona\",\"Colorado\",\"Montana\",\"Nevada\",\"Utah\",\"Washington\",\"Wyoming\"],\"xaxis\":\"x3\",\"y\":[0.65,0.65,0.65,0.65,0.65,0.65,0.65],\"yaxis\":\"y3\",\"type\":\"bar\"},{\"alignmentgroup\":\"True\",\"hovertemplate\":\"Technology=Coal\\u003cbr\\u003evar=GW\\u003cbr\\u003escenario=Clean Grid\\u003cbr\\u003eState=%{x}\\u003cbr\\u003evalue=%{y}\\u003cextra\\u003e\\u003c\\u002fextra\\u003e\",\"legendgroup\":\"Coal\",\"marker\":{\"color\":\"#75736d\",\"pattern\":{\"shape\":\"\"}},\"name\":\"Coal\",\"offsetgroup\":\"Coal\",\"orientation\":\"v\",\"showlegend\":false,\"textposition\":\"auto\",\"x\":[\"Arizona\",\"Colorado\",\"Montana\",\"Nevada\",\"Utah\",\"Washington\",\"Wyoming\"],\"xaxis\":\"x4\",\"y\":[1.3,0.65,0.65,0.65,1.95,0.65,0.65],\"yaxis\":\"y4\",\"type\":\"bar\"},{\"alignmentgroup\":\"True\",\"hovertemplate\":\"Technology=Coal\\u003cbr\\u003evar=km-squared\\u003cbr\\u003escenario=Business-as-usual\\u003cbr\\u003eState=%{x}\\u003cbr\\u003evalue=%{y}\\u003cextra\\u003e\\u003c\\u002fextra\\u003e\",\"legendgroup\":\"Coal\",\"marker\":{\"color\":\"#75736d\",\"pattern\":{\"shape\":\"\"}},\"name\":\"Coal\",\"offsetgroup\":\"Coal\",\"orientation\":\"v\",\"showlegend\":false,\"textposition\":\"auto\",\"x\":[\"Arizona\",\"Colorado\",\"Montana\",\"Nevada\",\"Utah\",\"Washington\",\"Wyoming\"],\"xaxis\":\"x\",\"y\":[1.0,1.0,1.0,1.0,1.0,1.0,1.0],\"yaxis\":\"y\",\"type\":\"bar\"},{\"alignmentgroup\":\"True\",\"hovertemplate\":\"Technology=Coal\\u003cbr\\u003evar=km-squared\\u003cbr\\u003escenario=Clean Grid\\u003cbr\\u003eState=%{x}\\u003cbr\\u003evalue=%{y}\\u003cextra\\u003e\\u003c\\u002fextra\\u003e\",\"legendgroup\":\"Coal\",\"marker\":{\"color\":\"#75736d\",\"pattern\":{\"shape\":\"\"}},\"name\":\"Coal\",\"offsetgroup\":\"Coal\",\"orientation\":\"v\",\"showlegend\":false,\"textposition\":\"auto\",\"x\":[\"Arizona\",\"Colorado\",\"Montana\",\"Nevada\",\"Utah\",\"Washington\",\"Wyoming\"],\"xaxis\":\"x2\",\"y\":[2.0,1.0,1.0,1.0,3.0,1.0,1.0],\"yaxis\":\"y2\",\"type\":\"bar\"},{\"alignmentgroup\":\"True\",\"hovertemplate\":\"Technology=Natural Gas\\u003cbr\\u003evar=GW\\u003cbr\\u003escenario=Business-as-usual\\u003cbr\\u003eState=%{x}\\u003cbr\\u003evalue=%{y}\\u003cextra\\u003e\\u003c\\u002fextra\\u003e\",\"legendgroup\":\"Natural Gas\",\"marker\":{\"color\":\"#bdb59d\",\"pattern\":{\"shape\":\"\"}},\"name\":\"Natural Gas\",\"offsetgroup\":\"Natural Gas\",\"orientation\":\"v\",\"showlegend\":true,\"textposition\":\"auto\",\"x\":[\"Arizona\",\"California\",\"Colorado\",\"Montana\",\"Nevada\",\"Oregon\",\"Utah\",\"Washington\",\"Wyoming\"],\"xaxis\":\"x3\",\"y\":[3.473,1.938,0.646,0.646,0.646,0.646,4.927,0.646,4.281],\"yaxis\":\"y3\",\"type\":\"bar\"},{\"alignmentgroup\":\"True\",\"hovertemplate\":\"Technology=Natural Gas\\u003cbr\\u003evar=GW\\u003cbr\\u003escenario=Clean Grid\\u003cbr\\u003eState=%{x}\\u003cbr\\u003evalue=%{y}\\u003cextra\\u003e\\u003c\\u002fextra\\u003e\",\"legendgroup\":\"Natural Gas\",\"marker\":{\"color\":\"#bdb59d\",\"pattern\":{\"shape\":\"\"}},\"name\":\"Natural Gas\",\"offsetgroup\":\"Natural Gas\",\"orientation\":\"v\",\"showlegend\":false,\"textposition\":\"auto\",\"x\":[\"Arizona\",\"California\",\"Colorado\",\"Montana\",\"Nevada\",\"New Mexico\",\"Oregon\",\"Utah\",\"Washington\",\"Wyoming\"],\"xaxis\":\"x4\",\"y\":[2.584,1.938,0.646,0.646,0.646,0.646,0.646,1.938,0.646,0.646],\"yaxis\":\"y4\",\"type\":\"bar\"},{\"alignmentgroup\":\"True\",\"hovertemplate\":\"Technology=Natural Gas\\u003cbr\\u003evar=km-squared\\u003cbr\\u003escenario=Business-as-usual\\u003cbr\\u003eState=%{x}\\u003cbr\\u003evalue=%{y}\\u003cextra\\u003e\\u003c\\u002fextra\\u003e\",\"legendgroup\":\"Natural Gas\",\"marker\":{\"color\":\"#bdb59d\",\"pattern\":{\"shape\":\"\"}},\"name\":\"Natural Gas\",\"offsetgroup\":\"Natural Gas\",\"orientation\":\"v\",\"showlegend\":false,\"textposition\":\"auto\",\"x\":[\"Arizona\",\"California\",\"Colorado\",\"Montana\",\"Nevada\",\"Oregon\",\"Utah\",\"Washington\",\"Wyoming\"],\"xaxis\":\"x\",\"y\":[5.0,3.0,1.0,1.0,1.0,1.0,7.0,1.0,6.0],\"yaxis\":\"y\",\"type\":\"bar\"},{\"alignmentgroup\":\"True\",\"hovertemplate\":\"Technology=Natural Gas\\u003cbr\\u003evar=km-squared\\u003cbr\\u003escenario=Clean Grid\\u003cbr\\u003eState=%{x}\\u003cbr\\u003evalue=%{y}\\u003cextra\\u003e\\u003c\\u002fextra\\u003e\",\"legendgroup\":\"Natural Gas\",\"marker\":{\"color\":\"#bdb59d\",\"pattern\":{\"shape\":\"\"}},\"name\":\"Natural Gas\",\"offsetgroup\":\"Natural Gas\",\"orientation\":\"v\",\"showlegend\":false,\"textposition\":\"auto\",\"x\":[\"Arizona\",\"California\",\"Colorado\",\"Montana\",\"Nevada\",\"New Mexico\",\"Oregon\",\"Utah\",\"Washington\",\"Wyoming\"],\"xaxis\":\"x2\",\"y\":[4.0,3.0,1.0,1.0,1.0,1.0,1.0,3.0,1.0,1.0],\"yaxis\":\"y2\",\"type\":\"bar\"},{\"alignmentgroup\":\"True\",\"hovertemplate\":\"Technology=Solar CSP\\u003cbr\\u003evar=GW\\u003cbr\\u003escenario=Business-as-usual\\u003cbr\\u003eState=%{x}\\u003cbr\\u003evalue=%{y}\\u003cextra\\u003e\\u003c\\u002fextra\\u003e\",\"legendgroup\":\"Solar CSP\",\"marker\":{\"color\":\"#f1781b\",\"pattern\":{\"shape\":\"\"}},\"name\":\"Solar CSP\",\"offsetgroup\":\"Solar CSP\",\"orientation\":\"v\",\"showlegend\":true,\"textposition\":\"auto\",\"x\":[\"Arizona\",\"California\",\"Colorado\",\"Idaho\",\"Montana\",\"Nevada\",\"New Mexico\",\"Oregon\",\"Utah\",\"Washington\",\"Wyoming\"],\"xaxis\":\"x3\",\"y\":[3.35,5.25,2.1,0.05,0.8,2.7,1.3,0.3,6.3,0.35,2.1],\"yaxis\":\"y3\",\"type\":\"bar\"},{\"alignmentgroup\":\"True\",\"hovertemplate\":\"Technology=Solar CSP\\u003cbr\\u003evar=GW\\u003cbr\\u003escenario=Clean Grid\\u003cbr\\u003eState=%{x}\\u003cbr\\u003evalue=%{y}\\u003cextra\\u003e\\u003c\\u002fextra\\u003e\",\"legendgroup\":\"Solar CSP\",\"marker\":{\"color\":\"#f1781b\",\"pattern\":{\"shape\":\"\"}},\"name\":\"Solar CSP\",\"offsetgroup\":\"Solar CSP\",\"orientation\":\"v\",\"showlegend\":false,\"textposition\":\"auto\",\"x\":[\"Arizona\",\"California\",\"Colorado\",\"Idaho\",\"Montana\",\"Nevada\",\"New Mexico\",\"Oregon\",\"Utah\",\"Washington\",\"Wyoming\"],\"xaxis\":\"x4\",\"y\":[5.3,11.45,4.1,0.1,1.85,4.5,2.55,0.65,10.8,0.75,3.3],\"yaxis\":\"y4\",\"type\":\"bar\"},{\"alignmentgroup\":\"True\",\"hovertemplate\":\"Technology=Solar CSP\\u003cbr\\u003evar=km-squared\\u003cbr\\u003escenario=Business-as-usual\\u003cbr\\u003eState=%{x}\\u003cbr\\u003evalue=%{y}\\u003cextra\\u003e\\u003c\\u002fextra\\u003e\",\"legendgroup\":\"Solar CSP\",\"marker\":{\"color\":\"#f1781b\",\"pattern\":{\"shape\":\"\"}},\"name\":\"Solar CSP\",\"offsetgroup\":\"Solar CSP\",\"orientation\":\"v\",\"showlegend\":false,\"textposition\":\"auto\",\"x\":[\"Arizona\",\"California\",\"Colorado\",\"Idaho\",\"Montana\",\"Nevada\",\"New Mexico\",\"Oregon\",\"Utah\",\"Washington\",\"Wyoming\"],\"xaxis\":\"x\",\"y\":[67.0,105.0,42.0,1.0,16.0,54.0,26.0,6.0,126.0,7.0,42.0],\"yaxis\":\"y\",\"type\":\"bar\"},{\"alignmentgroup\":\"True\",\"hovertemplate\":\"Technology=Solar CSP\\u003cbr\\u003evar=km-squared\\u003cbr\\u003escenario=Clean Grid\\u003cbr\\u003eState=%{x}\\u003cbr\\u003evalue=%{y}\\u003cextra\\u003e\\u003c\\u002fextra\\u003e\",\"legendgroup\":\"Solar CSP\",\"marker\":{\"color\":\"#f1781b\",\"pattern\":{\"shape\":\"\"}},\"name\":\"Solar CSP\",\"offsetgroup\":\"Solar CSP\",\"orientation\":\"v\",\"showlegend\":false,\"textposition\":\"auto\",\"x\":[\"Arizona\",\"California\",\"Colorado\",\"Idaho\",\"Montana\",\"Nevada\",\"New Mexico\",\"Oregon\",\"Utah\",\"Washington\",\"Wyoming\"],\"xaxis\":\"x2\",\"y\":[106.0,229.0,82.0,2.0,37.0,90.0,51.0,13.0,216.0,15.0,66.0],\"yaxis\":\"y2\",\"type\":\"bar\"},{\"alignmentgroup\":\"True\",\"hovertemplate\":\"Technology=Solar PV\\u003cbr\\u003evar=GW\\u003cbr\\u003escenario=Business-as-usual\\u003cbr\\u003eState=%{x}\\u003cbr\\u003evalue=%{y}\\u003cextra\\u003e\\u003c\\u002fextra\\u003e\",\"legendgroup\":\"Solar PV\",\"marker\":{\"color\":\"#F7B615\",\"pattern\":{\"shape\":\"\"}},\"name\":\"Solar PV\",\"offsetgroup\":\"Solar PV\",\"orientation\":\"v\",\"showlegend\":true,\"textposition\":\"auto\",\"x\":[\"Arizona\",\"California\",\"Colorado\",\"Idaho\",\"Montana\",\"Nevada\",\"New Mexico\",\"Oregon\",\"Utah\",\"Washington\",\"Wyoming\"],\"xaxis\":\"x3\",\"y\":[21.75,41.94,19.83,0.96,6.63,18.3,9.27,3.69,52.17,3.15,11.01],\"yaxis\":\"y3\",\"type\":\"bar\"},{\"alignmentgroup\":\"True\",\"hovertemplate\":\"Technology=Solar PV\\u003cbr\\u003evar=GW\\u003cbr\\u003escenario=Clean Grid\\u003cbr\\u003eState=%{x}\\u003cbr\\u003evalue=%{y}\\u003cextra\\u003e\\u003c\\u002fextra\\u003e\",\"legendgroup\":\"Solar PV\",\"marker\":{\"color\":\"#F7B615\",\"pattern\":{\"shape\":\"\"}},\"name\":\"Solar PV\",\"offsetgroup\":\"Solar PV\",\"orientation\":\"v\",\"showlegend\":false,\"textposition\":\"auto\",\"x\":[\"Arizona\",\"California\",\"Colorado\",\"Idaho\",\"Montana\",\"Nevada\",\"New Mexico\",\"Oregon\",\"Utah\",\"Washington\",\"Wyoming\"],\"xaxis\":\"x4\",\"y\":[27.42,67.92,27.75,1.26,11.64,23.88,13.56,5.61,68.25,5.1,13.62],\"yaxis\":\"y4\",\"type\":\"bar\"},{\"alignmentgroup\":\"True\",\"hovertemplate\":\"Technology=Solar PV\\u003cbr\\u003evar=km-squared\\u003cbr\\u003escenario=Business-as-usual\\u003cbr\\u003eState=%{x}\\u003cbr\\u003evalue=%{y}\\u003cextra\\u003e\\u003c\\u002fextra\\u003e\",\"legendgroup\":\"Solar PV\",\"marker\":{\"color\":\"#F7B615\",\"pattern\":{\"shape\":\"\"}},\"name\":\"Solar PV\",\"offsetgroup\":\"Solar PV\",\"orientation\":\"v\",\"showlegend\":false,\"textposition\":\"auto\",\"x\":[\"Arizona\",\"California\",\"Colorado\",\"Idaho\",\"Montana\",\"Nevada\",\"New Mexico\",\"Oregon\",\"Utah\",\"Washington\",\"Wyoming\"],\"xaxis\":\"x\",\"y\":[725.0,1398.0,661.0,32.0,221.0,610.0,309.0,123.0,1739.0,105.0,367.0],\"yaxis\":\"y\",\"type\":\"bar\"},{\"alignmentgroup\":\"True\",\"hovertemplate\":\"Technology=Solar PV\\u003cbr\\u003evar=km-squared\\u003cbr\\u003escenario=Clean Grid\\u003cbr\\u003eState=%{x}\\u003cbr\\u003evalue=%{y}\\u003cextra\\u003e\\u003c\\u002fextra\\u003e\",\"legendgroup\":\"Solar PV\",\"marker\":{\"color\":\"#F7B615\",\"pattern\":{\"shape\":\"\"}},\"name\":\"Solar PV\",\"offsetgroup\":\"Solar PV\",\"orientation\":\"v\",\"showlegend\":false,\"textposition\":\"auto\",\"x\":[\"Arizona\",\"California\",\"Colorado\",\"Idaho\",\"Montana\",\"Nevada\",\"New Mexico\",\"Oregon\",\"Utah\",\"Washington\",\"Wyoming\"],\"xaxis\":\"x2\",\"y\":[914.0,2264.0,925.0,42.0,388.0,796.0,452.0,187.0,2275.0,170.0,454.0],\"yaxis\":\"y2\",\"type\":\"bar\"},{\"alignmentgroup\":\"True\",\"hovertemplate\":\"Technology=Wind\\u003cbr\\u003evar=GW\\u003cbr\\u003escenario=Business-as-usual\\u003cbr\\u003eState=%{x}\\u003cbr\\u003evalue=%{y}\\u003cextra\\u003e\\u003c\\u002fextra\\u003e\",\"legendgroup\":\"Wind\",\"marker\":{\"color\":\"#95C060\",\"pattern\":{\"shape\":\"\"}},\"name\":\"Wind\",\"offsetgroup\":\"Wind\",\"orientation\":\"v\",\"showlegend\":true,\"textposition\":\"auto\",\"x\":[\"Arizona\",\"California\",\"Colorado\",\"Idaho\",\"Montana\",\"Nevada\",\"New Mexico\",\"Oregon\",\"Utah\",\"Washington\",\"Wyoming\"],\"xaxis\":\"x3\",\"y\":[9.798,28.8675,16.263,4.461,30.6375,3.0435,11.1645,7.257,10.7025,6.7095,26.6535],\"yaxis\":\"y3\",\"type\":\"bar\"},{\"alignmentgroup\":\"True\",\"hovertemplate\":\"Technology=Wind\\u003cbr\\u003evar=GW\\u003cbr\\u003escenario=Clean Grid\\u003cbr\\u003eState=%{x}\\u003cbr\\u003evalue=%{y}\\u003cextra\\u003e\\u003c\\u002fextra\\u003e\",\"legendgroup\":\"Wind\",\"marker\":{\"color\":\"#95C060\",\"pattern\":{\"shape\":\"\"}},\"name\":\"Wind\",\"offsetgroup\":\"Wind\",\"orientation\":\"v\",\"showlegend\":false,\"textposition\":\"auto\",\"x\":[\"Arizona\",\"California\",\"Colorado\",\"Idaho\",\"Montana\",\"Nevada\",\"New Mexico\",\"Oregon\",\"Utah\",\"Washington\",\"Wyoming\"],\"xaxis\":\"x4\",\"y\":[11.514,45.684,24.795,5.0355,44.385,3.897,16.6935,10.32,13.6185,9.6225,33.81],\"yaxis\":\"y4\",\"type\":\"bar\"},{\"alignmentgroup\":\"True\",\"hovertemplate\":\"Technology=Wind\\u003cbr\\u003evar=km-squared\\u003cbr\\u003escenario=Business-as-usual\\u003cbr\\u003eState=%{x}\\u003cbr\\u003evalue=%{y}\\u003cextra\\u003e\\u003c\\u002fextra\\u003e\",\"legendgroup\":\"Wind\",\"marker\":{\"color\":\"#95C060\",\"pattern\":{\"shape\":\"\"}},\"name\":\"Wind\",\"offsetgroup\":\"Wind\",\"orientation\":\"v\",\"showlegend\":false,\"textposition\":\"auto\",\"x\":[\"Arizona\",\"California\",\"Colorado\",\"Idaho\",\"Montana\",\"Nevada\",\"New Mexico\",\"Oregon\",\"Utah\",\"Washington\",\"Wyoming\"],\"xaxis\":\"x\",\"y\":[614.0,2025.0,1095.0,302.0,2141.0,206.0,756.0,514.0,722.0,471.0,1761.0],\"yaxis\":\"y\",\"type\":\"bar\"},{\"alignmentgroup\":\"True\",\"hovertemplate\":\"Technology=Wind\\u003cbr\\u003evar=km-squared\\u003cbr\\u003escenario=Clean Grid\\u003cbr\\u003eState=%{x}\\u003cbr\\u003evalue=%{y}\\u003cextra\\u003e\\u003c\\u002fextra\\u003e\",\"legendgroup\":\"Wind\",\"marker\":{\"color\":\"#95C060\",\"pattern\":{\"shape\":\"\"}},\"name\":\"Wind\",\"offsetgroup\":\"Wind\",\"orientation\":\"v\",\"showlegend\":false,\"textposition\":\"auto\",\"x\":[\"Arizona\",\"California\",\"Colorado\",\"Idaho\",\"Montana\",\"Nevada\",\"New Mexico\",\"Oregon\",\"Utah\",\"Washington\",\"Wyoming\"],\"xaxis\":\"x2\",\"y\":[715.0,3066.0,1596.0,336.0,2921.0,252.0,1081.0,695.0,878.0,641.0,2186.0],\"yaxis\":\"y2\",\"type\":\"bar\"},{\"alignmentgroup\":\"True\",\"hovertemplate\":\"Technology=Offshore Wind\\u003cbr\\u003evar=GW\\u003cbr\\u003escenario=Business-as-usual\\u003cbr\\u003eState=%{x}\\u003cbr\\u003evalue=%{y}\\u003cextra\\u003e\\u003c\\u002fextra\\u003e\",\"legendgroup\":\"Offshore Wind\",\"marker\":{\"color\":\"#2B7F9E\",\"pattern\":{\"shape\":\"\"}},\"name\":\"Offshore Wind\",\"offsetgroup\":\"Offshore Wind\",\"orientation\":\"v\",\"showlegend\":true,\"textposition\":\"auto\",\"x\":[\"California\",\"Oregon\",\"Washington\"],\"xaxis\":\"x3\",\"y\":[3.525,0.606,0.624],\"yaxis\":\"y3\",\"type\":\"bar\"},{\"alignmentgroup\":\"True\",\"hovertemplate\":\"Technology=Offshore Wind\\u003cbr\\u003evar=GW\\u003cbr\\u003escenario=Clean Grid\\u003cbr\\u003eState=%{x}\\u003cbr\\u003evalue=%{y}\\u003cextra\\u003e\\u003c\\u002fextra\\u003e\",\"legendgroup\":\"Offshore Wind\",\"marker\":{\"color\":\"#2B7F9E\",\"pattern\":{\"shape\":\"\"}},\"name\":\"Offshore Wind\",\"offsetgroup\":\"Offshore Wind\",\"orientation\":\"v\",\"showlegend\":false,\"textposition\":\"auto\",\"x\":[\"California\",\"Oregon\",\"Washington\"],\"xaxis\":\"x4\",\"y\":[7.446,1.152,1.188],\"yaxis\":\"y4\",\"type\":\"bar\"},{\"alignmentgroup\":\"True\",\"hovertemplate\":\"Technology=Offshore Wind\\u003cbr\\u003evar=km-squared\\u003cbr\\u003escenario=Business-as-usual\\u003cbr\\u003eState=%{x}\\u003cbr\\u003evalue=%{y}\\u003cextra\\u003e\\u003c\\u002fextra\\u003e\",\"legendgroup\":\"Offshore Wind\",\"marker\":{\"color\":\"#2B7F9E\",\"pattern\":{\"shape\":\"\"}},\"name\":\"Offshore Wind\",\"offsetgroup\":\"Offshore Wind\",\"orientation\":\"v\",\"showlegend\":false,\"textposition\":\"auto\",\"x\":[\"California\",\"Oregon\",\"Washington\"],\"xaxis\":\"x\",\"y\":[211.0,36.0,37.0],\"yaxis\":\"y\",\"type\":\"bar\"},{\"alignmentgroup\":\"True\",\"hovertemplate\":\"Technology=Offshore Wind\\u003cbr\\u003evar=km-squared\\u003cbr\\u003escenario=Clean Grid\\u003cbr\\u003eState=%{x}\\u003cbr\\u003evalue=%{y}\\u003cextra\\u003e\\u003c\\u002fextra\\u003e\",\"legendgroup\":\"Offshore Wind\",\"marker\":{\"color\":\"#2B7F9E\",\"pattern\":{\"shape\":\"\"}},\"name\":\"Offshore Wind\",\"offsetgroup\":\"Offshore Wind\",\"orientation\":\"v\",\"showlegend\":false,\"textposition\":\"auto\",\"x\":[\"California\",\"Oregon\",\"Washington\"],\"xaxis\":\"x2\",\"y\":[451.0,67.0,69.0],\"yaxis\":\"y2\",\"type\":\"bar\"}],                        {\"template\":{\"data\":{\"histogram2dcontour\":[{\"type\":\"histogram2dcontour\",\"colorbar\":{\"outlinewidth\":0,\"ticks\":\"\"},\"colorscale\":[[0.0,\"#0d0887\"],[0.1111111111111111,\"#46039f\"],[0.2222222222222222,\"#7201a8\"],[0.3333333333333333,\"#9c179e\"],[0.4444444444444444,\"#bd3786\"],[0.5555555555555556,\"#d8576b\"],[0.6666666666666666,\"#ed7953\"],[0.7777777777777778,\"#fb9f3a\"],[0.8888888888888888,\"#fdca26\"],[1.0,\"#f0f921\"]]}],\"choropleth\":[{\"type\":\"choropleth\",\"colorbar\":{\"outlinewidth\":0,\"ticks\":\"\"}}],\"histogram2d\":[{\"type\":\"histogram2d\",\"colorbar\":{\"outlinewidth\":0,\"ticks\":\"\"},\"colorscale\":[[0.0,\"#0d0887\"],[0.1111111111111111,\"#46039f\"],[0.2222222222222222,\"#7201a8\"],[0.3333333333333333,\"#9c179e\"],[0.4444444444444444,\"#bd3786\"],[0.5555555555555556,\"#d8576b\"],[0.6666666666666666,\"#ed7953\"],[0.7777777777777778,\"#fb9f3a\"],[0.8888888888888888,\"#fdca26\"],[1.0,\"#f0f921\"]]}],\"heatmap\":[{\"type\":\"heatmap\",\"colorbar\":{\"outlinewidth\":0,\"ticks\":\"\"},\"colorscale\":[[0.0,\"#0d0887\"],[0.1111111111111111,\"#46039f\"],[0.2222222222222222,\"#7201a8\"],[0.3333333333333333,\"#9c179e\"],[0.4444444444444444,\"#bd3786\"],[0.5555555555555556,\"#d8576b\"],[0.6666666666666666,\"#ed7953\"],[0.7777777777777778,\"#fb9f3a\"],[0.8888888888888888,\"#fdca26\"],[1.0,\"#f0f921\"]]}],\"heatmapgl\":[{\"type\":\"heatmapgl\",\"colorbar\":{\"outlinewidth\":0,\"ticks\":\"\"},\"colorscale\":[[0.0,\"#0d0887\"],[0.1111111111111111,\"#46039f\"],[0.2222222222222222,\"#7201a8\"],[0.3333333333333333,\"#9c179e\"],[0.4444444444444444,\"#bd3786\"],[0.5555555555555556,\"#d8576b\"],[0.6666666666666666,\"#ed7953\"],[0.7777777777777778,\"#fb9f3a\"],[0.8888888888888888,\"#fdca26\"],[1.0,\"#f0f921\"]]}],\"contourcarpet\":[{\"type\":\"contourcarpet\",\"colorbar\":{\"outlinewidth\":0,\"ticks\":\"\"}}],\"contour\":[{\"type\":\"contour\",\"colorbar\":{\"outlinewidth\":0,\"ticks\":\"\"},\"colorscale\":[[0.0,\"#0d0887\"],[0.1111111111111111,\"#46039f\"],[0.2222222222222222,\"#7201a8\"],[0.3333333333333333,\"#9c179e\"],[0.4444444444444444,\"#bd3786\"],[0.5555555555555556,\"#d8576b\"],[0.6666666666666666,\"#ed7953\"],[0.7777777777777778,\"#fb9f3a\"],[0.8888888888888888,\"#fdca26\"],[1.0,\"#f0f921\"]]}],\"surface\":[{\"type\":\"surface\",\"colorbar\":{\"outlinewidth\":0,\"ticks\":\"\"},\"colorscale\":[[0.0,\"#0d0887\"],[0.1111111111111111,\"#46039f\"],[0.2222222222222222,\"#7201a8\"],[0.3333333333333333,\"#9c179e\"],[0.4444444444444444,\"#bd3786\"],[0.5555555555555556,\"#d8576b\"],[0.6666666666666666,\"#ed7953\"],[0.7777777777777778,\"#fb9f3a\"],[0.8888888888888888,\"#fdca26\"],[1.0,\"#f0f921\"]]}],\"mesh3d\":[{\"type\":\"mesh3d\",\"colorbar\":{\"outlinewidth\":0,\"ticks\":\"\"}}],\"scatter\":[{\"fillpattern\":{\"fillmode\":\"overlay\",\"size\":10,\"solidity\":0.2},\"type\":\"scatter\"}],\"parcoords\":[{\"type\":\"parcoords\",\"line\":{\"colorbar\":{\"outlinewidth\":0,\"ticks\":\"\"}}}],\"scatterpolargl\":[{\"type\":\"scatterpolargl\",\"marker\":{\"colorbar\":{\"outlinewidth\":0,\"ticks\":\"\"}}}],\"bar\":[{\"error_x\":{\"color\":\"#2a3f5f\"},\"error_y\":{\"color\":\"#2a3f5f\"},\"marker\":{\"line\":{\"color\":\"#E5ECF6\",\"width\":0.5},\"pattern\":{\"fillmode\":\"overlay\",\"size\":10,\"solidity\":0.2}},\"type\":\"bar\"}],\"scattergeo\":[{\"type\":\"scattergeo\",\"marker\":{\"colorbar\":{\"outlinewidth\":0,\"ticks\":\"\"}}}],\"scatterpolar\":[{\"type\":\"scatterpolar\",\"marker\":{\"colorbar\":{\"outlinewidth\":0,\"ticks\":\"\"}}}],\"histogram\":[{\"marker\":{\"pattern\":{\"fillmode\":\"overlay\",\"size\":10,\"solidity\":0.2}},\"type\":\"histogram\"}],\"scattergl\":[{\"type\":\"scattergl\",\"marker\":{\"colorbar\":{\"outlinewidth\":0,\"ticks\":\"\"}}}],\"scatter3d\":[{\"type\":\"scatter3d\",\"line\":{\"colorbar\":{\"outlinewidth\":0,\"ticks\":\"\"}},\"marker\":{\"colorbar\":{\"outlinewidth\":0,\"ticks\":\"\"}}}],\"scattermapbox\":[{\"type\":\"scattermapbox\",\"marker\":{\"colorbar\":{\"outlinewidth\":0,\"ticks\":\"\"}}}],\"scatterternary\":[{\"type\":\"scatterternary\",\"marker\":{\"colorbar\":{\"outlinewidth\":0,\"ticks\":\"\"}}}],\"scattercarpet\":[{\"type\":\"scattercarpet\",\"marker\":{\"colorbar\":{\"outlinewidth\":0,\"ticks\":\"\"}}}],\"carpet\":[{\"aaxis\":{\"endlinecolor\":\"#2a3f5f\",\"gridcolor\":\"white\",\"linecolor\":\"white\",\"minorgridcolor\":\"white\",\"startlinecolor\":\"#2a3f5f\"},\"baxis\":{\"endlinecolor\":\"#2a3f5f\",\"gridcolor\":\"white\",\"linecolor\":\"white\",\"minorgridcolor\":\"white\",\"startlinecolor\":\"#2a3f5f\"},\"type\":\"carpet\"}],\"table\":[{\"cells\":{\"fill\":{\"color\":\"#EBF0F8\"},\"line\":{\"color\":\"white\"}},\"header\":{\"fill\":{\"color\":\"#C8D4E3\"},\"line\":{\"color\":\"white\"}},\"type\":\"table\"}],\"barpolar\":[{\"marker\":{\"line\":{\"color\":\"#E5ECF6\",\"width\":0.5},\"pattern\":{\"fillmode\":\"overlay\",\"size\":10,\"solidity\":0.2}},\"type\":\"barpolar\"}],\"pie\":[{\"automargin\":true,\"type\":\"pie\"}]},\"layout\":{\"autotypenumbers\":\"strict\",\"colorway\":[\"#636efa\",\"#EF553B\",\"#00cc96\",\"#ab63fa\",\"#FFA15A\",\"#19d3f3\",\"#FF6692\",\"#B6E880\",\"#FF97FF\",\"#FECB52\"],\"font\":{\"color\":\"#2a3f5f\"},\"hovermode\":\"closest\",\"hoverlabel\":{\"align\":\"left\"},\"paper_bgcolor\":\"white\",\"plot_bgcolor\":\"#E5ECF6\",\"polar\":{\"bgcolor\":\"#E5ECF6\",\"angularaxis\":{\"gridcolor\":\"white\",\"linecolor\":\"white\",\"ticks\":\"\"},\"radialaxis\":{\"gridcolor\":\"white\",\"linecolor\":\"white\",\"ticks\":\"\"}},\"ternary\":{\"bgcolor\":\"#E5ECF6\",\"aaxis\":{\"gridcolor\":\"white\",\"linecolor\":\"white\",\"ticks\":\"\"},\"baxis\":{\"gridcolor\":\"white\",\"linecolor\":\"white\",\"ticks\":\"\"},\"caxis\":{\"gridcolor\":\"white\",\"linecolor\":\"white\",\"ticks\":\"\"}},\"coloraxis\":{\"colorbar\":{\"outlinewidth\":0,\"ticks\":\"\"}},\"colorscale\":{\"sequential\":[[0.0,\"#0d0887\"],[0.1111111111111111,\"#46039f\"],[0.2222222222222222,\"#7201a8\"],[0.3333333333333333,\"#9c179e\"],[0.4444444444444444,\"#bd3786\"],[0.5555555555555556,\"#d8576b\"],[0.6666666666666666,\"#ed7953\"],[0.7777777777777778,\"#fb9f3a\"],[0.8888888888888888,\"#fdca26\"],[1.0,\"#f0f921\"]],\"sequentialminus\":[[0.0,\"#0d0887\"],[0.1111111111111111,\"#46039f\"],[0.2222222222222222,\"#7201a8\"],[0.3333333333333333,\"#9c179e\"],[0.4444444444444444,\"#bd3786\"],[0.5555555555555556,\"#d8576b\"],[0.6666666666666666,\"#ed7953\"],[0.7777777777777778,\"#fb9f3a\"],[0.8888888888888888,\"#fdca26\"],[1.0,\"#f0f921\"]],\"diverging\":[[0,\"#8e0152\"],[0.1,\"#c51b7d\"],[0.2,\"#de77ae\"],[0.3,\"#f1b6da\"],[0.4,\"#fde0ef\"],[0.5,\"#f7f7f7\"],[0.6,\"#e6f5d0\"],[0.7,\"#b8e186\"],[0.8,\"#7fbc41\"],[0.9,\"#4d9221\"],[1,\"#276419\"]]},\"xaxis\":{\"gridcolor\":\"white\",\"linecolor\":\"white\",\"ticks\":\"\",\"title\":{\"standoff\":15},\"zerolinecolor\":\"white\",\"automargin\":true,\"zerolinewidth\":2},\"yaxis\":{\"gridcolor\":\"white\",\"linecolor\":\"white\",\"ticks\":\"\",\"title\":{\"standoff\":15},\"zerolinecolor\":\"white\",\"automargin\":true,\"zerolinewidth\":2},\"scene\":{\"xaxis\":{\"backgroundcolor\":\"#E5ECF6\",\"gridcolor\":\"white\",\"linecolor\":\"white\",\"showbackground\":true,\"ticks\":\"\",\"zerolinecolor\":\"white\",\"gridwidth\":2},\"yaxis\":{\"backgroundcolor\":\"#E5ECF6\",\"gridcolor\":\"white\",\"linecolor\":\"white\",\"showbackground\":true,\"ticks\":\"\",\"zerolinecolor\":\"white\",\"gridwidth\":2},\"zaxis\":{\"backgroundcolor\":\"#E5ECF6\",\"gridcolor\":\"white\",\"linecolor\":\"white\",\"showbackground\":true,\"ticks\":\"\",\"zerolinecolor\":\"white\",\"gridwidth\":2}},\"shapedefaults\":{\"line\":{\"color\":\"#2a3f5f\"}},\"annotationdefaults\":{\"arrowcolor\":\"#2a3f5f\",\"arrowhead\":0,\"arrowwidth\":1},\"geo\":{\"bgcolor\":\"white\",\"landcolor\":\"#E5ECF6\",\"subunitcolor\":\"white\",\"showland\":true,\"showlakes\":true,\"lakecolor\":\"white\"},\"title\":{\"x\":0.05},\"mapbox\":{\"style\":\"light\"}}},\"xaxis\":{\"anchor\":\"y\",\"domain\":[0.0,0.44],\"title\":{\"text\":\"\"}},\"yaxis\":{\"anchor\":\"x\",\"domain\":[0.0,0.45],\"title\":{\"text\":\"Land Usage (km\\u003csup\\u003e2\\u003c\\u002fsup\\u003e)\"},\"showgrid\":true,\"gridcolor\":\"#bdbdbd\",\"showticklabels\":true,\"visible\":true,\"matches\":\"y\"},\"xaxis2\":{\"anchor\":\"y2\",\"domain\":[0.54,0.98],\"matches\":\"x\",\"title\":{\"text\":\"\"}},\"yaxis2\":{\"anchor\":\"x2\",\"domain\":[0.0,0.45],\"matches\":\"y\",\"showticklabels\":true,\"showgrid\":true,\"gridcolor\":\"#bdbdbd\",\"visible\":true},\"xaxis3\":{\"anchor\":\"y3\",\"domain\":[0.0,0.44],\"matches\":\"x\",\"showticklabels\":false},\"yaxis3\":{\"anchor\":\"x3\",\"domain\":[0.55,1.0],\"matches\":\"y4\",\"title\":{\"text\":\"Capacity Additions (GW)\"},\"showgrid\":true,\"gridcolor\":\"#bdbdbd\",\"showticklabels\":true,\"visible\":true},\"xaxis4\":{\"anchor\":\"y4\",\"domain\":[0.54,0.98],\"matches\":\"x\",\"showticklabels\":false},\"yaxis4\":{\"anchor\":\"x4\",\"domain\":[0.55,1.0],\"matches\":\"y4\",\"showticklabels\":true,\"showgrid\":true,\"gridcolor\":\"#bdbdbd\",\"visible\":true},\"annotations\":[{\"showarrow\":false,\"text\":\"\",\"x\":0.22,\"xanchor\":\"center\",\"xref\":\"paper\",\"y\":1.0,\"yanchor\":\"bottom\",\"yref\":\"paper\"},{\"showarrow\":false,\"text\":\"\",\"x\":0.76,\"xanchor\":\"center\",\"xref\":\"paper\",\"y\":1.0,\"yanchor\":\"bottom\",\"yref\":\"paper\"},{\"showarrow\":false,\"text\":\"\",\"textangle\":90,\"x\":0.98,\"xanchor\":\"left\",\"xref\":\"paper\",\"y\":0.225,\"yanchor\":\"middle\",\"yref\":\"paper\"},{\"showarrow\":false,\"text\":\"\",\"textangle\":90,\"x\":0.98,\"xanchor\":\"left\",\"xref\":\"paper\",\"y\":0.775,\"yanchor\":\"middle\",\"yref\":\"paper\"},{\"font\":{\"size\":15},\"showarrow\":false,\"text\":\"Business-as-usual\",\"x\":0.14,\"xref\":\"paper\",\"y\":1.1,\"yref\":\"paper\"},{\"font\":{\"size\":15},\"showarrow\":false,\"text\":\"Net Zero\",\"x\":0.8,\"xref\":\"paper\",\"y\":1.1,\"yref\":\"paper\"},{\"font\":{\"size\":18},\"showarrow\":false,\"text\":\"(a)\",\"x\":-0.05,\"xref\":\"paper\",\"y\":1.1,\"yref\":\"paper\"},{\"font\":{\"size\":18},\"showarrow\":false,\"text\":\"(b)\",\"x\":0.5,\"xref\":\"paper\",\"y\":1.1,\"yref\":\"paper\"},{\"font\":{\"size\":18},\"showarrow\":false,\"text\":\"(c)\",\"x\":-0.05,\"xref\":\"paper\",\"y\":0.5,\"yref\":\"paper\"},{\"font\":{\"size\":18},\"showarrow\":false,\"text\":\"(d)\",\"x\":0.5,\"xref\":\"paper\",\"y\":0.5,\"yref\":\"paper\"}],\"legend\":{\"title\":{\"text\":\"Technology\"},\"tracegroupgap\":0,\"yanchor\":\"top\",\"y\":0.9,\"xanchor\":\"left\",\"x\":1.03},\"margin\":{\"t\":60},\"barmode\":\"relative\",\"height\":700,\"width\":900,\"uniformtext\":{\"minsize\":18,\"mode\":\"hide\"},\"plot_bgcolor\":\"white\",\"paper_bgcolor\":\"white\",\"font\":{\"family\":\"Arial\",\"size\":12,\"color\":\"black\"},\"images\":[{\"sizex\":0.26,\"sizey\":0.24,\"source\":\"data:image\\u002fpng;base64,iVBORw0KGgoAAAANSUhEUgAAAu4AAAJYCAYAAAA9jmOiAADRKklEQVR4nOzddZiUZffA8e9sd3cXLN3d0iHSoigCFijYooK+ttgor4qCASIpLSANEtLdLMuy3d09vz\\u002f23dH9scAuzOwzs3s+17WXM888cUZg58z9nPvcKrVarUYIIYQQQgih14yUDkAIIYQQQghxZ5K4CyGEEEIIYQAkcRdCCCGEEMIASOIuhBBCCCGEAZDEXQghhBBCCAMgibsQQgghhBAGQBJ3IYQQQgghDIAk7kIIIYQQQhgASdyFEEIIIYQwAJK4CyGEEEIIYQAkcRdCCCGEEMIASOIuhBBCCCGEAZDEXQghhBBCCAMgibsQQgghhBAGQBJ3IYQQQgghDIAk7kIIIYQQQhgASdyFEEIIIYQwAJK4CyGEEEIIYQAkcRdCCCGEEMIASOIuhBBCCCGEAZDEXQghhBBCCAMgibsQQgghhBAGQBJ3IYQQQgghDIAk7kIIIYQQQhgASdyFEEIIIYQwAJK4CyGEEEIIYQAkcRdCCCGEEMIASOIuhBBCCCGEAZDEXQghhBBCCAMgibsQQgghhBAGQBJ3IYQQQgghDIAk7kIIIYQQQhgASdyFEEIIIYQwAJK4CyGEEEIIYQAkcRdCCCGEEMIASOIuhBBCCCGEAZDEXQghhBBCCAMgibsQQgghhBAGQBJ3IYQQQgghDIAk7kIIIYQQQhgASdyFEEIIIYQwAJK4CyGEEEIIYQAkcRdCCCGEEMIASOIuhBBCCCGEAZDEXQghhBBCCAMgibsQQgghhBAGQBJ3IYQQQgghDIAk7kIIIYQQQhgASdyFEEIIIYQwAJK4CyGEEEIIYQAkcRdCCCGEEMIASOIuhBBCCCGEAZDEXQghhBBCCAMgibsQQgghhBAGQBJ3IYQQQgghDIAk7kIIIYQQQhgASdyFEEIIIYQwAJK4CyGEEEIIYQAkcRdCCCGEEMIASOIuhBBCCCGEAZDEXQghhBBCCAMgibsQQgghhBAGQBJ3IYQQQgghDIAk7kIIIYQQQhgASdyFEEIIIYQwAJK4CyGEEEIIYQAkcRdCCCGEEMIASOIuhBBCCCGEAZDEXQghhBBCCAMgibsQQgghhBAGQBJ3IYQQQgghDIAk7kIIIYQQQhgASdyFEEIIIYQwAJK4CyGEEEIIYQAkcRdCCCGEEMIASOIuhBBCCCGEAZDEXQghhBBCCAMgibsQQgghhBAGQBJ3IYQQQgghDIAk7kIIIYQQQhgASdyFEEIIIYQwAJK4CyGEEEIIYQAkcRdCCCGEEMIASOIuhBBCCCGEAZDEXQghhBBCCAMgibsQQgghhBAGQBJ3IYQQQgghDIAk7kIIIYQQQhgASdyFEEIIIYQwAJK4CyGEEEIIYQAkcRdCCCGEEMIASOIuhBBCCCGEAZDEXQghhBBCCAMgibsQQgghhBAGQBJ3IYQQQgghDIAk7kIIIYQQQhgASdyFEEIIIYQwAJK4CyGEEEIIYQAkcRdCCCGEEMIASOIuhBBCCCGEAZDEXQghhBBCCAMgibsQQgghhBAGQBJ3IYQQQgghDIAk7kIIIYQQQhgASdyFEEIIIYQwAJK4CyGEEEIIYQAkcRdCCCGEEMIASOIuhBBCCCGEAZDEXQghhBBCCAMgiXsDolaree211ygqKlI6FCGEEEIIUUsmSgcg6k5QUBCRkZH06tWL7du3k5yczODBgxk8eDCenp5KhyeEEEIIIW5DpVar1UoHIerGoUOHOHLkCAcPHmT9+vVVXmvbti2DBw9myJAhdO3aFRMT+U4nhBBCCKFPJHFvQNRqNcePH+fFF1\\u002fk8OHDeHp507NPf2Iir3Pp4nmysrIAcHBwYMiQIQwfPpwhQ4bg4OCgbOBCCCGEEEISd0OwdOlSvv76a6ZMmcL06dNrdez+\\u002ffv5\\u002fPPP6dGjB9988w1xcXGEhoZy9epVAN758HMsLCwpLy8nLjaaiPAwwq9dIfxaGADGxsZ07NiR\\u002fv37069fP7p06YKFhYXW36MQQgghhLg9SdwNwIQJE1ixYgUAs2bNYs6cOTU+9sMPP+Q\\u002f\\u002f\\u002fnPLV\\u002f38PDk6ekvYWlpVWV7dlYmV69cIjryOlcuXyQ3NxcAS0tLevTowcCBAxk0aBAtWrRApVLdxbsSQgghhBC1IYm7nlOr1bRu3Zrz589rtv3www9MnTq1RsdPmTKFxYsX33afGS++hreP3y1fLysrIz4uhsiI60RFhnMt7CrFxcUAeHh40L9\\u002ff82IvI+PT43iEkIIIYQQtSMzEPXckiVLOH\\u002f+PM4urjz97IvM++Ijpk2bxrp161i7di02Nja3Pf7\\u002fJ9Lm5uY3tYN0cXW\\u002f7TmMjY3x9QvA1y+AnvSjpKSYiOvhRN8I53p4GEuXLmXp0qUANG7cWJPI9+nTB0dHx7t410IIIYQQ4v+TEXc9N336dObPn8+Up6bTOLQpiQlx\\u002fLZoIenpaTRp0oSzZ89iZmZ2y+OvXbtGx44dNRNPq\\u002fP0sy8SGBRy1zFmZ2dxPTyMuJgorl29THJyEgBGRkZ06NCBPn360KdPH3r27HnHLxpCCCGEEKJ6krjruVGjRrFhwwb+8\\u002f6nWFlZAxXlM78s\\u002fIbwa2H079+f999\\u002fny5dutyy1vz48eN06tTpltf48NN5GBsbayVetVpNWmoKEdfDiI2O5OqVS2RnZwNgYmJCx44d6dOnD\\u002ffddx\\u002fdunXD2tpaK9cVQgghhKjvJHHXc61atSIxMYmXX3+7yvaioiI2rFnOmdMnNdtGjx7Nhx9+SNOmTW86T3x8PC+99BJXrlzh3Llzmu3TZryMf0CQzuIvLy8nKTGeyIjrxMZEcvXKZfLyKia6mpqaahL53r17061bNxmRF0IIIYS4BUnc9Vzz5s2Jjo5h1tsfYWRkdNPrUZERnDpxlGNH\\u002ftZsGzJkCIsXL+bEiRMUFRUxatQoAFavXs2DDz6o2c\\u002fG1pYZL76Ovb2Dzt9HpfLycuLjYoiKjCA+NoqrV65oEnljY2Pat29Pr1696NmzJz169MDJyanOYhNCCCGE0GeSuOu5Bx98kNWrVzN85Fi69ehzy\\u002f1KSko4uH8PO7ZuAkClUlH5RxsfH4+Tk1O1\\u002fdcHDhrGfQOG6CT2migrKyMxIY7IGxEkxEVzLewq2dn\\u002f1OO3bNmSnj170rNnT3r16oWXl5disQohhBBCKEkSdz0XExODn58fPj6+TH\\u002fx9TvuX1JSzNnTJwkPu8ylSxco+V\\u002fbxlsZMXo8Xbr11Fa496y8vJzkpESioyJIiIvhWthV0tJSNa8HBgbSrVs3unfvTo8ePWjevHm1dyKEEEIIIeobSdwNQOfOnTl27Bhvf\\u002fDZTQsl3U5paSmLf\\u002fqO6+HXbrnPM8+9ip9\\u002fgBai1A21Wk16WiqRN66T8L8Sm9jYGM3rDg4OdOnShUaNGjFu3Dg6dOiApaWlghELIYQQQuiGJO4G4PHHH2fRokW8\\u002ff5nWFrVPHGvNOvVGbd87elnXiQw+O5bQSohLy+XqMgIEuJiiYm+wdUrlzWvmZiY0KZNG1xdXXn44Yfp1q0bQUFBsrqrEEIIIQyeLMBkAMrKygAwusuWjc889wrrVi8nKTHhptf2791hcIm7tbUNzZq3olnzVgAUFxcTFxNNQX4W6anJ\\u002fH3oECdOnGDr1q0AuLq60qlTJzp27EiXLl3o1KmTLAwlhBBCCIMjibsBiI6OxsLC4rYLLd1KcXExe3ZurTZpBzA20U7\\u002fdiWZmZkRGBzC8KEDMDczY\\u002fX6zaSmJhMRfo3MjDRiY6LYvn0HW7Zs0RwTGhpKp06dND+tW7fG3NxcwXchhBBCCHF7krjrObVazeXLl\\u002fHx9at1uYdarWbp4gVcC7ta7etOzi7c11+5jjLa5uvjxcFDx1CpVLi6uuPq6q55rbS0hIT4OGJjorAyN2b\\u002f\\u002fgP89ttv\\u002fPbbb0BF8t+6desqyXzjxo1l4qsQQggh9IYk7nouKSmJpKQkgoIb1+q4srIytvyx9pZJu4OjI08\\u002f8wL2DvWnZMTaypJLV6qfiGtiYoqvXwBdu3Vj7IihfP3dT+Tl5RIbE01CfAzJiQlcu3aN48eP89133wFgY2NDmzZtaN++Pe3bt6ddu3aEhoZiYiL\\u002fbIQQQghR9yQD0XOVI76pqck1PqakpIS3Z71UZZu3jy9x\\u002f+rG0m\\u002fA0HqVtLu7OlNWVkZpaelt92vSOJjU9HSgolY+tEkzQps0AyruUGRmpBMTHUVyUjyJCfGcPn2GgwcPao63tLSkdevWdOjQQfPTpEkTjO9y\\u002foEQQgghRE1J4q7n3NzcaNu2LZcvX77zzlTUtL8z+2XN81FjH8LZ2RUvb1\\u002fef\\u002fs1zfbQps21HquSmjdrQmpaxh338\\u002ff15mrY9WpfU6lUODo54+jkDLQDKvrKp6enER8bQ2pKIkmJCVy+fJkjR45ojrOysqJ169a0a9eONm3a0KZNG1q0aFHtgldCCCGEoSgqKuL5559n586d2NraMn36dKZMmYKpqanSoTVYkrgbAGdn5xqP6H7x8Tuax336DqR9x64YGxuzYsnPVfYrKizE1tZOq3EqKTDAlyu3SMj\\u002fzcHe7pblNNUxMjLCxcUVFxdXzTa1Wk1GehqxMdGkJCeQlJTAxYuXOHz4sGYfY2NjQkNDadWqFa1bt6ZVq1a0bNkSHx8faU0phBBCL2zdupVVq1YRGRnJs88+y4MPPqh5raCggMmTJ\\u002fP7779rtk2dOpU333yTt956ixdeeEGJkBs8SdwNQEREBM4uLnfcLycnm5ycHM3zv\\u002fbswMLSkm49enPu3GnNdjs7e5z\\u002flYjWBw729ly4VH09fyUTExOMjIxIz8i8p2upVCqcnF1wcv7nz6SizCaDhPhYkpMTSEtJJi4uhpUrV7Jy5UrNfo6OjrRo0YKWLVtqflq0aIG9vf09xSSEEELURmlpKRMmTCAzMxOAQ4cOaRL3nJwcmjZtSlxcHADvvvsuU6ZMYeHChXz99de8+OKLHD58mNmzZ9OqVSul3kKDJIm7nissLCQiIgKAtNSU2ybcNja2dO3ei8N\\u002f79ds27ZlI9u2bKyyn6ube70a9bWwsEBlpCIrK\\u002fu2+4U2CiK\\u002foFAnMVSU2Tjh6OREM\\u002f75JVZUWEhiYjxJifGkp6WSnJTA6dOnOXDgQJXj\\u002ffz8aN68OS1atKBFixa0atWKJk2aSLmNEEIIndizZw+ZmZm8+uqrrF69mqioKJKSkggPD6dv374UFxfj7e3NokWL6N+\\u002fPyqVig8\\u002f\\u002fJAXXniBYcOGsWrVKtauXcuNGzfw8fFR+u00GLJyqp7btm0bQ4ZUtGy0trFh9ttzatSi8HarpQ4e+gC9+w7UWoxK69CuNe3btmTBz0tvu9\\u002fI+wdhZGTEuj+21lFk1VOr1WRlZZKYEE9qciLpaakkJsYTFxtDcXGxZj8jIyNCQkJo1qwZTZs2pWnTpjRp0oQmTZpga2ur4DsQQghh6KZMmcLixYsJCwvjr7\\u002f+4umnn9a8ZmxszEsvvcTs2bOrXbCwqKiIjz\\u002f+mPfee4\\u002fvvvuOZ599ti5Db9AkcddzAwcOZOfOnZrnfv4BTJ3+8m2T9\\u002fLyct587flbvv7KG+9Uqdk2dBPGjyQtLZPtu\\u002f667X7PPjWJA4eOcf5izSb61rWysrKKJD4hjrTUFNLTUkhMiCc+Pk6zem4lLy8vQkNDady4MU2aNCE0NJTQ0FD8\\u002ff2lw40QQojbKioqwt3dneDgYE6ePElxcTGffPIJ77zzDsbGxuzevZvevXvf9hzZ2dm4uLjQt29ftm3bVkeRCymV0XP9+vWrkrhnZmZQVlaKkdGtV1H9\\u002f0kegI1tRRlNrz4D6l0fcndXF\\u002f7af+SO+1lbW3L12p0nsCrF2NgYVzd3XN3cq2wvLS0lLTWFlP+NzmdmppOSnMSxY8fYu3dvlX3NzMwIDg6mcePGNGrUqMqPl5eXLCglhBCCrVu3kpWVxcMPPwxUfHa8\\u002ffbbvP3225SVldVoAMjOzo6+ffuyZ88ecnJy5E5wHalfGVw9ZG5uDkCTps0Z9sAYbG3tMDW9ddIOYGpqyvQXZvLdvM8B6N7zPoY9MLpe1bVXMjExwcTEhPiExNvuZ29vR3m5ukopiqEwMTHB3cMTdw\\u002fPKtvVajU5OdmkJCeRlppMVmYGmRnpJCclsmXLlpt62ltaWhIcHExISEiVhD44OBhvb29J6oUQooFYsWIFAOPHj7\\u002fptdrctR0+fDjbt29n27ZtjBs3TmvxiVuTxF3PRUdHA3Dl8kViY6KZOfu9Gh3n4+vPm+98THl5GXb2DjqMUFmhjYNrNOG0aWgI2f\\u002fquFMfqFQq7OzssbOzJzik6sq6ZWVlZKSnkZqaQkZaCtnZWWSkp5KSnMymTZtuuitjbm5OYGAgQUFBBAUFERgYSGBgIAEBAQQGBuLg4FCH70wIIYSu5ObmsmnTJnr06IGvr+89nWvEiBHMmDGDjRs3SuJeRyRx13P\\u002f7p+am5vD+bOnaN+xS42OtWkAt61CQ4KIi0u4436BAb7ExMbXQUT6wdjYGBdXN1xc3W56rbS0lIyMNNJSUkhPTyUnJ4usjAxSUpLZuXMnJSUlNx3j4OBAQEBAlR9\\u002ff398fX3x8\\u002fPDxcWlXt7REUKI+mbTpk0UFBTw0EMP3fO5fHx86NChA1u2bKGkpEQWZqoDkrjrsaKiIk0PVYCOnbvSpFkLBSPSP16e7uzZ9\\u002fcd93NzdeHI8dN33K8hMDExwdXVHVdX95teKy8vJyc7i\\u002fT0NDLS08jOziQ3O5uszAwSE5M4f\\u002f58tXMoLC0t8fPz0yTyvr6+msc+Pj74+vpiY2NTF29P3AO1Wk1kZCSBgYGo1Wr5MiZEPbRy5UqMjIwYO3asVs43cuRI3nrrLfbu3cvAgfWnY52+ksRdjx05UnXC5f0PjMXsfzXvooKlpQVh4TfuuF95WTk+nh7cuBFdB1EZLiMjI+wdHLF3cCQwKOSm18vKysjOyiIjoyKxz8vLIS8nh+zsTNLT0vj777\\u002fZtWtXtee2s7PDx8cHLy8vvL298fb2xsvLS\\u002fPj6emJh4cHZma3n8MhdOfPP\\u002f\\u002fk\\u002fvvvByq+jL3++uvMnDkTKysrhSMTQmhDZmYmW7dupW\\u002ffvri73zx4czdGjx7NW2+9xdq1ayVxrwOSuOuxL774QvO4UeMmmEpCU4W7mytlZWU3TcKszqEjx+nVsysHDh2rg8jqL2NjY81CUwQ3uul1tVpNYUEBmZnpZGZmkJ2VSV5uLnl5OeRkZZGRkU5k5CHy8\\u002fNveQ0XFxc8PT01iXzlj7u7O25ubri5ueHq6oqLi4vcltWy9PR0zeOCggLeffddzM3NeeONNxSMSgihLRs3bqSkpKTaSal3q2nTpjRr1owNGzYwf\\u002f58aUmsY5K466ny8nI2b96seT7hsSfktvX\\u002f06xJCGnpmTXa9+SZC9zXuzsD+vZk554Ddz5A3BWVSoWllRWWVlZ4et16Jb3CwgKys7PIzsoiJzuL3NwcCgvyyc3NISc7i7S0dK5dC6ewsOC213NycsLV1bVKMl\\u002f5X2dnZ5ydnas8tre3l39Ht1HZKnbNmjV07NgRf39\\u002fzp8\\u002fr3BUQghtWblyJSYmJowaNUqr5x01ahQfffQRhw8fpkePHlo9t6hKEnc9tXr1as3jkEahhF25jI+vH07OLgpGpV8C\\u002fP2IuBFV4\\u002f2vXb9BaOMQSdz1gIWFJRYWlri5edx2v6KiInJyssnNySY3N4fcnBwKC\\u002fMpKizE0d6G9PR0UlJSuHz5MgcPHuRO68kZGxvj5ORU5cfR0REHBwfs7e1xcHDQPK78sbOz0\\u002fzX2tq6Xif+lS1By8rK8PPzIyAggNOnZW6IEPVBZmYmO3fuZODAgTg7O2v13JWJ+\\u002fr16yVx1zFJ3PWUp+c\\u002fPbvDr10l\\u002fNpVAB57fCpNm7VUKiy94uhgz4XLV2u8\\u002f9Yde3hpxtM0Cg7k2vU718UL5Zmbm2Nu7lrtSr\\u002fTp07G1sZa87ysrIyMjAxSUlJITU0lPT2dtLQ0UlNTqzxPS0sjIyODyMhITp06RVFRUY3jUalU2NjYYGdnh62tLTY2Ntja2mJra4u1tTU2NjbY2NhgZWWFtbW15sfS0hIrKyssLCywtLTE0tISCwuL\\u002f72\\u002fqj8WFhaK3WquvG7lF6BevXqxZMkSzpw5Q5s2bRSJSQihHcXFxZSVld1zC8jqtGvXDl9fXzZu3MgXX3xRrwc4lCaJu57q1atXtduX\\u002fLKA1WvXE34jrtrXGwoTExOMjY1IS8uo8THFxaUUFhVhb2+nw8hEXTH7f\\u002fXtxsbGuLi44OJSu7tSBQUFZGZmkpmZSVZWlua\\u002flT\\u002fZ2dmaxzk5OVV+kpOTuX79Ojk5OTWaa1FTRkZGmJmZYWpqipmZGWZmZpiYmGBqaoqpqanmccW\\u002fA2PNT+VzIyMjzY9KparyIVrdB6parUatVpOQkKB5DjBhwgSWLFnCX3\\u002f9JYm7EAbO1dUVKysrbtzQ\\u002fsCVSqVixIgRfPvtt1y8eJEWLaQDnq5I4q7HvL29q7SDBOjcpRtDBg3gmx8WKxOUnmgaGkx+we3rn\\u002f8\\u002fP19vLC0sSMuoebIv9JeJiXZGpStHwP99l+tuFBcXk5eXR25uLnl5eeTl5ZGfn6\\u002f5b0FBgeansLBQ81NcXExhYSFFRUWan5KSEoqLizU\\u002fRUVFlJaWUlpaSklJCaWlpRQWFmomZ\\u002f\\u002f\\u002f\\u002f1Ym4uXl5ZSXl2sS8X+XElW2e6xM5FUqFUZGRri7u9OsWTMAunTpgkql4vDhw7z44ov39P9HCKEslUpFYGAgkZGROjl\\u002fZeK+YcMGSdx1SBJ3PXX+\\u002fHni4uJo07Yd4x95XLPdyqriFvvECWOws7XhRmQMf27fo2CkymgUEkRsDRZe+rfs7IqVUx3sZMS9PtC3W7GVI+OOjo5Kh6I19vb2mJmZcfDgQaVDEUJoQWXJoC7WaejduzdWVlb897\\u002f\\u002f5ZVXXsHS0lKr5xcVjJQOQFRv0KBBADQKbV5le35+AYt\\u002fW01iYgr7Dx6jSeNg7uvdTYkQFeXl4c61GvRv\\u002f7dxoyv6U5tLW00haqyoqIj4+Pg7TvwVQui3VatWkZCQQGhoqE4GPipL+VJSUti9e7fWzy8qSOKuh0pKSkhLS8PfP4B2HTrf9HpKWho79+zn\\u002fMXLLFr6Ox3atiLQX\\u002fuTTfSZpaUFV8Ku1+qYHxctJy8vn\\u002fbtWukoKlFXbKytkDyyblSOmhkbGzNq1CjGjh3LvHnzFI5KCFFbX3\\u002f9NQC\\u002f\\u002ffabzq7RrVvFQOKBA9K9TVckcddDq1evpri4mOYt29xx34yMLK5dj6Rd24bTacbTw43S0jLKy8trfew3PyzC2sqK9m2k\\u002fs6QOTg6oEYy97oQExND06ZNUavVbNiwgbVr1\\u002fLiiy8SEBBA8+bNGTt2LK+88grFxcUApKWl8eijjxIQEICNjQ0tW7akRYsWdOnShczMTGXfjBANWHR0NCEhIbRu3Vpn15g+fToAn332GdHRFSuV16Zzl7gzqXHXQ4cPHwa47QI2\\u002fxYTE0unju10GZJeaRraiLR\\u002frfBYW1t37GXwgN5069qJb77\\u002fRYuRibriaG+PDLnXDWdnZy5dukR8fDypqanEx8fzzjvvcPXqVXJycrh06RIAvr6+NG\\u002fenJEjR2pWxg0JCSEzM5PY2FjNPoGBgTz22GO8+uqrir0nIRqinJwc4uPjSU9Px8nJSSfX6Nmzp+axv78\\u002fNjY25ObmMmzYsCqLSoq7JyPueigrKwsAF1e3Gu1fVl6OCv2aqKdLgQG+RERG3\\u002fXx5y9e5vOvf8DK0gInRwftBSbqjJ2djdIhNDheXl60atWKwYMHc\\u002fToUTIzM0lLS2PLli0AvPTSSwwcOFCTtKempnLt2jViYmLIzc1l0aJF5Obmcv78eWbOnMmaNWukbl6IOmRubg7Anj26a2hhZ2fHsmXLMPvfXLLc3FwAtmzZwuXLl3V23YZEEnc9k5CQwO+\\u002f\\u002f05wcAgOjjX7Ruzh7kb+HZaGr08c7O24eDnsns8TcSOKR8Zrd9lnUTfsbG30rqtMQ9W3b19mz57N+PHjGTVqFKtWrSI\\u002fP7\\u002fKyozW1tZMnjy5Sm38uHHj+OCDD0hMTOTXX3\\u002flm2++0atSGvlSIeqbRo0aARVrV+jShAkTKCoqory8nJSUFM325ORknV63oZDEXc98+umnFBUV0bJN+xofY2NtTXotFiIyZBbmZhgZGZGRkXXP51q9fgvm5ma0bN5UC5GJumRjbY2Rkfz60gcWFhZ89NFHrFy5knXr1vHggw\\u002fesg3cs88+y8qVK3n++ecBeOedd\\u002fD09GTy5Mk8\\u002f\\u002fzzhISE1Gghq9zcXI4cOXJX81xuJzU1lZdfflnT77qwsFCr5xdCSZWJ82OPPUZJSYnOr6dSqXBxcWHSpElARd27uHfyyadnKm9htW1\\u002fczeZW\\u002fHx9iA8IkpXIemVpk0ak5ubp7XznTx9nh5dO2jtfKJuWFtbyYi7ATIxMWH8+PHMnTuXli1vnlCflpaGqakp3377LfHx8Te9XlZWxiuvvIK7uztdu3blgQce0FpsFy5cIDg4mK+++gqAqKgojI21s8iXEPpg3bp1msfp9zBPrLYWLlwIwMmTJ+vsmvWZJO565KeffuL8+fM0b9laUx9WE6WlZTRpHKzDyPRHSFBArRdeup1TZy9gZ2dL+wbUlac+sLS0UDoEcQ+MjY2ZOXOm5vmiRYtYunSp5vlzzz2Ht7c3ZWVlmm0ZGRk4Ozszd+5cTR39li1bmDZtGn379uWxxx5j6tSpPPTQQzzwwAM8\\u002fPDDhIeH3zGW4uJiPv74Y1q2bEl2djYALi4uJCUlYWpqqq23LITirly5AkBgYCCurq51dt28vIrBtqSkJLp27YpKpSI0NJSdO3fWWQz1iSTuemT\\u002f\\u002fv0A+PsH1eq4X35bhZubCy8\\u002f9zR+Pl7V7tM0NARXV+dqXzMknh5ute7ffjtZWdmcv3iFnt1qfodDKM\\u002fMTBIqQzdx4kTWr1\\u002fPmTNnmDx5Mo888gi5ubn85z\\u002f\\u002f0exjYmJC586defLJJwkKCiIrK4tevXqRmpqq2WfBggXs3buX3377jYULF7Jq1So2bdrEypUradSoEcOGDUOlUqFSqbCwsOD777\\u002fXHLtz504aNWrE7NmzNdssLCxYunQpbm41aw4ghKFYsmQJAN98802dlho6OjpqRvuPHDkCQFhYGAMHDuT06dN1Fkd9Ie0g9UhERAQWFhZ06NS1Vsfl5xfww0+\\u002f0b5tS8aPHUF+QQFXw8JxdnLEwsIcFxdnysvKMTYxBrWa8vJyroXfYNPWXTp6J7pjbm7Oteu1WzH1ToqLizE3N8PMzITi4jvX1wrlmRjLr676YOTIkVWeW1tb8\\u002f777+Pr68vTTz8NwLFjxzh27BgAo0aNYu3atahUKgoKCvjiiy9wcXEhJyeH1NRUOnXqRJs2bQgKCmLAgAHs3r2bP\\u002f\\u002f8U3P+oqIiVq9ezTPPPMPLL7+sKYup1L9\\u002ffz777DPatm2r2zcuRB0rLS3lxIkTQEUTjLo2atQoNm\\u002fezHvvvceYMWNITU3liy++oG\\u002ffviQmJmo63og7U6ll6rxeOHfuHK1bt6Zjpy6MfvDRezrXmJFDsbG2pri4mKTkVKJj4wi\\u002fHgmAlZUlttZWjBszHCtLS66F32D9pm1aeAe65+PtybhRw\\u002fjq25+0fu5nn34MU1NTflq0grz\\u002f3YYX+mvmi89gbCw3DOuzwsJC\\u002fvOf\\u002f1BeXo6npyePPfZYrUbBy8rKmDhxIitWrNBs6969O7t372b37t0MGzasyv7du3fn4MGDWotfCH0ybdo0FixYwLBhw\\u002fj999+xsrJSNJ7y8nJefvll5s2bR0hICGfOnMHa2lrRmAyFJO56onnz5ly6dImp018iILBu6tWtrayY9tREEhKSyMnN49LlMKysrHBxcaRRcCDR0XFs2\\u002fXXTceZmJhoOj\\u002fYWFsxoF9vjp88Q3xCUpUuD9oewX5swljKy8pYumq91s5ZqXmzUIYP6Y9arWbedz9RWFSs9WsI7XntpWekq4y4pbNnz\\u002fL999+zYMECoGJRmFWrVuHp6QlU3K7v2vWfO5sDBgxg9erV2NvbKxKvELp05coVmjZtiru7O+Hh4djY6Mc6GKWlpYSGhhIREUGfPn3Yu3ev0iEZBLnfrAeuXr3KpUuX8PTyrrOkHSAvP5+rYdcJDvKnvLyc0SOGUFBQSHZODpevXKNTx7Y4OzuSk5OLWq0mJDgAYxOTf5Z6UlUs+5Scksr4McMrEimVivz8AkpKSnCwt0OthqLiIuLjk7h6LZyLl6\\u002fddQu31PR0\\u002fH1rtppsbV28dJX4hESmPv4oox4YQllZOQlJSRz4+5hOrifuXm0mbouGIzc3l6VLl7Jo0SJNaY21tTVLly5lxIgRVboQdenShaioKA4dOsSgQYNwdHRUKmwhdG7Tpk0AzJkzR2+SdqgYBLzvvvuIiIjQTAwXdyaJux6o7G36wKgH6\\u002fzam29T537pyjXat22JlZUVFuZmbNm2m+iYuCqj0dWNqrdv0wJTMzPOnLtEYWEhwYH+NG8WSq8eXRk84D5KSkpJTErhWvh1zl8Ko7i4ZqPbx4+fpVmTxnf3RmsgIyOL7bv30bRxCNbWlnTp1F4Sdz3k4uxEuVotM+sFUFES89\\u002f\\u002f\\u002fpc5c+aQmpqKkZER48aN4+GHH2bEiBG3vDPj5+eHn59fHUcrRN37+++\\u002fgYp2kI888ohe1JMXFBSgUqlYvHgxAMuXL1c2IAMipTIK27lzJwMHDqRp0+ZMfHxag+hN7efrTfOmjfH388HWxpqy8nLS0jK4fiOScxeukJ2dU+1xzk6OPDHpIT776vtqX9emRx8ajZmZKb8sWaXza4naad4slCED+mBiIuMODd25c+d48sknOX78OB4eHjz\\u002f\\u002fPM8+uij+Pr6av1aSUlJXLp0ieLiYuzt7encuXOD+H0tDFtWVhYODg6a5xs3btTq+gd3Y\\u002fPmzQwfPlzzfMyYMaxZs0bBiAyLfPIp7McffwRgyPDRDeZDIDomjuiYOM1zZ2dHWjVvSmijYLp0bAdAZmY2EZHRXL56jYTEitXeRgwfRI4WF1+6FR9vT3y8PXVSSy\\u002funaODndIhCD2wbt06Jk6cSFFRES+\\u002f\\u002fDLvvPMOdnba\\u002fbuhVqtZunQpc+bM0fTArtSjRw98fHxYsmSJ9HsXeunYsWMsWrRI87x169a0a9dOwYgq\\u002fLvlK8CsWbMUisQwSeKuILVazcGDB3Fzc8fVzV3pcBSTlpbB3v2H2Lv\\u002fEAB2tja0aN6UkCB\\u002fWrdsiomJCfn5BZiamZKcnHqHs927Tu3bkJeXT2zszSs3CuXZ2drKxNQGbuHChUydOhVXV1d27dpVZaKptsTExPDMM8+wZcsWoGIC678XjLlw4QInT56ksLBQEnehV3JycoiKiqJz53\\u002fWJzE1NeXMmTPKBfU\\u002fFy5cqBLHpEmTaN++vXIBGSD59FPQkSNHSEhIILRpc6VD0SvZObkcOnKcJcvX8NW3P\\u002fHVtz+x\\u002f+8j5Obm4eTooPPrBwb43rb2XyjL1tZGEvcG7LvvvmPq1Kl4e3tz8OBBnSTtpaWlDBkyhC1btjB+\\u002fHgiIyNp1KiR5vX33nuP7du3k5SUhK2trdavL8TdeuWVV7Czs6Nly6qrgSvdMencuXO0adOmSlxFRUWaGndRczLirqCFCxcC0LptR4Uj0W+lpaWcv3iV6NgEnp4yoUo7Sm0bcf9AVCoVN6JidHJ+ce9srJXtPyyUs3r1ambMmIGfnx8HDx7USS17UVERs2fP5uLFi8yaNYuPPvqIOXPmMH\\u002f+fIKDg1m7di2tW7fW+nWFuFfffPMNc+fOrbKtsLCQhQsX0qNHD4WiqvD\\u002f\\u002f82MGzdOOoTdJUncFZKXl8fy5csJDW2Kt4\\u002f2P3zqo6ysbPLy83lk\\u002fEh+Xab9iSzurs40Cg4iIjJK6+cW2mNhYaF0CEIBERERPP300zg5ObFr1y6dJO2xsbH069ePsLAwOnbsyJtvvsmLL77If\\u002f\\u002f7X\\u002fz9\\u002fTly5AguLi5av64Q2nDt2jUA7Ozs+Pvvv2natCnGxsY899xzisb1+++\\u002fax5bWlri4eHB7NmzFYzIsMn9ZoWsW7eO4uJimjRreeedhcbWnX\\u002fh7OTEk5MnaL1cwsnJERMTY\\u002f7cLotA6DMzqSducPLz8xk1ahSZmZksXLiwStmKtly6dImePXsSFhbGm2++ye7duyktLeW\\u002f\\u002f\\u002f0vAFu3bpWkXei1\\u002fv37AzBx4kRatGiBsbGxzq+Zn59Pbm6u5nlOTg5FRUUApKamMnXqVMaPHw+At7c3+fn5RERE0KZNG53HVl9J4q6A0tJS5syZg6WlJa3ayqSM2rhxI5ofFy3DzMyUfn26a\\u002fXcgYF+qNVqCgsLtXpeoV0mJrr\\u002fMBL6o6ysjEcffZRz587x\\u002fvvvM2bMGK1fIy8vj759+xIZGcmnn37Khx9+iK2tLW+\\u002f\\u002fTZQkRA1bdpU69etqfz8fFmgRtxWfn4+jz32GABeXl51dt1OnTphZ2dHdnY227dvx87ODgsLC95\\u002f\\u002f31cXV01JcEAp0+frrO46jNJ3BWwY8cOrly5QpduPbGyslY6HIOTk5tHcnIqDg7anWwTfj0SlUqFp4ebVs8rtKuhtE0VkJmZydixY1m\\u002ffj0jR46s9vZ6fn4+J0+eJC4ujunTpzN\\u002f\\u002fvwan7+srIwVK1YwadIkkpKSePfdd3nttdcAiI6OZuXKlZibmzNq1CgGDRrExYsXiY2NpaysTGvv8VaOHTvGlClT6Nq1K9bW1vj6+mpGMoVQq9VcvHiRr776in79+uHk5ERWVhYAY8eOrZMY3nnnHS5evIharebAgQMMHjxY89rKlSs1j11cXCgoKMDV1bVO4qrvpMZdARs2bACgRau2ygZiwGLjE+jSUbv\\u002f\\u002f3Jz8wEoLi7R6nmFELWXl5fHwIEDOX78OIMHD2b58uWaW\\u002f+lpaX88ccfpKen89RTTwHg6upKSkoKISEhPPvsszW6xrvvvsuHH34IQEBAADNmzNC8tmLFCpKTK9aQmD59OgAtWrTQvO7t7c3ChQsZOnTovb\\u002fZ\\u002fykqKiIjI4MvvviCr776ivLycs1r7du314sVL4Uy1Go10dHRHDp0iB07drB7925iYiqaKFhYWNC7d28GDhzI\\u002ffffT+PGulthvNLhw4d5\\u002f\\u002f33Nc\\u002ffeOMNbGxsNGUzly9f1ryWlJQkncC0SBL3Opafn8\\u002fy5csJDmmEl7dMSr0bPt6e9OzWiY1bdmjtnPf16krH9m3Izy+ok0WexN2xt7dDFnuu\\u002f3Jzc+nduzenTp3i6aef5ocffqhyp2XatGls27aNtLQ0zbaUlBQATSJ\\u002fp\\u002fO\\u002f++67fPXVV1hZWbFq1Sr69euHpaWlZp8LFy7cdNzkyZPJz8\\u002fn999\\u002fJy4ujmHDhvHTTz\\u002fxxBNP1Or9FRYWsn79euLi4ti8eTOnT5\\u002fGwsJC80UBoEOHDvzyyy8YGRnRokULunevvjQwLy+PRYsW8ccff\\u002fDKK68waNCgWsUi9FN+fj6HDx\\u002fmwIEDnDp1ihMnTpCQkKB5vXHjxkybNo3777+f++67Dyuruu221bx51TbW1f17AXjiiSfkLqmWSeJex5YtW0ZeXh4tWyu\\u002fepkhMjEx4cExwzlx6ixh1yK0dt7mzZpw+uxFdu7Zr7VzCu1zcnKQxL2eu3z5MqNHj+bKlSvMmDGDuXPnaj74r1+\\u002fzvfff8\\u002fPP\\u002f9c7bHW1tbV9qu+cOECP\\u002f30E2FhYVy7do2YmBiKioro1KkTK1euJDAw8KZj\\u002ft0JAyA8PJzg4GAAli5dyoQJE1izZg0vvfQSAwcOrHGXm7S0NMaMGcO+ffsAMDMzo2vXrpSUlNCnTx\\u002fs7Ozo27cv48ePx8jIiPj4ioXgrly5Qnl5OQUFBWzatInmzZvz0UcfsWrVKs25IyMjCQsLq1EcQr+UlJRw5MgRdu7cydKlS4mNjaWkpOLur4mJCU2aNGHkyJF07tyZvn376qSrUm3Y2dnh6elZ5cvE\\u002f+fq6sqXX34pibuWSeJeh9RqNT\\u002f88AOWlpa0bttB6XAM0pOTHiIlJY29+w9r98RqNe5uVTtGGBkZYWZqQmFRsXavJe6ag712l7QX+mXHjh08+OCD5OTkMHv2bD788ENUKhWlpaV8\\u002fPHHmsmiAA8++CAnTpwgIuKfL\\u002fB5eXn07t27yjn379\\u002fPgAEDKC6u+Hfs7OxMjx49GDduHE8++eQtO28MGzaM9evX89tvvzF27NgqbUhNTU1ZvXo1v\\u002f76K5MnT2bEiBH8+eefeHh43HSe0tJSjh49Svv27fnjjz+YNWsWERERdO3alWeeeYbRo0djbX3ruU75+RUlfGvWrMHJyYmysrIqXTwARowYwcaNG3FycrrleYT+uX79Olu3bmX79u389ddfmj9XKysrWrZsyUMPPUTPnj1p166d3vU8V6vVVZJ2lUqlGVSpfPz6669TUFCg+OJP9Y0k7nXo4MGDnDp1il59+mFhYXnnA0QVzZs2xsrKih9+XqrV8wb6+2JjY82KNRs124yMjJg+dRLWVlb88NNvZGZJRwd94GBnCzJ6Uy\\u002ft2rWLIUOGYGlpyZ9\\u002f\\u002fsmgQYM4d+4cS5cuZf369YSHhwMVHTM++ugjbG1tq4yKDxgwgO3bt1cZ3Tt9+jRjxozBzMyMXbt20aZNGywsLDCtQUvRX3\\u002f9lbfeeot27W59d3TSpEns3r2b3377DU9PTyIiIggICGDXrl0cP36c6dOn88UXX2jq6KFi9PT7779n2rRpNfr\\u002fEhwczOzZs5kzZw5ZWVlVknwnJyc2b95M165dCQoK4vLly6Snp0sCr6dSU1PZvn07O3fuZN++fURGRgIVfyc6d+7MgAED6N+\\u002fP506darR31ElVU6ErfTvO6FqtZqjR4\\u002fSokWLOi\\u002fhaQhUarnvXGeGDx\\u002fOli1beOm1t3B1dVc6HIPz0own2bv\\u002fEGfOXdLqeb083Hn04dGkpmWwcs1GunVuT4tmoRSXlFJeVoalpSXf\\u002fLBIZ6u1ipobPnQATUNDZKJTPbRgwQKmTZtG27ZtmTBhAjt27GDnzp1AxQjkU089xXvvvacZvXvnnXc0k+OaN2\\u002fOnj17cHNzQ61Ws3v3br755hu2bdsGVKybMWzYMJ3EXV5erhm19\\u002fX1Ra1WExsbW+2+zs7OHDhw4K5bS5aWlmqud\\u002fHiRZo1a4aJiQllZWUEBAQQGxvLwoULa1TnL3RLrVaTmJjIqVOnOHToEHv27OHo0aOaBLdx48b06dOHIUOG0LdvX+zsDOtuYklJyU13AZycnEhPT8ff31\\u002fzpURon4y415Fjx46xefNmOnTsLEn7XbivdzcArSftAPGJSXz93Y88\\u002f8yTPDV5AubmZly7foONm3dgZWnBjGlTcLS3J+VfE+GEMuxsbSRpr6emTJnC77\\u002f\\u002fzp49ezh9+jRGRkaMHz+e6dOn06FDhyoTRwE2b96seXzx4kWCgoIYNWoUBw8eJDIyEmNjY\\u002fr06cPbb79Nr169dBa3kZERkZGRjBgxgvPnz+Pj48OECRM4cuRIlTIegBMnThAQEHDX1zIx+ecju1WrVprH33zzjebLwqVLFb8jK+vhY2JiaNSoUZ0sxtOQxcTEsGrVKtLT0zl79izHjx\\u002fXTJiGiprw0aNHM2zYMAYOHIi3t7eC0d67f\\u002f99Gjp0KG5ubrz66qvcuHGDPn36KBdYAyCJex158803AejRu7\\u002fCkRieXj0606FtKxb\\u002ftlpn1yguLmXz1l00bhTItp17KS6uGF03MjZGrVYTFOQnibsesJbbrvWWmZkZ27dvZ8uWLdja2tKkSZNbLiSjVqs1rfAmTJhAp06deOutt1i6dClGRkZMmzaN1157rdpJp7rg7+\\u002fPmTNnbtq+efNmnJycCAwMxNPTU2fX\\u002f3fN+9dff01AQAAffvghqampAISGhnLo0CEpodGROXPmaD7joSKpbdu2LaNGjaJVq1Z069aNli1bVvniZaiuXr3KqFGjqrR7fOGFF3jmmWews7Nj3rx5CkbXMEipTB3YuXMnAwcOpEvXHowY85DS4RicmS89w9IVa0lITL7zzjrw+svPsuz3DcTGxityffGP56ZNwdpakncBcXFxJCYm0r59xerTxcXFXLlyBXNzc0JDQxWO7t6p1epbduMoLy8nPj4eHx8foKL\\u002f+86dO5k8eXKVFplQcUegvLyckJAQTpw4IRMFtUitVvPZZ5\\u002fxxhtvYGFhwYwZM+jcuTNDhw6tt7XdzZs319zVgYqOTUZGRjRr1owxY8awZs0aBaNrGAz\\u002f65+ey87OZurUqVhYWNDrvgFKh2NwPNwrVlpTKmkHKCgsxN3FSRJ3PaDvE7ZE3fH29q5SbmBmZlalfMRQZWVlMWjQII4ePQpAnz598Pf3Z8yYMfTt2xdra2v+85\\u002f\\u002fMGfOHKBiYaZly5YRFRVFcHDwTYm7lZUVubm5hIeHk5WVJYm7lpSXlzNz5kzmzp2Lr68vf\\u002f31F0FBQUqHpTP\\u002fnstRqXXr1pp+7j\\u002f88AMDBkiOUxckcdehnJwcJkyYwI0bNxg19iEcnZyVDsmg+Pv58ODo+9l\\u002fQMutH2upsKDI4CYO1VdSpyvqu+eff56jR49ibm6Oqakpf\\u002f31F1DR5cbHx4ft27fz2WefafY\\u002fefIkTZo00Tz\\u002fd1s++KeMZvjw4fj5+dXNm2gA3nzzTebOnUuLFi3Yu3cvLi4udz7IQKnV6iq\\u002feydMmIC3t3eVkfepU6cqEVqDJIm7juTn59OsWTNiY2Pp3LU7HTtXv+qdqN6MaZOxMLfg6PHTHD1xRtFYzl+8TKcObdm7\\u002f5CicQjpBCnqj5ycHM6ePUtKSgr5+fn8\\u002fPPP5OTkcOLECfr27cuuXbtQqVSkpKRw\\u002ffp1\\u002fvrrL95++23at2+v6XBlaWmJmZkZ\\u002fv7+TJo0iZEjRxIQEIBKpaKsrIycnBwcHR1JS0uT+nYt2rNnD5988gleXl4cOnQIW1tbpUPSCbVazWuvvXbTIktLlizhgw8+oH9\\u002fmbOnBEncdWTfvn3ExsYSHNyI4SMflJXDamHIwPtQAV\\u002fM+0HpUAA4fOwU3bp2JDjQn+s3opQOp8GqDxO7hADYvn07999\\u002ff7UtZn18fJg3b57mM8PV1RVXV1e6dOlCkyZNGDVqlGbfgoICCgoKyMzMpHXr1lVKNUxMTHB0dAQq2lAK7cjMzOSJJ57AyMiIjRs31tukHWDmzJl8+eWXmueDBw9m8+bNGBsb8+677yoXWAMnfdV0oLy8nE8++QSVSsWIsQ\\u002fJ7f1acHV1pmXzJqxcvUnpUKpISk5h1AODlQ6jQXN2tEfm0gtDo1aruXjxIqtWraJp06asWLGC5557jtLSUh577DF+\\u002fvlnevfuzfPPP095eTkxMTEsX75cM9nvm2++ASAqKorVq6vvrBUdHc3cuXPr8m01WG+88QaRkZF8++23dOhQf1dAf+mll6ok7c2aNdMk7UJZ0lVGB1auXMnDDz9Mtx69GT5ynNLhGAwPd1cemzCWi5eusmX7HqXDqcLMzIQXpz\\u002fFH1t2cCXsutLhNEjNmjRi+NABcvdKGIRly5YBYGNjw8iRIzXbK2vQBwwYwI4dO6ock5WVxfvvv88PP\\u002fxAfn4+1tbWdOvWjR07drB06VImTpx4y+uZmprStWtXPvroI3r06KGT99TQ\\u002ff333\\u002fTs2ZNevXqxd+\\u002feevu7KD4+XjPx+\\u002fPPP+fVV19VOCLxbzLirmWFhYW89957WFha0rvvQKXDMSitWzYlIzNL75J2AHtbe9RqKCmR1VOVYmlhTllZmdJhCHFHiYmJPProozz66KN89913VV6rHCvr0qXLTcft3r2buXPnkp+fr9lnxYoVAJqVKNu2bUtWVhbl5eXs3r2bbt264ejoSMuWLTl06BADBw7k2LFjFBYW6vAdNjzFxcU8+eSTmJub8\\u002f3339fbpB3Q\\u002fJ0bMmSIJO16SBJ3LVKr1Tz77LNcuXKFfgOGYGcnbbdqIyQokLi4hDvvqICgID\\u002fU6nKpcVeQra1Nvf6wFPXHv1dM3blz502vv\\u002fLKK9XWCPfs2ZMWLVponoeGhuLs7Ex8fDwffvghPj4+bNy4ETs7O1QqFX379uXvv\\u002f8mPT2dkydPsm3bNgoKCujcuTOWlpbcd999nDlzRpJ4Lfjpp5+4cuUKs2fPpmnTpkqHozMHDx7UJOuySrV+kj8VLfryyy9ZtGgRLVu1oVuPPkqHY3BMTU0J8PfFRg8X2Dl3\\u002fjJGRkZ06dQOZ2dHpcNpkGysrSVxF3ovOzubsWPHVtn270mjw4cP54svvqg2KXJ1dWXWrFma55WLS6WmplJUVMSwYcPw9fW95bX79evHW2+9RadOnejfvz9\\u002f\\u002ffUXbdu2xdvbm1GjRvH444+TkpJyr2+xQfrjjz8AePnllxWORLe2bNmieVxZ7iX0iyTuWrRv3z4ARj\\u002f4iHxTvQs7du\\u002fH0tKC6VMn0zQ0ROlwqigoLGTPvkP06dmVJyc9TOeObZUOqcGxtbWRf1dC7y1cuJCEhATefvttdu\\u002feTUxMTJW+6y+88MItj\\u002f3888\\u002fZtm0b69atY+PGjTz++OMAtGzZkpYtW7JgwQJ8fHxYsGDBLc\\u002fxwQcfcPToUXbu3MmWLVt4\\u002fPHHsbS0ZMOGDSxatIiOHTty5coV7b3heq6srIxPPvmE7du3069fP6ytrZUOSacq785069ZNFuvSU9JfTYuKiooASE1JxsfXX+FoDM+lK2GER0Qy8eHRDOzXm8tXw5UOqYoTp85y4tRZ2rRqTv\\u002f7enL0+Gmtnv+xCWPw9HCnsLCI7JxcLl4O4\\u002fqNSNLSMrR6HUNVX5cQF\\u002fXLDz\\u002f8gIeHB7NmzcLCwgK1Wk1cXBwuLi488sgjtyyzmDVrFp9\\u002f\\u002fjlBQUEsXry4ypfUjRs3kpiYCEBcXBybNm2q0YI3Q4cOZejQoZSUlHDmzBmmTZvGqVOn+OSTT1i8eLFW3m99VlBQwEMPPcQff\\u002fyBk5MTCxcuVDoknbp8+TJff\\u002f01AE888YSywYhbksRdi4YNG8bOnTu5dOGsJO53qbi4mPz8Amxs9HdU48y5iwzs1ws7O1uys3O0dl5nJ0eWrVqPkUpFUKAfbVo1o0fXDpr2WyUlJWRn51JQWEhKahpx8YlERsVS0EDqVy0szJQOQYjbOnHiBNevX2fatGlYWFiQk5PDJ598wpw5c\\u002fD09NQkRdWpXDSpR48eVZL2999\\u002fn\\u002ffeew9TU1OaNGlC9+7deeedd2oVl6mpKR07dmTdunUEBATw66+\\u002f8txzz2lKcUT13nvvPf744w\\u002f69u3LsmXL8PDwUDoknfrqq68AGDdu3G07GAllSeKuRffddx+A1OHeAzMzM\\u002fx8vflx0XKlQ7klIyMjVCoVVpYWWk3cTUxMiP3f5Nzo2Hj+OnCkyjV9vD3x9fHC2soSD3c3QhuHYGlhjkqlorS0jIKCQrKys0lNSycpOZWYuHgyMrK0Fp\\u002fSzExNlQ5BiNv6z3\\u002f+A8CgQYMA+PTTT5kzZw5QUXpwOx988AHBwcEMGTIEqPiifujQId555x28vLzYvn17lYmrd8Pd3R1LS0sKCgqYOXMme\\u002fboXwcvfTF\\u002f\\u002fnzmzZsHwLp16xpE2UhSUhIA8+bNw1R+3+otSdy1aPnyimTTydlV4UgMV5uWTVGpVGRmZSsdyi2Vl5dTXq7GydGRxKS7m+jVvk0L+vbpQX5+Ad8t\\u002fBU7WxvKy2+9pEJ5eTnRMXFEx8RV+7q7qzOenh64uTrj5upCSHAAVlZWGKlUlJSUkl9QQEZGFqlpaSQkJhMTm0De\\u002f1rOGQpjWTlV6LG0tDT27t1Lo0aNGDZsGJcvX66yYNL3339\\u002f2+ONjY015Qnbtm3TJPAAc+fOveekHWDRokUUFBQAsHfvXtLT03Fycrrn89Y3eXl5PP\\u002f88xgZGbF8+fIGkbQDHDlSMVh09OjRKmsPCP0in4RaEhsby5dffklgYBBt2nVUOhyDZGJiQvdunYi4EUV5ebnS4dxWcXExNtaW+Pl6M2RAH5JT0jhy\\u002fBQJicmMHTmUAH9fzpy7yP6\\u002fj1BeDibGRhQWFWuO73dfT1LTMnB2cqR9mxYUl5RQUHD3JS9JKWkkpaTdtN3IyAgPdze8PN1xc3PG19eb5k1DMbcwx0ilolytpriomLy8fNIzKxL7xKQU4hOSyM8vuOt4dMFI7mQJPfbVV19RVFTEk08+CUCnTp3Izc0FYMaMGbi6Vj+gU15ezpQpU0hNTWXlypVYWlpWSdoBjh8\\u002fzvjx4+85xsp5Ira2tvz888+StN9CWFgYZWVlDB48mIcffljpcOpMUFAQycnJ9OzZU+lQxG3IyqlasmLFCiZMmMDIMQ\\u002fRuausWnc3hg7qS8vmTfjq24UUF+v3Qkf97+tB65bNMDEx4cSpc3h5uePp7oZarcbIyIgDh47TpVNbzExNNQuuxCcmYWNtjYmxMVZWlnw6dz5jRw3DzcWZ6zeicXS0Z+XqjXX6PqytrPBwd8XDww0XZ0ecHB2xsbbC3NxMs8JjcXEJefn5pKdnEpeQRGJSMolJSXX+Z\\u002fTaS89IVxmhly5fvkyHDh2wtrYmJSWF0NBQrl69qnk9Ly\\u002fvlpOr\\u002f71K5dKlS1GpVDzyyCMA9O\\u002ffn127dnH\\u002f\\u002ffezadOme44zJyeHxo0bk5iYSLdu3Th48KCUdlYjIiKC4OBgzfPly5fz0EMP1ev\\u002fV2fOnKFt27Y4OzuTmpqqdDjiNmTEXUuOHj0KQFBwI4UjMVwebq4cPnpS75N2gF17D+Ls5ISfrze7\\u002fzoIVNwxaN+2JUVFRZw5d4lDR45r9u\\u002fVvTO+Pl5cvnINby8PLCwsMDIy4sjx0zzy4Ej8\\u002fby5Fn6jzt9HXn4+129E3XJhKQtzMzy9PPBwc8XN1ZnWLZvStVM7TE1NUamgvFxNcXHFiH1mVjbpGZmkpWeSnJJKSmrFHQBt3D2xtrJChhiEvnrhhRfIz89nxowZfPbZZ1WS9n79+t22I1Jly0eACxcusHLlSs3zXbt2aTVOW1tbzpw5Q7NmzTh06BCnT5+mXbt2Wr1GfeDv788rr7zCl19+CcCECRMwMTFh3LhxCkemO5V\\u002f12bOnKlwJOJOJHHXkosXLwLg4CiL89wtR0d7Ll4OUzqMGlu19o8qz0tLS2\\u002fZInL\\u002f30er3R4bG09UdCwB\\u002fr4kJevfwiiFRcXcuBHNjRvR1b5ua2ONp4cbLi4uODs54OfrTdMmjbAwN8PExARQAWrKy9WUlJRQUFhIbm4eWdk5ZGblkJGRQWpqBmkZGbdN8B2dHFAjmbvQT3v37sXY2Ji3336bgoICvvnmG81rAwcOvO2xe\\u002fbswd7eHkdHRz755JNq97GwsNBarO7u7vz444+MGTOGAwcOSOJejU2bNmmS9kr1vX\\u002f7\\u002fv37Aer1l5P6QhJ3Lam8hVZeVg4yGbvWzMxMMDIyIi294fUs\\u002f33dZl55\\u002fmniEpKUDqXWcnLzyAm\\u002fQdgd7hZYW1nh5uqMs7MTjg72ONjb4uHmiqWVBWamZpiYVLS8VKvVlJSUUlRURF5+ATm5uWRn52JvZ4vk7ULflJaWsnXrVkpLS\\u002fHw8KC0tJSff\\u002f5Z87q9vb1m+fhbuXHjBqNHj+bYsWMAdO3alaZNm\\u002fLLL79o9tF2zXGfPn2AiuXtb7cgVEMVEhJC06ZNSUhIIDMzE6joiV+fBQQEAP8swCT0lyTuWlK5OIaZubnCkRimZk0ak5dnWF1OtKVipFlFlh530rlXefn53IjK50ZUzG33s7KyxMXJEWdnJxzsbbG1tcXL0x13N1eMjOpvfakwTGPHjmXjxop5KZ07d2by5Mnk\\u002f6tb0\\u002fTp0+84L8Pb21uzeN\\u002fRo0fp1KkT33\\u002f\\u002ffZXE\\u002faGHHtJq3NHRFXfQGjWS0s7qtGjRgkuXLlFYWMiDDz7Ipk2bOHPmDG3atFE6NJ0ZPXo033zzDV9\\u002f\\u002fTUzZszA1taWwMBApcMS1ZCZXlrSsmVLAK5fu3qHPUV1QoICiflfD\\u002fOGxt3NldJS\\u002fa\\u002frrwv5+QVEx8Zz+uwF9u4\\u002fzB9bdrB05Toys7JkYqrQK2VlZWzcuBEXFxdWrVrFpUuX2LBhQ5V9hg0bdsfzxMTEUFRUhLGxMZ06dQJg+PDhmtcHDx6Mm5ubVmN3d3cHIDk5WavnrW8sLCw0d0z++OOPO+xt2Hr37k2bNm348ccfad26NUFBQURGRiodlqiGfBJqyaxZswC4cO4ETRoH32Fv8f95erhxLTxC6TAU4e\\u002fnQ25entJh6DULC7mTJfTLokWLAHjggQf49ttvuXbtGt7e3tja2gLw8ssv33HRpaNHj9KoUSOuXLlC3759Ndt9fHzIzc3lwIEDrF+\\u002fXuuxV7aBzDewtRyU0LlzZwDOnz+vcCS6pVKpWLZsWZVt6enpCkUjbkcSdy3x9vbGzMwMS0tLBvbvzcwXp\\u002fHkpIfo1KEtZmZSkXQnFhYWd6yTrq88PdxITZVfkLdjZmqmdAhCaJSWlvLxxx9jampK3759OXDgAE888QSxsbGavt\\u002fPPPPMHc9z+fJlioqKmDhxIps3b67ymrW1NT169NDqxNRKZmYV\\u002f54qV8oUNysqKuKRRx7Bz88PAGdnZ4Uj0r19+\\u002fZpHvfs2VMmLuspySi15LPPPqO4uBg3D1\\u002f+O\\u002f8XLCws6NS+NW1bN6d3j86UlJQSGxfPkRNniI2NVzpcveLj5UFpaYneL7qkK64uTly4JCVWt1M5eVUIfXD+\\u002fHkiIiKYOHGiphZ98uTJZGVlsXbtWkJDQ6v0Ab+VUaNGMWPGDGJiYjTJtK6VlZXdsnuNqFBSUsLYsWPZvHkzrq6uTJkyhQ8\\u002f\\u002fFDpsHTu2WefBWDkyJGsW7dO4WjErUjirgXh4eGaX4St2rQHKmZm7\\u002f\\u002f7qKYNoL+fD+1at2DcyGGYmBiTm5vHtYhIDh463uBncTdp0oiUBjzibGtjTXR0nNJh6LX6vPCJMDwnTpwA4LfffgMqyim6d+\\u002fOF198QVpaGu+++26N\\u002fs7a2dlhZGRUp3+\\u002fX331Vb7++msA5syZU2fXNSQzZsxg8+bN3HfffWzfvh1T0\\u002frfKm7t2rWax3PnzpXfuXpMEnct8PPzIzAwkBs3bhAfF4OvX8BN+0RFxxIVHQtULGrTtElj2rRqxnPTJlNcXEJMbDynzp4nMiq2jqNXXoCfj0H1b9c2ExMT4hPllrUQhuLfJSYjRoxgzZo1qFQq9u3bh5mZGU8++WSNzlNaWkpeXp6mLr4urF+\\u002fHktLS5YvX66p3xb\\u002f2L9\\u002fPwsXLqRbt27s2LHjf+tR1H\\u002fvvfee5nHl5GWhn6TGXQvMzMwYMWIEAKUld+4OUlhUzOmzF1j02+98\\u002fvUPbN66C5VKxcj7BzPzxWk889REBvTthaOjva5D1wv29nYNNnG3sLBALUuC3padrY2smir0ytSpUxk7diz9+\\u002fdn\\u002fvz5muQuKioKHx+fWtWl13W3pJycHDp06MDIkSM128rLy3n33Xextramb9++fP\\u002f99w2u01VGRgYvvfQSgwYNAuCDDz5oMEk7gIuLi+ZxQEAA06dPp6Cg4Kb9SkpKyJNmCopqOH8rdaxy4kpZeVmtj\\u002f33kvNmZia0bNaEZk1DeeKxhygvVxMXn8CxU2dvuXqlIbO0sECFiuzsHKVDUUSgvw8FhUVKh6HXHB0dUKvLkXEGoS9cXV1ZvXp1lW1qtZrIyEjat29f4\\u002fNs3LiR0tLSOhv5XrFiBenp6ZrSD7Vazb59+\\u002fjqq6807Q737t3L3r17OXfuHN9\\u002f\\u002f32dxKVtarWaq1evEhsbS3x8PJaWluTl5dGjRw9CQkJQq9Xs2bOHAwcOsHPnTk6cOEFJSQlqtZomTZrw008\\u002f0b17d6XfRp166aWX2Lt3LwDGxsbMnz+fa9eusXXrVoyNK+YY7dy5s8pKwFevXqVx48aKxNuQSeKuJZULMFlb29zTeYqLSzl55gInz1wAwMPdlU7t2zBi6ABMTU3JyMzi\\u002fMUrnDx9vl6MiDRr2ojc3Fylw1CMt7dnvV54SRscHRrGnSdh2OLi4sjNza3VojVLly4F4LHHHtNVWADExsYyZ84cTSI+ceJE8vPz+fLLL3n77bcBaNu2LRs2bMDa2pqRI0fyww8\\u002fMG7cuCptKvVVdnY2f\\u002fzxB4cOHeLixYtcuXKl2h71FhYWPPzww1y9epVDhw4BFd17unbtiqWlJUOGDGH69OmaRLUhGT58OBcvXsTR0RF3d3fuv\\u002f9+tm7dyvjx41mzZg1QMZ\\u002fv30JDQ0lKStL6OgPi9lRquU+vFVOmTGHx4sW89d4n95y834qlhQUd2rWiWdPG2NnaUFhYxPWIKE6ePktSSppOrqlr48cMJyc3jz+371E6FEU8+tBoEpOS2bX3oNKh6K3ePbrQsX0b6Swj9FpJSQmBgYGUlZURFxd3xxKY9PR0PDw86N69u2akU1f69OmjafX3+uuv8\\u002fHHH1eJb\\u002ffu3VUS9IsXL9KiRQucnJxITk7W20Q2OTmZefPmMW\\u002fePE35hp2dHY0aNaJHjx40atQIR0dHVCoVMTExLFu2jHPnzqFSqZg6dSqTJk2iTZs2Omm5aeiKioo0\\u002f19KS0sxNjZGrVazdOlSNm7cqJnM2rVrV82XIFE3ZMRdC3JyctiwYQO+fv46S9oBCgoLOXDoGAcOHQOgedPGtGrZjEceGoORkRFp6RmcO3+RsxeuGMxovLu7KydOnVM6DMU42Ns16PdfE9Y2VhgZSYcDod8yMjJwcXHhwoULlJSUYG5+60XDysvLmTx5MiUlJTz11FM6j23fvn04OzuTmJiIiYkJYWH\\u002fzCl69NFHbxpVb968OS+88ALz5s3j8OHD9OjRQ+cx1kZOTg4ff\\u002fwx\\u002f\\u002f3vf8nLyyM0NJQXX3yR\\u002fv37ExwcfMuOKDNnzuT48eOYm5vTunXrOo7asGRmZmoeOzk5sXr1agYOHMjEiRMZNGiQJnE\\u002ffPgw58+f16weL3RPEnct+Pbbb8nMzKT\\u002foDsvb61NFy+HaSZ12tpY06Fdazp1bEffPj0qOtXExXP23CVN\\u002fbw+Mjcz1+v4dM3CwpzI6IbXSag2bG1s6nwCnxC1NXLkSM6ePctrr71226QdID4+nk2bNhEaGspDDz1UJ\\u002fF1795dM9mycoTU39+fxYsXV7v\\u002f2LFjmTdvHrt379arxH3v3r2aLxqNGzdmzpw5jBgxokYTSVUqFZ06ddJ1iPWCu7s769atY+LEiWRnZzN16lRu3KhYJDE2NpbOnTtz9GhFu+vFixfz5ZdfKhlugyKJ+z1KTk7m008\\u002fxcPTk9ZtOyoWR05uHnv3H2Lv\\u002fopfyMGB\\u002frRq0ZT7h\\u002fTHzMyUvPwCIm5EcfrsRZKSUxSL898C\\u002fH0oLilWOgzFVPZvbuh9\\u002fO\\u002fExtpK6RCEuK3s7GwOHz5M7969+fTTT++4v7e3NwMGDGDnzp1cunSJFi1a6Cy26OiKpgYFBQWUlpZiYmLClClTgIoFd25VBtOhQwdMTEw4efKkzmK7G9evXwegd+\\u002fe7N69W2\\u002fLeOqDUaNGkZuby8iRI9m4cSODBw8mMTGRs2fPVtlv4cKFkrjXIUnc70F5eTkdO3YkKyuL+0eO06vWUf\\u002fuVGNiYkKLZqE0b9qYR8aPxNjYmJycPNIyMjh89CSxcQmKxNg0tBHJyamKXFsfeHm6U1JSonQYes9S6k+Fnqscebz\\u002f\\u002fvtrtL9KpWLmzJns3LmTP\\u002f\\u002f8U6eJu6urKzY2NuzcuRMrKytNG0hTU1MeeeSRWx5nYWFBx44d2bNnDzk5OXXaa\\u002f52evfuDYCHh4ck7TpWUFDASy+9RFRUFF5eXuzZs6faz6yG3GBCCXL\\u002f+R5cuXKF6OhorG1saNGyjdLh3FJpaSlnzl1k2ar1zP3mR+bN\\u002f4XE5BQC\\u002fX0ZN2oYM1+cxtQnHqV\\u002f3564\\u002fq+tZV3w8\\u002fHiekRknV1P3\\u002fj5+pCTK\\u002f1w78TMrP6vWigM26lTpwBq1QqyR48emJqacuDAAV2FBYClpaWmdWVJSQmrV6\\u002fG2NiYq1ev4u3tfdtjJ02aRF5eHj\\u002f\\u002f\\u002fLNOY6yNylaWq1at4tKlSwpHY\\u002fjy8\\u002fP57LPPiIiIuOm1Dz74gAULFnDmzBmysrKqlFVZWVnx8ccfA\\u002f+0wxZ1QxL3e1BWVtGzPbRJU4UjqZ3i4mLMTE25dOUaX337E\\u002fPm\\u002f8LpsxfwdHfjsUfG8OoL03hi0kP07N4JO1vdTba1tbXhQgNdeAnA08O1Qd9xqCkZVRP6rqioYi2G2nQnSUlJobS0FBsb3f2OrTR48GDUajVpaWl88MEH7Ny5s0ZtKydOnIiDgwPLli3TeYw15e\\u002fvT79+\\u002fYCKNpqRkZHKBmTgDh48yOuvv66Z1Lt161YA3njjDU1iDpCXl8cLL7wAwIQJEzh58iSvvvoq06dP55dfflEk9oZKf2o7DFDlL7Og4FCFI6k9L0831m\\u002faDlQk8sdOnOHYiTNAxUTXNq2a07hREJ07tAUgPSOLa+ERnD1\\u002fieyce78tVlm3nJ9\\u002f88psDYWLsxMnTp5ROgy9d6sOEULoi8rFetatW0fXrl1rdMw777yDWq3W1JvXBScnJ956660a729lZUWnTp3466+\\u002fKCws1Iu2iSqViiVLljB69GiOHj1KYGCgrD59D44fP17l+dChQ1Gr1dXO1UhPT+eHH35g6tSpmm2+vr6sXbuWIUOGaO6GCN2SxP0ubdy4kc8\\u002f\\u002f5zg4BDatFNuUurdMDExwdTUlKhbdDPJyc2r0nbSztaG1q2aVSTyHdtq9omOiePSlWu3PM\\u002ftNGsaSlYDXS21krWVFTeipKOMEIauY8eKz4DKrhs1ce7cOVxdXenfv7+uwtKKDh06sGPHDi5fvkzbtm2VDgcALy8vjhw5QqNGjQgPD2fVqlWMHz9e6bAMUnVfeqZPn17tvuXl5UybNg0nJyfGjRtHWVkZ8+bNIyEhgaysLDZs2KDjaAVIqcxd2bFjB+PGjcPO3p6R4x4xuFv5LZqFkpeXX+P9s3NyOfD3MX7+dSVfzFvA9z\\u002f+xsnT57G3t2PU8EHMfPEZnntmCmNHDqNVi6aYmd35+2BIkD\\u002fR0XH38jYMnrGxEekZmUqHodcc7O1kNE3ovcoad39\\u002f\\u002fxofM2DAAFJSUvj11191FZZWVLaC3Lhxo8KR3Gzy5MkAN3U5ETX35JNP3rRt\\u002fvz5tz3mk08+YciQIZiYmJCQUNHcYuPGjbX64irunqycWkt79+5l6NChmJqaMuWpGXh63X5yjz56+MGRZGZmsXWHdlbrMzIyIiTInyahIfh4eWFtbUlZWRmpaelEREZz8XIYGRlZVY55cfoTrPtjG9ExDTN5d3S0Z8rE8cz970KlQ9FrgYF+jHlgiF51bBLi\\u002f3v00UdZtmwZYWFhNGrUqEbHZGVlERISgqOjI1evXtXbkrCysjJ8fX0xMzPj2rVrelMOMW\\u002fePF588UVsbW05ffo0wcHBSodksGxsbDQrzwK0aNGCqVOn8txzz1W7\\u002f+rVq9m8eXOVL53Dhw9n3bp18ru6Dsj\\u002f4VoIDw9n5MiKdoqTnnjGIJN2AE93V\\u002f7ar70lisvLywkLv0FY+D\\u002fftt3dXGnRLJTGIcF07tAWIyMjcnPziI1LICw8AlMzswabtAME+fvW6q5HQ+Vkb6d0CELcUWJiIlZWVjVO2gHs7e155JFHNKuTduvWTYcR3j1jY2OefPJJPvjgA7766itee+01pUMiLy+PF198ERcXF\\u002fbt2ydJ+z3Iz8+nvLwcqCij3bx5M3369MHMzIwBAwYwc+ZMNm3aRIcOHdi4cSNeXl5AxQJd3333HREREfj7+2NnJ7+r64qMuNdQWVkZrVu35uLFizzx9AxCGjdROqS7YmlhwYxpk\\u002fn86x\\u002fq9LoW5mY0bdKYkKAAvDzdsbAwp7CwiKTkVMKv3+Di5TAKGtBCRPcP7oeFhQVrNmxROhS9dl+vrnRo19rgytFEw5GdnU1wcDBOTk5cvXq1VsdeunSJ5s2bM3z4cP744w8dRXjvCgoKsLKyws3NjcTERMXvDsydO5dXXnmF9957j7ffflvRWAzZ9u3beeKJJ4iLiyMkJISwsLCb\\u002fmzz8\\u002fMZPXo0Tz75JGPHjlUoUvFvMuJeQ99\\u002f\\u002fz0XL16kT98BBpu0A7Ru1YzMrOw6v25hUTGnz17g9NkLmm0B\\u002fj40DW1E+3at6NOrG2rUZGZmER0TR1j4jbua9Goo3NxcuBJ2c99cUZWNjY3iSYIQt7N582ZSU1N57733an1ss2bNGDt2LGvWrGHbtm0MHjxYBxHeO3NzcwDc3NwU\\u002ffdYXl7OK6+8wtdff42ZmRmPPfaYYrEYotLSUpYtW8bXX3\\u002fNmTNnALCzs+OTTz7hkUceqfbP1srKitWrV+vNAlxCEvcay86uSHYDg2t+K1QfhTYKJvx6pNJhABAZFUvkv7qq2Nvb0aJZKAH+PjRr0hgzczPKy8pJTU3j2vVILl0JU+RLhy7Y2doQHdtwS4VqytbGGiMjmUMv9Fd0dDQAbdq0uavj586dy59\\u002f\\u002fsnzzz\\u002fPhQsXMDMz02J02qFZsyRU2dbH06ZN48cff6Rjx478+uuvBAQEKBqPocjOzsbX15eysrIqtewTJ07k6aef5tNPP2XXrl3s3Lmz2uMladcvkrjXUFZWxeRKMzNzhSO5Ny7OTvzx5w6lw6hWVlY2fx8+zt+H\\u002f+krG+DvQ0hQAM2aNqJr53YYGRmRX1BAQkIy4TciCQu7TmFRsYJR3x1TU1NiY+OVDkPvWVlZKh2CELeVmJgIgKOj410d7+vry+zZs3nrrbdYtGhRlR7Z+sLY2BgrKytFFztavnw5P\\u002f74I506dWL37t11snCVIVOr1Rw8eJB33nmHvXtvbkSxatUqHnzwQdatW8fmzZuBii9oUpao\\u002fyRxr6HKZaldXN0UjuTu2dnaoFJxU4cXffb\\u002fR+VNTEwIbRxMSJA\\u002f3bt0ZGC\\u002f3qBWk5ObR0JiMomJSYRHROl1m0U7WxvKy2VqSU1YWBj2F2VR\\u002f7Vr1w6oqBdu2vTuVtF+4YUX+PTTT1mwYIFeJe4lJSX89NNPZGdnY2dnR3GxMoMkK1euZNKkSXh7e7Nq1SpJ2quRmJjIL7\\u002f8QnZ2drWLJ1lYWODv78\\u002fw4cOZMGECbm5uxMTE0KtXL4YOHcqIESMkaTcQkrjX0Pjx4zl8+DCHDvzFwCHDlQ7nrrRp1Zz09Eylw7gnpaWlXLx0lYuX\\u002fpkEZmNtRZPGIfj5etOmdQt6du+MSmVEdnYOsfEJREbFEBZ+g9LSUgUj\\u002f0dQoB\\u002f5+dJRpibM9KT1nBC3UtnR5MSJE3d9DhsbG0aOHMlvv\\u002f1GQkICnp6e2grvrpWUlNCjRw+OHTum2Va50FRdKS8vZ+7cubz++ut4eHiwc+dOKY+5haZNm5KZmVllW+PGjXnvvfd4+OGHKSws5OrVq1y9epV9+\\u002fZx\\u002fPhxLCwsyM3NZcsWaZJgSCRxr6Hp06ezbNky\\u002ftqzg0aNmxIYHKJ0SLXWKCSQq9euKx2G1uXm5XPi9DlOnD6n2WZlZUnL5k0I8POhb+\\u002fuDBvcj\\u002fJyNTm5ueTl53Pk6Cmu34hSJF4vTw9S0zIUubahMZaewELPeXh4ABAVdW+\\u002fT7p3785vv\\u002f3GyZMnuf\\u002f++7UR2j0JCwurkrQDhITU3edeSkoKTzzxBJs2baJJkyZs2bKFoKCgOru+IXnrrbc0SXuLFi1o164dX375JS4uLvznP\\u002f+5af\\u002fjxyvKUUNDQ2UOkQGST8UaMjExYe7cuQwcOJANa1fw0ms3\\u002f2PQd44O9pw5e1HpMOpEfn4BR4+f5ujx05pt9vZ2tGzehO5dOnD\\u002fkP6YmZlRVlZKTm4eySmpxMUlcj0ySuelRO5urly7Lh1lasJIOsoIPefn50eLFi04ePAg0dHR+Pn53dV5mjdvDsCVK1f0InHfs2dPlee2trbVJoHalp2dzcqVK5kzZw5RUVFMmDCBBQsWSHlMNZKSkmjfvj1xcXF4enqya9cumjVrpnl9w4YNfPTRR0BF95jKJhtQkbSfPHlSunYZIEnca6FHjx6EhoZy5swZsrOzsLOzVzqkGnNydECtVpPbgBf9ycrKJisri6KiIubN\\u002fxkAZ2dHggP88PbypH27VvTu2QUjI2NKSysS+qSkZGLjE7l+I4rs7BytxGFnZ0N0tHSUqQm1Wi0fLEKvmZqa8uijj\\u002fLGG28QHh5+14l7ZQmIkhNA\\u002f+3atWsA\\u002fPLLL0RGRjJr1iwsLCx0fl17+38+V+fPn88zzzyj82saolOnTtG+fXugotTql19+oVmzZqjVai5fvsyPP\\u002f7IggULcHBw4PDhw0RFRTF27FhycnL44IMPeOuttxR+B+JuSeJeS0888QTPPfccZ08dp2ef\\u002fkqHU2OtWzWT8gzA18ebzKx\\u002fEvC0tAzS0jLg5Nkq+7m6OhMU4IevtyedO7alb+9uGBkZUVJSSnZ2DonJKcTExhF+ParWC0eZmZoSG5+olfdTn9nb2yHrwwlDMHToUGbNmsUTTzzBpUuXsLSsfTckb29vTE1N77nkRlsq5wQFBQUxZcoUnV9PrVbz5Zdfap6vXr1aFvy5hS+\\u002f\\u002fJJXX30VqJh3sGHDBr777jsWLVrEiRMniIiouKPbuHFjFi9ezO7du3n++eextbXlr7\\u002f+onfv3kqGL+6RJO61NHXqVF5\\u002f\\u002fXUuXThrUIl7SFAAFy7VblW\\u002f+sjTw43LV+9c55+SkkZKSlqVUhsAHy8PAgJ88fb0oFf3Lgzqfx9QsbJgekYmCYlJxMQmEBUTV+1kWAtzM9RqNEtMi1tzcrCXxF0YhJYtW3LfffexZ88eEhMTCQwMrPU58vLyKCkpwdraWgcR1lxRURHPP\\u002f88CxcuxMLCgrZt2+r8mtHR0Tz77LNs2bKFZs2a8eeff+Lv76\\u002fz6xoatVrNuHHjWLt2rWbb22+\\u002fTd++fTWr9gYFBTF9+nSGDRtGu3btmDp1Khs3biQoKIjNmzffdecjoT8kca8lU1NTevTowa5du0hKTMDdQ\\u002fnZ\\u002fzVhb2fH+QuXlQ5DcfZ2tvdUXx4bn3jTaLmVlSUBfr74+ngR4OdLq5bNMDerSNALiworRuiTUoiLT8TExITCWo7QN1QOjvZI2i4Mhen\\u002fOiC5urre0\\u002fFKW7JkCQsXLqRDhw589dVX2NnZ6exaZWVl\\u002fPDDD7zxxhvk5uby0EMPsWDBAp1e05Dt2rWrStIOMHx4RZe7oKAg9u\\u002ffj7e3NwBLly6lefPmpKWl8fDDDzN\\u002f\\u002fnwcHBzqOmShA5K434XRo0ezY8cOYmOiDCJxd3ZyRK0ub9D17ZWMjU1ISUnT6jnz8wu4dCWMS1fCqmw3MzMjwN8Hb08PPNzdaBQciLW1lV73mNcnDna2Ut8uDEZsbCz+\\u002fv53PYmyskWs0qtUVq5ZsnXrVlxcXHRyDbVazZw5c1iyZAlhYWH4+fnx+++\\u002fM2TIEJ1crz4oLi5mzJgxN21\\u002f+eWXadSoERMnTsTa2pq8vDyeffZZlixZgrOzM7\\u002f\\u002f\\u002fjvjxo1TIGKhK5K434X09HQArG0MYxngVi2bSn074O\\u002fnU6cLiBQXFxN2LYKwa\\u002f+M8D\\u002f60GgSk5LrLAZDZmtjI11lhMEICAhg27ZtFBcXY2ZmVuvjo6OjgbsfsdeWyi8OaWlpWk\\u002fc1Wo1R44c4YMPPmDr1q0AzJo1i9mzZ0vXmDvYvn07OTkV87NMTU2JiIjAx8enyj7R0dGMHDmS06dPM3ToUH799VedffkSypEGnnehsvYuL1c7XUZ0LSQogLB62L+9toIC\\u002fcj4fwtU1DUHezti4xIUjcFQ2NraSI9hYTA6duxIWVkZZ86cuavjT5+umE\\u002fTpk0b7QV1F06dOgVUrMSpTUlJSQwfPpxu3bqxdetWunTpQlRUFHPmzJGkvQb+PeE5Pj5ek7Sr1Wry8\\u002fP5\\u002fPPPadasGadPn+add95h06ZNkrTXUzLifhfCwipKIpxdlB0ZqSl7ezvOnLukdBiK8\\u002fPxIjpG2TaMFhYWREoryBqxtrJSOgQhaqyyRv1uV0XetWsXULEQk1Kys7M5cuSIVuNQq9Vs27aNp59+mtjYWB588EHeeOONOpn0Wl+UlJTQv39\\u002fdu3ahZ2dnSYhv3jxItOmTePgwYNARZ37d999x+DBg5UMV+iYDGfVUlZWFr\\u002f99humpqa4uXsoHc4debi7Ul5WVuuWhfWRo4MD18JvKHZ9IyMjVCpkcmoNmZvXvtxACKXExsYC3FS+UBMpKSmsX7+ezp07ayYX1rXS0lJNx5Hhw4djooVVi9VqNa+99hpDhw4lNTWVX3\\u002f9lVWrVknSXguzZs3CzMyMN998k759+5KamsrHH39Mv379aNWqFQcPHqR37958\\u002ffXXXLx4UZL2BkBG3Gvpww8\\u002fJCIiglFjHsLKStm2XTXRumVzklJSlQ5DL5gq3D\\u002fdx8uD4pISxa5vaCRxF4akcuGg5ORkQkJCanXs7Nmzyc\\u002fPZ+bMmboIrUYWL15MfHw8TZo04ffff9fKOb\\u002f77ju++OILOnfuzKJFi6QV4V3YuHEjAHPmzGHOnDma7WZmZvTr14+PPvqIjh07KhWeUICMuNeCWq1m8eLFeHp50bGLcrczayMo0I9Ll68pHYbivDzcKS1VNmn29fUmJydX0RgMidS3C0PyyCOPAPDGG2\\u002fUap2GlJQUfv75Z3r06MHo0aN1Fd5t5efn8+KLLwIV7SD\\u002fvUJqfn4+69atq3UJ0L59+3jttdcICAhg+\\u002fbtkrTfBbVafVNf\\u002fyeffJIDBw6QlpbGjh07JGlvgOSTsRZKS0tJTU3Fy8vHYNrU2Vhbcf7iFaXDUFxIcAAZmdmKxuDl4UZSstz9EKI+atGiBdOnT+fAgQO8\\u002fvrrNT7u999\\u002fR61WM3XqVMU+V9LS0sjLy8PZ2fmmGL7\\u002f\\u002fnvGjBnD2rVra1zmd+nSJR5++GFUKhUrVqzQ3I0QNadWq+nTpw8nTpyosv3HH3+kR48eMqG3AZPEvRYqV8IsKy9TOJKaCfT3pbikpNoVPBsaP19vYuPiFY3B2dmJ+IQkRWMwFDLaLgzRp59+Stu2bfniiy+Iioqq0TF\\u002f\\u002fvknpqamjBo1SsfR3Vplx5K0tDQ6duzIyJEjWbhwITExMeTmVtwlfO6552jfvj1lZTd\\u002f\\u002fh04cIAnnniCL7\\u002f8kkmTJtG5c2eSkpL45Zdf6NKlS52+l\\u002fpk\\u002f\\u002f79N23LzlZ2AEooTz4da8HExKRiwo6BLOfYqkVT4uKUq+nWJ85OjlyPqNkHqa5YW1lyIzJa0RgMhaODPWq1gfxDE+J\\u002frK2tefPNNwFYvnz5Hfe\\u002ffPkyu3btonv37jeVRNQlFxcX\\u002fvjjD5566inc3d3ZuHEjU6dOpV27dpoR36ysLLKzs6t8qc7KymLAgAH06tWLX375hVdffZUlS5YAsG7dOsaPH6\\u002fI+6kPVCoV165dY8aMGXzyyScEBAQAcPjwYWUDE4qTxL0WTE1NcXd3Jzs7S+lQasTfz4dzFy8rHYZeMDMz40ZUjKIxGBkZkZkloyU14ezkgOTtwhANHz4cKysrvvzyy9vuFxcXx8iRIykrK+PDDz+so+hubfjw4SxcuJDExEQiIiL44YcfyM3NZfPmzZp9YmNjmT17NgkJCTz88MP4+Piwa9cu+vbty4kTJ9izZw9XrlwhOzubESNGKPhu6oeQkBC++eYbXn\\u002f9db799lugooe7aNgkca+FoqIiiouLDeI2vpGREebm5lVW7WyoXF2dKStTtlzI3dWZ0lLDKLHSBw72dhjMrS0h\\u002fsXMzIwBAwaQlpbG2bNnq91n\\u002f\\u002f79dOnShbCwML755htFe7dXJzAwkKlTpxIWFsaCBQs4d+4cV69epVWrVnzyySd4eXmxcuVKWrZsyXfffceuXbto37499913H6GhoQYzB8yQVLbnlNJXIe0ga+GJJ54gJSWFzt16KR3KHbVoHnrXC4HUN41DgsjKVnaVW39\\u002fX\\u002fLy8hSNwZDY2dkC8uEvDNOsWbPYuHEjbdq04ciRI3Tq1AmVSkVBQQGffvopH374Iaampvz22288+uijSod7S76+vjz99NOa50ePHuWnn35iz5493H\\u002f\\u002f\\u002fUyZMkWS9DpSOdegNh2LRP0kiXstFBQUAODnH6RwJHfWvGkoEVJPDYCfrxexCtf6e3q4k5KarmgMhsTGxgZjY\\u002f2\\u002fsyVEdTp37syECRNYvnw5Xbp0oWvXrvj5+bFq1SqgogPNypUrad68ucKR1o6FhQUzZsxgxowZSofSYFXmIaLhkk\\u002fGWnj55ZcBOPDXToUjuTNPd1fOnrukdBh6wdXZmes3IpWNwcUJBwd72rdtiZOjg6KxGAJbW2sZyRMGbf78+ZrHhw8f1iTtn3\\u002f+OadOnTK4pF0oKyioYsCwcuRdNFwy4l4L3bp1o3fv3uzbt4\\u002fYmCh8fP2VDqlaFhYWGBsbE58orQehYgXOiBvK3n3Yu+8QrVs2o0PbVvTu0RVjY2PKysrIzcsjNTWdxKQUYuMTiE9IkhpGwOp\\u002f7emEMFT29hWdkeLi4rh69Sp2dna0bdsWY2NjpUMTBsjZ2RmoaNkpGjZJ3GtBpVIxZ84cunfvzu4dfzLpiWeUDqlabVs1IytL2ZpufeHk6EBZebnidYHXb0Rx\\u002fUbVdpTOTo4EBvjh5elOk9AQOrZvjZmZKQAlJaXk5uWTnp5BYnIqcfEJxMUnNpik3tzcTOkQhNAKb29vvL29lQ5DGDgPDw+MjIxqvD6AqL8kca+lbt268eijj7J06VKSEhNw9\\u002fBUOqSbNAltRFi4dJMBCG0URE62ft5aTEvPIC0946btRkZGeHm44ePjhZuLM00aB9GxXUtMzcxQAWVlZRQUFpKZmU12Ti4RN6KIjoknrx5NRjY1kV9NQghRyczMDF9fX27cuKF0KEJh8ul4F0aPHs3SpUu5evmCXibuzk4OrN2wRekw9IK\\u002fnw+x8QlKh1Er5eXlxMYnEhtf\\u002fYRaZ2dHvL08aNOyGU0aBxPg74uFhTlGKhXl5eUUFhaRnZNLWnoGySlpJCYlk5iUYlCj9UZGUk4ghBCV1Go1WVlZeHrqX84h6pYk7ndh0KBBWFhYcOrEUbp0742Zmf7c1nd2dkStVpOdo5+jzHXN1cWZM\\u002fVskm5aWgZpaRn4eXuRl1\\u002fA2g1\\u002fal6zs7XBx9sLdzcXXJydaNvaAyurDpiamKJSVXwpKCwqIic3j\\u002fS0DNIyMklOTiUhKZn8fP3pViDzUoUQ4h+XL18mMzOTjh07Kh2KUJgk7nfBysqKd955h1mzZrHu96WMf0R\\u002fetm2btGM1DRpO1jJwsKc8IhIpcPQCRdnp5tWg83OyeXSlTAuXQmr9hh7ezu8PNxwd3PBycmRpqGN6NC2FWbmZhipVKjVaopLSijILyQzK5v0jEzS0ismzyanpNXJXAEzM\\u002fm1JIQQ\\u002f\\u002fbnnxUDNEOHDlU4EqE0+YS8SzNnzuTMmTOsWrWK1m070rR5S6VDAiA40J+Ll6tP2hoaWxtrytVqgyoRqQ1bWxviE2rXOSgrK5usrGwuXw2v9nULczPc3d1wd3PFxdkRTw83GocEYmFhXmXlvvyCQnJycsnIzCIjM4vUtHSSk1O1cqfH2ckJtVpWTRVC1D9Xr17F1tYWLy+vGh+Tl5fHggULMDc3p1cv\\u002fV8AUuiWJO53ydjYmHfffZdVq1YRE31DbxJ3e3tbzl2oX6Uhd6txoyByc+vvaqXm5mbExGm3fr+wqJio6FiiomNvuY+Huyuenu64ODni6OCAt5cHlhYWmJmZYmRUsTREWXk5JcUlFBQWkZubS1Z2DllZORUj+BkZZGXlUFxcXO35HR3sJXEXQtQ7YWFhNGnShODgYMLDqx88qc6ZM2cIDw\\u002fHx8cHKysrHUYoDIEk7vegciR37+4d9B90vyZpUZJKpcLBwZ7cvPrTYeRuBfj5kpiYrHQYOqNSqSgsLKzz6yYmpZCYlHLbfRzs7XBxccLJ0RFHezvs7Gzx9HDD0tISM1MTjI2NNeVl5eXllJSWUlRUTH5+AVZWlnrxb0kIIbRp4sSJAFy\\u002ffp28vDysra1rdNzevXsBeP\\u002f993UWmzAckrjfg3\\u002f35k2Ij8Xbx0\\u002fBaCrsO3iEcaOG8dW3PykdiuLc3Vw5cOiY0mHohKuzM2VlZUqHcUuZWdlkZmUDkXfc187WBicnBxwdHHCwt8XRwZ6ioiLMTM0wNzfD9P8l+mo1qFFXPKDiC4yRkZHezDMRQgiA+Ph4Lly4wIABA1CpVPTv359jxyo+k\\u002fbt21ejevU\\u002f\\u002fviDd999F1dXVx5++GFdhywMgCTu98DR0ZGhQ4f+b9KIfiQNx06coU3L5oy8fxAbNm9XOhxFWVlZci38utJh6ISfX0VHmfogOyeX7JxcIqNuXZ7zb7Y21tg72GNvZ4udrQ021tbY2FhjbWWJpWVFyY6pqSkmxsZVRu5VKpUk90KIOrFu3TrGjBkDwJo1axgzZgwffPABc+bMAWDYsGFERUXh53frAb8bN27w8MMP4+joyLZt27CwsKiT2IV+k8T9HpSXl5ORkYFKpcLewUHpcDSWrVrPs08\\u002fho+3J7FaroE2FJW\\u002f4AqLqq+jNnTubq6kp2cqHYYicnLzyMnNo2Zp\\u002fj9efu5pzcq0QgihKzExMXzwwQea58eOHWPMmDEYGRkRFBRERETFAon+\\u002fv60atWK5cuX07x585vO88Ybb5Cfn8+KFSto165dncUv9JsUkt6DiRMncvjwYdRqNebm5prtyUmJ7N+7i2OHDypSzpCXn68pmWmoGocE6lVfcm1zcXEiJTVV6TAMipGRjLYLIXQrMzMTPz8\\u002fzpw5o9l25MgRzeOrV6\\u002fSvXt3zfNz587RokULunbtyv3330+\\u002ffv1Ys2YNmZmZrF+\\u002fnl69evHAAw\\u002fU5VsQek4S97ukVqtZvny55vnmDas129esWsLWLRtYv3YlW\\u002f5Yo0h8x06cITcvn5H3D1Lk+koL8PMhKfn2EygNmZ2tDfH1eOKtLsiEVyGELpWVleHo6HjT9kGD\\u002fvkcNjExYfv27UyaNKnKPkeOHGHLli3s2bOHcePG8eqrr1JSUkKfPn10HbYwMPJJdpdUKhXh4eFs2LCBAQMGcOzoYaIiI0hMiCcmOlqz3+G\\u002fD5CXp8wqpstXbaBxoyAC\\u002fH0Uub6SPD3diYyOufOOBsrC3LzBlkEJIYQ+qm5w4ODBg7zxxhtVtllbW\\u002fP5558DMGbMGCIjI3n88cf58ccfeeuttwBYsmQJAL1799Zx1MLQSOJ+D4KDgxkxYgQvvvgiAD98O5f\\u002fzv24yj6enl6YmZkpEF1Fyczxk2cYN+p+Ra6vJBsba66F31A6DJ1RqVT1uhRICCEMRWlpKY8\\u002f\\u002fvhNifuUKVPo3r17tQm9i4sLfn5+bNiwASsrK37++WeefPJJSkpKACgpKcHR0ZH77ruvTt6DMBySuGvBkCFDmDNnTpU690pTZ7yCqakyiTvA3v2HyczKZtQDgxWLoa6ZmJhgpFJpZRVPfeRgb0dZebnSYRgUSwsLZE0nIYQuFBUVsWjRopu2JyQkEB8fX+0xKpWKZ599lrKyMjp16kR2djYAWVlZmn1effVV6YQlbiKJuxaoVCpmzZrFM888U2W7ja1ttcl8XVu2aj0hQQH4+dR8iWVDFhToR2FhkdJh6IyvjzcFBXW\\u002f8JIhs7OzBSRzF0Jon7W1NT\\u002f\\u002f\\u002fLPmeWBgIADbtm3jwQcfvOVxM2fO5MUXXyQyMpJZs2YBMGrUKNq1a8dHH33E66+\\u002frtvAhUGSxF2L\\u002fr0gE0BuTo5eLJKTn1\\u002fA3v2HGTOyYXSZCQ70JyU1TekwdMbD3YWs\\u002f43OiJqxtbWWEXchhM48\\u002fvjjmtH1Gzf+KdP8+++\\u002fb3mMkZERb775JnZ2dsyfP59Bgwaxbt069u7dy+zZszE2NtZ53MLwSOKuRRcuXLhpW2xMlAKR3OzEqbPk5OYyugGUzHh7eRAVE6d0GDrj4uJMamq60mEYFFsbG2TEXQihS+7u7rU+xsXFhfDwcHr37s2OHTtYsGAB3333nQ6iE\\u002fWFJO5aEh4eXqU9ZKUzp44pEE31Vvy+keCgAHzqecmMna0tYdcilA5DZxzs7UhIrL+tLnXB2tpS6RCEEPVcUdHNJZrm5uao73C7z9XVld27d7Nu3ToA1q9fr5P4RP0gibuW7N+\\u002fn5KSEiwsqiYIaj2aRJiXn8\\u002fe\\u002fYd5cNSwetvT2sjICGNjI9LSM5QORWcsLSyIia2\\u002fdxR0wdrSSiZ5CSF0Kjb25vWci4qKSE+\\u002f8x1SY2NjRo0axYQJEzh+\\u002fHi15xICJHHXmi5dugAVk1KmzXhZs\\u002f3SxZvLZ5R04tRZsrJz6m2XmUB\\u002fX4qKi5UOQ6eMjY3IzJIa99qwsrKst19WhRD6ITe3opOZqalple21mes2duxYAP744w\\u002ftBSbqFfkk05JmzZpVrJimUuEfEMR9\\u002fQYCkJOTTUFBvsLRVbV81QaCAvzw8\\u002fW+884GJjDQj\\u002fT0TKXD0BlrK6s73nYVN7OyspQRdyGETsXFVdwJdXFxqbLd3d2dTp06kZZ256YJ\\u002ffr1w8TEhG3btukkRmH4JHHXkqKiItRqNSX\\u002fG+3tP+h+uvfoTas2bTExMb3D0XWroLCQPX8dZOzIoUqHonW+3p7ExlXfN7c+8PXxrNetLnXF0kL5tqxCiPpt6NChuLq6kpeXx0cffVTltePHj\\u002fPKK6\\u002fc8Rx2dnaEhoZy9epVXYUpDJwk7lry+++\\u002fk5mZSWizlkBFrfX9I8fx8KNP3HTbTB+cPHOB7Jz612XGwd6Oq\\u002fV4Yqqnh1u9XVhKl6ysrJQOQQhRD+Tm5jJ\\u002f\\u002fnymTZvG6dOnq7xmZGTE7Nmzyc7OpmXLllVe69u3L+PHj6\\u002fRNRITE+UOobglSdy1JCEhAQBzcwuFI6m55b9vICgooF6VzJiYmJKQmKx0GDrj6uJMapq0gqw1+QwUQmjBBx98wPTp01mwYAHLli276fWePXsC8Pnnn2u2HThwgN27d6NSqVi7di1Lliy5Zcljfn4+aWlpeHp66uYNCIMnibuWPPDAAwDs3LaJcj3qJHM7+fkF7N33N2PqScmMj7cnJSUlSoehU44ODiQlSyvI2jIxNlE6BCFEPbB7927N41mzZpGfX3UOW7t27Xj00Uc5cOCAZtuaNWs4f\\u002f48Q4YMYezYsUyaNIlr165Ve\\u002f6oqIq1XyobXgjx\\u002f0niriWhoaEMHjyYnJwcoiINp1Tj5Onz5GTnMnrEEKVDuWchQQFkZGYqHYZOWVlZEhuXqHQYBsfYWH7VCSHu3cmTJwH4+OOPCQ4OxtramoMHD3L9+nXUajUqlYrFixdXOWbevHl07969yrbz589Xe\\u002f7U1FQAPDw8tB+8qBfk00xLVCoVn3zyCQBHD+0zqM4fy1dvIDjQ3+BLZnx9vIiJTVA6DJ0yMTGWEfe7IPWiQghtmjVrFllZWUBFeUxISAg9evQAuGkU3s3NjZycnCrbxo4dW22eEBFRMfAnpTLiViRx16LWrVszYcIEzp45zbtvvsJ38z7j0oWzSod1RxUlM4cMvmTGycmB8IhIpcPQGTMzMwzo+6AQQtQ7L7300i1fO3ToEC1btqR\\u002f\\u002f\\u002f7069cPABsbG7777ju6du160\\u002f47duy4advGjRtRqVT06tVLe0GLekUSdy1buHAh48aNo7i4mNiYaNb+voziapZB1jcnTp\\u002f7X8mM4SbvZqamRMfU3xVFfb09Ka7ni0sJIYQ++\\u002fjjj5k2bRo9e\\u002fbkxIkTtGvXrsrrFy5c4NixY5pa+NzcXD7\\u002f\\u002fHO++OKLm841bdo0lixZQub\\u002fSjzz8\\u002fP5888\\u002f6dOnj5TKiFuSxF3LrK2t+f333yktLeWjjz4iPz+fuNgYpcOqkWWr1hMc6Ie\\u002fn4\\u002fSodSas7MjZWWGMSn4bvl4e5L9\\u002f263ijuztLCQOxVCCK0wNzfn+++\\u002fZ\\u002f\\u002f+\\u002fbRv355du3ZpRtdv5dixY3Tq1IlHH320yvbIyEgmTZrEnDlzSE1NZcSIERQVFTFkiOHPORO6I4m7jhgbG9OkSRMAUlIMYzJhQWEhBw8dY9yoYUqHUmuNQ4LqfVLr7uZCcsqdV94TVdnZWgOSuQshtM\\u002fR0ZFdu3YRFxfH9evXOXjwINu3b8fNza3KfpGRkTz44IPVnuPGjRu8\\u002fPLL7Nq1C1NTU8aMGVMXoQsDJYm7Dm3YsAEAD0\\u002fDGcE+fOwUmZnZBtdlxt\\u002fXm7h4w\\u002fiCdLecnZ2Ija\\u002ffk291wcbGxqAmiwshDEtBQQEDBgwgODgYgIEDB\\u002fL3338zYsQIzT5NmjTBzs6Ozp07ExwczLhx4zSvNW7cmJUrV9KpUyciIyMJCgqq8\\u002fcgDIck7lqmVqt56623sLKy4rfffqNJk2b4+QcoHVatLF+9gaBAf4MqmXF1ceZGZLTSYeiUlZUlN27U7\\u002feoC9bWsmqqEEJ3ysrKuH79OgA9evTg9ddfJyQkhA0bNpCenk737t0pKyvj6NGjTJ48maCgIPr27as5vmXLlpSUlDB+\\u002fHi8vLyUehvCQEjirmURERF89NFHFBQUANBvkOGVneTnF7D3r4MGNepuYWFOeESU0mHolJHKiJzcPKXDMDjWVpZKhyCEqMdsbGy4ceMGpqamAHz22WfY2tqye\\u002fduHB0dMTGpWABu8ODBTJ06lddee02TI3z11VcUFhYCyEi7qBFJ3LXM2NhY8\\u002fj1N9\\u002fHx9dfwWju3skzF8jJzWWMAXSZsbWxplytprS0VOlQdMbJyYGysjKlwzBIlpaW0sddCKFTnp6eFBUVado+5ubm0r9\\u002ff3766SdNT\\u002fYbN26gUqno37+\\u002fpuvM2LFjNT3eY2IMo5GFUJYk7lpW+Q+wc9ceODg6KRzNvVm2Yj2BgX74+ej3rbvGIYHk1fORaB8vTwoKC5QOwyBZWlpI4i6E0DmVSsWBAwf49NNPNdueeuopVq5cCcDXX3+t2X7ixAnatGmDj4+PpsxGWkCKmpDEXcsqb39ZWVkrHMm9KygsZO++vxk7ahhGRvr7V8XP14eEpGSlw9ApdzdXMrOylQ7DIFlZWuj1318hRP1hbGzMa6+9xtmzNy+++Ndff2ke5+fnY2VVMf9m586dADf1hBeiOvJppmUJCRVdP\\u002f5dMmPITp4+T1Z2DqMeGKx0KLfk6eHOjaj6fYvRzdWZlNR0pcMwSBYWFkqHIIRoYFq1akVYWBgrVqzAyemfu++V3eZycnKwtq4Y4IuLq1g48P+3kBSiOpK4a1nv3r2xsrLi+NG\\u002fSU1NUTocrVi+agOBAX74+XorHUq1rK0tuXL1mtJh6JS9nR1J9fyugq6Ym5spHYIQogFq1KgRDz30ED\\u002f++KNm2\\u002fz584GK\\u002fu9ZWVlcu3aNrKwsevXqha2trVKhCgMiibuWOTg48NVXX5Gdnc3qFYvrxYTCgsJC\\u002ftp3SC8nqlpbWaFWqykurr8TU6Ei+UxMTlU6DINkZiaJuxBCOf9eUGnnzp3k5eWRkZGBo6MjGzduBKBnz55KhScMjCTuOvD0008ze\\u002fZsoqOiuHzpvNLhaMWJ0+fIycllzEj9St6bNA4iNy9f6TB0TqVS1euuObpkamqidAhCiAasRYsWmseTJk3S1LZfuHBB00kmJCREkdiE4ZHEXUcmT54MwI3rYcoGokXLVq0nMMBPrxZm8vP1ITGx\\u002fpeQGBsbkZNTvzvn6IpJPZlvIoTQf3Fxcbz55pts27aNZcuWsWjRIi5cuKB5fd68eahUKl5\\u002f\\u002fXXi4uL473\\u002f\\u002fC8CoUaOUClkYGBmK0pHg4GAcHR05dHA\\u002frdp0wD\\u002fA8BdWKCgsZO9fBxkzYghzv\\u002fnxzgfUAXc3V46ePK10GDpV2RFFRtzvjnSUEULUhezsbBo3bkx+\\u002fq3vAoeGhnLq1Ck++ugjTdvIF154AXt7+7oKUxg4+UTTEZVKxeLFiwG4Hn5V2WC06OSZC2Rl5zB2pH6sCGtjY8W1axFKh6FTXp7ulJSUKB2GwZIe7kKIumBiYkKTJk2qfe2xxx7Dy8uLpKQkVq1ahbGxMWvXrmX+\\u002fPl89dVXdRypMGSSuOtQZV1bTnaWwpFo1\\u002fJVGwgI8CXAX9mSGRMTE1QqVb2vcfdwdyO\\u002foFDpMIQQQtyGlZUVJ06cIC8vj5MnT1Z5bcmSJcTHxwMwe\\u002fZsfvrpJ1asWMGxY8fqRRMLUXckcdchHx8fPDw8OHfmFLm5OUqHozUFhYXs\\u002fusgox8YomgZQkiQP4WFRYpdv664u7mQnpGpdBgGScpkhBB1SaVSYWVlRbt27Thy5Aht2rS5aZ\\u002fCwkKeeuop1qxZw+LFi1m7dm3dByoMlnyq6ZCZmRlffvkl+fn5nDh6SOlwtOr0mQtkZeUw+oEhisUQFOhPckr9b5Ho6uxESkqa0mEYJFtbG9RqtdJhCCEaoM6dO3P69GmOHDlSZfuoUaPYtGkTK1aswNzcnLlz58rvKVFjMjlVx7p16wZAdlaGwpFo3\\u002fLfNzB92mQC\\u002fH2IjIqt8+t7ebpx8XL9XngJKpLPhMQkpcMwSLa2NsjHoRBCSZ07d2bVqlUcP36csWPH0rZtW836EgcOHGD+\\u002fPmsW7euSr93IW5FpZaveTpVXFyMp6cn2dnZjB3\\u002fKK3bdlA6JK1q26YF9\\u002fXsytff\\u002fUx5eXmdXvvVF6ZhZKQiJzePpKQUomJiuRZ+g+yc3DqNQ9defWEq3y74lcJCqXOvraahIQwb3A8TExmjEELon6SkJEJDQ7GysuLKlSvY2dkpHZLQc1Iqo2NmZmZs2LABS0tLNqxdRWFBgdIhaZWSJTMqlYrvFvzK4aMnKCsro0O71jz1+CPMfHEazz\\u002fzOI+MH0XvHl3w8fGq89i0SaVSSdJ+l2xtrJUOQQghbsnNzY0333yThIQE5s+fr3Q4wgDIMFQd6NmzJ2+\\u002f\\u002fTYzZ87kengYzVu2VjokrVKiZMbHx4uSkmLy8vM5c+4SZ85d0rxmZGREUKAfgf6+BPr70rZ1c0xNTSkrLyf3f6Pz0XHxXL8eqfej866uztJx4B5YW1uBtIMUQuipSZMm8dtvvwEwa9YsZs6cibEsGiduQxL3OjJu3DjefPNNtm\\u002fdiLunFy4urkqHpDWVCzONemAI8+qoZKZRUADpmdW32SwvLyf8eiTh1yOrbHdydCAkOAAfb086d2hL397dMVKpKC4pISsrh4TEZGJi44mIjNabEW5\\u002fX5963+5SlywtLTGSxF0IoafOnj1b5fn8+fN57rnnFIpGGAKpca9Db7\\u002f9Nh988AFmZma8+OpbODo5KR2SVj0x6SEys7JZu+FPnV\\u002frsQljiYmLZ+++e+vWY2RkhI+3J4H+vnh6uOPs7IClhQUqlYqi4mKysrI1Cf2NyGgKi4q19A5qZvjQAZiamrBu49Y6vW59MWbEUEKCA2QRJiGEXrpy5Qp9+vQhKemfBgTl5eXyO0vckoy416H33nuP9PR0vvvuO+LjYupd4r581QamT62bkhlHR3v2HTxy5x3voLy8nOiYOKJj4qpsNzIywt\\u002fXmwB\\u002fHzw93GkcEoSFhQUqFRQVFZORmUViUjJx8YlERceRd5slru+Fi7MT167X75VhdcnCwlw+AIUQeiksLIyLFy9y9epVHBwcNNsXL17MlClTlAtM6DVJ3OuQWq3m3LlzALh7GvaEyer8e2EmXXeZMTM1JSpad18OysvLuREVw42omCrbTUxM8Pf1xt\\u002fPB08PNxo3CsbCwhwjlYrS0jLy8vJITcsgISmZmLgEYmPj7ykOWxtrEhKS7+kcDZm5ubnSIQghRLUmT57M4cOHb9r++OOPM378eKysrBSISug7Sdzr0NWrVzlw4ABBwSH1qsb9306fvUDb1i0YPWIIa9Zv0ck17Oxs67z1ZKXS0lKu34ji+o2om15zd3XG398XD3c3mjVpROcObTE1M6W0pJS8\\u002fHzS0zNITE4hJjaBmNj4Gr0HMzMzYuISdPFWGgQzM1OlQxBCNHBr1qzhiy++YMWKFXh7exMWFoaZmRnXrt16HZIRI0awc+fOOoxSGApJ3OtQ48aNadmyFefPn+Pbrz\\u002flkceexNHJWemwtG757xuYMXUygf6+N41Ya0NwoD\\u002f5+frXVjMpJY2kalY4dXd1xtfHGw93VxoFB9G+TStNQllcXEJOXh5paekkp6QRF59IfEISpaWlQEVDlOLiuq2rr0\\u002fMTCVxF0Ioa9y4cQBERESwZs0aXnvttTses2vXLhYtWiQlM+ImMjm1jkVFRdG3b18iIiIIDArm6WdfUjoknWjbugX39erG19\\u002f9pPXR8dEPDKG8vJwNm7dr9bx1rXJirI+3F64uTrg4O2Jjba1J6kvLyjAzNSX8eiTJqakkJqYQE5egNx1vDMHLzz2lWaFQCCGUUDnP5tSpU1hbWxMaGlrl9Q4dOvD+++9ja2tL3759KSkp0bx27tw5WrZsWafxCv0mI+51zN\\u002ffn\\u002fDwcHx9fcnNzVE6HJ2pLJkZM3Ioq9dt1uq5PTzcOPD3vU9MVdqtJsZCRVLfp1dX2rRsRnFxMcGBAbRp2RxzczNUKhXl5eUUFhaRnZNLalo6KanpJCYlk5iUohmtF0g\\u002fZCGE4gICAoiMjKRdu3Y8\\u002fPDDN71+4sQJhg4dWu2xrVq1oqCgAAsLC12HKQyEJO4KOHz4MHFxcXTv2UfpUHRq+ap1\\u002fF97dx4WVdmwAfyeYRi2gWFXFkVEUkRFzR0XtKzXvUxLX8UltTTNrSxNy77MpSxzzcpyNzX3XAr3LRUTEXFjkVVFlH1f53x\\u002fkJPzgorKzJkD9++6vIKZM+e5MZWbZ57znAlj34anZ13ExiZU6jVOTg54s38fqKzKLsopLCpCUtI9bNu1DxqNBgqFAiorS0TdLL\\u002fGvDrRaDQwVZjiTlIy9v5xuNzztmobuLnWhrOzI5wdHVDH3RWWFuYw\\u002fWdpSGlpqbbYp6VnICU1Dcn3UpB0916NWnrDHWWISGyHDx9GgwYNAACbN2\\u002fWec7JyQkjRozAwoULAQCNGzdGdnY2EhP\\u002fXWbar18\\u002fBAVJ+x1mqjos7iKYOXMmAKBN+44iJ9GvgsIiHD52Cq\\u002f3\\u002fk+ll8x4etSBmVKJlT9vgKDR4OWuneDu5oK+Pbtj974gjB4xGMn3UmrEchEnR3vcSUqu8LmMzCxkZGbh6vXICp93sLeDq4szHB0d4GhvDzfX2v8UeyVkMkAjCCgqLLvzbOKtJNxNvo\\u002f7KSm4dz9VtAt\\u002fiYiqIy8vL\\u002fTq1Qv79\\u002f+7YUO3bt3g6OiIhQsXws7OTlvcu3fvjr59++Kll16CUqlEUVERDh48iA0bNiAwMFCsL4GMCIu7CG7dKtvGUGFS\\u002fX\\u002f7L12+iubNfDHw9d7YuuP3Jx7v5OiAe\\u002fdTkJVVtoxo194\\u002f0dTXBz1eCUDfXq\\u002fAWmWFn1Zv0ndso6C2scbFS+HP9NrUtHSkpqU\\u002f8nmVlSVcateCm2st1HF3QwOverCytISJiRwajaas2BcVIz+\\u002fANk5OcjKykZ6RiZSU9NxLyUVmZlZz\\u002fplERHVON9++y08PDzQsmVL9O3bF05OujvLNWvWDJcvX8atW7fQqVMn2NjYwMLCAlOnTsXHH3+MYcOGYejQoXwXkVjcDU0QBFhYWMDU1BRKZc3YY3rLtt2VXjJz\\u002f34KvBt46jwWfvU6XGo7waOOO\\u002fbsC6oxM8Lm5uZIfM594B8lJzcPUTdjEXUztsLnVVaWqOXsBEdHe9iq1bBVW8PVpRYsLSxgqjSFiVwOACgt1aCouKis4GfnICMzC2lpGbh3PwUpaemi7v6jsrIEL70nImPQsGFDrFix4pHP9+nTB5cvX0ZwcDAUCgXMzc2RnJyMKVOm4OOPPwYAhISEoFWrVoaKTEaKxd3AsrOzER4ejgbeDaGythY7jkEUFBbh4NETlVoyo1KpoKjggsKDR07qM6JRkstlyM7JFWXsnNw85Dxiv\\u002fqH2dmp4eRgD3t7O9jZqmFvZ4d6HnVgYW4OhakC8n9mhzQaDYqLS1BQWIi8vHzk5OYiJzcP2dk5\\u002fxT+bKSnZyC\\u002fCpdA2djYAGBzJyLj169fP8ybNw\\u002ft27eHh4cH7t27B3d3d5iamqJOnTpITEzEn3\\u002f+yeJOLO6GduzYMQCAk5OzyEkM63L4dbT0a4qB\\u002fXtj6\\u002fZHL5mpV9cdYeHXDJjMOFmrrKDRGH\\u002fpTE\\u002fPRHp6JoCKZ+4fsLGxhoOdLezt1FCr1VCprODk6IB6ddxgZmYGU1MFTBT\\u002fFn0BgKa0FMXFJSgqLkZhQSFy8\\u002fKQm5ePwoJC3E9NQ1Z2Nu7evYeCwoovtrWzteGMOxEZpcLCQgiCoN0tpnXr1khOTkZAQAASExPRtGlTrF27FgDQoUMHbN26tcK7rFLNw+JuYF988QUAoGHjmrcv66+\\u002f7cbEcW\\u002fDy9PjkTO5NmprJIemGDiZ8anj7latLsDNyspGVlZ2pW\\u002fIpVAooFZbw9bGBjY21rBWWUGlsoKba23Y29mitLQUQNm2mQ8IgoCS0lKUFJegsKgISlNTmJjIHzUEEZHBZWZmYsqUKVizZg0aN26Mq1evap\\u002fLycnBtWvX0LRpU1y6dEn771vjxo0B4LF3WqWag9\\u002fVDOw\\u002f\\u002f\\u002fkPAGDXtk0orEbFrDKKiopw8MgJvNbnVZ3C9bDi4hLuVwvApbYzMrOq7z7\\u002fT1JSUoLU1HTcjI1HaNgVnPwrGAeCjiIu\\u002fpZ2W1CFQgG5XK79ZWJiAjOlElZWlrC3s4VKZcULuYhIVMnJycjO\\u002fvff8kWLFmHNmjUAgGvXdN9dnjRpEgAgMDBQ53vkg21+7927p++4JAGccTewuXPnwtraGjNmzMDib+eiVet2cHJ2Qd16nrC1tRM7nt5dvnIdLZs3eeSSGYWJHPn5NesHmoo4OTrgfkqa2DGMjsrK8pE\\u002f9BERGZOCggLUr18feXl5AABfX1+kpPz7jrKLiwvat2+POnXqICQkBDExMQCAt99+W3vMwYMH8cknnwAArGvIdXH0eCzuIujduzeWLl2KpKQkHD74h\\u002fZxv+Yt0aZ9J9T38hYxnf79+tseTBw3Et5enjq7mliYm8PMzAwRUTdFTGcc7OxscC2i4j3aazIrK0vOohORJCiVStjY2GiL+8PLYgAgKSkJSUlJOHeu7E7glpaW+PPPP+Hg4IDS0lL0798fv\\u002f\\u002f+7wTXvHnzDBeejBaLuwiaNGmCO3fuIDMzEzExMQgLC8PmzZtx5MgRhF26CP9OAfBr0Qp16tYTO6peFBUVIejwcfTt1R1Lvl+NkpISAGV3SaUyFuYWuH37rtgxjI6FBZdREZE0yOVyJCYm4vfff0d+fj6CgoJw5MgR3Lnz7za\\u002fTk5OOHPmDDw8PCCTyaBQKJCTk6Mzu965c2ccOnQISqVSjC+DjIxMELjvgrG4cuUKBg4ciBs3bgAAzMzMUNvFFT16vw6PevVFTlf1hg8ZgMKiYmzZtkf72PtjR+LPQ8cfub94TTFt8lgsXPyD2DGMzoSxI6CyshI7BhHRMxMEASdPnkRAQADGjh2LlStXap9LSkqCq6ur9vOzZ8+iXbt2YsQkI8XFokakSZMmuHDhAg4cOIBu3bqhsLAQ8XGxWPfLSoSHhYodr8pt3vY73F1rw9vL88kH1yDm5ubgz9MVM+OMExFJnEwmw\\u002fHjxwGUrXMvLi4GUPZu9MOl\\u002fe7duyztVA6Luwiys7MRG1vxjLKVlRV69OiBI0eOQBAEnD59GtbW1vh1wy+Ij4sxcFL9Kioqwh+HypbMKBRlq7ZMTEyQX1gocjJx1XFzQeEj9iavyVo0b6LdXYGISKrS09OxdetWAMDs2bOhVCphYmICX19f7THXr19HrVq1xIpIRozF3cBWrFgBGxsb1K9fH7t27Xri8f7+\\u002fti4cSMAYMfWDUhPS9V3RIO6ei0C91PSMPD1XmjcyBumpgrk5eaJHUtUri61kJ2TI3YMo2OrttHu305EJBW3bt1CQEAApk+fjtDQUHTu3BnXr1\\u002fXOUaj0SA6OhoA8Ndff6FRo0ZiRCUJYHE3sIe3sgsMDIRMJoO\\u002fvz++\\u002fvprvPDCC5gwYQLi4uJ0XtO9e3d89tlnuH\\u002f\\u002fPqIir6O62bJ9N9xca6N3j5eRm5eHtPQMsSOJiltBVkxlyR1liEh6YmNjceLECXz11Vdo2bIlrly5AgDw8fHBnDlzdI718fFBhw4dxIhJEsHibmDjxo1DUlISPvnkE+Tm5gIAzpw5g48\\u002f\\u002fhhRUVFYsWIFPD098c477+Crr75CamrZDPtbb70FAIiJjqp265+Likrwx8FjkMvl2LZrv9hxRGdvp0byPd499n9Zqay4hzsRSU7Hjh0xffp0ncdGjRqFK1euoH\\u002f\\u002f\\u002fjqPh4SEGDIaSRC3gxRB7dq1MXfuXOzZs6fcvq4PrFq1CgCwefNmBAQE4N1330WXLl1w4sQJyOUy9OjTH9bWNoaMrVfpGVkoKirC\\u002ffvVaynQs7C0ssSdO9wK8n9ZcitIIpIgmUyG+fPnY\\u002fbs2YiOjkZubi7c3d3RpUsXXL58WXvc4cOHYWFhIWJSkgIWdxFt3boV8+bNg7W1Nfz8\\u002fODo6Ihvv\\u002f0WwcHB2mPCwsIQFhaG0tJS7Ny5E2+88QaOHz+O+LhYvNqzH5o0a14tZiE969XhBZn\\u002fMFUocPfefbFjGB1zMzOxIxARPTNzc3M0adIEmZmZ6Nu3L06fPq3z\\u002fEsvvSRSMpISFncR+fr6YtOmTTqPDRw4UOfzCxcuYM+ePXj\\u002f\\u002ffdhb2+PY8eO4eeff8b48eOxeeNqAIC39wuo5eKGep4N4NvUz2D5q1Lw36Hwb9cKcrkcGo1G7DiiebC7Tk3+PXgU7ihDRFKl0Whw4MAB\\u002fPTTT\\u002fjjjz+0Nx58oDKbVRABvAGTZN29excjRoxAaGgocnNztevl\\u002fxv4Npr6tRQ53bMZPWIwMjOzsW3XPrGjiMajrjte6\\u002f0Klny\\u002fWuwoRueDie\\u002fC1JRzDUQkLadPn8bEiRMRGhoKuVyO7t27o1u3bjhy5AgOHjwIACgtLa0W756T\\u002fvFPiUTVrl0bBw4cwN27d5GdnY3IyEhYWVkhNCT4yS82Uhu37IJnvTpixxCVm0ttZOfU7O0wH4Xf1IhIapYsWYLOnTvj6tWrmDp1KuLi4vDnn3\\u002fio48+QlBQEM6fP4\\u002fDhw\\u002fz3zeqNE5fSdjDf9G9vb3RsWNHHD9+HBqNRpL\\u002fCBQUFKC0VAN319q4VUMvznR2dkRqWrrYMYwSd4IkIinZsGEDJk+eDB8fH+zZswfe3t7ljmndurUIyUjKpNfu6JEKCwtRWFiI7KxMsaM8s6zsbDRqVP4ft5rC3t6We7gTEUmYIAj46quvMGzYMLi5ueHgwYMVlnaiZ8HiXk0kJyfj+PHjAACZXI6\\u002fTh2X5F1Wc3JyYW9rK3YM0aisLJGUVDPfbXgcGxvranf\\u002fAiKqnmbPno3p06ejSZMmOHPmDNzd3cWORNUIi7tECIKA5OTkRz7v4OCgvdva\\u002fC9mYt+e7Vi6aD7SUqV1I5+7yfdRz8MdHnVr5j90SqUSt5OSxI5hdOxs1SzuRGT0fv31V8yZMwetWrXC6dOnUbduXbEjUTXD4i4RCxcuxOTJk3HixIkKn1coFDh16hQWLlyIrl27olatWigoKMCRg\\u002fslVXiOnTyD02cvYODrveHk5CB2HIOToexOsqRLrbYWOwIR0WPFxMTgnXfeQe3atbF\\u002f\\u002f36o1WqxI1E1xOJuRDIyMvDOO+\\u002fgyy+\\u002fLLePt5WVFbZs2YL4+HjtY3l5eZg0aRJWrVoFQRAgl8vx4Ycf4ujRo7h79y4GDBiAiyF\\u002f49jhPyRV3s+c+xs3Y+LQ85VuYkcxqFrOTuX29qUyNtYqsSMQET3W1KlTkZubiw0bNsDZ2VnsOFRNcVcZIxIaGopVq1YBKFuzvmzZMu1z48ePxzvvvKNzE5p79+5h6dKlAICJEyciOTkZNjY22ud\\u002f\\u002fvlnXLlyBYeCDkAmk6Hryz0M9JU8nxcaeKKBVz0k3qpZS0bcXWshL79A7BhGyVqlgozbyhCRkbpx4wb27NmD\\u002fv374+WXXxY7DlVjnHE3Iv7+\\u002fmjRogUA4MyZM+We\\u002f987R9arVw89epSV8YKCAnTv3l3nebVajbNnz+LFF1\\u002fEwT\\u002f3Iyryup6SPz+5XI7+fXtgyvtj0K\\u002f3qzh28iy2bN8jdiyDqlXLGenpGWLHMEpWlpaS3OKUiGqGNWvWAAAmTZokchKq7vid0IgolUqEhIQgNDRUeze1J5k9e7b24\\u002fPnzyM4WPcGTLa2ttiyZQsAYPVPK5CeZpxbDXYL8IebmwuOHDuNhYt\\u002fwIWLYWJHMjgHeztuBfkIVlaWnHEnIqN1+vRpqNVqdOrUSewoVM2xuBsZmUyG5s2bw8Ghchdmtm7dGtOmTdNeBHPnzp1yxzRo0AAff\\u002fwxAGDPzs1Gt969W0AHvNi8KY4cO43LV4z3XQF9U9tYI+nuo3cOqskszM3FjkBE9EhXr15Fs2bNOMFAesfiLnFyuRxff\\u002f01YmNjcfz4cbz22msVHrdgwQK8+eabiLhxHWf\\u002fqnhnGrG0auGHU3+dx7UbkWJHEZW5uRkSbpX\\u002fwYsApdL0yQcREYkgIyMDmZmZ8PLyEjsK1QAs7hIVHR2Nffv2aWfP7ezs0KVLl8f+tL969Wp4e3vj6KE\\u002fUJCfb6iojyWXyyGTyRARfVPsKKKTyWTIyzOO\\u002fy\\u002fGRmHK6+iJyDiEhYXhyy+\\u002fRK9evdC0aVPY2dkBAHx9fUVORjUBi7tEDR06FH369EFQUFClX2NlZYXp06cjNzcXl8NC9Jiu8hQKOTQaAamp6WJHEZWdnRql\\u002f7MFKP3LhBemEpHIoqOj0atXLzRv3hyffvopDh8+jMLCQu3zvEMqGQK\\u002fG0qUiYkJAGDy5MlP9bo333wT1tbWuHTxvB5SPb32bVoBMK4192Jwd3VFPreCfCSuGyUisWRnZ2Pq1Klo2rQpDhw4gMGDB+PYsWPIyspCZGQkoqOjsX79evTv31\\u002fsqFQDsLhL1OjRowEAEREROHr0aKVfp1KpMGjQIMTGxCAl5b6+4lVa0yaN8NfZC2LHEF3tWk7IyMwUOwYRET0kMTERrVu3xnfffQcfHx8cOXIEv\\u002f76KwICAmBmZgYA8PLyQmBgIJRKpchpqSZgcZeoV155RfvxSy+9hKKiokq\\u002f9sUXXwQApKWKW9xfaOAJK0tLXAi9JGoOY+Ds5MCtIB\\u002fBytISRrYREhHVAFlZWejevTsiIiKwcOFCXLhwAd261aw7epPxYXGXKDc3N3zzzTcAAGtra511dpV5LQBkZmToI9oT2dhYo33bF9Gv96s4cuw0iopKRMlhTNQ21khOvid2DKNkZ2sDgcupiMjApkyZgoiICHzzzTf48MMPeRM4Mgr8UyhhH3zwAUpLS5GZmQlra+tKv660tBQARPtHqHePl9DZvy1Onj6HC6GXRclgbCwszJFwK0nsGEZJrbYBp9yJyJDOnDmD1atXo3v37pg6darYcYi0uMeaxD1L+V6+fDkAwNpGXdVxKsWlVi0E\\u002fx2K4AuXRBnfGMnlcmRmZokdwyjZWKvEjkBENcxnn30GExMTLFu2jBfHk1HhjHsNdO9e2ZKMBt4NRRm\\u002fsLAQDg52ooxtjFRWltBwRvmRVCoVv3ESkcGcPHkSR44cQf\\u002f+\\u002fdGwoTjfJ4kehcW9BoqOjgYAZGaItHe6TIaYuARxxjZC7m6uKCyo\\u002fDUKNY3KypJrS4nIYBYvXgy5XI758+eLHYWoHH43rIGcnJwAAMePVP7mTVXF07MuLCzMEXrpisHHNlYutZ2QlZ0tdgyjZWVlyRl3IjKYo0ePom3btvDy8hI7ClE5LO41UGhoKNRqNS6GnEdBfj4EAy7TSEq6BxO5HKOGD0LjRi8YbFxj5uToyK0gH8PSwkLsCERUQxQVFSEzMxN16tQROwpRhXhxag1kZ2cHU1NTlJSU4P8+nQYrKxWcnJxgZ+8AG7UtrFTWsLZRw87OHra2drC2UVfZUoWCggJs3rYHzXwboXePl3AjMhoajaZKzi1VdnZqRMXEih3DaJmZ8aYmRGQY+fn5AKC9uRKRsWFxr6G2b9+Oo0ePIiEhAfHx8UhISMDVK5crvJGTQqGAk5Mz7OwdYGtnB2uVDSxVKqht7bXlXvkU\\u002f8jFJ9xCfMIt+DZuCIVCjqKiml3cLS0scOs2t4J8FIUp\\u002f5kiIsN4sF1yTEyMyEmIKsbviDVUly5d0KVLF53HNBoN7t69i4SEBCQmJmoLfXx8vPbja1fDKzyfjY0ajk5OsLOzh43aFpZW1lCrbWFrZw9bOzuoVNY665QbvdAAJSWlvPkSAIXCBPfvp4odw2gpTEzEjkBENUBqaioCAgIAAP\\u002f973\\u002fFDUP0CCzupCWXy+Hq6gpXV1e0a9euwmNycnLKlfqH\\u002f3spNEQ7Y\\u002fEwU1NTAMCsWZ9i8H+HooFXPRwIOqLXr0cKlEol7y30BLwwlYj0KSMjAxcvXsTGjRtx5coVjBo1CuPGjRM7FlGFWNzpqahUKvj4+MDHx6fC50tKSpCUlKQzUx8dHY3Vq1cDAMIuh2HEyLdx8OhJhF+NMGR0o1THzaXC5UlERKR\\u002fWVlZaNGiBeLi4rSPzZw5kxMGZLRY3KlKKRQK1KlTB3Xq1IG\\u002fvz8AYMeOHdri3qxlB\\u002fz6224RExoXFxdnZOfkih3DaFmYm4NvSBCRvmzevFlb2vv27YshQ4bA09NT3FBEj8HiTnq3Y8cOAEDb9h15pf7\\u002fcHZ0RGqaSDfCkgAHR3uDbldKRDXLxo0bAQDdunXDnj17RE5D9GTcx530rmfPnpDL5Qg+exoH9u5EXh5nmB+wt7dD8r37YscwWo72tuBFAESkD5s2bcLp06dRq1Yt\\u002fPLLL2LHIaoUFnfSu6FDh+LSpUvo1KkTTp04iqXfzsPFC+dq\\u002fP7tAGBlZYHbSclixzBatmo1wLWmRFSFVqxYAZlMhqFDh8LU1BQ7duxAvXr1xI5FVCks7mQQTZs2xYkTJ7BhwwaYm5tj25aNWLtqBW7fShQ7mqiUpqa4c+eu2DGMlo21CnIWdyKqQidOnNB+HBwcrL0ei0gKWNzJYB7McERERGDy5MmIiYnGiiVf4499u5Cflyd2PIN7cDdavvPwaDY21lV2114iory8PCQkJAAo2z2mRYsWIiciejr8jkgGp1ar8d133+HixYvw9\\u002ffHyeNHsHTRPISGBNeoEuvqUgvFxcVixzBqVlaWYkcgompi7dq1qFWrFoKDg9GuXTvMmDFD7EhET43FnUTTrFkznDx5EuvXr4dSqcRvmzdg3S\\u002ff487tmrF8xtWlNnJz88WOYdS4CxERPa+SkhKMHDkSI0eOhKWlJb788kvs378fVlZWYkcjemos7iQqmUyGwMBAREREYOLEiYiOisSKJQvx5\\u002f7dyM+v3stnajk5IDWdW0E+jtKUO9YS0bM5ffo0\\u002fPz8YGpqirVr18LU1BR79+7FzJkzYW9vL3Y8omfC4k5GwdbWFkuWLEFISAjatWuHE8cOY+mi+bh4ofoun3F0sMf9lFSxYxg1rm8nomf1448\\u002f4vLlywCA\\u002fv37Izc3F23atBE5FdHz4XdFMirNmzfHqVOnsHbtWihNTbFtS\\u002fVdPmNtrcKdO9wKkohIH\\u002fr37w8A8PDwwI4dO2BqaipyIqLnx+JORkcul2P48OGIiIjA+++\\u002f\\u002f+\\u002fymWq2+4xSqUTi7SSxYxgtlZUl771ERE8lKSkJr7zyCmbPno2zZ88CAHx9fUVORVR1uICUjJatrS2WLl2KUaNGYfz48Thx\\u002fAjCwi6i+6u90bxla8kvo5DJgKKiIrFjGC0HB3sIggacXyCiyvq\\u002f\\u002f\\u002fs\\u002fHDp0CIcOHQIANG7cGIsWLRI5FVHV4XdEMnp+fn7lls\\u002f88uNSxMZEix3tmTk5OaCkpFTsGEbN3t5W7AhEJDEjRozQftyqVSucPXsWDRs2FC8QURVjcSdJkMlkGD58OCIjI\\u002fHhhx8iMSEeP32\\u002fGDt+24j0tDSx4z01dzcX5OVzK8jHUVtbl70tQURUCRqNBufPn4eFhQVcXV1x8uRJ2NjYiB2LqEqxuJOkqNVqLFy4ENeuXUO\\u002ffv1w4fw5LPl2Lo4fCUJRYaHY8SqttrMT0tMzxY5h1KysLCFncSeiSvrpp58wadIkyGQy\\u002fPbbb7CwsBA7ElGVY3EnSWrQoAF2796NQ4cOoUGDBgj6Yy+WLV6AsNALECRwRaOjI7eCfBKVlaXkr2MgIsM5fPgwAKBly5bw9\\u002fcXOQ2RfvC7Iknayy+\\u002fjEuXLmH58uXQlJZiy6a1WPvzCiQmxIsd7bHU1tZIuntP7BhGzdLSUuwIRCQRiYmJ2LFjBwDA09NT5DRE+sPiTpKnUCgwfvx4REVFYcKECbgZHYXvly7E77u2IivLOJejmJubIfHWHbFjGDULczOxIxCRBKSnp6NTp07az7\\u002f77jsR0xDpF4s7VRv29vZYtmwZwsLC0L17d5z96xSWfDMXp08cRXFxsdjxdMhkMuRWoz3p9YE3SyGiyjh\\u002f\\u002fjzi48veZd2+fTscHBxETkSkPyzuVO34+voiKCgIv\\u002f\\u002f+O1xdXbF\\u002f7058v\\u002fRrXL0SZhTr3+3s1Cgt1Ygdw+gpFLzNBBE9XkZGBvbu3QsAaNq0Kd544w2RExHpF4s7VUsymQx9+vTBlStX8PXXXyM3Jwcb167CxrU\\u002fIenObVGz1XFzRX4Bt4J8El6YSkRPMnfuXKxYsQIAsHbtWnHDEBkAvzNStWZmZoZp06YhKioKo0ePxvVrV7B88Vc4sHcncnKyRclUy9kJGZnijC0l3AmSiJ5k8ODB2o8bNGggYhIiw2BxpxqhVq1aWLVqFS5cuAB\\u002ff3+cOnEUS76Zh3N\\u002fnUBpqWHvYFrL2ZFbQRIRVYGgoCDtx+bm5iImITIMmWAMi36JDEgQBGzbtg3Tpk1DQkIC3N3r4OVXe+OFRo0hM8A073vvDMeJU2dx9XrkY4+Lj4tBTHQErFTWsLN3gJ29I2xtbaFQPNtFmx9OehcmJiYoKSlBYVER8nLzkZmVjcysLKSmZ+D+\\u002fVTcu38fRUUlz3T+qmRjrcK7o4bCxMRE7ChEZMScnZ1x\\u002f\\u002f59ADCKa5iI9I1Xf1GNI5PJ8Oabb6JPnz745ptvsGDBAqz9ZSWaNmuOgJdeRW0XN72ur7YwN0Pi7aQnHnf00AFERtzQeUwmk8HR0RGOTs6wtbWDyloNK5U1bO3sYWdnD1tbOyjNym+jqFAotBd7mpqawtTUFCorKzg5OfxzoawAyGTaO5UKgoDi4hLkFxQgJycX6RmZyMjMRnp6OlJS0pGang6NRn8X2NqqbcBvwUT0JBMmTMDs2bPx2WefiR2FyCBY3KnGsrCwwKeffoq3334bM2bMwIYNGxB++RLMzS3g4uoKZ+dasLVzgK29A5yda8HRqRaUSuVzjyuXy5GV9eQ17vfuJaN58+aYO3cu4uLiEBcXh9jYWMTHxyMuLg7Xr12t8HU2NmoUFxehsW9TWNuoYWmpgtJMibYtG8PT0xPu7u7aY2UyGRSKime1TUxMYG5uBjtbNdxca2uLukwm074zIQgCiktKUFRYhNy8fGRn5yArO\\u002fufkp+B1LR0ZGRmPe1vEdRqa4CzZ0T0BJcvXwYAjB8\\u002fXuQkRIbB4k41npubG9avX48JEyZg48aNuH79OqKionA++Gy5t16dnWuhVu3acHBwgrXaFg4OTnByrgVbO\\u002ftKzdLbWKug0Ty5kBYVFiIjPR2+PXuiZ8+eFR6Tl5eH+Ph4xMfHIyEhQee\\u002fUVFRCLlwXuf43Tu2AgA6d+6Mr776Cu3atXtijgfkcvkjvz4TExOYm5nBxsYatWs5\\u002fTuDDxlkMuiU\\u002fNLSUu1Mfl5ePnJycpGdm4vs7FxkZmYhIysL6emZsFZZVzobEdVcERERAIAbN27A2dlZ5DRE+sfiTvSPNm3aoE2bNtrP8\\u002fPzERUVhevXr2t\\u002fRUVFITIyEuGXw3Req1CYonbt2toSb2NjC3tHJzg6OumU+jrurigoKHhilrS0FABA\\u002ffr1H3mMpaUlfHx84OPjU+HzpaWlSE5ORmRkJFJSUhAeHo6lS5fi5MmTCAgIwNWrV+Hl5fXELE\\u002fjcTP4QFnJVyqVsLKyBBwAjUYDQRD++QHp36Ivk8m4XpWInsje3h4AoFarRU5CZBi8OJXoKQmCgKSkJERGRiIiIgI3btzAzZs3ERUVhZiYGBQVFekcb2pqitouLnB2rg1f38bw8fFBdEwiHBydoLa1q3Am+9qVy9iw9iesXr0aI0eOrLLs+fn52LJlC95++21MmTIFixYtqrJzExEZ0smTJ9GlSxdYWloiJSUFFhYWYkci0jsWd6IqVFpaioSEBERHRyMqKgpRUVGIjo5GZGQkYmJiUFKiu2OLQqGAk5Nz2cy8vT2srdWwUdviVmI8Tp88huPHj6NLly5VmlGj0cDHxwdJSUlISUmpknX7RESG1rdvX+zduxf79u1Dr169xI5DZBAs7kQGUlJSgri4OERHRyM6Oho3b95EbGwsYmNjERMTg5ycnHKvSUhIQJ06dao8y8yZMzFv3jwsW7YMEyZMqPLzExHpk0ajQaNGjRAVFYXs7GyoVCqxIxEZBIs7kREQBAEpKSnaIh8bGwsbGxu89957ehkvMzMTTk5OUKlU+P3339GxY0e9jENEpA8\\u002f\\u002f\\u002fwzxowZAwC4evUqGjduLHIiIsNgcSeqodauXYvRo0ejtLQU3bt3x+rVq3W2iiQiMlZhYWFo3rw5AGDDhg0YOnSouIGIDER\\u002fd5khIqM2YsQInDlzBl27dsWhQ4fQqVMn5Ofnix2LiOiJ\\u002fPz8sHTpUgCAnZ2dyGmIDIfFnagGa9OmDY4ePYo2bdogLi4OgwcPFjsSEVGlXLhwAQDQqlUrkZMQGQ6LOxHhxIkTaNWqFfbs2YPt27eLHYeI6IkaNGgAoGzZH1FNweJORDA3N8eWLVsAAAMHDsS6detETkRE9HijR48GAMTExIichMhwWNyJCADg5eWFzZs3w9LSEiNGjMDixYvFjkRE9Ej29mV3pY6MjBQ7CpHBcFcZItIRFRUFX19fuLm5ISoqCgqFQuxIREQVqlOnDm7dusUtIanG4Iw7Eenw9vbGoEGDEBcXh1GjRoE\\u002f2xORsfrss88AADt27BA5CZFhcMadiMrJycnBq6++ijNnzuCdd97Bjz\\u002f+KHYkIqJyioqKYGNjg86dO+PgwYNixyHSOxZ3IqpQTk4OmjZtiri4ODRp0gQ\\u002f\\u002ffQT2rdvL3YsIiId3bp1w9mzZ5GUlARbW1ux4xDpFZfKEFGFVCoVduzYgfr16+PKlSvo0KEDPvzwQy6dISKjEhgYiIKCAmzcuFHsKER6xxl3InosjUaDr776Cp988gkAYOTIkVi2bBmsrKxETkZEBOTl5cHFxQX169dHaGio2HGI9Ioz7kT0WHK5HDNmzEBERARkMhnWrFmDadOmiR2LSNIEQUBERAQKCgrEjiJ5lpaWGDRoEC5duoRLly6JHYdIr1jciahSXnjhBcTFxQEAVq5ciT179ogbiEjC5syZg0aNGsHV1RXHjx8XO47kjRw5EgDwyy+\\u002fiJyESL9Y3Imo0urWrYsDBw4AADZs2CByGiLpWr58OQAgPT0dixYtEjmN9LVt2xZ+fn746aefEBERIXYcIr3hGnciemru7u6wsrLiN0iiZ5CTkwNra2u4urqisLAQKpVK+25WZRQWFuLChQsIDg5GVFQU0tPTIZfLkZubCzMzM9SpUwctWrRAx44d4eHhAZlMpr8vBkBWVhbMzc2hVCr1Os6TBAUF4T\\u002f\\u002f+Q+++OILfPrpp6JmIdIXFnciemr16tVDfHw80tLSYGdnJ3YcIkkJCQlBq1at4OrqiuTkZLi7uyM2NvaxBTstLQ379+\\u002fH7t27ERQUhNzc3HLHKBQKlJSU6DxWv3599O\\u002ffH8OHD0eTJk2q7Gv4v\\u002f\\u002f7P+2a8ri4OLi5ueHrr7\\u002fG4MGD9f6DwqMUFhbC2dkZrq6uCA8P512fqVriUhkiempDhw4FAF6kSvSQ4uJiREdHIz09HcXFxTrPRUVFITAwEP7+\\u002fliyZAkAoGfPnujXrx\\u002fi4+PRq1cvnTJ+9+5d\\u002fPDDD+jRoweaNm0KJycnDBs2DLt27UKLFi0wZ84cHDlyBHfv3kVxcTHy8\\u002fNRVFSE4uJiREZGYuPGjXj33XdRUlKCb775Bk2bNkWfPn1w9erV5\\u002f46N2\\u002fejM8\\u002f\\u002fxy7d+9GXFwcmjVrhtu3b2PIkCHw8vLCp59+isTExOce52mZmZlh0qRJuHHjBtatW2fw8YkMgTPuRPTUiouL0ahRI8TExODKlSvw9fUVOxKRQSUkJGDt2rXo0aMHFAoFvv76a+zdu1dbvi0tLVG3bl3cvXsXTk5OiIqKKneO2bNnY8iQIRg8eDBCQkJgYWGBuXPnYtOmTQgJCQEAyGQyuLu7o3Xr1ujVqxd69+4NZ2fnSucUBAF\\u002f\\u002ffUXlixZgu3bt0OpVGLmzJkYPHgwvL29n\\u002frrFgQBdnZ2yMzMxKpVq9ClSxd4e3sjMTERS5YswU8\\u002f\\u002fYTs7GwoFAp88803mDRp0lOP8TyysrLg5eUFpVKJyMhIbltL1Y9ARPQMfv31VwGA8P7774sdhcjg+vbtKwDQ+dWhQwchMDBQ8Pb2FgAIpqamOs8HBAQIKpWq3Ov+95darRYGDRokbNy4UcjOzq6yzOfOnRO8vLy04\\u002fzyyy+Vfm1paamwaNEioVGjRtrXJyYmVnjc77\\u002f\\u002fLnh6egoAhI0bN1ZZ\\u002fspasWKFAED4+OOPDT42kb5xxp2InklWVhbUajUGDhyI3377Tew4RAaTnJwMFxcX7V2EPT09ERsbiw4dOuDMmTOwsrJCXl6e9vmWLVvi4sWLaNasGS5fvqw9j1KpRFFRkfbzHj16YPTo0ejRowcsLCz0kr2oqAg7d+7EyJEjUVBQgHr16mHMmDGYMWPGI9emp6am4q233sKRI0e0j7m7u+PatWuwtrau8DUxMTFo0aIFCgsLcfToUXTo0EEvX09FSkpK0K5dO+0a\\u002fKpc208kNq5xJ6Jncv78eQCASqUSOQmRYQiCgAMHDqB+\\u002ffoQBAFjxozBqVOncPv2bQDAuXPnAJRtmzp27Fjt6\\u002fz8\\u002fAAAmZmZmDt3LsLDw5GZmYl79+4hPz8fgiBoz92\\u002ff3+9lXag7IeFQYMGISoqCkOGDEFcXBxmzpyJ6dOn6xyn0Whw+fJlhISEwNHRUVvaFy5ciNTUVNy8efORpR0ouyj2888\\u002fR2FhIfz9\\u002feHr64vs7Gy9fV0PUygU+OGHH6DRaDBhwgRwfpKqFdHm+olI0nbt2sWlMlRj5OfnC126dNEuEzE3Nxe++OIL7ecfffSREBYWJhw8eFA4e\\u002fasUFJSovN6jUYjUvLHw0NLdEJCQgRBKMv67rvvVriM59q1a091\\u002fpCQEKF58+YCAOG3337Tx5fwSGPHjhUACOvWrTPouET6xBl3Inom7u7uAABzc3ORkxDp17lz52BhYYETJ06gYcOGAICCggLMnj1be4ydnR2aNWuG3NxctG\\u002ffHp6enjrnEGuLxKexYcMGvP7665DL5fjxxx91nuvatStycnLg4+PzVOds2bIlli1bBqDsYtzMzMwqy\\u002fskc+fOhbOzM6ZMmYJ79+4ZbFwifWJxJ6Jn4uvrC2trayxcuBB5eXlixyHSi6CgILRv377C54SHlmAkJycDADp16gQASExMRHp6uv4DPqeHr09ZvHgxdu\\u002feXe6Ytm3b4vDhw8+8Q0vLli1hb2+P69evw9bWFlOnToVGo3nWyJVmb2+PFStWIC0tDePGjeOSGaoWWNyJ6JlYWFjg\\u002ffffBwCD3rJdo9GgoKDAYONRzRYeHq7z+aPuFjxr1iwAgIODg\\u002faxmzdv6i9YFRkwYAC6d+8OlUqFGTNmlHsHLTw8HOfOnYNc\\u002fux1wdLSErdu3cKYMWNgbm6O7777rtyMvr688cYbGDhwIHbu3InPP\\u002f\\u002fcIGMS6RN3lSGiZ1ZQUAALCwu0bdtWe2GePqWlpaFbt24ICwtDu3bt8PPPP3MPedKru3fv4pVXXtEp8NOmTUPDhg0xevRo7WMajUa7HObBf8PCwtCsWTPDBn5OGo0GR44cQUZGBl5\\u002f\\u002ffUqv\\u002ftoSkoK3NzcUFRUhM8++wyff\\u002f653pcR5ebmonPnzggNDcX+\\u002ffvRo0cPvY5HpE8s7kT0XDp06ICzZ8\\u002fi4sWLaNGiRZWeu7i4GNu2bcOuXbvw999\\u002fIz4+Xud5tVoNV1dXWFlZoUGDBmjcuDECAwPh4eGBixcvwsfHB5aWllWaiWqm48ePY86cObC1tcXSpUsxffp0bNy4EUDZ9R4P3yn0QREtLCyEUqkUJa8xW7x4MaZMmQIACAgIgJ+fH0pLSzFixAi8+OKLehkzOjoabdu2RXFxMc6ePcsf+Em6xLwyloik79ChQ4KpqamgVquF48ePV+m5P\\u002f\\u002f883K7Wri5uQmZmZnCnDlzBBMTkyfezOb1118XCgsLqzQXiUuj0Qj9+vUTnJ2dBQDC7t27DTZ2YWGhULduXZ0\\u002fYx988IHOMcuWLTP4DipSs2rVqgr\\u002fvpaWluptzKNHjwoKhULw8vISUlNT9TYOkT5xxp2InltQUBB69uwJjUaDt956C8uXL4ejo+NznTMkJAStWrUCAPzwww\\u002fo2LGjdicbtVoNoGxG\\u002fv79+7CwsEBERATOnj2LvXv34ubNm0hISNCe64svvsCnn376XHmobAYZAMzMzJ76tbm5ubh+\\u002fTpSU1Mhk8lw9epVCIIAPz8\\u002ftGvXrlIXPm7YsAHDhg2r8LmuXbuiTp06+PHHH\\u002fW201FgYKB2lv2Bv\\u002f76y6A3F6ouCgoKMGDAAJibm2PBggXw9vYGAPTv3x87duzQ27grV67Ee++9h65du+LAgQPcFYukR+QfHIiomti1a5fg6OioneV+XvhnBm7+\\u002fPnPfI74+HjteTp27Fhub22qvK1btwq2trYCAOHAgQOVes358+eFgQMHCi4uLo99V8TExER4+eWXhc2bNwtFRUWPPJ+Dg4P2NaNHj67wHZfvv\\u002f++qr5kHSUlJeXG+vzzz412f3apuXLlivb3NTY2Vq9jTZgwQQAg9OrV67F\\u002f3oiMEWfciajKCIKARo0aITIyEt9\\u002f\\u002fz3GjRv3TOcJDg5Gu3btAJTNqj\\u002fPBXLjx4\\u002fH999\\u002fD6DsNuz\\u002fu782Pd7WrVsxbtw4na0NR44cidWrV+scJwgCTp48ibVr1+LcuXO4ceMGAMDR0RF169ZFo0aN0KhRI9SqVQtFRUVo3LgxFAoFgoODceLECRw6dAhFRUVwd3fH+PHjMXDgQHh5eemMcerUKXTu3Fn7uVwuh0ajga+vL2rXrq29u2d0dHS511aFhy+iDAkJQcuWLat8jJrswd\\u002fViRMnYsmSJXobR6PRYOTIkVi\\u002ffj3efPNNbN26VW9jEVU5cX9uIKLq5uLFi9qZ9w8++OCZZs8mTpwoABBOnDjx3HlSU1O1M3lqtVoIDg5+7nPWFAUFBYJSqdT+\\u002fn366acCAGHKlClCTEyMoNFohNLSUmHnzp1CmzZttMd5eXkJ3t7ewsyZM4WUlJRKjXX\\u002f\\u002fn3hyy+\\u002f1Jmdd3FxEQICAoSpU6cKq1evFsaMGfPYmXtfX1+d2fBDhw5V6e\\u002fH0qVLdcbbs2ePsHnzZiEjI6NKx6mpdu\\u002feLQAQ5s6dq\\u002fexioqKhD59+ggAhL\\u002f++kvv4xFVFRZ3IqpyMTExQoMGDbQFp27dusKvv\\u002f5aqddevXpVACDI5XIhOzu7SvKcPXtW8PPz0+bZu3dvlZy3uisoKND+nh04cEBo2LBhubL84P+zmZmZMHbsWOHGjRvPNWZhYaGwZ88eYcyYMULr1q0FlUqlM17Hjh2FSZMm6fz5evArOTm53GPDhg0Tbt++XUW\\u002fI7o\\u002fCD78y8\\u002fPT7h161aVjVMTpaenC0qlUrCzs9PrRaoPnDt3TgAgdOrUSe9jEVUVFnci0ovCwkLhxx9\\u002fFP773\\u002f9qy82hQ4eeuCZ43LhxAgBh0qRJVZqnuLhYmD17tgBA8PDwEG7evFml56+O8vPzBTs7OwGAdgeXin7NmDFDSEpK0kuG0tJSISIiQti9e7dw8uRJnUJ38OBBoW3btkKzZs2E0NBQQRAEITExURg4cKBOPjs7OyE5ObnC89+6dUvYv3+\\u002f0LFjR+Hbb78VCgoKdJ6Pi4sT+vXrJzRs2FDo0KGDEBgYKPz444\\u002fC66+\\u002fLgwfPlxnnGbNmglZWVl6+X2oKR78cGiInYK+++47AYAwa9YsvY9FVFVY3IlI71auXKlToubNm1fhcQ++kQIQtm7dqpcs06ZN084QHz16VC9jVCdhYWHa\\u002fyc9e\\u002fbUKaqjR4822qL6v+XdxcWl3DEJCQnlfghp0qSJ9msKDw\\u002fXLt3x9vbWuTjWx8dH2LVrl7B48WKhe\\u002ffuOltErl+\\u002f3tBfbrXxxx9\\u002fCACEyZMn632sjz76SAAgREVF6X0soqrC4k5EBnHhwgWha9eu2nKzbNkyned37dqlfc7S0lJIS0vTW5bVq1drx1q5cqXexqkuHhSch5er5OXliR3rsX744Ydypfx\\u002fl1+8++67Fb6D8PbbbwvBwcGCra2toFAohDVr1giCULZ\\u002f\\u002fM6dO4XAwEDtOxEPfs2cOVP78ZAhQ0T4iquH0tJS7bsX+vb9998LAIRdu3bpfSyiqsLiTkQGdePGDcHKykpbcmbPni0cPnxY+\\u002fm6desMkuP3338XAAg2NjYGWU8rVfv37y9XbENCQsSO9USFhYXllrKYmpoKderUEc6dOyfMmTNH+\\u002fj06dOF8PBwoUuXLjrHm5ubC0FBQRWe\\u002f\\u002fTp04KZmVmFxb8q19TXREqlUnB3d9f7ONHR0QIAITAwUO9jEVUVbgdJRAb38M2VHrZv3z706tXLYDn8\\u002ff1x5swZDBkypNyNdWq6P\\u002f\\u002f8E8OHD8e9e\\u002fd0Hj9z5gzat28vUqqnl5aWhvDwcKxbtw5\\u002f\\u002f\\u002f03rly5ovO8l5cXbt68We51ZmZmOHv2LFq0aPHIcz+4mc\\u002fDNm7ciCFDhlRN+BooISEBHh4e6Ny5M06cOKH38fz9\\u002fRESEoL4+HjUqlVL7+MRPS+52AGIqOZ58cUXIQgC1qxZg4YNG6JevXp49913DVraAWDv3r1o2bIlNm3ahOTkZIOObewmTpyoU9q7dOmCtLQ0SZV2ALC3t0eXLl2wevVqhIeHY9asWTrPm5qaaj\\u002f28fFBQEAAli5dirt37z62tAPQlnY3NzcMHDgQr776KgYOHFj1X0QNEhsbCwDo1q2bQcb78MMPUVhYiE8++cQg4xE9r2e\\u002fqwkR0XMaMWIERowYIdr49vb2GDBgAC5evIioqCjOuD0kKipK+\\u002fHz3EzL2MyePRt169ZFTk4OFAoFBg8eDEdHRxQVFUGpVD7VuVq0aIH79+\\u002fj+vXrUKlUekpcc5SUlCAoKAgA0LRpU4OM+dprr+Hll1\\u002fG6tWr0b9\\u002ff4NPHhA9LS6VIaIabcWKFZgwYQIGDBiAbdu2iR3HKHzzzTeYNm0aAODSpUvw8\\u002fMTORHVBBMnTsSyZcsAAHfu3IGLi4tBxk1ISICfnx9MTEwQHh5usHGJngWXyhBRjdazZ08AwPbt27Vv09dUGo0Gs2bNwrRp0+Dr64ubN2+ytJPBHD58WPuxg4ODwcatW7cuVq1ahdTUVIwZMwaczyRjxuJORDWap6cnPvvsMwBlyyhqIkEQsG3bNvj6+mLu3Llo3rw5Tpw4gfr164sdjWqQiRMnaj9u164dRo4ciTt37hhk7AEDBmDYsGHYv38\\u002ftmzZYpAxiZ4Fl8oQUY2Xl5cHZ2dnuLi46KztrgkuXLiAjz76CMeOHYNSqUT\\u002f\\u002fv3xyy+\\u002fwNLSUuxoVMMUFBTAwsKi3ON2dnaYNWsWJk+eDLlcf\\u002fONaWlp8PDwQN26dREeHq7XsYieFf9UElGNZ2lpCR8fH0RHR+OHH34QO45BZGdn44MPPkCbNm1w\\u002fPhxjB49Grdu3cLmzZtZ2kkUZmZmMDc3L\\u002fd4eno6PvjgA73PhNvb22Ps2LG4du0a1q9fr9exiJ4VizsREYAvvvgCADB58mTcv39f5DT6k5OTg2XLlqFhw4ZYtGgRWrdujbCwMKxatQpOTk5ix6MaTBAElJaWonnz5pg7d26558PDw\\u002fWeYebMmbCyssKYMWOQnZ2t9\\u002fGInhaLOxERgB49eqBr164oLCzE5MmTxY5T5ZKTk\\u002fHxxx\\u002fD3d0dEydOhEajwcqVK3HmzBmDbb1H9DhyuRwjRozApUuXcODAgXJLVfr376\\u002f3DLa2tnjvvfdQUlKC5cuX6308oqfFNe5ERP\\u002f466+\\u002f0LFjRwCoNjtL5OTkYN68eViyZAny8vLQqFEjTJ48GYGBgVwSQ0anpKQE48aNw88\\u002f\\u002f6zz+Ntvv41ffvnFIBmKi4vRoEEDZGdn4\\u002fr167y\\u002fAxkVFncioofY2NigpKQE2dnZMDExETtOpZSWluLgwYNwc3NDs2bNUFBQgG3btiE3NxcLFixAfHw8GjdujDlz5uC1117jRXdk1MLCwtC8eXPt587Ozrh9+zYUCsPdM3L79u0YOHAghgwZgo0bNxpsXKIn4b\\u002feREQPGT58OPLz87F9+3axo1Ta8uXL0bNnT7Ro0QILFiyAhYUFhg0bhnHjxiEpKQlLly7F5cuX0b9\\u002ff5Z2MnpNmjTR+fzdd981aGkHgDfeeAO9evXCpk2bsGvXLoOOTfQ4nHEnInrIkSNH8PLLLwMAoqKi0KBBA5ETPdmAAQOwY8eOCp\\u002fjnU9JiszNzVFYWAigbOmKoYs7AMTHx6NevXpwcXFBYmKiZN6Bo+qNUy9ERA956aWX8PbbbwMA\\u002fPz8sHr1apETVayoqAjZ2dkQBAEREREVHrN9+3aWdpKk06dPaz++efOmKBk8PDwwZcoUJCUl8UJVMhqccSci+h+CIGDp0qWYMWMGiouLcebMGbRu3VrsWADKZh+XLl2K6dOno6SkBC+++CJCQkJ0jvnyyy\\u002fxwQcfVLgnNpFUbNmyBUOGDIGjoyPOnDkDLy8vg2d4cEF3QUEB4uPjK7xBFJEhsbgTET3Cvn370KdPH3Tt2hV\\u002f\\u002fvknlEqlqHkEQUC\\u002ffv2wd+\\u002feRx4jleU9RJWxadMmDB06FA0aNEBYWJgoOyEtXboUkyZNwsqVKzF27FiDj0\\u002f0MC6VISJ6hN69e6Nbt244duwYhg0bJnYclJaW4uzZsxU+1717d+Tm5rK0U7UyZMgQTJ8+HdHR0ZgxY4YoGUaNGgUbGxt899131WabWJIuzrgTET3G3bt34eLiArlcjqSkJDg7O4ua5969exg0aBCOHTumfSwwMBBr1qzhxXNULZWWlqJTp044e\\u002fYsrl69isaNGxs8Q+fOnXHq1CnExMTA09PT4OMTPcAZdyKix6hduzaGDh0KjUaDH374weDjf\\u002fnll\\u002fDz84O3tzccHR3Rt29fndLesGFDrF69mqWdqi0TExMsWrQIADBixAgUFxcDAA4dOoQBAwbg77\\u002f\\u002f1nuGN998EwAQGRmp97GIHocz7kRET3Dq1Cl07twZAHDy5El06tTJYGN7e3sjOjr6kc+npaXBzs7OYHmIxDJ9+nR89dVXmDRpEoYMGYI2bdoAKNv9JS4uTq9jBwUF4T\\u002f\\u002f+Q9WrFiB9957T69jET0OZ9yJiJ6gU6dO2jXuffr0wc6dO7V7TOvb1q1btbPpgwYN0nlu7dq1LO1UY8yZMwedOnXCkiVLsGDBAu3jt2\\u002ff1vvY9erVAwDcunVL72MRPQ6LOxFRJaxbtw7z589HZmYm3njjDZibmyM8PFzv47Zs2RLp6enw8fHBli1btI8HBARg+PDheh+fyFiYmppi165daNSoEXbu3Kl9vKSkBPn5+Xod+8ENoEpKSvQ6DtGTsLgTEVXSxx9\\u002fjO+++077+YABAwwyrrW1NTZt2qTz2NatWw0yNpExcXBwwLJly8o9ru+tWh9sQ5mXl6fXcYiehMWdiKiSZDIZJk+erJ11i4yMNMjb9ADw2WefaT+eNWuW6LvbEImlefPm5R7T98XZDg4OAMquKSESE4s7EdFTMjEx0W4Jd\\u002f\\u002f+fb2Pp9FosG\\u002ffPu3nH374od7HJDJWjo6O5R5r1aoVcnJy9DamqakplEolsrKy9DYGUWWwuBMRPaXS0lLtjVg8PDz0Otbhw4fx008\\u002faT8fNWoU1Gq1XsckMnb\\u002fuwVkSEgIXF1dcf78eb2MJ5PJIJPJ9HJuoqfB4k5E9JQSEhK02889bqvG55GWloa+ffuie\\u002ffuGDdunPbxKVOm6GU8Iilp1aoVAgICdB7Lzc1F586dERwcrJcxLSwsuMadRMfiTkT0lOrVq4dXX30VADBv3jy9jDF16lTs3bu33OO+vr56GY9Iao4dO4ajR49i1KhROHr0KE6ePAlBEPDee+9BH7eosba2RmZmZpWfl+hpsLgTET0lmUyGAwcOAIDebvzSsmXLco+98MILehmLSKq6du2Kn3\\u002f+GV27doW\\u002fvz9Gjx6NixcvIjQ0tMrHcnJyQmpqapWfl+hpsLgTET2DpKQkvZ5\\u002f4sSJKCoqwrFjx7SP9e3bV69jEkndgy1a\\u002f\\u002fjjjyo\\u002ft6enJxISElBQUFDl5yaqLBZ3IqJncPfuXQDApUuX9LbThKmpKdzd3bWfN2rUSC\\u002fjEFUX\\u002fv7+UKlU2LNnT5Uvl2nQoAEEQUBsbGyVnpfoabC4ExE9g4f3kh45cqTexnl432gzMzO9jUNUHSiVSgwePBh\\u002f\\u002f\\u002f23zm5Mz6u4uBjnzp0D8O8P7URiYHEnInoGJiYmuHz5MgBg586dOHjwoF7GefgGTxqNRi9jEFUn8+fPh1wux9ixY\\u002fH+++9j27Ztz\\u002f1357333sOJEycAAHZ2dlURk+iZsLgTET2jpk2bYs+ePQCATz75RC9jPLwvNd+iJ3oyBwcHzJ8\\u002fHwCwfPlyvPnmm3B1dcXIkSOf6aLVkpISBAUFaT+3sbGpsqxET4vFnYjoOfTt2xd9+\\u002fZFSEgIIiIiqvz8N27c0H68ZcuWKj8\\u002fUXU0bdo0\\u002fPe\\u002f\\u002f0WbNm0wY8YMFBQUYO3atWjZsiUWLFjwVOvfz5w5g8TERAwbNgwrV65E\\u002ffr19Zic6PFY3ImInlOvXr0AAH\\u002f++WeVn9vJyUn78Y0bN\\u002fSyPzVRdSOTybBp0yYEBwdj3rx5SEpKwsSJEwEAM2bMwJIlSyp9rosXLwIAfv31V4wbNw6nT5\\u002fWS2aiymBxJyJ6TgMGDIC5ubl22UxVaty4sc7nkZGRVT4GUXVnYWGBxYsXY\\u002fny5QDK7kD88PKXx3mwPr6kpARA2R1aicTC4k5E9Jzs7e1Rr149HDt2DIcPH67Sc7do0ULn8y+++KJKz09UU8hkMowfPx5HjhwBALzzzjvIycl54utefvllnc\\u002fbtGmjl3xElcHiTkRUBebMmQOgbM17enp6lZ23U6dOOp\\u002f\\u002f+uuvVXZuopqoW7duGD9+PBISEvDOO+888fhLly5pP1YoFNxVhkTF4k5EVAUCAgKgUCiQn58Pe3t7tG7dGu+\\u002f\\u002fz5iYmKe67xyuRwBAQE6j2VkZDzXOYlqumXLlgEANm\\u002fejODg4AqPEQQBJ0+e1Cnu+\\u002fbtM0Q8okeSCbzSiYioSuzbtw8bNmzA0aNHkZKSAqDs7qfHjh2Dv7\\u002f\\u002fM583MzMTtWvX1t5qff369QgMDKySzEQ1la+vL65du4awsDA0a9YMAJCUlAQA2L59OxYvXqzzg7eLiwtu3boFuZxzniQe\\u002fukjIqoivXv3xtatW3Hv3j2EhobitddeQ3FxMTp27AhPT0\\u002fMmDFDe\\u002ffFp6FWq9G5c2ft54sXL67C1EQ1k729PQDA2dkZGRkZaNeuHVxdXeHq6oqJEyciOTkZMplMe3zv3r1Z2kl0\\u002fBNIRFTFZDIZmjdvjl27dmH69OkAgLi4OCxYsADt27dHv379kJCQ8FTnVKlU2o8fbE9HRM9u2LBhAMpm0u3s7BAcHAwTExNYWlrC3d0dkZGRGDRokPb4efPmiRWVSIvFnYhIj+bPn4+CggJERUVh1qxZAIDff\\u002f8dHh4eWLduHUpKSlBaWvrE83h5eek7KlGNMnr0aHz66aeoW7cuXn31VSxfvhwpKSnIzc1FYmIigoODsXnzZgDAoUOH4OjoKHJiIq5xJyIyqLS0NDg4OFT4nEqlgpeXF9q2bYsePXqgV69eMDU1BQD88ssvGD16tPZYjUaj8zY+EVWddevWYcSIEQCAIUOGYOPGjeIGIvoHizsRkYEJgoANGzZgxowZuHPnjvZxW1tbnR1j2rVrh1OnTkGhUKCgoAC9evXC0aNHAQCpqanaNbpEVDUEQcCaNWswatQoAEC9evVw8+ZNrm0no8HiTkQkMkEQtLPnOTk5OHXqFMaNG4f4+HgAwB9\\u002f\\u002fIEePXrovObWrVtwc3MzeFai6ur+\\u002ffuYO3culixZArVaDScnJ0RGRvKdLTIqLO5EREboUUtqpkyZgkaNGmHMmDEsFERP6cyZM9i0aRNat26NTp06wcvLCxqNBosXL8YHH3wAADA3N8fy5cu1s+5ExoTFnYjISBUWFuKjjz7CsmXLYGtri9DQUHh4eIgdi0iSvv76a3z55ZfIzs4GACiVSvzxxx\\u002f44YcfsG3bNu1xKSkpj7wOhUhsXLRFRGSkzMzMsGTJEuTk5ODWrVss7UTPICMjA2+99RY+\\u002fvhjmJqa4sMPP4S3tzeKiorQq1cv5OXlAQBmzZqF4uJilnYyapxxJyIiomopJycHrVu3xo0bN+Dp6YnY2Fid54cMGYL169dDEASYmJiIlJKo8hRiByAiIiKqCjdu3IBKpYK7uzuuXLmC77\\u002f\\u002fHjdu3AAAJCQkQC6Xo0OHDvDz88OoUaPQokULkRMTPR0WdyIiIjJaWVlZ2LhxI9q3b\\u002f\\u002fYoh0REYEXX3wRbm5uuHfvHjIzM3Uu4G7dujVWrFiBli1bGiI2kV6wuBMREZHRmjJlClavXo0WLVrg4sWLjzwuJSUFjo6OKCoqQmZmJgCgV69e6NmzJzp16gRfX1\\u002fuxESSx+JORERERmvIkCG4efMmZs6c+djj\\u002fP39ERwcDHt7e4SFhcHDwwPOzs4GSklkGLw4lYiIiIhIArgdJBERERGRBLC4ExERERFJAIs7EREREZEEsLgTEREREUkAizsRERERkQSwuBMRERERSQCLOxERERGRBLC4ExERERFJAIs7EREREZEEsLgTEREREUkAizsRERERkQSwuBMRERERSQCLOxERERGRBLC4ExERERFJAIs7EREREZEEsLgTEREREUkAizsRERERkQSwuBMRERERSQCLOxERERGRBLC4ExERERFJAIs7EREREZEEsLgTEREREUkAizsRERERkQSwuBMRERERSQCLOxERERGRBLC4ExERERFJAIs7EREREZEEsLgTEREREUkAizsRERERkQSwuBMRERERSQCLOxERERGRBLC4ExERERFJAIs7EREREZEEsLgTEREREUkAizsRERERkQSwuBMRERERSQCLOxERERGRBLC4ExERERFJAIs7EREREZEEsLgTEREREUkAizsRERERkQSwuBMRERERSQCLOxERERGRBLC4ExERERFJAIs7EREREZEEsLgTEREREUkAizsRERERkQSwuBMRERERSQCLOxERERGRBLC4ExERERFJAIs7EREREZEEsLgTEREREUkAizsRERERkQSwuBMRERERSQCLOxERERGRBLC4ExERERFJAIs7EREREZEEsLgTEREREUkAizsRERERkQSwuBMRERERSQCLOxERERGRBLC4ExERERFJAIs7EREREZEEsLgTEREREUkAizsRERERkQSwuBMRERERSQCLOxERERGRBLC4ExERERFJAIs7EREREZEEsLgTEREREUkAizsRERERkQSwuBMRERERSQCLOxERERGRBLC4ExERERFJAIs7EREREZEEsLgTEREREUkAizsRERERkQSwuBMRERERSQCLOxERERGRBLC4ExERERFJAIs7EREREZEEsLgTEREREUkAizsRERERkQSwuBMRERERSQCLOxERERGRBLC4ExERERFJAIs7EREREZEEsLgTEREREUkAizsRERERkQSwuBMRERERSQCLOxERERGRBLC4ExERERFJAIs7EREREZEEsLgTEREREUkAizsRERERkQSwuBMRERERSQCLOxERERGRBLC4ExERERFJAIs7EREREZEEsLgTEREREUkAizsRERERkQSwuBMRERERSQCLOxERERGRBLC4ExERERFJAIs7EREREZEEsLgTEREREUkAizsRERERkQSwuBMRERERSQCLOxERERGRBPw\\u002fNMh7jrr8xp0AAAAASUVORK5CYII=\",\"x\":1.24,\"xanchor\":\"right\",\"xref\":\"paper\",\"y\":0.9,\"yanchor\":\"bottom\",\"yref\":\"paper\"}]},                        {\"responsive\": true}                    ).then(function(){\n",
       "                            \n",
       "var gd = document.getElementById('b8579fdc-c2dd-4c5a-8389-12d3a5dd4bd5');\n",
       "var x = new MutationObserver(function (mutations, observer) {{\n",
       "        var display = window.getComputedStyle(gd).display;\n",
       "        if (!display || display === 'none') {{\n",
       "            console.log([gd, 'removed!']);\n",
       "            Plotly.purge(gd);\n",
       "            observer.disconnect();\n",
       "        }}\n",
       "}});\n",
       "\n",
       "// Listen for the removal of the full notebook cells\n",
       "var notebookContainer = gd.closest('#notebook-container');\n",
       "if (notebookContainer) {{\n",
       "    x.observe(notebookContainer, {childList: true});\n",
       "}}\n",
       "\n",
       "// Listen for the clearing of the current output cell\n",
       "var outputEl = gd.closest('.output');\n",
       "if (outputEl) {{\n",
       "    x.observe(outputEl, {childList: true});\n",
       "}}\n",
       "\n",
       "                        })                };                });            </script>        </div>"
      ]
     },
     "metadata": {},
     "output_type": "display_data"
    }
   ],
   "source": [
    "\n",
    "\n",
    "fig = px.bar(df_plot, x=\"State\", y='value', color=\"Technology\", title='',\n",
    "            color_discrete_map=color_map_dict,\n",
    "            width=900, height=700, \n",
    "             facet_col=\"scenario\", facet_row='var',\n",
    "            facet_col_spacing=0.1,\n",
    "            facet_row_spacing=0.1)\n",
    "\n",
    "fig.update_layout(uniformtext_minsize=18, uniformtext_mode='hide', plot_bgcolor = 'white', paper_bgcolor ='white')\n",
    "fig.update_yaxes(showgrid = True,  gridcolor = '#bdbdbd',showticklabels=True, visible=True)\n",
    "\n",
    "# makes the y-axes match in each row\n",
    "fig.layout.yaxis.matches = 'y'\n",
    "fig.layout.yaxis2.matches = 'y'\n",
    "fig.layout.yaxis3.matches = 'y4'\n",
    "fig.layout.yaxis4.matches = 'y4'\n",
    "\n",
    "# Updates y-axis labels\n",
    "fig.update_xaxes(title_text=\"\", row=1, col=1)\n",
    "fig.update_yaxes(title_text=\"Capacity Additions (GW)\", row=2, col=1)\n",
    "fig.update_xaxes(title_text=\"\", row=1, col=2)\n",
    "fig.update_yaxes(title_text=\"Land Usage (km<sup>2</sup>)\", row=1, col=1)\n",
    "\n",
    "# suppresses row facet labels\n",
    "fig.for_each_annotation(lambda a: a.update(text=a.text.replace(\"GW\", \"\")))\n",
    "fig.for_each_annotation(lambda a: a.update(text=a.text.replace(\"km-squared\", \"\")))\n",
    "fig.for_each_annotation(lambda a: a.update(text=a.text.replace(\"Business-as-usual\", \"\")))\n",
    "fig.for_each_annotation(lambda a: a.update(text=a.text.replace(\"Clean Grid\", \"\")))\n",
    "fig.for_each_annotation(lambda a: a.update(text=a.text.split(\"=\")[-1]))\n",
    "\n",
    "fig.update_layout(\n",
    "    font=dict(\n",
    "        family=\"Arial\",\n",
    "        size=12,\n",
    "        color=\"black\"\n",
    "    )\n",
    ")\n",
    "fig.add_annotation(\n",
    "    text=\"Business-as-usual\",\n",
    "    x=0.14, y=1.10,\n",
    "    xref=\"paper\", yref=\"paper\",\n",
    "    showarrow=False,\n",
    "    font=dict(size=15),\n",
    ")\n",
    "\n",
    "fig.add_annotation(\n",
    "    text=\"Net Zero\",\n",
    "    x=0.8, y=1.10,\n",
    "    xref=\"paper\", yref=\"paper\",\n",
    "    showarrow=False,\n",
    "    font=dict(size=15),\n",
    ")\n",
    "\n",
    "fig.add_annotation(\n",
    "    text=\"(a)\",\n",
    "    x=-.05, y=1.1,\n",
    "    xref=\"paper\", yref=\"paper\",\n",
    "    showarrow=False,\n",
    "    font=dict(size=18),\n",
    ")\n",
    "\n",
    "fig.add_annotation(\n",
    "    text=\"(b)\",\n",
    "    x=.5, y=1.1,\n",
    "    xref=\"paper\", yref=\"paper\",\n",
    "    showarrow=False,\n",
    "    font=dict(size=18),\n",
    ")\n",
    "\n",
    "fig.add_annotation(\n",
    "    text=\"(c)\",\n",
    "    x=-.05, y=.5,\n",
    "    xref=\"paper\", yref=\"paper\",\n",
    "    showarrow=False,\n",
    "    font=dict(size=18),\n",
    ")\n",
    "\n",
    "fig.add_annotation(\n",
    "    text=\"(d)\",\n",
    "    x=.5, y=.5,\n",
    "    xref=\"paper\", yref=\"paper\",\n",
    "    showarrow=False,\n",
    "    font=dict(size=18),\n",
    ")\n",
    "\n",
    "\n",
    "ref_map = Image.open(os.path.join(fig_dir, 'reference_map.png'))\n",
    "\n",
    "fig.add_layout_image(\n",
    "    dict(\n",
    "        source=ref_map,\n",
    "        xref=\"paper\", yref=\"paper\",\n",
    "        x=1.24, y=.9,\n",
    "        sizex=0.26, sizey=0.24,\n",
    "        xanchor=\"right\", yanchor=\"bottom\"\n",
    "    )\n",
    ")\n",
    "fig.update_layout(legend=dict(\n",
    "    yanchor=\"top\",\n",
    "    y=0.9,\n",
    "    xanchor=\"left\",\n",
    "    x=1.03\n",
    "))\n",
    "\n",
    "\n",
    "output_file_name = 'fig_1_barchart_capacity_land_use.png'\n",
    "fig.write_image(os.path.join(fig_dir , output_file_name), scale=2)\n",
    "fig.show()"
   ]
  },
  {
   "cell_type": "markdown",
   "id": "7a68d05c-75e6-4032-94dc-d4dbdbed5135",
   "metadata": {},
   "source": [
    "## Additional Figures"
   ]
  },
  {
   "cell_type": "markdown",
   "id": "2f2b836c-e4e8-46a7-9789-3177446e6c33",
   "metadata": {},
   "source": [
    "### Comparison of Total Land Usage Between Scenarios"
   ]
  },
  {
   "cell_type": "code",
   "execution_count": 8,
   "id": "3a39b5c0-3070-4ce8-9f23-37c0318421dc",
   "metadata": {},
   "outputs": [
    {
     "data": {
      "application/vnd.plotly.v1+json": {
       "config": {
        "plotlyServerURL": "https://plot.ly"
       },
       "data": [
        {
         "alignmentgroup": "True",
         "hovertemplate": "Technology=Biomass<br>scenario=%{x}<br>km=%{y}<extra></extra>",
         "legendgroup": "Biomass",
         "marker": {
          "color": "#713275",
          "pattern": {
           "shape": ""
          }
         },
         "name": "Biomass",
         "offsetgroup": "Biomass",
         "orientation": "v",
         "showlegend": true,
         "textposition": "auto",
         "type": "bar",
         "width": 0.5,
         "x": [
          "business_as_usual_ira_ccs_climate",
          "net_zero_ira_ccs_climate"
         ],
         "xaxis": "x",
         "y": [
          30,
          247
         ],
         "yaxis": "y"
        },
        {
         "alignmentgroup": "True",
         "hovertemplate": "Technology=Coal<br>scenario=%{x}<br>km=%{y}<extra></extra>",
         "legendgroup": "Coal",
         "marker": {
          "color": "#75736d",
          "pattern": {
           "shape": ""
          }
         },
         "name": "Coal",
         "offsetgroup": "Coal",
         "orientation": "v",
         "showlegend": true,
         "textposition": "auto",
         "type": "bar",
         "width": 0.5,
         "x": [
          "business_as_usual_ira_ccs_climate",
          "net_zero_ira_ccs_climate"
         ],
         "xaxis": "x",
         "y": [
          7,
          10
         ],
         "yaxis": "y"
        },
        {
         "alignmentgroup": "True",
         "hovertemplate": "Technology=Natural Gas<br>scenario=%{x}<br>km=%{y}<extra></extra>",
         "legendgroup": "Natural Gas",
         "marker": {
          "color": "#bdb59d",
          "pattern": {
           "shape": ""
          }
         },
         "name": "Natural Gas",
         "offsetgroup": "Natural Gas",
         "orientation": "v",
         "showlegend": true,
         "textposition": "auto",
         "type": "bar",
         "width": 0.5,
         "x": [
          "business_as_usual_ira_ccs_climate",
          "net_zero_ira_ccs_climate"
         ],
         "xaxis": "x",
         "y": [
          26,
          17
         ],
         "yaxis": "y"
        },
        {
         "alignmentgroup": "True",
         "hovertemplate": "Technology=Offshore Wind<br>scenario=%{x}<br>km=%{y}<extra></extra>",
         "legendgroup": "Offshore Wind",
         "marker": {
          "color": "#2B7F9E",
          "pattern": {
           "shape": ""
          }
         },
         "name": "Offshore Wind",
         "offsetgroup": "Offshore Wind",
         "orientation": "v",
         "showlegend": true,
         "textposition": "auto",
         "type": "bar",
         "width": 0.5,
         "x": [
          "business_as_usual_ira_ccs_climate",
          "net_zero_ira_ccs_climate"
         ],
         "xaxis": "x",
         "y": [
          284,
          587
         ],
         "yaxis": "y"
        },
        {
         "alignmentgroup": "True",
         "hovertemplate": "Technology=Solar CSP<br>scenario=%{x}<br>km=%{y}<extra></extra>",
         "legendgroup": "Solar CSP",
         "marker": {
          "color": "#f1781b",
          "pattern": {
           "shape": ""
          }
         },
         "name": "Solar CSP",
         "offsetgroup": "Solar CSP",
         "orientation": "v",
         "showlegend": true,
         "textposition": "auto",
         "type": "bar",
         "width": 0.5,
         "x": [
          "business_as_usual_ira_ccs_climate",
          "net_zero_ira_ccs_climate"
         ],
         "xaxis": "x",
         "y": [
          492,
          907
         ],
         "yaxis": "y"
        },
        {
         "alignmentgroup": "True",
         "hovertemplate": "Technology=Solar PV<br>scenario=%{x}<br>km=%{y}<extra></extra>",
         "legendgroup": "Solar PV",
         "marker": {
          "color": "#F7B615",
          "pattern": {
           "shape": ""
          }
         },
         "name": "Solar PV",
         "offsetgroup": "Solar PV",
         "orientation": "v",
         "showlegend": true,
         "textposition": "auto",
         "type": "bar",
         "width": 0.5,
         "x": [
          "business_as_usual_ira_ccs_climate",
          "net_zero_ira_ccs_climate"
         ],
         "xaxis": "x",
         "y": [
          6290,
          8867
         ],
         "yaxis": "y"
        },
        {
         "alignmentgroup": "True",
         "hovertemplate": "Technology=Wind<br>scenario=%{x}<br>km=%{y}<extra></extra>",
         "legendgroup": "Wind",
         "marker": {
          "color": "#95C060",
          "pattern": {
           "shape": ""
          }
         },
         "name": "Wind",
         "offsetgroup": "Wind",
         "orientation": "v",
         "showlegend": true,
         "textposition": "auto",
         "type": "bar",
         "width": 0.5,
         "x": [
          "business_as_usual_ira_ccs_climate",
          "net_zero_ira_ccs_climate"
         ],
         "xaxis": "x",
         "y": [
          10607,
          14367
         ],
         "yaxis": "y"
        }
       ],
       "layout": {
        "barmode": "relative",
        "height": 500,
        "legend": {
         "title": {
          "text": "Technology"
         },
         "tracegroupgap": 0
        },
        "margin": {
         "t": 60
        },
        "paper_bgcolor": "white",
        "plot_bgcolor": "white",
        "showlegend": true,
        "template": {
         "data": {
          "bar": [
           {
            "error_x": {
             "color": "#2a3f5f"
            },
            "error_y": {
             "color": "#2a3f5f"
            },
            "marker": {
             "line": {
              "color": "#E5ECF6",
              "width": 0.5
             },
             "pattern": {
              "fillmode": "overlay",
              "size": 10,
              "solidity": 0.2
             }
            },
            "type": "bar"
           }
          ],
          "barpolar": [
           {
            "marker": {
             "line": {
              "color": "#E5ECF6",
              "width": 0.5
             },
             "pattern": {
              "fillmode": "overlay",
              "size": 10,
              "solidity": 0.2
             }
            },
            "type": "barpolar"
           }
          ],
          "carpet": [
           {
            "aaxis": {
             "endlinecolor": "#2a3f5f",
             "gridcolor": "white",
             "linecolor": "white",
             "minorgridcolor": "white",
             "startlinecolor": "#2a3f5f"
            },
            "baxis": {
             "endlinecolor": "#2a3f5f",
             "gridcolor": "white",
             "linecolor": "white",
             "minorgridcolor": "white",
             "startlinecolor": "#2a3f5f"
            },
            "type": "carpet"
           }
          ],
          "choropleth": [
           {
            "colorbar": {
             "outlinewidth": 0,
             "ticks": ""
            },
            "type": "choropleth"
           }
          ],
          "contour": [
           {
            "colorbar": {
             "outlinewidth": 0,
             "ticks": ""
            },
            "colorscale": [
             [
              0,
              "#0d0887"
             ],
             [
              0.1111111111111111,
              "#46039f"
             ],
             [
              0.2222222222222222,
              "#7201a8"
             ],
             [
              0.3333333333333333,
              "#9c179e"
             ],
             [
              0.4444444444444444,
              "#bd3786"
             ],
             [
              0.5555555555555556,
              "#d8576b"
             ],
             [
              0.6666666666666666,
              "#ed7953"
             ],
             [
              0.7777777777777778,
              "#fb9f3a"
             ],
             [
              0.8888888888888888,
              "#fdca26"
             ],
             [
              1,
              "#f0f921"
             ]
            ],
            "type": "contour"
           }
          ],
          "contourcarpet": [
           {
            "colorbar": {
             "outlinewidth": 0,
             "ticks": ""
            },
            "type": "contourcarpet"
           }
          ],
          "heatmap": [
           {
            "colorbar": {
             "outlinewidth": 0,
             "ticks": ""
            },
            "colorscale": [
             [
              0,
              "#0d0887"
             ],
             [
              0.1111111111111111,
              "#46039f"
             ],
             [
              0.2222222222222222,
              "#7201a8"
             ],
             [
              0.3333333333333333,
              "#9c179e"
             ],
             [
              0.4444444444444444,
              "#bd3786"
             ],
             [
              0.5555555555555556,
              "#d8576b"
             ],
             [
              0.6666666666666666,
              "#ed7953"
             ],
             [
              0.7777777777777778,
              "#fb9f3a"
             ],
             [
              0.8888888888888888,
              "#fdca26"
             ],
             [
              1,
              "#f0f921"
             ]
            ],
            "type": "heatmap"
           }
          ],
          "heatmapgl": [
           {
            "colorbar": {
             "outlinewidth": 0,
             "ticks": ""
            },
            "colorscale": [
             [
              0,
              "#0d0887"
             ],
             [
              0.1111111111111111,
              "#46039f"
             ],
             [
              0.2222222222222222,
              "#7201a8"
             ],
             [
              0.3333333333333333,
              "#9c179e"
             ],
             [
              0.4444444444444444,
              "#bd3786"
             ],
             [
              0.5555555555555556,
              "#d8576b"
             ],
             [
              0.6666666666666666,
              "#ed7953"
             ],
             [
              0.7777777777777778,
              "#fb9f3a"
             ],
             [
              0.8888888888888888,
              "#fdca26"
             ],
             [
              1,
              "#f0f921"
             ]
            ],
            "type": "heatmapgl"
           }
          ],
          "histogram": [
           {
            "marker": {
             "pattern": {
              "fillmode": "overlay",
              "size": 10,
              "solidity": 0.2
             }
            },
            "type": "histogram"
           }
          ],
          "histogram2d": [
           {
            "colorbar": {
             "outlinewidth": 0,
             "ticks": ""
            },
            "colorscale": [
             [
              0,
              "#0d0887"
             ],
             [
              0.1111111111111111,
              "#46039f"
             ],
             [
              0.2222222222222222,
              "#7201a8"
             ],
             [
              0.3333333333333333,
              "#9c179e"
             ],
             [
              0.4444444444444444,
              "#bd3786"
             ],
             [
              0.5555555555555556,
              "#d8576b"
             ],
             [
              0.6666666666666666,
              "#ed7953"
             ],
             [
              0.7777777777777778,
              "#fb9f3a"
             ],
             [
              0.8888888888888888,
              "#fdca26"
             ],
             [
              1,
              "#f0f921"
             ]
            ],
            "type": "histogram2d"
           }
          ],
          "histogram2dcontour": [
           {
            "colorbar": {
             "outlinewidth": 0,
             "ticks": ""
            },
            "colorscale": [
             [
              0,
              "#0d0887"
             ],
             [
              0.1111111111111111,
              "#46039f"
             ],
             [
              0.2222222222222222,
              "#7201a8"
             ],
             [
              0.3333333333333333,
              "#9c179e"
             ],
             [
              0.4444444444444444,
              "#bd3786"
             ],
             [
              0.5555555555555556,
              "#d8576b"
             ],
             [
              0.6666666666666666,
              "#ed7953"
             ],
             [
              0.7777777777777778,
              "#fb9f3a"
             ],
             [
              0.8888888888888888,
              "#fdca26"
             ],
             [
              1,
              "#f0f921"
             ]
            ],
            "type": "histogram2dcontour"
           }
          ],
          "mesh3d": [
           {
            "colorbar": {
             "outlinewidth": 0,
             "ticks": ""
            },
            "type": "mesh3d"
           }
          ],
          "parcoords": [
           {
            "line": {
             "colorbar": {
              "outlinewidth": 0,
              "ticks": ""
             }
            },
            "type": "parcoords"
           }
          ],
          "pie": [
           {
            "automargin": true,
            "type": "pie"
           }
          ],
          "scatter": [
           {
            "fillpattern": {
             "fillmode": "overlay",
             "size": 10,
             "solidity": 0.2
            },
            "type": "scatter"
           }
          ],
          "scatter3d": [
           {
            "line": {
             "colorbar": {
              "outlinewidth": 0,
              "ticks": ""
             }
            },
            "marker": {
             "colorbar": {
              "outlinewidth": 0,
              "ticks": ""
             }
            },
            "type": "scatter3d"
           }
          ],
          "scattercarpet": [
           {
            "marker": {
             "colorbar": {
              "outlinewidth": 0,
              "ticks": ""
             }
            },
            "type": "scattercarpet"
           }
          ],
          "scattergeo": [
           {
            "marker": {
             "colorbar": {
              "outlinewidth": 0,
              "ticks": ""
             }
            },
            "type": "scattergeo"
           }
          ],
          "scattergl": [
           {
            "marker": {
             "colorbar": {
              "outlinewidth": 0,
              "ticks": ""
             }
            },
            "type": "scattergl"
           }
          ],
          "scattermapbox": [
           {
            "marker": {
             "colorbar": {
              "outlinewidth": 0,
              "ticks": ""
             }
            },
            "type": "scattermapbox"
           }
          ],
          "scatterpolar": [
           {
            "marker": {
             "colorbar": {
              "outlinewidth": 0,
              "ticks": ""
             }
            },
            "type": "scatterpolar"
           }
          ],
          "scatterpolargl": [
           {
            "marker": {
             "colorbar": {
              "outlinewidth": 0,
              "ticks": ""
             }
            },
            "type": "scatterpolargl"
           }
          ],
          "scatterternary": [
           {
            "marker": {
             "colorbar": {
              "outlinewidth": 0,
              "ticks": ""
             }
            },
            "type": "scatterternary"
           }
          ],
          "surface": [
           {
            "colorbar": {
             "outlinewidth": 0,
             "ticks": ""
            },
            "colorscale": [
             [
              0,
              "#0d0887"
             ],
             [
              0.1111111111111111,
              "#46039f"
             ],
             [
              0.2222222222222222,
              "#7201a8"
             ],
             [
              0.3333333333333333,
              "#9c179e"
             ],
             [
              0.4444444444444444,
              "#bd3786"
             ],
             [
              0.5555555555555556,
              "#d8576b"
             ],
             [
              0.6666666666666666,
              "#ed7953"
             ],
             [
              0.7777777777777778,
              "#fb9f3a"
             ],
             [
              0.8888888888888888,
              "#fdca26"
             ],
             [
              1,
              "#f0f921"
             ]
            ],
            "type": "surface"
           }
          ],
          "table": [
           {
            "cells": {
             "fill": {
              "color": "#EBF0F8"
             },
             "line": {
              "color": "white"
             }
            },
            "header": {
             "fill": {
              "color": "#C8D4E3"
             },
             "line": {
              "color": "white"
             }
            },
            "type": "table"
           }
          ]
         },
         "layout": {
          "annotationdefaults": {
           "arrowcolor": "#2a3f5f",
           "arrowhead": 0,
           "arrowwidth": 1
          },
          "autotypenumbers": "strict",
          "coloraxis": {
           "colorbar": {
            "outlinewidth": 0,
            "ticks": ""
           }
          },
          "colorscale": {
           "diverging": [
            [
             0,
             "#8e0152"
            ],
            [
             0.1,
             "#c51b7d"
            ],
            [
             0.2,
             "#de77ae"
            ],
            [
             0.3,
             "#f1b6da"
            ],
            [
             0.4,
             "#fde0ef"
            ],
            [
             0.5,
             "#f7f7f7"
            ],
            [
             0.6,
             "#e6f5d0"
            ],
            [
             0.7,
             "#b8e186"
            ],
            [
             0.8,
             "#7fbc41"
            ],
            [
             0.9,
             "#4d9221"
            ],
            [
             1,
             "#276419"
            ]
           ],
           "sequential": [
            [
             0,
             "#0d0887"
            ],
            [
             0.1111111111111111,
             "#46039f"
            ],
            [
             0.2222222222222222,
             "#7201a8"
            ],
            [
             0.3333333333333333,
             "#9c179e"
            ],
            [
             0.4444444444444444,
             "#bd3786"
            ],
            [
             0.5555555555555556,
             "#d8576b"
            ],
            [
             0.6666666666666666,
             "#ed7953"
            ],
            [
             0.7777777777777778,
             "#fb9f3a"
            ],
            [
             0.8888888888888888,
             "#fdca26"
            ],
            [
             1,
             "#f0f921"
            ]
           ],
           "sequentialminus": [
            [
             0,
             "#0d0887"
            ],
            [
             0.1111111111111111,
             "#46039f"
            ],
            [
             0.2222222222222222,
             "#7201a8"
            ],
            [
             0.3333333333333333,
             "#9c179e"
            ],
            [
             0.4444444444444444,
             "#bd3786"
            ],
            [
             0.5555555555555556,
             "#d8576b"
            ],
            [
             0.6666666666666666,
             "#ed7953"
            ],
            [
             0.7777777777777778,
             "#fb9f3a"
            ],
            [
             0.8888888888888888,
             "#fdca26"
            ],
            [
             1,
             "#f0f921"
            ]
           ]
          },
          "colorway": [
           "#636efa",
           "#EF553B",
           "#00cc96",
           "#ab63fa",
           "#FFA15A",
           "#19d3f3",
           "#FF6692",
           "#B6E880",
           "#FF97FF",
           "#FECB52"
          ],
          "font": {
           "color": "#2a3f5f"
          },
          "geo": {
           "bgcolor": "white",
           "lakecolor": "white",
           "landcolor": "#E5ECF6",
           "showlakes": true,
           "showland": true,
           "subunitcolor": "white"
          },
          "hoverlabel": {
           "align": "left"
          },
          "hovermode": "closest",
          "mapbox": {
           "style": "light"
          },
          "paper_bgcolor": "white",
          "plot_bgcolor": "#E5ECF6",
          "polar": {
           "angularaxis": {
            "gridcolor": "white",
            "linecolor": "white",
            "ticks": ""
           },
           "bgcolor": "#E5ECF6",
           "radialaxis": {
            "gridcolor": "white",
            "linecolor": "white",
            "ticks": ""
           }
          },
          "scene": {
           "xaxis": {
            "backgroundcolor": "#E5ECF6",
            "gridcolor": "white",
            "gridwidth": 2,
            "linecolor": "white",
            "showbackground": true,
            "ticks": "",
            "zerolinecolor": "white"
           },
           "yaxis": {
            "backgroundcolor": "#E5ECF6",
            "gridcolor": "white",
            "gridwidth": 2,
            "linecolor": "white",
            "showbackground": true,
            "ticks": "",
            "zerolinecolor": "white"
           },
           "zaxis": {
            "backgroundcolor": "#E5ECF6",
            "gridcolor": "white",
            "gridwidth": 2,
            "linecolor": "white",
            "showbackground": true,
            "ticks": "",
            "zerolinecolor": "white"
           }
          },
          "shapedefaults": {
           "line": {
            "color": "#2a3f5f"
           }
          },
          "ternary": {
           "aaxis": {
            "gridcolor": "white",
            "linecolor": "white",
            "ticks": ""
           },
           "baxis": {
            "gridcolor": "white",
            "linecolor": "white",
            "ticks": ""
           },
           "bgcolor": "#E5ECF6",
           "caxis": {
            "gridcolor": "white",
            "linecolor": "white",
            "ticks": ""
           }
          },
          "title": {
           "x": 0.05
          },
          "xaxis": {
           "automargin": true,
           "gridcolor": "white",
           "linecolor": "white",
           "ticks": "",
           "title": {
            "standoff": 15
           },
           "zerolinecolor": "white",
           "zerolinewidth": 2
          },
          "yaxis": {
           "automargin": true,
           "gridcolor": "white",
           "linecolor": "white",
           "ticks": "",
           "title": {
            "standoff": 15
           },
           "zerolinecolor": "white",
           "zerolinewidth": 2
          }
         }
        },
        "uniformtext": {
         "minsize": 18,
         "mode": "hide"
        },
        "width": 800,
        "xaxis": {
         "anchor": "y",
         "autorange": true,
         "domain": [
          0,
          1
         ],
         "range": [
          -0.5,
          1.5
         ],
         "title": {
          "text": "scenario"
         },
         "type": "category"
        },
        "yaxis": {
         "anchor": "x",
         "domain": [
          0,
          1
         ],
         "gridcolor": "#bdbdbd",
         "range": [
          0,
          26000
         ],
         "showgrid": true,
         "title": {
          "text": "Land Usage (km<sup>2</sup>)"
         },
         "type": "linear"
        }
       }
      },
      "text/html": [
       "<div>                            <div id=\"c1778be6-6495-4b9b-bb62-aead83ca68f7\" class=\"plotly-graph-div\" style=\"height:500px; width:800px;\"></div>            <script type=\"text/javascript\">                require([\"plotly\"], function(Plotly) {                    window.PLOTLYENV=window.PLOTLYENV || {};                                    if (document.getElementById(\"c1778be6-6495-4b9b-bb62-aead83ca68f7\")) {                    Plotly.newPlot(                        \"c1778be6-6495-4b9b-bb62-aead83ca68f7\",                        [{\"alignmentgroup\":\"True\",\"hovertemplate\":\"Technology=Biomass\\u003cbr\\u003escenario=%{x}\\u003cbr\\u003ekm=%{y}\\u003cextra\\u003e\\u003c\\u002fextra\\u003e\",\"legendgroup\":\"Biomass\",\"marker\":{\"color\":\"#713275\",\"pattern\":{\"shape\":\"\"}},\"name\":\"Biomass\",\"offsetgroup\":\"Biomass\",\"orientation\":\"v\",\"showlegend\":true,\"textposition\":\"auto\",\"x\":[\"business_as_usual_ira_ccs_climate\",\"net_zero_ira_ccs_climate\"],\"xaxis\":\"x\",\"y\":[30,247],\"yaxis\":\"y\",\"type\":\"bar\",\"width\":0.5},{\"alignmentgroup\":\"True\",\"hovertemplate\":\"Technology=Coal\\u003cbr\\u003escenario=%{x}\\u003cbr\\u003ekm=%{y}\\u003cextra\\u003e\\u003c\\u002fextra\\u003e\",\"legendgroup\":\"Coal\",\"marker\":{\"color\":\"#75736d\",\"pattern\":{\"shape\":\"\"}},\"name\":\"Coal\",\"offsetgroup\":\"Coal\",\"orientation\":\"v\",\"showlegend\":true,\"textposition\":\"auto\",\"x\":[\"business_as_usual_ira_ccs_climate\",\"net_zero_ira_ccs_climate\"],\"xaxis\":\"x\",\"y\":[7,10],\"yaxis\":\"y\",\"type\":\"bar\",\"width\":0.5},{\"alignmentgroup\":\"True\",\"hovertemplate\":\"Technology=Natural Gas\\u003cbr\\u003escenario=%{x}\\u003cbr\\u003ekm=%{y}\\u003cextra\\u003e\\u003c\\u002fextra\\u003e\",\"legendgroup\":\"Natural Gas\",\"marker\":{\"color\":\"#bdb59d\",\"pattern\":{\"shape\":\"\"}},\"name\":\"Natural Gas\",\"offsetgroup\":\"Natural Gas\",\"orientation\":\"v\",\"showlegend\":true,\"textposition\":\"auto\",\"x\":[\"business_as_usual_ira_ccs_climate\",\"net_zero_ira_ccs_climate\"],\"xaxis\":\"x\",\"y\":[26,17],\"yaxis\":\"y\",\"type\":\"bar\",\"width\":0.5},{\"alignmentgroup\":\"True\",\"hovertemplate\":\"Technology=Offshore Wind\\u003cbr\\u003escenario=%{x}\\u003cbr\\u003ekm=%{y}\\u003cextra\\u003e\\u003c\\u002fextra\\u003e\",\"legendgroup\":\"Offshore Wind\",\"marker\":{\"color\":\"#2B7F9E\",\"pattern\":{\"shape\":\"\"}},\"name\":\"Offshore Wind\",\"offsetgroup\":\"Offshore Wind\",\"orientation\":\"v\",\"showlegend\":true,\"textposition\":\"auto\",\"x\":[\"business_as_usual_ira_ccs_climate\",\"net_zero_ira_ccs_climate\"],\"xaxis\":\"x\",\"y\":[284,587],\"yaxis\":\"y\",\"type\":\"bar\",\"width\":0.5},{\"alignmentgroup\":\"True\",\"hovertemplate\":\"Technology=Solar CSP\\u003cbr\\u003escenario=%{x}\\u003cbr\\u003ekm=%{y}\\u003cextra\\u003e\\u003c\\u002fextra\\u003e\",\"legendgroup\":\"Solar CSP\",\"marker\":{\"color\":\"#f1781b\",\"pattern\":{\"shape\":\"\"}},\"name\":\"Solar CSP\",\"offsetgroup\":\"Solar CSP\",\"orientation\":\"v\",\"showlegend\":true,\"textposition\":\"auto\",\"x\":[\"business_as_usual_ira_ccs_climate\",\"net_zero_ira_ccs_climate\"],\"xaxis\":\"x\",\"y\":[492,907],\"yaxis\":\"y\",\"type\":\"bar\",\"width\":0.5},{\"alignmentgroup\":\"True\",\"hovertemplate\":\"Technology=Solar PV\\u003cbr\\u003escenario=%{x}\\u003cbr\\u003ekm=%{y}\\u003cextra\\u003e\\u003c\\u002fextra\\u003e\",\"legendgroup\":\"Solar PV\",\"marker\":{\"color\":\"#F7B615\",\"pattern\":{\"shape\":\"\"}},\"name\":\"Solar PV\",\"offsetgroup\":\"Solar PV\",\"orientation\":\"v\",\"showlegend\":true,\"textposition\":\"auto\",\"x\":[\"business_as_usual_ira_ccs_climate\",\"net_zero_ira_ccs_climate\"],\"xaxis\":\"x\",\"y\":[6290,8867],\"yaxis\":\"y\",\"type\":\"bar\",\"width\":0.5},{\"alignmentgroup\":\"True\",\"hovertemplate\":\"Technology=Wind\\u003cbr\\u003escenario=%{x}\\u003cbr\\u003ekm=%{y}\\u003cextra\\u003e\\u003c\\u002fextra\\u003e\",\"legendgroup\":\"Wind\",\"marker\":{\"color\":\"#95C060\",\"pattern\":{\"shape\":\"\"}},\"name\":\"Wind\",\"offsetgroup\":\"Wind\",\"orientation\":\"v\",\"showlegend\":true,\"textposition\":\"auto\",\"x\":[\"business_as_usual_ira_ccs_climate\",\"net_zero_ira_ccs_climate\"],\"xaxis\":\"x\",\"y\":[10607,14367],\"yaxis\":\"y\",\"type\":\"bar\",\"width\":0.5}],                        {\"template\":{\"data\":{\"histogram2dcontour\":[{\"type\":\"histogram2dcontour\",\"colorbar\":{\"outlinewidth\":0,\"ticks\":\"\"},\"colorscale\":[[0.0,\"#0d0887\"],[0.1111111111111111,\"#46039f\"],[0.2222222222222222,\"#7201a8\"],[0.3333333333333333,\"#9c179e\"],[0.4444444444444444,\"#bd3786\"],[0.5555555555555556,\"#d8576b\"],[0.6666666666666666,\"#ed7953\"],[0.7777777777777778,\"#fb9f3a\"],[0.8888888888888888,\"#fdca26\"],[1.0,\"#f0f921\"]]}],\"choropleth\":[{\"type\":\"choropleth\",\"colorbar\":{\"outlinewidth\":0,\"ticks\":\"\"}}],\"histogram2d\":[{\"type\":\"histogram2d\",\"colorbar\":{\"outlinewidth\":0,\"ticks\":\"\"},\"colorscale\":[[0.0,\"#0d0887\"],[0.1111111111111111,\"#46039f\"],[0.2222222222222222,\"#7201a8\"],[0.3333333333333333,\"#9c179e\"],[0.4444444444444444,\"#bd3786\"],[0.5555555555555556,\"#d8576b\"],[0.6666666666666666,\"#ed7953\"],[0.7777777777777778,\"#fb9f3a\"],[0.8888888888888888,\"#fdca26\"],[1.0,\"#f0f921\"]]}],\"heatmap\":[{\"type\":\"heatmap\",\"colorbar\":{\"outlinewidth\":0,\"ticks\":\"\"},\"colorscale\":[[0.0,\"#0d0887\"],[0.1111111111111111,\"#46039f\"],[0.2222222222222222,\"#7201a8\"],[0.3333333333333333,\"#9c179e\"],[0.4444444444444444,\"#bd3786\"],[0.5555555555555556,\"#d8576b\"],[0.6666666666666666,\"#ed7953\"],[0.7777777777777778,\"#fb9f3a\"],[0.8888888888888888,\"#fdca26\"],[1.0,\"#f0f921\"]]}],\"heatmapgl\":[{\"type\":\"heatmapgl\",\"colorbar\":{\"outlinewidth\":0,\"ticks\":\"\"},\"colorscale\":[[0.0,\"#0d0887\"],[0.1111111111111111,\"#46039f\"],[0.2222222222222222,\"#7201a8\"],[0.3333333333333333,\"#9c179e\"],[0.4444444444444444,\"#bd3786\"],[0.5555555555555556,\"#d8576b\"],[0.6666666666666666,\"#ed7953\"],[0.7777777777777778,\"#fb9f3a\"],[0.8888888888888888,\"#fdca26\"],[1.0,\"#f0f921\"]]}],\"contourcarpet\":[{\"type\":\"contourcarpet\",\"colorbar\":{\"outlinewidth\":0,\"ticks\":\"\"}}],\"contour\":[{\"type\":\"contour\",\"colorbar\":{\"outlinewidth\":0,\"ticks\":\"\"},\"colorscale\":[[0.0,\"#0d0887\"],[0.1111111111111111,\"#46039f\"],[0.2222222222222222,\"#7201a8\"],[0.3333333333333333,\"#9c179e\"],[0.4444444444444444,\"#bd3786\"],[0.5555555555555556,\"#d8576b\"],[0.6666666666666666,\"#ed7953\"],[0.7777777777777778,\"#fb9f3a\"],[0.8888888888888888,\"#fdca26\"],[1.0,\"#f0f921\"]]}],\"surface\":[{\"type\":\"surface\",\"colorbar\":{\"outlinewidth\":0,\"ticks\":\"\"},\"colorscale\":[[0.0,\"#0d0887\"],[0.1111111111111111,\"#46039f\"],[0.2222222222222222,\"#7201a8\"],[0.3333333333333333,\"#9c179e\"],[0.4444444444444444,\"#bd3786\"],[0.5555555555555556,\"#d8576b\"],[0.6666666666666666,\"#ed7953\"],[0.7777777777777778,\"#fb9f3a\"],[0.8888888888888888,\"#fdca26\"],[1.0,\"#f0f921\"]]}],\"mesh3d\":[{\"type\":\"mesh3d\",\"colorbar\":{\"outlinewidth\":0,\"ticks\":\"\"}}],\"scatter\":[{\"fillpattern\":{\"fillmode\":\"overlay\",\"size\":10,\"solidity\":0.2},\"type\":\"scatter\"}],\"parcoords\":[{\"type\":\"parcoords\",\"line\":{\"colorbar\":{\"outlinewidth\":0,\"ticks\":\"\"}}}],\"scatterpolargl\":[{\"type\":\"scatterpolargl\",\"marker\":{\"colorbar\":{\"outlinewidth\":0,\"ticks\":\"\"}}}],\"bar\":[{\"error_x\":{\"color\":\"#2a3f5f\"},\"error_y\":{\"color\":\"#2a3f5f\"},\"marker\":{\"line\":{\"color\":\"#E5ECF6\",\"width\":0.5},\"pattern\":{\"fillmode\":\"overlay\",\"size\":10,\"solidity\":0.2}},\"type\":\"bar\"}],\"scattergeo\":[{\"type\":\"scattergeo\",\"marker\":{\"colorbar\":{\"outlinewidth\":0,\"ticks\":\"\"}}}],\"scatterpolar\":[{\"type\":\"scatterpolar\",\"marker\":{\"colorbar\":{\"outlinewidth\":0,\"ticks\":\"\"}}}],\"histogram\":[{\"marker\":{\"pattern\":{\"fillmode\":\"overlay\",\"size\":10,\"solidity\":0.2}},\"type\":\"histogram\"}],\"scattergl\":[{\"type\":\"scattergl\",\"marker\":{\"colorbar\":{\"outlinewidth\":0,\"ticks\":\"\"}}}],\"scatter3d\":[{\"type\":\"scatter3d\",\"line\":{\"colorbar\":{\"outlinewidth\":0,\"ticks\":\"\"}},\"marker\":{\"colorbar\":{\"outlinewidth\":0,\"ticks\":\"\"}}}],\"scattermapbox\":[{\"type\":\"scattermapbox\",\"marker\":{\"colorbar\":{\"outlinewidth\":0,\"ticks\":\"\"}}}],\"scatterternary\":[{\"type\":\"scatterternary\",\"marker\":{\"colorbar\":{\"outlinewidth\":0,\"ticks\":\"\"}}}],\"scattercarpet\":[{\"type\":\"scattercarpet\",\"marker\":{\"colorbar\":{\"outlinewidth\":0,\"ticks\":\"\"}}}],\"carpet\":[{\"aaxis\":{\"endlinecolor\":\"#2a3f5f\",\"gridcolor\":\"white\",\"linecolor\":\"white\",\"minorgridcolor\":\"white\",\"startlinecolor\":\"#2a3f5f\"},\"baxis\":{\"endlinecolor\":\"#2a3f5f\",\"gridcolor\":\"white\",\"linecolor\":\"white\",\"minorgridcolor\":\"white\",\"startlinecolor\":\"#2a3f5f\"},\"type\":\"carpet\"}],\"table\":[{\"cells\":{\"fill\":{\"color\":\"#EBF0F8\"},\"line\":{\"color\":\"white\"}},\"header\":{\"fill\":{\"color\":\"#C8D4E3\"},\"line\":{\"color\":\"white\"}},\"type\":\"table\"}],\"barpolar\":[{\"marker\":{\"line\":{\"color\":\"#E5ECF6\",\"width\":0.5},\"pattern\":{\"fillmode\":\"overlay\",\"size\":10,\"solidity\":0.2}},\"type\":\"barpolar\"}],\"pie\":[{\"automargin\":true,\"type\":\"pie\"}]},\"layout\":{\"autotypenumbers\":\"strict\",\"colorway\":[\"#636efa\",\"#EF553B\",\"#00cc96\",\"#ab63fa\",\"#FFA15A\",\"#19d3f3\",\"#FF6692\",\"#B6E880\",\"#FF97FF\",\"#FECB52\"],\"font\":{\"color\":\"#2a3f5f\"},\"hovermode\":\"closest\",\"hoverlabel\":{\"align\":\"left\"},\"paper_bgcolor\":\"white\",\"plot_bgcolor\":\"#E5ECF6\",\"polar\":{\"bgcolor\":\"#E5ECF6\",\"angularaxis\":{\"gridcolor\":\"white\",\"linecolor\":\"white\",\"ticks\":\"\"},\"radialaxis\":{\"gridcolor\":\"white\",\"linecolor\":\"white\",\"ticks\":\"\"}},\"ternary\":{\"bgcolor\":\"#E5ECF6\",\"aaxis\":{\"gridcolor\":\"white\",\"linecolor\":\"white\",\"ticks\":\"\"},\"baxis\":{\"gridcolor\":\"white\",\"linecolor\":\"white\",\"ticks\":\"\"},\"caxis\":{\"gridcolor\":\"white\",\"linecolor\":\"white\",\"ticks\":\"\"}},\"coloraxis\":{\"colorbar\":{\"outlinewidth\":0,\"ticks\":\"\"}},\"colorscale\":{\"sequential\":[[0.0,\"#0d0887\"],[0.1111111111111111,\"#46039f\"],[0.2222222222222222,\"#7201a8\"],[0.3333333333333333,\"#9c179e\"],[0.4444444444444444,\"#bd3786\"],[0.5555555555555556,\"#d8576b\"],[0.6666666666666666,\"#ed7953\"],[0.7777777777777778,\"#fb9f3a\"],[0.8888888888888888,\"#fdca26\"],[1.0,\"#f0f921\"]],\"sequentialminus\":[[0.0,\"#0d0887\"],[0.1111111111111111,\"#46039f\"],[0.2222222222222222,\"#7201a8\"],[0.3333333333333333,\"#9c179e\"],[0.4444444444444444,\"#bd3786\"],[0.5555555555555556,\"#d8576b\"],[0.6666666666666666,\"#ed7953\"],[0.7777777777777778,\"#fb9f3a\"],[0.8888888888888888,\"#fdca26\"],[1.0,\"#f0f921\"]],\"diverging\":[[0,\"#8e0152\"],[0.1,\"#c51b7d\"],[0.2,\"#de77ae\"],[0.3,\"#f1b6da\"],[0.4,\"#fde0ef\"],[0.5,\"#f7f7f7\"],[0.6,\"#e6f5d0\"],[0.7,\"#b8e186\"],[0.8,\"#7fbc41\"],[0.9,\"#4d9221\"],[1,\"#276419\"]]},\"xaxis\":{\"gridcolor\":\"white\",\"linecolor\":\"white\",\"ticks\":\"\",\"title\":{\"standoff\":15},\"zerolinecolor\":\"white\",\"automargin\":true,\"zerolinewidth\":2},\"yaxis\":{\"gridcolor\":\"white\",\"linecolor\":\"white\",\"ticks\":\"\",\"title\":{\"standoff\":15},\"zerolinecolor\":\"white\",\"automargin\":true,\"zerolinewidth\":2},\"scene\":{\"xaxis\":{\"backgroundcolor\":\"#E5ECF6\",\"gridcolor\":\"white\",\"linecolor\":\"white\",\"showbackground\":true,\"ticks\":\"\",\"zerolinecolor\":\"white\",\"gridwidth\":2},\"yaxis\":{\"backgroundcolor\":\"#E5ECF6\",\"gridcolor\":\"white\",\"linecolor\":\"white\",\"showbackground\":true,\"ticks\":\"\",\"zerolinecolor\":\"white\",\"gridwidth\":2},\"zaxis\":{\"backgroundcolor\":\"#E5ECF6\",\"gridcolor\":\"white\",\"linecolor\":\"white\",\"showbackground\":true,\"ticks\":\"\",\"zerolinecolor\":\"white\",\"gridwidth\":2}},\"shapedefaults\":{\"line\":{\"color\":\"#2a3f5f\"}},\"annotationdefaults\":{\"arrowcolor\":\"#2a3f5f\",\"arrowhead\":0,\"arrowwidth\":1},\"geo\":{\"bgcolor\":\"white\",\"landcolor\":\"#E5ECF6\",\"subunitcolor\":\"white\",\"showland\":true,\"showlakes\":true,\"lakecolor\":\"white\"},\"title\":{\"x\":0.05},\"mapbox\":{\"style\":\"light\"}}},\"xaxis\":{\"anchor\":\"y\",\"domain\":[0.0,1.0],\"title\":{\"text\":\"scenario\"}},\"yaxis\":{\"anchor\":\"x\",\"domain\":[0.0,1.0],\"title\":{\"text\":\"Land Usage (km\\u003csup\\u003e2\\u003c\\u002fsup\\u003e)\"},\"range\":[0,26000],\"showgrid\":true,\"gridcolor\":\"#bdbdbd\"},\"legend\":{\"title\":{\"text\":\"Technology\"},\"tracegroupgap\":0},\"margin\":{\"t\":60},\"barmode\":\"relative\",\"height\":500,\"width\":800,\"uniformtext\":{\"minsize\":18,\"mode\":\"hide\"},\"plot_bgcolor\":\"white\",\"paper_bgcolor\":\"white\",\"showlegend\":true},                        {\"responsive\": true}                    ).then(function(){\n",
       "                            \n",
       "var gd = document.getElementById('c1778be6-6495-4b9b-bb62-aead83ca68f7');\n",
       "var x = new MutationObserver(function (mutations, observer) {{\n",
       "        var display = window.getComputedStyle(gd).display;\n",
       "        if (!display || display === 'none') {{\n",
       "            console.log([gd, 'removed!']);\n",
       "            Plotly.purge(gd);\n",
       "            observer.disconnect();\n",
       "        }}\n",
       "}});\n",
       "\n",
       "// Listen for the removal of the full notebook cells\n",
       "var notebookContainer = gd.closest('#notebook-container');\n",
       "if (notebookContainer) {{\n",
       "    x.observe(notebookContainer, {childList: true});\n",
       "}}\n",
       "\n",
       "// Listen for the clearing of the current output cell\n",
       "var outputEl = gd.closest('.output');\n",
       "if (outputEl) {{\n",
       "    x.observe(outputEl, {childList: true});\n",
       "}}\n",
       "\n",
       "                        })                };                });            </script>        </div>"
      ]
     },
     "metadata": {},
     "output_type": "display_data"
    }
   ],
   "source": [
    "df_bar = df.copy()\n",
    "\n",
    "df_bar = df_bar[df_bar.cerf_sited==1]\n",
    "    \n",
    "df_bar = df_bar[['scenario', 'tech_name_simple', 'unit_size_mw']].groupby(['scenario','tech_name_simple'], as_index=False).count()\n",
    "    \n",
    "df_bar = df_bar.rename(columns={'tech_name_simple':'Technology', 'unit_size_mw':'km'})\n",
    "\n",
    "fig = px.bar(df_bar, y='km', x=\"scenario\", title='',\n",
    "             color=\"Technology\",\n",
    "             color_discrete_map=color_map_dict,\n",
    "                width=800, height=500)\n",
    "\n",
    "fig.update_layout(uniformtext_minsize=18, uniformtext_mode='hide', yaxis_range=[0,26000], plot_bgcolor = 'white', paper_bgcolor ='white', \n",
    "                 )\n",
    "fig.update_layout(showlegend=True)\n",
    "fig.update_yaxes(title_text=\"Land Usage (km<sup>2</sup>)\", showgrid = True,  gridcolor = '#bdbdbd')\n",
    "fig.update_traces(width=.5)\n",
    "output_file_name = 'barchart_total_scenario_land_use.png'\n",
    "fig.write_image(os.path.join(fig_dir , output_file_name))\n",
    "fig.show()"
   ]
  },
  {
   "cell_type": "markdown",
   "id": "41d91189-c43d-4630-a8e3-4cbde8fd51a4",
   "metadata": {},
   "source": [
    "### Comparison of New Capacity Deployments Between Scenarios"
   ]
  },
  {
   "cell_type": "code",
   "execution_count": 9,
   "id": "fa3fa530-84eb-43fe-a275-e13f69a717f1",
   "metadata": {},
   "outputs": [
    {
     "data": {
      "text/html": [
       "<div>\n",
       "<style scoped>\n",
       "    .dataframe tbody tr th:only-of-type {\n",
       "        vertical-align: middle;\n",
       "    }\n",
       "\n",
       "    .dataframe tbody tr th {\n",
       "        vertical-align: top;\n",
       "    }\n",
       "\n",
       "    .dataframe thead th {\n",
       "        text-align: right;\n",
       "    }\n",
       "</style>\n",
       "<table border=\"1\" class=\"dataframe\">\n",
       "  <thead>\n",
       "    <tr style=\"text-align: right;\">\n",
       "      <th></th>\n",
       "      <th>scenario</th>\n",
       "      <th>unit_size_mw</th>\n",
       "    </tr>\n",
       "  </thead>\n",
       "  <tbody>\n",
       "    <tr>\n",
       "      <th>0</th>\n",
       "      <td>business_as_usual_ira_ccs_climate</td>\n",
       "      <td>397511.5</td>\n",
       "    </tr>\n",
       "    <tr>\n",
       "      <th>1</th>\n",
       "      <td>net_zero_ira_ccs_climate</td>\n",
       "      <td>571703.0</td>\n",
       "    </tr>\n",
       "  </tbody>\n",
       "</table>\n",
       "</div>"
      ],
      "text/plain": [
       "                            scenario  unit_size_mw\n",
       "0  business_as_usual_ira_ccs_climate      397511.5\n",
       "1           net_zero_ira_ccs_climate      571703.0"
      ]
     },
     "execution_count": 9,
     "metadata": {},
     "output_type": "execute_result"
    }
   ],
   "source": [
    "df_bar = df.copy()\n",
    "df_bar = df_bar[df_bar.cerf_sited==1]\n",
    "df_bar[['scenario', 'unit_size_mw']].groupby(['scenario'], as_index=False).sum()"
   ]
  },
  {
   "cell_type": "markdown",
   "id": "35dfba52-8785-4691-b55f-49ef5828f136",
   "metadata": {},
   "source": [
    "### Capacity Additions and Retirements by Technology"
   ]
  },
  {
   "cell_type": "markdown",
   "id": "afec6d28-0654-4dfe-8fac-0b21c07b4baa",
   "metadata": {},
   "source": [
    "#### Net Zero"
   ]
  },
  {
   "cell_type": "code",
   "execution_count": 10,
   "id": "b20f049e-1e19-444b-9f4b-74f9e6096ba8",
   "metadata": {},
   "outputs": [
    {
     "data": {
      "application/vnd.plotly.v1+json": {
       "config": {
        "plotlyServerURL": "https://plot.ly"
       },
       "data": [
        {
         "alignmentgroup": "True",
         "hovertemplate": "Technology=Biomass<br>Year=%{x}<br>GW=%{y}<extra></extra>",
         "legendgroup": "Biomass",
         "marker": {
          "color": "#713275",
          "pattern": {
           "shape": ""
          }
         },
         "name": "Biomass",
         "offsetgroup": "Biomass",
         "orientation": "v",
         "showlegend": true,
         "textposition": "auto",
         "type": "bar",
         "width": 3,
         "x": [
          2025,
          2030,
          2035,
          2040,
          2045,
          2050,
          2025,
          2030,
          2035,
          2040,
          2045
         ],
         "xaxis": "x",
         "y": [
          0.1,
          0.1,
          2,
          1.6500000000000001,
          4.9,
          4.95,
          -0.30722000019,
          -0.33520000221,
          -0.25839100001,
          -0.30208200128,
          -0.28953200099
         ],
         "yaxis": "y"
        },
        {
         "alignmentgroup": "True",
         "hovertemplate": "Technology=Coal<br>Year=%{x}<br>GW=%{y}<extra></extra>",
         "legendgroup": "Coal",
         "marker": {
          "color": "#75736d",
          "pattern": {
           "shape": ""
          }
         },
         "name": "Coal",
         "offsetgroup": "Coal",
         "orientation": "v",
         "showlegend": true,
         "textposition": "auto",
         "type": "bar",
         "width": 3,
         "x": [
          2030,
          2035,
          2040,
          2045,
          2050,
          2025,
          2030,
          2035
         ],
         "xaxis": "x",
         "y": [
          0.65,
          1.9500000000000002,
          1.9500000000000002,
          1.3,
          0.65,
          -21.899493002,
          -1.577,
          -1.545
         ],
         "yaxis": "y"
        },
        {
         "alignmentgroup": "True",
         "hovertemplate": "Technology=Natural Gas<br>Year=%{x}<br>GW=%{y}<extra></extra>",
         "legendgroup": "Natural Gas",
         "marker": {
          "color": "#bdb59d",
          "pattern": {
           "shape": ""
          }
         },
         "name": "Natural Gas",
         "offsetgroup": "Natural Gas",
         "orientation": "v",
         "showlegend": true,
         "textposition": "auto",
         "type": "bar",
         "width": 3,
         "x": [
          2025,
          2030,
          2035,
          2040,
          2045,
          2050,
          2025,
          2030,
          2035
         ],
         "xaxis": "x",
         "y": [
          0.646,
          1.9380000000000002,
          1.9380000000000002,
          3.23,
          1.9380000000000002,
          1.292,
          -31.30097394075,
          -12.72422296781,
          -42.6251230258
         ],
         "yaxis": "y"
        },
        {
         "alignmentgroup": "True",
         "hovertemplate": "Technology=Offshore Wind<br>Year=%{x}<br>GW=%{y}<extra></extra>",
         "legendgroup": "Offshore Wind",
         "marker": {
          "color": "#2B7F9E",
          "pattern": {
           "shape": ""
          }
         },
         "name": "Offshore Wind",
         "offsetgroup": "Offshore Wind",
         "orientation": "v",
         "showlegend": true,
         "textposition": "auto",
         "type": "bar",
         "width": 3,
         "x": [
          2030,
          2035,
          2040,
          2045,
          2050
         ],
         "xaxis": "x",
         "y": [
          0.945,
          1.755,
          1.2,
          2.142,
          3.7439999999999998
         ],
         "yaxis": "y"
        },
        {
         "alignmentgroup": "True",
         "hovertemplate": "Technology=Solar CSP<br>Year=%{x}<br>GW=%{y}<extra></extra>",
         "legendgroup": "Solar CSP",
         "marker": {
          "color": "#f1781b",
          "pattern": {
           "shape": ""
          }
         },
         "name": "Solar CSP",
         "offsetgroup": "Solar CSP",
         "orientation": "v",
         "showlegend": true,
         "textposition": "auto",
         "type": "bar",
         "width": 3,
         "x": [
          2025,
          2030,
          2035,
          2040,
          2045,
          2050,
          2045
         ],
         "xaxis": "x",
         "y": [
          5.8500000000000005,
          5.2,
          13.350000000000001,
          1.4000000000000001,
          4.2,
          15.350000000000001,
          -1.720099999
         ],
         "yaxis": "y"
        },
        {
         "alignmentgroup": "True",
         "hovertemplate": "Technology=Solar PV<br>Year=%{x}<br>GW=%{y}<extra></extra>",
         "legendgroup": "Solar PV",
         "marker": {
          "color": "#F7B615",
          "pattern": {
           "shape": ""
          }
         },
         "name": "Solar PV",
         "offsetgroup": "Solar PV",
         "orientation": "v",
         "showlegend": true,
         "textposition": "auto",
         "type": "bar",
         "width": 3,
         "x": [
          2025,
          2030,
          2035,
          2040,
          2045,
          2050,
          2045
         ],
         "xaxis": "x",
         "y": [
          61.86,
          38.1,
          79.25999999999999,
          6.39,
          25.5,
          54.9,
          -14.03388666
         ],
         "yaxis": "y"
        },
        {
         "alignmentgroup": "True",
         "hovertemplate": "Technology=Wind<br>Year=%{x}<br>GW=%{y}<extra></extra>",
         "legendgroup": "Wind",
         "marker": {
          "color": "#95C060",
          "pattern": {
           "shape": ""
          }
         },
         "name": "Wind",
         "offsetgroup": "Wind",
         "orientation": "v",
         "showlegend": true,
         "textposition": "auto",
         "type": "bar",
         "width": 3,
         "x": [
          2025,
          2030,
          2035,
          2040,
          2045,
          2050,
          2045
         ],
         "xaxis": "x",
         "y": [
          62.448,
          31.32,
          40.4745,
          3.5475000000000003,
          23.499000000000002,
          58.086000000000006,
          -23.0648899744
         ],
         "yaxis": "y"
        },
        {
         "alignmentgroup": "True",
         "hovertemplate": "Technology=Oil<br>Year=%{x}<br>GW=%{y}<extra></extra>",
         "legendgroup": "Oil",
         "marker": {
          "color": "#BB3B1C",
          "pattern": {
           "shape": ""
          }
         },
         "name": "Oil",
         "offsetgroup": "Oil",
         "orientation": "v",
         "showlegend": true,
         "textposition": "auto",
         "type": "bar",
         "width": 3,
         "x": [
          2025,
          2030,
          2035
         ],
         "xaxis": "x",
         "y": [
          -0.198,
          -0.144400002,
          -0.3292000022
         ],
         "yaxis": "y"
        }
       ],
       "layout": {
        "barmode": "relative",
        "height": 500,
        "legend": {
         "title": {
          "text": "Technology"
         },
         "tracegroupgap": 0
        },
        "paper_bgcolor": "white",
        "plot_bgcolor": "white",
        "shapes": [
         {
          "line": {
           "color": "black",
           "dash": "dash",
           "width": 3
          },
          "type": "line",
          "x0": 0,
          "x1": 1,
          "xref": "x domain",
          "y0": 0,
          "y1": 0,
          "yref": "y"
         }
        ],
        "template": {
         "data": {
          "bar": [
           {
            "error_x": {
             "color": "#2a3f5f"
            },
            "error_y": {
             "color": "#2a3f5f"
            },
            "marker": {
             "line": {
              "color": "#E5ECF6",
              "width": 0.5
             },
             "pattern": {
              "fillmode": "overlay",
              "size": 10,
              "solidity": 0.2
             }
            },
            "type": "bar"
           }
          ],
          "barpolar": [
           {
            "marker": {
             "line": {
              "color": "#E5ECF6",
              "width": 0.5
             },
             "pattern": {
              "fillmode": "overlay",
              "size": 10,
              "solidity": 0.2
             }
            },
            "type": "barpolar"
           }
          ],
          "carpet": [
           {
            "aaxis": {
             "endlinecolor": "#2a3f5f",
             "gridcolor": "white",
             "linecolor": "white",
             "minorgridcolor": "white",
             "startlinecolor": "#2a3f5f"
            },
            "baxis": {
             "endlinecolor": "#2a3f5f",
             "gridcolor": "white",
             "linecolor": "white",
             "minorgridcolor": "white",
             "startlinecolor": "#2a3f5f"
            },
            "type": "carpet"
           }
          ],
          "choropleth": [
           {
            "colorbar": {
             "outlinewidth": 0,
             "ticks": ""
            },
            "type": "choropleth"
           }
          ],
          "contour": [
           {
            "colorbar": {
             "outlinewidth": 0,
             "ticks": ""
            },
            "colorscale": [
             [
              0,
              "#0d0887"
             ],
             [
              0.1111111111111111,
              "#46039f"
             ],
             [
              0.2222222222222222,
              "#7201a8"
             ],
             [
              0.3333333333333333,
              "#9c179e"
             ],
             [
              0.4444444444444444,
              "#bd3786"
             ],
             [
              0.5555555555555556,
              "#d8576b"
             ],
             [
              0.6666666666666666,
              "#ed7953"
             ],
             [
              0.7777777777777778,
              "#fb9f3a"
             ],
             [
              0.8888888888888888,
              "#fdca26"
             ],
             [
              1,
              "#f0f921"
             ]
            ],
            "type": "contour"
           }
          ],
          "contourcarpet": [
           {
            "colorbar": {
             "outlinewidth": 0,
             "ticks": ""
            },
            "type": "contourcarpet"
           }
          ],
          "heatmap": [
           {
            "colorbar": {
             "outlinewidth": 0,
             "ticks": ""
            },
            "colorscale": [
             [
              0,
              "#0d0887"
             ],
             [
              0.1111111111111111,
              "#46039f"
             ],
             [
              0.2222222222222222,
              "#7201a8"
             ],
             [
              0.3333333333333333,
              "#9c179e"
             ],
             [
              0.4444444444444444,
              "#bd3786"
             ],
             [
              0.5555555555555556,
              "#d8576b"
             ],
             [
              0.6666666666666666,
              "#ed7953"
             ],
             [
              0.7777777777777778,
              "#fb9f3a"
             ],
             [
              0.8888888888888888,
              "#fdca26"
             ],
             [
              1,
              "#f0f921"
             ]
            ],
            "type": "heatmap"
           }
          ],
          "heatmapgl": [
           {
            "colorbar": {
             "outlinewidth": 0,
             "ticks": ""
            },
            "colorscale": [
             [
              0,
              "#0d0887"
             ],
             [
              0.1111111111111111,
              "#46039f"
             ],
             [
              0.2222222222222222,
              "#7201a8"
             ],
             [
              0.3333333333333333,
              "#9c179e"
             ],
             [
              0.4444444444444444,
              "#bd3786"
             ],
             [
              0.5555555555555556,
              "#d8576b"
             ],
             [
              0.6666666666666666,
              "#ed7953"
             ],
             [
              0.7777777777777778,
              "#fb9f3a"
             ],
             [
              0.8888888888888888,
              "#fdca26"
             ],
             [
              1,
              "#f0f921"
             ]
            ],
            "type": "heatmapgl"
           }
          ],
          "histogram": [
           {
            "marker": {
             "pattern": {
              "fillmode": "overlay",
              "size": 10,
              "solidity": 0.2
             }
            },
            "type": "histogram"
           }
          ],
          "histogram2d": [
           {
            "colorbar": {
             "outlinewidth": 0,
             "ticks": ""
            },
            "colorscale": [
             [
              0,
              "#0d0887"
             ],
             [
              0.1111111111111111,
              "#46039f"
             ],
             [
              0.2222222222222222,
              "#7201a8"
             ],
             [
              0.3333333333333333,
              "#9c179e"
             ],
             [
              0.4444444444444444,
              "#bd3786"
             ],
             [
              0.5555555555555556,
              "#d8576b"
             ],
             [
              0.6666666666666666,
              "#ed7953"
             ],
             [
              0.7777777777777778,
              "#fb9f3a"
             ],
             [
              0.8888888888888888,
              "#fdca26"
             ],
             [
              1,
              "#f0f921"
             ]
            ],
            "type": "histogram2d"
           }
          ],
          "histogram2dcontour": [
           {
            "colorbar": {
             "outlinewidth": 0,
             "ticks": ""
            },
            "colorscale": [
             [
              0,
              "#0d0887"
             ],
             [
              0.1111111111111111,
              "#46039f"
             ],
             [
              0.2222222222222222,
              "#7201a8"
             ],
             [
              0.3333333333333333,
              "#9c179e"
             ],
             [
              0.4444444444444444,
              "#bd3786"
             ],
             [
              0.5555555555555556,
              "#d8576b"
             ],
             [
              0.6666666666666666,
              "#ed7953"
             ],
             [
              0.7777777777777778,
              "#fb9f3a"
             ],
             [
              0.8888888888888888,
              "#fdca26"
             ],
             [
              1,
              "#f0f921"
             ]
            ],
            "type": "histogram2dcontour"
           }
          ],
          "mesh3d": [
           {
            "colorbar": {
             "outlinewidth": 0,
             "ticks": ""
            },
            "type": "mesh3d"
           }
          ],
          "parcoords": [
           {
            "line": {
             "colorbar": {
              "outlinewidth": 0,
              "ticks": ""
             }
            },
            "type": "parcoords"
           }
          ],
          "pie": [
           {
            "automargin": true,
            "type": "pie"
           }
          ],
          "scatter": [
           {
            "fillpattern": {
             "fillmode": "overlay",
             "size": 10,
             "solidity": 0.2
            },
            "type": "scatter"
           }
          ],
          "scatter3d": [
           {
            "line": {
             "colorbar": {
              "outlinewidth": 0,
              "ticks": ""
             }
            },
            "marker": {
             "colorbar": {
              "outlinewidth": 0,
              "ticks": ""
             }
            },
            "type": "scatter3d"
           }
          ],
          "scattercarpet": [
           {
            "marker": {
             "colorbar": {
              "outlinewidth": 0,
              "ticks": ""
             }
            },
            "type": "scattercarpet"
           }
          ],
          "scattergeo": [
           {
            "marker": {
             "colorbar": {
              "outlinewidth": 0,
              "ticks": ""
             }
            },
            "type": "scattergeo"
           }
          ],
          "scattergl": [
           {
            "marker": {
             "colorbar": {
              "outlinewidth": 0,
              "ticks": ""
             }
            },
            "type": "scattergl"
           }
          ],
          "scattermapbox": [
           {
            "marker": {
             "colorbar": {
              "outlinewidth": 0,
              "ticks": ""
             }
            },
            "type": "scattermapbox"
           }
          ],
          "scatterpolar": [
           {
            "marker": {
             "colorbar": {
              "outlinewidth": 0,
              "ticks": ""
             }
            },
            "type": "scatterpolar"
           }
          ],
          "scatterpolargl": [
           {
            "marker": {
             "colorbar": {
              "outlinewidth": 0,
              "ticks": ""
             }
            },
            "type": "scatterpolargl"
           }
          ],
          "scatterternary": [
           {
            "marker": {
             "colorbar": {
              "outlinewidth": 0,
              "ticks": ""
             }
            },
            "type": "scatterternary"
           }
          ],
          "surface": [
           {
            "colorbar": {
             "outlinewidth": 0,
             "ticks": ""
            },
            "colorscale": [
             [
              0,
              "#0d0887"
             ],
             [
              0.1111111111111111,
              "#46039f"
             ],
             [
              0.2222222222222222,
              "#7201a8"
             ],
             [
              0.3333333333333333,
              "#9c179e"
             ],
             [
              0.4444444444444444,
              "#bd3786"
             ],
             [
              0.5555555555555556,
              "#d8576b"
             ],
             [
              0.6666666666666666,
              "#ed7953"
             ],
             [
              0.7777777777777778,
              "#fb9f3a"
             ],
             [
              0.8888888888888888,
              "#fdca26"
             ],
             [
              1,
              "#f0f921"
             ]
            ],
            "type": "surface"
           }
          ],
          "table": [
           {
            "cells": {
             "fill": {
              "color": "#EBF0F8"
             },
             "line": {
              "color": "white"
             }
            },
            "header": {
             "fill": {
              "color": "#C8D4E3"
             },
             "line": {
              "color": "white"
             }
            },
            "type": "table"
           }
          ]
         },
         "layout": {
          "annotationdefaults": {
           "arrowcolor": "#2a3f5f",
           "arrowhead": 0,
           "arrowwidth": 1
          },
          "autotypenumbers": "strict",
          "coloraxis": {
           "colorbar": {
            "outlinewidth": 0,
            "ticks": ""
           }
          },
          "colorscale": {
           "diverging": [
            [
             0,
             "#8e0152"
            ],
            [
             0.1,
             "#c51b7d"
            ],
            [
             0.2,
             "#de77ae"
            ],
            [
             0.3,
             "#f1b6da"
            ],
            [
             0.4,
             "#fde0ef"
            ],
            [
             0.5,
             "#f7f7f7"
            ],
            [
             0.6,
             "#e6f5d0"
            ],
            [
             0.7,
             "#b8e186"
            ],
            [
             0.8,
             "#7fbc41"
            ],
            [
             0.9,
             "#4d9221"
            ],
            [
             1,
             "#276419"
            ]
           ],
           "sequential": [
            [
             0,
             "#0d0887"
            ],
            [
             0.1111111111111111,
             "#46039f"
            ],
            [
             0.2222222222222222,
             "#7201a8"
            ],
            [
             0.3333333333333333,
             "#9c179e"
            ],
            [
             0.4444444444444444,
             "#bd3786"
            ],
            [
             0.5555555555555556,
             "#d8576b"
            ],
            [
             0.6666666666666666,
             "#ed7953"
            ],
            [
             0.7777777777777778,
             "#fb9f3a"
            ],
            [
             0.8888888888888888,
             "#fdca26"
            ],
            [
             1,
             "#f0f921"
            ]
           ],
           "sequentialminus": [
            [
             0,
             "#0d0887"
            ],
            [
             0.1111111111111111,
             "#46039f"
            ],
            [
             0.2222222222222222,
             "#7201a8"
            ],
            [
             0.3333333333333333,
             "#9c179e"
            ],
            [
             0.4444444444444444,
             "#bd3786"
            ],
            [
             0.5555555555555556,
             "#d8576b"
            ],
            [
             0.6666666666666666,
             "#ed7953"
            ],
            [
             0.7777777777777778,
             "#fb9f3a"
            ],
            [
             0.8888888888888888,
             "#fdca26"
            ],
            [
             1,
             "#f0f921"
            ]
           ]
          },
          "colorway": [
           "#636efa",
           "#EF553B",
           "#00cc96",
           "#ab63fa",
           "#FFA15A",
           "#19d3f3",
           "#FF6692",
           "#B6E880",
           "#FF97FF",
           "#FECB52"
          ],
          "font": {
           "color": "#2a3f5f"
          },
          "geo": {
           "bgcolor": "white",
           "lakecolor": "white",
           "landcolor": "#E5ECF6",
           "showlakes": true,
           "showland": true,
           "subunitcolor": "white"
          },
          "hoverlabel": {
           "align": "left"
          },
          "hovermode": "closest",
          "mapbox": {
           "style": "light"
          },
          "paper_bgcolor": "white",
          "plot_bgcolor": "#E5ECF6",
          "polar": {
           "angularaxis": {
            "gridcolor": "white",
            "linecolor": "white",
            "ticks": ""
           },
           "bgcolor": "#E5ECF6",
           "radialaxis": {
            "gridcolor": "white",
            "linecolor": "white",
            "ticks": ""
           }
          },
          "scene": {
           "xaxis": {
            "backgroundcolor": "#E5ECF6",
            "gridcolor": "white",
            "gridwidth": 2,
            "linecolor": "white",
            "showbackground": true,
            "ticks": "",
            "zerolinecolor": "white"
           },
           "yaxis": {
            "backgroundcolor": "#E5ECF6",
            "gridcolor": "white",
            "gridwidth": 2,
            "linecolor": "white",
            "showbackground": true,
            "ticks": "",
            "zerolinecolor": "white"
           },
           "zaxis": {
            "backgroundcolor": "#E5ECF6",
            "gridcolor": "white",
            "gridwidth": 2,
            "linecolor": "white",
            "showbackground": true,
            "ticks": "",
            "zerolinecolor": "white"
           }
          },
          "shapedefaults": {
           "line": {
            "color": "#2a3f5f"
           }
          },
          "ternary": {
           "aaxis": {
            "gridcolor": "white",
            "linecolor": "white",
            "ticks": ""
           },
           "baxis": {
            "gridcolor": "white",
            "linecolor": "white",
            "ticks": ""
           },
           "bgcolor": "#E5ECF6",
           "caxis": {
            "gridcolor": "white",
            "linecolor": "white",
            "ticks": ""
           }
          },
          "title": {
           "x": 0.05
          },
          "xaxis": {
           "automargin": true,
           "gridcolor": "white",
           "linecolor": "white",
           "ticks": "",
           "title": {
            "standoff": 15
           },
           "zerolinecolor": "white",
           "zerolinewidth": 2
          },
          "yaxis": {
           "automargin": true,
           "gridcolor": "white",
           "linecolor": "white",
           "ticks": "",
           "title": {
            "standoff": 15
           },
           "zerolinecolor": "white",
           "zerolinewidth": 2
          }
         }
        },
        "title": {
         "text": "Clean Grid, New Capacity Additions and Retirements by Year"
        },
        "uniformtext": {
         "minsize": 18,
         "mode": "hide"
        },
        "width": 900,
        "xaxis": {
         "anchor": "y",
         "autorange": true,
         "domain": [
          0,
          1
         ],
         "range": [
          2022.5,
          2052.5
         ],
         "tickmode": "array",
         "ticktext": [
          "2025",
          "2030",
          "2035",
          "2040",
          "2045",
          "2050"
         ],
         "tickvals": [
          2025,
          2030,
          2035,
          2040,
          2045,
          2050
         ],
         "title": {
          "text": "Year"
         },
         "type": "linear"
        },
        "yaxis": {
         "anchor": "x",
         "domain": [
          0,
          1
         ],
         "gridcolor": "#bdbdbd",
         "range": [
          -75,
          150
         ],
         "showgrid": true,
         "title": {
          "text": "GW"
         },
         "type": "linear"
        }
       }
      },
      "text/html": [
       "<div>                            <div id=\"dbe23cc4-d406-4560-8240-a602671b0b21\" class=\"plotly-graph-div\" style=\"height:500px; width:900px;\"></div>            <script type=\"text/javascript\">                require([\"plotly\"], function(Plotly) {                    window.PLOTLYENV=window.PLOTLYENV || {};                                    if (document.getElementById(\"dbe23cc4-d406-4560-8240-a602671b0b21\")) {                    Plotly.newPlot(                        \"dbe23cc4-d406-4560-8240-a602671b0b21\",                        [{\"alignmentgroup\":\"True\",\"hovertemplate\":\"Technology=Biomass\\u003cbr\\u003eYear=%{x}\\u003cbr\\u003eGW=%{y}\\u003cextra\\u003e\\u003c\\u002fextra\\u003e\",\"legendgroup\":\"Biomass\",\"marker\":{\"color\":\"#713275\",\"pattern\":{\"shape\":\"\"}},\"name\":\"Biomass\",\"offsetgroup\":\"Biomass\",\"orientation\":\"v\",\"showlegend\":true,\"textposition\":\"auto\",\"x\":[2025,2030,2035,2040,2045,2050,2025,2030,2035,2040,2045],\"xaxis\":\"x\",\"y\":[0.1,0.1,2.0,1.6500000000000001,4.9,4.95,-0.30722000019,-0.33520000221,-0.25839100001,-0.30208200128,-0.28953200099],\"yaxis\":\"y\",\"type\":\"bar\",\"width\":3},{\"alignmentgroup\":\"True\",\"hovertemplate\":\"Technology=Coal\\u003cbr\\u003eYear=%{x}\\u003cbr\\u003eGW=%{y}\\u003cextra\\u003e\\u003c\\u002fextra\\u003e\",\"legendgroup\":\"Coal\",\"marker\":{\"color\":\"#75736d\",\"pattern\":{\"shape\":\"\"}},\"name\":\"Coal\",\"offsetgroup\":\"Coal\",\"orientation\":\"v\",\"showlegend\":true,\"textposition\":\"auto\",\"x\":[2030,2035,2040,2045,2050,2025,2030,2035],\"xaxis\":\"x\",\"y\":[0.65,1.9500000000000002,1.9500000000000002,1.3,0.65,-21.899493002,-1.577,-1.545],\"yaxis\":\"y\",\"type\":\"bar\",\"width\":3},{\"alignmentgroup\":\"True\",\"hovertemplate\":\"Technology=Natural Gas\\u003cbr\\u003eYear=%{x}\\u003cbr\\u003eGW=%{y}\\u003cextra\\u003e\\u003c\\u002fextra\\u003e\",\"legendgroup\":\"Natural Gas\",\"marker\":{\"color\":\"#bdb59d\",\"pattern\":{\"shape\":\"\"}},\"name\":\"Natural Gas\",\"offsetgroup\":\"Natural Gas\",\"orientation\":\"v\",\"showlegend\":true,\"textposition\":\"auto\",\"x\":[2025,2030,2035,2040,2045,2050,2025,2030,2035],\"xaxis\":\"x\",\"y\":[0.646,1.9380000000000002,1.9380000000000002,3.23,1.9380000000000002,1.292,-31.30097394075,-12.72422296781,-42.6251230258],\"yaxis\":\"y\",\"type\":\"bar\",\"width\":3},{\"alignmentgroup\":\"True\",\"hovertemplate\":\"Technology=Offshore Wind\\u003cbr\\u003eYear=%{x}\\u003cbr\\u003eGW=%{y}\\u003cextra\\u003e\\u003c\\u002fextra\\u003e\",\"legendgroup\":\"Offshore Wind\",\"marker\":{\"color\":\"#2B7F9E\",\"pattern\":{\"shape\":\"\"}},\"name\":\"Offshore Wind\",\"offsetgroup\":\"Offshore Wind\",\"orientation\":\"v\",\"showlegend\":true,\"textposition\":\"auto\",\"x\":[2030,2035,2040,2045,2050],\"xaxis\":\"x\",\"y\":[0.945,1.755,1.2,2.142,3.7439999999999998],\"yaxis\":\"y\",\"type\":\"bar\",\"width\":3},{\"alignmentgroup\":\"True\",\"hovertemplate\":\"Technology=Solar CSP\\u003cbr\\u003eYear=%{x}\\u003cbr\\u003eGW=%{y}\\u003cextra\\u003e\\u003c\\u002fextra\\u003e\",\"legendgroup\":\"Solar CSP\",\"marker\":{\"color\":\"#f1781b\",\"pattern\":{\"shape\":\"\"}},\"name\":\"Solar CSP\",\"offsetgroup\":\"Solar CSP\",\"orientation\":\"v\",\"showlegend\":true,\"textposition\":\"auto\",\"x\":[2025,2030,2035,2040,2045,2050,2045],\"xaxis\":\"x\",\"y\":[5.8500000000000005,5.2,13.350000000000001,1.4000000000000001,4.2,15.350000000000001,-1.720099999],\"yaxis\":\"y\",\"type\":\"bar\",\"width\":3},{\"alignmentgroup\":\"True\",\"hovertemplate\":\"Technology=Solar PV\\u003cbr\\u003eYear=%{x}\\u003cbr\\u003eGW=%{y}\\u003cextra\\u003e\\u003c\\u002fextra\\u003e\",\"legendgroup\":\"Solar PV\",\"marker\":{\"color\":\"#F7B615\",\"pattern\":{\"shape\":\"\"}},\"name\":\"Solar PV\",\"offsetgroup\":\"Solar PV\",\"orientation\":\"v\",\"showlegend\":true,\"textposition\":\"auto\",\"x\":[2025,2030,2035,2040,2045,2050,2045],\"xaxis\":\"x\",\"y\":[61.86,38.1,79.25999999999999,6.39,25.5,54.9,-14.03388666],\"yaxis\":\"y\",\"type\":\"bar\",\"width\":3},{\"alignmentgroup\":\"True\",\"hovertemplate\":\"Technology=Wind\\u003cbr\\u003eYear=%{x}\\u003cbr\\u003eGW=%{y}\\u003cextra\\u003e\\u003c\\u002fextra\\u003e\",\"legendgroup\":\"Wind\",\"marker\":{\"color\":\"#95C060\",\"pattern\":{\"shape\":\"\"}},\"name\":\"Wind\",\"offsetgroup\":\"Wind\",\"orientation\":\"v\",\"showlegend\":true,\"textposition\":\"auto\",\"x\":[2025,2030,2035,2040,2045,2050,2045],\"xaxis\":\"x\",\"y\":[62.448,31.32,40.4745,3.5475000000000003,23.499000000000002,58.086000000000006,-23.0648899744],\"yaxis\":\"y\",\"type\":\"bar\",\"width\":3},{\"alignmentgroup\":\"True\",\"hovertemplate\":\"Technology=Oil\\u003cbr\\u003eYear=%{x}\\u003cbr\\u003eGW=%{y}\\u003cextra\\u003e\\u003c\\u002fextra\\u003e\",\"legendgroup\":\"Oil\",\"marker\":{\"color\":\"#BB3B1C\",\"pattern\":{\"shape\":\"\"}},\"name\":\"Oil\",\"offsetgroup\":\"Oil\",\"orientation\":\"v\",\"showlegend\":true,\"textposition\":\"auto\",\"x\":[2025,2030,2035],\"xaxis\":\"x\",\"y\":[-0.198,-0.144400002,-0.3292000022],\"yaxis\":\"y\",\"type\":\"bar\",\"width\":3}],                        {\"template\":{\"data\":{\"histogram2dcontour\":[{\"type\":\"histogram2dcontour\",\"colorbar\":{\"outlinewidth\":0,\"ticks\":\"\"},\"colorscale\":[[0.0,\"#0d0887\"],[0.1111111111111111,\"#46039f\"],[0.2222222222222222,\"#7201a8\"],[0.3333333333333333,\"#9c179e\"],[0.4444444444444444,\"#bd3786\"],[0.5555555555555556,\"#d8576b\"],[0.6666666666666666,\"#ed7953\"],[0.7777777777777778,\"#fb9f3a\"],[0.8888888888888888,\"#fdca26\"],[1.0,\"#f0f921\"]]}],\"choropleth\":[{\"type\":\"choropleth\",\"colorbar\":{\"outlinewidth\":0,\"ticks\":\"\"}}],\"histogram2d\":[{\"type\":\"histogram2d\",\"colorbar\":{\"outlinewidth\":0,\"ticks\":\"\"},\"colorscale\":[[0.0,\"#0d0887\"],[0.1111111111111111,\"#46039f\"],[0.2222222222222222,\"#7201a8\"],[0.3333333333333333,\"#9c179e\"],[0.4444444444444444,\"#bd3786\"],[0.5555555555555556,\"#d8576b\"],[0.6666666666666666,\"#ed7953\"],[0.7777777777777778,\"#fb9f3a\"],[0.8888888888888888,\"#fdca26\"],[1.0,\"#f0f921\"]]}],\"heatmap\":[{\"type\":\"heatmap\",\"colorbar\":{\"outlinewidth\":0,\"ticks\":\"\"},\"colorscale\":[[0.0,\"#0d0887\"],[0.1111111111111111,\"#46039f\"],[0.2222222222222222,\"#7201a8\"],[0.3333333333333333,\"#9c179e\"],[0.4444444444444444,\"#bd3786\"],[0.5555555555555556,\"#d8576b\"],[0.6666666666666666,\"#ed7953\"],[0.7777777777777778,\"#fb9f3a\"],[0.8888888888888888,\"#fdca26\"],[1.0,\"#f0f921\"]]}],\"heatmapgl\":[{\"type\":\"heatmapgl\",\"colorbar\":{\"outlinewidth\":0,\"ticks\":\"\"},\"colorscale\":[[0.0,\"#0d0887\"],[0.1111111111111111,\"#46039f\"],[0.2222222222222222,\"#7201a8\"],[0.3333333333333333,\"#9c179e\"],[0.4444444444444444,\"#bd3786\"],[0.5555555555555556,\"#d8576b\"],[0.6666666666666666,\"#ed7953\"],[0.7777777777777778,\"#fb9f3a\"],[0.8888888888888888,\"#fdca26\"],[1.0,\"#f0f921\"]]}],\"contourcarpet\":[{\"type\":\"contourcarpet\",\"colorbar\":{\"outlinewidth\":0,\"ticks\":\"\"}}],\"contour\":[{\"type\":\"contour\",\"colorbar\":{\"outlinewidth\":0,\"ticks\":\"\"},\"colorscale\":[[0.0,\"#0d0887\"],[0.1111111111111111,\"#46039f\"],[0.2222222222222222,\"#7201a8\"],[0.3333333333333333,\"#9c179e\"],[0.4444444444444444,\"#bd3786\"],[0.5555555555555556,\"#d8576b\"],[0.6666666666666666,\"#ed7953\"],[0.7777777777777778,\"#fb9f3a\"],[0.8888888888888888,\"#fdca26\"],[1.0,\"#f0f921\"]]}],\"surface\":[{\"type\":\"surface\",\"colorbar\":{\"outlinewidth\":0,\"ticks\":\"\"},\"colorscale\":[[0.0,\"#0d0887\"],[0.1111111111111111,\"#46039f\"],[0.2222222222222222,\"#7201a8\"],[0.3333333333333333,\"#9c179e\"],[0.4444444444444444,\"#bd3786\"],[0.5555555555555556,\"#d8576b\"],[0.6666666666666666,\"#ed7953\"],[0.7777777777777778,\"#fb9f3a\"],[0.8888888888888888,\"#fdca26\"],[1.0,\"#f0f921\"]]}],\"mesh3d\":[{\"type\":\"mesh3d\",\"colorbar\":{\"outlinewidth\":0,\"ticks\":\"\"}}],\"scatter\":[{\"fillpattern\":{\"fillmode\":\"overlay\",\"size\":10,\"solidity\":0.2},\"type\":\"scatter\"}],\"parcoords\":[{\"type\":\"parcoords\",\"line\":{\"colorbar\":{\"outlinewidth\":0,\"ticks\":\"\"}}}],\"scatterpolargl\":[{\"type\":\"scatterpolargl\",\"marker\":{\"colorbar\":{\"outlinewidth\":0,\"ticks\":\"\"}}}],\"bar\":[{\"error_x\":{\"color\":\"#2a3f5f\"},\"error_y\":{\"color\":\"#2a3f5f\"},\"marker\":{\"line\":{\"color\":\"#E5ECF6\",\"width\":0.5},\"pattern\":{\"fillmode\":\"overlay\",\"size\":10,\"solidity\":0.2}},\"type\":\"bar\"}],\"scattergeo\":[{\"type\":\"scattergeo\",\"marker\":{\"colorbar\":{\"outlinewidth\":0,\"ticks\":\"\"}}}],\"scatterpolar\":[{\"type\":\"scatterpolar\",\"marker\":{\"colorbar\":{\"outlinewidth\":0,\"ticks\":\"\"}}}],\"histogram\":[{\"marker\":{\"pattern\":{\"fillmode\":\"overlay\",\"size\":10,\"solidity\":0.2}},\"type\":\"histogram\"}],\"scattergl\":[{\"type\":\"scattergl\",\"marker\":{\"colorbar\":{\"outlinewidth\":0,\"ticks\":\"\"}}}],\"scatter3d\":[{\"type\":\"scatter3d\",\"line\":{\"colorbar\":{\"outlinewidth\":0,\"ticks\":\"\"}},\"marker\":{\"colorbar\":{\"outlinewidth\":0,\"ticks\":\"\"}}}],\"scattermapbox\":[{\"type\":\"scattermapbox\",\"marker\":{\"colorbar\":{\"outlinewidth\":0,\"ticks\":\"\"}}}],\"scatterternary\":[{\"type\":\"scatterternary\",\"marker\":{\"colorbar\":{\"outlinewidth\":0,\"ticks\":\"\"}}}],\"scattercarpet\":[{\"type\":\"scattercarpet\",\"marker\":{\"colorbar\":{\"outlinewidth\":0,\"ticks\":\"\"}}}],\"carpet\":[{\"aaxis\":{\"endlinecolor\":\"#2a3f5f\",\"gridcolor\":\"white\",\"linecolor\":\"white\",\"minorgridcolor\":\"white\",\"startlinecolor\":\"#2a3f5f\"},\"baxis\":{\"endlinecolor\":\"#2a3f5f\",\"gridcolor\":\"white\",\"linecolor\":\"white\",\"minorgridcolor\":\"white\",\"startlinecolor\":\"#2a3f5f\"},\"type\":\"carpet\"}],\"table\":[{\"cells\":{\"fill\":{\"color\":\"#EBF0F8\"},\"line\":{\"color\":\"white\"}},\"header\":{\"fill\":{\"color\":\"#C8D4E3\"},\"line\":{\"color\":\"white\"}},\"type\":\"table\"}],\"barpolar\":[{\"marker\":{\"line\":{\"color\":\"#E5ECF6\",\"width\":0.5},\"pattern\":{\"fillmode\":\"overlay\",\"size\":10,\"solidity\":0.2}},\"type\":\"barpolar\"}],\"pie\":[{\"automargin\":true,\"type\":\"pie\"}]},\"layout\":{\"autotypenumbers\":\"strict\",\"colorway\":[\"#636efa\",\"#EF553B\",\"#00cc96\",\"#ab63fa\",\"#FFA15A\",\"#19d3f3\",\"#FF6692\",\"#B6E880\",\"#FF97FF\",\"#FECB52\"],\"font\":{\"color\":\"#2a3f5f\"},\"hovermode\":\"closest\",\"hoverlabel\":{\"align\":\"left\"},\"paper_bgcolor\":\"white\",\"plot_bgcolor\":\"#E5ECF6\",\"polar\":{\"bgcolor\":\"#E5ECF6\",\"angularaxis\":{\"gridcolor\":\"white\",\"linecolor\":\"white\",\"ticks\":\"\"},\"radialaxis\":{\"gridcolor\":\"white\",\"linecolor\":\"white\",\"ticks\":\"\"}},\"ternary\":{\"bgcolor\":\"#E5ECF6\",\"aaxis\":{\"gridcolor\":\"white\",\"linecolor\":\"white\",\"ticks\":\"\"},\"baxis\":{\"gridcolor\":\"white\",\"linecolor\":\"white\",\"ticks\":\"\"},\"caxis\":{\"gridcolor\":\"white\",\"linecolor\":\"white\",\"ticks\":\"\"}},\"coloraxis\":{\"colorbar\":{\"outlinewidth\":0,\"ticks\":\"\"}},\"colorscale\":{\"sequential\":[[0.0,\"#0d0887\"],[0.1111111111111111,\"#46039f\"],[0.2222222222222222,\"#7201a8\"],[0.3333333333333333,\"#9c179e\"],[0.4444444444444444,\"#bd3786\"],[0.5555555555555556,\"#d8576b\"],[0.6666666666666666,\"#ed7953\"],[0.7777777777777778,\"#fb9f3a\"],[0.8888888888888888,\"#fdca26\"],[1.0,\"#f0f921\"]],\"sequentialminus\":[[0.0,\"#0d0887\"],[0.1111111111111111,\"#46039f\"],[0.2222222222222222,\"#7201a8\"],[0.3333333333333333,\"#9c179e\"],[0.4444444444444444,\"#bd3786\"],[0.5555555555555556,\"#d8576b\"],[0.6666666666666666,\"#ed7953\"],[0.7777777777777778,\"#fb9f3a\"],[0.8888888888888888,\"#fdca26\"],[1.0,\"#f0f921\"]],\"diverging\":[[0,\"#8e0152\"],[0.1,\"#c51b7d\"],[0.2,\"#de77ae\"],[0.3,\"#f1b6da\"],[0.4,\"#fde0ef\"],[0.5,\"#f7f7f7\"],[0.6,\"#e6f5d0\"],[0.7,\"#b8e186\"],[0.8,\"#7fbc41\"],[0.9,\"#4d9221\"],[1,\"#276419\"]]},\"xaxis\":{\"gridcolor\":\"white\",\"linecolor\":\"white\",\"ticks\":\"\",\"title\":{\"standoff\":15},\"zerolinecolor\":\"white\",\"automargin\":true,\"zerolinewidth\":2},\"yaxis\":{\"gridcolor\":\"white\",\"linecolor\":\"white\",\"ticks\":\"\",\"title\":{\"standoff\":15},\"zerolinecolor\":\"white\",\"automargin\":true,\"zerolinewidth\":2},\"scene\":{\"xaxis\":{\"backgroundcolor\":\"#E5ECF6\",\"gridcolor\":\"white\",\"linecolor\":\"white\",\"showbackground\":true,\"ticks\":\"\",\"zerolinecolor\":\"white\",\"gridwidth\":2},\"yaxis\":{\"backgroundcolor\":\"#E5ECF6\",\"gridcolor\":\"white\",\"linecolor\":\"white\",\"showbackground\":true,\"ticks\":\"\",\"zerolinecolor\":\"white\",\"gridwidth\":2},\"zaxis\":{\"backgroundcolor\":\"#E5ECF6\",\"gridcolor\":\"white\",\"linecolor\":\"white\",\"showbackground\":true,\"ticks\":\"\",\"zerolinecolor\":\"white\",\"gridwidth\":2}},\"shapedefaults\":{\"line\":{\"color\":\"#2a3f5f\"}},\"annotationdefaults\":{\"arrowcolor\":\"#2a3f5f\",\"arrowhead\":0,\"arrowwidth\":1},\"geo\":{\"bgcolor\":\"white\",\"landcolor\":\"#E5ECF6\",\"subunitcolor\":\"white\",\"showland\":true,\"showlakes\":true,\"lakecolor\":\"white\"},\"title\":{\"x\":0.05},\"mapbox\":{\"style\":\"light\"}}},\"xaxis\":{\"anchor\":\"y\",\"domain\":[0.0,1.0],\"title\":{\"text\":\"Year\"},\"tickmode\":\"array\",\"tickvals\":[2025,2030,2035,2040,2045,2050],\"ticktext\":[\"2025\",\"2030\",\"2035\",\"2040\",\"2045\",\"2050\"]},\"yaxis\":{\"anchor\":\"x\",\"domain\":[0.0,1.0],\"title\":{\"text\":\"GW\"},\"range\":[-75,150],\"showgrid\":true,\"gridcolor\":\"#bdbdbd\"},\"legend\":{\"title\":{\"text\":\"Technology\"},\"tracegroupgap\":0},\"title\":{\"text\":\"Clean Grid, New Capacity Additions and Retirements by Year\"},\"barmode\":\"relative\",\"height\":500,\"width\":900,\"uniformtext\":{\"minsize\":18,\"mode\":\"hide\"},\"plot_bgcolor\":\"white\",\"paper_bgcolor\":\"white\",\"shapes\":[{\"line\":{\"color\":\"black\",\"dash\":\"dash\",\"width\":3},\"type\":\"line\",\"x0\":0,\"x1\":1,\"xref\":\"x domain\",\"y0\":0,\"y1\":0,\"yref\":\"y\"}]},                        {\"responsive\": true}                    ).then(function(){\n",
       "                            \n",
       "var gd = document.getElementById('dbe23cc4-d406-4560-8240-a602671b0b21');\n",
       "var x = new MutationObserver(function (mutations, observer) {{\n",
       "        var display = window.getComputedStyle(gd).display;\n",
       "        if (!display || display === 'none') {{\n",
       "            console.log([gd, 'removed!']);\n",
       "            Plotly.purge(gd);\n",
       "            observer.disconnect();\n",
       "        }}\n",
       "}});\n",
       "\n",
       "// Listen for the removal of the full notebook cells\n",
       "var notebookContainer = gd.closest('#notebook-container');\n",
       "if (notebookContainer) {{\n",
       "    x.observe(notebookContainer, {childList: true});\n",
       "}}\n",
       "\n",
       "// Listen for the clearing of the current output cell\n",
       "var outputEl = gd.closest('.output');\n",
       "if (outputEl) {{\n",
       "    x.observe(outputEl, {childList: true});\n",
       "}}\n",
       "\n",
       "                        })                };                });            </script>        </div>"
      ]
     },
     "metadata": {},
     "output_type": "display_data"
    }
   ],
   "source": [
    "plot_infrastructure_bar(df=df, scenario='net_zero_ira_ccs_climate', title='Clean Grid, New Capacity Additions and Retirements by Year', \n",
    "                                 year=year, output_file_name=f'clean_grid_barchart_{year}.png')"
   ]
  },
  {
   "cell_type": "markdown",
   "id": "10b9a4fa-f6ee-4a3c-8110-88041a18230f",
   "metadata": {},
   "source": [
    "#### Business-as-usual"
   ]
  },
  {
   "cell_type": "code",
   "execution_count": 11,
   "id": "a914d471-9575-4872-8ff3-3a2add760aac",
   "metadata": {},
   "outputs": [
    {
     "data": {
      "application/vnd.plotly.v1+json": {
       "config": {
        "plotlyServerURL": "https://plot.ly"
       },
       "data": [
        {
         "alignmentgroup": "True",
         "hovertemplate": "Technology=Biomass<br>Year=%{x}<br>GW=%{y}<extra></extra>",
         "legendgroup": "Biomass",
         "marker": {
          "color": "#713275",
          "pattern": {
           "shape": ""
          }
         },
         "name": "Biomass",
         "offsetgroup": "Biomass",
         "orientation": "v",
         "showlegend": true,
         "textposition": "auto",
         "type": "bar",
         "width": 3,
         "x": [
          2030,
          2035,
          2045,
          2050,
          2025,
          2030,
          2035,
          2040,
          2045,
          2050
         ],
         "xaxis": "x",
         "y": [
          0.15000000000000002,
          0.4,
          0.5,
          0.45,
          -0.25299100080000003,
          -0.21708000139,
          -0.184391001,
          -0.35868199991,
          -0.30819100298,
          -0.19568999842999998
         ],
         "yaxis": "y"
        },
        {
         "alignmentgroup": "True",
         "hovertemplate": "Technology=Coal<br>Year=%{x}<br>GW=%{y}<extra></extra>",
         "legendgroup": "Coal",
         "marker": {
          "color": "#75736d",
          "pattern": {
           "shape": ""
          }
         },
         "name": "Coal",
         "offsetgroup": "Coal",
         "orientation": "v",
         "showlegend": true,
         "textposition": "auto",
         "type": "bar",
         "width": 3,
         "x": [
          2030,
          2035,
          2045,
          2050,
          2025,
          2030,
          2035,
          2040,
          2045,
          2050
         ],
         "xaxis": "x",
         "y": [
          0.65,
          1.3,
          1.3,
          1.3,
          -13.694700000000001,
          -4.42,
          -0.459,
          -2.853690001,
          -1.162103001,
          -0.505
         ],
         "yaxis": "y"
        },
        {
         "alignmentgroup": "True",
         "hovertemplate": "Technology=Natural Gas<br>Year=%{x}<br>GW=%{y}<extra></extra>",
         "legendgroup": "Natural Gas",
         "marker": {
          "color": "#bdb59d",
          "pattern": {
           "shape": ""
          }
         },
         "name": "Natural Gas",
         "offsetgroup": "Natural Gas",
         "orientation": "v",
         "showlegend": true,
         "textposition": "auto",
         "type": "bar",
         "width": 3,
         "x": [
          2025,
          2030,
          2035,
          2045,
          2050,
          2025,
          2030,
          2035,
          2040,
          2045,
          2050
         ],
         "xaxis": "x",
         "y": [
          0.646,
          1.9380000000000002,
          1.292,
          5.492,
          8.481,
          -15.15986397535,
          -27.11487097651,
          -9.7181409967,
          -7.8327980165,
          -7.8723089804,
          -6.5366869949
         ],
         "yaxis": "y"
        },
        {
         "alignmentgroup": "True",
         "hovertemplate": "Technology=Offshore Wind<br>Year=%{x}<br>GW=%{y}<extra></extra>",
         "legendgroup": "Offshore Wind",
         "marker": {
          "color": "#2B7F9E",
          "pattern": {
           "shape": ""
          }
         },
         "name": "Offshore Wind",
         "offsetgroup": "Offshore Wind",
         "orientation": "v",
         "showlegend": true,
         "textposition": "auto",
         "type": "bar",
         "width": 3,
         "x": [
          2030,
          2035,
          2045,
          2050
         ],
         "xaxis": "x",
         "y": [
          0.96,
          0.825,
          1.7999999999999998,
          1.17
         ],
         "yaxis": "y"
        },
        {
         "alignmentgroup": "True",
         "hovertemplate": "Technology=Solar CSP<br>Year=%{x}<br>GW=%{y}<extra></extra>",
         "legendgroup": "Solar CSP",
         "marker": {
          "color": "#f1781b",
          "pattern": {
           "shape": ""
          }
         },
         "name": "Solar CSP",
         "offsetgroup": "Solar CSP",
         "orientation": "v",
         "showlegend": true,
         "textposition": "auto",
         "type": "bar",
         "width": 3,
         "x": [
          2025,
          2030,
          2035,
          2040,
          2045,
          2050,
          2045
         ],
         "xaxis": "x",
         "y": [
          3,
          5.4,
          4.05,
          0.4,
          3.95,
          7.800000000000001,
          -1.720099999
         ],
         "yaxis": "y"
        },
        {
         "alignmentgroup": "True",
         "hovertemplate": "Technology=Solar PV<br>Year=%{x}<br>GW=%{y}<extra></extra>",
         "legendgroup": "Solar PV",
         "marker": {
          "color": "#F7B615",
          "pattern": {
           "shape": ""
          }
         },
         "name": "Solar PV",
         "offsetgroup": "Solar PV",
         "orientation": "v",
         "showlegend": true,
         "textposition": "auto",
         "type": "bar",
         "width": 3,
         "x": [
          2025,
          2030,
          2035,
          2040,
          2045,
          2050,
          2045
         ],
         "xaxis": "x",
         "y": [
          49.769999999999996,
          44.07,
          27.18,
          1.92,
          30.06,
          35.699999999999996,
          -14.03388666
         ],
         "yaxis": "y"
        },
        {
         "alignmentgroup": "True",
         "hovertemplate": "Technology=Wind<br>Year=%{x}<br>GW=%{y}<extra></extra>",
         "legendgroup": "Wind",
         "marker": {
          "color": "#95C060",
          "pattern": {
           "shape": ""
          }
         },
         "name": "Wind",
         "offsetgroup": "Wind",
         "orientation": "v",
         "showlegend": true,
         "textposition": "auto",
         "type": "bar",
         "width": 3,
         "x": [
          2025,
          2030,
          2035,
          2045,
          2050,
          2045
         ],
         "xaxis": "x",
         "y": [
          42.468,
          38.604,
          23.413500000000003,
          22.344,
          28.728,
          -23.0648899744
         ],
         "yaxis": "y"
        },
        {
         "alignmentgroup": "True",
         "hovertemplate": "Technology=Oil<br>Year=%{x}<br>GW=%{y}<extra></extra>",
         "legendgroup": "Oil",
         "marker": {
          "color": "#BB3B1C",
          "pattern": {
           "shape": ""
          }
         },
         "name": "Oil",
         "offsetgroup": "Oil",
         "orientation": "v",
         "showlegend": true,
         "textposition": "auto",
         "type": "bar",
         "width": 3,
         "x": [
          2025,
          2030,
          2035,
          2040,
          2045,
          2050
         ],
         "xaxis": "x",
         "y": [
          -0.062,
          -0.231,
          -0.0428000002,
          -0.085,
          -0.09240000200000001,
          -0.055
         ],
         "yaxis": "y"
        }
       ],
       "layout": {
        "barmode": "relative",
        "height": 500,
        "legend": {
         "title": {
          "text": "Technology"
         },
         "tracegroupgap": 0
        },
        "paper_bgcolor": "white",
        "plot_bgcolor": "white",
        "shapes": [
         {
          "line": {
           "color": "black",
           "dash": "dash",
           "width": 3
          },
          "type": "line",
          "x0": 0,
          "x1": 1,
          "xref": "x domain",
          "y0": 0,
          "y1": 0,
          "yref": "y"
         }
        ],
        "template": {
         "data": {
          "bar": [
           {
            "error_x": {
             "color": "#2a3f5f"
            },
            "error_y": {
             "color": "#2a3f5f"
            },
            "marker": {
             "line": {
              "color": "#E5ECF6",
              "width": 0.5
             },
             "pattern": {
              "fillmode": "overlay",
              "size": 10,
              "solidity": 0.2
             }
            },
            "type": "bar"
           }
          ],
          "barpolar": [
           {
            "marker": {
             "line": {
              "color": "#E5ECF6",
              "width": 0.5
             },
             "pattern": {
              "fillmode": "overlay",
              "size": 10,
              "solidity": 0.2
             }
            },
            "type": "barpolar"
           }
          ],
          "carpet": [
           {
            "aaxis": {
             "endlinecolor": "#2a3f5f",
             "gridcolor": "white",
             "linecolor": "white",
             "minorgridcolor": "white",
             "startlinecolor": "#2a3f5f"
            },
            "baxis": {
             "endlinecolor": "#2a3f5f",
             "gridcolor": "white",
             "linecolor": "white",
             "minorgridcolor": "white",
             "startlinecolor": "#2a3f5f"
            },
            "type": "carpet"
           }
          ],
          "choropleth": [
           {
            "colorbar": {
             "outlinewidth": 0,
             "ticks": ""
            },
            "type": "choropleth"
           }
          ],
          "contour": [
           {
            "colorbar": {
             "outlinewidth": 0,
             "ticks": ""
            },
            "colorscale": [
             [
              0,
              "#0d0887"
             ],
             [
              0.1111111111111111,
              "#46039f"
             ],
             [
              0.2222222222222222,
              "#7201a8"
             ],
             [
              0.3333333333333333,
              "#9c179e"
             ],
             [
              0.4444444444444444,
              "#bd3786"
             ],
             [
              0.5555555555555556,
              "#d8576b"
             ],
             [
              0.6666666666666666,
              "#ed7953"
             ],
             [
              0.7777777777777778,
              "#fb9f3a"
             ],
             [
              0.8888888888888888,
              "#fdca26"
             ],
             [
              1,
              "#f0f921"
             ]
            ],
            "type": "contour"
           }
          ],
          "contourcarpet": [
           {
            "colorbar": {
             "outlinewidth": 0,
             "ticks": ""
            },
            "type": "contourcarpet"
           }
          ],
          "heatmap": [
           {
            "colorbar": {
             "outlinewidth": 0,
             "ticks": ""
            },
            "colorscale": [
             [
              0,
              "#0d0887"
             ],
             [
              0.1111111111111111,
              "#46039f"
             ],
             [
              0.2222222222222222,
              "#7201a8"
             ],
             [
              0.3333333333333333,
              "#9c179e"
             ],
             [
              0.4444444444444444,
              "#bd3786"
             ],
             [
              0.5555555555555556,
              "#d8576b"
             ],
             [
              0.6666666666666666,
              "#ed7953"
             ],
             [
              0.7777777777777778,
              "#fb9f3a"
             ],
             [
              0.8888888888888888,
              "#fdca26"
             ],
             [
              1,
              "#f0f921"
             ]
            ],
            "type": "heatmap"
           }
          ],
          "heatmapgl": [
           {
            "colorbar": {
             "outlinewidth": 0,
             "ticks": ""
            },
            "colorscale": [
             [
              0,
              "#0d0887"
             ],
             [
              0.1111111111111111,
              "#46039f"
             ],
             [
              0.2222222222222222,
              "#7201a8"
             ],
             [
              0.3333333333333333,
              "#9c179e"
             ],
             [
              0.4444444444444444,
              "#bd3786"
             ],
             [
              0.5555555555555556,
              "#d8576b"
             ],
             [
              0.6666666666666666,
              "#ed7953"
             ],
             [
              0.7777777777777778,
              "#fb9f3a"
             ],
             [
              0.8888888888888888,
              "#fdca26"
             ],
             [
              1,
              "#f0f921"
             ]
            ],
            "type": "heatmapgl"
           }
          ],
          "histogram": [
           {
            "marker": {
             "pattern": {
              "fillmode": "overlay",
              "size": 10,
              "solidity": 0.2
             }
            },
            "type": "histogram"
           }
          ],
          "histogram2d": [
           {
            "colorbar": {
             "outlinewidth": 0,
             "ticks": ""
            },
            "colorscale": [
             [
              0,
              "#0d0887"
             ],
             [
              0.1111111111111111,
              "#46039f"
             ],
             [
              0.2222222222222222,
              "#7201a8"
             ],
             [
              0.3333333333333333,
              "#9c179e"
             ],
             [
              0.4444444444444444,
              "#bd3786"
             ],
             [
              0.5555555555555556,
              "#d8576b"
             ],
             [
              0.6666666666666666,
              "#ed7953"
             ],
             [
              0.7777777777777778,
              "#fb9f3a"
             ],
             [
              0.8888888888888888,
              "#fdca26"
             ],
             [
              1,
              "#f0f921"
             ]
            ],
            "type": "histogram2d"
           }
          ],
          "histogram2dcontour": [
           {
            "colorbar": {
             "outlinewidth": 0,
             "ticks": ""
            },
            "colorscale": [
             [
              0,
              "#0d0887"
             ],
             [
              0.1111111111111111,
              "#46039f"
             ],
             [
              0.2222222222222222,
              "#7201a8"
             ],
             [
              0.3333333333333333,
              "#9c179e"
             ],
             [
              0.4444444444444444,
              "#bd3786"
             ],
             [
              0.5555555555555556,
              "#d8576b"
             ],
             [
              0.6666666666666666,
              "#ed7953"
             ],
             [
              0.7777777777777778,
              "#fb9f3a"
             ],
             [
              0.8888888888888888,
              "#fdca26"
             ],
             [
              1,
              "#f0f921"
             ]
            ],
            "type": "histogram2dcontour"
           }
          ],
          "mesh3d": [
           {
            "colorbar": {
             "outlinewidth": 0,
             "ticks": ""
            },
            "type": "mesh3d"
           }
          ],
          "parcoords": [
           {
            "line": {
             "colorbar": {
              "outlinewidth": 0,
              "ticks": ""
             }
            },
            "type": "parcoords"
           }
          ],
          "pie": [
           {
            "automargin": true,
            "type": "pie"
           }
          ],
          "scatter": [
           {
            "fillpattern": {
             "fillmode": "overlay",
             "size": 10,
             "solidity": 0.2
            },
            "type": "scatter"
           }
          ],
          "scatter3d": [
           {
            "line": {
             "colorbar": {
              "outlinewidth": 0,
              "ticks": ""
             }
            },
            "marker": {
             "colorbar": {
              "outlinewidth": 0,
              "ticks": ""
             }
            },
            "type": "scatter3d"
           }
          ],
          "scattercarpet": [
           {
            "marker": {
             "colorbar": {
              "outlinewidth": 0,
              "ticks": ""
             }
            },
            "type": "scattercarpet"
           }
          ],
          "scattergeo": [
           {
            "marker": {
             "colorbar": {
              "outlinewidth": 0,
              "ticks": ""
             }
            },
            "type": "scattergeo"
           }
          ],
          "scattergl": [
           {
            "marker": {
             "colorbar": {
              "outlinewidth": 0,
              "ticks": ""
             }
            },
            "type": "scattergl"
           }
          ],
          "scattermapbox": [
           {
            "marker": {
             "colorbar": {
              "outlinewidth": 0,
              "ticks": ""
             }
            },
            "type": "scattermapbox"
           }
          ],
          "scatterpolar": [
           {
            "marker": {
             "colorbar": {
              "outlinewidth": 0,
              "ticks": ""
             }
            },
            "type": "scatterpolar"
           }
          ],
          "scatterpolargl": [
           {
            "marker": {
             "colorbar": {
              "outlinewidth": 0,
              "ticks": ""
             }
            },
            "type": "scatterpolargl"
           }
          ],
          "scatterternary": [
           {
            "marker": {
             "colorbar": {
              "outlinewidth": 0,
              "ticks": ""
             }
            },
            "type": "scatterternary"
           }
          ],
          "surface": [
           {
            "colorbar": {
             "outlinewidth": 0,
             "ticks": ""
            },
            "colorscale": [
             [
              0,
              "#0d0887"
             ],
             [
              0.1111111111111111,
              "#46039f"
             ],
             [
              0.2222222222222222,
              "#7201a8"
             ],
             [
              0.3333333333333333,
              "#9c179e"
             ],
             [
              0.4444444444444444,
              "#bd3786"
             ],
             [
              0.5555555555555556,
              "#d8576b"
             ],
             [
              0.6666666666666666,
              "#ed7953"
             ],
             [
              0.7777777777777778,
              "#fb9f3a"
             ],
             [
              0.8888888888888888,
              "#fdca26"
             ],
             [
              1,
              "#f0f921"
             ]
            ],
            "type": "surface"
           }
          ],
          "table": [
           {
            "cells": {
             "fill": {
              "color": "#EBF0F8"
             },
             "line": {
              "color": "white"
             }
            },
            "header": {
             "fill": {
              "color": "#C8D4E3"
             },
             "line": {
              "color": "white"
             }
            },
            "type": "table"
           }
          ]
         },
         "layout": {
          "annotationdefaults": {
           "arrowcolor": "#2a3f5f",
           "arrowhead": 0,
           "arrowwidth": 1
          },
          "autotypenumbers": "strict",
          "coloraxis": {
           "colorbar": {
            "outlinewidth": 0,
            "ticks": ""
           }
          },
          "colorscale": {
           "diverging": [
            [
             0,
             "#8e0152"
            ],
            [
             0.1,
             "#c51b7d"
            ],
            [
             0.2,
             "#de77ae"
            ],
            [
             0.3,
             "#f1b6da"
            ],
            [
             0.4,
             "#fde0ef"
            ],
            [
             0.5,
             "#f7f7f7"
            ],
            [
             0.6,
             "#e6f5d0"
            ],
            [
             0.7,
             "#b8e186"
            ],
            [
             0.8,
             "#7fbc41"
            ],
            [
             0.9,
             "#4d9221"
            ],
            [
             1,
             "#276419"
            ]
           ],
           "sequential": [
            [
             0,
             "#0d0887"
            ],
            [
             0.1111111111111111,
             "#46039f"
            ],
            [
             0.2222222222222222,
             "#7201a8"
            ],
            [
             0.3333333333333333,
             "#9c179e"
            ],
            [
             0.4444444444444444,
             "#bd3786"
            ],
            [
             0.5555555555555556,
             "#d8576b"
            ],
            [
             0.6666666666666666,
             "#ed7953"
            ],
            [
             0.7777777777777778,
             "#fb9f3a"
            ],
            [
             0.8888888888888888,
             "#fdca26"
            ],
            [
             1,
             "#f0f921"
            ]
           ],
           "sequentialminus": [
            [
             0,
             "#0d0887"
            ],
            [
             0.1111111111111111,
             "#46039f"
            ],
            [
             0.2222222222222222,
             "#7201a8"
            ],
            [
             0.3333333333333333,
             "#9c179e"
            ],
            [
             0.4444444444444444,
             "#bd3786"
            ],
            [
             0.5555555555555556,
             "#d8576b"
            ],
            [
             0.6666666666666666,
             "#ed7953"
            ],
            [
             0.7777777777777778,
             "#fb9f3a"
            ],
            [
             0.8888888888888888,
             "#fdca26"
            ],
            [
             1,
             "#f0f921"
            ]
           ]
          },
          "colorway": [
           "#636efa",
           "#EF553B",
           "#00cc96",
           "#ab63fa",
           "#FFA15A",
           "#19d3f3",
           "#FF6692",
           "#B6E880",
           "#FF97FF",
           "#FECB52"
          ],
          "font": {
           "color": "#2a3f5f"
          },
          "geo": {
           "bgcolor": "white",
           "lakecolor": "white",
           "landcolor": "#E5ECF6",
           "showlakes": true,
           "showland": true,
           "subunitcolor": "white"
          },
          "hoverlabel": {
           "align": "left"
          },
          "hovermode": "closest",
          "mapbox": {
           "style": "light"
          },
          "paper_bgcolor": "white",
          "plot_bgcolor": "#E5ECF6",
          "polar": {
           "angularaxis": {
            "gridcolor": "white",
            "linecolor": "white",
            "ticks": ""
           },
           "bgcolor": "#E5ECF6",
           "radialaxis": {
            "gridcolor": "white",
            "linecolor": "white",
            "ticks": ""
           }
          },
          "scene": {
           "xaxis": {
            "backgroundcolor": "#E5ECF6",
            "gridcolor": "white",
            "gridwidth": 2,
            "linecolor": "white",
            "showbackground": true,
            "ticks": "",
            "zerolinecolor": "white"
           },
           "yaxis": {
            "backgroundcolor": "#E5ECF6",
            "gridcolor": "white",
            "gridwidth": 2,
            "linecolor": "white",
            "showbackground": true,
            "ticks": "",
            "zerolinecolor": "white"
           },
           "zaxis": {
            "backgroundcolor": "#E5ECF6",
            "gridcolor": "white",
            "gridwidth": 2,
            "linecolor": "white",
            "showbackground": true,
            "ticks": "",
            "zerolinecolor": "white"
           }
          },
          "shapedefaults": {
           "line": {
            "color": "#2a3f5f"
           }
          },
          "ternary": {
           "aaxis": {
            "gridcolor": "white",
            "linecolor": "white",
            "ticks": ""
           },
           "baxis": {
            "gridcolor": "white",
            "linecolor": "white",
            "ticks": ""
           },
           "bgcolor": "#E5ECF6",
           "caxis": {
            "gridcolor": "white",
            "linecolor": "white",
            "ticks": ""
           }
          },
          "title": {
           "x": 0.05
          },
          "xaxis": {
           "automargin": true,
           "gridcolor": "white",
           "linecolor": "white",
           "ticks": "",
           "title": {
            "standoff": 15
           },
           "zerolinecolor": "white",
           "zerolinewidth": 2
          },
          "yaxis": {
           "automargin": true,
           "gridcolor": "white",
           "linecolor": "white",
           "ticks": "",
           "title": {
            "standoff": 15
           },
           "zerolinecolor": "white",
           "zerolinewidth": 2
          }
         }
        },
        "title": {
         "text": "Business-as-usual, New Capacity Additions and Retirements by Year"
        },
        "uniformtext": {
         "minsize": 18,
         "mode": "hide"
        },
        "width": 900,
        "xaxis": {
         "anchor": "y",
         "autorange": true,
         "domain": [
          0,
          1
         ],
         "range": [
          2022.5,
          2052.5
         ],
         "tickmode": "array",
         "ticktext": [
          "2025",
          "2030",
          "2035",
          "2040",
          "2045",
          "2050"
         ],
         "tickvals": [
          2025,
          2030,
          2035,
          2040,
          2045,
          2050
         ],
         "title": {
          "text": "Year"
         },
         "type": "linear"
        },
        "yaxis": {
         "anchor": "x",
         "domain": [
          0,
          1
         ],
         "gridcolor": "#bdbdbd",
         "range": [
          -75,
          150
         ],
         "showgrid": true,
         "title": {
          "text": "GW"
         },
         "type": "linear"
        }
       }
      },
      "text/html": [
       "<div>                            <div id=\"6666bc3f-6c30-4932-87fd-d1135d21c15e\" class=\"plotly-graph-div\" style=\"height:500px; width:900px;\"></div>            <script type=\"text/javascript\">                require([\"plotly\"], function(Plotly) {                    window.PLOTLYENV=window.PLOTLYENV || {};                                    if (document.getElementById(\"6666bc3f-6c30-4932-87fd-d1135d21c15e\")) {                    Plotly.newPlot(                        \"6666bc3f-6c30-4932-87fd-d1135d21c15e\",                        [{\"alignmentgroup\":\"True\",\"hovertemplate\":\"Technology=Biomass\\u003cbr\\u003eYear=%{x}\\u003cbr\\u003eGW=%{y}\\u003cextra\\u003e\\u003c\\u002fextra\\u003e\",\"legendgroup\":\"Biomass\",\"marker\":{\"color\":\"#713275\",\"pattern\":{\"shape\":\"\"}},\"name\":\"Biomass\",\"offsetgroup\":\"Biomass\",\"orientation\":\"v\",\"showlegend\":true,\"textposition\":\"auto\",\"x\":[2030,2035,2045,2050,2025,2030,2035,2040,2045,2050],\"xaxis\":\"x\",\"y\":[0.15000000000000002,0.4,0.5,0.45,-0.25299100080000003,-0.21708000139,-0.184391001,-0.35868199991,-0.30819100298,-0.19568999842999998],\"yaxis\":\"y\",\"type\":\"bar\",\"width\":3},{\"alignmentgroup\":\"True\",\"hovertemplate\":\"Technology=Coal\\u003cbr\\u003eYear=%{x}\\u003cbr\\u003eGW=%{y}\\u003cextra\\u003e\\u003c\\u002fextra\\u003e\",\"legendgroup\":\"Coal\",\"marker\":{\"color\":\"#75736d\",\"pattern\":{\"shape\":\"\"}},\"name\":\"Coal\",\"offsetgroup\":\"Coal\",\"orientation\":\"v\",\"showlegend\":true,\"textposition\":\"auto\",\"x\":[2030,2035,2045,2050,2025,2030,2035,2040,2045,2050],\"xaxis\":\"x\",\"y\":[0.65,1.3,1.3,1.3,-13.694700000000001,-4.42,-0.459,-2.853690001,-1.162103001,-0.505],\"yaxis\":\"y\",\"type\":\"bar\",\"width\":3},{\"alignmentgroup\":\"True\",\"hovertemplate\":\"Technology=Natural Gas\\u003cbr\\u003eYear=%{x}\\u003cbr\\u003eGW=%{y}\\u003cextra\\u003e\\u003c\\u002fextra\\u003e\",\"legendgroup\":\"Natural Gas\",\"marker\":{\"color\":\"#bdb59d\",\"pattern\":{\"shape\":\"\"}},\"name\":\"Natural Gas\",\"offsetgroup\":\"Natural Gas\",\"orientation\":\"v\",\"showlegend\":true,\"textposition\":\"auto\",\"x\":[2025,2030,2035,2045,2050,2025,2030,2035,2040,2045,2050],\"xaxis\":\"x\",\"y\":[0.646,1.9380000000000002,1.292,5.492,8.481,-15.15986397535,-27.11487097651,-9.7181409967,-7.8327980165,-7.8723089804,-6.5366869949],\"yaxis\":\"y\",\"type\":\"bar\",\"width\":3},{\"alignmentgroup\":\"True\",\"hovertemplate\":\"Technology=Offshore Wind\\u003cbr\\u003eYear=%{x}\\u003cbr\\u003eGW=%{y}\\u003cextra\\u003e\\u003c\\u002fextra\\u003e\",\"legendgroup\":\"Offshore Wind\",\"marker\":{\"color\":\"#2B7F9E\",\"pattern\":{\"shape\":\"\"}},\"name\":\"Offshore Wind\",\"offsetgroup\":\"Offshore Wind\",\"orientation\":\"v\",\"showlegend\":true,\"textposition\":\"auto\",\"x\":[2030,2035,2045,2050],\"xaxis\":\"x\",\"y\":[0.96,0.825,1.7999999999999998,1.17],\"yaxis\":\"y\",\"type\":\"bar\",\"width\":3},{\"alignmentgroup\":\"True\",\"hovertemplate\":\"Technology=Solar CSP\\u003cbr\\u003eYear=%{x}\\u003cbr\\u003eGW=%{y}\\u003cextra\\u003e\\u003c\\u002fextra\\u003e\",\"legendgroup\":\"Solar CSP\",\"marker\":{\"color\":\"#f1781b\",\"pattern\":{\"shape\":\"\"}},\"name\":\"Solar CSP\",\"offsetgroup\":\"Solar CSP\",\"orientation\":\"v\",\"showlegend\":true,\"textposition\":\"auto\",\"x\":[2025,2030,2035,2040,2045,2050,2045],\"xaxis\":\"x\",\"y\":[3.0,5.4,4.05,0.4,3.95,7.800000000000001,-1.720099999],\"yaxis\":\"y\",\"type\":\"bar\",\"width\":3},{\"alignmentgroup\":\"True\",\"hovertemplate\":\"Technology=Solar PV\\u003cbr\\u003eYear=%{x}\\u003cbr\\u003eGW=%{y}\\u003cextra\\u003e\\u003c\\u002fextra\\u003e\",\"legendgroup\":\"Solar PV\",\"marker\":{\"color\":\"#F7B615\",\"pattern\":{\"shape\":\"\"}},\"name\":\"Solar PV\",\"offsetgroup\":\"Solar PV\",\"orientation\":\"v\",\"showlegend\":true,\"textposition\":\"auto\",\"x\":[2025,2030,2035,2040,2045,2050,2045],\"xaxis\":\"x\",\"y\":[49.769999999999996,44.07,27.18,1.92,30.06,35.699999999999996,-14.03388666],\"yaxis\":\"y\",\"type\":\"bar\",\"width\":3},{\"alignmentgroup\":\"True\",\"hovertemplate\":\"Technology=Wind\\u003cbr\\u003eYear=%{x}\\u003cbr\\u003eGW=%{y}\\u003cextra\\u003e\\u003c\\u002fextra\\u003e\",\"legendgroup\":\"Wind\",\"marker\":{\"color\":\"#95C060\",\"pattern\":{\"shape\":\"\"}},\"name\":\"Wind\",\"offsetgroup\":\"Wind\",\"orientation\":\"v\",\"showlegend\":true,\"textposition\":\"auto\",\"x\":[2025,2030,2035,2045,2050,2045],\"xaxis\":\"x\",\"y\":[42.468,38.604,23.413500000000003,22.344,28.728,-23.0648899744],\"yaxis\":\"y\",\"type\":\"bar\",\"width\":3},{\"alignmentgroup\":\"True\",\"hovertemplate\":\"Technology=Oil\\u003cbr\\u003eYear=%{x}\\u003cbr\\u003eGW=%{y}\\u003cextra\\u003e\\u003c\\u002fextra\\u003e\",\"legendgroup\":\"Oil\",\"marker\":{\"color\":\"#BB3B1C\",\"pattern\":{\"shape\":\"\"}},\"name\":\"Oil\",\"offsetgroup\":\"Oil\",\"orientation\":\"v\",\"showlegend\":true,\"textposition\":\"auto\",\"x\":[2025,2030,2035,2040,2045,2050],\"xaxis\":\"x\",\"y\":[-0.062,-0.231,-0.0428000002,-0.085,-0.09240000200000001,-0.055],\"yaxis\":\"y\",\"type\":\"bar\",\"width\":3}],                        {\"template\":{\"data\":{\"histogram2dcontour\":[{\"type\":\"histogram2dcontour\",\"colorbar\":{\"outlinewidth\":0,\"ticks\":\"\"},\"colorscale\":[[0.0,\"#0d0887\"],[0.1111111111111111,\"#46039f\"],[0.2222222222222222,\"#7201a8\"],[0.3333333333333333,\"#9c179e\"],[0.4444444444444444,\"#bd3786\"],[0.5555555555555556,\"#d8576b\"],[0.6666666666666666,\"#ed7953\"],[0.7777777777777778,\"#fb9f3a\"],[0.8888888888888888,\"#fdca26\"],[1.0,\"#f0f921\"]]}],\"choropleth\":[{\"type\":\"choropleth\",\"colorbar\":{\"outlinewidth\":0,\"ticks\":\"\"}}],\"histogram2d\":[{\"type\":\"histogram2d\",\"colorbar\":{\"outlinewidth\":0,\"ticks\":\"\"},\"colorscale\":[[0.0,\"#0d0887\"],[0.1111111111111111,\"#46039f\"],[0.2222222222222222,\"#7201a8\"],[0.3333333333333333,\"#9c179e\"],[0.4444444444444444,\"#bd3786\"],[0.5555555555555556,\"#d8576b\"],[0.6666666666666666,\"#ed7953\"],[0.7777777777777778,\"#fb9f3a\"],[0.8888888888888888,\"#fdca26\"],[1.0,\"#f0f921\"]]}],\"heatmap\":[{\"type\":\"heatmap\",\"colorbar\":{\"outlinewidth\":0,\"ticks\":\"\"},\"colorscale\":[[0.0,\"#0d0887\"],[0.1111111111111111,\"#46039f\"],[0.2222222222222222,\"#7201a8\"],[0.3333333333333333,\"#9c179e\"],[0.4444444444444444,\"#bd3786\"],[0.5555555555555556,\"#d8576b\"],[0.6666666666666666,\"#ed7953\"],[0.7777777777777778,\"#fb9f3a\"],[0.8888888888888888,\"#fdca26\"],[1.0,\"#f0f921\"]]}],\"heatmapgl\":[{\"type\":\"heatmapgl\",\"colorbar\":{\"outlinewidth\":0,\"ticks\":\"\"},\"colorscale\":[[0.0,\"#0d0887\"],[0.1111111111111111,\"#46039f\"],[0.2222222222222222,\"#7201a8\"],[0.3333333333333333,\"#9c179e\"],[0.4444444444444444,\"#bd3786\"],[0.5555555555555556,\"#d8576b\"],[0.6666666666666666,\"#ed7953\"],[0.7777777777777778,\"#fb9f3a\"],[0.8888888888888888,\"#fdca26\"],[1.0,\"#f0f921\"]]}],\"contourcarpet\":[{\"type\":\"contourcarpet\",\"colorbar\":{\"outlinewidth\":0,\"ticks\":\"\"}}],\"contour\":[{\"type\":\"contour\",\"colorbar\":{\"outlinewidth\":0,\"ticks\":\"\"},\"colorscale\":[[0.0,\"#0d0887\"],[0.1111111111111111,\"#46039f\"],[0.2222222222222222,\"#7201a8\"],[0.3333333333333333,\"#9c179e\"],[0.4444444444444444,\"#bd3786\"],[0.5555555555555556,\"#d8576b\"],[0.6666666666666666,\"#ed7953\"],[0.7777777777777778,\"#fb9f3a\"],[0.8888888888888888,\"#fdca26\"],[1.0,\"#f0f921\"]]}],\"surface\":[{\"type\":\"surface\",\"colorbar\":{\"outlinewidth\":0,\"ticks\":\"\"},\"colorscale\":[[0.0,\"#0d0887\"],[0.1111111111111111,\"#46039f\"],[0.2222222222222222,\"#7201a8\"],[0.3333333333333333,\"#9c179e\"],[0.4444444444444444,\"#bd3786\"],[0.5555555555555556,\"#d8576b\"],[0.6666666666666666,\"#ed7953\"],[0.7777777777777778,\"#fb9f3a\"],[0.8888888888888888,\"#fdca26\"],[1.0,\"#f0f921\"]]}],\"mesh3d\":[{\"type\":\"mesh3d\",\"colorbar\":{\"outlinewidth\":0,\"ticks\":\"\"}}],\"scatter\":[{\"fillpattern\":{\"fillmode\":\"overlay\",\"size\":10,\"solidity\":0.2},\"type\":\"scatter\"}],\"parcoords\":[{\"type\":\"parcoords\",\"line\":{\"colorbar\":{\"outlinewidth\":0,\"ticks\":\"\"}}}],\"scatterpolargl\":[{\"type\":\"scatterpolargl\",\"marker\":{\"colorbar\":{\"outlinewidth\":0,\"ticks\":\"\"}}}],\"bar\":[{\"error_x\":{\"color\":\"#2a3f5f\"},\"error_y\":{\"color\":\"#2a3f5f\"},\"marker\":{\"line\":{\"color\":\"#E5ECF6\",\"width\":0.5},\"pattern\":{\"fillmode\":\"overlay\",\"size\":10,\"solidity\":0.2}},\"type\":\"bar\"}],\"scattergeo\":[{\"type\":\"scattergeo\",\"marker\":{\"colorbar\":{\"outlinewidth\":0,\"ticks\":\"\"}}}],\"scatterpolar\":[{\"type\":\"scatterpolar\",\"marker\":{\"colorbar\":{\"outlinewidth\":0,\"ticks\":\"\"}}}],\"histogram\":[{\"marker\":{\"pattern\":{\"fillmode\":\"overlay\",\"size\":10,\"solidity\":0.2}},\"type\":\"histogram\"}],\"scattergl\":[{\"type\":\"scattergl\",\"marker\":{\"colorbar\":{\"outlinewidth\":0,\"ticks\":\"\"}}}],\"scatter3d\":[{\"type\":\"scatter3d\",\"line\":{\"colorbar\":{\"outlinewidth\":0,\"ticks\":\"\"}},\"marker\":{\"colorbar\":{\"outlinewidth\":0,\"ticks\":\"\"}}}],\"scattermapbox\":[{\"type\":\"scattermapbox\",\"marker\":{\"colorbar\":{\"outlinewidth\":0,\"ticks\":\"\"}}}],\"scatterternary\":[{\"type\":\"scatterternary\",\"marker\":{\"colorbar\":{\"outlinewidth\":0,\"ticks\":\"\"}}}],\"scattercarpet\":[{\"type\":\"scattercarpet\",\"marker\":{\"colorbar\":{\"outlinewidth\":0,\"ticks\":\"\"}}}],\"carpet\":[{\"aaxis\":{\"endlinecolor\":\"#2a3f5f\",\"gridcolor\":\"white\",\"linecolor\":\"white\",\"minorgridcolor\":\"white\",\"startlinecolor\":\"#2a3f5f\"},\"baxis\":{\"endlinecolor\":\"#2a3f5f\",\"gridcolor\":\"white\",\"linecolor\":\"white\",\"minorgridcolor\":\"white\",\"startlinecolor\":\"#2a3f5f\"},\"type\":\"carpet\"}],\"table\":[{\"cells\":{\"fill\":{\"color\":\"#EBF0F8\"},\"line\":{\"color\":\"white\"}},\"header\":{\"fill\":{\"color\":\"#C8D4E3\"},\"line\":{\"color\":\"white\"}},\"type\":\"table\"}],\"barpolar\":[{\"marker\":{\"line\":{\"color\":\"#E5ECF6\",\"width\":0.5},\"pattern\":{\"fillmode\":\"overlay\",\"size\":10,\"solidity\":0.2}},\"type\":\"barpolar\"}],\"pie\":[{\"automargin\":true,\"type\":\"pie\"}]},\"layout\":{\"autotypenumbers\":\"strict\",\"colorway\":[\"#636efa\",\"#EF553B\",\"#00cc96\",\"#ab63fa\",\"#FFA15A\",\"#19d3f3\",\"#FF6692\",\"#B6E880\",\"#FF97FF\",\"#FECB52\"],\"font\":{\"color\":\"#2a3f5f\"},\"hovermode\":\"closest\",\"hoverlabel\":{\"align\":\"left\"},\"paper_bgcolor\":\"white\",\"plot_bgcolor\":\"#E5ECF6\",\"polar\":{\"bgcolor\":\"#E5ECF6\",\"angularaxis\":{\"gridcolor\":\"white\",\"linecolor\":\"white\",\"ticks\":\"\"},\"radialaxis\":{\"gridcolor\":\"white\",\"linecolor\":\"white\",\"ticks\":\"\"}},\"ternary\":{\"bgcolor\":\"#E5ECF6\",\"aaxis\":{\"gridcolor\":\"white\",\"linecolor\":\"white\",\"ticks\":\"\"},\"baxis\":{\"gridcolor\":\"white\",\"linecolor\":\"white\",\"ticks\":\"\"},\"caxis\":{\"gridcolor\":\"white\",\"linecolor\":\"white\",\"ticks\":\"\"}},\"coloraxis\":{\"colorbar\":{\"outlinewidth\":0,\"ticks\":\"\"}},\"colorscale\":{\"sequential\":[[0.0,\"#0d0887\"],[0.1111111111111111,\"#46039f\"],[0.2222222222222222,\"#7201a8\"],[0.3333333333333333,\"#9c179e\"],[0.4444444444444444,\"#bd3786\"],[0.5555555555555556,\"#d8576b\"],[0.6666666666666666,\"#ed7953\"],[0.7777777777777778,\"#fb9f3a\"],[0.8888888888888888,\"#fdca26\"],[1.0,\"#f0f921\"]],\"sequentialminus\":[[0.0,\"#0d0887\"],[0.1111111111111111,\"#46039f\"],[0.2222222222222222,\"#7201a8\"],[0.3333333333333333,\"#9c179e\"],[0.4444444444444444,\"#bd3786\"],[0.5555555555555556,\"#d8576b\"],[0.6666666666666666,\"#ed7953\"],[0.7777777777777778,\"#fb9f3a\"],[0.8888888888888888,\"#fdca26\"],[1.0,\"#f0f921\"]],\"diverging\":[[0,\"#8e0152\"],[0.1,\"#c51b7d\"],[0.2,\"#de77ae\"],[0.3,\"#f1b6da\"],[0.4,\"#fde0ef\"],[0.5,\"#f7f7f7\"],[0.6,\"#e6f5d0\"],[0.7,\"#b8e186\"],[0.8,\"#7fbc41\"],[0.9,\"#4d9221\"],[1,\"#276419\"]]},\"xaxis\":{\"gridcolor\":\"white\",\"linecolor\":\"white\",\"ticks\":\"\",\"title\":{\"standoff\":15},\"zerolinecolor\":\"white\",\"automargin\":true,\"zerolinewidth\":2},\"yaxis\":{\"gridcolor\":\"white\",\"linecolor\":\"white\",\"ticks\":\"\",\"title\":{\"standoff\":15},\"zerolinecolor\":\"white\",\"automargin\":true,\"zerolinewidth\":2},\"scene\":{\"xaxis\":{\"backgroundcolor\":\"#E5ECF6\",\"gridcolor\":\"white\",\"linecolor\":\"white\",\"showbackground\":true,\"ticks\":\"\",\"zerolinecolor\":\"white\",\"gridwidth\":2},\"yaxis\":{\"backgroundcolor\":\"#E5ECF6\",\"gridcolor\":\"white\",\"linecolor\":\"white\",\"showbackground\":true,\"ticks\":\"\",\"zerolinecolor\":\"white\",\"gridwidth\":2},\"zaxis\":{\"backgroundcolor\":\"#E5ECF6\",\"gridcolor\":\"white\",\"linecolor\":\"white\",\"showbackground\":true,\"ticks\":\"\",\"zerolinecolor\":\"white\",\"gridwidth\":2}},\"shapedefaults\":{\"line\":{\"color\":\"#2a3f5f\"}},\"annotationdefaults\":{\"arrowcolor\":\"#2a3f5f\",\"arrowhead\":0,\"arrowwidth\":1},\"geo\":{\"bgcolor\":\"white\",\"landcolor\":\"#E5ECF6\",\"subunitcolor\":\"white\",\"showland\":true,\"showlakes\":true,\"lakecolor\":\"white\"},\"title\":{\"x\":0.05},\"mapbox\":{\"style\":\"light\"}}},\"xaxis\":{\"anchor\":\"y\",\"domain\":[0.0,1.0],\"title\":{\"text\":\"Year\"},\"tickmode\":\"array\",\"tickvals\":[2025,2030,2035,2040,2045,2050],\"ticktext\":[\"2025\",\"2030\",\"2035\",\"2040\",\"2045\",\"2050\"]},\"yaxis\":{\"anchor\":\"x\",\"domain\":[0.0,1.0],\"title\":{\"text\":\"GW\"},\"range\":[-75,150],\"showgrid\":true,\"gridcolor\":\"#bdbdbd\"},\"legend\":{\"title\":{\"text\":\"Technology\"},\"tracegroupgap\":0},\"title\":{\"text\":\"Business-as-usual, New Capacity Additions and Retirements by Year\"},\"barmode\":\"relative\",\"height\":500,\"width\":900,\"uniformtext\":{\"minsize\":18,\"mode\":\"hide\"},\"plot_bgcolor\":\"white\",\"paper_bgcolor\":\"white\",\"shapes\":[{\"line\":{\"color\":\"black\",\"dash\":\"dash\",\"width\":3},\"type\":\"line\",\"x0\":0,\"x1\":1,\"xref\":\"x domain\",\"y0\":0,\"y1\":0,\"yref\":\"y\"}]},                        {\"responsive\": true}                    ).then(function(){\n",
       "                            \n",
       "var gd = document.getElementById('6666bc3f-6c30-4932-87fd-d1135d21c15e');\n",
       "var x = new MutationObserver(function (mutations, observer) {{\n",
       "        var display = window.getComputedStyle(gd).display;\n",
       "        if (!display || display === 'none') {{\n",
       "            console.log([gd, 'removed!']);\n",
       "            Plotly.purge(gd);\n",
       "            observer.disconnect();\n",
       "        }}\n",
       "}});\n",
       "\n",
       "// Listen for the removal of the full notebook cells\n",
       "var notebookContainer = gd.closest('#notebook-container');\n",
       "if (notebookContainer) {{\n",
       "    x.observe(notebookContainer, {childList: true});\n",
       "}}\n",
       "\n",
       "// Listen for the clearing of the current output cell\n",
       "var outputEl = gd.closest('.output');\n",
       "if (outputEl) {{\n",
       "    x.observe(outputEl, {childList: true});\n",
       "}}\n",
       "\n",
       "                        })                };                });            </script>        </div>"
      ]
     },
     "metadata": {},
     "output_type": "display_data"
    }
   ],
   "source": [
    "plot_infrastructure_bar(df=df, scenario='business_as_usual_ira_ccs_climate', \n",
    "                        title='Business-as-usual, New Capacity Additions and Retirements by Year', \n",
    "                                 year=year, output_file_name=f'bau_barchart_{year}.png')"
   ]
  }
 ],
 "metadata": {
  "kernelspec": {
   "display_name": "Python 3 (ipykernel)",
   "language": "python",
   "name": "python3"
  },
  "language_info": {
   "codemirror_mode": {
    "name": "ipython",
    "version": 3
   },
   "file_extension": ".py",
   "mimetype": "text/x-python",
   "name": "python",
   "nbconvert_exporter": "python",
   "pygments_lexer": "ipython3",
   "version": "3.11.0"
  }
 },
 "nbformat": 4,
 "nbformat_minor": 5
}
